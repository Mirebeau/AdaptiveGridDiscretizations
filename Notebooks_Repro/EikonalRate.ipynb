{
 "cells": [
  {
   "cell_type": "markdown",
   "metadata": {},
   "source": [
    "# Adaptive PDE discretizations on Cartesian grids\n",
    "## Volume : Reproducible research\n",
    "## Part : Convergence rates\n",
    "## Chapter : Eikonal equations"
   ]
  },
  {
   "cell_type": "markdown",
   "metadata": {},
   "source": [
    "In this notebook, we check the convergence rate of the Eikonal equation solver, when schemes of various orders are applied in conjunction with appropriate source factorization.\n",
    "\n",
    "The test cases are taken from the notebook on achieving [high accuracy](../Notebooks_FMM/HighAccuracy.ipynb). Let us acknowledge, however, that in several instances the parameter dictating the strengh of the anisotropy is tuned lower. This is needed to illustrate the third order accuracy, which otherwise would (likely) only be visible at very large resolutions.\n",
    "\n",
    "A more in depth discussion of the accuracy achievable using Eulerian schemes is presented in the notebook [EikonalEulerian_Rate](EikonalEulerian_Rate.ipynb)."
   ]
  },
  {
   "cell_type": "markdown",
   "metadata": {},
   "source": [
    "[**Summary**](Summary.ipynb) of volume Reproducible research, this series of notebooks.\n",
    "\n",
    "[**Main summary**](../Summary.ipynb) of the Adaptive Grid Discretizations \n",
    "\tbook of notebooks, including the other volumes.\n",
    "\n",
    "# Table of contents\n",
    "  * [1. Test configuration](#1.-Test-configuration)\n",
    "  * [2. Isotropic metrics](#2.-Isotropic-metrics)\n",
    "    * [2.1 Eulerian scheme](#2.1-Eulerian-scheme)\n",
    "    * [2.2 Semi-Lagrangian scheme](#2.2-Semi-Lagrangian-scheme)\n",
    "  * [3. Riemannian metrics](#3.-Riemannian-metrics)\n",
    "    * [3.1 Eulerian scheme](#3.1-Eulerian-scheme)\n",
    "    * [3.2 Semi-Lagrangian scheme](#3.2-Semi-Lagrangian-scheme)\n",
    "  * [4. Rander metrics](#4.-Rander-metrics)\n",
    "  * [5. Metrics defined by a Hooke tensor](#5.-Metrics-defined-by-a-Hooke-tensor)\n",
    "\n",
    "\n",
    "\n",
    "**Acknowledgement.** Some of the experiments presented in these notebooks are part of \n",
    "ongoing research with Ludovic Métivier and Da Chen.\n",
    "\n",
    "Copyright Jean-Marie Mirebeau, Centre Borelli, ENS Paris-Saclay, CNRS, University Paris-Saclay"
   ]
  },
  {
   "cell_type": "markdown",
   "metadata": {},
   "source": [
    "## 0. Importing the required libraries"
   ]
  },
  {
   "cell_type": "code",
   "execution_count": 2,
   "metadata": {},
   "outputs": [],
   "source": [
    "import sys; sys.path.insert(0,\"..\") # Allow import of agd from parent directory (useless if conda package installed)\n",
    "#from Miscellaneous import TocTools; print(TocTools.displayTOC('EikonalRate','Repro'))"
   ]
  },
  {
   "cell_type": "code",
   "execution_count": 3,
   "metadata": {},
   "outputs": [],
   "source": [
    "from agd import Metrics\n",
    "from agd import Eikonal\n",
    "from agd import AutomaticDifferentiation as ad\n",
    "from agd.AutomaticDifferentiation.Optimization import norm"
   ]
  },
  {
   "cell_type": "code",
   "execution_count": 4,
   "metadata": {},
   "outputs": [],
   "source": [
    "from agd.ExportedCode.Notebooks_FMM import HighAccuracy"
   ]
  },
  {
   "cell_type": "code",
   "execution_count": 5,
   "metadata": {},
   "outputs": [],
   "source": [
    "import numpy as np\n",
    "from matplotlib import pyplot as plt"
   ]
  },
  {
   "cell_type": "markdown",
   "metadata": {},
   "source": [
    "### 0.1 Additional configuration\n",
    "\n",
    "**Notebook incompatible with the GPU solver.**\n",
    "High accuracy fast marching methods are only implemented for the CPU eikonal solver, and not for the GPU eikonal solver. \n",
    "Indeed, the sequential nature of the fast-marching scheme allows for an easier implementation of high order schemes, in the *recomputation* step right before the value is *freezed*. For the GPU parallel eikonal solver, there is no obvious place to safely insert the high order scheme, and a naive use leads to scheme instability.\n"
   ]
  },
  {
   "cell_type": "code",
   "execution_count": 7,
   "metadata": {
    "tags": [
     "EikonalGPU_config"
    ]
   },
   "outputs": [],
   "source": [
    "#raise ad.DeliberateNotebookError(\"High order schemes are not implemented on the GPU\")"
   ]
  },
  {
   "cell_type": "markdown",
   "metadata": {},
   "source": [
    "**Large instances.** \n",
    "Enable this option to use large problem instances. Computation time may get a little longer."
   ]
  },
  {
   "cell_type": "code",
   "execution_count": 8,
   "metadata": {},
   "outputs": [],
   "source": [
    "large_instances = False"
   ]
  },
  {
   "cell_type": "markdown",
   "metadata": {},
   "source": [
    "## 1. Test configuration"
   ]
  },
  {
   "cell_type": "code",
   "execution_count": 9,
   "metadata": {},
   "outputs": [],
   "source": [
    "max_res = 2000 if large_instances else 500\n",
    "n_res = 16 if large_instances else 12\n",
    "resolutions = np.array([2*int(np.exp(k))+1 for k in np.linspace(1.5,np.log(max_res/2),n_res)])"
   ]
  },
  {
   "cell_type": "code",
   "execution_count": 10,
   "metadata": {},
   "outputs": [
    {
     "name": "stdout",
     "output_type": "stream",
     "text": [
      "Resolutions n x n used in the numerical tests : n = [  9  13  19  27  39  55  81 115 167 241 347 499] .\n"
     ]
    }
   ],
   "source": [
    "print(f\"Resolutions n x n used in the numerical tests : n = {resolutions} .\")"
   ]
  },
  {
   "cell_type": "markdown",
   "metadata": {},
   "source": [
    "We use schemes of various orders, improved by the HAFMM (high accuracy fast marching method) technique of Sethian, and two types of source factorization."
   ]
  },
  {
   "cell_type": "code",
   "execution_count": 11,
   "metadata": {},
   "outputs": [],
   "source": [
    "schemes = [\n",
    "    ({}, \"First order, no factorization\", 1),\n",
    "    ({'factoringRadius':-1}, \"First order, simple factorization\", 1),  \n",
    "    ({'factoringRadius':-1, 'order':2}, \"Second order, simple factorization\", 2),\n",
    "    ({'factoringRadius':-1, 'factoringPointChoice':'Both', 'order':2}, \"Second order, accurate factorization\", 2),\n",
    "    ({'factoringRadius':-1, 'order':3}, \"Third order, simple factorization\", 3),\n",
    "    ({'factoringRadius':-1, 'factoringPointChoice':'Both', 'order':3}, \"Third order, accurate factorization\", 3),\n",
    "]"
   ]
  },
  {
   "cell_type": "markdown",
   "metadata": {},
   "source": [
    "## 2. Isotropic metrics"
   ]
  },
  {
   "cell_type": "markdown",
   "metadata": {},
   "source": [
    "### 2.1 Eulerian scheme\n",
    "\n",
    "We use here the standard Eulerian finite differences discretization (Rouy et al) of the isotropic eikonal equation. \n",
    "Empirical remarks on the convergence order:\n",
    "* **The first order scheme alone does not achieve first order convergence. A source factorization is needed for that purpose.\n",
    "* The second order scheme, combined with the simple source factorization, achieves second order convergence.\n",
    "* The accurate factorization improves the results, by a constant factor. \n",
    "* Third order convergence is not achieved."
   ]
  },
  {
   "cell_type": "code",
   "execution_count": 149,
   "metadata": {},
   "outputs": [],
   "source": [
    "def PoincareTest(n,update=tuple()):\n",
    "    \"\"\"\n",
    "    Checks the accuracy of isotropic fast marching on a Poincare model of the hyperpolic plane.\n",
    "    \"\"\"\n",
    "    # Setup the model\n",
    "    hfmIn = Eikonal.dictIn({\n",
    "        'model':'Isotropic2',\n",
    "        'seed': [0.,1.5],\n",
    "        'exportValues':1.,\n",
    "        'verbosity':0,\n",
    "    })\n",
    "    hfmIn.SetRect(sides=[[-0.5,0.5],[1,2]],dimx=n,sampleBoundary=True)\n",
    "    X = hfmIn.Grid()\n",
    "    hfmIn['metric'] = Metrics.Isotropic(HighAccuracy.PoincareCost(X))\n",
    "    hfmIn.update(update)\n",
    "    \n",
    "    # Run, and compute the exact solution\n",
    "    hfmOut = hfmIn.Run()\n",
    "    approx = hfmOut['values']\n",
    "    exact = HighAccuracy.PoincareDistance(hfmIn['seed'],X)\n",
    "    \n",
    "    # Output\n",
    "    result = [norm(approx-exact,ord=p,averaged=True) for p in (1,2,np.inf)] # L1, L2, LInf errors\n",
    "    result.append(hfmOut['FMCPUTime'])\n",
    "    return result"
   ]
  },
  {
   "cell_type": "code",
   "execution_count": 150,
   "metadata": {},
   "outputs": [
    {
     "name": "stderr",
     "output_type": "stream",
     "text": [
      "../../agd/AutomaticDifferentiation/Base.py:24: RuntimeWarning: divide by zero encountered in power\n",
      "  def pow(x,n):\treturn (x**n,n*x**(n-1))\n",
      "../../agd/AutomaticDifferentiation/Dense.py:95: RuntimeWarning: invalid value encountered in multiply\n",
      "  return self.new(a,_add_dim(b)*self.coef)\n"
     ]
    }
   ],
   "source": [
    "results = np.array([[PoincareTest(n,update=scheme[0]) for n in resolutions] for scheme in schemes])"
   ]
  },
  {
   "cell_type": "code",
   "execution_count": 151,
   "metadata": {},
   "outputs": [],
   "source": [
    "plt.title(\"Poincare model errors, first order, no factorization\")\n",
    "plt.loglog(resolutions,results[0,:,:-1],resolutions,1/resolutions);\n",
    "plt.xlabel('Resolution n'); plt.ylabel('Numerical error')\n",
    "plt.legend((\"L1\",\"L2\",\"LInf\",\"First order\"));"
   ]
  },
  {
   "cell_type": "code",
   "execution_count": 152,
   "metadata": {},
   "outputs": [],
   "source": [
    "plt.figure(figsize=[16,15])\n",
    "for i,(scheme,result) in enumerate(zip(schemes,results)):\n",
    "    plt.subplot(3,2,1+i)\n",
    "    plt.title(\"Poincare model errors, \"+scheme[1])\n",
    "    plt.loglog(resolutions, result[:,:-1], resolutions, 1/resolutions**scheme[2])\n",
    "    plt.xlabel(\"Resolution n\"); plt.ylabel(\"Numerical error\")\n",
    "    plt.legend((\"L1\",\"L2\",\"LInf\",f\"order {scheme[2]}\"))"
   ]
  },
  {
   "cell_type": "code",
   "execution_count": 160,
   "metadata": {},
   "outputs": [],
   "source": [
    "plt.title(\"Comparison of L2 errors\")\n",
    "plt.loglog(resolutions, results[:,:,1].T); #, resolutions, np.stack([1/resolutions**s for s in [1,2,3]], axis=-1))\n",
    "plt.legend([s[1] for s in schemes]);"
   ]
  },
  {
   "cell_type": "markdown",
   "metadata": {},
   "source": [
    "### 2.2 Semi-Lagrangian scheme\n",
    "\n",
    "We use a semi-Lagrangian scheme, designed for Rander metrics - a generalization of Riemannian metrics - but which is also able to deal with isotropic metrics as a special case. Remarks on accuracy : \n",
    "* The semi-Lagrangian scheme is not much more accurate than the usual Eulerian scheme, when using first and second order finite differences.\n",
    "* The semi-Lagrangian scheme is able to reach third order accuracy, with the adequate source factorization and third order finite differences, in contrast with the Eulerian scheme.\n",
    "* The simple source factorization is insufficient to reach third order accuracy."
   ]
  },
  {
   "cell_type": "code",
   "execution_count": 162,
   "metadata": {},
   "outputs": [
    {
     "name": "stderr",
     "output_type": "stream",
     "text": [
      "../../agd/AutomaticDifferentiation/Base.py:24: RuntimeWarning: divide by zero encountered in power\n",
      "  def pow(x,n):\treturn (x**n,n*x**(n-1))\n",
      "../../agd/AutomaticDifferentiation/Dense.py:95: RuntimeWarning: invalid value encountered in multiply\n",
      "  return self.new(a,_add_dim(b)*self.coef)\n"
     ]
    }
   ],
   "source": [
    "results = np.array([[PoincareTest(n,update={'model':'Rander2',**scheme[0]}) \n",
    "                     for n in resolutions] for scheme in schemes])"
   ]
  },
  {
   "cell_type": "code",
   "execution_count": 163,
   "metadata": {},
   "outputs": [],
   "source": [
    "plt.figure(figsize=[16,15])\n",
    "for i,(scheme,result) in enumerate(zip(schemes,results)):\n",
    "    plt.subplot(3,2,1+i)\n",
    "    plt.title(\"Poincare model errors, \"+scheme[1])\n",
    "    plt.loglog(resolutions, result[:,:-1], resolutions, 1/resolutions**scheme[2])\n",
    "    plt.xlabel(\"Resolution n\"); plt.ylabel(\"Numerical error\")\n",
    "    plt.legend((\"L1\",\"L2\",\"LInf\",f\"order {scheme[2]}\"))"
   ]
  },
  {
   "cell_type": "code",
   "execution_count": 164,
   "metadata": {},
   "outputs": [],
   "source": [
    "plt.title(\"Comparison of L2 errors\")\n",
    "plt.loglog(resolutions, results[:,:,1].T); #, resolutions, np.stack([1/resolutions**s for s in [1,2,3]], axis=-1))\n",
    "plt.legend([s[1] for s in schemes]);"
   ]
  },
  {
   "cell_type": "markdown",
   "metadata": {},
   "source": [
    "## 3. Riemannian metrics\n",
    "\n",
    "We again another example from the notebook HighAccuracy, where a Riemannian metric is obtained by applying a change of variables to a constant metric."
   ]
  },
  {
   "cell_type": "markdown",
   "metadata": {},
   "source": [
    "### 3.1 Eulerian scheme\n",
    "\n",
    "Empirical remarks on the observed convergence rates:\n",
    "* Quite strangely, the convergence rate seems to be close to 1 even without source factorization - expectation is $O(\\log(n)/n)$. This could be due to the fact that the problem is much harder - the metric is strongly anisotropic, and has strong variations over the domain - hence the inaccuracy due to the source plays a more minor role.\n",
    "* Third order accuracy is not achieved with an Eulerian scheme, similarly to isotropic metrics. This is expected."
   ]
  },
  {
   "cell_type": "code",
   "execution_count": 12,
   "metadata": {},
   "outputs": [],
   "source": [
    "def RiemannTest(n,update=tuple()):\n",
    "    \"\"\"\n",
    "    Checks the accuracy of isotropic fast marching on a Poincare model of the hyperpolic plane.\n",
    "    \"\"\"\n",
    "    # Setup the model\n",
    "    hfmIn = Eikonal.dictIn({\n",
    "        'model':'Riemann2',\n",
    "        'seed': [0.,0.],\n",
    "        'exportValues':1.,\n",
    "        'verbosity':0,\n",
    "    })\n",
    "    hfmIn.SetRect(sides=[[-1,1],[-0.5,0.5]],dimx=n)\n",
    "    X = hfmIn.Grid()\n",
    "    \n",
    "    from agd.ExportedCode.Notebooks_FMM.HighAccuracy import RiemannMetric, RiemannExact, diagCoef\n",
    "    def diff(x,y): return HighAccuracy.diff(x,y,0.3) # Slightly less distortion than original (α=0.5)\n",
    "    hfmIn['metric'] = RiemannMetric(diagCoef,diff,*X)\n",
    "    hfmIn.update(update)\n",
    "    \n",
    "    # Run, and compute the exact solution\n",
    "    hfmOut = hfmIn.Run()\n",
    "    approx = hfmOut['values']\n",
    "    exact = RiemannExact(diagCoef,diff,*X)\n",
    "    shadow = np.abs(X[0]-X[1])>=0.5\n",
    "#    plt.contourf(*X,approx); plt.axis('equal')\n",
    "    \n",
    "    # Output\n",
    "    result = [norm(np.where(shadow,0,approx-exact),ord=p,averaged=True) for p in (1,2,np.inf)] # L1, L2, LInf errors\n",
    "    result.append(hfmOut['FMCPUTime'])\n",
    "    return result"
   ]
  },
  {
   "cell_type": "code",
   "execution_count": 13,
   "metadata": {},
   "outputs": [
    {
     "data": {
      "text/plain": [
       "[0.027233826693198016, 0.04929450089069798, 0.12050846910010948, 0.000184]"
      ]
     },
     "execution_count": 13,
     "metadata": {},
     "output_type": "execute_result"
    }
   ],
   "source": [
    "RiemannTest(11,update={'factoringRadius':-1})"
   ]
  },
  {
   "cell_type": "code",
   "execution_count": 14,
   "metadata": {},
   "outputs": [],
   "source": [
    "result = np.array([RiemannTest(n,update=schemes[0][0]) for n in resolutions])\n",
    "plt.loglog(resolutions, result[:,:-1],resolutions,1/resolutions);"
   ]
  },
  {
   "cell_type": "code",
   "execution_count": 149,
   "metadata": {},
   "outputs": [],
   "source": [
    "results = np.array([[RiemannTest(n,update=scheme[0]) for n in resolutions] for scheme in schemes])"
   ]
  },
  {
   "cell_type": "code",
   "execution_count": 150,
   "metadata": {},
   "outputs": [],
   "source": [
    "plt.figure(figsize=[16,15])\n",
    "for i,(scheme,result) in enumerate(zip(schemes,results)):\n",
    "    plt.subplot(3,2,1+i)\n",
    "    plt.title(\"Riemann eulerian model errors, \"+scheme[1])\n",
    "    plt.loglog(resolutions, result[:,:-1], resolutions, 1/resolutions**scheme[2])\n",
    "    plt.xlabel(\"Resolution n\"); plt.ylabel(\"Numerical error\")\n",
    "    plt.legend((\"L1\",\"L2\",\"LInf\",f\"order {scheme[2]}\"))"
   ]
  },
  {
   "cell_type": "code",
   "execution_count": 151,
   "metadata": {},
   "outputs": [],
   "source": [
    "plt.title(\"Comparison of L2 errors\")\n",
    "plt.loglog(resolutions, results[:,:,1].T); #, resolutions, np.stack([1/resolutions**s for s in [1,2,3]], axis=-1))\n",
    "plt.legend([s[1] for s in schemes]);"
   ]
  },
  {
   "cell_type": "markdown",
   "metadata": {},
   "source": [
    "### 3.2 Semi-Lagrangian scheme\n",
    "\n",
    "We the numerical results call for the following remarks.\n",
    "* The *accurate* source factorization does not bring any improvements in this test case.\n",
    "* The semi-Lagrangian scheme does achieve third order accuracy, contrary to the Eulerian scheme, with both types of source factorization. \n",
    "* The semi-Lagrangian scheme is less accurate than the Eulerian scheme at low resolutions with the high order schemes.  This is due, presumably, to the use of wider stencils in the PDE discretization, which are made even wider by the use of high order finite differences."
   ]
  },
  {
   "cell_type": "code",
   "execution_count": 15,
   "metadata": {},
   "outputs": [],
   "source": [
    "results = np.array([[RiemannTest(n,update={'model':'Rander2',**scheme[0]}) \n",
    "                     for n in resolutions] for scheme in schemes])"
   ]
  },
  {
   "cell_type": "code",
   "execution_count": 153,
   "metadata": {},
   "outputs": [],
   "source": [
    "plt.figure(figsize=[16,15])\n",
    "for i,(scheme,result) in enumerate(zip(schemes,results)):\n",
    "    plt.subplot(3,2,1+i)\n",
    "    plt.title(\"Riemann semi-Lagrangian model errors, \"+scheme[1])\n",
    "    plt.loglog(resolutions, result[:,:-1], resolutions, 1/resolutions**scheme[2])\n",
    "    plt.xlabel(\"Resolution n\"); plt.ylabel(\"Numerical error\")\n",
    "    plt.legend((\"L1\",\"L2\",\"LInf\",f\"order {scheme[2]}\"))"
   ]
  },
  {
   "cell_type": "code",
   "execution_count": 16,
   "metadata": {},
   "outputs": [],
   "source": [
    "plt.title(\"Comparison of L2 errors\")\n",
    "plt.loglog(resolutions, results[:,:,1].T); #, resolutions, np.stack([1/resolutions**s for s in [1,2,3]], axis=-1))\n",
    "plt.legend([s[1] for s in schemes]);"
   ]
  },
  {
   "cell_type": "markdown",
   "metadata": {},
   "source": [
    "## 4. Rander metrics\n",
    "\n",
    "This example involves Rander metrics, a generalisation of Riemannian metrics. The only available scheme in the CPU based HFM library is semi-Lagrangian. Note that the GPU eikonal solver uses a different scheme, which is Eulerian, but not causal (an iterative solver is needed)."
   ]
  },
  {
   "cell_type": "code",
   "execution_count": 47,
   "metadata": {},
   "outputs": [],
   "source": [
    "def RanderTest(n,update=tuple()):\n",
    "    \"\"\"\n",
    "    Checks the accuracy of isotropic fast marching on a Poincare model of the hyperpolic plane.\n",
    "    \"\"\"\n",
    "    # Setup the model\n",
    "    hfmIn = Eikonal.dictIn({\n",
    "        'model':'Rander2',\n",
    "        'seed': [0.,0.],\n",
    "        'exportValues':1.,\n",
    "        'verbosity':0,\n",
    "    })\n",
    "    hfmIn.SetRect(sides=[[-2,2],[-2,2]],dimx=n)\n",
    "    X = hfmIn.Grid()\n",
    "    γ=0.4 # Use less pronounced anisotropy, otherwise high order schemes require very large resolution \n",
    "    hfmIn['metric'] = HighAccuracy.RanderMetric(*X,γ)\n",
    "    hfmIn.update(update)\n",
    "    \n",
    "    # Run, and compute the exact solution\n",
    "    hfmOut = hfmIn.Run()\n",
    "    approx = hfmOut['values']\n",
    "    exact = HighAccuracy.RanderSolution(*X,γ)\n",
    "    shadow = norm(X,ord=np.inf,axis=0)>=1.8\n",
    "#    plt.contourf(*X,approx); plt.axis('equal')\n",
    "    \n",
    "    # Output\n",
    "    result = [norm(np.where(shadow,0,approx-exact),ord=p,averaged=True) for p in (1,2,np.inf)] # L1, L2, LInf errors\n",
    "    result.append(hfmOut['FMCPUTime'])\n",
    "    return result"
   ]
  },
  {
   "cell_type": "code",
   "execution_count": 42,
   "metadata": {},
   "outputs": [
    {
     "data": {
      "text/plain": [
       "[0.041901844691119815, 0.07386614420863771, 0.22650750846633017, 0.000153]"
      ]
     },
     "execution_count": 42,
     "metadata": {},
     "output_type": "execute_result"
    }
   ],
   "source": [
    "RanderTest(11)"
   ]
  },
  {
   "cell_type": "code",
   "execution_count": 43,
   "metadata": {},
   "outputs": [],
   "source": [
    "result = np.array([RanderTest(n,update=schemes[0][0]) for n in resolutions])\n",
    "plt.loglog(resolutions, result[:,:-1],resolutions,1/resolutions);"
   ]
  },
  {
   "cell_type": "code",
   "execution_count": 48,
   "metadata": {},
   "outputs": [],
   "source": [
    "results = np.array([[RanderTest(n,update=scheme[0]) for n in resolutions] for scheme in schemes])"
   ]
  },
  {
   "cell_type": "code",
   "execution_count": 49,
   "metadata": {},
   "outputs": [],
   "source": [
    "plt.figure(figsize=[16,15])\n",
    "for i,(scheme,result) in enumerate(zip(schemes,results)):\n",
    "    plt.subplot(3,2,1+i)\n",
    "    plt.title(\"Rander semi-Lagrangian model errors, \"+scheme[1])\n",
    "    plt.loglog(resolutions, result[:,:-1], resolutions, 1/resolutions**scheme[2])\n",
    "    plt.xlabel(\"Resolution n\"); plt.ylabel(\"Numerical error\")\n",
    "    plt.legend((\"L1\",\"L2\",\"LInf\",f\"order {scheme[2]}\"))"
   ]
  },
  {
   "cell_type": "code",
   "execution_count": 50,
   "metadata": {},
   "outputs": [],
   "source": [
    "plt.title(\"Comparison of L2 errors\")\n",
    "plt.loglog(resolutions, results[:,:,1].T)\n",
    "plt.legend([s[1] for s in schemes]);"
   ]
  },
  {
   "cell_type": "markdown",
   "metadata": {},
   "source": [
    "## 5. Metrics defined by a Hooke tensor\n",
    "\n",
    "This test case is rather easy in the sense that the data is smooth and varies little over the domain, similarly to the isotropic test case presented above. The empirical results are consistent with the expectations: \n",
    "* Third order is achieved, with third order finite differences, but only with the accurate source factorization.\n",
    "* Second order is achieved, with second order finite differences, and the accurate source factorization helps improve the results by a constant factor. "
   ]
  },
  {
   "cell_type": "code",
   "execution_count": 63,
   "metadata": {},
   "outputs": [],
   "source": [
    "def HookeTest(n,update=tuple()):\n",
    "    \"\"\"\n",
    "    Checks the accuracy of isotropic fast marching on a Poincare model of the hyperpolic plane.\n",
    "    \"\"\"\n",
    "    # Setup the model\n",
    "    hfmIn = Eikonal.dictIn({\n",
    "        'model':'Seismic2',\n",
    "        'seed': [2.,0.],\n",
    "        'exportValues':1.,\n",
    "        'verbosity':0,\n",
    "    })\n",
    "    hfmIn.SetRect([[1,3],[-1,1]],dimx=n)\n",
    "    X = hfmIn.Grid()\n",
    "    hooke = Metrics.Seismic.Hooke.mica[0].extract_xz().rotate_by(0.5)\n",
    "    hfmIn['metric'] = HighAccuracy.ConformalApply(hooke, HighAccuracy.ConformalMap, X)\n",
    "    hfmIn.update(update)\n",
    "    \n",
    "    # Run, and compute the exact solution\n",
    "    hfmOut = hfmIn.Run()\n",
    "    approx = hfmOut['values']\n",
    "    exact = HighAccuracy.MappedNormValues(hooke,HighAccuracy.ConformalMap,X,hfmIn['seed'])\n",
    "    shadow = False #norm(X,ord=np.inf,axis=0)>=1.8\n",
    "#    plt.contourf(*X,approx); plt.axis('equal')\n",
    "    \n",
    "    # Output\n",
    "    result = [norm(np.where(shadow,0,approx-exact),ord=p,averaged=True) for p in (1,2,np.inf)] # L1, L2, LInf errors\n",
    "    result.append(hfmOut['FMCPUTime'])\n",
    "    return result"
   ]
  },
  {
   "cell_type": "code",
   "execution_count": 64,
   "metadata": {},
   "outputs": [
    {
     "data": {
      "text/plain": [
       "[0.008180538198285932, 0.0098717643679359, 0.02210509951596512, 0.00051]"
      ]
     },
     "execution_count": 64,
     "metadata": {},
     "output_type": "execute_result"
    }
   ],
   "source": [
    "HookeTest(11)"
   ]
  },
  {
   "cell_type": "code",
   "execution_count": 65,
   "metadata": {},
   "outputs": [],
   "source": [
    "result = np.array([HookeTest(n,update=schemes[0][0]) for n in resolutions])\n",
    "plt.loglog(resolutions, result[:,:-1],resolutions,1/resolutions);"
   ]
  },
  {
   "cell_type": "markdown",
   "metadata": {},
   "source": [
    "Be prepared for a few minutes of waiting time. As mentioned in the [HighAccuracy](../Notebooks_FMM/HighAccuracy.ipynb) notebook, the bulk of computation time is related to the preparation of source factorization which implemented in Python rather, and not to the fast marching method which is efficiently implemented in C++."
   ]
  },
  {
   "cell_type": "code",
   "execution_count": 67,
   "metadata": {},
   "outputs": [
    {
     "name": "stdout",
     "output_type": "stream",
     "text": [
      "CPU times: user 4min 56s, sys: 1min 21s, total: 6min 18s\n",
      "Wall time: 4min 54s\n"
     ]
    }
   ],
   "source": [
    "%%time\n",
    "results = np.array([[HookeTest(n,update=scheme[0]) for n in resolutions] for scheme in schemes])"
   ]
  },
  {
   "cell_type": "code",
   "execution_count": 68,
   "metadata": {},
   "outputs": [],
   "source": [
    "plt.figure(figsize=[16,15])\n",
    "for i,(scheme,result) in enumerate(zip(schemes,results)):\n",
    "    plt.subplot(3,2,1+i)\n",
    "    plt.title(\"Rander semi-Lagrangian model errors, \"+scheme[1])\n",
    "    plt.loglog(resolutions, result[:,:-1], resolutions, 1/resolutions**scheme[2])\n",
    "    plt.xlabel(\"Resolution n\"); plt.ylabel(\"Numerical error\")\n",
    "    plt.legend((\"L1\",\"L2\",\"LInf\",f\"order {scheme[2]}\"))"
   ]
  },
  {
   "cell_type": "code",
   "execution_count": 69,
   "metadata": {},
   "outputs": [],
   "source": [
    "plt.title(\"Comparison of L2 errors\")\n",
    "plt.loglog(resolutions, results[:,:,1].T)\n",
    "plt.legend([s[1] for s in schemes]);"
   ]
  },
  {
   "cell_type": "code",
   "execution_count": null,
   "metadata": {},
   "outputs": [],
   "source": []
  }
 ],
 "metadata": {
  "celltoolbar": "Format de la Cellule Texte Brut",
  "kernelspec": {
   "display_name": "Python 3 (ipykernel)",
   "language": "python",
   "name": "python3"
  },
  "language_info": {
   "codemirror_mode": {
    "name": "ipython",
    "version": 3
   },
   "file_extension": ".py",
   "mimetype": "text/x-python",
   "name": "python",
   "nbconvert_exporter": "python",
   "pygments_lexer": "ipython3",
   "version": "3.12.1"
  },
  "varInspector": {
   "cols": {
    "lenName": 16,
    "lenType": 16,
    "lenVar": 40
   },
   "kernels_config": {
    "python": {
     "delete_cmd_postfix": "",
     "delete_cmd_prefix": "del ",
     "library": "var_list.py",
     "varRefreshCmd": "print(var_dic_list())"
    },
    "r": {
     "delete_cmd_postfix": ") ",
     "delete_cmd_prefix": "rm(",
     "library": "var_list.r",
     "varRefreshCmd": "cat(var_dic_list()) "
    }
   },
   "types_to_exclude": [
    "module",
    "function",
    "builtin_function_or_method",
    "instance",
    "_Feature"
   ],
   "window_display": false
  }
 },
 "nbformat": 4,
 "nbformat_minor": 4
}
