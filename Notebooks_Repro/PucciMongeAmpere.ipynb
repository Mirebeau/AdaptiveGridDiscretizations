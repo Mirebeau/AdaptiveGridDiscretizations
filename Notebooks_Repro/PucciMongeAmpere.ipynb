{
 "cells": [
  {
   "cell_type": "markdown",
   "metadata": {},
   "source": [
    "# Adaptive PDE discretizations on Cartesian grids\n",
    "## Volume : Reproducible research\n",
    "## Part : Convergence rates\n",
    "## Chapter : Pucci and Monge-Ampere equations"
   ]
  },
  {
   "cell_type": "markdown",
   "metadata": {},
   "source": [
    "This notebook reproduces the numerical experiments presented in the proceedings paper\n",
    "\n",
    "J. F. Bonnans, G. Bonnet, J.-M. Mirebeau, *Monotone and second order consistent discretization of the Pucci and Monge-Ampere operators*, submitted 2019"
   ]
  },
  {
   "cell_type": "markdown",
   "metadata": {},
   "source": [
    "[**Summary**](Summary.ipynb) of volume Reproducible research, this series of notebooks.\n",
    "\n",
    "[**Main summary**](../Summary.ipynb) of the Adaptive Grid Discretizations \n",
    "\tbook of notebooks, including the other volumes.\n",
    "\n",
    "# Table of contents\n",
    "  * [1. Synthetic solutions and domain](#1.-Synthetic-solutions-and-domain)\n",
    "  * [2. Problem data](#2.-Problem-data)\n",
    "    * [2.1 Right hand side](#2.1-Right-hand-side)\n",
    "    * [2.2 Rotation by Pi/6](#2.2-Rotation-by-Pi/6)\n",
    "    * [2.3 Grid parameters](#2.3-Grid-parameters)\n",
    "  * [3. Pucci equation](#3.-Pucci-equation)\n",
    "    * [3.1 Smooth solutions](#3.1-Smooth-solutions)\n",
    "    * [3.2 Non-smooth solutions](#3.2-Non-smooth-solutions)\n",
    "  * [4. Monge-Ampere](#4.-Monge-Ampere)\n",
    "    * [4.1 Smooth solutions](#4.1-Smooth-solutions)\n",
    "    * [4.2 Non-smooth solutions](#4.2-Non-smooth-solutions)\n",
    "    * [4.3 Piecewise linear degenerate solution](#4.3-Piecewise-linear-degenerate-solution)\n",
    "\n",
    "\n",
    "\n",
    "**Acknowledgement.** Some of the experiments presented in these notebooks are part of \n",
    "ongoing research with Ludovic Métivier and Da Chen.\n",
    "\n",
    "Copyright Jean-Marie Mirebeau, Centre Borelli, ENS Paris-Saclay, CNRS, University Paris-Saclay"
   ]
  },
  {
   "cell_type": "markdown",
   "metadata": {},
   "source": [
    "## 0. Importing the required libraries"
   ]
  },
  {
   "cell_type": "code",
   "execution_count": 1,
   "metadata": {},
   "outputs": [],
   "source": [
    "import sys; sys.path.insert(0,\"..\") # Allow import of agd from parent directory (useless if conda package installed)\n",
    "#from Miscellaneous import TocTools; print(TocTools.displayTOC('PucciMongeAmpere','Repro'))"
   ]
  },
  {
   "cell_type": "code",
   "execution_count": 2,
   "metadata": {},
   "outputs": [],
   "source": [
    "import numpy as np\n",
    "from matplotlib import pyplot as plt\n",
    "from scipy.linalg import norm\n",
    "import functools\n",
    "import itertools"
   ]
  },
  {
   "cell_type": "code",
   "execution_count": 3,
   "metadata": {},
   "outputs": [],
   "source": [
    "from agd import Selling\n",
    "from agd import LinearParallel as lp\n",
    "from agd import FiniteDifferences as fd\n",
    "from agd import AutomaticDifferentiation as ad\n",
    "from agd import Domain\n",
    "from agd.Plotting import savefig; #savefig.dirName = \"Figures/PucciMongeAmpere\""
   ]
  },
  {
   "cell_type": "code",
   "execution_count": 4,
   "metadata": {},
   "outputs": [],
   "source": [
    "norm = ad.Optimization.norm\n",
    "ball_dom = Domain.Ball() # Ball of radius 1 centered at the origin\n",
    "box_dom = Domain.Box() # Square [0,1]^2"
   ]
  },
  {
   "cell_type": "code",
   "execution_count": 5,
   "metadata": {},
   "outputs": [],
   "source": [
    "import agd.ExportedCode.Notebooks_NonDiv.NonlinearMonotoneSecond2D as Pucci\n",
    "import agd.ExportedCode.Notebooks_NonDiv.MongeAmpere as MongeAmpere"
   ]
  },
  {
   "cell_type": "code",
   "execution_count": 6,
   "metadata": {},
   "outputs": [],
   "source": [
    "def reload_packages():\n",
    "    from importlib import reload\n",
    "    Selling=reload(sys.modules['agd.Selling'])\n",
    "    lp =    reload(sys.modules['agd.LinearParallel'])\n",
    "    ad =    reload(sys.modules['agd.AutomaticDifferentiation'])\n",
    "    ad.reload_submodules()\n",
    "    Domain= reload(sys.modules['agd.Domain'])\n",
    "    global Pucci,MongeAmpere\n",
    "    Pucci = reload(sys.modules['Notebooks_NonDiv.ExportedCode.NonlinearMonotoneSecond2D'])\n",
    "    MongeAmpere = reload(sys.modules['Notebooks_NonDiv.ExportedCode.MongeAmpere'])"
   ]
  },
  {
   "cell_type": "markdown",
   "metadata": {},
   "source": [
    "## 0.1 Additional configuration"
   ]
  },
  {
   "cell_type": "code",
   "execution_count": null,
   "metadata": {},
   "outputs": [],
   "source": [
    "large_instances = False"
   ]
  },
  {
   "cell_type": "code",
   "execution_count": null,
   "metadata": {},
   "outputs": [],
   "source": [
    "if large_instances: test_resolutions = np.array([8,12,16,24,32,48,64,96,128])\n",
    "else: test_resolutions = np.array([8,12,16,24,32,48,64]) #Smaller grid sizes"
   ]
  },
  {
   "cell_type": "markdown",
   "metadata": {},
   "source": [
    "## 1. Synthetic solutions and domain"
   ]
  },
  {
   "cell_type": "code",
   "execution_count": 7,
   "metadata": {},
   "outputs": [],
   "source": [
    "data={}"
   ]
  },
  {
   "cell_type": "markdown",
   "metadata": {},
   "source": [
    "The following domain and synthetic solutions are considered in:\n",
    "\n",
    "Feng, X., & Jensen, M. (2017). Convergent semi-Lagrangian methods for the Monge--Ampère equation on unstructured grids. SIAM Journal on Numerical Analysis, 55(2), 691–712."
   ]
  },
  {
   "cell_type": "code",
   "execution_count": 8,
   "metadata": {},
   "outputs": [],
   "source": [
    "FJ_domain = Domain.Union(ball_dom,box_dom)"
   ]
  },
  {
   "cell_type": "code",
   "execution_count": 9,
   "metadata": {},
   "outputs": [],
   "source": [
    "def FJ_exact_polynomial(x):\n",
    "    return lp.dot_VV(x,x)**2\n",
    "def FJ_exact_piecewise(x):\n",
    "    return np.abs(x[0])"
   ]
  },
  {
   "cell_type": "code",
   "execution_count": 10,
   "metadata": {},
   "outputs": [],
   "source": [
    "aX = np.linspace(-1,1,100)\n",
    "X = np.array(np.meshgrid(aX,aX,indexing='ij'))\n",
    "plt.figure(figsize=[10,4])\n",
    "\n",
    "plt.subplot(1,2,1)\n",
    "plt.title('Polynomial synthetic solution')\n",
    "u = FJ_exact_polynomial(X)\n",
    "u[np.logical_not(FJ_domain.contains(X))]=np.nan\n",
    "plt.contourf(*X,u,levels=20)\n",
    "\n",
    "plt.subplot(1,2,2)\n",
    "plt.title('Piecewise synthetic solution')\n",
    "u = FJ_exact_piecewise(X)\n",
    "u[np.logical_not(FJ_domain.contains(X))]=np.nan\n",
    "plt.contourf(*X,u);"
   ]
  },
  {
   "cell_type": "markdown",
   "metadata": {},
   "source": [
    "The following domain and synthetic solutions are considered in:\n",
    "\n",
    "Froese, B. D., & Oberman, A. M. (2013). Convergent Filtered Schemes for the Monge-Ampère Partial Differential Equation. SIAM Journal on Numerical Analysis, 51(1), 423–444. http://doi.org/10.1137/120875065"
   ]
  },
  {
   "cell_type": "code",
   "execution_count": 11,
   "metadata": {},
   "outputs": [],
   "source": [
    "FO_domain = box_dom\n",
    "FO_x0 = np.array([0.5,0.5])"
   ]
  },
  {
   "cell_type": "code",
   "execution_count": 12,
   "metadata": {},
   "outputs": [],
   "source": [
    "def squared_norm(x): return (x**2).sum(axis=0)\n",
    "\n",
    "def FO_exact_exponential(x):\n",
    "    x0 = fd.as_field(FO_x0,x.shape[1:])\n",
    "    return np.exp(squared_norm(x-x0)/2) #np.exp(norm(x-x0,axis=0)**2/2)\n",
    "\n",
    "def FO_exact_C1(x):\n",
    "    x0 = fd.as_field(FO_x0,x.shape[1:])\n",
    "    return 0.5*np.maximum(0.,norm(x-x0,axis=0)-0.2)**2\n",
    "    \n",
    "def FO_exact_singular(x):\n",
    "    return -np.sqrt(np.maximum(2-squared_norm(x),1e-16**2))\n",
    "\n",
    "def FO_exact_cone(x): # Not a viscosity solution !\n",
    "    x0 = fd.as_field(FO_x0,x.shape[1:])\n",
    "    return norm(x-x0,axis=0)"
   ]
  },
  {
   "cell_type": "markdown",
   "metadata": {},
   "source": [
    "Let us emphasize that the cone example is *not* a viscosity solution of the Monge-Ampere equation. It is a Pogorelov solution, a weaker sort of solution. In particular, $\\det(\\nabla^2 u) = \\delta_{x_0}$ is a Dirac mass, and not a classical function.\n",
    "\n",
    "As a result, convergence is *not* expected in that case. We remove this example from our test suite."
   ]
  },
  {
   "cell_type": "code",
   "execution_count": 13,
   "metadata": {},
   "outputs": [],
   "source": [
    "data.update({\n",
    "    'names':[\"Polynomial\",\"Piecewise\",\"Exponential\",\"C1\",\"Singular\"],\n",
    "    'exact':[FJ_exact_polynomial,FJ_exact_piecewise,FO_exact_exponential,FO_exact_C1,FO_exact_singular],\n",
    "    'domain':[FJ_domain,FJ_domain,FO_domain,FO_domain,FO_domain],\n",
    "})"
   ]
  },
  {
   "cell_type": "code",
   "execution_count": 14,
   "metadata": {},
   "outputs": [],
   "source": [
    "plt.figure(figsize=[13,9])\n",
    "\n",
    "aX = np.linspace(-1,1); X = np.array(np.meshgrid(aX,aX,indexing='ij'))\n",
    "for i,(name,exact) in enumerate(zip(data['names'][:2],data['exact'][:2])):\n",
    "    plt.subplot(2,3,1+i)\n",
    "    plt.title(name+' solution')\n",
    "    u = exact(X)\n",
    "    u[np.logical_not(FJ_domain.contains(X))]=np.nan\n",
    "    plt.contourf(*X,u)\n",
    "\n",
    "aX = np.linspace(0,1); X = np.array(np.meshgrid(aX,aX,indexing='ij'))\n",
    "for i,(name,exact) in enumerate(zip(data['names'][2:],data['exact'][2:])):\n",
    "    plt.subplot(2,3,4+i)\n",
    "    plt.title(name+' solution')\n",
    "    plt.contourf(*X,exact(X))"
   ]
  },
  {
   "cell_type": "markdown",
   "metadata": {},
   "source": [
    "## 2. Problem data"
   ]
  },
  {
   "cell_type": "markdown",
   "metadata": {},
   "source": [
    "### 2.1 Right hand side"
   ]
  },
  {
   "cell_type": "markdown",
   "metadata": {},
   "source": [
    "The Monge-Ampere operator is defined as \n",
    "$$\n",
    "    \\det(\\nabla^2 u(x)).\n",
    "$$\n",
    "The Pucci operator is defined as \n",
    "$$\n",
    "    \\lambda_{\\min}(\\nabla^2 u(x))+\\mu\\lambda_{\\max}(\\nabla^2 u(x)),\n",
    "$$\n",
    "where $\\mu \\geq 0$ is a parameter, and $\\lambda_{\\min}$ and $\\lambda_{\\max}$ denote the smallest and largest eigenvalue of a symmetric matrix.\n",
    "\n",
    "An exact implementation of these operators, based on automatic differentiation, is implemented in the relevant notebooks and imported here."
   ]
  },
  {
   "cell_type": "markdown",
   "metadata": {},
   "source": [
    "### 2.2 Rotation by Pi/6\n",
    "\n",
    "The base domains considered in the standard test cases have their sides aligned with the coordinate axes, which is non-generic and may give an unfair advantage to grid based methods. For this reason, we also consider a grid rotated by $\\pi/6$ around the domain center."
   ]
  },
  {
   "cell_type": "code",
   "execution_count": 15,
   "metadata": {},
   "outputs": [],
   "source": [
    "FJ_rot = {'mult':lp.rotation(np.pi/6)}\n",
    "FO_rot = {'mult':lp.rotation(np.pi/6),'center':FO_x0}"
   ]
  },
  {
   "cell_type": "code",
   "execution_count": 16,
   "metadata": {},
   "outputs": [],
   "source": [
    "data['rotation']=[FJ_rot,FJ_rot,FO_rot,FO_rot,FO_rot]"
   ]
  },
  {
   "cell_type": "markdown",
   "metadata": {},
   "source": [
    "### 2.3 Grid parameters"
   ]
  },
  {
   "cell_type": "markdown",
   "metadata": {},
   "source": [
    "We use a square $n\\times n$ discretization grid, where $n$ is referred to as the *resolution*."
   ]
  },
  {
   "cell_type": "code",
   "execution_count": 17,
   "metadata": {},
   "outputs": [],
   "source": [
    "data['resolution']=test_resolutions"
   ]
  },
  {
   "cell_type": "markdown",
   "metadata": {},
   "source": [
    "A slightly larger grid is needed to accomodate the rotated examples. In order to keep the same sampling density, the resolution accounts for it."
   ]
  },
  {
   "cell_type": "code",
   "execution_count": 18,
   "metadata": {},
   "outputs": [],
   "source": [
    "rotation_extrawidth = np.sqrt(2.)*np.cos(np.pi/4-np.pi/6)"
   ]
  },
  {
   "cell_type": "code",
   "execution_count": 19,
   "metadata": {},
   "outputs": [],
   "source": [
    "rotation_delta = rotation_extrawidth-1\n",
    "FO_bounds = np.array([[0,1],[0,1]])\n",
    "FO_bounds_rotated = np.array([[-rotation_delta/2,1+rotation_delta/2],[-rotation_delta/2,1+rotation_delta/2]])\n",
    "\n",
    "FJ_bounds = np.array([[-1,1],[-1,1]])\n",
    "FJ_bounds_rotated = rotation_extrawidth*FJ_bounds"
   ]
  },
  {
   "cell_type": "code",
   "execution_count": 20,
   "metadata": {},
   "outputs": [],
   "source": [
    "data.update({\n",
    "    'bounds':[FJ_bounds,FJ_bounds,FO_bounds,FO_bounds,FO_bounds],\n",
    "    'bounds_rotated':[FJ_bounds_rotated,FJ_bounds_rotated,FO_bounds_rotated,FO_bounds_rotated,FO_bounds_rotated],\n",
    "})"
   ]
  },
  {
   "cell_type": "markdown",
   "metadata": {},
   "source": [
    "## 3. Pucci equation"
   ]
  },
  {
   "cell_type": "code",
   "execution_count": 21,
   "metadata": {},
   "outputs": [],
   "source": [
    "def PucciRun(alpha, resolution_, rotation,  exact_, domain_, bounds_, bounds_rotated, \n",
    "             residue=False,verbosity=1):\n",
    "    \"\"\"\n",
    "    Numerically solves a Pucci equation, and compares with known exact solution.\n",
    "    The r.h.s. and Dirichlet boundary conditions are extracted from the provided synthetic solution.\n",
    "    \"\"\"\n",
    "    # Setup parameters depending on the rotation\n",
    "    exact,domain,resolution,bounds =  None,None,None,None\n",
    "    if rotation is None:\n",
    "        exact,domain,resolution,bounds = exact_,domain_,resolution_,bounds_\n",
    "    else:\n",
    "        domain=Domain.AffineTransform(domain_,**rotation)\n",
    "        exact = lambda x : exact_(domain.reverse(x))\n",
    "        bounds=bounds_rotated\n",
    "        resolution = int(np.ceil(rotation_extrawidth*resolution_))\n",
    "\n",
    "    aX0 = np.linspace(*bounds[0],resolution)\n",
    "    aX1 = np.linspace(*bounds[1],resolution)\n",
    "    X = np.array(np.meshgrid(aX0,aX1,indexing='ij'))\n",
    "    \n",
    "    bc = Domain.Dirichlet(domain,exact,X)\n",
    "    rhs = Pucci.Pucci_ad(exact,alpha,X)\n",
    "    params = (alpha,rhs,bc)\n",
    "    guess = np.zeros(bc.shape)\n",
    "    \n",
    "    stop = ad.Optimization.stop_default(verbosity=verbosity)\n",
    "    \n",
    "    #Test PDE residue, or difference w.r.t. exact solution\n",
    "    error = (Pucci.SchemeConsistent(exact(X),alpha,rhs,bc) if residue else \n",
    "             exact(X) - ad.Optimization.newton_root(Pucci.SchemeConsistent_Opt, guess, params,stop=stop) )\n",
    "    \n",
    "    error[bc.not_interior]=0.\n",
    "    #    plt.contourf(*X,error); plt.colorbar()\n",
    "    return [norm(error,ord=1,averaged=True),norm(error,ord=2,averaged=True),norm(error,ord=np.inf)]"
   ]
  },
  {
   "cell_type": "markdown",
   "metadata": {},
   "source": [
    "Solve the Pucci equation on the first domain."
   ]
  },
  {
   "cell_type": "code",
   "execution_count": 22,
   "metadata": {},
   "outputs": [
    {
     "data": {
      "text/plain": [
       "[0.0008015943680793566, 0.0010473941128313047, 0.0020608610816872635]"
      ]
     },
     "execution_count": 22,
     "metadata": {},
     "output_type": "execute_result"
    }
   ],
   "source": [
    "PucciRun(0.5,50,None,data['exact'][0],data['domain'][0],data['bounds'][0],data['bounds_rotated'][0])"
   ]
  },
  {
   "cell_type": "code",
   "execution_count": 23,
   "metadata": {},
   "outputs": [
    {
     "data": {
      "text/plain": [
       "[0.0004124331806867699, 0.0007357003420076347, 0.0019740573265358227]"
      ]
     },
     "execution_count": 23,
     "metadata": {},
     "output_type": "execute_result"
    }
   ],
   "source": [
    "PucciRun(0.5,50,FJ_rot,data['exact'][0],data['domain'][0],data['bounds'][0],data['bounds_rotated'][0])"
   ]
  },
  {
   "cell_type": "markdown",
   "metadata": {},
   "source": [
    "Generate some numerical error data."
   ]
  },
  {
   "cell_type": "code",
   "execution_count": 24,
   "metadata": {},
   "outputs": [],
   "source": [
    "def PucciErrors(alpha,resolutions,rotation,i,**kwargs):\n",
    "    errors = []\n",
    "    rot=data['rotation'][i] if rotation else None\n",
    "    for res in resolutions:\n",
    "        errors.append(PucciRun(alpha,res,rot,\n",
    "            data['exact'][i],data['domain'][i],data['bounds'][i],data['bounds_rotated'][i],**kwargs))\n",
    "        \n",
    "    title= r\"Pucci equation, $\\alpha=$\"+str(alpha)\n",
    "    title+=\", \"+data['names'][i]+\" solution\"\n",
    "    if rotation: title+=\", rotated domain\"\n",
    "        \n",
    "    return np.array(errors),title"
   ]
  },
  {
   "cell_type": "code",
   "execution_count": 25,
   "metadata": {},
   "outputs": [],
   "source": [
    "def PlotErrors(resolutions, errors, orders=[2]):\n",
    "    plt.loglog(resolutions,errors[:,2],label=r\"$L^\\infty$\",linestyle='-.')\n",
    "    plt.loglog(resolutions,errors[:,0],label=r\"$L^1$\",linestyle='-')\n",
    "    for order,linestyle in zip(orders,[':','--']):\n",
    "        plt.loglog(resolutions,resolutions**-float(order),label=\"order=\"+str(order),linestyle=linestyle)\n",
    "    plt.xlabel('resolution')\n",
    "    plt.ylabel('error')\n",
    "    plt.legend();"
   ]
  },
  {
   "cell_type": "markdown",
   "metadata": {},
   "source": [
    "### 3.1 Smooth solutions"
   ]
  },
  {
   "cell_type": "code",
   "execution_count": 26,
   "metadata": {},
   "outputs": [
    {
     "data": {
      "text/plain": [
       "['Polynomial', 'Exponential']"
      ]
     },
     "execution_count": 26,
     "metadata": {},
     "output_type": "execute_result"
    }
   ],
   "source": [
    "resolutions=data['resolution']\n",
    "[data['names'][index] for index in (0,2)]"
   ]
  },
  {
   "cell_type": "code",
   "execution_count": 27,
   "metadata": {},
   "outputs": [],
   "source": [
    "fig=plt.figure()\n",
    "errors,title = PucciErrors(0.2,resolutions,False,0)\n",
    "plt.title(title)\n",
    "PlotErrors(resolutions,errors)\n",
    "savefig(fig,\"Pucci02_Polynomial.pdf\")"
   ]
  },
  {
   "cell_type": "code",
   "execution_count": 28,
   "metadata": {},
   "outputs": [],
   "source": [
    "errors,title = PucciErrors(0.2,resolutions,True,0)\n",
    "fig=plt.figure(); plt.title(title)\n",
    "PlotErrors(resolutions,errors)\n",
    "savefig(fig,\"Pucci02_Polynomial_Rotated.pdf\")\n",
    "savefig(fig,\"Pucci02_Polynomial_Rotated.png\")"
   ]
  },
  {
   "cell_type": "markdown",
   "metadata": {},
   "source": [
    "*Journal version*\n",
    "\n",
    "<!---\n",
    "fig=plt.figure(figsize=[3,2]); plt.title(r\"Polynomial solution, $\\mu=0.2$\")\n",
    "PlotErrors(resolutions,errors)\n",
    "savefig(fig,\"Pucci02_Polynomial_Rotated_request.pdf\")\n",
    "--->"
   ]
  },
  {
   "cell_type": "code",
   "execution_count": 27,
   "metadata": {},
   "outputs": [],
   "source": [
    "errors,title = PucciErrors(0.2,resolutions,False,2)\n",
    "plt.title(title)\n",
    "PlotErrors(resolutions,errors)"
   ]
  },
  {
   "cell_type": "code",
   "execution_count": 28,
   "metadata": {},
   "outputs": [],
   "source": [
    "errors,title = PucciErrors(0.2,resolutions,True,2)\n",
    "plt.title(title)\n",
    "PlotErrors(resolutions,errors)"
   ]
  },
  {
   "cell_type": "markdown",
   "metadata": {},
   "source": [
    "### 3.2 Non-smooth solutions\n",
    "\n",
    "We consider two less smooth solutions:\n",
    "* A $C^1$ solution, whose second order derivative is discontinuous over a curve (circle). Empirically, convergence rate is still quite fast, seemingly second order in the $L^1$ norm, and slightly below in the $L^\\infty$ norm. \n",
    "* A singular solution, which is not differentiable at a point of the boundary. Empirically, second order convergence rate seems preserved in the $L^1$ norm, but a much slower convergence occurs in the $L^\\infty$ norm.\n",
    "\n"
   ]
  },
  {
   "cell_type": "code",
   "execution_count": 33,
   "metadata": {},
   "outputs": [
    {
     "data": {
      "text/plain": [
       "['C1', 'Singular']"
      ]
     },
     "execution_count": 33,
     "metadata": {},
     "output_type": "execute_result"
    }
   ],
   "source": [
    "resolutions=data['resolution']\n",
    "[data['names'][index] for index in (3,4)]"
   ]
  },
  {
   "cell_type": "code",
   "execution_count": 34,
   "metadata": {},
   "outputs": [],
   "source": [
    "fig=plt.figure()\n",
    "errors,title = PucciErrors(0.2,resolutions,False,3)\n",
    "plt.title(title)\n",
    "PlotErrors(resolutions,errors)\n",
    "savefig(fig,\"Pucci02_C1.pdf\")"
   ]
  },
  {
   "cell_type": "code",
   "execution_count": 35,
   "metadata": {},
   "outputs": [
    {
     "name": "stderr",
     "output_type": "stream",
     "text": [
      "../agd/AutomaticDifferentiation/Base.py:42: RuntimeWarning: divide by zero encountered in power\n",
      "  def pow(x,n):\treturn (x**n,n*x**(n-1),(n*(n-1))*x**(n-2))\n",
      "../agd/AutomaticDifferentiation/Dense2.py:99: RuntimeWarning: invalid value encountered in multiply\n",
      "  return self.new(a,_add_dim(b)*self.coef1,_add_dim2(b)*self.coef2+_add_dim2(c)*mixed)\n"
     ]
    }
   ],
   "source": [
    "errors,title = PucciErrors(0.2,resolutions,True,3)\n",
    "fig=plt.figure(); plt.title(title)\n",
    "#Paper : fig=plt.figure(figsize=[4,2.5]); plt.title(\"C1 solution, $\\mu=0.2$\")\n",
    "PlotErrors(resolutions,errors)\n",
    "savefig(fig,\"Pucci02_C1_Rotated.pdf\")\n",
    "savefig(fig,\"Pucci02_C1_Rotated.png\")"
   ]
  },
  {
   "cell_type": "markdown",
   "metadata": {},
   "source": [
    "*Journal version*\n",
    "\n",
    "<!---\n",
    "fig=plt.figure(figsize=[3,2]); plt.title(\"C1 solution, $\\mu=0.2$\")\n",
    "PlotErrors(resolutions,errors)\n",
    "savefig(fig,\"Pucci02_C1_Rotated_request.pdf\")\n",
    "--->"
   ]
  },
  {
   "cell_type": "code",
   "execution_count": 78,
   "metadata": {},
   "outputs": [],
   "source": [
    "fig=plt.figure()\n",
    "errors,title = PucciErrors(0.2,resolutions,False,4)\n",
    "plt.title(title)\n",
    "PlotErrors(resolutions,errors,orders=[1.,2.])\n",
    "savefig(fig,\"Pucci02_Singular.pdf\")"
   ]
  },
  {
   "cell_type": "code",
   "execution_count": 39,
   "metadata": {},
   "outputs": [],
   "source": [
    "errors,title = PucciErrors(0.2,resolutions,True,4)\n",
    "fig=plt.figure(); plt.title(title)\n",
    "PlotErrors(resolutions,errors,orders=[1.,2.])\n",
    "savefig(fig,\"Pucci02_Singular_Rotated.pdf\")\n",
    "savefig(fig,\"Pucci02_Singular_Rotated.png\")"
   ]
  },
  {
   "cell_type": "markdown",
   "metadata": {},
   "source": [
    "*Journal version*\n",
    "\n",
    "<!---\n",
    "fig=plt.figure(figsize=[3,2]); plt.title(\"Singular solution, $\\mu=0.2$\")\n",
    "PlotErrors(resolutions,errors,orders=[2])\n",
    "savefig(fig,\"Pucci02_Singular_Rotated_request.pdf\")\n",
    "--->"
   ]
  },
  {
   "cell_type": "markdown",
   "metadata": {},
   "source": [
    "## 4. Monge-Ampere"
   ]
  },
  {
   "cell_type": "code",
   "execution_count": 57,
   "metadata": {},
   "outputs": [],
   "source": [
    "def MongeAmpereRun(SB, resolution_, rotation,  exact_, domain_, bounds_, bounds_rotated, \n",
    "             residue=False,verbosity=1):\n",
    "    # Setup parameters depending on the rotation\n",
    "    exact,domain,resolution,bounds =  None,None,None,None\n",
    "    if rotation is None:\n",
    "        exact,domain,resolution,bounds = exact_,domain_,resolution_,bounds_\n",
    "    else:\n",
    "        domain=Domain.AffineTransform(domain_,**rotation)\n",
    "        exact = lambda x : exact_(domain.reverse(x))\n",
    "        bounds=bounds_rotated\n",
    "        resolution = int(np.ceil(rotation_extrawidth*resolution_))\n",
    "\n",
    "    aX0 = np.linspace(*bounds[0],resolution)\n",
    "    aX1 = np.linspace(*bounds[1],resolution)\n",
    "    X = np.array(np.meshgrid(aX0,aX1,indexing='ij'))\n",
    "    \n",
    "    bc = Domain.Dirichlet(domain,exact,X)\n",
    "    rhs = MongeAmpere.MongeAmpere_ad(exact,X)\n",
    "    params = (SB,rhs,bc)\n",
    "    guess = np.zeros(bc.shape)\n",
    "    \n",
    "    stop = ad.Optimization.stop_default(verbosity=verbosity)\n",
    "    \n",
    "    #Test PDE residue, or difference w.r.t. exact solution\n",
    "    error = (MongeAmpere.SchemeUniform(exact(X),SB,rhs,bc) if residue else \n",
    "             exact(X) - ad.Optimization.newton_root(MongeAmpere.SchemeUniform_Opt, guess, params,stop=stop) )\n",
    "    \n",
    "    error[bc.not_interior]=0.\n",
    "    #    plt.contourf(*X,error); plt.colorbar()\n",
    "    return [norm(error,ord=1,averaged=True),norm(error,ord=2,averaged=True),norm(error,ord=np.inf)]"
   ]
  },
  {
   "cell_type": "code",
   "execution_count": 58,
   "metadata": {},
   "outputs": [],
   "source": [
    "def MongeAmpereErrors(SB,resolutions,rotation,i,**kwargs):\n",
    "    errors = []\n",
    "    rot=data['rotation'][i] if rotation else None\n",
    "    for res in resolutions:\n",
    "        errors.append(MongeAmpereRun(SB,res,rot,\n",
    "            data['exact'][i],data['domain'][i],data['bounds'][i],data['bounds_rotated'][i],**kwargs))\n",
    "        \n",
    "    title= \"Monge-Ampere, \"+str(SB.shape[-1])+\" superbases\"\n",
    "    title+=\", \"+data['names'][i]+\" solution\"\n",
    "    if rotation: title+=\", rotated\"\n",
    "        \n",
    "    return np.array(errors),title"
   ]
  },
  {
   "cell_type": "code",
   "execution_count": 65,
   "metadata": {},
   "outputs": [],
   "source": [
    "SB0 = Selling.SuperbasesForConditioning(5)\n",
    "SB1 = Selling.SuperbasesForConditioning(15)\n",
    "SB2 = Selling.SuperbasesForConditioning(30)"
   ]
  },
  {
   "cell_type": "code",
   "execution_count": 66,
   "metadata": {},
   "outputs": [
    {
     "data": {
      "text/plain": [
       "[0.0008706635170048965, 0.0011380083539509333, 0.002238453691942373]"
      ]
     },
     "execution_count": 66,
     "metadata": {},
     "output_type": "execute_result"
    }
   ],
   "source": [
    "MongeAmpereRun(SB0,50,None,data['exact'][0],data['domain'][0],data['bounds'][0],data['bounds_rotated'][0])"
   ]
  },
  {
   "cell_type": "markdown",
   "metadata": {},
   "source": [
    "### 4.1 Smooth solutions"
   ]
  },
  {
   "cell_type": "code",
   "execution_count": 38,
   "metadata": {},
   "outputs": [],
   "source": [
    "fig=plt.figure()\n",
    "resolutions=data['resolution']\n",
    "errors,title = MongeAmpereErrors(SB0,resolutions,False,0)\n",
    "plt.title(title)\n",
    "PlotErrors(resolutions,errors)\n",
    "savefig(fig,\"MongeAmpereSB0_Polynomial.pdf\")"
   ]
  },
  {
   "cell_type": "code",
   "execution_count": 67,
   "metadata": {},
   "outputs": [],
   "source": [
    "fig=plt.figure()\n",
    "resolutions=data['resolution']\n",
    "errors,title = MongeAmpereErrors(SB0,resolutions,True,0)\n",
    "plt.title(title)\n",
    "PlotErrors(resolutions,errors)\n",
    "savefig(fig,\"MongeAmpereSB0_Polynomial_Rotated.pdf\")\n",
    "savefig(fig,\"MongeAmpereSB0_Polynomial_Rotated.png\")"
   ]
  },
  {
   "cell_type": "code",
   "execution_count": 40,
   "metadata": {},
   "outputs": [],
   "source": [
    "resolutions=data['resolution']\n",
    "errors,title = MongeAmpereErrors(SB0,resolutions,False,2)\n",
    "plt.title(title)\n",
    "PlotErrors(resolutions,errors)"
   ]
  },
  {
   "cell_type": "code",
   "execution_count": 41,
   "metadata": {},
   "outputs": [],
   "source": [
    "resolutions=data['resolution']\n",
    "errors,title = MongeAmpereErrors(SB0,resolutions,True,2)\n",
    "plt.title(title)\n",
    "PlotErrors(resolutions,errors)"
   ]
  },
  {
   "cell_type": "markdown",
   "metadata": {},
   "source": [
    "### 4.2 Non-smooth solutions"
   ]
  },
  {
   "cell_type": "markdown",
   "metadata": {},
   "source": [
    "The $C^1$ solution has strongly anisotropic hessian, almost rank deficient on the neighborhood of a circle.\n",
    "Increasing the number of superbases, from $2$ to $6$, is beneficial to accuracy, as could be expected. Changes are more modest when going to $10$ superbases, although quite visible in the $L^\\infty$ norm."
   ]
  },
  {
   "cell_type": "code",
   "execution_count": 42,
   "metadata": {},
   "outputs": [],
   "source": [
    "resolutions=data['resolution']\n",
    "errors,title = MongeAmpereErrors(SB0,resolutions,False,3)\n",
    "plt.title(title)\n",
    "PlotErrors(resolutions,errors)"
   ]
  },
  {
   "cell_type": "code",
   "execution_count": 43,
   "metadata": {},
   "outputs": [],
   "source": [
    "resolutions=data['resolution']\n",
    "errors,title = MongeAmpereErrors(SB1,resolutions,False,3)\n",
    "plt.title(title)\n",
    "PlotErrors(resolutions,errors)"
   ]
  },
  {
   "cell_type": "code",
   "execution_count": 44,
   "metadata": {},
   "outputs": [],
   "source": [
    "resolutions=data['resolution']\n",
    "errors,title = MongeAmpereErrors(SB2,resolutions,False,3)\n",
    "plt.title(title)\n",
    "PlotErrors(resolutions,errors)"
   ]
  },
  {
   "cell_type": "markdown",
   "metadata": {},
   "source": [
    "Domain rotation has little impact in this example, since the solution (second-order) non-differentiability is along a circle."
   ]
  },
  {
   "cell_type": "code",
   "execution_count": 69,
   "metadata": {},
   "outputs": [
    {
     "name": "stderr",
     "output_type": "stream",
     "text": [
      "../NumericalSchemes/AutomaticDifferentiation/misc.py:228: RuntimeWarning: divide by zero encountered in power\n",
      "  def pow2(x,n):\treturn (x**n,n*x**(n-1),(n*(n-1))*x**(n-2))\n",
      "../NumericalSchemes/AutomaticDifferentiation/Dense2.py:88: RuntimeWarning: invalid value encountered in multiply\n",
      "  return denseAD2(a,_add_dim(b)*self.coef1,_add_dim2(b)*self.coef2+_add_dim2(c)*mixed)\n"
     ]
    }
   ],
   "source": [
    "fig=plt.figure()\n",
    "errors,title = MongeAmpereErrors(SB0,resolutions,True,3)\n",
    "plt.title(title)\n",
    "PlotErrors(resolutions,errors)\n",
    "errors_MongeAmpereSB0_C1_Rotated=errors\n",
    "savefig(fig,\"MongeAmpereSB0_C1_Rotated.pdf\")"
   ]
  },
  {
   "cell_type": "code",
   "execution_count": 70,
   "metadata": {},
   "outputs": [],
   "source": [
    "fig=plt.figure()\n",
    "errors,title = MongeAmpereErrors(SB1,resolutions,True,3)\n",
    "plt.title(title)\n",
    "PlotErrors(resolutions,errors)\n",
    "errors_MongeAmpereSB1_C1_Rotated=errors\n",
    "savefig(fig,\"MongeAmpereSB1_C1_Rotated.pdf\")"
   ]
  },
  {
   "cell_type": "code",
   "execution_count": 47,
   "metadata": {},
   "outputs": [],
   "source": [
    "fig=plt.figure()\n",
    "errors,title = MongeAmpereErrors(SB1,resolutions,True,3)\n",
    "plt.title(title)\n",
    "PlotErrors(resolutions,errors)\n",
    "errors_MongeAmpereSB2_C1_Rotated=errors\n",
    "savefig(fig,\"MongeAmpereSB2_C1_Rotated.pdf\")"
   ]
  },
  {
   "cell_type": "markdown",
   "metadata": {},
   "source": [
    "It is interesting to see the dependency of the numerical error w.r.t. the chosen stencil."
   ]
  },
  {
   "cell_type": "code",
   "execution_count": 71,
   "metadata": {},
   "outputs": [],
   "source": [
    "# Overlay of the results with different superbases.\n",
    "fig=plt.figure()\n",
    "plt.title(\"Monge-Ampere, 2 and 6 superbases, C1 solution, rotated\")\n",
    "plt.loglog(resolutions,errors_MongeAmpereSB0_C1_Rotated[:,2],label=r\"$L^\\infty$, 2 superbases\",linestyle='--',color='C0')\n",
    "plt.loglog(resolutions,errors_MongeAmpereSB1_C1_Rotated[:,2],label=r\"$L^\\infty$, 6 superbases\",linestyle='-.',color='C0')\n",
    "#plt.loglog(resolutions,errors_MongeAmpereSB2_C1_Rotated[:,2],label=r\"$L^\\infty$, 10 superbases\",linestyle='-',color='C0')\n",
    "\n",
    "plt.loglog(resolutions,errors_MongeAmpereSB0_C1_Rotated[:,0],label=r\"$L^1$, 2 superbases\",linestyle='--',color='C1')\n",
    "plt.loglog(resolutions,errors_MongeAmpereSB1_C1_Rotated[:,0],label=r\"$L^1$, 6 superbases\",linestyle='-.',color='C1')\n",
    "#plt.loglog(resolutions,errors_MongeAmpereSB2_C1_Rotated[:,0],label=r\"$L^1$, 10 superbases\",linestyle='-',color='C1')\n",
    "\n",
    "plt.loglog(resolutions,0.1*resolutions**-2.,linestyle=':',color='C2')\n",
    "\n",
    "plt.xlabel('resolution'); plt.ylabel('error')\n",
    "plt.legend(loc='lower left')\n",
    "\n",
    "savefig(fig,\"MongeAmpereSB01_C1_Rotated.pdf\")\n",
    "savefig(fig,\"MongeAmpereSB01_C1_Rotated.png\")"
   ]
  },
  {
   "cell_type": "markdown",
   "metadata": {},
   "source": [
    "A similar phenomenon occurs for the singular solution, especially when rotated, again in the $L^\\infty$ norm.\n",
    "Non-convergence, if too few superbases are used, is obvious."
   ]
  },
  {
   "cell_type": "code",
   "execution_count": 49,
   "metadata": {},
   "outputs": [],
   "source": [
    "resolutions=data['resolution']\n",
    "errors,title = MongeAmpereErrors(SB0,resolutions,False,4)\n",
    "plt.title(title)\n",
    "PlotErrors(resolutions,errors)"
   ]
  },
  {
   "cell_type": "code",
   "execution_count": 72,
   "metadata": {},
   "outputs": [],
   "source": [
    "fig=plt.figure()\n",
    "errors,title = MongeAmpereErrors(SB0,resolutions,True,4)\n",
    "plt.title(title)\n",
    "PlotErrors(resolutions,errors)\n",
    "errors_MongeAmpereSB0_Singular_Rotated=errors\n",
    "savefig(fig,\"MongeAmpereSB0_Singular_Rotated.pdf\")"
   ]
  },
  {
   "cell_type": "code",
   "execution_count": 73,
   "metadata": {},
   "outputs": [],
   "source": [
    "errors,title = MongeAmpereErrors(SB1,data['resolution'],True,4)\n",
    "plt.title(title)\n",
    "PlotErrors(resolutions,errors)\n",
    "errors_MongeAmpereSB1_Singular_Rotated=errors\n",
    "savefig(fig,\"MongeAmpereSB1_Singular_Rotated.pdf\")"
   ]
  },
  {
   "cell_type": "code",
   "execution_count": 74,
   "metadata": {},
   "outputs": [],
   "source": [
    "errors,title = MongeAmpereErrors(SB2,data['resolution'],True,4)\n",
    "plt.title(title)\n",
    "PlotErrors(resolutions,errors)\n",
    "errors_MongeAmpereSB2_Singular_Rotated=errors\n",
    "savefig(fig,\"MongeAmpereSB2_Singular_Rotated.pdf\")"
   ]
  },
  {
   "cell_type": "code",
   "execution_count": 75,
   "metadata": {},
   "outputs": [],
   "source": [
    "# Overlay of the results with different superbases.\n",
    "fig=plt.figure()\n",
    "plt.title(\"Monge-Ampere, 2, 6 and 10 superbases, Singular solution, rotated\")\n",
    "plt.loglog(resolutions,errors_MongeAmpereSB0_Singular_Rotated[:,2],label=r\"$L^\\infty$, 2 superbases\",linestyle='--',color='C0')\n",
    "plt.loglog(resolutions,errors_MongeAmpereSB1_Singular_Rotated[:,2],label=r\"$L^\\infty$, 6 superbases\",linestyle='-.',color='C0')\n",
    "plt.loglog(resolutions,errors_MongeAmpereSB2_Singular_Rotated[:,2],label=r\"$L^\\infty$, 10 superbases\",linestyle='-',color='C0')\n",
    "\n",
    "plt.loglog(resolutions,errors_MongeAmpereSB0_Singular_Rotated[:,0],label=r\"$L^1$, 2 superbases\",linestyle='--',color='C1')\n",
    "plt.loglog(resolutions,errors_MongeAmpereSB1_Singular_Rotated[:,0],label=r\"$L^1$, 6 superbases\",linestyle='-.',color='C1')\n",
    "plt.loglog(resolutions,errors_MongeAmpereSB2_Singular_Rotated[:,0],label=r\"$L^1$, 10 superbases\",linestyle='-',color='C1')\n",
    "\n",
    "plt.loglog(resolutions,0.07*resolutions**-2.,linestyle=':',color='C2')\n",
    "\n",
    "plt.xlabel('resolution'); plt.ylabel('error')\n",
    "plt.legend(loc='lower left')\n",
    "\n",
    "savefig(fig,\"MongeAmpereSB012_Singular_Rotated.pdf\")\n",
    "savefig(fig,\"MongeAmpereSB012_Singular_Rotated.png\")"
   ]
  },
  {
   "cell_type": "markdown",
   "metadata": {},
   "source": [
    "### 4.3 Piecewise linear degenerate solution\n",
    "\n",
    "Regarding the piecewise linear solution, we get an exact reconstruction, up to machine precision, if the discontinuity is aligned with the grid axes. This is independent of the resolution."
   ]
  },
  {
   "cell_type": "code",
   "execution_count": 54,
   "metadata": {},
   "outputs": [],
   "source": [
    "fig=plt.figure()\n",
    "errors,title = MongeAmpereErrors(SB0,resolutions,False,1)\n",
    "plt.title(title)\n",
    "PlotErrors(resolutions,errors)\n",
    "savefig(fig,\"MongeAmpereSB0_Piecewise.pdf\")"
   ]
  },
  {
   "cell_type": "markdown",
   "metadata": {},
   "source": [
    "If one rotates the domain, the error is bounded, and does not converge to zero. It is dictated by the number of superbases used."
   ]
  },
  {
   "cell_type": "code",
   "execution_count": 55,
   "metadata": {},
   "outputs": [],
   "source": [
    "fig=plt.figure()\n",
    "errors,title = MongeAmpereErrors(SB0,resolutions,True,1)\n",
    "plt.title(title)\n",
    "PlotErrors(resolutions,errors)\n",
    "errors_MongeAmpereSB0_Piecewise_Rotated = errors\n",
    "savefig(fig,\"MongeAmpereSB0_Piecewise_Rotated.pdf\")"
   ]
  },
  {
   "cell_type": "code",
   "execution_count": 56,
   "metadata": {},
   "outputs": [],
   "source": [
    "fig=plt.figure()\n",
    "errors,title = MongeAmpereErrors(SB1,resolutions,True,1)\n",
    "plt.title(title)\n",
    "PlotErrors(resolutions,errors)\n",
    "errors_MongeAmpereSB1_Piecewise_Rotated = errors\n",
    "savefig(fig,\"MongeAmpereSB1_Piecewise_Rotated.pdf\")"
   ]
  },
  {
   "cell_type": "code",
   "execution_count": 57,
   "metadata": {},
   "outputs": [],
   "source": [
    "fig=plt.figure()\n",
    "errors,title = MongeAmpereErrors(SB2,resolutions,True,1)\n",
    "plt.title(title)\n",
    "PlotErrors(resolutions,errors)\n",
    "errors_MongeAmpereSB2_Piecewise_Rotated = errors\n",
    "savefig(fig,\"MongeAmpereSB2_Piecewise_Rotated.pdf\")"
   ]
  },
  {
   "cell_type": "code",
   "execution_count": 58,
   "metadata": {},
   "outputs": [],
   "source": [
    "SB3=Selling.SuperbasesForConditioning(10**2)"
   ]
  },
  {
   "cell_type": "code",
   "execution_count": 59,
   "metadata": {},
   "outputs": [],
   "source": [
    "fig=plt.figure()\n",
    "errors,title = MongeAmpereErrors(SB3,resolutions,True,1)\n",
    "plt.title(title)\n",
    "PlotErrors(resolutions,errors)\n",
    "errors_MongeAmpereSB3_Piecewise_Rotated = errors\n",
    "savefig(fig,\"MongeAmpereSB3_Piecewise_Rotated.pdf\")"
   ]
  },
  {
   "cell_type": "code",
   "execution_count": 60,
   "metadata": {},
   "outputs": [],
   "source": [
    "# Overlay of the results with different superbases.\n",
    "fig=plt.figure()\n",
    "plt.title(\"Monge-Ampere, 2, 6 and 10 superbases, Singular solution, rotated\")\n",
    "plt.loglog(resolutions,errors_MongeAmpereSB0_Piecewise_Rotated[:,2],label=r\"$L^\\infty$, 2 superbases\",linestyle='--',color='C0')\n",
    "plt.loglog(resolutions,errors_MongeAmpereSB1_Piecewise_Rotated[:,2],label=r\"$L^\\infty$, 6 superbases\",linestyle='-.',color='C0')\n",
    "#plt.loglog(resolutions,errors_MongeAmpereSB2_Piecewise_Rotated[:,2],label=r\"$L^\\infty$, 10 superbases\",linestyle='-',color='C0')\n",
    "plt.loglog(resolutions,errors_MongeAmpereSB3_Piecewise_Rotated[:,2],label=r\"$L^\\infty$, 22 superbases\",linestyle='-',color='C0')\n",
    "\n",
    "\n",
    "plt.loglog(resolutions,errors_MongeAmpereSB0_Piecewise_Rotated[:,0],label=r\"$L^1$, 2 superbases\",linestyle='--',color='C1')\n",
    "plt.loglog(resolutions,errors_MongeAmpereSB1_Piecewise_Rotated[:,0],label=r\"$L^1$, 6 superbases\",linestyle='-.',color='C1')\n",
    "#plt.loglog(resolutions,errors_MongeAmpereSB2_Piecewise_Rotated[:,0],label=r\"$L^1$, 10 superbases\",linestyle='-',color='C1')\n",
    "plt.loglog(resolutions,errors_MongeAmpereSB3_Piecewise_Rotated[:,0],label=r\"$L^1$, 22 superbases\",linestyle='-',color='C1')\n",
    "\n",
    "\n",
    "plt.loglog(resolutions,0.07*resolutions**-2.,linestyle=':',color='C2')\n",
    "\n",
    "plt.xlabel('resolution'); plt.ylabel('error')\n",
    "plt.legend(loc='lower left')\n",
    "\n",
    "savefig(fig,\"MongeAmpereSB013_Piecewise_Rotated.pdf\")"
   ]
  },
  {
   "cell_type": "code",
   "execution_count": null,
   "metadata": {},
   "outputs": [],
   "source": []
  }
 ],
 "metadata": {
  "kernelspec": {
   "display_name": "Python 3 (ipykernel)",
   "language": "python",
   "name": "python3"
  },
  "language_info": {
   "codemirror_mode": {
    "name": "ipython",
    "version": 3
   },
   "file_extension": ".py",
   "mimetype": "text/x-python",
   "name": "python",
   "nbconvert_exporter": "python",
   "pygments_lexer": "ipython3",
   "version": "3.10.8"
  },
  "varInspector": {
   "cols": {
    "lenName": 16,
    "lenType": 16,
    "lenVar": 40
   },
   "kernels_config": {
    "python": {
     "delete_cmd_postfix": "",
     "delete_cmd_prefix": "del ",
     "library": "var_list.py",
     "varRefreshCmd": "print(var_dic_list())"
    },
    "r": {
     "delete_cmd_postfix": ") ",
     "delete_cmd_prefix": "rm(",
     "library": "var_list.r",
     "varRefreshCmd": "cat(var_dic_list()) "
    }
   },
   "types_to_exclude": [
    "module",
    "function",
    "builtin_function_or_method",
    "instance",
    "_Feature"
   ],
   "window_display": false
  }
 },
 "nbformat": 4,
 "nbformat_minor": 2
}