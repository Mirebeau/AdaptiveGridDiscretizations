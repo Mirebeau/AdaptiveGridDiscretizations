{
 "cells": [
  {
   "cell_type": "markdown",
   "metadata": {},
   "source": [
    "# Adaptive PDE discretizations on Cartesian grids\n",
    "## Volume : Reproducible research\n",
    "## Part : Convergence rates\n",
    "## Chapter : Eulerian discretizations of the eikonal equation"
   ]
  },
  {
   "cell_type": "markdown",
   "metadata": {},
   "source": [
    "In this notebook, we check the convergence rate of the HFM eikonal solver, when applied to Eulerian discretizations of eikonal equations, with a point source.\n",
    "Three cases are considered: Isotropic, Riemannian, and Tilted Transversely Isotropic (TTI) media.\n",
    "The discussion below is mostly irrelevant for Semi-Lagrangian schemes, which typically enjoy strict causality and are therefore more tolerant to perturbations introduced by the source factorization.\n",
    "\n",
    "**Takeaway message.** When computing the distance map from a *point source* in a *smooth medium*, using an *Eulerian scheme* for the eikonal equation solve with the *fast marching method*, one can *empirically* achieve a $O(h^{3/2})$ convergence rate error but not more. Note that all the words in italic are essential:\n",
    "* *Point source.* The distance map w.r.t a point source has a singularity, which is the main source of numerical error. Second order convergence can be achieved if the distance is computed from a smooth set instead of a point, for instance.\n",
    "* *Smooth medium.* If the domain is equipped with a non-smooth metric, or if obstacles are present, which is the case in many applications, then the contributions discussed below are not anymore the dominant sources of error.\n",
    "* *Eulerian scheme.* The alternative approach of semi-Lagrangian schemes allows to achieve second order, and even third order convergence rates in these conditions. A number of semi-Lagrangian schemes are implemented in the HFM library, covering the use cases considered below.\n",
    "* *Fast marching method.* The eulerian schemes implemented in the HFM library, when combined with source factorization, fail the causality property. (Although they are small perturbations of causal schemes.) As a result the FMM cannot solve the scheme exactly, and in principle second order accuracy may be restored if one could exactly solve the numerical scheme exactly. However doing this is non-trivial, even with an iterative method, since the second order schemes also fail the degenerate ellipticity property (stability).\n",
    "* *Empirical convergence rates.* Our convergence rate estimates are based on an informal analysis, and backed by numerical experiments. However, establishing guarantees on the convergence rate require an entirely different set of mathematical tools, and is usually limited to $O(\\sqrt{h})$ (half order convergence rate) which is far below the observed accuracy.\n",
    "\n",
    "**Semi-Lagrangian vs Eulerian discretizations of the eikonal equation.**\n",
    "In view of the discussions presented in this notebook, it may seem preferable to favor the use of semi-Lagrangian schemes when high accuracy is needed. In practice, replace `Isotropic2` and `Riemann2` models with the `Rander2` model which generalizes them both and uses a semi-Lagrangian discretization. Similarly, replace the `TTI2` model with the `Hooke2` model which generalizes it and uses a semi-Lagrangian discretization. There are however some reasons to study Eulerian schemes:\n",
    "- They are easier to implement, especially in three dimensions. In particular there is no `Rander3` model in the HFM library, and the `Hooke3` model is limited in terms of the anisotropy it can handle.\n",
    "- They are easier to port on the GPU. In particular, the GPU eikonal solver present in the agd library does not apply to the `Hooke` models (semi-lagrangian). It does handle the `Rander2` and `Rander3` models, but based on a different implementation (eulerian) than the HFM library (semi-lagrangian).\n",
    "\n",
    "See the notebooks [EikonalRate](EikonalRate.ipynb) and [HighAccuracy](../Notebooks_FMM/HighAccuracy.ipynb) for more comparisons of the accuracy of Eulerian vs semi-Lagrangian discretizations of the Eikonal PDE.\n",
    "\n",
    "**Multigrid techniques.**\n",
    "Another approach to achieve second order accuracy would involve running the fast marching method twice, first on a fine grid in a neighborhood of the seed, then on the full domain. This technique is a bit technical to put in place, and is not considered here."
   ]
  },
  {
   "cell_type": "markdown",
   "metadata": {},
   "source": [
    "[**Summary**](Summary.ipynb) of volume Reproducible research, this series of notebooks.\n",
    "\n",
    "[**Main summary**](../Summary.ipynb) of the Adaptive Grid Discretizations \n",
    "\tbook of notebooks, including the other volumes.\n",
    "\n",
    "# Table of contents\n",
    "  * [1. Discussion](#1.-Discussion)\n",
    "    * [1.1 Expected accuracy](#1.1-Expected-accuracy)\n",
    "    * [1.2 Test case construction](#1.2-Test-case-construction)\n",
    "  * [2. Isotropic metrics](#2.-Isotropic-metrics)\n",
    "    * [2.1 Constant medium](#2.1-Constant-medium)\n",
    "    * [2.2 Smooth medium](#2.2-Smooth-medium)\n",
    "    * [2.3 Convergence](#2.3-Convergence)\n",
    "  * [3 Riemannian metrics](#3-Riemannian-metrics)\n",
    "    * [3.1 Constant medium](#3.1-Constant-medium)\n",
    "    * [3.2 Smooth medium](#3.2-Smooth-medium)\n",
    "    * [3.3 Convergence rates](#3.3-Convergence-rates)\n",
    "  * [4. Tilted transversely isotropic metrics](#4.-Tilted-transversely-isotropic-metrics)\n",
    "    * [4.1 Constant medium](#4.1-Constant-medium)\n",
    "    * [4.2 Smooth medium](#4.2-Smooth-medium)\n",
    "    * [4.3 Convergence rate](#4.3-Convergence-rate)\n",
    "\n",
    "\n",
    "\n",
    "**Acknowledgement.** Some of the experiments presented in these notebooks are part of \n",
    "ongoing research with Ludovic Métivier and Da Chen.\n",
    "\n",
    "Copyright Jean-Marie Mirebeau, Centre Borelli, ENS Paris-Saclay, CNRS, University Paris-Saclay"
   ]
  },
  {
   "cell_type": "markdown",
   "metadata": {},
   "source": [
    "## 0. Importing the required libraries"
   ]
  },
  {
   "cell_type": "code",
   "execution_count": 2,
   "metadata": {},
   "outputs": [],
   "source": [
    "import sys; sys.path.insert(0,\"..\") # Allow import of agd from parent directory (useless if conda package installed)\n",
    "#from Miscellaneous import TocTools; print(TocTools.displayTOC('EikonalEulerian_Rate','Repro'))"
   ]
  },
  {
   "cell_type": "code",
   "execution_count": 3,
   "metadata": {},
   "outputs": [],
   "source": [
    "from agd import Metrics\n",
    "from agd.Metrics import Seismic\n",
    "from agd import Eikonal\n",
    "from agd import AutomaticDifferentiation as ad\n",
    "from agd import FiniteDifferences as fd\n",
    "from agd import LinearParallel as lp\n",
    "from agd.AutomaticDifferentiation.Optimization import norm as normlp"
   ]
  },
  {
   "cell_type": "code",
   "execution_count": 4,
   "metadata": {},
   "outputs": [],
   "source": [
    "import numpy as np\n",
    "from matplotlib import pyplot as plt"
   ]
  },
  {
   "cell_type": "code",
   "execution_count": 5,
   "metadata": {},
   "outputs": [],
   "source": [
    "def ReloadPackages():\n",
    "    from Miscellaneous.rreload import rreload\n",
    "    global HighAccuracy\n",
    "    [HighAccuracy] = rreload([HighAccuracy],rootdir='../..')"
   ]
  },
  {
   "cell_type": "markdown",
   "metadata": {},
   "source": [
    "## 0.1 Additional configuration"
   ]
  },
  {
   "cell_type": "code",
   "execution_count": 6,
   "metadata": {},
   "outputs": [],
   "source": [
    "large_instances = False"
   ]
  },
  {
   "cell_type": "code",
   "execution_count": 7,
   "metadata": {},
   "outputs": [],
   "source": [
    "dimx2max = 500 if large_instances else 200 \n",
    "dimx3max = 100 if large_instances else 50\n",
    "dimxn = 15 if large_instances else 8"
   ]
  },
  {
   "cell_type": "code",
   "execution_count": 8,
   "metadata": {},
   "outputs": [],
   "source": [
    "dimx2s = np.geomspace(10,dimx2max,dimxn)\n",
    "dimx3s = np.geomspace(10,dimx3max,dimxn)"
   ]
  },
  {
   "cell_type": "markdown",
   "metadata": {},
   "source": [
    "## 1. Discussion\n",
    "\n",
    "We first discuss the expected accuracy of the proposed numerical solver, and then the construction of the test cases."
   ]
  },
  {
   "cell_type": "markdown",
   "metadata": {},
   "source": [
    "### 1.1 Expected accuracy\n",
    "\n",
    "We present an *informal* discussion of the expected accuracy of the fast marching method when solving Eulerian discretizations of Eikonal PDEs.\n",
    "Let us emphasize that, as soon as the data is non-smooth, or some obstacles are present, which is common in a number of applications, the elements discussed below are not anymore the dominant sources of error.\n",
    "Note that establishing rigorous estimates for the convergence rate of the eikonal equation requires a different set of techniques than the informal arguments below, and that the best error estimates usually established are $O(h^{\\frac 1 2})$.)\n",
    "\n",
    "**Basic scheme.**\n",
    "The PDE discretization takes, in the Isotropic and Riemannian case, takes the form\n",
    "$$\n",
    "    \\sum_{1 \\leq i \\leq I} \\alpha_i \\max\\{0, u(x)-u(x-h e_i), u(x)-u(x+h e_i)\\}^2 = h^2.\n",
    "$$\n",
    "For isotropic metrics, one has $I=d$ the domain dimension, unit weights $\\alpha_i=1$, and offsets $(e_i)_{i=1}^d$ defined as the canonical basis.\n",
    "For Riemannian metrics, the weights and offsets are built adaptively. \n",
    "\n",
    "The above basic numerical scheme (with suitable boundary conditions) yields a coupled system of non-linear equations on the discretization grid $X_h = \\Omega \\cap h Z^d$, where $h>0$ is the grid scale and $\\Omega$ is the PDE domain. It can be solved in a single pass using the fast marching method thanks to the following properties.\n",
    "* *Degenerate ellipticity*: the scheme is a *non-decreasing* function of the finite differences $u(x)-u(y)$, $y \\in X_h\\setminus \\{x\\}$.\n",
    "* *Causality*: the scheme only depends on the *positive part* of the finite differences $u(x)-u(y)$, $y \\in X_h\\setminus \\{x\\}$.\n",
    "\n",
    "However, this numerical scheme is not very accurate, since it is only first order, and since it suffers from the singularity of the solution at the source point.\n",
    "\n",
    "**seed radius.**\n",
    "On a small neighborhood of the seed point, and in view of the singularity of the solution, it is often preferable to fix the values rather than try to compute them via a numerical scheme. By default, the HFM library defines this region as a disk, whose radius is referred to as the *seed radius*. We distinguish between the absolute seed radius $r$, and the `seedRadius` parameter of the HFM library which is measured in pixels. They are tied by the relation $r = h\\times $`seedRadius`.\n",
    "\n",
    "Over the seed radius, the following approximation of the solution is used:\n",
    "$$\n",
    "    u_{\\mathrm{ref}}(x) = \\frac 1 2 (N_0(x)+N_x(x)),\n",
    "$$\n",
    "assuming the seed point located at the origin, and where $N_x$ denotes the metric at $x$.\n",
    "This approximation is third order accurate\n",
    "$$\n",
    "    u_{\\mathrm{ref}}(x) - u(x) = O(\\|x\\|^3).\n",
    "$$\n",
    "\n",
    "In *multigrid* techniques the reference solution $u_{\\mathrm{ref}}$ is not produced by an analytic expression, but is the result of a numerical computation on a fine grid restricted in a neighborhood of the origin. This approach is somewhat more technical to put in place, but if done correctly should allow to achieve second order accuracy at a reasonable cost.\n",
    "\n",
    "**Source factored scheme.**\n",
    "The singularity of the solution at the seed point is the source of substantial numerical error, which can be greatly reduced thanks to a technique known as source factorization. The scheme is replaced with \n",
    "$$\n",
    "    \\sum_{1 \\leq i \\leq I} \\alpha_i \\max\\{0, u(x)-u(x-h e_i)+\\rho_i^{+h}, u(x)-u(x+h e_i)+\\rho_i^{-h}\\}^2 = h^2.\n",
    "$$\n",
    "where we denoted \n",
    "$$\n",
    "    \\rho_i^{\\pm h} := \\pm h <\\nabla u_*(x),e_i> - \\big( u_*(x)-u_*(x\\pm h e_i) \\big),\n",
    "$$\n",
    "and where $u_*$ is a function that has the same singularity as the solution $u$ at the seed point, and that can be efficiently evaluated numerically.\n",
    "A consistency analysis shows that, if $u_*$ obeys the eikonal equation of interest, then it is the exact solution of the scheme.\n",
    "\n",
    "The above source factored numerical scheme is *degenerate elliptic*, hence can be solved with the iterative methods such as fast-sweeping, AGSI, FIM (cite your preferred variant) or the GPU-based eikonal solved included in the agd library. \n",
    "\n",
    "However the source factored scheme is **not** *causal*, due to the addition of $\\rho_i^\\pm$ to the finite differences, hence it cannot be solved exactly with the fast marching method. More precisely, issues arise when the scheme solution satisfies $u(x) < u(x-he_i)$ but $u(x)-u(x-h e_i) + \\rho_i^{+h} > 0$ (and likewise if $u(x) < u(x+he_i)$ but $u(x)-u(x+h e_i) + \\rho_i^{-h} > 0$). Since the successive solution values solved by the Fast Marching Method (FMM) are in increasing order $u(x_0) \\leq u(x_1) \\leq ...$, the FMM cannot use $u(x-h e_i)$ when solving for $u(x)$, even though the corresponding contribution $u(x)-u(x-h e_i) + \\rho_i^{+h}$ is positive (note that it is upper bounded by $\\rho_i^{+h}$).\n",
    "\n",
    "A Taylor expansion, assuming that $u_*$ is smooth except for a singularity at $0$ and is $1$-homogeneous, shows that introduced by the Fast marching method in the situation discussed in the previous paragraph is \n",
    "$$\n",
    "    \\rho_i^{\\pm h} = O(h^2 / \\|x\\|).\n",
    "$$\n",
    "Such errors accumulate along the geodesic paths, with an overall contribution $O(h |\\ln r|)$ to the global error where $r$ is the seed radius.\n",
    "Balancing the two sources of error\n",
    "$$\n",
    "    \\mathrm{error}(h,r) = h |\\ln r| + r^3\n",
    "$$\n",
    "suggests that $r = \\sqrt[3]{h}$ is optimal (up to constant factors). Note however that the simpler choice $r=O(h)$ yields a comparable overall error $O(h |\\ln h|)$.\n",
    "\n",
    "**Second order scheme.**\n",
    "In order to achieve even greater accuracy, second order finite differences may be introduced in the scheme. They are obtained with the second order correction\n",
    "$$\n",
    "    \\big(u(x)-u(x-h e_i)\\big) + \\frac 1 2 \\big(u(x)-2 u(x-he_i)+u(x-2 h e_i)\\big),\n",
    "$$\n",
    "and the source factorization correction\n",
    "$$\n",
    "    \\rho_i^{+ h} := h <\\nabla u_*(x),e_i> - \\big(u_*(x)-u_*(x- h e_i)\\big) - \\frac 1 2 \\big(u_*(x)-2 u_*(x-he_i)+u_*(x-2 h e_i)\\big),\n",
    "$$\n",
    "and likewise for $\\rho_i^{-h}$ and the other sided finite difference.\n",
    "\n",
    "Due to the finite differences modification, the numerical scheme looses the *degenerate ellipticity* property, in other words all stability. As a result it cannot be solved as-is by either the fast marching method or an iterative method. Instead the second order correction is activated or deactivated depending on the local behavior of the solution as it is solved, which is easiest done with the FMM. There is no theoretical guarantee that second order convergence is achieved, but the method is empirically not useless. \n",
    "\n",
    "Because causality is lost, the strict ordering $u(x_0) \\leq u(x_1) \\leq ...$ of the FMM local solves introduces as before errors of magnitude $\\rho_i^{\\pm h}$. A Taylor expansion yields\n",
    "$$\n",
    "    \\rho_i^{\\pm h} = O(h^3 / \\|x\\|^2).\n",
    "$$\n",
    "Again such errors accumulate along the geodesic paths, with an overall contribution $O(h^2/r)$ to the global error where $r$ is the seed radius. \n",
    "\n",
    "Balancing the two contributions, we find that the overall error\n",
    "$$\n",
    "    \\mathrm{error}(h,r) = \\frac{h^2} r + r^3\n",
    "$$\n",
    "attains its minimum $\\approx h^\\frac 3 2$ for $r = \\sqrt h$, up to constant factors. This falls short of second order accuracy.\n",
    "\n",
    "**Envelope of schemes.**\n",
    "The Tilted transversely isotropic scheme takes the form \n",
    "$$\n",
    "    \\max_{t \\in [0,1]} \n",
    "    \\sum_{1 \\leq i \\leq I} \\alpha_i^t \\max\\{0, u(x)-u(x-h e_i^t), u(x)-u(x+h e_i^t)\\}^2 = h^2.\n",
    "$$\n",
    "(with possibly the max replaced with a $\\min$). In this form, the scheme is degenerate elliptic and causal. The previously discussed modifications related to source factorization and second order finite differences are applicable, but the focus of this paragraph is on the dependency w.r.t the parameter $t\\in [0,1]$.\n",
    "\n",
    "\n",
    "There are two approaches to implementing the optimization over $t \\in [0,1]$\n",
    "* *Finite sampling.* \n",
    "Introduce $K$ equispaced points in the interval, namely $t_k = k/(K-1)$, $0 \\leq k \\leq K$, and optimize over those. A systematic error is introduced in the solution, which is $O(1/K^2)$ overall under standard assumptions.\n",
    "* *Full optimization.*\n",
    "Note that this may sound like an overcomplicated approach, but is does work in practice.\n",
    "For the model of interest, one can show that the interval $[0,1]$ can be split in finitely many sub-intervals with endpoints $0 = t_0 < t_1 \\cdots < t_N = 1$, where the coefficients $t \\mapsto \\alpha_i^t$ are smooth and the offsets $t \\mapsto e_i^t$ are constant. Furthermore one can show that the scheme numerical expression has *no spurious extrema* in $[t_i,t_{i+1}]$, $0 \\leq i < N$. Thus one can optimize over $t \\in [0,1]$ up to machine precision using e.g. golden search (in the proposed implementation a mixture of golden search and of a Newton method).\n",
    "\n",
    "The two approaches are implemented, and can be selected when calling the HFM library. On the CPU *finite sampling* approach was mostly intended for debugging purposes, and the *full optimization* is the default. On the GPU, concerns about thread divergence led us to implement the *finite sampling* approach only."
   ]
  },
  {
   "cell_type": "markdown",
   "metadata": {},
   "source": [
    "### 1.2 Test case construction\n",
    "\n",
    "Our test case is obtained by applying a diffeomorphism to a domain equipped with a constant metric.\n",
    "The chosen diffeomorphism is known as a *special conformal transformation*, meaning that is preserves angles locally, allowing to use it in the isotropic case as well. The following test case also applies in dimension three, with minor modifications."
   ]
  },
  {
   "cell_type": "code",
   "execution_count": 9,
   "metadata": {},
   "outputs": [],
   "source": [
    "def SPCT(x,b):\n",
    "    \"\"\"Special conformal transformation, with singularity at b/|b|^2\"\"\"\n",
    "    b = fd.as_field(b,x.shape[1:])\n",
    "    x2,xb,b2 = [lp.dot_VV(a,b) for a,b in [(x,x),(x,b),(b,b)]]\n",
    "    return (x-x2*b)/(1-2*xb+x2*b2)\n",
    "\n",
    "ϕ = lambda x : SPCT(x,[0.1,0.2]) # Our diffomorphism"
   ]
  },
  {
   "cell_type": "code",
   "execution_count": 10,
   "metadata": {},
   "outputs": [],
   "source": [
    "aX = np.linspace(-1,1,endpoint=True)\n",
    "X = ad.array(np.meshgrid(aX,aX,indexing='ij'))\n",
    "\n",
    "boundary = np.stack( [X[:,:,0],X[:,-1,:],X[:,::-1,-1],X[:,0,::-1]] ,axis=-1)\n",
    "\n",
    "plt.figure(figsize=(12,5))\n",
    "plt.subplot(1,2,1); plt.axis('equal'); plt.title('Original boundary')\n",
    "plt.plot(*boundary)\n",
    "\n",
    "plt.subplot(1,2,2); plt.axis('equal'); plt.title('Transformed boundary')\n",
    "plt.plot(*ϕ(boundary));"
   ]
  },
  {
   "cell_type": "code",
   "execution_count": 11,
   "metadata": {},
   "outputs": [],
   "source": [
    "def test_accuracy(dimx,norm,ϕ=None,seedpx=None,boundarypx=None,traits=None):\n",
    "    \"\"\"\n",
    "    Test the accuracy of the HFM library on a synthetic problem in [-1,1]^d\n",
    "    Inputs : \n",
    "        - dimx. Dimension of the domain, along any axis.\n",
    "        - norm. A single norm.\n",
    "        - ϕ. A diffeomorphism of the domain.\n",
    "        - seedpx. Seed position, from center, in pixels.\n",
    "        - boundarypx. Points to be ignored on the boundary when computing error, in pixels.\n",
    "        - traits. Additional input to the HFM library.\n",
    "    \"\"\"\n",
    "    vdim=norm.vdim\n",
    "    hfmIn = Eikonal.dictIn({\n",
    "        'model':norm.model_HFM(),\n",
    "        'exportValues':True,\n",
    "        'verbosity':0,\n",
    "        'seedRadius':np.sqrt(dimx/2), # Spread seed values, over optimal radius r=sqrt(h)\n",
    "        'factoringRadius':-1, # Factorization over the whole domain\n",
    "        'order':2, # second order scheme\n",
    "    })\n",
    "    if traits is not None: hfmIn.update(traits)\n",
    "    hfmIn.SetRect(([-1,1],)*vdim,dimx=dimx,sampleBoundary=True)\n",
    "    h = hfmIn['gridScale']\n",
    "    if seedpx is None: hfmIn['seed'] = (0,)*vdim\n",
    "    else: hfmIn['seed'] = ad.array(seedpx)*h\n",
    "    \n",
    "    if ϕ is None: ϕ = lambda x : x # Identity diffeomorphism by default.\n",
    "    X = hfmIn.Grid()\n",
    "    seed = fd.as_field(hfmIn['seed'],hfmIn.shape)\n",
    "    exact_solution = norm.norm(ϕ(X)-ϕ(seed))\n",
    "    \n",
    "    X_ad = ad.Dense.identity(constant=X,shape_free=(2,))\n",
    "    Jacϕ = ϕ(X_ad).gradient().swapaxes(0,1)\n",
    "    if isinstance(norm,Metrics.Isotropic) or isinstance(norm,Seismic.Hooke): \n",
    "        # Assuming a conformal mapping, otherwise inconsistent\n",
    "        α = normlp(Jacϕ,axis=(0,1),ord=2)/np.sqrt(vdim) # Scaling\n",
    "        R = Jacϕ/α # Rotation\n",
    "        hfmIn['metric'] = norm.with_cost(α).rotate(lp.transpose(R))\n",
    "    else: hfmIn['metric'] = norm.inv_transform(Jacϕ)\n",
    "    \n",
    "    hfmOut = hfmIn.Run()\n",
    "    \n",
    "    error = exact_solution - hfmOut['values'] #Optionally erase error on boundary \n",
    "    if boundarypx is not None: error[normlp(X,ord=np.inf,axis=0)>=1-boundarypx*h]=0 \n",
    "        \n",
    "    return normlp(error,ord=1,averaged=True),normlp(error,ord=np.inf),error,hfmIn, hfmOut"
   ]
  },
  {
   "cell_type": "markdown",
   "metadata": {},
   "source": [
    "## 2. Isotropic metrics\n",
    "\n",
    "Isotropic metrics are locally proportionnal to the Euclidean metric. Isotropic fast marching dates back to the works of Rouy (1992), Tsitsilikis (1995), and Sethian (1996)."
   ]
  },
  {
   "cell_type": "code",
   "execution_count": 12,
   "metadata": {},
   "outputs": [],
   "source": [
    "norm = Metrics.Isotropic(1,vdim=2)"
   ]
  },
  {
   "cell_type": "markdown",
   "metadata": {},
   "source": [
    "### 2.1 Constant medium\n",
    "\n",
    "When the metric is constant, source factorization is activated, and the seed is in the discretization grid, the solution can be reproduced exactly."
   ]
  },
  {
   "cell_type": "code",
   "execution_count": 13,
   "metadata": {},
   "outputs": [],
   "source": [
    "assert test_accuracy(101,norm)[1] < 1e-13 # Exact reproduction, order 2 with source factorization\n",
    "assert test_accuracy(101,norm,traits={'order':1})[1] < 1e-13 # Exact reproduction, order 1 with source factorization"
   ]
  },
  {
   "cell_type": "markdown",
   "metadata": {},
   "source": [
    "However this only happens *by chance*, and exact reproduction is lost as soon as the seed point is not a grid point. This is because the scheme is non-causal, and the FMM only solves it approximately. An iterative scheme would yield exact reproduction. The error is small nonetheless."
   ]
  },
  {
   "cell_type": "code",
   "execution_count": 14,
   "metadata": {},
   "outputs": [],
   "source": [
    "_,error_linf_cst,error,hfmIn,_ = test_accuracy(100,norm)\n",
    "assert error_linf_cst<3e-4 # Very small but non-vanishing error, because scheme is not exactly solver"
   ]
  },
  {
   "cell_type": "markdown",
   "metadata": {},
   "source": [
    "Numerical error is largest along the axes."
   ]
  },
  {
   "cell_type": "code",
   "execution_count": 15,
   "metadata": {},
   "outputs": [],
   "source": [
    "plt.title('Distribution of the error'); plt.axis('equal')\n",
    "plt.contourf(*hfmIn.Grid(),error); plt.colorbar();"
   ]
  },
  {
   "cell_type": "markdown",
   "metadata": {},
   "source": [
    "If source factorization is not activated, then the numerical error is an order of magnitude larger. "
   ]
  },
  {
   "cell_type": "code",
   "execution_count": 16,
   "metadata": {},
   "outputs": [],
   "source": [
    "_,error_linf_nofact,_,_,_ = test_accuracy(100,norm,traits={'factoringRadius':0})"
   ]
  },
  {
   "cell_type": "code",
   "execution_count": 17,
   "metadata": {},
   "outputs": [
    {
     "data": {
      "text/plain": [
       "9.807655242731178"
      ]
     },
     "execution_count": 17,
     "metadata": {},
     "output_type": "execute_result"
    }
   ],
   "source": [
    "error_linf_nofact/error_linf_cst"
   ]
  },
  {
   "cell_type": "markdown",
   "metadata": {},
   "source": [
    "### 2.2 Smooth medium\n",
    "\n",
    "If the medium is not smooth, then the exact solution is not reproduced exactly by the numerical scheme, as could be expected"
   ]
  },
  {
   "cell_type": "code",
   "execution_count": 20,
   "metadata": {},
   "outputs": [
    {
     "name": "stdout",
     "output_type": "stream",
     "text": [
      "Linfty error :  0.00016827677391084706\n"
     ]
    }
   ],
   "source": [
    "_,error_linf,error,hfmIn,hfmOut = test_accuracy(100,norm,ϕ=ϕ)\n",
    "print(\"Linfty error : \",error_linf)\n",
    "assert error_linf < 3e-4"
   ]
  },
  {
   "cell_type": "markdown",
   "metadata": {},
   "source": [
    "Recall that the metric in the domain $[-1,1]^2$ is obtained as the pull back of a constant metric in via the diffeomorphism $\\phi$.\n",
    "In the transformed domain, the solution is thus the Euclidean norm."
   ]
  },
  {
   "cell_type": "code",
   "execution_count": 21,
   "metadata": {},
   "outputs": [],
   "source": [
    "X = hfmIn.Grid()\n",
    "\n",
    "plt.figure(figsize=(12,5))\n",
    "plt.subplot(1,2,1); plt.axis('equal'); plt.title(\"Solution in original domain\")\n",
    "plt.contourf(*X,hfmOut['values'])\n",
    "\n",
    "plt.subplot(1,2,2); plt.axis('equal'); plt.title(\"Solution in transformed domain\")\n",
    "plt.contourf(*ϕ(X),hfmOut['values']);"
   ]
  },
  {
   "cell_type": "markdown",
   "metadata": {},
   "source": [
    "The optimal choice of `seedRadius` reflects a compromise between several types of errors. For the second order scheme, an educated guess is to use the absolute seed radius $r=\\sqrt h$ where $h$ is the grid scale. For the first order scheme, $r=\\sqrt[3]{h}$ would be optimal, but we do not expect much sensitivity since $r=2h$ yields a similar convergence rate. Recall that the corresponding parameter of the HFM library is measured in pixels, in other words $r = h\\times $`seedRadius`."
   ]
  },
  {
   "cell_type": "code",
   "execution_count": 22,
   "metadata": {},
   "outputs": [
    {
     "name": "stdout",
     "output_type": "stream",
     "text": [
      "Second order, suggested seedRadius, in pixels  7.035623639735144\n",
      "First order, suggested seedRadius, in pixels  13.481456020613523\n"
     ]
    }
   ],
   "source": [
    "h = hfmIn['gridScale']\n",
    "print(\"Second order, suggested seedRadius, in pixels \", np.sqrt(h)/h)\n",
    "print(\"First order, suggested seedRadius, in pixels \", np.power(h,1/3)/h)"
   ]
  },
  {
   "cell_type": "markdown",
   "metadata": {},
   "source": [
    "Numerical experiments confirm that the scaling $r=\\sqrt h$ is appropriate for the second order scheme, since or larger values yield larger errors in this example."
   ]
  },
  {
   "cell_type": "code",
   "execution_count": 23,
   "metadata": {},
   "outputs": [],
   "source": [
    "plt.title(\"Order 2 : Linfty error as a function of seedRadius\")\n",
    "\n",
    "seedRadii = range(2,12)\n",
    "errors_linf_seedRadii = [test_accuracy(100,norm,ϕ=ϕ,traits={'seedRadius':seedRadius})[1] for seedRadius in seedRadii]\n",
    "\n",
    "plt.plot(seedRadii,errors_linf_seedRadii)\n",
    "plt.xlabel(\"seed radius\")\n",
    "plt.ylabel(\"numerical error\");"
   ]
  },
  {
   "cell_type": "markdown",
   "metadata": {},
   "source": [
    "In the first order case, or educated guess $r=\\sqrt[3]{h}$ is again optimal, but the sensitivity to this parameter is very small, just as we expected."
   ]
  },
  {
   "cell_type": "code",
   "execution_count": 24,
   "metadata": {},
   "outputs": [],
   "source": [
    "plt.title(\"Order 1 : Linfty error as a function of seedRadius\")\n",
    "\n",
    "seedRadii = range(6,20)\n",
    "errors_linf_seedRadii = [test_accuracy(100,norm,ϕ=ϕ,traits={'seedRadius':seedRadius,'order':1})[1] for seedRadius in seedRadii]\n",
    "\n",
    "plt.plot(seedRadii,errors_linf_seedRadii)\n",
    "plt.xlabel(\"seed radius\")\n",
    "plt.ylabel(\"numerical error\");"
   ]
  },
  {
   "cell_type": "markdown",
   "metadata": {},
   "source": [
    "### 2.3 Convergence\n",
    "\n",
    "We expect the convergence rate $O(h^{-3/2})$ for the scheme equipped with second order finite differences, and using the suggested seed radius $r = \\sqrt h$. This is confirmed by numerical experiments."
   ]
  },
  {
   "cell_type": "code",
   "execution_count": 33,
   "metadata": {},
   "outputs": [],
   "source": [
    "errors = [test_accuracy(dimx,norm,ϕ=ϕ)[:2] for dimx in dimx2s]"
   ]
  },
  {
   "cell_type": "code",
   "execution_count": 37,
   "metadata": {},
   "outputs": [],
   "source": [
    "plt.title(\"Numerical error for the second order scheme\"); plt.xlabel(\"dimx\"); plt.ylabel(\"error\")\n",
    "plt.loglog(dimx2s,errors)\n",
    "plt.loglog(dimx2s,dimx2s**-(3/2))\n",
    "plt.legend((\"L1\",\"LInf\",\"order 3/2\")); # Alternative caption : r\"$L^\\infty$\""
   ]
  },
  {
   "cell_type": "markdown",
   "metadata": {},
   "source": [
    "When using a seed radius $r=O(h)$, in otherwords a fixed `seedRadius` parameter, the convergence rate appears to be $h^2$ for large grid scales, but this convergence rate is not maintained at small grid scales. This is expected from our formal accuracy analysis."
   ]
  },
  {
   "cell_type": "code",
   "execution_count": 34,
   "metadata": {},
   "outputs": [],
   "source": [
    "errors_fixed_seedRadius = [test_accuracy(dimx,norm,ϕ=ϕ,traits={'seedRadius':3})[:2] for dimx in dimx2s]"
   ]
  },
  {
   "cell_type": "code",
   "execution_count": 42,
   "metadata": {},
   "outputs": [],
   "source": [
    "plt.figure(figsize=(14,5))\n",
    "\n",
    "plt.subplot(1,2,1)\n",
    "plt.title(\"Second order scheme, seed radius r=3h\")\n",
    "plt.loglog(dimx2s,errors_fixed_seedRadius)\n",
    "plt.loglog(dimx2s,dimx2s**-(3/2))\n",
    "plt.loglog(dimx2s,dimx2s**-2)\n",
    "plt.legend((\"L1\",\"LInf\",\"order 3/2\",\"order 2\")); plt.xlabel(\"dimx\"); plt.ylabel(\"error\")\n",
    "\n",
    "plt.subplot(1,2,2)\n",
    "plt.title(r\"Second order scheme, $r=3h$ and $r=\\sqrt{h}$\")\n",
    "plt.loglog(dimx2s,errors)\n",
    "plt.loglog(dimx2s,errors_fixed_seedRadius)\n",
    "plt.legend((r\"L1 $\\sqrt{h}$\",r\"LInf $\\sqrt{h}$\", r\"L1 $3h$\", r\"LInf $3h$\"));"
   ]
  },
  {
   "cell_type": "markdown",
   "metadata": {},
   "source": [
    "We expect the convergence rate $O(h |\\ln h|)$ for the scheme equipped with first order finite differences, and using either the (supposedly optimal) large seed radius $r=\\sqrt[3]{h}$ or the small radius $r=2h$.\n",
    "\n",
    "Numerical experiments confirm the expected convergence rate, and show extremely small sensitivity to the value of $r$. "
   ]
  },
  {
   "cell_type": "code",
   "execution_count": 271,
   "metadata": {},
   "outputs": [],
   "source": [
    "errors_largeRadius = [test_accuracy(dimx,norm,ϕ=ϕ,traits={'order':1,'seedRadius':np.power(dimx/2,1/3)})[:2] for dimx in dimx2s]\n",
    "errors_smallRadius = [test_accuracy(dimx,norm,ϕ=ϕ,traits={'order':1,'seedRadius':2})[:2] for dimx in dimx2s]"
   ]
  },
  {
   "cell_type": "code",
   "execution_count": 272,
   "metadata": {},
   "outputs": [],
   "source": [
    "plt.title(\"Numerical error for the second order scheme\")\n",
    "plt.loglog(dimx2s,errors_largeRadius)\n",
    "plt.loglog(dimx2s,errors_smallRadius)\n",
    "plt.loglog(dimx2s,dimx2s**-1)\n",
    "plt.legend((\"L1 large\",\"LInf large\",\"L1 small\",\"LInf small\",\"order 1\")); "
   ]
  },
  {
   "cell_type": "markdown",
   "metadata": {},
   "source": [
    "## 3 Riemannian metrics\n",
    "\n",
    "We reproduce similar experiments, but now introducing some elliptic anisotropy. (We use a modest anisotropy ratio here, in order to illustrate high accuracy, although the HFM handles much more pronounced anisotropies.)"
   ]
  },
  {
   "cell_type": "code",
   "execution_count": 366,
   "metadata": {},
   "outputs": [],
   "source": [
    "norm = Metrics.Riemann.from_diagonal((1,1/4)).rotate_by(np.pi/3)"
   ]
  },
  {
   "cell_type": "markdown",
   "metadata": {},
   "source": [
    "### 3.1 Constant medium\n",
    "\n",
    "Even in a constant medium, and with a seed located on a grid point, the exact solution is not exactly reconstructed. That is because the FMM cannot solve the scheme exactly due to the loss of causality. "
   ]
  },
  {
   "cell_type": "code",
   "execution_count": 367,
   "metadata": {},
   "outputs": [
    {
     "name": "stdout",
     "output_type": "stream",
     "text": [
      "LInf error :  3.4635347030520514e-05\n"
     ]
    }
   ],
   "source": [
    "_,error_linf,error,hfmIn,hfmOut = test_accuracy(101,norm,boundarypx=4)\n",
    "print(\"LInf error : \",error_linf)\n",
    "assert error_linf<1e-4"
   ]
  },
  {
   "cell_type": "code",
   "execution_count": 368,
   "metadata": {},
   "outputs": [],
   "source": [
    "X = hfmIn.Grid()\n",
    "plt.contourf(*X,error);"
   ]
  },
  {
   "cell_type": "markdown",
   "metadata": {},
   "source": [
    "Note that, in contrast, the FMM produces the exact solution when using a semi-lagrangian scheme (which is strictly causal)."
   ]
  },
  {
   "cell_type": "code",
   "execution_count": 303,
   "metadata": {},
   "outputs": [],
   "source": [
    "error_linf_semiLagrangian = test_accuracy(101,norm,boundarypx=4,traits={'model':'Rander2'})[1]\n",
    "assert error_linf_semiLagrangian<1e-12"
   ]
  },
  {
   "cell_type": "markdown",
   "metadata": {},
   "source": [
    "### 3.2 Smooth medium\n",
    "\n",
    "The anisotropy direction of the Riemannian metric varies over the domain, and the structure of the scheme - weights and offsets - varies from point to point."
   ]
  },
  {
   "cell_type": "code",
   "execution_count": 320,
   "metadata": {},
   "outputs": [
    {
     "name": "stdout",
     "output_type": "stream",
     "text": [
      "Linfty error :  0.0001802071486678436\n"
     ]
    }
   ],
   "source": [
    "_,error_linf,error,hfmIn,hfmOut = test_accuracy(100,norm,ϕ=ϕ,boundarypx=4)\n",
    "print(\"Linfty error : \",error_linf)\n",
    "assert error_linf < 3e-4"
   ]
  },
  {
   "cell_type": "code",
   "execution_count": 321,
   "metadata": {},
   "outputs": [],
   "source": [
    "X = hfmIn.Grid()\n",
    "\n",
    "plt.figure(figsize=(12,5))\n",
    "plt.subplot(1,2,1); plt.axis('equal'); plt.title(\"Solution in original domain\")\n",
    "plt.contourf(*X,hfmOut['values'])\n",
    "\n",
    "plt.subplot(1,2,2); plt.axis('equal'); plt.title(\"Solution in transformed domain\")\n",
    "plt.contourf(*ϕ(X),hfmOut['values']);"
   ]
  },
  {
   "cell_type": "markdown",
   "metadata": {},
   "source": [
    "For the second order scheme, a seed radius $r=\\sqrt h$, here $7$ pixels, is again optimal just as our educated guess predicted."
   ]
  },
  {
   "cell_type": "code",
   "execution_count": 322,
   "metadata": {},
   "outputs": [],
   "source": [
    "plt.title(\"Order 2 : Linfty error as a function of seedRadius\")\n",
    "\n",
    "seedRadii = range(1,12)\n",
    "errors_linf_seedRadii = [test_accuracy(100,norm,ϕ=ϕ,boundarypx=4,traits={'seedRadius':seedRadius})[1] for seedRadius in seedRadii]\n",
    "\n",
    "plt.plot(seedRadii,errors_linf_seedRadii)\n",
    "plt.xlabel(\"seed radius\")\n",
    "plt.ylabel(\"numerical error\");"
   ]
  },
  {
   "cell_type": "markdown",
   "metadata": {},
   "source": [
    "For the first order scheme, our educated guess $r=\\sqrt[3]{h}$, here $13.5$ pixels, is not precisely optimal but it is a safe value.\n",
    "(Note that the numerical error is here rather insensitive to the `seedRadius` parameter, unless it is too large, so using $r=2h$ could be an even safer choice.) "
   ]
  },
  {
   "cell_type": "code",
   "execution_count": 326,
   "metadata": {},
   "outputs": [],
   "source": [
    "plt.title(\"Order 1 : Linfty error as a function of seedRadius\")\n",
    "\n",
    "seedRadii = range(1,30)\n",
    "errors_linf_seedRadii = [test_accuracy(100,norm,ϕ=ϕ,boundarypx=4,traits={'seedRadius':seedRadius,'order':1})[1] for seedRadius in seedRadii]\n",
    "\n",
    "plt.plot(seedRadii,errors_linf_seedRadii)\n",
    "plt.xlabel(\"seed radius\")\n",
    "plt.ylabel(\"numerical error\");"
   ]
  },
  {
   "cell_type": "markdown",
   "metadata": {},
   "source": [
    "### 3.3 Convergence rates\n",
    "\n",
    "We observe the expected order $h^{3/2}$ convergence rate, when using the second order scheme with source factorization. Note that a thin boundary layer of `boundarypx` pixels is excluded from the error estimate."
   ]
  },
  {
   "cell_type": "code",
   "execution_count": 347,
   "metadata": {},
   "outputs": [],
   "source": [
    "dimx2s_ = dimx2s[2:] # Excluding excessively small resolutions (because boundary layer is excluded from error)\n",
    "errors = [test_accuracy(dimx,norm,ϕ=ϕ,boundarypx=4)[:2] for dimx in dimx2s_]"
   ]
  },
  {
   "cell_type": "code",
   "execution_count": 348,
   "metadata": {},
   "outputs": [],
   "source": [
    "plt.title(\"Numerical error for the second order scheme\")\n",
    "plt.loglog(dimx2s_,errors)\n",
    "plt.loglog(dimx2s_,dimx2s_**-(3/2))\n",
    "plt.legend((\"L1\",\"LInf\",\"order 3/2\")); "
   ]
  },
  {
   "cell_type": "markdown",
   "metadata": {},
   "source": [
    "The expected convergence rate is $O(h |\\ln h|)$ with the first order scheme and source factorization. The numerical experiments seem to confirm it,  but are not totall conclusive here."
   ]
  },
  {
   "cell_type": "code",
   "execution_count": 355,
   "metadata": {},
   "outputs": [],
   "source": [
    "errors = [test_accuracy(dimx,norm,ϕ=ϕ,boundarypx=3,traits={'order':1,'seedRadius':2})[:2] for dimx in dimx2s_]"
   ]
  },
  {
   "cell_type": "code",
   "execution_count": 356,
   "metadata": {},
   "outputs": [],
   "source": [
    "plt.title(\"Numerical error for the first order scheme\")\n",
    "plt.loglog(dimx2s_,errors)\n",
    "plt.loglog(dimx2s_,dimx2s_**-1)\n",
    "plt.legend((\"L1\",\"LInf\",\"order 1\")); "
   ]
  },
  {
   "cell_type": "markdown",
   "metadata": {},
   "source": [
    "## 4. Tilted transversely isotropic metrics\n",
    "\n",
    "Tilted transversely isotropic media are defined by a special kind of Finslerian metrics, whose unit ball locally can be described as the envelope of a one dimensional family of ellipses. The number of ellipses used in the numerical scheme can be controlled by the parameter `nmix` of the HFM library : 0 for an infinity of ellipses (default, based on countinuous optimization), or a positive value for a finite number of them."
   ]
  },
  {
   "cell_type": "code",
   "execution_count": 423,
   "metadata": {},
   "outputs": [],
   "source": [
    "norm = Seismic.TTI.mica[0].extract_xz().rotate_by(np.pi/3)"
   ]
  },
  {
   "cell_type": "markdown",
   "metadata": {},
   "source": [
    "### 4.1 Constant medium"
   ]
  },
  {
   "cell_type": "markdown",
   "metadata": {},
   "source": [
    "Similarly to the Riemannian case, the exact solution is not reproduced exactly due to the lack of causality of the scheme combined with the use of a fast marching method. The numerical error is quite small nevertheless."
   ]
  },
  {
   "cell_type": "code",
   "execution_count": 424,
   "metadata": {},
   "outputs": [
    {
     "name": "stdout",
     "output_type": "stream",
     "text": [
      "LInf error :  4.158346901539378e-07\n"
     ]
    }
   ],
   "source": [
    "_,error_linf,error,hfmIn,hfmOut = test_accuracy(101,norm,boundarypx=4)\n",
    "print(\"LInf error : \",error_linf)\n",
    "assert error_linf<1e-6"
   ]
  },
  {
   "cell_type": "code",
   "execution_count": 425,
   "metadata": {},
   "outputs": [],
   "source": [
    "X = hfmIn.Grid()\n",
    "\n",
    "plt.figure(figsize=(12,5))\n",
    "plt.subplot(1,2,1); plt.title('Solution'); plt.axis('equal'); \n",
    "plt.contourf(*X,hfmOut['values']);\n",
    "\n",
    "plt.subplot(1,2,2); plt.title('Numerical error'); plt.axis('equal'); \n",
    "plt.contourf(*X,error);"
   ]
  },
  {
   "cell_type": "markdown",
   "metadata": {},
   "source": [
    "Using a semi-Lagrangian scheme, which enjoys a strict causality property, allows the FMM to reproduce the solution exactly in a constant medium."
   ]
  },
  {
   "cell_type": "code",
   "execution_count": 393,
   "metadata": {},
   "outputs": [
    {
     "name": "stdout",
     "output_type": "stream",
     "text": [
      "LInf error :  2.4771851236948805e-14\n"
     ]
    }
   ],
   "source": [
    "norm_hooke = Seismic.Hooke.mica[0].extract_xz().rotate_by(np.pi/3)\n",
    "_,error_linf_semiLagrangian,error,hfmIn,hfmOut = test_accuracy(101,norm_hooke,boundarypx=4)\n",
    "print(\"LInf error : \",error_linf_semiLagrangian)\n",
    "assert error_linf_semiLagrangian<1e-12"
   ]
  },
  {
   "cell_type": "markdown",
   "metadata": {},
   "source": [
    "The Finslerian anisotropy of the norm is better approximated as as the number `nmix` of ellipses used increases. (Special value $0$ yields an infinity of ellipses.)"
   ]
  },
  {
   "cell_type": "code",
   "execution_count": 396,
   "metadata": {},
   "outputs": [],
   "source": [
    "plt.figure(figsize=(12,10))\n",
    "for i,nmix in enumerate([1,2,3,0]):\n",
    "    plt.subplot(2,2,1+i); plt.title(f'Solution, nmix={nmix}'); plt.axis('equal'); \n",
    "    _,_,_,_,hfmOut = test_accuracy(101,norm,boundarypx=4,traits={'nmix':nmix})\n",
    "    plt.contourf(*X,hfmOut['values']);"
   ]
  },
  {
   "cell_type": "markdown",
   "metadata": {},
   "source": [
    "### 4.2 Smooth medium"
   ]
  },
  {
   "cell_type": "code",
   "execution_count": 397,
   "metadata": {},
   "outputs": [
    {
     "name": "stdout",
     "output_type": "stream",
     "text": [
      "LInf error :  4.158346901539378e-07\n"
     ]
    }
   ],
   "source": [
    "_,error_linf,error,hfmIn,hfmOut = test_accuracy(101,norm,boundarypx=4)\n",
    "print(\"LInf error : \",error_linf)\n",
    "assert error_linf<1e-6"
   ]
  },
  {
   "cell_type": "code",
   "execution_count": 398,
   "metadata": {},
   "outputs": [],
   "source": [
    "X = hfmIn.Grid()\n",
    "\n",
    "plt.figure(figsize=(12,5))\n",
    "plt.subplot(1,2,1); plt.axis('equal'); plt.title(\"Solution in original domain\")\n",
    "plt.contourf(*X,hfmOut['values'])\n",
    "\n",
    "plt.subplot(1,2,2); plt.axis('equal'); plt.title(\"Solution in transformed domain\")\n",
    "plt.contourf(*ϕ(X),hfmOut['values']);"
   ]
  },
  {
   "cell_type": "markdown",
   "metadata": {},
   "source": [
    "In this case, our educated guess $r = \\sqrt h$ for the seed radius, a.k.a `seedRadius`$=7$ pixels, is slightly below the optimal value. "
   ]
  },
  {
   "cell_type": "code",
   "execution_count": 400,
   "metadata": {},
   "outputs": [],
   "source": [
    "plt.title(\"Order 2 : Linfty error as a function of seedRadius\")\n",
    "\n",
    "seedRadii = range(4,16)\n",
    "errors_linf_seedRadii = [test_accuracy(100,norm,ϕ=ϕ,boundarypx=4,traits={'seedRadius':seedRadius})[1] for seedRadius in seedRadii]\n",
    "\n",
    "plt.plot(seedRadii,errors_linf_seedRadii)\n",
    "plt.xlabel(\"seed radius\")\n",
    "plt.ylabel(\"numerical error\");"
   ]
  },
  {
   "cell_type": "markdown",
   "metadata": {},
   "source": [
    "Another parameter of interest is `nmix`. It is optimal to leave it to the $0$, but one may nevertheless explore how the number of ellipses impacts the numerical error. \n",
    "\n",
    "Let us make an educated guess: as discussed above, the numerical error due to the scheme and its FMM resolution scales like $h^{3/2}$, whereas the numerical error due to the number of ellipses scales like $\\mathrm{nmix}^{-2}$. An adequate value of `nmix` equates both sources of error, which happens for $\\mathrm{nmix} = h^{-3/4}$. Larger values of `nmix` are expected to be essentially useless (error related with `nmix` is not dominant anymore), whereas smaller values substantially increase the overall error."
   ]
  },
  {
   "cell_type": "code",
   "execution_count": 412,
   "metadata": {},
   "outputs": [
    {
     "name": "stdout",
     "output_type": "stream",
     "text": [
      "Educated guess of the cutoff value for `nmix`: 18.80301546543197\n"
     ]
    }
   ],
   "source": [
    "print(\"Educated guess of the cutoff value for `nmix`:\", hfmIn['gridScale']**(-3/4))"
   ]
  },
  {
   "cell_type": "markdown",
   "metadata": {},
   "source": [
    "The educated guess is surprisingly accurate, as illustrated by the following experiment."
   ]
  },
  {
   "cell_type": "code",
   "execution_count": 409,
   "metadata": {},
   "outputs": [],
   "source": [
    "nmixs = np.geomspace(1,500,10).astype(int)\n",
    "errors_linf_nmix = [test_accuracy(100,norm,ϕ=ϕ,boundarypx=4,traits={'nmix':nmix})[1] for nmix in nmixs]"
   ]
  },
  {
   "cell_type": "code",
   "execution_count": 410,
   "metadata": {},
   "outputs": [],
   "source": [
    "plt.title(\"Order 2 : Linfty error as a function of nmix\")\n",
    "plt.loglog(nmixs,errors_linf_nmix)\n",
    "plt.xlabel(\"nmix\")\n",
    "plt.ylabel(\"numerical error\");"
   ]
  },
  {
   "cell_type": "markdown",
   "metadata": {},
   "source": [
    "### 4.3 Convergence rate\n",
    "\n",
    "The expected convergence rate $h^{3/2}$ is attained with the second order scheme, and `nmix`$=0$."
   ]
  },
  {
   "cell_type": "code",
   "execution_count": 413,
   "metadata": {},
   "outputs": [],
   "source": [
    "dimx2s_ = dimx2s[2:] # Excluding excessively small resolutions (because boundary layer is excluded from error)\n",
    "errors = [test_accuracy(dimx,norm,ϕ=ϕ,boundarypx=4)[:2] for dimx in dimx2s_]"
   ]
  },
  {
   "cell_type": "code",
   "execution_count": 414,
   "metadata": {},
   "outputs": [],
   "source": [
    "plt.title(\"Numerical error for the second order scheme\")\n",
    "plt.loglog(dimx2s_,errors)\n",
    "plt.loglog(dimx2s_,dimx2s_**-(3/2))\n",
    "plt.legend((\"L1\",\"LInf\",\"order 3/2\")); "
   ]
  },
  {
   "cell_type": "markdown",
   "metadata": {},
   "source": [
    "Obviously using a fixed value of `nmix`, independetly of the grid scale, causes the error to stabilize beyond a certain gridscale $h$. (This is especially visible for the $L^\\infty$ error.)"
   ]
  },
  {
   "cell_type": "code",
   "execution_count": 421,
   "metadata": {},
   "outputs": [],
   "source": [
    "dimx2s_ = dimx2s[2:] # Excluding excessively small resolutions (because boundary layer is excluded from error)\n",
    "errors = [test_accuracy(dimx,norm,ϕ=ϕ,boundarypx=4,traits={'nmix':30})[:2] for dimx in dimx2s_]"
   ]
  },
  {
   "cell_type": "code",
   "execution_count": 422,
   "metadata": {},
   "outputs": [],
   "source": [
    "plt.title(\"Numerical error for the second order scheme\")\n",
    "plt.loglog(dimx2s_,errors)\n",
    "plt.loglog(dimx2s_,dimx2s_**-(3/2))\n",
    "plt.legend((\"L1\",\"LInf\",\"order 3/2\")); "
   ]
  },
  {
   "cell_type": "markdown",
   "metadata": {},
   "source": [
    "The first order scheme converges at first order, as expected."
   ]
  },
  {
   "cell_type": "code",
   "execution_count": 416,
   "metadata": {},
   "outputs": [],
   "source": [
    "errors = [test_accuracy(dimx,norm,ϕ=ϕ,boundarypx=3,traits={'order':1,'seedRadius':2})[:2] for dimx in dimx2s_]"
   ]
  },
  {
   "cell_type": "code",
   "execution_count": 417,
   "metadata": {},
   "outputs": [],
   "source": [
    "plt.title(\"Numerical error for the first order scheme\")\n",
    "plt.loglog(dimx2s_,errors)\n",
    "plt.loglog(dimx2s_,dimx2s_**-1)\n",
    "plt.legend((\"L1\",\"LInf\",\"order 1\")); "
   ]
  },
  {
   "cell_type": "code",
   "execution_count": null,
   "metadata": {},
   "outputs": [],
   "source": []
  }
 ],
 "metadata": {
  "kernelspec": {
   "display_name": "Python 3 (ipykernel)",
   "language": "python",
   "name": "python3"
  },
  "language_info": {
   "codemirror_mode": {
    "name": "ipython",
    "version": 3
   },
   "file_extension": ".py",
   "mimetype": "text/x-python",
   "name": "python",
   "nbconvert_exporter": "python",
   "pygments_lexer": "ipython3",
   "version": "3.10.8"
  },
  "varInspector": {
   "cols": {
    "lenName": 16,
    "lenType": 16,
    "lenVar": 40
   },
   "kernels_config": {
    "python": {
     "delete_cmd_postfix": "",
     "delete_cmd_prefix": "del ",
     "library": "var_list.py",
     "varRefreshCmd": "print(var_dic_list())"
    },
    "r": {
     "delete_cmd_postfix": ") ",
     "delete_cmd_prefix": "rm(",
     "library": "var_list.r",
     "varRefreshCmd": "cat(var_dic_list()) "
    }
   },
   "types_to_exclude": [
    "module",
    "function",
    "builtin_function_or_method",
    "instance",
    "_Feature"
   ],
   "window_display": false
  }
 },
 "nbformat": 4,
 "nbformat_minor": 4
}