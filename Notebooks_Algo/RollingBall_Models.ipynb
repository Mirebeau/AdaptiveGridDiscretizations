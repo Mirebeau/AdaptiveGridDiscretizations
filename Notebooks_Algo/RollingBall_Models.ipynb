{
 "cells": [
  {
   "cell_type": "markdown",
   "metadata": {},
   "source": [
    "# Adaptive PDE discretizations on Cartesian grids\n",
    "## Volume : Algorithmic tools\n",
    "## Part : Non holonomic metrics and curvature penalization\n",
    "## Chapter : Minimal path for a rolling ball"
   ]
  },
  {
   "cell_type": "markdown",
   "metadata": {},
   "source": [
    "In this notebook, we present a numerical solution to the rolling ball problem: find the optimal way to roll a ball on a surface, so that it reaches a given position and orientation. The main properties of this problem are as follows:\n",
    "* *High dimensional.* The configuration space of the system is 5 dimensional: three dimensions for the orientation of the ball, and two dimensions for its position on the surface. Arguably, 5 dimensions is (slightly past) the threshold where discretizations on uniform grids loose their relevance.\n",
    "* *Strongly anisotropic* The problem is of sub-Riemannian type, and its anisotropy is fully generic, not aligned with the axes of the discretization grid.\n",
    "\n",
    "The rolling ball problem admits numerous variants. One may for instance roll a ball along a one dimensional line, or on a more complex surface such as another ball.\n",
    "\n",
    "We do not solve any PDE in this notebook, but merely introduce the models and present the results of geodesic shooting."
   ]
  },
  {
   "cell_type": "markdown",
   "metadata": {},
   "source": [
    "[**Summary**](Summary.ipynb) of volume Algorithmic tools, this series of notebooks.\n",
    "\n",
    "[**Main summary**](../Summary.ipynb) of the Adaptive Grid Discretizations \n",
    "\tbook of notebooks, including the other volumes.\n",
    "\n",
    "# Table of contents\n",
    "  * [1. Description of the models](#1.-Description-of-the-models)\n",
    "    * [1.1 Conversions](#1.1-Conversions)\n",
    "    * [1.2 Action of a control on a state](#1.2-Action-of-a-control-on-a-state)\n",
    "    * [1.3 Commutators](#1.3-Commutators)\n",
    "    * [1.4 Ball models](#1.4-Ball-models)\n",
    "    * [1.5 Ball with support](#1.5-Ball-with-support)\n",
    "  * [2. Geodesic shooting](#2.-Geodesic-shooting)\n",
    "    * [2.1 The Riemannian ball](#2.1-The-Riemannian-ball)\n",
    "    * [2.2 The Reeds-Shepp ball](#2.2-The-Reeds-Shepp-ball)\n",
    "    * [2.3 Riemannian ball on the plane](#2.3-Riemannian-ball-on-the-plane)\n",
    "    * [2.4 Reeds-Shepp ball on the line](#2.4-Reeds-Shepp-ball-on-the-line)\n",
    "\n",
    "\n",
    "\n",
    "**Acknowledgement.** Some of the experiments presented in these notebooks are part of \n",
    "ongoing research with Ludovic Métivier and Da Chen.\n",
    "\n",
    "Copyright Jean-Marie Mirebeau, Centre Borelli, ENS Paris-Saclay, CNRS, University Paris-Saclay"
   ]
  },
  {
   "cell_type": "markdown",
   "metadata": {},
   "source": [
    "## 0. Importing the required libraries"
   ]
  },
  {
   "cell_type": "code",
   "execution_count": 1,
   "metadata": {},
   "outputs": [],
   "source": [
    "import sys; sys.path.insert(0,\"..\")\n",
    "#from Miscellaneous import TocTools; print(TocTools.displayTOC('RollingBall_Models','Algo'))"
   ]
  },
  {
   "cell_type": "code",
   "execution_count": 2,
   "metadata": {
    "tags": [
     "ExportCode"
    ]
   },
   "outputs": [],
   "source": [
    "from agd import AutomaticDifferentiation as ad\n",
    "from agd import LinearParallel as lp\n",
    "from agd import Metrics\n",
    "from agd import FiniteDifferences as fd\n",
    "from agd import Sphere as sp\n",
    "norm = ad.Optimization.norm"
   ]
  },
  {
   "cell_type": "code",
   "execution_count": 3,
   "metadata": {},
   "outputs": [],
   "source": [
    "import numpy as np; xp=np\n",
    "import scipy.linalg\n",
    "from scipy.integrate import odeint\n",
    "from matplotlib import pyplot as plt\n",
    "np.set_printoptions(edgeitems=30, linewidth=100000, \n",
    "    formatter=dict(float=lambda x: \"%5.3g\" % x))"
   ]
  },
  {
   "cell_type": "markdown",
   "metadata": {},
   "source": [
    "## 1. Description of the models"
   ]
  },
  {
   "cell_type": "code",
   "execution_count": 4,
   "metadata": {},
   "outputs": [],
   "source": [
    "ball_state = np.array([1,2,3])/4 # Some arbitrary state\n",
    "line_state  = np.concatenate((np.zeros(1),ball_state)) # Some arbitrary line-ball state\n",
    "plane_state = np.concatenate((np.zeros(2),ball_state)) # Some arbitrary plane-ball state"
   ]
  },
  {
   "cell_type": "markdown",
   "metadata": {},
   "source": [
    "### 1.1 Conversions\n",
    "\n",
    "The state of a ball is perfectly described by a rotation matrix, mapping some reference position to the current position.\n",
    "Following standard practice, we take advantage of the double cover of the rotation matrices by the quaternionic unit ball. \n",
    "The quaternionic unit ball, which is embedded in four-dimensional space, is itself parametrized from its three dimensional equatorial hyperplane. Additional detail is presented below.\n",
    "\n",
    "**Integration in the agd library.**\n",
    "The conversion utilities described in this section have been moved to the `agd.Sphere` module, for better reusability within other notebooks."
   ]
  },
  {
   "cell_type": "markdown",
   "metadata": {},
   "source": [
    "**Rotations and unit quaternions**\n",
    "\n",
    "We provide the mathematical context for completeness, but eventually the formulas $q\\mapsto R_q$ parametrizing rotations from unit quaternions are used as black boxes, with the caveat that $R_q = R_{-q}$.\n",
    "\n",
    "Let $H$ be the four-dimensional non-commutative field of quaternions. \n",
    "Introduce the unit sphere $S_4$\n",
    "$$\n",
    "    S_4 = \\{\\alpha + \\beta i + \\gamma j + \\delta k;\\ \\alpha^2+\\beta^2+\\gamma^2+\\delta^2=1\\}\n",
    "$$\n",
    "and the imaginary unit sphre $S_3$ defined as follows \n",
    "$$\n",
    "    S_3 = \\{\\beta i + \\gamma j + \\delta k;\\ \\beta^2+\\gamma^2+\\delta^2=1\\} = \\{q \\in S_4;\\ \\mathrm{Re}(q)=0\\}.\n",
    "$$\n",
    "\n",
    "It is known that any $q \\in S_4$ induces a rotation on $S_3$, by conjugacy:\n",
    "$$\n",
    "    R_q : z \\in S_3 \\mapsto q z q^{-1},\n",
    "$$\n",
    "and that $q \\in S_4 \\mapsto R_q \\in \\mathrm{SO}_3$ is a double cover, with $R_q = R_{-q}$ for all $q \\in S_4$."
   ]
  },
  {
   "cell_type": "code",
   "execution_count": 5,
   "metadata": {
    "tags": [
     "ExportCode"
    ]
   },
   "outputs": [],
   "source": [
    "rotation_from_quaternion = sp.rotation3_from_sphere3\n",
    "quaternion_from_rotation = sp.sphere3_from_rotation3"
   ]
  },
  {
   "cell_type": "code",
   "execution_count": 6,
   "metadata": {},
   "outputs": [
    {
     "name": "stdout",
     "output_type": "stream",
     "text": [
      "Help on function sphere3_from_rotation3 in module agd.Sphere:\n",
      "\n",
      "sphere3_from_rotation3(r)\n",
      "    Produces the unit quaternion, with positive real part, associated with a rotation.\n",
      "\n"
     ]
    }
   ],
   "source": [
    "help(quaternion_from_rotation)"
   ]
  },
  {
   "cell_type": "markdown",
   "metadata": {},
   "source": [
    "**Euclidean space and quaternions**\n",
    "\n",
    "Let $S_d\\subset R^{d+1}$ be the $d$-dimensional unit sphere. Then to any point $(0,e) \\in R \\times R^d$ of the equatorial plane we can associate a point of the sphere:\n",
    "$$\n",
    "    \\frac {(1-\\|e\\|^2,2 e)}{1+\\|e\\|^2}.\n",
    "$$\n",
    "This mapping is onto the sphere, except for the south pole. It is implemented in the next cell, as well as the reciproqual."
   ]
  },
  {
   "cell_type": "code",
   "execution_count": 7,
   "metadata": {
    "tags": [
     "ExportCode"
    ]
   },
   "outputs": [],
   "source": [
    "quaternion_from_euclidean = sp.sphere_from_plane\n",
    "euclidean_from_quaternion = sp.plane_from_sphere"
   ]
  },
  {
   "cell_type": "markdown",
   "metadata": {},
   "source": [
    "By composition, we can parametrize quaternions from euclidean space and conversely. The intermediate quaternion is kept for reference."
   ]
  },
  {
   "cell_type": "code",
   "execution_count": 8,
   "metadata": {
    "tags": [
     "ExportCode"
    ]
   },
   "outputs": [],
   "source": [
    "euclidean_from_rotation = sp.ball3_from_rotation3\n",
    "rotation_from_euclidean = sp.rotation3_from_ball3"
   ]
  },
  {
   "cell_type": "code",
   "execution_count": 9,
   "metadata": {},
   "outputs": [
    {
     "name": "stdout",
     "output_type": "stream",
     "text": [
      "Help on function ball3_from_rotation3 in module agd.Sphere:\n",
      "\n",
      "ball3_from_rotation3(r, qRef=None)\n",
      "    Produces an euclidean point from a rotation, \n",
      "    selecting in the intermediate step the quaternion \n",
      "    in the same hemisphere as qRef. (Defaults to southern.)\n",
      "\n"
     ]
    }
   ],
   "source": [
    "help(euclidean_from_rotation)"
   ]
  },
  {
   "cell_type": "code",
   "execution_count": 10,
   "metadata": {},
   "outputs": [
    {
     "name": "stdout",
     "output_type": "stream",
     "text": [
      "Help on function rotation3_from_ball3 in module agd.Sphere:\n",
      "\n",
      "rotation3_from_ball3(e)\n",
      "    Produces a rotation from an euclidean point. \n",
      "    Also returns the intermediate quaternion.\n",
      "\n"
     ]
    }
   ],
   "source": [
    "help(rotation_from_euclidean)"
   ]
  },
  {
   "cell_type": "code",
   "execution_count": 11,
   "metadata": {},
   "outputs": [],
   "source": [
    "def check(e):\n",
    "    r,q = rotation_from_euclidean(e)\n",
    "    assert np.allclose( norm(q,axis=0), 1.)\n",
    "    assert np.allclose(lp.dot_AA(lp.transpose(r),r),np.eye(3))\n",
    "    assert np.allclose(e,euclidean_from_rotation(r,q))"
   ]
  },
  {
   "cell_type": "code",
   "execution_count": 12,
   "metadata": {},
   "outputs": [],
   "source": [
    "check(ball_state) # One test for each hemisphere\n",
    "check(2*ball_state) "
   ]
  },
  {
   "cell_type": "markdown",
   "metadata": {},
   "source": [
    "**Antisymmetric matrices and their exponentials**"
   ]
  },
  {
   "cell_type": "code",
   "execution_count": 13,
   "metadata": {
    "tags": [
     "ExportCode"
    ]
   },
   "outputs": [],
   "source": [
    "def antisym(a,b,c):\n",
    "    z=np.zeros_like(a)\n",
    "    return ad.array([[z, -c, b], [c, z, -a], [-b, a, z]])\n",
    "\n",
    "def exp_antisym(a,b,c):\n",
    "    \"\"\"Matrix exponential of antisym(a,b,c).\n",
    "    Note : (a,b,c) is the axis of rotation.\"\"\"\n",
    "    s = ad.asarray(a**2+b**2+c**2)\n",
    "    s[s==0]=1e-20 # Same trick as in numpy's sinc function ...\n",
    "    sq = np.sqrt(s)\n",
    "    co,si = np.cos(sq),np.sin(sq)\n",
    "    cosc,sinc = (1-co)/s,si/sq    \n",
    "    return ad.array([\n",
    "        [co+cosc*a**2, cosc*a*b-sinc*c, cosc*a*c+sinc*b],\n",
    "        [cosc*a*b+sinc*c, co+cosc*b**2, cosc*b*c-sinc*a],\n",
    "        [cosc*a*c-sinc*b, cosc*b*c+sinc*a, co+cosc*c**2]])"
   ]
  },
  {
   "cell_type": "code",
   "execution_count": 14,
   "metadata": {},
   "outputs": [],
   "source": [
    "assert np.allclose(exp_antisym(1,2,3),scipy.linalg.expm(antisym(1,2,3)))"
   ]
  },
  {
   "cell_type": "markdown",
   "metadata": {},
   "source": [
    "### 1.2 Action of a control on a state\n",
    "\n",
    "In this notebook, controls are antisymmetric matrices described by their coordinates in $R^3$. They act additively on the physical state, and multiplicatively (through their exponential) on the angular state. \n",
    "\n",
    "The action of a constant control during unit time is explicit, hence does not need to be numerically integrated. In order to recover the flow, one may simply apply an infinitesimal control during a unit time. The flow may also be obtained directly, see the end of this subsection."
   ]
  },
  {
   "cell_type": "code",
   "execution_count": 15,
   "metadata": {
    "tags": [
     "ExportCode"
    ]
   },
   "outputs": [],
   "source": [
    "def advance(state,control):\n",
    "    \"\"\"Move from a state to another by applying a control during a unit time\"\"\"\n",
    "    state,control = map(ad.asarray,(state,control))\n",
    "    state_physical = state[:-3]\n",
    "    state_physical = state_physical + 0.25*control[:len(state_physical)] # Additive action on the physical state\n",
    "    \n",
    "    state_angular,qRef = rotation_from_euclidean(state[-3:])\n",
    "    state_angular = lp.dot_AA(state_angular,exp_antisym(*control)) # Left invariant action\n",
    "    \n",
    "    return np.concatenate([state_physical,euclidean_from_rotation(state_angular,qRef)],axis=0)"
   ]
  },
  {
   "cell_type": "markdown",
   "metadata": {},
   "source": [
    "Close to the origin, the three controls act independently on each coordinate of the euclidean parametrization of the sphere."
   ]
  },
  {
   "cell_type": "code",
   "execution_count": 16,
   "metadata": {},
   "outputs": [
    {
     "data": {
      "text/plain": [
       "denseAD(array([    0,     0,     0]),\n",
       "array([[ 0.25],\n",
       "       [    0],\n",
       "       [    0]]))"
      ]
     },
     "execution_count": 16,
     "metadata": {},
     "output_type": "execute_result"
    }
   ],
   "source": [
    "δ = ad.Dense.identity(constant=0.)\n",
    "advance([0,0,0],[δ,0,0])"
   ]
  },
  {
   "cell_type": "code",
   "execution_count": 17,
   "metadata": {},
   "outputs": [
    {
     "data": {
      "text/plain": [
       "denseAD(array([    0,     0,     0]),\n",
       "array([[    0],\n",
       "       [ 0.25],\n",
       "       [    0]]))"
      ]
     },
     "execution_count": 17,
     "metadata": {},
     "output_type": "execute_result"
    }
   ],
   "source": [
    "advance([0,0,0],[0,δ,0])"
   ]
  },
  {
   "cell_type": "code",
   "execution_count": 18,
   "metadata": {},
   "outputs": [
    {
     "data": {
      "text/plain": [
       "denseAD(array([    0,     0,     0]),\n",
       "array([[    0],\n",
       "       [    0],\n",
       "       [ 0.25]]))"
      ]
     },
     "execution_count": 18,
     "metadata": {},
     "output_type": "execute_result"
    }
   ],
   "source": [
    "advance([0,0,0],[0,0,δ])"
   ]
  },
  {
   "cell_type": "markdown",
   "metadata": {},
   "source": [
    "They also act on the plane or line parametrization, if present."
   ]
  },
  {
   "cell_type": "code",
   "execution_count": 19,
   "metadata": {},
   "outputs": [
    {
     "data": {
      "text/plain": [
       "denseAD(array([    0,     0,     0,     0,     0]),\n",
       "array([[ 0.25],\n",
       "       [    0],\n",
       "       [ 0.25],\n",
       "       [    0],\n",
       "       [    0]]))"
      ]
     },
     "execution_count": 19,
     "metadata": {},
     "output_type": "execute_result"
    }
   ],
   "source": [
    "advance([0,0,0,0,0],[δ,0,0])"
   ]
  },
  {
   "cell_type": "code",
   "execution_count": 20,
   "metadata": {},
   "outputs": [
    {
     "data": {
      "text/plain": [
       "denseAD(array([    0,     0,     0,     0,     0]),\n",
       "array([[    0],\n",
       "       [ 0.25],\n",
       "       [    0],\n",
       "       [ 0.25],\n",
       "       [    0]]))"
      ]
     },
     "execution_count": 20,
     "metadata": {},
     "output_type": "execute_result"
    }
   ],
   "source": [
    "advance([0,0,0,0,0],[0,δ,0])"
   ]
  },
  {
   "cell_type": "markdown",
   "metadata": {},
   "source": [
    "More complex motions, known as commutators, are needed to control the sphere and the plane independently, or to control the sphere using only two of the three available controls. \n",
    "\n",
    "Before turning to these more complex motions, we provide, as promised, the direct flow expression."
   ]
  },
  {
   "cell_type": "code",
   "execution_count": 21,
   "metadata": {},
   "outputs": [],
   "source": [
    "def flow(state,control):\n",
    "    \"\"\"Flow vector for a given state and control\"\"\"\n",
    "    state,control = map(ad.asarray,(state,control))\n",
    "    state_physical = state[:-3]\n",
    "    flow_physical = 0.25*control[:len(state_physical)] # Additive action on the physical state\n",
    "    \n",
    "    state_angular,qRef = rotation_from_euclidean(state[-3:])\n",
    "    flow_angular = lp.dot_AA(state_angular,antisym(*control)) # Left invariant action\n",
    "\n",
    "    ϵ = ad.Dense.identity(constant=0.)    \n",
    "    rec_ad = ad.is_ad(state_angular) or ad.is_ad(flow_angular) # Recursve AD requires a little bit of care\n",
    "    if rec_ad: state_angular,flow_angular = map(ad.disassociate,(state_angular,flow_angular))\n",
    "    flow_angular_eucl = euclidean_from_rotation(state_angular+ϵ*flow_angular,qRef).gradient(0) # Differentiate the reverse mapping\n",
    "    if rec_ad: state_angular,flow_angular = map(ad.associate,(state_angular,flow_angular))\n",
    "    \n",
    "    return np.concatenate([flow_physical,flow_angular_eucl],axis=0)"
   ]
  },
  {
   "cell_type": "code",
   "execution_count": 22,
   "metadata": {},
   "outputs": [],
   "source": [
    "assert np.allclose(advance(plane_state,δ*ad.array([1,2,3])).gradient(0),flow(plane_state,[1,2,3]))"
   ]
  },
  {
   "cell_type": "markdown",
   "metadata": {},
   "source": [
    "### 1.3 Commutators"
   ]
  },
  {
   "cell_type": "code",
   "execution_count": 23,
   "metadata": {},
   "outputs": [],
   "source": [
    "def commute(state,control1,control2):\n",
    "    state,control1,control2 = map(ad.asarray,(state,control1,control2))\n",
    "    state = advance(state, control1)\n",
    "    state = advance(state, control2)\n",
    "    state = advance(state,-control1)\n",
    "    state = advance(state,-control2)\n",
    "    return state "
   ]
  },
  {
   "cell_type": "markdown",
   "metadata": {},
   "source": [
    "On the sphere, the commutator of the first two controls is the third control. This allows to bring the sphere from any state to any other state using only two controls, albeit rather inefficiently since the motion along the third control generated by a commutator is of second order."
   ]
  },
  {
   "cell_type": "code",
   "execution_count": 24,
   "metadata": {},
   "outputs": [
    {
     "data": {
      "text/plain": [
       "denseAD2(array([    0,     0,     0]),\n",
       "array([[    0],\n",
       "       [    0],\n",
       "       [    0]]),\n",
       "array([[[    0]],\n",
       "\n",
       "       [[    0]],\n",
       "\n",
       "       [[  0.5]]]))"
      ]
     },
     "execution_count": 24,
     "metadata": {},
     "output_type": "execute_result"
    }
   ],
   "source": [
    "δ = ad.Dense2.identity(constant=0.)\n",
    "commute([0,0,0],[δ,0,0],[0,δ,0]) # Motion generated by a commutator of the first two controls"
   ]
  },
  {
   "cell_type": "code",
   "execution_count": 25,
   "metadata": {},
   "outputs": [
    {
     "data": {
      "text/plain": [
       "denseAD2(array([    0,     0,     0]),\n",
       "array([[    0],\n",
       "       [    0],\n",
       "       [    0]]),\n",
       "array([[[    0]],\n",
       "\n",
       "       [[    0]],\n",
       "\n",
       "       [[  0.5]]]))"
      ]
     },
     "execution_count": 25,
     "metadata": {},
     "output_type": "execute_result"
    }
   ],
   "source": [
    "advance([0,0,0],[0,0,δ**2]) # Same motion generated by the third control, at second order."
   ]
  },
  {
   "cell_type": "markdown",
   "metadata": {},
   "source": [
    "Likewise, on the sphere, the commutator of the second and third control is minus the first one."
   ]
  },
  {
   "cell_type": "code",
   "execution_count": 26,
   "metadata": {},
   "outputs": [
    {
     "data": {
      "text/plain": [
       "denseAD2(array([    0,     0,     0]),\n",
       "array([[    0],\n",
       "       [    0],\n",
       "       [    0]]),\n",
       "array([[[  0.5]],\n",
       "\n",
       "       [[    0]],\n",
       "\n",
       "       [[    0]]]))"
      ]
     },
     "execution_count": 26,
     "metadata": {},
     "output_type": "execute_result"
    }
   ],
   "source": [
    "commute([0,0,0],[0,δ,0],[0,0,δ]) # Motion generated by a commutator of the second and third controls"
   ]
  },
  {
   "cell_type": "markdown",
   "metadata": {},
   "source": [
    "However, on the plane, which is a vector space, all controls commute. This observation allows to control the motion of the sphere without changing its position on the plane."
   ]
  },
  {
   "cell_type": "code",
   "execution_count": 27,
   "metadata": {},
   "outputs": [
    {
     "data": {
      "text/plain": [
       "denseAD2(array([    0,     0,     0,     0,     0]),\n",
       "array([[    0],\n",
       "       [    0],\n",
       "       [    0],\n",
       "       [    0],\n",
       "       [    0]]),\n",
       "array([[[    0]],\n",
       "\n",
       "       [[    0]],\n",
       "\n",
       "       [[  0.5]],\n",
       "\n",
       "       [[    0]],\n",
       "\n",
       "       [[    0]]]))"
      ]
     },
     "execution_count": 27,
     "metadata": {},
     "output_type": "execute_result"
    }
   ],
   "source": [
    "commute([0,0,0,0,0],[0,δ,0],[0,0,δ]) # Motion generated by a commutator of the second and third controls.\n",
    "# Only the sphere is affected"
   ]
  },
  {
   "cell_type": "code",
   "execution_count": 28,
   "metadata": {},
   "outputs": [
    {
     "data": {
      "text/plain": [
       "denseAD2(array([    0,     0,     0,     0,     0]),\n",
       "array([[    0],\n",
       "       [    0],\n",
       "       [    0],\n",
       "       [    0],\n",
       "       [    0]]),\n",
       "array([[[  0.5]],\n",
       "\n",
       "       [[    0]],\n",
       "\n",
       "       [[  0.5]],\n",
       "\n",
       "       [[    0]],\n",
       "\n",
       "       [[    0]]]))"
      ]
     },
     "execution_count": 28,
     "metadata": {},
     "output_type": "execute_result"
    }
   ],
   "source": [
    "advance([0,0,0,0,0],[δ**2,0,0]) # Motion generated by the first control, at second order. \n",
    "# Both the sphere and plane are affected"
   ]
  },
  {
   "cell_type": "markdown",
   "metadata": {},
   "source": [
    "The rank of a sub-Riemannian model is the depth of the control commutators needed to generate the entire tangent space.\n",
    "A rank-0 model is amounts to Riemannian manifold. The numerical simulation, using PDE techniques, of models of rank larger than or equal to two is novel to the knowledge of the author."
   ]
  },
  {
   "cell_type": "markdown",
   "metadata": {},
   "source": [
    "### 1.4 Ball models"
   ]
  },
  {
   "cell_type": "markdown",
   "metadata": {},
   "source": [
    "We present the hamiltonians of the different models, in the form of the symmetric semi-definite matrix defining the dual metric, which makes sense since the models are sub-Riemannian. \n",
    "\n",
    "<!---\n",
    "A more classical presentation, involving the position and impulsion variables, is presented in next section.\n",
    "--->"
   ]
  },
  {
   "cell_type": "code",
   "execution_count": 29,
   "metadata": {
    "tags": [
     "ExportCode"
    ]
   },
   "outputs": [],
   "source": [
    "def make_hamiltonian(controls,advance=advance):\n",
    "    \"\"\"Produces the hamiltonian function associated to a sub-Riemannian model, \n",
    "    defined by its controls and the advance function\"\"\"\n",
    "    def hamiltonian(state):\n",
    "        \"\"\"The hamiltonian, a quadratic form on the co-tangent space\"\"\"\n",
    "        # Array formatting to apply to several states simultanously\n",
    "        state=ad.asarray(state); controls_ = fd.as_field(controls,state.shape[1:],depth=1) \n",
    "        \n",
    "        grad = advance(state,controls_).gradient()\n",
    "        return lp.dot_AA(lp.transpose(grad),grad)\n",
    "    return hamiltonian"
   ]
  },
  {
   "cell_type": "code",
   "execution_count": 30,
   "metadata": {},
   "outputs": [],
   "source": [
    "δ = 4*ad.Dense.identity(constant=[0.,0.,0.]) # Three independent symbolic perturbations"
   ]
  },
  {
   "cell_type": "markdown",
   "metadata": {},
   "source": [
    "The **Riemannian ball** is governed by the three controls, with the same strength on each axis, and its state space is the ball alone. It is thus a Riemannian model. At the origin, the Hamiltonian is the identity matrix."
   ]
  },
  {
   "cell_type": "code",
   "execution_count": 31,
   "metadata": {},
   "outputs": [
    {
     "data": {
      "text/plain": [
       "array([[    1,     0,     0],\n",
       "       [    0,     1,     0],\n",
       "       [    0,     0,     1]])"
      ]
     },
     "execution_count": 31,
     "metadata": {},
     "output_type": "execute_result"
    }
   ],
   "source": [
    "H_Riemann = make_hamiltonian(δ)\n",
    "H_Riemann([0,0,0])"
   ]
  },
  {
   "cell_type": "markdown",
   "metadata": {},
   "source": [
    "At any point in space, this hamiltonian is a positive definite matrix, whose inverse is the Riemannian metric. Because of our choice of coordinates, this metric is *conformal*, in other words proportional to the euclidean metric (up to machine precision)."
   ]
  },
  {
   "cell_type": "code",
   "execution_count": 32,
   "metadata": {},
   "outputs": [
    {
     "data": {
      "text/plain": [
       "array([[ 3.52, 5.79e-13, 8.6e-13],\n",
       "       [5.79e-13,  3.52, 1.73e-12],\n",
       "       [8.6e-13, 1.73e-12,  3.52]])"
      ]
     },
     "execution_count": 32,
     "metadata": {},
     "output_type": "execute_result"
    }
   ],
   "source": [
    "H_Riemann(ball_state)"
   ]
  },
  {
   "cell_type": "markdown",
   "metadata": {},
   "source": [
    "The **Reeds shepp ball** is governed only two of the three controls, missing the middle one, and is a sub-Riemannian model of rank one. This model can also be regarded as describing a wheelchair-like vehicle moving on a ball."
   ]
  },
  {
   "cell_type": "code",
   "execution_count": 33,
   "metadata": {},
   "outputs": [
    {
     "data": {
      "text/plain": [
       "array([[    1,     0,     0],\n",
       "       [    0,     0,     0],\n",
       "       [    0,     0,     1]])"
      ]
     },
     "execution_count": 33,
     "metadata": {},
     "output_type": "execute_result"
    }
   ],
   "source": [
    "δRS = [δ[0],0,δ[2]] # The y-axis rotation control is lacking\n",
    "H_ReedsShepp = make_hamiltonian(δRS) \n",
    "H_ReedsShepp([0,0,0])"
   ]
  },
  {
   "cell_type": "markdown",
   "metadata": {},
   "source": [
    "At any point in space, this hamiltonian is a positive semi-definite matrix, with two non-zero eigenvalues."
   ]
  },
  {
   "cell_type": "code",
   "execution_count": 34,
   "metadata": {},
   "outputs": [
    {
     "data": {
      "text/plain": [
       "(array([[ 1.95, 0.781,  1.56],\n",
       "        [0.781,  3.13, -0.781],\n",
       "        [ 1.56, -0.781,  1.95]]),\n",
       " array([2.64e-16,  3.52,  3.52]))"
      ]
     },
     "execution_count": 34,
     "metadata": {},
     "output_type": "execute_result"
    }
   ],
   "source": [
    "ham = H_ReedsShepp(ball_state)\n",
    "ham, np.linalg.eigvalsh(ham)"
   ]
  },
  {
   "cell_type": "markdown",
   "metadata": {},
   "source": [
    "The **torqueless ball** is governed by two of the three controls, missing the last one. On the ball alone, this model is isomorphic to the Reeds-Shepp model. However the situation changes when put on a plane, as discussed below."
   ]
  },
  {
   "cell_type": "code",
   "execution_count": 35,
   "metadata": {},
   "outputs": [
    {
     "data": {
      "text/plain": [
       "array([[    1,     0,     0],\n",
       "       [    0,     1,     0],\n",
       "       [    0,     0,     0]])"
      ]
     },
     "execution_count": 35,
     "metadata": {},
     "output_type": "execute_result"
    }
   ],
   "source": [
    "δTL = [δ[0],δ[1],0] # The z-axis rotation control is lacking\n",
    "H_Torqueless = make_hamiltonian(δTL)\n",
    "H_Torqueless([0,0,0])"
   ]
  },
  {
   "cell_type": "code",
   "execution_count": 36,
   "metadata": {},
   "outputs": [
    {
     "data": {
      "text/plain": [
       "(array([[ 1.62, -0.344, -1.72],\n",
       "        [-0.344,  3.45, -0.312],\n",
       "        [-1.72, -0.312,  1.95]]),\n",
       " array([-1.11e-16,  3.52,  3.52]))"
      ]
     },
     "execution_count": 36,
     "metadata": {},
     "output_type": "execute_result"
    }
   ],
   "source": [
    "ham = H_Torqueless(ball_state)\n",
    "ham, np.linalg.eigvalsh(ham)"
   ]
  },
  {
   "cell_type": "markdown",
   "metadata": {},
   "source": [
    "### 1.5 Ball with support\n",
    "\n",
    "The same *hamiltonian* functions can be reused, since the advance function handles the supports as well."
   ]
  },
  {
   "cell_type": "markdown",
   "metadata": {},
   "source": [
    "The **Riemannian ball on a plane** is a rank one sub-Riemannian model. The ball may be rolled along both the $x$-axis and $y$-axis, and its rotation around the $z$-axis is also controlled."
   ]
  },
  {
   "cell_type": "markdown",
   "metadata": {},
   "source": [
    "The hamiltonian is degenerate, as expected, with two vanishing eigenvalues due to the fact that motion in the plane is tied to the rotation of the ball."
   ]
  },
  {
   "cell_type": "code",
   "execution_count": 37,
   "metadata": {},
   "outputs": [
    {
     "data": {
      "text/plain": [
       "(array([[    1,     0,     1,     0,     0],\n",
       "        [    0,     1,     0,     1,     0],\n",
       "        [    1,     0,     1,     0,     0],\n",
       "        [    0,     1,     0,     1,     0],\n",
       "        [    0,     0,     0,     0,     1]]),\n",
       " array([    0,     0,     1,     2,     2]))"
      ]
     },
     "execution_count": 37,
     "metadata": {},
     "output_type": "execute_result"
    }
   ],
   "source": [
    "ham = H_Riemann(np.zeros(5))\n",
    "ham,np.linalg.eigvalsh(ham)"
   ]
  },
  {
   "cell_type": "markdown",
   "metadata": {},
   "source": [
    "The situation is the same at any point in space."
   ]
  },
  {
   "cell_type": "code",
   "execution_count": 38,
   "metadata": {},
   "outputs": [
    {
     "data": {
      "text/plain": [
       "(array([[    1,     0,  0.25,  1.75, -0.625],\n",
       "        [    0,     1, -1.25, 0.625,  1.25],\n",
       "        [ 0.25, -1.25,  3.52, 5.79e-13, 8.6e-13],\n",
       "        [ 1.75, 0.625, 5.79e-13,  3.52, 1.73e-12],\n",
       "        [-0.625,  1.25, 8.6e-13, 1.73e-12,  3.52]]),\n",
       " array([-8e-17, 7.45e-17,  3.52,  4.52,  4.52]))"
      ]
     },
     "execution_count": 38,
     "metadata": {},
     "output_type": "execute_result"
    }
   ],
   "source": [
    "ham = H_Riemann(plane_state)\n",
    "ham,np.linalg.eigvalsh(ham)"
   ]
  },
  {
   "cell_type": "markdown",
   "metadata": {},
   "source": [
    "The **Reeds-Shepp ball on a line** is a rank two sub-Riemannian model. The ball may only be rolled along the $x$-axis, and rotated around the $z$-axis.\n",
    "In order to generate a rotation around the $y$-axis, a commutator of these two motions is required. In order to generate a rotation around the $x$-axis, without any motion in the plane, a second order commutator is needed involving rotation around the $y$-axis and a rotation around the $z$-axis."
   ]
  },
  {
   "cell_type": "code",
   "execution_count": 39,
   "metadata": {},
   "outputs": [
    {
     "data": {
      "text/plain": [
       "(array([[    1,     1,     0,     0],\n",
       "        [    1,     1,     0,     0],\n",
       "        [    0,     0,     0,     0],\n",
       "        [    0,     0,     0,     1]]),\n",
       " array([    0,     0,     1,     2]))"
      ]
     },
     "execution_count": 39,
     "metadata": {},
     "output_type": "execute_result"
    }
   ],
   "source": [
    "ham = H_ReedsShepp(np.zeros(4))\n",
    "ham,np.linalg.eigvalsh(ham)"
   ]
  },
  {
   "cell_type": "code",
   "execution_count": 40,
   "metadata": {},
   "outputs": [
    {
     "data": {
      "text/plain": [
       "(array([[    1,  0.25,  1.75, -0.625],\n",
       "        [ 0.25,  1.95, 0.781,  1.56],\n",
       "        [ 1.75, 0.781,  3.13, -0.781],\n",
       "        [-0.625,  1.56, -0.781,  1.95]]),\n",
       " array([-3.37e-16, 4.61e-16,  3.52,  4.52]))"
      ]
     },
     "execution_count": 40,
     "metadata": {},
     "output_type": "execute_result"
    }
   ],
   "source": [
    "ham = H_ReedsShepp(line_state)\n",
    "ham,np.linalg.eigvalsh(ham)"
   ]
  },
  {
   "cell_type": "markdown",
   "metadata": {},
   "source": [
    "The **torqueless ball on a plane** is a rank two sub-Riemannian model. The ball may be rolled along the $x$-axis and the $y$-axis, but not rotated around the $z$-axis (think of a punctual control, without any torque). In order to generate a rotation around the $z$-axis, a commutator of the rolling motions along the $x$-axis and the $y$-axis is needed. In order to generate a pure rotation around the $x$-axis or the $y$-axis, one needs a commutator of the pure rotation around the $z$-axis, and of the rolling motion along the $x$ or the $y$ axis."
   ]
  },
  {
   "cell_type": "code",
   "execution_count": 41,
   "metadata": {},
   "outputs": [
    {
     "data": {
      "text/plain": [
       "(array([[    1,     0,     1,     0,     0],\n",
       "        [    0,     1,     0,     1,     0],\n",
       "        [    1,     0,     1,     0,     0],\n",
       "        [    0,     1,     0,     1,     0],\n",
       "        [    0,     0,     0,     0,     0]]),\n",
       " array([    0,     0,     0,     2,     2]))"
      ]
     },
     "execution_count": 41,
     "metadata": {},
     "output_type": "execute_result"
    }
   ],
   "source": [
    "ham = H_Torqueless(np.zeros(5))\n",
    "ham,np.linalg.eigvalsh(ham)"
   ]
  },
  {
   "cell_type": "code",
   "execution_count": 42,
   "metadata": {},
   "outputs": [
    {
     "data": {
      "text/plain": [
       "(array([[    1,     0,  0.25,  1.75, -0.625],\n",
       "        [    0,     1, -1.25, 0.625,  1.25],\n",
       "        [ 0.25, -1.25,  1.62, -0.344, -1.72],\n",
       "        [ 1.75, 0.625, -0.344,  3.45, -0.312],\n",
       "        [-0.625,  1.25, -1.72, -0.312,  1.95]]),\n",
       " array([-3.67e-16, 7.34e-17, 5.62e-16,  4.52,  4.52]))"
      ]
     },
     "execution_count": 42,
     "metadata": {},
     "output_type": "execute_result"
    }
   ],
   "source": [
    "ham = H_Torqueless(plane_state)\n",
    "ham,np.linalg.eigvalsh(ham)"
   ]
  },
  {
   "cell_type": "markdown",
   "metadata": {},
   "source": [
    "## 2. Geodesic shooting\n",
    "\n",
    "We compute, for checking their consistency, some geodesics of the considered models model. They correspond to the free motion of the corresponding physical system, without external force or obstacles.\n",
    "\n",
    "**Note on performance.** Geodesic shooting is expected to be a cheap operation numerically. However computation times are here not negligible, due to  the overhead of Python and to the heavy and recursive use of automatic differentiation.\n",
    "\n",
    "**Conflict of notations.** Here and below, the state and impulsion for a hamiltonian system are denoted $q,p$, as is classical. In our setting, the state belongs to Euclidean space, and the letter $q$ does *not* refer to quaternion."
   ]
  },
  {
   "cell_type": "code",
   "execution_count": 43,
   "metadata": {},
   "outputs": [],
   "source": [
    "# Some arbitrary initial impulsions\n",
    "ball_impulsion = np.array([4,5,6])/3\n",
    "#plane_impulsion = np.concatenate([np.array([2,3])/2,ball_impulsion],axis=0)\n",
    "line_impulsion = np.concatenate([[0.5],ball_impulsion],axis=0)"
   ]
  },
  {
   "cell_type": "markdown",
   "metadata": {},
   "source": [
    "We wrap our hamiltonians within the `Metrics.Hamiltonian` class, which provides a few helper utilities for differentiating hamiltonians and integrating the resulting flow."
   ]
  },
  {
   "cell_type": "code",
   "execution_count": 44,
   "metadata": {},
   "outputs": [],
   "source": [
    "from agd.ODE.hamiltonian import GenericHamiltonian"
   ]
  },
  {
   "cell_type": "code",
   "execution_count": 45,
   "metadata": {},
   "outputs": [],
   "source": [
    "def class_hamiltonian(H):\n",
    "    def H_(q,p): return 0.5*lp.dot_VAV(p,H(q),p) # (Sub-)Riemannian hamiltonian, the kinetic energy\n",
    "    return GenericHamiltonian(H_,disassociate_ad=True) # Disassociate needed for recursive AD"
   ]
  },
  {
   "cell_type": "code",
   "execution_count": 46,
   "metadata": {},
   "outputs": [],
   "source": [
    "h_Riemann,h_ReedsShepp,h_Torqueless = map(class_hamiltonian,(H_Riemann,H_ReedsShepp,H_Torqueless))"
   ]
  },
  {
   "cell_type": "code",
   "execution_count": 47,
   "metadata": {},
   "outputs": [
    {
     "data": {
      "text/plain": [
       "(array([ 4.69,  5.86,  7.03]), array([-8.02,   -16, -24.1]))"
      ]
     },
     "execution_count": 47,
     "metadata": {},
     "output_type": "execute_result"
    }
   ],
   "source": [
    "h_Riemann.flow(ball_state,ball_impulsion) # The symplectic flow DpH,-DqH"
   ]
  },
  {
   "cell_type": "markdown",
   "metadata": {},
   "source": [
    "For applications, or only the sake of curiosity, one may want to recover the optimal controls associated with a given position and impulsion."
   ]
  },
  {
   "cell_type": "code",
   "execution_count": 48,
   "metadata": {},
   "outputs": [],
   "source": [
    "def optimal_control(controls,advance=advance):\n",
    "    \"\"\"\n",
    "    Produces a function for obtaining the optimal control \n",
    "    associated with a given state and impulsion.\n",
    "    - controls : the available controls, described as independent AD \n",
    "        perturbations, whose sum of squares should be bounded.\n",
    "    \"\"\"\n",
    "    def get_optimal_control(state,impulsion):\n",
    "        # Array formatting to apply to several states simultanously\n",
    "        state=ad.asarray(state); controls_ = fd.as_field(controls,state.shape[1:],depth=1) \n",
    "        \n",
    "        grad = advance(state,controls_).gradient()\n",
    "        return lp.dot_AV(grad,impulsion)\n",
    "    return get_optimal_control"
   ]
  },
  {
   "cell_type": "code",
   "execution_count": 49,
   "metadata": {},
   "outputs": [],
   "source": [
    "c_Riemann,c_ReedsShepp,c_Torqueless = map(optimal_control,(δ,δRS,δTL))"
   ]
  },
  {
   "cell_type": "markdown",
   "metadata": {},
   "source": [
    "Finally, we need the following function displays a sphere, to be used as a background for our trajectories."
   ]
  },
  {
   "cell_type": "code",
   "execution_count": 50,
   "metadata": {},
   "outputs": [],
   "source": [
    "def plot_sphere(ax):\n",
    "    stride = 3\n",
    "    u = np.linspace(0, 2 * np.pi, 13*stride)\n",
    "    v = np.linspace(0, np.pi, 7*stride)\n",
    "\n",
    "    x = np.outer(np.cos(u), np.sin(v))\n",
    "    y = np.outer(np.sin(u), np.sin(v))\n",
    "    z = np.outer(np.ones_like(u), np.cos(v))\n",
    "    \n",
    "    ax.plot_wireframe(x, y, z, rstride=stride, cstride=stride, color='gray',alpha=0.5)"
   ]
  },
  {
   "cell_type": "markdown",
   "metadata": {},
   "source": [
    "### 2.1 The Riemannian ball\n",
    "\n",
    "The ball is spinning without friction, at constant speed, on a fixed axis."
   ]
  },
  {
   "cell_type": "code",
   "execution_count": 51,
   "metadata": {},
   "outputs": [
    {
     "name": "stdout",
     "output_type": "stream",
     "text": [
      "CPU times: user 12.9 s, sys: 50.6 ms, total: 13 s\n",
      "Wall time: 13 s\n"
     ]
    }
   ],
   "source": [
    "%%time\n",
    "q,p,T = h_Riemann.integrate(ball_state,ball_impulsion,scheme='Runge-Kutta-4',T=1.,niter=150,path=True)"
   ]
  },
  {
   "cell_type": "markdown",
   "metadata": {},
   "source": [
    "The euclidean parametrization of the sphere configuration is not very telling, but we do observe a periodic motion, as expected."
   ]
  },
  {
   "cell_type": "code",
   "execution_count": 52,
   "metadata": {},
   "outputs": [],
   "source": [
    "plt.plot(T,q[0], T,q[1], T,q[2]);"
   ]
  },
  {
   "cell_type": "markdown",
   "metadata": {},
   "source": [
    "The hamiltonian is an invariant of motion. Since we use a non-symplectic scheme, and since the solved ODE is a bit stiff , the numerical conservation is only approximate. Stiffness is because the tracked point goes close to the pole (-1,0,0,0) of the quaternion sphere, where the parametrization is singular."
   ]
  },
  {
   "cell_type": "code",
   "execution_count": 53,
   "metadata": {},
   "outputs": [],
   "source": [
    "plt.title(\"Conservation of the Hamiltonian\")\n",
    "plt.xlabel(\"t\"); plt.ylabel(\"H(q(t),p(t))\")\n",
    "plt.plot(T,h_Riemann.H(q,p));"
   ]
  },
  {
   "cell_type": "markdown",
   "metadata": {},
   "source": [
    "The rotation axis, and angular velocity, are directly related to the control. "
   ]
  },
  {
   "cell_type": "code",
   "execution_count": 54,
   "metadata": {},
   "outputs": [
    {
     "name": "stdout",
     "output_type": "stream",
     "text": [
      "Initial axis of rotation [0.365 0.342 0.866], angular velocity 10.968705484246339, period 0.5728283356868074\n"
     ]
    }
   ],
   "source": [
    "c = c_Riemann(q,p)\n",
    "axis = c[:,0]\n",
    "print(f\"Initial axis of rotation {axis/norm(axis)}, angular velocity {2*norm(axis)}, period {np.pi/norm(axis)}\")"
   ]
  },
  {
   "cell_type": "markdown",
   "metadata": {},
   "source": [
    "The optimal controls are ... constant in time. This is expected behavior: the ball is spinning at constant speed on a fixed axis. "
   ]
  },
  {
   "cell_type": "code",
   "execution_count": 55,
   "metadata": {},
   "outputs": [],
   "source": [
    "plt.title(\"Control as a function of time\")\n",
    "plt.xlabel(\"t\"); plt.ylabel(\"c(t)\")\n",
    "plt.plot(T,c[0], T,c[1], T,c[2]);"
   ]
  },
  {
   "cell_type": "markdown",
   "metadata": {},
   "source": [
    "Finally, we display the trajectories of some points of the sphere, as time evolves."
   ]
  },
  {
   "cell_type": "code",
   "execution_count": 56,
   "metadata": {},
   "outputs": [],
   "source": [
    "r,_ = rotation_from_euclidean(q) # Note : the state q is an Euclidean vector, not a quaternion."
   ]
  },
  {
   "cell_type": "code",
   "execution_count": 57,
   "metadata": {},
   "outputs": [
    {
     "name": "stderr",
     "output_type": "stream",
     "text": [
      "/Users/mirebeau/opt/miniconda3/envs/agd-hfm_dev/lib/python3.7/site-packages/numpy/core/_asarray.py:136: VisibleDeprecationWarning: Creating an ndarray from ragged nested sequences (which is a list-or-tuple of lists-or-tuples-or ndarrays with different lengths or shapes) is deprecated. If you meant to do this, you must specify 'dtype=object' when creating the ndarray\n",
      "  return array(a, dtype, copy=False, order=order, subok=True)\n"
     ]
    }
   ],
   "source": [
    "fig = plt.figure(); ax = fig.add_subplot(111, projection='3d')\n",
    "plt.title(\"Trajectory of the point mapped to (0,0,1).\")\n",
    "plot_sphere(ax)\n",
    "plt.plot(*r[:,-1]);"
   ]
  },
  {
   "cell_type": "code",
   "execution_count": 58,
   "metadata": {},
   "outputs": [
    {
     "name": "stderr",
     "output_type": "stream",
     "text": [
      "/Users/mirebeau/opt/miniconda3/envs/agd-hfm_dev/lib/python3.7/site-packages/numpy/core/_asarray.py:136: VisibleDeprecationWarning: Creating an ndarray from ragged nested sequences (which is a list-or-tuple of lists-or-tuples-or ndarrays with different lengths or shapes) is deprecated. If you meant to do this, you must specify 'dtype=object' when creating the ndarray\n",
      "  return array(a, dtype, copy=False, order=order, subok=True)\n"
     ]
    }
   ],
   "source": [
    "fig = plt.figure(); ax = fig.add_subplot(111, projection='3d')\n",
    "plt.title(\"Trajectory of the points (1,0,0), (0,1,0), and (0,0,1) of the sphere.\")\n",
    "plot_sphere(ax)\n",
    "plt.plot(*r[0,:]); plt.plot(*r[1,:]); plt.plot(*r[2,:]);"
   ]
  },
  {
   "cell_type": "markdown",
   "metadata": {},
   "source": [
    "### 2.2 The Reeds-Shepp ball"
   ]
  },
  {
   "cell_type": "markdown",
   "metadata": {},
   "source": [
    "The Reeds-Shepp ball is spun freely, except for the constraint that it can never roll around the $y$-axis."
   ]
  },
  {
   "cell_type": "code",
   "execution_count": 59,
   "metadata": {},
   "outputs": [
    {
     "name": "stdout",
     "output_type": "stream",
     "text": [
      "CPU times: user 13.5 s, sys: 60.6 ms, total: 13.6 s\n",
      "Wall time: 13.6 s\n"
     ]
    }
   ],
   "source": [
    "%%time\n",
    "q,p,T = h_ReedsShepp.integrate(ball_state,ball_impulsion,scheme='Runge-Kutta-4',T=1.5,niter=150,path=True)"
   ]
  },
  {
   "cell_type": "markdown",
   "metadata": {},
   "source": [
    "The motion of the Reeds-Shepp ball is not periodic: it has no reason to be."
   ]
  },
  {
   "cell_type": "code",
   "execution_count": 60,
   "metadata": {},
   "outputs": [],
   "source": [
    "plt.plot(T,q[0], T,q[1], T,q[2]);"
   ]
  },
  {
   "cell_type": "markdown",
   "metadata": {},
   "source": [
    "The Hamiltonian is conserved with rather good accuracy, despite the fact that the scheme is not symplectic."
   ]
  },
  {
   "cell_type": "code",
   "execution_count": 61,
   "metadata": {},
   "outputs": [],
   "source": [
    "plt.title(\"Conservation of the Hamiltonian\")\n",
    "plt.xlabel(\"t\"); plt.ylabel(\"H(q(t),p(t))\")\n",
    "plt.plot(T,h_Riemann.H(q,p));"
   ]
  },
  {
   "cell_type": "markdown",
   "metadata": {},
   "source": [
    "The instantaneous rotation axis varies, with one constant property : the y component vanishes."
   ]
  },
  {
   "cell_type": "code",
   "execution_count": 62,
   "metadata": {},
   "outputs": [
    {
     "name": "stdout",
     "output_type": "stream",
     "text": [
      "Initial axis of rotation [0.388     0 0.922], angular velocity 10.307764064049517, period 0.6095585102780446\n"
     ]
    }
   ],
   "source": [
    "c = c_ReedsShepp(q,p)\n",
    "axis = c[:,0]\n",
    "print(f\"Initial axis of rotation {axis/norm(axis)}, angular velocity {2*norm(axis)}, period {np.pi/norm(axis)}\")"
   ]
  },
  {
   "cell_type": "markdown",
   "metadata": {},
   "source": [
    "The instantaneous axis of rotation appears to be periodic (TODO : check). Yet this does not imply a periodic motion of the sphere, which is a *non-commutative* (matrix product of rotations) primitive of these controls."
   ]
  },
  {
   "cell_type": "code",
   "execution_count": 63,
   "metadata": {},
   "outputs": [],
   "source": [
    "plt.title(\"Control as a function of time\")\n",
    "plt.xlabel(\"t\"); plt.ylabel(\"c(t)\")\n",
    "plt.plot(T,c[0], T,c[1], T,c[2]);"
   ]
  },
  {
   "cell_type": "code",
   "execution_count": 64,
   "metadata": {},
   "outputs": [],
   "source": [
    "r,_ = rotation_from_euclidean(q) "
   ]
  },
  {
   "cell_type": "code",
   "execution_count": 65,
   "metadata": {},
   "outputs": [
    {
     "name": "stderr",
     "output_type": "stream",
     "text": [
      "/Users/mirebeau/opt/miniconda3/envs/agd-hfm_dev/lib/python3.7/site-packages/numpy/core/_asarray.py:136: VisibleDeprecationWarning: Creating an ndarray from ragged nested sequences (which is a list-or-tuple of lists-or-tuples-or ndarrays with different lengths or shapes) is deprecated. If you meant to do this, you must specify 'dtype=object' when creating the ndarray\n",
      "  return array(a, dtype, copy=False, order=order, subok=True)\n"
     ]
    }
   ],
   "source": [
    "fig = plt.figure(); ax = fig.add_subplot(111, projection='3d')\n",
    "plt.title(\"Trajectory of the point mapped to (0,0,1).\")\n",
    "plot_sphere(ax)\n",
    "plt.plot(*r[:,2]);"
   ]
  },
  {
   "cell_type": "markdown",
   "metadata": {},
   "source": [
    "The considered model, and the above trajectory is equivalent to the motion of a Reeds-Shepp vehicle (wheel-chair like) on the sphere.\n",
    "A distinctive property of such models is the presence of cusps in the trajectory, which correspond to pure rotations around the $z$-axis. They are more easily viewed on a planar projection."
   ]
  },
  {
   "cell_type": "code",
   "execution_count": 66,
   "metadata": {},
   "outputs": [],
   "source": [
    "sphere_projection = euclidean_from_quaternion # The code is actually dimension independent\n",
    "plt.title(\"Cusps in the trajectory of the Reeds-Shepp vehicle\")\n",
    "plt.plot(*sphere_projection(-r[:,-1])); plt.axis('equal');"
   ]
  },
  {
   "cell_type": "markdown",
   "metadata": {},
   "source": [
    "Note that modifying the amount of curvature penalization is easy: one only has to balance differently the cost of the rotation around the $x$-axis and around the $z$-axis in the control parameters."
   ]
  },
  {
   "cell_type": "code",
   "execution_count": 67,
   "metadata": {},
   "outputs": [
    {
     "data": {
      "text/plain": [
       "[denseAD(array(    0),array([    4,     0,     0])),\n",
       " 0,\n",
       " denseAD(array(    0),array([    0,     0,     4]))]"
      ]
     },
     "execution_count": 67,
     "metadata": {},
     "output_type": "execute_result"
    }
   ],
   "source": [
    "δRS # Same control strength around the x and z axes."
   ]
  },
  {
   "cell_type": "markdown",
   "metadata": {},
   "source": [
    "### 2.3 Riemannian ball on the plane"
   ]
  },
  {
   "cell_type": "code",
   "execution_count": 68,
   "metadata": {},
   "outputs": [],
   "source": [
    "h_Riemann.shape_free = None # Changing the state dimension"
   ]
  },
  {
   "cell_type": "code",
   "execution_count": 69,
   "metadata": {},
   "outputs": [],
   "source": [
    "plane_impulsion = np.concatenate([-np.array([3,2])/2,ball_impulsion],axis=0)"
   ]
  },
  {
   "cell_type": "code",
   "execution_count": 70,
   "metadata": {},
   "outputs": [
    {
     "name": "stdout",
     "output_type": "stream",
     "text": [
      "CPU times: user 24.2 s, sys: 102 ms, total: 24.3 s\n",
      "Wall time: 24.3 s\n"
     ]
    }
   ],
   "source": [
    "%%time\n",
    "q,p,T = h_Riemann.integrate(plane_state,plane_impulsion,scheme='Runge-Kutta-4',T=2.,niter=250,path=True)"
   ]
  },
  {
   "cell_type": "code",
   "execution_count": 71,
   "metadata": {},
   "outputs": [],
   "source": [
    "plt.title(\"Trajectory on the plane\")\n",
    "plt.plot(q[0],q[1]);"
   ]
  },
  {
   "cell_type": "code",
   "execution_count": 72,
   "metadata": {},
   "outputs": [],
   "source": [
    "plt.title(\"Trajectory of the angular parametrization\")\n",
    "plt.plot(T,q[2], T,q[3], T,q[4]);"
   ]
  },
  {
   "cell_type": "markdown",
   "metadata": {},
   "source": [
    "The Hamiltonian is conserved, as it should be. The optimal controls appear to be periodic, yet the trajectory of the ball is not, neither in angular space nor in physical space."
   ]
  },
  {
   "cell_type": "code",
   "execution_count": 73,
   "metadata": {},
   "outputs": [],
   "source": [
    "plt.title(\"Conservation of the Hamiltonian\")\n",
    "plt.plot(T,h_Riemann.H(q,p));"
   ]
  },
  {
   "cell_type": "code",
   "execution_count": 74,
   "metadata": {},
   "outputs": [],
   "source": [
    "plt.title(\"Optimal controls\")\n",
    "c=c_Riemann(q,p)\n",
    "plt.plot(T,c[0],T,c[1],T,c[2]);"
   ]
  },
  {
   "cell_type": "code",
   "execution_count": 75,
   "metadata": {},
   "outputs": [],
   "source": [
    "r,_ = rotation_from_euclidean(q[-3:]) "
   ]
  },
  {
   "cell_type": "code",
   "execution_count": 76,
   "metadata": {},
   "outputs": [
    {
     "name": "stderr",
     "output_type": "stream",
     "text": [
      "/Users/mirebeau/opt/miniconda3/envs/agd-hfm_dev/lib/python3.7/site-packages/numpy/core/_asarray.py:136: VisibleDeprecationWarning: Creating an ndarray from ragged nested sequences (which is a list-or-tuple of lists-or-tuples-or ndarrays with different lengths or shapes) is deprecated. If you meant to do this, you must specify 'dtype=object' when creating the ndarray\n",
      "  return array(a, dtype, copy=False, order=order, subok=True)\n"
     ]
    }
   ],
   "source": [
    "fig = plt.figure(); ax = fig.add_subplot(111, projection='3d')\n",
    "plt.title(\"Trajectory of the point mapped to (0,0,1).\")\n",
    "plot_sphere(ax)\n",
    "plt.plot(*r[:,-1]);"
   ]
  },
  {
   "cell_type": "markdown",
   "metadata": {},
   "source": [
    "We do not really see cusps here."
   ]
  },
  {
   "cell_type": "code",
   "execution_count": 77,
   "metadata": {},
   "outputs": [],
   "source": [
    "plt.title(\"Projected trajectory of the north pole\")\n",
    "plt.plot(*sphere_projection(-r[:,-1])); plt.axis('equal');"
   ]
  },
  {
   "cell_type": "markdown",
   "metadata": {},
   "source": [
    "### 2.4 Reeds-Shepp ball on the line"
   ]
  },
  {
   "cell_type": "code",
   "execution_count": 78,
   "metadata": {},
   "outputs": [],
   "source": [
    "h_ReedsShepp.shape_free = None # Changing the state dimension"
   ]
  },
  {
   "cell_type": "code",
   "execution_count": 79,
   "metadata": {},
   "outputs": [
    {
     "name": "stdout",
     "output_type": "stream",
     "text": [
      "CPU times: user 23.8 s, sys: 148 ms, total: 23.9 s\n",
      "Wall time: 24 s\n"
     ]
    }
   ],
   "source": [
    "%%time\n",
    "q,p,T = h_ReedsShepp.integrate(line_state,line_impulsion,scheme='Runge-Kutta-4',T=2.,niter=250,path=True)"
   ]
  },
  {
   "cell_type": "code",
   "execution_count": 80,
   "metadata": {},
   "outputs": [],
   "source": [
    "plt.title(\"Trajectory on the line\")\n",
    "plt.plot(T,q[1]);"
   ]
  },
  {
   "cell_type": "code",
   "execution_count": 81,
   "metadata": {},
   "outputs": [],
   "source": [
    "plt.title(\"Trajectory of the angular parametrization\")\n",
    "plt.plot(T,q[1], T,q[2], T,q[3]);"
   ]
  },
  {
   "cell_type": "markdown",
   "metadata": {},
   "source": [
    "The Hamiltonian is well conserved, and the optimal controls are periodic."
   ]
  },
  {
   "cell_type": "code",
   "execution_count": 82,
   "metadata": {},
   "outputs": [],
   "source": [
    "plt.title(\"Conservation of the Hamiltonian\")\n",
    "plt.plot(T,h_ReedsShepp.H(q,p));"
   ]
  },
  {
   "cell_type": "code",
   "execution_count": 83,
   "metadata": {},
   "outputs": [],
   "source": [
    "plt.title(\"Optimal controls\")\n",
    "c=c_Riemann(q,p)\n",
    "plt.plot(T,c[0],T,c[1],T,c[2]);"
   ]
  },
  {
   "cell_type": "code",
   "execution_count": null,
   "metadata": {},
   "outputs": [],
   "source": []
  }
 ],
 "metadata": {
  "celltoolbar": "Format de la Cellule Texte Brut",
  "kernelspec": {
   "display_name": "Python 3 (ipykernel)",
   "language": "python",
   "name": "python3"
  },
  "language_info": {
   "codemirror_mode": {
    "name": "ipython",
    "version": 3
   },
   "file_extension": ".py",
   "mimetype": "text/x-python",
   "name": "python",
   "nbconvert_exporter": "python",
   "pygments_lexer": "ipython3",
   "version": "3.10.8"
  },
  "varInspector": {
   "cols": {
    "lenName": 16,
    "lenType": 16,
    "lenVar": 40
   },
   "kernels_config": {
    "python": {
     "delete_cmd_postfix": "",
     "delete_cmd_prefix": "del ",
     "library": "var_list.py",
     "varRefreshCmd": "print(var_dic_list())"
    },
    "r": {
     "delete_cmd_postfix": ") ",
     "delete_cmd_prefix": "rm(",
     "library": "var_list.r",
     "varRefreshCmd": "cat(var_dic_list()) "
    }
   },
   "types_to_exclude": [
    "module",
    "function",
    "builtin_function_or_method",
    "instance",
    "_Feature"
   ],
   "window_display": false
  }
 },
 "nbformat": 4,
 "nbformat_minor": 4
}