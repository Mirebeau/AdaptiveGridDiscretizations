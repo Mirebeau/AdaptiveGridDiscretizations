{
 "cells": [
  {
   "cell_type": "markdown",
   "metadata": {
    "editable": true,
    "slideshow": {
     "slide_type": ""
    },
    "tags": []
   },
   "source": [
    "# Adaptive PDE discretizations on Cartesian grids\n",
    "## Volume : Algorithmic tools\n",
    "## Part : Tensor decomposition techniques\n",
    "## Chapter : Selling's algorithm, in dimension 2 and 3\n",
    "\n",
    "$\n",
    "\\newcommand\\bZ{\\mathbb{Z}}\n",
    "\\newcommand\\cE{\\mathcal{E}}\n",
    "\\newcommand\\cO{\\mathcal{O}}\n",
    "\\newcommand\\<{\\langle} \\newcommand\\>{\\rangle}\n",
    "$\n"
   ]
  },
  {
   "cell_type": "markdown",
   "metadata": {
    "editable": true,
    "slideshow": {
     "slide_type": ""
    },
    "tags": []
   },
   "source": [
    "This notebook presents some tensor decomposition techniques that are at the foundation of our anisotropic PDE discretizations on Cartesian grids. The general objective is to write a given symmetric positive definite matrix $D$ under the form\n",
    "$$\n",
    "    D = \\sum_{0 \\leq i < I} \\lambda_i e_i e_i^T. \n",
    "$$\n",
    "From this point, various numerical schemes can be designed, for both first order and second order, and both linear and non-linear PDEs.\n",
    "\n",
    "The techniques used for constructing the above decomposition are non-trivial, and are related to classical yet subtle tools of discrete geometry. This notebook is meant to illustrate some of their properties.\n",
    "\n",
    "This notebook is limited to dimensions $d\\in \\{2,3\\}$. Tensor decomposition in dimension $d \\in \\{4,5\\}$ requires another set of techniques (and in practice the call to a c++ library), which are discussed in [II Tensor decomposition, dimensions 4 and 5](TensorVoronoi.ipynb)\n",
    "\n",
    "**References**\n",
    "\n",
    "The tensor decomposition presented in this notebook is a central ingredient of the following paper:\n",
    "\n",
    "Fehrenbach, J., & Mirebeau, J.-M. (2014). Sparse non-negative stencils for anisotropic diffusion. Journal of Mathematical Imaging and Vision, 49(1), 123–147. http://doi.org/http://dx.doi.org/10.1007/s10851-013-0446-3"
   ]
  },
  {
   "cell_type": "markdown",
   "metadata": {
    "editable": true,
    "slideshow": {
     "slide_type": ""
    },
    "tags": []
   },
   "source": [
    "[**Summary**](Summary.ipynb) of volume Algorithmic tools, this series of notebooks.\n",
    "\n",
    "[**Main summary**](../Summary.ipynb) of the Adaptive Grid Discretizations \n",
    "\tbook of notebooks, including the other volumes.\n",
    "\n",
    "# Table of contents\n",
    "  * [1. Decomposing a tensor, or a tensor field](#1.-Decomposing-a-tensor,-or-a-tensor-field)\n",
    "    * [1.1 Case of a $2\\times 2$ matrix](#1.1-Case-of-a-$2\\times-2$-matrix)\n",
    "    * [1.2 Case of a $3 \\times 3$ matrix.](#1.2-Case-of-a-$3-\\times-3$-matrix.)\n",
    "    * [1.3 Case of (extremely) strong anisotropy](#1.3-Case-of-(extremely)-strong-anisotropy)\n",
    "    * [1.4 Decomposition a field of symmetric tensors](#1.4-Decomposition-a-field-of-symmetric-tensors)\n",
    "  * [2. Under the hood : obtuse superbases](#2.-Under-the-hood-:-obtuse-superbases)\n",
    "    * [2.1 Two dimensions](#2.1-Two-dimensions)\n",
    "    * [2.2 Three dimensions](#2.2-Three-dimensions)\n",
    "  * [3. Properties of the decomposition](#3.-Properties-of-the-decomposition)\n",
    "    * [3.1 Offsets smallness](#3.1-Offsets-smallness)\n",
    "    * [3.2 Stability](#3.2-Stability)\n",
    "    * [3.3 Spanning property (no chessboard artifacts)](#3.3-Spanning-property-(no-chessboard-artifacts))\n",
    "    * [3.4 Piecewise linearity](#3.4-Piecewise-linearity)\n",
    "  * [4. Smooth two-dimensional decomposition](#4.-Smooth-two-dimensional-decomposition)\n",
    "    * [4.1 Construction](#4.1-Construction)\n",
    "    * [4.2 Display of coefficients](#4.2-Display-of-coefficients)\n",
    "    * [4.3 Linear decomposition](#4.3-Linear-decomposition)\n",
    "    * [4.4 Automatic differentiation](#4.4-Automatic-differentiation)\n",
    "  * [5. Convolved decomposition](#5.-Convolved-decomposition)\n",
    "  * [6. Smooth three-dimensional decomposition](#6.-Smooth-three-dimensional-decomposition)\n",
    "    * [6.1 Python implementation](#6.1-Python-implementation)\n",
    "    * [6.2 Comparison with the C++ implementation](#6.2-Comparison-with-the-C++-implementation)\n",
    "\n",
    "\n",
    "\n",
    "**Acknowledgement.** Some of the experiments presented in these notebooks are part of \n",
    "ongoing research with Ludovic Métivier and Da Chen.\n",
    "\n",
    "Copyright Jean-Marie Mirebeau, Centre Borelli, ENS Paris-Saclay, CNRS, University Paris-Saclay"
   ]
  },
  {
   "cell_type": "markdown",
   "metadata": {},
   "source": [
    "## 0. Importing the required libraries"
   ]
  },
  {
   "cell_type": "code",
   "execution_count": 1,
   "metadata": {},
   "outputs": [],
   "source": [
    "import sys; sys.path.insert(0,\"..\") # Allow import of agd from parent directory (useless if conda package installed)\n",
    "#from Miscellaneous import TocTools; print(TocTools.displayTOC('TensorSelling','Algo'))"
   ]
  },
  {
   "cell_type": "code",
   "execution_count": 2,
   "metadata": {
    "editable": true,
    "slideshow": {
     "slide_type": ""
    },
    "tags": [
     "ExportCode"
    ]
   },
   "outputs": [],
   "source": [
    "from agd import LinearParallel as lp\n",
    "from agd import FiniteDifferences as fd\n",
    "from agd import Selling\n",
    "from agd.Plotting import savefig; #savefig.dirName = 'Figures/TensorSelling'\n",
    "from agd import AutomaticDifferentiation as ad\n",
    "from agd import Interpolation\n",
    "from agd.Metrics import Riemann"
   ]
  },
  {
   "cell_type": "markdown",
   "metadata": {
    "editable": true,
    "slideshow": {
     "slide_type": ""
    },
    "tags": []
   },
   "source": [
    "The library imported as **lp** is a set of routines meant to facilitate the manipulation of *numerous small vectors and matrices* simultaneously. It is based on numpy and implements  only a small number of linear algebra tools."
   ]
  },
  {
   "cell_type": "code",
   "execution_count": 3,
   "metadata": {
    "editable": true,
    "slideshow": {
     "slide_type": ""
    },
    "tags": [
     "ExportCode"
    ]
   },
   "outputs": [],
   "source": [
    "import numpy as np; xp = np; allclose = np.allclose; π = np.pi\n",
    "import matplotlib.pyplot as plt\n",
    "np.set_printoptions(linewidth=2000)"
   ]
  },
  {
   "cell_type": "markdown",
   "metadata": {
    "editable": true,
    "slideshow": {
     "slide_type": ""
    },
    "tags": []
   },
   "source": [
    "### 0.1 Additional configuration\n",
    "\n",
    "Uncomment the following line to run the notebook on the GPU. (This only for compatibility testing, since no intensive computation is involved in this specific notebook.)"
   ]
  },
  {
   "cell_type": "code",
   "execution_count": 4,
   "metadata": {
    "editable": true,
    "slideshow": {
     "slide_type": ""
    },
    "tags": [
     "GPU_config"
    ]
   },
   "outputs": [],
   "source": [
    "#xp,plt,allclose=map(ad.cupy_friendly,(xp,plt,allclose))"
   ]
  },
  {
   "cell_type": "markdown",
   "metadata": {
    "editable": true,
    "slideshow": {
     "slide_type": ""
    },
    "tags": []
   },
   "source": [
    "## 1. Decomposing a tensor, or a tensor field\n",
    "\n",
    "In order to illustrate our tensor decomposition facilities, we will rely on randomly generated *symmetric positive definite* tensors. They are built as \n",
    "$$\n",
    "    M = A^T A + \\varepsilon \\mathrm{Id}\n",
    "$$\n",
    "where $A$ has normalized random Gaussian entries."
   ]
  },
  {
   "cell_type": "code",
   "execution_count": 5,
   "metadata": {
    "tags": [
     "ExportCode"
    ]
   },
   "outputs": [],
   "source": [
    "def MakeRandomTensor(dim,shape = tuple(),relax=0.01):\n",
    "    identity = fd.as_field(np.eye(dim),shape,depth=2)\n",
    "    A = np.random.standard_normal( (dim,dim) + shape ) \n",
    "    M = lp.dot_AA(lp.transpose(A),A) + relax*identity\n",
    "    return xp.asarray(M) # Convert to GPU array if needed"
   ]
  },
  {
   "cell_type": "code",
   "execution_count": 6,
   "metadata": {},
   "outputs": [],
   "source": [
    "# For reproducibility, we fix the random seed\n",
    "np.random.seed(42) "
   ]
  },
  {
   "cell_type": "markdown",
   "metadata": {},
   "source": [
    "### 1.1 Case of a $2\\times 2$ matrix \n"
   ]
  },
  {
   "cell_type": "code",
   "execution_count": 7,
   "metadata": {},
   "outputs": [],
   "source": [
    "# Generate a 2x2 random psd tensor\n",
    "D2 = MakeRandomTensor(2)"
   ]
  },
  {
   "cell_type": "markdown",
   "metadata": {},
   "source": [
    "The **Selling.Decomposition** routine, applies to a symmetric positive definite matrix $D$ of size $d \\times d$, with $d\\leq 3$. It returns coefficients $\\lambda_i \\geq 0$ and offsets $e_i \\in Z^d$.\n",
    "\n",
    "A discussion on the inner workings of this decomposition is presented in the next section."
   ]
  },
  {
   "cell_type": "code",
   "execution_count": 8,
   "metadata": {},
   "outputs": [],
   "source": [
    "coefs,offsets = Selling.Decomposition(D2)"
   ]
  },
  {
   "cell_type": "markdown",
   "metadata": {},
   "source": [
    "The matrix can be reconstructed by the formula\n",
    "$$\n",
    "    D = \\sum_{0 \\leq i < I} \\lambda_i e_i e_i^T. \n",
    "$$\n",
    "\n",
    "<!---ExoFR\n",
    "Définissez une fonction qui reconstruit le tenseur D à partir de coefficients $(\\lambda_i)_{0\\leq i <I}$ et offsets $(e_i)_{0 \\leq i < I}$.\n",
    "--->\n",
    "\n",
    "<!---ExoCode\n",
    "def Reconstruct(coefs,offsets):\n",
    "    \"\"\"\n",
    "    Input.\n",
    "     - coefs :   array of shape   (I,n1,...,nk)\n",
    "     - offsets : array of shape (d,I,n1,...,nk)\n",
    "    Output. \n",
    "     - D :       array of shape (d,d,n1,...,nk)\n",
    "    \"\"\"\n",
    "    return # TODO.\n",
    "--->"
   ]
  },
  {
   "cell_type": "code",
   "execution_count": 9,
   "metadata": {
    "tags": [
     "ExportCode"
    ]
   },
   "outputs": [],
   "source": [
    "def Reconstruct(coefs,offsets):\n",
    "     return (coefs*lp.outer_self(offsets)).sum(2)"
   ]
  },
  {
   "cell_type": "code",
   "execution_count": 10,
   "metadata": {},
   "outputs": [],
   "source": [
    "assert allclose(D2,Reconstruct(coefs,offsets))"
   ]
  },
  {
   "cell_type": "markdown",
   "metadata": {},
   "source": [
    "There are $I = d(d+1)/2$ coefficients and offsets (a.k.a $I=3$ if $d=2$, and $I=6$ if $d=3$). Note that this is more than the similar-looking eigen-decomposition of a matrix, which uses only $d$ coefficients and unit vectors. However, Selling's offsets have integer entries, hence are suitable for the construction of finite difference schemes."
   ]
  },
  {
   "cell_type": "code",
   "execution_count": 11,
   "metadata": {},
   "outputs": [
    {
     "name": "stdout",
     "output_type": "stream",
     "text": [
      "Selling decomposition of matrix : \n",
      " [[0.67622539 0.91777115]\n",
      " [0.91777115 2.34873696]]\n",
      "Coefficients :  [0.43467964 0.94787431 0.24154575]\n",
      "Offsets : \n",
      " [[-1  0  1]\n",
      " [-1 -1  2]]\n"
     ]
    }
   ],
   "source": [
    "print(\"Selling decomposition of matrix : \\n\", D2)\n",
    "print(\"Coefficients : \", coefs)\n",
    "print(\"Offsets : \\n\", offsets)"
   ]
  },
  {
   "cell_type": "code",
   "execution_count": 12,
   "metadata": {},
   "outputs": [],
   "source": [
    "plt.axis('equal'); plt.title(\"Decomposition offsets for the matrix D2\")\n",
    "plt.quiver(*np.zeros(offsets.shape),*offsets,angles='xy',scale_units='xy',scale=1);\n",
    "plt.scatter(*offsets); plt.scatter(*(-offsets));"
   ]
  },
  {
   "cell_type": "markdown",
   "metadata": {},
   "source": [
    "### 1.2 Case of a $3 \\times 3$ matrix.\n",
    "\n",
    "As previously, we generate a 3x3 random psd tensor, decompose it and validate the absence of reconstruction error."
   ]
  },
  {
   "cell_type": "code",
   "execution_count": 13,
   "metadata": {},
   "outputs": [],
   "source": [
    "D3 = MakeRandomTensor(3)"
   ]
  },
  {
   "cell_type": "code",
   "execution_count": 14,
   "metadata": {},
   "outputs": [],
   "source": [
    "coefs,offsets = Selling.Decomposition(D3)"
   ]
  },
  {
   "cell_type": "code",
   "execution_count": 15,
   "metadata": {},
   "outputs": [],
   "source": [
    "assert allclose(D3,Reconstruct(coefs,offsets))"
   ]
  },
  {
   "cell_type": "code",
   "execution_count": 16,
   "metadata": {},
   "outputs": [
    {
     "name": "stdout",
     "output_type": "stream",
     "text": [
      "Selling decomposition of matrix : \n",
      " [[ 0.86853982 -0.08963958 -0.06552819]\n",
      " [-0.08963958  0.50213052 -0.73715916]\n",
      " [-0.06552819 -0.73715916  2.85683026]]\n",
      "Coefficients :  [0.15516777 0.08963958 0.62373247 0.23502864 1.49444606 0.1774623 ]\n",
      "Offsets : \n",
      " [[-1  1 -1  0  0  0]\n",
      " [ 0 -1  0  1  0 -1]\n",
      " [ 1  1  0 -2  1  1]]\n"
     ]
    }
   ],
   "source": [
    "print(\"Selling decomposition of matrix : \\n\", D3)\n",
    "print(\"Coefficients : \", coefs)\n",
    "print(\"Offsets : \\n\", offsets)"
   ]
  },
  {
   "cell_type": "markdown",
   "metadata": {},
   "source": [
    "### 1.3 Case of (extremely) strong anisotropy\n",
    "\n",
    "Selling's tensor decomposition algorithm requires the matrix to be positive definite. It involves a loop, whose number of iterations grows to infinity as the matrix degenerates.\n",
    "\n",
    "A maximum number of iterations is set by default, to a reasonably large value, so that non-convergence is typically due to an error on the user's side - namely a non-positive matrix. \n",
    "\n",
    "In the following cell, we define the following matrix, which is positive definite but strongly anisotropic:\n",
    "$$\n",
    "    \\begin{pmatrix}\n",
    "    1 & \\varepsilon\\\\\n",
    "    \\varepsilon & 2 \\varepsilon^2\n",
    "    \\end{pmatrix}\n",
    "$$"
   ]
  },
  {
   "cell_type": "code",
   "execution_count": 17,
   "metadata": {},
   "outputs": [],
   "source": [
    "# Construct some matrix with extremely large condition number\n",
    "eps = 1/200.\n",
    "D2_bad = np.array([[1,eps],[eps,2*eps**2]])"
   ]
  },
  {
   "cell_type": "markdown",
   "metadata": {},
   "source": [
    "In addition, the anisotropy direction of this matrix is *almost but not exactly* aligned with the coordinate axes, which is a worst case scenario for Selling's algorithm. As a result, Selling's algorithm fails to converge within the prescribed iteration limit."
   ]
  },
  {
   "cell_type": "code",
   "execution_count": 18,
   "metadata": {},
   "outputs": [
    {
     "name": "stdout",
     "output_type": "stream",
     "text": [
      "(\"Selling's algorithm did not terminate in iterMax2=100 iterations\",)\n"
     ]
    }
   ],
   "source": [
    "#Selling's decomposition does not terminate within the iteration limit\n",
    "try:\n",
    "    coefs,offsets = Selling.Decomposition(D2_bad)\n",
    "except ValueError as e:\n",
    "    print(e.args)"
   ]
  },
  {
   "cell_type": "markdown",
   "metadata": {},
   "source": [
    "The iteration limit of Selling's algorithm may be increased, so as to ensure correct termination."
   ]
  },
  {
   "cell_type": "code",
   "execution_count": 19,
   "metadata": {},
   "outputs": [],
   "source": [
    "Selling.iterMax2 *= 2"
   ]
  },
  {
   "cell_type": "code",
   "execution_count": 20,
   "metadata": {},
   "outputs": [],
   "source": [
    "coefs,offsets = Selling.Decomposition(D2_bad)"
   ]
  },
  {
   "cell_type": "markdown",
   "metadata": {},
   "source": [
    "However, the resulting offsets are unlikely to be of use for any PDE discretization, since they are way too large. \n",
    "\n",
    "Note also that basis reduction techniques more efficient than Selling's algorithm are available for tensors with extremely large condition numbers. (E.g. Lagrange's algorithm.)"
   ]
  },
  {
   "cell_type": "code",
   "execution_count": 21,
   "metadata": {},
   "outputs": [
    {
     "name": "stdout",
     "output_type": "stream",
     "text": [
      "offsets : \n",
      " [[-99 100  -1]\n",
      " [ -1   1   0]]\n"
     ]
    }
   ],
   "source": [
    "print(\"offsets : \\n\", offsets)"
   ]
  },
  {
   "cell_type": "markdown",
   "metadata": {},
   "source": [
    "### 1.4 Decomposition a field of symmetric tensors\n",
    "\n",
    "Our implementation of Selling's algorithm automatically threads over dimensions deeper than two."
   ]
  },
  {
   "cell_type": "code",
   "execution_count": 22,
   "metadata": {},
   "outputs": [],
   "source": [
    "# Generate a 10x10 field of random 2x2 spd tensors\n",
    "D2_field = MakeRandomTensor(2,(10,10))"
   ]
  },
  {
   "cell_type": "code",
   "execution_count": 23,
   "metadata": {},
   "outputs": [],
   "source": [
    "coefs, offsets = Selling.Decomposition(D2_field)"
   ]
  },
  {
   "cell_type": "markdown",
   "metadata": {},
   "source": [
    "The shape of the matrix field is $(d,d, n_1,\\cdots,n_k)$, whereas the coefficients are $(I,n_1,\\cdots,n_k)$ and the offsets $(d,I,n_1,\\cdots,n_k)$ where $I = d (d+1)/2$."
   ]
  },
  {
   "cell_type": "code",
   "execution_count": 24,
   "metadata": {},
   "outputs": [
    {
     "name": "stdout",
     "output_type": "stream",
     "text": [
      "(2, 2, 10, 10), (3, 10, 10), (2, 3, 10, 10)\n"
     ]
    }
   ],
   "source": [
    "print(f\"{D2_field.shape}, {coefs.shape}, {offsets.shape}\")"
   ]
  },
  {
   "cell_type": "code",
   "execution_count": 25,
   "metadata": {},
   "outputs": [],
   "source": [
    "assert allclose(D2_field,Reconstruct(coefs,offsets))"
   ]
  },
  {
   "cell_type": "markdown",
   "metadata": {},
   "source": [
    "## 2. Under the hood : obtuse superbases\n",
    "\n",
    "This section illustrates the main mathematical concept underlying Selling's decomposition, known as *obtuse superbases* of the lattice $Z^d$.\n",
    "\n",
    "A superbase of $Z^d$ is a special kind of coordinate system $(b_0,\\cdots,b_d)$, spanning the lattice of integer points and with some redundancy. More precisely, one requires\n",
    "$$\n",
    "\\begin{aligned}\n",
    "    b_0+\\cdots+b_d &= 0,\\\\\n",
    "    \\det(b_1,\\cdots,b_d) &= \\pm 1.\n",
    "\\end{aligned}\n",
    "$$\n",
    "Such a superbase is said $D$-obtuse, where $D$ is a given $d\\times d$ symmetric positive definite matrix, if \n",
    "$$\n",
    "    <b_i,D b_j> \\leq 0\n",
    "$$\n",
    "for all distinct $i,j\\in \\{0,\\cdots,d\\}$.\n",
    "\n",
    "Sellings decomposition of a matrix $D \\in S_d^{++}$ is based Selling's formula applied to a $D$-obtuse superbase, which itself is produced by Selling's algorithm."
   ]
  },
  {
   "cell_type": "markdown",
   "metadata": {},
   "source": [
    "### 2.1 Two dimensions\n",
    "\n",
    "The following method applies Selling's algorithm to a given positive definite tensor $D \\in S_2^{++}$, producing a suitable superbase of $Z^2$.\n",
    "\n",
    "<!---ExoFR\n",
    "Implémenter l'algorithme de Selling, pour construire une superbase $D$-obtuse pour toute matrice symétrique définie positive $D$ donnée de taille $2 \\times 2$.\n",
    "\n",
    "On rappelle que si $(v_0,v_1,v_2)$ est une superbase qui n'est pas obtuse, donc satisfaisant $<v_i,D v_j> > 0$ où $\\{i,j,k\\}$ est une permutation de $\\{0,1,2\\}$, alors la règle de mise à jour Selling est \n",
    "$$\n",
    "    (v_0,v_1,v_2) \\gets (-v_i,v_j,v_i-v_j).\n",
    "$$\n",
    "--->\n",
    "\n",
    "<!---ExoCode\n",
    "def ObtuseSuperbase2(D,niter=100):\n",
    "    \"\"\"\n",
    "    Input.\n",
    "     - D :  array of shape (2,2)\n",
    "    Output : \n",
    "     - sb : array of shape (2,3)\n",
    "    \"\"\"\n",
    "    sb = np.array([[-1,-1],[1,0],[0,1]]) # here of shape (3,2), transposed in the end\n",
    "    for _ in range(niter):\n",
    "        for i,j,k in [(0,1,2),(0,2,1),(1,2,0)]:\n",
    "            # TODO : check if <sb_i, D sb_j> > 0\n",
    "            # in that case, apply the Selling update rule and break\n",
    "        else: \n",
    "            # All superbase angles are obtuse\n",
    "            return sb.T\n",
    "    raise ValueError(f\"Selling algorithm failed to converge in {niter} iterations\")\n",
    "\n",
    "# Try your code\n",
    "sb = ObtuseSuperbase2(D2)\n",
    "--->\n",
    "\n",
    "<!---\n",
    "def ObtuseSuperbase2(D,niter=100):\n",
    "    sb = np.array([[-1,-1],[1,0],[0,1]])\n",
    "    for _ in range(niter):\n",
    "        for i,j,k in [(0,1,2),(0,2,1),(1,2,0)]:\n",
    "            if lp.dot_VAV(sb[i],D,sb[j]) > 0:\n",
    "                sb[k] = sb[i]-sb[j]\n",
    "                sb[i] = -sb[i]\n",
    "                break\n",
    "        else: \n",
    "            return sb.T\n",
    "    raise ValueError(f\"Selling algorithm failed to converge in {niter} iterations\")\n",
    "--->"
   ]
  },
  {
   "cell_type": "code",
   "execution_count": 26,
   "metadata": {},
   "outputs": [],
   "source": [
    "sb = Selling.ObtuseSuperbase(D2)"
   ]
  },
  {
   "cell_type": "code",
   "execution_count": 27,
   "metadata": {},
   "outputs": [
    {
     "data": {
      "text/plain": [
       "array([[-1., -1.,  2.],\n",
       "       [ 1., -0., -1.]])"
      ]
     },
     "execution_count": 27,
     "metadata": {},
     "output_type": "execute_result"
    }
   ],
   "source": [
    "sb"
   ]
  },
  {
   "cell_type": "markdown",
   "metadata": {},
   "source": [
    "The generated superbase $(b_0,\\cdots,b_d)$ is designed to be $D$-obtuse. In other words to obey \n",
    "$$\n",
    "    <b_i,D b_j> \\leq 0\n",
    "$$\n",
    "for all distinct $i,j\\in \\{0,\\cdots,d\\}$."
   ]
  },
  {
   "cell_type": "code",
   "execution_count": 28,
   "metadata": {},
   "outputs": [
    {
     "data": {
      "text/plain": [
       "[-0.2415457537440081, -0.4346796384446704, -0.9478743070679034]"
      ]
     },
     "execution_count": 28,
     "metadata": {},
     "output_type": "execute_result"
    }
   ],
   "source": [
    "[lp.dot_VAV(sb[:,i],D2,sb[:,np.mod(i+1,3)]) for i in range(3)]"
   ]
  },
  {
   "cell_type": "markdown",
   "metadata": {},
   "source": [
    "Selling's formula yields the desired decomposition of the given symmetric positive definite matrix $D$\n",
    "$$\n",
    "    D = -\\sum_{0\\leq i<j \\leq d} <b_i,D b_j> v_{ij} v_{ij}^T,\n",
    "$$\n",
    "where one defines $v_{ij} = \\pm b_k^\\perp$ whenever $\\{i,j,k\\} = \\{0,1,2\\}$. \n",
    "\n",
    "Note that, \n",
    "* the weight of the decomposition are the negated scalar products, hence are non-negative.\n",
    "* the offsets of the decomposition are the superbase elements rotated by $\\pi/2$, hence have integer coordinates.\n",
    "\n",
    "<!---ExoFR\n",
    "Implémentez la formule de reconstruction de Selling, en dimension 2.\n",
    "--->\n",
    "\n",
    "<!---ExoCode\n",
    "def Decomposition2(D):\n",
    "    coefs = []\n",
    "    offsets = []\n",
    "    for i,j,k in [(0,1,2),(0,2,1),(1,2,0)]:\n",
    "        coefs.append(   # TODO. Append coefficient\n",
    "        offsets.append( # TODO. Append offset\n",
    "    return np.array(coefs),np.array(offsets).T\n",
    "--->\n",
    "\n",
    "<!---\n",
    "def Decomposition2(D):\n",
    "    sb = ObtuseSuperbase2(D)\n",
    "    coefs = []\n",
    "    offsets = []\n",
    "    for i,j,k in [(0,1,2),(0,2,1),(1,2,0)]:\n",
    "        coefs.append(-lp.dot_VAV(sb[:,i],D,sb[:,j]))\n",
    "        offsets.append([sb[1,k],-sb[0,k]])\n",
    "    return np.array(coefs),np.array(offsets).T\n",
    "--->"
   ]
  },
  {
   "cell_type": "code",
   "execution_count": 29,
   "metadata": {},
   "outputs": [],
   "source": [
    "coefs,offsets = Selling.Decomposition(D2,sb=sb)"
   ]
  },
  {
   "cell_type": "code",
   "execution_count": 30,
   "metadata": {},
   "outputs": [
    {
     "name": "stdout",
     "output_type": "stream",
     "text": [
      "Coefficients :  [0.43467964 0.94787431 0.24154575]\n",
      "Offsets : \n",
      " [[-1  0  1]\n",
      " [-1 -1  2]]\n"
     ]
    }
   ],
   "source": [
    "print(\"Coefficients : \", coefs)\n",
    "print(\"Offsets : \\n\", offsets)"
   ]
  },
  {
   "cell_type": "markdown",
   "metadata": {},
   "source": [
    "It is possible to produce a tensor decomposition from an arbitrary superbase, but the coefficients are positive only if the superbase is obtuse."
   ]
  },
  {
   "cell_type": "code",
   "execution_count": 31,
   "metadata": {},
   "outputs": [
    {
     "name": "stdout",
     "output_type": "stream",
     "text": [
      "Coefficients :  [-0.91777115  3.26650811  1.59399654]\n",
      "Offsets : \n",
      " [[ 1  0 -1]\n",
      " [-1  1  0]]\n"
     ]
    }
   ],
   "source": [
    "sb = Selling.CanonicalSuperbase(D2) # Only takes the dimension an array type from the argument\n",
    "coefs,offsets = Selling.Decomposition(D2,sb=sb)\n",
    "print(\"Coefficients : \", coefs)\n",
    "print(\"Offsets : \\n\", offsets)"
   ]
  },
  {
   "cell_type": "code",
   "execution_count": 32,
   "metadata": {},
   "outputs": [],
   "source": [
    "assert np.allclose(D2,Reconstruct(coefs,offsets))"
   ]
  },
  {
   "cell_type": "markdown",
   "metadata": {},
   "source": [
    "### 2.2 Three dimensions\n",
    "\n",
    "We follow similar steps in dimension $d=3$. Selling's algorithm, applied to the given matrix $D$, yields a specific superbase of $Z^3$.\n",
    "\n",
    "<!---ExoFR\n",
    "Implémenter l'algorithme de Selling, pour construire une superbase $D$-obtuse pour toute matrice symétrique définie positive $D$ donnée de taille $3 \\times 3$.\n",
    "\n",
    "On rappelle que si $(v_0,v_1,v_2,v_3)$ est une superbase qui n'est pas obtuse, donc satisfaisant $<v_i,D v_j> > 0$ où $\\{i,j,k,l\\}$ est une permutation de $\\{0,1,2,3\\}$, alors la règle de mise à jour Selling est \n",
    "$$\n",
    "    (v_0,v_1,v_2,v_3) \\gets (-v_i,v_j,v_k+v_i,v_l+v_i).\n",
    "$$\n",
    "--->\n",
    "\n",
    "<!---ExoCode\n",
    "def ObtuseSuperbase3(D,niter=100):\n",
    "    \"\"\"\n",
    "    Input.\n",
    "     - D :  array of shape (3,3)\n",
    "    Output : \n",
    "     - sb : array of shape (3,6)\n",
    "    \"\"\"\n",
    "    # TODO : reprendre et adapter ObtuseSuperbase2\n",
    "    raise ValueError(f\"Selling algorithm failed to converge in {niter} iterations\")\n",
    "\n",
    "# Try your code\n",
    "sb = ObtuseSuperbase3(D3)\n",
    "--->"
   ]
  },
  {
   "cell_type": "code",
   "execution_count": 33,
   "metadata": {},
   "outputs": [],
   "source": [
    "sb = Selling.ObtuseSuperbase(D3)"
   ]
  },
  {
   "cell_type": "code",
   "execution_count": 34,
   "metadata": {},
   "outputs": [
    {
     "data": {
      "text/plain": [
       "array([[ 1., -0.,  0., -1.],\n",
       "       [ 0.,  1.,  1., -2.],\n",
       "       [ 0.,  1.,  0., -1.]])"
      ]
     },
     "execution_count": 34,
     "metadata": {},
     "output_type": "execute_result"
    }
   ],
   "source": [
    "sb"
   ]
  },
  {
   "cell_type": "markdown",
   "metadata": {},
   "source": [
    "The superbase produced by Selling's algorithm is $D$-obtuse, similarly to the two dimensional case."
   ]
  },
  {
   "cell_type": "code",
   "execution_count": 35,
   "metadata": {},
   "outputs": [
    {
     "data": {
      "text/plain": [
       "[-0.1551677694190755,\n",
       " -0.08963958172347006,\n",
       " -0.2350286383841237,\n",
       " -0.6237324732734056,\n",
       " -1.4944460568297004,\n",
       " -0.1774622969114411]"
      ]
     },
     "execution_count": 35,
     "metadata": {},
     "output_type": "execute_result"
    }
   ],
   "source": [
    "[lp.dot_VAV(sb[:,i],D3,sb[:,j]) for i in range(4) for j in range(i)]"
   ]
  },
  {
   "cell_type": "markdown",
   "metadata": {},
   "source": [
    "Selling's formula yields the desired decomposition of the given positive definite matrix $D \\in S_3^{++}$:\n",
    "$$\n",
    "    D = -\\sum_{0\\leq i<j \\leq d} <b_i,D b_j> v_{ij} v_{ij}^T,\n",
    "$$\n",
    "where one defines $v_{ij} = \\pm b_k \\wedge b_l$ whenever $\\{i,j,k,l\\} = \\{0,1,2,3\\}$. \n",
    "\n",
    "Note that:\n",
    "* the weight of the decomposition are the negated scalar products, hence are non-negative.\n",
    "* the offsets of the decomposition are the cross-products of superbase elements (or their opposites), hence have integer entries.\n",
    "\n",
    "<!---ExoFR\n",
    "Implémenter la formule de décomposition de Selling en dimension $d=3$.\n",
    "--->\n",
    "\n",
    "<!---ExoCode\n",
    "def Decomposition3(D):\n",
    "    \"\"\"\n",
    "    Input.\n",
    "     - D :       array of shape (3,3)\n",
    "    Output.\n",
    "     - coefs :   array of shape (6,)\n",
    "     - offsets : array of shape (3,6)\n",
    "    \"\"\"\n",
    "    coefs = []\n",
    "    offsets = []\n",
    "    # TODO : Reprendre et adapter Decomposition2\n",
    "    return np.array(coefs),np.array(offsets).T\n",
    "--->"
   ]
  },
  {
   "cell_type": "code",
   "execution_count": 36,
   "metadata": {},
   "outputs": [],
   "source": [
    "coefs,offsets = Selling.Decomposition(D3)"
   ]
  },
  {
   "cell_type": "code",
   "execution_count": 37,
   "metadata": {},
   "outputs": [
    {
     "name": "stdout",
     "output_type": "stream",
     "text": [
      "Coefficients :  [0.15516777 0.08963958 0.62373247 0.23502864 1.49444606 0.1774623 ]\n",
      "Offsets : \n",
      " [[-1  1 -1  0  0  0]\n",
      " [ 0 -1  0  1  0 -1]\n",
      " [ 1  1  0 -2  1  1]]\n"
     ]
    }
   ],
   "source": [
    "print(\"Coefficients : \", coefs)\n",
    "print(\"Offsets : \\n\", offsets)"
   ]
  },
  {
   "cell_type": "code",
   "execution_count": 38,
   "metadata": {},
   "outputs": [
    {
     "data": {
      "text/plain": [
       "array([[ 0,  0,  1,  0, -1,  1],\n",
       "       [ 1,  0,  0, -1,  1,  0],\n",
       "       [-1, -1,  0,  2, -1, -1]])"
      ]
     },
     "execution_count": 38,
     "metadata": {},
     "output_type": "execute_result"
    }
   ],
   "source": [
    "#Comparing with the cross products of the superbase elements.\n",
    "ad.array(\n",
    "    [lp.cross(sb[:,i],sb[:,j]) for i in range(4) for j in range(i)]\n",
    ").astype(int).T"
   ]
  },
  {
   "cell_type": "markdown",
   "metadata": {},
   "source": [
    "## 3. Properties of the decomposition\n",
    "\n",
    "Selling's decomposition of tensors, presented in this notebook, has a qualities that make it particularly suitable for PDE discretizations. More precisely, it is:\n",
    "* *Local*: The offsets appearing in the decomposition are typically small, and in any case bounded in terms of the anisotropy ratio of the matrix, see below.\n",
    "* *Stable*: The decomposition is unique, up to trivial transformations (reordering the offsets, and replacing some with their opposites). It is also stable, more precisely the coefficients are locally Lipschitz w.r.t. the decomposed matrix.  \n",
    "* *Spanning*: The offsets of the decomposition span $Z^d$ by linear relations with integer coordinates. In practice, this means that anisotropic PDE discretizations using this method should not produce chessboard artifacts. \n",
    "\n",
    "We denote the *anisotropy ratio* of a symmetric positive definite matrix $D$ by \n",
    "$$\n",
    "    \\mu(D) := \\sqrt{\\|D\\| \\|D^{-1}\\|}.\n",
    "$$\n",
    "In other words, this is the square root of the condition number of $D$.\n",
    "\n",
    "We illustrate these properties in dimension $d=2$, by considering the following family of matrices $D(\\theta,\\mu) \\in S_2^{++}$:\n",
    "$$\n",
    "    D(\\theta,\\mu) := \\mu^2 e(\\theta) e(\\theta)^T + e(\\theta)^\\perp (e(\\theta)^\\perp)^T,\n",
    "$$\n",
    "whose condition number is equal to $\\mu\\geq 1$, and whose anisotropy direction is aligned with the vector $e(\\theta):=(\\cos \\theta,\\sin \\theta)$, $\\theta \\in R$."
   ]
  },
  {
   "cell_type": "code",
   "execution_count": 39,
   "metadata": {
    "editable": true,
    "slideshow": {
     "slide_type": ""
    },
    "tags": []
   },
   "outputs": [],
   "source": [
    "θ = xp.linspace(0,π/2,100)\n",
    "μ = 10\n",
    "D2_rotating = (\n",
    "    μ**2 * lp.outer_self(xp.array([np.cos(θ),np.sin(θ)])) \n",
    "    + lp.outer_self(xp.array([-np.sin(θ),np.cos(θ)])) \n",
    ")"
   ]
  },
  {
   "cell_type": "code",
   "execution_count": 40,
   "metadata": {},
   "outputs": [],
   "source": [
    "coefs,offsets = Selling.Decomposition(D2_rotating)"
   ]
  },
  {
   "cell_type": "markdown",
   "metadata": {},
   "source": [
    "### 3.1 Offsets smallness \n",
    "\n",
    "The offsets $(e_i)_{1 \\leq i \\leq I}$ involved in Selling's decomposition of a tensor $D$ obey\n",
    "$$\n",
    "    \\|e_i\\| \\leq C \\mu(D),\n",
    "$$\n",
    "where $C$ is an absolute constant. \n",
    "\n",
    "<!---\n",
    "np.sqrt(np.sum(offsets**2,axis=0))\n",
    "--->"
   ]
  },
  {
   "cell_type": "code",
   "execution_count": 41,
   "metadata": {},
   "outputs": [],
   "source": [
    "offsets_norms = xp.linalg.norm(offsets,axis=0)"
   ]
  },
  {
   "cell_type": "code",
   "execution_count": 42,
   "metadata": {},
   "outputs": [
    {
     "name": "stdout",
     "output_type": "stream",
     "text": [
      "Sqrt of condition number :  10\n",
      "Largest offset norm :  5.0990195135927845\n"
     ]
    }
   ],
   "source": [
    "print(\"Sqrt of condition number : \", μ)\n",
    "print(\"Largest offset norm : \", np.max(offsets_norms))"
   ]
  },
  {
   "cell_type": "code",
   "execution_count": 43,
   "metadata": {},
   "outputs": [],
   "source": [
    "plt.plot(θ,np.max(offsets_norms,axis=0));"
   ]
  },
  {
   "cell_type": "markdown",
   "metadata": {},
   "source": [
    "### 3.2 Stability\n",
    "\n",
    "We can rewrite Selling's decomposition in a manner independent of the a specific ordering of the offsets, as follows\n",
    "$$\n",
    "    D = \\sum_{e \\in Z^d} \\lambda^e(D) e e^T.\n",
    "$$\n",
    "One can then prove that the coefficient $\\lambda^e(D)$ of Selling's tensor decomposition, for a given offset $e \\in Z^d$, depends continuously on the parameter $D$, as illustrated below. "
   ]
  },
  {
   "cell_type": "code",
   "execution_count": 44,
   "metadata": {},
   "outputs": [],
   "source": [
    "decomp = Selling.GatherByOffset(θ,coefs,offsets)"
   ]
  },
  {
   "cell_type": "code",
   "execution_count": 45,
   "metadata": {},
   "outputs": [],
   "source": [
    "fig = plt.figure(figsize=(8,4))\n",
    "for offset,(angle,coef) in decomp.items():\n",
    "    plt.plot(angle,coef)\n",
    "plt.legend(decomp.keys(),ncol=3);\n",
    "savefig(fig,\"Coefs_Sel2_rot.pdf\")"
   ]
  },
  {
   "cell_type": "markdown",
   "metadata": {},
   "source": [
    "### 3.3 Spanning property (no chessboard artifacts)\n",
    "\n",
    "The lattice $Z^d$ is spanned, by integer combinations, by the offsets $(e_i)_{1 \\leq i \\leq I}$ appearing in the decomposition of an arbitrary p.s.d. tensor $D$. In other words, for all $x \\in Z^d$, there exists coefficients $k_1,\\cdots, k_I \\in Z$ such that \n",
    "$$\n",
    "    x = k_1 e_1 + \\cdots+ k_d e_d.\n",
    "$$\n",
    "In addition, one may select this decomposition so that the weight $\\lambda_i$ of $e_i$ is positive whenever $k_i \\neq 0$.\n",
    "\n",
    "This property guarantees that the graph underlying e.g. the discretization of an anisotropic laplacian is locally connected, hence that spurious modes such as chessboard artifacts will not appear. \n",
    "\n",
    "From a mathematical standpoint, the spanning property can be deduced from the construction of the decomposition in terms of obtuse superbases. Numerically, we can check it by finding a subset of the offsets whose determinant equals $\\pm 1$. "
   ]
  },
  {
   "cell_type": "code",
   "execution_count": 46,
   "metadata": {},
   "outputs": [
    {
     "data": {
      "text/plain": [
       "array([ 1,  1, -1,  1, -1, -1, -1, -1, -1, -1, -1, -1, -1,  1,  1,  1,  1,  1,  1, -1, -1, -1, -1, -1, -1, -1, -1, -1,  1,  1,  1,  1, -1, -1, -1, -1, -1, -1, -1, -1, -1, -1, -1, -1, -1, -1, -1, -1,  1, -1, -1,  1, -1, -1, -1, -1, -1, -1, -1, -1, -1, -1, -1, -1, -1, -1, -1, -1,  1,  1,  1,  1, -1, -1, -1, -1, -1, -1, -1, -1, -1,  1,  1,  1,  1,  1,  1, -1, -1, -1, -1, -1, -1, -1, -1, -1,  1, -1,  1, -1])"
      ]
     },
     "execution_count": 46,
     "metadata": {},
     "output_type": "execute_result"
    }
   ],
   "source": [
    "lp.det(offsets[:,0:2])"
   ]
  },
  {
   "cell_type": "code",
   "execution_count": 47,
   "metadata": {},
   "outputs": [],
   "source": [
    "coefs,offsets = Selling.Decomposition(D3)"
   ]
  },
  {
   "cell_type": "code",
   "execution_count": 48,
   "metadata": {},
   "outputs": [
    {
     "data": {
      "text/plain": [
       "-1"
      ]
     },
     "execution_count": 48,
     "metadata": {},
     "output_type": "execute_result"
    }
   ],
   "source": [
    "lp.det(offsets[:,0:3])"
   ]
  },
  {
   "cell_type": "markdown",
   "metadata": {},
   "source": [
    "### 3.4 Piecewise linearity\n",
    "\n",
    "Selling's coefficients depend in a piecewise linear manner on the decomposed tensor, since by Selling's formula they read $ - <b_i,D b_j>$ where $b_i,b_j$ are elements of a $D$-obtuse superbase $(b_0,\\cdots,b_d)$. This property is exploited, in some (somewhat sophisticated) numerical schemes, e.g. for the [Pucci](../Notebooks_NonDiv/NonlinearMonotoneSecond2D.ipynb) and [Monge Ampere](../Notebooks_NonDiv/MongeAmpere.ipynb) PDEs."
   ]
  },
  {
   "cell_type": "code",
   "execution_count": 49,
   "metadata": {},
   "outputs": [],
   "source": [
    "def Interpolate(a,b,T=np.linspace(0,1,100)):\n",
    "    return T, np.moveaxis(ad.array([(1-t)*a + t*b for t in T]),0,-1)"
   ]
  },
  {
   "cell_type": "code",
   "execution_count": 50,
   "metadata": {},
   "outputs": [],
   "source": [
    "np.random.seed(42)\n",
    "t,D2t = Interpolate(MakeRandomTensor(2),MakeRandomTensor(2))\n",
    "decomp = Selling.GatherByOffset(t,*Selling.Decomposition(D2t))"
   ]
  },
  {
   "cell_type": "code",
   "execution_count": 51,
   "metadata": {},
   "outputs": [],
   "source": [
    "fig = plt.figure(figsize=(8,4))\n",
    "for offset,(time,coef) in decomp.items(): plt.plot(time,coef)\n",
    "plt.legend(decomp.keys());"
   ]
  },
  {
   "cell_type": "code",
   "execution_count": 52,
   "metadata": {},
   "outputs": [],
   "source": [
    "np.random.seed(1)\n",
    "t,D3t = Interpolate(MakeRandomTensor(3),MakeRandomTensor(3))\n",
    "decomp = Selling.GatherByOffset(t,*Selling.Decomposition(D3t))"
   ]
  },
  {
   "cell_type": "code",
   "execution_count": 53,
   "metadata": {},
   "outputs": [],
   "source": [
    "fig = plt.figure(figsize=(8,4)); plt.title(\"Coefficients of Selling's decomposition (d=3)\")\n",
    "for offset,(time,coef) in decomp.items(): plt.plot(time,coef)\n",
    "plt.legend(decomp.keys(),ncol=3)\n",
    "savefig(fig,\"Coefs_Sel3.pdf\")"
   ]
  },
  {
   "cell_type": "markdown",
   "metadata": {
    "editable": true,
    "slideshow": {
     "slide_type": ""
    },
    "tags": []
   },
   "source": [
    "## 4. Smooth two-dimensional decomposition\n",
    "\n",
    "The coefficients of Selling's decomposition are piecewise linear, hence have Lipschitz regularity, but not better. In some applications it is preferable, at least from the theoretical standpoint, to define a decomposition whose coefficients have a *Lipschitz gradient*, or whose *square root is Lipschitz*. We describe such a construction in the following."
   ]
  },
  {
   "cell_type": "markdown",
   "metadata": {
    "editable": true,
    "slideshow": {
     "slide_type": ""
    },
    "tags": []
   },
   "source": [
    "### 4.1 Construction\n",
    "\n",
    "Two auxiliary functions are needed for our smooth variant of Selling's decomposition. The first one is a regularized substitude for the absolute value, smoothed within the interval $[-1,1]$."
   ]
  },
  {
   "cell_type": "code",
   "execution_count": 110,
   "metadata": {
    "editable": true,
    "slideshow": {
     "slide_type": ""
    },
    "tags": [
     "ExportCode"
    ]
   },
   "outputs": [],
   "source": [
    "def sabs(x,order):\n",
    "    \"\"\"\n",
    "    Regularized absolute value. Guarantee : 0 <= result-|x| <= 1/2.\n",
    "    - order (0, 1, 2 or 3) : order of the last continuous derivative. \n",
    "    \"\"\"\n",
    "    x = np.abs(x) # Actually useless for this specific application\n",
    "    if order==0: return x # Continuous value\n",
    "    elif order==1: return np.where(x<=1, 0.5*(1+x**2), x) # Continuous derivative\n",
    "    elif order==2: return np.where(x<=1, (3+6*x**2-x**4)/8,x) # Continuous second order derivative\n",
    "    elif order==3: return np.where(x<=1, (5+15*x**2-5*x**4+x**6)/16,x) # Continuous second order derivative\n",
    "    else: raise ValueError(f\"Unsupported {order=} in sabs\")"
   ]
  },
  {
   "cell_type": "code",
   "execution_count": 111,
   "metadata": {
    "editable": true,
    "slideshow": {
     "slide_type": ""
    },
    "tags": []
   },
   "outputs": [],
   "source": [
    "x=np.linspace(-2,2,100)\n",
    "plt.plot(x,sabs(x,order=0),label=\"abs\")\n",
    "plt.plot(x,sabs(x,order=1),label=\"sabs\")\n",
    "plt.plot(x,sabs(x,order=2),label=\"sabs2\")\n",
    "plt.plot(x,sabs(x,order=3),label=\"sabs3\")\n",
    "plt.title(\"Smoothed absolute value\")\n",
    "plt.legend();"
   ]
  },
  {
   "cell_type": "markdown",
   "metadata": {
    "editable": true,
    "slideshow": {
     "slide_type": ""
    },
    "tags": []
   },
   "source": [
    "The second auxiliary function is a regularized substitute for the median of three positive reals $\\rho_0,\\rho_1,\\rho_2$. In addition, the result is also defined in terms of two quantities denoted $s$ and $q$, that are chosen for their invariance under Selling's superbase operations."
   ]
  },
  {
   "cell_type": "code",
   "execution_count": 112,
   "metadata": {
    "editable": true,
    "slideshow": {
     "slide_type": ""
    },
    "tags": [
     "ExportCode"
    ]
   },
   "outputs": [],
   "source": [
    "def smed(ρ0,ρ1,ρ2):\n",
    "    \"\"\"Regularized median (a.k.a. ρ1) assuming ρ0<=ρ1<=ρ2.\n",
    "    Guarantee : ρ1/(2*sqrt(2)) <= result < ρ1\"\"\"\n",
    "    s,q = ρ0*ρ1+ρ1*ρ2+ρ2*ρ0, (ρ2-ρ1)**2 # Invariant quantities under Selling superbase flip \n",
    "    return 0.5*s/np.sqrt(q+2*s) "
   ]
  },
  {
   "cell_type": "code",
   "execution_count": 113,
   "metadata": {
    "editable": true,
    "slideshow": {
     "slide_type": ""
    },
    "tags": []
   },
   "outputs": [],
   "source": [
    "t = np.linspace(0,2*π,200)\n",
    "ρ0,ρ1,ρ2 = np.sort([1.5+np.cos(t),0.5*np.sin(t)**2,np.cos(3*t)+2],axis=0)\n",
    "plt.plot(t,ρ0, t,ρ1, t,ρ2, t,smed(ρ0,ρ1,ρ2))\n",
    "plt.title(\"Smoothed median\")\n",
    "plt.legend(['ρ0','ρ1','ρ2', 'smed']);"
   ]
  },
  {
   "cell_type": "markdown",
   "metadata": {
    "editable": true,
    "slideshow": {
     "slide_type": ""
    },
    "tags": []
   },
   "source": [
    "Consider a positive definite matrix $D$, and a $D$-obtuse superbase $(v_0,v_1,v_2)$.\n",
    "Define the Selling weights $\\rho_i = -<e_{i-1},D e_{i+1}>$, with periodic indices, and offsets $e_i = v_i^\\perp$. Assume that $\\rho_0\\leq \\rho_1\\leq \\rho_2$, up to permuting the basis elements.\n",
    "\n",
    "Our regularized Selling decomposition takes the following form, with $m = \\mathrm{smed}(\\rho_0,\\rho_1,\\rho_2)$.\n",
    "$$\n",
    "    D = \\sum_{0 \\leq i \\leq 2} \\rho_i e_i e_i^\\top + \\frac 1 2 (m\\, \\mathrm{sabs}(\\rho_0/m)-\\rho_0)(e_0 e_0^\\top - 2 e_1 e_1^\\top - 2 e_2 e_2^\\top + (e_1-e_2)(e_1-e_2)^\\top).\n",
    "$$\n",
    "Note that the first term $\\sum_{0 \\leq i \\leq 2} \\rho_i e_i e_i^\\top$ is Selling's standard decomposition of $D$. The second term amounts to zero, since $e_0 e_0^\\top - 2 e_1 e_1^\\top - 2 e_2 e_2^\\top + (e_1-e_2)(e_1-e_2)^\\top = 0$, but it introduces the additional offset $e_1-e_2$ and modifies the weights in a smooth manner."
   ]
  },
  {
   "cell_type": "code",
   "execution_count": 122,
   "metadata": {
    "editable": true,
    "slideshow": {
     "slide_type": ""
    },
    "tags": [
     "ExportCode"
    ]
   },
   "outputs": [],
   "source": [
    "def smooth_decomp(D,order=3):\n",
    "    \"\"\"Smooth variant of Selling's two dimensional decomposition\"\"\"\n",
    "    v = np.moveaxis(Selling.ObtuseSuperbase(D),1,0)\n",
    "    ρ = np.array([-lp.dot_VAV(v[1],D,v[2]),-lp.dot_VAV(v[0],D,v[2]),-lp.dot_VAV(v[0],D,v[1])])\n",
    "    ord = np.argsort(ρ,axis=0) \n",
    "    v = np.take_along_axis(v,ord[:,None],axis=0); ρ=np.take_along_axis(ρ,ord,axis=0)\n",
    "\n",
    "    m = smed(*ρ)\n",
    "    w = np.maximum(0,m*sabs(ρ[0]/m,order)-ρ[0]) # Positive up to roundoff error (max for safety)\n",
    "    \n",
    "    return (ad.array([ρ[0]+w/2, ρ[1]-w, ρ[2]-w, w/2]),\n",
    "         lp.perp(np.moveaxis(ad.array([v[0],v[1],v[2],v[1]-v[2]]),0,1)).astype(int) )"
   ]
  },
  {
   "cell_type": "markdown",
   "metadata": {
    "editable": true,
    "slideshow": {
     "slide_type": ""
    },
    "tags": []
   },
   "source": [
    "### 4.2 Display of coefficients\n",
    "\n",
    "Recall that Selling's decomposition has piecewise linear coefficients."
   ]
  },
  {
   "cell_type": "code",
   "execution_count": 123,
   "metadata": {
    "editable": true,
    "slideshow": {
     "slide_type": ""
    },
    "tags": []
   },
   "outputs": [],
   "source": [
    "np.random.seed(42)\n",
    "t,D2t = Interpolate(MakeRandomTensor(2),MakeRandomTensor(2))\n",
    "if xp is not np: D2t = D2t.get() # Bug with cupy 9.0 and np.zeros_like below"
   ]
  },
  {
   "cell_type": "code",
   "execution_count": 124,
   "metadata": {
    "editable": true,
    "slideshow": {
     "slide_type": ""
    },
    "tags": []
   },
   "outputs": [],
   "source": [
    "fig = plt.figure(figsize=(8,4)); plt.title(\"Coefficients of Selling's decomposition\")\n",
    "decomp = Selling.GatherByOffset(t,*Selling.Decomposition(D2t))\n",
    "for offset,(time,coef) in decomp.items(): plt.plot(time,coef)\n",
    "plt.legend(decomp.keys()); savefig(fig,\"Coefs_Sel2.pdf\")"
   ]
  },
  {
   "cell_type": "markdown",
   "metadata": {
    "editable": true,
    "slideshow": {
     "slide_type": ""
    },
    "tags": []
   },
   "source": [
    "In this section, we constructed a matrix decomposition whose coefficients have a bounded second order derivative."
   ]
  },
  {
   "cell_type": "code",
   "execution_count": 125,
   "metadata": {
    "editable": true,
    "slideshow": {
     "slide_type": ""
    },
    "tags": []
   },
   "outputs": [],
   "source": [
    "fig = plt.figure(figsize=(8,4)); plt.title(\"Coefficients of the smooth decomposition\")\n",
    "decomp = Selling.GatherByOffset(t,*smooth_decomp(D2t,order=1))\n",
    "for offset,(time,coef) in decomp.items(): plt.plot(time,coef)\n",
    "plt.legend(decomp.keys()); savefig(fig,\"Coefs_Smooth.pdf\")"
   ]
  },
  {
   "cell_type": "markdown",
   "metadata": {
    "editable": true,
    "slideshow": {
     "slide_type": ""
    },
    "tags": []
   },
   "source": [
    "In particular, their square root is Lipschitz, a property used in some convergence analyses."
   ]
  },
  {
   "cell_type": "code",
   "execution_count": 126,
   "metadata": {
    "editable": true,
    "slideshow": {
     "slide_type": ""
    },
    "tags": []
   },
   "outputs": [],
   "source": [
    "fig = plt.figure(figsize=(8,4)); plt.title(\"Sqrt of coefficients, smooth decomposition\")\n",
    "for offset,(time,coef) in decomp.items(): plt.plot(time,np.sqrt(coef))\n",
    "plt.legend(decomp.keys(),loc=\"upper right\"); savefig(fig,\"SqCoefs_Smooth.pdf\")"
   ]
  },
  {
   "cell_type": "markdown",
   "metadata": {
    "editable": true,
    "slideshow": {
     "slide_type": ""
    },
    "tags": []
   },
   "source": [
    "Choosing `order=3` in the absolute value regularization, we obtain coefficients wanishing like $\\cO(x^4)$, hence their square root vanishes like $\\cO(x^2)$, differentiably."
   ]
  },
  {
   "cell_type": "code",
   "execution_count": 127,
   "metadata": {
    "editable": true,
    "slideshow": {
     "slide_type": ""
    },
    "tags": []
   },
   "outputs": [],
   "source": [
    "decomp = Selling.GatherByOffset(t,*smooth_decomp(D2t,order=3))\n",
    "fig = plt.figure(figsize=(8,4)); plt.title(\"Sqrt of coefficients, smooth decomposition\")\n",
    "for offset,(time,coef) in decomp.items(): plt.plot(time,np.sqrt(coef))\n",
    "plt.legend(decomp.keys(),loc=\"upper right\"); savefig(fig,\"SqCoefs_Smooth3.pdf\")"
   ]
  },
  {
   "cell_type": "markdown",
   "metadata": {
    "editable": true,
    "slideshow": {
     "slide_type": ""
    },
    "tags": []
   },
   "source": [
    "### 4.3 Linear decomposition\n",
    "\n",
    "Selling's decomposition is piecewise linear, and is non-differentiable close to the identity matrix.\n",
    "In contrast, it can be useful in some applications to have a positive matrix decomposition that is smooth (as the previous one) or even better linear in a neighborhood of the identity matrix. We provide the following routine, which provides such a linear and non-negative decomposition for all positive definite matrices $D$ such that \n",
    "$$\n",
    "    \\kappa \\lambda_{\\max}(D) \\leq \\lambda_{min}(D), \\quad \\kappa:= \\frac {d-1}{d+1},\n",
    "$$\n",
    "using a fixed stencil of $d^2$ points.\n",
    "It appears that no decomposition with a fixed stencil and linear weights applies to a larger neighborhood of the identity matrix, defined by a smaller constant $\\kappa$ (unless there is an error in my calculations)."
   ]
  },
  {
   "cell_type": "code",
   "execution_count": 64,
   "metadata": {
    "editable": true,
    "slideshow": {
     "slide_type": ""
    },
    "tags": [
     "ExportCode"
    ]
   },
   "outputs": [],
   "source": [
    "def linear_decomp_offsets(d):\n",
    "    \"\"\"The stencil for this linear decomposition is fixed and has $d^2$ elements\"\"\"\n",
    "    e = xp.eye(d).astype(int)\n",
    "    return np.concatenate(\n",
    "        (e,xp.array([e[i]+s*e[j] for i in range(d) for j in range(i) for s in (-1,1)])),axis=0).T\n",
    "\n",
    "def linear_decomp_coefs(D):\n",
    "    \"\"\"These weights depend linearly on the matrix $D$\"\"\"\n",
    "    d=len(D)\n",
    "    α=(d+1)/(2*d); β=-1/(2*d); γ=1/(4*d); δ=1/4; # ε=(d-1)/(d+1)\n",
    "    t = sum(D[i,i] for i in range(d))\n",
    "    return np.concatenate((ad.array([(α-β)*D[i,i]+β*t for i in range(d)]),\n",
    "        ad.array([γ*(D[i,i]+D[j,j])+s*δ*(D[i,j]+D[j,i]) for i in range(d) \n",
    "        for j in range(i) for s in (-1,1)]) ),axis=0)\n",
    "\n",
    "def linear_decomp(D): return linear_decomp_coefs(D),linear_decomp_offsets(len(D))"
   ]
  },
  {
   "cell_type": "code",
   "execution_count": 65,
   "metadata": {
    "editable": true,
    "slideshow": {
     "slide_type": ""
    },
    "tags": []
   },
   "outputs": [
    {
     "name": "stdout",
     "output_type": "stream",
     "text": [
      "Two dimensional stencil:\n",
      " [[ 1  0 -1  1]\n",
      " [ 0  1  1  1]]\n",
      "Three dimensional stencil:\n",
      " [[ 1  0  0 -1  1 -1  1  0  0]\n",
      " [ 0  1  0  1  1  0  0 -1  1]\n",
      " [ 0  0  1  0  0  1  1  1  1]]\n"
     ]
    }
   ],
   "source": [
    "print(\"Two dimensional stencil:\\n\",linear_decomp_offsets(2))\n",
    "print(\"Three dimensional stencil:\\n\",linear_decomp_offsets(3))"
   ]
  },
  {
   "cell_type": "markdown",
   "metadata": {
    "editable": true,
    "slideshow": {
     "slide_type": ""
    },
    "tags": []
   },
   "source": [
    "We numerically check the announced properties of this linear decomposition, in dimensions $2$ and $3$, on a hundred matrices."
   ]
  },
  {
   "cell_type": "code",
   "execution_count": 66,
   "metadata": {
    "editable": true,
    "slideshow": {
     "slide_type": ""
    },
    "tags": []
   },
   "outputs": [],
   "source": [
    "d=2; D = MakeRandomTensor(d,(100,),relax=0.5) \n",
    "coefs,offsets = linear_decomp_coefs(D),linear_decomp_offsets(d)\n",
    "\n",
    "# Check reconstruction\n",
    "assert allclose(Reconstruct(coefs,offsets[...,None]),D)\n",
    "\n",
    "# Check positivity for sufficiently well conditioned matrices\n",
    "poscoef = np.min(coefs,axis=0)>=0\n",
    "λmin,λmax = np.linalg.eigvalsh(np.moveaxis(D,-1,0)).T\n",
    "illcond = λmin < (d-1)/(d+1)*λmax\n",
    "assert np.all(poscoef | illcond)"
   ]
  },
  {
   "cell_type": "code",
   "execution_count": 67,
   "metadata": {
    "editable": true,
    "slideshow": {
     "slide_type": ""
    },
    "tags": []
   },
   "outputs": [],
   "source": [
    "d=3; D = MakeRandomTensor(d,(100,),relax=0.5)\n",
    "coefs,offsets = linear_decomp_coefs(D),linear_decomp_offsets(d)\n",
    "\n",
    "# Check reconstruction\n",
    "assert np.allclose(Reconstruct(coefs,offsets[...,None]),D)\n",
    "\n",
    "# Check positivity for sufficiently well conditioned matrices\n",
    "poscoef = np.min(coefs,axis=0)>=0\n",
    "λmin,_,λmax = np.linalg.eigvalsh(np.moveaxis(D,-1,0)).T\n",
    "illcond = λmin < (d-1)/(d+1)*λmax\n",
    "assert np.all(poscoef | illcond)"
   ]
  },
  {
   "cell_type": "markdown",
   "metadata": {
    "editable": true,
    "slideshow": {
     "slide_type": ""
    },
    "tags": []
   },
   "source": [
    "### 4.4 Automatic differentiation\n",
    "\n",
    "**Selling's decomposition** This decomposition is piecewise linear. The code is compatible with automatic differentiation, but the AD part is unstable at points of non-differentiability, which include the identity matrix."
   ]
  },
  {
   "cell_type": "code",
   "execution_count": 68,
   "metadata": {
    "editable": true,
    "slideshow": {
     "slide_type": ""
    },
    "tags": []
   },
   "outputs": [],
   "source": [
    "np.random.seed(42)\n",
    "D0 = ad.Dense.identity(constant=xp.eye(2)) # identity matrix + symbolic first order perturbation\n",
    "D0 = (D0+D0.T)/2 # Symmetrize the first order part\n",
    "D1 = D0 + 1e-4*xp.asarray(np.random.rand(2,2)-0.5) # A perturbation"
   ]
  },
  {
   "cell_type": "markdown",
   "metadata": {
    "editable": true,
    "slideshow": {
     "slide_type": ""
    },
    "tags": []
   },
   "source": [
    "The matrices $D_0$ and $D_1$ are close, and so are their Selling decompositions.\n",
    "(Note that the stencil for $D_0$, the identity matrix, is not uniquely determined, but the Selling weight associated to the modified stencil elements is zero anyway.)\n",
    "However, the first order AD parts are different.\n",
    "\n",
    "<!---\n",
    "λ0,e0 = Selling.Decomposition(D0)\n",
    "λ1,e1 = Selling.Decomposition(D1)\n",
    "print(λ0-λ1)\n",
    "--->"
   ]
  },
  {
   "cell_type": "code",
   "execution_count": 69,
   "metadata": {
    "editable": true,
    "slideshow": {
     "slide_type": ""
    },
    "tags": []
   },
   "outputs": [
    {
     "data": {
      "text/plain": [
       "1.0"
      ]
     },
     "execution_count": 69,
     "metadata": {},
     "output_type": "execute_result"
    }
   ],
   "source": [
    "λ0,e0 = Selling.Decomposition(D0)\n",
    "λ1,e1 = Selling.Decomposition(D1)\n",
    "# In other cases, λ1 may need to be permuted, to account for arbitrary ordering of e0,e1\n",
    "λdiff = λ0-λ1\n",
    "assert np.max(np.abs(λdiff.value)) < 1e-4 # The coefficients values are close\n",
    "np.max(np.abs(λdiff.coef)) # The coefficient derivatives are different"
   ]
  },
  {
   "cell_type": "markdown",
   "metadata": {
    "editable": true,
    "slideshow": {
     "slide_type": ""
    },
    "tags": []
   },
   "source": [
    "**Smoothed variant of Selling's decomposition.** The previous instability phenomenon is avoided with the smooth variant of the decomposition.\n",
    "\n",
    "Note that the *ordering* of the stencil elements, is not uniquely determined. But this can be dealt with easily by putting them into some canonical ordering."
   ]
  },
  {
   "cell_type": "code",
   "execution_count": 70,
   "metadata": {
    "editable": true,
    "slideshow": {
     "slide_type": ""
    },
    "tags": []
   },
   "outputs": [],
   "source": [
    "λ0,e0 = smooth_decomp(D0)\n",
    "λ1,e1 = smooth_decomp(D1)\n",
    "# λ1 is reversed here to account for reversed ordering of the offsets e0 and e1 \n",
    "# (An arbitrary permutation is possible in general)\n",
    "λdiff = λ0-λ1[::-1] \n",
    "assert np.max(np.abs(λdiff.value))<1e-4 # The coefficients are close\n",
    "assert np.max(np.abs(λdiff.coef))<1e-4 # The coefficient derivatives are close"
   ]
  },
  {
   "cell_type": "markdown",
   "metadata": {
    "editable": true,
    "slideshow": {
     "slide_type": ""
    },
    "tags": []
   },
   "source": [
    "**Linear variant.**\n",
    "The linear decomposition presented above only applies to positive definite matrices whose condition number is sufficiently small. Since it linear, however, not only the coefficients are close, but their derivatives are identical. The offsets are also, of course, identical."
   ]
  },
  {
   "cell_type": "code",
   "execution_count": 71,
   "metadata": {
    "editable": true,
    "slideshow": {
     "slide_type": ""
    },
    "tags": []
   },
   "outputs": [],
   "source": [
    "λ0 = linear_decomp_coefs(D0)\n",
    "λ1 = linear_decomp_coefs(D1)\n",
    "λdiff = λ0-λ1 # Always the same ordering here\n",
    "assert np.max(np.abs(λdiff.value))<1e-4 # The coefficients are close\n",
    "assert np.max(np.abs(λdiff.coef))==0 # Their derivatives are identical"
   ]
  },
  {
   "cell_type": "markdown",
   "metadata": {
    "editable": true,
    "slideshow": {
     "slide_type": ""
    },
    "tags": []
   },
   "source": [
    "## 5. Convolved decomposition\n",
    "\n",
    "Another approach to obtain smooth Selling-like coefficients and decomposition is to convolve them. However, this raises the issue of the consistency of the matrix decomposition. \n",
    "\n",
    "If the matrix field is initially given as a convolution,\n",
    "$$\n",
    "    D = D_0 \\star G_\\sigma,\n",
    "$$\n",
    "where $G_\\sigma$ is e.g. a Gaussian kernel, one simply needs to decompose $D_0$ \n",
    "$$\n",
    "    D_0(x) = \\sum_{e \\in \\bZ^d} \\lambda_0^e (x) e e^\\top\n",
    "$$\n",
    "and convolve the obtained coefficients \n",
    "$$\n",
    "    D(x) = \\sum_{e \\in \\bZ^d} \\lambda^e(x) e e^\\top, \\text{ where } \\lambda^e = \\lambda^e_0 \\star G_\\sigma.\n",
    "$$\n",
    "\n",
    "**Possible applications.**\n",
    "In some cases, the matrix field $D$ may be directly given in a convolution form. For instance, in seismic tomography, the model coefficients are obtained from gradient backpropagation, which undergoes Gaussian smoothing. \n",
    "In general, however, the matrix field $D(x)$ has no reason to be of this form. If it is sufficiently smooth, however, then one may de-convolve $D$ to obtain $D_0$. \n",
    "We choose deconvolve using the routines developed for spline coefficients, which have a small stencil of $k$ pixels for order $k$ splines."
   ]
  },
  {
   "cell_type": "markdown",
   "metadata": {},
   "source": [
    "Deconvolution is easily computed using the Fourier transform. More precisely, consider the optimization problem\n",
    "$$\n",
    "    \\min_u \\|G \\star u - v\\|^2 + \\epsilon^2 \\|u\\|^2,\n",
    "$$\n",
    "where $G$ is some convolution kernel, and $\\epsilon>0$ is a relaxation parameter.\n",
    "Assuming periodic boundary conditions, the solution is obtained explicitly as \n",
    "$$\n",
    "    \\hat u := \\frac {\\overline {\\hat G} v}{\\epsilon^2 + |\\hat G|^2}.\n",
    "$$\n",
    "\n",
    "\n",
    "**Notes of caution.**\n",
    "- (Unstability) De-convolution is in unstable, in the limit as $\\epsilon\\to 0$. One of the consequences of this unstability is that the deconvolved tensors may not be positive definite.\n",
    "- (Number of coefficients and complexity.) The number of positive coefficients $\\#\\{e \\mid \\lambda^e(x)>0\\}$ after convolution exceeds the original number $\\#\\{e \\mid \\lambda^e_0(x)>0\\}$, possibly substantially. Very small coefficients are eventually pruned, but the convolution computation may hold large intermediate results. In addition, one cannot bound a priori the number of positive decomposition coefficients. \n",
    "\n",
    "**Alternatives** If the dimension is $d=2$, or if the condition number is sufficiently small, the one can use then the previously introduced smooth and linear decompositions. In dimension $d=3$, we also present below a smooth decomposition, albeit more experimental and costly.\n",
    "\n",
    "<!---\n",
    "def conv_circulant(circ,val):\n",
    "    from numpy.fft import fft,ifft\n",
    "    \"\"\"Product of a circulant matrix with an array of values, computed using the FFT.\"\"\"\n",
    "    return np.moveaxis(ifft(fft(np.moveaxis(val,0,-1)) * fft(circ)).real,-1,0)\n",
    "\n",
    "def conv_decomp(D,order=5,periodic=True,rtol=1e-10):\n",
    "    \"\"\"Deconvolve the matrix field D, apply Selling's decomposition, then convolve the coefficients.\n",
    "    - D : positive definite matrix field, of shape (d,d,n1,...,nk). Convolution is applied to axes n1,...,nk.\n",
    "    - order (either 3, 5 or 7): spline interpolation order\n",
    "    - periodic : choose between periodic and reflected boundary conditions\n",
    "    - rtol : relative tolerance for eliminating small coefficients.\n",
    "    \"\"\"\n",
    "    D = Interpolation.spline_coefs(D,depth=2,order=order,periodic=periodic) # Deconvolution\n",
    "    tol = rtol * lp.trace(D) # Compute absolute tolerance\n",
    "    λ,e = Selling.Decomposition(D) # Selling decomposition\n",
    "    vdim = len(e)\n",
    "    shape = λ[0].shape\n",
    "    pos = np.argmax(e!=0,axis=0) # position of the first non-zero coefficient\n",
    "    e *= np.sign(np.take_along_axis(e,pos[None],0)) # Normalized offset, starts > 0\n",
    "    emax = np.max(np.abs(e))\n",
    "    r = 2*emax+1 # Base exponent for conversion to integer\n",
    "    ie = sum(e[i] * r**(vdim-i-1) for i in range(vdim)) # Convert offsets to integers\n",
    "    Λ = ad.Sparse.spAD(np.zeros_like(λ[0]),np.moveaxis(λ,0,-1),np.moveaxis(ie,0,-1))\n",
    "    Λ = Λ.tangent_operator().todense() # Possible improvement : optimization opportunities here\n",
    "    Λ = np.moveaxis(np.asarray(Λ).reshape((*shape,-1)),-1,0)\n",
    "    Λ = Interpolation.spline_coefs(Λ,depth=1,solver=conv_circulant,order=order,periodic=periodic)\n",
    "    Λ = np.roll(Λ,order-1,axis=tuple(range(1,Λ.ndim)))\n",
    "    Λ[np.abs(Λ)<=tol]=0 # Remove almost zero coefficients\n",
    "    index = fd.as_field(np.arange(len(Λ)),shape,depth=1)\n",
    "    x = ad.Sparse.spAD(np.zeros_like(λ[0]),np.moveaxis(Λ,0,-1),np.moveaxis(index,0,-1))\n",
    "    x.simplify_ad() # Remove null coefficients.\n",
    "    λ = np.moveaxis(x.coef,-1,0) # The new coefficients\n",
    "    ie = np.moveaxis(x.index,-1,0) # The new offsets, for now as integers\n",
    "    e = []\n",
    "    for i in range(vdim):\n",
    "        mod = ie%r\n",
    "        pos = mod>emax\n",
    "        ie = (ie//r)+pos\n",
    "        e.append(np.where(pos,mod-r,mod))\n",
    "    return λ,np.array(e[::-1])\n",
    "--->"
   ]
  },
  {
   "cell_type": "code",
   "execution_count": 346,
   "metadata": {
    "editable": true,
    "slideshow": {
     "slide_type": ""
    },
    "tags": [
     "ExportCode"
    ]
   },
   "outputs": [],
   "source": [
    "def deconv(arr,σ=5.,ϵ=0.05,periodic=True,depth=0,real=True):\n",
    "    \"\"\"\n",
    "    Input : \n",
    "    - σ : standard deviation of Gaussian kernel in pixels. Alternatively, provide an exact kernel. (Same for all axes.)\n",
    "    - ϵ : stability parameter for the deconvolution\n",
    "    - periodic : choose between periodic and reflected boundary conditions\n",
    "    - depth : initial dimensions, not touched by the convolution\n",
    "    - real : extract the real part after convolutions, deconvolutions\n",
    "\n",
    "    Returns : \n",
    "    - deconvolved array\n",
    "    - function to convolve back\n",
    "    \"\"\"\n",
    "    from numpy.fft import fft,ifft\n",
    "    fkernels = []\n",
    "    def reflect(arr,axis): return np.concatenate((arr,arr[(slice(None),)*axis+(slice(None,None,-1),)]),axis)\n",
    "    def half(arr,axis): return arr[(slice(None),)*axis+(slice(0,arr.shape[axis]//2),)]\n",
    "    for i,s in enumerate(arr.shape[depth:]):\n",
    "        s2 = s if periodic else 2*s # Size of kernel\n",
    "        if np.ndim(σ)==0: # Use Gaussian convolution kernel\n",
    "            x = np.arange(s2)\n",
    "            x[x>=x.size/2]-=x.size # Periodic boundary conditions\n",
    "            kernel = np.exp(-x**2/(2*σ**2)) / (np.sqrt(2*π)*σ)\n",
    "        elif np.ndim(σ)==1: # Use provided kernel\n",
    "            kernel = np.roll(np.pad(σ,(0,s2-len(σ))),-(len(σ)//2))\n",
    "        fkernel = fft(kernel)\n",
    "        fkernels.append(fkernel)\n",
    "        ikernel = np.conj(fkernel)/(ϵ**2+np.abs(fkernel)**2) # Deconvolution kernel\n",
    "        if not periodic: arr = reflect(arr,depth+i)\n",
    "        arr = ifft(fft(arr,axis=depth+i)*np.expand_dims(ikernel,tuple(range(depth+1+i-arr.ndim,0))),axis=depth+i)\n",
    "        if not periodic: arr = half(arr,depth+i)\n",
    "        if real: arr = arr.real\n",
    "\n",
    "    def conv(arr,depth=depth):\n",
    "        for i,fkernel in enumerate(fkernels):\n",
    "            if not periodic: arr = reflect(arr,depth+i)\n",
    "            arr = ifft(fft(arr,axis=depth+i)*np.expand_dims(fkernel,tuple(range(depth+1+i-arr.ndim,0))),axis=depth+i)\n",
    "            if not periodic: arr = half(arr,depth+i)\n",
    "            if real: arr = arr.real\n",
    "        return arr\n",
    "    \n",
    "    return arr,conv"
   ]
  },
  {
   "cell_type": "code",
   "execution_count": 347,
   "metadata": {},
   "outputs": [],
   "source": [
    "np.random.seed(42)\n",
    "D0 = MakeRandomTensor(2)\n",
    "D1 = MakeRandomTensor(2)\n",
    "t,dt = np.linspace(0,π,20,endpoint=False,retstep=True) # True periodicity with endpoint=False only\n",
    "t+=dt/2\n",
    "D = D0[:,:,None]*np.cos(t)**2 + D1[:,:,None]*np.sin(t)**2\n",
    "deconvD,reconv = deconv(D,σ=3.,depth=2,ϵ=0.05,periodic=False)\n",
    "reconvD = reconv(2*deconvD)/2\n",
    "plt.plot(D[0,0],label='D')\n",
    "plt.plot(deconvD[0,0],label='deconvD')\n",
    "plt.plot(reconvD[0,0],label='reconvD') \n",
    "plt.legend();"
   ]
  },
  {
   "cell_type": "code",
   "execution_count": 348,
   "metadata": {
    "editable": true,
    "slideshow": {
     "slide_type": ""
    },
    "tags": [
     "ExportCode"
    ]
   },
   "outputs": [],
   "source": [
    "def conv_decomp(deconvD,conv,rtol=1e-6):\n",
    "    \"\"\"Apply Selling's decomposition, then convolve the coefficients, and finally prune the small ones.\n",
    "    - deconvD : deconvolved positive definite matrix field. \n",
    "    - conv : convolution operator\n",
    "    - rtol : relative tolerance for eliminating small coefficients.\n",
    "    \"\"\"\n",
    "    tol = rtol * lp.trace(deconvD) # Compute absolute tolerance\n",
    "    λ,e = Selling.Decomposition(deconvD) # Selling decomposition\n",
    "    vdim = len(e)\n",
    "    shape = λ[0].shape\n",
    "    pos = np.argmax(e!=0,axis=0) # position of the first non-zero coefficient\n",
    "    e *= np.sign(np.take_along_axis(e,pos[None],0)) # Normalized offset, starts > 0\n",
    "    emax = np.max(np.abs(e))\n",
    "    r = 2*emax+1 # Base exponent for conversion to integer\n",
    "    ie = sum(e[i] * r**(vdim-i-1) for i in range(vdim)) # Convert offsets to integers\n",
    "    Λ = ad.Sparse.spAD(np.zeros_like(λ[0]),np.moveaxis(λ,0,-1),np.moveaxis(ie,0,-1))\n",
    "    Λ = Λ.tangent_operator().todense() # Possible improvement : optimization opportunities here\n",
    "    Λ = np.moveaxis(np.asarray(Λ).reshape((*shape,-1)),-1,0)\n",
    "    Λ = conv(Λ,depth=1)\n",
    "    Λ[np.abs(Λ)<=tol]=0 # Remove almost zero coefficients\n",
    "    index = fd.as_field(np.arange(len(Λ)),shape,depth=1)\n",
    "    x = ad.Sparse.spAD(np.zeros_like(λ[0]),np.moveaxis(Λ,0,-1),np.moveaxis(index,0,-1))\n",
    "    x.simplify_ad() # Remove null coefficients.\n",
    "    λ = np.moveaxis(x.coef,-1,0) # The new coefficients\n",
    "    ie = np.moveaxis(x.index,-1,0) # The new offsets, for now as integers\n",
    "    e = []\n",
    "    for i in range(vdim): # Expand the offsets, as vectors\n",
    "        mod = ie%r\n",
    "        pos = mod>emax\n",
    "        ie = (ie//r)+pos\n",
    "        e.append(np.where(pos,mod-r,mod))\n",
    "    return λ,np.array(e[::-1])"
   ]
  },
  {
   "cell_type": "markdown",
   "metadata": {},
   "source": [
    "In order to check the correctness of the code, we remove the relaxation parameter $\\epsilon=0$, and check for machine precision equality."
   ]
  },
  {
   "cell_type": "code",
   "execution_count": 354,
   "metadata": {},
   "outputs": [],
   "source": [
    "D0,D1,D2 = (np.eye(2),[[1,-0.1],[-0.1,1]],[[1,0.1],[0.1,1]])\n",
    "D = np.stack((D0,D1,D2,D0,D2,D0,D1),axis=-1)\n",
    "for order in (3,5,7):\n",
    "    σ = Interpolation.spline_base(0,3)[1:] # Using a convolution kernel corresponding to spline interpolation\n",
    "    deconvD,reconv = deconv(D,σ,ϵ=0,depth=2) # No relaxation (ϵ=0)\n",
    "    assert np.allclose(reconv(deconvD),D) # Reconvolution of D is exact\n",
    "    λ,e = conv_decomp(deconvD,reconv,rtol=1e-10)\n",
    "    rec = np.sum(λ*lp.outer_self(e),axis=2)\n",
    "    assert np.allclose(rec,D) # Reconstruction of D from convolved coefficients is exact"
   ]
  },
  {
   "cell_type": "code",
   "execution_count": 350,
   "metadata": {
    "editable": true,
    "slideshow": {
     "slide_type": ""
    },
    "tags": []
   },
   "outputs": [],
   "source": [
    "np.random.seed(42)\n",
    "D0 = MakeRandomTensor(2)\n",
    "D1 = MakeRandomTensor(2)\n",
    "t = np.linspace(0,π,100,endpoint=False)\n",
    "D2t = D0[:,:,None]*np.cos(t)**2 + D1[:,:,None]*np.sin(t)**2"
   ]
  },
  {
   "cell_type": "markdown",
   "metadata": {},
   "source": [
    "Tuning the convolution kernel width $\\sigma$ (measured in pixels) requires some attention : \n",
    "- if $\\sigma$ is too small, then the obtained coefficients are not very smooth.\n",
    "- if $\\sigma$ is too large, then the deconvolved matrices may be highly anisotropic or non-positive. As a result, Selling's decomposition may involve large offsets or fail.\n",
    "\n",
    "In the example below, $\\sigma = 3$ is the good choice."
   ]
  },
  {
   "cell_type": "code",
   "execution_count": 362,
   "metadata": {
    "editable": true,
    "slideshow": {
     "slide_type": ""
    },
    "tags": []
   },
   "outputs": [],
   "source": [
    "plt.figure(figsize=[8,12])\n",
    "for i,σ in enumerate((1.5,3,4)):\n",
    "    λ,e = conv_decomp(*deconv(D2t,σ,depth=2))\n",
    "    rec = np.sum(λ*lp.outer_self(e),axis=2)\n",
    "\n",
    "    decomp = Selling.GatherByOffset(t,λ,e)\n",
    "    plt.subplot(3,1,1+i)\n",
    "    plt.title(f\"Sqrt of coefficients, convolved decomposition, {σ=}\")\n",
    "    for offset,(time,coef) in decomp.items(): plt.plot(time,np.sqrt(coef))\n",
    "    plt.legend(decomp.keys(),loc=\"upper right\"); savefig(fig,f\"SqCoefs_Conv{order}.pdf\")"
   ]
  },
  {
   "cell_type": "markdown",
   "metadata": {
    "editable": true,
    "slideshow": {
     "slide_type": ""
    },
    "tags": []
   },
   "source": [
    "## 6. Smooth three-dimensional decomposition\n",
    "\n",
    "As a proof of concept, we present a smooth variant of Selling's three dimensional decomposition. \n",
    "\n",
    "**Superbases and Selling's transformation.** In order to describe our matrix decomposition, we recall that a superbase of $\\bZ^3$ is a tuple $(b_0,b_1,b_2,b_3)\\in (\\bZ^3)^4$ such that \n",
    "\\begin{align*}\n",
    "    b_0+b_1+b_2+b_3 &=0, & |\\det(b_1,b_2,b_3)| &=1.\n",
    "\\end{align*}\n",
    "In our application, superbases are considered up to a re-ordering of their elements, and to a global change of sign $(-b_0,-b_1,-b_2,-b_3)$. Given a matrix $D \\in S_3^{++}$, the energy of a superbase reads\n",
    "$$\n",
    "    \\cE_D(b_0,b_1,b_2,b_3) = \\frac 1 2 \\sum_{0 \\leq i \\leq 3} \\|b_i\\|_D^2.\n",
    "$$ \n",
    "Selling's transformation of a superbase takes the form $(-b_i,b_j,b_i+b_k,b_i+b_l)$\n",
    "where $(i,j,k,l)$ is any permutation of $(0,1,2,3)$. It satisfies\n",
    "$$\n",
    "    \\cE_D(-b_i,b_j,b_i+b_k,b_i+b_l) = \\cE_D(b_0,b_1,b_2,b_3) - \\<b_i,D b_j\\>. \n",
    "$$\n",
    "\n",
    "Selling's algorithm starts from an arbitrary superbase, and iteratively applies Selling's transformations whenever a pair of indices $(i,j)$ satisfies $\\<b_i,D b_j\\> > 0$. It can be shown that this procedure terminates, thus produces an $D$-obtuse superbase (i.e. $\\<b_i,D b_j\\> \\leq 0$, for any pair of indices), which globally minimizes the energy $\\cE_D$ among all superbases.\n",
    "\n",
    "Eventually, Selling's decomposition reads denoting $v_{ij} := b_i \\times b_j$\n",
    "$$\n",
    "    D = \\sum_{0\\leq i<j\\leq 3} (-\\<b_i,D b_j\\>) v_{ij} \\otimes v_{ij}.\n",
    "$$\n",
    "It can be shown that this decomposition, whose coefficients can be denoted $\\lambda : \\bZ^3 \\to [0,\\infty[$, is a global minimizer to the linear program defined by maximizing \n",
    "\\begin{align*}\n",
    "    & \\sum_{e \\in \\bZ^3\\setminus\\{0\\}} \\lambda(e) & \\text{s.t.}\\quad D &= \\sum_{e \\in \\bZ^3} \\lambda(e) e e^\\top.\n",
    "\\end{align*}\n",
    "\n",
    "\n",
    "**Variant of the decomposition.**\n",
    "The idea is to solve a modified optimization problem, featuring penalty terms depending on the matrix $D$ and providing some control over the  decomposition coefficients $\\lambda$ : a logarithmic barrier enforces their positivity, and a quadratic penalization ensures their smallness. The penalty terms must depend smoothly on $D$, and be carefully tuned to ensure that the solution exists and depends smoothly on $D$.  \n",
    "\n",
    "I slightly more detail, the steps of the modified decomposition are as follows : \n",
    "1. Attribute weights $\\rho_D(B)$ to all superbases of $\\bZ^3$ (considered up to a permutation and a change of sign). The weights must be (i) non-negative, (ii) finitely supported, (iii) positive for all superbases minimizing $\\cE_D(B)$, (iv) depend smoothly on $D \\in S_3^{++}$.\n",
    "2. Attribute weights $\\mu_D(e)$ to all vectors $e \\in \\bZ^3/\\pm$ (considered up to a change of sign). We define $\\mu_D(e)$ as the sum of $\\rho_D(B)$ among all superbases $B = (b_0,b_1,b_2,b_3)$ such that $e = b_i \\times b_j$ for some $0 \\leq i \\leq j \\leq 3$. \n",
    "3. Define the decomposition $\\lambda : \\bZ^3/\\pm \\to [0,\\infty[$ as the one minimizing the energy\n",
    "\\begin{align*}\n",
    "    &\\sum_{e \\in \\bZ^3/\\pm,\\, \\rho_D(e)>0} \\Big(- \\lambda(e)/\\epsilon - \\mu_D(e) \\ln \\lambda(e) + \\frac {\\lambda(e)^2}{2 \\mu_D(e)}\\Big) &\n",
    "  \\text{s.t.}\\quad D = \\sum_{e \\in \\bZ^3/\\pm} \\lambda(e) e e^\\top,\n",
    "\\end{align*}\n",
    "where $\\epsilon>0$ is a relaxation parameter. The usual Selling decomposition is recovered in the limit as $\\epsilon\\to 0$.\n",
    "\n",
    "**Magic numbers.**\n",
    "For any $D \\in S_3^{++}$, there are at most $16$ superbases $B$ for which $\\cE_D(B)$ is minimal, and $36$ superbases $B$ for which $\\cE_D(B)$ is second to minimal. Furthermore all these $16+36 = 52$ superbases can be obtained by applying at most $5$ Selling transformations to an arbitrary $D$-obtuse superbase. These bounds are attained for $D=\\mathrm{Id}$, have no published proof but seem very likely, and are implicitely used in the construction of the weights $\\rho_D(B)$ coded below. \n",
    "\n"
   ]
  },
  {
   "cell_type": "markdown",
   "metadata": {},
   "source": [
    "### 6.1 Python implementation\n",
    "\n",
    "**Caution.** The code below is not backed by a full theoretical analysis, is very slow, and can likely be improved in many ways (e.g. by tuning the parameters)."
   ]
  },
  {
   "cell_type": "code",
   "execution_count": 76,
   "metadata": {},
   "outputs": [],
   "source": [
    "from agd.ExportedCode.Notebooks_Div import WaveExamples as we\n",
    "from agd.Metrics import misc"
   ]
  },
  {
   "cell_type": "code",
   "execution_count": 77,
   "metadata": {},
   "outputs": [],
   "source": [
    "# Neighbors up to distance 5 on Selling's graph of superbases (Ryskov's 3D polyhedron)\n",
    "_neigh_energy = np.array([[1,-4,5,-3,7,3],[1,-3,3,-1,2,1],[2,-6,5,-4,7,3],[1,-3,3,-2,5,3],[1,-2,2,-1,2,1],[1,-3,3,-3,5,3],[1,-1,1,-2,2,2],[2,-2,1,-2,1,1],[1,-1,1,-1,0,1],[1,0,1,-1,1,1],[1,-1,1,0,1,1],[3,-7,5,-3,4,1],[3,-5,3,-2,3,1],[3,-7,5,-4,6,2],[3,-5,3,-3,3,1],[1,-2,3,-1,3,1],[1,-3,5,-2,6,2],[1,-3,5,-1,4,1],[2,-4,3,-2,3,1],[1,-1,3,0,3,1],[1,-1,3,-1,3,1],[1,-1,1,1,0,1],[2,-2,1,0,1,1],[1,-1,1,0,2,2],[1,0,1,1,1,1],[1,-1,1,-1,1,1],[1,-4,5,-1,3,1],[1,-3,3,-2,4,2],[2,-6,5,-2,3,1],[1,-3,3,-1,1,1],[1,-3,3,0,1,1],[2,-4,3,2,-1,1],[1,-2,3,1,1,1],[1,-1,1,2,0,2],[1,-3,3,1,-1,1],[1,-1,1,1,-1,1],[3,-3,1,2,-1,1],[3,-2,1,3,-1,1],[3,-4,2,3,-2,1],[3,-3,1,4,-2,2],[1,-2,2,1,-2,1],[1,-1,1,2,-2,2],[2,-2,1,2,-1,1],[1,0,1,1,-1,1],[1,-1,1,0,-1,1],[1,1,1,1,1,1],[2,0,1,2,1,1],[1,0,2,1,2,1],[1,1,1,2,2,2],[1,-2,2,1,0,1],[1,-1,1,3,-1,3],[2,-2,1,4,-1,3],[1,-1,1,2,1,3],[1,0,1,3,1,3],[3,-3,1,-2,1,1],[5,-4,1,-1,1,1],[3,-3,1,-2,2,2],[5,-6,2,-3,2,1],[3,-3,1,1,0,1],[3,-1,1,2,2,2],[5,-3,1,3,0,1],[3,-1,1,2,1,1],[5,-3,1,1,1,1],[3,-4,2,-1,2,1],[5,-7,3,-1,2,1],[3,-5,3,-2,4,2],[5,-7,3,-3,3,1],[3,-2,1,1,1,1],[3,-3,1,2,0,2],[5,-4,1,3,-1,1],[5,-6,2,1,0,1],[3,-3,1,-1,1,1],[1,-2,2,-1,4,3],[1,-1,1,-1,3,3],[1,0,1,1,3,3],[1,-1,1,1,2,3],[1,-3,3,-3,7,5],[2,-4,3,-2,5,3],[1,-2,3,-1,7,5],[1,-2,2,-3,6,5],[2,-2,1,-2,3,3],[1,-1,1,-1,4,5],[1,-1,1,-2,3,3],[1,1,1,2,3,3],[2,0,1,2,3,3],[1,0,2,1,6,5],[1,1,1,3,4,5],[2,-2,1,2,1,3],[1,-1,1,1,3,5],[1,0,1,3,3,5],[1,1,1,0,1,1],[2,2,1,2,1,1],[1,1,1,1,0,1],[1,2,2,1,2,1],[3,-1,1,3,0,1],[3,1,1,4,2,2],[3,1,1,3,1,1],[1,-1,3,1,2,1],[1,1,3,2,4,2],[1,1,3,1,3,1],[1,1,1,3,2,3],[2,2,1,4,3,3],[1,2,2,3,4,3],[1,-2,2,-3,4,3],[2,-2,1,-4,3,3],[1,-1,1,-3,2,3],[3,-3,1,-4,2,2],[3,-2,1,-3,1,1],[3,-4,2,-3,2,1],[1,-2,2,-1,0,1],[1,0,1,-1,-1,1],[1,-1,1,-2,0,2],[1,1,1,-1,0,1],[2,0,1,-2,1,1],[1,0,2,-1,2,1],[3,3,1,-1,0,1],[3,4,2,1,2,1],[3,2,1,-1,1,1],[3,3,1,1,1,1],[1,1,1,0,2,2],[1,0,1,-1,3,3],[1,1,1,-1,2,3],[2,2,1,0,1,1],[1,2,2,1,4,3],[1,1,1,1,3,3],[1,3,3,1,2,1],[2,4,3,2,3,1],[1,2,3,1,3,1],[1,3,3,2,4,2],[1,1,1,-2,0,2],[2,2,1,-2,-1,1],[1,1,1,-1,-1,1],[1,2,2,-1,0,1],[1,1,1,2,0,2],[1,2,2,1,0,1],[1,1,1,0,-1,1],[3,3,1,1,0,1],[5,6,2,3,2,1],[5,4,1,3,1,1],[3,3,1,4,2,2],[3,5,3,3,3,1],[5,7,3,6,4,2],[3,5,3,3,2,1],[5,7,3,4,3,1],[3,2,1,3,1,1],[3,1,1,3,0,1],[5,3,1,6,2,2],[5,3,1,4,1,1],[3,4,2,3,2,1],[3,3,1,5,3,3],[5,6,2,7,4,3],[3,3,1,5,2,3],[5,4,1,7,3,3],[3,3,1,2,1,1],[2,0,1,2,-1,1],[1,0,2,1,-2,1],[1,0,1,3,-1,3],[2,2,1,4,1,3],[1,1,1,2,-1,3],[1,1,1,3,1,3],[1,3,3,0,-1,1],[2,4,3,2,1,1],[1,2,3,1,-1,1],[1,3,3,1,1,1],[2,2,1,0,-1,1],[1,1,1,0,-2,2],[1,2,2,-1,-2,1],[1,3,3,0,1,1],[2,6,5,2,3,1],[1,4,5,1,3,1],[3,7,5,4,6,2],[3,5,3,2,3,1],[3,7,5,3,4,1],[1,1,3,0,3,1],[1,3,5,2,6,2],[1,3,5,1,4,1],[1,3,3,3,5,3],[2,6,5,4,7,3],[1,3,3,2,5,3],[1,4,5,3,7,3],[2,2,1,6,3,5],[1,1,1,4,3,5],[3,4,2,7,6,5],[3,2,1,5,3,3],[3,3,1,7,4,5],[1,2,2,3,6,5],[2,4,3,6,7,5],[1,2,3,3,5,3],[1,3,3,4,7,5],[5,-3,1,6,-2,2],[3,-1,1,3,-1,1],[5,-3,1,4,-1,1],[3,-2,2,3,0,1],[7,-2,1,9,-1,3],[9,-3,1,10,-1,3],[6,0,1,8,1,3],[7,1,1,9,1,3],[2,-2,3,2,1,1],[3,-1,3,3,1,1],[5,-1,1,6,0,2],[5,-5,3,4,-1,1],[3,-4,3,3,-1,1],[7,-6,2,5,-2,1],[9,-5,1,8,-2,2],[6,-4,1,4,-1,1],[7,-3,1,5,-1,1],[3,2,2,3,2,1],[5,1,1,4,1,1],[2,2,3,4,5,3],[5,5,3,9,7,5],[3,1,3,4,5,3],[5,1,1,7,2,3],[3,4,3,7,7,5],[7,3,1,8,3,3],[9,5,1,13,4,5],[6,4,1,8,3,3],[7,6,2,11,6,5],[5,3,1,9,4,5],[3,1,1,4,3,3],[5,3,1,7,3,3],[7,-1,1,8,1,3],[9,3,1,13,3,5],[7,2,1,11,3,5],[3,2,2,5,4,3],[5,-1,1,3,1,1],[3,-2,2,1,2,1],[7,-2,1,3,1,1],[9,-3,1,5,0,1],[6,0,1,4,1,1],[7,1,1,6,2,2],[2,-2,3,0,3,1],[3,-1,3,2,4,2],[5,-5,3,1,2,1],[3,-4,3,-1,3,1],[7,-6,2,3,0,1],[9,-5,1,5,-1,1],[7,-3,1,6,0,2],[2,2,3,2,3,1],[5,5,3,6,4,2],[3,1,3,3,2,1],[3,4,3,3,3,1],[7,3,1,9,2,3],[9,5,1,10,3,3],[7,6,2,9,4,3],[7,-1,1,5,0,1],[9,3,1,8,2,2],[7,2,1,5,1,1],[1,-1,5,0,6,2],[1,-3,5,0,3,1],[1,-1,5,1,3,1],[1,1,5,2,7,3],[1,3,5,3,7,3],[1,1,5,1,4,1],[1,-5,9,-2,8,2],[2,-6,7,-2,5,1],[1,-3,7,-1,5,1],[1,-4,6,-1,4,1],[3,-1,3,1,3,1],[3,-5,5,-1,4,1],[1,-3,9,-1,10,3],[1,-2,7,-1,9,3],[1,1,7,1,9,3],[1,0,6,1,8,3],[1,-5,9,-1,5,1],[2,-6,7,0,3,1],[1,-3,7,0,6,2],[3,-1,3,4,2,2],[3,-5,5,2,1,1],[1,-3,9,0,5,1],[1,-2,7,1,3,1],[1,1,7,2,6,2],[1,0,6,1,4,1],[1,-3,5,1,1,1],[1,-1,3,2,2,2],[1,1,3,3,4,3],[1,3,5,4,9,5],[3,5,5,7,9,5],[3,1,3,5,4,3],[1,-1,7,1,8,3],[1,3,9,3,13,5],[1,2,7,3,11,5],[1,4,6,3,8,3],[2,6,7,6,11,5],[1,3,7,3,8,3],[1,5,9,4,13,5],[3,5,5,4,6,2],[3,1,3,2,3,1],[1,-1,7,0,5,1],[1,3,9,2,8,2],[1,2,7,1,5,1],[2,6,7,4,9,3],[1,3,7,2,9,3],[1,5,9,3,10,3],[2,0,1,6,1,5],[1,0,2,3,2,3],[3,3,1,8,4,6],[3,4,2,9,6,7],[3,2,1,9,3,7],[3,3,1,10,5,9],[1,1,1,4,1,5],[1,2,2,3,2,3],[1,1,1,5,3,7],[2,2,1,8,5,9],[1,1,1,4,4,6],[1,2,2,5,6,7],[5,6,2,9,6,5],[3,3,1,4,3,3],[3,5,3,8,9,7],[5,7,3,13,10,9],[3,5,3,8,8,6],[5,7,3,11,9,7],[3,3,1,8,5,7],[5,6,2,13,8,9],[5,4,1,11,5,7],[2,2,1,2,3,3],[1,1,1,1,4,5],[1,3,3,4,8,6],[2,4,3,6,9,7],[1,2,3,3,9,7],[1,3,3,5,10,9],[2,2,1,6,5,7],[1,1,1,3,5,7],[1,2,2,5,8,9],[2,6,5,6,9,5],[1,3,3,3,4,3],[3,5,3,9,8,7],[3,7,5,10,13,9],[3,7,5,9,11,7],[1,3,3,5,8,7],[2,6,5,8,13,9],[1,4,5,5,11,7],[2,-6,5,0,1,1],[1,-3,3,0,2,2],[3,-7,5,3,-3,1],[3,-5,3,4,-2,2],[3,-7,5,2,-1,1],[3,-5,3,3,-2,1],[1,-4,5,1,-1,1],[2,-6,5,2,-3,1],[1,-3,3,1,-2,1],[1,-3,3,2,-2,2],[3,-3,1,1,-1,1],[5,-6,2,3,-2,1],[3,-5,3,3,-3,1],[5,-7,3,6,-4,2],[5,-7,3,4,-3,1],[3,-3,1,5,-2,3],[5,-4,1,7,-3,3],[3,-3,1,5,-3,3],[5,-6,2,7,-4,3],[2,-4,3,2,-3,1],[1,-2,3,1,-3,1],[1,-3,3,2,-4,2],[1,-2,2,3,-4,3],[2,-2,1,4,-3,3],[1,-1,1,2,-3,3],[1,-1,1,3,-2,3],[2,-2,1,0,-1,1],[1,-1,1,0,-2,2],[1,-2,2,3,-2,3],[2,-2,1,6,-3,5],[1,-1,1,4,-1,5],[3,-2,1,7,-1,5],[3,-4,2,5,-2,3],[3,-3,1,7,-3,5],[1,-2,2,1,2,3],[1,-1,1,3,1,5],[1,-3,3,-4,7,5],[2,-4,3,-6,7,5],[1,-2,3,-3,5,3],[3,-3,1,-7,4,5],[3,-2,1,-5,3,3],[3,-4,2,-7,6,5],[3,-3,1,-5,3,3],[1,-1,1,-3,4,5],[1,-1,1,-4,3,5],[2,-2,1,-6,3,5],[1,-1,1,-3,1,3],[1,0,1,-3,1,3],[2,2,1,-4,-1,3],[1,1,1,-2,1,3],[1,1,1,-3,-1,3],[3,3,1,-4,-2,2],[3,4,2,-3,-2,1],[3,2,1,-3,-1,1],[3,3,1,-2,-1,1],[1,1,1,-2,-2,2],[1,3,3,-1,-1,1],[2,4,3,-2,-1,1],[1,2,3,-1,1,1],[5,-1,1,-4,1,1],[3,-2,2,-3,2,1],[5,-3,1,-6,2,2],[3,1,1,-3,0,1],[3,2,2,-1,2,1],[5,3,1,-3,0,1],[5,1,1,-3,1,1],[3,-1,1,-4,2,2],[5,-1,1,-7,2,3],[3,-2,2,-5,4,3],[5,-3,1,-7,3,3],[3,1,1,-2,1,1],[3,2,2,-3,0,1],[5,3,1,-4,-1,1],[5,1,1,-6,0,2],[3,-1,1,-3,1,1],[1,-1,3,-2,4,2],[1,1,3,-1,2,1],[1,-3,5,-3,7,3],[2,-2,3,-4,5,3],[1,-1,5,-2,7,3],[2,-2,3,-2,3,1],[1,-1,5,-1,4,1],[2,2,3,0,3,1],[1,1,5,0,6,2],[2,2,3,-2,1,1],[1,1,5,-1,3,1],[1,3,5,0,3,1],[5,6,2,-3,-2,1],[3,3,1,-1,-1,1],[5,4,1,-3,-1,1],[3,3,1,-2,0,2],[7,9,3,-2,-1,1],[9,10,3,-3,-1,1],[6,8,3,0,1,1],[7,9,3,1,1,1],[2,2,1,-2,1,3],[3,3,1,-1,1,3],[5,6,2,-1,0,1],[5,4,1,-5,-1,3],[3,3,1,-4,-1,3],[7,5,1,-6,-2,2],[9,8,2,-5,-2,1],[6,4,1,-4,-1,1],[7,5,1,-3,-1,1],[3,3,1,2,2,2],[5,4,1,1,1,1],[2,4,3,2,5,3],[5,9,5,5,7,3],[3,4,3,1,5,3],[5,7,3,1,2,1],[3,7,5,4,7,3],[7,8,3,3,3,1],[9,13,5,5,4,1],[6,8,3,4,3,1],[7,11,5,6,6,2],[5,9,5,3,4,1],[3,4,3,1,3,1],[5,7,3,3,3,1],[7,8,3,-1,1,1],[9,13,5,3,3,1],[7,11,5,2,3,1],[3,5,3,2,4,2],[5,3,1,-1,1,1],[3,1,1,-2,2,2],[7,3,1,-2,1,1],[9,5,1,-3,0,1],[6,4,1,0,1,1],[7,6,2,1,2,1],[2,0,1,-2,3,3],[3,2,2,-1,4,3],[5,1,1,-5,2,3],[3,-1,1,-4,3,3],[7,3,1,-6,0,2],[9,5,1,-5,-1,1],[7,6,2,-3,0,1],[5,6,2,5,4,3],[3,3,1,1,2,3],[7,9,3,3,2,1],[9,10,3,5,3,1],[7,9,3,6,4,2],[7,5,1,-1,0,1],[9,8,2,3,2,1],[7,5,1,2,1,1],[1,0,2,-1,6,5],[1,0,1,-3,3,5],[1,1,1,-1,3,5],[1,2,3,1,7,5],[1,3,3,3,7,5],[1,-2,2,-5,8,9],[2,-2,1,-6,5,7],[1,-1,1,-3,5,7],[1,-1,1,-4,4,6],[3,1,1,-1,3,3],[3,-1,1,-5,4,5],[1,-1,3,-3,10,9],[1,-1,3,-2,9,7],[1,1,3,1,9,7],[1,1,3,0,8,6],[1,-1,1,-5,5,9],[2,0,1,-6,3,7],[1,0,2,-3,6,7],[3,4,2,-1,2,3],[3,2,1,-5,1,5],[1,0,1,-3,5,9],[1,1,1,-2,3,7],[1,2,2,1,6,7],[1,1,1,0,4,6],[1,1,1,-3,1,5],[1,2,2,-1,2,3],[1,3,3,1,4,3],[1,4,5,3,9,5],[3,7,5,5,9,5],[3,5,3,1,4,3],[1,1,3,-1,8,7],[1,3,5,3,13,9],[1,3,5,2,11,7],[2,6,5,6,11,7],[1,3,3,3,8,7],[1,4,5,5,13,9],[3,4,2,5,6,5],[3,2,1,1,3,3],[1,0,1,-1,5,7],[1,2,2,3,8,9],[1,1,1,2,5,7],[2,6,5,0,1,1],[1,3,3,0,2,2],[3,9,7,2,3,1],[3,10,9,3,5,1],[3,8,6,3,4,1],[3,9,7,4,6,2],[1,3,3,2,2,2],[1,4,5,1,1,1],[1,5,7,1,3,1],[2,8,9,2,5,1],[1,4,6,1,4,1],[1,5,7,2,6,2],[5,9,5,6,6,2],[3,8,7,5,9,3],[5,13,9,7,10,3],[3,8,6,5,8,3],[5,11,7,7,9,3],[3,8,7,3,5,1],[5,13,9,6,8,2],[5,11,7,4,5,1],[2,6,7,2,5,1],[1,3,7,1,5,1],[1,5,9,2,8,2],[3,9,7,5,8,3],[3,10,9,7,13,5],[3,9,7,7,11,5],[1,5,7,3,8,3],[2,8,9,6,13,5],[1,5,7,4,11,5],[2,0,1,-6,1,5],[1,0,2,-3,2,3],[3,3,1,-7,-3,5],[3,4,2,-5,-2,3],[3,2,1,-7,-1,5],[3,3,1,-5,-2,3],[1,1,1,-4,-1,5],[2,2,1,-6,-3,5],[1,1,1,-3,-2,3],[1,2,2,-3,-2,3],[3,3,1,-5,-3,3],[5,6,2,-7,-4,3],[5,4,1,-7,-3,3],[3,5,3,-3,-2,1],[5,7,3,-4,-3,1],[3,5,3,-3,-3,1],[5,7,3,-6,-4,2],[3,1,1,-3,-1,1],[5,3,1,-6,-2,2],[2,0,1,-2,-1,1],[1,0,2,-1,-2,1],[1,3,3,-2,-4,2],[2,4,3,-2,-3,1],[1,2,3,-1,-3,1],[1,3,3,-1,-2,1],[2,2,1,-4,-3,3],[1,1,1,-2,-3,3],[1,2,2,-3,-4,3],[1,3,3,-2,-2,2],[2,6,5,-2,-3,1],[1,4,5,-1,-1,1],[3,7,5,-2,-1,1],[3,5,3,-4,-2,2],[3,7,5,-3,-3,1],[1,1,3,-2,2,2],[1,3,5,-1,1,1],[3,-1,1,4,-2,2],[3,1,1,2,-1,1],[1,-1,3,1,-3,1],[1,-1,3,2,-4,2],[1,1,3,1,-2,1],[1,1,3,0,-3,1],[2,0,1,6,-1,5],[1,0,2,3,-2,3],[1,-1,1,4,-3,5],[3,4,2,5,2,3],[3,2,1,7,1,5],[3,3,1,7,3,5],[1,0,1,3,-3,5],[1,1,1,3,-1,5],[1,2,2,1,-2,3],[1,1,1,1,-2,3],[2,6,5,0,-1,1],[1,3,3,0,-2,2],[1,4,5,-1,-3,1],[3,5,3,4,2,2],[3,7,5,3,3,1],[3,7,5,2,1,1],[1,1,3,2,-2,2],[1,3,5,1,-1,1],[1,3,5,0,-3,1],[3,4,2,-1,-2,1],[3,2,1,1,-1,1],[1,0,1,1,-3,3],[1,2,2,-1,-4,3],[1,1,1,-1,-3,3],[7,9,3,-1,-1,1],[9,10,3,3,1,1],[6,8,3,0,-1,1],[7,9,3,2,1,1],[3,3,1,2,0,2],[2,2,1,2,-1,3],[3,3,1,1,-1,3],[5,6,2,1,0,1],[5,4,1,5,1,3],[3,3,1,4,1,3],[7,5,1,3,1,1],[9,8,2,5,2,1],[6,4,1,4,1,1],[7,5,1,6,2,2],[3,3,1,-2,-2,2],[5,4,1,-1,-1,1],[13,16,5,5,3,1],[10,14,5,4,3,1],[11,11,3,6,3,1],[15,17,5,10,6,2],[11,11,3,5,3,1],[15,17,5,7,4,1],[9,13,5,8,6,2],[7,9,3,8,5,3],[13,16,5,11,7,3],[7,9,3,7,5,3],[10,14,5,10,7,3],[7,5,1,1,0,1],[13,10,2,5,2,1],[10,6,1,4,1,1],[15,13,3,10,4,2],[11,11,3,5,2,1],[15,13,3,7,3,1],[5,3,1,3,0,1],[9,5,1,8,2,2],[9,5,1,5,1,1],[7,5,1,8,3,3],[13,10,2,11,4,3],[7,5,1,7,2,3],[10,6,1,10,3,3],[9,10,3,13,7,5],[6,8,3,8,5,3],[7,9,3,11,7,5],[5,4,1,9,3,5],[9,8,2,13,6,5],[7,5,1,11,4,5],[7,12,6,9,8,3],[9,15,7,10,9,3],[6,12,7,8,9,3],[7,15,9,9,10,3],[3,5,5,3,4,1],[5,5,3,4,3,1],[7,8,3,5,3,1],[7,11,5,5,4,1],[13,15,5,16,9,5],[7,7,3,9,4,3],[10,10,3,14,7,5],[7,11,5,9,7,3],[11,17,7,11,8,3],[15,23,9,17,13,5],[11,16,6,11,8,3],[15,20,7,17,11,5],[9,13,5,13,9,5],[5,7,3,7,4,3],[9,13,5,10,7,3],[7,13,7,9,8,3],[13,21,9,16,13,5],[10,16,7,14,11,5],[7,8,3,9,5,3],[5,9,5,4,3,1],[3,4,3,3,1,1],[7,12,6,5,4,1],[9,15,7,8,6,2],[6,12,7,4,3,1],[7,15,9,5,5,1],[2,2,3,2,-1,1],[3,5,5,3,1,1],[5,5,3,6,2,2],[3,2,2,3,0,1],[3,8,7,3,3,1],[5,13,9,4,5,1],[5,11,7,6,6,2],[7,6,2,5,2,1],[13,15,5,10,6,2],[7,7,3,5,3,1],[10,10,3,6,3,1],[11,17,7,11,9,3],[15,23,9,13,10,3],[15,20,7,13,9,3],[7,13,7,5,5,1],[13,21,9,10,8,2],[10,16,7,6,5,1],[5,1,1,6,0,2],[7,3,1,5,1,1],[5,5,3,4,1,1],[3,1,3,3,-1,1],[7,-1,1,9,-1,3],[9,3,1,10,1,3],[6,0,1,8,-1,3],[7,2,1,9,1,3],[5,-1,1,4,-1,1],[3,-2,2,3,-2,1],[13,5,1,16,3,5],[10,4,1,14,3,5],[11,6,1,11,3,3],[15,10,2,17,6,5],[11,5,1,11,3,3],[15,7,1,17,4,5],[13,11,3,16,7,5],[7,7,3,9,5,3],[7,1,1,5,0,1],[13,5,1,10,2,2],[10,4,1,6,1,1],[15,10,2,13,4,3],[11,5,1,11,2,3],[15,7,1,13,3,3],[13,11,3,10,4,2],[7,7,3,5,2,1],[7,9,3,12,8,6],[9,10,3,15,9,7],[6,8,3,12,9,7],[7,9,3,15,10,9],[3,3,1,5,4,5],[5,4,1,5,3,3],[13,16,5,15,9,5],[7,9,3,7,4,3],[11,11,3,17,8,7],[15,17,5,23,13,9],[11,11,3,16,8,6],[15,17,5,20,11,7],[7,9,3,13,8,7],[13,16,5,21,13,9],[10,14,5,16,11,7],[5,6,2,5,2,3],[3,3,1,5,1,5],[7,5,1,12,4,6],[9,8,2,15,6,7],[6,4,1,12,3,7],[7,5,1,15,5,9],[5,6,2,11,6,7],[3,3,1,8,3,7],[5,4,1,13,5,9],[13,10,2,15,6,5],[7,5,1,7,3,3],[11,11,3,17,9,7],[15,13,3,23,10,9],[15,13,3,20,9,7],[7,5,1,13,5,7],[13,10,2,21,8,9],[10,6,1,16,5,7],[3,-2,1,5,-3,3],[5,-1,1,7,-2,3],[3,-2,2,5,-4,3],[5,-3,1,7,-3,3],[3,2,2,1,-2,1],[5,1,1,3,-1,1],[1,-3,5,2,-6,2],[2,-2,3,2,-3,1],[1,-1,5,1,-4,1],[1,-3,5,3,-7,3],[2,-2,3,4,-5,3],[1,-1,5,2,-7,3],[1,-2,3,3,-5,3],[1,1,5,1,-3,1],[2,2,3,0,-3,1],[1,1,5,0,-6,2],[1,3,5,-1,-4,1],[1,-3,3,3,-5,3],[2,-4,3,6,-7,5],[1,-3,3,4,-7,5],[3,-4,2,7,-6,5],[3,-3,1,7,-4,5],[1,-2,2,3,-6,5],[1,-1,1,3,-4,5],[1,-1,1,1,-3,3],[3,-1,1,10,-3,9],[3,1,1,9,1,7],[3,-1,1,9,-2,7],[3,1,1,8,0,6],[1,-1,3,3,-4,3],[1,-1,3,4,-5,5],[1,1,3,3,-1,3],[1,-2,2,5,-6,7],[2,-2,1,8,-5,9],[1,-1,1,4,-4,6],[1,-1,1,5,-3,7],[5,7,3,9,5,5],[3,5,3,4,1,3],[3,1,1,8,-1,7],[5,3,1,13,3,9],[5,3,1,11,2,7],[2,0,1,6,-3,7],[1,0,2,3,-6,7],[1,-1,1,5,-5,9],[1,0,1,5,-3,9],[2,2,1,6,1,7],[1,1,1,3,-2,7],[1,1,1,4,0,6],[1,3,3,-1,-4,3],[2,4,3,2,-1,3],[1,2,3,1,-5,5],[1,1,1,1,-3,5],[1,0,1,5,-1,7],[2,2,1,8,3,9],[1,1,1,5,2,7],[2,4,3,6,5,5],[1,2,3,3,1,3],[3,9,7,-1,-2,1],[3,10,9,-1,-3,1],[3,8,6,1,0,1],[3,9,7,1,1,1],[1,3,3,1,-1,3],[1,4,5,-1,-5,3],[1,5,7,-2,-6,2],[2,8,9,-2,-5,1],[1,4,6,-1,-4,1],[1,5,7,-1,-3,1],[5,9,5,7,5,3],[3,4,3,5,1,3],[3,8,7,1,-1,1],[5,13,9,3,3,1],[5,11,7,3,2,1],[2,2,3,4,-1,3],[1,1,5,2,-5,3],[1,4,6,1,0,1],[2,6,7,2,1,1],[1,3,7,1,-2,1],[1,5,9,0,-3,1],[2,6,7,0,-3,1],[1,3,7,0,-6,2],[1,5,9,-1,-5,1],[2,6,5,4,5,3],[1,3,3,2,1,3],[1,5,7,0,-1,1],[2,8,9,2,3,1],[1,5,7,1,2,1],[3,5,3,-2,-3,1],[5,7,3,-1,-2,1],[3,5,3,-2,-4,2],[5,7,3,-3,-3,1],[3,1,1,2,-2,2],[5,3,1,1,-1,1],[2,0,1,2,-3,3],[1,0,2,1,-6,5],[1,3,3,-3,-7,5],[2,4,3,-2,-5,3],[1,2,3,-1,-7,5],[1,3,3,-2,-5,3],[2,2,1,-2,-3,3],[1,1,1,-1,-4,5],[1,2,2,-3,-6,5],[1,3,3,-3,-5,3],[2,6,5,-4,-7,3],[1,4,5,-3,-7,3],[3,7,5,-3,-4,1],[3,7,5,-4,-6,2],[1,1,3,-1,-3,1],[1,3,5,-2,-6,2],[3,9,7,-1,-1,1],[3,10,9,1,3,1],[3,8,6,-1,0,1],[3,9,7,1,2,1],[1,3,3,-1,1,3],[1,4,5,1,5,3],[5,16,13,3,5,1],[5,14,10,3,4,1],[3,11,11,3,6,1],[5,17,15,6,10,2],[3,11,11,3,5,1],[5,17,15,4,7,1],[5,16,13,7,11,3],[3,9,7,5,7,3],[5,14,10,7,10,3],[1,5,7,0,1,1],[2,10,13,2,5,1],[1,6,10,1,4,1],[3,13,15,4,10,2],[3,11,11,2,5,1],[3,13,15,3,7,1],[1,5,9,1,5,1],[2,10,13,4,11,3],[1,5,7,2,7,3],[1,6,10,3,10,3],[5,15,13,9,16,5],[3,7,7,4,9,3],[3,10,10,7,14,5],[7,17,11,8,11,3],[9,23,15,13,17,5],[6,16,11,8,11,3],[7,20,15,11,17,5],[5,13,9,9,13,5],[7,13,7,8,9,3],[9,21,13,13,16,5],[7,16,10,11,14,5],[7,12,6,3,4,1],[9,15,7,5,5,1],[6,12,7,4,5,1],[7,15,9,6,8,2],[3,5,5,2,6,2],[5,5,3,1,3,1],[5,15,13,6,10,2],[3,7,7,3,5,1],[3,10,10,3,6,1],[7,17,11,9,11,3],[9,23,15,10,13,3],[7,20,15,9,13,3],[9,21,13,8,10,2],[7,16,10,5,6,1],[3,5,5,1,4,1],[3,1,3,-1,3,1],[1,-1,7,-1,9,3],[1,0,6,-1,8,3],[1,3,9,1,10,3],[1,2,7,1,9,3],[3,11,13,7,16,5],[3,7,7,5,9,3],[1,5,13,3,16,5],[1,4,10,3,14,5],[1,6,11,3,11,3],[2,10,15,6,17,5],[1,5,11,3,11,3],[1,7,15,4,17,5],[3,11,13,4,10,2],[3,7,7,2,5,1],[1,1,7,0,5,1],[1,5,13,2,10,2],[1,4,10,1,6,1],[2,10,15,4,13,3],[1,5,11,2,11,3],[1,7,15,3,13,3],[3,9,7,8,12,6],[3,10,9,9,15,7],[3,8,6,9,12,7],[3,9,7,10,15,9],[1,3,3,4,5,5],[1,4,5,3,5,3],[5,16,13,9,15,5],[3,9,7,4,7,3],[3,11,11,8,17,7],[5,17,15,13,23,9],[3,11,11,8,16,6],[5,17,15,11,20,7],[3,9,7,8,13,7],[5,16,13,13,21,9],[5,14,10,11,16,7],[2,6,5,2,5,3],[1,3,3,1,5,5],[1,5,7,4,12,6],[2,8,9,6,15,7],[1,4,6,3,12,7],[1,5,7,5,15,9],[2,10,13,6,15,5],[1,5,7,3,7,3],[3,11,11,9,17,7],[3,13,15,10,23,9],[3,13,15,9,20,7],[1,5,7,5,13,7],[2,10,13,8,21,9],[1,6,10,5,16,7],[3,-1,1,9,-1,7],[3,1,1,10,3,9],[3,-1,1,8,0,6],[3,1,1,9,2,7],[1,-1,3,3,1,3],[1,1,3,4,5,5],[5,7,3,16,11,13],[3,5,3,9,7,7],[5,7,3,14,10,10],[5,3,1,16,5,13],[5,3,1,14,4,10],[3,3,1,11,6,11],[5,6,2,17,10,15],[3,3,1,11,5,11],[5,4,1,17,7,15],[1,0,1,5,1,7],[2,2,1,10,5,13],[1,1,1,6,4,10],[3,4,2,13,10,15],[3,2,1,11,5,11],[3,3,1,13,7,15],[1,1,1,5,5,9],[2,4,3,10,11,13],[1,2,3,5,7,7],[1,3,3,6,10,10],[5,9,5,15,16,13],[3,4,3,7,9,7],[3,7,5,10,14,10],[7,8,3,17,11,11],[9,13,5,23,17,15],[6,8,3,16,11,11],[7,11,5,20,17,15],[5,9,5,13,13,9],[7,8,3,13,9,7],[9,13,5,21,16,13],[7,11,5,16,14,10],[7,3,1,12,4,6],[9,5,1,15,5,7],[6,4,1,12,5,7],[7,6,2,15,8,9],[3,2,2,5,6,5],[5,1,1,5,3,3],[5,6,2,15,10,13],[3,3,1,7,5,7],[3,3,1,10,6,10],[7,9,3,17,11,11],[9,10,3,23,13,15],[7,9,3,20,13,15],[9,8,2,21,10,13],[7,5,1,16,6,10],[3,1,1,5,4,5],[3,-1,1,1,3,3],[1,-1,3,-1,9,7],[1,-1,3,0,8,6],[1,1,3,3,10,9],[1,1,3,2,9,7],[3,7,5,11,16,13],[3,5,3,7,9,7],[1,3,5,5,16,13],[1,3,5,4,14,10],[1,3,3,6,11,11],[2,6,5,10,17,15],[1,3,3,5,11,11],[1,4,5,7,17,15],[3,4,2,11,10,13],[3,2,1,7,5,7],[1,0,1,1,5,7],[1,2,2,5,10,13],[1,1,1,4,6,10],[2,4,3,10,13,15],[1,2,3,5,11,11],[1,3,3,7,13,15],[5,9,5,16,15,13],[3,4,3,9,7,7],[3,8,7,11,17,11],[5,13,9,17,23,15],[3,8,6,11,16,11],[5,11,7,17,20,15],[3,8,7,9,13,7],[5,13,9,16,21,13],[5,11,7,14,16,10],[2,2,3,6,5,5],[1,1,5,3,5,3],[1,4,6,5,12,7],[2,6,7,8,15,9],[1,3,7,4,12,6],[1,5,9,5,15,7],[2,6,5,10,15,13],[1,3,3,5,7,7],[3,9,7,11,17,11],[3,10,9,13,23,15],[3,9,7,13,20,15],[2,8,9,10,21,13],[1,5,7,6,16,10]],dtype=np.int8)\n",
    "_neigh_uoffset = np.array([[2,1,0],[2,0,1],[1,1,-1],[1,0,1],[1,0,0],[0,1,-1],[1,1,0],[0,0,1],[2,2,-1],[1,-1,1],[0,1,0],[1,1,1],[1,0,2],[0,1,-2],[1,2,-2],[1,-1,2],[1,1,-2],[1,0,-1],[1,2,-1],[2,1,-1],[2,1,1],[2,1,-2],[0,1,1],[1,2,0],[1,0,-2],[1,-1,-1],[1,-1,0],[2,0,-1],[1,3,-1],[1,3,-2],[2,3,-2],[2,3,-1],[0,2,-1],[1,-2,1],[1,-2,0],[1,-2,2],[2,-2,1],[2,-1,0],[2,-1,1],[2,-1,-1],[1,-2,-1],[2,-1,-2],[1,-1,-2],[2,-2,-1],[2,1,-3],[2,0,-3],[2,2,-3],[2,1,-4],[1,0,-3],[1,1,-3],[2,3,-4],[1,3,-3],[2,3,-3],[1,2,-3],[0,1,-3],[1,2,-4],[0,2,-3],[3,2,-3],[3,2,-4],[3,1,-3],[3,1,-2],[3,0,-2],[3,-1,-1],[3,0,-1],[1,-3,1],[0,3,-2],[0,3,-1],[3,2,-1],[3,2,-2],[3,1,-1],[1,2,1],[0,1,2],[0,2,1],[2,-1,2],[1,-1,3],[1,-2,3],[2,-2,3],[2,-1,3],[2,-3,1],[2,-3,0],[2,-3,2],[2,-4,1],[1,-3,0],[2,-4,3],[1,-3,3],[2,-3,3],[1,-3,2],[1,-4,2],[3,-3,2],[3,-4,2],[3,-3,1],[3,-2,1],[3,-2,0],[3,-1,0],[3,-1,2],[3,-2,2],[3,-1,1],[1,1,2],[1,-2,-2],[3,-1,-2],[3,-2,-2],[3,-2,-1],[2,-3,-1],[2,-3,-2],[2,-4,-1],[1,-3,-1],[1,1,-4],[3,-1,-4],[3,-2,-3],[3,-1,-3],[2,-1,-3],[2,-1,-4],[2,-2,-3],[1,-1,-3],[1,-4,1],[3,-4,-1],[3,-3,-2],[3,-3,-1],[1,-2,-3],[4,-1,-2],[4,-3,-2],[4,-2,-1],[4,-2,-3],[1,-3,-2],[4,-2,1],[1,-3,4],[1,-2,4],[4,-1,-1],[4,-3,1],[4,1,-2],[1,4,-3],[1,4,-2],[4,1,-3]],dtype=np.int8)\n",
    "_neigh_ioffset = np.array([[0,1,2,3,4,5],[0,6,2,3,4,7],[8,0,6,2,3,5],[8,0,6,2,4,5],[6,2,3,4,5,7],[0,1,6,3,4,5],[6,3,4,9,10,5],[11,6,3,10,5,7],[11,6,3,4,10,7],[3,4,9,10,5,7],[6,2,4,10,5,7],[6,2,12,3,13,7],[14,6,2,5,13,7],[14,6,2,3,5,13],[6,12,3,5,13,7],[2,3,4,5,13,7],[2,3,4,15,5,13],[2,16,3,4,13,7],[6,2,3,5,13,7],[2,16,4,5,13,7],[3,4,15,5,13,7],[6,2,4,17,10,7],[18,6,2,10,5,7],[18,6,2,4,10,5],[2,4,17,10,5,7],[6,3,4,10,5,7],[0,19,2,3,4,7],[0,6,2,3,4,5],[20,0,6,2,3,7],[20,0,6,3,4,7],[0,19,6,2,4,7],[19,21,6,2,17,7],[19,21,2,4,17,7],[19,6,2,4,17,10],[0,19,6,4,17,7],[6,4,17,22,10,7],[23,6,2,22,10,7],[2,17,24,22,10,7],[6,2,17,24,22,7],[23,6,2,17,22,10],[11,6,4,17,22,7],[6,4,17,25,22,10],[6,2,17,22,10,7],[4,17,25,22,10,7],[11,6,4,22,10,7],[4,17,26,10,5,7],[2,16,17,10,5,7],[2,16,4,17,5,7],[2,4,17,26,10,5],[19,6,2,4,17,7],[19,27,6,4,17,10],[8,19,6,2,17,10],[8,19,6,2,4,10],[19,27,2,4,17,10],[23,11,6,10,5,7],[28,23,18,10,5,7],[28,23,18,6,10,5],[23,18,11,6,5,7],[23,18,6,2,10,7],[29,18,14,2,10,5],[18,14,2,16,10,7],[14,2,16,10,5,7],[29,18,14,10,5,7],[18,14,6,2,5,7],[30,18,14,6,2,7],[30,18,14,6,2,5],[18,14,6,5,13,7],[18,14,2,10,5,7],[31,23,18,6,2,10],[23,18,2,22,10,7],[31,23,18,6,2,7],[23,18,6,10,5,7],[8,18,6,2,4,5],[18,6,4,32,10,5],[18,2,4,32,10,5],[8,18,6,2,4,10],[8,0,18,6,4,5],[30,8,18,6,2,5],[30,8,18,2,4,5],[18,6,4,9,32,5],[28,18,6,32,10,5],[28,18,6,4,32,10],[6,4,9,32,10,5],[2,4,26,32,10,5],[29,18,2,32,10,5],[29,18,2,4,32,5],[18,2,4,26,32,10],[31,8,18,6,2,10],[31,8,18,6,4,10],[8,19,18,2,4,10],[4,9,26,10,5,7],[17,26,25,10,5,7],[4,17,26,25,10,7],[4,17,9,26,5,7],[2,16,17,24,10,7],[14,2,16,17,10,5],[16,17,24,10,5,7],[21,2,16,4,17,7],[21,2,16,4,17,5],[16,4,17,5,13,7],[27,2,4,17,26,10],[2,17,26,32,10,5],[27,2,4,17,26,5],[1,6,3,4,9,5],[6,3,9,32,10,5],[1,6,3,4,9,10],[23,11,6,3,10,5],[11,12,3,10,5,7],[11,6,12,3,5,7],[20,11,6,3,4,7],[11,3,4,22,10,7],[20,11,6,3,4,10],[3,4,9,26,10,7],[3,15,9,10,5,7],[3,4,15,9,5,7],[9,26,33,34,10,7],[9,26,35,33,5,7],[9,35,33,10,5,7],[26,33,34,10,5,7],[4,9,26,33,10,5],[4,9,33,32,10,5],[36,4,9,26,33,10],[9,26,33,10,5,7],[36,4,9,26,33,5],[4,26,33,32,10,5],[37,4,17,9,26,7],[17,9,26,5,13,7],[4,17,9,5,13,7],[37,4,17,9,26,5],[38,3,4,9,26,10],[3,9,26,22,10,7],[3,4,26,22,10,7],[38,3,4,9,26,7],[39,4,17,26,25,10],[39,4,17,26,25,7],[4,26,25,22,10,7],[26,25,34,40,10,7],[26,25,33,34,5,7],[25,34,40,10,5,7],[17,26,25,34,10,5],[17,24,26,5,13,7],[41,17,24,26,25,5],[41,17,24,26,25,7],[24,26,25,5,13,7],[17,24,25,10,5,7],[17,24,25,42,10,7],[16,17,24,25,10,5],[24,25,42,10,5,7],[17,24,26,25,5,7],[17,26,34,32,10,5],[43,17,26,25,34,5],[43,17,26,25,34,10],[17,25,34,32,10,5],[26,25,34,10,5,7],[17,25,42,22,10,7],[4,17,25,42,22,7],[27,39,4,17,25,10],[39,43,17,26,25,10],[39,43,4,26,25,10],[27,39,4,17,26,10],[37,39,4,26,25,7],[39,41,17,26,25,7],[39,41,4,17,25,7],[37,39,4,17,26,7],[26,25,40,22,10,7],[4,26,25,40,22,10],[3,4,26,25,22,7],[38,37,4,9,26,7],[37,39,17,9,26,7],[38,37,4,17,9,7],[17,9,26,35,5,13],[9,26,35,5,13,7],[17,24,9,26,13,7],[4,15,9,5,13,7],[16,4,17,9,5,13],[4,17,15,9,13,7],[27,37,4,17,26,5],[37,36,17,9,26,5],[37,36,4,9,26,5],[27,37,4,17,9,5],[27,39,2,17,26,10],[19,27,2,4,26,10],[14,2,17,26,32,5],[14,2,17,32,10,5],[2,17,26,34,32,10],[2,4,26,33,32,5],[21,27,2,17,26,5],[21,27,2,4,17,5],[27,37,2,4,26,5],[2,17,24,42,22,10],[17,24,42,22,10,7],[2,16,24,22,10,7],[44,2,16,17,24,7],[44,45,2,17,24,10],[46,44,2,16,24,10],[46,44,2,16,17,10],[44,45,16,17,24,10],[21,44,2,16,17,7],[44,47,16,17,24,7],[44,2,16,17,24,10],[44,47,2,16,24,7],[21,44,2,17,24,7],[2,16,24,48,22,7],[18,2,16,24,22,10],[18,2,16,22,10,7],[16,24,48,22,10,7],[16,49,17,24,5,7],[16,49,24,10,5,7],[46,21,2,16,17,5],[50,46,14,16,17,5],[50,46,14,2,16,5],[46,14,2,16,17,10],[46,21,14,2,17,5],[51,14,16,32,10,5],[14,16,17,25,32,10],[16,17,25,32,10,5],[51,14,16,17,32,5],[29,14,2,17,32,10],[29,14,2,32,10,5],[14,16,17,32,10,5],[52,46,14,2,16,10],[46,44,14,16,17,10],[52,46,14,2,17,10],[46,14,2,16,17,5],[14,53,16,10,5,7],[14,53,2,16,5,7],[51,14,53,10,5,7],[14,53,16,49,10,7],[53,16,49,10,5,7],[51,14,53,16,10,5],[53,2,16,5,13,7],[50,14,53,2,16,5],[50,14,53,2,16,7],[14,53,2,5,13,7],[52,18,14,2,16,7],[18,14,16,22,10,7],[52,18,14,2,16,10],[16,49,17,5,13,7],[47,16,49,17,24,5],[47,16,49,17,24,7],[49,17,24,5,13,7],[45,16,17,24,25,10],[16,24,25,32,10,5],[45,16,17,24,25,5],[16,49,24,48,10,7],[53,16,49,24,10,5],[49,24,48,10,5,7],[53,2,16,4,5,13],[19,21,2,16,4,7],[21,44,16,4,17,7],[46,21,2,16,4,5],[21,27,16,4,17,5],[16,49,4,17,13,7],[19,2,16,3,4,13],[2,16,3,13,54,7],[16,3,4,13,54,7],[19,2,16,3,4,7],[53,55,16,5,13,7],[53,55,2,16,13,7],[46,53,2,16,4,13],[53,2,4,56,5,13],[53,16,4,56,5,13],[46,53,2,16,4,5],[19,21,16,3,4,7],[57,19,21,2,16,7],[57,19,21,2,16,4],[58,21,44,2,16,17],[58,21,44,2,16,7],[21,44,16,49,4,7],[59,21,44,4,17,7],[59,21,44,16,4,17],[44,16,49,4,17,7],[60,19,21,4,17,7],[60,19,21,2,4,17],[60,21,27,2,4,17],[60,21,27,2,4,5],[58,46,21,16,17,5],[58,46,21,2,16,17],[57,46,21,2,16,4],[46,21,53,16,4,5],[57,46,21,2,4,5],[27,16,4,17,9,5],[59,21,27,16,17,5],[59,21,27,16,4,17],[21,27,16,4,9,5],[55,16,49,17,5,13],[55,16,49,5,13,7],[16,49,4,13,54,7],[44,16,49,4,17,13],[49,4,17,13,54,7],[16,17,9,56,5,13],[16,4,9,56,5,13],[27,16,4,17,9,13],[60,19,27,2,17,10],[60,19,27,2,4,17],[39,2,17,26,34,10],[61,27,39,2,17,26],[61,27,39,2,17,10],[27,39,2,26,34,10],[62,27,39,4,26,10],[62,27,39,4,17,26],[63,19,27,4,26,10],[19,27,18,2,26,10],[19,18,2,4,26,10],[63,19,27,2,4,26],[17,26,34,64,32,5],[26,34,64,32,10,5],[14,2,26,65,32,5],[21,14,2,17,26,32],[21,14,2,17,26,5],[14,17,26,65,32,5],[2,26,34,66,32,10],[39,2,17,26,34,32],[2,17,34,66,32,10],[26,33,64,32,10,5],[4,26,33,64,32,10],[37,2,4,26,33,5],[2,26,33,65,32,5],[2,4,33,65,32,5],[37,2,4,26,33,32],[18,2,26,66,32,10],[18,4,26,66,32,10],[19,18,2,4,26,32],[62,27,37,17,26,5],[62,27,37,4,17,26],[61,21,27,2,17,26],[21,27,14,2,26,5],[61,21,27,17,26,5],[63,27,37,2,4,26],[27,37,2,26,33,5],[63,27,37,2,4,5],[67,0,19,6,2,7],[67,0,19,6,2,4],[19,21,6,17,24,7],[68,19,21,6,2,17],[68,19,21,6,2,7],[21,6,2,17,24,7],[69,0,19,4,17,7],[0,19,11,6,17,7],[0,11,6,4,17,7],[69,0,19,6,4,17],[70,23,6,22,10,7],[70,23,6,2,22,7],[6,17,24,71,22,7],[21,6,2,17,24,22],[6,2,24,71,22,7],[8,23,6,2,17,10],[23,2,17,72,22,10],[23,6,17,72,22,10],[8,23,6,2,17,22],[11,6,17,71,22,7],[11,4,17,71,22,7],[0,11,6,4,17,22],[27,6,4,17,25,22],[6,17,25,72,22,10],[6,4,25,72,22,10],[27,6,4,17,25,10],[70,11,6,22,10,7],[70,11,6,4,22,10],[69,19,27,6,4,17],[19,27,6,17,25,10],[69,19,27,6,4,10],[68,8,19,2,17,10],[68,8,19,6,2,17],[8,19,23,6,17,10],[67,8,19,6,2,4],[67,8,19,6,4,10],[0,1,6,4,9,5],[1,73,6,3,9,5],[1,73,3,4,9,5],[23,6,3,9,32,10],[3,9,35,32,10,5],[6,3,9,35,32,5],[23,6,3,32,10,5],[6,4,9,33,32,10],[1,38,6,4,9,10],[20,1,6,3,9,10],[20,1,6,3,4,10],[1,38,3,4,9,10],[38,36,3,9,26,10],[38,36,4,9,26,10],[1,38,3,4,26,10],[3,9,26,34,22,10],[12,3,9,26,22,7],[12,3,9,22,10,7],[9,26,34,22,10,7],[11,3,4,26,22,10],[38,37,3,4,26,7],[73,38,3,9,26,7],[73,38,3,4,9,7],[12,74,15,10,5,7],[12,3,74,15,5,7],[11,12,3,15,10,5],[12,3,15,9,10,7],[15,9,75,35,5,7],[15,9,35,33,10,7],[15,75,35,10,5,7],[3,15,9,35,10,5],[76,3,15,9,35,10],[76,3,15,9,35,5],[3,15,35,32,10,5],[15,9,35,10,5,7],[77,12,3,15,9,7],[12,15,9,22,10,7],[77,12,3,15,9,10],[12,3,15,10,5,7],[73,3,4,15,9,5],[73,3,4,15,9,7],[1,73,3,4,15,5],[73,76,3,15,9,5],[73,76,4,15,9,5],[3,74,15,5,13,7],[3,4,74,15,13,7],[15,9,75,5,13,7],[4,15,9,75,5,13],[77,73,3,15,9,7],[77,73,3,4,15,7],[73,38,4,15,9,7],[9,26,34,40,22,7],[26,34,40,22,10,7],[9,33,34,22,10,7],[78,9,26,33,34,10],[78,79,9,26,34,7],[80,78,9,33,34,7],[80,78,9,26,33,7],[78,79,26,33,34,7],[36,78,9,26,33,10],[78,81,26,33,34,10],[78,9,26,33,34,7],[78,81,9,33,34,10],[36,78,9,26,34,10],[9,33,34,82,22,10],[15,9,33,34,22,7],[15,9,33,22,10,7],[33,34,82,22,10,7],[26,33,34,64,10,5],[33,34,64,10,5,7],[36,80,9,26,33,5],[80,83,26,35,33,5],[80,83,9,35,33,5],[80,9,26,35,33,7],[36,80,9,26,35,5],[35,33,84,5,13,7],[26,25,35,33,13,7],[26,25,33,5,13,7],[26,35,33,84,5,13],[9,26,75,35,13,7],[9,75,35,5,13,7],[26,35,33,5,13,7],[85,80,9,35,33,7],[80,78,26,35,33,7],[85,80,9,26,35,7],[80,9,26,35,33,5],[35,33,86,10,5,7],[9,35,33,86,10,5],[35,84,86,10,5,7],[35,33,86,64,10,7],[33,86,64,10,5,7],[35,33,84,86,5,7],[9,33,86,32,10,5],[83,9,35,33,86,5],[83,9,35,33,86,10],[9,35,86,32,10,5],[85,15,9,35,33,10],[15,35,33,22,10,7],[85,15,9,35,33,7],[81,26,33,34,64,5],[81,26,33,34,64,10],[79,26,25,33,34,7],[25,33,34,5,13,7],[79,26,25,33,34,5],[33,34,64,82,10,7],[33,34,86,64,5,7],[34,64,82,10,5,7],[4,9,33,86,32,5],[38,36,4,9,33,10],[36,78,4,26,33,10],[36,80,4,9,33,5],[37,36,4,26,33,5],[38,6,4,9,33,32],[6,9,33,66,32,10],[6,4,33,66,32,10],[38,6,4,9,33,10],[33,86,87,32,10,5],[9,33,86,87,32,10],[80,4,9,33,86,32],[4,9,86,65,32,5],[4,33,86,65,32,5],[80,4,9,33,86,5],[38,36,6,4,33,10],[88,38,36,9,33,10],[88,38,36,4,9,33],[89,36,78,9,26,33],[89,36,78,9,33,10],[36,78,4,33,64,10],[90,36,78,4,26,10],[90,36,78,4,26,33],[78,4,26,33,64,10],[91,38,36,4,26,10],[91,38,36,4,9,26],[91,37,36,4,9,26],[91,37,36,4,9,5],[89,36,80,26,33,5],[89,36,80,9,26,33],[88,36,80,4,9,33],[36,80,4,33,86,5],[88,36,80,4,9,5],[90,37,36,26,33,5],[90,37,36,4,26,33],[37,36,2,4,33,5],[26,33,64,87,32,5],[33,64,87,32,10,5],[4,33,64,66,32,10],[78,4,26,33,64,32],[4,26,64,66,32,10],[91,38,37,9,26,7],[91,38,37,4,9,26],[92,37,39,9,26,7],[37,39,17,24,9,7],[39,17,24,9,26,7],[92,37,39,17,9,26],[62,37,39,4,17,26],[62,37,39,4,17,7],[93,38,37,4,17,7],[38,37,17,15,9,7],[38,4,17,15,9,7],[93,38,37,4,17,9],[49,17,24,26,5,13],[17,9,35,56,5,13],[36,17,9,26,35,13],[36,17,9,26,35,5],[17,26,35,56,5,13],[17,24,9,13,54,7],[39,17,24,9,26,13],[24,9,26,13,54,7],[17,15,9,13,54,7],[4,17,15,13,54,7],[38,4,17,15,9,13],[92,37,36,17,9,26],[37,36,17,9,35,5],[92,37,36,17,26,5],[93,27,37,4,17,9],[27,37,16,17,9,5],[93,27,37,4,9,5],[94,1,38,3,9,10],[94,1,38,3,4,9],[38,36,3,26,34,10],[95,38,36,3,9,26],[95,38,36,3,9,10],[36,3,9,26,34,10],[96,1,38,4,26,10],[1,38,11,3,26,10],[1,11,3,4,26,10],[96,1,38,3,4,26],[3,26,34,72,22,10],[36,3,9,26,34,22],[3,9,34,72,22,10],[73,12,3,9,26,7],[12,9,26,71,22,7],[12,3,26,71,22,7],[73,12,3,9,26,22],[97,12,3,22,10,7],[97,12,3,9,22,10],[97,11,3,22,10,7],[97,11,3,4,22,7],[37,3,4,26,25,22],[3,26,25,71,22,7],[3,4,25,71,22,7],[37,3,4,26,25,7],[11,3,26,72,22,10],[11,4,26,72,22,10],[1,11,3,4,26,22],[96,38,37,3,4,26],[38,37,3,26,25,7],[96,38,37,3,4,7],[95,73,38,9,26,7],[95,73,38,3,9,26],[73,38,12,3,26,7],[94,73,38,3,4,9],[94,73,38,3,4,7],[17,25,42,98,22,10],[25,42,98,22,10,7],[4,17,42,71,22,7],[41,4,17,25,42,22],[41,4,17,25,42,7],[4,25,42,71,22,7],[99,27,39,17,25,10],[99,27,39,4,17,25],[27,39,6,4,25,10],[100,39,43,17,26,25],[100,39,43,17,25,10],[39,43,17,26,34,10],[39,43,4,25,40,10],[101,39,43,4,26,10],[101,39,43,4,26,25],[43,4,26,25,40,10],[101,37,39,26,25,7],[101,37,39,4,26,25],[37,39,3,4,25,7],[100,39,41,17,26,25],[39,41,17,24,26,7],[100,39,41,26,25,7],[99,39,41,4,17,25],[99,39,41,4,17,7],[39,41,4,25,42,7],[26,25,40,98,22,7],[25,40,98,22,10,7],[4,25,40,72,22,10],[43,4,26,25,40,22],[4,26,40,72,22,10],[79,102,26,34,40,7],[102,103,25,34,40,7],[102,103,26,25,40,7],[79,102,26,25,34,7],[102,26,25,34,40,10],[43,102,26,25,40,10],[102,104,26,34,40,10],[102,26,25,34,40,7],[102,104,25,34,40,10],[43,102,26,25,34,10],[34,40,82,10,5,7],[25,42,34,40,5,7],[25,42,40,10,5,7],[25,34,40,82,10,5],[26,34,40,105,22,10],[34,40,105,22,10,7],[79,102,25,33,34,7],[78,79,26,25,33,7],[25,42,34,5,13,7],[25,33,34,86,5,13],[33,34,86,5,13,7],[25,42,33,34,13,7],[24,26,25,33,5,13],[43,79,26,25,34,5],[79,81,25,33,34,5],[79,81,26,33,34,5],[43,79,26,25,33,5],[34,40,82,105,10,7],[34,40,64,82,5,7],[40,82,105,10,5,7],[103,25,42,34,40,5],[103,25,42,34,40,7],[42,34,40,5,13,7],[25,42,40,98,10,7],[24,25,42,40,10,5],[42,40,98,10,5,7],[25,34,82,32,10,5],[104,25,34,40,82,5],[104,25,34,40,82,10],[25,40,82,32,10,5],[41,43,17,25,34,5],[41,43,17,26,25,5],[43,79,17,26,34,5],[43,102,17,25,34,10],[16,17,25,34,32,5],[17,25,34,82,32,10],[45,49,17,24,26,5],[49,24,26,56,5,13],[49,17,26,56,5,13],[45,49,17,24,26,13],[49,106,17,24,13,7],[49,106,24,5,13,7],[24,48,25,5,13,7],[24,48,26,25,13,7],[107,45,41,24,25,5],[107,45,41,17,24,25],[45,41,16,17,25,5],[45,41,17,24,26,5],[108,41,43,24,26,25],[41,43,24,26,33,5],[43,24,26,25,33,5],[108,41,43,24,25,5],[100,41,43,17,26,5],[100,41,43,17,26,25],[41,43,24,26,25,5],[109,45,41,17,24,26],[45,41,49,24,26,5],[109,45,41,17,26,5],[45,41,17,24,25,5],[41,110,24,26,25,7],[41,110,17,24,25,7],[110,24,48,26,25,7],[108,41,110,24,26,25],[108,41,110,26,25,7],[41,110,24,48,26,7],[41,110,17,25,42,7],[107,41,110,17,24,7],[107,41,110,17,24,25],[110,17,24,25,42,7],[109,39,41,17,24,7],[39,41,24,9,26,7],[109,39,41,17,24,26],[24,48,25,42,5,7],[106,24,48,25,5,13],[106,24,48,5,13,7],[48,25,42,5,13,7],[24,26,33,56,5,13],[43,24,26,25,33,13],[24,25,33,56,5,13],[24,48,26,13,54,7],[110,24,48,26,25,13],[48,26,25,13,54,7],[110,17,24,25,42,10],[24,48,42,10,5,7],[110,111,24,25,42,7],[110,111,17,24,42,7],[45,110,17,24,42,10],[110,112,24,25,42,10],[110,112,17,25,42,10],[45,110,17,24,25,10],[24,42,113,22,10,7],[17,24,42,113,22,7],[45,110,16,24,25,10],[44,45,16,17,25,10],[24,25,40,32,10,5],[53,16,24,25,32,5],[53,16,24,32,10,5],[16,24,25,40,32,10],[47,45,16,24,25,5],[47,45,16,17,24,5],[24,48,42,113,10,7],[49,24,48,42,10,5],[48,42,113,10,5,7],[112,24,25,42,40,5],[112,24,25,42,40,10],[24,42,40,32,10,5],[111,24,48,25,42,5],[111,24,48,25,42,7],[79,17,26,34,64,5],[17,34,64,65,32,5],[17,26,64,65,32,5],[79,17,26,34,64,32],[26,34,64,114,32,10],[34,64,114,32,10,5],[115,43,79,25,34,5],[115,43,79,26,25,34],[116,41,43,17,25,34],[41,43,16,17,34,5],[41,16,17,25,34,5],[116,41,43,25,34,5],[117,43,79,17,26,34],[43,79,17,34,64,5],[117,43,79,17,26,5],[115,43,102,26,25,34],[115,43,102,26,34,10],[102,17,25,34,82,10],[116,43,102,17,25,34],[116,43,102,17,25,10],[43,102,17,34,82,10],[117,39,43,17,26,34],[117,39,43,26,34,10],[39,43,2,17,34,10],[25,34,82,114,32,5],[34,82,114,32,10,5],[16,17,34,65,32,5],[41,16,17,25,34,32],[16,25,34,65,32,5],[17,34,82,66,32,10],[102,17,25,34,82,32],[17,25,82,66,32,10],[17,25,98,72,22,10],[112,17,25,42,98,10],[112,17,25,42,98,22],[17,42,98,72,22,10],[25,42,98,118,22,7],[42,98,118,22,10,7],[11,4,17,42,71,22],[17,42,113,71,22,7],[4,17,42,113,71,7],[27,41,4,17,42,22],[41,112,17,25,42,22],[41,112,4,25,42,22],[27,41,4,17,25,22],[41,110,4,17,42,7],[25,42,118,71,22,7],[4,25,42,118,71,22],[3,4,25,42,71,7],[0,27,6,4,17,22],[27,41,6,17,25,22],[0,27,6,4,25,22],[6,17,25,98,72,22],[23,6,17,25,72,10],[70,6,4,25,72,22],[6,4,25,40,72,10],[70,6,4,72,22,10],[99,100,27,39,25,10],[61,99,27,39,17,10],[61,99,27,17,25,10],[99,100,39,17,25,10],[99,27,41,4,17,25],[119,99,27,39,4,25],[119,99,27,39,4,17],[63,27,39,6,4,25],[27,39,6,25,40,10],[39,6,4,25,40,10],[63,27,39,6,4,10],[120,100,39,43,17,26],[120,100,39,43,26,25],[100,116,39,43,25,10],[99,100,39,43,17,10],[100,116,43,17,25,10],[116,39,43,25,40,10],[116,39,43,4,25,40],[39,43,6,4,40,10],[62,101,39,43,4,10],[101,117,39,43,26,10],[101,117,43,4,26,10],[62,101,39,4,26,10],[101,37,43,4,26,25],[120,101,39,43,26,25],[120,101,39,43,4,25],[43,102,4,26,40,10],[63,62,27,39,4,10],[62,101,27,39,26,10],[63,62,27,4,26,10],[119,62,27,39,17,26],[119,62,27,39,4,17],[92,101,37,26,25,7],[101,100,37,39,25,7],[101,100,39,26,25,7],[92,101,37,39,26,7],[121,101,37,39,4,26],[121,101,37,39,4,25],[93,37,39,3,4,25],[37,39,3,25,42,7],[39,3,4,25,42,7],[93,37,39,3,4,7],[122,100,39,41,17,26],[122,100,39,41,17,25],[100,108,39,41,25,7],[101,100,39,41,26,7],[100,108,41,26,25,7],[122,99,39,41,17,25],[122,99,39,41,4,25],[62,99,39,4,17,7],[99,109,39,41,17,7],[99,109,41,4,17,7],[62,99,39,41,4,7],[108,39,41,25,42,7],[108,39,41,4,25,42],[39,41,3,4,42,7],[121,62,37,39,17,26],[121,62,37,39,4,26],[93,62,37,39,4,7],[62,99,37,39,17,7],[93,62,37,4,17,7],[26,25,98,71,22,7],[103,26,25,40,98,7],[103,26,25,40,98,22],[26,40,98,71,22,7],[25,40,98,123,22,10],[40,98,123,22,10,7],[25,40,123,72,22,10],[4,25,40,123,72,22],[37,43,4,26,40,22],[43,103,26,25,40,22],[43,103,4,25,40,22],[37,43,4,26,25,22],[26,40,105,72,22,10],[4,26,40,105,72,10],[11,4,26,40,72,22],[1,37,3,4,26,22],[37,43,3,26,25,22],[1,37,3,4,25,22],[12,3,26,25,71,7],[3,26,25,98,71,22],[97,3,4,71,22,7],[97,3,4,25,71,22],[91,92,38,37,26,7],[95,91,38,37,9,7],[95,91,38,9,26,7],[91,92,37,9,26,7],[124,91,38,37,4,26],[124,91,38,37,4,9],[91,92,37,39,9,7],[92,101,39,9,26,7],[37,17,24,15,9,7],[99,37,39,17,24,9],[99,37,39,17,24,7],[37,39,24,15,9,7],[121,92,37,39,17,9],[121,92,37,39,17,26],[92,39,36,17,9,26],[96,93,38,37,4,7],[93,62,38,37,17,7],[96,93,38,4,17,7],[95,38,37,17,15,9],[95,38,37,15,9,7],[38,37,17,24,15,7],[73,38,4,17,15,7],[124,93,38,37,17,9],[124,93,38,37,4,9],[93,27,38,4,17,9],[17,9,35,125,56,13],[9,35,125,56,5,13],[16,17,9,35,56,5],[36,85,9,26,35,13],[39,36,17,26,35,13],[39,36,17,9,26,13],[36,85,17,9,35,13],[36,80,17,26,35,5],[26,35,84,56,5,13],[49,17,26,35,56,13],[17,26,35,84,56,5],[85,9,26,75,35,7],[26,75,35,13,54,7],[9,26,75,13,54,7],[85,9,26,75,35,13],[9,75,35,125,5,13],[75,35,125,5,13,7],[106,17,24,9,13,54],[106,17,24,13,54,7],[17,24,15,9,54,7],[45,39,17,24,26,13],[39,36,24,9,26,13],[45,39,17,24,9,13],[24,9,26,75,13,54],[24,48,9,26,54,7],[15,9,126,75,13,7],[15,126,75,5,13,7],[4,15,75,56,5,13],[76,4,15,9,75,5],[76,4,15,9,75,13],[4,9,75,56,5,13],[55,16,17,9,56,13],[55,16,17,56,5,13],[16,4,9,75,56,13],[53,16,4,9,56,5],[27,38,4,17,9,13],[44,27,16,17,9,13],[44,27,16,4,17,13],[27,38,16,4,9,13],[17,15,9,126,13,54],[15,9,126,13,54,7],[4,74,15,13,54,7],[49,4,17,15,13,54],[4,17,74,15,54,7],[38,76,17,15,9,13],[38,76,4,15,9,13],[27,38,4,17,15,13],[62,92,37,17,26,5],[61,62,27,37,17,5],[61,62,27,17,26,5],[62,92,27,37,26,5],[127,62,27,37,4,26],[127,62,27,37,4,17],[128,92,37,36,17,9],[128,92,37,36,9,26],[88,37,36,9,35,5],[37,36,16,17,35,5],[37,16,17,9,35,5],[88,37,36,17,9,35],[92,90,37,36,26,5],[62,92,37,36,17,5],[92,90,36,17,26,5],[128,91,37,36,9,26],[128,91,37,36,4,26],[93,91,37,4,9,5],[91,88,37,36,9,5],[91,88,36,4,9,5],[93,91,37,36,4,5],[127,93,27,37,17,9],[127,93,27,37,4,17],[61,27,37,16,17,5],[27,37,16,9,35,5],[61,27,37,16,17,9],[63,93,27,37,4,5],[93,91,27,37,9,5],[63,93,27,4,9,5],[60,61,19,27,17,10],[68,60,19,27,2,10],[68,60,19,2,17,10],[60,61,27,2,17,10],[129,60,19,27,4,17],[129,60,19,27,2,4],[119,61,27,39,2,26],[119,61,27,39,17,26],[61,21,39,2,17,26],[60,61,27,39,2,10],[61,99,39,2,17,10],[27,18,2,26,34,10],[101,27,39,2,26,34],[101,27,39,26,34,10],[27,39,18,2,34,10],[69,63,19,27,4,10],[63,62,19,27,26,10],[69,63,19,4,26,10],[68,19,27,18,2,26],[68,19,27,18,2,10],[19,27,18,26,34,10],[8,19,18,4,26,10],[129,63,19,27,2,26],[129,63,19,27,2,4],[63,19,37,2,4,26],[130,14,2,26,65,32],[130,14,2,65,32,5],[14,2,26,33,65,5],[52,21,14,2,17,32],[21,39,14,17,26,32],[21,39,2,17,26,32],[52,21,14,2,26,32],[46,21,14,17,26,5],[51,14,17,65,32,5],[14,17,26,64,65,32],[51,14,17,26,65,5],[52,29,14,2,17,10],[29,14,17,66,32,10],[29,2,17,66,32,10],[52,29,14,2,17,32],[130,29,14,2,32,5],[130,29,14,32,10,5],[2,26,34,114,66,32],[26,34,114,66,32,10],[18,2,26,34,66,10],[39,79,17,26,34,32],[21,39,2,17,34,32],[39,79,2,26,34,32],[29,2,17,34,66,32],[2,17,34,82,66,10],[131,29,18,2,32,10],[131,29,18,32,10,5],[29,18,4,65,32,5],[30,29,18,2,4,5],[30,29,18,2,4,32],[29,2,4,65,32,5],[2,26,33,87,65,32],[26,33,87,65,32,5],[29,2,4,33,65,32],[2,4,33,86,65,5],[19,37,2,4,26,32],[37,78,2,26,33,32],[37,78,4,26,33,32],[19,37,2,4,33,32],[131,18,2,26,66,32],[131,18,2,66,32,10],[28,18,4,66,32,10],[18,4,26,64,66,32],[28,18,4,26,66,10],[30,19,18,2,26,32],[30,19,18,2,4,32],[19,37,18,4,26,32],[132,61,21,27,2,26],[132,61,21,27,2,17],[57,21,27,14,2,5],[21,27,14,26,33,5],[27,14,2,26,33,5],[57,21,27,14,2,26],[59,61,21,27,17,5],[61,62,21,27,26,5],[59,61,21,17,26,5],[132,60,21,27,2,17],[132,60,21,27,4,17],[60,63,27,2,4,5],[57,60,21,27,2,5],[57,60,21,2,4,5],[60,63,21,27,4,5],[127,63,27,37,2,26],[127,63,27,37,4,26],[92,27,37,26,33,5],[27,37,14,2,33,5],[92,27,37,2,26,33],[60,63,27,37,2,5],[63,93,37,2,4,5]],dtype=np.uint8)\n"
   ]
  },
  {
   "cell_type": "code",
   "execution_count": 90,
   "metadata": {},
   "outputs": [],
   "source": [
    "def tADA(A,D): return lp.dot_AA(np.moveaxis(A,0,1),lp.dot_AA(D,A))\n",
    "\n",
    "def _smooth3_decomp(D,e,μ):\n",
    "    \"\"\"Decompose D over the offsets e, with weights μ for the modified optimization problem\"\"\"\n",
    "    sdetD = np.linalg.det(D)**(1/3) # normalize D for unit determinant (unless weights are homogeneous w.r.t D)\n",
    "    D/=sdetD\n",
    "    # The equality constraint D = sum λ(e) e e^T is used to eliminate 6 variables\n",
    "    A = misc.flatten_symmetric_matrix(lp.outer_self(e))\n",
    "    iA = np.linalg.inv(A[:,:6])\n",
    "    rA = A[:,6:]\n",
    "    Dflat = misc.flatten_symmetric_matrix(D)\n",
    "    def complement(λ): return np.concatenate( (lp.dot_AV(iA, Dflat-lp.dot_AV(rA,λ)), λ) )\n",
    "    # The logarithmic barrier and squared penalty in the optimization problem control the coefficients range\n",
    "    ϵ = 0.1 # Recover Selling as ϵ->O\n",
    "    def objective(λ): λ = complement(λ); return np.sum(-λ/ϵ - μ*np.log(λ) + 0.5*λ**2/μ)\n",
    "    # Build the initial guess\n",
    "    D0 = misc.expand_symmetric_matrix(A@μ)\n",
    "    r = np.linalg.norm(D0 @ np.linalg.inv(D))\n",
    "    x0 = (μ/r)[6:]\n",
    "    while np.any(complement(x0)<0): x0/=1.3\n",
    "    x = ad.Optimization.newton_minimize(objective,x0,f_value_gradient_direction='Dense2',maxiter=20,verbosity=-1)\n",
    "    return complement(x)*sdetD\n",
    "\n",
    "def _smooth3_energies(e,order=4):\n",
    "    \"\"\"Get approximately the 0th and 16th energy, in a smooth way\"\"\"\n",
    "    r = 2 # transition stiffness, should be >=2. Obtain e[0],e[16] as r->infty\n",
    "    def objective(ext):\n",
    "        emin,emax=ext; eδ = (emax-emin)/r\n",
    "        return ad.array([we.heaviside((emin-e)/eδ,order).sum()-0.5, we.heaviside((emax-e)/eδ,order).sum()-16.5])\n",
    "    return ad.Optimization.newton_root(objective,e[[0,16]],ad='Dense',stop={'verbosity':0})\n",
    "        \n",
    "def _smooth3_cutoff(energy,emin,emax,order=4):\n",
    "    r = 2 # Cutoff parameter, should be >=1. Large values yield fewer positive offsets, but possibly less smoothness.\n",
    "    eδ = (emax-emin)/r \n",
    "    x = np.maximum(0,emin+eδ-energy)/eδ # 1 at minimum energy, 0 at cutoff and after\n",
    "    return we.heaviside(2*x-1,order) # Needs smooth extrema to get expected smoothness\n",
    "\n",
    "def smooth3_decomp(D,smoothness_order=6):\n",
    "    \"\"\"Smooth variant of Selling's decomposition\"\"\"\n",
    "    sb = Selling.ObtuseSuperbase(D)\n",
    "    D = tADA(sb[:,:3],D) # Unimodular change of coordinates, so that the canonical superbase becomes optimal\n",
    "    energies = _neigh_energy@misc.flatten_symmetric_matrix(D) # Should include all minimal energies, and all next level too\n",
    "    # Fit the table, compute the superbase weights. \n",
    "    ord = np.argsort(energies,axis=-1) # Only need the 17 first elements (at most 16 attain the minimum energy)\n",
    "    energies = energies[ord]\n",
    "    emin,emax = _smooth3_energies(energies,smoothness_order)\n",
    "    ρ = _smooth3_cutoff(energies,emin,emax,smoothness_order)\n",
    "    pos = ρ>0\n",
    "    ord = ord[pos]\n",
    "    ρ = ρ[pos]\n",
    "    ρ /= ρ.sum()\n",
    "    \n",
    "    # Get the stencil, and associated weights\n",
    "    moffset = _neigh_ioffset[ord] # Offsets associated to all candidate superbases\n",
    "    ioffset = np.unique(moffset.reshape(-1))\n",
    "    ioffset = np.concatenate((moffset[0],np.setdiff1d(ioffset,moffset[0])))\n",
    "    offsets = np.moveaxis(_neigh_uoffset[ioffset],1,0)\n",
    "    μ = np.sum([ρ*np.any(moffset==i,axis=1) for i in ioffset],axis=1)\n",
    "    # Solve an optimization problem. We want to guarantee that the weights are non-negative\n",
    "    sol = _smooth3_decomp(D,offsets,μ)\n",
    "    # Map back the offsets using A\n",
    "    A = np.linalg.inv(sb[:,:3]).T.round().astype(int)\n",
    "    offsets = lp.dot_AV(A[:,:,None],offsets)\n",
    "    return sol,offsets #,λ"
   ]
  },
  {
   "cell_type": "code",
   "execution_count": 79,
   "metadata": {},
   "outputs": [
    {
     "name": "stderr",
     "output_type": "stream",
     "text": [
      "/Users/jean-mariemirebeau/Dropbox/Programmes/GithubM1/AdaptiveGridDiscretizations/Notebooks_Algo/../agd/AutomaticDifferentiation/Base.py:46: RuntimeWarning: invalid value encountered in log\n",
      "  def log(x):\ty=1./x; return (np.log(x),y,-y**2)\n",
      "/var/folders/pr/ywmc0vdj1_q45y494__w0nsr0000gn/T/ipykernel_49301/1730470699.py:15: RuntimeWarning: invalid value encountered in log\n",
      "  def objective(λ): λ = complement(λ); return np.sum(-λ/ϵ - μ*np.log(λ) + λ**2/μ)\n"
     ]
    },
    {
     "data": {
      "text/plain": [
       "(array([1.13756533, 4.33533583, 0.79780712, 0.47819298, 2.28042248, 2.08352141, 0.0492637 , 0.10374234, 0.00485709]),\n",
       " array([[ 1,  1,  0,  1,  1,  0,  2,  0,  0],\n",
       "        [ 1,  0,  1,  0, -1,  1,  0,  2,  0],\n",
       "        [-1,  0,  0, -1,  0, -1, -1, -1,  1]]))"
      ]
     },
     "execution_count": 79,
     "metadata": {},
     "output_type": "execute_result"
    }
   ],
   "source": [
    "D = Riemann.needle((1,2,3.),1,3).m\n",
    "#D = np.eye(3)\n",
    "#D = misc.expand_symmetric_matrix([ 3., -1.,  1., -1.,  0.,  1.])\n",
    "#D = misc.expand_symmetric_matrix([2,-1,1,0,0,1.])\n",
    "#np.sum(smooth_decomp3(D)<=4.01)\n",
    "λ,e = smooth3_decomp(D)[:2]\n",
    "rec = np.sum(λ*lp.outer_self(e),axis=2)\n",
    "assert np.allclose(rec,D)\n",
    "λ,e"
   ]
  },
  {
   "cell_type": "markdown",
   "metadata": {},
   "source": [
    "The coefficients are smooth as desired. They also vanish smoothly, and as a result their square root is also smooth, which is needed in some applications."
   ]
  },
  {
   "cell_type": "code",
   "execution_count": 80,
   "metadata": {},
   "outputs": [
    {
     "name": "stderr",
     "output_type": "stream",
     "text": [
      "/var/folders/pr/ywmc0vdj1_q45y494__w0nsr0000gn/T/ipykernel_49301/1730470699.py:15: RuntimeWarning: invalid value encountered in log\n",
      "  def objective(λ): λ = complement(λ); return np.sum(-λ/ϵ - μ*np.log(λ) + λ**2/μ)\n"
     ]
    }
   ],
   "source": [
    "# Random matrices\n",
    "np.random.seed(38)\n",
    "relax = 0.5\n",
    "D0,D1 = np.random.randn(2,3,3)\n",
    "D0,D1 = [lp.dot_AA(D.T,D)+relax*np.eye(3) for D in (D0,D1)]\n",
    "\n",
    "tmin,tmax = 0,1\n",
    "T = np.linspace(tmin,tmax,200)\n",
    "D = (1-T)*D0[:,:,None]+T*D1[:,:,None]\n",
    "decomps = [smooth3_decomp(Di)[:2] for Di in np.moveaxis(D,-1,0)]\n",
    "nmax = np.max([len(λ) for (λ,_) in decomps])\n",
    "λ = np.zeros((nmax,len(decomps)))\n",
    "e = np.zeros((3,nmax,len(decomps)),dtype=int)\n",
    "for i,(λi,ei) in enumerate(decomps):\n",
    "    ni = len(λi)\n",
    "    λ[:ni,i]=λi\n",
    "    e[:,:ni,i]=ei\n",
    "\n",
    "rec = np.sum(λ*lp.outer_self(e),axis=2)\n",
    "assert np.allclose(rec,D)\n",
    "\n",
    "decomp = Selling.GatherByOffset(T,λ,e)\n",
    "fig = plt.figure(figsize=(16,8)); plt.title(f\"Sqrt of coefficients\")\n",
    "for offset,(time,coef) in decomp.items(): plt.plot(time,np.sqrt(coef))\n",
    "#plt.ylim(0,0.3)\n",
    "plt.legend(decomp.keys(),loc=\"upper right\");"
   ]
  },
  {
   "cell_type": "markdown",
   "metadata": {},
   "source": [
    "The decomposition uses more offsets than the usual Selling decomposition, as expected. A preliminary analysis suggests that a smooth decomposition exists that uses at most 13 offsets, which should achievable with the above method (possibly suitably tuned)."
   ]
  },
  {
   "cell_type": "code",
   "execution_count": 81,
   "metadata": {},
   "outputs": [
    {
     "data": {
      "text/plain": [
       "(array([ 8,  9, 10]), array([ 31, 120,  49]))"
      ]
     },
     "execution_count": 81,
     "metadata": {},
     "output_type": "execute_result"
    }
   ],
   "source": [
    "np.unique([len(w) for w,_ in decomps],return_counts=True)"
   ]
  },
  {
   "cell_type": "markdown",
   "metadata": {},
   "source": [
    "In any case, at least 13 offsets are required in the neighborhood of the identity matrix."
   ]
  },
  {
   "cell_type": "code",
   "execution_count": 82,
   "metadata": {},
   "outputs": [
    {
     "name": "stdout",
     "output_type": "stream",
     "text": [
      "Number of weights and offsets for the identity matrix decomposition : 13\n"
     ]
    },
    {
     "data": {
      "text/plain": [
       "(array([0.00985403, 0.03950507, 0.03950507, 0.80256362, 0.80256362, 0.80256362, 0.00985403, 0.03950507, 0.03950507, 0.00985403, 0.03950507, 0.00985403, 0.03950507]),\n",
       " array([[-1, -1, -1,  0,  0, -1,  1,  1,  0, -1,  1, -1,  0],\n",
       "        [-1,  0, -1,  0, -1,  0, -1, -1,  1,  1,  0, -1, -1],\n",
       "        [-1, -1,  0, -1,  0,  0, -1,  0, -1, -1, -1,  1, -1]]))"
      ]
     },
     "execution_count": 82,
     "metadata": {},
     "output_type": "execute_result"
    }
   ],
   "source": [
    "λ,e = smooth3_decomp(np.eye(3))\n",
    "print(f\"Number of weights and offsets for the identity matrix decomposition : {len(λ)}\")\n",
    "λ,e"
   ]
  },
  {
   "cell_type": "markdown",
   "metadata": {},
   "source": [
    "### 6.2 Comparison with the C++ implementation\n",
    "\n",
    "A slightly more usable C++ implementation, still slow and experimental, is provided. We check below that it matches the Python implementation. \n",
    "\n",
    "**Availability.** This final subsection assumes that the [FileVDQ](https://github.com/Mirebeau/HamiltonFastMarching/tree/master/Interfaces/FileVDQ) library is compiled, with the SmoothDecomp flag. No GPU support yet, although this should be trivial to add when needed."
   ]
  },
  {
   "cell_type": "code",
   "execution_count": 86,
   "metadata": {},
   "outputs": [],
   "source": [
    "from agd.Eikonal import VoronoiDecomposition"
   ]
  },
  {
   "cell_type": "code",
   "execution_count": 134,
   "metadata": {},
   "outputs": [],
   "source": [
    "def normalize_decomp(λ,e,tol=1e-12):\n",
    "    pos = λ>tol; λ = λ[pos]; e = e[:,pos] # eliminate zero weights\n",
    "    ord = np.argsort(np.abs(sum(100**i*ei for i,ei in enumerate(e))))\n",
    "    λ = λ[ord]; e = e[:,ord]\n",
    "    return λ,e"
   ]
  },
  {
   "cell_type": "code",
   "execution_count": 136,
   "metadata": {},
   "outputs": [
    {
     "name": "stderr",
     "output_type": "stream",
     "text": [
      "/Users/jean-mariemirebeau/Dropbox/Programmes/GithubM1/AdaptiveGridDiscretizations/Notebooks_Algo/../agd/AutomaticDifferentiation/Base.py:46: RuntimeWarning: invalid value encountered in log\n",
      "  def log(x):\ty=1./x; return (np.log(x),y,-y**2)\n",
      "/var/folders/pr/ywmc0vdj1_q45y494__w0nsr0000gn/T/ipykernel_49301/2393254036.py:15: RuntimeWarning: invalid value encountered in log\n",
      "  def objective(λ): λ = complement(λ); return np.sum(-λ/ϵ - μ*np.log(λ) + 0.5*λ**2/μ)\n"
     ]
    }
   ],
   "source": [
    "np.random.seed(42)\n",
    "ntest = 1000\n",
    "relax = 0.5\n",
    "D = np.random.randn(3,3,ntest)\n",
    "D = lp.dot_AA(lp.transpose(D),D)+relax*np.eye(3)[:,:,None]\n",
    "for i,Di in enumerate(np.moveaxis(D,-1,0)):\n",
    "    λP,eP = normalize_decomp(*smooth3_decomp(Di)[:2])\n",
    "    λC,eC = normalize_decomp(*VoronoiDecomposition(Di,smooth=True))\n",
    "    if len(λC)!=len(λP): print(i,\"Unequal stencil size\")\n",
    "    elif not np.allclose(λC,λP): print(i,np.max(np.abs(λC-λP)))"
   ]
  },
  {
   "cell_type": "markdown",
   "metadata": {},
   "source": [
    "Sometimes a different stencil is obtained, but this is only due to roundoff error."
   ]
  },
  {
   "cell_type": "code",
   "execution_count": 138,
   "metadata": {},
   "outputs": [
    {
     "data": {
      "text/plain": [
       "(array([1.79966517e+00, 2.82945906e-01, 1.97789446e-01, 2.35956346e+00, 6.66807093e+00, 9.52499584e-02, 9.21649353e-01, 6.03618479e-02, 1.55966725e-02, 5.65366515e-03]),\n",
       " array([1.79966517e+00, 2.82945906e-01, 1.97789446e-01, 9.59518122e-19, 2.35956346e+00, 6.66807093e+00, 9.52499584e-02, 9.21649353e-01, 6.03618479e-02, 1.55966725e-02, 5.65366515e-03]))"
      ]
     },
     "execution_count": 138,
     "metadata": {},
     "output_type": "execute_result"
    }
   ],
   "source": [
    "Di=D[:,:,157] # Assumes seed 42, ntest = 1000\n",
    "λP,eP = normalize_decomp(*smooth3_decomp(Di)[:2],tol=0)\n",
    "λC,eC = normalize_decomp(*VoronoiDecomposition(Di,smooth=True),tol=0)\n",
    "λP,λC # Not the same length, due to almost zero coefficient in 5th position"
   ]
  },
  {
   "cell_type": "markdown",
   "metadata": {},
   "source": [
    "The C implementation is obviously much faster than the Python one. "
   ]
  },
  {
   "cell_type": "code",
   "execution_count": 102,
   "metadata": {},
   "outputs": [
    {
     "name": "stdout",
     "output_type": "stream",
     "text": [
      "CPU times: user 1.51 ms, sys: 5.81 ms, total: 7.32 ms\n",
      "Wall time: 19.5 ms\n"
     ]
    }
   ],
   "source": [
    "%%time\n",
    "VoronoiDecomposition(D,smooth=True);"
   ]
  },
  {
   "cell_type": "markdown",
   "metadata": {},
   "source": [
    "The two dimensional decomposition is also implemented in C. The speedup is also significant, although in that case the Python performance is less catastrophic."
   ]
  },
  {
   "cell_type": "code",
   "execution_count": 140,
   "metadata": {},
   "outputs": [],
   "source": [
    "np.random.seed(42)\n",
    "ntest = 1000\n",
    "relax = 0.5\n",
    "D = np.random.randn(2,2,ntest)\n",
    "D = lp.dot_AA(lp.transpose(D),D)+relax*np.eye(2)[:,:,None]\n",
    "for i,Di in enumerate(np.moveaxis(D,-1,0)):\n",
    "    λP,eP = normalize_decomp(*smooth_decomp(Di)[:2])\n",
    "    λC,eC = normalize_decomp(*VoronoiDecomposition(Di,smooth=True))\n",
    "    if len(λC)!=len(λP): print(i,\"Unequal stencil size\")\n",
    "    elif not np.allclose(λC,λP): print(i,np.max(np.abs(λC-λP)))"
   ]
  },
  {
   "cell_type": "code",
   "execution_count": null,
   "metadata": {},
   "outputs": [],
   "source": []
  }
 ],
 "metadata": {
  "celltoolbar": "Format de la Cellule Texte Brut",
  "kernelspec": {
   "display_name": "Python 3 (ipykernel)",
   "language": "python",
   "name": "python3"
  },
  "language_info": {
   "codemirror_mode": {
    "name": "ipython",
    "version": 3
   },
   "file_extension": ".py",
   "mimetype": "text/x-python",
   "name": "python",
   "nbconvert_exporter": "python",
   "pygments_lexer": "ipython3",
   "version": "3.12.1"
  },
  "varInspector": {
   "cols": {
    "lenName": 16,
    "lenType": 16,
    "lenVar": 40
   },
   "kernels_config": {
    "python": {
     "delete_cmd_postfix": "",
     "delete_cmd_prefix": "del ",
     "library": "var_list.py",
     "varRefreshCmd": "print(var_dic_list())"
    },
    "r": {
     "delete_cmd_postfix": ") ",
     "delete_cmd_prefix": "rm(",
     "library": "var_list.r",
     "varRefreshCmd": "cat(var_dic_list()) "
    }
   },
   "types_to_exclude": [
    "module",
    "function",
    "builtin_function_or_method",
    "instance",
    "_Feature"
   ],
   "window_display": false
  }
 },
 "nbformat": 4,
 "nbformat_minor": 4
}