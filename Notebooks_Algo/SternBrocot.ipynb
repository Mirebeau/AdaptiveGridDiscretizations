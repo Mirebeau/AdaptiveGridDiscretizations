{
 "cells": [
  {
   "cell_type": "markdown",
   "metadata": {},
   "source": [
    "# Adaptive PDE discretizations on Cartesian grids\n",
    "## Volume : Algorithmic tools\n",
    "## Part : Generalized acuteness\n",
    "## Chapter : Finslerian norms and the Stern-Brocot tree"
   ]
  },
  {
   "cell_type": "markdown",
   "metadata": {},
   "source": [
    "This notebook illustrates a stencil construction used in the Hamilton-Fast-Marching library, in the case of two dimensional Finslerian metrics. For instance [Rander metrics](../Notebooks_FMM/Rander.ipynb) and [Asymmetric quadratic metrics](../Notebooks_FMM/AsymmetricQuadratic.ipynb). It is based on the following mathematical tools:\n",
    "* The Stern-Brocot tree, an arithmetic structure often arising in the study of rational numbers. Our PDE discretization stencils are defined as the set of leaves of a suitable finite subtree of the Stern-Brocot tree, and obtained by transversal tree enumeration.\n",
    "* A generalized measure of angle, and the *acuteness implies causality* principle. Acute angles, smaller than $\\pi/2$, yield causal schemes, which can be solved in a single pass by the Fast-Marching algorithm.\n",
    "\n",
    "The contents of this notebooks are related with the following publication:\n",
    "* Mirebeau, J.-M. (2014). Efficient fast marching with Finsler metrics. Numerische Mathematik, 126(3), 515–557. [link](https://hal.archives-ouvertes.fr/hal-00736431)"
   ]
  },
  {
   "cell_type": "markdown",
   "metadata": {},
   "source": [
    "[**Summary**](Summary.ipynb) of volume Algorithmic tools, this series of notebooks.\n",
    "\n",
    "[**Main summary**](../Summary.ipynb) of the Adaptive Grid Discretizations \n",
    "\tbook of notebooks, including the other volumes.\n",
    "\n",
    "# Table of contents\n",
    "  * [1. Stencils and the Stern-Brocot tree](#1.-Stencils-and-the-Stern-Brocot-tree)\n",
    "  * [2. Angular measure associated with a norm](#2.-Angular-measure-associated-with-a-norm)\n",
    "    * [2.1 Riemannian metric](#2.1-Riemannian-metric)\n",
    "    * [2.2 Asymmetric quadratic metric](#2.2-Asymmetric-quadratic-metric)\n",
    "    * [2.3 Rander metric](#2.3-Rander-metric)\n",
    "\n",
    "\n",
    "\n",
    "**Acknowledgement.** Some of the experiments presented in these notebooks are part of \n",
    "ongoing research with Ludovic Métivier and Da Chen.\n",
    "\n",
    "Copyright Jean-Marie Mirebeau, Centre Borelli, ENS Paris-Saclay, CNRS, University Paris-Saclay"
   ]
  },
  {
   "cell_type": "markdown",
   "metadata": {},
   "source": [
    "## 0. Importing the required libraries"
   ]
  },
  {
   "cell_type": "code",
   "execution_count": 1,
   "metadata": {},
   "outputs": [],
   "source": [
    "import sys; sys.path.insert(0,\"..\") # Allow import of agd from parent directory (useless if conda package installed)\n",
    "#from Miscellaneous import TocTools; print(TocTools.displayTOC('SternBrocot','Algo'))"
   ]
  },
  {
   "cell_type": "code",
   "execution_count": 2,
   "metadata": {},
   "outputs": [],
   "source": [
    "from agd import Metrics"
   ]
  },
  {
   "cell_type": "code",
   "execution_count": 3,
   "metadata": {
    "tags": [
     "ExportCode"
    ]
   },
   "outputs": [],
   "source": [
    "import numpy as np\n",
    "from matplotlib import pyplot as plt"
   ]
  },
  {
   "cell_type": "markdown",
   "metadata": {},
   "source": [
    "## 1. Stencils and the Stern-Brocot tree\n",
    "\n",
    "The context of this notebook is semi-Lagrangian schemes for eikonal equations. \n",
    "In that framework, a stencil around a discretization point $x$ is informally a polygonal surface enclosing $x$, whose vertices are again discretizations points.\n",
    "\n",
    "**Stencils in two dimensional cartesian grids.** \n",
    "Specializing to twp dimensional cartesian grid discretizations, and imposing some natural additional constraints, we define a stencil as a finite sequence $u_0,\\cdots,u_n \\in Z^2$ of vectors obeying $u_n=u_0$ and for all $0 \\leq i < n$\n",
    "$$\n",
    "    \\det(u_i,u_{i+1})=1, \\quad <u_i,u_{i+1}>\\ \\geq 0.\n",
    "$$\n",
    "\n",
    "**Stencil refinement.**\n",
    "If $u_0,\\cdots,u_n$ is such a stencil, then one can refine it by inserting $u_i+u_{i+1}$ in between $u_i$ and $u_{i+1}$, for some $0 \\leq i < n$. In the function *MakeStencil* below, those insertions are governed by a provided refinement predicate, often based on a suitable measure of angle between the consecutive vectors $u_i$ and $u_{i+1}$.\n",
    "\n",
    "**The Stern-Brocot tree.** \n",
    "As described in the cited reference, stencils are in bijection with finite subtress of an arithmetic structure known as the Stern-Brocot tree. This mathematical description is mostly useful for studying their cardinality and the size of their elements, which are related with the complexity and accuracy of the resulting eikonal equation solver.\n",
    "<!---All such stencils can be described in terms of an arithmetic structure, known as the Stern-Brocot tree, see the cited reference for details.--->"
   ]
  },
  {
   "cell_type": "code",
   "execution_count": 4,
   "metadata": {
    "tags": [
     "ExportCode"
    ]
   },
   "outputs": [],
   "source": [
    "def MakeStencil(refine_pred):\n",
    "    l = [np.array([1,0]),np.array([0,-1]),np.array([-1,0]),np.array([0,1])]\n",
    "    m = [np.array([1,0])]\n",
    "    while len(l)>0:\n",
    "        u=m[-1]\n",
    "        v=l[-1]\n",
    "        if(refine_pred(u,v)):\n",
    "            l.append(u+v)\n",
    "        else:\n",
    "            m.append(v)\n",
    "            l.pop()\n",
    "    return m\n",
    "\n",
    "def PlotStencil(stencil):\n",
    "    plt.plot(*np.array(stencil).T)\n",
    "    plt.scatter(*np.array(stencil).T)\n",
    "    plt.scatter(0,0,color='black')"
   ]
  },
  {
   "cell_type": "markdown",
   "metadata": {},
   "source": [
    "The smallest possible stencil is the diamond shaped one, with $n=4$ neighbors. It is obtained by *not* making any refinements."
   ]
  },
  {
   "cell_type": "code",
   "execution_count": 5,
   "metadata": {},
   "outputs": [],
   "source": [
    "plt.title(\"Standard diamond stencil\"); plt.axis('equal')\n",
    "PlotStencil(MakeStencil(lambda u,v: False)); "
   ]
  },
  {
   "cell_type": "markdown",
   "metadata": {},
   "source": [
    "One can generate an isotropic stencil by setting an upper requiring bound on the angle between consecutive elements. For now we use the standard isotropic Euclidean measure of angle."
   ]
  },
  {
   "cell_type": "code",
   "execution_count": 6,
   "metadata": {},
   "outputs": [],
   "source": [
    "iso = Metrics.Isotropic(1)"
   ]
  },
  {
   "cell_type": "code",
   "execution_count": 7,
   "metadata": {},
   "outputs": [],
   "source": [
    "plt.title(\"Angle between consecutive elements bounded by pi/3\"); plt.axis('equal')\n",
    "PlotStencil(MakeStencil(lambda u,v: iso.angle(u,v)>np.pi/3))"
   ]
  },
  {
   "cell_type": "code",
   "execution_count": 8,
   "metadata": {},
   "outputs": [],
   "source": [
    "plt.title(\"Angle between consecutive elements bounded by pi/6\"); plt.axis('equal')\n",
    "PlotStencil(MakeStencil(lambda u,v: iso.angle(u,v)>np.pi/6))"
   ]
  },
  {
   "cell_type": "markdown",
   "metadata": {},
   "source": [
    "## 2. Angular measure associated with a norm\n",
    "\n",
    "Some applications require to consider distorted geometries, defined by and anisotropic and possibly asymmetric norm $F$. We can define a corresponding anisotropic measure of (unoriented) angle, as follows:\n",
    "for any vectors $u,v$\n",
    "$$\n",
    "    \\angle_F(u,v) := \\min\\{\\angle^*_F(u,v),\\angle^*_F(v,u)\\},\n",
    "$$\n",
    "where \n",
    "$$\n",
    "    \\cos\\angle^*_F(u,v) := <\\nabla F(u),v>/F(v).\n",
    "$$\n",
    "\n",
    "**Euclidean an Riemannian special cases.**\n",
    "If $F(x) = \\|x\\|$ is the Euclidean norm, then $\\angle_F(u,v)$ is the standard (unoriented) Euclidean angle, and $\\angle^*_F(u,v)=\\angle^*_F(v,u)$.\n",
    "\n",
    "More generally, if $F(x) = \\|x\\|_M = \\sqrt{<x,M x>}$ is the norm associated with a symmetric positive definite matrix $M$, then $\\angle_F(u,v)$ is angle associated with the Riemannian scalar product, defined by \n",
    "$$\n",
    "    \\cos\\angle_F(u,v) = \\frac{<u,Mv>}{\\|u\\|_M \\|v\\|_M},\n",
    "$$\n",
    "and again $\\angle^*_F(u,v)=\\angle^*_F(v,u)$.\n",
    "\n",
    "**General case**\n",
    "One can show that $<\\nabla F(u),v> \\leq F(v)$ for any non-zero vectors $u,v$, with equality if $u=v$. \n",
    "However, the lower bound $<\\nabla F(u),v> \\geq -F(v)$ can only be guaranteed for symmetric norms, a.k.a. $F(v)=F(-v)$. This makes the concept of obtuse angle w.r.t. an asymmetric norm ill defined in general, but this is not a real issue since our application only involves acute angles.\n",
    "\n",
    "In general, one also has $\\angle^*_F(u,v) \\neq \\angle^*_F(v,u)$. \n",
    "\n",
    "\n",
    "\n",
    "**Interest of the notion in the general case.**\n",
    "The *acuteness implies causality* principle (Tsitsilikis, Sethian, Kimmel, Vladimirsky, ...), states the following:  a discretization of the eikonal equation based on stencils whose consecutive elements make acute angles, w.r.t. the metric, can be solved in a single pass via the Fast Marching Method, a Dijkstra-like algorithm.\n",
    "\n",
    "Solving the eikonal equation is a natural approach to compute path-length distances w.r.t. those geometries. Due to their serial nature, such PDE solvers are more efficiently implemented in C++, as in the Hamilton-Fast-Marching library. We only illustrate here the stencil construction.\n",
    "\n",
    "**Anisotropy ratio.**\n",
    "The amount of distortion induced by a norm is measured by the anisotropy ratio\n",
    "$$\n",
    "    \\mu(F) := \\max_{\\|u\\|=\\|v\\|=1} \\frac{F(u)}{F(v)}\n",
    "$$"
   ]
  },
  {
   "cell_type": "code",
   "execution_count": 9,
   "metadata": {
    "tags": [
     "ExportCode"
    ]
   },
   "outputs": [],
   "source": [
    "aX0 = np.linspace(-1,1); aX1=aX0\n",
    "X = np.array(np.meshgrid(aX0,aX1,indexing='ij'))\n",
    "\n",
    "def ball_and_stencil(metric,level,name):\n",
    "    plt.figure(figsize=[12,4])\n",
    "    plt.subplot(1,2,1); plt.title(\"Unit ball for a norm of \"+name+\" type\"); plt.axis('equal')\n",
    "    plt.contourf(*X,metric.norm(X),levels=[0.,level]); plt.scatter(0,0,color='black'); \n",
    "    plt.subplot(1,2,2); plt.title(\"Stencil for a norm of \"+name+\" type\"); plt.axis('equal')\n",
    "    PlotStencil(MakeStencil(lambda u,v: metric.angle(u,v)>np.pi/3))"
   ]
  },
  {
   "cell_type": "markdown",
   "metadata": {},
   "source": [
    "### 2.1 Riemannian metric\n",
    "\n",
    "The norms associated with a Riemannian metric take the form\n",
    "$$\n",
    "    F(u) = \\|u\\|_M = \\sqrt{<u,M u>},\n",
    "$$\n",
    "where $M$ is a given symmetric positive definite matrix.\n",
    "\n",
    "We illustrate the stencil construction with a needle like Riemannian metric, whose unit ball is strongly elongated in a given direction."
   ]
  },
  {
   "cell_type": "code",
   "execution_count": 26,
   "metadata": {},
   "outputs": [],
   "source": [
    "direction = np.array([np.cos(np.pi/6),np.sin(np.pi/6)])\n",
    "riemann = Metrics.Riemann.needle(direction,cost_parallel=1,cost_orthogonal=5)"
   ]
  },
  {
   "cell_type": "markdown",
   "metadata": {},
   "source": [
    "A different cost of motion is set parallel to the given direction and in the orthogonal direction. See the unit ball below."
   ]
  },
  {
   "cell_type": "code",
   "execution_count": 27,
   "metadata": {},
   "outputs": [],
   "source": [
    "plt.title(\"Unit ball for a norm of Riemannian type\"); plt.axis('equal')\n",
    "plt.contourf(*X,riemann.norm(X),levels=[0.,1.]); plt.scatter(0,0,color='black'); "
   ]
  },
  {
   "cell_type": "markdown",
   "metadata": {},
   "source": [
    "This is an instance of an anisotropic metric."
   ]
  },
  {
   "cell_type": "code",
   "execution_count": 12,
   "metadata": {},
   "outputs": [
    {
     "data": {
      "text/plain": [
       "(5.0, True)"
      ]
     },
     "execution_count": 12,
     "metadata": {},
     "output_type": "execute_result"
    }
   ],
   "source": [
    "riemann.anisotropy(), riemann.is_definite()"
   ]
  },
  {
   "cell_type": "code",
   "execution_count": 13,
   "metadata": {},
   "outputs": [],
   "source": [
    "plt.title(\"Stencil for a norm of Riemannian type\"); plt.axis('equal')\n",
    "PlotStencil(MakeStencil(lambda u,v: riemann.angle(u,v)>np.pi/3))"
   ]
  },
  {
   "cell_type": "markdown",
   "metadata": {},
   "source": [
    "The dual norm is in general 'plate-like', but the distinction is artificial in dimension two."
   ]
  },
  {
   "cell_type": "code",
   "execution_count": 14,
   "metadata": {},
   "outputs": [],
   "source": [
    "ball_and_stencil(riemann.dual(),0.2,\"Riemannian\")"
   ]
  },
  {
   "cell_type": "markdown",
   "metadata": {},
   "source": [
    "### 2.2 Asymmetric quadratic metric\n",
    "\n",
    "The norms associated with an asymmetric quadratic metric take the form:\n",
    "$$\n",
    "    F(u) = \\sqrt{<u,M u> + \\max\\{0,<w,u>\\}^2}.\n",
    "$$\n",
    "The norm parameters are $M$ is a symmetric positive definite matrix, and $w$ a vector.\n",
    "\n",
    "We again define a needle-like norm. But it is asymmetric this time, and imposes a strong cost of motion opposite to the given direction."
   ]
  },
  {
   "cell_type": "code",
   "execution_count": 15,
   "metadata": {},
   "outputs": [],
   "source": [
    "asym_quad = Metrics.AsymQuad.needle(direction,1,5)"
   ]
  },
  {
   "cell_type": "code",
   "execution_count": 16,
   "metadata": {},
   "outputs": [],
   "source": [
    "ball_and_stencil(asym_quad,1.,\"Asymmetric quadratic\")"
   ]
  },
  {
   "cell_type": "code",
   "execution_count": 17,
   "metadata": {},
   "outputs": [
    {
     "data": {
      "text/plain": [
       "(5.0, True)"
      ]
     },
     "execution_count": 17,
     "metadata": {},
     "output_type": "execute_result"
    }
   ],
   "source": [
    "asym_quad.anisotropy(),asym_quad.is_definite()"
   ]
  },
  {
   "cell_type": "markdown",
   "metadata": {},
   "source": [
    "The dual norm puts a strong cost on motion in a half space, and a an isotropic cost in the other half space."
   ]
  },
  {
   "cell_type": "code",
   "execution_count": 18,
   "metadata": {},
   "outputs": [],
   "source": [
    "ball_and_stencil(asym_quad.dual(),0.2,\"Asymmetric quadratic\")"
   ]
  },
  {
   "cell_type": "markdown",
   "metadata": {},
   "source": [
    "### 2.3 Rander metric\n",
    "\n",
    "The norms associated with a Rander metric take the form\n",
    "$$\n",
    "    F(u) = \\|u\\|_M + <w,u>,\n",
    "$$\n",
    "The norm parameters are $M$ is a symmetric positive definite matrix, and $w$ a vector, which is subject to the compatibility condition\n",
    "$$\n",
    "    \\|w\\|_{M^{-1}} < 1.\n",
    "$$\n",
    "\n",
    "Rander metrics occur in Zermelo's navigation problem, modeling e.g. a boat in subject to a drift due to water currents. They are asymmetric, and their unit ball is an ellipsoid shifted from the origin."
   ]
  },
  {
   "cell_type": "code",
   "execution_count": 19,
   "metadata": {},
   "outputs": [],
   "source": [
    "rander = Metrics.Rander.from_Zermelo(np.eye(2),0.7*direction)"
   ]
  },
  {
   "cell_type": "code",
   "execution_count": 20,
   "metadata": {},
   "outputs": [],
   "source": [
    "ball_and_stencil(rander,0.5,\"Asymmetric quadratic\")"
   ]
  },
  {
   "cell_type": "markdown",
   "metadata": {},
   "source": [
    "The exact anisotropy of a Rander metric is not so easily computed. Instead we provide an anisotropy bound."
   ]
  },
  {
   "cell_type": "code",
   "execution_count": 21,
   "metadata": {},
   "outputs": [
    {
     "data": {
      "text/plain": [
       "(7.934920476158721, True)"
      ]
     },
     "execution_count": 21,
     "metadata": {},
     "output_type": "execute_result"
    }
   ],
   "source": [
    "rander.anisotropy_bound(), rander.is_definite()"
   ]
  },
  {
   "cell_type": "markdown",
   "metadata": {},
   "source": [
    "The sharp value is sligtly lower. Here it turns out that the anisotropy bound for the dual metric is sharp."
   ]
  },
  {
   "cell_type": "code",
   "execution_count": 22,
   "metadata": {},
   "outputs": [
    {
     "data": {
      "text/plain": [
       "(5.666666666666666, 5.666666666666669)"
      ]
     },
     "execution_count": 22,
     "metadata": {},
     "output_type": "execute_result"
    }
   ],
   "source": [
    "(1+0.7)/(1-0.7), rander.dual().anisotropy_bound()"
   ]
  },
  {
   "cell_type": "code",
   "execution_count": 23,
   "metadata": {},
   "outputs": [],
   "source": [
    "ball_and_stencil(rander.dual(),0.3,\"Asymmetric quadratic\")"
   ]
  }
 ],
 "metadata": {
  "celltoolbar": "Format de la Cellule Texte Brut",
  "kernelspec": {
   "display_name": "Python 3 (ipykernel)",
   "language": "python",
   "name": "python3"
  },
  "language_info": {
   "codemirror_mode": {
    "name": "ipython",
    "version": 3
   },
   "file_extension": ".py",
   "mimetype": "text/x-python",
   "name": "python",
   "nbconvert_exporter": "python",
   "pygments_lexer": "ipython3",
   "version": "3.10.8"
  },
  "varInspector": {
   "cols": {
    "lenName": 16,
    "lenType": 16,
    "lenVar": 40
   },
   "kernels_config": {
    "python": {
     "delete_cmd_postfix": "",
     "delete_cmd_prefix": "del ",
     "library": "var_list.py",
     "varRefreshCmd": "print(var_dic_list())"
    },
    "r": {
     "delete_cmd_postfix": ") ",
     "delete_cmd_prefix": "rm(",
     "library": "var_list.r",
     "varRefreshCmd": "cat(var_dic_list()) "
    }
   },
   "types_to_exclude": [
    "module",
    "function",
    "builtin_function_or_method",
    "instance",
    "_Feature"
   ],
   "window_display": false
  }
 },
 "nbformat": 4,
 "nbformat_minor": 2
}