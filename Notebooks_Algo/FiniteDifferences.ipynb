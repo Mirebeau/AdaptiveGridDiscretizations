{
 "cells": [
  {
   "cell_type": "markdown",
   "metadata": {},
   "source": [
    "# Adaptive PDE discretizations on Cartesian grids\n",
    "## Volume : Algorithmic tools\n",
    "## Part : Domain representation\n",
    "## Chapter : Finite differences, interpolation"
   ]
  },
  {
   "cell_type": "markdown",
   "metadata": {},
   "source": [
    "This notebook presents the basic types of finite differences and interpolation methods that can be considered on a cartesian grid. The tools are presented in two dimensions, but apply in arbitrary dimension. They also apply in the context of:\n",
    "* non-square domains, [example](SubsetRd.ipynb)\n",
    "* point dependent offsets, [example](../Notebooks_NonDiv/LinearMonotoneSchemes2D.ipynb)\n",
    "* vector valued functions."
   ]
  },
  {
   "cell_type": "markdown",
   "metadata": {
    "slideshow": {
     "slide_type": ""
    },
    "tags": []
   },
   "source": [
    "[**Summary**](Summary.ipynb) of volume Algorithmic tools, this series of notebooks.\n",
    "\n",
    "[**Main summary**](../Summary.ipynb) of the Adaptive Grid Discretizations \n",
    "\tbook of notebooks, including the other volumes.\n",
    "\n",
    "# Table of contents\n",
    "  * [1. Degenerate elliptic finite differences](#1.-Degenerate-elliptic-finite-differences)\n",
    "    * [1.1 Testing data](#1.1-Testing-data)\n",
    "    * [1.2 Upwind finite difference](#1.2-Upwind-finite-difference)\n",
    "    * [1.3 Second order finite difference](#1.3-Second-order-finite-difference)\n",
    "    * [1.4 Centered finite difference](#1.4-Centered-finite-difference)\n",
    "  * [2. Higher order finite differences](#2.-Higher-order-finite-differences)\n",
    "    * [2.1 Upwind finite difference](#2.1-Upwind-finite-difference)\n",
    "    * [2.2 Second order finite difference](#2.2-Second-order-finite-difference)\n",
    "    * [2.3 Centered finite difference](#2.3-Centered-finite-difference)\n",
    "  * [3. Composite finite differences](#3.-Composite-finite-differences)\n",
    "    * [3.1 Gradient](#3.1-Gradient)\n",
    "    * [3.2 Hessian](#3.2-Hessian)\n",
    "  * [4. Interpolation](#4.-Interpolation)\n",
    "    * [4.1 Linear splines](#4.1-Linear-splines)\n",
    "    * [4.2 Quadratic splines](#4.2-Quadratic-splines)\n",
    "    * [4.3 Cubic splines](#4.3-Cubic-splines)\n",
    "    * [4.4 Vector data](#4.4-Vector-data)\n",
    "    * [4.5 Comparison with scipy ndimage map_coordinates](#4.5-Comparison-with-scipy-ndimage-map_coordinates)\n",
    "  * [5. Functions associated with an AD variable](#5.-Functions-associated-with-an-AD-variable)\n",
    "    * [5.1 Taylor expansions](#5.1-Taylor-expansions)\n",
    "    * [5.2 Sparse differentiation](#5.2-Sparse-differentiation)\n",
    "\n",
    "\n",
    "\n",
    "**Acknowledgement.** Some of the experiments presented in these notebooks are part of \n",
    "ongoing research with Ludovic Métivier and Da Chen.\n",
    "\n",
    "Copyright Jean-Marie Mirebeau, Centre Borelli, ENS Paris-Saclay, CNRS, University Paris-Saclay"
   ]
  },
  {
   "cell_type": "markdown",
   "metadata": {},
   "source": [
    "## 0. Import the required libraries"
   ]
  },
  {
   "cell_type": "code",
   "execution_count": 2,
   "metadata": {},
   "outputs": [],
   "source": [
    "import sys; sys.path.insert(0,\"..\") # Allow imports from parent directory\n",
    "#from Miscellaneous import TocTools; print(TocTools.displayTOC('FiniteDifferences','Algo'))"
   ]
  },
  {
   "cell_type": "code",
   "execution_count": 3,
   "metadata": {},
   "outputs": [],
   "source": [
    "from agd import FiniteDifferences as fd\n",
    "from agd import AutomaticDifferentiation as ad\n",
    "from agd import Interpolation\n",
    "from agd import LinearParallel as lp\n",
    "norm_infinity = ad.Optimization.norm_infinity"
   ]
  },
  {
   "cell_type": "code",
   "execution_count": 4,
   "metadata": {},
   "outputs": [],
   "source": [
    "import numpy as np\n",
    "from matplotlib import pyplot as plt"
   ]
  },
  {
   "cell_type": "markdown",
   "metadata": {},
   "source": [
    "## 1. Degenerate elliptic finite differences\n",
    "\n",
    "The finite difference presented in this section are a typical ingredient of monotone numerical schemes, see the corresponding [volume](../Notebooks_NonDiv/Summary.ipynb). "
   ]
  },
  {
   "cell_type": "markdown",
   "metadata": {},
   "source": [
    "### 1.1 Testing data\n",
    "\n",
    "In order to test the finite difference and interpolation methods, we need some polynomial functions."
   ]
  },
  {
   "cell_type": "code",
   "execution_count": 5,
   "metadata": {},
   "outputs": [],
   "source": [
    "def u1(X): return X[0]+2*X[1]\n",
    "def u2(X): return X[0]**2+2*(2*X[0]*X[1])+3*X[1]**2\n",
    "def u3(X): return X[0]**3+X[0]*X[1]**2\n",
    "\n",
    "def u123(X): return ad.array( (u1(X),u2(X),u3(X)) )"
   ]
  },
  {
   "cell_type": "markdown",
   "metadata": {},
   "source": [
    "We also need to choose a direction, with *integer coordinates*, for the finite differences."
   ]
  },
  {
   "cell_type": "code",
   "execution_count": 6,
   "metadata": {},
   "outputs": [],
   "source": [
    "e = (1,2)"
   ]
  },
  {
   "cell_type": "markdown",
   "metadata": {},
   "source": [
    "Let us also define a domain, here a square."
   ]
  },
  {
   "cell_type": "code",
   "execution_count": 15,
   "metadata": {},
   "outputs": [],
   "source": [
    "aX,h = np.linspace(-1,1,retstep=True)\n",
    "X=np.array(np.meshgrid(aX,aX,indexing='ij'))\n",
    "shape = X.shape[1:]\n",
    "\n",
    "def interior(shape,k):\n",
    "    \"\"\"Boolean array excluding k boundary layers\"\"\"\n",
    "    interior = np.full(shape,True)\n",
    "    for i in range(len(shape)): \n",
    "        #interior[*(slice(None),)*i,:k]=False\n",
    "        interior.__setitem__((slice(None),)*i+(slice(None,k),),False)  # Python 3.10- syntax for previous line\n",
    "        #interior[*(slice(None),)*i,-k:]=False\n",
    "        interior.__setitem__((slice(None),)*i+(slice(-k,None),),False) # Python 3.10- syntax for previous line\n",
    "    return interior\n",
    "    \n",
    "def close(u,v,k,ndim=2,**kwargs):\n",
    "    \"\"\"\n",
    "    Wether u and v are close in the domain minus k boundary layers.\n",
    "    - **kwargs : passed to np.allclose\n",
    "    \"\"\"\n",
    "    dom = interior(u.shape[-ndim:],k)\n",
    "#    print(norm_infinity(u[...,dom]-v[...,dom]),kwargs)\n",
    "    return np.allclose(u[...,dom],v[...,dom],**kwargs)"
   ]
  },
  {
   "cell_type": "code",
   "execution_count": 16,
   "metadata": {},
   "outputs": [
    {
     "data": {
      "text/plain": [
       "array([[False, False, False, False, False],\n",
       "       [False,  True,  True,  True, False],\n",
       "       [False,  True,  True,  True, False],\n",
       "       [False,  True,  True,  True, False],\n",
       "       [False, False, False, False, False]])"
      ]
     },
     "execution_count": 16,
     "metadata": {},
     "output_type": "execute_result"
    }
   ],
   "source": [
    "interior((5,5),1)"
   ]
  },
  {
   "cell_type": "markdown",
   "metadata": {},
   "source": [
    "The following variables are used for validation, by comparison with automatic differentiation."
   ]
  },
  {
   "cell_type": "code",
   "execution_count": 8,
   "metadata": {},
   "outputs": [],
   "source": [
    "X_ad = ad.Dense.identity(constant=X,shape_free=(2,))\n",
    "X_ad2 = ad.Dense2.identity(constant=X,shape_free=(2,))\n",
    "\n",
    "du1  = u1(X_ad).gradient()\n",
    "du2  = u2(X_ad).gradient()\n",
    "ddu2 = u2(X_ad2).hessian()\n",
    "du3  = u3(X_ad).gradient()\n",
    "ddu3 = u3(X_ad2).hessian()\n",
    "\n",
    "_e = fd.as_field(e,shape)\n",
    "du1_e  = lp.dot_VV(du1,_e)\n",
    "du2_e  = lp.dot_VV(du2,_e)\n",
    "ddu2_e = lp.dot_VAV(_e,ddu2,_e)\n",
    "du3_e  = lp.dot_VV(du3,_e)\n",
    "ddu3_e = lp.dot_VAV(_e,ddu3,_e)"
   ]
  },
  {
   "cell_type": "markdown",
   "metadata": {},
   "source": [
    "### 1.2 Upwind finite difference\n",
    "$$\n",
    "    \\frac{u(x+he)-u(x)} h = <\\nabla u(x),e> + O(h).\n",
    "$$"
   ]
  },
  {
   "cell_type": "code",
   "execution_count": 9,
   "metadata": {},
   "outputs": [
    {
     "name": "stdout",
     "output_type": "stream",
     "text": [
      "2.1316282072803006e-14 {}\n"
     ]
    }
   ],
   "source": [
    "Du1_e = fd.DiffUpwind(u1(X),e,h)\n",
    "assert close(Du1_e,du1_e,2)"
   ]
  },
  {
   "cell_type": "markdown",
   "metadata": {},
   "source": [
    "### 1.3 Second order finite difference\n",
    "$$\n",
    "    \\frac{u(x+he)-2u(x)+u(x-he)}{h^2} = <e,\\nabla^2 u(x),e> + O(h^2).\n",
    "$$"
   ]
  },
  {
   "cell_type": "code",
   "execution_count": 10,
   "metadata": {},
   "outputs": [
    {
     "name": "stdout",
     "output_type": "stream",
     "text": [
      "2.7284841053187847e-12 {}\n"
     ]
    }
   ],
   "source": [
    "DDu2_e = fd.Diff2(u2(X),e,h)\n",
    "assert close(DDu2_e,ddu2_e,2)"
   ]
  },
  {
   "cell_type": "markdown",
   "metadata": {},
   "source": [
    "### 1.4 Centered finite difference\n",
    "\n",
    "Centered finite differences *are not* degenerate elliptic, but they can be used within degenerate elliptic schemes if they are suitably compensated by second order finite differences.\n",
    "$$\n",
    "    \\frac{u(x+h e)-u(x-h e)} {2 h} = <\\nabla u(x),e> + O(h^2). \n",
    "$$"
   ]
  },
  {
   "cell_type": "code",
   "execution_count": 11,
   "metadata": {},
   "outputs": [
    {
     "name": "stdout",
     "output_type": "stream",
     "text": [
      "4.263256414560601e-14 {}\n"
     ]
    }
   ],
   "source": [
    "Du2_e = fd.DiffCentered(u2(X),e,h)\n",
    "assert close(Du2_e,du2_e,2)"
   ]
  },
  {
   "cell_type": "markdown",
   "metadata": {},
   "source": [
    "## 2. Higher order finite differences\n",
    "\n",
    "High order finite differences are not degenerate elliptic. They may be used within filtered schemes, which combine a stable degenerate elliptic scheme with a higher order scheme.\n",
    "By construction, they are exact on higher order polynomials."
   ]
  },
  {
   "cell_type": "markdown",
   "metadata": {},
   "source": [
    "### 2.1 Upwind finite difference\n",
    "$$\n",
    "    \\frac{-u(x+2he)+4u(x+he)-3u(x)}{2h} = <\\nabla u(x),e> + O(h^2)\n",
    "$$"
   ]
  },
  {
   "cell_type": "code",
   "execution_count": 12,
   "metadata": {},
   "outputs": [
    {
     "name": "stdout",
     "output_type": "stream",
     "text": [
      "1.1368683772161603e-13 {}\n"
     ]
    }
   ],
   "source": [
    "Du2_e = fd.DiffUpwind(u2(X),e,h,order=2)\n",
    "assert close(Du2_e,du2_e,4)"
   ]
  },
  {
   "cell_type": "markdown",
   "metadata": {},
   "source": [
    "$$\n",
    "    \\frac{2 u(x+3he)-9 u(x+2he)+18 u(x+he)-11 u(x)}{6h} = <\\nabla u(x),e> + O(h^3)\n",
    "$$"
   ]
  },
  {
   "cell_type": "code",
   "execution_count": 13,
   "metadata": {},
   "outputs": [
    {
     "name": "stdout",
     "output_type": "stream",
     "text": [
      "5.861977570020827e-14 {}\n"
     ]
    }
   ],
   "source": [
    "Du3_e = fd.DiffUpwind(u3(X),e,h,order=3)\n",
    "assert close(Du3_e,du3_e,6)"
   ]
  },
  {
   "cell_type": "markdown",
   "metadata": {},
   "source": [
    "### 2.2 Second order finite difference"
   ]
  },
  {
   "cell_type": "code",
   "execution_count": 14,
   "metadata": {},
   "outputs": [
    {
     "name": "stdout",
     "output_type": "stream",
     "text": [
      "7.744915819785092e-13 {}\n"
     ]
    }
   ],
   "source": [
    "DDu3_e = fd.Diff2(u3(X),e,h,order=4)\n",
    "assert close(DDu3_e,ddu3_e,4)"
   ]
  },
  {
   "cell_type": "markdown",
   "metadata": {},
   "source": [
    "### 2.3 Centered finite difference"
   ]
  },
  {
   "cell_type": "code",
   "execution_count": 15,
   "metadata": {},
   "outputs": [
    {
     "name": "stdout",
     "output_type": "stream",
     "text": [
      "1.0658141036401503e-14 {}\n"
     ]
    }
   ],
   "source": [
    "Du3_e = fd.DiffCentered(u3(X),e,h,order=4)\n",
    "assert close(Du3_e,du3_e,6)"
   ]
  },
  {
   "cell_type": "markdown",
   "metadata": {},
   "source": [
    "## 3. Composite finite differences\n",
    "The following finite differences can be used to estimate numerically the derivatives of a function, but they are rarely adequate for building numerical schemes. We denote by $e_i$ the $i$-th element of the canonical basis."
   ]
  },
  {
   "cell_type": "markdown",
   "metadata": {},
   "source": [
    "### 3.1 Gradient\n",
    "$$\n",
    "    \\frac{u(x+h e_i)-u(x-he_i)}{2h} = \\frac {\\partial u} {\\partial x_i} + O(h^2), \\qquad 0 \\leq i < d.\n",
    "$$"
   ]
  },
  {
   "cell_type": "code",
   "execution_count": 16,
   "metadata": {},
   "outputs": [
    {
     "name": "stdout",
     "output_type": "stream",
     "text": [
      "2.930988785010413e-14 {}\n"
     ]
    }
   ],
   "source": [
    "Du2 = fd.DiffGradient(u2(X),gridScale=h)\n",
    "assert close(Du2,du2,2)"
   ]
  },
  {
   "cell_type": "code",
   "execution_count": 17,
   "metadata": {},
   "outputs": [
    {
     "data": {
      "text/plain": [
       "(2, 50, 50)"
      ]
     },
     "execution_count": 17,
     "metadata": {},
     "output_type": "execute_result"
    }
   ],
   "source": [
    "Du2.shape"
   ]
  },
  {
   "cell_type": "markdown",
   "metadata": {},
   "source": [
    "### 3.2 Hessian\n",
    "$$\n",
    "    \\frac{u(x+h e_i)-2u(x)+u(x-he_i)}{h^2} = \\frac {\\partial^2 u} {\\partial^2 x_i} + O(h^2),\n",
    "$$\n",
    "for all $0\\leq i < d$, and \n",
    "$$\n",
    "    \\frac{u(x+h e_i+h e_j)+u(x-he_i-h e_j)-u(x+h e_i -h e_j) - u(x-h e_i+he_j)}{4h^2} = \\frac {\\partial^2 u} {\\partial x_i \\partial x_j} + O(h^2), \n",
    "$$\n",
    "for all distinct $i,j$."
   ]
  },
  {
   "cell_type": "code",
   "execution_count": 18,
   "metadata": {},
   "outputs": [
    {
     "name": "stdout",
     "output_type": "stream",
     "text": [
      "2.2737367544323206e-12 {}\n"
     ]
    }
   ],
   "source": [
    "DDu2 = fd.DiffHessian(u2(X),gridScale=h)\n",
    "assert close(DDu2,ddu2,2)"
   ]
  },
  {
   "cell_type": "code",
   "execution_count": 19,
   "metadata": {},
   "outputs": [
    {
     "data": {
      "text/plain": [
       "(2, 2, 50, 50)"
      ]
     },
     "execution_count": 19,
     "metadata": {},
     "output_type": "execute_result"
    }
   ],
   "source": [
    "DDu2.shape"
   ]
  },
  {
   "cell_type": "code",
   "execution_count": 20,
   "metadata": {},
   "outputs": [
    {
     "name": "stdout",
     "output_type": "stream",
     "text": [
      "7.061018436615996e-13 {}\n"
     ]
    }
   ],
   "source": [
    "DDu3 = fd.DiffHessian(u3(X),gridScale=h,order=4)\n",
    "assert close(DDu3,ddu3,4)"
   ]
  },
  {
   "cell_type": "markdown",
   "metadata": {
    "slideshow": {
     "slide_type": ""
    },
    "tags": []
   },
   "source": [
    "## 4. Interpolation\n",
    "\n",
    "The agd library contains a partial reimplementation of the `scipy.ndimage.map_coordinates` function, which allows AD types, both for the coordinates and the input values. This is another avenue for numerically differentiating a function defined on a grid.\n",
    "\n",
    "**Boundary conditions.**\n",
    "We only support reflected (default) and periodic boundary conditions (`grid-mirror`, `grid-wrap`). \n",
    "As a result, the spline interpolation methods *does not* exactly reproduce polynomials. In the tests below, we exclude some boundary layers, and choose a sufficiently high tolerance, to account for this non-exactness.\n",
    "\n",
    "Exact reproduction of low degree polynomials could be achieved with the `not a knot` boundary conditions, but these are substantially more difficult to implement, and numerically coslty. "
   ]
  },
  {
   "cell_type": "markdown",
   "metadata": {},
   "source": [
    "Let us define a finer grid."
   ]
  },
  {
   "cell_type": "code",
   "execution_count": 21,
   "metadata": {},
   "outputs": [],
   "source": [
    "aX_ = np.linspace(-1,1,80)\n",
    "X_=np.array(np.meshgrid(aX_,aX_,indexing='ij'))\n",
    "shape_ = X_[0].shape"
   ]
  },
  {
   "cell_type": "code",
   "execution_count": 22,
   "metadata": {},
   "outputs": [],
   "source": [
    "Interp = Interpolation.UniformGridInterpolation"
   ]
  },
  {
   "cell_type": "markdown",
   "metadata": {},
   "source": [
    "### 4.1 Linear splines\n",
    "\n",
    "(Piecewise) Linear splines are continuous, and reproduce linear functions.\n",
    "They are second order consistent\n",
    "$$\n",
    "    U_1^h(x) = u(x)+O(h^2).\n",
    "$$"
   ]
  },
  {
   "cell_type": "code",
   "execution_count": 23,
   "metadata": {},
   "outputs": [],
   "source": [
    "U1 = Interp(X,u1(X),order=1)\n",
    "assert np.allclose(U1(X_),u1(X_))"
   ]
  },
  {
   "cell_type": "markdown",
   "metadata": {},
   "source": [
    "The spline can be differentiated, and yields the a first order consistent estimation of the gradient, *except possibly at boundary points*.\n",
    "$$\n",
    "    \\nabla U_1^h(x) = \\nabla u(x) + O(h)\n",
    "$$"
   ]
  },
  {
   "cell_type": "code",
   "execution_count": 24,
   "metadata": {},
   "outputs": [
    {
     "name": "stdout",
     "output_type": "stream",
     "text": [
      "2.1316282072803006e-14 {}\n"
     ]
    }
   ],
   "source": [
    "dU1 = U1(X_ad).gradient()\n",
    "assert close(dU1,du1,1)"
   ]
  },
  {
   "cell_type": "markdown",
   "metadata": {},
   "source": [
    "### 4.2 Quadratic splines\n",
    "\n",
    "Quadratic splines are continuously differentiable, and reproduce quadratic functions.\n",
    "We use a not-a-knot boundary condition : in one dimension, the second derivative is continuous accross the second node from the left.\n",
    "$$\n",
    "    U_2^h(x) = u(x)+O(h^3).\n",
    "$$"
   ]
  },
  {
   "cell_type": "code",
   "execution_count": 25,
   "metadata": {},
   "outputs": [
    {
     "name": "stdout",
     "output_type": "stream",
     "text": [
      "8.811912106665432e-07 {'atol': 1e-06}\n"
     ]
    }
   ],
   "source": [
    "U2 = Interp(X,u2(X),order=2)\n",
    "assert close(U2(X_),u2(X_),k=10,atol=1e-6)"
   ]
  },
  {
   "cell_type": "markdown",
   "metadata": {},
   "source": [
    "The spline can be differentiated, one time or two times, and yields a second order consistent estimate of the gradient, and a first order consistent estimate of the hessian, *except possibly at boundary points*.\n",
    "$$\n",
    "    \\nabla U_2^h(x) = \\nabla u(x) + O(h^2),\n",
    "$$\n",
    "$$\n",
    "    \\nabla^2 U_2^h(x) = \\nabla^2 u(x) + O(h).\n",
    "$$"
   ]
  },
  {
   "cell_type": "code",
   "execution_count": 27,
   "metadata": {},
   "outputs": [
    {
     "name": "stdout",
     "output_type": "stream",
     "text": [
      "7.773346943906745e-08 {'atol': 1e-06}\n"
     ]
    }
   ],
   "source": [
    "dU2 = U2(X_ad).gradient()\n",
    "assert close(dU2,du2,k=10,atol=1e-6)"
   ]
  },
  {
   "cell_type": "code",
   "execution_count": 28,
   "metadata": {},
   "outputs": [
    {
     "name": "stdout",
     "output_type": "stream",
     "text": [
      "5.386652560446237e-06 {'atol': 1e-06}\n"
     ]
    }
   ],
   "source": [
    "ddU2 = U2(X_ad2).hessian()\n",
    "assert close(ddU2,ddu2,k=10,atol=1e-6)"
   ]
  },
  {
   "cell_type": "markdown",
   "metadata": {},
   "source": [
    "### 4.3 Cubic splines\n",
    "\n",
    "Cubic splines are twice continuously differentiable, and reproduce cubic functions.\n",
    "We use a not-a-knot boundary condition : in one dimension, the third derivative is continuous accross the second node from the left, and likewise from the right.\n",
    "$$\n",
    "    U_3^h(x) = u(x)+O(h^4).\n",
    "$$"
   ]
  },
  {
   "cell_type": "code",
   "execution_count": 29,
   "metadata": {},
   "outputs": [
    {
     "name": "stdout",
     "output_type": "stream",
     "text": [
      "3.958580319207705e-06 {'atol': 1e-06}\n"
     ]
    }
   ],
   "source": [
    "U3 = Interp(X,u3(X),order=3)\n",
    "assert close(U3(X_),u3(X_),k=10,atol=1e-6)"
   ]
  },
  {
   "cell_type": "markdown",
   "metadata": {},
   "source": [
    "The spline can be differentiated two times, and yields consistent estimates of the gradient and hessian, *except possibly at boundary points*.\n",
    "$$\n",
    "    \\nabla U_3^h(x) = \\nabla u(x) + O(h^3),\n",
    "$$\n",
    "$$\n",
    "    \\nabla^2 U_3^h(x) = \\nabla^2 u(x) + O(h^2).\n",
    "$$"
   ]
  },
  {
   "cell_type": "code",
   "execution_count": 30,
   "metadata": {},
   "outputs": [
    {
     "name": "stdout",
     "output_type": "stream",
     "text": [
      "2.4249650665275624e-06 {'atol': 1e-06}\n"
     ]
    }
   ],
   "source": [
    "dU3 = U3(X_ad).gradient()\n",
    "assert close(dU3,du3,k=10,atol=1e-6)"
   ]
  },
  {
   "cell_type": "code",
   "execution_count": 31,
   "metadata": {},
   "outputs": [
    {
     "name": "stdout",
     "output_type": "stream",
     "text": [
      "1.4393558885217317e-05 {'atol': 1e-06}\n"
     ]
    }
   ],
   "source": [
    "ddU3 = U3(X_ad2).hessian()\n",
    "assert close(ddU3,ddu3,k=12,atol=1e-6)"
   ]
  },
  {
   "cell_type": "markdown",
   "metadata": {},
   "source": [
    "### 4.4 Vector data"
   ]
  },
  {
   "cell_type": "code",
   "execution_count": 32,
   "metadata": {
    "slideshow": {
     "slide_type": ""
    },
    "tags": []
   },
   "outputs": [
    {
     "name": "stdout",
     "output_type": "stream",
     "text": [
      "3.3921701794170644e-06 {'atol': 1e-06}\n"
     ]
    }
   ],
   "source": [
    "U123 = Interp(X,u123(X),order=3)\n",
    "assert close(U123(X_),u123(X_),k=12,atol=1e-6)"
   ]
  },
  {
   "cell_type": "markdown",
   "metadata": {
    "slideshow": {
     "slide_type": ""
    },
    "tags": []
   },
   "source": [
    "### 4.5 Comparison with scipy ndimage map_coordinates\n",
    "\n",
    "As announced above, our spline interpolation function (partially) reproduces `scipy.ndimage.map_coordinate`, and extends it to AD types. We make this transparent by providing a map_coordinates function."
   ]
  },
  {
   "cell_type": "code",
   "execution_count": 33,
   "metadata": {},
   "outputs": [],
   "source": [
    "agd_map_coordinates = Interpolation.map_coordinates"
   ]
  },
  {
   "cell_type": "markdown",
   "metadata": {},
   "source": [
    "We also provide a small wrapper over ndimage.map_coordinates, which allows AD types for the input values (not the coordinates), as well as the interpolation of tensor data."
   ]
  },
  {
   "cell_type": "code",
   "execution_count": 34,
   "metadata": {},
   "outputs": [],
   "source": [
    "ndimage_map_coordinates = Interpolation.ndimage_map_coordinates"
   ]
  },
  {
   "cell_type": "markdown",
   "metadata": {},
   "source": [
    "The implementations works both on the cpu and gpu, select by commenting/uncommenting the cell below. In the latter case, `scipy.ndimage.map_coordinates` is replaced with `cupyx.scipy.ndimage.map_coordinates`."
   ]
  },
  {
   "cell_type": "code",
   "execution_count": 35,
   "metadata": {
    "slideshow": {
     "slide_type": ""
    },
    "tags": []
   },
   "outputs": [],
   "source": [
    "caster = lambda x:x # CPU"
   ]
  },
  {
   "cell_type": "code",
   "execution_count": 36,
   "metadata": {
    "slideshow": {
     "slide_type": ""
    },
    "tags": [
     "GPU_config"
    ]
   },
   "outputs": [],
   "source": [
    "#caster = ad.cupy_generic.cupy_set # GPU"
   ]
  },
  {
   "cell_type": "code",
   "execution_count": 37,
   "metadata": {
    "slideshow": {
     "slide_type": ""
    },
    "tags": []
   },
   "outputs": [
    {
     "name": "stdout",
     "output_type": "stream",
     "text": [
      "--- order=1, dom_shape=(5,), x_shape=(8,), c_shape=(2, 3), size_ad=1 ---\n",
      "Absolute error :  denseAD(0.0,[0.])\n",
      "Reproduction error. impl: 0.0  scpy: 0.0\n",
      "Reproduction max error. impl: 0.0  scpy: 0.0\n",
      "--- order=2, dom_shape=(6,), x_shape=(4,), c_shape=(3,), size_ad=1 ---\n",
      "Absolute error :  denseAD(7.083111874806036e-12,[4.10549372e-12])\n",
      "Reproduction error. impl: 2.220446049250313e-16  scpy: 1.1591035076197187e-10\n",
      "Reproduction max error. impl: 2.220446049250313e-16  scpy: 6.718436917907411e-11\n",
      "--- order=3, dom_shape=(4,), x_shape=(2,), c_shape=(), size_ad=2 ---\n",
      "Absolute error :  denseAD(1.4526723157715082e-09,[-2.47407976e-07 -4.96368829e-07])\n",
      "Reproduction error. impl: 1.3877787807814457e-17  scpy: 2.307997604145129e-08\n",
      "Reproduction max error. impl: 2.220446049250313e-16  scpy: 7.886280012692204e-06\n",
      "--- order=4, dom_shape=(10,), x_shape=(3,), c_shape=(1,), size_ad=-1 ---\n",
      "Absolute error :  5.551115123125783e-17\n",
      "Reproduction error. impl: 3.3306690738754696e-16  scpy: 2.220446049250313e-16\n",
      "--- order=5, dom_shape=(10,), x_shape=(3, 2), c_shape=(1,), size_ad=-1 ---\n",
      "Absolute error :  6.661338147750939e-16\n",
      "Reproduction error. impl: 2.220446049250313e-16  scpy: 4.440892098500626e-16\n",
      "--- order=1, dom_shape=(4, 5), x_shape=(3,), c_shape=(), size_ad=-1 ---\n",
      "Absolute error :  1.1102230246251565e-16\n",
      "Reproduction error. impl: 0.0  scpy: 0.0\n",
      "--- order=2, dom_shape=(4, 6), x_shape=(3, 4), c_shape=(5,), size_ad=2 ---\n",
      "Absolute error :  denseAD(4.440892098500626e-16,[4.4408921e-16 1.2490009e-16])\n",
      "Reproduction error. impl: 3.3306690738754696e-16  scpy: 2.220446049250313e-16\n",
      "Reproduction max error. impl: 3.3306690738754696e-16  scpy: 3.3306690738754696e-16\n",
      "--- order=3, dom_shape=(4, 6), x_shape=(3, 4), c_shape=(5,), size_ad=2 ---\n",
      "Absolute error :  denseAD(8.41014820128494e-06,[3.36075072e-06 8.63728999e-06])\n",
      "Reproduction error. impl: 5.551115123125783e-16  scpy: 8.262379805445974e-06\n",
      "Reproduction max error. impl: 4.440892098500626e-16  scpy: 9.46352712638543e-06\n",
      "--- order=5, dom_shape=(4, 3), x_shape=(2, 1), c_shape=(2, 1), size_ad=1 ---\n",
      "Absolute error :  denseAD(0.0017610646499264804,[0.00317475])\n",
      "Reproduction error. impl: 3.3306690738754696e-16  scpy: 0.0031852717644261785\n",
      "Reproduction max error. impl: 3.3306690738754696e-16  scpy: 0.0042962930820822365\n",
      "--- order=1, dom_shape=(4, 5, 6), x_shape=(2, 5), c_shape=(2, 3), size_ad=1 ---\n",
      "Absolute error :  denseAD(2.220446049250313e-16,[1.11022302e-16])\n",
      "Reproduction error. impl: 0.0  scpy: 0.0\n",
      "Reproduction max error. impl: 0.0  scpy: 0.0\n",
      "--- order=3, dom_shape=(6, 2, 3), x_shape=(1, 4), c_shape=(), size_ad=2 ---\n",
      "Absolute error :  denseAD(0.0006403965303843351,[0.00030922 0.00044751])\n",
      "Reproduction error. impl: 5.551115123125783e-16  scpy: 0.000487351300054617\n",
      "Reproduction max error. impl: 5.551115123125783e-16  scpy: 0.0004580943068471788\n"
     ]
    }
   ],
   "source": [
    "np.random.seed(42)\n",
    "for i,(order,dom_shape,x_shape,c_shape,size_ad,mode) in enumerate([\n",
    "    # One dimensional tests\n",
    "    (1,(5,),(8,),(2,3),1,'reflect'),\n",
    "    (2,(6,),(4,),(3,),1,'reflect'),\n",
    "    (3,(4,),(2,),tuple(),2,'grid-mirror'),\n",
    "    (4,(10,),(3,),(1,),-1,'grid-wrap'),\n",
    "    (5,(10,),(3,2),(1,),-1,'grid-wrap'),\n",
    "\n",
    "    # Two dimensional tests\n",
    "    (1,(4,5),(3,),tuple(),-1,'grid-wrap'),\n",
    "    (2,(4,6),(3,4),(5,),2,'grid-wrap'),\n",
    "    (3,(4,6),(3,4),(5,),2,'reflect'),\n",
    "    (5,(4,3),(2,1),(2,1),1,'reflect'),\n",
    "\n",
    "    # Three dimensional tests\n",
    "    (1,(4,5,6),(2,5),(2,3),1,'reflect'),\n",
    "    (3,(6,2,3),(1,4),tuple(),2,'grid-mirror'),\n",
    "]):\n",
    "    print(f\"--- {order=}, {dom_shape=}, {x_shape=}, {c_shape=}, {size_ad=} ---\")\n",
    "    vals = np.random.rand(*c_shape,*dom_shape)\n",
    "    if size_ad>0: vals=ad.Dense.denseAD(vals,np.random.rand(*vals.shape,size_ad))\n",
    "    pos = np.random.rand(len(dom_shape),*x_shape)*3*np.max(dom_shape)\n",
    "    vals,pos = map(caster,(vals,pos))\n",
    "    impl = agd_map_coordinates(vals,pos,order=order,mode=mode)\n",
    "    scpy = ndimage_map_coordinates(vals,pos,order=order,mode=mode) #scipy.ndimage\n",
    "    print(\"Absolute error : \",norm_infinity(impl-scpy))\n",
    "    assert np.allclose(impl,scpy,atol=1e-2)\n",
    "\n",
    "    # Note : the accuracy of scipy.ndimage uses float32 internally, hence its rather low accuracy \n",
    "    pos = np.array(np.meshgrid(*[np.arange(s,dtype=np.float64) for s in dom_shape], indexing='ij'))\n",
    "    pos = caster(pos)\n",
    "    impl = agd_map_coordinates(vals,pos,order=order,mode=mode)\n",
    "    scpy = ndimage_map_coordinates(vals,pos,order=order,mode=mode)\n",
    "    print(\"Reproduction error. impl:\",norm_infinity(ad.remove_ad(impl-vals)),\" scpy:\",norm_infinity(ad.remove_ad(scpy-vals)))\n",
    "    if ad.is_ad(impl) and impl.size_ad>0:\n",
    "        print(\"Reproduction max error. impl:\",norm_infinity((impl-vals).coef),\" scpy:\",norm_infinity((scpy-vals).coef))"
   ]
  },
  {
   "cell_type": "markdown",
   "metadata": {},
   "source": [
    "## 5. Functions associated with an AD variable\n",
    "\n"
   ]
  },
  {
   "cell_type": "markdown",
   "metadata": {},
   "source": [
    "### 5.1 Taylor expansions\n",
    "\n",
    "The automatic differentiation classes store a Taylor expansion of the approximated function, which can be evaluated directly. The tangent, adjoint, and hessian operators may also be extracted."
   ]
  },
  {
   "cell_type": "code",
   "execution_count": 38,
   "metadata": {},
   "outputs": [],
   "source": [
    "x = np.array([0.2,0.5])\n",
    "H = X-fd.as_field(x,shape)\n",
    "x_ad  = ad.Dense.identity(constant=x)\n",
    "x_ad2 = ad.Dense2.identity(constant=x)"
   ]
  },
  {
   "cell_type": "code",
   "execution_count": 39,
   "metadata": {},
   "outputs": [],
   "source": [
    "plt.title(\"Absolute difference between U3 and its first order taylor expansion\")\n",
    "plt.contourf(*X, np.abs(U3(x_ad).as_func(H) - U3(X)), levels=20);\n",
    "plt.axis('equal'); plt.scatter(*x,color='red'); plt.colorbar();"
   ]
  },
  {
   "cell_type": "code",
   "execution_count": 40,
   "metadata": {},
   "outputs": [],
   "source": [
    "plt.title(\"Absolute difference between U3 and its second order taylor expansion\")\n",
    "plt.contourf(*X, np.abs(U3(x_ad2).as_func(H) - U3(X)), levels=20);\n",
    "plt.axis('equal'); plt.scatter(*x,color='red'); plt.colorbar();"
   ]
  },
  {
   "cell_type": "markdown",
   "metadata": {},
   "source": [
    "### 5.2 Sparse differentiation\n",
    "\n",
    "When differentiating a high dimensional function, for instance in the context of a PDE discretization scheme, sparse automatic differentiation becomes for reasons of memory and computation cost. We check here the consistency of the related Taylor expansions. "
   ]
  },
  {
   "cell_type": "code",
   "execution_count": 41,
   "metadata": {},
   "outputs": [],
   "source": [
    "x_sp  = ad.Sparse.identity(constant=x)\n",
    "x_sp2 = ad.Sparse2.identity(constant=x)"
   ]
  },
  {
   "cell_type": "code",
   "execution_count": 42,
   "metadata": {},
   "outputs": [],
   "source": [
    "assert np.allclose(U3(x_sp ).as_func(H), U3(x_ad ).as_func(H))\n",
    "assert np.allclose(U3(x_sp2).as_func(H), U3(x_ad2).as_func(H))"
   ]
  },
  {
   "cell_type": "markdown",
   "metadata": {},
   "source": [
    "The sparse classes also provide tangent, adjoint, and hessian linear operators, stored as opaque sparse matrices."
   ]
  },
  {
   "cell_type": "code",
   "execution_count": 43,
   "metadata": {},
   "outputs": [],
   "source": [
    "tangent_op = U3(x_sp ).tangent_operator()\n",
    "hessian_op = U3(x_sp2).hessian_operator()\n",
    "H_ = H.reshape(2,-1) # Depth must be at most two"
   ]
  },
  {
   "cell_type": "code",
   "execution_count": 44,
   "metadata": {},
   "outputs": [],
   "source": [
    "assert np.allclose(U3(x_sp ).as_func(H_), U3(x) + tangent_op*H_)\n",
    "assert np.allclose(U3(x_sp2).as_func(H_), U3(x) + tangent_op*H_ + 0.5*lp.dot_VV(H_,hessian_op*H_))"
   ]
  },
  {
   "cell_type": "markdown",
   "metadata": {},
   "source": [
    "Finally, we check the adjoint operator."
   ]
  },
  {
   "cell_type": "code",
   "execution_count": 45,
   "metadata": {},
   "outputs": [],
   "source": [
    "adjoint_op = U3(x_sp).adjoint_operator()\n",
    "\n",
    "np.random.seed(42)\n",
    "R_ = np.random.rand(1,H_.shape[1])"
   ]
  },
  {
   "cell_type": "code",
   "execution_count": 46,
   "metadata": {},
   "outputs": [],
   "source": [
    "assert np.allclose(lp.dot_VV(R_,tangent_op*H_), lp.dot_VV(H_,adjoint_op*R_))"
   ]
  }
 ],
 "metadata": {
  "kernelspec": {
   "display_name": "Python 3 (ipykernel)",
   "language": "python",
   "name": "python3"
  },
  "language_info": {
   "codemirror_mode": {
    "name": "ipython",
    "version": 3
   },
   "file_extension": ".py",
   "mimetype": "text/x-python",
   "name": "python",
   "nbconvert_exporter": "python",
   "pygments_lexer": "ipython3",
   "version": "3.10.8"
  },
  "varInspector": {
   "cols": {
    "lenName": 16,
    "lenType": 16,
    "lenVar": 40
   },
   "kernels_config": {
    "python": {
     "delete_cmd_postfix": "",
     "delete_cmd_prefix": "del ",
     "library": "var_list.py",
     "varRefreshCmd": "print(var_dic_list())"
    },
    "r": {
     "delete_cmd_postfix": ") ",
     "delete_cmd_prefix": "rm(",
     "library": "var_list.r",
     "varRefreshCmd": "cat(var_dic_list()) "
    }
   },
   "types_to_exclude": [
    "module",
    "function",
    "builtin_function_or_method",
    "instance",
    "_Feature"
   ],
   "window_display": false
  }
 },
 "nbformat": 4,
 "nbformat_minor": 4
}
