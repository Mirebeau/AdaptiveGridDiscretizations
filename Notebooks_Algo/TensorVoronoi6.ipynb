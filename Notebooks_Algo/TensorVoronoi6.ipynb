{
 "cells": [
  {
   "cell_type": "markdown",
   "metadata": {},
   "source": [
    "# Adaptive PDE discretizations on Cartesian grids\n",
    "## Volume : Algorithmic tools\n",
    "## Part : Tensor decomposition techniques\n",
    "## Chapter : Voronoi's reduction, in dimension 6, application to Hooke tensor decomposition\n",
    "\n",
    "We rely on Voronoi's first reduction of quadratic forms to decompose symmetric positive definite matrices in dimension $\\leq 6$, in a form which resembles the eigenvalue-eigenvector decomposition but with integer offsets:\n",
    "$$\n",
    "    D = \\sum_{1 \\leq i \\leq d'} \\rho_i e_i e_i^T\n",
    "$$\n",
    "where $d'=d(d+1)/2$ (except $d'=12$ in dimension $4$ in our implementation), $\\rho_i\\geq 0$, and $e_i \\in Z^d$.\n",
    "\n",
    "The six-dimensional case is especially interesting for its applications to the [Hooke elasticity tensor in three dimensional elasticity](../Notebooks_Div/ElasticEnergy.ipynb). The approach is (very) unlikely to extend to higher dimensions (including dimension 7), in a computationally efficient manner, due to a combinatorial explosion in Voronoi's theory.\n",
    "\n",
    "**Note on excecuting this notebook.**\n",
    "The implementation of Voronoi's decomposition involves a rather large data file, which is not included in the agd library, but provided in the AdaptiveGridDiscretizations repository (File `Miscellaneous/Geometry6_data2.h`). Executing this notebook thus requires a bit more effort than the others.\n",
    "\n",
    "<!---\n",
    "The quadratic form defined by the Hooke tensor is reformulated, using Voronoi's decomposition, in the form\n",
    "$$\n",
    "    \\sum_{1 \\leq i \\leq d'} \\rho_i \\mathrm{Tr}(M D_i)^2\n",
    "$$\n",
    "where $d'=21$, $\\rho_i\\geq 0$, $D_i$ is a $3 \\times 3$ symmetric matrix with integer entries.\n",
    "\n",
    "The matrices $D_i$ usually have rather small entries within $-2,...,2$, since the the Hooke tensor associated with physical materials is not too large.\n",
    "--->"
   ]
  },
  {
   "cell_type": "markdown",
   "metadata": {},
   "source": [
    "[**Summary**](Summary.ipynb) of volume Algorithmic tools, this series of notebooks.\n",
    "\n",
    "[**Main summary**](../Summary.ipynb) of the Adaptive Grid Discretizations \n",
    "\tbook of notebooks, including the other volumes.\n",
    "\n",
    "# Table of contents\n",
    "  * [1. Computing the decomposition of a tensor](#1.-Computing-the-decomposition-of-a-tensor)\n",
    "    * [1.1 Case of a $6\\times 6$ tensor](#1.1-Case-of-a-$6\\times-6$-tensor)\n",
    "    * [1.2 A family of tensors](#1.2-A-family-of-tensors)\n",
    "    * [1.3 Case of a field of tensors](#1.3-Case-of-a-field-of-tensors)\n",
    "  * [2. Under the hood, Voronoi's first reduction](#2.-Under-the-hood,-Voronoi's-first-reduction)\n",
    "    * [2.1 Voronoi's perfect forms](#2.1-Voronoi's-perfect-forms)\n",
    "    * [2.2 Computing Voronoi's first reduction](#2.2-Computing-Voronoi's-first-reduction)\n",
    "    * [2.3 Most common optimal form](#2.3-Most-common-optimal-form)\n",
    "  * [3. Voronoi's first reduction in lower dimensions](#3.-Voronoi's-first-reduction-in-lower-dimensions)\n",
    "\n",
    "\n",
    "\n",
    "**Acknowledgement.** Some of the experiments presented in these notebooks are part of \n",
    "ongoing research with Ludovic Métivier and Da Chen.\n",
    "\n",
    "Copyright Jean-Marie Mirebeau, Centre Borelli, ENS Paris-Saclay, CNRS, University Paris-Saclay"
   ]
  },
  {
   "cell_type": "markdown",
   "metadata": {},
   "source": [
    "## 0. Importing the required libraries"
   ]
  },
  {
   "cell_type": "code",
   "execution_count": 1,
   "metadata": {},
   "outputs": [],
   "source": [
    "import sys; sys.path.insert(0,\"..\") # Allow import of agd from parent directory (useless if conda package installed)\n",
    "#from Miscellaneous import TocTools; print(TocTools.displayTOC('TensorVoronoi6','Algo'))"
   ]
  },
  {
   "cell_type": "code",
   "execution_count": 2,
   "metadata": {},
   "outputs": [],
   "source": [
    "from agd import LinearParallel as lp\n",
    "from agd.Selling import GatherByOffset\n",
    "from agd import AutomaticDifferentiation as ad\n",
    "from agd.Metrics import Seismic\n",
    "from agd.Plotting import savefig; #savefig.dirName = 'Figures/TensorVoronoi'\n",
    "from agd.Metrics.misc import flatten_symmetric_matrix, expand_symmetric_matrix"
   ]
  },
  {
   "cell_type": "markdown",
   "metadata": {},
   "source": [
    "The routines for tensor decomposition are for efficiency purposes provided in a small c++ library, named FileVDQ where VDQ stands for \"Voronoi Decomposition of Quadratic forms\". This is in contrast with the two and three dimensional cases, where the decomposition algorithm is coded in Python (the c++ library can also be used in smaller dimensions). A function named `VoronoiDecomposition` provides the interface."
   ]
  },
  {
   "cell_type": "code",
   "execution_count": 3,
   "metadata": {},
   "outputs": [],
   "source": [
    "from agd.Eikonal import VoronoiDecomposition"
   ]
  },
  {
   "cell_type": "code",
   "execution_count": 4,
   "metadata": {},
   "outputs": [],
   "source": [
    "import numpy as np; allclose = np.allclose\n",
    "import matplotlib.pyplot as plt\n",
    "%matplotlib inline\n",
    "import time"
   ]
  },
  {
   "cell_type": "code",
   "execution_count": 5,
   "metadata": {},
   "outputs": [],
   "source": [
    "def ReloadPackages():\n",
    "    from Miscellaneous.rreload import rreload\n",
    "    global expand_symmetric_matrix,VoronoiDecomposition\n",
    "    expand_symmetric_matrix,VoronoiDecomposition = rreload([expand_symmetric_matrix,VoronoiDecomposition],rootdir='../..')"
   ]
  },
  {
   "cell_type": "markdown",
   "metadata": {},
   "source": [
    "### 0.1 Optional configuration\n",
    "\n",
    "Uncomment the following line to use the GPU implementation of Voronoi's decomposition."
   ]
  },
  {
   "cell_type": "code",
   "execution_count": 6,
   "metadata": {
    "tags": [
     "EikonalGPU_config"
    ]
   },
   "outputs": [
    {
     "name": "stdout",
     "output_type": "stream",
     "text": [
      "Setting float32 compatible default values atol=rtol=1e-5 in np.allclose\n"
     ]
    }
   ],
   "source": [
    "#VoronoiDecomposition.default_mode = 'gpu_transfer'; allclose = ad.cupy_friendly(allclose)"
   ]
  },
  {
   "cell_type": "markdown",
   "metadata": {},
   "source": [
    "Choose to use, or not, large instances by uncommenting the following line (computation time may become longer)."
   ]
  },
  {
   "cell_type": "code",
   "execution_count": 7,
   "metadata": {},
   "outputs": [],
   "source": [
    "large_instances = (VoronoiDecomposition.default_mode == 'gpu_transfer') # Large instances on GPU only by default"
   ]
  },
  {
   "cell_type": "markdown",
   "metadata": {},
   "source": [
    "## 1. Computing the decomposition of a tensor\n",
    "\n",
    "We illustrate our tensor decomposition method on random positive definite matrices, of the form \n",
    "$$\n",
    "    D = A^T A,\n",
    "$$\n",
    "where $A$ is a square matrix with random coefficients w.r.t. the Gaussian normal law."
   ]
  },
  {
   "cell_type": "code",
   "execution_count": 8,
   "metadata": {},
   "outputs": [],
   "source": [
    "def MakeRandomTensor(dim, shape=tuple(), relax=0.05):\n",
    "    A = np.random.standard_normal( (dim,dim) + shape )\n",
    "    D = lp.dot_AA(lp.transpose(A),A)\n",
    "    identity = np.eye(dim).reshape((dim,dim)+(1,)*len(shape))\n",
    "    return D+lp.trace(D)*relax*identity"
   ]
  },
  {
   "cell_type": "markdown",
   "metadata": {},
   "source": [
    "The inserse operation to tensor decomposition is, of course, reconstruction, defined by \n",
    "$$\n",
    "    (\\lambda_i, e_i)_{i=1}^I \\mapsto D = \\sum_{1 \\leq i \\leq I} \\lambda_i e_i e_i^T\n",
    "$$"
   ]
  },
  {
   "cell_type": "code",
   "execution_count": 9,
   "metadata": {},
   "outputs": [],
   "source": [
    "def Reconstruct(coefs,offsets):\n",
    "     return lp.mult(coefs,lp.outer_self(offsets)).sum(2)"
   ]
  },
  {
   "cell_type": "code",
   "execution_count": 10,
   "metadata": {},
   "outputs": [],
   "source": [
    "def LInfNorm(a):\n",
    "    return np.max(np.abs(a))"
   ]
  },
  {
   "cell_type": "markdown",
   "metadata": {},
   "source": [
    "### 1.1 Case of a $6\\times 6$ tensor"
   ]
  },
  {
   "cell_type": "code",
   "execution_count": 11,
   "metadata": {},
   "outputs": [],
   "source": [
    "np.random.seed(42) # Reproducibility\n",
    "D = MakeRandomTensor(6)"
   ]
  },
  {
   "cell_type": "code",
   "execution_count": 12,
   "metadata": {},
   "outputs": [
    {
     "data": {
      "text/plain": [
       "array([[ 5.86365855,  0.78781668, -1.53319092,  2.11419436, -1.32247999,\n",
       "         1.41133885],\n",
       "       [ 0.78781668, 11.28811803,  0.62779508, -0.31702439,  2.97614926,\n",
       "        -1.20780797],\n",
       "       [-1.53319092,  0.62779508,  8.66990649,  0.95257212,  2.59215657,\n",
       "        -2.21101525],\n",
       "       [ 2.11419436, -0.31702439,  0.95257212,  5.82259858, -1.14947197,\n",
       "         0.71740399],\n",
       "       [-1.32247999,  2.97614926,  2.59215657, -1.14947197,  3.91888129,\n",
       "        -0.97283498],\n",
       "       [ 1.41133885, -1.20780797, -2.21101525,  0.71740399, -0.97283498,\n",
       "         5.55749118]])"
      ]
     },
     "execution_count": 12,
     "metadata": {},
     "output_type": "execute_result"
    }
   ],
   "source": [
    "D"
   ]
  },
  {
   "cell_type": "markdown",
   "metadata": {},
   "source": [
    "The compile time can be quite long on GPU. The execution time may not be instantaneous either, especially on GPU."
   ]
  },
  {
   "cell_type": "code",
   "execution_count": 13,
   "metadata": {},
   "outputs": [],
   "source": [
    "coefs,offsets = VoronoiDecomposition(D,retry64_tol=0.)"
   ]
  },
  {
   "cell_type": "markdown",
   "metadata": {},
   "source": [
    "Our decomposition of a $6\\times 6$ symmetric positive definite matrix involves $21$ (non-negative) weights and (integral) offsets."
   ]
  },
  {
   "cell_type": "code",
   "execution_count": 14,
   "metadata": {},
   "outputs": [
    {
     "name": "stdout",
     "output_type": "stream",
     "text": [
      "Coefficients :  [0.06272373 0.08321139 0.09107998 0.17300797 0.255431   0.3376559\n",
      " 0.37974811 0.43206799 0.57262892 0.60285482 0.90199867 1.01424569\n",
      " 1.02162969 1.14710024 1.20004544 1.32672453 1.71589595 1.77768019\n",
      " 2.17099234 2.50835863 6.57177532]\n",
      "Offsets : \n",
      " [[ 1  1  1  1  0  1  1  1  0  1  1  0  1  0  0  0  0  1  0  0  0]\n",
      " [ 1  1  0  0  1  0 -1  0  1  0  0  1  1  0  0  1  0  0  0  0  1]\n",
      " [ 0  0 -1 -1  1 -1 -1 -1  0  0  1  1 -1  1  1  0  1  0  0  0  0]\n",
      " [ 1  0  0  0  0  1  1  1  0  0  1  0  0  0  1  0  0  0  0  1  0]\n",
      " [ 0  0  0 -1  1 -1 -1 -1  0  0  0  1  0  0  0  1  0  0  0  0  0]\n",
      " [ 0  0  1  0 -1  1  1  0 -1  1  0  0  0 -1  0  0  0  0  1  0  0]]\n"
     ]
    }
   ],
   "source": [
    "print(\"Coefficients : \", coefs)\n",
    "print(\"Offsets : \\n\", offsets.astype(int))"
   ]
  },
  {
   "cell_type": "markdown",
   "metadata": {},
   "source": [
    "By design, the coefficients are non-negative, and the reconstruction is exact up to numerical precision."
   ]
  },
  {
   "cell_type": "code",
   "execution_count": 15,
   "metadata": {},
   "outputs": [
    {
     "name": "stdout",
     "output_type": "stream",
     "text": [
      "Minimal coefficient :  0.06272372603428819\n",
      "Reconstruction error :  3.288913070775834e-07\n"
     ]
    }
   ],
   "source": [
    "print(\"Minimal coefficient : \", np.min(coefs))\n",
    "print(\"Reconstruction error : \", LInfNorm(D-Reconstruct(coefs,offsets)))\n",
    "assert np.allclose(D,Reconstruct(coefs,offsets))"
   ]
  },
  {
   "cell_type": "markdown",
   "metadata": {},
   "source": [
    "### 1.2 A family of tensors\n",
    "\n",
    "As we interpolate between two tensors, the coefficients and the offsets vary. \n",
    "Voronoi's decomposition is not unique, hence we select a decomposition among the optimal ones by minimizing a linear form. This linear form has fixed coefficients, which were initially randomly generated, and with probability one, it should select a decomposition in a locally Lispchitz manner w.r.t. the metric. \n",
    "(An alternative selection principle, which involves no randomness, would be to select a decomposition which minimizes some lexicographic ordering, but this is numerically more complex and costly.)\n",
    "\n",
    "<!---\n",
    "In the present implementation the coefficients may vary discontinuously, due to the non-uniqueness of Voronoi's. It is in principle possible to fix this issue, as in the $4$ and $5$ dimensional cases, and obtain a decomposition with Lipschitz regularity w.r.t the metric, by using an appropriate selection criterion.\n",
    "--->"
   ]
  },
  {
   "cell_type": "code",
   "execution_count": 16,
   "metadata": {},
   "outputs": [],
   "source": [
    "def Interpolate(a,b,T=np.linspace(0,1,100)):\n",
    "    return T, np.moveaxis(np.array([(1-t)*a + t*b for t in T]),0,-1)"
   ]
  },
  {
   "cell_type": "code",
   "execution_count": 17,
   "metadata": {},
   "outputs": [],
   "source": [
    "T_interp, D_interp = Interpolate(MakeRandomTensor(6),MakeRandomTensor(6))"
   ]
  },
  {
   "cell_type": "code",
   "execution_count": 18,
   "metadata": {},
   "outputs": [],
   "source": [
    "np.random.seed(43)\n",
    "a,b = MakeRandomTensor(6),MakeRandomTensor(6)\n",
    "t0,t1 = 0,1 #t1,t2=0.8,0.85\n",
    "T_interp, D_interp = Interpolate(a,b,np.linspace(t0,t1,1000))"
   ]
  },
  {
   "cell_type": "code",
   "execution_count": 19,
   "metadata": {},
   "outputs": [
    {
     "name": "stdout",
     "output_type": "stream",
     "text": [
      "CPU times: total: 125 ms\n",
      "Wall time: 186 ms\n"
     ]
    }
   ],
   "source": [
    "%%time\n",
    "coefs,offsets = VoronoiDecomposition(D_interp)"
   ]
  },
  {
   "cell_type": "code",
   "execution_count": 20,
   "metadata": {},
   "outputs": [
    {
     "data": {
      "text/plain": [
       "array([[ 0,  0,  1, -1,  1,  0],\n",
       "       [ 1,  0,  1, -1,  0, -1],\n",
       "       [ 1,  0,  0, -1,  0, -1],\n",
       "       [ 0,  1,  0,  0, -1,  0],\n",
       "       [ 0,  0,  1, -1,  0,  0],\n",
       "       [ 0,  1,  1,  0,  0,  1],\n",
       "       [ 1,  0, -1,  0, -1,  0],\n",
       "       [ 0,  1,  1, -1,  0,  0],\n",
       "       [ 1,  0,  0,  0,  0, -1],\n",
       "       [ 0,  1,  0,  1, -1,  1],\n",
       "       [ 0,  0,  1,  0,  0,  0],\n",
       "       [ 0,  1,  0,  0,  0,  0],\n",
       "       [ 0,  0,  0,  0,  0,  1],\n",
       "       [ 0,  0,  0,  1,  0,  0],\n",
       "       [ 0,  1,  0,  0,  0,  1],\n",
       "       [ 0,  1,  1,  0,  0,  0],\n",
       "       [ 1,  1,  0,  0, -1,  0],\n",
       "       [ 1,  0,  0,  0,  0,  0],\n",
       "       [ 0,  1,  0,  0, -1,  1],\n",
       "       [ 1,  0,  0,  0, -1,  0],\n",
       "       [ 0,  0,  0,  0,  1,  0]], dtype=int64)"
      ]
     },
     "execution_count": 20,
     "metadata": {},
     "output_type": "execute_result"
    }
   ],
   "source": [
    "offsets[:,:,0].T"
   ]
  },
  {
   "cell_type": "code",
   "execution_count": 21,
   "metadata": {},
   "outputs": [
    {
     "name": "stdout",
     "output_type": "stream",
     "text": [
      "Reconstruction error :  7.439603173509113e-07\n"
     ]
    }
   ],
   "source": [
    "print(\"Reconstruction error : \", LInfNorm(D_interp - Reconstruct(coefs,offsets)))\n",
    "assert np.allclose(D_interp, Reconstruct(coefs,offsets),atol=1e-4)"
   ]
  },
  {
   "cell_type": "code",
   "execution_count": 22,
   "metadata": {},
   "outputs": [],
   "source": [
    "decomp = GatherByOffset(T_interp,coefs,offsets)"
   ]
  },
  {
   "cell_type": "code",
   "execution_count": 23,
   "metadata": {},
   "outputs": [],
   "source": [
    "fig = plt.figure(figsize=(20,10))\n",
    "for offset,(t,coef) in decomp.items():\n",
    "    plt.plot(t,coef)\n",
    "plt.legend(decomp.keys(),ncol=3)\n",
    "savefig(fig,\"Coefs_Vor6.pdf\")"
   ]
  },
  {
   "cell_type": "markdown",
   "metadata": {},
   "source": [
    "### 1.3 Case of a field of tensors\n",
    "\n",
    "On the CPU, the decomposition time increases linearly with the number of tensors.\n",
    "On the GPU, the decomposition runs on a single thread, and there are $2560$ of them on a nvidia $1080$ class card. \n",
    "Therefore time is rather insensitive to the number of tensors until that number is reached.\n",
    "\n",
    "**Notes on the GPU implementation.**\n",
    "The GPU based Voronoi decomposition is approximately $100$ times faster than the CPU based one (except on the first call on a given machine, where JIT compilation takes a little while). However, it is also less stable, since it uses single precision scalars. In order to address this issue, the GPU implementation is first run using single precision, and then using double precision for the matrices whose decomposition proved to be excessively inaccurate.\n",
    "\n",
    "<!--- This needs to be sorted out. One possibility would be to make a second call using double precision for the few tensors which were not correctly decomposed. Another approach is to try debug the code.--->\n",
    "\n",
    "<!---\n",
    "**Note on CPU/GPU computation time**\n",
    "Computation time is dominated ($90\\%$) by the solution of a linear problem, with 15 variables and 36 constraints. \n",
    "Currently this is done using the following algorithm:\n",
    "\n",
    "* Academic paper : Seidel, R. (1991), \"Small-dimensional linear programming and convex hulls made easy\", Discrete & Computational Geometry 6 (1): 423–434, doi:10.1007/BF02574699\n",
    "* Source code : https://github.com/cgrushko/seidel-lp-solver\n",
    "\n",
    "This algorithm appears not to be well adapted to the task at hand, since it is mostly intended for linear programs in dimension $<10$, and its complexity grows exponentially with the dimension. Also, the GPU seems not to like it (lots of branching).\n",
    "--->\n",
    "\n",
    "<!---In the current implementation, the GPU code appears to be quite slow, in addition to being less stable due to the use of single-precision floating point variables. A multi-threaded CPU implementation--->"
   ]
  },
  {
   "cell_type": "code",
   "execution_count": 24,
   "metadata": {},
   "outputs": [],
   "source": [
    "def decomp_time(n):\n",
    "    np.random.seed(42)\n",
    "    D = MakeRandomTensor(6,(n,))\n",
    "    start = time.time()\n",
    "    coefs,offsets = VoronoiDecomposition(D)\n",
    "    print(f\"Decomposition of {n} matrices completed in {time.time()-start} seconds\")\n",
    "    print(\"Tensor shape: \",D.shape,\", max reconstruction error : \",np.max(np.abs(D-Reconstruct(coefs,offsets))))\n",
    "#    assert allclose(D,Reconstruct(coefs,offsets))\n",
    "    return D,coefs,offsets"
   ]
  },
  {
   "cell_type": "code",
   "execution_count": 25,
   "metadata": {},
   "outputs": [
    {
     "name": "stdout",
     "output_type": "stream",
     "text": [
      "Decomposition of 10 matrices completed in 0.15913844108581543 seconds\n",
      "Tensor shape:  (6, 6, 10) , max reconstruction error :  5.973295813532786e-07\n"
     ]
    }
   ],
   "source": [
    "decomp_time(10);"
   ]
  },
  {
   "cell_type": "code",
   "execution_count": 26,
   "metadata": {},
   "outputs": [
    {
     "name": "stdout",
     "output_type": "stream",
     "text": [
      "Decomposition of 100 matrices completed in 0.18981313705444336 seconds\n",
      "Tensor shape:  (6, 6, 100) , max reconstruction error :  1.591842689663281e-06\n"
     ]
    }
   ],
   "source": [
    "decomp_time(100);"
   ]
  },
  {
   "cell_type": "code",
   "execution_count": 27,
   "metadata": {},
   "outputs": [
    {
     "name": "stdout",
     "output_type": "stream",
     "text": [
      "Decomposition of 1000 matrices completed in 0.20916342735290527 seconds\n",
      "Tensor shape:  (6, 6, 1000) , max reconstruction error :  8.560869404661275e-05\n"
     ]
    }
   ],
   "source": [
    "decomp_time(1000);"
   ]
  },
  {
   "cell_type": "markdown",
   "metadata": {},
   "source": [
    "On the GPU, decomposition time should be mostly insensitive to $n\\leq 2500$, and scale linearly with $n$ beyond that limit. \n",
    "\n",
    "<!---\n",
    "TODO : investigate this GPU failure, which is probably due to roundoff errors.\n",
    "Decomposition of 10000 matrices completed in 73.4375216960907 seconds\n",
    "Tensor shape:  (6, 6, 10000) , max reconstruction error :  7.562082901426454\n",
    "\n",
    "CPU does not fail here.\n",
    "Decomposition of 10000 matrices completed in 340.8524580001831 seconds\n",
    "Tensor shape:  (6, 6, 10000) , max reconstruction error :  5.329070518200751e-13\n",
    "--->"
   ]
  },
  {
   "cell_type": "code",
   "execution_count": 28,
   "metadata": {},
   "outputs": [
    {
     "name": "stdout",
     "output_type": "stream",
     "text": [
      "Decomposition of 10000 matrices completed in 0.3184075355529785 seconds\n",
      "Tensor shape:  (6, 6, 10000) , max reconstruction error :  0.0001544595395586157\n"
     ]
    }
   ],
   "source": [
    "if large_instances: decomp_time(10000);"
   ]
  },
  {
   "cell_type": "code",
   "execution_count": 29,
   "metadata": {},
   "outputs": [
    {
     "name": "stdout",
     "output_type": "stream",
     "text": [
      "Decomposition of 50000 matrices completed in 1.4171295166015625 seconds\n",
      "Tensor shape:  (6, 6, 50000) , max reconstruction error :  0.0001421821225644493\n"
     ]
    }
   ],
   "source": [
    "if large_instances: decomp_time(50000)"
   ]
  },
  {
   "cell_type": "markdown",
   "metadata": {},
   "source": [
    "## 2. Under the hood, Voronoi's first reduction \n",
    "\n",
    "**Voronoi's first reduction.** Voronoi associates to each positive quadratic form, defined by a positive definite matrix $D$, the following optimization problem\n",
    "$$\n",
    "    V(D) = \\min_M \\mathrm{Tr}(D M)\n",
    "$$\n",
    "where $M$ is a symmetric matrix, subject to the following linear constraints: for all $e \\in Z^d \\setminus \\{0\\}$\n",
    "$$\n",
    "    <e,M e> \\geq 2.\n",
    "$$\n",
    "The set $\\mathcal M$ of matrices $M$ obeying these constraints is known as Ryskov's polyhedron. (The constant $2$ in the above equation is customary, but may of course be replaced with an arbitary positive constant, such as $1$.)\n",
    "\n",
    "**Dual linear program.** Voronoi's first reduction is a well posed linear program, hence it admits a dual linear program, namely\n",
    "$$\n",
    "    \\max_\\lambda \\sum_{e \\in Z^d\\setminus\\{0\\}} \\lambda(e)\n",
    "$$\n",
    "where $\\lambda : Z^d\\setminus\\{0\\} \\to R$ is constrained to be non-negative, and to obey \n",
    "$$\n",
    "    \\sum_{e \\in Z^d\\setminus\\{0\\}} \\lambda(e) e e^T = D.\n",
    "$$\n",
    "\n",
    "**Computation of the decomposition.**\n",
    "We numerically solve Voronoi's first reduction, using a *highly precomputed* simplex-like method. \n",
    "By precomputation, we mean that all the vertices of Ryskov's polyhedron are known in advance, as well as their connectivity. Indeed, a famous result of Voronoi states that Ryskov's polyhedron admits only finitely many classes of vertices, up to arithmetic equivalence (linear changes of variables with integer coordinates).\n",
    "\n",
    "From the solution to the primal linear program, Voronoi's first reduction, we can then deduce a solution to the dual linear program, namely the matrix decomposition that is of interest to us. \n",
    "\n",
    "The primal linear program admits a unique solution, for generic $D$. However, the dual linear program usually has several solutions, because some of the vertices of Ryskov's polyhedron are degenerate."
   ]
  },
  {
   "cell_type": "markdown",
   "metadata": {},
   "source": [
    "### 2.1 Voronoi's perfect forms\n",
    "\n",
    "Ryskov's polyhedron in dimension $d=6$ admits $7$ classes of vertices, up to arithmetic equivalence, see above. They are described in detail in the following reference:\n",
    "* Barnes, E. S. (1957). The complete enumeration of extreme senary forms. Philosophical Transactions of the Royal Society of London. Series a, Mathematical and Physical Sciences, 249(969), 461–5"
   ]
  },
  {
   "cell_type": "code",
   "execution_count": 30,
   "metadata": {},
   "outputs": [],
   "source": [
    "perfect_forms6 = expand_symmetric_matrix(np.array([\n",
    " [2. ,1. ,2. ,1. ,1. ,2. ,1. ,1. ,1. ,2. ,1. ,1. ,1. ,1. ,2. ,1. ,1. ,1. ,1. ,1. ,2. ],\n",
    " [2. ,0. ,2. ,1. ,1. ,2. ,1. ,1. ,1. ,2. ,1. ,1. ,1. ,1. ,2. ,1. ,1. ,1. ,1. ,1. ,2. ],\n",
    " [2. ,0. ,2. ,0. ,1. ,2. ,1. ,1. ,1. ,2. ,1. ,1. ,1. ,1. ,2. ,1. ,1. ,1. ,1. ,1. ,2. ],\n",
    " [2. ,0.5,2. ,1. ,1. ,2. ,1. ,1. ,0.5,2. ,1. ,1. ,1. ,1. ,2. ,1. ,1. ,1. ,1. ,0.5,2. ],\n",
    " [2. ,0.5,2. ,1. ,1. ,2. ,1. ,1. ,0.5,2. ,1. ,1. ,0.5,0.5,2. ,1. ,1. ,0.5,0.5,0.5,2. ],\n",
    " [2. ,0.5,2. ,1. ,1. ,2. ,1. ,1. ,0.5,2. ,1. ,1. ,0.5,0.5,2. ,1. ,1. ,1. ,1. ,1. ,2. ],\n",
    " [2. ,0. ,2. ,0.5,1. ,2. ,1. ,1. ,1. ,2. ,1. ,0.5,1. ,1. ,2. ,0.5,1. ,1. ,0.5,0. ,2. ]]).T\n",
    ")"
   ]
  },
  {
   "cell_type": "markdown",
   "metadata": {},
   "source": [
    "Perfect forms are beautiful mathematical objects, and each of these matrices has a particular story to tell.\n",
    "In particular, the form of index two:\n",
    "* Defines the densest periodic ellipsoid packing in dimension 6.\n",
    "* Defines the root lattice of the lie group E6.\n",
    "* Is a highly degenerate vertex of Ryskov's polyhedron, with 36 pairs of vectors $\\pm e \\in Z^6 \\setminus \\{0\\}$ saturating the constraint $<e,M e> = 2$. It also has $38124$ neighbor vertices on the skeleton of Ryskov's polyhedron, whose complete list is included in the C++ source code of the agd library."
   ]
  },
  {
   "cell_type": "code",
   "execution_count": 31,
   "metadata": {},
   "outputs": [
    {
     "data": {
      "text/plain": [
       "array([7.      , 4.      , 3.      , 5.484375, 3.796875, 5.0625  ,\n",
       "       5.359375])"
      ]
     },
     "execution_count": 31,
     "metadata": {},
     "output_type": "execute_result"
    }
   ],
   "source": [
    "np.linalg.det(np.moveaxis(perfect_forms6,-1,0))"
   ]
  },
  {
   "cell_type": "code",
   "execution_count": 32,
   "metadata": {},
   "outputs": [
    {
     "data": {
      "text/plain": [
       "array([[2., 0., 0., 1., 1., 1.],\n",
       "       [0., 2., 1., 1., 1., 1.],\n",
       "       [0., 1., 2., 1., 1., 1.],\n",
       "       [1., 1., 1., 2., 1., 1.],\n",
       "       [1., 1., 1., 1., 2., 1.],\n",
       "       [1., 1., 1., 1., 1., 2.]])"
      ]
     },
     "execution_count": 32,
     "metadata": {},
     "output_type": "execute_result"
    }
   ],
   "source": [
    "perfect_forms6[:,:,2]"
   ]
  },
  {
   "cell_type": "markdown",
   "metadata": {},
   "source": [
    "On the other hand, the perfect form of index $0$ admits counterparts in all dimensions. It is optimal (up to arithmetic equivalence) for a matrix $D$ if, and only if, $D$ admits an obtuse superbase. See the notebook on [Selling's reduction](TensorSelling.ipynb).\n",
    "\n",
    "It is a non degenerate vertex of Ryskov's polyhedron, and thus has $21 = \\mathrm{dim}(S_6)$ such vector pairs $\\pm e\\in Z^d$ saturating the constaint $<e,Me>\\geq 2$, and $21$ neighbor vertices on the skeleton of Ryskov's polyhedron. "
   ]
  },
  {
   "cell_type": "code",
   "execution_count": 33,
   "metadata": {},
   "outputs": [
    {
     "data": {
      "text/plain": [
       "array([[2., 1., 1., 1., 1., 1.],\n",
       "       [1., 2., 1., 1., 1., 1.],\n",
       "       [1., 1., 2., 1., 1., 1.],\n",
       "       [1., 1., 1., 2., 1., 1.],\n",
       "       [1., 1., 1., 1., 2., 1.],\n",
       "       [1., 1., 1., 1., 1., 2.]])"
      ]
     },
     "execution_count": 33,
     "metadata": {},
     "output_type": "execute_result"
    }
   ],
   "source": [
    "perfect_forms6[:,:,0]"
   ]
  },
  {
   "cell_type": "markdown",
   "metadata": {},
   "source": [
    "### 2.2 Computing Voronoi's first reduction\n",
    "\n",
    "In order to obtain the full Voronoi decomposition, we use the split argument.\n",
    "\n",
    "<!---\n",
    "**Note on the retry64_tol argument.** In this mode, with the \n",
    "--->"
   ]
  },
  {
   "cell_type": "code",
   "execution_count": 34,
   "metadata": {},
   "outputs": [],
   "source": [
    "np.random.seed(42)\n",
    "D = MakeRandomTensor(6)\n",
    "a,vertex,objective,weights,offsets = VoronoiDecomposition(D,steps='Split')"
   ]
  },
  {
   "cell_type": "markdown",
   "metadata": {},
   "source": [
    "In this example, the second perfect form is optimal, up to arithmetic equivalence."
   ]
  },
  {
   "cell_type": "code",
   "execution_count": 35,
   "metadata": {},
   "outputs": [
    {
     "data": {
      "text/plain": [
       "array(2, dtype=int64)"
      ]
     },
     "execution_count": 35,
     "metadata": {},
     "output_type": "execute_result"
    }
   ],
   "source": [
    "vertex # Index of the optimal perfect form"
   ]
  },
  {
   "cell_type": "markdown",
   "metadata": {},
   "source": [
    "The linear change of variables, defining the arithmetic equivalence, is returned as well."
   ]
  },
  {
   "cell_type": "code",
   "execution_count": 36,
   "metadata": {},
   "outputs": [
    {
     "data": {
      "text/plain": [
       "array([[1., 0., 0., 0., 0., 0.],\n",
       "       [0., 1., 0., 0., 0., 0.],\n",
       "       [0., 0., 1., 0., 0., 0.],\n",
       "       [0., 0., 0., 1., 0., 0.],\n",
       "       [0., 0., 0., 0., 1., 0.],\n",
       "       [0., 0., 0., 0., 0., 1.]])"
      ]
     },
     "execution_count": 36,
     "metadata": {},
     "output_type": "execute_result"
    }
   ],
   "source": [
    "a"
   ]
  },
  {
   "cell_type": "markdown",
   "metadata": {},
   "source": [
    "And the optimal matrix for Voronoi's decomposition is thus obtained as follows."
   ]
  },
  {
   "cell_type": "code",
   "execution_count": 37,
   "metadata": {},
   "outputs": [],
   "source": [
    "def dot_tADA(A,D):\n",
    "    return lp.dot_AA(lp.dot_AA(lp.transpose(A),D),A)"
   ]
  },
  {
   "cell_type": "code",
   "execution_count": 38,
   "metadata": {},
   "outputs": [],
   "source": [
    "M = dot_tADA(a,perfect_forms6[:,:,vertex])"
   ]
  },
  {
   "cell_type": "code",
   "execution_count": 39,
   "metadata": {},
   "outputs": [
    {
     "data": {
      "text/plain": [
       "array([[2., 0., 0., 1., 1., 1.],\n",
       "       [0., 2., 1., 1., 1., 1.],\n",
       "       [0., 1., 2., 1., 1., 1.],\n",
       "       [1., 1., 1., 2., 1., 1.],\n",
       "       [1., 1., 1., 1., 2., 1.],\n",
       "       [1., 1., 1., 1., 1., 2.]])"
      ]
     },
     "execution_count": 39,
     "metadata": {},
     "output_type": "execute_result"
    }
   ],
   "source": [
    "M"
   ]
  },
  {
   "cell_type": "markdown",
   "metadata": {},
   "source": [
    "The value of Voronoi's first reduction is also, by Kantorovitch duality, (twice) the sum of the coefficients of the decomposition of $D$."
   ]
  },
  {
   "cell_type": "code",
   "execution_count": 40,
   "metadata": {},
   "outputs": [
    {
     "data": {
      "text/plain": [
       "90.6632595821267"
      ]
     },
     "execution_count": 40,
     "metadata": {},
     "output_type": "execute_result"
    }
   ],
   "source": [
    "lp.trace(lp.dot_AA(D,M)) # Value of primal linear program"
   ]
  },
  {
   "cell_type": "code",
   "execution_count": 41,
   "metadata": {},
   "outputs": [
    {
     "data": {
      "text/plain": [
       "array(48.69371796)"
      ]
     },
     "execution_count": 41,
     "metadata": {},
     "output_type": "execute_result"
    }
   ],
   "source": [
    "objective # Common value of the primal and dual linear programs"
   ]
  },
  {
   "cell_type": "code",
   "execution_count": 42,
   "metadata": {},
   "outputs": [
    {
     "data": {
      "text/plain": [
       "48.693716049194336"
      ]
     },
     "execution_count": 42,
     "metadata": {},
     "output_type": "execute_result"
    }
   ],
   "source": [
    "2*np.sum(weights) # Value of dual linear program (matrix decomposition)"
   ]
  },
  {
   "cell_type": "markdown",
   "metadata": {},
   "source": [
    "The offsets involved in the decomposition of $D$ saturate the constraint $<e, M e> \\geq 2$."
   ]
  },
  {
   "cell_type": "code",
   "execution_count": 43,
   "metadata": {},
   "outputs": [
    {
     "data": {
      "text/plain": [
       "array([2., 2., 2., 2., 2., 2., 2., 2., 2., 2., 2., 2., 2., 2., 2., 2., 2.,\n",
       "       2., 2., 2., 2.])"
      ]
     },
     "execution_count": 43,
     "metadata": {},
     "output_type": "execute_result"
    }
   ],
   "source": [
    "lp.dot_VAV(offsets,np.expand_dims(M,axis=-1),offsets)"
   ]
  },
  {
   "cell_type": "markdown",
   "metadata": {},
   "source": [
    "### 2.3 Most common optimal form\n",
    "\n",
    "Not all perfect forms are equal. The form of index two takes is optimal most of the time ($90\\%$ of cases), up to arithmetic equivalence, whereas the form of index zero is rarely optimal. These two forms are discussed above."
   ]
  },
  {
   "cell_type": "code",
   "execution_count": 44,
   "metadata": {},
   "outputs": [],
   "source": [
    "np.random.seed(42)\n",
    "D = MakeRandomTensor(6,(20000 if large_instances else 1000,))\n",
    "a,vertex,objective,weights,offsets = VoronoiDecomposition(D,steps='Split')"
   ]
  },
  {
   "cell_type": "code",
   "execution_count": 45,
   "metadata": {},
   "outputs": [
    {
     "name": "stdout",
     "output_type": "stream",
     "text": [
      "Found optimal forms [0 1 2 3 4 5 6] with counts [    1  1531 17995   111   147   199    16],\n",
      " hence frequency [5.0000e-05 7.6550e-02 8.9975e-01 5.5500e-03 7.3500e-03 9.9500e-03\n",
      " 8.0000e-04]\n"
     ]
    }
   ],
   "source": [
    "index,counts = np.unique(vertex,return_counts=True)\n",
    "print(f\"Found optimal forms {index} with counts {counts},\\n hence frequency {counts/vertex.size}\")"
   ]
  },
  {
   "cell_type": "markdown",
   "metadata": {},
   "source": [
    "## 3. Voronoi's first reduction in lower dimensions \n",
    "\n",
    "The theory descibed in the previous section for six dimensions applies as well in all other dimensions. We briefly reproduce similar results in dimension $2$, $3$, $4$ and $5$. There is a single perfect form in dimension $2$ and $3$. In other words, all vertices of Ryskov's polyhedron are arithmetically equivalent in these dimensions."
   ]
  },
  {
   "cell_type": "code",
   "execution_count": 46,
   "metadata": {},
   "outputs": [],
   "source": [
    "perfect_forms2 = expand_symmetric_matrix(np.array([\n",
    "    [2.,1.,2.]\n",
    "]).T)\n",
    "perfect_forms3 = expand_symmetric_matrix(np.array([\n",
    "    [2.,1.,2.,1.,1.,2.]\n",
    "]).T)\n",
    "perfect_forms4 = expand_symmetric_matrix(np.array([\n",
    "    [2, 1, 2, 1, 1, 2, 0, 1, 1, 2],\n",
    "    [2, 1, 2, 1, 1, 2, 1, 1, 1, 2.]\n",
    "]).T)\n",
    "perfect_forms5 = expand_symmetric_matrix(np.array([\n",
    "    [2,1,2,1,1,2,1,1,1,2,0,1,1,1,2],\n",
    "    [2,1,2,1,1,2,1,1,1,2,1,1,1,1,2],\n",
    "    [2,0.5,2,0.5,0.5,2,-1,-1,-1,2,-1,-1,-1,0.5,2]\n",
    "]).T)"
   ]
  },
  {
   "cell_type": "code",
   "execution_count": 47,
   "metadata": {},
   "outputs": [],
   "source": [
    "perfect_forms = (None,None,perfect_forms2,perfect_forms3,perfect_forms4,perfect_forms5,perfect_forms6)"
   ]
  },
  {
   "cell_type": "code",
   "execution_count": 51,
   "metadata": {},
   "outputs": [
    {
     "name": "stdout",
     "output_type": "stream",
     "text": [
      "\n",
      "---- Dimension 4 ----\n",
      "Decomposed matrix : \n",
      " [[ 1.28823534 -0.73151355 -0.24786425  0.65940888]\n",
      " [-0.73151355  4.73668048  2.589515    0.43286178]\n",
      " [-0.24786425  2.589515    6.8112417   3.38411893]\n",
      " [ 0.65940888  0.43286178  3.38411893  4.14937813]]\n",
      "Optimal vertex of Ryskov's polyhedron has class 0, and value : \n",
      " [[ 2.  1.  0. -1.]\n",
      " [ 1.  2. -1.  0.]\n",
      " [ 0. -1.  2. -1.]\n",
      " [-1.  0. -1.  2.]] \n",
      "Common value of the primal and dual linear programs : 19.241954803466797\n",
      "19.241954803466797 19.241957366466522 19.241958565426444\n",
      "Assert ? 3.761959646908508e-06\n",
      "Minimal weight 0.1269872784614563 (must be non-negative)\n",
      "Offset norms w.r.t optimal vertex [2. 2. 2. 2. 2. 2. 2. 2. 2. 2. 2. 2.] (must be two)\n",
      "\n",
      "Reduced 1000 random positive definite matrices.\n",
      "Found optimal forms [0 1] with counts [763 237],\n",
      "hence frequency [0.763 0.237]\n",
      "\n",
      "---- Dimension 5 ----\n",
      "Decomposed matrix : \n",
      " [[10.34586809  3.63402389 -2.6634905  -2.05059023 -3.45430659]\n",
      " [ 3.63402389  3.21443391 -2.47531992 -1.82971071 -1.8720209 ]\n",
      " [-2.6634905  -2.47531992  6.59737207  2.71160849  2.58527549]\n",
      " [-2.05059023 -1.82971071  2.71160849  5.30129165  1.09153424]\n",
      " [-3.45430659 -1.8720209   2.58527549  1.09153424  3.81772762]]\n",
      "Optimal vertex of Ryskov's polyhedron has class 0, and value : \n",
      " [[ 2. -2. -1.  0.  2.]\n",
      " [-2.  4.  1.  1. -1.]\n",
      " [-1.  1.  2. -1. -2.]\n",
      " [ 0.  1. -1.  2.  1.]\n",
      " [ 2. -1. -2.  1.  4.]] \n",
      "Common value of the primal and dual linear programs : 31.14406967163086\n",
      "31.14406967163086 31.144096612930298 31.144098887886884\n",
      "Assert ? 2.9216256024255927e-05\n",
      "Minimal weight 0.06383077800273895 (must be non-negative)\n",
      "Offset norms w.r.t optimal vertex [2. 2. 2. 2. 2. 2. 2. 2. 2. 2. 2. 2. 2. 2. 2.] (must be two)\n",
      "\n",
      "Reduced 1000 random positive definite matrices.\n",
      "Found optimal forms [0 1 2] with counts [975  10  15],\n",
      "hence frequency [0.975 0.01  0.015]\n",
      "\n",
      "---- Dimension 6 ----\n",
      "Decomposed matrix : \n",
      " [[ 8.58306087 -0.43403833 -1.71949907 -3.23952104 -4.73154571 -2.25628131]\n",
      " [-0.43403833  8.53888404 -4.89687644  2.948088    2.14121097 -3.95043456]\n",
      " [-1.71949907 -4.89687644 13.82151435 -2.07878739 -3.28200352  0.82553135]\n",
      " [-3.23952104  2.948088   -2.07878739  7.97508036  3.43038387  1.4478179 ]\n",
      " [-4.73154571  2.14121097 -3.28200352  3.43038387  9.76864218  3.49262667]\n",
      " [-2.25628131 -3.95043456  0.82553135  1.4478179   3.49262667  9.98016129]]\n",
      "Optimal vertex of Ryskov's polyhedron has class 2, and value : \n",
      " [[ 2.  0.  1.  1.  1.  0.]\n",
      " [ 0.  2.  1. -1.  0.  1.]\n",
      " [ 1.  1.  2.  0.  1.  0.]\n",
      " [ 1. -1.  0.  2.  0.  0.]\n",
      " [ 1.  0.  1.  0.  2. -1.]\n",
      " [ 0.  1.  0.  0. -1.  2.]] \n",
      "Common value of the primal and dual linear programs : 60.81357192993164\n",
      "60.81357192993164 60.81349563598633 60.81349616924226\n",
      "Assert ? 7.576068937709124e-05\n",
      "Minimal weight 0.12404823303222656 (must be non-negative)\n",
      "Offset norms w.r.t optimal vertex [2. 2. 2. 2. 2. 2. 2. 2. 2. 2. 2. 2. 2. 2. 2. 2. 2. 2. 2. 2. 2.] (must be two)\n",
      "\n",
      "Reduced 1000 random positive definite matrices.\n",
      "Found optimal forms [1 2 3 4 5 6] with counts [ 82 893   3  10  11   1],\n",
      "hence frequency [0.082 0.893 0.003 0.01  0.011 0.001]\n"
     ]
    }
   ],
   "source": [
    "np.random.seed(42)\n",
    "for d in range(2,7):\n",
    "    if d<=3 and VoronoiDecomposition.default_mode == 'gpu_transfer': continue # low dim not implemented on GPU\n",
    "    print(f'\\n---- Dimension {d} ----')\n",
    "    D = MakeRandomTensor(d)\n",
    "    a,vertex,objective,weights,offsets = VoronoiDecomposition(D,steps='Split')\n",
    "    print(f\"Decomposed matrix : \\n {D}\")\n",
    "    \n",
    "    M = dot_tADA(a,perfect_forms[d][:,:,vertex])\n",
    "    print(f\"Optimal vertex of Ryskov's polyhedron has class {vertex}, and value : \\n {M} \")\n",
    "    \n",
    "    print(f\"Common value of the primal and dual linear programs : {objective}\")\n",
    "    print(objective,2*weights.sum(),lp.trace(lp.dot_AA(D,M)))\n",
    "    assert allclose(objective,2*weights.sum())\n",
    "    assert allclose(objective,lp.trace(lp.dot_AA(D,M)))\n",
    "\n",
    "    print(f\"Minimal weight {np.min(weights)} (must be non-negative)\")\n",
    "    assert np.allclose(D,Reconstruct(weights,offsets))\n",
    "    assert np.all(weights>=0)\n",
    "\n",
    "    offset_norms = lp.dot_VAV(offsets,np.expand_dims(M,axis=-1),offsets)\n",
    "    print(f\"Offset norms w.r.t optimal vertex {offset_norms} (must be two)\")\n",
    "\n",
    "    if d<=3: continue\n",
    "    nTest=1000\n",
    "    D = MakeRandomTensor(d, (nTest,))\n",
    "    a,vertex,objective,weights,offsets = VoronoiDecomposition(D,steps='Split')\n",
    "\n",
    "    index,counts = np.unique(vertex,return_counts=True)\n",
    "    print(f\"\\nReduced {nTest} random positive definite matrices.\")\n",
    "    print(f\"Found optimal forms {index} with counts {counts},\\nhence frequency {counts/vertex.size}\")"
   ]
  },
  {
   "cell_type": "code",
   "execution_count": null,
   "metadata": {},
   "outputs": [],
   "source": []
  }
 ],
 "metadata": {
  "kernelspec": {
   "display_name": "Python 3 (ipykernel)",
   "language": "python",
   "name": "python3"
  },
  "language_info": {
   "codemirror_mode": {
    "name": "ipython",
    "version": 3
   },
   "file_extension": ".py",
   "mimetype": "text/x-python",
   "name": "python",
   "nbconvert_exporter": "python",
   "pygments_lexer": "ipython3",
   "version": "3.12.2"
  },
  "varInspector": {
   "cols": {
    "lenName": 16,
    "lenType": 16,
    "lenVar": 40
   },
   "kernels_config": {
    "python": {
     "delete_cmd_postfix": "",
     "delete_cmd_prefix": "del ",
     "library": "var_list.py",
     "varRefreshCmd": "print(var_dic_list())"
    },
    "r": {
     "delete_cmd_postfix": ") ",
     "delete_cmd_prefix": "rm(",
     "library": "var_list.r",
     "varRefreshCmd": "cat(var_dic_list()) "
    }
   },
   "types_to_exclude": [
    "module",
    "function",
    "builtin_function_or_method",
    "instance",
    "_Feature"
   ],
   "window_display": false
  }
 },
 "nbformat": 4,
 "nbformat_minor": 4
}