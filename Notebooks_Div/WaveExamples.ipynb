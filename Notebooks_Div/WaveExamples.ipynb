{
 "cells": [
  {
   "cell_type": "markdown",
   "id": "536f2582",
   "metadata": {},
   "source": [
    "# Adaptive PDE discretizations on Cartesian grids\n",
    "## Volume : Divergence form PDEs\n",
    "## Part : Linear elasticity\n",
    "## Chapter : Gradient backpropagation in anisotropic acoustic and elastic waves\n",
    "\n",
    "$\n",
    "\\newcommand\\bbone{\\mathbb 1}\\newcommand\\sm{\\setminus}\n",
    "\\newcommand\\<{\\langle}\\newcommand\\>{\\rangle}\n",
    "\\newcommand\\vp{\\varphi}\n",
    "\\newcommand\\diff{\\mathrm d}\\newcommand\\Diff{\\mathrm{D}}\n",
    "\\DeclareMathOperator\\Id{Id}\\DeclareMathOperator\\len{len}\\DeclareMathOperator\\Tr{Tr}\n",
    "\\newcommand\\kF{\\mathfrak F}\n",
    "\\newcommand\\cL{\\mathcal L}\\newcommand\\cF{\\mathcal F}\\newcommand\\cO{\\mathcal O}\\newcommand\\cS{\\mathcal S} \n",
    "\\newcommand\\cE{\\mathcal E} \n",
    "\\newcommand\\cD{\\mathcal D}\n",
    "\\newcommand\\bQ{\\mathbb Q}\\newcommand\\bR{\\mathbb R}\\newcommand\\bS{\\mathbb S}\\newcommand\\bZ{\\mathbb Z}\n",
    "\\newcommand\\ve{\\varepsilon}\n",
    "\\newcommand\\kg{\\mathrm{kg}}\n",
    "\\newcommand\\diver{\\mathrm{div}}\\newcommand\\kw{\\mathrm{k}}\n",
    "\\newcommand\\damp{\\mathrm{damp}}\n",
    "$"
   ]
  },
  {
   "cell_type": "markdown",
   "id": "3f166048",
   "metadata": {},
   "source": [
    "In this notebook, we run numerical instances of the acoustic and elastic wave equation, with absorbing boundary conditions."
   ]
  },
  {
   "cell_type": "markdown",
   "id": "b0cdb59e",
   "metadata": {
    "editable": true,
    "slideshow": {
     "slide_type": ""
    },
    "tags": []
   },
   "source": [
    "[**Summary**](Summary.ipynb) of volume Divergence form PDEs, this series of notebooks.\n",
    "\n",
    "[**Main summary**](../Summary.ipynb) of the Adaptive Grid Discretizations \n",
    "\tbook of notebooks, including the other volumes.\n",
    "\n",
    "# Table of contents\n",
    "  * [1. Models construction](#1.-Models-construction)\n",
    "    * [1.1 Damping layer](#1.1-Damping-layer)\n",
    "    * [1.2 A complex synthetic medium](#1.2-A-complex-synthetic-medium)\n",
    "    * [1.3 Medium differentiation](#1.3-Medium-differentiation)\n",
    "  * [2. Acoustic wave equation](#2.-Acoustic-wave-equation)\n",
    "    * [2.1 Homogeneous example](#2.1-Homogeneous-example)\n",
    "    * [2.2 Complex medium](#2.2-Complex-medium)\n",
    "  * [3 Automatic differentiation of seismograms](#3-Automatic-differentiation-of-seismograms)\n",
    "    * [3.1 Forward differentiation](#3.1-Forward-differentiation)\n",
    "    * [3.2 Reverse differentiation](#3.2-Reverse-differentiation)\n",
    "    * [3.3 Sensitivity to variations in the whole domain](#3.3-Sensitivity-to-variations-in-the-whole-domain)\n",
    "  * [4. Elasticity](#4.-Elasticity)\n",
    "    * [4.1 Homogeneous medium](#4.1-Homogeneous-medium)\n",
    "    * [4.2 Complex medium](#4.2-Complex-medium)\n",
    "    * [4.3 Forward differentiation](#4.3-Forward-differentiation)\n",
    "    * [4.4 Reverse differentiation](#4.4-Reverse-differentiation)\n",
    "\n",
    "\n",
    "\n",
    "**Acknowledgement.** Some of the experiments presented in these notebooks are part of \n",
    "ongoing research with Ludovic Métivier and Da Chen.\n",
    "\n",
    "Copyright Jean-Marie Mirebeau, Centre Borelli, ENS Paris-Saclay, CNRS, University Paris-Saclay"
   ]
  },
  {
   "cell_type": "markdown",
   "id": "a900ee4a",
   "metadata": {},
   "source": [
    "## 0. Importing the required libraries"
   ]
  },
  {
   "cell_type": "code",
   "execution_count": 1,
   "id": "c440343a",
   "metadata": {
    "editable": true,
    "slideshow": {
     "slide_type": ""
    },
    "tags": []
   },
   "outputs": [],
   "source": [
    "import sys; sys.path.insert(0,\"..\") # Allow import of agd from parent directory (useless if conda package installed)\n",
    "#from Miscellaneous import TocTools; print(TocTools.displayTOC('WaveExamples','Div'))"
   ]
  },
  {
   "cell_type": "code",
   "execution_count": 2,
   "id": "7740e01c",
   "metadata": {
    "editable": true,
    "slideshow": {
     "slide_type": ""
    },
    "tags": [
     "ExportCode"
    ]
   },
   "outputs": [],
   "source": [
    "from agd import LinearParallel as lp\n",
    "from agd import FiniteDifferences as fd\n",
    "from agd import Domain\n",
    "from agd.Metrics import Riemann\n",
    "from agd.Metrics.Seismic import Hooke, Thomsen\n",
    "from agd.ODE.hamiltonian import QuadraticHamiltonian\n",
    "from agd import AutomaticDifferentiation as ad\n",
    "from agd.Eikonal.HFM_CUDA import AnisotropicWave as aw\n",
    "from agd.Interpolation import UniformGridInterpolation\n",
    "from agd.Plotting import savefig,quiver,Tissot; #savefig.dirName = 'Images/ElasticityDirichlet'\n",
    "norm = ad.Optimization.norm\n",
    "mica,_ = Hooke.mica "
   ]
  },
  {
   "cell_type": "code",
   "execution_count": 3,
   "id": "60a8cf07",
   "metadata": {
    "editable": true,
    "slideshow": {
     "slide_type": ""
    },
    "tags": [
     "ExportCode"
    ]
   },
   "outputs": [],
   "source": [
    "#import copy\n",
    "import numpy as np; xp=np; allclose=np.allclose; π = np.pi\n",
    "from matplotlib import pyplot as plt\n",
    "from matplotlib.colors import AsinhNorm\n",
    "from scipy.ndimage import gaussian_filter\n",
    "from numpy.random import rand"
   ]
  },
  {
   "cell_type": "markdown",
   "id": "b8c1f75d",
   "metadata": {},
   "source": [
    "### 0.1 Additional configuration\n",
    "\n",
    "Uncomment the following line to use the gpu solvers"
   ]
  },
  {
   "cell_type": "code",
   "execution_count": 4,
   "id": "49939f9a",
   "metadata": {
    "tags": [
     "GPU_config"
    ]
   },
   "outputs": [
    {
     "name": "stdout",
     "output_type": "stream",
     "text": [
      "Replacing numpy with cupy, set to output 32bit ints and floats by default.\n",
      "Using cp.asarray(*,dtype=np.float32) as the default caster in ad.array.\n",
      "Returning a copy of module matplotlib.pyplot whose functions accept cupy arrays as input.\n",
      "Returning a copy of function quiver which accepts cupy arrays as input.\n",
      "Replacing ndarray members with their cupy variants, for object of type <class 'agd.Metrics.Seismic.hooke.Hooke'>\n",
      "Setting float32 compatible default values atol=rtol=1e-5 in np.allclose\n"
     ]
    }
   ],
   "source": [
    "xp,plt,quiver,mica,allclose = map(ad.cupy_friendly,(xp,plt,quiver,mica,allclose))"
   ]
  },
  {
   "cell_type": "code",
   "execution_count": 5,
   "id": "22a5515b",
   "metadata": {
    "editable": true,
    "slideshow": {
     "slide_type": ""
    },
    "tags": [
     "ExportCode"
    ]
   },
   "outputs": [],
   "source": [
    "if xp is np: # Use CPU sparse matrix solvers\n",
    "    AcousticHamiltonian = aw.AcousticHamiltonian_Sparse\n",
    "    ElasticHamiltonian = aw.ElasticHamiltonian_Sparse\n",
    "else: # Use GPU kernels\n",
    "    AcousticHamiltonian = aw.AcousticHamiltonian_Kernel\n",
    "    ElasticHamiltonian = aw.ElasticHamiltonian_Kernel"
   ]
  },
  {
   "cell_type": "code",
   "execution_count": 6,
   "id": "30d00b2f",
   "metadata": {
    "editable": true,
    "slideshow": {
     "slide_type": ""
    },
    "tags": []
   },
   "outputs": [],
   "source": [
    "def reload_packages():\n",
    "    from Miscellaneous.rreload import rreload\n",
    "    global AcousticHamiltonian,ElasticHamiltonian,Hooke\n",
    "    AcousticHamiltonian,ElasticHamiltonian,Hooke = rreload([\n",
    "        AcousticHamiltonian,ElasticHamiltonian,Hooke],rootdir=\"../../AdaptiveGridDiscretizations\")"
   ]
  },
  {
   "cell_type": "code",
   "execution_count": 7,
   "id": "0deb811f",
   "metadata": {},
   "outputs": [],
   "source": [
    "def reload_packages2():\n",
    "    from Miscellaneous.rreload import rreload\n",
    "    global quiver,Selling,ad\n",
    "    quiver,Selling,ad = rreload([quiver,Selling,ad],rootdir=\"../../AdaptiveGridDiscretizations\")"
   ]
  },
  {
   "cell_type": "markdown",
   "id": "968a3a93",
   "metadata": {},
   "source": [
    "### 0.2 Utility functions\n",
    "\n",
    "The following functions are used for smooth transition layers in the models construction."
   ]
  },
  {
   "cell_type": "code",
   "execution_count": 8,
   "id": "7f23f354",
   "metadata": {
    "editable": true,
    "slideshow": {
     "slide_type": ""
    },
    "tags": [
     "ExportCode"
    ]
   },
   "outputs": [],
   "source": [
    "def heaviside(x):\n",
    "    \"\"\"Smoothed heaviside function, with a transition over [-1,1]\"\"\"\n",
    "    # Primitives of (1-x^2)^k : x - x**3/3, x - (2*x**3)/3 + x**5/5, x - x**3 + (3*x**5)/5 - x**7/7\n",
    "    def p(x): return x - (2*x**3)/3 + x**5/5\n",
    "    return 0.5+0.5*np.where(x<=-1,-1,np.where(x>=1,1,p(x)/p(1)))\n",
    "    \n",
    "def bump(x,r,δ):\n",
    "    \"\"\"A bump over the interval [-r,r], with a transition over [r-δ,r+δ]\"\"\"\n",
    "    return heaviside((r-np.abs(x))/δ)"
   ]
  },
  {
   "cell_type": "markdown",
   "id": "81f9b30d",
   "metadata": {},
   "source": [
    "The following functions are used to set initial conditions for the acoustic and elastic wave equations."
   ]
  },
  {
   "cell_type": "code",
   "execution_count": 9,
   "id": "271e6ef4",
   "metadata": {
    "editable": true,
    "slideshow": {
     "slide_type": ""
    },
    "tags": [
     "ExportCode"
    ]
   },
   "outputs": [],
   "source": [
    "def make_domain(radius,vdim):\n",
    "    \"\"\"Produces the periodic domain [-radius,radius]^2, with 25 pixels per unit\"\"\"\n",
    "    aX,dx = xp.linspace(-radius,radius,50*radius,endpoint=False,retstep=True)\n",
    "    X=ad.array(np.meshgrid(*(aX,)*vdim,indexing='ij'))\n",
    "    dom = Domain.MockDirichlet(X.shape[1:],dx,padding=None) #Periodic domain (wrap instead of pad)\n",
    "    return dom,X,dx\n",
    "\n",
    "def gaussian(X,σ=0.1,x0=None): \n",
    "    if x0 is not None: X = X - fd.as_field(x0,X.shape[1:],depth=1)\n",
    "    return np.exp(-lp.dot_VV(X,X)/(2*σ**2)) # Non normalized gaussian with prescribed variance\n",
    "def churp(X,*args,**kwargs):\n",
    "    \"\"\"\n",
    "    Laplacian of Gaussian, often used as a source in acoustic wave equation.\n",
    "    *args, **kwargs : passed to gaussian\n",
    "    \"\"\"\n",
    "    vdim = len(X)\n",
    "    X_ad = ad.Dense2.identity(constant=X,shape_free=(vdim,))\n",
    "    g_ad = gaussian(X_ad,*args,**kwargs)\n",
    "    return -sum(g_ad.hessian(i,i) for i in range(vdim))\n",
    "def explosion(X,*args,**kwargs):\n",
    "    \"\"\"\n",
    "    Triggers a pressure wave in all directions, emulating an explosion.\n",
    "    *args, **kwargs : passed to gaussian\n",
    "    \"\"\"\n",
    "    X_ad = ad.Dense.identity(constant=X,shape_free=(len(X),))\n",
    "    return -gaussian(X_ad,*args,**kwargs).gradient()\n",
    "def torsion(X,*args,**kwargs):\n",
    "    \"\"\"\n",
    "    Triggers a torsion wave in all directions, using a torsion-like initial momentum (2D)\n",
    "    *args, **kwargs : passed to gaussian\n",
    "    \"\"\"\n",
    "    e0,e1 = explosion(X,*args,**kwargs) \n",
    "    return ad.array([-e1,e0]) # Perpendicular vector"
   ]
  },
  {
   "cell_type": "markdown",
   "id": "49db6778-f3ef-47a8-b322-4a0b4b7b7b69",
   "metadata": {},
   "source": [
    "The following functions are used to compute forward and backward differentiation of the wave equations."
   ]
  },
  {
   "cell_type": "code",
   "execution_count": 10,
   "id": "d3f16943-dafe-41a5-aecc-b139c7552b72",
   "metadata": {
    "editable": true,
    "slideshow": {
     "slide_type": ""
    },
    "tags": [
     "ExportCode"
    ]
   },
   "outputs": [],
   "source": [
    "def gram(x,y):\n",
    "    assert x.ndim==y.ndim\n",
    "    return np.sum(x[...,None,:]*y[...,:,None],axis=tuple(range(x.ndim-1)))\n",
    "    \n",
    "def fwd_grad(qf_fwd, pf_fwd, qh_fwd, ph_fwd,\n",
    "             qf_grad,pf_grad,qh_grad,ph_grad):\n",
    "    \"\"\"Gradient of the objective functional obtained via forward AD\"\"\"\n",
    "    return gram(qf_grad,qf_fwd.coef) + gram(pf_grad,pf_fwd.coef) + gram(qh_grad,qh_fwd.coef) + gram(ph_grad,ph_fwd.coef)\n",
    "\n",
    "def rev_grad(q0_fwd, p0_fwd, H_fwd,\n",
    "             q0_grad,p0_grad,H_rev):\n",
    "    \"\"\"Gradient of the objective functional obtained via reversed AD\"\"\"\n",
    "    return gram(q0_grad,q0_fwd.coef) + gram(p0_grad,p0_fwd.coef) \\\n",
    "          + gram(H_rev.iρ.coef,H_fwd.iρ.coef) - gram(H_rev.weights.coef,H_fwd.weights.coef)\n",
    "\n",
    "def sensitivity_to_ρ(H_rev): \n",
    "    return -(H_rev.iρ*H_rev.iρ.value**2).coef\n",
    "\n",
    "def sensitivity_to_D(H_rev,offsets=None):\n",
    "    from agd.Metrics import misc # import flatten_symmetric_matrix as fltsym\n",
    "    if offsets is None:offsets = H_rev.offsets\n",
    "    eet_flat = misc.flatten_symmetric_matrix(lp.outer_self(offsets)).astype(H_rev.weights.dtype)\n",
    "    # Could be made more efficient and accurate, since the inverses are essentially known\n",
    "    res = lp.solve_AV(lp.transpose(eet_flat)[...,None],H_rev.weights.coef)\n",
    "    res = misc.expand_symmetric_matrix(res)/2 \n",
    "    for i in range(len(res)): res[i,i]*=2 # Normalization accounts for duplication of off-diagonal coefficients\n",
    "    return res\n",
    "\n",
    "def sensitivity_to_M(H_rev): \n",
    "    return H_rev.M.coef\n",
    "    \n",
    "def sensitivity_to_C(H_rev): \n",
    "    m = H_rev.moffsets \n",
    "    vdim = len(m)\n",
    "    # Take care of Voigt notation\n",
    "    if vdim==1:   return sensitivity_to_D(H_rev,m[0])\n",
    "    elif vdim==2: return sensitivity_to_D(H_rev,(m[0,0],m[1,1],m[0,1]))\n",
    "    elif vdim==3: return sensitivity_to_D(H_rev,(m[0,0],m[1,1],m[2,2],m[1,2],m[0,2],m[0,1]))"
   ]
  },
  {
   "cell_type": "markdown",
   "id": "ea74dc11-6f30-402a-9e59-4e502f51b295",
   "metadata": {},
   "source": [
    "The following function is used in reproducibility checks."
   ]
  },
  {
   "cell_type": "code",
   "execution_count": 11,
   "id": "faccf294-a0f5-4e4e-a56e-525ac70e3180",
   "metadata": {
    "editable": true,
    "slideshow": {
     "slide_type": ""
    },
    "tags": [
     "ExportCode"
    ]
   },
   "outputs": [],
   "source": [
    "def MakeRandomTensor(dim, shape=tuple(), relax=0.05):\n",
    "    A = np.random.standard_normal( (dim,dim) + shape )\n",
    "    D = lp.dot_AA(lp.transpose(A),A)\n",
    "    identity = np.eye(dim).reshape((dim,dim)+(1,)*len(shape))\n",
    "    return D+lp.trace(D)*relax*identity\n",
    "\n",
    "def rand_ad(x,size_ad,sym=False):\n",
    "    x_coef = rand(*x.shape,size_ad)\n",
    "    if sym: x_coef = (x_coef+lp.transpose(x_coef))/2\n",
    "    return ad.Dense.denseAD(x,x_coef)\n",
    "    \n",
    "def check_ad(vdim,nX,wavetype,order_x=2,order_t=2,bc='Neumann',niter=4,size_fwd=2,size_rev=2):\n",
    "    \"\"\"\n",
    "    - size_fwd : number of independent symbolic perturbations of the inputs\n",
    "    - size_rev : number of objective functions at the target\n",
    "    \"\"\"\n",
    "    print(f\"Testing {vdim=}, {nX=}, {wavetype=}, {order_x=}, {order_t=}, {niter=}, {bc=}, {size_fwd=}, {size_rev=}, \",end='')\n",
    "    np.random.seed(42)\n",
    "    size_ad = 2\n",
    "    shape = (nX,)*vdim\n",
    "    dt = 0.1\n",
    "    dx = 0.5\n",
    "    if wavetype=='Acoustic':\n",
    "        Hamiltonian = aw.AcousticHamiltonian_Sparse\n",
    "        ρ = 0.2+rand(*shape); ρ /= np.max(ρ)\n",
    "        D = MakeRandomTensor(vdim,shape,0.2); D/=np.max(D)\n",
    "\t#\tD[:] = np.eye(vdim).reshape((vdim,vdim)+(1,)*vdim); print(\"Alternative : D = Id\")\n",
    "        params = (ρ,D)\n",
    "        q0,p0 = rand(*shape), rand(*shape)\n",
    "    elif wavetype=='Elastic': \n",
    "        Hamiltonian = aw.ElasticHamiltonian_Sparse\n",
    "\t#\tρ = 0.2+rand(*shape); ρ /= np.max(ρ); M = ρ[None,None]\n",
    "        M = MakeRandomTensor(vdim,shape,0.3); M /= np.max(M)\n",
    "        symdim = (vdim*(vdim+1))//2\n",
    "        C = MakeRandomTensor(symdim,shape,0.2); C/=np.max(C)\n",
    "        params = (M,C)\n",
    "        q0,p0 = rand(vdim,*shape),rand(vdim,*shape)\n",
    "    else: raise ValueError(\"Unrecognized wave type\")\n",
    "\n",
    "    params_fwd = [rand_ad(x,size_ad,sym) for x,sym in zip(params,(False,True,True))]\n",
    "    q0_fwd = rand_ad(q0,size_fwd); p0_fwd = rand_ad(p0,size_fwd)\n",
    "\n",
    "    qh_ind = np.random.choice(q0.size,8,replace=False) # Fails if there are duplicates\n",
    "    ph_ind = np.random.choice(p0.size,7,replace=False)\n",
    "    \n",
    "#    q0_fwd.coef*=0\n",
    "#    p0_fwd.coef*=0\n",
    "#    params_fwd[0].coef*=0\n",
    "#    params_fwd[1].coef*=0\n",
    "    \n",
    "    H_fwd = Hamiltonian(*params_fwd,dx,bc=bc,order_x=order_x,save_weights=True)\n",
    "    H_rev = Hamiltonian(*params    ,dx,bc=bc,order_x=order_x,rev_ad = size_rev)\n",
    "\n",
    "    H_fwd.damp_p = rand(*shape); H_fwd.damp_q = rand(*shape)\n",
    "    H_rev.damp_p = H_fwd.damp_p; H_rev.damp_q = H_fwd.damp_q\n",
    "    \n",
    "    qf_fwd,pf_fwd,qh_fwd,ph_fwd = H_fwd.seismogram(q0_fwd,p0_fwd,dt,niter,order_t,qh_ind,ph_ind)\n",
    "    qf,pf,qh,ph,backprop = H_rev.seismogram_with_backprop(q0,p0,dt,niter,order_t,qh_ind,ph_ind)\n",
    "\n",
    "    assert np.allclose(qf_fwd.value,qf)\n",
    "    assert np.allclose(pf_fwd.value,pf)\n",
    "    assert np.allclose(ad.remove_ad(qh_fwd),qh)\n",
    "    assert np.allclose(ad.remove_ad(ph_fwd),ph)\n",
    "\n",
    "    qf_grad,pf_grad,qh_grad,ph_grad = [rand(*x.shape,size_rev) for x in (qf,pf,qh,ph)]\n",
    "#    qf_grad*=0\n",
    "#    pf_grad*=0\n",
    "#    qh_grad*=0\n",
    "#    ph_grad*=0\n",
    "    \n",
    "    q0_grad,p0_grad = backprop(qf_grad,pf_grad,qh_grad,ph_grad)\n",
    "\n",
    "    grad1 = fwd_grad(qf_fwd, pf_fwd, qh_fwd, ph_fwd, qf_grad, pf_grad, qh_grad, ph_grad)\n",
    "    grad2 = rev_grad(q0_fwd, p0_fwd, H_fwd, q0_grad, p0_grad, H_rev)\n",
    "    assert np.allclose(grad1,grad2)\n",
    "\n",
    "    if wavetype=='Acoustic':\n",
    "        ρ_ξ = sensitivity_to_ρ(H_rev)\n",
    "        D_ξ = sensitivity_to_D(H_rev)\n",
    "        ρ_fwd,D_fwd = params_fwd\n",
    "        assert np.allclose(gram(ρ_ξ,ρ_fwd.coef), gram(H_rev.iρ.coef,H_fwd.iρ.coef))\n",
    "        assert np.allclose(gram(D_ξ,D_fwd.coef), gram(H_rev.weights.coef,H_fwd.weights.coef))\n",
    "    elif wavetype=='Elastic':\n",
    "        M_ξ = sensitivity_to_M(H_rev)\n",
    "        C_ξ = sensitivity_to_C(H_rev)\n",
    "        M_fwd,C_fwd = params_fwd\n",
    "        assert np.allclose(gram(M_ξ,M_fwd.coef), gram(H_rev.M.coef,H_fwd.M.coef))\n",
    "        assert np.allclose(gram(C_ξ,C_fwd.coef), gram(H_rev.weights.coef,H_fwd.weights.coef))\n",
    "\n",
    "    print(\"passed.\")\n",
    "\n",
    "    \n",
    "\n",
    "def some_check_ad():\n",
    "    check_ad(1,10,'Acoustic')\n",
    "    check_ad(2,7,'Acoustic',order_t=4,bc='Neumann')\n",
    "    check_ad(2,6,'Acoustic',order_t=4,bc='Dirichlet',niter=10)\n",
    "    check_ad(3,5,'Acoustic',order_x=4)\n",
    "    check_ad(1,9,'Elastic',order_t=4)\n",
    "    check_ad(2,6,'Elastic',order_x=4,bc='Dirichlet')\n",
    "    check_ad(2,8,'Elastic',order_x=2)\n",
    "    check_ad(3,5,'Elastic',bc='Neumann') # Uses 6D Voronoi decomposition (may not be available)"
   ]
  },
  {
   "cell_type": "code",
   "execution_count": 12,
   "id": "6622ea1a-048b-42b9-a29e-36da725c813f",
   "metadata": {},
   "outputs": [
    {
     "name": "stdout",
     "output_type": "stream",
     "text": [
      "Testing vdim=1, nX=10, wavetype='Acoustic', order_x=2, order_t=2, niter=4, bc='Neumann', size_fwd=2, size_rev=2, passed.\n",
      "Testing vdim=2, nX=7, wavetype='Acoustic', order_x=2, order_t=4, niter=4, bc='Neumann', size_fwd=2, size_rev=2, passed.\n",
      "Testing vdim=2, nX=6, wavetype='Acoustic', order_x=2, order_t=4, niter=10, bc='Dirichlet', size_fwd=2, size_rev=2, passed.\n",
      "Testing vdim=3, nX=5, wavetype='Acoustic', order_x=4, order_t=2, niter=4, bc='Neumann', size_fwd=2, size_rev=2, passed.\n",
      "Testing vdim=1, nX=9, wavetype='Elastic', order_x=2, order_t=4, niter=4, bc='Neumann', size_fwd=2, size_rev=2, passed.\n",
      "Testing vdim=2, nX=6, wavetype='Elastic', order_x=4, order_t=2, niter=4, bc='Dirichlet', size_fwd=2, size_rev=2, passed.\n",
      "Testing vdim=2, nX=8, wavetype='Elastic', order_x=2, order_t=2, niter=4, bc='Neumann', size_fwd=2, size_rev=2, passed.\n",
      "Testing vdim=3, nX=5, wavetype='Elastic', order_x=2, order_t=2, niter=4, bc='Neumann', size_fwd=2, size_rev=2, passed.\n"
     ]
    }
   ],
   "source": [
    "some_check_ad()"
   ]
  },
  {
   "cell_type": "markdown",
   "id": "3f79c068",
   "metadata": {},
   "source": [
    "## 1. Models construction"
   ]
  },
  {
   "cell_type": "markdown",
   "id": "7f4e3848",
   "metadata": {},
   "source": [
    "### 1.1 Damping layer\n",
    "\n",
    "A more detailed discussion of damping layers, in one dimension, is presented in the notebook on [high order schemes for wave equations](HighOrderWaves.ipynb).\n",
    "\n",
    "Denote by $k$ the wavenumber (or its norm), and by $\\omega$ the wave pusation (thus the velocity is $c=\\omega/k$).\n",
    "For an approximate reduction by a factor $r \\approx 500$, with a parameter $\\alpha \\approx 1.5$ for the moderation of reflections, we need a layer of width and damping value \n",
    "\\begin{align*}\n",
    "    l_\\damp &= \\alpha \\ln r / k, &\n",
    "    \\omega_\\damp &= \\omega/\\alpha. \n",
    "\\end{align*}\n",
    "The layer begins with a smooth ramp so as to minimize reflections.\n",
    "\n",
    "**Relation between $k$ and $\\omega$,** for planar waves.\n",
    "In the acoustic case, in terms of the density $\\rho$ and dual metric $D$, one has \n",
    "$$\n",
    "    |k|_D^2 = \\rho \\omega^2.\n",
    "$$\n",
    "In the elastic case, in terms of the metric $M$ (usually $M = \\Id/\\rho$), the Hooke tensor $C$, one has \n",
    "\\begin{align*}\n",
    "    \\omega^2 v &= M C[\\kw] v, & \n",
    "    \\text{where } C[\\kw]_{il} := \\sum_{jk} C_{ijkl} \\kw^j \\kw^k,\n",
    "\\end{align*}\n",
    "where the choice of eigenvector $v$ corresponds to pressure or shear-waves.\n",
    "\n",
    "**Inhomogeneous domain.**\n",
    "With an oscillating source, we can expect the dominant frequency to be roughly the same over the domain. However, the dominant wavenumber varies depending medium properties, i.e. the waves accelerate and decelerate. The layer should be wide enough to accomodate the fastest waves, with long wavelengths. In the acoustic case, we can use the speed upper estimate $c_{\\max} = \\sqrt{\\lambda_{\\max}(D)/\\rho}$ and thus  $|k|\\geq\\omega/c_{\\max}$.  \n",
    "\n",
    "**Padding the data.**\n",
    "If the medium is given, then it can be relevant to pad the data so as to avoid any perturbation within the domain.\n",
    "\n",
    "<!---\n",
    "def damping(X,ρ,D,k,α,r=500):\n",
    "    \"\"\"\n",
    "    X : domain\n",
    "    ρ,D : acoustic equation parameters (expecting constants)\n",
    "    k : wave number\n",
    "    α : sharpness of transition (sharp : α=1, non-sharp : α >> 1) \n",
    "    r : desired amplitude reduction\n",
    "    \"\"\"\n",
    "    c = np.sqrt(D/ρ) # Wave speed\n",
    "    ωmax = k*c/α # Maximum damping amplitude\n",
    "    L = α*np.log(r)/k # Total equivalent thickness of boundary layer\n",
    "    return ωmax * bump(X,L,L/2)\n",
    "--->"
   ]
  },
  {
   "cell_type": "code",
   "execution_count": 13,
   "id": "3f819514",
   "metadata": {
    "editable": true,
    "slideshow": {
     "slide_type": ""
    },
    "tags": [
     "ExportCode"
    ]
   },
   "outputs": [],
   "source": [
    "def layer(l,X):\n",
    "    \"\"\"\n",
    "    A smooth layer of equivalent width l (total width (3/2) l) \n",
    "    on the boundary of X, with values from 0 to 1.\"\"\"\n",
    "    w = 1.5*l\n",
    "    dist2 = sum( np.maximum(0,w+np.min(x)-x)**2 + np.maximum(0,w+x-np.max(x))**2 for x in X)\n",
    "    return bump(w-np.sqrt(dist2),l,l/2)"
   ]
  },
  {
   "cell_type": "code",
   "execution_count": 14,
   "id": "524b9db5",
   "metadata": {},
   "outputs": [],
   "source": [
    "aX0 = np.linspace(0,1)\n",
    "X = np.meshgrid(aX0,indexing='ij')\n",
    "l = 0.2\n",
    "plt.title(f\"One dimensional boundary layer of equivalent width {l=}\")\n",
    "plt.plot(*X,layer(l,X));"
   ]
  },
  {
   "cell_type": "code",
   "execution_count": 15,
   "id": "73d229db",
   "metadata": {
    "editable": true,
    "slideshow": {
     "slide_type": ""
    },
    "tags": []
   },
   "outputs": [],
   "source": [
    "aX0 = np.linspace(0,2)\n",
    "aX1 = np.linspace(0,1)\n",
    "X = np.meshgrid(aX0,aX1,indexing='ij')\n",
    "l = 0.2\n",
    "plt.title(f\"One dimensional boundary layer of equivalent width {l=}\")\n",
    "plt.contourf(*X,layer(l,X))\n",
    "plt.colorbar()\n",
    "plt.axis('equal');"
   ]
  },
  {
   "cell_type": "markdown",
   "id": "18e63191",
   "metadata": {},
   "source": [
    "### 1.2 A complex synthetic medium\n",
    "\n",
    "We construct some simple parametric models, with a fully anisotropic structure.\n",
    "Our domain is $[-1,1]\\times [0,1]$.\n",
    "\n",
    "**Existing models.**\n",
    "Classical models for wave propagation and seismologic reconstruction include the Marmousi model, and the BP 2007 TTI benchmark, as well as [a few others provided as open data by the SEG](https://wiki.seg.org/wiki/Open_data). However, these models are often incomplete in some regards w.r.t the physical properties description : the Marmousi model is isotropic, or at best VTI in some variants, and the BP2007 model lacks the model density and shear velocity. On the other hand, these models are also too big and complex for our illustration purposes."
   ]
  },
  {
   "cell_type": "markdown",
   "id": "4fbbec82",
   "metadata": {},
   "source": [
    "**Layers of material.**\n",
    "Let us define a VTI medium composed of a few layers of material, with varying thickness.\n",
    "\n",
    "<!---\n",
    "def LayeredMedium(X,Z, heights, materials, δ):\n",
    "    height_fun = UniformGridInterpolation(heights[0][None],heights[1:],order=2)\n",
    "    height_val = height_fun(X[None])\n",
    "    heav = heaviside( (Z[None,None,:]-height_val[:,:,None])/δ )\n",
    "    partition = ad.array((heav[0],*[(1-heav[i])*heav[i+1] for i in range(len(heav)-1)],1-heav[-1]))\n",
    "    partition /= partition.sum(axis=0) # Ensure partition of unity\n",
    "    C = sum(ϕi * Ci[:,:,None,None] for ϕi,(Ci,_) in zip(partition,materials))\n",
    "    ρ = sum(ϕi * ρi for ϕi,(_,ρi) in zip(partition,materials))\n",
    "    return C,ρ\n",
    "--->"
   ]
  },
  {
   "cell_type": "code",
   "execution_count": 16,
   "id": "1cb17956",
   "metadata": {
    "editable": true,
    "slideshow": {
     "slide_type": ""
    },
    "tags": []
   },
   "outputs": [],
   "source": [
    "nX = 100; dx = 1/nX\n",
    "aX = np.linspace(-1,1,2*nX+1,endpoint=True) # Horizontal axis\n",
    "aZ = np.linspace(0,1,nX+1,endpoint=True) # Vertical axis\n",
    "X = np.array(np.meshgrid(aX,aZ,indexing='ij')) # Full coordinate system\n",
    "shape = X.shape[1:] # Domain shape"
   ]
  },
  {
   "cell_type": "code",
   "execution_count": 17,
   "id": "4a4c3734-9f3a-4afc-8e3e-aa143e05ea9c",
   "metadata": {
    "editable": true,
    "slideshow": {
     "slide_type": ""
    },
    "tags": [
     "ExportCode"
    ]
   },
   "outputs": [],
   "source": [
    "# Interpolation data\n",
    "layer_heights = xp.array([ \n",
    "    [0.8,0.7,0.7,0.75,0.8],  # Height of top layer\n",
    "    [0.5,0.5,0.55,0.6,0.6],  # Height of middle layer\n",
    "    [0.3,0.2,0.35,0.45,0.35] # Height of bottom layer\n",
    "])\n",
    "layer_heights_X = np.linspace(-1,1,layer_heights.shape[1],endpoint=True)\n",
    "\n",
    "# Thickness of the transition\n",
    "layer_δ = 0.05"
   ]
  },
  {
   "cell_type": "markdown",
   "id": "d6a9716d",
   "metadata": {},
   "source": [
    "Let us pick some arbitrary materials. "
   ]
  },
  {
   "cell_type": "code",
   "execution_count": 18,
   "id": "1d1b7584",
   "metadata": {
    "editable": true,
    "slideshow": {
     "slide_type": ""
    },
    "tags": [
     "ExportCode"
    ]
   },
   "outputs": [],
   "source": [
    "# Materials for the acoustic wave\n",
    "layer_ρ = np.array((1.5,1,2,2.5))\n",
    "layer_D = np.array(([[1**2,0],[0,1**2]],[[2**2,0],[0,1**2]],[[3**2,0],[0,2**2]],[[2**2,0],[0,1.5**2]]))\n",
    "\n",
    "# Materials for the elastic wave\n",
    "materials = [Hooke.from_ThomsenElastic(Thomsen.ThomsenData[key]) for key in \n",
    "             (\"Pierre shale - 1\", \"Mesaverde (4946) immature sandstone\", \n",
    "              \"Mesaverde (5501) clayshale\", \"Mesaverde sandstone (1958)\") ]\n",
    "layer_C = [hk.extract_xz().hooke for (hk,ρ) in materials]\n",
    "layer_C = np.array(layer_C)/np.max(layer_C) # normalization"
   ]
  },
  {
   "cell_type": "markdown",
   "id": "6fbe8be1",
   "metadata": {},
   "source": [
    "The materials are placed in between the boundaries defined by the heights."
   ]
  },
  {
   "cell_type": "code",
   "execution_count": 19,
   "id": "7964f223",
   "metadata": {},
   "outputs": [],
   "source": [
    "height_fun = UniformGridInterpolation(layer_heights_X[None],layer_heights,order=2)\n",
    "height_val = height_fun(aX[None]).T\n",
    "plt.title(\"Boudaries between layers\")\n",
    "plt.plot(aX, height_val);\n",
    "plt.axis('equal');"
   ]
  },
  {
   "cell_type": "code",
   "execution_count": 20,
   "id": "30f5f6c8",
   "metadata": {
    "editable": true,
    "slideshow": {
     "slide_type": ""
    },
    "tags": [
     "ExportCode"
    ]
   },
   "outputs": [],
   "source": [
    "def LayeredMedium(X,heights,δ, ρs,Ds):\n",
    "    shape = X.shape[1:]\n",
    "    heights_X = np.linspace(-1,1,heights.shape[1],endpoint=True)\n",
    "    height_fun = UniformGridInterpolation(heights_X[None],heights,order=2)\n",
    "    height_val = height_fun(X[0].reshape((-1,*shape))).reshape((len(heights),*shape))\n",
    "    heav = heaviside( (X[1,None]-height_val)/δ )\n",
    "    partition = ad.array((heav[0],*[(1-heav[i])*heav[i+1] for i in range(len(heav)-1)],1-heav[-1]))\n",
    "    partition /= partition.sum(axis=0) # Ensure partition of unity\n",
    "    ρ_ = sum(ϕ * np.expand_dims(ρ,axis=(-2,-1)) for ϕ,ρ in zip(partition,ρs))\n",
    "    D_ = sum(ϕ * np.expand_dims(D,axis=(-2,-1)) for ϕ,D in zip(partition,Ds))\n",
    "    return ρ_,D_"
   ]
  },
  {
   "cell_type": "code",
   "execution_count": 21,
   "id": "65ce24bc",
   "metadata": {},
   "outputs": [],
   "source": [
    "ρ,D = LayeredMedium(X,layer_heights,layer_δ, layer_ρ,layer_D)"
   ]
  },
  {
   "cell_type": "code",
   "execution_count": 22,
   "id": "cb272ec6",
   "metadata": {},
   "outputs": [],
   "source": [
    "plt.contourf(*X,ρ,100)\n",
    "plt.axis('equal')\n",
    "plt.colorbar(); "
   ]
  },
  {
   "cell_type": "markdown",
   "id": "7d9813c2",
   "metadata": {},
   "source": [
    "**Diffeomorphic transformation**\n",
    "\n",
    "We deform the layers, and rotate their elements. However, we do *not* apply the transformation in a way that leaves the wave PDE invariant. See the notebook on [high order waves](HighOrderWaves.ipynb) for that purpose."
   ]
  },
  {
   "cell_type": "code",
   "execution_count": 23,
   "id": "4cd9623f",
   "metadata": {
    "editable": true,
    "slideshow": {
     "slide_type": ""
    },
    "tags": [
     "ExportCode"
    ]
   },
   "outputs": [],
   "source": [
    "def decomp_OS(M):\n",
    "    \"\"\"\n",
    "    Compute the orthogonal x symmetric decomposition \n",
    "    of a 2x2 matrix, in a way that is compatible with AD.\n",
    "    \"\"\"\n",
    "    # Appears to be quite slow...\n",
    "    S2 = lp.dot_AA(lp.transpose(M),M)\n",
    "    a,b,c = S2[0,0],S2[0,1],S2[1,1]\n",
    "    h,d = (a+c)/2, np.sqrt(((a-c)/2)**2+b**2)\n",
    "    λ=h+d; μ = h-d # Eigenvalues of S^2\n",
    "    eye = np.eye(2).reshape((2,2)+(1,)*a.ndim)\n",
    "    S = (S2+np.sqrt(λ*μ)*eye)/(np.sqrt(λ)+np.sqrt(μ)) # Square root of matrix\n",
    "    iS = lp.inverse(S,avoid_np_linalg_inv=True) # np.linalg.inv is incredibly slow\n",
    "    return lp.dot_AA(M,iS),S"
   ]
  },
  {
   "cell_type": "code",
   "execution_count": 24,
   "id": "0bcd0b32",
   "metadata": {
    "editable": true,
    "slideshow": {
     "slide_type": ""
    },
    "tags": [
     "ExportCode"
    ]
   },
   "outputs": [],
   "source": [
    "def grad(arr,X):\n",
    "    \"\"\"Numerical gradient. Assumes X is regularly spaced.\"\"\"\n",
    "    # There is a similar functionality in numpy, but it does not work with AD classes\n",
    "    vdim = len(X)\n",
    "    g = []\n",
    "    for i in range(vdim):\n",
    "        dx = X[(i,*(1,)*vdim)]-X[(i,*(0,)*vdim)]\n",
    "        a = np.moveaxis(arr,i-vdim,0)\n",
    "        da = np.concatenate(((a[1]-a[0])[None],(a[2:]-a[:-2])/2,(a[-1]-a[-2])[None]),axis=0)/dx\n",
    "        g.append(np.moveaxis(da,0,i-vdim))\n",
    "    return ad.array(g)                 "
   ]
  },
  {
   "cell_type": "code",
   "execution_count": 25,
   "id": "970fafaf",
   "metadata": {
    "editable": true,
    "slideshow": {
     "slide_type": ""
    },
    "tags": [
     "ExportCode"
    ]
   },
   "outputs": [],
   "source": [
    "def DeformedLayeredMedium(ϕ,X,*args,grad_ad=True,**kwargs):\n",
    "    \"\"\"\n",
    "    Transforms a layered medium according to provided diffeomorphism ϕ.\n",
    "    (Material is rotated, but not stretched.)\n",
    "    \"\"\"\n",
    "    vdim = len(X)\n",
    "    if grad_ad: # Use automatic differentiation to compute grad ϕ\n",
    "        X_ad = ad.Dense.identity(constant=X,shape_free=(vdim,))\n",
    "        ϕ_ad = ϕ(X_ad)\n",
    "        ϕ_val = ϕ_ad.value\n",
    "        ϕ_grad = ϕ_ad.gradient()\n",
    "    else: # \n",
    "        ϕ_val = ϕ(X)\n",
    "        ϕ_grad = grad(ϕ_val,X)\n",
    "        \n",
    "    O,_ = decomp_OS(lp.transpose(ϕ_grad))\n",
    "    ρ,C = LayeredMedium(ϕ_val,*args,**kwargs)\n",
    "    if len(C)==vdim: C = Riemann(C).inv_transform(O).m\n",
    "    else: C = Hooke(C).inv_transform(O).hooke\n",
    "    return ρ,C"
   ]
  },
  {
   "cell_type": "code",
   "execution_count": 26,
   "id": "af347d9d",
   "metadata": {
    "editable": true,
    "slideshow": {
     "slide_type": ""
    },
    "tags": [
     "ExportCode"
    ]
   },
   "outputs": [],
   "source": [
    "def TopographicTransform(heights):\n",
    "    \"\"\"Vertical shift, interpolated according to data\"\"\"\n",
    "    heights_X = np.linspace(-1,1,len(heights),endpoint=True)\n",
    "    height_fun = UniformGridInterpolation(heights_X[None],heights,order=2)\n",
    "    def ϕ(X): \n",
    "        X = ad.array(X)\n",
    "        return ad.array((X[0],X[1]-height_fun(X[None,0],interior=True)))\n",
    "    return ϕ"
   ]
  },
  {
   "cell_type": "code",
   "execution_count": 27,
   "id": "77c8f001",
   "metadata": {
    "editable": true,
    "slideshow": {
     "slide_type": ""
    },
    "tags": [
     "ExportCode"
    ]
   },
   "outputs": [],
   "source": [
    "topo_heights = 0.7*np.array([0, 0.3, 0.1, 0, -0.2, -0.1]) # vertical shifts to interpolate"
   ]
  },
  {
   "cell_type": "code",
   "execution_count": 28,
   "id": "eb7dd77a",
   "metadata": {},
   "outputs": [],
   "source": [
    "ϕ = TopographicTransform(topo_heights)"
   ]
  },
  {
   "cell_type": "code",
   "execution_count": 29,
   "id": "7087ea09",
   "metadata": {},
   "outputs": [],
   "source": [
    "plt.plot(aX,-ϕ([aX,np.zeros_like(aX)])[1])\n",
    "plt.axis('equal');"
   ]
  },
  {
   "cell_type": "code",
   "execution_count": 30,
   "id": "4d29d6df",
   "metadata": {},
   "outputs": [],
   "source": [
    "layer_medium = DeformedLayeredMedium(ϕ,X,layer_heights,layer_δ, layer_ρ,layer_D)"
   ]
  },
  {
   "cell_type": "code",
   "execution_count": 31,
   "id": "45a25e50",
   "metadata": {},
   "outputs": [],
   "source": [
    "ρ,D = layer_medium"
   ]
  },
  {
   "cell_type": "code",
   "execution_count": 32,
   "id": "3bf2cedc",
   "metadata": {},
   "outputs": [],
   "source": [
    "plt.title(\"Density of deformed medium\")\n",
    "plt.contourf(*X,ρ,100)\n",
    "plt.axis('equal');"
   ]
  },
  {
   "cell_type": "markdown",
   "id": "f0f100ad",
   "metadata": {},
   "source": [
    "The (dual-)metric is now tilted and follows the oscillations of the topography."
   ]
  },
  {
   "cell_type": "code",
   "execution_count": 33,
   "id": "7e6eff9c",
   "metadata": {},
   "outputs": [],
   "source": [
    "plt.title(\"Anisotropy of deformed medium\")\n",
    "Tissot(Riemann(D).dual(),X,subsampling=10)\n",
    "plt.axis('equal');"
   ]
  },
  {
   "cell_type": "markdown",
   "id": "f09f52c2",
   "metadata": {},
   "source": [
    "**Inclusion.**\n",
    "Inspired by e.g. salt domes in the BP 2007 benchmark, we add an inclusion of another material.\n",
    "\n",
    "For that purpose, we average the two media, with a smooth but quickly varying weight. "
   ]
  },
  {
   "cell_type": "code",
   "execution_count": 34,
   "id": "4de8a7d8",
   "metadata": {
    "editable": true,
    "slideshow": {
     "slide_type": ""
    },
    "tags": [
     "ExportCode"
    ]
   },
   "outputs": [],
   "source": [
    "def inclusion(support0,medium0,medium1):\n",
    "    \"\"\"\n",
    "    Weighted average of two media,\n",
    "    using support0 as the weight function of medium0\n",
    "    \"\"\"\n",
    "    ρ0,D0 = medium0\n",
    "    ρ1,D1 = medium1\n",
    "    support1 = 1-support0\n",
    "    ρ0,D0,ρ1,D1 = [fd.as_field(e,support0.shape) for e in (ρ0,D0,ρ1,D1)]\n",
    "    return ρ0*support0+ρ1*support1, D0*support0+D1*support1   "
   ]
  },
  {
   "cell_type": "code",
   "execution_count": 35,
   "id": "3dd8e0e7",
   "metadata": {
    "editable": true,
    "slideshow": {
     "slide_type": ""
    },
    "tags": [
     "ExportCode"
    ]
   },
   "outputs": [],
   "source": [
    "inc_ρ = 1.2\n",
    "inc_D = np.eye(2)\n",
    "inc_radius = 0.25\n",
    "inc_center = [-0.5,0.3]"
   ]
  },
  {
   "cell_type": "code",
   "execution_count": 36,
   "id": "b0d054d3-6906-4041-90f9-83612d1e1ae8",
   "metadata": {
    "editable": true,
    "slideshow": {
     "slide_type": ""
    },
    "tags": []
   },
   "outputs": [],
   "source": [
    "inc_support = heaviside( (inc_radius - norm( X-fd.as_field(inc_center,shape),axis=0))/layer_δ)\n",
    "inc_layer_medium = inclusion(inc_support,(inc_ρ,inc_D),layer_medium)"
   ]
  },
  {
   "cell_type": "code",
   "execution_count": 37,
   "id": "c70d012e",
   "metadata": {},
   "outputs": [],
   "source": [
    "ρ,D = inc_layer_medium\n",
    "plt.title(\"Inclusion of another material (left disk)\")\n",
    "plt.contourf(*X,ρ,100)\n",
    "plt.axis('equal');"
   ]
  },
  {
   "cell_type": "markdown",
   "id": "b5ebfc6e",
   "metadata": {},
   "source": [
    "**Geological faults.**\n",
    "Shifts happen. \n",
    "\n",
    "We average the medium with a shifted version of itself, using a support function which quickly varies accross a line."
   ]
  },
  {
   "cell_type": "code",
   "execution_count": 38,
   "id": "831c6c36",
   "metadata": {
    "editable": true,
    "slideshow": {
     "slide_type": ""
    },
    "tags": [
     "ExportCode"
    ]
   },
   "outputs": [],
   "source": [
    "shift_θ = π/3\n",
    "shift_amplitude = 0.25\n",
    "shift_origin    = np.array([0.4,0.6])"
   ]
  },
  {
   "cell_type": "code",
   "execution_count": 39,
   "id": "0c43ed13-631a-4fbc-bb0a-62b103d74811",
   "metadata": {
    "editable": true,
    "slideshow": {
     "slide_type": ""
    },
    "tags": []
   },
   "outputs": [],
   "source": [
    "s_o,s_d = [fd.as_field(e,X.shape[1:]) for e in (shift_origin,(np.cos(shift_θ),np.sin(shift_θ)))]\n",
    "shift_medium = DeformedLayeredMedium(ϕ,X-s_d*shift_amplitude,layer_heights,layer_δ,layer_ρ,layer_D)\n",
    "shift_support = heaviside(lp.det((X-s_o,s_d))/layer_δ)\n",
    "final_medium = inclusion(shift_support,shift_medium,inc_layer_medium)"
   ]
  },
  {
   "cell_type": "code",
   "execution_count": 40,
   "id": "a5d6a136",
   "metadata": {},
   "outputs": [],
   "source": [
    "ρ,D = final_medium"
   ]
  },
  {
   "cell_type": "code",
   "execution_count": 41,
   "id": "ce25dd32",
   "metadata": {},
   "outputs": [],
   "source": [
    "plt.title(\"Final medium, with layers, inclusion, and fault.\") \n",
    "plt.contourf(*X,ρ,100)\n",
    "plt.axis('equal');"
   ]
  },
  {
   "cell_type": "markdown",
   "id": "69e8623c",
   "metadata": {},
   "source": [
    "### 1.3 Medium differentiation\n",
    "\n",
    "We construct the above synthetic medium using simple and smooth (possibly on a short scale) primitives.\n",
    "This makes them amenable to automatic differentiation, and we can thus differentiate the medium w.r.t the parameters. \n",
    "\n",
    "**Anisotropic tomography.**\n",
    "Reconstructing a complete anisotropic medium from recordings on the boundary is likely impossible in general. \n",
    "Indeed, tomographic methods typically reconstruct an isotropic speed, or a density, but definitely not all 21 independent coefficients pointwise of a fully general Hooke tensor (21 in 3D, 6 in 2D).\n",
    "\n",
    "However, if some prior knowledge is available, such as a parametrization of the model by a few parameters, then the identification of some anisotropy parameters may be feasible. Our objective is to find which (if any) of the parameters of the above parametrization can be reconstructed. For that purpose, a first step is to differentiate the model w.r.t the parameters.\n",
    "\n",
    "**Performance of automatic differentiation.**\n",
    "Unfortunately, the AD routines used in this subsection are not very computationally efficient, as they are implemented in pure Python (first-order forward AD). However, they should not be a critical part of the code. If needed, there is a lot of room for improvement, and some specialized software may also be leveraged."
   ]
  },
  {
   "cell_type": "code",
   "execution_count": 42,
   "id": "c4394d5f",
   "metadata": {
    "editable": true,
    "slideshow": {
     "slide_type": ""
    },
    "tags": [
     "ExportCode"
    ]
   },
   "outputs": [],
   "source": [
    "def make_medium(X,\n",
    "    # Layered medium\n",
    "    layer_heights = layer_heights,\n",
    "    layer_ρM = layer_ρ, # Acoustic : ρ. Elastic : M.\n",
    "    layer_DC = layer_D, # Acoustic D. Elastic C. \n",
    "    layer_δ = layer_δ,\n",
    "\n",
    "    # Deformation\n",
    "    topo_heights = topo_heights,\n",
    "    \n",
    "    # Inclusion\n",
    "    inc_ρM = inc_ρ,\n",
    "    inc_DC = inc_D,\n",
    "    inc_radius = inc_radius,\n",
    "    inc_center = inc_center,\n",
    "    \n",
    "    # Shift\n",
    "    shift_θ = shift_θ,\n",
    "    shift_amplitude = shift_amplitude,\n",
    "    shift_origin = shift_origin,\n",
    "    grad_ad=True\n",
    "):\n",
    "    shape = X.shape[1:]\n",
    "    ϕ = TopographicTransform(topo_heights)\n",
    "    layer_medium = DeformedLayeredMedium(ϕ,X,layer_heights,layer_δ,layer_ρM,layer_DC,grad_ad=grad_ad)\n",
    "    \n",
    "    inc_support = heaviside( (inc_radius - norm( X-fd.as_field(inc_center,shape),axis=0))/layer_δ)\n",
    "    inc_layer_medium = inclusion(inc_support,(inc_ρM,inc_DC),layer_medium)\n",
    "\n",
    "    s_o,s_d = [fd.as_field(e,shape) for e in (shift_origin,(np.cos(shift_θ),np.sin(shift_θ)))]\n",
    "    shift_medium = DeformedLayeredMedium(ϕ,X-s_d*shift_amplitude,layer_heights,\n",
    "                                         layer_δ,layer_ρM,layer_DC,grad_ad=grad_ad)\n",
    "    shift_support = heaviside(lp.det((X-s_o,s_d))/layer_δ)\n",
    "    \n",
    "    final_medium = inclusion(shift_support,shift_medium,inc_layer_medium)\n",
    "    return final_medium"
   ]
  },
  {
   "cell_type": "markdown",
   "id": "4a54f85c",
   "metadata": {},
   "source": [
    "Since the model is parametrized, we can easily generate variants, with e.g. blurrier transitions, a smaller inclusion, a fault with a different orientation. "
   ]
  },
  {
   "cell_type": "code",
   "execution_count": 43,
   "id": "05137ee5",
   "metadata": {},
   "outputs": [],
   "source": [
    "ρ,D = make_medium(X,layer_δ=0.1, inc_radius=0.15, shift_θ=2*π/3, shift_amplitude=-0.2 )"
   ]
  },
  {
   "cell_type": "code",
   "execution_count": 44,
   "id": "af50272f",
   "metadata": {},
   "outputs": [],
   "source": [
    "plt.figure(figsize=[12,4])\n",
    "plt.subplot(1,2,1); plt.axis('equal')\n",
    "plt.contourf(*X,ρ,100)\n",
    "plt.subplot(1,2,2); plt.axis('equal')\n",
    "Tissot(Riemann(D).dual(),X,subsampling=10);"
   ]
  },
  {
   "cell_type": "markdown",
   "id": "56018830",
   "metadata": {},
   "source": [
    "We can also differentiate the model w.r.t any parameters."
   ]
  },
  {
   "cell_type": "code",
   "execution_count": 45,
   "id": "f6b2e6fb",
   "metadata": {},
   "outputs": [],
   "source": [
    "layer_ρ_ad, inc_radius_ad = ad.Dense.register((layer_ρ, inc_radius))\n",
    "ρ_ad,D_ad = make_medium(X,layer_ρM=layer_ρ_ad, inc_radius=inc_radius_ad)"
   ]
  },
  {
   "cell_type": "code",
   "execution_count": 46,
   "id": "54808c05",
   "metadata": {},
   "outputs": [],
   "source": [
    "plt.figure(figsize=[12,3])\n",
    "plt.subplot(1,2,1); plt.axis('equal')\n",
    "plt.title(\"Derivative of the model density w.r.t layer_ρ[1]\")\n",
    "plt.contourf(*X,ρ_ad.gradient(1),100)\n",
    "plt.subplot(1,2,2); plt.axis('equal')\n",
    "plt.title(\"Derivative of the model density w.r.t inc_radius\")\n",
    "plt.contourf(*X,ρ_ad.gradient(4),100);"
   ]
  },
  {
   "cell_type": "markdown",
   "id": "2e51b846",
   "metadata": {},
   "source": [
    "There is one caveat though : we cannot use AD to differentiate the transformation $\\phi$ if it takes arguments that also include AD. (This issue may be solved with proper typing, as in C++, but in Python it is hell.)\n",
    "In that case, we approximate the gradient of $\\phi$ using finite differences, with the option `grad_ad=False'."
   ]
  },
  {
   "cell_type": "code",
   "execution_count": 47,
   "id": "3a4fcbf4",
   "metadata": {},
   "outputs": [],
   "source": [
    "topo_heights_ad, shift_amplitude_ad = ad.Dense.register((topo_heights, shift_amplitude))\n",
    "ρ_ad,D_ad = make_medium(X,topo_heights=topo_heights_ad, shift_amplitude=shift_amplitude_ad, grad_ad=False )"
   ]
  },
  {
   "cell_type": "code",
   "execution_count": 48,
   "id": "9ccc94fb",
   "metadata": {},
   "outputs": [],
   "source": [
    "plt.figure(figsize=[12,3])\n",
    "plt.subplot(1,2,1); plt.axis('equal')\n",
    "plt.title(\"Derivative of density w.r.t topo_heights[1]\")\n",
    "plt.contourf(*X,ρ_ad.gradient(1),100)\n",
    "plt.subplot(1,2,2); plt.axis('equal')\n",
    "plt.title(\"Derivative of the model density w.r.t shift_amplitude\")\n",
    "plt.contourf(*X,ρ_ad.gradient(6),100);"
   ]
  },
  {
   "cell_type": "markdown",
   "id": "1e3bfcdb",
   "metadata": {},
   "source": [
    "## 2. Acoustic wave equation\n",
    "\n"
   ]
  },
  {
   "cell_type": "markdown",
   "id": "a446b58f",
   "metadata": {},
   "source": [
    "### 2.1 Homogeneous example\n",
    "\n",
    "We consider a homogeneous domain, i.e. the density $\\rho$ and the metric $D$ are constant, and illustrate the effect of the damping layer."
   ]
  },
  {
   "cell_type": "code",
   "execution_count": 49,
   "id": "d76de62d",
   "metadata": {},
   "outputs": [],
   "source": [
    "dom,X,dx = make_domain(3,vdim=2)\n",
    "ρ = 1.\n",
    "#D = np.eye(2)\n",
    "D = Riemann.from_diagonal((1,0.5)).rotate_by(π/6).m\n",
    "q0 = churp(X)\n",
    "p0 = np.zeros_like(q0)\n",
    "\n",
    "dt_max = dx # Speed = 1\n",
    "T = 1\n",
    "niter = (int)(3*T/dt_max); dt = T/niter"
   ]
  },
  {
   "cell_type": "markdown",
   "id": "3572ca39",
   "metadata": {},
   "source": [
    "**Propagation within the domain interior.**\n",
    "Before considering boundary conditions, let us we have a look at the schemes of different accuracy orders in space and time, see the notebook on [high order schemes for wave equations](HighOrderWaves.ipynb).\n",
    "\n",
    "Higher order schemes in space, `order_x=4`, lead to a more well rounded front but also to small spurious oscillations."
   ]
  },
  {
   "cell_type": "code",
   "execution_count": 50,
   "id": "48093a48",
   "metadata": {},
   "outputs": [],
   "source": [
    "# The oscillations are small in amplitude, around the zero value, which is used in levelsets\n",
    "nlevels = 100 # Using 100 or less contourf levels reveals the oscillations\n",
    "# nlevels = 1000 # Using 1000 or more contourf levels hides the oscillations\n",
    "\n",
    "plt.figure(figsize=[10,10]); iplot=1\n",
    "for order_x in (2,4):\n",
    "    H = AcousticHamiltonian(ρ,D,dx,shape_dom=dom.shape,order_x=order_x)\n",
    "    for order_t in (2,4):\n",
    "        q1,p1 = H.Sympl_p(q0,p0,dt,niter,order=order_t)\n",
    "        plt.subplot(2,2,iplot); iplot+=1\n",
    "        plt.title(f\"{order_x=} {order_t=}\")\n",
    "        plt.contourf(*X,q1,nlevels,cmap='Greys')\n",
    "        plt.axis('equal')"
   ]
  },
  {
   "cell_type": "markdown",
   "id": "0ed36d32",
   "metadata": {},
   "source": [
    "In this example, the wavelength is approximately $l=0.5$, and the speed is one.\n",
    "\n",
    "<!---\n",
    "l = 0.5 # As seen from above\n",
    "α = 1.5 # Typical\n",
    "r = 500 # Desired reduction\n",
    "c = 1 # Wave speed\n",
    "\n",
    "k = 2*π/l # Wave number\n",
    "ω = c*k # Pulsation\n",
    "l_damp = α*np.log(r)/k # Damping width\n",
    "ω_damp = ω/α # Damping strength\n",
    "damp_p = ω_damp * layer(l_damp,X)\n",
    "--->"
   ]
  },
  {
   "cell_type": "code",
   "execution_count": 51,
   "id": "f392c3ed",
   "metadata": {
    "editable": true,
    "slideshow": {
     "slide_type": ""
    },
    "tags": [
     "ExportCode"
    ]
   },
   "outputs": [],
   "source": [
    "def damping_layer(X,k=None,ω=None,α=2,r=500,c=None,l=None):\n",
    "    \"\"\"\n",
    "    Produce a damping (absorbing) layer on the boundary of X.\n",
    "    - k : wave number. (Alternatively, provide the wavelength l.)\n",
    "    - ω : pulsation of the signal (Alternatively, provide the speed c.)\n",
    "    - α : relative thickness of the boundary layer transition, typical 1.5 <= α <= 3\n",
    "    - r : desired amplitude reduction\n",
    "    \"\"\"\n",
    "    if k is None: k=2*π/l # Wave number, inferred from wavelength\n",
    "    if ω is None: ω = c*k # Pulsation, inferred from speed and wave number\n",
    "    \n",
    "    l_damp = α*np.log(r)/k # Damping width\n",
    "    ω_damp = ω/α # Damping strength\n",
    "    return ω_damp * layer(l_damp,X)"
   ]
  },
  {
   "cell_type": "code",
   "execution_count": 52,
   "id": "51dfba9d",
   "metadata": {
    "editable": true,
    "slideshow": {
     "slide_type": ""
    },
    "tags": []
   },
   "outputs": [],
   "source": [
    "damp_p = damping_layer(X,l=0.5,c=1,α=1.5)"
   ]
  },
  {
   "cell_type": "code",
   "execution_count": 53,
   "id": "59f41b2e",
   "metadata": {},
   "outputs": [],
   "source": [
    "plt.title(\"Damping layer\")\n",
    "plt.contourf(*X,damp_p,100)\n",
    "plt.axis('equal'); plt.colorbar();"
   ]
  },
  {
   "cell_type": "markdown",
   "id": "fcc7aa63",
   "metadata": {},
   "source": [
    "The wave is attenuated as it goes through the damping layer. The choice of periodic or Neumann boundary condition has little incidence here.\n",
    "\n",
    "*Warning :* current implementation of Neumann boundary conditions is only approximate, especially with anisotropic tensors."
   ]
  },
  {
   "cell_type": "code",
   "execution_count": 54,
   "id": "6eb64388",
   "metadata": {},
   "outputs": [
    {
     "data": {
      "text/plain": [
       "dict_keys(['Periodic', 'Neumann', 'Dirichlet'])"
      ]
     },
     "execution_count": 54,
     "metadata": {},
     "output_type": "execute_result"
    }
   ],
   "source": [
    "# Codes for the different boundary conditions (implemented by padding values)\n",
    "aw.bc_to_padding.keys()"
   ]
  },
  {
   "cell_type": "code",
   "execution_count": 55,
   "id": "95285a4a",
   "metadata": {
    "editable": true,
    "slideshow": {
     "slide_type": ""
    },
    "tags": []
   },
   "outputs": [],
   "source": [
    "plt.figure(figsize=[10,10])\n",
    "T=1\n",
    "niter = (int)(3*T/dt_max); dt = T/niter\n",
    "bc = 'Neumann' # Change between periodic and Neumann BC \n",
    "\n",
    "H = AcousticHamiltonian(ρ,D,dx,shape_dom=dom.shape,order_x=order_x,bc=bc) \n",
    "H.damp_p = damp_p # Try to remove it !\n",
    "\n",
    "q1,p1 = q0,p0\n",
    "levels = np.linspace(-15,15)\n",
    "for i in range(4):\n",
    "    q1,p1 = H.Sympl_p(q1,p1,dt,niter,order=2) \n",
    "    q1,p1 = H.Damp_qp(q1,p1,dt) # Damping steps are interleaved, adding a final one for consistency\n",
    "    plt.subplot(2,2,1+i)\n",
    "    plt.title(f\"Time {(i+1)*T:.2g}\")\n",
    "    plt.contourf(*X,q1,levels,cmap='Greys')"
   ]
  },
  {
   "cell_type": "markdown",
   "id": "78a6d5be",
   "metadata": {},
   "source": [
    "### 2.2 Complex medium\n",
    "\n",
    "We use the medium constructed in the first part of the notebook, and show how to extract seismograms.\n",
    "\n",
    "<!---\n",
    "We use the classical BP 2007 TTI test case, but replace the TTI norm with an elliptic approximation. \n",
    "--->"
   ]
  },
  {
   "cell_type": "code",
   "execution_count": 56,
   "id": "17cb3bd1",
   "metadata": {
    "editable": true,
    "slideshow": {
     "slide_type": ""
    },
    "tags": []
   },
   "outputs": [],
   "source": [
    "nX = 150; dx = 1/nX\n",
    "aX = np.linspace(-1,1,2*nX+1,endpoint=True) # Horizontal axis\n",
    "aZ = np.linspace(0,1,nX+1,endpoint=True) # Vertical axis\n",
    "X = np.array(np.meshgrid(aX,aZ,indexing='ij')) # Full coordinate system\n",
    "order_x=2; order_t=2;\n",
    "bc='Neumann'\n",
    "\n",
    "σ = 2.5*dx # Approximate radius of initial impulsion\n",
    "x0 = (0.,0.7)\n",
    "q0 = churp(X,σ,x0)\n",
    "p0 = np.zeros_like(q0)\n",
    "rec_height = 0.75 # We'll record the signal at this depth"
   ]
  },
  {
   "cell_type": "code",
   "execution_count": 57,
   "id": "9bcc6d09",
   "metadata": {
    "editable": true,
    "slideshow": {
     "slide_type": ""
    },
    "tags": []
   },
   "outputs": [],
   "source": [
    "ρ,D = make_medium(X)"
   ]
  },
  {
   "cell_type": "code",
   "execution_count": 61,
   "id": "e223be70",
   "metadata": {
    "editable": true,
    "slideshow": {
     "slide_type": ""
    },
    "tags": []
   },
   "outputs": [],
   "source": [
    "H = AcousticHamiltonian(ρ,D,dx,order_x=order_x,bc=bc)\n",
    "dt_max = H.dt_max()"
   ]
  },
  {
   "cell_type": "markdown",
   "id": "5d0bfbc3",
   "metadata": {
    "editable": true,
    "slideshow": {
     "slide_type": ""
    },
    "tags": []
   },
   "source": [
    "We use a damping layer all around. Physically relevant boundary conditions, such as Neumann boundary conditions on part of the domain in the case of free surface, are not implemented presently. \n",
    "Note that the damping layer construction assumed constant coefficients. For best efficiency, it should be adapted in the case of complex media as here."
   ]
  },
  {
   "cell_type": "code",
   "execution_count": 62,
   "id": "658a91c6",
   "metadata": {
    "editable": true,
    "slideshow": {
     "slide_type": ""
    },
    "tags": []
   },
   "outputs": [],
   "source": [
    "H.damp_p = damping_layer(X,c=2*dx/dt_max,l=5*σ)"
   ]
  },
  {
   "cell_type": "code",
   "execution_count": 63,
   "id": "f4decab2",
   "metadata": {
    "editable": true,
    "slideshow": {
     "slide_type": ""
    },
    "tags": []
   },
   "outputs": [],
   "source": [
    "plt.figure(figsize=[12,3])\n",
    "plt.subplot(1,2,1); plt.title(\"Medium density, source, recording position\")\n",
    "plt.contourf(*X,ρ)\n",
    "plt.scatter(*x0,color='red')\n",
    "plt.axhline(rec_height)\n",
    "plt.axis('equal');\n",
    "plt.subplot(1,2,2); plt.title(\"Damping layer\")\n",
    "plt.contourf(*X,H.damp_p);\n",
    "plt.axis('equal');"
   ]
  },
  {
   "cell_type": "code",
   "execution_count": 64,
   "id": "a39560c2",
   "metadata": {
    "editable": true,
    "slideshow": {
     "slide_type": ""
    },
    "tags": []
   },
   "outputs": [],
   "source": [
    "plt.figure(figsize=[12,6])\n",
    "dt = H.dt_max(order_t)\n",
    "niter=50\n",
    "q1,p1 = q0,p0\n",
    "\n",
    "for i in range(4):\n",
    "    q1,p1 = H.Sympl_p(q1,p1,dt,niter,order_t)\n",
    "    q1,p1 = H.Damp_qp(q1,p1,dt) # Additional damping step for consistency\n",
    "    plt.subplot(2,2,i+1)\n",
    "    plt.title(f\"Acoustic wave equation, complex medium, t={(i+1)*niter*dt:.2g}.\")\n",
    "    plt.contourf(*X,q1)\n",
    "    plt.axis('equal');"
   ]
  },
  {
   "cell_type": "markdown",
   "id": "7f3680d9",
   "metadata": {
    "editable": true,
    "slideshow": {
     "slide_type": ""
    },
    "tags": []
   },
   "source": [
    "Let us extract some seismogram data, at a given depth."
   ]
  },
  {
   "cell_type": "code",
   "execution_count": 65,
   "id": "fe079700",
   "metadata": {
    "editable": true,
    "slideshow": {
     "slide_type": ""
    },
    "tags": []
   },
   "outputs": [],
   "source": [
    "rec_spacing = 0.02 # Horizontal spacing between two successive recordings\n",
    "rec_q = []\n",
    "q1,p1 = q0,p0\n",
    "niter=400\n",
    "for i in range(niter):\n",
    "    q1,p1 = H.Sympl_p(q1,p1,dt,order=order_t)\n",
    "    rec_q.append(q1[::int(rec_spacing/dx),int(rec_height/dx)])    \n",
    "    q1,p1 = H.Damp_qp(q1,p1,dt)"
   ]
  },
  {
   "cell_type": "markdown",
   "id": "c4fdf5df",
   "metadata": {
    "editable": true,
    "slideshow": {
     "slide_type": ""
    },
    "tags": []
   },
   "source": [
    "We display the seismogram using the `Asinh` scale, which is linear near the zero, and logarithmic for large values.\n",
    "\n",
    "Note that we clearly see the effect of the reflection on the right, left and top boundaries. There is clearly some room for improvement in the tuning of the absorbing boundary conditions."
   ]
  },
  {
   "cell_type": "code",
   "execution_count": 66,
   "id": "17494901",
   "metadata": {
    "editable": true,
    "slideshow": {
     "slide_type": ""
    },
    "tags": []
   },
   "outputs": [],
   "source": [
    "plt.title(\"Recorded seismogram of q\")\n",
    "rec_T = np.arange(niter)*dt\n",
    "rec_X = np.linspace(-1,1,len(rec_q[0]))\n",
    "plt.contourf(rec_X,rec_T,rec_q,levels=200,cmap='Greys',norm=AsinhNorm(linear_width = 10))\n",
    "plt.gca().invert_yaxis()\n",
    "plt.colorbar();"
   ]
  },
  {
   "cell_type": "markdown",
   "id": "3fd42e94-1769-4c2c-ad38-c3cd4a2d0a3b",
   "metadata": {
    "editable": true,
    "slideshow": {
     "slide_type": ""
    },
    "tags": []
   },
   "source": [
    "## 3 Automatic differentiation of seismograms"
   ]
  },
  {
   "cell_type": "markdown",
   "id": "4c4858fe",
   "metadata": {
    "editable": true,
    "slideshow": {
     "slide_type": ""
    },
    "tags": []
   },
   "source": [
    "### 3.1 Forward differentiation\n",
    "\n",
    "The final objective of seismograhy is usually to invert the seismogram signal, i.e. to recover the underground composition from the recordings. For that purpose, optimization methods are used, typically relying on gradient information, such as L-BFGS.\n",
    "\n",
    "As a first step, we differentiate the final value and the seismogram obtained in [2.2 Complex medium](#2.2-Complex-medium) w.r.t. the medium properties."
   ]
  },
  {
   "cell_type": "code",
   "execution_count": 67,
   "id": "a7265768",
   "metadata": {
    "editable": true,
    "slideshow": {
     "slide_type": ""
    },
    "tags": []
   },
   "outputs": [],
   "source": [
    "# Four independent symbolic perturbations\n",
    "δ_ad = ad.Dense.identity((4,))\n",
    "\n",
    "# Symbolic perturbation of the topographic change of variables\n",
    "topo_heights_ad = ad.Dense.denseAD(topo_heights)\n",
    "topo_heights_ad[3] += δ_ad[0]\n",
    "\n",
    "# Symbolic perturbation of the vertical position of the inclusion\n",
    "inc_center_ad = ad.Dense.denseAD(inc_center)\n",
    "inc_center_ad[1] += δ_ad[1]\n",
    "\n",
    "# Symbolic perturbation of the fault position\n",
    "shift_origin_ad = ad.Dense.denseAD(shift_origin)\n",
    "shift_origin_ad[0] += δ_ad[2]\n",
    "\n",
    "# Symbolic perturbation of the orientation of the anisotropy\n",
    "layer_D_ad = ad.Dense.denseAD(layer_D)\n",
    "layer_D_ad[2] = Riemann(layer_D_ad[2]).rotate_by(-δ_ad[3]).m"
   ]
  },
  {
   "cell_type": "code",
   "execution_count": 68,
   "id": "7cc30db8",
   "metadata": {
    "editable": true,
    "slideshow": {
     "slide_type": ""
    },
    "tags": []
   },
   "outputs": [],
   "source": [
    "ρ_ad,D_ad = make_medium(X,topo_heights=topo_heights_ad,inc_center=inc_center_ad,\n",
    "                        shift_origin=shift_origin_ad,layer_DC=layer_D_ad,grad_ad=False)"
   ]
  },
  {
   "cell_type": "markdown",
   "id": "550e31f0",
   "metadata": {
    "editable": true,
    "slideshow": {
     "slide_type": ""
    },
    "tags": []
   },
   "source": [
    "Note that the latest symbolic perturbation mainly affects the off-diagonal coefficients of the dual-metric $D$. \n",
    "This is really a non-isotropic and non-vti effect.\n",
    "\n",
    "<!---\n",
    "test = ad.Dense.denseAD(np.array([1.,2.]))\n",
    "test.reshape(-1)\n",
    "test = ad.Sparse.spAD(np.array([1.,2.]))\n",
    "test.reshape(-1)\n",
    "test = ad.Dense2.denseAD2(np.array([1.,2.]))\n",
    "test.reshape(-1)\n",
    "test = ad.Sparse2.spAD2(np.array([1.,2.]))\n",
    "test.reshape(-1)\n",
    "--->"
   ]
  },
  {
   "cell_type": "code",
   "execution_count": 69,
   "id": "8e0e9246",
   "metadata": {
    "editable": true,
    "slideshow": {
     "slide_type": ""
    },
    "tags": []
   },
   "outputs": [],
   "source": [
    "plt.figure(figsize=[12,6])\n",
    "plt.subplot(2,2,1); plt.title(\"Derivative of density w.r.t topographic height, i=0\")\n",
    "plt.contourf(*X,ρ_ad.gradient(0),100); plt.axis('equal')\n",
    "plt.subplot(2,2,2); plt.title(\"Derivative of density w.r.t inclusion height, i=1\")\n",
    "plt.contourf(*X,ρ_ad.gradient(1),100); plt.axis('equal')\n",
    "plt.subplot(2,2,3); plt.title(\"Derivative of density w.r.t fault position, i=2\")\n",
    "plt.contourf(*X,ρ_ad.gradient(2),100); plt.axis('equal')\n",
    "plt.subplot(2,2,4); plt.title(\"Derivative of D[0,1] w.r.t layer orientation, i=3\")\n",
    "plt.contourf(*X,D_ad[0,1].gradient(3),100); plt.axis('equal');"
   ]
  },
  {
   "cell_type": "code",
   "execution_count": 70,
   "id": "50f5a141",
   "metadata": {
    "editable": true,
    "slideshow": {
     "slide_type": ""
    },
    "tags": []
   },
   "outputs": [],
   "source": [
    "H_ad = AcousticHamiltonian(ρ_ad,D_ad,dx,order_x=order_x,bc=bc)"
   ]
  },
  {
   "cell_type": "code",
   "execution_count": 71,
   "id": "cf55688e",
   "metadata": {
    "editable": true,
    "slideshow": {
     "slide_type": ""
    },
    "tags": []
   },
   "outputs": [],
   "source": [
    "H_ad.damp_p = H.damp_p"
   ]
  },
  {
   "cell_type": "code",
   "execution_count": 72,
   "id": "4737b632",
   "metadata": {
    "editable": true,
    "slideshow": {
     "slide_type": ""
    },
    "tags": []
   },
   "outputs": [],
   "source": [
    "q0_ad,p0_ad = ad.Dense.denseAD(q0),ad.Dense.denseAD(p0)\n",
    "niter = 150\n",
    "q1,p1 = H_ad.Sympl_p(q0_ad,p0_ad,dt,niter,order_t)"
   ]
  },
  {
   "cell_type": "markdown",
   "id": "02ca9cfa",
   "metadata": {
    "editable": true,
    "slideshow": {
     "slide_type": ""
    },
    "tags": []
   },
   "source": [
    "We differentiate the solution w.r.t each of the four considered symbolic perturbations of the medium. \n",
    "Note that the obtained symbolic perturbation of the solution has a wide support, because these perturbations propagate, are reflected, etc."
   ]
  },
  {
   "cell_type": "code",
   "execution_count": 73,
   "id": "b25e329f",
   "metadata": {
    "editable": true,
    "slideshow": {
     "slide_type": ""
    },
    "tags": []
   },
   "outputs": [],
   "source": [
    "plt.figure(figsize=[12,6])\n",
    "for i in range(4):\n",
    "    plt.subplot(2,2,1+i)\n",
    "    plt.title(f\"Differentiation of q1 w.r.t perturbation {i=}\")\n",
    "    plt.contourf(*X,q1.gradient(i))\n",
    "    plt.axis('equal')"
   ]
  },
  {
   "cell_type": "code",
   "execution_count": 74,
   "id": "914e4b9f",
   "metadata": {
    "editable": true,
    "slideshow": {
     "slide_type": ""
    },
    "tags": []
   },
   "outputs": [],
   "source": [
    "rec_q_ad = []\n",
    "q1,p1 = q0_ad,p0_ad\n",
    "niter=400\n",
    "for i in range(niter):\n",
    "    q1,p1 = H_ad.Sympl_p(q1,p1,dt,order=order_t)\n",
    "    rec_q_ad.append(q1[::int(rec_spacing/dx),int(rec_height/dx)])    \n",
    "    q1,p1 = H_ad.Damp_qp(q1,p1,dt)\n",
    "rec_q_ad = ad.asarray(rec_q_ad)"
   ]
  },
  {
   "cell_type": "code",
   "execution_count": 75,
   "id": "8ed2a129",
   "metadata": {
    "editable": true,
    "slideshow": {
     "slide_type": ""
    },
    "tags": []
   },
   "outputs": [],
   "source": [
    "plt.figure(figsize=[10,10])\n",
    "for i in range(4):\n",
    "    plt.subplot(2,2,1+i)\n",
    "    plt.title(f\"Perturbation {i=} of seismogram.\")\n",
    "    plt.contourf(rec_X,rec_T,rec_q_ad.gradient(i),levels=200,cmap='Greys',norm=AsinhNorm(linear_width = 10))\n",
    "    plt.gca().invert_yaxis()\n",
    "    plt.colorbar();"
   ]
  },
  {
   "cell_type": "markdown",
   "id": "f39882fc-2e1e-4efd-896d-2502c8386da8",
   "metadata": {
    "editable": true,
    "slideshow": {
     "slide_type": ""
    },
    "tags": []
   },
   "source": [
    "**Errors introduced by the finite differences computation of the gradient of the change of variables.**"
   ]
  },
  {
   "cell_type": "code",
   "execution_count": 76,
   "id": "fa19d331-d187-443c-ae03-6a94a2e2f146",
   "metadata": {
    "editable": true,
    "slideshow": {
     "slide_type": ""
    },
    "tags": []
   },
   "outputs": [],
   "source": [
    "assert norm(D-D_ad.value) / norm(D) < 1e-3 # Relative error on the anisotropy coefficients\n",
    "assert norm(ρ-ρ_ad.value) / norm(ρ) < 1e-8 # With this choice of topography, ρ is preserved exactly\n",
    "assert norm(rec_q - rec_q_ad.value) / norm(rec_q) < 5e-4 # Relative error on the seismograms"
   ]
  },
  {
   "cell_type": "markdown",
   "id": "8b710c61-9c21-4032-8829-8b6d9b92fb06",
   "metadata": {
    "editable": true,
    "slideshow": {
     "slide_type": ""
    },
    "tags": []
   },
   "source": [
    "**AGD library function.**\n",
    "The AGD library does provide a function for extracting seismograms. \n",
    "Its main interest lies in the backpropagation facilities, discussed in the next subsection, but let us nevertheless illustrate it here.\n",
    "\n",
    "First we need to find which indices are used in building the seismograms."
   ]
  },
  {
   "cell_type": "code",
   "execution_count": 77,
   "id": "3e3bedc9-d33b-489c-8fdb-adce097ff210",
   "metadata": {
    "editable": true,
    "slideshow": {
     "slide_type": ""
    },
    "tags": []
   },
   "outputs": [
    {
     "name": "stdout",
     "output_type": "stream",
     "text": [
      "Elements of q extracted at each iteration for the seismogram : [  112  4642  9172 13702 18232 22762 27292 31822 36352 40882 45412] ...\n"
     ]
    }
   ],
   "source": [
    "qh_ind = ad.Sparse.identity(constant=q0)[::int(rec_spacing/dx),int(rec_height/dx)].index.squeeze(axis=-1)\n",
    "print(f\"Elements of q extracted at each iteration for the seismogram : {qh_ind[::10]} ...\")"
   ]
  },
  {
   "cell_type": "code",
   "execution_count": 78,
   "id": "e969c1f5-1771-42b5-b004-af2a4191cf65",
   "metadata": {
    "editable": true,
    "slideshow": {
     "slide_type": ""
    },
    "tags": []
   },
   "outputs": [],
   "source": [
    "qf,pf,qh,ph = H.seismogram(q0,p0,dt,niter,order=order_t,qh_ind=qh_ind)"
   ]
  },
  {
   "cell_type": "markdown",
   "id": "fd246d51-4ae0-4856-965b-78e1077b945f",
   "metadata": {
    "editable": true,
    "slideshow": {
     "slide_type": ""
    },
    "tags": []
   },
   "source": [
    "- `qf` and `pf` are the *final* values of the waves\n",
    "- `qh` and `ph` are the recorded *history* of the waves, i.e. the seismograms. The last iteration is not included, access it via qf,pf.\n",
    "- `backprop` is a callable described later"
   ]
  },
  {
   "cell_type": "code",
   "execution_count": 79,
   "id": "352abfad-3822-4b4f-b538-633d5b41eadb",
   "metadata": {
    "editable": true,
    "slideshow": {
     "slide_type": ""
    },
    "tags": []
   },
   "outputs": [
    {
     "name": "stdout",
     "output_type": "stream",
     "text": [
      "Without ph_ind, the impulsion seismogram is not recorded : ph=array([], dtype=float64)\n"
     ]
    }
   ],
   "source": [
    "print(f\"Without ph_ind, the impulsion seismogram is not recorded : {ph=}\")\n",
    "assert np.allclose(qh,rec_q[:-1]) \n",
    "assert np.allclose(qf.reshape(-1)[qh_ind],rec_q[-1])"
   ]
  },
  {
   "cell_type": "code",
   "execution_count": 80,
   "id": "91f374fd-954b-4498-8b51-d167b250baf1",
   "metadata": {
    "editable": true,
    "slideshow": {
     "slide_type": ""
    },
    "tags": []
   },
   "outputs": [],
   "source": [
    "qf_ad,_,qh_ad,_ = H_ad.seismogram(q0_ad,p0_ad,dt,niter,order=order_t,qh_ind=qh_ind)"
   ]
  },
  {
   "cell_type": "code",
   "execution_count": 81,
   "id": "12f24812-b638-4335-8873-86f90b69f07b",
   "metadata": {
    "editable": true,
    "slideshow": {
     "slide_type": ""
    },
    "tags": []
   },
   "outputs": [],
   "source": [
    "assert np.allclose(qh_ad,rec_q_ad[:-1])\n",
    "assert np.allclose(qf_ad.reshape(-1)[qh_ind],rec_q_ad[-1])"
   ]
  },
  {
   "cell_type": "markdown",
   "id": "0b4d5a46",
   "metadata": {
    "editable": true,
    "slideshow": {
     "slide_type": ""
    },
    "tags": []
   },
   "source": [
    "### 3.2 Reverse differentiation\n",
    "\n",
    "Consider a numerical function $f : R^m \\to R^n$, expressed as a composition of elementary steps $f = f_1 \\circ \\cdots \\circ f_k$, to which one wishes to apply automatic differentiation. We recall that :\n",
    "- forward AD is recommended if $m=\\cO(1)$, i.e. the source space is simple.\n",
    "- reverse AD is recommended if $n=\\cO(1)$, i.e. the target space is simple.\n",
    "- sparse AD is recommended if $k = \\cO(1)$, i.e. $f$ has a simple structure.\n",
    "\n",
    "We already used forward AD to compute the dependence of the sismogram (a large target), w.r.t a few medium parameters (a small source).\n",
    "We also used sparse AD under the hood construct the finite differences scheme (a simple function, from a large source to a large target) from the Hamiltonian energy.\n",
    "\n",
    "However reverse AD is the best fit in tomographic inversion, where one usually wants the seismogram to minimize some energy functional (the target is a single scalar), when the medium varies (the source is defined by many parameters), using gradient descent, or possibly more complex optimization routines such as L-BFGS. "
   ]
  },
  {
   "cell_type": "markdown",
   "id": "f69a28b0-69e8-4184-b675-bdb905b1a1d1",
   "metadata": {
    "editable": true,
    "slideshow": {
     "slide_type": ""
    },
    "tags": []
   },
   "source": [
    "**Objective functionals.**\n",
    "$\\newcommand\\gS{\\mathfrak{S}}$\n",
    "In tomographic inversion, one attempts to fit a computed seismogram $\\gS(m)$ depending on the medium parameters $m$, to a recorded seismogram $\\gS_*$. This is typically achieved by minimizing locally via gradient descent a mapping of the form\n",
    "$$\n",
    "    m \\mapsto \\cD(\\gS(m)||\\gS_*) + \\cE(m).\n",
    "$$\n",
    "- The *divergence function* $\\cD$ penalizes the differences between $\\gS(m)$ and $\\gS_*$. There are many possibilities, but the simplest one is simply the $L^2$ distance, possibly with some lowpass filtering, e.g :\n",
    "\\begin{align*}\n",
    "    \\cD(\\gS||\\gS_*) &= \\frac 1 2 \\|\\gS-\\gS_*\\|^2_\\sigma, &\n",
    "    \\text{with } \\|\\gS-\\gS_*\\|_\\sigma^2 &:= \\int_{X \\times X} u(x) G_\\sigma(x-y) u(y)\\, \\diff x \\diff y = \\<u,G_\\sigma \\star u\\>,\n",
    "\\end{align*}\n",
    "where $G_\\sigma$ is a Gaussian kernel of width $\\sigma\\geq 0$, and convolution is denoted by $\\star$.\n",
    "- The *regularization function* $\\cE$ penalizes excessively unlikely medium, such as one featuring quick oscillations.\n",
    "Again, there are many possibilities, especially since the structure of underground media is rather unstructured and complex, with layers, inclusions, faults, etc as illustrated above.\n",
    "For simplicity, we may assume a quadratic functional, e.g.\n",
    "$$\n",
    "    \\cE(m) = \\frac 1 2 \\int_X |m(x)|^2 + \\tilde \\sigma^2|\\nabla m(x)|^2 \\diff x = \\frac 1 2 \\<m,Lm\\>,\n",
    "$$\n",
    "where $\\tilde \\sigma\\geq 0$ is a smoothing parameter.\n",
    "\n",
    "Alternatively, we can use a parametrized model, in which $m$ is not a field defined over the PDE domain, but a collection of parameters to be reconstructed, see [1. Models construction](#1.-Models-construction). \n",
    "\n",
    "**Gradient descent.**\n",
    "A semi-implicit gradient descent for the above energy reads\n",
    "\\begin{equation*}\n",
    "    \\frac{m'-m} \\tau = [\\Diff \\gS(m)]^\\top \\nabla_1 \\cD(\\gS(m),\\gS_*)  + \\nabla \\cE(m').\n",
    "\\end{equation*}\n",
    "With the choices discussed above, one has $\\nabla_1 \\cD(\\gS(m),\\gS_*) = G_\\sigma \\star (\\gS(m)-\\gS_*)$, and $\\nabla \\cE(m')$, which amounts to \n",
    "\\begin{equation*}\n",
    "     m' = (1+\\tau L)^{-1} \\Big(m - \\tau [\\Diff \\gS(m)]^\\top G_\\sigma \\star (\\gS(m)-\\gS_*) \\Big).\n",
    "\\end{equation*}\n",
    "The objective of reverse AD is to efficiently compute $[\\Diff \\gS(m)]^\\top \\xi$, for any given $\\xi$. Note that the inversion $(1+\\tau L)^{-1}$ amounts to a smoothing effect. "
   ]
  },
  {
   "cell_type": "code",
   "execution_count": 82,
   "id": "1c4adc0d-6dd0-47d8-9952-5a2729dbb8c0",
   "metadata": {
    "editable": true,
    "slideshow": {
     "slide_type": ""
    },
    "tags": []
   },
   "outputs": [],
   "source": [
    "niter=400"
   ]
  },
  {
   "cell_type": "markdown",
   "id": "70cc92fd-ef5e-44e2-bb3c-f3285cf80815",
   "metadata": {
    "editable": true,
    "slideshow": {
     "slide_type": ""
    },
    "tags": []
   },
   "source": [
    "**Construction of the reference data.**\n",
    "We have no physically recorded data, so we generate a reference by propagating within a different medium."
   ]
  },
  {
   "cell_type": "code",
   "execution_count": 83,
   "id": "445320ec-063f-4b8a-a576-82dd39dc2817",
   "metadata": {
    "editable": true,
    "slideshow": {
     "slide_type": ""
    },
    "tags": []
   },
   "outputs": [],
   "source": [
    " # Four medium perturbations\n",
    "δ_ref = np.array([0.1,-0.6,0.2,0.7])*0.1\n",
    "\n",
    "# Perturbation of the topographic change of variables\n",
    "topo_heights_ref = topo_heights.copy()\n",
    "topo_heights_ref[3] += δ_ref[0]\n",
    "\n",
    "# Perturbation of the vertical position of the inclusion\n",
    "inc_center_ref = inc_center.copy()\n",
    "inc_center_ref[1] += δ_ref[1]\n",
    "\n",
    "# Perturbation of the fault position\n",
    "shift_origin_ref = shift_origin.copy()\n",
    "shift_origin_ref[0] += δ_ref[2]\n",
    "\n",
    "# Perturbation of the orientation of the anisotropy\n",
    "layer_D_ref = layer_D.copy()\n",
    "layer_D_ref[2] = Riemann(layer_D_ref[2]).rotate_by(-δ_ref[3]).m"
   ]
  },
  {
   "cell_type": "markdown",
   "id": "4cde0383-368c-49df-b65d-f81b57a4094a",
   "metadata": {
    "editable": true,
    "slideshow": {
     "slide_type": ""
    },
    "tags": []
   },
   "source": [
    "Generate the reference medium, Hamiltonian, and reference solution and seismogram.\n",
    "\n",
    "<!---\n",
    "assert np.allclose(q0_ad.value,q0)\n",
    "assert np.allclose(p0_ad.value,p0)\n",
    "assert np.allclose(ρ_ad.value,ρ_ref)\n",
    "assert np.allclose(D_ad.value,D_ref)\n",
    "--->"
   ]
  },
  {
   "cell_type": "code",
   "execution_count": 84,
   "id": "34da1f32-8665-4b8e-8fb4-3aa91151d707",
   "metadata": {
    "editable": true,
    "slideshow": {
     "slide_type": ""
    },
    "tags": []
   },
   "outputs": [],
   "source": [
    "ρ_ref,D_ref = make_medium(X,topo_heights=topo_heights_ref,inc_center=inc_center_ref,\n",
    "                        shift_origin=shift_origin_ref,layer_DC=layer_D_ref,grad_ad=False)\n",
    "H_ref = AcousticHamiltonian(ρ_ref,D_ref,dx,bc=bc)\n",
    "H_ref.damp_p = H.damp_p # Use the same damping layers\n",
    "ph_ind = qh_ind # Also record impulsion.\n",
    "qf_ref,pf_ref,qh_ref,ph_ref = H_ref.seismogram(q0,p0,dt,niter,qh_ind=qh_ind,ph_ind=ph_ind)"
   ]
  },
  {
   "cell_type": "markdown",
   "id": "f3a697aa-d81d-4a53-bbd0-05c4c253c460",
   "metadata": {
    "editable": true,
    "slideshow": {
     "slide_type": ""
    },
    "tags": []
   },
   "source": [
    "**Construction of the divergence function.**\n",
    "\n",
    "<!---\n",
    "def mk_discr_gradient(qf_ref,pf_ref,qh_ref,ph_ref,\n",
    "                      qf_w,pf_w,qh_w,ph_w):\n",
    "    def dicr\n",
    "    return \n",
    "--->"
   ]
  },
  {
   "cell_type": "code",
   "execution_count": 85,
   "id": "0cd6df11-2cd8-4240-96ff-7e729cc567b0",
   "metadata": {
    "editable": true,
    "slideshow": {
     "slide_type": ""
    },
    "tags": []
   },
   "outputs": [],
   "source": [
    "def gf(x,σ):\n",
    "    \"\"\"Gaussian filter, also applying to denseAD variables.\"\"\"\n",
    "    if np.isscalar(σ): σ = (σ,)*x.ndim\n",
    "    if isinstance(x,ad.Dense.denseAD): return ad.Dense.denseAD(gf(x.value,σ),gf(x.coef,(*σ,0)))\n",
    "    else: return gaussian_filter(x,σ)\n",
    "\n",
    "def gf2(x,*args,**kwargs): \n",
    "    \"\"\"Half squared norm of a lowpass filtering of x. Gradient is gf.\"\"\"\n",
    "    return 0.5*np.sum(x*gf(x,*args,**kwargs))"
   ]
  },
  {
   "cell_type": "markdown",
   "id": "f1fa6f4f-b741-497e-98f7-fb543d5b856f",
   "metadata": {
    "editable": true,
    "slideshow": {
     "slide_type": ""
    },
    "tags": []
   },
   "source": [
    "The objective functional is defined here as an arbitrary weighted sum of the errors on the sismogram and final state of position and momentum. In tomography, one expects to have `qf_w = pf_w = 0`, since the final state (qf_ref, pf_ref) in the whole domain cannot be measured.\n",
    "\n",
    "<!---\n",
    "    return sum([w* gf2(x-x_ref,*args,**kwargs) for w,x,x_ref in \n",
    "                ((qf_w,qf,qf_ref), (pf_w,pf,pf_ref), (qh_w,qh,qh_ref), (ph_w,ph,ph_ref))])\n",
    "\n",
    "def obj_grad(qf,pf,qh,ph,\n",
    "             qf_w,pf_w,qh_w,ph_w,σ): \n",
    "    \"\"\"Gradient of the objective functional.\"\"\"\n",
    "    # We add one final singleton dimension. Several gradients may be concatenated along the last axis for backprop.\n",
    "    return [w* gf(x-x_ref,σ)[...,None] for w,x,x_ref in \n",
    "            ((qf_w,qf,qf_ref), (pf_w,pf,pf_ref), (qh_w,qh,qh_ref), (ph_w,ph,ph_ref))]\n",
    "\n",
    "def obj(qf,pf,qh,ph,\n",
    "        qf_w,pf_w,qh_w,ph_w,σ):\n",
    "    \"\"\"The objective functional, measuring the discrepancy between calculated and reference seismograms.\"\"\"\n",
    "    return sum([w* gf2(x-x_ref,σ) for w,x,x_ref in \n",
    "              ((qf_w,qf,qf_ref), (pf_w,pf,pf_ref), (qh_w,qh,qh_ref), (ph_w,ph,ph_ref))])\n",
    "\n",
    "    qf_grad,pf_grad,qh_grad,ph_grad = obj_grad(qf,pf,qh,ph,*args,**kwargs)\n",
    "    return 0.5*sum( np.sum(x*x_grad[...,0]) for x,x_grad in ((qf,qf_grad),(pf,pf_grad),(qh,qh_grad),(ph,ph_grad))) \n",
    "--->"
   ]
  },
  {
   "cell_type": "code",
   "execution_count": 86,
   "id": "22c4db1e-26ec-4a21-a2b4-6d59e7c9fd9d",
   "metadata": {
    "editable": true,
    "slideshow": {
     "slide_type": ""
    },
    "tags": [
     "ExportCode"
    ]
   },
   "outputs": [],
   "source": [
    "def mk_obj(qf_ref,pf_ref,qh_ref,ph_ref,  qf_w,pf_w,qh_w,ph_w,  σ):\n",
    "    \"\"\"Construct a basic objective functional and its gradient\"\"\"\n",
    "    def obj(qf,pf,qh,ph): \n",
    "        return sum([w* gf2(x-x_ref,σ) for w,x,x_ref in \n",
    "              ((qf_w,qf,qf_ref), (pf_w,pf,pf_ref), (qh_w,qh,qh_ref), (ph_w,ph,ph_ref))])\n",
    "        \n",
    "    def grad(qf,pf,qh,ph):\n",
    "        # We add one final singleton dimension. Backprop allows several gradients to be concatenated along the last axis.\n",
    "        return [w* gf(x-x_ref,σ)[...,None] for w,x,x_ref in \n",
    "            ((qf_w,qf,qf_ref), (pf_w,pf,pf_ref), (qh_w,qh,qh_ref), (ph_w,ph,ph_ref))]\n",
    "    return obj,grad"
   ]
  },
  {
   "cell_type": "code",
   "execution_count": 87,
   "id": "1e1ef700-f8eb-4729-adc0-224e8c060ed5",
   "metadata": {
    "editable": true,
    "slideshow": {
     "slide_type": ""
    },
    "tags": []
   },
   "outputs": [],
   "source": [
    "# Arbitrary weights given to the different data, for the objective functional\n",
    "obj,obj_grad = mk_obj(qf_ref,pf_ref,qh_ref,ph_ref,  \n",
    "                      qf_w=1.5,pf_w=0.5,qh_w=2,ph_w=1,  σ=2)"
   ]
  },
  {
   "cell_type": "markdown",
   "id": "c1901ccb-5f08-4fc6-bb6f-c905dacb08b8",
   "metadata": {
    "editable": true,
    "slideshow": {
     "slide_type": ""
    },
    "tags": []
   },
   "source": [
    "Let us check that the `gaussian_filter` implementation is self-adjoint, as required."
   ]
  },
  {
   "cell_type": "code",
   "execution_count": 88,
   "id": "967bed29-63ef-448a-ac09-d2fb2ca7230f",
   "metadata": {
    "editable": true,
    "slideshow": {
     "slide_type": ""
    },
    "tags": []
   },
   "outputs": [],
   "source": [
    "np.random.seed(42)\n",
    "shape = (10,10); x = rand(*shape); y = rand(*shape)\n",
    "assert np.allclose(np.sum(gf(x,π)*y), np.sum(x*gf(y,π)))"
   ]
  },
  {
   "cell_type": "markdown",
   "id": "2ffa603b-1210-40a5-acbe-5d528dc40699",
   "metadata": {
    "editable": true,
    "slideshow": {
     "slide_type": ""
    },
    "tags": []
   },
   "source": [
    "**Forward AD.**\n",
    "We obtain the gradient of the objective functional w.r.t the considered perturbations of the medium."
   ]
  },
  {
   "cell_type": "code",
   "execution_count": 89,
   "id": "50319399-e2a4-4f66-afff-e71632e347ae",
   "metadata": {
    "editable": true,
    "slideshow": {
     "slide_type": ""
    },
    "tags": []
   },
   "outputs": [],
   "source": [
    "ρ = ρ_ad.value; D = D_ad.value; \n",
    "H_fwd = AcousticHamiltonian(ρ_ad,D_ad,dx,bc=bc,save_weights=True); H_fwd.damp_p = H.damp_p"
   ]
  },
  {
   "cell_type": "code",
   "execution_count": 90,
   "id": "c01972ac-e726-4b67-a47b-16b485ae29e8",
   "metadata": {
    "editable": true,
    "slideshow": {
     "slide_type": ""
    },
    "tags": []
   },
   "outputs": [],
   "source": [
    "qf_fwd,pf_fwd,qh_fwd,ph_fwd = H_fwd.seismogram(q0_ad,p0_ad,dt,niter,qh_ind=qh_ind,ph_ind=ph_ind)"
   ]
  },
  {
   "cell_type": "code",
   "execution_count": 91,
   "id": "c9865845-e95b-4781-b8c0-4c94509c9fd3",
   "metadata": {
    "editable": true,
    "slideshow": {
     "slide_type": ""
    },
    "tags": []
   },
   "outputs": [
    {
     "name": "stdout",
     "output_type": "stream",
     "text": [
      "Normalized gradient [-1.       0.00036 -0.00003 -0.00009]\n"
     ]
    }
   ],
   "source": [
    "obj_fwd = obj(qf_fwd,pf_fwd,qh_fwd,ph_fwd)\n",
    "grad_fwd = obj_fwd.gradient()\n",
    "with np.printoptions(suppress=True,precision=5): print(f\"Normalized gradient {grad_fwd/norm(grad_fwd)}\")"
   ]
  },
  {
   "cell_type": "code",
   "execution_count": 92,
   "id": "abed2e69-c11e-4e43-97fb-adb2e5a5de1b",
   "metadata": {
    "editable": true,
    "slideshow": {
     "slide_type": ""
    },
    "tags": []
   },
   "outputs": [
    {
     "data": {
      "text/plain": [
       "array([-9.09396413e+12,  3.24423778e+09, -2.40179709e+08, -8.56365011e+08])"
      ]
     },
     "execution_count": 92,
     "metadata": {},
     "output_type": "execute_result"
    }
   ],
   "source": [
    "obj_fwd.gradient()"
   ]
  },
  {
   "cell_type": "markdown",
   "id": "8d015d44-b906-4c19-9d4f-f144247365fe",
   "metadata": {
    "editable": true,
    "slideshow": {
     "slide_type": ""
    },
    "tags": []
   },
   "source": [
    "Observations : \n",
    "- The first component of the gradient, related to the topographic change of variables, is much larger than the others. The large difference in sensibility depending on the parameters can be annoying in the context of gradient descent, and it is one of the reasons why e.g. L-BFGS methods provide substantial improvement.\n",
    "- The signs of the gradient are opposite to the signs of the perturbations, which is good : it means gradient descent goes in the right direction, towards finding the reference parameters."
   ]
  },
  {
   "cell_type": "code",
   "execution_count": 93,
   "id": "459d39dc-7e95-41e6-beb6-d1c8d62ed8b1",
   "metadata": {
    "editable": true,
    "slideshow": {
     "slide_type": ""
    },
    "tags": []
   },
   "outputs": [
    {
     "name": "stdout",
     "output_type": "stream",
     "text": [
      "[ 0.01 -0.06  0.02  0.07]\n"
     ]
    }
   ],
   "source": [
    "print(δ_ref)"
   ]
  },
  {
   "cell_type": "markdown",
   "id": "512a8f6d-98ab-4457-89d7-73d6848c7fb0",
   "metadata": {
    "editable": true,
    "slideshow": {
     "slide_type": ""
    },
    "tags": []
   },
   "source": [
    "**Reverse AD.**\n",
    "We perform the same computation using reverse AD. Note that this does not have much interest here since we vary only four parameters, but in general one has many more (possibly several for reach grid point)."
   ]
  },
  {
   "cell_type": "code",
   "execution_count": 94,
   "id": "a65f67ef-c179-4e9e-a5bd-86e862e2bd6c",
   "metadata": {
    "editable": true,
    "slideshow": {
     "slide_type": ""
    },
    "tags": []
   },
   "outputs": [],
   "source": [
    "H_rev = AcousticHamiltonian(ρ,D,dx,bc=bc,rev_ad=1); H_rev.damp_p = H.damp_p\n",
    "#H_rev.Impl2_p_merged = False"
   ]
  },
  {
   "cell_type": "code",
   "execution_count": 95,
   "id": "566d26c5-2b59-4452-8a94-1d48fe764803",
   "metadata": {
    "editable": true,
    "slideshow": {
     "slide_type": ""
    },
    "tags": []
   },
   "outputs": [],
   "source": [
    "qf_rev,pf_rev,qh_rev,ph_rev,backprop = H_rev.seismogram_with_backprop(q0,p0,dt,niter,qh_ind=qh_ind,ph_ind=ph_ind)\n",
    "#qf_rev,pf_rev,qh_rev,ph_rev = H_rev.seismogram(q0,p0,dt,niter,qh_ind=qh_ind,ph_ind=ph_ind)"
   ]
  },
  {
   "cell_type": "markdown",
   "id": "f553a7b0-b191-46fc-9807-a9c0eca3fce8",
   "metadata": {
    "editable": true,
    "slideshow": {
     "slide_type": ""
    },
    "tags": []
   },
   "source": [
    "Forward propagation does not compute any AD information. "
   ]
  },
  {
   "cell_type": "code",
   "execution_count": 96,
   "id": "0e895eac-26a4-4dab-b686-c950380cdbbe",
   "metadata": {
    "editable": true,
    "slideshow": {
     "slide_type": ""
    },
    "tags": []
   },
   "outputs": [],
   "source": [
    "assert np.allclose(qf_rev,qf_fwd.value)\n",
    "assert np.allclose(pf_rev,pf_fwd.value)\n",
    "assert np.allclose(qh_rev,qh_fwd.value)\n",
    "assert np.allclose(ph_rev,ph_fwd.value)"
   ]
  },
  {
   "cell_type": "markdown",
   "id": "bd8572a5-9b49-4b3e-9192-bb124a009102",
   "metadata": {
    "editable": true,
    "slideshow": {
     "slide_type": ""
    },
    "tags": []
   },
   "source": [
    "Now let us backpropagate the gradient of the objective functional through the symplectic scheme.\n",
    "(We choose here to avoid as much as possible the symplectic formalism, which is taken care of within the backprop.)"
   ]
  },
  {
   "cell_type": "code",
   "execution_count": 97,
   "id": "39ffcf3a-a01e-4357-9119-8e90793c8a02",
   "metadata": {
    "editable": true,
    "slideshow": {
     "slide_type": ""
    },
    "tags": []
   },
   "outputs": [],
   "source": [
    "H_rev.rev_reset()\n",
    "q0_grad,p0_grad = backprop(*obj_grad(qf_rev,pf_rev,qh_rev,ph_rev))"
   ]
  },
  {
   "cell_type": "markdown",
   "id": "7e6fc09f-8130-4696-ad61-03722c20b9cf",
   "metadata": {
    "editable": true,
    "slideshow": {
     "slide_type": ""
    },
    "tags": []
   },
   "source": [
    "Now we have two ways of evaluating the gradient of the energy functional w.r.t the medium parameters : \n",
    "- either propagate forward through the symplectic scheme, and express it in terms of final state and seismograms\n",
    "- or propagate backward through the symplectic scheme, and express it in terms of initial state and parameters.\n",
    "\n",
    "<!---\n",
    "def _fwd_grad(qf_fwd, pf_fwd, qh_fwd, ph_fwd,\n",
    "             qf_grad,pf_grad,qh_grad,ph_grad):\n",
    "    \"\"\"Gradient of the objective functional obtained via forward AD\"\"\"\n",
    "    return (np.sum(qf_grad*qf_fwd[...,None] + pf_grad*pf_fwd[...,None])\n",
    "          + np.sum(qh_grad*qh_fwd[...,None]) + np.sum(ph_grad*ph_fwd[...,None])).coef\n",
    "\n",
    "def _rev_grad(q0_fwd, p0_fwd, H_fwd,\n",
    "             q0_grad,p0_grad,H_rev):\n",
    "    \"\"\"Gradient of the objective functional obtained via reversed AD\"\"\"\n",
    "    return (np.sum(q0_grad*q0_fwd[...,None] + p0_grad*p0_fwd[...,None]) \\\n",
    "          + np.sum(H_rev.iρ.coef*H_fwd.iρ[...,None]) - np.sum(H_rev.weights.coef*H_fwd.weights[...,None])).coef\n",
    "--->"
   ]
  },
  {
   "cell_type": "code",
   "execution_count": 98,
   "id": "af8037e4-4790-4b45-97be-fc20de42feb4",
   "metadata": {
    "editable": true,
    "slideshow": {
     "slide_type": ""
    },
    "tags": []
   },
   "outputs": [],
   "source": [
    "if q0_ad.size_ad==0: q0_ad.coef = np.zeros_like(qf_fwd.coef)\n",
    "if p0_ad.size_ad==0: p0_ad.coef = np.zeros_like(pf_fwd.coef)"
   ]
  },
  {
   "cell_type": "code",
   "execution_count": 99,
   "id": "65c651b9-8a7f-4942-8769-d5181d374f13",
   "metadata": {
    "editable": true,
    "slideshow": {
     "slide_type": ""
    },
    "tags": []
   },
   "outputs": [],
   "source": [
    "# Gradient of objective functional w.r.t sismogram and final state\n",
    "qf_grad,pf_grad,qh_grad,ph_grad = obj_grad(qf_rev,pf_rev,qh_rev,ph_rev)\n",
    "\n",
    "# Gradient of objective functional w.r.t medium parameters, via forward AD\n",
    "grad1 = fwd_grad(qf_fwd, pf_fwd, qh_fwd, ph_fwd, qf_grad,pf_grad,qh_grad,ph_grad) \n",
    "\n",
    "# Gradient of objective functional w.r.t medium parameters, via reverse AD\n",
    "grad2 = rev_grad(q0_ad, p0_ad, H_fwd, q0_grad,p0_grad,H_rev)"
   ]
  },
  {
   "cell_type": "code",
   "execution_count": 100,
   "id": "87c6b6fd-4c4f-4f54-bdd9-58795a9d15bc",
   "metadata": {
    "editable": true,
    "slideshow": {
     "slide_type": ""
    },
    "tags": []
   },
   "outputs": [],
   "source": [
    "assert np.allclose(grad1,grad2) # Different computation\n",
    "assert np.allclose(grad1,grad_fwd[:,None]) # Essentially the same computation, just checking"
   ]
  },
  {
   "cell_type": "markdown",
   "id": "8597e1f7-6aeb-4454-9535-b58c032f94cc",
   "metadata": {
    "editable": true,
    "slideshow": {
     "slide_type": ""
    },
    "tags": []
   },
   "source": [
    "### 3.3 Sensitivity to variations in the whole domain\n",
    "\n",
    "Reverse AD allows to compute the sensitivity of the objective functional to any variation of the model coefficients anywhere in the domain.\n",
    "\n",
    "By construction, we obtain a sensitivity to the inverse density `iρ`, and to the Selling parameters `weights`, which may not be very convenient. We obtain below the sensitivity to the density $\\rho$, and to the dual metric $D$, which are more natural parameters. (This type of computation could be offloaded to generic reverse AD packages, but here it is sufficiently simple to do it by hand.)"
   ]
  },
  {
   "cell_type": "code",
   "execution_count": 101,
   "id": "c6c59978-f39c-4824-aba5-2d11ecad9398",
   "metadata": {
    "editable": true,
    "slideshow": {
     "slide_type": ""
    },
    "tags": []
   },
   "outputs": [],
   "source": [
    "# Validate the sensitivity to ρ and D, using those to iρ and weights\n",
    "ρ_ξ = sensitivity_to_ρ(H_rev)\n",
    "assert np.allclose(gram(ρ_ξ,ρ_ad.coef),gram(H_rev.iρ.coef,H_fwd.iρ.coef))\n",
    "\n",
    "D_ξ = sensitivity_to_D(H_rev)\n",
    "assert np.allclose(gram(D_ξ,D_ad.coef),gram(H_rev.weights.coef,H_fwd.weights.coef))"
   ]
  },
  {
   "cell_type": "markdown",
   "id": "917c2ac2-946d-4d57-9462-746c5479980c",
   "metadata": {
    "editable": true,
    "slideshow": {
     "slide_type": ""
    },
    "tags": []
   },
   "source": [
    "The sensitivity to the density, and to diagonal and off-diagonal anisotropy parameters, is illustrated below in the whole domain. \n",
    "\n",
    "<!---\n",
    "Note that it appears to be oscillating in some regions.\n",
    "--->"
   ]
  },
  {
   "cell_type": "code",
   "execution_count": 102,
   "id": "33960fbc-a098-4b4e-a2dd-a7434a1e3869",
   "metadata": {
    "editable": true,
    "slideshow": {
     "slide_type": ""
    },
    "tags": []
   },
   "outputs": [],
   "source": [
    "plt.figure(figsize=[12,6])\n",
    "\n",
    "plt.subplot(2,2,1)\n",
    "plt.title(\"Sensitivity to changes in the density.\")\n",
    "plt.contourf(*X,ρ_ξ[...,0],100,cmap='Greys',norm=AsinhNorm(linear_width=norm(ρ_ξ,averaged=True)))\n",
    "plt.colorbar(); plt.axis('equal');\n",
    "\n",
    "plt.subplot(2,2,2)\n",
    "plt.title(\"Sensitivity to D[0,0].\")\n",
    "plt.contourf(*X,D_ξ[0,0,...,0],100,cmap='Greys',norm=AsinhNorm(linear_width = norm(D_ξ,averaged=True)))\n",
    "plt.colorbar(); plt.axis('equal');\n",
    "\n",
    "plt.subplot(2,2,3)\n",
    "plt.title(\"Sensitivity to D[0,1].\")\n",
    "plt.contourf(*X,D_ξ[0,1,...,0],100,cmap='Greys',norm=AsinhNorm(linear_width = norm(D_ξ,averaged=True)))\n",
    "plt.colorbar(); plt.axis('equal');\n",
    "\n",
    "plt.subplot(2,2,4)\n",
    "plt.title(\"Sensitivity to D[1,1].\")\n",
    "plt.contourf(*X,D_ξ[1,1,...,0],100,cmap='Greys',norm=AsinhNorm(linear_width = norm(D_ξ,averaged=True)))\n",
    "plt.colorbar(); plt.axis('equal');"
   ]
  },
  {
   "cell_type": "markdown",
   "id": "2f5f0090",
   "metadata": {
    "editable": true,
    "slideshow": {
     "slide_type": ""
    },
    "tags": []
   },
   "source": [
    "## 4. Elasticity\n",
    "\n",
    "As far as this notebook is concerned, the structure of the elastic and the acoustic wave equations are very similar : \n",
    "- both are obtained as Hamilton's equations to quadratic hamiltonians\n",
    "- both finite difference schemes use Voronoi's decomposition of positive quadratic forms\n",
    "- both rely on absorbing boundary conditions"
   ]
  },
  {
   "cell_type": "markdown",
   "id": "8705c71e",
   "metadata": {
    "editable": true,
    "slideshow": {
     "slide_type": ""
    },
    "tags": []
   },
   "source": [
    "### 4.1 Homogeneous medium\n",
    "\n",
    "<!---\n",
    "def CFL_e(M,C,dx,**kwargs):\n",
    "    \"\"\"\n",
    "    TODO : put this in the adequate classes.\n",
    "    Largest time step guaranteed to be stable for the elastic wave equation\n",
    "    kwargs : see CFL_mult\n",
    "    \"\"\"\n",
    "    hooke = Hooke(C)\n",
    "    tr = lp.trace(hooke.to_Mandel())\n",
    "    M = np.moveaxis(M,(0,1),(-2,-1))\n",
    "    iρ = np.max(np.linalg.eigvalsh(M),axis=-1)    \n",
    "    return float(dx/(hooke.vdim*np.sqrt(np.max(iρ*tr)))) # * CFL_mult(**kwargs)\n",
    "--->"
   ]
  },
  {
   "cell_type": "code",
   "execution_count": 103,
   "id": "2f4056f5",
   "metadata": {
    "editable": true,
    "slideshow": {
     "slide_type": ""
    },
    "tags": []
   },
   "outputs": [],
   "source": [
    "dom,X,dx = make_domain(3,vdim=2)\n",
    "M = np.eye(2) # Kinetic energy. Anisotropy here is really for coordinate changes.\n",
    "C = mica.extract_xz().rotate_by(π/6).hooke\n",
    "q0p = explosion(X) # pressure wave trigger\n",
    "q0s = torsion(X) # Shear wave trigger\n",
    "p0 = np.zeros_like(q0p)\n",
    "bc = 'Neumann'"
   ]
  },
  {
   "cell_type": "code",
   "execution_count": 104,
   "id": "b2259965",
   "metadata": {
    "editable": true,
    "slideshow": {
     "slide_type": ""
    },
    "tags": []
   },
   "outputs": [],
   "source": [
    "plt.figure(figsize=[12,5])\n",
    "plt.subplot(1,2,1)\n",
    "plt.title(\"Pressure wave trigger\")\n",
    "quiver(*X,*q0p,subsampling=(2,2))\n",
    "plt.axis('equal');\n",
    "plt.subplot(1,2,2)\n",
    "plt.title(\"Shear wave trigger\")\n",
    "quiver(*X,*q0s,subsampling=(2,2));"
   ]
  },
  {
   "cell_type": "code",
   "execution_count": 105,
   "id": "6f5ad524",
   "metadata": {
    "editable": true,
    "slideshow": {
     "slide_type": ""
    },
    "tags": []
   },
   "outputs": [],
   "source": [
    "order_x=2; order_t=2"
   ]
  },
  {
   "cell_type": "markdown",
   "id": "5ac179b4",
   "metadata": {
    "editable": true,
    "slideshow": {
     "slide_type": ""
    },
    "tags": []
   },
   "source": [
    "First, let us not use any damping."
   ]
  },
  {
   "cell_type": "code",
   "execution_count": 106,
   "id": "ae012ab6",
   "metadata": {
    "editable": true,
    "slideshow": {
     "slide_type": ""
    },
    "tags": []
   },
   "outputs": [],
   "source": [
    "H = ElasticHamiltonian(M,C,dx,shape_dom=dom.shape,order_x=order_x,bc=bc)"
   ]
  },
  {
   "cell_type": "code",
   "execution_count": 107,
   "id": "189b18b3",
   "metadata": {
    "editable": true,
    "slideshow": {
     "slide_type": ""
    },
    "tags": []
   },
   "outputs": [],
   "source": [
    "dt_max = H.dt_max(order_t)\n",
    "dt = dt_max\n",
    "niter=120"
   ]
  },
  {
   "cell_type": "code",
   "execution_count": 108,
   "id": "34d159d1",
   "metadata": {
    "editable": true,
    "slideshow": {
     "slide_type": ""
    },
    "tags": []
   },
   "outputs": [],
   "source": [
    "rsh = H.reshape; ush = H.unshape\n",
    "q1p,p1p = H.Sympl_p(rsh(q0p),rsh(p0),dt,niter,order=order_t)\n",
    "q1s,p1s = H.Sympl_p(rsh(q0s),rsh(p0),dt,niter,order=order_t)"
   ]
  },
  {
   "cell_type": "markdown",
   "id": "f45fc949",
   "metadata": {
    "editable": true,
    "slideshow": {
     "slide_type": ""
    },
    "tags": []
   },
   "source": [
    "The pressure wave is faster (by definition), and has a simpler structure than the shear wave."
   ]
  },
  {
   "cell_type": "code",
   "execution_count": 109,
   "id": "66fba816",
   "metadata": {
    "editable": true,
    "slideshow": {
     "slide_type": ""
    },
    "tags": []
   },
   "outputs": [],
   "source": [
    "plt.figure(figsize=[12,5])\n",
    "plt.subplot(1,2,1); plt.title(\"Pressure wave\")\n",
    "quiver(*X,*ush(q1p),subsampling=(2,2)); plt.axis('equal')\n",
    "plt.subplot(1,2,2); plt.title(\"Shear wave\")\n",
    "quiver(*X,*ush(q1s),subsampling=(2,2)); plt.axis('equal');"
   ]
  },
  {
   "cell_type": "markdown",
   "id": "c977fcb0",
   "metadata": {
    "editable": true,
    "slideshow": {
     "slide_type": ""
    },
    "tags": []
   },
   "source": [
    "Without damping, the energy defined by the perturbed Hamiltonian is conserved up to machine precision by the symplectic time integrator."
   ]
  },
  {
   "cell_type": "code",
   "execution_count": 107,
   "id": "9afe046a",
   "metadata": {},
   "outputs": [
    {
     "name": "stdout",
     "output_type": "stream",
     "text": [
      "Initial/Final sqrt energy, pressure : 1.0\n",
      "Initial/Final sqrt energy, shear : 1.0\n"
     ]
    }
   ],
   "source": [
    "print(f\"Initial/Final sqrt energy, pressure : {np.sqrt(H.H_p(rsh(q0p),rsh(p0),dt,order=2)/H.H_p(q1p,p1p,dt,order=2))}\")\n",
    "print(f\"Initial/Final sqrt energy, shear : {np.sqrt(H.H_p(rsh(q0s),rsh(p0),dt,order=2)/H.H_p(q1s,p1s,dt,order=2))}\")"
   ]
  },
  {
   "cell_type": "markdown",
   "id": "78e32f3e",
   "metadata": {},
   "source": [
    "Let us add a damping layer on the boundary."
   ]
  },
  {
   "cell_type": "code",
   "execution_count": 108,
   "id": "21e85b27",
   "metadata": {},
   "outputs": [],
   "source": [
    "l = 0.5 # As seen from above\n",
    "α = 2 # Typical, slightly thicker layer than for the acoustic case.\n",
    "r = 500 # Desired reduction\n",
    "c = 0.3*dx/dt_max # Wave speed heusitic\n",
    "\n",
    "k = 2*π/l # Wave number\n",
    "ω = c*k # Pulsation\n",
    "l_damp = α*np.log(r)/k # Damping width\n",
    "ω_damp = ω/α # Damping strength\n",
    "damp_p = ω_damp * layer(l_damp,X)[None]"
   ]
  },
  {
   "cell_type": "code",
   "execution_count": 109,
   "id": "d6cf3861",
   "metadata": {},
   "outputs": [],
   "source": [
    "niter=500\n",
    "H.damp_p = rsh(damp_p)\n",
    "q1p,p1p = H.Sympl_p(rsh(q0p),rsh(p0),dt,niter,order=order_t)\n",
    "q1s,p1s = H.Sympl_p(rsh(q0s),rsh(p0),dt,niter,order=order_t)"
   ]
  },
  {
   "cell_type": "markdown",
   "id": "27017a68",
   "metadata": {},
   "source": [
    "The pressure wave, whose front is thinner and simpler, is a bit more efficiently damped than the shear wave."
   ]
  },
  {
   "cell_type": "code",
   "execution_count": 110,
   "id": "b002c9e1",
   "metadata": {},
   "outputs": [
    {
     "name": "stdout",
     "output_type": "stream",
     "text": [
      "Initial/Final sqrt energy, pressure : 288.97877953364434\n",
      "Initial/Final sqrt energy, shear : 142.15587859182898\n"
     ]
    }
   ],
   "source": [
    "print(f\"Initial/Final sqrt energy, pressure : {np.sqrt(H.H_p(rsh(q0p),rsh(p0),dt,order=2)/H.H_p(q1p,p1p,dt,order=2))}\")\n",
    "print(f\"Initial/Final sqrt energy, shear : {np.sqrt(H.H_p(rsh(q0s),rsh(p0),dt,order=2)/H.H_p(q1s,p1s,dt,order=2))}\")"
   ]
  },
  {
   "cell_type": "markdown",
   "id": "321a5a77",
   "metadata": {},
   "source": [
    "After damping, the pressure and shear wave have lost most of their structure. Incorrect parameter settings lead to more obvious reflections."
   ]
  },
  {
   "cell_type": "code",
   "execution_count": 111,
   "id": "a78c538d",
   "metadata": {},
   "outputs": [],
   "source": [
    "plt.figure(figsize=[12,5])\n",
    "plt.subplot(1,2,1); plt.title(\"Pressure wave\")\n",
    "quiver(*X,*ush(q1p),subsampling=(2,2)); plt.axis('equal')\n",
    "plt.subplot(1,2,2); plt.title(\"Shear wave\")\n",
    "quiver(*X,*ush(q1s),subsampling=(2,2)); plt.axis('equal');"
   ]
  },
  {
   "cell_type": "markdown",
   "id": "8059023b",
   "metadata": {},
   "source": [
    "### 4.2 Complex medium\n",
    "\n",
    "Similarly to the acoustic case presented in section [2.2](#2.2-Complex-medium), we use the medium constructed in the first part of the notebook, equipped with Hooke tensors instead of diffusion tensors, and show how to extract seismograms. \n",
    "\n",
    "<!---\n",
    "We use the classical BP 2007 TTI test case, but replace the TTI norm with an elliptic approximation. \n",
    "--->"
   ]
  },
  {
   "cell_type": "code",
   "execution_count": 112,
   "id": "51c51671",
   "metadata": {},
   "outputs": [],
   "source": [
    "nX = 150; dx = 1/nX\n",
    "aX = np.linspace(-1,1,2*nX+1,endpoint=True) # Horizontal axis\n",
    "aZ = np.linspace(0,1,nX+1,endpoint=True) # Vertical axis\n",
    "X = np.array(np.meshgrid(aX,aZ,indexing='ij')) # Full coordinate system\n",
    "order_x=2; order_t=2;\n",
    "bc='Neumann'\n",
    "\n",
    "σ = 2.5*dx # Approximate radius of initial impulsion\n",
    "x0 = (0.,0.7)\n",
    "q0p = explosion(X,σ,x0)\n",
    "q0s = torsion(X,σ,x0)\n",
    "p0 = np.zeros_like(q0p)\n",
    "rec_height = 0.75 # We'll record the signal at this depth"
   ]
  },
  {
   "cell_type": "code",
   "execution_count": 113,
   "id": "2dd06193",
   "metadata": {
    "editable": true,
    "slideshow": {
     "slide_type": ""
    },
    "tags": [
     "ExportCode"
    ]
   },
   "outputs": [],
   "source": [
    "inc_C = Hooke.from_Lame(1,1).with_speed(1/2).hooke"
   ]
  },
  {
   "cell_type": "code",
   "execution_count": 114,
   "id": "6a0e0cf5",
   "metadata": {
    "editable": true,
    "slideshow": {
     "slide_type": ""
    },
    "tags": []
   },
   "outputs": [],
   "source": [
    "ρ,C = make_medium(X,layer_DC=layer_C,inc_DC=inc_C)\n",
    "M = 1/ρ[None,None]"
   ]
  },
  {
   "cell_type": "code",
   "execution_count": 115,
   "id": "6018c666",
   "metadata": {},
   "outputs": [],
   "source": [
    "H = ElasticHamiltonian(M,C,dx,order_x=order_x,bc=bc)"
   ]
  },
  {
   "cell_type": "code",
   "execution_count": 116,
   "id": "7bef5333",
   "metadata": {},
   "outputs": [],
   "source": [
    "dt_max = H.dt_max(order_t)\n",
    "dt = dt_max"
   ]
  },
  {
   "cell_type": "markdown",
   "id": "7271f7a2",
   "metadata": {},
   "source": [
    "Without damping, the energy is exactly conserved by the symplectic scheme, similarly to the case of a constant medium."
   ]
  },
  {
   "cell_type": "code",
   "execution_count": 117,
   "id": "8167bda1",
   "metadata": {},
   "outputs": [],
   "source": [
    "niter=100\n",
    "q1p,p1p = H.Sympl_p(q0p,p0,dt,niter,order_t)"
   ]
  },
  {
   "cell_type": "code",
   "execution_count": 118,
   "id": "7625c2c0",
   "metadata": {},
   "outputs": [],
   "source": [
    "assert np.allclose(H.H_p(q1p,p1p,dt,order_t),H.H_p(q0p,p0,dt,order_t))"
   ]
  },
  {
   "cell_type": "markdown",
   "id": "314efde3",
   "metadata": {},
   "source": [
    "We use a damping layer all around. Physically relevant boundary conditions, such as Neumann boundary conditions on part of the domain in the case of free surface, are not implemented presently. Recall also that the damping layer construction assumed constant coefficients, hence it could easily be improved."
   ]
  },
  {
   "cell_type": "code",
   "execution_count": 119,
   "id": "41006ed7",
   "metadata": {},
   "outputs": [],
   "source": [
    "H.damp_p = damping_layer(X,c=0.3*dx/dt_max,l=5*σ,α=2)"
   ]
  },
  {
   "cell_type": "code",
   "execution_count": 120,
   "id": "49b496ef",
   "metadata": {},
   "outputs": [],
   "source": [
    "plt.figure(figsize=[12,3])\n",
    "plt.subplot(1,2,1); plt.title(\"Medium density, source, recording position\")\n",
    "plt.contourf(*X,ρ)\n",
    "plt.scatter(*x0,color='red'); plt.axhline(rec_height); plt.axis('equal');\n",
    "plt.subplot(1,2,2); plt.title(\"Damping layer\")\n",
    "plt.contourf(*X,H.damp_p); plt.axis('equal');"
   ]
  },
  {
   "cell_type": "code",
   "execution_count": 121,
   "id": "4b33ab8e",
   "metadata": {},
   "outputs": [],
   "source": [
    "niter = 400\n",
    "q1p,p1p = H.Sympl_p(q0p,p0,dt,niter,order=order_t)\n",
    "q1s,p1s = H.Sympl_p(q0s,p0,dt,niter,order=order_t)"
   ]
  },
  {
   "cell_type": "markdown",
   "id": "88cf455c",
   "metadata": {},
   "source": [
    "We initially trigger almost pure pressure and shear waves, see above in the case of a constant medium. However, one can clearly in both cases a slow shear wave, and a fast pressure waves, which are generated through interactions with the medium."
   ]
  },
  {
   "cell_type": "code",
   "execution_count": 122,
   "id": "0c9c7098",
   "metadata": {},
   "outputs": [],
   "source": [
    "plt.figure(figsize=[8,9])\n",
    "plt.subplot(2,1,1); plt.title(\"Pressure wave\")\n",
    "quiver(*X,*q1p,subsampling=3); plt.axis('equal')\n",
    "plt.subplot(2,1,2); plt.title(\"Shear wave\")\n",
    "quiver(*X,*q1s,subsampling=3); plt.axis('equal');"
   ]
  },
  {
   "cell_type": "markdown",
   "id": "95d78270",
   "metadata": {},
   "source": [
    "Let us extract some seismogram data, at a given depth. "
   ]
  },
  {
   "cell_type": "code",
   "execution_count": 123,
   "id": "b5d8a359",
   "metadata": {},
   "outputs": [],
   "source": [
    "rec_spacing = 0.02 # Horizontal spacing between two successive recordings\n",
    "rec_q = []\n",
    "q1,p1 = q0p,p0 # q0p is the pressure trigger. Try q0s for shear\n",
    "niter=400\n",
    "for i in range(niter):\n",
    "    q1,p1 = H.Sympl_p(q1,p1,dt,order_t)\n",
    "    q1,p1 = H.Damp_qp(q1,p1,dt)\n",
    "    rec_q.append(q1[:,::int(rec_spacing/dx),int(rec_height/dx)])\n",
    "rec_q = np.moveaxis(ad.asarray(rec_q),1,0)"
   ]
  },
  {
   "cell_type": "markdown",
   "id": "6a98180d",
   "metadata": {},
   "source": [
    "The seismogram that we extracted is vectorial : both the horizontal and the vertical of $q_0$ are recorded. "
   ]
  },
  {
   "cell_type": "code",
   "execution_count": 124,
   "id": "4468fb6f",
   "metadata": {},
   "outputs": [
    {
     "data": {
      "text/plain": [
       "(2, 400, 101)"
      ]
     },
     "execution_count": 124,
     "metadata": {},
     "output_type": "execute_result"
    }
   ],
   "source": [
    "rec_q.shape"
   ]
  },
  {
   "cell_type": "markdown",
   "id": "3dfbaf92",
   "metadata": {},
   "source": [
    "We display the seismogram using the `Asinh` scale, which is linear near the zero, and logarithmic for large values.\n",
    "\n",
    "Note that we clearly see the effect of the reflection on the right, left and top boundaries. There is clearly some room for improvement in the tuning of the absorbing boundary conditions."
   ]
  },
  {
   "cell_type": "code",
   "execution_count": 125,
   "id": "922e446c",
   "metadata": {},
   "outputs": [],
   "source": [
    "rec_T = np.arange(niter)*dt\n",
    "rec_X = np.linspace(-1,1,len(rec_q[0,0]))\n",
    "plt.figure(figsize=[12,5])\n",
    "for i,(orient,rec_qi) in enumerate(zip((\"Horizontal\",\"Vertical\"),rec_q)):\n",
    "    plt.subplot(1,2,1+i)\n",
    "    plt.title(f\"{orient} seismogram of q\")\n",
    "    plt.contourf(rec_X,rec_T,rec_qi,levels=200,cmap='Greys',norm=AsinhNorm(linear_width = 0.1))\n",
    "    plt.gca().invert_yaxis(); plt.colorbar();"
   ]
  },
  {
   "cell_type": "markdown",
   "id": "83814a9d",
   "metadata": {},
   "source": [
    "### 4.3 Forward differentiation\n",
    "\n",
    "Similarly to the acoustic case [2.3](#2.3-Forward-differentiation), we illustrate forward differentiation of the elastic wave equation w.r.t the medium."
   ]
  },
  {
   "cell_type": "code",
   "execution_count": 126,
   "id": "f7971003",
   "metadata": {},
   "outputs": [],
   "source": [
    "# Three independent symbolic perturbations\n",
    "δ_ad = ad.Dense.identity((4,))\n",
    "\n",
    "# Symbolic perturbation of the topographic change of variables\n",
    "topo_heights_ad = ad.Dense.denseAD(topo_heights)\n",
    "topo_heights_ad[3] += δ_ad[0]\n",
    "\n",
    "# Symbolic perturbation of the vertical position of the inclusion\n",
    "inc_center_ad = ad.Dense.denseAD(inc_center)\n",
    "inc_center_ad[1] += δ_ad[1]\n",
    "\n",
    "# Symbolic perturbation of the fault position\n",
    "shift_origin_ad = ad.Dense.denseAD(shift_origin)\n",
    "shift_origin_ad[0] += δ_ad[2]\n",
    "\n",
    "# Symbolic perturbation of the orientation of the anisotropy\n",
    "layer_C_ad = ad.Dense.denseAD(layer_C)\n",
    "layer_C_ad[2] = Hooke(layer_C_ad[2]).rotate_by(-δ_ad[3]).hooke"
   ]
  },
  {
   "cell_type": "code",
   "execution_count": 127,
   "id": "2029a89f",
   "metadata": {},
   "outputs": [],
   "source": [
    "ρ_ad,C_ad = make_medium(X,topo_heights=topo_heights_ad,inc_center=inc_center_ad,\n",
    "                        shift_origin=shift_origin_ad,layer_DC=layer_C_ad,inc_DC=inc_C,grad_ad=False)"
   ]
  },
  {
   "cell_type": "markdown",
   "id": "13eac95f",
   "metadata": {},
   "source": [
    "Note that the latest symbolic perturbation mainly affects the off-diagonal coefficients of the dual-metric $C$. \n",
    "This is really a non-isotropic and non-vti effect.\n",
    "\n",
    "<!---\n",
    "test = ad.Dense.denseAD(np.array([1.,2.]))\n",
    "test.reshape(-1)\n",
    "test = ad.Sparse.spAD(np.array([1.,2.]))\n",
    "test.reshape(-1)\n",
    "test = ad.Dense2.denseAD2(np.array([1.,2.]))\n",
    "test.reshape(-1)\n",
    "test = ad.Sparse2.spAD2(np.array([1.,2.]))\n",
    "test.reshape(-1)\n",
    "--->"
   ]
  },
  {
   "cell_type": "code",
   "execution_count": 128,
   "id": "d2d5bc79",
   "metadata": {
    "editable": true,
    "slideshow": {
     "slide_type": ""
    },
    "tags": []
   },
   "outputs": [],
   "source": [
    "plt.figure(figsize=[12,6])\n",
    "plt.subplot(2,2,1); plt.title(\"Derivative of density w.r.t topographic height, i=0\")\n",
    "plt.contourf(*X,ρ_ad.gradient(0)); plt.axis('equal')\n",
    "plt.subplot(2,2,2); plt.title(\"Derivative of density w.r.t inclusion height, i=1\")\n",
    "plt.contourf(*X,ρ_ad.gradient(1)); plt.axis('equal')\n",
    "plt.subplot(2,2,3); plt.title(\"Derivative of density w.r.t fault position, i=2\")\n",
    "plt.contourf(*X,ρ_ad.gradient(2)); plt.axis('equal')\n",
    "plt.subplot(2,2,4); plt.title(\"Derivative of C[1,2] w.r.t layer orientation, i=3\")\n",
    "plt.contourf(*X,C_ad[1,2].gradient(3)); plt.axis('equal');"
   ]
  },
  {
   "cell_type": "markdown",
   "id": "cbb884de",
   "metadata": {},
   "source": [
    "The following cells are a bit long to execute on the CPU."
   ]
  },
  {
   "cell_type": "code",
   "execution_count": 129,
   "id": "e7b8d045",
   "metadata": {},
   "outputs": [],
   "source": [
    "M_ad = 1/ρ_ad[None,None]\n",
    "H_ad = ElasticHamiltonian(M_ad,C_ad,dx,order_x=order_x,bc=bc)"
   ]
  },
  {
   "cell_type": "code",
   "execution_count": 130,
   "id": "ef1bea33",
   "metadata": {},
   "outputs": [],
   "source": [
    "H_ad.damp_p = H.damp_p"
   ]
  },
  {
   "cell_type": "code",
   "execution_count": 131,
   "id": "6fc2fcf3",
   "metadata": {},
   "outputs": [],
   "source": [
    "q0p_ad,p0_ad = ad.Dense.denseAD(q0p),ad.Dense.denseAD(p0)\n",
    "niter = 300\n",
    "q1,p1 = H_ad.Sympl_p(q0p_ad,p0_ad,dt,niter,order_t)"
   ]
  },
  {
   "cell_type": "markdown",
   "id": "76316010",
   "metadata": {},
   "source": [
    "We differentiate the solution w.r.t each of the four considered symbolic perturbations of the medium. \n",
    "Note that the obtained symbolic perturbation of the solution has a wide support, because these perturbations propagate, are reflected, etc."
   ]
  },
  {
   "cell_type": "code",
   "execution_count": 132,
   "id": "89046a9b",
   "metadata": {},
   "outputs": [],
   "source": [
    "plt.figure(figsize=[12,6])\n",
    "for i in range(4):\n",
    "    plt.subplot(2,2,1+i)\n",
    "    plt.title(f\"Differentiation of q1 w.r.t perturbation {i=}\")\n",
    "    quiver(*X,*q1.gradient(i),subsampling=4)\n",
    "    plt.axis('equal')"
   ]
  },
  {
   "cell_type": "code",
   "execution_count": 133,
   "id": "b8985923",
   "metadata": {
    "editable": true,
    "slideshow": {
     "slide_type": ""
    },
    "tags": []
   },
   "outputs": [],
   "source": [
    "rec_q_ad = []\n",
    "q1,p1 = q0p_ad,p0_ad\n",
    "niter=400\n",
    "for i in range(niter):\n",
    "    q1,p1 = H_ad.Sympl_p(q1,p1,dt,order_t)\n",
    "    q1,p1 = H_ad.Damp_qp(q1,p1,dt)\n",
    "    rec_q_ad.append(q1[:,::int(rec_spacing/dx),int(rec_height/dx)])    \n",
    "rec_q_ad = np.moveaxis(ad.asarray(rec_q_ad),1,0)"
   ]
  },
  {
   "cell_type": "code",
   "execution_count": 134,
   "id": "9f344c45",
   "metadata": {
    "editable": true,
    "slideshow": {
     "slide_type": ""
    },
    "tags": []
   },
   "outputs": [],
   "source": [
    "plt.figure(figsize=[10,10])\n",
    "for i in range(4):\n",
    "    plt.subplot(2,2,1+i)\n",
    "    plt.title(f\"Perturbation {i=} of horizontal seismogram\")\n",
    "    plt.contourf(rec_X,rec_T,rec_q_ad.gradient(i)[0],levels=200,cmap='Greys',norm=AsinhNorm(linear_width = 10))\n",
    "    plt.gca().invert_yaxis()\n",
    "    plt.colorbar();"
   ]
  },
  {
   "cell_type": "markdown",
   "id": "094f70ac",
   "metadata": {},
   "source": [
    "### 4.4 Reverse differentiation\n",
    "\n",
    "Reverse differentiation proceeds exactly as for the forward case. Since this notebook is already quite big, and long to execute, we do not illustrate it here. Nevertheless, we validate it on some tiny test cases in the preliminary section, see the `check_ad` function, which can easily be extended to larger instances."
   ]
  },
  {
   "cell_type": "code",
   "execution_count": null,
   "id": "346b07dd-64d2-448d-9968-6ee64f737cdb",
   "metadata": {
    "editable": true,
    "slideshow": {
     "slide_type": ""
    },
    "tags": []
   },
   "outputs": [],
   "source": []
  }
 ],
 "metadata": {
  "celltoolbar": "Raw Cell Format",
  "kernelspec": {
   "display_name": "Python 3 (ipykernel)",
   "language": "python",
   "name": "python3"
  },
  "language_info": {
   "codemirror_mode": {
    "name": "ipython",
    "version": 3
   },
   "file_extension": ".py",
   "mimetype": "text/x-python",
   "name": "python",
   "nbconvert_exporter": "python",
   "pygments_lexer": "ipython3",
   "version": "3.12.1"
  },
  "varInspector": {
   "cols": {
    "lenName": 16,
    "lenType": 16,
    "lenVar": 40
   },
   "kernels_config": {
    "python": {
     "delete_cmd_postfix": "",
     "delete_cmd_prefix": "del ",
     "library": "var_list.py",
     "varRefreshCmd": "print(var_dic_list())"
    },
    "r": {
     "delete_cmd_postfix": ") ",
     "delete_cmd_prefix": "rm(",
     "library": "var_list.r",
     "varRefreshCmd": "cat(var_dic_list()) "
    }
   },
   "types_to_exclude": [
    "module",
    "function",
    "builtin_function_or_method",
    "instance",
    "_Feature"
   ],
   "window_display": false
  }
 },
 "nbformat": 4,
 "nbformat_minor": 5
}
