{
 "cells": [
  {
   "cell_type": "markdown",
   "metadata": {},
   "source": [
    "# Adaptive PDE discretizations on Cartesian grids\n",
    "## Volume : Divergence form PDEs\n",
    "## Part : Static problems\n",
    "## Chapter : Elliptic equations with a first order term"
   ]
  },
  {
   "cell_type": "markdown",
   "metadata": {},
   "source": [
    "This notebook illustrates the use of non-negative finite difference schemes to solve elliptic partial differential equations (PDEs). More precisely, we look for a solution $u$ defined over a bounded domain $\\Omega$ to the PDE\n",
    "$$\n",
    "    {-} \\mathrm{div}(D\\nabla u) + <\\omega,\\nabla u> + \\alpha u = f,\n",
    "$$\n",
    "where $D$ is a field of positive definite matrices, $\\omega$ is a vector field, and $\\alpha$ is a non-negative scalar field. For simplicity, Dirichlet boundary conditions are applied on the boundary.\n",
    "\n",
    "**Variational form.** The above PDE can be rephrased in variational form, by multiplication by a test function $v \\in H^1_0(\\Omega)$ and integration by parts. \n",
    "One is looking for the unique $u \\in H^1(\\Omega)$, with the prescribed Dirichlet boundary conditions, such that for any test function $v \\in H^1_0(\\Omega): \\Omega \\to R^d$ one has \n",
    "$$\n",
    "    A(u,v)=0\n",
    "$$\n",
    "where\n",
    "$$\n",
    "    A(u,v) := \\int_\\Omega < \\nabla u, D \\nabla v> + <\\omega, \\nabla u> v + \\alpha u v - f v.\n",
    "$$\n",
    "\n",
    "**Lax-Milgram theory.**\n",
    "The above function $A(u,v)$ is not a bilinear form on $H^1_0(\\Omega)$, for two reasons: (1) we incorporated the term $f(x) v(x)$ which is linear w.r.t.\\ the test function, and (2) the unkown $u$ belongs the affine space of all functions in $H^1(\\Omega)$ with the prescribed boundary conditions, instead of the linear space $H^1_0(\\Omega)$. Standard mathematical techniques allow to reformulate this problem in the following canonical form: find $u \\in H^1_0(\\Omega)$ such that for all $v \\in H^1_0(\\Omega)$\n",
    "$$\n",
    "    B(u,v) = L(v).\n",
    "$$\n",
    "Under suitable assumptions, Lax-Milgram theory implies that there exists a unique solution $u$.\n",
    "\n",
    "The presence of the non-symmetric first order term $<\\omega, \\nabla u> v$ in the bilinear form implies that it is not the hessian of an energy functional. The PDE therefore cannot be regarded as the optimality condition of an optimization problem, in contrast with the previous notebook [Elliptic](Elliptic.ipynb). "
   ]
  },
  {
   "cell_type": "markdown",
   "metadata": {},
   "source": [
    "**Conservative first order term**\n",
    " We also consider a variant involving a modified first order term, in divergence form\n",
    "$$\n",
    "     {-} \\mathrm{div}(D\\nabla u) - \\mathrm{div}(\\omega u) + \\alpha u = f.\n",
    "$$\n",
    "The corresponding variational form\n",
    "$$\n",
    "    \\int_\\Omega < \\nabla u, D \\nabla v> + u <\\omega, \\nabla v> + \\alpha u v - f v\n",
    "$$\n",
    "involves $u <\\omega, \\nabla v>$ instead of $<\\omega, \\nabla u> v$. This exchange of the roles of $u$ and $v$ reflects the fact that the operators $<\\omega,\\nabla u>$ and $- \\mathrm{div}(\\omega u)$ are adjoint to each other.\n",
    "\n",
    "\n",
    "**Comparison with Non-Divergence form discretizations.**\n",
    "One has the formal identities\n",
    "$$\n",
    "    \\mathrm{div}(D \\nabla u) = \\mathrm{tr}(D \\nabla^2 u) + <\\mathrm{div}(D), \\nabla u>.\n",
    "$$\n",
    "and \n",
    "$$\n",
    "    \\mathrm{div}(u \\omega) = <\\omega,\\nabla u> + u \\mathrm{div}(\\omega).\n",
    "$$\n",
    "which hold for any sufficiently smooth function $u$, diffusion tensor field $D$, and vector field. For this reason, a PDE in divergence form can always be reformulated in non-divergence form.\n",
    "In particular, if the diffusion tensor field $D : \\Omega \\to S_d^{++}$, and vector field $\\omega$, are constant, then the divergence form and non-divergence for equations are formally identical. In addition the discretized linear systems coincide as well in that case, at least in the domain interior. \n",
    "And indeed, some of the test cases presented in this notebook are, purposedly, closely related with those of linear non-divergence form PDEs. \n",
    "\n",
    "Despite these similarities, the following differences between Divergence/non-Divergence form PDEs must be emphasized:\n",
    "* The *mathematical foundations* differ strongly. Divergence form PDEs are typically studied using Lax-Milgram theory and variational forms. Non-divergence form PDEs are addressed using the machinery of degenerate elliptic operators and their viscosity solutions. \n",
    "* The *numerical implementation* differs strongly as well. The discretization of divergence form PDEs, based on their variational form, only involves first order finite differences, but requires *second order* sparse automatic differentiation (AD). On the other hand, non-divergence form PDEs are discretized using second order finite differences and *first order* sparse AD.\n",
    "* *Neumann boundary conditions* are natural only for divergence form PDEs.\n",
    "\n",
    "<!---**Variants.**\n",
    "Neumann boundary conditions, on part of the boundary, can be handled as well.--->"
   ]
  },
  {
   "cell_type": "markdown",
   "metadata": {},
   "source": [
    "[**Summary**](Summary.ipynb) of volume Divergence form PDEs, this series of notebooks.\n",
    "\n",
    "[**Main summary**](../Summary.ipynb) of the Adaptive Grid Discretizations \n",
    "\tbook of notebooks, including the other volumes.\n",
    "\n",
    "# Table of contents\n",
    "  * [1. The numerical scheme](#1.-The-numerical-scheme)\n",
    "  * [2. One dimensional study](#2.-One-dimensional-study)\n",
    "    * [2.1 First order equation](#2.1-First-order-equation)\n",
    "      * [2.1.1 Constant coefficients](#2.1.1-Constant-coefficients)\n",
    "      * [2.1.2 Non-constant coefficients](#2.1.2-Non-constant-coefficients)\n",
    "    * [2.2 The Laplacian operator](#2.2-The-Laplacian-operator)\n",
    "      * [2.2.1 Constant coefficients](#2.2.1-Constant-coefficients)\n",
    "      * [2.2.2 Variable coefficients](#2.2.2-Variable-coefficients)\n",
    "    * [2.3 The vanishing viscosity limit](#2.3-The-vanishing-viscosity-limit)\n",
    "  * [3. Two dimensional examples](#3.-Two-dimensional-examples)\n",
    "    * [3.1 First order equation](#3.1-First-order-equation)\n",
    "    * [3.2 Isotropic laplacian](#3.2-Isotropic-laplacian)\n",
    "    * [3.3 Anisotropic laplacian](#3.3-Anisotropic-laplacian)\n",
    "\n",
    "\n",
    "\n",
    "**Acknowledgement.** Some of the experiments presented in these notebooks are part of \n",
    "ongoing research with Ludovic Métivier and Da Chen.\n",
    "\n",
    "Copyright Jean-Marie Mirebeau, Centre Borelli, ENS Paris-Saclay, CNRS, University Paris-Saclay"
   ]
  },
  {
   "cell_type": "markdown",
   "metadata": {},
   "source": [
    "## 0. Importing the required libraries"
   ]
  },
  {
   "cell_type": "code",
   "execution_count": 2,
   "metadata": {},
   "outputs": [],
   "source": [
    "import sys; sys.path.insert(0,\"..\") # Allow import of agd from parent directory (useless if conda package installed)\n",
    "#from Miscellaneous import TocTools; TocTools.displayTOC('EllipticAsymmetric','Div')"
   ]
  },
  {
   "cell_type": "code",
   "execution_count": 3,
   "metadata": {},
   "outputs": [],
   "source": [
    "from agd import Selling\n",
    "from agd import LinearParallel as lp\n",
    "from agd import FiniteDifferences as fd\n",
    "from agd import AutomaticDifferentiation as ad\n",
    "LInfNorm = ad.Optimization.norm_infinity"
   ]
  },
  {
   "cell_type": "code",
   "execution_count": 4,
   "metadata": {},
   "outputs": [],
   "source": [
    "import numpy as np\n",
    "from matplotlib import pyplot as plt"
   ]
  },
  {
   "cell_type": "code",
   "execution_count": 5,
   "metadata": {},
   "outputs": [],
   "source": [
    "def weak_solution(a):\n",
    "    \"\"\"\n",
    "    Finds u such that a(u,v)=0 for all v. \n",
    "    The two functional a should be provided as a scalar-like Sparse2.spAD2 object, \n",
    "    and should be linear w.r.t. v.\n",
    "    \"\"\"\n",
    "    import scipy.sparse; import scipy.sparse.linalg\n",
    "    n = a.bound_ad()//2\n",
    "    rhs = a.to_first().to_dense(2*n).coef\n",
    "    mat = scipy.sparse.coo_matrix(a.triplets()).tocsr()\n",
    "    return - scipy.sparse.linalg.spsolve(mat[n:,:n],rhs[n:])"
   ]
  },
  {
   "cell_type": "markdown",
   "metadata": {},
   "source": [
    "## 1. The numerical scheme\n",
    "\n",
    "We discretize the variational form $A(u,v)$ as follows\n",
    "$$\n",
    "    A_h(u,v) = h^d\\sum_{x \\in \\Omega_h} a_h(x) + b_h(x) + \\alpha(x) u(x) v(x) - f(x) v(x)\n",
    "$$\n",
    "where $a_h(x)$ accounts for the second order term $<\\nabla u(x), D \\nabla v(x)>$, and $b_h(x)$ accounts for the first order term $<\\omega(x),\\nabla u(x)> v(x)$. The main difficulty lies in the discretization of these two terms, which is detailed below.\n",
    "\n",
    "As usual, we denote $\\Omega_h := \\Omega \\cap h Z^d$ the cartesian used for discretization, where $h>0$ is the grid scale.\n",
    "\n",
    "**Selling's decomposition.**\n",
    "For that purpose, we introduce a non-negative decomposition of the diffusion tensors, in the form\n",
    "$$\n",
    "    D(x) = \\sum_{1 \\leq i \\leq I} \\rho_i(x) e_i e_i^T,\n",
    "$$\n",
    "where $I = d(d+1)/2$, the weights $\\rho_i(x) \\geq 0$ are non-negative, and the offsets $e_i \\in Z^d$ have integer coordinates. In practice $e_i = e_i(x)$ depends on the coordinate $x$, but this is silenced for readability.\n",
    "If $w_0,w_1\\in R^d$ are two arbitrary vectors, then\n",
    "$$\n",
    "    \\sum_{1 \\leq i \\leq I} \\rho_i(x) <w_0, e_i> <w_1, e_i> \n",
    "    = \\mathrm{tr}(w_0 w_1^T \\sum_{1 \\leq i \\leq I} \\rho_i(x) e_i e_i^T)\n",
    "    = <w_0, D(x) w_1>.\n",
    "%    a_h(x) = \\sum_{1 \\leq i \\leq I} \\rho_i(x) <\\nabla u(x),e_i> <\\nabla v(x),e_i> + O(h) \n",
    "%    \\mathrm{tr}(\\sum_{1 \\leq i \\leq I} \\rho_i(x) \n",
    "$$\n",
    "\n",
    "**Discretization of $<\\nabla u(x), D(x) \\nabla v(x)>$.**\n",
    "Taking advantage of the tensors decomposition, we define the non-negative scheme\n",
    "$$\n",
    "    a_h(x) := \\frac 1 2 \\sum_{1 \\leq i \\leq I} \\sum_{\\sigma\\in \\{-1,1\\}} \n",
    "    \\rho_i(x) (\\frac {u(x+\\sigma h e_i)-u(x)} h)( \\frac {v(x+\\sigma h e_i)-v(x)} h ).\n",
    "$$\n",
    "The consistency of $a_h(x)$ with $<\\nabla u(x), D(x) \\nabla v(x)>$ follows from a first order Taylor expansion, and the above expression of $<w_0,D w_1>$.\n",
    "\n",
    "**Discretization of $<\\omega(x),\\nabla u(x)> v(x)$, using *centered* finite differences.**\n",
    "In order to achieve second order accuracy, while preserving the non-negativity of the scheme,  we define $b_h(x)$ using finite differences along the same stencil as for $a_h(x)$. For that purpose, we introduce\n",
    "$$\n",
    "    \\eta(x) := D(x)^{-1} \\omega(x),\n",
    "$$\n",
    "and let \n",
    "$$\n",
    "    b_h(x) := v(x)\\sum_{1 \\leq i \\leq I} \\rho_i(x) <\\eta(x),e_i> (\\frac {u(x+h e_i)-u(x)} h).\n",
    "$$\n",
    "For sufficiently small grid scales, the non-monotony of this discretization of the first order term is aborbed by the second order term. However, in some circumstances - if the grid scale isn't small, or the diffusion tensors degenerate, or the vector field is large - the monotony of global scheme can be lost, thus also its stability.\n",
    "\n",
    "**Discretization of $<\\omega(x),\\nabla u(x)> v(x)$, using *upwind* finite differences.**\n",
    "One can define an unconditionally stable scheme, at the price of numerical diffusion and the loss of second order accuracy, using upwind finite differences. For that purpose we let \n",
    "$$\n",
    "    b_h(x) := v(x)\\sum_{1 \\leq i \\leq d} \\rho_i(x) |<\\omega(x),f_i>| (\\frac {u(x)-u(x- h \\sigma_i f_i)} h),\n",
    "%    b_h(x) := v(x)\\sum_{1 \\leq i \\leq d} \\rho_i(x) |<\\omega(x),f_i>| (\\frac {u(x+ h \\sigma_i f_i)-u(x)} h),\n",
    "$$\n",
    "where $(f_i)_{i=1}^d$ is the canonical basis of $R^d$, and $\\sigma_i$ denotes the sign of $<\\omega(x),f_i>$.\n",
    "\n",
    "**Dirichlet boundary conditions.**\n",
    "Dirichlet boundary conditions are imposed strongly, not penalized : the values of the unkown $u$ and test function $v$ on the domain boundary are replaced with the adequate boundary condition and with zero respectively.\n",
    "\n",
    "Nevertheless, we need to let the linear solver know that these boundary conditions are enforced, and for that purpose we also add the following term to $A_h(u,v)$:\n",
    "$$\n",
    "    \\sum_{x \\in \\partial \\Omega_h} (u(x)-u_0(x)) v(x),\n",
    "$$\n",
    "where $u_0$ denotes the imposed values on the discretized boundary $\\partial \\Omega_h$."
   ]
  },
  {
   "cell_type": "code",
   "execution_count": 1,
   "metadata": {},
   "outputs": [],
   "source": [
    "def Scheme(u,v,Diff,omega,alpha,f,bc,h,\n",
    "           upwind=False,conservative=False):\n",
    "    \n",
    "    # Enforce the boundary conditions\n",
    "    boundary = np.logical_not(np.isnan(bc))\n",
    "    bc_integrand = (u-bc)*v \n",
    "    u,v = u.copy(),v.copy() # Important ! Avoid side effects.\n",
    "    u[boundary] = bc[boundary]\n",
    "    v[boundary] = 0.\n",
    "    bc_integrand[np.logical_not(boundary)]=0.\n",
    "    \n",
    "    \n",
    "    # Decompose the diffusion tensors\n",
    "    coefs,offsets = (Selling.Decomposition(Diff) \n",
    "                     if Diff is not None else (np.zeros(1),np.full((len(omega),1),0)) )\n",
    "    \n",
    "    # Quadratic part\n",
    "    dup,dum = fd.DiffUpwind(u,offsets,h),fd.DiffUpwind(u,-offsets,h) \n",
    "    dvp,dvm = fd.DiffUpwind(v,offsets,h),fd.DiffUpwind(v,-offsets,h)\n",
    "    integrand2 = 0.5*((coefs*dup*dvp).sum(axis=0) + (coefs*dum*dvm).sum(axis=0))\n",
    "        \n",
    "    # First order part\n",
    "    integrand1 = None\n",
    "    U,V = (u,v) if not conservative else (v,u) # Discussed in next section\n",
    "    if upwind: # Use offsets from the canonical basis\n",
    "        basis = fd.as_field(np.eye(len(omega)),u.shape)\n",
    "        scal = lp.dot_VV(np.expand_dims(omega,axis=1),basis)\n",
    "        oriented_basis = (np.sign(scal)*basis).astype(int)\n",
    "        integrand1 = -(fd.DiffUpwind(U,-oriented_basis,h)*np.abs(scal)).sum(axis=0)*V\n",
    "    else: # Use offsets from the tensor decomposition, and centered differences\n",
    "        eta = lp.solve_AV(Diff,omega)\n",
    "        scal = lp.dot_VV(np.expand_dims(eta,axis=1),offsets)\n",
    "        integrand1 = (coefs*fd.DiffCentered(U,offsets,h)*scal).sum(axis=0)*V\n",
    "    \n",
    "    # Zero-th order parts\n",
    "    integrand0 = alpha*u*v-f*v\n",
    "    \n",
    "    # Summing up\n",
    "    integrand = integrand0+integrand1+integrand2\n",
    "    ad.simplify_ad(integrand)\n",
    "    ad.simplify_ad(bc_integrand)\n",
    "    return (integrand.sum()+bc_integrand.sum()) * h**u.ndim"
   ]
  },
  {
   "cell_type": "markdown",
   "metadata": {},
   "source": [
    "## 2. One dimensional study\n",
    "\n",
    "For pedagogical purposes, we first illustrate the numerical scheme in one dimension. We choose situations we illustrate a particular mathematical aspect of the scheme, by focusing on limit and/or degenerate cases, rather than some potential applications."
   ]
  },
  {
   "cell_type": "markdown",
   "metadata": {},
   "source": [
    "### 2.1 First order equation\n",
    "\n",
    "\n",
    "We consider first order the PDEs, in conservative or non-conservative form\n",
    "$$\n",
    "    (\\omega(t)u(t))'=0 \\quad \\text{or} \\quad \\omega(t)u'(t)=0\n",
    "$$\n",
    "for all $t\\in ]-1,1[$.\n",
    "The upwind scheme is used, since there is no second order diffusion operator.\n",
    "\n",
    "We use Dirichlet boundary conditions, more precisely $u(-1)=1$ and $u(1)=0$.\n",
    "These boundary conditions are incompatible in the classical sense, but thanks to the use of the upwind scheme the viscosity solution is selected. That is $u(t)= 1$ for all $t \\in [0,1[$ if the coefficients are constant, and for the non-conservative form."
   ]
  },
  {
   "cell_type": "markdown",
   "metadata": {},
   "source": [
    "#### 2.1.1 Constant coefficients\n",
    "\n",
    "The two formulations, conservative and non-conservative, are equivalent."
   ]
  },
  {
   "cell_type": "code",
   "execution_count": 8,
   "metadata": {},
   "outputs": [],
   "source": [
    "# Create the domain\n",
    "X0 = np.linspace(-1,1,11)\n",
    "gridScale = X0[1]-X0[0]\n",
    "\n",
    "# Set the boundary conditions \n",
    "bc=np.full(X0.shape,np.nan)\n",
    "bc[0]=1; bc[-1]=0\n",
    "\n",
    "# Choose the PDE parameters\n",
    "Diff = None; alpha = 0.; f = 0.\n",
    "omega = np.array([1])"
   ]
  },
  {
   "cell_type": "code",
   "execution_count": 9,
   "metadata": {},
   "outputs": [],
   "source": [
    "u=ad.Sparse2.identity(X0.shape)\n",
    "v=ad.Sparse2.identity(X0.shape,shift=u.size)"
   ]
  },
  {
   "cell_type": "code",
   "execution_count": 10,
   "metadata": {},
   "outputs": [],
   "source": [
    "variational = Scheme(u,v,Diff,omega,alpha,f,bc,gridScale,upwind=True,conservative=False)"
   ]
  },
  {
   "cell_type": "markdown",
   "metadata": {},
   "source": [
    "The matrix of the bilinear form is diagonally dominant, which is the signature of an upwind scheme."
   ]
  },
  {
   "cell_type": "code",
   "execution_count": 11,
   "metadata": {},
   "outputs": [
    {
     "name": "stdout",
     "output_type": "stream",
     "text": [
      "rhs:  [-0.2 -1.   0.   0.   0.   0.   0.   0.   0.   0.   0. ]\n",
      "bilinear form:\n",
      " [[ 0.2  0.   0.   0.   0.   0.   0.   0.   0.   0.   0. ]\n",
      " [ 0.   1.   0.   0.   0.   0.   0.   0.   0.   0.   0. ]\n",
      " [ 0.  -1.   1.   0.   0.   0.   0.   0.   0.   0.   0. ]\n",
      " [ 0.   0.  -1.   1.   0.   0.   0.   0.   0.   0.   0. ]\n",
      " [ 0.   0.   0.  -1.   1.   0.   0.   0.   0.   0.   0. ]\n",
      " [ 0.   0.   0.   0.  -1.   1.   0.   0.   0.   0.   0. ]\n",
      " [ 0.   0.   0.   0.   0.  -1.   1.   0.   0.   0.   0. ]\n",
      " [ 0.   0.   0.   0.   0.   0.  -1.   1.   0.   0.   0. ]\n",
      " [ 0.   0.   0.   0.   0.   0.   0.  -1.   1.   0.   0. ]\n",
      " [ 0.   0.   0.   0.   0.   0.   0.   0.  -1.   1.   0. ]\n",
      " [ 0.   0.   0.   0.   0.   0.   0.   0.   0.   0.   0.2]]\n"
     ]
    }
   ],
   "source": [
    "n=u.size \n",
    "variational_dense = variational.to_dense()\n",
    "print(\"rhs: \",variational_dense.coef1[n:])\n",
    "print(\"bilinear form:\\n\",variational_dense.coef2[n:,:n])"
   ]
  },
  {
   "cell_type": "code",
   "execution_count": 13,
   "metadata": {},
   "outputs": [
    {
     "data": {
      "text/plain": [
       "array([ 1.,  1.,  1.,  1.,  1.,  1.,  1.,  1.,  1.,  1., -0.])"
      ]
     },
     "execution_count": 13,
     "metadata": {},
     "output_type": "execute_result"
    }
   ],
   "source": [
    "variational.solve_weakform()"
   ]
  },
  {
   "cell_type": "markdown",
   "metadata": {},
   "source": [
    "The conservative scheme, with the correct sign convention, yieds an identical discretization and result."
   ]
  },
  {
   "cell_type": "code",
   "execution_count": 14,
   "metadata": {},
   "outputs": [],
   "source": [
    "variational = Scheme(u,v,Diff,-omega,alpha,f,bc,gridScale,upwind=True,conservative=True) # Note -(minus) omega"
   ]
  },
  {
   "cell_type": "code",
   "execution_count": 15,
   "metadata": {},
   "outputs": [
    {
     "name": "stdout",
     "output_type": "stream",
     "text": [
      "rhs:  [-0.2 -1.   0.   0.   0.   0.   0.   0.   0.   0.   0. ]\n",
      "bilinear form:\n",
      " [[ 0.2  0.   0.   0.   0.   0.   0.   0.   0.   0.   0. ]\n",
      " [ 0.   1.   0.   0.   0.   0.   0.   0.   0.   0.   0. ]\n",
      " [ 0.  -1.   1.   0.   0.   0.   0.   0.   0.   0.   0. ]\n",
      " [ 0.   0.  -1.   1.   0.   0.   0.   0.   0.   0.   0. ]\n",
      " [ 0.   0.   0.  -1.   1.   0.   0.   0.   0.   0.   0. ]\n",
      " [ 0.   0.   0.   0.  -1.   1.   0.   0.   0.   0.   0. ]\n",
      " [ 0.   0.   0.   0.   0.  -1.   1.   0.   0.   0.   0. ]\n",
      " [ 0.   0.   0.   0.   0.   0.  -1.   1.   0.   0.   0. ]\n",
      " [ 0.   0.   0.   0.   0.   0.   0.  -1.   1.   0.   0. ]\n",
      " [ 0.   0.   0.   0.   0.   0.   0.   0.  -1.   1.   0. ]\n",
      " [ 0.   0.   0.   0.   0.   0.   0.   0.   0.   0.   0.2]]\n"
     ]
    }
   ],
   "source": [
    "n=u.size \n",
    "variational_dense = variational.to_dense()\n",
    "print(\"rhs: \",variational_dense.coef1[n:])\n",
    "print(\"bilinear form:\\n\",variational_dense.coef2[n:,:n])"
   ]
  },
  {
   "cell_type": "code",
   "execution_count": 17,
   "metadata": {},
   "outputs": [
    {
     "data": {
      "text/plain": [
       "array([ 1.,  1.,  1.,  1.,  1.,  1.,  1.,  1.,  1.,  1., -0.])"
      ]
     },
     "execution_count": 17,
     "metadata": {},
     "output_type": "execute_result"
    }
   ],
   "source": [
    "variational.solve_weakform()"
   ]
  },
  {
   "cell_type": "markdown",
   "metadata": {},
   "source": [
    "#### 2.1.2 Non-constant coefficients\n",
    "\n",
    "The non-conservative form of the PDE $\\omega(t) u'(t)=0$ is equivalent to $u'(t)=0$, when $\\omega$ is positive over the interval. In constrast, if $\\omega$ is negative, then due to the upwind scheme the other boundary conditions is selected. This is consistent with the theory of viscosity solutions."
   ]
  },
  {
   "cell_type": "code",
   "execution_count": 18,
   "metadata": {},
   "outputs": [],
   "source": [
    "# Create the domain\n",
    "X0 = np.linspace(-1,1,101)\n",
    "gridScale = X0[1]-X0[0]\n",
    "\n",
    "# Set the boundary conditions \n",
    "bc=np.full(X0.shape,np.nan)\n",
    "bc[0]=1; bc[-1]=0\n",
    "\n",
    "# Choose the PDE parameters\n",
    "Diff = None; alpha = 0.; f = 0.\n",
    "omega = np.array([1.+0.5*np.sin(2.*np.pi*X0)])"
   ]
  },
  {
   "cell_type": "code",
   "execution_count": 19,
   "metadata": {},
   "outputs": [],
   "source": [
    "u=ad.Sparse2.identity(X0.shape)\n",
    "v=ad.Sparse2.identity(X0.shape,shift=u.size)"
   ]
  },
  {
   "cell_type": "code",
   "execution_count": 20,
   "metadata": {},
   "outputs": [],
   "source": [
    "variational = Scheme(u,v,Diff,omega,alpha,f,bc,gridScale,upwind=True,conservative=False)\n",
    "variational2 = Scheme(u,v,Diff,-omega,alpha,f,bc,gridScale,upwind=True,conservative=False)"
   ]
  },
  {
   "cell_type": "code",
   "execution_count": 21,
   "metadata": {},
   "outputs": [],
   "source": [
    "plt.title(\"(Viscosity) Solution to omega u' = 0, and -omega u' = 0\")\n",
    "plt.plot(X0,variational.solve_weakform(),\n",
    "        X0,variational2.solve_weakform()); plt.legend([\"omega u' = 0\",\"- omega u' = 0\"]);"
   ]
  },
  {
   "cell_type": "markdown",
   "metadata": {},
   "source": [
    "In contrast, the solution $u$ to $(\\omega u)'=0$ is non-constant. Instead, it is the flux $u'$ which is constant."
   ]
  },
  {
   "cell_type": "code",
   "execution_count": 23,
   "metadata": {},
   "outputs": [],
   "source": [
    "variational = Scheme(u,v,Diff,-omega,alpha,f,bc,gridScale,upwind=True,conservative=True)"
   ]
  },
  {
   "cell_type": "code",
   "execution_count": 24,
   "metadata": {},
   "outputs": [],
   "source": [
    "plt.title(\"(Viscosity) Solution to (omega u)' = 0\")\n",
    "plt.plot(X0,variational.solve_weakform());"
   ]
  },
  {
   "cell_type": "markdown",
   "metadata": {},
   "source": [
    "By adjusting the scalar multiplier\n",
    "$$\n",
    "    (\\omega u)' - \\omega'u = 0,\n",
    "$$\n",
    "we obtain PDE with a conservative first order term and which is nevertheless equivalent to $u'=0$.\n",
    "\n",
    "Note that the numerical solution is not perfectly constant. This is because we only use a first order scheme, and also because convergence only occurs in a weak sense. Reducing the grid scale makes the solution flatter.\n",
    "\n",
    "**Well posedness.**\n",
    "The Lax-Milgram theory requires, in principle, that the scalar coefficient $\\alpha$ be non-negative. This assumption fails here, but the PDE nevertheless has a unique solution for other reasons (e.g. formulation as an ODE, or equivalence with a well posed the non-divergence form PDE)."
   ]
  },
  {
   "cell_type": "code",
   "execution_count": 25,
   "metadata": {},
   "outputs": [],
   "source": [
    "alpha = -np.gradient(omega.flatten(),gridScale)\n",
    "variational = Scheme(u,v,Diff,-omega,alpha,f,bc,gridScale,upwind=True,conservative=True)"
   ]
  },
  {
   "cell_type": "code",
   "execution_count": 26,
   "metadata": {},
   "outputs": [],
   "source": [
    "plt.title(\"(Viscosity) Solution to (omega u)' = 0\")\n",
    "plt.plot(X0,variational.solve_weakform());"
   ]
  },
  {
   "cell_type": "markdown",
   "metadata": {},
   "source": [
    "### 2.2 The Laplacian operator"
   ]
  },
  {
   "cell_type": "markdown",
   "metadata": {},
   "source": [
    "#### 2.2.1 Constant coefficients\n",
    "\n",
    "As a starter, we solve the PDE\n",
    "$$\n",
    "    {-} u''(t)=0,\n",
    "$$\n",
    "for all $t \\in ]-1,1[$. The solution which linearly interpolates between the boundary conditions, as it should."
   ]
  },
  {
   "cell_type": "code",
   "execution_count": 27,
   "metadata": {},
   "outputs": [],
   "source": [
    "# Create the domain\n",
    "X0 = np.linspace(-1,1,11)\n",
    "gridScale = X0[1]-X0[0]\n",
    "\n",
    "# Set the boundary conditions \n",
    "bc=np.full(X0.shape,np.nan)\n",
    "bc[0]=1; bc[-1]=0\n",
    "\n",
    "# Choose the PDE parameters\n",
    "omega = np.array([0.]); alpha = 0.; f = 0.\n",
    "Diff = np.eye(1)"
   ]
  },
  {
   "cell_type": "code",
   "execution_count": 28,
   "metadata": {},
   "outputs": [],
   "source": [
    "u=ad.Sparse2.identity(X0.shape)\n",
    "v=ad.Sparse2.identity(X0.shape,shift=u.size)"
   ]
  },
  {
   "cell_type": "code",
   "execution_count": 29,
   "metadata": {},
   "outputs": [],
   "source": [
    "variational = Scheme(u,v,Diff,omega,alpha,f,bc,gridScale)"
   ]
  },
  {
   "cell_type": "markdown",
   "metadata": {},
   "source": [
    "One recognizes the tridiagonal structure of the laplacian."
   ]
  },
  {
   "cell_type": "code",
   "execution_count": 30,
   "metadata": {},
   "outputs": [
    {
     "name": "stdout",
     "output_type": "stream",
     "text": [
      "rhs:  [-0.2 -5.   0.   0.   0.   0.   0.   0.   0.   0.   0. ]\n",
      "bilinear form:\n",
      " [[ 0.2  0.   0.   0.   0.   0.   0.   0.   0.   0.   0. ]\n",
      " [ 0.  10.  -5.   0.   0.   0.   0.   0.   0.   0.   0. ]\n",
      " [ 0.  -5.  10.  -5.   0.   0.   0.   0.   0.   0.   0. ]\n",
      " [ 0.   0.  -5.  10.  -5.   0.   0.   0.   0.   0.   0. ]\n",
      " [ 0.   0.   0.  -5.  10.  -5.   0.   0.   0.   0.   0. ]\n",
      " [ 0.   0.   0.   0.  -5.  10.  -5.   0.   0.   0.   0. ]\n",
      " [ 0.   0.   0.   0.   0.  -5.  10.  -5.   0.   0.   0. ]\n",
      " [ 0.   0.   0.   0.   0.   0.  -5.  10.  -5.   0.   0. ]\n",
      " [ 0.   0.   0.   0.   0.   0.   0.  -5.  10.  -5.   0. ]\n",
      " [ 0.   0.   0.   0.   0.   0.   0.   0.  -5.  10.   0. ]\n",
      " [ 0.   0.   0.   0.   0.   0.   0.   0.   0.   0.   0.2]]\n"
     ]
    }
   ],
   "source": [
    "n=u.size \n",
    "variational_dense = variational.to_dense()\n",
    "print(\"rhs: \",variational_dense.coef1[n:])\n",
    "print(\"bilinear form:\\n\",variational_dense.coef2[n:,:n])"
   ]
  },
  {
   "cell_type": "markdown",
   "metadata": {},
   "source": [
    "<!---Upon inspection, we see that the slope is doubled in the first and last intervals $[0,h]$ and $[1-h,1]$.\n",
    "That is because the discretization of the bilinear form is second order consistent with\n",
    "$$\n",
    "    \\int_{h/2}^{1-h/2} u'(t) v'(t) \\mathrm{d} t.\n",
    "$$\n",
    "Said otherwise, assume that an interval $[k h, (k+1) h]$ is shared by a boundary point and an interior point. \n",
    "Then, in our discretization, this interval is regarded as half boundary and half domain, and it weighs only half in the discretization of the quadratic form.--->\n",
    "\n",
    "<!---, say $k h$, and an interior point, say $(k+1)h$. Then $[k h, (k+1/2) h]$ is regarded as part of the boundary, and $[(k+1/2) h, (k+1) h]$ is regarded as part of the domain.--->\n",
    "\n",
    "<!---This convention may seem peculiar in dimension $1$, but it is simpler and higher order consistent for general domains in dimension $d\\geq 2$.--->"
   ]
  },
  {
   "cell_type": "code",
   "execution_count": 32,
   "metadata": {},
   "outputs": [
    {
     "data": {
      "text/plain": [
       "array([ 1. ,  0.9,  0.8,  0.7,  0.6,  0.5,  0.4,  0.3,  0.2,  0.1, -0. ])"
      ]
     },
     "execution_count": 32,
     "metadata": {},
     "output_type": "execute_result"
    }
   ],
   "source": [
    "variational.solve_weakform()"
   ]
  },
  {
   "cell_type": "code",
   "execution_count": 33,
   "metadata": {},
   "outputs": [],
   "source": [
    "plt.title(\"Solution to u''=0\")\n",
    "plt.plot(X0,variational.solve_weakform());"
   ]
  },
  {
   "cell_type": "markdown",
   "metadata": {},
   "source": [
    "#### 2.2.2 Variable coefficients\n",
    "\n",
    "If the diffusion coefficients $d$ are non-constant, then the solution to \n",
    "$$\n",
    "    -(d u')'=0\n",
    "$$\n",
    "is not affine.\n",
    "This is in contrast with the non-divergence form PDEs, $-d u'' = 0$."
   ]
  },
  {
   "cell_type": "code",
   "execution_count": 34,
   "metadata": {},
   "outputs": [],
   "source": [
    "# Create the domain\n",
    "X0 = np.linspace(-1,1,101)\n",
    "gridScale = X0[1]-X0[0]\n",
    "\n",
    "# Set the boundary conditions \n",
    "bc=np.full(X0.shape,np.nan)\n",
    "bc[0]=1; bc[-1]=0\n",
    "\n",
    "# Choose the PDE parameters\n",
    "omega = fd.as_field(np.array([0.]),X0.shape); alpha = 0.; f = 0.\n",
    "Diff = (1.+0.8*np.sin(2.*np.pi*X0)).reshape((1,1)+X0.shape)"
   ]
  },
  {
   "cell_type": "code",
   "execution_count": 35,
   "metadata": {},
   "outputs": [],
   "source": [
    "u=ad.Sparse2.identity(X0.shape)\n",
    "v=ad.Sparse2.identity(X0.shape,shift=u.size)"
   ]
  },
  {
   "cell_type": "code",
   "execution_count": 36,
   "metadata": {},
   "outputs": [],
   "source": [
    "variational = Scheme(u,v,Diff,omega,alpha,f,bc,gridScale)"
   ]
  },
  {
   "cell_type": "code",
   "execution_count": 37,
   "metadata": {},
   "outputs": [],
   "source": [
    "plt.title(\"Solution to -(du')'=0\")\n",
    "plt.plot(X0,variational.solve_weakform());"
   ]
  },
  {
   "cell_type": "markdown",
   "metadata": {},
   "source": [
    "Again, one can compensate by modifying the lower order coefficients, based on the identity\n",
    "$$\n",
    "    -du'' = -(du')'+d'u'.\n",
    "$$\n",
    "Centered finite differences are used for better accuracy, and they are stable since the diffusion coefficients are positive.\n",
    "<!--- = -(du')'+(d'u)'-d''u\n",
    "alpha = np.gradient(np.squeeze(omega,axis=0),gridScale)\n",
    "variational2 = Scheme(u,v,Diff,-omega,alpha,f,bc,gridScale,upwind=False,conservative=True)\n",
    "--->"
   ]
  },
  {
   "cell_type": "code",
   "execution_count": 38,
   "metadata": {},
   "outputs": [],
   "source": [
    "omega = np.gradient(np.squeeze(Diff,axis=0),gridScale,axis=1)"
   ]
  },
  {
   "cell_type": "code",
   "execution_count": 39,
   "metadata": {},
   "outputs": [],
   "source": [
    "variational = Scheme(u,v,Diff,omega,alpha,f,bc,gridScale,upwind=True,conservative=False)"
   ]
  },
  {
   "cell_type": "code",
   "execution_count": 40,
   "metadata": {},
   "outputs": [],
   "source": [
    "plt.title(\"Solution to -(du')'+d'u'=0\")\n",
    "plt.plot(X0,variational.solve_weakform());"
   ]
  },
  {
   "cell_type": "markdown",
   "metadata": {},
   "source": [
    "### 2.3 The vanishing viscosity limit\n",
    "\n",
    "We consider the PDE\n",
    "$$\n",
    "    -\\epsilon u''(t) + u'(t) = 0\n",
    "$$\n",
    "for all $t \\in ]-1,1[$ with again $u(0)=1$ and $u(1)=0$.\n",
    "In the limit, as $\\epsilon \\to 0$, the viscosity solution is obtained.\n",
    "\n",
    "Centered finite differences are used for the first order term. The numerical scheme remains stable provided $\\epsilon >= h/2$."
   ]
  },
  {
   "cell_type": "code",
   "execution_count": 41,
   "metadata": {},
   "outputs": [],
   "source": [
    "# Create the domain\n",
    "X0 = np.linspace(-1,1,101)\n",
    "gridScale = X0[1]-X0[0]\n",
    "\n",
    "# Set the boundary conditions \n",
    "bc=np.full(X0.shape,np.nan)\n",
    "bc[0]=0; bc[-1]=1\n",
    "\n",
    "# Choose the PDE parameters\n",
    "epsilon = 2*gridScale\n",
    "Diff = np.eye(1) * epsilon\n",
    "alpha = 0.\n",
    "omega = np.array([1])\n",
    "f = 0."
   ]
  },
  {
   "cell_type": "code",
   "execution_count": 42,
   "metadata": {},
   "outputs": [],
   "source": [
    "u=ad.Sparse2.identity(X0.shape)\n",
    "v=ad.Sparse2.identity(X0.shape,shift=u.size)\n",
    "variational = Scheme(u,v,Diff,omega,alpha,f,bc,gridScale,upwind=False)"
   ]
  },
  {
   "cell_type": "code",
   "execution_count": 43,
   "metadata": {},
   "outputs": [],
   "source": [
    "plt.title(\"Solution to -eps*u''+u'=0\")\n",
    "plt.plot(X0,variational.solve_weakform());"
   ]
  },
  {
   "cell_type": "markdown",
   "metadata": {},
   "source": [
    "Interestingly, one recovers the upwind scheme by choosing the critical stable value $\\epsilon = h/2$."
   ]
  },
  {
   "cell_type": "code",
   "execution_count": 44,
   "metadata": {},
   "outputs": [],
   "source": [
    "# Create the domain\n",
    "X0 = np.linspace(-1,1,11)\n",
    "gridScale = X0[1]-X0[0]\n",
    "\n",
    "# Set the boundary conditions \n",
    "bc=np.full(X0.shape,np.nan)\n",
    "bc[0]=0; bc[-1]=1\n",
    "\n",
    "# Choose the PDE parameters\n",
    "epsilon = gridScale/2\n",
    "Diff = np.eye(1) * epsilon\n",
    "alpha = 0.\n",
    "omega = np.array([1])\n",
    "f = 0."
   ]
  },
  {
   "cell_type": "code",
   "execution_count": 45,
   "metadata": {},
   "outputs": [],
   "source": [
    "u=ad.Sparse2.identity(X0.shape)\n",
    "v=ad.Sparse2.identity(X0.shape,shift=u.size)\n",
    "variational = Scheme(u,v,Diff,omega,alpha,f,bc,gridScale,upwind=False)"
   ]
  },
  {
   "cell_type": "code",
   "execution_count": 46,
   "metadata": {},
   "outputs": [
    {
     "name": "stdout",
     "output_type": "stream",
     "text": [
      "rhs:  [ 0.   0.   0.   0.   0.   0.   0.   0.   0.   0.  -0.2]\n",
      "bilinear form:\n",
      " [[ 0.2  0.   0.   0.   0.   0.   0.   0.   0.   0.   0. ]\n",
      " [ 0.   1.   0.   0.   0.   0.   0.   0.   0.   0.   0. ]\n",
      " [ 0.  -1.   1.   0.   0.   0.   0.   0.   0.   0.   0. ]\n",
      " [ 0.   0.  -1.   1.   0.   0.   0.   0.   0.   0.   0. ]\n",
      " [ 0.   0.   0.  -1.   1.   0.   0.   0.   0.   0.   0. ]\n",
      " [ 0.   0.   0.   0.  -1.   1.   0.   0.   0.   0.   0. ]\n",
      " [ 0.   0.   0.   0.   0.  -1.   1.   0.   0.   0.   0. ]\n",
      " [ 0.   0.   0.   0.   0.   0.  -1.   1.   0.   0.   0. ]\n",
      " [ 0.   0.   0.   0.   0.   0.   0.  -1.   1.   0.   0. ]\n",
      " [ 0.   0.   0.   0.   0.   0.   0.   0.  -1.   1.   0. ]\n",
      " [ 0.   0.   0.   0.   0.   0.   0.   0.   0.   0.   0.2]]\n"
     ]
    }
   ],
   "source": [
    "n=u.size \n",
    "variational_dense = variational.to_dense()\n",
    "print(\"rhs: \",variational_dense.coef1[n:])\n",
    "print(\"bilinear form:\\n\",variational_dense.coef2[n:,:n])"
   ]
  },
  {
   "cell_type": "code",
   "execution_count": 47,
   "metadata": {},
   "outputs": [],
   "source": [
    "plt.title(\"Solution to -eps*u''+u'=0 (critical eps)\")\n",
    "plt.plot(X0,variational.solve_weakform());"
   ]
  },
  {
   "cell_type": "markdown",
   "metadata": {},
   "source": [
    "## 3. Two dimensional examples\n",
    "\n",
    "We present test cases illustrating the robustness of the scheme and various limit behaviors. For validation purposes, we reproduce some test cases from notebook [LinearMonotoneSchemes2D](../Notebooks_NonDiv/LinearMonotoneSchemes2D.ipynb)."
   ]
  },
  {
   "cell_type": "markdown",
   "metadata": {},
   "source": [
    "### 3.1 First order equation\n",
    "\n",
    "As a starter, we solve the PDE \n",
    "$$\n",
    "    1 - <\\omega,\\nabla u> = 0,\n",
    "$$\n",
    "using the upwind scheme, and with formally incompatible boundary conditions. We recover, of course, the viscosity solution to the PDE"
   ]
  },
  {
   "cell_type": "code",
   "execution_count": 48,
   "metadata": {},
   "outputs": [],
   "source": [
    "# Create the domain\n",
    "aX0 = np.linspace(-1,1,101); aX1=aX0\n",
    "gridScale = aX0[1]-aX0[0]\n",
    "X0,X1 = np.meshgrid(aX0,aX1,indexing='ij')\n",
    "\n",
    "# Set the boundary conditions \n",
    "domain = (X0**2+X1**2)<0.9**2\n",
    "bc = 0.3*np.sin(2*np.pi*(X0+X1))\n",
    "bc[domain] = np.nan\n",
    "\n",
    "# Choose the PDE parameters\n",
    "Diff=None; alpha=0.; f=-1.\n",
    "omega = np.stack( (1.3+np.sin(np.pi*X1), np.cos(np.pi*(X0+X1)/4)) )"
   ]
  },
  {
   "cell_type": "code",
   "execution_count": 49,
   "metadata": {},
   "outputs": [],
   "source": [
    "u=ad.Sparse2.identity(X0.shape)\n",
    "v=ad.Sparse2.identity(X0.shape,shift=u.size)"
   ]
  },
  {
   "cell_type": "code",
   "execution_count": 50,
   "metadata": {},
   "outputs": [],
   "source": [
    "# Note the sign in front of omega\n",
    "variational = Scheme(u,v,Diff,-omega,alpha,f,bc,gridScale,upwind=True,conservative=False)"
   ]
  },
  {
   "cell_type": "code",
   "execution_count": 51,
   "metadata": {},
   "outputs": [],
   "source": [
    "solution = variational.solve_weakform().reshape(u.shape)"
   ]
  },
  {
   "cell_type": "code",
   "execution_count": 52,
   "metadata": {},
   "outputs": [],
   "source": [
    "plt.axis('equal'); plt.title('Solution to 1-<w,grad u> = 0')\n",
    "plt.contourf(X0,X1,solution); plt.colorbar();"
   ]
  },
  {
   "cell_type": "markdown",
   "metadata": {},
   "source": [
    "We took care, when implementing the upwind scheme, to adapt the direction of the finite differences depending on the sign of the coefficients of the vector field $\\omega$. This direction may change over the domain, as in the following example."
   ]
  },
  {
   "cell_type": "code",
   "execution_count": 53,
   "metadata": {},
   "outputs": [],
   "source": [
    "omega = np.stack( (1.3+np.sin(np.pi*X1), np.cos(np.pi*(2*X0+X1)/2)) )\n",
    "variational = Scheme(u,v,Diff,-omega,alpha,f,bc,gridScale,upwind=True,conservative=False)\n",
    "solution = variational.solve_weakform().reshape(u.shape)"
   ]
  },
  {
   "cell_type": "code",
   "execution_count": 54,
   "metadata": {},
   "outputs": [],
   "source": [
    "plt.axis('equal'); plt.title('Solution to 1-<w,grad u> = 0')\n",
    "plt.contourf(X0,X1,solution); plt.colorbar();"
   ]
  },
  {
   "cell_type": "markdown",
   "metadata": {},
   "source": [
    "The solution to the conservative equation \n",
    "$$\n",
    "    1-\\mathrm{div}(\\omega u) = 0,\n",
    "$$\n",
    "is obviously different.\n",
    "However, as in the one dimensional case, as usual we can introduce a compensating first order term."
   ]
  },
  {
   "cell_type": "code",
   "execution_count": 55,
   "metadata": {},
   "outputs": [],
   "source": [
    "variational = Scheme(u,v,Diff,omega,alpha,f,bc,gridScale,upwind=True,conservative=True) \n",
    "solution = variational.solve_weakform().reshape(u.shape)"
   ]
  },
  {
   "cell_type": "code",
   "execution_count": 56,
   "metadata": {},
   "outputs": [],
   "source": [
    "plt.axis('equal'); plt.title('Solution to 1-<w,grad u> = 0')\n",
    "plt.contourf(X0,X1,solution); plt.colorbar();"
   ]
  },
  {
   "cell_type": "code",
   "execution_count": 57,
   "metadata": {},
   "outputs": [],
   "source": [
    "div_omega = np.gradient(omega[0],gridScale,axis=0)+np.gradient(omega[1],gridScale,axis=1)"
   ]
  },
  {
   "cell_type": "code",
   "execution_count": 59,
   "metadata": {},
   "outputs": [],
   "source": [
    "variational = Scheme(u,v,Diff,omega,div_omega,f,bc,gridScale,upwind=True,conservative=True) \n",
    "solution = variational.solve_weakform().reshape(u.shape)"
   ]
  },
  {
   "cell_type": "code",
   "execution_count": 60,
   "metadata": {},
   "outputs": [],
   "source": [
    "plt.axis('equal'); plt.title('Solution to 1-<w,grad u> = 0')\n",
    "plt.contourf(X0,X1,solution); plt.colorbar();"
   ]
  },
  {
   "cell_type": "markdown",
   "metadata": {},
   "source": [
    "### 3.2 Isotropic laplacian"
   ]
  },
  {
   "cell_type": "code",
   "execution_count": 61,
   "metadata": {},
   "outputs": [],
   "source": [
    "# Choose the PDE parameters\n",
    "diff = 1+0.8*X0\n",
    "Diff = diff*fd.as_field(np.eye(2,2),X0.shape)\n",
    "alpha = 1+0.8*X1\n",
    "omega = fd.as_field(np.array((1.,1.)),X0.shape)\n",
    "f = np.sin(4*(X0+X1))"
   ]
  },
  {
   "cell_type": "code",
   "execution_count": 62,
   "metadata": {},
   "outputs": [],
   "source": [
    "variational = Scheme(u,v,Diff,omega,alpha,f,bc,gridScale,upwind=False,conservative=True)"
   ]
  },
  {
   "cell_type": "code",
   "execution_count": 63,
   "metadata": {},
   "outputs": [],
   "source": [
    "solution = variational.solve_weakform().reshape(u.shape)"
   ]
  },
  {
   "cell_type": "code",
   "execution_count": 64,
   "metadata": {},
   "outputs": [],
   "source": [
    "plt.axis('equal'); plt.title('Solution to an isotropic elliptic PDE')\n",
    "plt.contourf(X0,X1,solution); plt.colorbar();"
   ]
  },
  {
   "cell_type": "markdown",
   "metadata": {},
   "source": [
    "### 3.3 Anisotropic laplacian"
   ]
  },
  {
   "cell_type": "code",
   "execution_count": 65,
   "metadata": {},
   "outputs": [],
   "source": [
    "ev = np.stack((1.+0.*X0, np.sin(2*np.pi*X0)), axis=0)\n",
    "evNorm = np.sqrt((ev**2).sum(axis=0))\n",
    "ev /= evNorm\n",
    "              \n",
    "Diff = 0.3**2*lp.outer_self(ev) + lp.outer_self(lp.perp(ev))"
   ]
  },
  {
   "cell_type": "code",
   "execution_count": 66,
   "metadata": {},
   "outputs": [],
   "source": [
    "variational = Scheme(u,v,Diff,omega,alpha,f,bc,gridScale,upwind=False,conservative=True)"
   ]
  },
  {
   "cell_type": "code",
   "execution_count": 67,
   "metadata": {},
   "outputs": [],
   "source": [
    "solution = variational.solve_weakform().reshape(u.shape)"
   ]
  },
  {
   "cell_type": "code",
   "execution_count": 68,
   "metadata": {},
   "outputs": [],
   "source": [
    "plt.axis('equal'); plt.title('Solution to an anisotropic elliptic PDE')\n",
    "plt.contourf(X0,X1,solution); plt.colorbar();"
   ]
  },
  {
   "cell_type": "markdown",
   "metadata": {},
   "source": [
    "<!---\n",
    "(Unfinished work hidden here.)\n",
    "\n",
    "## 2. Comparison with a naive scheme\n",
    "\n",
    "We check the results using a naive discretization of the PDE, which \n",
    "\n",
    "def Scheme_Naive(u,Diff,omega,alpha,f,bc,h):\n",
    "    \"\"\"Residue for an anisotropic elliptic equation, \n",
    "    with Dirichlet boundary conditions. (Naive implementation)\"\"\"\n",
    "    offsets = np.stack( ((1,0), (0,1)), axis=-1)\n",
    "    du = fd.DiffCentered(u, offsets, h, padding=0)\n",
    "    v = lp.dot_AV(Diff,du)\n",
    "    div_v = fd.DiffCentered(v[0],(1,0),h) + fd.DiffCentered(v[1],(0,1),h)\n",
    "    residue = - div_v + lp.dot_VV(omega,du) + alpha*u - f\n",
    "    \n",
    "    mask = np.logical_not(np.isnan(bc))\n",
    "    residue[mask] = u[mask]-bc[mask]\n",
    "    return ad.where(\n",
    "    \n",
    "    ## 3. Neumann boundary conditions\n",
    "--->"
   ]
  },
  {
   "cell_type": "code",
   "execution_count": null,
   "metadata": {},
   "outputs": [],
   "source": []
  }
 ],
 "metadata": {
  "celltoolbar": "Format de la Cellule Texte Brut",
  "kernelspec": {
   "display_name": "Python 3 (ipykernel)",
   "language": "python",
   "name": "python3"
  },
  "language_info": {
   "codemirror_mode": {
    "name": "ipython",
    "version": 3
   },
   "file_extension": ".py",
   "mimetype": "text/x-python",
   "name": "python",
   "nbconvert_exporter": "python",
   "pygments_lexer": "ipython3",
   "version": "3.10.8"
  },
  "varInspector": {
   "cols": {
    "lenName": 16,
    "lenType": 16,
    "lenVar": 40
   },
   "kernels_config": {
    "python": {
     "delete_cmd_postfix": "",
     "delete_cmd_prefix": "del ",
     "library": "var_list.py",
     "varRefreshCmd": "print(var_dic_list())"
    },
    "r": {
     "delete_cmd_postfix": ") ",
     "delete_cmd_prefix": "rm(",
     "library": "var_list.r",
     "varRefreshCmd": "cat(var_dic_list()) "
    }
   },
   "types_to_exclude": [
    "module",
    "function",
    "builtin_function_or_method",
    "instance",
    "_Feature"
   ],
   "window_display": false
  }
 },
 "nbformat": 4,
 "nbformat_minor": 2
}