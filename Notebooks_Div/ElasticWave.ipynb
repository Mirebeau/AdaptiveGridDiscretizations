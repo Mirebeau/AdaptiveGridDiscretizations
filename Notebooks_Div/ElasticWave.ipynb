{
 "cells": [
  {
   "cell_type": "markdown",
   "metadata": {},
   "source": [
    "# Adaptive PDE discretizations on Cartesian grids\n",
    "## Volume : Divergence form PDEs\n",
    "## Part : Linear elasticity\n",
    "## Chapter : The wave equation"
   ]
  },
  {
   "cell_type": "markdown",
   "metadata": {},
   "source": [
    "We use a novel [discretization of the linear elastic energy](ElasticEnergy.ipynb) to solve the elastic wave equation, in two dimensions. The scheme is second order in space. Regarding time, we use the Verlet first order symplectic scheme, which is actually second order up to a time shift by $\\mathrm{d}t/2$.\n",
    "\n",
    "**Periodic boundary conditions.** Alternative boundary conditions will be the object of future work."
   ]
  },
  {
   "cell_type": "markdown",
   "metadata": {},
   "source": [
    "[**Summary**](Summary.ipynb) of volume Divergence form PDEs, this series of notebooks.\n",
    "\n",
    "[**Main summary**](../Summary.ipynb) of the Adaptive Grid Discretizations \n",
    "\tbook of notebooks, including the other volumes.\n",
    "\n",
    "# Table of contents\n",
    "  * [1. Model analysis](#1.-Model-analysis)\n",
    "    * [1.1 The Hamiltonian](#1.1-The-Hamiltonian)\n",
    "    * [1.2 Choosing a material](#1.2-Choosing-a-material)\n",
    "    * [1.3 Traveling waves](#1.3-Traveling-waves)\n",
    "  * [2. Constant material in space](#2.-Constant-material-in-space)\n",
    "    * [2.1 Isotropic material](#2.1-Isotropic-material)\n",
    "    * [2.2 Crystal material (anisotropic)](#2.2-Crystal-material-(anisotropic))\n",
    "  * [3. Varying material over the domain](#3.-Varying-material-over-the-domain)\n",
    "    * [3.1 Smooth variations](#3.1-Smooth-variations)\n",
    "    * [3.2 Discontinuous material](#3.2-Discontinuous-material)\n",
    "\n",
    "\n",
    "\n",
    "**Acknowledgement.** Some of the experiments presented in these notebooks are part of \n",
    "ongoing research with Ludovic Métivier and Da Chen.\n",
    "\n",
    "Copyright Jean-Marie Mirebeau, Centre Borelli, ENS Paris-Saclay, CNRS, University Paris-Saclay"
   ]
  },
  {
   "cell_type": "markdown",
   "metadata": {},
   "source": [
    "## 0. Importing the required libraries"
   ]
  },
  {
   "cell_type": "code",
   "execution_count": 1,
   "metadata": {},
   "outputs": [],
   "source": [
    "import sys; sys.path.insert(0,\"..\") # Allow import of agd from parent directory (useless if conda package installed)\n",
    "#from Miscellaneous import TocTools; print(TocTools.displayTOC('ElasticityWave','Div'))"
   ]
  },
  {
   "cell_type": "code",
   "execution_count": 2,
   "metadata": {},
   "outputs": [],
   "source": [
    "from agd import LinearParallel as lp\n",
    "from agd import FiniteDifferences as fd\n",
    "from agd.Metrics.Seismic import Hooke\n",
    "from agd.ODE.hamiltonian import QuadraticHamiltonian\n",
    "from agd import AutomaticDifferentiation as ad\n",
    "from agd import Domain\n",
    "from agd.Plotting import savefig,quiver; #savefig.dirName = 'Images/ElasticityDirichlet'\n",
    "norm_infinity = ad.Optimization.norm_infinity\n",
    "\n",
    "from agd.ExportedCode.Notebooks_Div.ElasticEnergy import ElasticEnergy\n",
    "mica,ρ = Hooke.mica # Note: ρ is in g/cm^3, which is inconsistent with the Hooke tensor SI units "
   ]
  },
  {
   "cell_type": "code",
   "execution_count": 3,
   "metadata": {},
   "outputs": [],
   "source": [
    "import numpy as np; xp=np; allclose=np.allclose\n",
    "import matplotlib.pyplot as plt\n",
    "import scipy.sparse; import scipy.sparse.linalg\n",
    "from matplotlib import rc,animation; rc('animation', html='html5')"
   ]
  },
  {
   "cell_type": "markdown",
   "metadata": {},
   "source": [
    "Utility functions."
   ]
  },
  {
   "cell_type": "code",
   "execution_count": 4,
   "metadata": {},
   "outputs": [],
   "source": [
    "def quiver_animation(X,Y,U,V,subsampling=tuple(),\n",
    "                     figsize=None,axis=None,quiver_kwargs={},FAkwargs={}):\n",
    "    \"\"\"Animates a sequence of quiver plots.\"\"\"\n",
    "    where = tuple(slice(None,None,s) for s in subsampling)\n",
    "    X,Y,U,V = (Z.__getitem__(where) for Z in (X,Y,U,V))\n",
    "    X,Y,U,V = map(ad.cupy_generic.cupy_get,(X,Y,U,V))\n",
    "    fig, ax = plt.subplots(figsize=figsize); plt.close()\n",
    "    if axis is not None: ax.axis(axis)\n",
    "    Um,Vm = (np.mean(np.abs(E),axis=-1) for E in (U,V)) # Mean values for correct scaling\n",
    "    quiv = ax.quiver(X,Y,Um,Vm,**quiver_kwargs)\n",
    "    def func(i,Y): quiv.set_UVC(U[...,i],V[...,i]) \n",
    "    FAkwargs.setdefault('interval',20)\n",
    "    FAkwargs.setdefault('repeat',False)\n",
    "    return animation.FuncAnimation(fig,func,fargs=(Y,),frames=U.shape[-1],**FAkwargs)"
   ]
  },
  {
   "cell_type": "markdown",
   "metadata": {},
   "source": [
    "### 0.1 Additional configuration\n",
    "\n",
    "Uncomment the following line to use GPU acceleration."
   ]
  },
  {
   "cell_type": "code",
   "execution_count": 6,
   "metadata": {
    "tags": [
     "GPU_config"
    ]
   },
   "outputs": [
    {
     "name": "stdout",
     "output_type": "stream",
     "text": [
      "Replacing numpy with cupy, set to output 32bit ints and floats by default.\n",
      "Using cp.asarray(*,dtype=np.float32) as the default caster in ad.array.\n",
      "Returning a copy of module matplotlib.pyplot whose functions accept cupy arrays as input.\n",
      "Returning a copy of function quiver which accepts cupy arrays as input.\n",
      "Replacing ndarray members with their cupy variants, for object of type <class 'agd.Metrics.Seismic.hooke.Hooke'>\n",
      "Setting float32 compatible default values atol=rtol=1e-5 in np.allclose\n"
     ]
    }
   ],
   "source": [
    "#xp,plt,quiver,mica,allclose = map(ad.cupy_friendly,(xp,plt,quiver,mica,allclose))"
   ]
  },
  {
   "cell_type": "markdown",
   "metadata": {},
   "source": [
    "Set to true to run large problem instances. (Computation times may become slightly longer.)"
   ]
  },
  {
   "cell_type": "code",
   "execution_count": 7,
   "metadata": {},
   "outputs": [],
   "source": [
    "large_instances = xp is not np # Large instances on GPU"
   ]
  },
  {
   "cell_type": "markdown",
   "metadata": {},
   "source": [
    "## 1. Model analysis\n"
   ]
  },
  {
   "cell_type": "markdown",
   "metadata": {},
   "source": [
    "### 1.1 The Hamiltonian\n",
    "\n",
    "\n",
    "The Hamiltonian of the elastic wave equation is separable, and is the sum of two quadratic terms: the kinetic energy, and the elastic energy.\n",
    "$$\n",
    "    H(v,m) = \\frac 1 2 \\int_\\Omega c(\\epsilon,\\epsilon) + \\frac{\\|m\\|^2}{\\rho},\n",
    "$$\n",
    "where $c$ is the Hooke tensor, $\\epsilon$ is the stress tensor, $m$ is the momentum density, and $\\rho$ is the material density.\n",
    "The finite differences approximation of $c(\\epsilon,\\epsilon)$ is the subject of [another notebook](ElasticEnergy.ipynb). In order to complete our Hamiltonian, we thus only need to discretize the kinetic energy."
   ]
  },
  {
   "cell_type": "code",
   "execution_count": 8,
   "metadata": {},
   "outputs": [],
   "source": [
    "def KineticEnergy(m,ρ):\n",
    "    \"\"\"Squared norm of the momentum, divided by the density, \n",
    "    which is (twice) the kinetic energy density.\"\"\"\n",
    "    return (m**2).sum(axis=0) / ρ"
   ]
  },
  {
   "cell_type": "markdown",
   "metadata": {},
   "source": [
    "Based on the earlier discussion along the [discretization of $c(\\epsilon,\\epsilon)$](ElasticEnergy.ipynb), and on the [wave equation CFL condition](Time1D_Div.ipynb), we obtain a CFL condition (somewhat pessimistic) for the wave equation. "
   ]
  },
  {
   "cell_type": "code",
   "execution_count": 9,
   "metadata": {},
   "outputs": [],
   "source": [
    "def CFL(dx,hooke,ρ,order=1):\n",
    "    \"\"\"Largest time step guaranteed to be stable for the elastic wave equation\"\"\"\n",
    "    tr = lp.trace(hooke.to_Mandel())\n",
    "    return dx/(hooke.vdim*np.sqrt(tr/ρ)) # See elastic energy notebook"
   ]
  },
  {
   "cell_type": "markdown",
   "metadata": {},
   "source": [
    "### 1.2 Choosing a material\n",
    "\n",
    "We collected a few examples of material elasticity tensors and density, for illustration purposes. For simplicity, we use a constant material, and a periodic domain."
   ]
  },
  {
   "cell_type": "code",
   "execution_count": 10,
   "metadata": {},
   "outputs": [],
   "source": [
    "hooke = mica.extract_xz().rotate_by(0.5)\n",
    "crystal_material = (hooke,ρ)"
   ]
  },
  {
   "cell_type": "markdown",
   "metadata": {},
   "source": [
    "For the purposes of illustration, we also consider a simpler isotropic material, defined by unit Lame coefficients $\\lambda=\\mu=1$, and unit density $\\rho=1$."
   ]
  },
  {
   "cell_type": "code",
   "execution_count": 11,
   "metadata": {},
   "outputs": [],
   "source": [
    "hooke = Hooke.from_Lame(xp.array(1.),1.)\n",
    "ρ = 1.\n",
    "isotropic_material = (hooke, ρ)"
   ]
  },
  {
   "cell_type": "markdown",
   "metadata": {},
   "source": [
    "We are now in position to introduce the full hamiltonian, for a periodic domain at least. "
   ]
  },
  {
   "cell_type": "code",
   "execution_count": 12,
   "metadata": {},
   "outputs": [],
   "source": [
    "def WaveHamiltonian(hooke,ρ,dom):\n",
    "    \"\"\"Returns the Hamiltonian of the linear elastic wave equation.\"\"\"\n",
    "    # Summation is implicit, and purposedly not done here (for simplify_ad)\n",
    "    h = dom.gridscale\n",
    "    Hq = lambda q: 0.5 * ElasticEnergy(q,hooke,dom)\n",
    "    Hp = lambda p: 0.5 * KineticEnergy(p,ρ)\n",
    "    H = QuadraticHamiltonian(Hq,Hp)\n",
    "    z = xp.zeros((dom.vdim,*dom.shape)) # Correctly shaped placeholder for position or impulsion\n",
    "    H.set_spmat(z) # Replaces quadratic functions with sparse matrices\n",
    "    return H "
   ]
  },
  {
   "cell_type": "markdown",
   "metadata": {},
   "source": [
    "### 1.3 Traveling waves\n",
    "\n",
    "Traveling waves are eigenmodes of the wave equation. In the case of elastic materials, several waves of different velocities may travel in the same direction. The fastest is known as the *pressure wave*. There also exists two independent shear waves in three dimension, and a single one in two dimensions.\n",
    "\n",
    "Traveling waves take the form\n",
    "$$\n",
    "    V \\cos(k\\cdot x - \\omega t+\\phi),\n",
    "$$\n",
    "where $k$ is the wave number, $\\omega$ is the pulsation, $V$ is the amplitude, and $\\phi$ is a phase shift. Given the wave vector $k$, there exists $d$ possible pulsations, and $d$ possible amplitudes (up to multiplication by a scalar)."
   ]
  },
  {
   "cell_type": "code",
   "execution_count": 13,
   "metadata": {},
   "outputs": [],
   "source": [
    "def wave(t,x,ω,k,V,ϕ=0.):\n",
    "    t,x,ω,k,V = fd.common_field((t,x,ω,k,V),depths=(0,1,0,1,1))\n",
    "    return V*np.cos(lp.dot_VV(k,x)-ω*t+ϕ)"
   ]
  },
  {
   "cell_type": "markdown",
   "metadata": {},
   "source": [
    "The `Hooke` class provides a method for computing the (normalized) amplitude and pulsation associated to a wave vector."
   ]
  },
  {
   "cell_type": "code",
   "execution_count": 14,
   "metadata": {},
   "outputs": [],
   "source": [
    "k = [0.6,0.8]\n",
    "hooke,ρ = isotropic_material\n",
    "ω,V = hooke.waves(k,ρ)"
   ]
  },
  {
   "cell_type": "markdown",
   "metadata": {},
   "source": [
    "In dimension two, there are two wave modes. The fastest mode, associated with the largest pulsation, is the pressure wave."
   ]
  },
  {
   "cell_type": "code",
   "execution_count": 15,
   "metadata": {},
   "outputs": [
    {
     "name": "stdout",
     "output_type": "stream",
     "text": [
      "Wave pulsations [1.        1.7320508] for wave vector [0.6, 0.8]\n"
     ]
    }
   ],
   "source": [
    "print(f\"Wave pulsations {ω} for wave vector {k}\")"
   ]
  },
  {
   "cell_type": "markdown",
   "metadata": {},
   "source": [
    "In isotropic materials, the amplitude of the pressure wave is collinear with the wave vector, whereas the amplitude of shear waves is orthogonal to the wave vector."
   ]
  },
  {
   "cell_type": "code",
   "execution_count": 16,
   "metadata": {},
   "outputs": [
    {
     "name": "stdout",
     "output_type": "stream",
     "text": [
      "Amplitude of the shear wave: [-0.8000001   0.59999996], and pressure wave: [0.59999996 0.8000001 ]\n"
     ]
    }
   ],
   "source": [
    "print(f\"Amplitude of the shear wave: {V[:,0]}, and pressure wave: {V[:,1]}\")"
   ]
  },
  {
   "cell_type": "markdown",
   "metadata": {},
   "source": [
    "This property is lost in anisotropic materials. The amplitude of the shear and pressure waves is neither collinear nor orthogonal to the wave vector."
   ]
  },
  {
   "cell_type": "code",
   "execution_count": 17,
   "metadata": {},
   "outputs": [
    {
     "name": "stdout",
     "output_type": "stream",
     "text": [
      "Amplitude of the shear wave: [ 0.5453899 -0.8381825], and pressure wave: [-0.8381825 -0.5453899], for wave vector [0.6, 0.8].\n"
     ]
    }
   ],
   "source": [
    "k = [0.6,0.8]\n",
    "hooke,ρ = crystal_material\n",
    "ω,V = hooke.waves(k,ρ)\n",
    "print(f\"Amplitude of the shear wave: {V[:,0]}, and pressure wave: {V[:,1]}, for wave vector {k}.\")"
   ]
  },
  {
   "cell_type": "markdown",
   "metadata": {},
   "source": [
    "Let us check, using automatic differentiation, the we do obtain eigenmodes of the wave equation, in the case of a constant hooke tensor and density.\n",
    "This equation reads\n",
    "$$\n",
    "    \\rho \\frac{\\partial^2}{\\partial t^2} v_i = \\sum_{j,k,l} c_{ijkl} \\frac{\\partial^2}{\\partial x_j\\partial x_k} v_l. \n",
    "$$"
   ]
  },
  {
   "cell_type": "code",
   "execution_count": 18,
   "metadata": {},
   "outputs": [],
   "source": [
    "def WaveModes(k,hooke,ρ):\n",
    "    \"\"\"Returns the wave modes, sorted by increasing velocity, \n",
    "    associated with a given Hooke tensor and wave vector\"\"\"\n",
    "    def wave_(ω,V): return lambda t,x : wave(t,x,ω,k,V)\n",
    "    ω_,V_ = hooke.waves(k,ρ)\n",
    "    return [wave_(ω,V) for ω,V in zip(ω_,V_.T)]"
   ]
  },
  {
   "cell_type": "code",
   "execution_count": 19,
   "metadata": {},
   "outputs": [],
   "source": [
    "def WaveResidue(t,x,v,hooke,ρ):\n",
    "    # Differentiate twice w.r.t time\n",
    "    t_ad = ad.Dense2.identity(constant=t)\n",
    "    v_tt = v(t_ad,x).hessian(0,0)\n",
    "    \n",
    "    # Differentiate twice w.r.t position\n",
    "    x_ad = ad.Dense2.identity(constant=x)\n",
    "    v_xx = v(t,x_ad).hessian() # Axes ordering : partial derivatives, then coordinates.\n",
    "    \n",
    "    # Contract with the Hooke tensor\n",
    "    d = hooke.vdim\n",
    "    hk = hooke.to_depth4() # Format hooke tensor as a depth 4 tensor\n",
    "    Δv = sum(hk[:,j,k,l]*v_xx[j,k,l] for j in range(d) for k in range(d) for l in range(d))\n",
    "\n",
    "    return ρ*v_tt - Δv"
   ]
  },
  {
   "cell_type": "code",
   "execution_count": 20,
   "metadata": {},
   "outputs": [],
   "source": [
    "t,x = 1.,[2.,3.]; material = isotropic_material\n",
    "shearW,pressW = WaveModes(k,*material)\n",
    "assert allclose(WaveResidue(t,x,shearW,*material), 0.)\n",
    "assert allclose(WaveResidue(t,x,pressW,*material), 0.)"
   ]
  },
  {
   "cell_type": "code",
   "execution_count": 21,
   "metadata": {},
   "outputs": [],
   "source": [
    "t,x = 1.,[2.,3.]; material = crystal_material\n",
    "shearW,pressW = WaveModes(k,*material)\n",
    "assert allclose(WaveResidue(t,x,shearW,*material), 0.)\n",
    "assert allclose(WaveResidue(t,x,pressW,*material), 0.,atol=1e-8 if xp is np else 1e-4)"
   ]
  },
  {
   "cell_type": "markdown",
   "metadata": {},
   "source": [
    "## 2. Constant material in space\n",
    "\n",
    "We compute elastic waves in a constant material, either isotropic or crystalline, in a periodic domain."
   ]
  },
  {
   "cell_type": "code",
   "execution_count": 22,
   "metadata": {},
   "outputs": [],
   "source": [
    "def make_domain(radius):\n",
    "    \"\"\"Produces the periodic domain [-radius,radius]^2, with 25 pixels per unit\"\"\"\n",
    "    aX,dx = xp.linspace(-radius,radius,50*radius,endpoint=False,retstep=True)\n",
    "    X=ad.array(np.meshgrid(aX,aX,indexing='ij'))\n",
    "    dom = Domain.MockDirichlet(X.shape[1:],dx,padding=None) #Periodic domain (wrap instead of pad)\n",
    "    return dom,X,dx"
   ]
  },
  {
   "cell_type": "code",
   "execution_count": 23,
   "metadata": {},
   "outputs": [],
   "source": [
    "r = 6 if large_instances else 1 # radius to be used in numerical experiments"
   ]
  },
  {
   "cell_type": "markdown",
   "metadata": {},
   "source": [
    "**Explosion and torsion initial conditions**\n",
    "We use the negative gradient of a Gaussian to trigger a pressure wave in all directions, emulating an explosion."
   ]
  },
  {
   "cell_type": "code",
   "execution_count": 24,
   "metadata": {},
   "outputs": [],
   "source": [
    "def gaussian(X,σ): return np.exp(-lp.dot_VV(X,X)/(2*σ**2)) # Non normalized gaussian with prescribed variance\n",
    "def explosion(X):\n",
    "    \"\"\"Triggers a pressure wave in all directions, emulating an explosion\"\"\"\n",
    "    X_ad = ad.Dense.identity(constant=X,shape_free=(2,))\n",
    "    return -gaussian(X_ad,0.1).gradient()"
   ]
  },
  {
   "cell_type": "markdown",
   "metadata": {},
   "source": [
    "We display these initial conditions on small domain, otherwise the plot is hard to read. Later numerical experiments involve the large domain, if chosen so."
   ]
  },
  {
   "cell_type": "code",
   "execution_count": 25,
   "metadata": {},
   "outputs": [],
   "source": [
    "_,X,_ = make_domain(1) # small_radius = 1"
   ]
  },
  {
   "cell_type": "code",
   "execution_count": 26,
   "metadata": {},
   "outputs": [],
   "source": [
    "plt.figure(figsize=(6,6)); plt.title('Explosion initial momentum'); plt.axis('equal')\n",
    "quiver(*X,*explosion(X),subsampling=(2,2),scale=100.)"
   ]
  },
  {
   "cell_type": "markdown",
   "metadata": {},
   "source": [
    "We rotate the explosion initial momentum by $\\pi/2$ to trigger shear waves in all directions."
   ]
  },
  {
   "cell_type": "code",
   "execution_count": 27,
   "metadata": {},
   "outputs": [],
   "source": [
    "def torsion(X):\n",
    "    \"\"\"Triggers a torsion wave in all directions, using a torsion-like initial momentum\"\"\"\n",
    "    e0,e1 = explosion(X) \n",
    "    return ad.array([-e1,e0]) # Perpendicular vector"
   ]
  },
  {
   "cell_type": "code",
   "execution_count": 28,
   "metadata": {},
   "outputs": [],
   "source": [
    "plt.figure(figsize=(6,6)); plt.title(\"Torsion initial momentum\"); plt.axis('equal')\n",
    "quiver(*X,*torsion(X),subsampling=(2,2),scale=100.)"
   ]
  },
  {
   "cell_type": "code",
   "execution_count": 29,
   "metadata": {},
   "outputs": [],
   "source": [
    "dom,X,dx = make_domain(r) # From now on, use the large domain"
   ]
  },
  {
   "cell_type": "markdown",
   "metadata": {},
   "source": [
    "### 2.1 Isotropic material\n",
    "\n",
    "First let us set the Hamiltonian, governing the wave equation, and the time step."
   ]
  },
  {
   "cell_type": "code",
   "execution_count": 30,
   "metadata": {},
   "outputs": [
    {
     "name": "stdout",
     "output_type": "stream",
     "text": [
      "Wall time: 687 ms\n"
     ]
    }
   ],
   "source": [
    "%%time\n",
    "material = isotropic_material \n",
    "WaveH = WaveHamiltonian(*material,dom)\n",
    "dt = CFL(dx,*material)"
   ]
  },
  {
   "cell_type": "markdown",
   "metadata": {},
   "source": [
    "**Pressure wave, and shear wave.**\n",
    "We consider a pressure wave, propagating along the $x$-axis, space periodic for simplicity.\n",
    "\n",
    "The initial condition is set as the analytic wave mode, but the time evolution is computed using the hamiltonian."
   ]
  },
  {
   "cell_type": "code",
   "execution_count": 31,
   "metadata": {},
   "outputs": [],
   "source": [
    "k = [np.pi,0.] # wave vector, \n",
    "shearW,pressW = WaveModes(k,*material)"
   ]
  },
  {
   "cell_type": "code",
   "execution_count": 32,
   "metadata": {},
   "outputs": [
    {
     "name": "stdout",
     "output_type": "stream",
     "text": [
      "Wall time: 184 ms\n"
     ]
    }
   ],
   "source": [
    "%%time\n",
    "q0 = pressW(0,X) # Initial displacement\n",
    "t_ad = ad.Dense.identity(constant=0.)\n",
    "p0 = pressW(t_ad,X).gradient(0) * 1. # Initial momentum (rho=1.)\n",
    "\n",
    "Q,P,T = WaveH.integrate(q0,p0,scheme='Euler-p',niter=100*r,dt=dt,path=r)"
   ]
  },
  {
   "cell_type": "markdown",
   "metadata": {},
   "source": [
    "For these domain sizes, the computation of the propagation is quite fast, but the HTML5 encoding of the animation may take a little longer."
   ]
  },
  {
   "cell_type": "code",
   "execution_count": 33,
   "metadata": {},
   "outputs": [],
   "source": [
    "quiver_animation(*X,*Q,subsampling=(r,r),figsize=(10,10),axis='equal')"
   ]
  },
  {
   "cell_type": "markdown",
   "metadata": {},
   "source": [
    "**Shear wave.** The Shear wave is slightly slower, and oscillates in the orthogonal direction, while propagating likewise along the $x$-axis."
   ]
  },
  {
   "cell_type": "code",
   "execution_count": 34,
   "metadata": {},
   "outputs": [
    {
     "name": "stdout",
     "output_type": "stream",
     "text": [
      "Wall time: 199 ms\n"
     ]
    }
   ],
   "source": [
    "%%time\n",
    "q0 = shearW(0,X) # Initial displacement\n",
    "t_ad = ad.Dense.identity(constant=0.)\n",
    "p0 = shearW(t_ad,X).gradient(0) * 1. # Initial momentum (rho=1.)\n",
    "\n",
    "Q,P,T = WaveH.integrate(q0,p0,scheme='Euler-p',niter=100*r,dt=dt,path=r)"
   ]
  },
  {
   "cell_type": "code",
   "execution_count": 35,
   "metadata": {},
   "outputs": [],
   "source": [
    "quiver_animation(*X,*Q,subsampling=(r,r),figsize=(10,10),axis='equal')"
   ]
  },
  {
   "cell_type": "markdown",
   "metadata": {},
   "source": [
    "**Explosion and Torsion.**"
   ]
  },
  {
   "cell_type": "code",
   "execution_count": 36,
   "metadata": {},
   "outputs": [
    {
     "name": "stdout",
     "output_type": "stream",
     "text": [
      "Wall time: 148 ms\n"
     ]
    }
   ],
   "source": [
    "%%time\n",
    "q0 = np.zeros_like(X)\n",
    "p0 = explosion(X)\n",
    "\n",
    "Q,P,T = WaveH.integrate(q0,p0,scheme='Euler-p',niter=r*80,dt=dt,path=r)"
   ]
  },
  {
   "cell_type": "code",
   "execution_count": 37,
   "metadata": {},
   "outputs": [],
   "source": [
    "quiver_animation(*X,*Q,subsampling=(r,r),figsize=(10,10),axis='equal',quiver_kwargs={'scale':5.})"
   ]
  },
  {
   "cell_type": "code",
   "execution_count": 38,
   "metadata": {},
   "outputs": [
    {
     "name": "stdout",
     "output_type": "stream",
     "text": [
      "Wall time: 264 ms\n"
     ]
    }
   ],
   "source": [
    "%%time\n",
    "q0 = np.zeros_like(X)\n",
    "p0 = torsion(X)\n",
    "\n",
    "Q,P,T = WaveH.integrate(q0,p0,scheme='Euler-p',niter=r*140,dt=dt,path=r)"
   ]
  },
  {
   "cell_type": "code",
   "execution_count": 39,
   "metadata": {},
   "outputs": [],
   "source": [
    "quiver_animation(*X,*Q,subsampling=(r,r),figsize=(10,10),axis='equal',quiver_kwargs={'scale':5.})"
   ]
  },
  {
   "cell_type": "markdown",
   "metadata": {},
   "source": [
    "### 2.2 Crystal material (anisotropic)\n",
    "\n",
    "We reproduce the experiments of the previous section, replacing the isotropic material with a the (rotated) mica crystal."
   ]
  },
  {
   "cell_type": "code",
   "execution_count": 40,
   "metadata": {},
   "outputs": [
    {
     "name": "stdout",
     "output_type": "stream",
     "text": [
      "Wall time: 276 ms\n"
     ]
    }
   ],
   "source": [
    "%%time\n",
    "material = crystal_material\n",
    "WaveH = WaveHamiltonian(*material,dom)\n",
    "dt = 2*CFL(dx,*material) # CFL estimation is too conservative"
   ]
  },
  {
   "cell_type": "markdown",
   "metadata": {},
   "source": [
    "**Pressure and shear waves.**\n",
    "As before, we begin with periodic waves obtained as eigenmodes of the equation."
   ]
  },
  {
   "cell_type": "code",
   "execution_count": 41,
   "metadata": {},
   "outputs": [],
   "source": [
    "k = [np.pi,0.] \n",
    "shearW,pressW = WaveModes(k,*material)"
   ]
  },
  {
   "cell_type": "code",
   "execution_count": 42,
   "metadata": {},
   "outputs": [
    {
     "name": "stdout",
     "output_type": "stream",
     "text": [
      "Wall time: 189 ms\n"
     ]
    }
   ],
   "source": [
    "%%time\n",
    "q0 = pressW(0,X) # Initial displacement\n",
    "t_ad = ad.Dense.identity(constant=0.)\n",
    "p0 = pressW(t_ad,X).gradient(0) * 1. # Initial momentum (rho=1.)\n",
    "\n",
    "Q,P,T = WaveH.integrate(q0,p0,scheme='Euler-p',niter=100*r,dt=dt,path=r)"
   ]
  },
  {
   "cell_type": "markdown",
   "metadata": {},
   "source": [
    "The oscillation direction of the pressure waves is not anymore parallel to their propagation direction."
   ]
  },
  {
   "cell_type": "code",
   "execution_count": 43,
   "metadata": {},
   "outputs": [],
   "source": [
    "quiver_animation(*X,*Q,subsampling=(r,r),figsize=(10,10),axis='equal')"
   ]
  },
  {
   "cell_type": "code",
   "execution_count": 44,
   "metadata": {},
   "outputs": [
    {
     "name": "stdout",
     "output_type": "stream",
     "text": [
      "Wall time: 275 ms\n"
     ]
    }
   ],
   "source": [
    "%%time\n",
    "q0 = shearW(0,X) # Initial displacement\n",
    "t_ad = ad.Dense.identity(constant=0.)\n",
    "p0 = shearW(t_ad,X).gradient(0) * 1. # Initial momentum (rho=1.)\n",
    "\n",
    "Q,P,T = WaveH.integrate(q0,p0,scheme='Euler-p',niter=140*r,dt=dt,path=r)"
   ]
  },
  {
   "cell_type": "markdown",
   "metadata": {},
   "source": [
    "Likewise, the shear waves do not anymore oscillate in a direction orthogonal to their direction of propagation."
   ]
  },
  {
   "cell_type": "code",
   "execution_count": 45,
   "metadata": {},
   "outputs": [],
   "source": [
    "quiver_animation(*X,*Q,subsampling=(r,r),figsize=(10,10),axis='equal')"
   ]
  },
  {
   "cell_type": "markdown",
   "metadata": {},
   "source": [
    "**Explosion and torsion**"
   ]
  },
  {
   "cell_type": "code",
   "execution_count": 46,
   "metadata": {},
   "outputs": [
    {
     "name": "stdout",
     "output_type": "stream",
     "text": [
      "Wall time: 150 ms\n"
     ]
    }
   ],
   "source": [
    "%%time\n",
    "q0 = np.zeros_like(X)\n",
    "p0 = explosion(X)\n",
    "\n",
    "Q,P,T = WaveH.integrate(q0,p0,scheme='Euler-p',niter=r*80,dt=dt,path=r)"
   ]
  },
  {
   "cell_type": "code",
   "execution_count": 47,
   "metadata": {},
   "outputs": [],
   "source": [
    "quiver_animation(*X,*Q,subsampling=(r,r),figsize=(10,10),axis='equal',quiver_kwargs={'scale':0.3})"
   ]
  },
  {
   "cell_type": "code",
   "execution_count": 48,
   "metadata": {},
   "outputs": [
    {
     "name": "stdout",
     "output_type": "stream",
     "text": [
      "Wall time: 300 ms\n"
     ]
    }
   ],
   "source": [
    "%%time\n",
    "q0 = np.zeros_like(X)\n",
    "p0 = torsion(X)\n",
    "\n",
    "Q,P,T = WaveH.integrate(q0,p0,scheme='Euler-p',niter=r*140,dt=dt,path=r)"
   ]
  },
  {
   "cell_type": "code",
   "execution_count": 49,
   "metadata": {},
   "outputs": [],
   "source": [
    "quiver_animation(*X,*Q,subsampling=(r,r),figsize=(10,10),axis='equal',quiver_kwargs={'scale':0.3})"
   ]
  },
  {
   "cell_type": "markdown",
   "metadata": {},
   "source": [
    "## 3. Varying material over the domain\n",
    "\n",
    "The numerical method presented here applies without modification to non-constant materials.\n"
   ]
  },
  {
   "cell_type": "markdown",
   "metadata": {},
   "source": [
    "### 3.1 Smooth variations\n",
    "\n",
    "We choose a Hooke tensor whose direction oscillates over the domain. "
   ]
  },
  {
   "cell_type": "code",
   "execution_count": 50,
   "metadata": {},
   "outputs": [],
   "source": [
    "hooke,ρ = crystal_material\n",
    "smooth_material = hooke.rotate_by(0.3*np.sin(X[0])+0.5*np.cos(X[1])), ρ"
   ]
  },
  {
   "cell_type": "code",
   "execution_count": 51,
   "metadata": {},
   "outputs": [],
   "source": [
    "material = smooth_material\n",
    "WaveH = WaveHamiltonian(*material,dom)\n",
    "dt = 2*CFL(dx,*material,order=2).min() # CFL estimation is too conservative"
   ]
  },
  {
   "cell_type": "code",
   "execution_count": 52,
   "metadata": {},
   "outputs": [],
   "source": [
    "q0 = np.zeros_like(X)\n",
    "p0 = explosion(X)\n",
    "\n",
    "Q,P,T = WaveH.integrate(q0,p0,scheme='Euler-p',niter=2*r*140,dt=dt,path=2*r)"
   ]
  },
  {
   "cell_type": "code",
   "execution_count": 53,
   "metadata": {},
   "outputs": [],
   "source": [
    "quiver_animation(*X,*Q[...,::2],subsampling=(r,r),figsize=(10,10),axis='equal',quiver_kwargs={'scale':0.3})"
   ]
  },
  {
   "cell_type": "markdown",
   "metadata": {},
   "source": [
    "### 3.2 Discontinuous material"
   ]
  },
  {
   "cell_type": "code",
   "execution_count": 54,
   "metadata": {},
   "outputs": [],
   "source": [
    "hooke1,ρ1 = crystal_material\n",
    "hooke2,ρ2 = isotropic_material\n",
    "\n",
    "region = X[0]<=0.4*r\n",
    "ρ = np.where(region,ρ1,ρ2)\n",
    "\n",
    "# Extract the raw hooke tensor arrays, and broadcast them\n",
    "hooke1,hooke2 = (fd.as_field(e.hooke,X.shape[1:]) for e in (hooke1,hooke2))\n",
    "hooke = Hooke(np.where(region,hooke1,hooke2))\n",
    "\n",
    "discontinuous_material = hooke,ρ"
   ]
  },
  {
   "cell_type": "code",
   "execution_count": 55,
   "metadata": {},
   "outputs": [],
   "source": [
    "material = discontinuous_material\n",
    "WaveH = WaveHamiltonian(*material,dom)\n",
    "dt = CFL(dx,*material,order=2).min() "
   ]
  },
  {
   "cell_type": "code",
   "execution_count": 56,
   "metadata": {},
   "outputs": [],
   "source": [
    "q0 = np.zeros_like(X)\n",
    "p0 = explosion(X)\n",
    "\n",
    "Q,P,T = WaveH.integrate(q0,p0,scheme='Euler-p',niter=2*r*160,dt=dt,path=2*r)"
   ]
  },
  {
   "cell_type": "code",
   "execution_count": 57,
   "metadata": {},
   "outputs": [],
   "source": [
    "quiver_animation(*X,*Q[...,::2],subsampling=(r,r),figsize=(10,10),axis='equal',quiver_kwargs={'scale':0.3})"
   ]
  },
  {
   "cell_type": "code",
   "execution_count": null,
   "metadata": {},
   "outputs": [],
   "source": []
  }
 ],
 "metadata": {
  "celltoolbar": "Format de la Cellule Texte Brut",
  "kernelspec": {
   "display_name": "Python 3 (ipykernel)",
   "language": "python",
   "name": "python3"
  },
  "language_info": {
   "codemirror_mode": {
    "name": "ipython",
    "version": 3
   },
   "file_extension": ".py",
   "mimetype": "text/x-python",
   "name": "python",
   "nbconvert_exporter": "python",
   "pygments_lexer": "ipython3",
   "version": "3.12.1"
  },
  "varInspector": {
   "cols": {
    "lenName": 16,
    "lenType": 16,
    "lenVar": 40
   },
   "kernels_config": {
    "python": {
     "delete_cmd_postfix": "",
     "delete_cmd_prefix": "del ",
     "library": "var_list.py",
     "varRefreshCmd": "print(var_dic_list())"
    },
    "r": {
     "delete_cmd_postfix": ") ",
     "delete_cmd_prefix": "rm(",
     "library": "var_list.r",
     "varRefreshCmd": "cat(var_dic_list()) "
    }
   },
   "types_to_exclude": [
    "module",
    "function",
    "builtin_function_or_method",
    "instance",
    "_Feature"
   ],
   "window_display": false
  }
 },
 "nbformat": 4,
 "nbformat_minor": 4
}
