{
 "cells": [
  {
   "cell_type": "markdown",
   "metadata": {},
   "source": [
    "# Adaptive PDE discretizations on Cartesian grids\n",
    "## Volume : Divergence form PDEs\n",
    "## Part : One space dimension\n",
    "## Chapter : Heat and wave equations"
   ]
  },
  {
   "cell_type": "markdown",
   "metadata": {},
   "source": [
    "We illustrate the discretization of time dependent partial differential equations in dimension one: diffusion (in divergence form) and the wave equation, whose PDE formulation read \n",
    "$$\n",
    "    \\frac {\\partial u}{\\partial t} = \\frac {\\partial}{\\partial x} \\Big( c(x) \\frac {\\partial u}{\\partial x}\\Big),\n",
    "    \\quad \\text{and} \\quad\n",
    "    \\frac {\\partial^2 u}{\\partial t^2} = \\frac {\\partial}{\\partial x} \\Big( c(x) \\frac {\\partial u}{\\partial x}\\Big).\n",
    "$$\n",
    "For simplicity, we use periodic boundary conditions for the space variable, on the interval $\\Omega = [0,1]$. The diffusion coefficient $c : \\Omega \\to ]0,\\infty[$ is continuous and positive (it may also depend on time). \n",
    "\n",
    "We present the two most classical discretizations of the heat equation, explicit and implicit, their variational interpretation and their stability analysis. We rely on the Hamiltonian formalism for the wave equation.\n",
    "\n",
    "**Disclaimer.** This notebook does *not* contain original research. It is limited to elementary examples, and may serve as a gentle introduction to (some of) the numerical tools and techniques related to *time discretization*.\n",
    "My research is mainly devoted to the *spatial discretization* of PDE operators, which is irrelevant here in dimension one. Examples in dimension two and higher, involving non-trivial geometrical constructions, can be easily produced by combining the contents of the other notebooks with this one, and may also be presented in subsequent notebooks.\n",
    "\n",
    "**Stability analysis** We chose to present a stability analysis of the numerical schemes based on energetic arguments ($H^1$ semi-norm). There exists an alternative approach, perhaps slightly simpler, based on the Fourier transform. However, it requires the PDE coefficients to be constant, which is a strong limitation and defeats the purpose of this series of notebooks (discretizing PDEs with strong an position dependent anisotropy).\n",
    "\n",
    "**Related.** The discretization of time dependent *non-divergence* form PDEs is discussed [here](../Notebooks_NonDiv/Time1D_NonDiv.ipynb)."
   ]
  },
  {
   "cell_type": "markdown",
   "metadata": {},
   "source": [
    "[**Summary**](Summary.ipynb) of volume Divergence form PDEs, this series of notebooks.\n",
    "\n",
    "[**Main summary**](../Summary.ipynb) of the Adaptive Grid Discretizations \n",
    "\tbook of notebooks, including the other volumes.\n",
    "\n",
    "# Table of contents\n",
    "  * [1. Quadratic forms and their discretization](#1.-Quadratic-forms-and-their-discretization)\n",
    "    * [1.1 Continuous setting](#1.1-Continuous-setting)\n",
    "    * [1.2 Discrete setting](#1.2-Discrete-setting)\n",
    "  * [2. The heat equation, explicit scheme](#2.-The-heat-equation,-explicit-scheme)\n",
    "    * [2.1 Discretization using automatic differentiation](#2.1-Discretization-using-automatic-differentiation)\n",
    "    * [2.2 Stability analysis](#2.2-Stability-analysis)\n",
    "    * [2.3 Sparse matrix](#2.3-Sparse-matrix)\n",
    "  * [3. The heat equation, implicit scheme](#3.-The-heat-equation,-implicit-scheme)\n",
    "    * [3.1 Discretization using automatic differentiation](#3.1-Discretization-using-automatic-differentiation)\n",
    "    * [3.2 Stability analysis](#3.2-Stability-analysis)\n",
    "    * [3.3 Sparse matrix](#3.3-Sparse-matrix)\n",
    "  * [4. Wave equation](#4.-Wave-equation)\n",
    "    * [4.1 Discretization using automatic differentiation](#4.1-Discretization-using-automatic-differentiation)\n",
    "    * [4.2 Stability analysis](#4.2-Stability-analysis)\n",
    "    * [4.3 Sparse matrices](#4.3-Sparse-matrices)\n",
    "    * [4.4 Using the Hamiltonian class](#4.4-Using-the-Hamiltonian-class)\n",
    "\n",
    "\n",
    "\n",
    "**Acknowledgement.** Some of the experiments presented in these notebooks are part of \n",
    "ongoing research with Ludovic Métivier and Da Chen.\n",
    "\n",
    "Copyright Jean-Marie Mirebeau, Centre Borelli, ENS Paris-Saclay, CNRS, University Paris-Saclay"
   ]
  },
  {
   "cell_type": "markdown",
   "metadata": {},
   "source": [
    "## 0. Importing the required libraries"
   ]
  },
  {
   "cell_type": "code",
   "execution_count": 1,
   "metadata": {},
   "outputs": [],
   "source": [
    "import sys; sys.path.insert(0,\"..\") # Allow import of agd from parent directory (useless if conda package installed)\n",
    "#from Miscellaneous import TocTools; print(TocTools.displayTOC('Time1D_Div','Div'))"
   ]
  },
  {
   "cell_type": "code",
   "execution_count": 2,
   "metadata": {},
   "outputs": [],
   "source": [
    "from agd import FiniteDifferences as fd\n",
    "from agd import AutomaticDifferentiation as ad\n",
    "from agd.Plotting import animation_curve\n",
    "from agd.ODE.hamiltonian import QuadraticHamiltonian\n",
    "norm_infinity = ad.Optimization.norm_infinity "
   ]
  },
  {
   "cell_type": "code",
   "execution_count": 3,
   "metadata": {},
   "outputs": [],
   "source": [
    "import numpy as np\n",
    "import scipy.sparse\n",
    "import matplotlib.pyplot as plt\n",
    "from matplotlib import rc; rc('animation', html='html5')"
   ]
  },
  {
   "cell_type": "markdown",
   "metadata": {},
   "source": [
    "Some utility functions"
   ]
  },
  {
   "cell_type": "code",
   "execution_count": 4,
   "metadata": {},
   "outputs": [],
   "source": [
    "from agd.ExportedCode.Notebooks_NonDiv.Time1D_NonDiv import accumulate # Or itertools.accumulate if python>=3.8"
   ]
  },
  {
   "cell_type": "code",
   "execution_count": 5,
   "metadata": {},
   "outputs": [],
   "source": [
    "def reload_packages():\n",
    "    from Miscellaneous.rreload import rreload\n",
    "    global fd,ad,QuadraticHamiltonian\n",
    "    fd,ad,QuadraticHamiltonian = rreload([fd,ad,QuadraticHamiltonian],rootdir=\"..\")"
   ]
  },
  {
   "cell_type": "markdown",
   "metadata": {},
   "source": [
    "## 1. Quadratic forms and their discretization\n",
    "\n",
    "We introduce the basic objects underlying the heat and wave equations, which are quadratic forms on suitable spaces of functions. We then introduce their discretization."
   ]
  },
  {
   "cell_type": "markdown",
   "metadata": {},
   "source": [
    "### 1.1 Continuous setting\n",
    "\n",
    "We briefly recall some of the concepts underlying divergence form PDE discretizations. The objective here is to set notations, not present a course on the subject, and not to achieve absolute mathematical rigor either. Please consider a textbook for that purpose.\n",
    "\n",
    "**Quadratic forms, polarization and associated operator.**\n",
    "A bilinear symmetric form is a function $Q(u,v)$ of all elements $u,v$ of a vector space $V$, which is linear w.r.t \n",
    "$u$ and $v$ (separately, not simultaneously), and obeys the symmetry $Q(u,v)=Q(v,u)$ for all $u,v \\in V$.\n",
    "\n",
    "A quadratic form is the specialization $Q(u,u)$ of a bilinear symmetric form to the case $u=v$, $u\\in V$. No information is lost in this process, since the bilinear symmetric form can be recovered using an identity referred to as polarization. The quadratic form is said non-negative if $Q(u,u)\\geq 0$ for all $u\\in V$.\n",
    "\n",
    "One can associate a linear operator to a quadratic form $Q$ whose domain $V$ is a (dense subset of a) Hilbert space $H$. This operator is denoted by the same letter, and defined by the identity\n",
    "$$\n",
    "    <u,Qv> = Q(u,v)\n",
    "$$\n",
    "for all $u,v \\in V$. \n",
    "\n",
    "**Case of the $H^1$ semi-norm.** We denote by $Q$ the Dirichlet elliptic energy, defined for all $u \\in H^1(\\Omega)$ by \n",
    "$$\n",
    "    Q(u,u) := \\int_\\Omega c(x)|\\nabla u(x)|^2 \\ dx.\n",
    "$$\n",
    "Note that $Q$ is non-negative, since $c\\geq 0$.\n",
    "The ambient space is $L^2(\\Omega)$, equipped with the scalar product defined by \n",
    "$$\n",
    "    <u,v> = \\int_\\Omega u(x)v(x) \\ dx.\n",
    "$$\n",
    "\n",
    "**PDE reformulation.**\n",
    "An integration by parts shows that, recalling that $\\Omega=[0,1]$ with periodic b.c.,\n",
    "$$\n",
    "    Q u = - \\frac {\\partial}{\\partial x} \\Big( c(x) \\frac {\\partial u}{\\partial x}\\Big)\n",
    "$$\n",
    "Therefore the heat and wave equations can be reformulated as \n",
    "$$\n",
    "    \\frac d {dt} u = - Q u,\n",
    "    \\quad \\text{and} \\quad\n",
    "    \\frac {d^2} {dt^2} u = - Q u. \n",
    "$$"
   ]
  },
  {
   "cell_type": "markdown",
   "metadata": {},
   "source": [
    "### 1.2 Discrete setting\n",
    "\n",
    "For any $h>0$, which is the inverse of a positive integer, we introduce the set $\\Omega_h := \\Omega\\cap hZ$. In the numerical codes, $h$ is denoted `dx`.\n",
    "\n",
    "**Discretization.**\n",
    "Define the quadratic form $Q_h$ by \n",
    "$$\n",
    "    Q_h(u,u) := \\sum_{x \\in \\Omega_h} \\frac{c(x)} 2\\Big[\\big(\\frac {u(x+h)-u(x)} h\\big)^2+\\big(\\frac {u(x-h)-u(x)} h\\big)^2\\Big]\n",
    "$$\n",
    "as well as $I_h$ defined by \n",
    "$$\n",
    "    I_h(u,u) := \\sum_{x \\in \\Omega_h} u(x)^2.\n",
    "$$\n",
    "\n",
    "**Consistency.** For twice continuously differentiable $u,v:\\Omega \\to R$, one has second order consistency\n",
    "$$\n",
    "    h\\ Q_h(u,v) = Q(u,v) + O(h^2),\n",
    "    \\quad \\text{and} \\quad\n",
    "    h\\ I_h(u,v) = <u,v> + O(h^2).\n",
    "$$\n",
    "\n",
    "We could have included the factor $h$ in the definition of $Q_h$ and $I_h$, but chose not to for simplicity. (By eliminating this factor, the matrix of $I_h$ is the identity, and we recover the usual scalar product on $R^d$. \n",
    "Note that this simplification would not be possible in the finite element setting, where $I_h$ is known as the mass matrix.\n",
    "In addition, this factor would need to be adjusted to $h^d$ in dimension $d\\geq 1$.)\n",
    "\n",
    "Note finally that the gradient, and gradient flow, are not modified, if the energy functional and the scalar product are multiplied by an *identical* positive constant, here the constant $h>0$.\n",
    "\n",
    "<!---\n",
    "**Ambient scalar product.**\n",
    "The vector space $V_h$ of all real functions on $\\Omega_h$ is a Hilbert space, which can be equipped with the scalar product $I_h$. The space $V_h$ can also be identified with $R^N$, where $N = \\#(\\Omega_h)$ is the cardinality of the discrete domain, and equipped with the usual Euclidean scalar product. In our setting, these two scalar products differ by the multiplicative factor $h>0$.\n",
    "\n",
    "The first convention is the closest to the continuous formulation of the problem, whereas the second convention is more natural in the context of a numerical implementation. We opt for the second convention, which causes the introduction of the operator $I_h$ in the discretization, but is also simpler from some points of view.\n",
    "--->"
   ]
  },
  {
   "cell_type": "markdown",
   "metadata": {},
   "source": [
    "Let us introduce the discretized operators $Q_h$ and $I_h$.\n",
    "\n",
    "<!---ExoRemoveNext--->\n",
    "\n",
    "<!---ExoFR\n",
    "Donner des discrétisations des formes bilinéaires\n",
    "$$\n",
    "    I_h(u,u) := h \\sum_{x \\in \\Omega_h} u(x)v(x).\n",
    "$$\n",
    "et\n",
    "$$\n",
    "    Q_h(u,v) \n",
    "    = h \\sum_{x \\in \\Omega_h} \\frac{c(x)} 2\\Big[\\frac {u(x+h)-u(x)} h\\frac {v(x+h)-v(x)} h\n",
    "    {+} \\frac {u(x-h)-u(x)} h\\frac {v(x-h)-v(x)} h\\Big]\n",
    "$$\n",
    "--->\n",
    "\n",
    "<!---ExoCode\n",
    "def I(u,v,dx):\n",
    "    \"\"\"Approximation of the L2 scalar product\"\"\"\n",
    "    r = # TODO : correct.\n",
    "    # Hint : product of u and v\n",
    "    return r.sum(axis=0)*dx # Integate r on domain\n",
    "\n",
    "\n",
    "def Q(u,v,c,dx):\n",
    "    \"\"\"\n",
    "    Finite differences discretization of the H1 bilinear form,\n",
    "    in dimension 1, with periodic b.c.\n",
    "    \"\"\"\n",
    "    dup = fd.DiffUpwind(u,( 1,),dx,padding=None) # (u(x+dx)-u(x))/dx\n",
    "    dvp = fd.DiffUpwind(v,( 1,),dx,padding=None) # (v(x+dx)-v(x))/dx\n",
    "\n",
    "    dum = fd.DiffUpwind(u,(-1,),dx,padding=None) # (u(x-dx)-u(x))/dx\n",
    "    dvm = fd.DiffUpwind(v,(-1,),dx,padding=None) # (v(x-dx)-u(x))/dx\n",
    "\n",
    "    r = # TODO : correct\n",
    "    # Hint : contains dup*dvp \n",
    "    return r.sum(axis=0)*dx # Integate r on domain\n",
    "--->"
   ]
  },
  {
   "cell_type": "code",
   "execution_count": 6,
   "metadata": {},
   "outputs": [],
   "source": [
    "def I(u,v):\n",
    "    \"\"\"Approximation of the L2 scalar product\"\"\"\n",
    "    return np.sum(u*v,axis=0)\n",
    "\n",
    "def Q(u,v,c,dx):\n",
    "    \"\"\"\n",
    "    Finite differences discretization of the H1 bilinear form,\n",
    "    in dimension 1, with periodic b.c.\n",
    "    \"\"\"\n",
    "    dup = fd.DiffUpwind(u,( 1,),dx,padding=None) # (u(x+dx)-u(x))/dx\n",
    "    dvp = fd.DiffUpwind(v,( 1,),dx,padding=None) # (v(x+dx)-v(x))/dx\n",
    "\n",
    "    dum = fd.DiffUpwind(u,(-1,),dx,padding=None) # (u(x-dx)-u(x))/dx\n",
    "    dvm = fd.DiffUpwind(v,(-1,),dx,padding=None) # (v(x-dx)-u(x))/dx\n",
    "    \n",
    "    r = 0.5*c*(dup*dvp+dum*dvm)\n",
    "    return r.sum(axis=0) # Integate r on domain"
   ]
  },
  {
   "cell_type": "markdown",
   "metadata": {},
   "source": [
    "For concreteness, we introduce a discretization grid, some diffusion coefficients, and test functions."
   ]
  },
  {
   "cell_type": "code",
   "execution_count": 7,
   "metadata": {},
   "outputs": [],
   "source": [
    "X,dx = np.linspace(0,1,100,endpoint=False,retstep=True)\n",
    "Tmax = 0.5 # Default time interval is [0,Tmax]"
   ]
  },
  {
   "cell_type": "code",
   "execution_count": 8,
   "metadata": {},
   "outputs": [],
   "source": [
    "pi2 = np.pi*2.\n",
    "c_constant = 0.7\n",
    "c_positive = 0.7  + 0.4*np.sin(pi2*X)\n",
    "\n",
    "u_disc = 1.*(X>=0.5)*(X<=0.75)\n",
    "u_cont = np.maximum(0.,(0.5-X)*(X-0.75)); u_cont/=np.max(u_cont)\n",
    "u_smooth = u_cont**2"
   ]
  },
  {
   "cell_type": "markdown",
   "metadata": {},
   "source": [
    "We can test our bilinear forms on arbirary numpy arrays."
   ]
  },
  {
   "cell_type": "code",
   "execution_count": 9,
   "metadata": {},
   "outputs": [
    {
     "data": {
      "text/plain": [
       "(-11.623155409290282, -0.42073549240394836)"
      ]
     },
     "execution_count": 9,
     "metadata": {},
     "output_type": "execute_result"
    }
   ],
   "source": [
    "u_ = np.sin(pi2*X)\n",
    "v_ = np.cos(pi2*X+1)\n",
    "dx*Q(u_,v_,c_positive,dx), dx*I(u_,v_)"
   ]
  },
  {
   "cell_type": "markdown",
   "metadata": {},
   "source": [
    "Specializing to $u=v$ yields a non-negative value, by construction."
   ]
  },
  {
   "cell_type": "code",
   "execution_count": 10,
   "metadata": {},
   "outputs": [
    {
     "data": {
      "text/plain": [
       "(13.812901002099066, 0.5)"
      ]
     },
     "execution_count": 10,
     "metadata": {},
     "output_type": "execute_result"
    }
   ],
   "source": [
    "dx*Q(u_,u_,c_positive,dx), dx*I(u_,u_)"
   ]
  },
  {
   "cell_type": "markdown",
   "metadata": {},
   "source": [
    "## 2. The heat equation, explicit scheme\n",
    "\n",
    "\n",
    "**Continuous setting.** The heat equation can be written in the so-called variational form\n",
    "$$\n",
    "    <\\frac d {dt} u, v> = - Q(u,v)\n",
    "$$\n",
    "for all test functions $v$. Recall that $<,>$ denotes the $L^2$ scalar product, and $Q$ the bilinear form associated with the Dirichlet energy.\n",
    "\n",
    "**Discretization.**\n",
    "We use a first order explicit time discretization, which yields the system\n",
    "$$\n",
    "    I_h\\big(\\frac{u_{n+1}-u_n}{\\delta t},v\\big) = - Q_h(u_n,v)\n",
    "$$\n",
    "for all test functions $v$, where $u,v,w : \\Omega_h \\to R$."
   ]
  },
  {
   "cell_type": "markdown",
   "metadata": {},
   "source": [
    "### 2.1 Discretization using automatic differentiation\n",
    "\n",
    "As a first approach, we rely on automatic differentiation to implement the variational formulation directly.\n",
    "\n",
    "<!---ExoRemoveNext--->\n",
    "\n",
    "<!---ExoFR\n",
    "Le schéma suivant effectue un pas de temps de l'équation de la chaleur, en résolvant sa forme faible.\n",
    "Introduisez l'expression de cette forme faible de l'équation, qui s'écrit\n",
    "$$\n",
    "    I_h\\big(\\frac{u_{n+1}-u_n}{\\delta t},v\\big) + Q_h(u_n,v) = 0.\n",
    "$$\n",
    "--->\n",
    "\n",
    "<!---ExoCode\n",
    "def HeatExplicit(u,c,dx,dt):\n",
    "    \"\"\"One time step of the explicit scheme for the heat equation\"\"\"\n",
    "    \n",
    "    # Define independent second order AD variables\n",
    "    u_ad = ad.Sparse2.identity(u.shape) # Unknown u_{n+1}\n",
    "    v_ad = ad.Sparse2.identity(u.shape,shift=u.size) # Test function\n",
    "    \n",
    "    dtu_ad = (u_ad-u)/dt # Time derivative (u_{n+1}-u_n)/dt\n",
    "    \n",
    "    weakform = ### TODO : complete\n",
    "    # Hint : should vanish for all test functions v_ad\n",
    "    \n",
    "    return weakform.solve_weakform() # Finds u_{n+1}\n",
    "--->"
   ]
  },
  {
   "cell_type": "code",
   "execution_count": 11,
   "metadata": {},
   "outputs": [],
   "source": [
    "def HeatExplicit(u,c,dx,dt):\n",
    "    \"\"\"One time step of the explicit scheme for the heat equation\"\"\"\n",
    "    \n",
    "    # Define independent second order AD variables\n",
    "    u_ad = ad.Sparse2.identity(u.shape) # Unknown u_{n+1}\n",
    "    v_ad = ad.Sparse2.identity(u.shape,shift=u.size) # Test function\n",
    "    \n",
    "    dtu_ad = (u_ad-u)/dt # Time derivative (u_{n+1}-u_n)/dt\n",
    "    \n",
    "    weakform = I(dtu_ad,v_ad) + Q(u,v_ad,c,dx) # Should vanish for all test functions v_ad\n",
    "    \n",
    "    return weakform.solve_weakform() # Finds u_{n+1}"
   ]
  },
  {
   "cell_type": "code",
   "execution_count": 12,
   "metadata": {},
   "outputs": [],
   "source": [
    "dt = 4e-5\n",
    "solution =np.array(list(accumulate(\n",
    "    np.arange(0,100*dt,dt), # time interval\n",
    "    initial=u_disc, # initial condition\n",
    "    func=lambda u,t: HeatExplicit(u,c_positive,dx,dt) # evolution rule\n",
    ")))"
   ]
  },
  {
   "cell_type": "code",
   "execution_count": 13,
   "metadata": {},
   "outputs": [],
   "source": [
    "animation_curve(X,solution)"
   ]
  },
  {
   "cell_type": "markdown",
   "metadata": {},
   "source": [
    "### 2.2 Stability analysis\n",
    "\n",
    "We can rephrase the update of the explicit scheme for the heat equation in the form\n",
    "$$\n",
    "    u_{n+1} = (\\mathrm{Id} - I_h^{-1} Q_h \\delta t) u_n.\n",
    "$$\n",
    "where $\\mathrm{Id}$ denotes the identity matrix.\n",
    "\n",
    "The scheme is stable, in the $L^2$ norm, iff all the eigenvalues of $\\mathrm{Id} - I_h^{-1} Q_h \\delta t$ lie in $[-1,1]$. Equivalently iff, in the sense of symmetric matrices\n",
    "$$\n",
    "Q_h \\delta t \\preceq 2 I_h.\n",
    "$$\n",
    "Said otherwise, one must have $Q_h(u,u) \\delta t \\preceq 2 I_h(u,u)$ for any $u : \\Omega_h \\to R$. Based on the inequality $(a-b)^2 \\leq 2(a^2+b^2)$, and some simplifications, we obtain\n",
    "$$\n",
    "    Q_h(u,u) \n",
    "    \\leq h^{-1} \\sum_{x \\in \\Omega_h} c(x) \\big[u(x+h)^2+2 u(x)^2 +u(x-h)^2\\big] \n",
    "    \\leq \\frac {4c_{\\max}} h \\sum_{x \\in \\Omega_h} u(x)^2 = \\frac {4c_{\\max}} {h^2} I_h(u,u),\n",
    "$$\n",
    "where $c_{\\max}$ is a uniform bound for the diffusion coefficient $c$. This results in the CFL condition\n",
    "$$\n",
    "    2c_{\\max}\\delta t \\leq h^2.\n",
    "$$\n",
    "\n",
    "<!---\n",
    "Denote $w=(u_{n+1}-u_n)/\\delta t$, where $u_n,u_{n+1} : \\Omega_h\\to R$ are successive time steps of the scheme, and recall from the variational formulation that\n",
    "$$\n",
    "    <w,I_h v> = - <v,Q_h u_n>\n",
    "$$\n",
    "for all test functions $v : \\Omega_h \\to R$.\n",
    "Choosing applying twice this identity we obtain\n",
    "$$\n",
    "    < w,I_h w > = - <w, Q_h u_n> = <I_h^{-1} Q_h u_n, Q_h u_n>\n",
    "$$\n",
    "where we successively choose $v=w$ and $v=I_h^{-1} Q_h u_n$.\n",
    "\n",
    "Denote $C_h$ such that $\\|Q_h v\\| \\leq C_h v$ for all $v$, and recall that $I_h v = h v$. We obtain from the previous equation\n",
    "$$\n",
    "    \\|u_{n+1} - u_n\\| \\leq (C_h \\delta t/h) \\|u_n\\|,\n",
    "$$\n",
    "which yields stability provided $C_h \\delta t/h \\leq K \\delta t$ for some $K \\geq 0$.\n",
    "--->\n",
    "\n",
    "<!---ExoRemoveNext--->\n",
    "\n",
    "<!---ExoFR\n",
    "Complétez la fonction suivante, qui renvoie le pas de temps maximal pour lequel le schéma explicite de l'équation de la chaleur est stable.\n",
    "--->\n",
    "\n",
    "<!---ExoCode\n",
    "def HeatExplicit_CFL(c,dx):\n",
    "    \"\"\"\n",
    "    The explicit discretization of the heat equation\n",
    "    is stable provided the time step dt is below this threshold.\n",
    "    \"\"\"\n",
    "    return # TODO : correct\n",
    "--->"
   ]
  },
  {
   "cell_type": "code",
   "execution_count": 14,
   "metadata": {},
   "outputs": [],
   "source": [
    "def HeatExplicit_CFL(c,dx):\n",
    "    \"\"\"\n",
    "    The explicit discretization of the heat equation\n",
    "    is stable provided the time step dt is below this threshold.\n",
    "    \"\"\"\n",
    "    return dx**2/(2*np.max(c))"
   ]
  },
  {
   "cell_type": "code",
   "execution_count": 15,
   "metadata": {},
   "outputs": [
    {
     "data": {
      "text/plain": [
       "4.545454545454545e-05"
      ]
     },
     "execution_count": 15,
     "metadata": {},
     "output_type": "execute_result"
    }
   ],
   "source": [
    "HeatExplicit_CFL(c_positive,dx)"
   ]
  },
  {
   "cell_type": "markdown",
   "metadata": {},
   "source": [
    "### 2.3 Sparse matrix \n",
    "\n",
    "The implementation presented above of the heat equation lacks in numerical efficiency, and perhaps explicitness, due to the heavy use of automatic differentiation.\n",
    "To remedy this problem, we extract the matrices involved, and replace the weak form solution with an explicit matrix-vector product."
   ]
  },
  {
   "cell_type": "markdown",
   "metadata": {},
   "source": [
    "Let us extract the (sparse symmetric) matrix associated with quadratic form $Q_h$.\n",
    "Note the $1/2$ factor, as the matrix of interest is *half the hessian* of $Q_h(u,u)$."
   ]
  },
  {
   "cell_type": "code",
   "execution_count": 16,
   "metadata": {},
   "outputs": [],
   "source": [
    "u_ad = ad.Sparse2.identity(X.shape)\n",
    "Quu_ad = 0.5*Q(u_ad,u_ad,c_positive,dx) #Note 1/2 factor\n",
    "Q_mat = scipy.sparse.coo_matrix(Quu_ad.triplets()).tocsc() # Hessian matrix"
   ]
  },
  {
   "cell_type": "markdown",
   "metadata": {},
   "source": [
    "The numerical solution is computed much faster. It is also identical up to floating point rounding error.\n",
    "\n",
    "<!---ExoRemoveNext--->\n",
    "\n",
    "<!---ExoFR\n",
    "Insérez dans le code suivant la règle d'évolution du schéma explicite, à savoir \n",
    "$$\n",
    "    u_{n+1} = u_n - \\frac {\\delta t}{h} Q u_n,\n",
    "$$\n",
    "avec $h=$`dx`.\n",
    "--->\n",
    "\n",
    "<!---ExoCode\n",
    "dt = 4e-5\n",
    "solution2 = np.array(list(accumulate(\n",
    "    np.arange(0,100*dt,dt), # time interval\n",
    "    initial=u_disc, # initial condition\n",
    "    func=lambda u,t: # TODO : complete\n",
    "    # Hint : insert the evolution rule\n",
    ")))\n",
    "--->"
   ]
  },
  {
   "cell_type": "code",
   "execution_count": 17,
   "metadata": {},
   "outputs": [],
   "source": [
    "dt = 4e-5\n",
    "solution2 = np.array(list(accumulate(\n",
    "    np.arange(0,100*dt,dt), # time interval\n",
    "    initial=u_disc, # initial condition\n",
    "    func=lambda u,t: u-dt*Q_mat*u # evolution rule\n",
    ")))"
   ]
  },
  {
   "cell_type": "code",
   "execution_count": 18,
   "metadata": {},
   "outputs": [],
   "source": [
    "assert norm_infinity(solution-solution2) < 1e-14"
   ]
  },
  {
   "cell_type": "markdown",
   "metadata": {},
   "source": [
    "## 3. The heat equation, implicit scheme\n",
    "\n",
    "**Continuous setting.**\n",
    "The heat equation can be regarded as the gradient flow of the energy $\\frac 1 2 Q(u,u)$ w.r.t. the $L^2$ metric. \n",
    "A semi-discretized formulation reflecting this principle is as follows: define $u_{n+1}$ as the minimizer to \n",
    "$$\n",
    "     \\min_{u_{n+1}} \\frac 1 {\\delta t} \\|u_{n+1}-u_n\\|^2 + Q(u_{n+1},u_{n+1}).\n",
    "$$\n",
    "There exists another, non-linear, similarly looking formulation of the heat equation: as the gradient flow of the entropy w.r.t the Wasserstein metric.\n",
    "\n",
    "Each time step of the implicit scheme involves solving a linear equation, which is more expensive than the matrix-vector products involved in the explicit scheme. However, the time steps used in the implicit scheme are unconstrained, and the scheme is unconditionally stable."
   ]
  },
  {
   "cell_type": "markdown",
   "metadata": {},
   "source": [
    "### 3.1 Discretization using automatic differentiation\n",
    "\n",
    "We translate in the discrete setting the variational principle defining $u_{n+1}$, in the form\n",
    "$$\n",
    "    \\min_{u_{n+1}} \\frac 1 {\\delta t} I_h(u_{n+1}-u_n,\\ u_{n+1}-u_n) + \n",
    "    Q_h(u_{n+1},u_{n+1}).\n",
    "$$\n",
    "\n",
    "<!---ExoRemoveNext--->\n",
    "\n",
    "<!---ExoFR\n",
    "Compléter la fonction suivante, en insérant l'énergie qui doit être minimisée à chaque pas de temps.\n",
    "--->\n",
    "\n",
    "<!---ExoCode\n",
    "def HeatImplicit(u,c,dx,dt):\n",
    "    u_ad = ad.Sparse2.identity(u.shape) # Unknown u_{n+1}\n",
    "    energy = ### TODO : complete\n",
    "    # Hint : this is the quantity that needs to be minimized in each time step\n",
    "    return energy.solve_stationnary()\n",
    "--->"
   ]
  },
  {
   "cell_type": "code",
   "execution_count": 19,
   "metadata": {},
   "outputs": [],
   "source": [
    "def HeatImplicit(u,c,dx,dt):\n",
    "    u_ad = ad.Sparse2.identity(u.shape) # Unknown u_{n+1}\n",
    "    energy = (1/dt)*I(u_ad-u,u_ad-u) + Q(u_ad,u_ad,c,dx)\n",
    "    return energy.solve_stationnary()"
   ]
  },
  {
   "cell_type": "markdown",
   "metadata": {},
   "source": [
    "As announced, one of the key interests of the implicit scheme is the ability to take large time steps, here several orders of magnitude larger than for the explicit scheme."
   ]
  },
  {
   "cell_type": "code",
   "execution_count": 20,
   "metadata": {},
   "outputs": [],
   "source": [
    "dt = 1e-2\n",
    "solution =np.array(list(accumulate(\n",
    "    np.arange(0,20*dt,dt), # time interval\n",
    "    initial=u_disc, # initial condition\n",
    "    func=lambda u,t: HeatImplicit(u,c_positive,dx,dt) # evolution rule\n",
    ")))"
   ]
  },
  {
   "cell_type": "code",
   "execution_count": 21,
   "metadata": {},
   "outputs": [],
   "source": [
    "animation_curve(X,solution)"
   ]
  },
  {
   "cell_type": "markdown",
   "metadata": {},
   "source": [
    "### 3.2 Stability analysis\n",
    "\n",
    "We can rephrase the update of the explicit scheme for the heat equation in the form\n",
    "$$\n",
    "    u_{n+1} = (\\mathrm{Id} + I_h^{-1} Q_h \\delta t)^{-1} u_n.\n",
    "$$\n",
    "where $\\mathrm{Id}$ denotes the identity matrix. \n",
    "\n",
    "The scheme is stable provided all the eigenvalues of the operator $A = (\\mathrm{Id} + I_h^{-1} Q_h \\delta t)^{-1}$ lie in $[-1,1]$. This property holds unconditionally w.r.t $\\delta t \\geq 0$. Indeed, the eigenvalues of $A$ take the form\n",
    "$$\n",
    "    \\frac 1 {1+\\lambda h/\\delta t}\n",
    "$$\n",
    "where $\\lambda$ is an eigenvalue of $Q_h$, hence $\\lambda \\geq 0$ since $Q_h$ is a non-negative symmetric matrix. (We use the fact that $I_h = h \\mathrm{Id}$.)"
   ]
  },
  {
   "cell_type": "markdown",
   "metadata": {},
   "source": [
    "### 3.3 Sparse matrix\n",
    "\n",
    "The implicit scheme for the heat equation involves solving repeatedly the same (sparse, positive definite) linear system. This procedure can be made numerically more efficient by pre-factorization of the matrix."
   ]
  },
  {
   "cell_type": "code",
   "execution_count": 22,
   "metadata": {},
   "outputs": [],
   "source": [
    "impl_mat = scipy.sparse.eye(len(u_disc)) + dt*Q_mat\n",
    "solver = scipy.sparse.linalg.factorized(impl_mat.tocsc())"
   ]
  },
  {
   "cell_type": "markdown",
   "metadata": {},
   "source": [
    "The scheme runs faster, but yields an identical solution up to machine precision."
   ]
  },
  {
   "cell_type": "code",
   "execution_count": 23,
   "metadata": {},
   "outputs": [],
   "source": [
    "dt = 1e-2\n",
    "solution2 = np.array(list(accumulate(\n",
    "    np.arange(0,20*dt,dt), # time interval\n",
    "    initial=u_disc, # initial condition\n",
    "    func=lambda u,t: solver(u) # evolution rule\n",
    ")))"
   ]
  },
  {
   "cell_type": "code",
   "execution_count": 24,
   "metadata": {},
   "outputs": [],
   "source": [
    "assert norm_infinity(solution-solution2) < 1e-13"
   ]
  },
  {
   "cell_type": "markdown",
   "metadata": {},
   "source": [
    "## 4. Wave equation\n",
    "\n",
    "**Continuous setting.**\n",
    "The wave equation can be rephrased in the Hamiltonian formalism\n",
    "$$\n",
    "    \\frac {d u} {dt} = \\frac{\\partial H}{\\partial \\dot u} \n",
    "    \\quad \\text{and} \\quad \n",
    "    \\frac {d\\dot u} {dt} = - \\frac{\\partial H}{\\partial u}.\n",
    "$$\n",
    "The Hamiltonian is defined as the sum of a *potential* elastic energy, and of a *kinetic* energy\n",
    "$$\n",
    "    H(u,\\dot u) := \\frac 1 2 \\big( Q(u,u) + <\\dot u,\\dot u> \\big),\n",
    "$$\n",
    "where the bilinear form $Q$ and scalar product $<,>$ are those already introduced.\n",
    "The Hamitlonian is constant in time, along solutions of sufficient regularity.\n",
    "The discretization mimicks this formulation, using a symplectic integrator to conserve the Hamiltonian and ensure stability."
   ]
  },
  {
   "cell_type": "markdown",
   "metadata": {},
   "source": [
    "### 4.1 Discretization using automatic differentiation\n",
    "\n",
    "**Translation of the continuous setting.**\n",
    "We introduce a discretized Hamiltonian, defined by\n",
    "$$\n",
    "    H^0_h(u,\\dot u) := \\frac 1 2 \\big(Q_h(u,u) + I_h(\\dot u,\\dot u) \\big).\n",
    "$$\n",
    "The Euler symplectic integrator is defined as \n",
    "$$\n",
    "    \\frac{u_{n+1}-u_n}{\\delta t} = \\frac{\\partial H^0_h}{\\partial \\dot u}(u_{n+1},\\dot u_n)\n",
    "    \\quad \\text{and} \\quad\n",
    "    \\frac{\\dot u_{n+1}-\\dot u_n}{\\delta t} = - \\frac{\\partial H^0_h}{\\partial u}(u_{n+1},\\dot u_n),\n",
    "$$\n",
    "where $u_n,\\dot u_n,u_{n+1},\\dot u_{n+1} : \\Omega_h \\to R$.\n",
    "In this special case, the variable $\\dot u_n$ does approximate the time derivative of $u$, hence the choice of notation. However, in general, when e.g. the medium density is not constant, the second variable in the Hamiltonian corresponds to the momentum.\n",
    "\n",
    "**Note on separability.**\n",
    "For a general Hamiltonian, the first step would be implicit, see for instance this [notebook](../Notebooks_Algo/Dense.ipynb). However, the wave equation Hamiltonian benefits from a separable structure, which makes the two updates explicit.\n",
    "\n",
    "<!---\n",
    "\n",
    "**Note on the inverse inner product $I_h^{-1}$.**\n",
    "We regard $u_n,v_n,u_{n+1},v_{n+1}$ as vectors in $R^N$, $N = \\#(\\Omega_h)$, and we differentiate $H^0_h$ as a common function on $R^{2N}$. The inverse inner product $I_h^{-1}$ factor arises from this differentiation, in the standard euclidean sense, rather than w.r.t the $I_h(,)$ scalar product that is natural on $\\Omega_h$. Here $I_h^{-1}$ is just multiplication by $1/h$.\n",
    "\n",
    "\n",
    "**Rescaling.**\n",
    "For convenience, we recall that $I_h = h \\mathrm{Id}$, and incorporate this factor in the discretized Hamiltonian. Denoting\n",
    "$$\n",
    "    H_h(u,\\dot u) := h^{-1} H^0_h(u,\\dot u)\n",
    "$$\n",
    "one now has the standard form of Euler's symplectic scheme\n",
    "$$\n",
    "    \\frac{u_{n+1}-u_n}{\\delta t} = \\frac{\\partial H_h}{\\partial \\dot u}(u_{n+1},\\dot u_n)\n",
    "    \\quad \\text{and} \\quad\n",
    "    \\frac{\\dot u_{n+1}-\\dot u_n}{\\delta t} = -\\frac{\\partial H_h}{\\partial u}(u_{n+1},\\dot u_n),\n",
    "$$\n",
    "For a general Hamiltonian, the first step would be implicit, see for instance this [notebook](../Notebooks_Algo/Dense.ipynb). However, the wave equation Hamiltonian benefits from a separable structure, which makes the two updates explicit.\n",
    "\n",
    "--->\n",
    "\n",
    "<!---ExoRemoveNext--->\n",
    "\n",
    "<!---ExoFR\n",
    "Complétez la fonction suivante, qui doit renvoyer le hamiltonien discrétisé $H_h$.\n",
    "Important : appliquer la fonction `lo = ad.left_operand` à la quantité apparaissant à gauche du `+`.\n",
    "--->\n",
    "\n",
    "<!---ExoCode\n",
    "def WaveHamiltonian(u,up,c,dx):\n",
    "    return ### TODO : complete\n",
    "--->"
   ]
  },
  {
   "cell_type": "code",
   "execution_count": 25,
   "metadata": {},
   "outputs": [],
   "source": [
    "def WaveHamiltonian(u,up,c,dx):\n",
    "    return 0.5 * ( Q(u,u,c,dx) + I(up,up) )"
   ]
  },
  {
   "cell_type": "code",
   "execution_count": 26,
   "metadata": {},
   "outputs": [],
   "source": [
    "def SeparableSymplectic(q,p,H,dt,dx):\n",
    "    \"\"\"Euler's symplectic integrator, for a Hamiltonian assumed to be separable\"\"\"\n",
    "    # Using the separable structure here (q instead of q_next in r.h.s)\n",
    "    p_ad = ad.Sparse.identity(constant=p)\n",
    "    q_next = q+dt*H(q,p_ad).to_dense().gradient()\n",
    "    \n",
    "    q_ad = ad.Sparse.identity(constant=q_next)\n",
    "    p_next = p-dt*H(q_ad,p).to_dense().gradient() \n",
    "    return q_next,p_next"
   ]
  },
  {
   "cell_type": "markdown",
   "metadata": {},
   "source": [
    "Since the wave equation does not have a regularizing effect, unlike the heat equation, we use a continuous initial condition."
   ]
  },
  {
   "cell_type": "code",
   "execution_count": 27,
   "metadata": {},
   "outputs": [],
   "source": [
    "def H(q,p): return WaveHamiltonian(q,p,c_positive,dx)\n",
    "dt = 9e-3\n",
    "solution = np.array(list(accumulate(\n",
    "    np.arange(0,200*dt,dt), # time interval\n",
    "    initial=(u_cont,0.*u_cont), # initial condition\n",
    "    func=lambda state,t: SeparableSymplectic(*state,H,dt,dx) # state contains q and p\n",
    ")))"
   ]
  },
  {
   "cell_type": "code",
   "execution_count": 28,
   "metadata": {},
   "outputs": [],
   "source": [
    "animation_curve(X,solution[:,0,:])"
   ]
  },
  {
   "cell_type": "markdown",
   "metadata": {},
   "source": [
    "### 4.2 Stability analysis\n",
    "\n",
    "**Separable quadratic Hamiltonians.**\n",
    "Symplectic integrators preserve a perturbation of the Hamiltonian, and this property is the key to stability analysis. We briefly present this theory in the case of separable quadratic Hamilonians on $R^N \\times R^N$, which is enough for our purposes. Assume that \n",
    "$$\n",
    "    H(q,p) = \\frac 1 2 ( <p,Ap> + <q,Bq>),\n",
    "$$\n",
    "where $A$ and $B$ are symmetric matrices. Euler's symplectic scheme yields\n",
    "$$\n",
    "    q_{n+1} = q_n + \\delta t A p_n,\n",
    "    \\quad \\text{and} \\quad\n",
    "    p_{n+1} = p_n - \\delta t B q_n.\n",
    "$$\n",
    "An elementary computation shows that the following quantity is *exactly* conserved along the iterations\n",
    "$$\n",
    "    \\tilde H(q,p) := \\frac 1 2 ( <q,Bq> + <p,Ap> + \\delta t <Bq,Ap>)\n",
    "$$\n",
    "If $\\tilde H$ is a positive definite quadratic form, then the iterates $(q_n,p_n)_{n\\geq 0}$ are bounded independently of $n$, meaning that the scheme is stable. This condition amounts to \n",
    "$$\n",
    "    \\begin{pmatrix}\n",
    "    B & \\frac {\\delta t} 2 B A\\\\\n",
    "    \\frac {\\delta t} 2 A B & A\n",
    "    \\end{pmatrix}\n",
    "    \\succ 0\n",
    "$$\n",
    "where $M\\succ N$ means that $M-N$ is positive definite. If $A$ and $B$ commute, then this condition can be simplified to \n",
    "$$\n",
    "    B \\succ 0, \\quad \n",
    "    A \\succ 0, \\quad \n",
    "    \\delta t^2 BA \\prec 4 \\mathrm{Id}.\n",
    "$$\n",
    "\n",
    "**Specialization to the wave equation**\n",
    "We neglect here the technicalities associated with positive definiteness versus semi-definiteness.\n",
    "The operators $Q_h$ and $I_h$ are positive (semi-)definite and commute, thus only the third condition remains. After specialization we obtain the stability criterion\n",
    "$$\n",
    "    \\delta t^2 Q_h \\preceq 4 I_h.\n",
    "$$\n",
    "(We used the identity $I_h = \\mathrm{Id}$.) From the same analysis as in the explicit Euler equation, based on  the specific form of $Q_h$, we obtain the condition\n",
    "$$\n",
    "    \\delta t^2 c_{\\max} \\leq \\delta x^2.\n",
    "$$\n",
    "(Note that the wave velocity is $\\sqrt{c_{\\max}}$.)\n",
    "\n",
    "<!---ExoRemoveNext--->\n",
    "\n",
    "<!---ExoFR\n",
    "Compléter la fonction suivante, qui renvoie le plus grand pas de temps pour lequel notre schéma pour l'équation des ondes est stable.\n",
    "--->\n",
    "\n",
    "<!---ExoCode\n",
    "def Wave_CFL(c,dx):\n",
    "    \"\"\"Returns the largest time step for which the wave equation scheme is stable.\"\"\"\n",
    "    return ### TODO : complete\n",
    "--->"
   ]
  },
  {
   "cell_type": "code",
   "execution_count": 29,
   "metadata": {},
   "outputs": [],
   "source": [
    "def Wave_CFL(c,dx):\n",
    "    \"\"\"Returns the largest time step for which the wave equation scheme is stable.\"\"\"\n",
    "    return dx/np.sqrt(np.max(c))"
   ]
  },
  {
   "cell_type": "code",
   "execution_count": 30,
   "metadata": {},
   "outputs": [
    {
     "data": {
      "text/plain": [
       "(0.009534625892455923, 0.009)"
      ]
     },
     "execution_count": 30,
     "metadata": {},
     "output_type": "execute_result"
    }
   ],
   "source": [
    "Wave_CFL(c_positive,dx),dt"
   ]
  },
  {
   "cell_type": "code",
   "execution_count": 31,
   "metadata": {},
   "outputs": [],
   "source": [
    "def ConservedHamiltonian(u,up,c,dx,dt):\n",
    "    \"\"\"\n",
    "    Perturbation of the discretized Wave Hamiltonian, \n",
    "    which is exactly conserved by Euler's symplectic scheme.\n",
    "    \"\"\"\n",
    "    return WaveHamiltonian(u,up,c,dx) + dt*Q(u,up,c,dx)/2"
   ]
  },
  {
   "cell_type": "code",
   "execution_count": 32,
   "metadata": {},
   "outputs": [],
   "source": [
    "invariant = [ConservedHamiltonian(u,up,c_positive,dx,dt) for u,up in solution]\n",
    "assert norm_infinity(np.array(invariant)-invariant[0])<1e-12"
   ]
  },
  {
   "cell_type": "markdown",
   "metadata": {},
   "source": [
    "### 4.3 Sparse matrices\n",
    "\n",
    "We improve the computational efficiency, and explicitness, of the numerical scheme by using sparse matrix-vector products instead of relying on automatic differentiation.\n",
    "\n",
    "<!---ExoRemoveNext--->\n",
    "\n",
    "<!---ExoFR\n",
    "Compléter la fonction suivante, qui implémente un pas de temps du schéma de Euler symplectique, appliqué à l'équation des ondes.\n",
    "$$\n",
    "    u_{n+1} = u_n + \\delta t\\ \\dot u_n,\n",
    "    \\qquad \n",
    "    \\dot u_{n+1} = \\dot u_n - \\frac {\\delta t} {h} Q_h u_n\n",
    "$$\n",
    "--->\n",
    "\n",
    "<!---ExoCode\n",
    "def WaveSymplectic(u,up,dt):\n",
    "    \"\"\"One time step of the Euler symplectic scheme, updating u first\"\"\"\n",
    "    u_next = ### TODO : complete\n",
    "    up_next = ### TODO : complete\n",
    "    # Hint : use Q_mat, which is the matrix of Q_h with c_positive\n",
    "    return u_next,up_next \n",
    "--->"
   ]
  },
  {
   "cell_type": "code",
   "execution_count": 33,
   "metadata": {},
   "outputs": [],
   "source": [
    "def WaveSymplectic(u,up,dt):\n",
    "    \"\"\"One time step of the Euler symplectic scheme, updating u first\"\"\"\n",
    "    u_next = u+dt*up\n",
    "    up_next = up-dt*Q_mat*u_next # Q_mat is the matrix of Q_h with c_positive\n",
    "    return u_next,up_next "
   ]
  },
  {
   "cell_type": "code",
   "execution_count": 34,
   "metadata": {},
   "outputs": [],
   "source": [
    "dt = 9e-3\n",
    "solution2 = np.array(list(accumulate(\n",
    "    np.arange(0,200*dt,dt), # time interval\n",
    "    initial=(u_cont,0.*u_cont), # initial condition\n",
    "    func=lambda state,t: WaveSymplectic(*state,dt) # evolution rule\n",
    ")))"
   ]
  },
  {
   "cell_type": "code",
   "execution_count": 35,
   "metadata": {},
   "outputs": [],
   "source": [
    "assert norm_infinity(solution-solution2)<1e-12"
   ]
  },
  {
   "cell_type": "markdown",
   "metadata": {},
   "source": [
    "### 4.4 Using the Hamiltonian class\n",
    "\n",
    "We provide a class devoted to Hamiltonian functions, which are common in mathematics. The wave Hamiltonian has a separable structure, with one generic positive quadratic part an an Euclidean part. It can be specified as follows."
   ]
  },
  {
   "cell_type": "code",
   "execution_count": 47,
   "metadata": {},
   "outputs": [],
   "source": [
    "reload_packages()"
   ]
  },
  {
   "cell_type": "code",
   "execution_count": 48,
   "metadata": {},
   "outputs": [],
   "source": [
    "Wave = QuadraticHamiltonian(Q_mat,1) # 1 is for the identity matrix"
   ]
  },
  {
   "cell_type": "code",
   "execution_count": 49,
   "metadata": {},
   "outputs": [],
   "source": [
    "assert np.abs(Wave.H(u_cont,u_disc) - WaveHamiltonian(u_cont,u_disc,c_positive,dx)) < 1e-11"
   ]
  },
  {
   "cell_type": "markdown",
   "metadata": {},
   "source": [
    "As before, we solve Hamilton's ODE with the symplectic Euler scheme, in the $q$ variant where the position is updated first."
   ]
  },
  {
   "cell_type": "code",
   "execution_count": 62,
   "metadata": {},
   "outputs": [],
   "source": [
    "solution3 = Wave.integrate(u_cont,0.*u_cont,scheme='Euler-q',niter=200,T=200*dt,path=True)\n",
    "solution3 = np.stack(solution3[:2],axis=1).T\n",
    "assert norm_infinity(solution-solution3) < 1e-12"
   ]
  },
  {
   "cell_type": "markdown",
   "metadata": {},
   "source": [
    "Other schemes are available as well, such as the Verlet second order symplectic scheme."
   ]
  },
  {
   "cell_type": "code",
   "execution_count": 64,
   "metadata": {},
   "outputs": [],
   "source": [
    "solV = Wave.integrate(u_cont,0.*u_smooth,scheme='Verlet-p',niter=200,T=200*dt,path=True)"
   ]
  },
  {
   "cell_type": "code",
   "execution_count": 65,
   "metadata": {},
   "outputs": [],
   "source": [
    "animation_curve(X,solV[0].T)"
   ]
  },
  {
   "cell_type": "markdown",
   "metadata": {},
   "source": [
    "Finally, we note that the Hamiltonian class can take care of assembling the sparse matrices, if needed and if the hamiltonian is separable and known to be quadratic."
   ]
  },
  {
   "cell_type": "code",
   "execution_count": 66,
   "metadata": {},
   "outputs": [],
   "source": [
    "Hq = lambda q : Q(q,q,c_positive,dx)/2.\n",
    "Hp = lambda p : I(p,p)/2.\n",
    "Wave2 = QuadraticHamiltonian(Hq,Hp)\n",
    "Wave2.set_spmat(u_cont) # Argument just needs to be correctly shaped"
   ]
  },
  {
   "cell_type": "code",
   "execution_count": 67,
   "metadata": {},
   "outputs": [],
   "source": [
    "assert np.abs(Wave.H(u_cont,u_disc) - Wave2.H(u_cont,u_disc)) < 1e-11"
   ]
  },
  {
   "cell_type": "code",
   "execution_count": null,
   "metadata": {},
   "outputs": [],
   "source": []
  }
 ],
 "metadata": {
  "celltoolbar": "Format de la Cellule Texte Brut",
  "kernelspec": {
   "display_name": "Python 3 (ipykernel)",
   "language": "python",
   "name": "python3"
  },
  "language_info": {
   "codemirror_mode": {
    "name": "ipython",
    "version": 3
   },
   "file_extension": ".py",
   "mimetype": "text/x-python",
   "name": "python",
   "nbconvert_exporter": "python",
   "pygments_lexer": "ipython3",
   "version": "3.12.1"
  },
  "varInspector": {
   "cols": {
    "lenName": 16,
    "lenType": 16,
    "lenVar": 40
   },
   "kernels_config": {
    "python": {
     "delete_cmd_postfix": "",
     "delete_cmd_prefix": "del ",
     "library": "var_list.py",
     "varRefreshCmd": "print(var_dic_list())"
    },
    "r": {
     "delete_cmd_postfix": ") ",
     "delete_cmd_prefix": "rm(",
     "library": "var_list.r",
     "varRefreshCmd": "cat(var_dic_list()) "
    }
   },
   "types_to_exclude": [
    "module",
    "function",
    "builtin_function_or_method",
    "instance",
    "_Feature"
   ],
   "window_display": false
  }
 },
 "nbformat": 4,
 "nbformat_minor": 4
}
