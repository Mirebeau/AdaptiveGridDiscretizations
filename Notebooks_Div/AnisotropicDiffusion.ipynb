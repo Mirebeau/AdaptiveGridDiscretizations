{
 "cells": [
  {
   "cell_type": "markdown",
   "metadata": {},
   "source": [
    "# Adaptive PDE discretizations on Cartesian grids\n",
    "## Volume : Divergence form PDEs\n",
    "## Part : Applications\n",
    "## Chapter : Non-linear anisotropic Diffusion"
   ]
  },
  {
   "cell_type": "markdown",
   "metadata": {},
   "source": [
    "In this notebook we illustrate anisotropic diffusion techniques in image processing. This approach exists in numerous variants, devoted to a variety of purposes, such as denoising, enhancement and deblurring (!), artistic effects, or even image compression. We can only give a glimpse of these results in this notebook, and refer to the works of Joachim Weickert for further details.\n",
    "\n",
    "Let us acknowledge here that anisotropic diffusion has been severely challenged, if not vastly outperformed, by (deep)-learning based approaches in many of its applications. Nevertheless this approach remains interesting from an historical point of view, and illustrative of the expressive power of partial differential equations. Indeed the desired effects are produced from a simple mathematical formula, implemented in a few lines of code, involving only a few parameters, and whose role is mostly transparent.\n",
    "\n",
    "**Non-linear anisotropic diffusion**\n",
    "\n",
    "In this notebook, we implement divergence-form non-linear anisotropic diffusion. This is a time dependent PDE, reading:\n",
    "$$\n",
    "    \\partial_t u = \\mathrm{div}( D_u \\nabla u ),\n",
    "$$\n",
    "on the image domain $\\Omega$, with Neumann boundary conditions on $\\partial \\Omega$. (Reflected boundary conditions would be equally relevant.) \n",
    "The domain dimension is $d=2$ for standard images, and $d=3$ for volume or voxel data often arising in medical imaging.\n",
    "\n",
    "The initial condition to the PDE is the original image $u(t=0,x) = u_0(x)$, $x\\in \\Omega$, whereas the solution to the evolution PDE at some prescribed later time $u(t=T,x)$ defines the processed image. Depending on the context, the image may be scalar valued, e.g. $u(x) \\in [0,1]$ for grayscale images, or vector valued, e.g. $u(x) \\in [0,1]^3$ for RGB color images. In the latter case, the PDE is applied to each image channel, whose coupling arises from the  construction of the diffusion tensor $D_u$. \n",
    "\n",
    "**Choice of the diffusion tensor**\n",
    "\n",
    "The effect of non-linear anisotropic diffusion strongly depends on the choice of the diffusion tensor $D_u(x)$, $x \\in \\Omega$, which is a symmetric positive definite matrix at each point. Two main classes of constructions have been considered, although more variety could be envisioned in principle.\n",
    "* Non-linear *isotropic* diffusion, whose intensity decreases with the gradient norm. In that case the diffusion tensor takes the form \n",
    "$$\n",
    "    D_u(x) = c(\\|\\nabla u(x) \\|) \\ \\mathrm{Id},\n",
    "$$\n",
    "where $\\mathrm{Id}$ denotes the $d \\times d$ identity matrix, and $c$ is given function. Usually, $c$ is non-increasing, so as to avoid blurring the edges of objects in images, where $\\| \\nabla u(x)\\| \\gg 1$. Commonly considered choices include $c(r) = 1/r$, or $1/\\sqrt{1+(r/\\lambda)^2}$, or $\\exp(- r/\\lambda)$, ... with $\\lambda>0$.\n",
    "Formally at least, the above non-linear diffusion PDE corresponds to the gradient flow of the total-variation like energy\n",
    "$$\n",
    "    \\int_\\Omega f(\\|\\nabla u (x)\\|)\\  dx \\qquad \\text{where } f(r) = \\int_{r_0}^r s\\, c(s) ds.\n",
    "$$\n",
    "If $s\\in[0,\\infty[\\mapsto s\\, c(s)$ is positive and non-decreasing, then this energy is convex.\n",
    "* Non-linear *anisotropic* diffusion. In this case the diffusion tensor is not proportional to the identity matrix, but has distinct eigenvalues promoting or limiting diffusion depending on the direction. Often, this tensor is defined in terms of the structure tensor, a non-local feature descriptor described below, which allows to detect the position and the orientation of the edges and oscillating patterns in the image.\n",
    "\n",
    "In this notebook, we mainly focus on genuinely *anisotropic* diffusion. Indeed, non-linear isotropic diffusion as described above has less expressive power, due to its excessive simplicity, and is known to be ill posed mathematically and to produce unsighty staircaising-type artifacts. \n",
    "In addition, non-linear isotropic diffusion does not benefit much from the tools developed in this series of notebooks, which are aimed at the discretization of *anisotropic* PDEs. \n",
    "(Finally, let us mention, as noted by Weickert, that there exists some confusion in the literature related to the *isotropic/anisotropic* classification.)\n",
    "\n",
    "**Three dimensional images**\n",
    "\n",
    "The numerical examples presented in this notebook are two dimensional only. Three dimensional examples based on MRI medical image data are however presented in the references by the author below. Adapting the code of this notebook to produce these should be straightforward.\n",
    "\n",
    "**References**\n",
    "\n",
    "On anisotropic diffusion in general:\n",
    "* Weickert, J. (1998). Anisotropic diffusion in image processing (Vol. 1). Teubner Stuttgart.\n",
    "\n",
    "On the numerical scheme presented in this notebook:\n",
    "* Fehrenbach, J., & Mirebeau, J.-M. (2014). Sparse non-negative stencils for anisotropic diffusion. Journal of Mathematical Imaging and Vision, 49(1), 123–147. http://doi.org/http://dx.doi.org/10.1007/s10851-013-0446-3\n",
    "\n",
    "* Mirebeau, J.-M., Fehrenbach, J., Risser, L., & Tobji, S. (2015). Anisotropic Diffusion in ITK. The Insight Journal."
   ]
  },
  {
   "cell_type": "markdown",
   "metadata": {},
   "source": [
    "[**Summary**](Summary.ipynb) of volume Divergence form PDEs, this series of notebooks.\n",
    "\n",
    "[**Main summary**](../Summary.ipynb) of the Adaptive Grid Discretizations \n",
    "\tbook of notebooks, including the other volumes.\n",
    "\n",
    "# Table of contents\n",
    "  * [1. Anisotropic diffusion](#1.-Anisotropic-diffusion)\n",
    "    * [1.1 The Dirichlet elliptic energy](#1.1-The-Dirichlet-elliptic-energy)\n",
    "    * [1.2 The diffusion operator](#1.2-The-diffusion-operator)\n",
    "    * [1.3 Stability of the finite differences scheme](#1.3-Stability-of-the-finite-differences-scheme)\n",
    "    * [1.4 Numerical example](#1.4-Numerical-example)\n",
    "  * [2. Choice of diffusion tensor](#2.-Choice-of-diffusion-tensor)\n",
    "    * [2.1 The structure tensor](#2.1-The-structure-tensor)\n",
    "    * [2.2 Edge enhancing diffusion](#2.2-Edge-enhancing-diffusion)\n",
    "    * [2.3 Coherence enhancing diffusion](#2.3-Coherence-enhancing-diffusion)\n",
    "  * [3. Application to image processing](#3.-Application-to-image-processing)\n",
    "    * [3.1 Fingerprint line enhancement](#3.1-Fingerprint-line-enhancement)\n",
    "    * [3.2 Artistic effect](#3.2-Artistic-effect)\n",
    "    * [3.3 Denoising](#3.3-Denoising)\n",
    "    * [3.4 Color image](#3.4-Color-image)\n",
    "  * [4. Efficient implementation using a custom GPU kernel](#4.-Efficient-implementation-using-a-custom-GPU-kernel)\n",
    "    * [4.1 Two dimensional anisotropic diffusion](#4.1-Two-dimensional-anisotropic-diffusion)\n",
    "    * [4.2 Coherence enhancing diffusion](#4.2-Coherence-enhancing-diffusion)\n",
    "    * [4.3 Three dimensional anisotropic diffusion](#4.3-Three-dimensional-anisotropic-diffusion)\n",
    "    * [4.4 Three dimensional coherence enhancing diffusion](#4.4-Three-dimensional-coherence-enhancing-diffusion)\n",
    "\n",
    "\n",
    "\n",
    "**Acknowledgement.** Some of the experiments presented in these notebooks are part of \n",
    "ongoing research with Ludovic Métivier and Da Chen.\n",
    "\n",
    "Copyright Jean-Marie Mirebeau, Centre Borelli, ENS Paris-Saclay, CNRS, University Paris-Saclay"
   ]
  },
  {
   "cell_type": "markdown",
   "metadata": {},
   "source": [
    "## 0. Importing the required libraries"
   ]
  },
  {
   "cell_type": "code",
   "execution_count": 1,
   "metadata": {},
   "outputs": [],
   "source": [
    "import sys; sys.path.insert(0,\"..\") # Allow import of agd from parent directory (useless if conda package installed)"
   ]
  },
  {
   "cell_type": "code",
   "execution_count": 2,
   "metadata": {
    "tags": [
     "ExportCode"
    ]
   },
   "outputs": [],
   "source": [
    "from agd import AutomaticDifferentiation as ad\n",
    "from agd import LinearParallel as lp\n",
    "from agd import Selling\n",
    "from agd import FiniteDifferences as fd"
   ]
  },
  {
   "cell_type": "code",
   "execution_count": 3,
   "metadata": {},
   "outputs": [],
   "source": [
    "from agd.Metrics import Riemann,misc\n",
    "from agd.Plotting import quiver,imread\n",
    "LInfNorm = ad.Optimization.norm_infinity"
   ]
  },
  {
   "cell_type": "code",
   "execution_count": 4,
   "metadata": {
    "tags": [
     "ExportCode"
    ]
   },
   "outputs": [],
   "source": [
    "import numpy as np; xp=np\n",
    "from scipy import ndimage"
   ]
  },
  {
   "cell_type": "code",
   "execution_count": 5,
   "metadata": {},
   "outputs": [],
   "source": [
    "import matplotlib\n",
    "from matplotlib import pyplot as plt\n",
    "import scipy.misc"
   ]
  },
  {
   "cell_type": "markdown",
   "metadata": {},
   "source": [
    "### 0.1 Additional configuration\n",
    "\n",
    "Uncomment the following line to use GPU acceleration. In this notebook, GPU acceleration is very partial, and mostly inefficient, in part because some necessary features are lacking from from the cupy library. It is only implemented for compatibility testing.\n",
    "\n",
    "<!---\n",
    "**Note on `gaussian_filter`.** At the time of writing, `cupyx.scipy.ndimage` does not implement `gaussian_filter`. We thus perform this operation on the CPU, which of course is silly.\n",
    "--->"
   ]
  },
  {
   "cell_type": "code",
   "execution_count": 6,
   "metadata": {
    "tags": [
     "GPU_config"
    ]
   },
   "outputs": [
    {
     "name": "stdout",
     "output_type": "stream",
     "text": [
      "Replacing numpy with cupy, set to output 32bit ints and floats by default.\n",
      "Using cp.asarray(*,dtype=np.float32) as the default caster in ad.array.\n",
      "Returning a copy of module matplotlib.pyplot whose functions accept cupy arrays as input.\n",
      "Returning a copy of function quiver which accepts cupy arrays as input.\n",
      "Replacing module scipy.ndimage with cupyx.scipy.ndimage .\n"
     ]
    }
   ],
   "source": [
    "#xp,plt,quiver,ndimage = map(ad.cupy_friendly,(xp,plt,quiver,ndimage))"
   ]
  },
  {
   "cell_type": "code",
   "execution_count": 7,
   "metadata": {},
   "outputs": [],
   "source": [
    "def rand(*args): \n",
    "    kwargs = {} if xp is np else {'dtype':np.float32}\n",
    "    return xp.random.rand(*args,**kwargs)"
   ]
  },
  {
   "cell_type": "markdown",
   "metadata": {},
   "source": [
    "## 1. Anisotropic diffusion\n",
    "\n",
    "In this section, we implement *linear* anisotropic diffusion, namely the PDE\n",
    "$$\n",
    "    \\partial_t u = \\mathrm{div}(D \\nabla u),\n",
    "$$\n",
    "where the symmetric positive definite diffusion matrix $D$ is independent of the unknown function $u$, but may depend on the position $x \\in \\Omega$. \n",
    "The use of a non-linear diffusion tensor $D_u$, described in the next section, is achieved by adequately updating the diffusion tensor every (few) time steps."
   ]
  },
  {
   "cell_type": "markdown",
   "metadata": {},
   "source": [
    "### 1.1 The Dirichlet elliptic energy\n",
    "\n",
    "Linear anisotropic diffusion is the gradient flow, with respect to the $L^2$ metric, of the Dirichlet elliptic energy \n",
    "$$\n",
    "    E(u) := \\frac 1 2 \\int_\\Omega \\|\\nabla u\\|_D^2,\n",
    "$$\n",
    "where $\\|v\\|_D := \\sqrt{<v,Dv>}$.\n",
    "We discretize this energy using finite differences, following an approach already considered in [this other notebook](Elliptic.ipynb).  \n",
    "More precisely, the symmetric positive definite diffusion matrices are decomposed using Selling's formula, \n",
    "$$\n",
    "    D = \\sum_{1\\leq i \\leq n} \\lambda_i e_i e_i^T,\n",
    "$$\n",
    "where $\\lambda_i$ is non-negative and $e_i$ has integer coordinates. With Selling's decomposition one has $n=d(d+1)/2$. The finite difference energy is then \n",
    "$$\n",
    "E_h(u) := \\frac 1 {4h^2} \\sum_{x \\in \\Omega_h} \\sum_{1 \\leq i \\leq n} \\lambda_i \\Big[ (u(x+h e_i)-u(x))^2 + (u(x-he_i) - u(x))^2) \\Big ].\n",
    "$$\n",
    "(Approximate) Neumann boundary conditions are implemented by ignoring all finite differences involving values falling outside the domain.\n",
    "Note that $E(u) \\approx h^d E_h(u)$, where $d$ is the dimension. The $h^d$ factor is deliberately omitted in the discretization, to account for the similar proportionality factor between the scalar product on $L^2(\\Omega)$ and the Euclidean scalar product on $L^2(\\Omega_h)$ that is implicitly used in automatic differentiation.\n",
    "\n",
    "\n",
    "In the following function, for technical reasons, we do not sum over $x \\in \\Omega_h$, but instead return the energy density. The summation is performed implicitly when we compute the operator Hessian, in the following step.\n",
    "\n",
    "<!---ExoFR\n",
    "Implémenter une discrétisation de l'énergie de Dirichlet.\n",
    "--->\n",
    "\n",
    "<!---ExoCode\n",
    "def DirichletEnergy(u,D,dx):\n",
    "    \"\"\"\n",
    "    Dirichlet energy associated with an anisotropic tensor field.\n",
    "    \"\"\"\n",
    "    # Decompose the tensors, producing non-negative coefficients λ, and integer offsets e\n",
    "    λ,e = # TODO\n",
    "    \n",
    "    # Compute finite differences in the appropriate directions\n",
    "    dup = # (u(x+dx*e)-u(x))/dx # Hint : fd.DiffUpwind\n",
    "    dum = # (u(x+dx*e)-u(x))/dx\n",
    "    \n",
    "    # Apply Neumann-like boundary conditions\n",
    "    dup[np.isnan(dup)]=0\n",
    "    dum[np.isnan(dum)]=0\n",
    "    \n",
    "    # Return energy density, with same shape as u\n",
    "    return # TODO. Sum over i but not over x\n",
    "--->"
   ]
  },
  {
   "cell_type": "code",
   "execution_count": 8,
   "metadata": {
    "tags": [
     "ExportCode"
    ]
   },
   "outputs": [],
   "source": [
    "def DirichletEnergy(u,D,dx):\n",
    "    \"\"\"\n",
    "    Dirichlet energy associated with an anisotropic tensor field.\n",
    "    \"\"\"\n",
    "    # Decompose the tensors\n",
    "    λ,e = Selling.Decomposition(D)\n",
    "    \n",
    "    # Compute finite differences in the appropriate directions\n",
    "    dup = fd.DiffUpwind(u, e,dx) # (u(x+dx*e)-u(x))/dx\n",
    "    dum = fd.DiffUpwind(u,-e,dx) # (u(x-dx*e)-u(x))/dx\n",
    "    \n",
    "    # Apply Neumann-like boundary conditions\n",
    "    dup[np.isnan(dup)]=0\n",
    "    dum[np.isnan(dum)]=0\n",
    "    \n",
    "    # Return energy density\n",
    "    return ( 0.25 * λ * (dup**2+dum**2) ).sum(axis=0)  # Sum over i but not over x"
   ]
  },
  {
   "cell_type": "markdown",
   "metadata": {},
   "source": [
    "### 1.2 The diffusion operator\n",
    "\n",
    "We implement the divergence form anisotropic diffusion operator \n",
    "$$\n",
    "    u \\mapsto - \\mathrm{div}(D \\nabla u).\n",
    "$$\n",
    "As mentioned above, this is the gradient of the Dirichlet energy, with respect to the $L^2(\\Omega)$ metric. Since the Dirichlet energy is quadratic, this operator is its hessian. We mimick this construction in the discrete setting. \n",
    "\n",
    "<!---ExoFR\n",
    "Produisez l'opérateur linéaire discrétisant $L(u) := -\\mathrm{div}(D \\nabla u)$, qui est la Hessienne de l'énergie de Dirichlet, par différentiation automatique.\n",
    "--->\n",
    "\n",
    "<!---ExoCode\n",
    "def DiffusionOperator(D,dx):\n",
    "    \"\"\"\n",
    "    Anisotropic diffusion linear operator.\n",
    "    - D : diffusion tensors\n",
    "    - dx : grid scale\n",
    "    \"\"\"\n",
    "    # Differentiate the Dirichlet energy\n",
    "    u_ad = # TODO. Sparse AD variable of second order, correctly shaped\n",
    "    E_ad = # TODO. Evaluate energy of interest\n",
    "        \n",
    "    # Return hessian of this quadratic form\n",
    "    return E.hessian_operator() # Summation over x is implicit\n",
    "--->"
   ]
  },
  {
   "cell_type": "code",
   "execution_count": 9,
   "metadata": {
    "tags": [
     "ExportCode"
    ]
   },
   "outputs": [],
   "source": [
    "def DiffusionOperator(D,dx):\n",
    "    \"\"\"\n",
    "    Anisotropic diffusion linear operator.\n",
    "    - D : diffusion tensors\n",
    "    - dx : grid scale\n",
    "    \"\"\"\n",
    "    # Differentiate the Dirichlet energy\n",
    "    u_ad = ad.Sparse2.identity(constant=np.zeros_like(D[0,0]))\n",
    "    E_ad = DirichletEnergy(u_ad,D,dx)\n",
    "        \n",
    "    # Return hessian of this quadratic form\n",
    "    return E_ad.hessian_operator() # Summation is implicit"
   ]
  },
  {
   "cell_type": "markdown",
   "metadata": {},
   "source": [
    "### 1.3 Stability of the finite differences scheme\n",
    "\n",
    "We use an explicit discretization scheme in time\n",
    "$$\n",
    "    u(t+\\delta t) = u(t) - \\delta t L_h u(t).\n",
    "$$\n",
    "In the case of constant coefficients, when the diffusion tensors $D$ are independent of the position $x$, this numerical scheme is stable under the following CFL condition:\n",
    "$$\n",
    "    2\\delta t \\sum_{1 \\leq i \\leq n} \\lambda_i \\leq h^2.\n",
    "$$\n",
    "Note that $\\mathrm{Tr}(D) = \\sum_{1 \\leq i \\leq n} \\lambda_i \\|e_i\\|^2 \\geq \\sum_{1\\leq i \\leq n} \\lambda_i$. Indeed, since the finite-difference offsets $e_i$ are non-zero and have integer coordinates, one has $\\|e_i\\|\\geq 1$ for all $1 \\leq i \\leq n$. We deduce the following simpler, yet possibly non-optimal, CFL condition:\n",
    "$$\n",
    "    2\\delta t\\  \\mathrm{Tr}(D) \\leq h^2.\n",
    "$$\n",
    "\n",
    "In the case where $D$ varies over the domain, the CFL condition changes, but only a little, and using the above formula with the largest trace of $D$ over the domain is a good enough approximation for our purposes.\n",
    "\n",
    "<!---ExoFR\n",
    "Calculez numériquement le pas de temps correspondant à la condition CFL. (Les pas de temps inférieurs ou égaux à cette borne doivent être stables.)\n",
    "--->\n",
    "\n",
    "<!---ExoCode\n",
    "def CFL(D,dx):\n",
    "    \"\"\"Returns a time step for which the explicit scheme is guaranteed to be stable\"\"\"\n",
    "    return # TODO. Renvoyer δt maximal garanti.\n",
    "--->"
   ]
  },
  {
   "cell_type": "code",
   "execution_count": 10,
   "metadata": {
    "tags": [
     "ExportCode"
    ]
   },
   "outputs": [],
   "source": [
    "def CFL(D,dx):\n",
    "    \"\"\"Returns a time step for which the explicit scheme is guaranteed to be stable\"\"\"\n",
    "    return dx**2 / (2*np.max(lp.trace(D)))"
   ]
  },
  {
   "cell_type": "markdown",
   "metadata": {},
   "source": [
    "The implicit scheme is on the other hand unconditionally stable. However it is also more expensive to implement."
   ]
  },
  {
   "cell_type": "markdown",
   "metadata": {},
   "source": [
    "### 1.4 Numerical example\n",
    "\n",
    "We implement anisotropic diffusion, in a square domain. \n",
    "\n",
    "<!---ExoFR\n",
    "On discrétise le domaine $[0,1]^2$ sur une grille $N \\times N$.\n",
    "\n",
    "Produisez un champ de matrices symétriques définies positives $D$, de format $2 \\times 2 \\times N \\times N$, telles qu'au point $x \\in [0,1]^2$, $D(x)$ admet les vecteurs propres suivantes (avec $\\mu=0.2$, $\\nu=1$) :\n",
    "- $x$, pour la valeur propre $\\mu^2$.\n",
    "- $x^\\perp$, pour la valeur propre $\\nu^2$.\n",
    "--->\n",
    "\n",
    "<!---ExoCode\n",
    "# Define the domain and discretization grid\n",
    "aX,dx = xp.linspace(0,1,retstep=True)\n",
    "X = ad.array(np.meshgrid(aX,aX,indexing='ij'))\n",
    "shape = X.shape[1:]\n",
    "\n",
    "# Define the diffusion tensors\n",
    "eVec = X; μ,ν = 0.2,1.\n",
    "D = # TODO. \n",
    "\n",
    "# Choose the time step, and their number\n",
    "dt = 0.5 * CFL(D,dx)\n",
    "ndt = 100\n",
    "--->"
   ]
  },
  {
   "cell_type": "code",
   "execution_count": 11,
   "metadata": {},
   "outputs": [],
   "source": [
    "# Define the domain and discretization grid\n",
    "aX,dx = xp.linspace(0,1,retstep=True)\n",
    "X = ad.array(np.meshgrid(aX,aX,indexing='ij'))\n",
    "shape = X.shape[1:]\n",
    "\n",
    "# Define the diffusion tensors\n",
    "eVec = X; μ,ν = 0.2,1.\n",
    "D = Riemann.needle(X,0.2,1.).m\n",
    "\n",
    "# Choose the time step, and the number of steps\n",
    "dt = CFL(D,dx)\n",
    "ndt = 100"
   ]
  },
  {
   "cell_type": "markdown",
   "metadata": {},
   "source": [
    "In the previous cell, we generated using the helper function `Riemann.needle` some anisotropic diffusion tensors, by specifying an eigenvector and two eigenvalues $\\mu^2$ and $\\nu^2$ for the parallel and orthogonal directions. However, any array of positive definite matrices, with the same shape, could be used instead."
   ]
  },
  {
   "cell_type": "code",
   "execution_count": 12,
   "metadata": {},
   "outputs": [
    {
     "data": {
      "text/plain": [
       "(2, 2, 50, 50)"
      ]
     },
     "execution_count": 12,
     "metadata": {},
     "output_type": "execute_result"
    }
   ],
   "source": [
    "D.shape"
   ]
  },
  {
   "cell_type": "markdown",
   "metadata": {},
   "source": [
    "We now generate the evolution operator, and the time iteration loop."
   ]
  },
  {
   "cell_type": "code",
   "execution_count": 13,
   "metadata": {},
   "outputs": [],
   "source": [
    "A = DiffusionOperator(D,dx)"
   ]
  },
  {
   "cell_type": "code",
   "execution_count": 14,
   "metadata": {
    "tags": [
     "ExportCode"
    ]
   },
   "outputs": [],
   "source": [
    "def evolve(u0,dt,ndt,A):\n",
    "    u = u0.flatten() # Makes an implicit copy\n",
    "    for i in range(ndt):\n",
    "        u -= dt * A*u\n",
    "    return u.reshape(u0.shape)"
   ]
  },
  {
   "cell_type": "markdown",
   "metadata": {},
   "source": [
    "The anisotropic diffusion tensors `D` that we defined in this experiment, have a small eigenvalue in the radial direction `X`, and a large eigenvalue in the orthogonal direction.\n",
    "\n",
    "Applying such circular anisotropic diffusion to random noise generates circular patterns, as opposed to radial, as could be expected."
   ]
  },
  {
   "cell_type": "code",
   "execution_count": 15,
   "metadata": {},
   "outputs": [],
   "source": [
    "u0 =rand(*shape)\n",
    "\n",
    "plt.figure(figsize=(14,5))\n",
    "plt.subplot(1,2,1)\n",
    "plt.title(\"Original image\")\n",
    "plt.contourf(*X,u0)\n",
    "plt.colorbar(); plt.axis('equal')\n",
    "\n",
    "plt.subplot(1,2,2)\n",
    "plt.title(\"Circular anisotropic diffusion\")\n",
    "plt.contourf(*X,evolve(u0,dt,ndt,A))\n",
    "plt.colorbar(); plt.axis('equal');"
   ]
  },
  {
   "cell_type": "markdown",
   "metadata": {},
   "source": [
    "Circular structures are mostly preserved by the anisotropic diffusion evolution defined by our tensors `D`, since most diffusion occurs tangentially to them."
   ]
  },
  {
   "cell_type": "code",
   "execution_count": 16,
   "metadata": {},
   "outputs": [],
   "source": [
    "nX = ad.Optimization.norm(X,axis=0)\n",
    "u0 = np.cos(20*nX)\n",
    "\n",
    "plt.figure(figsize=(14,5))\n",
    "plt.subplot(1,2,1)\n",
    "plt.title(\"Original image\")\n",
    "plt.contourf(*X,u0)\n",
    "plt.colorbar(); plt.axis('equal')\n",
    "\n",
    "plt.subplot(1,2,2)\n",
    "plt.title(\"Circular anisotropic diffusion\")\n",
    "plt.contourf(*X,evolve(u0,dt,ndt,A))\n",
    "plt.colorbar(); plt.axis('equal');"
   ]
  },
  {
   "cell_type": "markdown",
   "metadata": {},
   "source": [
    "In contrast, radial structures are quickly blurred, again due to our choice of diffusion tensors."
   ]
  },
  {
   "cell_type": "code",
   "execution_count": 17,
   "metadata": {
    "scrolled": true
   },
   "outputs": [],
   "source": [
    "θ = np.arctan2(X[1],X[0])\n",
    "u0 = np.cos(20*θ)\n",
    "\n",
    "plt.figure(figsize=(14,5))\n",
    "plt.subplot(1,2,1)\n",
    "plt.title(\"Original image\")\n",
    "plt.contourf(*X,u0)\n",
    "plt.colorbar(); plt.axis('equal')\n",
    "\n",
    "plt.subplot(1,2,2)\n",
    "plt.title(\"Circular anisotropic diffusion\")\n",
    "plt.contourf(*X,evolve(u0,dt,ndt,A))\n",
    "plt.colorbar(); plt.axis('equal');"
   ]
  },
  {
   "cell_type": "markdown",
   "metadata": {},
   "source": [
    "## 2. Choice of diffusion tensor\n",
    "\n",
    "In the previous section, we have shown that the effect of anisotropic diffusion dramatically depends on the choice of the diffusion tensors. In applications, the latter must be chosen so as to promote diffusion only in the places and along the directions needed.\n",
    "For that purpose, a non-linear construction, depending on the processed function, must be developed. \n",
    "\n",
    "Let us fix the objective of using non-linear anisotropic diffusion to reinforce the image features, by smoothing tangentially to the object boundaries and to the oscillating structures. \n",
    "A preliminary step it to detect the position and orientation of these features, which is addressed as often using the structure tensor, described below. In a second step, the intensity of diffusion is adjusted, depending on the application and possibly on the taste or some artistic choice of the user. Several ad-hoc formulas have been proposed by J. Weickert to select the diffusion intensity in terms of the structure tensor eigenvalues."
   ]
  },
  {
   "cell_type": "code",
   "execution_count": 18,
   "metadata": {},
   "outputs": [],
   "source": [
    "def NonlinearDiffusion(u0,D,nO,nI,dx=1,dt=None,DiffOp=DiffusionOperator):\n",
    "    \"\"\"\n",
    "    Perform non-linear diffusion:\n",
    "    - D : map for updating the diffusion tensors\n",
    "    - nI : number of inner time steps (constant diffusion tensor)\n",
    "    - nO : number of outer time steps (update diffusion tensor)\n",
    "    - dx (optional) : grid scale. \n",
    "    - dt (optional) : time step. Defaults to a multiple of CFL bound.\n",
    "    \"\"\"\n",
    "    shape = u0.shape\n",
    "    u = u0.copy()\n",
    "    u_flat = u.reshape(-1)\n",
    "    caster = ad.cupy_generic.array_float_caster(u)\n",
    "    dt_as_CFL = dt is None\n",
    "    for i in range(nO):\n",
    "        # Produce the diffusion operator\n",
    "        Du = D(u,dx) \n",
    "        Du = caster(Du) # Back to GPU and float32 if needed\n",
    "        A = DiffOp(Du,dx)\n",
    "        if dt_as_CFL: \n",
    "            dt = 0.6 * CFL(Du,dx)\n",
    "\n",
    "        # Iterate diffusion\n",
    "        for j in range(nI):\n",
    "            u_flat -= dt*(A*u_flat)\n",
    "        \n",
    "    return u"
   ]
  },
  {
   "cell_type": "markdown",
   "metadata": {},
   "source": [
    "In the above code, we do not use the largest possible time step, given by the CFL condition, but a substantially smaller value. Indeed, some chessboard artifacts tend to be observed otherwise in some cases, originating from the non-linearity of the scheme."
   ]
  },
  {
   "cell_type": "markdown",
   "metadata": {},
   "source": [
    "### 2.1 The structure tensor\n",
    "\n",
    "\n",
    "Consider an image $u$ on a domain $\\Omega$, a noise scale $\\sigma$, and a feature scale $\\rho$, suitably chosen or estimated. The structure tensor is defined as \n",
    "$$\n",
    "    S := G_\\rho \\star (\\nabla u_\\sigma \\nabla u_\\sigma^T)\n",
    "$$\n",
    "where $G_\\rho$ denotes the Gaussian kernel of width $\\rho$, and where $\\star$ denotes convolution. (Reflected boundary conditions are typically applied on the boundary.) We also denoted $u_\\sigma := G_\\sigma \\star u$. \n",
    "\n",
    "By construction, the structure tensor is a field of positive definite matrices, whose largest eigenvector points transversally to the discontinuities and to the oscillating features of $u$.\n",
    "\n",
    "<!---ExoFR\n",
    "Construisez le tenseur de structure $S$ à partir d'une fonction $u$ et de paramètres donnés. \n",
    "--->\n",
    "\n",
    "<!---ExoCode\n",
    "def StructureTensor(u,σ=2.,ρ=5.,dx=1.):\n",
    "    \"\"\"\n",
    "    Computes the structure tensor of u,\n",
    "    with noise scale σ and feature scale ρ.\n",
    "    \"\"\"\n",
    "\n",
    "    # Hint : \n",
    "    - gaussian_filter(u,σ) approximates u_σ\n",
    "    - gaussian_filter(u,σ,order=(1,0))/dx approximates D(u_σ)/Dx\n",
    "    \n",
    "    # Compute grad(uσ)\n",
    "    duσ = # TODO. \n",
    "    \n",
    "    # Compute S\n",
    "    S = # TODO\n",
    "\n",
    "    return S \n",
    "--->"
   ]
  },
  {
   "cell_type": "code",
   "execution_count": 19,
   "metadata": {
    "tags": [
     "ExportCode"
    ]
   },
   "outputs": [],
   "source": [
    "def StructureTensor(u,σ=2.,ρ=5.,dx=1.,gaussian_filter=None):\n",
    "    \"\"\"\n",
    "    Computes the structure tensor of u,\n",
    "    - σ : noise scale, measured in pixels\n",
    "    - ρ : feature scale, measured in pixels.\n",
    "    - dx (optional) : grid scale, for rescaling the gradient\n",
    "    - gaussian_filter (optional) : provided an implementation of gaussian filter\n",
    "    \"\"\"\n",
    "    if gaussian_filter is None: gaussian_filter = ndimage.gaussian_filter\n",
    "    # Compute grad uσ\n",
    "    d = u.ndim \n",
    "    eye = np.eye(d).astype(int)\n",
    "    duσ = [gaussian_filter(u,σ,order=e)/dx for e in eye]\n",
    "    \n",
    "    # Self outer product and averaging \n",
    "    S = lp.outer_self(duσ)\n",
    "    for i in range(d): \n",
    "        for j in range(d):\n",
    "            S[i,j] = gaussian_filter(S[i,j],ρ)\n",
    "    \n",
    "    return S "
   ]
  },
  {
   "cell_type": "markdown",
   "metadata": {},
   "source": [
    "We illustrate the structure tensor on a function with a radial structure."
   ]
  },
  {
   "cell_type": "code",
   "execution_count": 20,
   "metadata": {},
   "outputs": [],
   "source": [
    "θ = np.arctan2(X[1],X[0])\n",
    "u0 = np.cos(20*θ)\n",
    "\n",
    "S0 = StructureTensor(u0)"
   ]
  },
  {
   "cell_type": "markdown",
   "metadata": {},
   "source": [
    "The structure tensor is a feature descriptor, whose eigenvalues and eigenvectors bear geometric information. "
   ]
  },
  {
   "cell_type": "code",
   "execution_count": 21,
   "metadata": {},
   "outputs": [],
   "source": [
    "μ,v = np.linalg.eigh(np.moveaxis(S0,(0,1),(-2,-1)))\n",
    "\n",
    "# Axes reordering and normalization\n",
    "μ = np.moveaxis(μ,-1,0)\n",
    "v = np.moveaxis(v,(-1,-2),(1,0))\n",
    "v *= np.sign(v[0])"
   ]
  },
  {
   "cell_type": "markdown",
   "metadata": {},
   "source": [
    "The eigenvector associated with the largest eigenvalue points transversally to the oscillating structures. The corresponding eigenvalue varies rather slowly, and in particular it does not oscillate at the structure scale."
   ]
  },
  {
   "cell_type": "code",
   "execution_count": 22,
   "metadata": {},
   "outputs": [
    {
     "data": {
      "text/plain": [
       "<matplotlib.quiver.Quiver at 0x25660b46ae0>"
      ]
     },
     "execution_count": 22,
     "metadata": {},
     "output_type": "execute_result"
    }
   ],
   "source": [
    "plt.figure(figsize=(14,4))\n",
    "\n",
    "plt.subplot(1,3,1)\n",
    "plt.title('Original function')\n",
    "plt.contourf(*X,u0)\n",
    "\n",
    "plt.subplot(1,3,2)\n",
    "plt.title('Largest eigenvalue')\n",
    "plt.contourf(*X,μ[1])\n",
    "plt.colorbar(); plt.axis('equal')\n",
    "\n",
    "plt.subplot(1,3,3)\n",
    "plt.title('Corresponding eigenvector')\n",
    "quiver(*X,*v[:,1],subsampling=(5,5))"
   ]
  },
  {
   "cell_type": "markdown",
   "metadata": {},
   "source": [
    "### 2.2 Edge enhancing diffusion\n",
    "\n",
    "Edge enhancing diffusion aims at simplyfing an image by diffusing everywhere *except transversally to edges and oscillating structures*. It is presented by J. Weickert as an anisotropic regularization of total variation filtering.\n",
    "At each point of the domain, the diffusion coefficient is $1$ in the direction tangential to the local structures (corresponding to the small eigenvalue of the structure tensor), and a smaller value in the orthogonal direction."
   ]
  },
  {
   "cell_type": "code",
   "execution_count": 23,
   "metadata": {},
   "outputs": [],
   "source": [
    "def EdgeEnhancing(μ,α=0.01,λ=1.):\n",
    "    \"\"\"\n",
    "    Eigenvalues of the edge enhancing diffusion filter, \n",
    "    in terms of those of the structure tensor. (μ[0] <= μ[1])\n",
    "    \"\"\"\n",
    "    ν = (μ[1] - μ[0]) / λ # Edge detector. Non-negative. \n",
    "    λ0 = np.ones_like(ν) # Unit diffusion in general\n",
    "    λ1 = np.maximum(α,1.-np.exp(-3.314/ν**4)) # Small diffusion if a feature is detected\n",
    "    return λ0,λ1 "
   ]
  },
  {
   "cell_type": "markdown",
   "metadata": {},
   "source": [
    "Following Weickert, the diffusion tensor has the same eigenvectors as the structure tensor, but uses the mapped eigenvalues. \n",
    "\n",
    "Note that the diffusion tensors depend continuously on the structure tensor provided the mapping $(\\mu_0, \\mu_1) \\mapsto (\\lambda_0,\\lambda_1)$ is continuous (with $\\mu_0 \\leq \\mu_1$), *and* one has in addition\n",
    "$$\n",
    "    \\mu_0 = \\mu_1 \\Rightarrow \\lambda_0 = \\lambda_1.\n",
    "$$\n",
    "Weickert's original filter, lacked this property (defining $\\nu = \\mu_1/\\lambda$ rather than $\\nu = (\\mu_1 - \\mu_0)/\\lambda$).\n",
    "Fixing it as we do here yields a mathematically well posed evolution PDE, but admitedly makes little difference in the numerical results."
   ]
  },
  {
   "cell_type": "code",
   "execution_count": 24,
   "metadata": {},
   "outputs": [],
   "source": [
    "def Du(u,dx=1.): return Riemann.from_mapped_eigenvalues(StructureTensor(u,ρ=3,dx=dx),EdgeEnhancing).m"
   ]
  },
  {
   "cell_type": "markdown",
   "metadata": {},
   "source": [
    "In order to illustrate the long term effect of edge enhancing diffusion, we apply it for 3000 time steps. The diffusion tensor is updated every 10 time steps. \n",
    "The output of the non-linear diffusion evolution is stricklingly differs from the usual linear isotropic diffusion, and is akin to total variation filtering : \n",
    "* A non-smooth function ! This is due to the non-linearity; and it can be interpreted in terms of 'negative' diffusion if laplacian operator is put in non-divergence form.\n",
    "* A piecewise constant function ! In this example, the output of the evolution equation is almost constant in a small circle in the center, as well as outside a larger circle.\n",
    "* An almost discontinuous function ! The slope of the transition layer between the flat regions is very strong. \n",
    "\n",
    "This behavior is referred to as the staircaising effect, and is usually regarded as an undesirable artifact as far as applications are concerned. This effect is common in non-linear isotropic diffusion filtering, but fortunately non-linear anisotropic diffusion offers enough degrees of freedom to avoid it usually. \n",
    "\n",
    "Note that the maximal height of the function $u$ decreases as time increases, it become a single constant (over the whole domain) in finite time. See J. Weickert's book referenced in the introduction for more details and further references."
   ]
  },
  {
   "cell_type": "code",
   "execution_count": 25,
   "metadata": {},
   "outputs": [],
   "source": [
    "aX,dx = xp.linspace(-1,1,retstep=True)\n",
    "X = ad.array(np.meshgrid(aX,aX,indexing='ij')) \n",
    "u0 = 2*np.exp( - 4*(X**2).sum(axis=0))"
   ]
  },
  {
   "cell_type": "code",
   "execution_count": 26,
   "metadata": {},
   "outputs": [
    {
     "name": "stdout",
     "output_type": "stream",
     "text": [
      "CPU times: total: 10.6 s\n",
      "Wall time: 10.7 s\n"
     ]
    }
   ],
   "source": [
    "%%time\n",
    "u1 = NonlinearDiffusion(u0,Du,100,10,dx)\n",
    "u2 = NonlinearDiffusion(u1,Du,100,10,dx) \n",
    "u3 = NonlinearDiffusion(u2,Du,100,10,dx) "
   ]
  },
  {
   "cell_type": "code",
   "execution_count": 27,
   "metadata": {},
   "outputs": [],
   "source": [
    "X, u0,u1,u2,u3 = map(ad.cupy_generic.cupy_get,(X, u0,u1,u2,u3)) # Back to CPU if needed\n",
    "\n",
    "plt.figure(figsize=(12,12))\n",
    "\n",
    "ax = plt.subplot(2,2,1,projection='3d')\n",
    "plt.title('Original function')\n",
    "ax.plot_surface(*X,u0)\n",
    "\n",
    "ax = plt.subplot(2,2,2,projection='3d')\n",
    "plt.title('1000 time steps')\n",
    "ax.plot_surface(*X,u1)\n",
    "\n",
    "ax = plt.subplot(2,2,3,projection='3d')\n",
    "plt.title('2000 time steps')\n",
    "ax.plot_surface(*X,u2)\n",
    "\n",
    "ax = plt.subplot(2,2,4,projection='3d')\n",
    "plt.title('3000 time steps')\n",
    "ax.plot_surface(*X,u3);"
   ]
  },
  {
   "cell_type": "markdown",
   "metadata": {},
   "source": [
    "*Note on GPU acceleration.* In order to achieve a more efficient GPU acceleration, in terms of speed and memory usage, a custom CUDA kernel is required. The agd library provides such an implementation, presented at the end of this notebook."
   ]
  },
  {
   "cell_type": "markdown",
   "metadata": {},
   "source": [
    "### 2.3 Coherence enhancing diffusion\n",
    "\n",
    "Coherence enhancing diffusion diffuses strongly along the image discontinuities or its oscillating features, and weakly elsewhere. In particular, and in contrast to edge enhancing diffusion, the smooth regions of the image remain largely untouched."
   ]
  },
  {
   "cell_type": "code",
   "execution_count": 28,
   "metadata": {},
   "outputs": [],
   "source": [
    "def CoherenceEnhancing(μ,α=0.01,λ=1.,pow_v=4):\n",
    "    \"\"\"\n",
    "    Eigenvalues of the edge enhancing diffusion filter, \n",
    "    in terms of those of the structure tensor. (μ[0] <= μ[1])\n",
    "    \"\"\"    \n",
    "    ν = (μ[1] - μ[0]) / λ # Edge detector. Non-negative. \n",
    "    λ0 = α + (1-α) * np.exp(-3.314/ν**pow_v) # Unit diffusion along features\n",
    "    λ1 = α * np.ones_like(ν) # Small diffusion in general\n",
    "    return λ0,λ1 "
   ]
  },
  {
   "cell_type": "code",
   "execution_count": 29,
   "metadata": {},
   "outputs": [],
   "source": [
    "def Du(u,dx=1.):\n",
    "    return Riemann.from_mapped_eigenvalues(StructureTensor(u,ρ=3,dx=dx),CoherenceEnhancing).m"
   ]
  },
  {
   "cell_type": "markdown",
   "metadata": {},
   "source": [
    "For illustration, we apply coherence enhancing diffusion on a piecewise smooth image with added noise. As desired, the discontinuities are essentially preserved, rather than blurred, and the noise is removed."
   ]
  },
  {
   "cell_type": "code",
   "execution_count": 30,
   "metadata": {},
   "outputs": [],
   "source": [
    "aX,dx = xp.linspace(0,1,100,retstep=True)\n",
    "X = ad.array(np.meshgrid(aX,aX,indexing='ij')) \n",
    "\n",
    "Ω1 = 0.3 >= np.sqrt((X[0]-0.5)**2+(X[1]-0.6)**2)\n",
    "Ω2 = np.logical_and(np.logical_and(X[0]>=0.15, X[0]+6*X[1]<=1.5),X[1]>=0.1).astype(X.dtype)\n",
    "u0ref = 0.5*(Ω1 + Ω2)*(1.5+np.sin(6*(X[0]+2*X[1])))\n",
    "u0 = u0ref + rand(*Ω1.shape)"
   ]
  },
  {
   "cell_type": "code",
   "execution_count": 31,
   "metadata": {},
   "outputs": [],
   "source": [
    "u1 = NonlinearDiffusion(u0,Du,10,10,dx) "
   ]
  },
  {
   "cell_type": "code",
   "execution_count": 32,
   "metadata": {},
   "outputs": [],
   "source": [
    "plt.figure(figsize=(14,4))\n",
    "\n",
    "plt.subplot(1,3,1)\n",
    "plt.contourf(*X,u0ref)\n",
    "plt.title('Original'); plt.axis('equal')\n",
    "\n",
    "plt.subplot(1,3,2)\n",
    "plt.contourf(*X,u0)\n",
    "plt.title('Noisy'); plt.axis('equal')\n",
    "\n",
    "plt.subplot(1,3,3)\n",
    "plt.contourf(*X,u1)\n",
    "plt.title('Filtered'); plt.axis('equal');"
   ]
  },
  {
   "cell_type": "markdown",
   "metadata": {},
   "source": [
    "## 3. Application to image processing"
   ]
  },
  {
   "cell_type": "markdown",
   "metadata": {},
   "source": [
    "### 3.1 Fingerprint line enhancement\n",
    "\n",
    "A fingerprint image is filled with oscillating patterns. In this context, edge enhancing diffusion removes noise without blurring the fingerprint lines. "
   ]
  },
  {
   "cell_type": "code",
   "execution_count": 33,
   "metadata": {},
   "outputs": [],
   "source": [
    "image0 = imread(\"Notebooks_Div/TestData/EdgeEnhancingDiffusion2D_TestImage.png\")\n",
    "image0 = xp.asarray(image0/255)"
   ]
  },
  {
   "cell_type": "code",
   "execution_count": 34,
   "metadata": {},
   "outputs": [],
   "source": [
    "def Du(u,dx=1.): return Riemann.from_mapped_eigenvalues(StructureTensor(u,dx=dx),EdgeEnhancing).m\n",
    "u1 = NonlinearDiffusion(image0,Du,3,7,dx) "
   ]
  },
  {
   "cell_type": "code",
   "execution_count": 35,
   "metadata": {},
   "outputs": [],
   "source": [
    "plt.figure(figsize=(16,7))\n",
    "plt.subplot(1,2,1)\n",
    "plt.imshow(image0,cmap='Greys')\n",
    "plt.title('Original')\n",
    "\n",
    "plt.subplot(1,2,2)\n",
    "plt.imshow(u1,cmap='Greys')\n",
    "plt.title('Edge enhancing diffusion');"
   ]
  },
  {
   "cell_type": "markdown",
   "metadata": {},
   "source": [
    "### 3.2 Artistic effect\n",
    "\n",
    "Depending on parameter setting, the edge enhancing diffusion evolution PDE may or may not amplify patterns in the noise. As a result, the method turns from a denoiser to an artistic filter.\n",
    "\n",
    "A very noisy synthetic image with a pacman-like subject is denoised using edge enhancing diffusion."
   ]
  },
  {
   "cell_type": "code",
   "execution_count": 36,
   "metadata": {},
   "outputs": [],
   "source": [
    "image0 = imread(\"Notebooks_Div/TestData/CoherenceEnhancingDiffusion2D_TestImage.png\")\n",
    "image0 = xp.asarray(image0/255)"
   ]
  },
  {
   "cell_type": "code",
   "execution_count": 37,
   "metadata": {},
   "outputs": [],
   "source": [
    "def Du(u,dx=1.): \n",
    "    return Riemann.from_mapped_eigenvalues(StructureTensor(u,ρ=3,σ=2,dx=dx),\n",
    "            lambda μ : EdgeEnhancing(μ,λ=3,α=0.1)).m\n",
    "u1 = NonlinearDiffusion(image0,Du,5,5,dx) "
   ]
  },
  {
   "cell_type": "code",
   "execution_count": 38,
   "metadata": {},
   "outputs": [],
   "source": [
    "plt.figure(figsize=(16,7))\n",
    "plt.subplot(1,2,1)\n",
    "plt.imshow(image0,cmap='Greys')\n",
    "plt.title('Original')\n",
    "\n",
    "plt.subplot(1,2,2)\n",
    "plt.imshow(u1,cmap='Greys')\n",
    "plt.title('Edge enhancing diffusion');"
   ]
  },
  {
   "cell_type": "markdown",
   "metadata": {},
   "source": [
    "Compared to the previous experiment we decrease below the noise scale $\\sigma$ and feature scale $\\rho$, involved in the structure tensor construction, to approximately the pixel scale. As a result, small scale noise is amplified and brush-like artistic patterns emerge. In other words, the edge enhancing diffusion generates edges out of noise with these parameters."
   ]
  },
  {
   "cell_type": "code",
   "execution_count": 39,
   "metadata": {},
   "outputs": [],
   "source": [
    "def Du(u,dx=1.): \n",
    "    return Riemann.from_mapped_eigenvalues(StructureTensor(u,ρ=1.5,σ=1.,dx=dx),\n",
    "            lambda μ : EdgeEnhancing(μ,λ=3,α=0.1)).m\n",
    "u1 = NonlinearDiffusion(image0,Du,5,5,dx) "
   ]
  },
  {
   "cell_type": "code",
   "execution_count": 40,
   "metadata": {},
   "outputs": [],
   "source": [
    "plt.figure(figsize=(16,7))\n",
    "plt.subplot(1,2,1)\n",
    "plt.imshow(image0,cmap='Greys')\n",
    "plt.title('Original')\n",
    "\n",
    "plt.subplot(1,2,2)\n",
    "plt.imshow(u1,cmap='Greys')\n",
    "plt.title('Edge enhancing diffusion');"
   ]
  },
  {
   "cell_type": "markdown",
   "metadata": {},
   "source": [
    "### 3.3 Denoising\n",
    "\n",
    "The ascent image, below, displays fine parallel structures. Edge enhancing diffusion (EED) is able to preserve most of them, while removing some of the synthetically added noise. The result is not perfect, as EED tends to replace the some of the noise with large scale structures which are clearly visible. A better tuning of the coefficients, or a variant of the diffusion tensors construction, may improve the results."
   ]
  },
  {
   "cell_type": "code",
   "execution_count": 41,
   "metadata": {},
   "outputs": [
    {
     "name": "stderr",
     "output_type": "stream",
     "text": [
      "C:\\Users\\jmmir\\AppData\\Local\\Temp\\ipykernel_35372\\3744996476.py:5: DeprecationWarning: scipy.misc.ascent has been deprecated in SciPy v1.10.0; and will be completely removed in SciPy v1.12.0. Dataset methods have moved into the scipy.datasets module. Use scipy.datasets.ascent instead.\n",
      "  image0 = xp.asarray(scipy.misc.ascent()/255)\n"
     ]
    }
   ],
   "source": [
    "def Du(u,dx=1.): \n",
    "    return Riemann.from_mapped_eigenvalues(StructureTensor(u,ρ=2.5,σ=2,dx=dx),\n",
    "            lambda μ : EdgeEnhancing(μ,λ=0.2,α=0.05)).m\n",
    "\n",
    "image0 = xp.asarray(scipy.misc.ascent()/255)\n",
    "noisy = image0+0.3*rand(*image0.shape)\n",
    "u1 = NonlinearDiffusion(noisy,Du,3,5,dx) "
   ]
  },
  {
   "cell_type": "code",
   "execution_count": 42,
   "metadata": {},
   "outputs": [],
   "source": [
    "plt.figure(figsize=(16,7))\n",
    "plt.subplot(1,3,1)\n",
    "plt.imshow(image0,cmap='gray')\n",
    "plt.title('Original')\n",
    "\n",
    "plt.subplot(1,3,2)\n",
    "plt.imshow(noisy,cmap='gray')\n",
    "plt.title('Noisy')\n",
    "\n",
    "plt.subplot(1,3,3)\n",
    "plt.imshow(u1,cmap='gray')\n",
    "plt.title('Edge enhancing diffusion');"
   ]
  },
  {
   "cell_type": "markdown",
   "metadata": {},
   "source": [
    "### 3.4 Color image\n",
    "\n",
    "Weickert's filters apply channel by channel to a color image, coupled only through the structure tensor.\n",
    "Here we 'enhance' the fur texture on a racoon face."
   ]
  },
  {
   "cell_type": "code",
   "execution_count": 43,
   "metadata": {},
   "outputs": [
    {
     "name": "stderr",
     "output_type": "stream",
     "text": [
      "C:\\Users\\jmmir\\AppData\\Local\\Temp\\ipykernel_35372\\389520655.py:1: DeprecationWarning: scipy.misc.face has been deprecated in SciPy v1.10.0; and will be completely removed in SciPy v1.12.0. Dataset methods have moved into the scipy.datasets module. Use scipy.datasets.face instead.\n",
      "  image0 = np.moveaxis(xp.asarray(scipy.misc.face()/255),-1,0)\n"
     ]
    }
   ],
   "source": [
    "image0 = np.moveaxis(xp.asarray(scipy.misc.face()/255),-1,0)\n",
    "image0 = image0[:,::2,::2] # Subsample"
   ]
  },
  {
   "cell_type": "code",
   "execution_count": 44,
   "metadata": {},
   "outputs": [
    {
     "data": {
      "text/plain": [
       "(3, 384, 512)"
      ]
     },
     "execution_count": 44,
     "metadata": {},
     "output_type": "execute_result"
    }
   ],
   "source": [
    "image0.shape"
   ]
  },
  {
   "cell_type": "code",
   "execution_count": 45,
   "metadata": {},
   "outputs": [],
   "source": [
    "def Du(u,dx=1.): \n",
    "    # Sum the three structure tensor channels\n",
    "    S = sum(StructureTensor(ui,ρ=1.5,σ=1,dx=dx) for ui in u)\n",
    "    # Same as usual\n",
    "    return Riemann.from_mapped_eigenvalues(S, lambda μ : EdgeEnhancing(μ,λ=0.2,α=0.05)).m\n",
    "\n",
    "def DiffusionOperatorRGB(D,dx):\n",
    "    A = DiffusionOperator(D,dx)\n",
    "    class Op:\n",
    "        def __mul__(self,u):\n",
    "            # Apply diffusion channel by channel\n",
    "            return xp.array([A*ui for ui in u.reshape(3,-1)]).reshape(-1)\n",
    "    return Op()"
   ]
  },
  {
   "cell_type": "code",
   "execution_count": 46,
   "metadata": {},
   "outputs": [],
   "source": [
    "u1 = NonlinearDiffusion(image0,Du,5,5,dx,DiffOp=DiffusionOperatorRGB) "
   ]
  },
  {
   "cell_type": "code",
   "execution_count": 47,
   "metadata": {},
   "outputs": [],
   "source": [
    "plt.figure(figsize=(16,7))\n",
    "plt.subplot(1,2,1)\n",
    "plt.imshow(np.moveaxis(image0,0,-1))\n",
    "plt.title('Original')\n",
    "\n",
    "plt.subplot(1,2,2)\n",
    "plt.imshow(np.moveaxis(u1,0,-1))\n",
    "plt.title('Edge enhancing diffusion');"
   ]
  },
  {
   "cell_type": "markdown",
   "metadata": {},
   "source": [
    "## 4. Efficient implementation using a custom GPU kernel\n",
    "\n",
    "The first part of this document presents a generic cpu/gpu implementation of anisotropic diffusion, using a non-negative scheme and a sparse matrix library. This approach to GPU programming, however, is far from delivering the best possible performance. In this case, the main culprits are the following:\n",
    "\n",
    "**The use of sparse matrices.** In my experience, this usually yields poor GPU code (slow, memory inefficient). In particular,  the initial construction of the sparse matrix features an expensive sorting step. \n",
    "\n",
    "**The numerous intermediate variables.** GPUs usually have little memory available, and memory transfers are expensive in comparison with arithmetic operations. Hence it is preferable to fuse all operations in a single kernel. Cupy offers some functionality for that purpose, but in the end nothing beats the convenience of writing a custom CUDA kernel. \n",
    "\n",
    "**The diagonalization of the structure tensors** \n",
    "We use `xp.linalg.eigvalsh`, whose implementation is very stable but not particularly efficient (under cupy 9.X, it also fails with large volumes of data). \n",
    "A bit of mathematical reasoning in addition shows that this step is unnecessary: it is sufficient to compute the eigenvalues, and not the eigenvectors, thanks to the following mathematical observation:\n",
    "Let $M$ be a matrix with eigenvalues $\\lambda_1,\\cdots,\\lambda_d$. Let $\\tilde M$ be the matrix with eigenvalues  $\\mu_1,\\cdots,\\mu_d$, and with the same eigenvectors. Then $\\tilde M = P(M)$, where $P$ is the interpolating polynomial such that $P(\\lambda_i) = \\mu_i$ for all $1 \\leq i \\leq d$.\n",
    "\n",
    "In the rest of this notebook we numerically validate, by comparison with the previous code, an alternative GPU implementation which in practice is significantly faster."
   ]
  },
  {
   "cell_type": "code",
   "execution_count": 48,
   "metadata": {},
   "outputs": [],
   "source": [
    "if xp is np: raise ad.DeliberateNotebookError(\"This part of the notebook is GPU only\")"
   ]
  },
  {
   "cell_type": "code",
   "execution_count": 49,
   "metadata": {},
   "outputs": [],
   "source": [
    "from agd.Eikonal.HFM_CUDA import SellingAnisotropicDiffusion as sad"
   ]
  },
  {
   "cell_type": "markdown",
   "metadata": {},
   "source": [
    "**Note on the CUDA kernel code.** The anisotropic diffusion kernel code is short and simple, and should be easy to modify and adapt (other boundary conditions, diffusion tensor constructions, etc). "
   ]
  },
  {
   "cell_type": "markdown",
   "metadata": {},
   "source": [
    "### 4.1 Two dimensional anisotropic diffusion \n",
    "\n",
    "We check the consistency of the CUDA kernel implementation and of the explicit implementation, when the diffusion tensor is given."
   ]
  },
  {
   "cell_type": "code",
   "execution_count": 50,
   "metadata": {},
   "outputs": [],
   "source": [
    "# Define the domain and discretization grid\n",
    "aX,dx = xp.linspace(0,1,100,retstep=True)\n",
    "X = ad.array(np.meshgrid(aX,aX,indexing='ij'))\n",
    "shape = X.shape[1:]\n",
    "\n",
    "# Define the diffusion tensors\n",
    "eVec = X; μ,ν = 0.2,1.\n",
    "D = Riemann.needle(X,0.2,1.)\n",
    "\n",
    "# Test image\n",
    "nX = ad.Optimization.norm(X,axis=0)\n",
    "np.random.seed(42)\n",
    "u0 = np.cos(20*nX) + rand(*shape)"
   ]
  },
  {
   "cell_type": "code",
   "execution_count": 51,
   "metadata": {},
   "outputs": [
    {
     "name": "stdout",
     "output_type": "stream",
     "text": [
      "CPU times: total: 15.6 ms\n",
      "Wall time: 33 ms\n"
     ]
    }
   ],
   "source": [
    "%%time\n",
    "# Scheme construction and max time step using the functions within this notebook\n",
    "dt_max0 =  CFL(D.m,dx)\n",
    "A = DiffusionOperator(D.m,dx)"
   ]
  },
  {
   "cell_type": "code",
   "execution_count": 54,
   "metadata": {},
   "outputs": [
    {
     "name": "stdout",
     "output_type": "stream",
     "text": [
      "CPU times: total: 281 ms\n",
      "Wall time: 293 ms\n"
     ]
    }
   ],
   "source": [
    "%%time\n",
    "# Scheme construction and max time step using the custom CUDA kernel\n",
    "dt_max1, scheme_data = sad.anisotropic_diffusion_scheme(D.to_HFM(),dx)"
   ]
  },
  {
   "cell_type": "markdown",
   "metadata": {},
   "source": [
    "The two reported maximal time steps are close but not identical. Strictly speaking, `dt_max1` is the correct one, while `dt_max0` is only an approximation."
   ]
  },
  {
   "cell_type": "code",
   "execution_count": 53,
   "metadata": {},
   "outputs": [
    {
     "ename": "NameError",
     "evalue": "name 'dt_max1' is not defined",
     "output_type": "error",
     "traceback": [
      "\u001b[1;31m---------------------------------------------------------------------------\u001b[0m",
      "\u001b[1;31mNameError\u001b[0m                                 Traceback (most recent call last)",
      "Cell \u001b[1;32mIn[53], line 1\u001b[0m\n\u001b[1;32m----> 1\u001b[0m \u001b[38;5;28mprint\u001b[39m(\u001b[38;5;124mf\u001b[39m\u001b[38;5;124m\"\u001b[39m\u001b[38;5;124mApproximate \u001b[39m\u001b[38;5;132;01m{\u001b[39;00mdt_max0\u001b[38;5;132;01m}\u001b[39;00m\u001b[38;5;124m and exact \u001b[39m\u001b[38;5;132;01m{\u001b[39;00m\u001b[43mdt_max1\u001b[49m\u001b[38;5;132;01m}\u001b[39;00m\u001b[38;5;124m values of the maximal time step.\u001b[39m\u001b[38;5;124m\"\u001b[39m)\n",
      "\u001b[1;31mNameError\u001b[0m: name 'dt_max1' is not defined"
     ]
    }
   ],
   "source": [
    "print(f\"Approximate {dt_max0} and exact {dt_max1} values of the maximal time step.\")"
   ]
  },
  {
   "cell_type": "markdown",
   "metadata": {},
   "source": [
    "The scheme data contains the same information as the sparse matrix, but is generated more quickly (single kernel, no automatic differentiation, no sorting of the entries)."
   ]
  },
  {
   "cell_type": "code",
   "execution_count": null,
   "metadata": {},
   "outputs": [],
   "source": [
    "assert np.allclose(A.diagonal(),scheme_data[0].reshape(-1))"
   ]
  },
  {
   "cell_type": "code",
   "execution_count": null,
   "metadata": {},
   "outputs": [],
   "source": [
    "# Choose the time step, and the number of steps\n",
    "dt = 0.5 * dt_max0\n",
    "ndt = 100"
   ]
  },
  {
   "cell_type": "markdown",
   "metadata": {},
   "source": [
    "The same linear operator is encoded, but again the custom kernel is faster. The difference would be appreciable in larger, 3D instances."
   ]
  },
  {
   "cell_type": "code",
   "execution_count": null,
   "metadata": {},
   "outputs": [],
   "source": [
    "%%time\n",
    "# Evolution using the sparse matrix\n",
    "u_sparse = evolve(u0,dt,ndt,A)"
   ]
  },
  {
   "cell_type": "code",
   "execution_count": null,
   "metadata": {},
   "outputs": [],
   "source": [
    "%%time\n",
    "#Evolution using the custom cuda kernel\n",
    "u_kernel = sad.anisotropic_diffusion_steps(u0,dt,ndt,scheme_data)"
   ]
  },
  {
   "cell_type": "code",
   "execution_count": null,
   "metadata": {},
   "outputs": [],
   "source": [
    "assert np.allclose(u_sparse,u_kernel,atol=1e-5)"
   ]
  },
  {
   "cell_type": "markdown",
   "metadata": {},
   "source": [
    "### 4.2 Coherence enhancing diffusion\n",
    "\n",
    "The custom kernel uses a slightly different definition of the coherence diffusion tensors, with some additional parameters, and the choice `pow_v = 2`, presented below."
   ]
  },
  {
   "cell_type": "code",
   "execution_count": null,
   "metadata": {
    "tags": [
     "ExportCode"
    ]
   },
   "outputs": [],
   "source": [
    "def coherence_enhancing_diffusion_eigvals(μ,α,γ,\n",
    "    cond_max=10**2,cond_amplification_threshold=2):\n",
    "    \"\"\"\n",
    "    - μ : array of shape (n1,...,nk,d) where d=2,3, the structure tensor eigenvalues. \n",
    "        Assumes μ is increasing along last axis.\n",
    "    - α : same as in CoherenceEnhancing parameters\n",
    "    - γ : Related to λ = sqrt(γ/3.314)\n",
    "    - cond_max : bound on the condition number of the generated tensors\n",
    "    - cond_amplification_threshold : real in [1,infty[. Values >1 may help avoid creating structure in noise\n",
    "    (Geometry last convention)\n",
    "    returns : - the ced tensor eigenvalues, decreasing along the last axis. \n",
    "    \"\"\"\n",
    "    # Assumes increasing μ, the structure tensor eigenvalues\n",
    "    # Returns decreasing λ, the diffusion tensor eigenvalues\n",
    "    ε=1e-6 # Only to avoid zero divide\n",
    "    λ = np.empty_like(μ)\n",
    "    μ0 = μ[...,0]; μ1 = μ[...,1]; λ0 = λ[...,0]; λ1 = λ[...,1]\n",
    "    if μ.shape[-1]==2:\n",
    "        μdiff = np.maximum(ε,μ1-cond_amplification_threshold*μ0)\n",
    "        λ0[:] = α+(1.-α)*np.exp(-γ/μdiff**2)\n",
    "        λ1[:] = np.maximum(α,λ0/cond_max)\n",
    "    elif μ.shape[-1]==3:\n",
    "        μ2 = μ[...,2]; λ2 = λ[...,2]\n",
    "        μdiff = np.maximum(ε,μ2-cond_amplification_threshold*μ0)\n",
    "        λ0[:] = α+(1.-α)*np.exp(-γ/μdiff**2)\n",
    "        λmin = λ0/cond_max # Minimum diffusivity\n",
    "        μdiff = np.maximum(ε,μ2-cond_amplification_threshold*μ1)\n",
    "        λ1[:] = np.maximum(α+(1.-α)*np.exp(-γ/μdiff**2),λmin)\n",
    "        λ2[:] = np.maximum(α,λmin)\n",
    "    else: raise ValueError(\"Unsupported dimension\")\n",
    "    return λ\n",
    "\n",
    "def struct2ced(S,**kwargs):\n",
    "    \"\"\"\n",
    "    Structure tensor to coherence enhancing diffusion tensor (Geometry last)\n",
    "    - S : array of shape (n1,...,nk,d,d) where d = 2,3\n",
    "    - kwargs : passed to coherence_enhancing_diffusion_eigvals\n",
    "    returns : the ced tensor, array of shape (n1,...,nk,d,d)\n",
    "    \"\"\"\n",
    "    μ,eVec = np.linalg.eigh(S)\n",
    "    λ = coherence_enhancing_diffusion_eigvals(μ,**kwargs)\n",
    "    D = eVec @ (λ[...,None] * np.swapaxes(eVec,-1,-2))\n",
    "    # The above matrix is mathematically expected to be symmetric. \n",
    "    # However, this is only up to roundoff errors, which can cause issues,\n",
    "    # hence we symmetrize the result\n",
    "    return (D+np.swapaxes(D,-1,-2))/2."
   ]
  },
  {
   "cell_type": "code",
   "execution_count": null,
   "metadata": {},
   "outputs": [],
   "source": [
    "S = StructureTensor(u0,ρ=3,dx=dx)\n",
    "ced = {'α':0.02, 'γ':1., 'cond_max':100, 'cond_amplification_threshold':1 }"
   ]
  },
  {
   "cell_type": "markdown",
   "metadata": {},
   "source": [
    "As mentioned in the introduction to this section, the custom kernel bypasses the computation of the eigenvectors of the structure tensor, in the computation of Weickert's diffusion tensors. Let us check that the same results are obtained."
   ]
  },
  {
   "cell_type": "code",
   "execution_count": null,
   "metadata": {},
   "outputs": [],
   "source": [
    "#Evolution using this notebook's methods\n",
    "D = np.moveaxis(struct2ced(np.moveaxis(S,(0,1),(-2,-1)),**ced),(-2,-1),(0,1))\n",
    "A = DiffusionOperator(D,dx)\n",
    "\n",
    "dt = CFL(D,dx)\n",
    "ndt = 20\n",
    "u_sparse = evolve(u0,dt,ndt,A)"
   ]
  },
  {
   "cell_type": "code",
   "execution_count": null,
   "metadata": {},
   "outputs": [],
   "source": [
    "#Evolution using the custom cuda kernel\n",
    "_,scheme_data = sad.anisotropic_diffusion_scheme(np.stack([S[0,0],S[1,0],S[1,1]],axis=-1),dx,ced=ced)\n",
    "u_kernel = sad.anisotropic_diffusion_steps(u0,dt,ndt,scheme_data)"
   ]
  },
  {
   "cell_type": "code",
   "execution_count": null,
   "metadata": {},
   "outputs": [],
   "source": [
    "assert np.allclose(A.diagonal(),scheme_data[0].reshape(-1),atol=1e-4)"
   ]
  },
  {
   "cell_type": "code",
   "execution_count": null,
   "metadata": {},
   "outputs": [],
   "source": [
    "assert np.allclose(u_sparse,u_kernel,atol=1e-5)"
   ]
  },
  {
   "cell_type": "markdown",
   "metadata": {},
   "source": [
    "### 4.3 Three dimensional anisotropic diffusion"
   ]
  },
  {
   "cell_type": "code",
   "execution_count": null,
   "metadata": {},
   "outputs": [],
   "source": [
    "# Define the domain and discretization grid\n",
    "aX,dx = xp.linspace(0,1,retstep=True)\n",
    "X = ad.array(np.meshgrid(aX,aX,aX,indexing='ij'))\n",
    "shape = X.shape[1:]\n",
    "\n",
    "# Define the diffusion tensors\n",
    "eVec = X; μ,ν = 0.2,1.\n",
    "D = Riemann.needle(X,0.2,1.)\n",
    "\n",
    "# Test image\n",
    "nX = ad.Optimization.norm(X,axis=0)\n",
    "np.random.seed(42)\n",
    "u0 = np.cos(20*nX) + rand(*shape)"
   ]
  },
  {
   "cell_type": "code",
   "execution_count": null,
   "metadata": {},
   "outputs": [],
   "source": [
    "%%time\n",
    "# Scheme construction and max time step using the functions within this notebook\n",
    "dt_max0 =  CFL(D.m,dx)\n",
    "A = DiffusionOperator(D.m,dx)"
   ]
  },
  {
   "cell_type": "code",
   "execution_count": null,
   "metadata": {},
   "outputs": [],
   "source": [
    "%%time\n",
    "# Scheme construction and max time step using the custom CUDA kernel\n",
    "dt_max1, scheme_data = sad.anisotropic_diffusion_scheme(D.to_HFM(),dx)"
   ]
  },
  {
   "cell_type": "markdown",
   "metadata": {},
   "source": [
    "The two reported maximal time steps are close but not identical. Strictly speaking, `dt_max1` is the correct one, while `dt_max0` is only an approximation."
   ]
  },
  {
   "cell_type": "code",
   "execution_count": null,
   "metadata": {},
   "outputs": [],
   "source": [
    "print(f\"Approximate {dt_max0} and exact {dt_max1} values of the maximal time step.\")"
   ]
  },
  {
   "cell_type": "markdown",
   "metadata": {},
   "source": [
    "The scheme data contains the same information as the sparse matrix, but is generated more quickly (single kernel, no automatic differentiation, no sorting of the entries)."
   ]
  },
  {
   "cell_type": "code",
   "execution_count": null,
   "metadata": {},
   "outputs": [],
   "source": [
    "assert np.allclose(A.diagonal(),scheme_data[0].reshape(-1))"
   ]
  },
  {
   "cell_type": "code",
   "execution_count": null,
   "metadata": {},
   "outputs": [],
   "source": [
    "# Choose the time step, and the number of steps\n",
    "dt = 0.5 * dt_max0\n",
    "ndt = 100"
   ]
  },
  {
   "cell_type": "markdown",
   "metadata": {},
   "source": [
    "The same linear operator is encoded, but again the custom kernel is faster. The difference would be appreciable in larger, 3D instances."
   ]
  },
  {
   "cell_type": "code",
   "execution_count": null,
   "metadata": {},
   "outputs": [],
   "source": [
    "%%time\n",
    "# Evolution using the sparse matrix\n",
    "u_sparse = evolve(u0,dt,ndt,A)"
   ]
  },
  {
   "cell_type": "code",
   "execution_count": null,
   "metadata": {},
   "outputs": [],
   "source": [
    "%%time\n",
    "#Evolution using the custom cuda kernel\n",
    "u_kernel = sad.anisotropic_diffusion_steps(u0,dt,ndt,scheme_data)"
   ]
  },
  {
   "cell_type": "code",
   "execution_count": null,
   "metadata": {},
   "outputs": [],
   "source": [
    "assert np.allclose(u_sparse,u_kernel,atol=1e-5)"
   ]
  },
  {
   "cell_type": "markdown",
   "metadata": {},
   "source": [
    "### 4.4 Three dimensional coherence enhancing diffusion"
   ]
  },
  {
   "cell_type": "code",
   "execution_count": null,
   "metadata": {},
   "outputs": [],
   "source": [
    "S = StructureTensor(u0,ρ=3,dx=dx)\n",
    "ced = {'α':1., 'γ':1., 'cond_max':100, 'cond_amplification_threshold':1 }"
   ]
  },
  {
   "cell_type": "code",
   "execution_count": null,
   "metadata": {},
   "outputs": [],
   "source": [
    "#Evolution using this notebook's methods\n",
    "D = np.moveaxis(struct2ced(np.moveaxis(S,(0,1),(-2,-1)),**ced),(-2,-1),(0,1))\n",
    "#def ced_fun(μ): return CoherenceEnhancing(μ,α=ced['alpha'],λ=np.sqrt(ced['gamma']/3.314),pow_v=2)\n",
    "#D = Riemann.from_mapped_eigenvalues(S,ced_fun).m\n",
    "A = DiffusionOperator(D,dx)\n",
    "\n",
    "dt = CFL(D,dx)\n",
    "ndt = 20\n",
    "u_sparse = evolve(u0,dt,ndt,A)"
   ]
  },
  {
   "cell_type": "code",
   "execution_count": null,
   "metadata": {},
   "outputs": [],
   "source": [
    "#Evolution using the custom cuda kernel\n",
    "dt_max1,scheme_data,D_kernel = sad.anisotropic_diffusion_scheme(np.stack([S[0,0],S[1,0],S[1,1],S[2,0],S[2,1],S[2,2]],axis=-1),\n",
    "                                                          dx,ced={**ced,'retD':True})\n",
    "D_kernel = misc.expand_symmetric_matrix(np.moveaxis(D_kernel,-1,0))"
   ]
  },
  {
   "cell_type": "markdown",
   "metadata": {},
   "source": [
    "The diffusion tensors computed by the CUDA kernel are close but not exactly identical the one computed directly from the functions in this notebook."
   ]
  },
  {
   "cell_type": "code",
   "execution_count": null,
   "metadata": {},
   "outputs": [],
   "source": [
    "D_err = np.linalg.norm(D_kernel-D,axis=(0,1)).reshape(-1)\n",
    "print(f\"Mean tensor error {D_err.mean()}, and largest errors {np.sort(D_err)[-1:-10:-1]}\")"
   ]
  },
  {
   "cell_type": "markdown",
   "metadata": {},
   "source": [
    "The numerical errors come from the structure tensors which have two close eigenvalues, and can be traced back to a floating point roundoff error when evaluating their determinant. "
   ]
  },
  {
   "cell_type": "code",
   "execution_count": null,
   "metadata": {},
   "outputs": [],
   "source": [
    "bad_S = S.reshape(3,3,-1)[:,:,np.argmax(D_err)]\n",
    "np.linalg.eigvalsh(bad_S)"
   ]
  },
  {
   "cell_type": "code",
   "execution_count": null,
   "metadata": {},
   "outputs": [],
   "source": [
    "u_kernel = sad.anisotropic_diffusion_steps(u0,dt,ndt,scheme_data)"
   ]
  },
  {
   "cell_type": "markdown",
   "metadata": {},
   "source": [
    "The solution error remains low, hence this slight inaccuracy may be regarded as an acceptable compromise for speed. "
   ]
  },
  {
   "cell_type": "code",
   "execution_count": null,
   "metadata": {},
   "outputs": [],
   "source": [
    "np.max(np.abs(u_kernel-u_sparse))"
   ]
  },
  {
   "cell_type": "code",
   "execution_count": null,
   "metadata": {},
   "outputs": [],
   "source": [
    "assert np.allclose(u_kernel,u_sparse,atol=2e-3)"
   ]
  },
  {
   "cell_type": "code",
   "execution_count": null,
   "metadata": {},
   "outputs": [],
   "source": []
  }
 ],
 "metadata": {
  "celltoolbar": "Raw Cell Format",
  "kernelspec": {
   "display_name": "Python 3 (ipykernel)",
   "language": "python",
   "name": "python3"
  },
  "language_info": {
   "codemirror_mode": {
    "name": "ipython",
    "version": 3
   },
   "file_extension": ".py",
   "mimetype": "text/x-python",
   "name": "python",
   "nbconvert_exporter": "python",
   "pygments_lexer": "ipython3",
   "version": "3.12.2"
  },
  "varInspector": {
   "cols": {
    "lenName": 16,
    "lenType": 16,
    "lenVar": 40
   },
   "kernels_config": {
    "python": {
     "delete_cmd_postfix": "",
     "delete_cmd_prefix": "del ",
     "library": "var_list.py",
     "varRefreshCmd": "print(var_dic_list())"
    },
    "r": {
     "delete_cmd_postfix": ") ",
     "delete_cmd_prefix": "rm(",
     "library": "var_list.r",
     "varRefreshCmd": "cat(var_dic_list()) "
    }
   },
   "types_to_exclude": [
    "module",
    "function",
    "builtin_function_or_method",
    "instance",
    "_Feature"
   ],
   "window_display": false
  }
 },
 "nbformat": 4,
 "nbformat_minor": 4
}