{
 "cells": [
  {
   "cell_type": "markdown",
   "metadata": {},
   "source": [
    "# The HFM library - A fast marching solver with adaptive stencils\n",
    "\n",
    "## Part : Non holonomic metrics and curvature penalization\n",
    "## Chapter : Five dimensional Reeds-Shepp models.\n",
    "\n",
    "In this chapter we consider a generalized Reeds-Shepp model, posed on the five dimensional model \n",
    "\\begin{equation*}\n",
    "    \\Omega = U \\times \\mathbb S^2,\n",
    "\\end{equation*}\n",
    "where $U\\subset \\mathbb R^3$ is a box domain, and $\\mathbb S^2\\subset \\mathbb R^3$ is the unit sphere. Elements of this configuration space thus combine a physical position $x \\in U$, and an orientation defined by a unit vector $n \\in \\mathbb S^2$. \n",
    "\n",
    "The Reeds-Shepp model is non-holonomic, in other words some directions of motion are locally forbidden, and sub-Riemannian. The metric is obtained by letting, formally, $\\varepsilon \\to 0$ in the following expression\n",
    "\\begin{equation*}\n",
    "    F_{(x,n)}(\\dot x,\\dot n)^2 := c(x,n)^2 \\left(<n,\\dot x>^2 +\\varepsilon^{-2} \\|n \\times \\dot x\\|^2 + \\xi^2 \\|\\dot n\\|^2\\right)\n",
    "\\end{equation*}\n",
    "We denoted by $(x,n)\\in \\mathbb R^3 \\times \\mathbb S^2$ a point of the configuration space, and by $(\\dot x,\\dot n)$ a tangent vector at this point. Note that $<n,\\dot n> = 0$, by construction of the unit sphere $\\mathbb S^2$. The parameter $\\xi>0$ balances the cost of motion in the physical and the angular spaces, in other words the amount of curvature penalization. Last, but not least, the term $\\varepsilon^{-2} \\|n \\times \\dot x\\|^2$ strongly penalizes any physical motion that is not colinear with the current orientation $n$, and forbids such motion in the limit as $\\varepsilon \\to 0$.\n",
    "\n",
    "In the HFM library, a small but positive relaxation parameter $\\varepsilon>0$ is used.\n",
    "In addition, the HFM library parametrizes the sphere manifold $\\mathbb S^2$ using two Euler angles $\\theta \\in [0,\\pi]$ and $\\phi\\in [0,2 \\pi]$, as follows\n",
    "\\begin{equation*}\n",
    "    n(\\theta,\\phi) = (\\cos \\theta, \\sin \\theta \\cos \\phi, \\sin \\theta \\sin \\phi),\n",
    "\\end{equation*}\n",
    "with appropriate boundary conditions are used.\n",
    "\n",
    "Since the Reeds-Shepp metric is insensitive to the orientation of the vector $n\\in \\mathbb S^2$, it makes sense to consider the projective manifold  $\\mathbb P^2 = \\mathbb S^2 / \\{-1,1\\}$. The same parametrization is used of $\\mathbb P^2$ and $\\mathbb S^2$, but the angle $\\theta$ is restricted to the smaller interval $\\theta \\in [0,\\pi/2]$ in the projective case. The main interest of the projective quotient is to avoid the need to take care of the orientation of the seed and the tips, and to cut computation time in half, see the similar experimiments conducted for curvature penalized planar paths."
   ]
  },
  {
   "cell_type": "markdown",
   "metadata": {},
   "source": [
    "The HFM library implements the above generalized Reeds-Shepp model, as well as two variants that are described in the next paragraph.\n",
    "At the time of writing, however, the HFM library does *not* implement the higher dimensional counterparts of the Euler-Mumford elastica and the Dubins car models.\n",
    "\n",
    "### The Reeds-Shepp *forward* variant \n",
    "\n",
    "This variant of the Reeds-Shepp model requires the physical velocity $\\dot x$ to be *positively* colinear with the angular orientation $n$. A lower dimensional counterpart is also implemented in the HFM library, for curvature penalized planar paths. The metric of this model, strongly penalizes the negative part of their scalar product $<n,\\dot x>$, so as to forbid motion in the reverse gear, in addition to lateral motion. More precisely\n",
    "\\begin{equation*}\n",
    "    F_{(x,n)}(\\dot x,\\dot n)^2 := c(x,n)^2 \\left(<n,\\dot x>_+^2 +\\varepsilon^{-2} <n,\\dot x>_-^2 + \\varepsilon^{-2} \\|n \\times \\dot x\\|^2 + \\xi^2 \\|\\dot n\\|^2\\right).\n",
    "\\end{equation*}\n",
    "\n",
    "### The Reeds-Shepp *dual* variant  \n",
    "\n",
    "In this second variant of the Reeds-Shepp model, the physical velocity $\\dot x$ must be *orthogonal* to the angular orientation $n$. The metric of this model penalizes the scalar product $<n,\\dot x>^2$ by the factor $\\varepsilon^{-2}$, in contrast with the original metric which instead penalizes the cross product $\\|n \\times \\dot x\\|^2$ in the classical model. More precisely \n",
    "\\begin{equation*}\n",
    "    F_{(x,n)}(\\dot x,\\dot n)^2 := c(x,n)^2 \\left(\\varepsilon^{-2} <n,\\dot x>^2 + \\|n \\times \\dot x\\|^2 + \\xi^2 \\|\\dot n\\|^2\\right).\n",
    "\\end{equation*}\n",
    "This model promotes paths which are embedded in smooth surfaces, but are possibly non-smooth themselves. Interestingly, it is genuinely three dimensional. Indeed, lower dimensional counterpart of this model, on $\\mathbb R^2 \\times \\mathbb S^1$, is equivalent to the standard Reeds-Shepp model, up to the change of coordinates $\\theta \\mapsto \\theta + \\pi/2$.\n",
    "\n",
    "### Computation time\n",
    "\n",
    "The numerical examples presented in this notebook involve solving 5-dimensional, highly anisotropic PDEs, using a non-parallellizable algorithm (Fast-Marching is a variant of Dijkstra's algorithm, which is inherently sequential).\n",
    "\n",
    "As a result, computation times for these problems are not instantaneous. They are likely around a minute on a modern laptop. (Typically 30 to 40 seconds on the author's 2012 laptop equipped with a 2.7 Ghz processor.)"
   ]
  },
  {
   "cell_type": "markdown",
   "metadata": {},
   "source": [
    "[**Summary**](Summary.ipynb) of volume Fast Marching Methods, this series of notebooks.\n",
    "\n",
    "[**Main summary**](../Summary.ipynb) of the Adaptive Grid Discretizations \n",
    "\tbook of notebooks, including the other volumes.\n",
    "\n",
    "# Table of contents\n",
    "  * [1. The orientation space](#1.-The-orientation-space)\n",
    "  * [2. Two paths to Rome](#2.-Two-paths-to-Rome)\n",
    "    * [2.1 Defining the test case](#2.1-Defining-the-test-case)\n",
    "    * [2.2 Extraction with isotropic fast marching](#2.2-Extraction-with-isotropic-fast-marching)\n",
    "    * [2.3 The Reeds-Shepp model](#2.3-The-Reeds-Shepp-model)\n",
    "    * [2.4 The Reeds-Shepp *dual* model](#2.4-The-Reeds-Shepp-*dual*-model)\n",
    "    * [2.5 The Reeds-Shepp *forward* model](#2.5-The-Reeds-Shepp-*forward*-model)\n",
    "    * [2.6 Stopping criteria based on Voronoi diagrams](#2.6-Stopping-criteria-based-on-Voronoi-diagrams)\n",
    "  * [3. A motion planning example](#3.-A-motion-planning-example)\n",
    "    * [3.1 Defining the domain.](#3.1-Defining-the-domain.)\n",
    "    * [3.2 Isotropic fast marching](#3.2-Isotropic-fast-marching)\n",
    "    * [3.3 The Reeds-Shepp model](#3.3-The-Reeds-Shepp-model)\n",
    "    * [3.4 The Reeds-Shepp forward variant](#3.4-The-Reeds-Shepp-forward-variant)\n",
    "\n",
    "\n",
    "\n",
    "This Python&reg; notebook is intended as documentation and testing for the [HamiltonFastMarching (HFM) library](https://github.com/mirebeau/HamiltonFastMarching), which also has interfaces to the Matlab&reg; and Mathematica&reg; languages. \n",
    "More information on the HFM library in the manuscript:\n",
    "* Jean-Marie Mirebeau, Jorg Portegies, \"Hamiltonian Fast Marching: A numerical solver for anisotropic and non-holonomic eikonal PDEs\", 2019 [(link)](https://hal.archives-ouvertes.fr/hal-01778322)\n",
    "\n",
    "Copyright Jean-Marie Mirebeau, University Paris-Sud, CNRS, University Paris-Saclay"
   ]
  },
  {
   "cell_type": "markdown",
   "metadata": {},
   "source": [
    "## 0. Importing the required libraries"
   ]
  },
  {
   "cell_type": "code",
   "execution_count": 2,
   "metadata": {},
   "outputs": [],
   "source": [
    "import sys; sys.path.insert(0,\"..\") # Allow import of agd from parent directory (useless if conda package installed)\n",
    "#from Miscellaneous import TocTools; print(TocTools.displayTOC('Curvature3','FMM'))"
   ]
  },
  {
   "cell_type": "code",
   "execution_count": 3,
   "metadata": {},
   "outputs": [],
   "source": [
    "from agd import Eikonal\n",
    "from agd.Plotting import savefig, SetTitle3D; #savefig.dirName = 'Figures/Curvature3/'"
   ]
  },
  {
   "cell_type": "code",
   "execution_count": 4,
   "metadata": {},
   "outputs": [],
   "source": [
    "import numpy as np\n",
    "%matplotlib inline\n",
    "import matplotlib.pyplot as plt\n",
    "from mpl_toolkits.mplot3d import Axes3D # Plots geodesics\n",
    "import math"
   ]
  },
  {
   "cell_type": "code",
   "execution_count": 5,
   "metadata": {},
   "outputs": [],
   "source": [
    "useMayavi = False\n",
    "if useMayavi:\n",
    "    from mayavi import mlab # Plots implicit surfaces"
   ]
  },
  {
   "cell_type": "markdown",
   "metadata": {},
   "source": [
    "The functionality presented in this notebook for the CPU eikonal solver only. A different approach may be developed in the future to achieve similar functionality on the GPU."
   ]
  },
  {
   "cell_type": "markdown",
   "metadata": {},
   "source": [
    "## 1. The orientation space\n",
    "\n",
    "The configuration space of the $(3+2)$-dimensional Reeds-Shepp models is more complex than those encountered in the previous experiments, since it involves the spherical manifold $\\mathbb S^2$, or the projective plane $\\mathbb P^2$.\n",
    "The points of these manifolds are unit vectors, that we parametrize using the Euler angles $\\theta$ and $\\phi$ as follows."
   ]
  },
  {
   "cell_type": "code",
   "execution_count": 6,
   "metadata": {},
   "outputs": [],
   "source": [
    "def UnitVector(theta,phi): return np.array([np.cos(theta),np.sin(theta)*np.cos(phi),np.sin(theta)*np.sin(phi)])"
   ]
  },
  {
   "cell_type": "markdown",
   "metadata": {},
   "source": [
    "We shall use $24$ points for discretizing the variable $\\phi \\in [0,2\\pi]$. This number is kept small, so that computation times remain reasonable. In particular, it is notoriously less than the $60$ points or more used for discretizing the angular variable in the curvature penalized planar path models, which similarly belongs to the interval $[0,2 \\pi]$. A side effect of this coarse discretization scale is that the relaxation parameter $\\varepsilon$ involved in the Reeds-Shepp model cannot be too small : $\\varepsilon = 0.2$ here, whereas $\\varepsilon = 0.1$ previously."
   ]
  },
  {
   "cell_type": "code",
   "execution_count": 7,
   "metadata": {},
   "outputs": [],
   "source": [
    "nPhi=24"
   ]
  },
  {
   "cell_type": "markdown",
   "metadata": {},
   "source": [
    "The same angular scale is used for discretizing both angles $\\theta$ and $\\phi$. Hence $n_\\theta = n_\\phi/2$ for discretizing the unit sphere $\\mathbb S^2$, since $\\theta\\in [0,\\pi]$. Similarly $n_\\theta = n_\\phi/4$ for discretizing the projective plane $\\mathbb P^2$, since $\\theta\\in [0,\\pi/2]$. The next two sets show the resulting collections of unit vectors."
   ]
  },
  {
   "cell_type": "code",
   "execution_count": 8,
   "metadata": {},
   "outputs": [],
   "source": [
    "fig = plt.figure(); ax = plt.axes(projection='3d'); SetTitle3D(ax,\"Discretization of the unit sphere\")\n",
    "normals = np.array([UnitVector(theta,phi) \n",
    "                    for theta in Eikonal.CenteredLinspace(0,np.pi,nPhi/2) \n",
    "                    for phi in np.linspace(0,2*np.pi,nPhi)]).T\n",
    "ax.quiver(*normals,*normals, length=0.2);"
   ]
  },
  {
   "cell_type": "code",
   "execution_count": 9,
   "metadata": {},
   "outputs": [],
   "source": [
    "savefig(fig,'Sampling_S2.png')"
   ]
  },
  {
   "cell_type": "code",
   "execution_count": 11,
   "metadata": {},
   "outputs": [],
   "source": [
    "ax = plt.axes(projection='3d'); SetTitle3D(ax,\"Discretization of the projective plane P2\")\n",
    "normals = np.array([UnitVector(theta,phi) \n",
    "                    for theta in Eikonal.CenteredLinspace(0,np.pi/2,nPhi/4) \n",
    "                    for phi in np.linspace(0,2*np.pi,nPhi)]).T\n",
    "ax.quiver(*normals,*normals, length=0.2);"
   ]
  },
  {
   "cell_type": "code",
   "execution_count": 11,
   "metadata": {},
   "outputs": [],
   "source": [
    "def EulerAngles(v):\n",
    "    x,y,z = v\n",
    "    theta = math.atan2(np.sqrt(y**2+z**2),x)\n",
    "    phi = math.atan2(z,y)\n",
    "    return theta, phi if phi>=0 else phi+2*np.pi"
   ]
  },
  {
   "cell_type": "code",
   "execution_count": 12,
   "metadata": {},
   "outputs": [
    {
     "data": {
      "text/plain": [
       "(1.9, 4.1)"
      ]
     },
     "execution_count": 12,
     "metadata": {},
     "output_type": "execute_result"
    }
   ],
   "source": [
    "EulerAngles(0.1*UnitVector(1.9,4.1))"
   ]
  },
  {
   "cell_type": "markdown",
   "metadata": {},
   "source": [
    "## 2. Two paths to Rome\n",
    "\n",
    "In this section, we define two curves in $\\mathbb R^3$, both joining the point $(0,0,0)$ to the point $(\\pi,0,0)$.\n",
    "The first curve has low torsion, but a high curvature. The second curve has high torsion, but a more moderate curvature.\n",
    "\n",
    "We then define a cost function $c : U \\to ]0,\\infty[$, where $U \\subset \\mathbb R^3$ is the physical domain, which favors paths staying close to the curves of interest. And finally, we compute the minimal geodesics joining the endpoints $(0,0,0)$ and $(\\pi,0,0)$.\n",
    "\n",
    "This example is inspired by applications to tubular structure segmentation. \n",
    "In such practical applications, for better efficiency, it should  however be preferable to the cost function on full configuration space $U \\times \\mathbb S^2$, so as to take advantage of available information on the curve orientation."
   ]
  },
  {
   "cell_type": "markdown",
   "metadata": {},
   "source": [
    "### 2.1 Defining the test case"
   ]
  },
  {
   "cell_type": "code",
   "execution_count": 14,
   "metadata": {},
   "outputs": [],
   "source": [
    "def LowTorsionCurve(t): \n",
    "    return (t,np.sin(t)**2 *np.cos(4*t),0.1*t*(t-np.pi/2)*(np.pi-t))\n",
    "def LowCurvatureCurve(t):\n",
    "    return (t,np.sin(t)**3 *np.cos(2*t), np.sin(t)**3 *np.sin(2*t))\n",
    "\n",
    "T = np.linspace(0,np.pi,200)\n",
    "curvePoints = [LowTorsionCurve(T),LowCurvatureCurve(T)]"
   ]
  },
  {
   "cell_type": "code",
   "execution_count": 15,
   "metadata": {},
   "outputs": [],
   "source": [
    "ax = plt.axes(projection='3d'); SetTitle3D(ax,\"Curves of low torsion and low curvature, respectively\")\n",
    "for curve in curvePoints: ax.plot(*curve)"
   ]
  },
  {
   "cell_type": "markdown",
   "metadata": {},
   "source": [
    "In the next cells, we compute the euclidean distance to the two curves of interest, using Isotropic fast marching. This is used afterwards to define the cost function of our synthetic example."
   ]
  },
  {
   "cell_type": "code",
   "execution_count": 18,
   "metadata": {},
   "outputs": [
    {
     "data": {
      "text/plain": [
       "(3, 400)"
      ]
     },
     "execution_count": 18,
     "metadata": {},
     "output_type": "execute_result"
    }
   ],
   "source": [
    "np.concatenate(curvePoints,axis=1).shape"
   ]
  },
  {
   "cell_type": "code",
   "execution_count": 53,
   "metadata": {},
   "outputs": [],
   "source": [
    "hfmIn = Eikonal.dictIn({\n",
    "    'model':'Isotropic3',\n",
    "    'seeds':np.concatenate(curvePoints,axis=1).T, # Seed position. Seed value defaults to 0.\n",
    "    'cost':1,\n",
    "    'exportValues':1, # Ask for the PDE solution, aka the euclidean distance to the curves\n",
    "})\n",
    "# Domain parameters \n",
    "hfmIn.SetRect(sides=[[-0.1,np.pi+0.1],[-1.1,1.1],[-0.7,0.7]],dimx=60)"
   ]
  },
  {
   "cell_type": "code",
   "execution_count": 20,
   "metadata": {},
   "outputs": [
    {
     "name": "stdout",
     "output_type": "stream",
     "text": [
      "Field verbosity defaults to 1\n",
      "Field order defaults to 1\n",
      "Field seedRadius defaults to 0\n",
      "Fast marching solver completed in 0.029504 s.\n"
     ]
    }
   ],
   "source": [
    "hfmOut = hfmIn.Run()"
   ]
  },
  {
   "cell_type": "markdown",
   "metadata": {},
   "source": [
    "The speed function used in further experiments is meant to favor paths staying close to the \"low torsion\" or the \"low curvature\" curves of interest. It is built from the distance to these curves, computed in this experiment. Recall that the *speed* and *cost* functions are equivalent to one another, with one being the inverse of the other."
   ]
  },
  {
   "cell_type": "code",
   "execution_count": 22,
   "metadata": {},
   "outputs": [],
   "source": [
    "speedCurves = np.maximum(1.,36*np.exp(-hfmOut['values']**2/0.15**2))"
   ]
  },
  {
   "cell_type": "code",
   "execution_count": 17,
   "metadata": {},
   "outputs": [],
   "source": [
    "if useMayavi: \n",
    "    mlab.contour3d(speedCurves, contours=[12])\n",
    "    mlab.view(azimuth=-50)\n",
    "    mlab.show() "
   ]
  },
  {
   "cell_type": "markdown",
   "metadata": {},
   "source": [
    "This is what the previous command should display.\n",
    "![curves neighborhood](https://dl.dropbox.com/s/no3i739d0j0z47r/A5_neigh.png?dl=0)"
   ]
  },
  {
   "cell_type": "markdown",
   "metadata": {},
   "source": [
    "### 2.2 Extraction with isotropic fast marching\n",
    "\n",
    "Before running Reeds-Shepp models, which are rather complex and costly, let us illustrate the principle of tubular structure segmentation with standard isotropic backtracking. \n",
    "\n",
    "In the next cell, we request the curve joining the $(0,0,0)$ and $(0,0,\\pi)$ and minimizing cost. Equivalently, minimizing travel time given the input speed function."
   ]
  },
  {
   "cell_type": "code",
   "execution_count": 54,
   "metadata": {},
   "outputs": [],
   "source": [
    "hfmIn['seed']= [0,0,0]\n",
    "hfmIn['tip'] = [np.pi,0,0]\n",
    "hfmIn['speed'] = speedCurves; hfmIn.pop('cost') # Remove previous unit cost\n",
    "hfmIn['exportValues']=0."
   ]
  },
  {
   "cell_type": "code",
   "execution_count": 55,
   "metadata": {},
   "outputs": [
    {
     "name": "stdout",
     "output_type": "stream",
     "text": [
      "Field verbosity defaults to 1\n",
      "Field order defaults to 1\n",
      "Field seedRadius defaults to 0\n",
      "Fast marching solver completed in 0.030002 s.\n",
      "Field geodesicSolver defaults to Discrete\n",
      "Field geodesicStep defaults to 0.25\n",
      "Field geodesicWeightThreshold defaults to 0.001\n",
      "Field geodesicVolumeBound defaults to 10.985\n"
     ]
    }
   ],
   "source": [
    "hfmOut = hfmIn.Run()"
   ]
  },
  {
   "cell_type": "code",
   "execution_count": 57,
   "metadata": {},
   "outputs": [],
   "source": [
    "ax = plt.axes(projection='3d'); SetTitle3D(ax,\"Minimal path for the isotropic model\")\n",
    "for curve in curvePoints: ax.plot(*curve)\n",
    "ax.plot(*hfmOut['geodesic']);"
   ]
  },
  {
   "cell_type": "markdown",
   "metadata": {},
   "source": [
    "The backtracked path is almost superposed over the \"low curvature\" curve. \n",
    "In the next cell, the seed and tip are moved a bit along the \"low torsion\" curve. As a result, the backtracked path now goes along this one instead."
   ]
  },
  {
   "cell_type": "code",
   "execution_count": 58,
   "metadata": {},
   "outputs": [],
   "source": [
    "hfmIn['seed']= LowTorsionCurve(0.4)\n",
    "hfmIn['tip'] = LowTorsionCurve(np.pi-0.4)"
   ]
  },
  {
   "cell_type": "code",
   "execution_count": 59,
   "metadata": {},
   "outputs": [
    {
     "name": "stdout",
     "output_type": "stream",
     "text": [
      "Field verbosity defaults to 1\n",
      "Field order defaults to 1\n",
      "Field seedRadius defaults to 0\n",
      "Fast marching solver completed in 0.029377 s.\n",
      "Field geodesicSolver defaults to Discrete\n",
      "Field geodesicStep defaults to 0.25\n",
      "Field geodesicWeightThreshold defaults to 0.001\n",
      "Field geodesicVolumeBound defaults to 10.985\n"
     ]
    }
   ],
   "source": [
    "hfmOut = hfmIn.Run()"
   ]
  },
  {
   "cell_type": "code",
   "execution_count": 61,
   "metadata": {},
   "outputs": [],
   "source": [
    "ax = plt.axes(projection='3d'); SetTitle3D(ax,\"Minimal path for the isotropic model, different seeds\")\n",
    "for curve in curvePoints: ax.plot(*curve)\n",
    "ax.plot(*hfmOut['geodesic']);"
   ]
  },
  {
   "cell_type": "code",
   "execution_count": 62,
   "metadata": {},
   "outputs": [],
   "source": [
    "hfmIn.pop('seeds',None);\n",
    "hfmIn.pop('tips',None);"
   ]
  },
  {
   "cell_type": "markdown",
   "metadata": {},
   "source": [
    "### 2.3 The Reeds-Shepp model\n",
    "\n",
    "We next compute the shortest sub-Riemannian geodesic, in the sense of the Reeds-Shepp model, joining the positions $x_0=(0,0,0)$ and $x_1=(0,0,\\pi)$ of the physical domain $U$. \n",
    "These points are not members of the computational domain $U \\times \\mathbb S^2$, since they lack an orientation component. By defining $x_0$ and $x_1$ as *unoriented* seeds and tips, the HFM library will automatically select the orientations $n_0,n_1\\in \\mathbb S^2$ such that the sub-Riemannian distance from $(x_0,n_0)$ to $(x_1,n_1)$ is minimal, and return the corresponding geodesic.\n",
    "\n",
    "In order to cut computation time in half, the next experiments rely on the projective orientation space $\\mathbb P^2$ instead of the unit sphere $\\mathbb S^2$."
   ]
  },
  {
   "cell_type": "code",
   "execution_count": 63,
   "metadata": {},
   "outputs": [],
   "source": [
    "hfmIn = Eikonal.dictIn({\n",
    "    'model':'ReedsShepp3',\n",
    "    'xi':1, # Curvature penalization parameter\n",
    "    'dual':0, # Choose the standard Reeds-Shepp model, over the dual variant. (Default value = 0)\n",
    "    'eps':0.2, # Relaxation parameter\n",
    "    'projective':1, # Regard opposite orientations as equivalent. See below.\n",
    "})\n",
    "hfmIn.SetRect([[-0.1,np.pi+0.1],[-1.1,1.1],[-0.7,0.7]],dimx=60)\n",
    "hfmIn.nTheta = nPhi # Conflicting conventions ..."
   ]
  },
  {
   "cell_type": "markdown",
   "metadata": {},
   "source": [
    "The speed function considered in this experiment depends on the physical coordinates only: $s = s(x)$, where $x \\in U \\subset \\mathbb R^3$. Also supported are constant: $s=s_0$, orientation dependent $s=s(\\theta,\\phi)$ where $\\theta\\in [0,\\pi]$ and $\\phi\\in [0,2 \\pi]$ are the Euler angles on the unit sphere $\\mathbb S^2$ (or $\\theta \\in [0,\\pi/2]$ in the projective case $\\mathbb P^2$), and fully dependent $s=s(x,\\theta,\\phi)$ speed functions.\n",
    "\n",
    "The speed function is provided as an array, or a single scalar in the constant case, and its dependency is inferred from the array dimension : 3 (physical dependency), 2 (angular dependency), or 5 (full dependency).\n",
    "\n",
    "In  practical applications, for best performance, it is strongly advised to use fully dependent $s=s(x,\\theta,\\phi)$ speed functions, designed so as to promote motion tangentially to the tubular structures of interest."
   ]
  },
  {
   "cell_type": "code",
   "execution_count": 64,
   "metadata": {},
   "outputs": [],
   "source": [
    "hfmIn['speed']=speedCurves"
   ]
  },
  {
   "cell_type": "markdown",
   "metadata": {},
   "source": [
    "Our objective is to extract a minimal geodesic from the seed point $(0,0,0)$ to the tip $(\\pi,0,0)$ in $\\mathbb R^3$, with any initial and final tangent."
   ]
  },
  {
   "cell_type": "code",
   "execution_count": 65,
   "metadata": {},
   "outputs": [],
   "source": [
    "hfmIn['seed_Unoriented']= [0,0,0]\n",
    "hfmIn['tip_Unoriented'] = [np.pi,0,0]"
   ]
  },
  {
   "cell_type": "markdown",
   "metadata": {},
   "source": [
    "In order to save CPU time, we end the front propagation as soon as the geodesic of interest can be backtracked. For that purpose, we use the `stopWhenAnyAccepted_Unoriented` termination criterion with the geodesic tip as output.\n",
    "\n",
    "Another termination criterion is discussed at the end of this section."
   ]
  },
  {
   "cell_type": "code",
   "execution_count": 66,
   "metadata": {},
   "outputs": [],
   "source": [
    "hfmIn['stopWhenAllAccepted_Unoriented']=hfmIn['tips_Unoriented']"
   ]
  },
  {
   "cell_type": "code",
   "execution_count": 67,
   "metadata": {},
   "outputs": [
    {
     "name": "stdout",
     "output_type": "stream",
     "text": [
      "Field verbosity defaults to 1\n",
      "Field order defaults to 1\n",
      "Fast marching solver completed in 6.60403 s.\n",
      "Field geodesicSolver defaults to Discrete\n",
      "Field geodesicStep defaults to 0.25\n",
      "Field geodesicWeightThreshold defaults to 0.001\n",
      "Field geodesicVolumeBound defaults to 18.5647\n",
      "CPU times: user 3.54 ms, sys: 7.08 ms, total: 10.6 ms\n",
      "Wall time: 6.75 s\n"
     ]
    }
   ],
   "source": [
    "%%time\n",
    "# Warning : may take up to a minute. \n",
    "hfmOut =hfmIn.Run()"
   ]
  },
  {
   "cell_type": "code",
   "execution_count": 68,
   "metadata": {},
   "outputs": [],
   "source": [
    "ax = plt.axes(projection='3d');  SetTitle3D(ax,\"Minimal path (red) for the Reeds-Shepp model\")\n",
    "for curve in curvePoints: ax.plot(*curve)\n",
    "ax.plot(*hfmOut['geodesic_Unoriented'][:3]);"
   ]
  },
  {
   "cell_type": "markdown",
   "metadata": {},
   "source": [
    "The next cell illustrates the sub-Riemmannian constraint, namely that the collinearity of the physical velocity $\\dot x$ with the current orientation $n$ is almost (due to the relaxation) satisfied."
   ]
  },
  {
   "cell_type": "code",
   "execution_count": 71,
   "metadata": {},
   "outputs": [],
   "source": [
    "fig = plt.figure(); ax = plt.axes(projection='3d'); \n",
    "SetTitle3D(ax,\"Minimal path, and orientations, for the Reeds-Shepp model\")\n",
    "for curve in curvePoints: ax.plot(*curve)\n",
    "geo = hfmOut['geodesic_Unoriented'][:,::10]\n",
    "orientations = UnitVector(*geo[3:])\n",
    "ax.quiver(*geo[:3], *orientations,length=0.2);"
   ]
  },
  {
   "cell_type": "code",
   "execution_count": 72,
   "metadata": {},
   "outputs": [],
   "source": [
    "savefig(fig,'ReedsShepp_Tube_Tangents.png')"
   ]
  },
  {
   "cell_type": "markdown",
   "metadata": {},
   "source": [
    "### 2.4 The Reeds-Shepp *dual* model\n",
    "\n",
    "In the next experiment, the classical Reeds-Shepp model is replaced the a *dual* variant, which enforces a distinct sub-Riemannian constraint : the physical velocity $\\dot x$ must be orthogonal with the orientation $n$.\n",
    "This metric favors paths of low curvature, and paths which are embedded in smooth surfaces - in which case $n$ is expected to be close to the normal vector to the embedding surface."
   ]
  },
  {
   "cell_type": "code",
   "execution_count": 76,
   "metadata": {},
   "outputs": [],
   "source": [
    "hfmIn['dual'] = 1"
   ]
  },
  {
   "cell_type": "code",
   "execution_count": 77,
   "metadata": {},
   "outputs": [
    {
     "name": "stdout",
     "output_type": "stream",
     "text": [
      "Field verbosity defaults to 1\n",
      "Field order defaults to 1\n",
      "Fast marching solver completed in 7.14367 s.\n",
      "Field geodesicSolver defaults to Discrete\n",
      "Field geodesicStep defaults to 0.25\n",
      "Field geodesicWeightThreshold defaults to 0.001\n",
      "Field geodesicVolumeBound defaults to 18.5647\n"
     ]
    }
   ],
   "source": [
    "# Warning : may take up to a minute.\n",
    "hfmOut = hfmIn.Run()"
   ]
  },
  {
   "cell_type": "code",
   "execution_count": 78,
   "metadata": {},
   "outputs": [],
   "source": [
    "ax = plt.axes(projection='3d'); \n",
    "SetTitle3D(ax,\"Minimal path for the Reeds-Shepp *dual* model\")\n",
    "for curve in curvePoints: ax.plot(*curve)\n",
    "ax.plot(*hfmOut['geodesic_Unoriented'][:3]);"
   ]
  },
  {
   "cell_type": "code",
   "execution_count": 83,
   "metadata": {},
   "outputs": [],
   "source": [
    "fig = plt.figure(); ax = plt.axes(projection='3d'); \n",
    "SetTitle3D(ax,\"Minimal path, and orientations, for the Reeds-Shepp *dual* model\")\n",
    "for curve in curvePoints: ax.plot(*curve)\n",
    "geo = hfmOut['geodesic_Unoriented'][:,::8]\n",
    "ax.plot(*geo[:3])\n",
    "orientations = UnitVector(*geo[3:])\n",
    "ax.quiver(*geo[:3],*orientations,length=0.1);"
   ]
  },
  {
   "cell_type": "code",
   "execution_count": 84,
   "metadata": {},
   "outputs": [],
   "source": [
    "savefig(fig,'ReedsSheppDual_Tube_Tangents.png')"
   ]
  },
  {
   "cell_type": "markdown",
   "metadata": {},
   "source": [
    "### 2.5 The Reeds-Shepp *forward* model\n",
    "\n",
    "This model is perfectly applicable to tubular structure segmentation, and is in general preferable to the original sub-Riemannian Reeds-Shepp model. Indeed, the ability to move in reverse gear seems irrelevant for tubular structure segmentation. In addition, shifting from the front to the reverse gear, and conversely, it introduces a *cusp* which is usually regarded as an undesirable artifact. \n",
    "\n",
    "We refer to the next section for examples of such cusps, since they do not appear in the above experiment. In this test case, the results obtained with the Reeds-Shepp forward model are completely similar to those of the original sub-Riemannian model. Indeed, its main purpose is to eliminate cusps, which are not seen here."
   ]
  },
  {
   "cell_type": "code",
   "execution_count": 86,
   "metadata": {},
   "outputs": [],
   "source": [
    "hfmIn.pop('dual',None); # The forward model has no 'dual' counterpart\n",
    "hfmIn.pop('projective',None); # The forward model has no 'projective' counterpart. Orientations must belong to S^2"
   ]
  },
  {
   "cell_type": "code",
   "execution_count": 87,
   "metadata": {},
   "outputs": [],
   "source": [
    "hfmIn['model'] = 'ReedsSheppForward3'\n",
    "hfmIn['dims'][3]=nPhi/2 # Discretization of S^2 requires (nPhi/2,nPhi), as opposed to P^2"
   ]
  },
  {
   "cell_type": "code",
   "execution_count": 88,
   "metadata": {},
   "outputs": [
    {
     "name": "stdout",
     "output_type": "stream",
     "text": [
      "Field verbosity defaults to 1\n",
      "Field order defaults to 1\n",
      "Fast marching solver completed in 4.16154 s.\n",
      "Field geodesicSolver defaults to Discrete\n",
      "Field geodesicStep defaults to 0.25\n",
      "Field geodesicWeightThreshold defaults to 0.001\n",
      "Field geodesicVolumeBound defaults to 18.5647\n",
      "CPU times: user 3.62 ms, sys: 7.58 ms, total: 11.2 ms\n",
      "Wall time: 4.39 s\n"
     ]
    }
   ],
   "source": [
    "%%time\n",
    "# Warning : may take up to a minute.\n",
    "hfmOut = hfmIn.Run()"
   ]
  },
  {
   "cell_type": "code",
   "execution_count": 91,
   "metadata": {},
   "outputs": [],
   "source": [
    "fig = plt.figure(); ax = plt.axes(projection='3d'); \n",
    "SetTitle3D(ax,\"Minimal path for the Reeds-Shepp *forward* model\")\n",
    "for curve in curvePoints: ax.plot(*curve)\n",
    "ax.plot(*hfmOut['geodesic_Unoriented'][:3]);"
   ]
  },
  {
   "cell_type": "markdown",
   "metadata": {},
   "source": [
    "### 2.6 Stopping criteria based on Voronoi diagrams\n",
    "\n",
    "We end this section by illustrating another stopping criterion, based on Voronoi diagrams, applicable for fast geodesic computation in high dimensional domains. We continue the previous experiment, and recall that we use the Reeds-Shepp *forward* model, posed on $\\mathbb R^3 \\times \\mathbb S^2$. We will not need any tips. "
   ]
  },
  {
   "cell_type": "code",
   "execution_count": 92,
   "metadata": {},
   "outputs": [],
   "source": [
    "hfmIn.pop('tips_Unoriented',None);\n",
    "hfmIn.pop('stopWhenAllAccepted_Unoriented',None);"
   ]
  },
  {
   "cell_type": "markdown",
   "metadata": {},
   "source": [
    "Instead, two (unoriented) seeds points are introduced. The HFM library is instructed to compute the corresponding Voronoi regions, and to stop the front propagation as soon as they contain points with similar physical position but opposite orientation. In other words of the form $(x,n)$ and $(x,-n)$ in $\\mathbb R^3 \\times \\mathbb S^2$."
   ]
  },
  {
   "cell_type": "code",
   "execution_count": 93,
   "metadata": {},
   "outputs": [],
   "source": [
    "hfmIn['seeds_Unoriented'] = [[0,0,0],[np.pi,0,0]]\n",
    "hfmIn['seedFlags_Unoriented'] = [0,1]\n",
    "hfmIn['voronoiStoppingCriterion'] = 'OppositesMeeting'"
   ]
  },
  {
   "cell_type": "code",
   "execution_count": 94,
   "metadata": {},
   "outputs": [
    {
     "name": "stdout",
     "output_type": "stream",
     "text": [
      "Field verbosity defaults to 1\n",
      "Field order defaults to 1\n",
      "Fast marching solver completed in 2.85186 s.\n",
      "Field exportVoronoiFlags defaults to 1\n",
      "Field voronoiDiagram_exportGeodesicFromMeetingPoint defaults to 1\n",
      "Field geodesicSolver defaults to Discrete\n",
      "Field geodesicStep defaults to 0.25\n",
      "Field geodesicWeightThreshold defaults to 0.001\n",
      "Field geodesicVolumeBound defaults to 18.5647\n",
      "CPU times: user 81.9 ms, sys: 154 ms, total: 236 ms\n",
      "Wall time: 3.87 s\n"
     ]
    }
   ],
   "source": [
    "%%time\n",
    "hfmOut = hfmIn.Run()"
   ]
  },
  {
   "cell_type": "code",
   "execution_count": 96,
   "metadata": {},
   "outputs": [
    {
     "name": "stdout",
     "output_type": "stream",
     "text": [
      "[ 1.59864293 -0.97463119  0.          1.17809725  4.71238898] \n",
      " [ 1.59864293 -0.97463119  0.          1.96349541  1.57079633]\n"
     ]
    }
   ],
   "source": [
    "# The voronoi regions contain two points with opposite orientations.\n",
    "print(hfmOut['voronoiDiagram_meetingPoint0'],'\\n',hfmOut['voronoiDiagram_meetingPoint1'])"
   ]
  },
  {
   "cell_type": "markdown",
   "metadata": {},
   "source": [
    "The minimal path joining the two seeds is obtained as the concatenation of the two minimal paths, from these meeting points to the seeds of the respective Voronoi regions."
   ]
  },
  {
   "cell_type": "code",
   "execution_count": 97,
   "metadata": {},
   "outputs": [],
   "source": [
    "ax = plt.axes(projection='3d'); \n",
    "SetTitle3D(ax,\"The two halves of the minimal path, for the Reeds-Shepp *forward* model\")\n",
    "for curve in curvePoints: ax.plot(*curve)\n",
    "for geo in hfmOut['geodesics_voronoiDiagram']: ax.plot(*geo[:3])"
   ]
  },
  {
   "cell_type": "markdown",
   "metadata": {},
   "source": [
    "We next turn to the Reeds-Shepp model, instantiated in the projective space $\\mathbb R^3 \\times \\mathbb P^2$. The previous stopping criterion does not apply, since $(x,n)$ and $(x,-n)$ both designate the same point in the projective space, hence they cannot belong to distinct Voronoi regions. Instead, the HFM library is instructed to stop the front propagation as soon as the two Voronoi regions contain points distant from one pixel in the cartesian discretization grid. For that purpose, we use the key `RegionsMeeting` instead of `OppositesMeeting`."
   ]
  },
  {
   "cell_type": "code",
   "execution_count": 99,
   "metadata": {},
   "outputs": [],
   "source": [
    "hfmIn['model'] = 'ReedsShepp3'\n",
    "hfmIn['projective']=1\n",
    "hfmIn['dims'][3] = nPhi/4\n",
    "hfmIn['voronoiStoppingCriterion'] = 'RegionsMeeting'"
   ]
  },
  {
   "cell_type": "code",
   "execution_count": 100,
   "metadata": {},
   "outputs": [
    {
     "name": "stdout",
     "output_type": "stream",
     "text": [
      "Field verbosity defaults to 1\n",
      "Field dual defaults to 0\n",
      "Field order defaults to 1\n",
      "Fast marching solver completed in 5.4534 s.\n",
      "Field exportVoronoiFlags defaults to 1\n",
      "Field voronoiDiagram_exportGeodesicFromMeetingPoint defaults to 1\n",
      "Field geodesicSolver defaults to Discrete\n",
      "Field geodesicStep defaults to 0.25\n",
      "Field geodesicWeightThreshold defaults to 0.001\n",
      "Field geodesicVolumeBound defaults to 18.5647\n",
      "CPU times: user 41.3 ms, sys: 83.3 ms, total: 125 ms\n",
      "Wall time: 6.03 s\n"
     ]
    }
   ],
   "source": [
    "%%time\n",
    "hfmOut = hfmIn.Run()"
   ]
  },
  {
   "cell_type": "code",
   "execution_count": 101,
   "metadata": {},
   "outputs": [
    {
     "name": "stdout",
     "output_type": "stream",
     "text": [
      "[ 1.54294972 -0.97463119  0.05569321  1.17809725  4.71238898] \n",
      " [ 1.54294972 -0.97463119  0.05569321  1.17809725  4.97418837]\n"
     ]
    }
   ],
   "source": [
    "# The Voronoi regions contain two points separated by one pixel.\n",
    "print(hfmOut['voronoiDiagram_meetingPoint0'],'\\n',hfmOut['voronoiDiagram_meetingPoint1'])"
   ]
  },
  {
   "cell_type": "code",
   "execution_count": 102,
   "metadata": {},
   "outputs": [],
   "source": [
    "ax = plt.axes(projection='3d'); \n",
    "SetTitle3D(ax,\"The two halves of the minimal path, for the Reeds-Shepp model\")\n",
    "for curve in curvePoints: ax.plot(*curve)\n",
    "for geo in hfmOut['geodesics_voronoiDiagram']: ax.plot(*geo[:3])"
   ]
  },
  {
   "cell_type": "markdown",
   "metadata": {},
   "source": [
    "## 3. A motion planning example \n",
    "\n",
    "We conclude this notebook by a motion planning example. By motion planning, we refer to the context where the cost function is constant $c=1$, but the domain features obstacles. \n",
    "\n",
    "The relevancy of the three dimensional Reeds-Shepp model for motion planning should not be over-emphasized, in contrast with applications to tubular structure segmentation where it is perfectly natural and efficient (given enough computation time). Indeed this model assumes a vehicle that:\n",
    "* Can be oriented in any spatial direction $n \\in \\mathbb S^2$.\n",
    "* Can move forward and backward in this direction.\n",
    "* Can rotate in place.\n",
    "* Is not sensitive to the roll angle, which is neglected in this model.\n",
    "\n",
    "Perhaps some submarines, or spatial vehicles, can fit part of this description. Alternatively, some application specific models will need to be developed. The following experiment should only be regarded as the demonstration that  5 dimensional non-holonomic path planning is feasible."
   ]
  },
  {
   "cell_type": "markdown",
   "metadata": {},
   "source": [
    "### 3.1 Defining the domain.\n",
    "\n",
    "We introduce a box domain, featuring a wall, with a hole, and a column. We also define a seed point, from which the front propagation is to be initiated, and a family of tips, from which minimal geodesics are to be backtraced."
   ]
  },
  {
   "cell_type": "code",
   "execution_count": 103,
   "metadata": {},
   "outputs": [],
   "source": [
    "# Let us construct a round shaped obstacle, and 1-pixel thick wall\n",
    "X,Y,Z = np.mgrid[-1.5:1.5:60j, -0.5:1.5:40j, -0.625:0.625:25j]\n",
    "\n",
    "column = (X-0.6)**2+(Y-0.7)**2 <= 0.4**2\n",
    "floor = np.logical_and(np.logical_and(np.abs(Z)<0.05, Y>=0), (X+0.6)**2+(Y-0.7)**2 >= 0.3**2 )\n",
    "obstacle = np.logical_or(column,floor)"
   ]
  },
  {
   "cell_type": "code",
   "execution_count": 105,
   "metadata": {},
   "outputs": [],
   "source": [
    "physSeeds = np.array([ [0.,0.25,0.4] ])\n",
    "physTips = np.array([ [x,y,z] \n",
    "            for x in Eikonal.CenteredLinspace(-1.5,1.5,4)\n",
    "            for y in Eikonal.CenteredLinspace(-0.5,1.5,2)\n",
    "            for z in Eikonal.CenteredLinspace(-0.625,0.625,2)\n",
    "            ])"
   ]
  },
  {
   "cell_type": "code",
   "execution_count": 106,
   "metadata": {},
   "outputs": [],
   "source": [
    "if useMayavi: \n",
    "    mlab.contour3d(X,Y,Z,obstacle.astype(float), contours=[0.15])\n",
    "    mlab.points3d(physTips[:,0],physTips[:,1],physTips[:,2],color=(0,1,0),scale_factor=0.1)\n",
    "    mlab.points3d(physSeeds[:,0],physSeeds[:,1],physSeeds[:,2],color=(1,0,1),scale_factor=0.1)\n",
    "    mlab.view(azimuth=-60) #,elevation=120\n",
    "    mlab.show()"
   ]
  },
  {
   "cell_type": "markdown",
   "metadata": {},
   "source": [
    "Obstacles, seeds and tips, as displayed by the previous command.\n",
    "![domain](https://dl.dropbox.com/s/s4kqppgm1h0phs6/A5_Planning_Domain.png?dl=0)"
   ]
  },
  {
   "cell_type": "markdown",
   "metadata": {},
   "source": [
    "### 3.2 Isotropic fast marching\n",
    "\n",
    "Using standard isotropic fast marching, we compute the shortest paths from the seed to the various tips, avoiding all obstacles."
   ]
  },
  {
   "cell_type": "code",
   "execution_count": 116,
   "metadata": {},
   "outputs": [],
   "source": [
    "physDims = [60,40,25] # Physical dimensions \n",
    "hfmIn = Eikonal.dictIn({\n",
    "    'model':'Isotropic3',\n",
    "    'dims':physDims,\n",
    "    'gridScale':0.05,\n",
    "    'origin':[-1.5,-0.5,-0.625],\n",
    "    'cost':1,\n",
    "    'walls':obstacle,\n",
    "    'seeds':physSeeds,\n",
    "    'tips':physTips,\n",
    "})"
   ]
  },
  {
   "cell_type": "code",
   "execution_count": 110,
   "metadata": {},
   "outputs": [
    {
     "name": "stdout",
     "output_type": "stream",
     "text": [
      "Field verbosity defaults to 1\n",
      "Field order defaults to 1\n",
      "Field seedRadius defaults to 0\n",
      "Fast marching solver completed in 0.025505 s.\n",
      "Field geodesicSolver defaults to Discrete\n",
      "Field geodesicStep defaults to 0.25\n",
      "Field geodesicWeightThreshold defaults to 0.001\n",
      "Field geodesicVolumeBound defaults to 10.985\n"
     ]
    }
   ],
   "source": [
    "hfmOut = hfmIn.Run()"
   ]
  },
  {
   "cell_type": "code",
   "execution_count": 111,
   "metadata": {},
   "outputs": [],
   "source": [
    "if useMayavi: # Set to true for mlab display (in external window)\n",
    "    mlab.contour3d(X,Y,Z,obstacle.astype(float), contours=[0.15])\n",
    "    for geo in GetGeodesics(hfmOutput):\n",
    "        mlab.plot3d(*geo,tube_radius=0.01)\n",
    "    mlab.view(azimuth=-60) #,elevation=120\n",
    "    mlab.show()"
   ]
  },
  {
   "cell_type": "markdown",
   "metadata": {},
   "source": [
    "Minimal paths and obstacles avoided, as displayed by the previous command.\n",
    "\n",
    "Top | Bottom\n",
    ":---:|:---:\n",
    "![top view](https://dl.dropbox.com/s/xfsgmqboz5iu7g0/A5_Iso_Planning.png?dl=0) | ![bottom view](https://dl.dropbox.com/s/ojdcerrq1x0zqas/A5_Iso_Planning_Bottom.png?dl=0)"
   ]
  },
  {
   "cell_type": "code",
   "execution_count": 113,
   "metadata": {},
   "outputs": [],
   "source": [
    "hfmIn.pop('seeds',None);\n",
    "hfmIn.pop('tips',None);"
   ]
  },
  {
   "cell_type": "markdown",
   "metadata": {},
   "source": [
    "### 3.3 The Reeds-Shepp model\n",
    "\n",
    "In the next experiment, we extract minimal paths with respect to the Reeds-Shepp model. These paths are smoother than the previous minimal euclidean ones, due to the curvature penalization. They also have a distinctive feature: cusps, at the points where the vehicle shifts into reverse gear."
   ]
  },
  {
   "cell_type": "code",
   "execution_count": 119,
   "metadata": {},
   "outputs": [],
   "source": [
    "hfmIn.update({\n",
    "    'model':'ReedsShepp3',\n",
    "    'eps':0.15,\n",
    "    'xi':1,\n",
    "    'dual':0,\n",
    "    'projective':1,\n",
    "    'dims':np.concatenate((physDims,(nPhi/4,nPhi))),\n",
    "    \n",
    "    'seeds':[np.concatenate((p,EulerAngles([1,0,0]))) for p in physSeeds],\n",
    "    'tips':[np.concatenate((p,EulerAngles([0,1,0]))) for p in physTips],\n",
    "    'tips_Unoriented':physTips,\n",
    "})"
   ]
  },
  {
   "cell_type": "code",
   "execution_count": 121,
   "metadata": {},
   "outputs": [
    {
     "name": "stdout",
     "output_type": "stream",
     "text": [
      "Field verbosity defaults to 1\n",
      "Field order defaults to 1\n",
      "Field seedRadius defaults to 0\n",
      "Fast marching solver completed in 40.1043 s.\n",
      "Field geodesicSolver defaults to Discrete\n",
      "Field geodesicStep defaults to 0.25\n",
      "Field geodesicWeightThreshold defaults to 0.001\n",
      "Field geodesicVolumeBound defaults to 18.5647\n",
      "CPU times: user 4.43 ms, sys: 7.39 ms, total: 11.8 ms\n",
      "Wall time: 42.5 s\n"
     ]
    }
   ],
   "source": [
    "%%time\n",
    "# Warning : may take up to a minute.\n",
    "hfmOut = hfmIn.Run()"
   ]
  },
  {
   "cell_type": "code",
   "execution_count": 122,
   "metadata": {},
   "outputs": [],
   "source": [
    "if useMayavi:\n",
    "    mlab.contour3d(X,Y,Z,obstacle.astype(float), contours=[0.15])\n",
    "    for geo in GetGeodesics(hfmOutput):\n",
    "        mlab.plot3d(geo[:,0],geo[:,1],geo[:,2],tube_radius=0.01)\n",
    "    mlab.view(azimuth=-60) #,elevation=120\n",
    "    mlab.show()"
   ]
  },
  {
   "cell_type": "code",
   "execution_count": 123,
   "metadata": {},
   "outputs": [],
   "source": [
    "if useMayavi:\n",
    "    for geo in GetGeodesics(hfmOutput):\n",
    "        geo = geo[:,::8]\n",
    "        mlab.quiver3d(*geo[:3], *UnitVector(geo[3:]))\n",
    "    mlab.view(azimuth=-60) #,elevation=120\n",
    "    mlab.show()"
   ]
  },
  {
   "cell_type": "markdown",
   "metadata": {},
   "source": [
    "Left: Minimal Reeds-Shepp paths and obstacles avoided. Right: verification that the sub-Riemannian colinearity constraint is correctly enforced, i.e. the orientations $n$ displayed as red arrows, are tangent to the curve, i.e. colinear with the physical velocity $\\dot x$.\n",
    "\n",
    "Paths and obstacles | Orientations\n",
    "--- | ---\n",
    "![paths](https://dl.dropbox.com/s/twhty44oxzd5l70/A5_RS_Planning_Top.png?dl=0) | ![arrows](https://dl.dropbox.com/s/s20y14pwuk2sge5/A5_RS_Planning_Arrows.png?dl=0)"
   ]
  },
  {
   "cell_type": "markdown",
   "metadata": {},
   "source": [
    "In the next cell we display the minimal Reeds-Shepp geodesics backtracked from the unoriented seeds, thus with the most favorable initial direction."
   ]
  },
  {
   "cell_type": "code",
   "execution_count": 124,
   "metadata": {},
   "outputs": [],
   "source": [
    "if useMayavi:\n",
    "    mlab.contour3d(X,Y,Z,obstacle.astype(float), contours=[0.15])\n",
    "    for geo in GetGeodesics(hfmOutput,'Unoriented'):\n",
    "        mlab.plot3d(*geo[:3],tube_radius=0.01)\n",
    "    mlab.view(azimuth=-60) #,elevation=120\n",
    "    mlab.show()"
   ]
  },
  {
   "cell_type": "markdown",
   "metadata": {},
   "source": [
    "![unoriented](https://dl.dropbox.com/s/7rx45n7w8nfldoz/A5_RS_Planning_Unoriented.png?dl=0)"
   ]
  },
  {
   "cell_type": "code",
   "execution_count": 125,
   "metadata": {},
   "outputs": [],
   "source": [
    "hfmIn.pop('tipsUnoriented',None);"
   ]
  },
  {
   "cell_type": "markdown",
   "metadata": {},
   "source": [
    "The Reeds-Shepp *dual* variant is, at first sight, mostly irrelevant for motion planning. Nevertheless, we display the corresponding curves and orientations, to illustrate the fact that the model is genuinely different from the original Reeds-Shepp model, and that the sub-Riemannian constraint is correctly enforced. Namely orthogonality, instead of colinearity above, of the orientation $n \\in \\mathbb P^2$ with the physical velocity $\\dot x \\in \\mathbb R^3$."
   ]
  },
  {
   "cell_type": "code",
   "execution_count": 126,
   "metadata": {},
   "outputs": [],
   "source": [
    "hfmIn['dual']=1"
   ]
  },
  {
   "cell_type": "code",
   "execution_count": 128,
   "metadata": {},
   "outputs": [
    {
     "name": "stdout",
     "output_type": "stream",
     "text": [
      "Field verbosity defaults to 1\n",
      "Field order defaults to 1\n",
      "Field seedRadius defaults to 0\n",
      "Fast marching solver completed in 40.1616 s.\n",
      "Field geodesicSolver defaults to Discrete\n",
      "Field geodesicStep defaults to 0.25\n",
      "Field geodesicWeightThreshold defaults to 0.001\n",
      "Field geodesicVolumeBound defaults to 18.5647\n",
      "CPU times: user 4.63 ms, sys: 8.21 ms, total: 12.8 ms\n",
      "Wall time: 42.3 s\n"
     ]
    }
   ],
   "source": [
    "%%time\n",
    "# Warning : may take up to a minute.\n",
    "hfmOut = hfmIn.Run()"
   ]
  },
  {
   "cell_type": "code",
   "execution_count": 69,
   "metadata": {},
   "outputs": [],
   "source": [
    "if useMayavi:\n",
    "    mlab.contour3d(X,Y,Z,obstacle.astype(float), contours=[0.15])\n",
    "    for geo in GetGeodesics(hfmOutput):\n",
    "        mlab.plot3d(*geo[:3],tube_radius=0.01)\n",
    "    mlab.view(azimuth=-60) #,elevation=120\n",
    "    mlab.show()"
   ]
  },
  {
   "cell_type": "code",
   "execution_count": 70,
   "metadata": {},
   "outputs": [],
   "source": [
    "if useMayavi:\n",
    "    for geo in GetGeodesics(hfmOutput):\n",
    "        geo = geo[::8,:]\n",
    "        mlab.quiver3d(geo[:3], UnitVector(geo[3:]))\n",
    "    mlab.view(azimuth=-60) #,elevation=120\n",
    "    mlab.show()"
   ]
  },
  {
   "cell_type": "markdown",
   "metadata": {},
   "source": [
    "Mayavi output for the Reeds-Shepp *dual* model.\n",
    "\n",
    "Paths and obstacles | Orientation \n",
    "--- | ---\n",
    "![paths](https://dl.dropbox.com/s/5ev4yzyz3i6lwds/A5_RSD_Planning_Top.png?dl=0) | ![arrows](https://dl.dropbox.com/s/ba7qe645ixg98xy/A5_RSD_Planning_Arrows.png?dl=0)"
   ]
  },
  {
   "cell_type": "markdown",
   "metadata": {},
   "source": [
    "### 3.4 The Reeds-Shepp forward variant\n",
    "\n",
    "The *forward* variant eliminates the reverse gear in the Reeds-Shepp model. \n",
    "The physical velocity $\\dot x$ must be positively colinear with the orientation $n \\in \\mathbb S^2$.\n",
    "As a result, cusps disappear in the extracted trajectories. A new phenomenon arises however, in particular at the curve endpoints and around obstacles: in place rotations, at which the orientation $n\\in \\mathbb  S^2$ changes, but the physical position $x \\in U \\subset \\mathbb R^3$ remains constant."
   ]
  },
  {
   "cell_type": "code",
   "execution_count": 129,
   "metadata": {},
   "outputs": [],
   "source": [
    "hfmIn['model'] = 'ReedsSheppForward3'\n",
    "\n",
    "hfmIn.pop('projective',None) # This model does not have a `projective variant': Orientations in S^2, not P^2.\n",
    "hfmIn.pop('dual',None) \n",
    "hfmIn['dims'][3:5]=nPhi/2,nPhi # S^2 requires nPhi/2, nPhi"
   ]
  },
  {
   "cell_type": "code",
   "execution_count": 130,
   "metadata": {},
   "outputs": [
    {
     "name": "stdout",
     "output_type": "stream",
     "text": [
      "Field verbosity defaults to 1\n",
      "Field order defaults to 1\n",
      "Field seedRadius defaults to 0\n",
      "Fast marching solver completed in 37.4287 s.\n",
      "Field geodesicSolver defaults to Discrete\n",
      "Field geodesicStep defaults to 0.25\n",
      "Field geodesicWeightThreshold defaults to 0.001\n",
      "Field geodesicVolumeBound defaults to 18.5647\n"
     ]
    }
   ],
   "source": [
    "# Warning : may take up to a minute.\n",
    "hfmOut = hfmIn.Run()"
   ]
  },
  {
   "cell_type": "markdown",
   "metadata": {},
   "source": [
    "For some reason, mayavi will not plot a line if two consecutive elements are equal. This arises here, due to the *in place rotations* of the minimal curves. In other words, for some time, the geodesic physical position remains constant, while the angular orientation changes. For plotting, the angular part of the geodesic is removed, hence we are left with the physical part, which in constant in some time intervals.\n",
    "\n",
    "For dealing with this issue, we introduce the following function. It deletes consecutive duplicates in an 2-dimensional array, regarded as a list of vectors."
   ]
  },
  {
   "cell_type": "code",
   "execution_count": 73,
   "metadata": {},
   "outputs": [],
   "source": [
    "from itertools import groupby\n",
    "def DeleteConsecutiveDuplicates(L): \n",
    "    return np.array([x[0] for x in groupby(L, lambda x:tuple(x))])"
   ]
  },
  {
   "cell_type": "code",
   "execution_count": 74,
   "metadata": {},
   "outputs": [],
   "source": [
    "if useMayavi:\n",
    "    mlab.contour3d(X,Y,Z,obstacle.astype(float), contours=[0.15])\n",
    "    for geo in GetGeodesics(hfmOutput):\n",
    "         # Project to the physical space, and gather stationnary points.\n",
    "        geo=DeleteConsecutiveDuplicates(geo[:3])\n",
    "        mlab.plot3d(*geo,tube_radius=0.01)\n",
    "    mlab.view(azimuth=-60) #,elevation=120\n",
    "    mlab.show()"
   ]
  },
  {
   "cell_type": "code",
   "execution_count": 75,
   "metadata": {},
   "outputs": [],
   "source": [
    "if useMayavi:\n",
    "    for geo in GetGeodesics(hfmOutput):\n",
    "        geo = geo[:,::8]\n",
    "        mlab.quiver3d(*geo[:3], *UnitVector(geo[3:]))\n",
    "    mlab.view(azimuth=-60) #,elevation=120\n",
    "    mlab.show()"
   ]
  },
  {
   "cell_type": "markdown",
   "metadata": {},
   "source": [
    "Paths and obstacles | Orientations\n",
    "--- | ---\n",
    "![paths](https://dl.dropbox.com/s/g5btbghkvftpmvc/A5_RSF_Planning_Top.png?dl=0) | ![arrows](https://dl.dropbox.com/s/osh0uqheeujuit8/A5_RSF_Planning_Arrows.png?dl=0)"
   ]
  },
  {
   "cell_type": "code",
   "execution_count": null,
   "metadata": {},
   "outputs": [],
   "source": []
  }
 ],
 "metadata": {
  "kernelspec": {
   "display_name": "Python 3 (ipykernel)",
   "language": "python",
   "name": "python3"
  },
  "language_info": {
   "codemirror_mode": {
    "name": "ipython",
    "version": 3
   },
   "file_extension": ".py",
   "mimetype": "text/x-python",
   "name": "python",
   "nbconvert_exporter": "python",
   "pygments_lexer": "ipython3",
   "version": "3.11.0"
  },
  "latex_envs": {
   "LaTeX_envs_menu_present": true,
   "autocomplete": false,
   "bibliofile": "biblio.bib",
   "cite_by": "apalike",
   "current_citInitial": 1,
   "eqLabelWithNumbers": true,
   "eqNumInitial": 1,
   "hotkeys": {
    "equation": "Ctrl-E",
    "itemize": "Ctrl-I"
   },
   "labels_anchors": false,
   "latex_user_defs": false,
   "report_style_numbering": false,
   "user_envs_cfg": false
  },
  "varInspector": {
   "cols": {
    "lenName": 16,
    "lenType": 16,
    "lenVar": 40
   },
   "kernels_config": {
    "python": {
     "delete_cmd_postfix": "",
     "delete_cmd_prefix": "del ",
     "library": "var_list.py",
     "varRefreshCmd": "print(var_dic_list())"
    },
    "r": {
     "delete_cmd_postfix": ") ",
     "delete_cmd_prefix": "rm(",
     "library": "var_list.r",
     "varRefreshCmd": "cat(var_dic_list()) "
    }
   },
   "types_to_exclude": [
    "module",
    "function",
    "builtin_function_or_method",
    "instance",
    "_Feature"
   ],
   "window_display": false
  }
 },
 "nbformat": 4,
 "nbformat_minor": 1
}