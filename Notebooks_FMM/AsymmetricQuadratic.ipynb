{
 "cells": [
  {
   "cell_type": "markdown",
   "metadata": {},
   "source": [
    "# The HFM library - A fast marching solver with adaptive stencils\n",
    "\n",
    "## Part : Isotropic and anisotropic metrics\n",
    "## Chapter : Asymmetric quadratic metrics\n",
    "\n",
    "In this notebook, we demonstrate anisotropic fast marching with *asymmetric quadratic metrics*, in two and three dimensions. The metrics considered in the notebook are a generalization of Riemannian metrics, featuring an additional non-symmetric term. \n",
    "They are also a special case of non-symmetric Finslerian metrics.\n",
    "An *asymmetric quadratic metric* measures vectors according to the formula:\n",
    "$$\n",
    "    F_x(v) := \\sqrt{ \\|v\\|^2_{M(x)} + \\max\\{0,<\\omega(x), v>\\}^2}\n",
    "$$\n",
    "where $M$ is a field of symmetric positive definite tensors, and $\\omega$ is a vector field. As evidenced by the above formula, the role of the vector field $\\omega$ is to further penalize motion in its direction.\n",
    "\n",
    "The HFM software computes the distance associated to a given *asymmetric quadratic metric*, and the corresponding minimal paths, by solving a variant of the eikonal PDE. Namely for all $x$ within a domain $\\Omega$\n",
    "$$\n",
    "    \\sqrt{\\|\\nabla u(x)\\|^2_{D(x)} + \\max\\{0,<\\eta(x),\\nabla u(x)>\\}^2} = 1,\n",
    "$$\n",
    "where $(D,\\eta)$ is the dual metric.\n",
    "Some algebraic formulas allow to express the dual metric in terms of $(M,\\omega)$, the primal metric.\n",
    "\n",
    "**Technical note** The two and three dimensional implementations use different discretization schemes: semi-Lagrangian, vs Eulerian. The latter one in addition involves a relaxation parameter. As a result two dimensional implementation can reach high levels of accuracy (including second/third order), whereas the three dimensional one is best used in contexts where speed and qualitative behavior are most important.\n",
    "\n",
    "**References** The experiments presented in this notebook, or related variants, are presented in the following publications.\n",
    "\n",
    "Mirebeau, J.-M. (2014). Efficient fast marching with Finsler metrics. Numerische Mathematik, 126(3), 515–557.\n",
    "[link](https://hal.archives-ouvertes.fr/hal-00736431)\n",
    "\n",
    "Duits, R., Meesters, S. P., Mirebeau, J.-M., & Portegies, J. M. (2018). Optimal paths for variants of the 2D and 3D Reeds-Shepp car with applications in image analysis. Journal of Mathematical Imaging and Vision, 1–33. http://doi.org/ https://doi.org/10.1007/s10851-018-0795-z"
   ]
  },
  {
   "cell_type": "markdown",
   "metadata": {},
   "source": [
    "[**Summary**](Summary.ipynb) of volume Fast Marching Methods, this series of notebooks.\n",
    "\n",
    "[**Main summary**](../Summary.ipynb) of the Adaptive Grid Discretizations \n",
    "\tbook of notebooks, including the other volumes.\n",
    "\n",
    "# Table of contents\n",
    "  * [1. Case of a constant metric](#1.-Case-of-a-constant-metric)\n",
    "  * [2. Application to vessel segmentation](#2.-Application-to-vessel-segmentation)\n",
    "    * [2.1 Preparation of a synthetic example](#2.1-Preparation-of-a-synthetic-example)\n",
    "    * [2.2 Extraction of a tubular structure](#2.2-Extraction-of-a-tubular-structure)\n",
    "  * [3. Asymmetric Rander metrics](#3.-Asymmetric-Rander-metrics)\n",
    "\n",
    "\n",
    "\n",
    "This Python&reg; notebook is intended as documentation and testing for the [HamiltonFastMarching (HFM) library](https://github.com/mirebeau/HamiltonFastMarching), which also has interfaces to the Matlab&reg; and Mathematica&reg; languages. \n",
    "More information on the HFM library in the manuscript:\n",
    "* Jean-Marie Mirebeau, Jorg Portegies, \"Hamiltonian Fast Marching: A numerical solver for anisotropic and non-holonomic eikonal PDEs\", 2019 [(link)](https://hal.archives-ouvertes.fr/hal-01778322)\n",
    "\n",
    "Copyright Jean-Marie Mirebeau, University Paris-Sud, CNRS, University Paris-Saclay"
   ]
  },
  {
   "cell_type": "markdown",
   "metadata": {},
   "source": [
    "## 0. Importing the required libraries"
   ]
  },
  {
   "cell_type": "code",
   "execution_count": 1,
   "metadata": {},
   "outputs": [],
   "source": [
    "import sys; sys.path.insert(0,\"..\") # Allow import of agd from parent directory (useless if conda package installed)\n",
    "#from Miscellaneous import TocTools; print(TocTools.displayTOC('AsymmetricQuadratic','FMM'))"
   ]
  },
  {
   "cell_type": "code",
   "execution_count": 2,
   "metadata": {},
   "outputs": [],
   "source": [
    "from agd import Eikonal\n",
    "from agd.Metrics import AsymQuad,Riemann\n",
    "from agd.Plotting import savefig; #savefig.dirName = 'Figures/AsymmetricQuadratic'\n",
    "from agd import FiniteDifferences as fd\n",
    "from agd import AutomaticDifferentiation as ad"
   ]
  },
  {
   "cell_type": "code",
   "execution_count": 3,
   "metadata": {},
   "outputs": [],
   "source": [
    "import numpy as np; xp = np\n",
    "import matplotlib.pyplot as plt"
   ]
  },
  {
   "cell_type": "markdown",
   "metadata": {},
   "source": [
    "### 0.1 Additional configuration\n",
    "\n",
    "Uncomment the following line to use the GPU accelerated eikonal solver."
   ]
  },
  {
   "cell_type": "code",
   "execution_count": 4,
   "metadata": {
    "tags": [
     "EikonalGPU_config"
    ]
   },
   "outputs": [],
   "source": [
    "#xp,Eikonal,plt = map(ad.cupy_friendly,(xp,Eikonal,plt))"
   ]
  },
  {
   "cell_type": "markdown",
   "metadata": {},
   "source": [
    "## 1. Case of a constant metric\n",
    "\n",
    "In order to illustrate the concept of asymmetric quadratic metric, we compute the distance map with respect to a metric independent of the position $x$ within the domain. It is defined  by \n",
    "$$\n",
    "    F(v)^2 = \\|v\\|_D^2 + \\max\\{0,<\\omega,v>\\}^2,\n",
    "$$\n",
    "where $D$ is the identity tensor, and $\\omega = (1,1)$.\n",
    "\n",
    "<!--- Three dimensional test case by Nicky van den\n",
    "# Define dimensions \n",
    "Nx=101\n",
    "Ny=151\n",
    "Nθ=32\n",
    "# Define model and seed \n",
    "hfmIn = Eikonal.dictIn({\n",
    "    'model':'AsymmetricQuadratic3', \n",
    "    'exportValues':1, \n",
    "    'seed':[5,50,np.pi/4],\n",
    "    'tips':[[20,1,0],[95,15,0],[99,65,np.pi]]\n",
    "    'metric':AsymQuad([[1,0,0],[0,1,0],[0,0,1]],[1,2,1])\n",
    "})\n",
    "# Define the domain\n",
    "hfmIn.SetRect(sides = [[0.5,Nx+0.5],[0.5,Ny+0.5],[0-2*np.pi/(2*Nθ),2*np.pi- 2*np.pi/(2*Nθ)]], dims=[Nx,Ny,Nθ])\n",
    "hfmOut = hfmIn.Run()\n",
    "--->"
   ]
  },
  {
   "cell_type": "code",
   "execution_count": 28,
   "metadata": {},
   "outputs": [],
   "source": [
    "hfmIn = Eikonal.dictIn({\n",
    "    'model':'AsymmetricQuadratic2',\n",
    "    'exportValues':1,\n",
    "    'seed':[0,0],\n",
    "})\n",
    "\n",
    "# Define the domain\n",
    "n=201\n",
    "hfmIn.SetRect(sides=[[-1,1],[-1,1]],dimx=n)\n",
    "X,Y = hfmIn.Grid()\n",
    "hfmIn.SetUniformTips((6,6))"
   ]
  },
  {
   "cell_type": "code",
   "execution_count": 29,
   "metadata": {},
   "outputs": [],
   "source": [
    "hfmIn['metric']= AsymQuad(xp.eye(2),[1,1]) # Inputs are : D, w"
   ]
  },
  {
   "cell_type": "code",
   "execution_count": 30,
   "metadata": {},
   "outputs": [
    {
     "name": "stdout",
     "output_type": "stream",
     "text": [
      "Field verbosity defaults to 1\n",
      "Field cosAngleMin defaults to 0.5\n",
      "Field refineStencilAtWallBoundary defaults to 0\n",
      "Field order defaults to 1\n",
      "Field seedRadius defaults to 0\n",
      "Fast marching solver completed in 0.58575 s.\n",
      "(Code executed in Debug mode, explaining slow compute time)\n",
      "Field geodesicSolver defaults to Discrete\n",
      "Field geodesicStep defaults to 0.25\n",
      "Field geodesicWeightThreshold defaults to 0.001\n",
      "Field geodesicVolumeBound defaults to 8.45\n"
     ]
    }
   ],
   "source": [
    "hfmOut = hfmIn.Run()"
   ]
  },
  {
   "cell_type": "markdown",
   "metadata": {},
   "source": [
    "Since the metric is constant, the distance map  from the origin is simply $u(x) = F(x)$.\n",
    "\n",
    "The additional cost of motion in the direction $\\omega = (1,1)$ is clearly visible.\n",
    "Each level line of $u$ is built of two half ellipses, defined by the tensors $D$ and $D+\\omega \\omega^T$."
   ]
  },
  {
   "cell_type": "code",
   "execution_count": 31,
   "metadata": {},
   "outputs": [],
   "source": [
    "plt.figure(figsize=[5,4]); plt.title('Distance map, asymmetric quadratic norm'); plt.axis('equal'); \n",
    "plt.contourf(X,Y,hfmOut['values']);\n",
    "plt.colorbar();"
   ]
  },
  {
   "cell_type": "markdown",
   "metadata": {},
   "source": [
    "Since the metric is constant, minimal geodesics are straight lines toward the origin."
   ]
  },
  {
   "cell_type": "code",
   "execution_count": 32,
   "metadata": {},
   "outputs": [],
   "source": [
    "fig = plt.figure(figsize=[4,4]); plt.title('Minimal geodesics, for a constant metric'); plt.axis('equal'); \n",
    "for geo in hfmOut['geodesics']:  plt.plot(*geo) "
   ]
  },
  {
   "cell_type": "markdown",
   "metadata": {},
   "source": [
    "## 2. Application to vessel segmentation\n",
    "\n",
    "Non-symmetric metrics are well fit to extract structures possessing a preferred orientation. For instance, the contours of two dimensional objects are naturally oriented, by rotating the outward normal clockwise. See the notebook  [VI - Rander metrics](http://nbviewer.jupyter.org/urls/rawgithub.com/Mirebeau/HFM_Python_Notebooks/master/A6_Rander.ipynb)\n",
    " for a discussion on image sub-domain segmentation.\n",
    "\n",
    "In the following experiment, we illustrate a different use of non-symmetric metrics, to avoid the shortcut's problem in tubular structure segmentation. A similar effect can be achieved with the use of non-holonomic metrics penalizing curvature, such as Euler-Mumford elasticae, see [IV - Curvature penalized planar paths](http://nbviewer.jupyter.org/urls/rawgithub.com/Mirebeau/HFM_Python_Notebooks/master/A4_Curvature.ipynb). \n",
    "Curvature penalization models can be simpler to use, but are much more computationally expensive."
   ]
  },
  {
   "cell_type": "markdown",
   "metadata": {},
   "source": [
    "### 2.1 Preparation of a synthetic example"
   ]
  },
  {
   "cell_type": "code",
   "execution_count": 10,
   "metadata": {},
   "outputs": [],
   "source": [
    "def gamma(t):\n",
    "    return ad.array((xp.cos(t),0.5*xp.sin(2*t)))\n",
    "def gamma_tgt(t):\n",
    "    tX,tY = -xp.sin(t),xp.cos(2*t)\n",
    "    tN = xp.sqrt(tX**2+tY**2)\n",
    "    return ad.array((tX/tN,tY/tN))    \n",
    "def gamma_normal(t):\n",
    "    tX,tY = gamma_tgt(t)\n",
    "    return ad.array((tY,-tX))"
   ]
  },
  {
   "cell_type": "code",
   "execution_count": 11,
   "metadata": {},
   "outputs": [],
   "source": [
    "T=xp.linspace(0,2*np.pi,100)\n",
    "plt.axis('equal')\n",
    "plt.plot(*gamma(T));"
   ]
  },
  {
   "cell_type": "markdown",
   "metadata": {},
   "source": [
    "The construction of our example involves running a first fast marching."
   ]
  },
  {
   "cell_type": "code",
   "execution_count": 12,
   "metadata": {},
   "outputs": [],
   "source": [
    "isoIn = Eikonal.dictIn({\n",
    "    'model':'Isotropic2',\n",
    "    'exportValues':1,\n",
    "    'seeds':gamma(T).T, # Second T is transposition\n",
    "    'speed':1,\n",
    "    'seedValueVariation':gamma_tgt(T) # Interpolates data defined at the seeds\n",
    "})\n",
    "\n",
    "# Define the domain\n",
    "n=201\n",
    "isoIn.SetRect(sides=[[-1.1,1.1],[-0.6,0.6]],dimx=n)\n",
    "X,Y = isoIn.Grid()"
   ]
  },
  {
   "cell_type": "code",
   "execution_count": 13,
   "metadata": {},
   "outputs": [
    {
     "name": "stdout",
     "output_type": "stream",
     "text": [
      "Field verbosity defaults to 1\n",
      "Field order defaults to 1\n",
      "Field seedRadius defaults to 0\n",
      "Fast marching solver completed in 0.136622 s.\n"
     ]
    }
   ],
   "source": [
    "isoOut = isoIn.Run()"
   ]
  },
  {
   "cell_type": "markdown",
   "metadata": {},
   "source": [
    "We computed the distance to the curve, and an extension of its tangents."
   ]
  },
  {
   "cell_type": "code",
   "execution_count": 14,
   "metadata": {},
   "outputs": [],
   "source": [
    "plt.contourf(X,Y,ad.remove_ad(isoOut['values'])); plt.axis('equal');"
   ]
  },
  {
   "cell_type": "code",
   "execution_count": 15,
   "metadata": {},
   "outputs": [],
   "source": [
    "var = isoOut['values'].gradient()\n",
    "plt.quiver(X[::5,::5],Y[::5,::5],var[0,::5,::5],var[1,::5,::5]); plt.axis('equal');"
   ]
  },
  {
   "cell_type": "code",
   "execution_count": 16,
   "metadata": {},
   "outputs": [],
   "source": [
    "distGamma = ad.remove_ad(isoOut['values'])\n",
    "baseSpeed = np.exp(-(distGamma/0.1)**2)+0.1\n",
    "baseCost = 1/baseSpeed\n",
    "\n",
    "tgtGammaX,tgtGammaY = var\n",
    "tgtGammaN = np.sqrt(tgtGammaX**2+tgtGammaY**2)\n",
    "tgtGammaX,tgtGammaY = tgtGammaX/tgtGammaN,tgtGammaY/tgtGammaN"
   ]
  },
  {
   "cell_type": "code",
   "execution_count": 17,
   "metadata": {},
   "outputs": [],
   "source": [
    "plt.contourf(X,Y,baseCost); plt.axis('equal');"
   ]
  },
  {
   "cell_type": "markdown",
   "metadata": {},
   "source": [
    "### 2.2 Extraction of a tubular structure"
   ]
  },
  {
   "cell_type": "code",
   "execution_count": 18,
   "metadata": {},
   "outputs": [],
   "source": [
    "hfmIn = Eikonal.dictIn({\n",
    "    'model':'AsymmetricQuadratic2',\n",
    "    'exportValues':1,\n",
    "    'seed':[0.75,-0.5],\n",
    "    'tip':[-0.75,-0.5]\n",
    "})\n",
    "\n",
    "# Define the domain\n",
    "n=201\n",
    "hfmIn.SetRect(sides=[[-1.1,1.1],[-0.6,0.6]],dimx=n)\n",
    "X,Y = hfmIn.Grid()"
   ]
  },
  {
   "cell_type": "code",
   "execution_count": 19,
   "metadata": {},
   "outputs": [],
   "source": [
    "tubularMetric = AsymQuad(baseCost*fd.as_field(xp.eye(2),baseCost.shape), # D=baseCost*Id\n",
    "                         [5*tgtGammaX,5*tgtGammaY]) # w\n",
    "hfmIn['metric'] = tubularMetric"
   ]
  },
  {
   "cell_type": "code",
   "execution_count": 20,
   "metadata": {},
   "outputs": [
    {
     "name": "stdout",
     "output_type": "stream",
     "text": [
      "Field verbosity defaults to 1\n",
      "Field cosAngleMin defaults to 0.5\n",
      "Field refineStencilAtWallBoundary defaults to 0\n",
      "Field order defaults to 1\n",
      "Field seedRadius defaults to 0\n",
      "Fast marching solver completed in 0.558114 s.\n",
      "Field geodesicSolver defaults to Discrete\n",
      "Field geodesicStep defaults to 0.25\n",
      "Field geodesicWeightThreshold defaults to 0.001\n",
      "Field geodesicVolumeBound defaults to 8.45\n",
      "Ended Geodesic Discrete Solver\n"
     ]
    }
   ],
   "source": [
    "hfmOut = hfmIn.Run()"
   ]
  },
  {
   "cell_type": "markdown",
   "metadata": {},
   "source": [
    "The front propagates along the tubular structure. This propagation is asymmetric, since the direction proportional to the tangent is strongly penalized."
   ]
  },
  {
   "cell_type": "code",
   "execution_count": 21,
   "metadata": {},
   "outputs": [],
   "source": [
    "plt.contourf(X,Y,hfmOut['values']); plt.axis('equal');"
   ]
  },
  {
   "cell_type": "code",
   "execution_count": 22,
   "metadata": {},
   "outputs": [
    {
     "data": {
      "text/plain": [
       "[<matplotlib.lines.Line2D at 0x62026d710>]"
      ]
     },
     "execution_count": 22,
     "metadata": {},
     "output_type": "execute_result"
    }
   ],
   "source": [
    "plt.contourf(X,Y,ad.remove_ad(isoOut['values'])); plt.axis('equal')\n",
    "plt.plot(*hfmOut['geodesic'],color='red')"
   ]
  },
  {
   "cell_type": "markdown",
   "metadata": {},
   "source": [
    "Exchanging the role of the seeds and tips yields the other half of the tubular structure, thanks to the metric asymmetry."
   ]
  },
  {
   "cell_type": "code",
   "execution_count": 23,
   "metadata": {},
   "outputs": [],
   "source": [
    "hfmIn['seed'],hfmIn['tip'] = hfmIn['tip'],hfmIn['seed'] "
   ]
  },
  {
   "cell_type": "code",
   "execution_count": 24,
   "metadata": {},
   "outputs": [
    {
     "name": "stdout",
     "output_type": "stream",
     "text": [
      "Field verbosity defaults to 1\n",
      "Field cosAngleMin defaults to 0.5\n",
      "Field refineStencilAtWallBoundary defaults to 0\n",
      "Field order defaults to 1\n",
      "Field seedRadius defaults to 0\n",
      "Fast marching solver completed in 0.74869 s.\n",
      "Field geodesicSolver defaults to Discrete\n",
      "Field geodesicStep defaults to 0.25\n",
      "Field geodesicWeightThreshold defaults to 0.001\n",
      "Field geodesicVolumeBound defaults to 8.45\n",
      "Ended Geodesic Discrete Solver\n"
     ]
    }
   ],
   "source": [
    "hfmOut = hfmIn.Run()"
   ]
  },
  {
   "cell_type": "code",
   "execution_count": 25,
   "metadata": {},
   "outputs": [],
   "source": [
    "plt.contourf(X,Y,ad.remove_ad(isoOut['values'])); plt.axis('equal')\n",
    "plt.plot(*hfmOut['geodesic'],color='red');"
   ]
  },
  {
   "cell_type": "markdown",
   "metadata": {},
   "source": [
    "In contrast, a symmetric metric cannot recover such a structure, due to the shortcuts problem."
   ]
  },
  {
   "cell_type": "code",
   "execution_count": 26,
   "metadata": {},
   "outputs": [],
   "source": [
    "hfmIn['metric'] = AsymQuad(hfmIn['metric'].m,[0,0])"
   ]
  },
  {
   "cell_type": "code",
   "execution_count": 27,
   "metadata": {},
   "outputs": [
    {
     "name": "stdout",
     "output_type": "stream",
     "text": [
      "Field verbosity defaults to 1\n",
      "Field cosAngleMin defaults to 0.5\n",
      "Field refineStencilAtWallBoundary defaults to 0\n",
      "Field order defaults to 1\n",
      "Field seedRadius defaults to 0\n",
      "Fast marching solver completed in 0.73766 s.\n",
      "Field geodesicSolver defaults to Discrete\n",
      "Field geodesicStep defaults to 0.25\n",
      "Field geodesicWeightThreshold defaults to 0.001\n",
      "Field geodesicVolumeBound defaults to 8.45\n",
      "Ended Geodesic Discrete Solver\n"
     ]
    }
   ],
   "source": [
    "hfmOut = hfmIn.Run()"
   ]
  },
  {
   "cell_type": "code",
   "execution_count": 28,
   "metadata": {},
   "outputs": [],
   "source": [
    "plt.contourf(X,Y,ad.remove_ad(isoOut['values'])); plt.axis('equal')\n",
    "plt.plot(*hfmOut['geodesic'],color='red');"
   ]
  },
  {
   "cell_type": "code",
   "execution_count": 29,
   "metadata": {},
   "outputs": [],
   "source": [
    "# Save for future use\n",
    "hfmIn['metric']=tubularMetric\n",
    "tubularIn = hfmIn"
   ]
  },
  {
   "cell_type": "markdown",
   "metadata": {},
   "source": [
    "## 3. Asymmetric Rander metrics\n",
    "\n",
    "In this section, we present a highly tunable class of metrics, strongly asymmetric and anisotropic, referred to as *asymmetric Rander* metrics. They generalize both Rander metrics and asymmetric quadratic metrics, and take the following form\n",
    "$$\n",
    "    F_x(\\dot x) := \\sqrt{ \\|\\dot x\\|^2_{M(x)} + \\max\\{0,<u(x), \\dot x>\\}^2+\\max\\{0,<v(x), \\dot x>\\}^2}+<w(x), \\dot x>,\n",
    "$$\n",
    "where $M$ is a field of positive definite matrices, and $u,v,w$ are vector fields, with $w$ small enough.\n",
    "\n",
    "Clearly, asymmetric Rander metrics reduce to:\n",
    "* Riemannian metrics if $u=v=w=0$. (Or $u+v=0$ and $w=0$, why ?)\n",
    "* Asymmetric quadratic metrics if $v=w=0$.\n",
    "* Rander metrics if $u=v=0$.\n",
    "\n",
    "Using several non-zero vector fields among $u,v,w$ one can achieve anisotropies that are not realizable with the simpler metric classes, and whose uses cases are yet to be determined.\n",
    "\n",
    "**Limitations.** Fast marching with Asymmetric Rander metrics is currently only available in two dimensions, and is not GPU accelerated."
   ]
  },
  {
   "cell_type": "code",
   "execution_count": 30,
   "metadata": {},
   "outputs": [],
   "source": [
    "if xp is not np: raise ad.DeliberateNotebookError(\"Sorry, asymmetric Rander metrics are not supported by the GPU Eikonal solver\")"
   ]
  },
  {
   "cell_type": "code",
   "execution_count": 31,
   "metadata": {},
   "outputs": [],
   "source": [
    "from agd.Metrics.asym_rander import AsymRander"
   ]
  },
  {
   "cell_type": "code",
   "execution_count": 32,
   "metadata": {},
   "outputs": [],
   "source": [
    "hfmIn = Eikonal.dictIn({\n",
    "    'model':'AsymRander2',\n",
    "    'seed':(0,0),\n",
    "    'exportValues':1,\n",
    "    'factoringRadius':-1, \n",
    "    'exportGeodesicFlow':1,\n",
    "})\n",
    "hfmIn.SetRect([[-1,1],[-1,1]],dimx=101)\n",
    "X = hfmIn.Grid()"
   ]
  },
  {
   "cell_type": "markdown",
   "metadata": {},
   "source": [
    "Since we use a large factoring radius, constant metrics are reproduced up to numerical precision."
   ]
  },
  {
   "cell_type": "code",
   "execution_count": 36,
   "metadata": {},
   "outputs": [],
   "source": [
    "def check(constant_metric):\n",
    "    # Run\n",
    "    hfmIn['metric'] = constant_metric\n",
    "    hfmOut = hfmIn.Run()\n",
    "    \n",
    "    # Display\n",
    "    plt.axis('equal')\n",
    "    plt.contourf(*X,hfmOut['values'])\n",
    "    plt.scatter(0,0,color='red') # Seed position\n",
    "    \n",
    "    # Check : \n",
    "    assert np.allclose(hfmOut['values'],constant_metric.norm(X))\n",
    "    assert np.all(np.isfinite(hfmOut['flow']))\n",
    "    assert np.sum((constant_metric.norm(hfmOut['flow']) - 1)>1e-8)<12"
   ]
  },
  {
   "cell_type": "markdown",
   "metadata": {},
   "source": [
    "Choosing $u$ and $v$ as large vectors, while $w=0$, yields a metric that almost forbids motion except in the cone defined as \n",
    "$$\n",
    "    <u,\\dot x> \\leq 0 \\text{ and } <v,\\dot x> \\leq 0\n",
    "$$\n",
    "\n",
    "**Constructor of `AsymRander`.** Input arguments are $m,u,v,w$."
   ]
  },
  {
   "cell_type": "code",
   "execution_count": 37,
   "metadata": {},
   "outputs": [
    {
     "name": "stdout",
     "output_type": "stream",
     "text": [
      "Field verbosity defaults to 1\n",
      "Field cosAngleMin defaults to 0.5\n",
      "Field order defaults to 1\n",
      "Field seedRadius defaults to 2\n",
      "Field factoringPointChoice defaults to Seed\n",
      "Fast marching solver completed in 0.809479 s.\n"
     ]
    }
   ],
   "source": [
    "check( AsymRander( np.eye(2), [4.,0], [0.,4.], None ) )"
   ]
  },
  {
   "cell_type": "markdown",
   "metadata": {},
   "source": [
    "Here we choose $u=0$, while $v$ and $w$ are non-zero."
   ]
  },
  {
   "cell_type": "code",
   "execution_count": 38,
   "metadata": {},
   "outputs": [
    {
     "name": "stdout",
     "output_type": "stream",
     "text": [
      "Field verbosity defaults to 1\n",
      "Field cosAngleMin defaults to 0.5\n",
      "Field order defaults to 1\n",
      "Field seedRadius defaults to 2\n",
      "Field factoringPointChoice defaults to Seed\n",
      "Fast marching solver completed in 0.840505 s.\n"
     ]
    }
   ],
   "source": [
    "check( AsymRander( np.eye(2), None, [0.,4.], [0.5,0.] ) )"
   ]
  },
  {
   "cell_type": "markdown",
   "metadata": {},
   "source": [
    "Obviously, all three of $u,v,w$ may be zero, producing even stranger anisotropy shapes. \n",
    "\n",
    "Alternatively, as discussed above, we may reproduce an asymmetric quadratic metric by choosing $v=w=0$."
   ]
  },
  {
   "cell_type": "code",
   "execution_count": 39,
   "metadata": {},
   "outputs": [
    {
     "name": "stdout",
     "output_type": "stream",
     "text": [
      "Field verbosity defaults to 1\n",
      "Field cosAngleMin defaults to 0.5\n",
      "Field refineStencilAtWallBoundary defaults to 0\n",
      "Field order defaults to 1\n",
      "Field seedRadius defaults to 0\n",
      "Fast marching solver completed in 0.611477 s.\n",
      "Field geodesicSolver defaults to Discrete\n",
      "Field geodesicStep defaults to 0.25\n",
      "Field geodesicWeightThreshold defaults to 0.001\n",
      "Field geodesicVolumeBound defaults to 8.45\n",
      "Ended Geodesic Discrete Solver\n"
     ]
    }
   ],
   "source": [
    "asymQuadOut = tubularIn.Run()"
   ]
  },
  {
   "cell_type": "code",
   "execution_count": 40,
   "metadata": {},
   "outputs": [
    {
     "name": "stdout",
     "output_type": "stream",
     "text": [
      "Field verbosity defaults to 1\n",
      "Field cosAngleMin defaults to 0.5\n",
      "Field order defaults to 1\n",
      "Field seedRadius defaults to 0\n",
      "Fast marching solver completed in 0.984051 s.\n",
      "Field geodesicSolver defaults to Discrete\n",
      "Field geodesicStep defaults to 0.25\n",
      "Field geodesicWeightThreshold defaults to 0.001\n",
      "Field geodesicVolumeBound defaults to 8.45\n",
      "Ended Geodesic Discrete Solver\n"
     ]
    }
   ],
   "source": [
    "tubularIn2 = tubularIn.copy()\n",
    "tubularIn2.update({\n",
    "    'model':'AsymRander2',\n",
    "    'metric':AsymRander(tubularMetric.m,tubularMetric.w,None,None),\n",
    "})\n",
    "asymRanderOut = tubularIn2.Run()"
   ]
  },
  {
   "cell_type": "markdown",
   "metadata": {},
   "source": [
    "Most values (95%) are reproduced up to machine precision. "
   ]
  },
  {
   "cell_type": "code",
   "execution_count": 41,
   "metadata": {},
   "outputs": [],
   "source": [
    "assert np.sum(np.abs(asymRanderOut['values']-asymQuadOut['values'])>1e-8)/tubularIn.size < 0.05"
   ]
  },
  {
   "cell_type": "markdown",
   "metadata": {},
   "source": [
    "The difference between the non-reproduced values is rather small, yet non-zero."
   ]
  },
  {
   "cell_type": "code",
   "execution_count": 42,
   "metadata": {},
   "outputs": [],
   "source": [
    "valueDiff = np.abs(asymRanderOut['values']-asymQuadOut['values'])\n",
    "assert np.max(valueDiff) < 0.06\n",
    "assert np.mean(valueDiff) < 3e-4"
   ]
  },
  {
   "cell_type": "markdown",
   "metadata": {},
   "source": [
    "The reason some values are not exactly reproduced is because the numerical scheme involves adaptive and anisotropic stencils, which depend discontinuously on the metric. Due to numerical discretization errors, the stencil may differ at one place, and this creates a discrepancy between the numerical solutions, which is propagated in a subdomain. This behavior may be avoided by using fixed stencils, but in that case the scheme becomes more numerically expensive and less accurate."
   ]
  },
  {
   "cell_type": "code",
   "execution_count": 43,
   "metadata": {},
   "outputs": [],
   "source": [
    "plt.title(\"Places where the cost functions differ\")\n",
    "plt.contourf(valueDiff>1e-8);"
   ]
  },
  {
   "cell_type": "code",
   "execution_count": null,
   "metadata": {},
   "outputs": [],
   "source": []
  }
 ],
 "metadata": {
  "celltoolbar": "Format de la Cellule Texte Brut",
  "kernelspec": {
   "display_name": "Python 3",
   "language": "python",
   "name": "python3"
  },
  "language_info": {
   "codemirror_mode": {
    "name": "ipython",
    "version": 3
   },
   "file_extension": ".py",
   "mimetype": "text/x-python",
   "name": "python",
   "nbconvert_exporter": "python",
   "pygments_lexer": "ipython3",
   "version": "3.7.6"
  }
 },
 "nbformat": 4,
 "nbformat_minor": 2
}