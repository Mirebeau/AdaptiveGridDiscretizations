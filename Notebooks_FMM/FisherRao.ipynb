{
 "cells": [
  {
   "cell_type": "markdown",
   "metadata": {},
   "source": [
    "# The HFM library - A fast marching solver with adaptive stencils\n",
    "\n",
    "## Part : Other applications\n",
    "## Chapter : Fisher-Rao distances (statistics)\n",
    "\n",
    "The application examples presented in this notebook were suggested by Stephen Taylor,\n",
    "Assistant Professor of Finance at NJIT.\n"
   ]
  },
  {
   "cell_type": "markdown",
   "metadata": {},
   "source": [
    "## The fisher-Rao metric\n",
    "\n",
    "Consider a probability distribution, defined by a density $p(x,\\theta)$ w.r.t. some base measure denoted $\\mathrm{d} x$ on a probability space $X$. Our probability distribution also depends on a $\\theta$ within some open domain $\\Theta \\subset \\mathbb R^n$.\n",
    "The Fisher-Rao metric, or Fisher information metric, is a Riemannian metric on the parameter space $\\Theta$. It is defined as follows:\n",
    "\\begin{equation*}\n",
    "\t{\\mathcal M}(\\theta) \n",
    "    := E[\\nabla_\\theta \\ln p \\otimes \\nabla_\\theta \\ln p] \n",
    "    = \\int_X \\nabla_\\theta \\ln p(x,\\theta) \\, \\nabla_\\theta \\ln p(x,\\theta)^T \\, p(x,\\theta) \\mathrm{d} x.\n",
    "\\end{equation*}\n",
    "Interestingly, thanks to an algebraic simplification, the Fisher-Rao metric is also the negative mean of a hessian.\n",
    "\\begin{equation*}\n",
    "\t-{\\mathcal M}(\\theta) = E[\\nabla^2_\\theta \\ln p] = \\int_X \\nabla^2_\\theta \\ln p(x,\\theta) \\, p(x,\\theta) \\mathrm{d} x.\n",
    "\\end{equation*}"
   ]
  },
  {
   "cell_type": "markdown",
   "metadata": {},
   "source": [
    "[**Summary**](Summary.ipynb) of volume Fast Marching Methods, this series of notebooks.\n",
    "\n",
    "[**Main summary**](../Summary.ipynb) of the Adaptive Grid Discretizations \n",
    "\tbook of notebooks, including the other volumes.\n",
    "\n",
    "# Table of contents\n",
    "  * [1. The univariate Gaussian](#1.-The-univariate-Gaussian)\n",
    "\n",
    "\n",
    "\n",
    "This Python&reg; notebook is intended as documentation and testing for the [HamiltonFastMarching (HFM) library](https://github.com/mirebeau/HamiltonFastMarching), which also has interfaces to the Matlab&reg; and Mathematica&reg; languages. \n",
    "More information on the HFM library in the manuscript:\n",
    "* Jean-Marie Mirebeau, Jorg Portegies, \"Hamiltonian Fast Marching: A numerical solver for anisotropic and non-holonomic eikonal PDEs\", 2019 [(link)](https://hal.archives-ouvertes.fr/hal-01778322)\n",
    "\n",
    "Copyright Jean-Marie Mirebeau, University Paris-Sud, CNRS, University Paris-Saclay"
   ]
  },
  {
   "cell_type": "markdown",
   "metadata": {},
   "source": [
    "## 0. Importing the required libraries.\n",
    "\n",
    "<!---In this series of notebooks, input and output to the HamiltonFastMarching library is based on files written on the disk. This particularly simple to install, but a bit ugly and not much scalable. Alternatively direct link based on boost-python is also available, as discussed in the [summary](http://nbviewer.jupyter.org/urls/rawgithub.com/Mirebeau/HFM_Python_Notebooks/master/Summary.ipynb).--->"
   ]
  },
  {
   "cell_type": "code",
   "execution_count": 6,
   "metadata": {},
   "outputs": [],
   "source": [
    "import sys; sys.path.insert(0,\"..\") # Allow import of agd from parent directory (useless if conda package installed)\n",
    "#from Miscellaneous import TocTools; print(TocTools.displayTOC('FisherRao','FMM'))"
   ]
  },
  {
   "cell_type": "code",
   "execution_count": 7,
   "metadata": {},
   "outputs": [],
   "source": [
    "from agd import Eikonal\n",
    "from agd import Metrics\n",
    "from agd.Plotting import savefig; #savefig.dirName = 'Figures/FisherRao'"
   ]
  },
  {
   "cell_type": "code",
   "execution_count": 8,
   "metadata": {},
   "outputs": [],
   "source": [
    "import numpy as np\n",
    "import matplotlib.pyplot as plt"
   ]
  },
  {
   "cell_type": "markdown",
   "metadata": {},
   "source": [
    "### 0.1 Optional configuration\n",
    "Uncomment the following line to use the GPU eikonal solver."
   ]
  },
  {
   "cell_type": "code",
   "execution_count": 9,
   "metadata": {
    "tags": [
     "EikonalGPU_config"
    ]
   },
   "outputs": [],
   "source": [
    "#from agd import AutomaticDifferentiation as ad; Eikonal,plt = map(ad.cupy_friendly,(Eikonal,plt))"
   ]
  },
  {
   "cell_type": "markdown",
   "metadata": {},
   "source": [
    "## 1. The univariate Gaussian\n",
    "\n",
    "Gaussian distributions on the real line are determined by two parameters: their mean $\\mu$, and standard deviation $\\sigma$. The parameter is thus a pair $\\theta = (\\mu,\\sigma)$ in the half space $\\mathbb R \\times \\mathbb R^{++}$.\n",
    "\\begin{equation*}\n",
    "p(x, (\\mu,\\sigma)) := \\frac 1 {\\sqrt{2 \\pi \\sigma^2}} \\exp\\Big( - \\frac{(x-\\mu)^2}{2 \\sigma^2}\\Big).\n",
    "\\end{equation*}"
   ]
  },
  {
   "cell_type": "code",
   "execution_count": 10,
   "metadata": {},
   "outputs": [
    {
     "ename": "ModuleNotFoundError",
     "evalue": "No module named 'cupy'",
     "output_type": "error",
     "traceback": [
      "\u001b[0;31m---------------------------------------------------------------------------\u001b[0m",
      "\u001b[0;31mModuleNotFoundError\u001b[0m                       Traceback (most recent call last)",
      "Cell \u001b[0;32mIn[10], line 1\u001b[0m\n\u001b[0;32m----> 1\u001b[0m hfmIn \u001b[38;5;241m=\u001b[39m \u001b[43mEikonal\u001b[49m\u001b[38;5;241;43m.\u001b[39;49m\u001b[43mdictIn\u001b[49m\u001b[43m(\u001b[49m\u001b[43m{\u001b[49m\u001b[38;5;124;43m'\u001b[39;49m\u001b[38;5;124;43mmodel\u001b[39;49m\u001b[38;5;124;43m'\u001b[39;49m\u001b[43m:\u001b[49m\u001b[38;5;124;43m'\u001b[39;49m\u001b[38;5;124;43mRiemann2\u001b[39;49m\u001b[38;5;124;43m'\u001b[39;49m\u001b[43m}\u001b[49m\u001b[43m)\u001b[49m \u001b[38;5;66;03m# Adequate model for two dimensional Riemannian metrics.\u001b[39;00m\n",
      "File \u001b[0;32m~/Dropbox/Programmes/GithubM1/AdaptiveGridDiscretizations/Notebooks_FMM/../agd/Eikonal/DictIn.py:133\u001b[0m, in \u001b[0;36mdictIn.__init__\u001b[0;34m(self, store)\u001b[0m\n\u001b[1;32m    131\u001b[0m \u001b[38;5;28mself\u001b[39m\u001b[38;5;241m.\u001b[39m_mode \u001b[38;5;241m=\u001b[39m mode\n\u001b[1;32m    132\u001b[0m \u001b[38;5;28;01mif\u001b[39;00m \u001b[38;5;28mself\u001b[39m\u001b[38;5;241m.\u001b[39mmode \u001b[38;5;129;01min\u001b[39;00m (\u001b[38;5;124m'\u001b[39m\u001b[38;5;124mgpu\u001b[39m\u001b[38;5;124m'\u001b[39m,\u001b[38;5;124m'\u001b[39m\u001b[38;5;124mcpu_transfer\u001b[39m\u001b[38;5;124m'\u001b[39m):\n\u001b[0;32m--> 133\u001b[0m \t\u001b[38;5;28;01mimport\u001b[39;00m \u001b[38;5;21;01mcupy\u001b[39;00m \u001b[38;5;28;01mas\u001b[39;00m \u001b[38;5;21;01mcp\u001b[39;00m\n\u001b[1;32m    134\u001b[0m \t\u001b[38;5;28mself\u001b[39m\u001b[38;5;241m.\u001b[39mxp \u001b[38;5;241m=\u001b[39m cp\n\u001b[1;32m    135\u001b[0m \tcaster \u001b[38;5;241m=\u001b[39m \u001b[38;5;28;01mlambda\u001b[39;00m x : cp\u001b[38;5;241m.\u001b[39masarray(x,dtype\u001b[38;5;241m=\u001b[39mfloat_t)\n",
      "\u001b[0;31mModuleNotFoundError\u001b[0m: No module named 'cupy'"
     ]
    }
   ],
   "source": [
    "hfmIn = Eikonal.dictIn({'model':'Riemann2'}) # Adequate model for two dimensional Riemannian metrics."
   ]
  },
  {
   "cell_type": "markdown",
   "metadata": {},
   "source": [
    "In this notebook, we compute distance maps and minimal geodesics for this metric, on the subdomain \n",
    "$[-2,2] \\times [0,1]$, that we discretize on a $4n \\times n$ grid."
   ]
  },
  {
   "cell_type": "code",
   "execution_count": null,
   "metadata": {},
   "outputs": [],
   "source": [
    "# Create the parameter space\n",
    "n=100\n",
    "hfmIn.SetRect(sides=[[-2,2],[0,1]],dimx=4*n)\n",
    "mu,sig = hfmIn.Grid()"
   ]
  },
  {
   "cell_type": "markdown",
   "metadata": {},
   "source": [
    "The Fisher-Rao metric has a simple and explicit expression:\n",
    "\\begin{equation*}\n",
    "    \\mathcal M(\\theta) := \n",
    "    \\frac 1 {\\sigma^2}\n",
    "    \\begin{pmatrix}\n",
    "    1 & 0 \\\\\n",
    "    0 & 2\n",
    "    \\end{pmatrix}.\n",
    "\\end{equation*}"
   ]
  },
  {
   "cell_type": "code",
   "execution_count": null,
   "metadata": {},
   "outputs": [],
   "source": [
    "hfmIn['metric'] = Metrics.Riemann.from_diagonal((1/sig**2, 2/sig**2))                       \n",
    "# In view of the specific form of the metric, the simpler model Isotropic2 would also have fitted."
   ]
  },
  {
   "cell_type": "markdown",
   "metadata": {},
   "source": [
    "We next set the seed for our front propagation, and the tips from where geodesics are backtracked."
   ]
  },
  {
   "cell_type": "code",
   "execution_count": null,
   "metadata": {},
   "outputs": [],
   "source": [
    "hfmIn['seed'] = [0,0.3] # A single seed\n",
    "hfmIn.SetUniformTips((4,3))"
   ]
  },
  {
   "cell_type": "code",
   "execution_count": null,
   "metadata": {},
   "outputs": [],
   "source": [
    "hfmIn['exportValues'] = 1\n",
    "hfmIn['order'] = 2"
   ]
  },
  {
   "cell_type": "code",
   "execution_count": null,
   "metadata": {},
   "outputs": [],
   "source": [
    "hfmOut = hfmIn.Run()"
   ]
  },
  {
   "cell_type": "code",
   "execution_count": null,
   "metadata": {},
   "outputs": [],
   "source": [
    "fig = plt.figure(figsize=[6,3]); plt.title('Fisher-Rao distance and minimal geodesics'); plt.axis('equal'); \n",
    "plt.contourf(mu,sig,hfmOut['values'],cmap='Greys',levels=np.linspace(0,3,7));  # Display the value function. \n",
    "for geo in hfmOut['geodesics']:  plt.plot(*geo) \n",
    "savefig(fig,\"FisherRao_Gaussian1D.png\")"
   ]
  },
  {
   "cell_type": "markdown",
   "metadata": {},
   "source": [
    "Interestingly, by a suitable rescaling of the axes, the level lines of the distance function, and the geodesics, are turned into (euclidean) circles."
   ]
  },
  {
   "cell_type": "code",
   "execution_count": null,
   "metadata": {},
   "outputs": [],
   "source": [
    "rho = 1./np.sqrt(2)\n",
    "fig = plt.figure(figsize=[6,3]); plt.title('Fisher-Rao distance with rescaled axes'); plt.axis('equal'); \n",
    "plt.contourf(rho*mu,sig,hfmOut['values'],cmap='Greys',levels=np.linspace(0,3,7));  # Display the value function.\n",
    "for geo in hfmOut['geodesics']:  plt.plot(rho*geo[0],geo[1]) "
   ]
  },
  {
   "cell_type": "code",
   "execution_count": null,
   "metadata": {},
   "outputs": [],
   "source": []
  }
 ],
 "metadata": {
  "celltoolbar": "Format de la Cellule Texte Brut",
  "kernelspec": {
   "display_name": "Python 3 (ipykernel)",
   "language": "python",
   "name": "python3"
  },
  "language_info": {
   "codemirror_mode": {
    "name": "ipython",
    "version": 3
   },
   "file_extension": ".py",
   "mimetype": "text/x-python",
   "name": "python",
   "nbconvert_exporter": "python",
   "pygments_lexer": "ipython3",
   "version": "3.12.1"
  }
 },
 "nbformat": 4,
 "nbformat_minor": 4
}
