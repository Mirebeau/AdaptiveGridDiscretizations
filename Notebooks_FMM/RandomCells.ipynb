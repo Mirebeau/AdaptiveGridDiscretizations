{
 "cells": [
  {
   "cell_type": "markdown",
   "id": "15d2f55b",
   "metadata": {},
   "source": [
    "# The HFM library - A fast marching solver with adaptive stencils\n",
    "\n",
    "## Part : Seismology and crystallography\n",
    "## Chapter : Generating cells of various anisotropies and sizes\n",
    "$\n",
    "\\def\\<{\\langle}\n",
    "\\def\\>{\\rangle}\n",
    "$"
   ]
  },
  {
   "cell_type": "markdown",
   "id": "e695302b",
   "metadata": {},
   "source": [
    "In this notebook, we illustrate how an eikonal solver can be use to partition a domain into random cells of various anisotropies and sizes. \n",
    "\n",
    "We essentially compute the generalized Appolonius diagram whose regions are defined as \n",
    "$$\n",
    "    V_i = \\{x \\in \\Omega | \\forall j\\in I, |x-x_i|_{M_i} + t_i < |x-x_j|_{M_j} + t_j \\}\n",
    "$$\n",
    "where the domain $\\Omega$, the points $x_i\\in \\Omega$, the matrices $M_i\\in S_d^{++}$, and the times $t_i$ are given, for all $i$ in a finite set $I$. (Minor details differ, but this is the idea.) \n",
    "We also discuss the analogy with crystal growth, and the related annealing process.\n",
    "\n",
    "This notebook is inspired by the talk entitled *Optimal transport problems in microstructure modelling* given by David Bourne at the workshop entitled *optimal transport theory and application to physics* Ecole de Physique de Houches. All inaccurracies mine."
   ]
  },
  {
   "cell_type": "markdown",
   "id": "37f7146f",
   "metadata": {},
   "source": [
    "[**Summary**](Summary.ipynb) of volume Fast Marching Methods, this series of notebooks.\n",
    "\n",
    "[**Main summary**](../Summary.ipynb) of the Adaptive Grid Discretizations \n",
    "\tbook of notebooks, including the other volumes.\n",
    "\n",
    "# Table of contents\n",
    "  * [1. A crystalization model](#1.-A-crystalization-model)\n",
    "  * [2. Annealing](#2.-Annealing)\n",
    "\n",
    "\n",
    "\n",
    "This Python&reg; notebook is intended as documentation and testing for the [HamiltonFastMarching (HFM) library](https://github.com/mirebeau/HamiltonFastMarching), which also has interfaces to the Matlab&reg; and Mathematica&reg; languages. \n",
    "More information on the HFM library in the manuscript:\n",
    "* Jean-Marie Mirebeau, Jorg Portegies, \"Hamiltonian Fast Marching: A numerical solver for anisotropic and non-holonomic eikonal PDEs\", 2019 [(link)](https://hal.archives-ouvertes.fr/hal-01778322)\n",
    "\n",
    "Copyright Jean-Marie Mirebeau, University Paris-Sud, CNRS, University Paris-Saclay"
   ]
  },
  {
   "cell_type": "markdown",
   "id": "e0f3fd6a",
   "metadata": {},
   "source": [
    "# 0. Importing the required libraries"
   ]
  },
  {
   "cell_type": "code",
   "execution_count": 2,
   "id": "55f9d2ec",
   "metadata": {},
   "outputs": [],
   "source": [
    "import sys; sys.path.insert(0,\"..\") # Allow import of agd from parent directory (useless the package is installed)"
   ]
  },
  {
   "cell_type": "code",
   "execution_count": 2,
   "id": "b6c501a4",
   "metadata": {},
   "outputs": [],
   "source": [
    "import numpy as np; xp=np\n",
    "from matplotlib import pyplot as plt"
   ]
  },
  {
   "cell_type": "code",
   "execution_count": 3,
   "id": "5fd4722f",
   "metadata": {},
   "outputs": [],
   "source": [
    "from agd import Metrics\n",
    "from agd import Eikonal"
   ]
  },
  {
   "cell_type": "markdown",
   "id": "d79b03d0",
   "metadata": {},
   "source": [
    "### 0.1 Configuration\n",
    "\n",
    "**Domain dimension.** The numerical experiments presented in this notebook are two dimensional, but could easily be extended to three dimensions. Change the constants below to test large cases."
   ]
  },
  {
   "cell_type": "code",
   "execution_count": 1,
   "id": "610a4608",
   "metadata": {},
   "outputs": [],
   "source": [
    "seeds_n = 400 # Number of nucleation seed points \n",
    "Nx = 200 # Dimension of the grid (number of pixels on each side)\n",
    "verbosity = 1 # Use 0 to silent output from the eikonal solver\n",
    "#seeds_n = 40000; Nx = 2000 # Uncomment for larger test case"
   ]
  },
  {
   "cell_type": "markdown",
   "id": "c0418ffb",
   "metadata": {},
   "source": [
    "**GPU acceleration.** Unsupported for now. (The GPU solver does not compute Voronoi cells.)\n",
    "\n",
    "<!---\n",
    "Uncomment the following line to use the GPU eikonal solver, for instance if you use Google Colab (do not forget to require a GPU in the notebook settings). Note that, besides this solver, the rest of this notebook runs on the CPU.\n",
    "\n",
    "Tag : EikonalGPU_config\n",
    "#Eikonal.dictIn.default_mode = 'gpu_transfer'\n",
    "--->"
   ]
  },
  {
   "cell_type": "markdown",
   "id": "a2aa3f2e",
   "metadata": {},
   "source": [
    "## 1. A crystalization model\n",
    "\n",
    "We consider a material which is about to crystallize. At random times, and random points in the material, a crystallization process starts and propagates. "
   ]
  },
  {
   "cell_type": "code",
   "execution_count": 5,
   "id": "48f6eb90",
   "metadata": {},
   "outputs": [],
   "source": [
    "np.random.seed(42)\n",
    "vdim = 2 # vector space dimension\n",
    "seeds_p = np.random.rand(vdim,seeds_n) # Position of the seeds (uniform in [0,1]^2)\n",
    "\n",
    "# The n**(-1/d) scaling of the nucleation times avoids having too many empty regions,\n",
    "# assuming a domain of diameter approx 1, and a propagation speed approx 1.\n",
    "seeds_tmax = seeds_n**(-1/vdim) # Latest considered nucleation start time. \n",
    "seeds_t = seeds_tmax*np.random.rand(seeds_n) # Nucleation start time\n",
    "\n",
    "seeds_f = np.arange(seeds_n) # Index used for the Voronoi diagram.\n",
    "seeds_c = np.random.rand(seeds_n,3) # Color of each seed, uniform in [0,1]^3\n",
    "\n",
    "seeds_data = {\n",
    "    'number':seeds_n,\n",
    "    'position':seeds_p,\n",
    "    'time':seeds_t,\n",
    "    'flag':seeds_f, \n",
    "    'color':seeds_c,\n",
    "}"
   ]
  },
  {
   "cell_type": "markdown",
   "id": "4c973c5d",
   "metadata": {},
   "source": [
    "Crystallization is an anisotropic physical process, which reflects the atomic layout, and the crytal front starting at a given nucleation site is thus modeled has having unit speed w.r.t. a randomly chosen metric. \n",
    "\n",
    "For simplicity, we will randomly choose among a finite number of constant Riemannian metrics. \n",
    "Various alternative modeling choices could be considered here, possibly more physical, such as : \n",
    "* **crystalline** metrics, defined as $F(v) = \\max_{p \\in P} \\<p,v\\>$. However these metrics are currently not implemented in the AGD and the HFM solvers, but could be added quite easily. \n",
    "* **random rotations**, with uniformly distributed angle $\\theta \\in [0,2 \\pi]$, for the nucleation sites. More generally, a different metric for each nucleation site. However using infinitely many classes of metrics, or a very large number of them, would make the numerical implementation below less efficient in the present form. (There are several optimization opportunities to make this work if needed.)"
   ]
  },
  {
   "cell_type": "code",
   "execution_count": 6,
   "id": "737195a1",
   "metadata": {},
   "outputs": [],
   "source": [
    "# Metrics dictate the nucleation front speed\n",
    "metrics = [ \n",
    "    Metrics.Isotropic(2,vdim=2), # Cost given as input. Speed = 1/cost.\n",
    "    Metrics.Diagonal([0.4,1]), # Cost along each axis given as input. \n",
    "    Metrics.Riemann.from_diagonal([0.4**2,1]).rotate_by(np.pi/3), # Cost**2 (!) along each axis given as input\n",
    "]\n",
    "metrics_n = len(metrics)\n",
    "\n",
    "# Choose one metric, aka a crystallization mode, for each seed point\n",
    "metrics_p = [4.,1.,1.] # Define the relative probability of each metric\n",
    "metrics_p=np.array(metrics_p)/np.sum(metrics_p) # Normalization of probabilities\n",
    "flags_m = np.random.choice(range(metrics_n),1+np.max(seeds_f), p=metrics_p)\n",
    "\n",
    "seeds_data.update({\n",
    "    'flag_metric':flags_m,\n",
    "    'metric_data':metrics,\n",
    "})"
   ]
  },
  {
   "cell_type": "code",
   "execution_count": 7,
   "id": "e835fd90",
   "metadata": {},
   "outputs": [],
   "source": [
    "θs = np.linspace(0,2*np.pi,200)\n",
    "unitvecs = np.array([np.cos(θs),np.sin(θs)])\n",
    "plt.title(\"Crystallized region after at time t=1\")\n",
    "plt.axis('equal')\n",
    "for metric in metrics:\n",
    "    plt.plot(*unitvecs/metric.norm(unitvecs))"
   ]
  },
  {
   "cell_type": "markdown",
   "id": "92dc7c52",
   "metadata": {},
   "source": [
    "We run the fast marching once for each metric, since the library cannot dynamically switch between different metrics depending on e.g. the closest seed point."
   ]
  },
  {
   "cell_type": "code",
   "execution_count": 8,
   "id": "52c013c2",
   "metadata": {},
   "outputs": [],
   "source": [
    "def imshow(im,ax=plt):\n",
    "    \"\"\"Show an image with an axes convention compatible with plt.scatter\"\"\"\n",
    "    ax.imshow(im.swapaxes(0,1),origin='lower')"
   ]
  },
  {
   "cell_type": "code",
   "execution_count": 9,
   "id": "40052122",
   "metadata": {},
   "outputs": [],
   "source": [
    "fig, axs = plt.subplots(figsize=[14,4],ncols=metrics_n)\n",
    "for m,(metric,ax) in enumerate(zip(metrics,axs)):\n",
    "    which = (flags_m[seeds_f] == m)\n",
    "    eikIn = Eikonal.dictIn({\n",
    "        'metric':metric,\n",
    "        'model':metric.model_HFM(),\n",
    "        'seeds':seeds_p[:,which].T,\n",
    "        'seedValues':seeds_t[which],\n",
    "        'seedFlags':seeds_f[which],\n",
    "        'dims':(Nx,Nx),\n",
    "        'gridScale':1/Nx,\n",
    "        'exportValues':True,\n",
    "        'verbosity':verbosity,\n",
    "    })\n",
    "    eikOut = eikIn.Run()\n",
    "    \n",
    "    vor = eikOut['voronoiFlags'].astype(int)\n",
    "    imshow(seeds_c[vor],ax)\n",
    "    ax.scatter(*eikIn['seeds'].T*Nx)\n",
    "    ax.set_title(metric.model_HFM())"
   ]
  },
  {
   "cell_type": "markdown",
   "id": "8d6f1122",
   "metadata": {},
   "source": [
    "In order to get a usable result, we need to merge the three Voronoi diagrams into a single one.\n",
    "We bundle this into a function."
   ]
  },
  {
   "cell_type": "code",
   "execution_count": 10,
   "id": "908c78f1",
   "metadata": {},
   "outputs": [],
   "source": [
    "def crystal_regions(seeds_data):\n",
    "    seeds_n,seeds_p,seeds_t,seeds_f,flag_m,metrics = [\n",
    "        seeds_data[e] for e in ('number','position','time','flag','flag_metric','metric_data')]\n",
    "    \n",
    "    def make_eikIn(metric,which):\n",
    "        \"\"\"Prepare the input of the fast marching method\"\"\"\n",
    "        return Eikonal.dictIn({\n",
    "            'metric':metric,\n",
    "            'model':metric.model_HFM(),\n",
    "            'seeds':seeds_p[:,which].T,\n",
    "            'seedValues':seeds_t[which],\n",
    "            'seedFlags':seeds_f[which],\n",
    "            'dims':(Nx,Nx),\n",
    "            'gridScale':1/Nx,\n",
    "            'exportValues':True,\n",
    "            'verbosity':verbosity,\n",
    "        })    \n",
    "    \n",
    "    vors = []\n",
    "    vals = []\n",
    "    for m,metric in enumerate(metrics):\n",
    "        which = (flag_m[seeds_f] == m)\n",
    "        eikIn = make_eikIn(metric,which)\n",
    "        eikOut = eikIn.Run()\n",
    "        \n",
    "        vors.append(eikOut['voronoiFlags'].astype(int))\n",
    "        vals.append(eikOut['values'])\n",
    "    \n",
    "    # Merge the Voronoi regions, using the minimal distance\n",
    "    val = np.min(vals,axis=0) # Voronoi regions are defined by the smallest arrival time\n",
    "    active = np.argmin(vals,axis=0) \n",
    "    vor = np.take_along_axis(np.array(vors),active[None],axis=0).squeeze(axis=0)\n",
    "    \n",
    "    # Find the boundaries of the regions \n",
    "    bd = np.full_like(vor,False,dtype=bool)\n",
    "    for i in range(vor.ndim):\n",
    "        bd |= np.roll(vor, 1,axis=i)!=vor\n",
    "        bd |= np.roll(vor,-1,axis=i)!=vor\n",
    "            \n",
    "    return {'vor':vor,'val':val,'vors':vors,'vals':vals,'bd':bd,'metric_index':flag_m[vor]}"
   ]
  },
  {
   "cell_type": "code",
   "execution_count": 11,
   "id": "fead4b91",
   "metadata": {},
   "outputs": [],
   "source": [
    "crystal_data = crystal_regions(seeds_data)"
   ]
  },
  {
   "cell_type": "markdown",
   "id": "126a86e2",
   "metadata": {},
   "source": [
    "We can see, as desired, many small isotropic regions, a number of large horizontal regions, and a number of large tilted regions, corresponding to the three crystallization modes.\n",
    "\n",
    "**Note on a bug/artifact related to empty regions.**\n",
    "The HFM library freezes values associated with seed points. For the present application, this is a bit annoying and unphysical. It means that if a region is crystallized at some time, but a nucleation site needs to appear at a later time, then the site is not rejected but instead exists on the scale of a single pixel.\n",
    "\n",
    "Note however that it would not be hard to weed out these single isolated pixels using a suitable post-processing step. In addition, they are 'melted' anyway in the annealing process described in the next section.\n"
   ]
  },
  {
   "cell_type": "code",
   "execution_count": 12,
   "id": "893d2107",
   "metadata": {},
   "outputs": [],
   "source": [
    "plt.title(\"Crystal regions colored by type\")\n",
    "imshow( np.where(crystal_data['bd'],-1,crystal_data['metric_index']) )"
   ]
  },
  {
   "cell_type": "markdown",
   "id": "23d04f5b",
   "metadata": {},
   "source": [
    "## 2. Annealing\n",
    "\n",
    "The process described above generates many very small regions. \n",
    "In order to have a smaller set of larger regions, with more consistent sizes, we can implement the process of annealing : \n",
    "- melt the boundaries of the regions.\n",
    "- restart crystallization from the non-melted parts of the domain."
   ]
  },
  {
   "cell_type": "code",
   "execution_count": 13,
   "id": "6ccdebd6",
   "metadata": {},
   "outputs": [],
   "source": [
    "def merge_metrics(metric_data,metric_index):\n",
    "    \"\"\"Merge different metrics into a common (Riemannian) one.\"\"\"\n",
    "    ind = metric_index\n",
    "    merged = np.full((ind.ndim,ind.ndim)+ind.shape,np.nan) # Merged Riemannian tensor\n",
    "    for m,metric in enumerate(metric_data):\n",
    "        merged[:,:,ind==m] = Metrics.Riemann.from_cast(metric).m[:,:,None]\n",
    "    return Metrics.Riemann(merged)"
   ]
  },
  {
   "cell_type": "code",
   "execution_count": 16,
   "id": "381039e0",
   "metadata": {},
   "outputs": [],
   "source": [
    "mtest = merge_metrics(seeds_data['metric_data'], crystal_data['metric_index'])\n",
    "plt.title(\"First component of the merged Riemannian metric\")\n",
    "imshow(mtest.m[0,0])"
   ]
  },
  {
   "cell_type": "code",
   "execution_count": 17,
   "id": "1d7391fb",
   "metadata": {},
   "outputs": [],
   "source": [
    "def melt(seeds_data,crystal_data,melt_metric,melt_time):\n",
    "    \"\"\"Returns the melting time of the different points in the domain, \n",
    "    assuming melting starts from the domain boundaries\"\"\"\n",
    "    \n",
    "    # Compute the melted region\n",
    "    seeds = (np.array(crystal_data['bd'].nonzero())+0.5)/Nx # Seeds on the boundaries of the regions\n",
    "    eikIn = Eikonal.dictIn({\n",
    "        'metric':melt_metric,\n",
    "        'model':melt_metric.model_HFM(),\n",
    "        'dims':(Nx,Nx),\n",
    "        'gridScale':1/Nx,\n",
    "        'seeds':seeds.T,\n",
    "        'exportValues':True,\n",
    "        'verbosity':verbosity,\n",
    "    })\n",
    "    eikOut = eikIn.Run()\n",
    "    melted = eikOut['values']<melt_time\n",
    "    intact = np.logical_not(melted)\n",
    "    \n",
    "    # Generate the new seed data\n",
    "    seeds_n2 = np.sum(intact)\n",
    "    seeds_data2 = {\n",
    "        'number':seeds_n2,\n",
    "        'position': (np.array(intact.nonzero())+0.5)/Nx, # Seeds everywhere in the intact region\n",
    "        'time':np.zeros(seeds_n2),\n",
    "        'flag': crystal_data['vor'][intact],\n",
    "        'flag_metric': seeds_data['flag_metric'],\n",
    "        'metric_data':seeds_data['metric_data'],\n",
    "    }\n",
    "    return {'melted':melted,'eikOut':eikOut,'seeds_data2':seeds_data2}"
   ]
  },
  {
   "cell_type": "markdown",
   "id": "e412310d",
   "metadata": {},
   "source": [
    "We assume here that the **crystals melt as fast as they grow**."
   ]
  },
  {
   "cell_type": "code",
   "execution_count": 18,
   "id": "5e1c6799",
   "metadata": {},
   "outputs": [],
   "source": [
    "melt_metric = merge_metrics(seeds_data['metric_data'], crystal_data['metric_index'])\n",
    "melt_data = melt(seeds_data,crystal_data,melt_metric,0.2*seeds_tmax)"
   ]
  },
  {
   "cell_type": "code",
   "execution_count": 19,
   "id": "de88b089",
   "metadata": {},
   "outputs": [],
   "source": [
    "fig,(ax0,ax1) = plt.subplots(figsize=[12,5],ncols=2)\n",
    "\n",
    "ax0.set_title(\"Melted region\")\n",
    "imshow(melt_data['melted'],ax0)\n",
    "\n",
    "ax1.set_title(\"New crystal seeds\")\n",
    "s2 = melt_data['seeds_data2']\n",
    "ax1.scatter(*s2['position'],c=s2['flag_metric'][s2['flag']]) \n",
    "ax1.axis('equal');"
   ]
  },
  {
   "cell_type": "markdown",
   "id": "d62e9907",
   "metadata": {},
   "source": [
    "Let us regrow the crystal from the new seeds."
   ]
  },
  {
   "cell_type": "code",
   "execution_count": 20,
   "id": "347a9189",
   "metadata": {},
   "outputs": [],
   "source": [
    "crystal_data2 = crystal_regions(melt_data['seeds_data2'])"
   ]
  },
  {
   "cell_type": "code",
   "execution_count": 21,
   "id": "0a1e1c33",
   "metadata": {},
   "outputs": [],
   "source": [
    "fig, (ax0,ax1) = plt.subplots(figsize=[12,5],ncols=2)\n",
    "ax0.set_title(\"Before annealing\")\n",
    "imshow( np.where(crystal_data['bd'],-1,crystal_data['metric_index']),ax0 )\n",
    "ax1.set_title(\"After annealing\")\n",
    "imshow( np.where(crystal_data2['bd'],-1,crystal_data2['metric_index']),ax1 )"
   ]
  },
  {
   "cell_type": "markdown",
   "id": "ac3e00f1",
   "metadata": {},
   "source": [
    "Alternatively, we can assume that *the melting process has the same speed for all crystal types*."
   ]
  },
  {
   "cell_type": "code",
   "execution_count": 22,
   "id": "e7787f0a",
   "metadata": {},
   "outputs": [],
   "source": [
    "melt_metric = metrics[0] # The melting metric\n",
    "melt_data = melt(seeds_data,crystal_data,melt_metric,0.4*seeds_tmax)"
   ]
  },
  {
   "cell_type": "code",
   "execution_count": 23,
   "id": "3d470d41",
   "metadata": {},
   "outputs": [],
   "source": [
    "fig,(ax0,ax1) = plt.subplots(figsize=[12,5],ncols=2)\n",
    "\n",
    "ax0.set_title(\"Melted region\")\n",
    "imshow(melt_data['melted'],ax0)\n",
    "\n",
    "ax1.set_title(\"New crystal seeds\")\n",
    "s2 = melt_data['seeds_data2']\n",
    "ax1.scatter(*s2['position'],c=s2['flag_metric'][s2['flag']]) \n",
    "ax1.axis('equal');"
   ]
  },
  {
   "cell_type": "code",
   "execution_count": 24,
   "id": "9b9c0b27",
   "metadata": {},
   "outputs": [],
   "source": [
    "crystal_data2 = crystal_regions(melt_data['seeds_data2'])"
   ]
  },
  {
   "cell_type": "code",
   "execution_count": 25,
   "id": "513ab5db",
   "metadata": {},
   "outputs": [],
   "source": [
    "fig, (ax0,ax1) = plt.subplots(figsize=[12,5],ncols=2)\n",
    "ax0.set_title(\"Before annealing\")\n",
    "imshow( np.where(crystal_data['bd'],-1,crystal_data['metric_index']),ax0 )\n",
    "ax1.set_title(\"After annealing\")\n",
    "imshow( np.where(crystal_data2['bd'],-1,crystal_data2['metric_index']),ax1 )"
   ]
  },
  {
   "cell_type": "code",
   "execution_count": null,
   "id": "232e1940",
   "metadata": {},
   "outputs": [],
   "source": []
  }
 ],
 "metadata": {
  "celltoolbar": "Raw Cell Format",
  "kernelspec": {
   "display_name": "Python 3 (ipykernel)",
   "language": "python",
   "name": "python3"
  },
  "language_info": {
   "codemirror_mode": {
    "name": "ipython",
    "version": 3
   },
   "file_extension": ".py",
   "mimetype": "text/x-python",
   "name": "python",
   "nbconvert_exporter": "python",
   "pygments_lexer": "ipython3",
   "version": "3.11.0"
  }
 },
 "nbformat": 4,
 "nbformat_minor": 5
}