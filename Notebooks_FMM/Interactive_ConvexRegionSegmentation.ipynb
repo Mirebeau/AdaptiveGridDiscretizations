{
 "cells": [
  {
   "cell_type": "markdown",
   "id": "3dd10406",
   "metadata": {},
   "source": [
    "# The HFM library - A fast marching solver with adaptive stencils\n",
    "\n",
    "## Part : Image models and segmentation\n",
    "## Chapter : Geodesic models with convexity shape prior (Interactive)"
   ]
  },
  {
   "cell_type": "markdown",
   "id": "bd573447",
   "metadata": {},
   "source": [
    "We consider variants of the curvature penalized path models which enforce convexity. They are obtained by simple modifications of the Hamiltonian of the eikonal PDE, which only propagate the front in the direction of increasing angles. In addition, a wall can be introduced in the computational domain to ensure that the angle does not increase by more than $2 \\pi$.\n",
    "\n",
    "In a preliminary section, we illustrate these models in free space. Afterwards, they are used to segment a region in an image with a convex shape prior.\n",
    "\n",
    "Reference:\n",
    "- Chen, D., Mirebeau, J.-M., Shu, M., Tai, X., and Cohen, L. D. (2021). *Geodesic Models with Convexity Shape Prior*. [arXiv Preprint](https://arxiv.org/abs/2111.00794)"
   ]
  },
  {
   "cell_type": "markdown",
   "id": "b1cd09e4",
   "metadata": {},
   "source": [
    "### Mathematical background\n",
    "\n",
    "We consider geodesic models on the positions-orientations space $\\Omega \\times S^1$, where $\\Omega \\subset R^2$ is the physical domain. They are defined in terms of an orientation dependent Hamiltonian $H$, and of a ground cost function $c$:\n",
    "$$\n",
    "    H_\\theta (\\hat x,\\hat p)\\qquad c(x,\\theta),\n",
    "$$\n",
    "for any point $(x,\\theta) \\in \\Omega\\times S^1$ and any co-tangent vector $(\\hat x,\\hat \\theta) \\in R^2 \\times R$.\n",
    "\n",
    "The corresponding generalized eikonal equation reads: find a viscosity solution $u : \\Omega \\times S^1 \\to R$ obeying\n",
    "$$\n",
    "    H_\\theta(\\nabla_x u,\\partial_\\theta u) = c(x,\\theta),\n",
    "$$\n",
    "except for a point source condition $u(x_0,\\theta_0) = 0$, and with outflow boundary conditions on $\\partial \\Omega \\times S^1$. This PDE is numerically solved using an adequate finite differences scheme, and once this is done the corresponding minimal paths can be backtracked. See the reference given in the introduction for details.\n",
    "\n",
    "**Vanishing directions of the Hamiltonian**\n",
    "The chosen Hamiltonians $H$ are non-negative, but vanish in specific directions, which prevents the front from propagating this way. \n",
    "This can be interpreted in the context of vehicle modeling. In the following, we denote $e(\\theta) := (\\cos\\theta,\\sin\\theta)$.\n",
    "- $H_\\theta(\\pm e(\\theta)^\\perp,0) = 0$. No transversal motion : the vehicle can only move in the orientation that it is heading to.\n",
    "- $H_\\theta(- e(\\theta),0) = 0$. No reverse gear : the vehicle can only move forward.\n",
    "- $H_\\theta(0,-1) = 0$. No right turns : the vehicle can only turn left, hence it locally follows the boundary of a counter-clockwise convex shape.\n",
    "\n",
    "**Lagrangian, and sub-Finsler geodesic metric**\n",
    "The Lagrangian $L_\\theta$ is obtained from the Hamiltonian $H_\\theta$ by Legendre-Fenchel duality. The geodesic metric  of the model is then $F_\\theta := \\sqrt{2L_\\theta}$. Interestingly, for the models considered in the following paragraph, the Lagrangian and the metric admit a closed form expression, which is provided in the cited reference. "
   ]
  },
  {
   "cell_type": "markdown",
   "id": "a91fb699",
   "metadata": {},
   "source": [
    "### Models of interest\n",
    "\n",
    "We consider variants of the Reeds-Shepp forward-only car, Euler-Mumford elastica, and Dubins vehicle. \n",
    "The parameter $\\xi$ should be regarded as a typical radius of curvature, and dictates the intensity of curvature penalization.\n",
    "\n",
    "**Convex Reeds-Shepp forward model.**\n",
    "It is defined by the Hamiltonian\n",
    "$$\n",
    "    2 H_\\theta(\\hat x,\\hat \\theta) :=  <\\hat x,e(\\theta)>_+^2 + \\xi^{-2} \\hat \\theta_+^2,\n",
    "$$\n",
    "where $(x,\\theta) \\in R^2 \\times S^1$ is the current state, $(\\hat x,\\hat \\theta)$ is a co-vector at this point, and $e(\\theta) := (\\cos \\theta ,\\sin \\theta)$.\n",
    "\n",
    "For comparison, the Hamiltonian of the usual Reeds-Shepp model is defined by a similar expression, except for the term $\\hat \\theta^2$ (in place of $\\hat \\theta_+^2).\n",
    "\n",
    "The geodesics of the convex Reeds-Shepp model may feature straight segments, and angles.\n",
    "\n",
    "**Convex Euler-Mumford elastica model.**\n",
    "It is defined by the Hamiltonian \n",
    "$$\n",
    "    H_\\theta(\\hat p) = \\frac 3 8 \\int_0^{\\pi/2} <\\hat p,e(\\theta,\\phi)>_+^2 \\cos \\phi\\, d \\phi. \n",
    "$$\n",
    "where $(x,\\theta) \\in R^2 \\times S^1$ is the current state, $\\hat p = (\\hat x,\\hat \\theta)$ is a co-vector at this point, and $e(\\theta,\\phi) := (\\cos \\theta \\cos \\phi,\\sin \\theta\\cos \\phi,\\xi^{-1}\\sin\\phi)$.\n",
    "\n",
    "For comparison, the Hamiltonian of the usual Euler-Mumford elastica model is defined by a similar expression where the integral ranges over $[-\\pi/2,\\pi/2]$.\n",
    "\n",
    "The geodesics of the convex elastica model *cannot* feature straight segments, and *cannot* feature angles. Both have a cost of $+\\infty$.\n",
    "\n",
    "**Convex Dubins model.**\n",
    "It is defined by the Hamiltonian\n",
    "$$\n",
    "    2 H_\\theta(\\hat x,\\hat \\theta) = \\max\\{<\\hat x,e(\\theta)> + \\xi^{-1} \\hat \\theta,\\ <\\hat x,e(\\theta)>\\}^2\n",
    "$$\n",
    "\n",
    "The geodesics of the convex Dubins model can feature straight segments, but *cannot* feature angles. In fact, the radius of curvature of these trajectories is bounded below by $\\xi$.\n",
    "\n",
    "\n",
    "**Summary of geometrical properties,** which can be of interest for region segmentation. (Eg: smooth region, polygonal region, etc)\n",
    "\n",
    "|Convex variant|Reeds-Shepp|Elastica|Dubins|\n",
    "|-|-|-|-|\n",
    "|Straight segments|Yes|No|Yes|\n",
    "|Angles|Yes|No|No|\n",
    "\n"
   ]
  },
  {
   "cell_type": "markdown",
   "id": "5c6e0bfb",
   "metadata": {},
   "source": [
    "[**Summary**](Summary.ipynb) of volume Fast Marching Methods, this series of notebooks.\n",
    "\n",
    "[**Main summary**](../Summary.ipynb) of the Adaptive Grid Discretizations \n",
    "\tbook of notebooks, including the other volumes.\n",
    "\n",
    "# Table of contents\n",
    "  * [1. Preliminary : Convex geodesics in free space](#1.-Preliminary-:-Convex-geodesics-in-free-space)\n",
    "    * [1.1 Original models](#1.1-Original-models)\n",
    "    * [1.2 Convex variants](#1.2-Convex-variants)\n",
    "  * [2. Image pre-processing](#2.-Image-pre-processing)\n",
    "    * [2.1 The structure tensor](#2.1-The-structure-tensor)\n",
    "    * [2.2 Edge detection and metric](#2.2-Edge-detection-and-metric)\n",
    "  * [3. Geometric input](#3.-Geometric-input)\n",
    "    * [3.1 Pick boundary points](#3.1-Pick-boundary-points)\n",
    "    * [3.2 Obstacles](#3.2-Obstacles)\n",
    "  * [4. Run the eikonal solver](#4.-Run-the-eikonal-solver)\n",
    "    * [4.1 Curvature penalized model](#4.1-Curvature-penalized-model)\n",
    "    * [4.2 Convexity constrained model](#4.2-Convexity-constrained-model)\n",
    "\n",
    "\n",
    "\n",
    "This Python&reg; notebook is intended as documentation and testing for the [HamiltonFastMarching (HFM) library](https://github.com/mirebeau/HamiltonFastMarching), which also has interfaces to the Matlab&reg; and Mathematica&reg; languages. \n",
    "More information on the HFM library in the manuscript:\n",
    "* Jean-Marie Mirebeau, Jorg Portegies, \"Hamiltonian Fast Marching: A numerical solver for anisotropic and non-holonomic eikonal PDEs\", 2019 [(link)](https://hal.archives-ouvertes.fr/hal-01778322)\n",
    "\n",
    "Copyright Jean-Marie Mirebeau, University Paris-Sud, CNRS, University Paris-Saclay"
   ]
  },
  {
   "cell_type": "markdown",
   "id": "6d2c7581",
   "metadata": {},
   "source": [
    "## 0. Importing the required libraries"
   ]
  },
  {
   "cell_type": "code",
   "execution_count": 1,
   "id": "444b8809",
   "metadata": {},
   "outputs": [],
   "source": [
    "import sys; sys.path.insert(0,\"..\") # Allow import of agd from parent directory (useless if conda package installed)\n",
    "#from Miscellaneous import TocTools; print(TocTools.displayTOC('Interactive_ConvexRegionSegmentation','FMM'))"
   ]
  },
  {
   "cell_type": "code",
   "execution_count": 2,
   "id": "d0421ab1",
   "metadata": {},
   "outputs": [],
   "source": [
    "from agd import Eikonal\n",
    "from agd import AutomaticDifferentiation as ad\n",
    "from agd import LinearParallel as lp\n",
    "from agd import Plotting\n",
    "#from agd.Plotting import savefig; savefig.dirName = \"Figures/ConvexRegionSegmentation\"\n",
    "from agd import Metrics"
   ]
  },
  {
   "cell_type": "code",
   "execution_count": 3,
   "id": "b59d00e4",
   "metadata": {},
   "outputs": [],
   "source": [
    "import numpy as np; xp=np\n",
    "import matplotlib.pyplot as plt\n",
    "import matplotlib.image\n",
    "from scipy import ndimage"
   ]
  },
  {
   "cell_type": "markdown",
   "id": "76afc06f",
   "metadata": {},
   "source": [
    "### 0.1 Additional configuration\n",
    "\n",
    "Uncomment the following line for interactive user input. Default values are always provided. \n",
    "\n",
    "**Interactive input is UNAVAILABLE on Google Colab,** since it requires the `tk` matplotlib frontend, which is not supported on this platform. "
   ]
  },
  {
   "cell_type": "code",
   "execution_count": 4,
   "id": "2f9dcd79",
   "metadata": {},
   "outputs": [],
   "source": [
    "interactive = False"
   ]
  },
  {
   "cell_type": "markdown",
   "id": "0acc4393",
   "metadata": {},
   "source": [
    "Uncomment the following line to use the GPU eikonal solver and cupy library.\n",
    "\n",
    "<!---\n",
    "**Note.** `cupy.linalg.eigh` seems buggy (cupy 10.3), hence we use `np.linalg.eigh` in all cases.\n",
    "--->"
   ]
  },
  {
   "cell_type": "code",
   "execution_count": 5,
   "id": "ed0cb4f5",
   "metadata": {
    "tags": [
     "GPU_config"
    ]
   },
   "outputs": [
    {
     "name": "stdout",
     "output_type": "stream",
     "text": [
      "Replacing numpy with cupy, set to output 32bit ints and floats by default.\n",
      "Using cp.asarray(*,dtype=np.float32) as the default caster in ad.array.\n",
      "Returning a copy of module matplotlib.pyplot whose functions accept cupy arrays as input.\n",
      "Setting dictIn.default_mode = 'gpu' in module agd.Eikonal .\n",
      "Replacing module scipy.ndimage with cupyx.scipy.ndimage .\n",
      "Returning a copy of module agd.Plotting whose functions accept cupy arrays as input.\n",
      "Returning a copy of function eigh which accepts cupy arrays as input.\n"
     ]
    }
   ],
   "source": [
    "#xp,plt,Eikonal,ndimage,Plotting = [ad.cupy_friendly(e) for e in (xp,plt,Eikonal,ndimage,Plotting)]"
   ]
  },
  {
   "cell_type": "markdown",
   "id": "2cc96609",
   "metadata": {},
   "source": [
    "## 1. Preliminary : Convex geodesics in free space\n",
    "\n",
    "We illustrate the geodesics associated to the Reeds-Shepp car, Euler-Mumford elastica, and Dubins vehicle, and to the convex variants of these models. \n",
    "For simplicity and clarity, the domain is an empty space, without obstacles, and with a unit cost function $c(x,\\theta)\\equiv 1$. "
   ]
  },
  {
   "cell_type": "markdown",
   "id": "77b4a334",
   "metadata": {},
   "source": [
    "### 1.1 Original models\n",
    "\n",
    "Note that the Reeds-Shepp forward model has in-place rotations at the beginning and end."
   ]
  },
  {
   "cell_type": "code",
   "execution_count": 6,
   "id": "f4d54445",
   "metadata": {},
   "outputs": [],
   "source": [
    "hfmIn = Eikonal.dictIn({\n",
    "    'model':'Elastica2',\n",
    "    'xi':0.4,\n",
    "    'seed': (1,0,0),\n",
    "    'tips': [(-1,0.5,0),(-1,-0.5,0)],\n",
    "    'cost':1,\n",
    "})\n",
    "\n",
    "hfmIn.SetRect([[-2,2],[-1.3,1.3]],dimx=200)\n",
    "hfmIn.nTheta = 100\n",
    "\n",
    "#Some CPU or GPU specific options\n",
    "if xp is np: hfmIn.update({'stopWhenAllAccepted':hfmIn['tips'],'geodesicSolver':'ODE'})\n",
    "else:hfmIn['geodesic_targetTolerance']=15"
   ]
  },
  {
   "cell_type": "code",
   "execution_count": 7,
   "id": "8efa7b54",
   "metadata": {},
   "outputs": [],
   "source": [
    "#hfmOut['keys']['default']"
   ]
  },
  {
   "cell_type": "code",
   "execution_count": 8,
   "id": "11625e40",
   "metadata": {},
   "outputs": [
    {
     "name": "stdout",
     "output_type": "stream",
     "text": [
      "Setting the kernel traits.\n",
      "Preparing the domain data (shape,metric,...)\n",
      "Preparing the problem rhs (cost, seeds,...)\n",
      "Preparing the GPU kernel\n",
      "Running the eikonal GPU kernel\n",
      "GPU kernel eikonal ran for 0.09612274169921875 seconds, and 103 iterations.\n",
      "Post-Processing\n",
      "Setting the kernel traits.\n",
      "Preparing the domain data (shape,metric,...)\n",
      "Preparing the problem rhs (cost, seeds,...)\n",
      "Preparing the GPU kernel\n",
      "Running the eikonal GPU kernel\n",
      "GPU kernel eikonal ran for 0.3114285469055176 seconds, and 264 iterations.\n",
      "Post-Processing\n",
      "Setting the kernel traits.\n",
      "Preparing the domain data (shape,metric,...)\n",
      "Preparing the problem rhs (cost, seeds,...)\n",
      "Preparing the GPU kernel\n",
      "Running the eikonal GPU kernel\n",
      "GPU kernel eikonal ran for 0.13567161560058594 seconds, and 175 iterations.\n",
      "Post-Processing\n"
     ]
    }
   ],
   "source": [
    "plt.figure(figsize=[16,3])\n",
    "for i,model in enumerate(('ReedsSheppForward2','Elastica2','Dubins2')):\n",
    "    hfmIn['model'] = model\n",
    "    hfmOut = hfmIn.Run()\n",
    "    ax = plt.subplot(1,3,i+1)\n",
    "    plt.title(model); plt.axis('equal')\n",
    "    ax.set_xlim(-2,2); ax.set_ylim(-1.2,1.2); \n",
    "    for geo in hfmOut['geodesics']:  plt.plot(geo[0],geo[1])"
   ]
  },
  {
   "cell_type": "markdown",
   "id": "9ee23f78",
   "metadata": {},
   "source": [
    "### 1.2 Convex variants\n",
    "\n",
    "We use the `convex_curvature_macro` trait parameter to forbid rotation on the left, and make the following observations\n",
    "- both paths are modified for the Reeds-Shepp forward model. Indeed, the original path had both convex and concave parts.\n",
    "- one path is strongly modified for the Euler-Mumford elastica model. The second path is also likely slightly modified, due to the modification of the Hamiltonian, but it is harder to see.\n",
    "- only one path is modified for the Dubins model.\n",
    "\n",
    "<!---the paths of the Euler-Eumford elastica model make several turns, hence are not part of the boundar of a convex set. This is an issue that needs to be addressed. --->"
   ]
  },
  {
   "cell_type": "code",
   "execution_count": 9,
   "id": "57ab5627",
   "metadata": {
    "scrolled": true
   },
   "outputs": [
    {
     "name": "stdout",
     "output_type": "stream",
     "text": [
      "Setting the kernel traits.\n",
      "Preparing the domain data (shape,metric,...)\n",
      "Preparing the problem rhs (cost, seeds,...)\n",
      "Preparing the GPU kernel\n",
      "Running the eikonal GPU kernel\n",
      "GPU kernel eikonal ran for 0.06071877479553223 seconds, and 122 iterations.\n",
      "Post-Processing\n",
      "Setting the kernel traits.\n",
      "Preparing the domain data (shape,metric,...)\n",
      "Preparing the problem rhs (cost, seeds,...)\n",
      "Preparing the GPU kernel\n",
      "Running the eikonal GPU kernel\n",
      "GPU kernel eikonal ran for 0.24756717681884766 seconds, and 326 iterations.\n",
      "Post-Processing\n",
      "Setting the kernel traits.\n",
      "Preparing the domain data (shape,metric,...)\n",
      "Preparing the problem rhs (cost, seeds,...)\n",
      "Preparing the GPU kernel\n",
      "Running the eikonal GPU kernel\n",
      "GPU kernel eikonal ran for 0.1740877628326416 seconds, and 256 iterations.\n",
      "Post-Processing\n"
     ]
    }
   ],
   "source": [
    "plt.figure(figsize=[16,4])\n",
    "for i,model in enumerate(('ConvexReedsSheppForward2','ConvexElastica2','ConvexDubins2')):\n",
    "    hfmIn['model'] = model\n",
    "    hfmOut = hfmIn.Run()\n",
    "    ax = plt.subplot(1,3,i+1)\n",
    "    plt.title(model+\" variant\"); plt.axis('equal')\n",
    "    ax.set_xlim(-2,2); ax.set_ylim(-1.5,1.5); \n",
    "    for geo in hfmOut['geodesics']:  plt.plot(geo[0],geo[1])"
   ]
  },
  {
   "cell_type": "markdown",
   "id": "dfb4e278",
   "metadata": {},
   "source": [
    "## 2. Image pre-processing\n",
    "\n",
    "The rest of this section is devoted to an active contours image segmentation method with a *convexity* prior. \n",
    "The method proceeds in three main steps:\n",
    "- *Pre-processing*, where filters such as the *structure tensor* are used to analyse locally the image. In particular, we design a Riemannian metric which favors paths aligned with the image edges.\n",
    "- *Geometric input*, where a few points on the boundary of the shape of interest are requested to the user. Optionally, some user defined obstacles may also be introduced inside or outside the shape of interest.\n",
    "- *Eikonal solver* and minimal path computation.\n",
    "\n",
    "If `interactive=True` was set, then a number of user interactions will be required.\n",
    "\n",
    "\n",
    "<!---# Here we define a test image.\n",
    "dx=0.01\n",
    "aX = np.arange(-1,1,dx)\n",
    "aY = np.arange(-0.5,0.9,dx)\n",
    "X = np.meshgrid(aX,aY,indexing='ij')\n",
    "\n",
    "#im = np.array((1.3*X[0]**2+5*X[1]**2<=1) | (8*(X[0]**2+(X[1]-0.42)**2)<=1)).astype(float)\n",
    "im = np.array((1.3*X[0]**2+5*X[1]**2<=1) | ((X[0]**2+(X[1]-0.48)**2)<=1/12)).astype(float)\n",
    "\n",
    "matplotlib.image.imsave(\"Images_ConvexRegionSegmentation/img_nonconvexbd.png\",(255*np.moveaxis(im[:,::-1],0,1)).astype(np.int8),cmap=\"Greys\")\n",
    "--->"
   ]
  },
  {
   "cell_type": "code",
   "execution_count": 10,
   "id": "60fda6bd",
   "metadata": {},
   "outputs": [],
   "source": [
    "images = {\n",
    "    0:(\"img_nonconvexbd.png\",\"Elastica2\",None,1,[[14, 187], [57, 55]]), #Synthetic\n",
    "    1:(\"img_30.png\",None,None,0.03,[[27, 132], [150, 161]]), #Cell\n",
    "    2:(\"img_2.png\",None,None,None,[[169, 407], [89, 227]]), #Truck\n",
    "    3:(\"img_23.png\",\"Elastica2\",60,None,[[81, 397], [111, 108]]), #Dog\n",
    "    4:(\"img_51.png\",None,None,0.03, [[280, 147, 72], [275, 300, 112]]), #MRI\n",
    "}\n",
    "#np.round(boundary_pts).astype(int).tolist()"
   ]
  },
  {
   "cell_type": "code",
   "execution_count": 11,
   "id": "a90cb093",
   "metadata": {},
   "outputs": [],
   "source": [
    "iimage = 2\n",
    "if interactive: iimage = int(Plotting.input_default(\"Choose a test case\",str(iimage)))"
   ]
  },
  {
   "cell_type": "code",
   "execution_count": 43,
   "id": "6ff3bb8e",
   "metadata": {},
   "outputs": [],
   "source": [
    "image_filename,model,ξ,λ,boundary_pts = images[iimage]\n",
    "im = Plotting.imread(\"Notebooks_FMM/TestImages/ConvexRegionSegmentation/\"+image_filename)/255\n",
    "if xp is not np: im = xp.array(im,dtype=np.float32)\n",
    "im = np.moveaxis(im,0,1)[:,::-1,:3] # ignore alpha channel, use cartesian coordinates"
   ]
  },
  {
   "cell_type": "code",
   "execution_count": 34,
   "id": "725ee651",
   "metadata": {},
   "outputs": [],
   "source": [
    "Plotting.imshow_ij(im);"
   ]
  },
  {
   "cell_type": "markdown",
   "id": "532b25ec",
   "metadata": {},
   "source": [
    "**Interaction opportunity.** (Some of) The following parameters could be set interactively."
   ]
  },
  {
   "cell_type": "code",
   "execution_count": 16,
   "id": "b821ac4a",
   "metadata": {},
   "outputs": [],
   "source": [
    "# Structure tensor parameters\n",
    "ρ = 5 # feature scale, in pixels\n",
    "σ = 2 # noise scale, in pixels\n",
    "dx = 1/(2*ρ) # Grid scale\n",
    "\n",
    "# Metric construction parameters\n",
    "if λ is None: λ=0.05\n",
    "\n",
    "# Vehicle model parameters\n",
    "if model is None: model = 'ReedsSheppForward2'\n",
    "if ξ is None: ξ = 1/dx # typical curvature radius of the vehicle, in pixels"
   ]
  },
  {
   "cell_type": "code",
   "execution_count": 17,
   "id": "2537db81",
   "metadata": {},
   "outputs": [],
   "source": [
    "hfmIn = Eikonal.dictIn({\n",
    "    'model':model,\n",
    "    'xi':ξ,\n",
    "    'dims':(*im.shape[:2],64),\n",
    "    'gridScale':1.,\n",
    "    'origin':(-0.5,-0.5),\n",
    "})"
   ]
  },
  {
   "cell_type": "code",
   "execution_count": 18,
   "id": "2144175c",
   "metadata": {},
   "outputs": [],
   "source": [
    "X = ad.array(np.meshgrid(*hfmIn.Axes()[:2],indexing='ij'))"
   ]
  },
  {
   "cell_type": "markdown",
   "id": "b884da42",
   "metadata": {},
   "source": [
    "### 2.1 The structure tensor\n",
    "\n",
    "The structure tensor, with feature scale $\\rho$ and noise scale $\\sigma$, is defined as \n",
    "$$\n",
    "    S := g_\\rho \\star (\\nabla u_\\sigma \\nabla u_\\sigma^\\top),\n",
    "$$\n",
    "where $u_\\sigma := g_\\sigma \\star u$, and $g_s$ denotes the Gaussian kernel of standard deviation $s$.\n",
    "\n",
    "This object robustly estimates the gradient orientation and magnitude in an image, and for that reason it is at the foundation of many classical/historical image processing techniques, such as [edge enhancing diffusion](../Notebooks_Div/AnisotropicDiffusion.ipynb). "
   ]
  },
  {
   "cell_type": "code",
   "execution_count": 19,
   "id": "d97dc0ac",
   "metadata": {},
   "outputs": [],
   "source": [
    "def array_map(f,x,fdim):\n",
    "    \"\"\"\n",
    "    Input :\n",
    "    - f function, which applies to arrays with fdim dimensions\n",
    "    - x array with more than fdim dimensions\n",
    "    Output : \n",
    "    - f mapped to array, seen as a collection of arrays with fdim dimensions\n",
    "    \"\"\"\n",
    "    xdim = x.ndim-fdim; assert xdim>=0\n",
    "    xshape,fshape = x.shape[:xdim],x.shape[xdim:]\n",
    "    out = ad.array([f(xi) for xi in x.reshape((-1,*fshape))])\n",
    "    out = np.reshape( out, xshape+out[0].shape)\n",
    "    return out"
   ]
  },
  {
   "cell_type": "code",
   "execution_count": 20,
   "id": "2ae328bf",
   "metadata": {},
   "outputs": [],
   "source": [
    "def gaussian_filter(x,*args,fdim=2,**kwargs): # Applies to multi-channel images\n",
    "    return array_map(lambda xi:ndimage.gaussian_filter(xi,*args,**kwargs),x,fdim)"
   ]
  },
  {
   "cell_type": "code",
   "execution_count": 21,
   "id": "9f8595e0",
   "metadata": {},
   "outputs": [],
   "source": [
    "def StructureTensor(u,σ=2.,ρ=5.,dx=1,fdim=2):\n",
    "    \"\"\"\n",
    "    Computes the structure tensor of u,\n",
    "    with noise scale σ and feature scale ρ.\n",
    "    Applies to fdim dimensional arrays.\n",
    "    - dx : grid scale.\n",
    "    \"\"\"\n",
    "    # Compute grad uσ\n",
    "    eye = np.eye(fdim).astype(int)\n",
    "    duσ = [gaussian_filter(u,σ,order=e,fdim=fdim)/dx for e in eye]\n",
    "    \n",
    "    # Self outer product and averaging \n",
    "    S = gaussian_filter(lp.outer_self(duσ),ρ,fdim=fdim)\n",
    "    \n",
    "    # sum over channels\n",
    "    if fdim<u.ndim: S = np.sum(S.reshape((fdim,fdim,-1,*u.shape[-fdim:])),axis=2)\n",
    "    return S"
   ]
  },
  {
   "cell_type": "markdown",
   "id": "6acb4cf6",
   "metadata": {},
   "source": [
    "**Interaction.** Define the Structure tensor parameters\n",
    "\n",
    "<!---\n",
    "#    μ,v = xp.linalg.eigh(np.moveaxis(S,(0,1),(-2,-1)))\n",
    "         # cupy.linalg.eigh buggy (10.3) -> Transfering back and forth to cpu\n",
    "--->"
   ]
  },
  {
   "cell_type": "code",
   "execution_count": 22,
   "id": "1fefac54",
   "metadata": {},
   "outputs": [],
   "source": [
    "S = StructureTensor(np.moveaxis(im,-1,0),σ,ρ,dx=dx)"
   ]
  },
  {
   "cell_type": "code",
   "execution_count": 23,
   "id": "3d45f444",
   "metadata": {},
   "outputs": [],
   "source": [
    "def eigh(S): \n",
    "    \"\"\"Similar to np.linalg.eigh, but with geometry first\"\"\"\n",
    "    μ,v = [xp.array(e) for e in np.linalg.eigh(np.moveaxis(S,(0,1),(-2,-1)))]\n",
    "    return np.moveaxis(μ,-1,0), np.moveaxis(v,(-2,-1),(0,1))"
   ]
  },
  {
   "cell_type": "code",
   "execution_count": 24,
   "id": "db0ae9eb",
   "metadata": {},
   "outputs": [],
   "source": [
    "μ,v = eigh(S)\n",
    "v *= np.sign(v[0])\n",
    "assert np.max(np.abs(lp.dot_VAV(v[:,0],S,v[:,0])-μ[0]))<1e-5\n",
    "\n",
    "%matplotlib inline\n",
    "plt.figure(figsize=(14,4))\n",
    "\n",
    "plt.subplot(1,3,1)\n",
    "plt.title('Original function')\n",
    "Plotting.imshow_ij(im)\n",
    "\n",
    "plt.subplot(1,3,2)\n",
    "plt.title('Eigenvalue ratio')\n",
    "plt.contourf(*X,μ[1]/μ[0]>=4)\n",
    "plt.colorbar(); plt.axis('equal')\n",
    "\n",
    "plt.subplot(1,3,3)\n",
    "plt.title('Corresponding eigenvector')\n",
    "Plotting.quiver(*X,*v[:,1],subsampling=(5,5))\n",
    "plt.axis('equal');"
   ]
  },
  {
   "cell_type": "markdown",
   "id": "b82add82",
   "metadata": {},
   "source": [
    "### 2.2 Edge detection and metric\n",
    "\n",
    "We define a metric which promotes motion along edge. \n",
    "In this model, edges are characterized by the fact that the largest eigenvalue of the structure tensor is large, both in absolute terms and w.r.t the second eigenvalue. \n",
    "\n",
    "**Note on models vs neural networks.** \n",
    "In this notebook, the metric is defined via a specific mathematical expression implementing an interpretable geometrical model. In contrast, many recent image processing techniques rely on neural networks, which are generic mathematical expressions, implementing data-learned and usually hard to interpret models. \n",
    "The latter approach is now regarded as much more efficient in practice, yet it is also more complex to setup, and is unrelated to the topic of this notebook which is the convexity prior in active contour methods.\n",
    "\n",
    "<!---\n",
    "**Possible improvement** Set α as a function of the angular resolution ?\n",
    "--->"
   ]
  },
  {
   "cell_type": "code",
   "execution_count": 25,
   "id": "879c70dc",
   "metadata": {},
   "outputs": [],
   "source": [
    "def EdgeMetric(μ,α=0.01,λ=1.,κ=2.):\n",
    "    \"\"\"\n",
    "    A metric enhancing motion along edges, inspired by \n",
    "    Weickert's edge enhancing diffusion filter,\n",
    "    based on the structure tensor. \n",
    "    Input :\n",
    "     - μ eigenvalues of the structure tensor (μ[0] <= μ[1])\n",
    "     - α lower bound on anisotropy\n",
    "     - λ sensitivity to small details\n",
    "     - κ sensitivity to anisotropy\n",
    "    Output : eigenvalues of the metric\n",
    "    \"\"\"\n",
    "    ν = np.maximum(1e-10,μ[1] - κ*μ[0]) / λ # Edge detector. Non-negative. \n",
    "    λ0 = np.maximum(α,1.-np.exp(-3.314/ν**4)) # Small diffusion if a feature is detected\n",
    "    λ1 = np.ones_like(ν) # Unit diffusion in general\n",
    "    return λ0,λ1 "
   ]
  },
  {
   "cell_type": "markdown",
   "id": "c1d595ad",
   "metadata": {},
   "source": [
    "The following Riemannian metric will guide the geodesic paths along the contour."
   ]
  },
  {
   "cell_type": "code",
   "execution_count": 26,
   "id": "c0d970d0",
   "metadata": {},
   "outputs": [],
   "source": [
    "riemann = Metrics.Riemann.from_mapped_eigenvalues(S,lambda μ: EdgeMetric(μ,λ=λ))"
   ]
  },
  {
   "cell_type": "markdown",
   "id": "5e5d2d1d",
   "metadata": {},
   "source": [
    "In order to take advantage of curvature penalization, we build a cost function over the lifted space, which reproduces the metric values."
   ]
  },
  {
   "cell_type": "code",
   "execution_count": 27,
   "id": "b118ee0f",
   "metadata": {},
   "outputs": [],
   "source": [
    "_,_,aθ = hfmIn.Axes()"
   ]
  },
  {
   "cell_type": "code",
   "execution_count": 28,
   "id": "1dcb3e95",
   "metadata": {},
   "outputs": [],
   "source": [
    "cost = np.moveaxis(xp.array([riemann.norm([np.cos(θ),np.sin(θ)]) for θ in aθ]),0,-1)"
   ]
  },
  {
   "cell_type": "code",
   "execution_count": 29,
   "id": "fd899387",
   "metadata": {},
   "outputs": [],
   "source": [
    "hfmIn['cost'] = cost"
   ]
  },
  {
   "cell_type": "code",
   "execution_count": 30,
   "id": "dcc478ff",
   "metadata": {},
   "outputs": [],
   "source": [
    "plt.contourf(*X,np.min(cost,axis=2))\n",
    "plt.colorbar()\n",
    "plt.axis('equal');"
   ]
  },
  {
   "cell_type": "markdown",
   "id": "66475a86",
   "metadata": {},
   "source": [
    "## 3. Geometric input\n",
    "\n",
    "The provided segmentation method is semi-supervised : at least two points are required, on the contour of interest. "
   ]
  },
  {
   "cell_type": "markdown",
   "id": "f2317bca",
   "metadata": {},
   "source": [
    "### 3.1 Pick boundary points\n",
    "\n",
    "**Interaction** Pick two or more points on the boundary of the shape of interest (in counter-clockwise order)."
   ]
  },
  {
   "cell_type": "code",
   "execution_count": 31,
   "id": "59e4e139",
   "metadata": {},
   "outputs": [],
   "source": [
    "if interactive:\n",
    "    %matplotlib tk \n",
    "    Plotting.imshow_ij(im,cmap='Greys')\n",
    "    input_pts = Plotting.pick_points()\n",
    "    if len(input_pts)>0: boundary_pts=input_pts"
   ]
  },
  {
   "cell_type": "markdown",
   "id": "069d976a",
   "metadata": {},
   "source": [
    "Now we need to lift these points to the angular space."
   ]
  },
  {
   "cell_type": "code",
   "execution_count": 32,
   "id": "85ee023a",
   "metadata": {},
   "outputs": [],
   "source": [
    "#Find the tangent direction to the contour, \n",
    "boundary_pts = xp.array(boundary_pts)\n",
    "bpts = np.round(boundary_pts).astype(int)\n",
    "_,tangents = eigh(S[...,bpts[0],bpts[1]])\n",
    "tangents=tangents[:,0] # Keep only the eigenvector associated with the small eigenvalue\n",
    "\n",
    "# Find the clockwise orientation\n",
    "assert len(boundary_pts)>=2\n",
    "interior_pt = np.mean(boundary_pts,axis=1)\n",
    "outward_dir = boundary_pts - interior_pt[...,None]\n",
    "tangents *= np.sign( lp.det([outward_dir,tangents]))\n",
    "\n",
    "# Construct lifted point\n",
    "angles = np.mod(np.arctan2(tangents[1],tangents[0]),2*np.pi)\n",
    "lifted_pts = np.concatenate((boundary_pts,angles[None]),axis=0)"
   ]
  },
  {
   "cell_type": "code",
   "execution_count": 33,
   "id": "06fd34ae",
   "metadata": {},
   "outputs": [],
   "source": [
    "%matplotlib inline\n",
    "Plotting.imshow_ij(im,cmap='Greys')\n",
    "for p,v in zip(boundary_pts.T,tangents.T): plt.arrow(*p,*10*v,color='r',head_width=10)\n",
    "plt.scatter(*boundary_pts,color='r')\n",
    "plt.scatter(*interior_pt,color='b');"
   ]
  },
  {
   "cell_type": "markdown",
   "id": "f8a966a8",
   "metadata": {},
   "source": [
    "### 3.2 Obstacles\n",
    "\n",
    "We introduce an obstacle in the angular domain, which is motivated by the following considerations.\n",
    "Consider a smooth path $\\gamma = (x,\\theta) : [0,T] \\to \\Omega \\times S^1$. We assume that the physical part is parametrized at Euclidean speed, and obeys the non-holonomic constraint\n",
    "$$\n",
    "    x'(t) = (\\cos \\theta(t),\\sin \\theta(t)),\n",
    "$$\n",
    "for all $t \\in [0,T]$. Assume in addition that:\n",
    "- $\\theta$ is non-decreasing\n",
    "- $\\theta(T)-\\theta(0)= 2\\pi$\n",
    "- $\\gamma(0)=\\gamma(T)$. \n",
    "\n",
    "Then it is not hard to show that $\\gamma$ defines the boundary of a convex shape. \n",
    "On the other hand, if $\\theta(T)-\\theta(0)> 2\\pi$ (and the other two conditions hold), then the path is self-intersecting, and in particular it is not the boundary of a convex shape. \n",
    "\n",
    "In practice, the path is made of at least two geodesic components, hence let us thus focus on the computation of a minimal path from $(x_0,\\theta_0)$ to $(x_1,\\theta_1)$, where $\\theta_0 \\leq \\theta_1 \\leq \\theta_0+2 \\pi$.\n",
    "The obstacle that we introduce mathematically takes the form $\\Omega \\times \\{\\theta_*\\}$, where $\\theta_1 \\leq \\theta_* \\leq \\theta_0 + 2 \\pi$ and $\\Omega$ denotes the physical domain. From $\\theta(0) = 0$, $\\theta(1) \\equiv \\theta_1 [\\text{mod } 2 \\pi]$, $\\theta(t) \\not \\equiv \\theta_*[\\text{mod } 2 \\pi]$, for all $t \\in [0,1]$, we obtain that $\\theta(1) \\equiv \\theta_1$.\n",
    "\n",
    "By concatenating several minimal paths between the successive points $(x_0,\\theta_0)$, $(x_1,\\theta_1)$, $\\cdots$, $(x_0,\\theta_0+2\\pi)$, we obtain a global contour obeying the conditions above.  "
   ]
  },
  {
   "cell_type": "code",
   "execution_count": 34,
   "id": "56051579",
   "metadata": {},
   "outputs": [],
   "source": [
    "def angular_wall(hfmIn):\n",
    "    sθ,tθ=hfmIn['seed'][2],hfmIn['tip'][2]\n",
    "    if tθ>sθ:tθ-=2*np.pi\n",
    "    mθ = ((sθ+tθ)/2)%(2*np.pi)\n",
    "    \n",
    "    dθ = hfmIn.gridScales[2]\n",
    "    _,_,θs = hfmIn.Grid()\n",
    "    return np.abs(θs-mθ)<=dθ"
   ]
  },
  {
   "cell_type": "markdown",
   "id": "0b33da12",
   "metadata": {},
   "source": [
    "We could also add more in physical space, also based on the provided points (from boundary point to boundary point).\n",
    "Finally, we could allow the user to introduce additional obstacles, based on scribbles."
   ]
  },
  {
   "cell_type": "markdown",
   "id": "f2179c45",
   "metadata": {},
   "source": [
    "## 4. Run the eikonal solver\n",
    "\n",
    "At this point, the user has specified several points $x_0,x_1,\\cdots$ on the shape boundary, in counter-clockwise order, and orientations $\\theta_0, \\theta_1,\\cdots \\in S^1$ have been automatically selected. \n",
    "\n",
    "The full contour segmentation is defined by our method as the concatenation of minimal paths $(x_0,\\theta_0)$, $(x_1,\\theta_1)$, $\\cdots$, $(x_0,\\theta_0+2\\pi)$, w.r.t a suitable metric.\n",
    "In this interactive demo, order to save computation time, we however only present the minimal path between two of these successive points, according to the parameter `iseed` below."
   ]
  },
  {
   "cell_type": "code",
   "execution_count": 37,
   "id": "0f1e4836",
   "metadata": {},
   "outputs": [],
   "source": [
    "iseed = 0 # Change to select the boundary points to connect."
   ]
  },
  {
   "cell_type": "code",
   "execution_count": 38,
   "id": "54030d6a",
   "metadata": {},
   "outputs": [],
   "source": [
    "itip = (iseed+1)%lifted_pts.shape[1]\n",
    "hfmIn['seed'] = lifted_pts[:,iseed]\n",
    "hfmIn['tip'] = lifted_pts[:,itip]"
   ]
  },
  {
   "cell_type": "code",
   "execution_count": 44,
   "id": "bdbf3d04",
   "metadata": {},
   "outputs": [],
   "source": [
    "if xp is np:hfmIn['stopWhenAllAccepted']=hfmIn['tips'] # Early stop of the CPU Eikonal solver to save computation time"
   ]
  },
  {
   "cell_type": "markdown",
   "id": "563a15c9",
   "metadata": {},
   "source": [
    "Optionally set the angular obstacles."
   ]
  },
  {
   "cell_type": "code",
   "execution_count": 40,
   "id": "44c1f722",
   "metadata": {},
   "outputs": [],
   "source": [
    "hfmIn['walls'] = angular_wall(hfmIn)"
   ]
  },
  {
   "cell_type": "code",
   "execution_count": 41,
   "id": "6c0746d3",
   "metadata": {},
   "outputs": [],
   "source": [
    "#model=\"ReedsSheppForward2\"\n",
    "#hfmIn['xi']=10"
   ]
  },
  {
   "cell_type": "markdown",
   "id": "9ed7062b",
   "metadata": {},
   "source": [
    "### 4.1 Curvature penalized model\n",
    "\n",
    "We use here a curvature penalized model *without* convexity prior. The resulting segmentation is therefore, usually, non-convex. "
   ]
  },
  {
   "cell_type": "code",
   "execution_count": 42,
   "id": "faf9cd42",
   "metadata": {},
   "outputs": [
    {
     "name": "stdout",
     "output_type": "stream",
     "text": [
      "Setting the kernel traits.\n",
      "Preparing the domain data (shape,metric,...)\n",
      "Preparing the problem rhs (cost, seeds,...)\n",
      "Preparing the GPU kernel\n",
      "Running the eikonal GPU kernel\n",
      "GPU kernel eikonal ran for 0.46776843070983887 seconds, and 271 iterations.\n",
      "Post-Processing\n",
      "!! Warning !! Unused keys from user : ['stopWhenAllAccepted']\n"
     ]
    }
   ],
   "source": [
    "#if xp is not np: hfmIn['traits']={'convex_curvature_macro':False}\n",
    "hfmIn['model']=model # Standard curvature penalized model\n",
    "hfmOut = hfmIn.Run()"
   ]
  },
  {
   "cell_type": "code",
   "execution_count": 43,
   "id": "9c0c4292",
   "metadata": {},
   "outputs": [],
   "source": [
    "%matplotlib inline\n",
    "fig = plt.figure(); plt.axis('off')\n",
    "Plotting.imshow_ij(im,cmap='Greys')\n",
    "for p,v in zip(boundary_pts.T,tangents.T): plt.arrow(*p,*10*v,color='b',head_width=10)\n",
    "plt.scatter(*boundary_pts,color='b')\n",
    "for geo in hfmOut['geodesics']: plt.plot(*geo[:2],color='r')\n",
    "#savefig(fig,\"Truck_ncvx.png\")"
   ]
  },
  {
   "cell_type": "markdown",
   "id": "26865ed7",
   "metadata": {},
   "source": [
    "The non-convexity of the segmented contour is also reflected in the fact that the angular coordinate $\\theta$ along the extracted minimal path $(x,\\theta) : [0,T] \\to \\Omega\\times S^1$ is not monotically increasing. "
   ]
  },
  {
   "cell_type": "code",
   "execution_count": 45,
   "id": "91c36ba0",
   "metadata": {},
   "outputs": [],
   "source": [
    "plt.title('Angular coordinate along the geodesic')\n",
    "plt.plot(geo[2][::-1]);"
   ]
  },
  {
   "cell_type": "markdown",
   "id": "4966fe92",
   "metadata": {},
   "source": [
    "### 4.2 Convexity constrained model\n",
    "\n",
    "This model is only available using the GPU eikonal solver."
   ]
  },
  {
   "cell_type": "code",
   "execution_count": 46,
   "id": "01b14ee6",
   "metadata": {},
   "outputs": [
    {
     "name": "stdout",
     "output_type": "stream",
     "text": [
      "Setting the kernel traits.\n",
      "Preparing the domain data (shape,metric,...)\n",
      "Preparing the problem rhs (cost, seeds,...)\n",
      "Preparing the GPU kernel\n",
      "Running the eikonal GPU kernel\n",
      "GPU kernel eikonal ran for 0.2919337749481201 seconds, and 219 iterations.\n",
      "Post-Processing\n",
      "!! Warning !! Unused keys from user : ['stopWhenAllAccepted']\n"
     ]
    }
   ],
   "source": [
    "#assert xp is not np\n",
    "#hfmIn['traits']={'convex_curvature_macro':True}\n",
    "hfmIn['model'] = \"Convex\"+model # Convexity constrained model\n",
    "hfmOut = hfmIn.Run()"
   ]
  },
  {
   "cell_type": "code",
   "execution_count": 47,
   "id": "81ab9472",
   "metadata": {},
   "outputs": [],
   "source": [
    "%matplotlib inline\n",
    "fig = plt.figure(); plt.axis('off')\n",
    "Plotting.imshow_ij(im,cmap='Greys')\n",
    "for p,v in zip(boundary_pts.T,tangents.T): plt.arrow(*p,*10*v,color='b',head_width=10)\n",
    "plt.scatter(*boundary_pts,color='b')\n",
    "for geo in hfmOut['geodesics']: plt.plot(*geo[:2],color='r')\n",
    "#savefig(fig,\"Truck_cvx.png\")"
   ]
  },
  {
   "cell_type": "markdown",
   "id": "38b3f2f6",
   "metadata": {},
   "source": [
    "The extracted boundary is now convex, and the angular coordinate is non-decreasing, as desired."
   ]
  },
  {
   "cell_type": "code",
   "execution_count": 48,
   "id": "66065454",
   "metadata": {},
   "outputs": [],
   "source": [
    "plt.title('Angular coordinate along the geodesic')\n",
    "plt.plot(geo[2][::-1]);"
   ]
  },
  {
   "cell_type": "code",
   "execution_count": null,
   "id": "5129b144",
   "metadata": {},
   "outputs": [],
   "source": []
  }
 ],
 "metadata": {
  "celltoolbar": "Format de la Cellule Texte Brut",
  "kernelspec": {
   "display_name": "Python 3 (ipykernel)",
   "language": "python",
   "name": "python3"
  },
  "language_info": {
   "codemirror_mode": {
    "name": "ipython",
    "version": 3
   },
   "file_extension": ".py",
   "mimetype": "text/x-python",
   "name": "python",
   "nbconvert_exporter": "python",
   "pygments_lexer": "ipython3",
   "version": "3.12.1"
  },
  "varInspector": {
   "cols": {
    "lenName": 16,
    "lenType": 16,
    "lenVar": 40
   },
   "kernels_config": {
    "python": {
     "delete_cmd_postfix": "",
     "delete_cmd_prefix": "del ",
     "library": "var_list.py",
     "varRefreshCmd": "print(var_dic_list())"
    },
    "r": {
     "delete_cmd_postfix": ") ",
     "delete_cmd_prefix": "rm(",
     "library": "var_list.r",
     "varRefreshCmd": "cat(var_dic_list()) "
    }
   },
   "types_to_exclude": [
    "module",
    "function",
    "builtin_function_or_method",
    "instance",
    "_Feature"
   ],
   "window_display": false
  }
 },
 "nbformat": 4,
 "nbformat_minor": 5
}