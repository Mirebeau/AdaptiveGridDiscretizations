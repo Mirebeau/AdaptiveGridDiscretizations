{
 "cells": [
  {
   "cell_type": "markdown",
   "metadata": {},
   "source": [
    "# The HFM library - A fast marching solver with adaptive stencils\n",
    "\n",
    "## Part : Isotropic and anisotropic metrics\n",
    "## Chapter : Classical isotropic fast marching\n",
    "\n",
    "This notebook shows how the HFM library can solve *isotropic* eikonal equations and extract the related minimal paths. The assumption of *isotropy* makes this task rather simple and classical, and more complex models are addressed in the subsequent notebooks. We present some two and three dimensional test cases,  featuring obstacles, position and eventually time-dependent velocities, various stopping criteria, ...\n",
    "\n",
    "The functionality presented in this notebook, in the context of isotropic fast marching, is also applicable to the more complex anisotropic models implemented in the HFM software."
   ]
  },
  {
   "cell_type": "markdown",
   "metadata": {},
   "source": [
    "[**Summary**](Summary.ipynb) of volume Fast Marching Methods, this series of notebooks.\n",
    "\n",
    "[**Main summary**](../Summary.ipynb) of the Adaptive Grid Discretizations \n",
    "\tbook of notebooks, including the other volumes.\n",
    "\n",
    "# Table of contents\n",
    "  * [1. Description of the problem](#1.-Description-of-the-problem)\n",
    "  * [2. Calling the solver](#2.-Calling-the-solver)\n",
    "  * [3. Displaying the results.](#3.-Displaying-the-results.)\n",
    "  * [4. Introducing obstacles, and position dependent speed](#4.-Introducing-obstacles,-and-position-dependent-speed)\n",
    "  * [5. Termination criteria](#5.-Termination-criteria)\n",
    "    * [5.1 Stop when one or all of a set of points are reached by the front.](#5.1-Stop-when-one-or-all-of-a-set-of-points-are-reached-by-the-front.)\n",
    "    * [5.2 Stop at a prescribed distance from the seeds](#5.2-Stop-at-a-prescribed-distance-from-the-seeds)\n",
    "  * [6. Side products of the fast marching algorithm](#6.-Side-products-of-the-fast-marching-algorithm)\n",
    "    * [6.1 Voronoi region computation](#6.1-Voronoi-region-computation)\n",
    "    * [6.2 Euclidean length of geodesics](#6.2-Euclidean-length-of-geodesics)\n",
    "  * [7. Using a time dependent speed function](#7.-Using-a-time-dependent-speed-function)\n",
    "  * [8. Three dimensional fast marching](#8.-Three-dimensional-fast-marching)\n",
    "  * [9. A variant : diagonal metrics](#9.-A-variant-:-diagonal-metrics)\n",
    "\n",
    "\n",
    "\n",
    "This Python&reg; notebook is intended as documentation and testing for the [HamiltonFastMarching (HFM) library](https://github.com/mirebeau/HamiltonFastMarching), which also has interfaces to the Matlab&reg; and Mathematica&reg; languages. \n",
    "More information on the HFM library in the manuscript:\n",
    "* Jean-Marie Mirebeau, Jorg Portegies, \"Hamiltonian Fast Marching: A numerical solver for anisotropic and non-holonomic eikonal PDEs\", 2019 [(link)](https://hal.archives-ouvertes.fr/hal-01778322)\n",
    "\n",
    "Copyright Jean-Marie Mirebeau, University Paris-Sud, CNRS, University Paris-Saclay"
   ]
  },
  {
   "cell_type": "markdown",
   "metadata": {},
   "source": [
    "## 0. Importing the required libraries.\n",
    "\n",
    "<!---In this series of notebooks, input and output to the HamiltonFastMarching library is based on files written on the disk. This particularly simple to install, but a bit ugly and not much scalable. Alternatively direct link based on PyBind11 is also available, as discussed in the [summary](http://nbviewer.jupyter.org/urls/rawgithub.com/Mirebeau/HFM_Python_Notebooks/master/Summary.ipynb).--->"
   ]
  },
  {
   "cell_type": "code",
   "execution_count": 1,
   "metadata": {},
   "outputs": [],
   "source": [
    "import sys; sys.path.insert(0,\"..\") # Allow import of agd from parent directory (useless if conda package installed)\n",
    "#from Miscellaneous import TocTools; print(TocTools.displayTOC('Isotropic','FMM'))"
   ]
  },
  {
   "cell_type": "code",
   "execution_count": 2,
   "metadata": {},
   "outputs": [],
   "source": [
    "from agd import Eikonal\n",
    "from agd.Plotting import savefig, quiver; # savefig.dirName = 'Figures/Isotropic'"
   ]
  },
  {
   "cell_type": "code",
   "execution_count": 3,
   "metadata": {},
   "outputs": [],
   "source": [
    "# We will also need some standard python libraries.\n",
    "import numpy as np\n",
    "%matplotlib inline\n",
    "import matplotlib.pyplot as plt"
   ]
  },
  {
   "cell_type": "code",
   "execution_count": 4,
   "metadata": {},
   "outputs": [],
   "source": [
    "# Required for 3D plotting\n",
    "from mpl_toolkits.mplot3d import Axes3D # Plots geodesics\n",
    "useMayavi = False\n",
    "if useMayavi:\n",
    "    from mayavi import mlab # Plots implicit surfaces"
   ]
  },
  {
   "cell_type": "markdown",
   "metadata": {},
   "source": [
    "### 0.1 Optional configuration\n",
    "Uncomment the following line to use the GPU eikonal solver. (Comment it for the CPU eikonal solver.)"
   ]
  },
  {
   "cell_type": "code",
   "execution_count": 5,
   "metadata": {
    "tags": [
     "EikonalGPU_config"
    ]
   },
   "outputs": [],
   "source": [
    "#from agd import AutomaticDifferentiation as ad; plt,quiver,Eikonal = map(ad.cupy_friendly,(plt,quiver,Eikonal))"
   ]
  },
  {
   "cell_type": "markdown",
   "metadata": {},
   "source": [
    "## 1. Description of the problem\n",
    "\n",
    "In this document, we solve the standard isotropic eikonal equation, on domain denoted $\\Omega$. A cost function $c : \\Omega \\to ]0,\\infty[$ and some boundary data $\\sigma : \\partial \\Omega \\to ]-\\infty,\\infty]$ are given. This partial differential equation (PDE) reads\n",
    "\\begin{align}\n",
    "\\forall x \\in \\Omega, \\|\\nabla u(x)\\| &= c(x), &\n",
    "\\forall x \\in \\partial \\Omega, u(x) &= \\sigma(x). \n",
    "\\end{align}\n",
    "\n",
    "This PDE admits a unique *viscosity* solution to this PDE, defined as follows.\n",
    "The solution value $u(x)$ is minimal length (plus initial value penalization) of a path $\\gamma : [0,1] \\to \\overline \\Omega$ from the domain boundary $\\partial \\Omega$ to $x$.\n",
    "\\begin{equation*}\n",
    "    u(x) = \\inf_{\\gamma(1)=x} \\sigma(\\gamma(0)) + \\int_0^1 c(\\gamma(t)) \\|\\gamma'(t)\\| \\, \\mathrm d t.\n",
    "\\end{equation*}\n",
    "Equivalently, the solution $u$ can be regarded as the arrival time at $x \\in \\Omega$ of a front originating from $\\partial \\Omega$ at time $\\sigma : \\partial \\Omega \\to ]-\\infty,\\infty]$, and propagating at speed $s = 1/c$ where $c : \\Omega \\to ]0,\\infty[$."
   ]
  },
  {
   "cell_type": "code",
   "execution_count": 6,
   "metadata": {},
   "outputs": [],
   "source": [
    "hfmIn = Eikonal.dictIn({ # Create a dictionary-like structure to store the input data\n",
    "    'model':'Isotropic2', # Isotropic two-dimensional eikonal equation\n",
    "    'order':2., # Use a second order scheme, so as to increase accuracy\n",
    "    'cost':1. # Unit cost for now. A position dependent cost function is also considered below.\n",
    "    #'speed':1. # One may equivalently provide a speed function. In that case cost = 1/speed.\n",
    "})"
   ]
  },
  {
   "cell_type": "markdown",
   "metadata": {},
   "source": [
    "The above 'model', defined as 'Isotropic2', also determines the nature of the enclosing domain, that we denote $\\Omega_0$.\n",
    "It is a two dimensional box, with outflow boundary conditions on $\\partial \\Omega_0$. (As opposed to e.g. periodic.)\n",
    "\n",
    "We will use the rectangle $[-1,1] \\times [0,1]$, discretized on a $2n \\times n$ grid where $n=100$."
   ]
  },
  {
   "cell_type": "code",
   "execution_count": 7,
   "metadata": {},
   "outputs": [],
   "source": [
    "hfmIn.SetRect(sides=[[-1,1],[0,1]],gridScale=0.01)"
   ]
  },
  {
   "cell_type": "markdown",
   "metadata": {},
   "source": [
    "For the eikonal equation to be well posed, we introduce at set $S$ of 'seeds' in the domain, to which we attach initial values $(\\sigma_s)_{s\\in S}$. The PDE domain $\\Omega\\subset \\Omega_0$ its boundary $\\partial \\Omega$, and the boundary conditions $\\sigma : \\partial \\Omega \\to ]-\\infty,\\infty]$ are thus as follows.\n",
    "\n",
    "\\begin{align}\n",
    "\\Omega &= \\Omega_0 \\setminus S, &\n",
    "\\partial \\Omega &= \\partial \\Omega_0 \\cup S, &\n",
    "\\sigma(x) = \n",
    "\\begin{cases}\n",
    "\\sigma_x & \\text{ if } x \\in S\\\\\n",
    "+\\infty & \\text{ if } x \\in \\partial \\Omega_0.\n",
    "\\end{cases}\n",
    "\\end{align}\n"
   ]
  },
  {
   "cell_type": "code",
   "execution_count": 8,
   "metadata": {},
   "outputs": [],
   "source": [
    "hfmIn.update({\n",
    "    # Introduce two seeds, at positions (-0.5,0.3) and (0.5,0.8)\n",
    "    'seeds':[[-0.5,0.3],[0.5,0.8]],\n",
    "    # Boundary conditions imposed at the seeds. \n",
    "    'seedValues':[0.,0.5],\n",
    "    # 'seedValues' defaults [0.,0.] if unspecified. \n",
    "})"
   ]
  },
  {
   "cell_type": "markdown",
   "metadata": {},
   "source": [
    "The HFM software rounds the seed positions to the closest point of the discretization grid. (If high accuracy is needed, please use source factorization methods, which not require the point to be on the grid. See notebook on [high accuracy](HighAccuracy.ipynb).)\n",
    "\n",
    "The followinf method allows to get the multi-index of one or several points in the discretization grid."
   ]
  },
  {
   "cell_type": "code",
   "execution_count": 9,
   "metadata": {},
   "outputs": [
    {
     "name": "stdout",
     "output_type": "stream",
     "text": [
      "Seed positions rounded to [[ 50  29]\n",
      " [150  80]], with rounding errors [[-0.5  0.5]\n",
      " [-0.5 -0.5]]\n"
     ]
    }
   ],
   "source": [
    "index,rounding_error = hfmIn.IndexFromPoint(hfmIn['seeds'])\n",
    "print(f\"Seed positions rounded to {index}, with rounding errors {rounding_error}\")"
   ]
  },
  {
   "cell_type": "markdown",
   "metadata": {},
   "source": [
    "Conversely, the position associated to a given index, with integer or floating point entries, can be recovered."
   ]
  },
  {
   "cell_type": "code",
   "execution_count": 10,
   "metadata": {},
   "outputs": [
    {
     "name": "stdout",
     "output_type": "stream",
     "text": [
      "Rounded positions [[-0.495  0.295]\n",
      " [ 0.505  0.805]], original positions [[-0.5  0.3]\n",
      " [ 0.5  0.8]]\n"
     ]
    }
   ],
   "source": [
    "print(f\"Rounded positions {hfmIn.PointFromIndex(index)}, original positions {hfmIn.PointFromIndex(index+rounding_error)}\")"
   ]
  },
  {
   "cell_type": "markdown",
   "metadata": {},
   "source": [
    "## 2. Calling the solver\n",
    "\n",
    "One last step, before running the Fast-Marching solver, is to indicate which outputs are desired.\n",
    "Here we request:\n",
    "* The PDE solution. \n",
    "* The geodesic flow direction, computed from the numerical scheme's upwind gradients."
   ]
  },
  {
   "cell_type": "code",
   "execution_count": 11,
   "metadata": {},
   "outputs": [],
   "source": [
    "hfmIn['exportValues']=1. # Ask for the PDE solution\n",
    "hfmIn['exportGeodesicFlow']=1 # Ask for the geodesic flow "
   ]
  },
  {
   "cell_type": "markdown",
   "metadata": {},
   "source": [
    "We also request three backtracked geodesics, from tips that we specify. \n",
    "In contrast with the seeds, defined above, the geodesic tips are not rounded to a point of the discretization grid.\n",
    "\n",
    "The HFM software implements two geodesic backtracking techniques, which usually produce similar results, and are referred to as 'ODE' (integration of the geodesicFlow using the Euler midpoint scheme), and 'Discrete' (based on automatic differentiation). For details see the [paper](#mirebeau_ipol_2018)."
   ]
  },
  {
   "cell_type": "code",
   "execution_count": 12,
   "metadata": {},
   "outputs": [],
   "source": [
    "hfmIn['tips'] = [[0.,0.6],[-0.9,0.5],[0.8,0.8]] # Ask for the geodesics from these three points\n",
    "#hfmInput['geodesicSolver']='ODE' # Choose the backtracking method. Defaults to 'Discrete' if unspecified. (CPU only)"
   ]
  },
  {
   "cell_type": "markdown",
   "metadata": {},
   "source": [
    "For demonstration purposes, we also add a dummy, useless input key\n",
    "\n",
    "<!---\n",
    "Note : Some visualization libraries, such as mayavi, adopt the bizarre convention that the axes ordering is YXZ. This used to be supported by the HFM library, but it is not anymore the case. Please make the required transpositions before visualization if needed.\n",
    "\n",
    "hfmIn['arrayOrdering']='YXZ_RowMajor' # Not supported anymore\n",
    "--->"
   ]
  },
  {
   "cell_type": "code",
   "execution_count": 13,
   "metadata": {},
   "outputs": [],
   "source": [
    "hfmIn['dummyKey']='dummyValue'"
   ]
  },
  {
   "cell_type": "code",
   "execution_count": 14,
   "metadata": {},
   "outputs": [
    {
     "ename": "ModuleNotFoundError",
     "evalue": "No module named 'HFMpy'",
     "output_type": "error",
     "traceback": [
      "\u001b[0;31m---------------------------------------------------------------------------\u001b[0m",
      "\u001b[0;31mModuleNotFoundError\u001b[0m                       Traceback (most recent call last)",
      "\u001b[0;32m/var/folders/my/8txl5p_52rj9jc_601wqr7cr0000gn/T/ipykernel_13285/453514078.py\u001b[0m in \u001b[0;36m<module>\u001b[0;34m\u001b[0m\n\u001b[0;32m----> 1\u001b[0;31m \u001b[0mhfmOut\u001b[0m \u001b[0;34m=\u001b[0m \u001b[0mhfmIn\u001b[0m\u001b[0;34m.\u001b[0m\u001b[0mRun\u001b[0m\u001b[0;34m(\u001b[0m\u001b[0;34m)\u001b[0m\u001b[0;34m\u001b[0m\u001b[0;34m\u001b[0m\u001b[0m\n\u001b[0m",
      "\u001b[0;32m~/Dropbox/Programmes/Github/AdaptiveGridDiscretizations/Notebooks_FMM/../agd/Eikonal/DictIn.py\u001b[0m in \u001b[0;36mRun\u001b[0;34m(self, join, **kwargs)\u001b[0m\n\u001b[1;32m    264\u001b[0m                         \u001b[0;32melse\u001b[0m\u001b[0;34m:\u001b[0m \u001b[0;32mreturn\u001b[0m \u001b[0mdictOut\u001b[0m\u001b[0;34m(\u001b[0m\u001b[0mout\u001b[0m\u001b[0;34m)\u001b[0m\u001b[0;34m\u001b[0m\u001b[0;34m\u001b[0m\u001b[0m\n\u001b[1;32m    265\u001b[0m \u001b[0;34m\u001b[0m\u001b[0m\n\u001b[0;32m--> 266\u001b[0;31m                 \u001b[0;32mif\u001b[0m   \u001b[0mself\u001b[0m\u001b[0;34m.\u001b[0m\u001b[0mmode\u001b[0m\u001b[0;34m==\u001b[0m\u001b[0;34m'cpu'\u001b[0m\u001b[0;34m:\u001b[0m \u001b[0;32mreturn\u001b[0m \u001b[0mto_dictOut\u001b[0m\u001b[0;34m(\u001b[0m\u001b[0mrun_detail\u001b[0m\u001b[0;34m.\u001b[0m\u001b[0mRunSmart\u001b[0m\u001b[0;34m(\u001b[0m\u001b[0mself\u001b[0m\u001b[0;34m,\u001b[0m\u001b[0;34m**\u001b[0m\u001b[0mkwargs\u001b[0m\u001b[0;34m)\u001b[0m\u001b[0;34m)\u001b[0m\u001b[0;34m\u001b[0m\u001b[0;34m\u001b[0m\u001b[0m\n\u001b[0m\u001b[1;32m    267\u001b[0m                 \u001b[0;32melif\u001b[0m \u001b[0mself\u001b[0m\u001b[0;34m.\u001b[0m\u001b[0mmode\u001b[0m\u001b[0;34m==\u001b[0m\u001b[0;34m'cpu_raw'\u001b[0m\u001b[0;34m:\u001b[0m \u001b[0;32mreturn\u001b[0m \u001b[0mto_dictOut\u001b[0m\u001b[0;34m(\u001b[0m\u001b[0mrun_detail\u001b[0m\u001b[0;34m.\u001b[0m\u001b[0mRunRaw\u001b[0m\u001b[0;34m(\u001b[0m\u001b[0mself\u001b[0m\u001b[0;34m.\u001b[0m\u001b[0mstore\u001b[0m\u001b[0;34m,\u001b[0m\u001b[0;34m**\u001b[0m\u001b[0mkwargs\u001b[0m\u001b[0;34m)\u001b[0m\u001b[0;34m)\u001b[0m\u001b[0;34m\u001b[0m\u001b[0;34m\u001b[0m\u001b[0m\n\u001b[1;32m    268\u001b[0m                 \u001b[0;32melif\u001b[0m \u001b[0mself\u001b[0m\u001b[0;34m.\u001b[0m\u001b[0mmode\u001b[0m\u001b[0;34m==\u001b[0m\u001b[0;34m'cpu_transfer'\u001b[0m\u001b[0;34m:\u001b[0m\u001b[0;34m\u001b[0m\u001b[0;34m\u001b[0m\u001b[0m\n",
      "\u001b[0;32m~/Dropbox/Programmes/Github/AdaptiveGridDiscretizations/Notebooks_FMM/../agd/Eikonal/run_detail.py\u001b[0m in \u001b[0;36mRunSmart\u001b[0;34m(hfmIn, co_output, cache, returns)\u001b[0m\n\u001b[1;32m    151\u001b[0m         \u001b[0;31m# Call to the HFM library\u001b[0m\u001b[0;34m\u001b[0m\u001b[0;34m\u001b[0m\u001b[0m\n\u001b[1;32m    152\u001b[0m         \u001b[0;32mif\u001b[0m \u001b[0mreturns\u001b[0m\u001b[0;34m==\u001b[0m\u001b[0;34m'in_raw'\u001b[0m\u001b[0;34m:\u001b[0m \u001b[0;32mreturn\u001b[0m \u001b[0mhfmIn_raw\u001b[0m\u001b[0;34m\u001b[0m\u001b[0;34m\u001b[0m\u001b[0m\n\u001b[0;32m--> 153\u001b[0;31m         \u001b[0mhfmOut_raw\u001b[0m \u001b[0;34m=\u001b[0m \u001b[0mRunDispatch\u001b[0m\u001b[0;34m(\u001b[0m\u001b[0mhfmIn_raw\u001b[0m\u001b[0;34m,\u001b[0m\u001b[0mGetBinaryDir\u001b[0m\u001b[0;34m(\u001b[0m\u001b[0;34m\"FileHFM\"\u001b[0m\u001b[0;34m,\u001b[0m\u001b[0;34m\"HFMpy\"\u001b[0m\u001b[0;34m)\u001b[0m\u001b[0;34m)\u001b[0m\u001b[0;34m\u001b[0m\u001b[0;34m\u001b[0m\u001b[0m\n\u001b[0m\u001b[1;32m    154\u001b[0m         \u001b[0;32mif\u001b[0m \u001b[0mreturns\u001b[0m\u001b[0;34m==\u001b[0m\u001b[0;34m'out_raw'\u001b[0m\u001b[0;34m:\u001b[0m \u001b[0;32mreturn\u001b[0m \u001b[0mhfmOut_raw\u001b[0m\u001b[0;34m\u001b[0m\u001b[0;34m\u001b[0m\u001b[0m\n\u001b[1;32m    155\u001b[0m \u001b[0;34m\u001b[0m\u001b[0m\n",
      "\u001b[0;32m~/Dropbox/Programmes/Github/AdaptiveGridDiscretizations/Notebooks_FMM/../agd/Eikonal/LibraryCall.py\u001b[0m in \u001b[0;36mRunDispatch\u001b[0;34m(params, bin_dir)\u001b[0m\n\u001b[1;32m     52\u001b[0m         \u001b[0;32mif\u001b[0m \u001b[0mbin_dir\u001b[0m \u001b[0;32mis\u001b[0m \u001b[0;32mNone\u001b[0m\u001b[0;34m:\u001b[0m\u001b[0;34m\u001b[0m\u001b[0;34m\u001b[0m\u001b[0m\n\u001b[1;32m     53\u001b[0m                 \u001b[0mmoduleName\u001b[0m \u001b[0;34m=\u001b[0m \u001b[0;34m'HFMpy.HFM_'\u001b[0m\u001b[0;34m+\u001b[0m\u001b[0mmodelName\u001b[0m\u001b[0;34m\u001b[0m\u001b[0;34m\u001b[0m\u001b[0m\n\u001b[0;32m---> 54\u001b[0;31m                 \u001b[0mHFM\u001b[0m \u001b[0;34m=\u001b[0m \u001b[0mimportlib\u001b[0m\u001b[0;34m.\u001b[0m\u001b[0mimport_module\u001b[0m\u001b[0;34m(\u001b[0m\u001b[0mmoduleName\u001b[0m\u001b[0;34m)\u001b[0m\u001b[0;34m\u001b[0m\u001b[0;34m\u001b[0m\u001b[0m\n\u001b[0m\u001b[1;32m     55\u001b[0m                 \u001b[0mhfm\u001b[0m \u001b[0;34m=\u001b[0m \u001b[0mHFM\u001b[0m\u001b[0;34m.\u001b[0m\u001b[0mHFMIO\u001b[0m\u001b[0;34m(\u001b[0m\u001b[0;34m)\u001b[0m\u001b[0;34m\u001b[0m\u001b[0;34m\u001b[0m\u001b[0m\n\u001b[1;32m     56\u001b[0m                 \u001b[0mSetInput\u001b[0m\u001b[0;34m(\u001b[0m\u001b[0mhfm\u001b[0m\u001b[0;34m,\u001b[0m\u001b[0mparams\u001b[0m\u001b[0;34m)\u001b[0m\u001b[0;34m\u001b[0m\u001b[0;34m\u001b[0m\u001b[0m\n",
      "\u001b[0;32m~/opt/miniconda3/envs/agd-hfm_dev39/lib/python3.9/importlib/__init__.py\u001b[0m in \u001b[0;36mimport_module\u001b[0;34m(name, package)\u001b[0m\n\u001b[1;32m    125\u001b[0m                 \u001b[0;32mbreak\u001b[0m\u001b[0;34m\u001b[0m\u001b[0;34m\u001b[0m\u001b[0m\n\u001b[1;32m    126\u001b[0m             \u001b[0mlevel\u001b[0m \u001b[0;34m+=\u001b[0m \u001b[0;36m1\u001b[0m\u001b[0;34m\u001b[0m\u001b[0;34m\u001b[0m\u001b[0m\n\u001b[0;32m--> 127\u001b[0;31m     \u001b[0;32mreturn\u001b[0m \u001b[0m_bootstrap\u001b[0m\u001b[0;34m.\u001b[0m\u001b[0m_gcd_import\u001b[0m\u001b[0;34m(\u001b[0m\u001b[0mname\u001b[0m\u001b[0;34m[\u001b[0m\u001b[0mlevel\u001b[0m\u001b[0;34m:\u001b[0m\u001b[0;34m]\u001b[0m\u001b[0;34m,\u001b[0m \u001b[0mpackage\u001b[0m\u001b[0;34m,\u001b[0m \u001b[0mlevel\u001b[0m\u001b[0;34m)\u001b[0m\u001b[0;34m\u001b[0m\u001b[0;34m\u001b[0m\u001b[0m\n\u001b[0m\u001b[1;32m    128\u001b[0m \u001b[0;34m\u001b[0m\u001b[0m\n\u001b[1;32m    129\u001b[0m \u001b[0;34m\u001b[0m\u001b[0m\n",
      "\u001b[0;32m~/opt/miniconda3/envs/agd-hfm_dev39/lib/python3.9/importlib/_bootstrap.py\u001b[0m in \u001b[0;36m_gcd_import\u001b[0;34m(name, package, level)\u001b[0m\n",
      "\u001b[0;32m~/opt/miniconda3/envs/agd-hfm_dev39/lib/python3.9/importlib/_bootstrap.py\u001b[0m in \u001b[0;36m_find_and_load\u001b[0;34m(name, import_)\u001b[0m\n",
      "\u001b[0;32m~/opt/miniconda3/envs/agd-hfm_dev39/lib/python3.9/importlib/_bootstrap.py\u001b[0m in \u001b[0;36m_find_and_load_unlocked\u001b[0;34m(name, import_)\u001b[0m\n",
      "\u001b[0;32m~/opt/miniconda3/envs/agd-hfm_dev39/lib/python3.9/importlib/_bootstrap.py\u001b[0m in \u001b[0;36m_call_with_frames_removed\u001b[0;34m(f, *args, **kwds)\u001b[0m\n",
      "\u001b[0;32m~/opt/miniconda3/envs/agd-hfm_dev39/lib/python3.9/importlib/_bootstrap.py\u001b[0m in \u001b[0;36m_gcd_import\u001b[0;34m(name, package, level)\u001b[0m\n",
      "\u001b[0;32m~/opt/miniconda3/envs/agd-hfm_dev39/lib/python3.9/importlib/_bootstrap.py\u001b[0m in \u001b[0;36m_find_and_load\u001b[0;34m(name, import_)\u001b[0m\n",
      "\u001b[0;32m~/opt/miniconda3/envs/agd-hfm_dev39/lib/python3.9/importlib/_bootstrap.py\u001b[0m in \u001b[0;36m_find_and_load_unlocked\u001b[0;34m(name, import_)\u001b[0m\n",
      "\u001b[0;31mModuleNotFoundError\u001b[0m: No module named 'HFMpy'"
     ]
    }
   ],
   "source": [
    "hfmOut = hfmIn.Run()"
   ]
  },
  {
   "cell_type": "markdown",
   "metadata": {},
   "source": [
    "Unused keys are frequently mispelled fields. That is why they are shown with a warning.\n",
    "Defaulted inputs might also be of interest, as well as the list of outputs."
   ]
  },
  {
   "cell_type": "code",
   "execution_count": null,
   "metadata": {},
   "outputs": [],
   "source": [
    "print(\"Output keys : \", hfmOut.keys(),\"\\n\")"
   ]
  },
  {
   "cell_type": "code",
   "execution_count": null,
   "metadata": {},
   "outputs": [],
   "source": [
    "if hfmIn.mode=='cpu':\n",
    "    print(\"Unused input keys : \",    hfmOut['unusedFromUser'],\"\\n\") \n",
    "    print(\"Defaulted input keys : \", hfmOut['defaulted'],\"\\n\") \n",
    "elif hfmIn.mode=='gpu':\n",
    "    print(\"Available detail on keys\",hfmOut['keys'].keys())\n",
    "    print(\"Unused input keys : \",    hfmOut['keys']['unused'],\"\\n\") \n",
    "    print(\"Defaulted input keys : \", hfmOut['keys']['default'],\"\\n\") "
   ]
  },
  {
   "cell_type": "code",
   "execution_count": null,
   "metadata": {},
   "outputs": [],
   "source": [
    "hfmIn.pop('dummyKey',None)"
   ]
  },
  {
   "cell_type": "markdown",
   "metadata": {},
   "source": [
    "## 3. Displaying the results.\n",
    "\n",
    "The level lines of the computed distance map can be displayed using the contourf function. "
   ]
  },
  {
   "cell_type": "code",
   "execution_count": null,
   "metadata": {},
   "outputs": [],
   "source": [
    "X,Y = hfmIn.Grid() # Create a coordinate system"
   ]
  },
  {
   "cell_type": "code",
   "execution_count": null,
   "metadata": {},
   "outputs": [],
   "source": [
    "plt.figure(figsize=[6,3]); plt.title('Distance function, for a uniform cost'); plt.axis('equal');\n",
    "plt.contourf(X,Y,hfmOut['values']); # Display the value function. "
   ]
  },
  {
   "cell_type": "markdown",
   "metadata": {},
   "source": [
    "The geodesics, three in our case, are returned as a list of points, and a list of lengths. \n",
    "The following line splits them into separate arrays, for more convenient manipulation. We then plot."
   ]
  },
  {
   "cell_type": "code",
   "execution_count": null,
   "metadata": {},
   "outputs": [],
   "source": [
    "fig = plt.figure(figsize=[6,3]); plt.title('Distance function and minimal paths'); plt.axis('equal'); \n",
    "\n",
    "# Draw the geodesics\n",
    "for geo in hfmOut['geodesics']: plt.plot(*geo) \n",
    "\n",
    "# Overlay the contour plot of the distance map\n",
    "plt.contourf(X,Y,hfmOut['values'],cmap='Greys');\n",
    "savefig(fig,'Dist_Path_UnifCost.png')"
   ]
  },
  {
   "cell_type": "markdown",
   "metadata": {},
   "source": [
    "The minimal geodesics associated with our path planning problem obey an Ordinary Differential Equation (ODE), defined in terms of the solution $u$ of the eikonal PDE. \n",
    "More precisely, the minimal geodesic reaching the point $x \\in \\Omega$ at the time $T = u(x)$ obeys \n",
    "\\begin{align*}\n",
    "    \\forall t \\leq T, \\gamma'(t) &= V(\\gamma(t)), &\n",
    "    \\gamma(T) &= x.\n",
    "\\end{align*}\n",
    "In practice, this ODE is solved *backwards in time*, as evidenced by terminal boundary condition $\\gamma(T) = x$..\n",
    "\n",
    "The vector field $V : \\Omega \\to {\\mathbb R}^2$, displayed in the next cell, is referred to as the geodesic flow direction, and is expressed in terms of the gradient of the arrival times function $u : \\Omega \\to \\mathbb R$. In the case of an isotropic metric, defined by a cost function $c: \\Omega \\to ]0,\\infty[$\n",
    "\\begin{equation*}\n",
    "    V(x) = c(x)^{-2} \\nabla u(x),\n",
    "\\end{equation*}\n"
   ]
  },
  {
   "cell_type": "code",
   "execution_count": null,
   "metadata": {},
   "outputs": [],
   "source": [
    "fig = plt.figure(figsize=[6,3]); plt.title('Geodesic flow vector field'); plt.axis('equal'); \n",
    "\n",
    "flowX, flowY = hfmOut['flow']\n",
    "\n",
    "# Quiver plot of the geodesic flow. We subsample by a factor 5, using subscript [::5,::5], for better visualisation.\n",
    "quiver(X,Y,flowX,flowY,subsampling=(5,5))\n",
    "savefig(fig,'GeodesicFlow.png')"
   ]
  },
  {
   "cell_type": "markdown",
   "metadata": {},
   "source": [
    "By construction, the geodesic flow has unit speed, as measured by the metric of the problem. In the present case of an isotropic metric, this is easily checked formally, since we get for each point $x \\in \\Omega$\n",
    "\\begin{equation*}\n",
    "c(x) \\|V(x)\\| = c(x)^{-1} \\| \\nabla u(x)\\| = 1.\n",
    "\\end{equation*}\n",
    "Note that this identity is not satisfied at the two seed points, which strictly speaking are part of $\\partial \\Omega$. We check this identity numerically in the next cell."
   ]
  },
  {
   "cell_type": "code",
   "execution_count": null,
   "metadata": {},
   "outputs": [],
   "source": [
    "fig = plt.figure(figsize=[6,3]); plt.title('Norm of the geodesic flow vector field'); plt.axis('equal'); \n",
    "\n",
    "norms = hfmIn['cost']*np.sqrt(flowX**2+flowY**2)\n",
    "plt.contourf(X[::5,::5],Y[::5,::5],norms[::5,::5])\n",
    "plt.colorbar();\n",
    "savefig(fig,'GeodesicFlowNorm.png')"
   ]
  },
  {
   "cell_type": "code",
   "execution_count": null,
   "metadata": {},
   "outputs": [],
   "source": [
    "hfmIn['exportGeodesicFlow']=0. # Do not export the geodesic flow in further experiments."
   ]
  },
  {
   "cell_type": "markdown",
   "metadata": {},
   "source": [
    "## 4. Introducing obstacles, and position dependent speed"
   ]
  },
  {
   "cell_type": "markdown",
   "metadata": {},
   "source": [
    "A obstacle is described as an array of 0 (obstacle absent) or 1 (obstacle present).\n",
    "One-pixel-thin structures can be used to represent walls. In the case, considered in the following notebooks, where adaptive wide stencil discretization schemes are used, a test is done to ensure that the scheme offsets do not jump over the walls.\n",
    "\n",
    "Outflow boundary conditions, $\\sigma(x) = \\infty$, are applied at each point $x$ of the obstacles."
   ]
  },
  {
   "cell_type": "code",
   "execution_count": null,
   "metadata": {},
   "outputs": [],
   "source": [
    "# Let us construct a round shaped obstacle, and 1-pixel wide a barrier\n",
    "disk = (X-0.3)**2 + (Y-0.3)**2 <= 0.2**2\n",
    "barrier = np.logical_and(X==X[70,0], Y>=0.4)\n",
    "obstacle = np.logical_or(disk,barrier)\n",
    "hfmIn['walls']=obstacle # Add the obstacle to the input parameters. "
   ]
  },
  {
   "cell_type": "code",
   "execution_count": null,
   "metadata": {},
   "outputs": [],
   "source": [
    "fig = plt.figure(figsize=[6,3]); plt.title('Obstacles introduced in the domain'); plt.axis('equal'); \n",
    "plt.contourf(X,Y,obstacle);\n",
    "savefig(fig,'Obstacles.png')"
   ]
  },
  {
   "cell_type": "markdown",
   "metadata": {},
   "source": [
    "We next consider a position dependent cost function. Recall the eikonal equation\n",
    "\\begin{align*}\n",
    "\\forall x \\in \\Omega, \\,  \\|\\nabla u(x)\\| &= c(x) &\n",
    "\\forall x \\in \\partial \\Omega, \\, u(x) = \\sigma(x).\n",
    "\\end{align*}"
   ]
  },
  {
   "cell_type": "code",
   "execution_count": null,
   "metadata": {},
   "outputs": [],
   "source": [
    "hfmIn['cost'] = np.exp(-0.5*(X**2+Y**2))"
   ]
  },
  {
   "cell_type": "code",
   "execution_count": null,
   "metadata": {},
   "outputs": [],
   "source": [
    "fig = plt.figure(figsize=[6,3]); plt.title('Cost function $c(x)=\\exp(-\\|x\\|^2/2)$'); plt.axis('equal'); \n",
    "plt.contourf(X,Y,hfmIn['cost']);\n",
    "savefig(fig,'CostFunction.png')"
   ]
  },
  {
   "cell_type": "code",
   "execution_count": null,
   "metadata": {},
   "outputs": [],
   "source": [
    "hfmOut =hfmIn.Run()"
   ]
  },
  {
   "cell_type": "code",
   "execution_count": null,
   "metadata": {},
   "outputs": [],
   "source": [
    "fig = plt.figure(figsize=[6,3]); plt.title('Distance and geodesics, with obstacles and non-uniform cost'); plt.axis('equal'); \n",
    "plt.contourf(X,Y,hfmOut['values'],cmap='Greys') # Display the value function. \n",
    "for geo in hfmOut['geodesics']:  plt.plot(*geo) \n",
    "savefig(fig,'Dist_Paths_CostObstacles.png')"
   ]
  },
  {
   "cell_type": "code",
   "execution_count": null,
   "metadata": {},
   "outputs": [],
   "source": [
    "if hfmIn.mode=='gpu': raise ad.DeliberateNotebookError(\n",
    "    \"Some of the functionality described in the rest of this notebook is absent from the GPU eikonal solver\")"
   ]
  },
  {
   "cell_type": "markdown",
   "metadata": {},
   "source": [
    "## 5. Termination criteria\n",
    "\n",
    "The HFM software by default terminates when eikonal PDE is solved on the entire domain $\\Omega$, by propagating a front in a single pass, in a Dijkstra-like manner. However it can be interesting to abort the computation early, in order for instance to save CPU time. Various stopping criteria are available for that purpose."
   ]
  },
  {
   "cell_type": "markdown",
   "metadata": {},
   "source": [
    "### 5.1 Stop when one or all of a set of points are reached by the front.\n",
    "\n",
    "We provide an option for stopping the front propagation as soon as *every* member of a collection of points is reached.\n",
    "In many applications, the minimal geodesics are more valuable than the distance map itself. In that case, one may stop the front propagation as soon as all the geodesic tips are reached. Computation time is reduced, and geodesic backtracking is still feasible. "
   ]
  },
  {
   "cell_type": "code",
   "execution_count": null,
   "metadata": {},
   "outputs": [],
   "source": [
    "hfmIn['stopWhenAllAccepted']=hfmIn['tips'] # Abort computation when all the tips are reached by the front"
   ]
  },
  {
   "cell_type": "code",
   "execution_count": null,
   "metadata": {},
   "outputs": [],
   "source": [
    "hfmOut = hfmIn.Run()"
   ]
  },
  {
   "cell_type": "code",
   "execution_count": null,
   "metadata": {},
   "outputs": [],
   "source": [
    "fig = plt.figure(figsize=[6,3]); plt.title('Stop propagation when all tips are accepted'); plt.axis('equal'); \n",
    "plt.contourf(X,Y,hfmOut['values'],cmap='Greys');  # Display the value function. \n",
    "for geo in hfmOut['geodesics']:  plt.plot(*geo) \n",
    "savefig(fig,'StopAllTipsAccepted.png')"
   ]
  },
  {
   "cell_type": "markdown",
   "metadata": {},
   "source": [
    "A second option stops the front propagation as soon as *any* member of a collection of points is reached. For illustration, we stop as soon as the first geodesic tip is reached. The geodesic originating from this particular point can be backtraced, but obviously the others cannot anymore."
   ]
  },
  {
   "cell_type": "code",
   "execution_count": null,
   "metadata": {},
   "outputs": [],
   "source": [
    "hfmIn['stopWhenAnyAccepted']=hfmIn['tips']"
   ]
  },
  {
   "cell_type": "code",
   "execution_count": null,
   "metadata": {},
   "outputs": [],
   "source": [
    "hfmOut = hfmIn.Run()"
   ]
  },
  {
   "cell_type": "code",
   "execution_count": null,
   "metadata": {},
   "outputs": [],
   "source": [
    "plt.figure(figsize=[6,3]); plt.title('Stop propagation when first tip is accepted'); plt.axis('equal'); \n",
    "plt.contourf(X,Y,hfmOut['values'],cmap='Greys');   # Display the value function.  \n",
    "for geo in hfmOut['geodesics']: plt.plot(*geo) "
   ]
  },
  {
   "cell_type": "code",
   "execution_count": null,
   "metadata": {},
   "outputs": [],
   "source": [
    "# We won't use these stopping criteria anymore.\n",
    "hfmIn.pop('stopWhenAllAccepted',None);\n",
    "hfmIn.pop('stopWhenAnyAccepted',None);"
   ]
  },
  {
   "cell_type": "markdown",
   "metadata": {},
   "source": [
    "### 5.2 Stop at a prescribed distance from the seeds\n",
    "\n",
    "We here decide to terminate the front propagation once the value function, i.e. the distance from the seeds (plus possibly the boundary condition), reaches a provided threshold."
   ]
  },
  {
   "cell_type": "code",
   "execution_count": null,
   "metadata": {},
   "outputs": [],
   "source": [
    "hfmIn['stopAtDistance']=0.7"
   ]
  },
  {
   "cell_type": "code",
   "execution_count": null,
   "metadata": {},
   "outputs": [],
   "source": [
    "hfmOut = hfmIn.Run()"
   ]
  },
  {
   "cell_type": "code",
   "execution_count": null,
   "metadata": {},
   "outputs": [],
   "source": [
    "plt.figure(figsize=[6,3]); plt.title('Stop propagation at a prescribed distance'); plt.axis('equal'); \n",
    "plt.contourf(X,Y,hfmOut['values'],cmap='Greys'); # Display the value function.  \n",
    "for geo in hfmOut['geodesics']:  plt.plot(*geo) "
   ]
  },
  {
   "cell_type": "code",
   "execution_count": null,
   "metadata": {},
   "outputs": [],
   "source": [
    "hfmIn.pop('stopAtDistance',None); # We won't use this stopping criterion anymore"
   ]
  },
  {
   "cell_type": "markdown",
   "metadata": {},
   "source": [
    "## 6. Side products of the fast marching algorithm\n",
    "\n",
    "The HFM software can compute several side products in addition to the (approximate) distance map $u : \\Omega \\to ]-\\infty,\\infty]$. In this section, we present two of them: the euclidean length of the minimal geodesics, and the Voronoi diagram associated with the seeds. Since these computations are performed simultaneously with the front propagation, they are also used within stopping criteria."
   ]
  },
  {
   "cell_type": "markdown",
   "metadata": {},
   "source": [
    "### 6.1 Voronoi region computation\n",
    "\n",
    "The Voronoi cell of a seed consists of all the points which are closer to this seed than to the others."
   ]
  },
  {
   "cell_type": "code",
   "execution_count": null,
   "metadata": {},
   "outputs": [],
   "source": [
    "hfmIn['seedFlags']=[0,1] # Define voronoi region indices associated with the seeds."
   ]
  },
  {
   "cell_type": "code",
   "execution_count": null,
   "metadata": {},
   "outputs": [],
   "source": [
    "hfmOut = hfmIn.Run()"
   ]
  },
  {
   "cell_type": "code",
   "execution_count": null,
   "metadata": {},
   "outputs": [],
   "source": [
    "fig = plt.figure(figsize=[6,3]); plt.title('Voronoi regions'); plt.axis('equal'); \n",
    "plt.contourf(X,Y,hfmOut['voronoiFlags'],cmap='Greys'); # Display the Voronoi regions.\n",
    "for geo in hfmOut['geodesics']:  plt.plot(*geo) \n",
    "savefig(fig,'VoronoiRegions.png')"
   ]
  },
  {
   "cell_type": "markdown",
   "metadata": {},
   "source": [
    "In next experiment, we terminate the computation as soon as the two Voronoi regions $V_0,V_1$ *meet*. More precisely, as soon as they contain points $x_0,x_1$ that differ by a single unit at a single coordinate\n",
    "\\begin{equation*}\n",
    "    x_1-x_0 \\in \\{(0,\\pm 1), (\\pm 1,0)\\}.\n",
    "\\end{equation*}\n",
    "We also display the geodesics backtraced from $x_0$ and $x_1$. By construction, they can be concatenated into a single minimal geodesic joining the two seeds."
   ]
  },
  {
   "cell_type": "code",
   "execution_count": null,
   "metadata": {},
   "outputs": [],
   "source": [
    "hfmIn['voronoiStoppingCriterion']='RegionsMeeting'"
   ]
  },
  {
   "cell_type": "code",
   "execution_count": null,
   "metadata": {},
   "outputs": [],
   "source": [
    "hfmOut = hfmIn.Run()"
   ]
  },
  {
   "cell_type": "code",
   "execution_count": null,
   "metadata": {},
   "outputs": [],
   "source": [
    "print(\"The Voronoi regions meet at the neighbor points x0 =\",hfmOut['voronoiDiagram_meetingPoint0'],\n",
    "      \"and x1 =\", hfmOut['voronoiDiagram_meetingPoint1'])"
   ]
  },
  {
   "cell_type": "code",
   "execution_count": null,
   "metadata": {},
   "outputs": [],
   "source": [
    "fig = plt.figure(figsize=[6,3]); plt.title('Propagation stopped when Voronoi regions met'); plt.axis('equal'); \n",
    "plt.contourf(X,Y,hfmOut['voronoiFlags'],cmap='Greys');  # Display the Voronoi regions.\n",
    "for geo in hfmOut['geodesics_voronoiDiagram']:  plt.plot(*geo) "
   ]
  },
  {
   "cell_type": "code",
   "execution_count": null,
   "metadata": {},
   "outputs": [],
   "source": [
    "hfmIn.pop('voronoiStoppingCriterion',None); # We won't use this stopping criterion anymore."
   ]
  },
  {
   "cell_type": "markdown",
   "metadata": {},
   "source": [
    "### 6.2 Euclidean length of geodesics\n",
    "\n",
    "A simple addition to the numerical scheme allows to compute the euclidean length of the minimal geodesics from the seeds towards the points of the fast marching front. Optionally, we may to interrupt the computations once these lengths reach a prescribed threshold.\n",
    "\n",
    "The scale of the grid must be specified in each direction. Optionally, this scale may vary over the domain."
   ]
  },
  {
   "cell_type": "code",
   "execution_count": null,
   "metadata": {},
   "outputs": [],
   "source": [
    "gridScale=hfmIn['gridScale']\n",
    "hfmIn['euclideanScale']=[gridScale,gridScale] # euclidean scale of the grid in the x and y directions \n",
    "hfmIn['stopAtEuclideanLength']=1. # Optional. Stopping criterion based on euclidean length of geodesics."
   ]
  },
  {
   "cell_type": "code",
   "execution_count": null,
   "metadata": {},
   "outputs": [],
   "source": [
    "hfmOut = hfmIn.Run()"
   ]
  },
  {
   "cell_type": "code",
   "execution_count": null,
   "metadata": {},
   "outputs": [],
   "source": [
    "hfmOut.keys()"
   ]
  },
  {
   "cell_type": "code",
   "execution_count": null,
   "metadata": {},
   "outputs": [],
   "source": [
    "print(\"Euclidean length stopping criterion was triggered at :\", hfmOut['euclideanLength_stoppingPoint'])"
   ]
  },
  {
   "cell_type": "code",
   "execution_count": null,
   "metadata": {},
   "outputs": [],
   "source": [
    "fig=plt.figure(figsize=[6,3]); plt.title('Euclidean length of geodesics, shown, used as stopping criterion'); plt.axis('equal'); \n",
    "\n",
    "plt.contourf(X,Y,hfmOut['euclideanLengths'],cmap='Greys');  # Display the geodesic euclidean lengths.\n",
    "# Display the point that triggered the stopping criterion, and the corresponding minimal geodesic\n",
    "plt.plot(*hfmOut['geodesic_euclideanLength']) \n",
    "savefig(fig,'EuclideanLength.png')"
   ]
  },
  {
   "cell_type": "markdown",
   "metadata": {},
   "source": [
    "As a consistency check, we compare the value function with the euclidean length of geodesics, the latter being computed with an adequately chosen point dependent scale. The two quantities are equal up to machine precision, as expected, on the voronoi region of the left seed. On the voronoi region of the right seed, they differ by the seed boundary value, namely $0.5$."
   ]
  },
  {
   "cell_type": "code",
   "execution_count": null,
   "metadata": {},
   "outputs": [],
   "source": [
    "hfmIn['euclideanScale'] = gridScale*np.stack((hfmIn['cost'],hfmIn['cost']),2)\n",
    "hfmIn.pop('stopAtEuclideanLength',None)\n",
    "hfmIn['order']=1 # Disable second order enhancement, so as to get an exact match of the two methods."
   ]
  },
  {
   "cell_type": "code",
   "execution_count": null,
   "metadata": {},
   "outputs": [],
   "source": [
    "hfmOut = hfmIn.Run()"
   ]
  },
  {
   "cell_type": "code",
   "execution_count": null,
   "metadata": {},
   "outputs": [],
   "source": [
    "plt.figure(figsize=[6,3]); plt.title('Distance and geodesic length are consistent'); plt.axis('equal'); \n",
    "plt.contourf(X,Y,hfmOut['euclideanLengths']-hfmOut['values']);"
   ]
  },
  {
   "cell_type": "code",
   "execution_count": null,
   "metadata": {},
   "outputs": [],
   "source": [
    "# Restore parameters\n",
    "hfmIn['order']=2.\n",
    "hfmIn.pop('euclideanScale',None);"
   ]
  },
  {
   "cell_type": "markdown",
   "metadata": {},
   "source": [
    "## 7. Using a time dependent speed function\n",
    "\n",
    "In this section, we consider a path planning problem in which the speed function depends on both position and time\n",
    "\\begin{equation*}\n",
    "    s : \\Omega \\times \\mathbb R \\to ]0,\\infty[.\n",
    "\\end{equation*}\n",
    "The corresponding eikonal equation reads\n",
    "\\begin{align*}\n",
    "\\forall x \\in \\Omega, s(x,u(x)) \\| \\nabla u(x) \\| &= 1, &\n",
    "\\forall x \\in \\partial \\Omega, u(x) &= \\sigma(x).\n",
    "\\end{align*}\n",
    "Recall that the speed function is the reciprocal of the cost function, i.e. $s=1/c$. The numerical example below can trivially be adapted to the (equivalent) case of a time dependent cost function. \n",
    "\n",
    "In order to define a time dependent speed function, one must provide an increasing family of times $t_0<t_1< \\ldots <t_K$ is provided, and a family of speed functions at these time points $s_0,s_1,\\ldots, s_K : \\Omega \\to ]0,\\infty[$.\n",
    "In each time interval, the HFM software performs linear interpolation:\n",
    "\\begin{align*}\n",
    "s(x,t) &= (1-\\delta) s_k(x) + \\delta s_{k+1}(x) &\n",
    "\\text{ if } t &= (1-\\delta)t_k+\\delta t_{k+1}, \n",
    "\\end{align*}\n",
    "for some $0 \\leq k < K$, and some $\\delta \\in [0,1]$.\n",
    "The speed function is prolongated by a constant, w.r.t. time, before $t_0$ and after $t_K$\n",
    "\\begin{align*}\n",
    "s(x,t)&=s_0(x) \\text{ if } t \\leq t_0, &\n",
    "s(x,t)&=s_K(x) \\text{ if } t \\geq t_K.\n",
    "\\end{align*}"
   ]
  },
  {
   "cell_type": "code",
   "execution_count": null,
   "metadata": {},
   "outputs": [],
   "source": [
    "hfmIn.pop('cost',None) # Remove the previous cost function\n",
    "\n",
    "hfmIn['speed_times'] = [0.2,0.6,1.4] # Define the interpolation times t0,t1,t2\n",
    "hfmIn['speed_0'] = np.exp(0.5*(X**2+Y**2)) # Initial speed function s0\n",
    "hfmIn['speed_1'] = 0.2 # Intermediate speed function s1, defined as a small constant over the domain\n",
    "hfmIn['speed_2'] = hfmIn['speed_0'] # Last speed function, chosen equal to the first one"
   ]
  },
  {
   "cell_type": "code",
   "execution_count": null,
   "metadata": {},
   "outputs": [],
   "source": [
    "hfmOut = hfmIn.Run()"
   ]
  },
  {
   "cell_type": "code",
   "execution_count": null,
   "metadata": {},
   "outputs": [],
   "source": [
    "fig = plt.figure(figsize=[6,3]); plt.title('Case of a time dependent speed function'); plt.axis('equal'); \n",
    "plt.contourf(X,Y,hfmOut['values'],cmap='Greys'); plt.axis('equal'); # Display the value function.  \n",
    "for geo in hfmOut['geodesics']:  plt.plot(*geo) \n",
    "savefig(fig,'TimeDependent.png')"
   ]
  },
  {
   "cell_type": "markdown",
   "metadata": {},
   "source": [
    "## 8. Three dimensional fast marching\n",
    "\n",
    "In this section, we demonstrate three dimensional isotropic fast marching. The mayavi plugin is used for 3D surface plotting. Like numpy.meshgrid, it has the convention of transposing the first two indices of the arrays."
   ]
  },
  {
   "cell_type": "markdown",
   "metadata": {},
   "source": [
    "Like numpy.meshgrid, mayavi has the convention of transposing the first two indices of the arrays."
   ]
  },
  {
   "cell_type": "code",
   "execution_count": null,
   "metadata": {},
   "outputs": [],
   "source": [
    "hfmIn3D = Eikonal.dictIn({\n",
    "    'model':'Isotropic3',\n",
    "    'order':2,\n",
    "    'exportValues':1,\n",
    "    'seed':[0.3,0.5,0.7],\n",
    "\n",
    "})\n",
    "# Define the domain as the block [0,3] x [0,2] x [0,1]\n",
    "hfmIn3D.SetRect(sides=[[0,3],[0,2],[0,1]],dimx = 150)\n",
    "X3D,Y3D,Z3D = hfmIn3D.Grid() \n",
    "hfmIn3D['speed'] = np.exp(-(X3D-1.5)**2-(Y3D-1)**2-(Z3D-0.5)**2)\n",
    "hfmIn3D.SetUniformTips((3,3,3))"
   ]
  },
  {
   "cell_type": "code",
   "execution_count": null,
   "metadata": {},
   "outputs": [],
   "source": [
    "hfmOut = hfmIn3D.Run()"
   ]
  },
  {
   "cell_type": "code",
   "execution_count": null,
   "metadata": {},
   "outputs": [],
   "source": [
    "plt.axes(projection='3d')\n",
    "for geo in hfmOut['geodesics']: plt.plot(*geo)"
   ]
  },
  {
   "cell_type": "code",
   "execution_count": null,
   "metadata": {},
   "outputs": [],
   "source": [
    "if useMayavi: \n",
    "    mlab.contour3d(hfmOutput['values'], contours=[1,3,5,10])\n",
    "    mlab.show() # Displays in an external window. "
   ]
  },
  {
   "cell_type": "markdown",
   "metadata": {},
   "source": [
    "This is what the previous command should display.\n",
    "![Solution level set](Images/0_Isotropic_Contour3D.png)"
   ]
  },
  {
   "cell_type": "markdown",
   "metadata": {
    "collapsed": true
   },
   "source": [
    "## 9. A variant : diagonal metrics\n",
    "\n",
    "This section is devoted to diagonal metrics, a classical, minor but often useful, generalization of the isotropic considered above.  The path cost takes the form\n",
    "\\begin{equation*}\n",
    "   L_M(\\gamma) := \\int_0^1 \\| \\gamma'(t)\\|_{M(\\gamma(t))} \\,\\mathrm d t,\n",
    "\\end{equation*}\n",
    "where $M(x)$ is a diagonal matrix, dependent on the current position $x \\in \\Omega$. Recall that $\\|v\\|_M = \\sqrt{<M v,v>}$.\n",
    "The cost can be rewritten in the form\n",
    "\\begin{equation*}\n",
    "     \\| \\dot x \\|_{M(x)} = \\sqrt{\\sum_{1 \\leq i \\leq d} c_i(x)^2 \\dot x_i^2},\n",
    "\\end{equation*}\n",
    "where $\\dot x = (\\dot x_1,\\cdots, \\dot x_d)$, and where the diagonal coefficients of the metric are $(c_1(x)^2,\\cdots, c_d(x)^2)$. \n",
    "\n",
    "The user inputs $d$ cost functions $c_1,\\cdots,c_d : \\overline \\Omega \\to ]0,\\infty[$, where $d$ is the dimension, instead of a single one in the isotropic case.\n",
    "All the tools described in the isotropic case of course also apply to the diagonal models, as well as to the more sophisticated models described in the further notebooks."
   ]
  },
  {
   "cell_type": "code",
   "execution_count": null,
   "metadata": {},
   "outputs": [],
   "source": [
    "# The three dimensional counterpart Diagonal3 is also implemented\n",
    "hfmIn2 = Eikonal.dictIn({\n",
    "    'model':'Diagonal2',\n",
    "    'cost':np.stack(( np.exp(-0.5*(X**2+Y**2)),  np.ones(X.shape)),axis=2),\n",
    "})\n",
    "\n",
    "for key in ['walls','dims','seeds','seedValues','tips','exportValues','origin','gridScale']:\n",
    "    hfmIn2[key]=hfmIn[key]"
   ]
  },
  {
   "cell_type": "code",
   "execution_count": null,
   "metadata": {},
   "outputs": [],
   "source": [
    "hfmOut = hfmIn2.Run()"
   ]
  },
  {
   "cell_type": "code",
   "execution_count": null,
   "metadata": {},
   "outputs": [],
   "source": [
    "fig = plt.figure(figsize=[6,3]); plt.title('Distance and minimal paths, for a diagonal metric'); plt.axis('equal'); \n",
    "plt.contourf(X,Y,hfmOut['values'],cmap='Greys') # Display the value function.  \n",
    "for geo in hfmOut['geodesics']:  plt.plot(*geo) \n",
    "savefig(fig,'Diagonal.png')"
   ]
  },
  {
   "cell_type": "code",
   "execution_count": null,
   "metadata": {},
   "outputs": [],
   "source": []
  }
 ],
 "metadata": {
  "celltoolbar": "Format de la Cellule Texte Brut",
  "kernelspec": {
   "display_name": "Python 3 (ipykernel)",
   "language": "python",
   "name": "python3"
  },
  "language_info": {
   "codemirror_mode": {
    "name": "ipython",
    "version": 3
   },
   "file_extension": ".py",
   "mimetype": "text/x-python",
   "name": "python",
   "nbconvert_exporter": "python",
   "pygments_lexer": "ipython3",
   "version": "3.9.7"
  },
  "latex_envs": {
   "LaTeX_envs_menu_present": true,
   "autocomplete": false,
   "bibliofile": "biblio.bib",
   "cite_by": "apalike",
   "current_citInitial": 1,
   "eqLabelWithNumbers": true,
   "eqNumInitial": 1,
   "hotkeys": {
    "equation": "Ctrl-E",
    "itemize": "Ctrl-I"
   },
   "labels_anchors": false,
   "latex_user_defs": false,
   "report_style_numbering": false,
   "user_envs_cfg": false
  }
 },
 "nbformat": 4,
 "nbformat_minor": 1
}