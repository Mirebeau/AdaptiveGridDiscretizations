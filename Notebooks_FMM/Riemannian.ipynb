{
 "cells": [
  {
   "cell_type": "markdown",
   "metadata": {
    "collapsed": true
   },
   "source": [
    "# The HFM library - A fast marching solver with adaptive stencils\n",
    "\n",
    "## Part : Isotropic and anisotropic metrics\n",
    "## Chapter : Riemannian metrics\n",
    "\n",
    "In this notebook, we demonstrate anisotropic Riemannian fast marching, in two and three dimensions. The implementation and the numerical examples are based on the paper:\n",
    "* <a name=\"cite_Mirebeau_2017_Voronoi\">[Mir17]</a> J.-M. Mirebeau, “Anisotropic fast-marching on cartesian grids using Voronoi's first reduction of quadratic forms,” SINUM, 2019. [link](https://hal.archives-ouvertes.fr/hal-01507334)\n",
    "\n",
    "More formally, we numerically solve Riemannian eikonal equations, and backtrack the corresponding minimal geodesics. In order to describe this mathematical problem we need to introduce some notation. Let $\\Omega \\subset \\mathbb R^d$ be a domain, let $D : \\Omega \\to S^{++}(\\mathbb R^d)$ be a field of positive definite tensors, and let $\\sigma : \\partial \\Omega \\to ]-\\infty,\\infty]$ denote some boundary data. \n",
    "We seek the viscosity solution $u : \\overline \\Omega \\to ]-\\infty,\\infty]$ to the partial differential equation\n",
    "\\begin{align*}\n",
    "    \\forall x \\in \\Omega, \\|\\nabla u(x)\\|_{D(x)} &= 1 &\n",
    "    \\forall x \\in \\partial \\Omega, u(x) &= \\sigma(x).\n",
    "\\end{align*}\n",
    "We denoted by $\\|v\\|_D := \\sqrt{v^T\\cdot D \\cdot v}$ the anisotropic norm of a vectors $v \\in \\mathbb R^d$ defined by a positive definite tensor $D\\in S^{++}(\\mathbb R^d)$.\n",
    "\n",
    "\n",
    "The solution value $u(x)$, for $x\\in \\Omega$, is known to be the minimal Riemannian length (plus the initial penalization $\\sigma$) of a path $\\gamma : [0,1] \\to \\overline \\Omega$ from $\\partial \\Omega$ to $x$. \n",
    "\\begin{equation*}\n",
    "    u(x) = \\inf_{\\substack{\\gamma(0) \\in \\partial \\Omega\\\\ \\gamma(1)=x}} \\sigma(\\gamma(0)) + \\int_0^1 \\| \\gamma'(t) \\|_{M(\\gamma(t))} \\, \\mathrm d t.\n",
    "\\end{equation*}\n",
    "In the last equation, path length is measured using the Riemannian metric $M : \\Omega \\to S^{++}(\\mathbb R^d)$ defined as the inverse $M = D^{-1}$ of the tensor fields appearing in the eikonal PDE.\n",
    "\n",
    "\n",
    "**Anisotropy of a Riemannian metric.**\n",
    "Denote by $\\mu(M)$ the anisotropy of a positive definite tensor, which is also the square root of its condition number:\n",
    "$$\n",
    "    \\mu(M) := \\max_{|v|=|w|=1} \\frac {\\|v\\|_M}{\\|w\\|_M} = \\sqrt{\\frac{\\lambda_{\\max}(M)}{\\lambda_{\\min}(M)}},\n",
    "$$\n",
    "where $\\lambda_{\\min}(M)$ and $\\lambda_{\\max}(M)$ denote respectively the smallest and largest eigenvalue of $M$.\n",
    "\n",
    "The algorithms implemented in the HFM library use adaptive stencils, depending on the metric tensor anisotropy, which work best when $\\mu(M(x)) \\lesssim 10$ for all $x \\in \\Omega$. Some test cases satisfying $\\mu(M(x)) = 100$ for some $x \\in \\Omega$, are also passed successfully, but there is a risk of accuracy loss for such strong anisotropies. \n"
   ]
  },
  {
   "cell_type": "markdown",
   "metadata": {},
   "source": [
    "[**Summary**](Summary.ipynb) of volume Fast Marching Methods, this series of notebooks.\n",
    "\n",
    "[**Main summary**](../Summary.ipynb) of the Adaptive Grid Discretizations \n",
    "\tbook of notebooks, including the other volumes.\n",
    "\n",
    "# Table of contents\n",
    "  * [1. Two dimensional examples](#1.-Two-dimensional-examples)\n",
    "    * [1.1 Geodesic distance on  a surface defined by a height map](#1.1-Geodesic-distance-on--a-surface-defined-by-a-height-map)\n",
    "    * [1.2 Defining a metric by its eigenvectors and eigenvalues](#1.2-Defining-a-metric-by-its-eigenvectors-and-eigenvalues)\n",
    "    * [1.3 A discontinuous and extremely anisotropic Riemannian metric](#1.3-A-discontinuous-and-extremely-anisotropic-Riemannian-metric)\n",
    "    * [1.4 Axis dependent grid scale](#1.4-Axis-dependent-grid-scale)\n",
    "  * [2. Three dimensional examples](#2.-Three-dimensional-examples)\n",
    "    * [2.1 A smooth Riemannian metric](#2.1-A-smooth-Riemannian-metric)\n",
    "    * [2.2 A discontinuous and strongly anisotropic Riemannian metric](#2.2-A-discontinuous-and-strongly-anisotropic-Riemannian-metric)\n",
    "  * [3. Sensitivity analysis](#3.-Sensitivity-analysis)\n",
    "    * [3.1 Backward differentiation](#3.1-Backward-differentiation)\n",
    "    * [3.2 Forward differentiation](#3.2-Forward-differentiation)\n",
    "  * [4. Voronoi regions](#4.-Voronoi-regions)\n",
    "  * [5. Contruction of the Riemannian tensors](#5.-Contruction-of-the-Riemannian-tensors)\n",
    "    * [5.1 Dimension lifting](#5.1-Dimension-lifting)\n",
    "    * [5.2 Mapping the eigenvalues of a given tensor field.](#5.2-Mapping-the-eigenvalues-of-a-given-tensor-field.)\n",
    "\n",
    "\n",
    "\n",
    "This Python&reg; notebook is intended as documentation and testing for the [HamiltonFastMarching (HFM) library](https://github.com/mirebeau/HamiltonFastMarching), which also has interfaces to the Matlab&reg; and Mathematica&reg; languages. \n",
    "More information on the HFM library in the manuscript:\n",
    "* Jean-Marie Mirebeau, Jorg Portegies, \"Hamiltonian Fast Marching: A numerical solver for anisotropic and non-holonomic eikonal PDEs\", 2019 [(link)](https://hal.archives-ouvertes.fr/hal-01778322)\n",
    "\n",
    "Copyright Jean-Marie Mirebeau, University Paris-Sud, CNRS, University Paris-Saclay"
   ]
  },
  {
   "cell_type": "markdown",
   "metadata": {},
   "source": [
    "## 0. Importing the required libraries"
   ]
  },
  {
   "cell_type": "code",
   "execution_count": 2,
   "metadata": {},
   "outputs": [],
   "source": [
    "import sys; sys.path.insert(0,\"..\") # Allow import of agd from parent directory (useless if conda package installed)\n",
    "#from Miscellaneous import TocTools; print(TocTools.displayTOC('Riemannian','FMM'))"
   ]
  },
  {
   "cell_type": "code",
   "execution_count": 3,
   "metadata": {},
   "outputs": [],
   "source": [
    "from agd import Eikonal\n",
    "from agd.Metrics import Riemann\n",
    "from agd.Plotting import savefig, quiver; #savefig.dirName = 'Figures/Riemannian'\n",
    "from agd import LinearParallel as lp\n",
    "from agd import AutomaticDifferentiation as ad\n",
    "norm_infinity = ad.Optimization.norm_infinity"
   ]
  },
  {
   "cell_type": "code",
   "execution_count": 4,
   "metadata": {},
   "outputs": [],
   "source": [
    "import numpy as np; xp=np\n",
    "%matplotlib inline\n",
    "import matplotlib.pyplot as plt\n",
    "\n",
    "# Required for 3D plotting\n",
    "from mpl_toolkits.mplot3d import Axes3D # Plots geodesics\n",
    "useMayavi = False\n",
    "if useMayavi:\n",
    "    from mayavi import mlab # Plots implicit surfaces"
   ]
  },
  {
   "cell_type": "markdown",
   "metadata": {},
   "source": [
    "### 0.1 Optional configuration\n",
    "Uncomment the following line to use the GPU eikonal solver. (Comment it for the CPU eikonal solver.)"
   ]
  },
  {
   "cell_type": "code",
   "execution_count": 5,
   "metadata": {
    "tags": [
     "EikonalGPU_config"
    ]
   },
   "outputs": [
    {
     "name": "stdout",
     "output_type": "stream",
     "text": [
      "Replacing numpy with cupy, set to output 32bit ints and floats by default.\n",
      "Using cp.asarray(*,dtype=np.float32) as the default caster in ad.array.\n",
      "Returning a copy of module matplotlib.pyplot whose functions accept cupy arrays as input.\n",
      "Returning a copy of function quiver which accepts cupy arrays as input.\n",
      "Setting dictIn.default_mode = 'gpu' in module agd.Eikonal .\n"
     ]
    }
   ],
   "source": [
    "#xp,plt,quiver,Eikonal = map(ad.cupy_friendly,(xp,plt,quiver,Eikonal))"
   ]
  },
  {
   "cell_type": "markdown",
   "metadata": {},
   "source": [
    "## 1. Two dimensional examples\n",
    "\n",
    "\n",
    "Our first step is to define the domain $\\Omega$, which is chosen as the unit square $]-0.5,0.5[^2$. A seed point is introduced in the center."
   ]
  },
  {
   "cell_type": "code",
   "execution_count": 6,
   "metadata": {},
   "outputs": [],
   "source": [
    "hfmIn = Eikonal.dictIn({\n",
    "    'model':'Riemann2', # Two-dimensional Riemannian eikonal equation\n",
    "    'seed':[0.,0.], # Using a single seed point in this example.\n",
    "    'seedValue':0, # Can be omitted, since this is the default.\n",
    "})\n",
    "hfmIn.SetRect(sides=[[-0.5,0.5],[-0.5,0.5]],dimx=101)"
   ]
  },
  {
   "cell_type": "markdown",
   "metadata": {},
   "source": [
    "We choose to use a formally second order accurate scheme, so as to improve accuracy. As discussed in [[1]](#cite_Mirebeau_2017_Voronoi) second order convergence rates can indeed be achieved in certain cases, but only in the average sense, and with boundary data less singular than the single seeds considered here."
   ]
  },
  {
   "cell_type": "code",
   "execution_count": 7,
   "metadata": {},
   "outputs": [],
   "source": [
    "hfmIn['order'] = 2"
   ]
  },
  {
   "cell_type": "markdown",
   "metadata": {},
   "source": [
    "We next introduce a coordinate system $X,Y$ in the domain $\\Omega = ]0.5,0.5[^2$, which will be used to define the  Riemannian metrics. The HFM library uses the convention that discretization points are centered in the corresponding voxels, hence we need to introduce an adequate variant of the np.linspace function."
   ]
  },
  {
   "cell_type": "markdown",
   "metadata": {},
   "source": [
    "### 1.1 Geodesic distance on  a surface defined by a height map\n",
    "\n",
    "Our first objective is to compute minimal geodesics along a parametrized surface, defined by the following height map\n",
    "\\begin{align*}\n",
    "    z(x,y) &:= (3/4) sin(3 \\pi  x) sin(3 \\pi y), &\n",
    "    \\text{ where } (x,y) \\in ]-0.5,0.5[^2.\n",
    "\\end{align*}\n",
    "<!--\n",
    "We define $(\\tilde x,\\tilde y)$ as the coordinate system $(x,y)$ rotated by some angle $\\theta$, so as to show that our method can handle non-axis aligned anisotropy.\n",
    "theta=np.pi/6\n",
    "Xt,Yt = np.cos(theta)*X-np.sin(theta)*Y, np.sin(theta)*X+np.cos(theta)*Y\n",
    "-->"
   ]
  },
  {
   "cell_type": "code",
   "execution_count": 8,
   "metadata": {},
   "outputs": [],
   "source": [
    "def Elevation(x,y):\n",
    "     return (3/4.)*np.sin(3*np.pi*x)*np.sin(3*np.pi*y)\n",
    "X,Y = hfmIn.Grid()\n",
    "Z = Elevation(X,Y)"
   ]
  },
  {
   "cell_type": "code",
   "execution_count": 9,
   "metadata": {},
   "outputs": [],
   "source": [
    "if useMayavi:\n",
    "    mlab.surf(Y,X,Z)\n",
    "    mlab.view(azimuth=-60,distance=4,elevation=30)\n",
    "    mlab.show()"
   ]
  },
  {
   "cell_type": "markdown",
   "metadata": {},
   "source": [
    "This should be displayed in the Mayavi window.\n",
    "![Embedded surface](https://dl.dropbox.com/s/25epuya62r90ouh/EmbeddedManifold.png)"
   ]
  },
  {
   "cell_type": "markdown",
   "metadata": {},
   "source": [
    "By standard arguments of differential geometry, it is equivalent to compute geodesics on the parametrization domain $]-0.5,0.5[^2$, with respect to the metric defined by \n",
    "\\begin{equation*}\n",
    "    M(x,y) := 1+\\nabla z(x,y) \\cdot \\nabla z(x,y)^T = \n",
    "    \\begin{pmatrix}\n",
    "        1+ (\\partial_x z)^2 & (\\partial_x z) (\\partial_y z) \\\\\n",
    "        (\\partial_x z) (\\partial_y z) & 1+ (\\partial_y z)^2\n",
    "    \\end{pmatrix}\n",
    "\\end{equation*}\n",
    "where we denoted $\\partial_x z := \\frac{\\partial z}{\\partial x}(x,y)$ and likewise $\\partial_y z := \\frac{\\partial z}{\\partial y}(x,y)$."
   ]
  },
  {
   "cell_type": "markdown",
   "metadata": {},
   "source": [
    "The HFM library requires two-dimensional symmetric matrices\n",
    "$\n",
    "\\begin{pmatrix}\n",
    "a & b \\\\\n",
    "b & c\n",
    "\\end{pmatrix}\n",
    "$\n",
    "to be described as a triplet $(a,b,c)$.\n",
    "The Riemannian metric of the problem of interest is thus represented numerically as follows.\n",
    "\n",
    "**Three dimensional case.**\n",
    "In general, a Riemannian metric in dimension $d$ can be specified as `Riemann(m)` where `m` is an array of shape $(d,d,n_1,\\cdots,n_d)$, which is symmetric w.r.t the first two indices. The code presented below thus extends in a straightforward manner to three dimensions. "
   ]
  },
  {
   "cell_type": "code",
   "execution_count": 10,
   "metadata": {},
   "outputs": [],
   "source": [
    "try: DxZ,DyZ = np.gradient(Z,hfmIn['gridScale'],axis=(0,1)) # Warning : numpy's default is axis=(1,0) !\n",
    "except TypeError: # cupy does not implement 'gradient'. We rely on automatic differentiation instead.\n",
    "    DxZ,DyZ = Elevation(*ad.Dense.identity(constant=(X,Y),shape_free=(2,))).gradient()"
   ]
  },
  {
   "cell_type": "code",
   "execution_count": 11,
   "metadata": {},
   "outputs": [],
   "source": [
    "hfmIn['metric'] = Riemann([[1+DxZ**2,DxZ*DyZ],[DxZ*DyZ,1+DyZ**2]])"
   ]
  },
  {
   "cell_type": "markdown",
   "metadata": {},
   "source": [
    "Internally, the HFM software will invert the metric tensors. The inverse tensor may be provided directly, instead of the primal tensors, via key 'dualMetric'."
   ]
  },
  {
   "cell_type": "markdown",
   "metadata": {},
   "source": [
    "Finally, we indicate which outputs are required (some backtraced geodesics, the PDE solution, the geodesic flow direction), and call the HFM software."
   ]
  },
  {
   "cell_type": "code",
   "execution_count": 12,
   "metadata": {},
   "outputs": [],
   "source": [
    "hfmIn.SetUniformTips((6,6)) # Uniformly sampled tips in the domain.\n",
    "hfmIn['exportValues'] = 1\n",
    "hfmIn['exportGeodesicFlow'] = 1"
   ]
  },
  {
   "cell_type": "code",
   "execution_count": 13,
   "metadata": {},
   "outputs": [
    {
     "name": "stdout",
     "output_type": "stream",
     "text": [
      "Setting the kernel traits.\n",
      "Prepating the domain data (shape,metric,...)\n",
      "Preparing the problem rhs (cost, seeds,...)\n",
      "Preparing the GPU kernel\n",
      "Running the eikonal GPU kernel\n",
      "GPU kernel eikonal ran for 0.03047943115234375 seconds, and 29 iterations.\n",
      "Post-Processing\n"
     ]
    }
   ],
   "source": [
    "hfmOut = hfmIn.Run()"
   ]
  },
  {
   "cell_type": "code",
   "execution_count": 14,
   "metadata": {},
   "outputs": [],
   "source": [
    "plt.figure(figsize=[4,4]); plt.title('Distance map, on a parametrized manifold'); plt.axis('equal'); \n",
    "plt.contourf(X,Y,hfmOut['values']);"
   ]
  },
  {
   "cell_type": "code",
   "execution_count": 15,
   "metadata": {},
   "outputs": [],
   "source": [
    "fig = plt.figure(figsize=[4,4]); plt.title('Minimal geodesics, on a parametrized manifold'); plt.axis('equal'); \n",
    "for geo in hfmOut['geodesics']:  plt.plot(*geo) \n",
    "savefig(fig,'ParametrizedGeodesics.png')"
   ]
  },
  {
   "cell_type": "code",
   "execution_count": 16,
   "metadata": {},
   "outputs": [],
   "source": [
    "if useMayavi:\n",
    "    for geo in hfmOut['geodesics']:\n",
    "        mlab.plot3d(geo[0],geo[1],np.array([Elevation(x,y) for (x,y) in geo]),tube_radius=0.01)\n",
    "    mlab.surf(X,Y,Z)\n",
    "    mlab.view(azimuth=-60,distance=4,elevation=30)\n",
    "    mlab.show()"
   ]
  },
  {
   "cell_type": "markdown",
   "metadata": {},
   "source": [
    "This should be displayed in the Mayavi window.\n",
    "![Embedded surface and geodesics](https://dl.dropbox.com/s/b7jpocelfo1y6s0/EmbeddedGeodesics.png)"
   ]
  },
  {
   "cell_type": "markdown",
   "metadata": {},
   "source": [
    "Similar to the isotropic case, the minimal Riemannian geodesic $\\gamma$ from $\\partial \\Omega$ to a point $x \\in \\Omega$ obeys an Ordinary Differential Equation (ODE). This equation is solved backwards in time and involves a *terminal* boundary condition, at the final time $T = u(x)$, and reads:\n",
    "\\begin{align*}\n",
    "    \\forall t \\leq T, \\gamma'(t) &= V(\\gamma(t)), &\n",
    "    \\gamma(T) &=x\n",
    "\\end{align*}\n",
    "The vector field $V : \\Omega \\to {\\mathbb R}^2$ is referred to as the geodesic flow direction, and is related with the solution $u$ of the eikonal PDE by the relation\n",
    "\\begin{equation*}\n",
    "    V(x) := D(x) \\nabla u(x).\n",
    "\\end{equation*}\n",
    "The geodesic flow returned by the HFM sofware is computed in an upwind manner, taking advantage of the properties of the numerical scheme. This approach is expected to be more stable than the naive approach, namely approximating of $\\nabla u(x)$ using finite differences and post-multplying by $D(x)$.\n",
    "\n",
    "Note that what we call the 'geodesic flow' is referred to as the 'Riemannian gradient of $u$' by mathematical geometers."
   ]
  },
  {
   "cell_type": "code",
   "execution_count": 17,
   "metadata": {},
   "outputs": [],
   "source": [
    "plt.figure(figsize=[4,4]); plt.title('Geodesic flow vector field'); plt.axis('equal'); \n",
    "quiver(X,Y,*hfmOut['flow'],subsampling=(5,5));"
   ]
  },
  {
   "cell_type": "markdown",
   "metadata": {},
   "source": [
    "The geodesic flow has unit norm w.r.t. the Riemannian metric. Let us check this property formally: recalling that $D(x) = M(x)^{-1}$ is the inverse metric tensor\n",
    "\\begin{equation*}\n",
    "\\| V(x)\\|_{M(x)}^2 = V(x)^T \\cdot M(x) \\cdot V(x) = \\nabla u(x)^T D(x) M(x) D(x) \\nabla u(x) = \\nabla u(x)^T D(x) \\nabla u(x) = \\|\\nabla u(x)\\|^2_{D(x)}.\n",
    "\\end{equation*}\n",
    "Numerically, this identity does approximately hold, except at the seed point."
   ]
  },
  {
   "cell_type": "code",
   "execution_count": 18,
   "metadata": {},
   "outputs": [],
   "source": [
    "plt.figure(figsize=[5,4]); plt.title('Riemannian norm of the geodesic flow'); plt.axis('equal')\n",
    "flowNorms = hfmIn['metric'].norm(hfmOut['flow'])\n",
    "plt.contourf(X,Y,flowNorms); plt.colorbar();"
   ]
  },
  {
   "cell_type": "markdown",
   "metadata": {},
   "source": [
    "Contrary to the isotropic case, and to what the previous figure suggests, the flow norm is not exactly one. This is due to the discretization error, and illustrated in the following figure."
   ]
  },
  {
   "cell_type": "code",
   "execution_count": 19,
   "metadata": {},
   "outputs": [],
   "source": [
    "plt.contourf(X,Y,flowNorms, levels = np.linspace(0.90,1.05,20))\n",
    "plt.colorbar(); # TODO : tighter level lines around 1"
   ]
  },
  {
   "cell_type": "code",
   "execution_count": 20,
   "metadata": {},
   "outputs": [],
   "source": [
    "hfmIn.pop('metric',None);\n",
    "hfmIn.pop('dualMetric',None);"
   ]
  },
  {
   "cell_type": "markdown",
   "metadata": {},
   "source": [
    "### 1.2 Defining a metric by its eigenvectors and eigenvalues\n",
    "\n",
    "In this second experiment, inspired by seismic imaging, we consider a metric $M$ with two eigenvalues $\\alpha^{-2}$ and $\\beta^{-2}$. The first one is associated with some eigenvector $v$, assumed to be of unit norm, and the second one with the orthogonal direction $v^\\perp$.\n",
    "\\begin{equation*}\n",
    "    M(x,y) = \\alpha(x,y)^{-2} v(x,y)\\cdot v(x,y)^\\perp + \\beta(x,y)^{-2} v^\\perp(x,y)\\cdot v^\\perp(x,y)^T.\n",
    "\\end{equation*}\n",
    "The coefficient field $\\alpha: \\Omega \\to ]0,\\infty[$ should be regarder as the maximum speed allowed locally in the direction of the vector field $v : \\Omega \\to \\mathbb R^2$. The coefficient $\\beta$ is likewise the maximum allowed speed in the orthogonal direction. In contrast, the isotropic metrics considered in the previous notebooks only have one speed function (the speed function is the inverse $s=1/c$ of the cost function).\n",
    "\n",
    "The inverse tensor field $D=M^{-1}$ admits an expression similar to the metric\n",
    "\\begin{equation*}\n",
    "    D(x,y) = \\alpha(x,y)^2 v(x,y)\\cdot v(x,y)^T + \\beta(x,y)^{2} v^\\perp(x,y)\\cdot v^\\perp(x,y)^T.\n",
    "\\end{equation*}\n",
    "\n",
    "<!---\n",
    "We first define a function which constructs the metric $M$, or its dual $D$, given the scalar fields $\\alpha,\\beta$ and the components of the vector field $v = (v_x,v_y)$. This function can handle non-normalized vector fields, and infers alone the orthogonal direction. The mathematical justification of its correctness is left as an exercise to the reader.\n",
    "\n",
    "# Create a metric with eigenvalue alpha^(-2) in the direction [Vx,Vy], and beta^(-2) in the orthogonal direction\n",
    "#def synthetiseMetric2(alpha,beta,Vx,Vy,dual=False):\n",
    "#    VNorm2 = Vx**2+Vy**2\n",
    "#    e = 2 if dual else -2\n",
    "#    a = alpha**e/VNorm2\n",
    "#    b = beta**e/VNorm2\n",
    "#    return np.stack((a*Vx*Vx+b*Vy*Vy, (a-b)*Vx*Vy, a*Vy*Vy+b*Vx*Vx),2)\n",
    "--->"
   ]
  },
  {
   "cell_type": "markdown",
   "metadata": {},
   "source": [
    "We choose the parameters $\\alpha=0.8$, $\\beta=0.2$, and $V=(1,(\\pi/2)\\cos(4 \\pi x))$, so as to reproduce a classical test case. Note that $\\alpha$ and $\\beta$ could equally well be position dependent."
   ]
  },
  {
   "cell_type": "code",
   "execution_count": 21,
   "metadata": {},
   "outputs": [],
   "source": [
    "alpha,beta = 0.8,0.2\n",
    "V = xp.ones(X.shape),(np.pi/2)*np.cos(4*np.pi*X)\n",
    "hfmIn['metric'] = Riemann.needle(V,alpha,beta).dual()\n",
    "hfmIn['exportGeodesicFlow']=0 # The geodesic flow is not used in this example"
   ]
  },
  {
   "cell_type": "markdown",
   "metadata": {},
   "source": [
    "The metric anisotropy is the ratio $\\alpha/\\beta$ of the square root of its eigenvalues."
   ]
  },
  {
   "cell_type": "code",
   "execution_count": 22,
   "metadata": {},
   "outputs": [
    {
     "name": "stdout",
     "output_type": "stream",
     "text": [
      "Metric max anisotropy = 4.0000024. (alpha/beta = 4.0)\n"
     ]
    }
   ],
   "source": [
    "print(f\"Metric max anisotropy = {np.max(hfmIn['metric'].anisotropy())}. (alpha/beta = {alpha/beta})\")"
   ]
  },
  {
   "cell_type": "code",
   "execution_count": 23,
   "metadata": {},
   "outputs": [
    {
     "name": "stdout",
     "output_type": "stream",
     "text": [
      "Setting the kernel traits.\n",
      "Prepating the domain data (shape,metric,...)\n",
      "Preparing the problem rhs (cost, seeds,...)\n",
      "Preparing the GPU kernel\n",
      "Running the eikonal GPU kernel\n",
      "GPU kernel eikonal ran for 0.016519546508789062 seconds, and 41 iterations.\n",
      "Post-Processing\n"
     ]
    }
   ],
   "source": [
    "hfmOut = hfmIn.Run()"
   ]
  },
  {
   "cell_type": "code",
   "execution_count": 24,
   "metadata": {},
   "outputs": [],
   "source": [
    "plt.figure(figsize=[4,4]); plt.title('Distance map'); plt.axis('equal'); \n",
    "plt.contourf(X,Y,hfmOut['values']);"
   ]
  },
  {
   "cell_type": "code",
   "execution_count": 25,
   "metadata": {},
   "outputs": [],
   "source": [
    "plt.figure(figsize=[4,4]); plt.title('Minimal paths'); plt.axis('equal'); \n",
    "for geo in hfmOut['geodesics']:  plt.plot(*geo);"
   ]
  },
  {
   "cell_type": "code",
   "execution_count": 26,
   "metadata": {},
   "outputs": [],
   "source": [
    "hfmIn.pop('metric',None);\n",
    "hfmIn.pop('dualMetric',None);"
   ]
  },
  {
   "cell_type": "markdown",
   "metadata": {},
   "source": [
    "### 1.3 A discontinuous and extremely anisotropic Riemannian metric\n",
    "\n",
    "We illustrate the robustness of the HFM library by considering a hard test case, related with medical image processing, and in particular with tubular structure segmentation. The condition number $100^2$ of the metric tensors exceeds what we would typically recommend, namely $10^2$ at most. The the discontinuities of the metric fall outside the scope of the mathematical convergence analysis of our numerical method. Nevertheles, the HFM software yields results that are usable and behave as expected qualitatively.\n",
    "\n",
    "We define a Riemannian metric $M : \\Omega \\to S^++(\\mathbb R^2)$ which strongly favors paths remaining close and tangent to a given curve $\\Gamma$.\n",
    "More precisely, yhe metric tensor $M(p)$, at a point $p\\in ]0.5,0.5[^2$, is defined as the identity matrix,\n",
    "except on a neighborhood of width $0.01$ of the spiraling curve parametrized by\n",
    "\\begin{equation*}\n",
    "\\Gamma(t) = t (\\cos(\\omega t), \\sin(\\omega t)),\n",
    "\\end{equation*}\n",
    "where $t\\in [0,0.43]$, and $\\omega=12 \\pi$. On this, extremely thin, neighborhood of the curve $\\Gamma$, the metric tensor has an extremely small eigenvalue $0.01^2$ associated with the eigenvector $\\Gamma'(t)$. The second eigenvalue is $1$. "
   ]
  },
  {
   "cell_type": "code",
   "execution_count": 27,
   "metadata": {},
   "outputs": [],
   "source": [
    "# For better results, we slightly increase the resolution of the domain.\n",
    "hfmIn.SetRect(sides=[[-0.5,0.5],[-0.5,0.5]],dimx=201)\n",
    "X,Y = hfmIn.Grid()"
   ]
  },
  {
   "cell_type": "markdown",
   "metadata": {},
   "source": [
    "A short mathematical analysis, not presented here, allows to deduce the following expressions of the curve neighborhood and tangent."
   ]
  },
  {
   "cell_type": "code",
   "execution_count": 28,
   "metadata": {},
   "outputs": [],
   "source": [
    "omega = 12*np.pi\n",
    "curveNeighborhoodWidth = 0.01\n",
    "inverseAnisotropy = 0.01\n",
    "\n",
    "R=np.sqrt(X**2+Y**2)\n",
    "Theta=np.arctan2(Y,X)\n",
    "\n",
    "CurveNeighborhood = np.logical_and(np.remainder(R*omega - Theta,2.*np.pi) <= omega*curveNeighborhoodWidth, R<=0.43)\n",
    "CurveTangentx = -R*omega*np.sin(Theta)+np.cos(Theta)\n",
    "CurveTangenty =  R*omega*np.cos(Theta)+np.sin(Theta)"
   ]
  },
  {
   "cell_type": "code",
   "execution_count": 29,
   "metadata": {},
   "outputs": [],
   "source": [
    "plt.figure(figsize=[4,4]); plt.title('Target curve neighborhood'); plt.axis('equal'); \n",
    "plt.contourf(X,Y,CurveNeighborhood);"
   ]
  },
  {
   "cell_type": "code",
   "execution_count": 30,
   "metadata": {},
   "outputs": [],
   "source": [
    "plt.figure(figsize=[4,4]); plt.title('Target curve tangent (extended to the domain)'); plt.axis('equal'); \n",
    "quiver(X,Y,CurveTangentx,CurveTangenty,subsampling=(10,10));"
   ]
  },
  {
   "cell_type": "code",
   "execution_count": 31,
   "metadata": {},
   "outputs": [],
   "source": [
    "hfmIn['metric'] = Riemann.needle([CurveTangentx,CurveTangenty],xp.where(CurveNeighborhood,inverseAnisotropy,1.),1.)"
   ]
  },
  {
   "cell_type": "markdown",
   "metadata": {
    "tags": [
     "TODO",
     "GPU_geodesic_solver_does_not_converge"
    ]
   },
   "source": [
    "This metric has an extremely strong anisotropy, at the limit of what the HFM library can handle."
   ]
  },
  {
   "cell_type": "code",
   "execution_count": 32,
   "metadata": {},
   "outputs": [
    {
     "name": "stdout",
     "output_type": "stream",
     "text": [
      "Max metric anisotropy : 100.169014. (1/inverseAnisotropy = 100.0)\n"
     ]
    }
   ],
   "source": [
    "print(f\"Max metric anisotropy : {np.max(hfmIn['metric'].anisotropy())}. (1/inverseAnisotropy = {1/inverseAnisotropy})\")"
   ]
  },
  {
   "cell_type": "code",
   "execution_count": 33,
   "metadata": {},
   "outputs": [
    {
     "name": "stdout",
     "output_type": "stream",
     "text": [
      "Setting the kernel traits.\n",
      "Prepating the domain data (shape,metric,...)\n",
      "Preparing the problem rhs (cost, seeds,...)\n",
      "Preparing the GPU kernel\n",
      "Running the eikonal GPU kernel\n",
      "GPU kernel eikonal ran for 0.061998844146728516 seconds, and 117 iterations.\n",
      "Post-Processing\n",
      "---- Warning ----\n",
      " Geodesic solver failed to converge, or geodesic has too many points (in latter case, try setting 'geodesic_max_len':np.inf) \n",
      "-----------------\n",
      "\n"
     ]
    }
   ],
   "source": [
    "hfmOut = hfmIn.Run()"
   ]
  },
  {
   "cell_type": "markdown",
   "metadata": {},
   "source": [
    "We observe numerically, as was desired from the thoretical standpoint, that the shortest path from an arbitrary point to the domain center is the concatenation of the following two parts\n",
    "* First: reach for the curve $\\Gamma$, in straight line.\n",
    "* Second: follow the curve $\\Gamma$, up to its origin. "
   ]
  },
  {
   "cell_type": "code",
   "execution_count": 34,
   "metadata": {},
   "outputs": [],
   "source": [
    "plt.figure(figsize=[4,4]); plt.title('Distance map, tubular segmentation test'); plt.axis('equal'); \n",
    "plt.contourf(X,Y,hfmOut['values'],10);"
   ]
  },
  {
   "cell_type": "code",
   "execution_count": 35,
   "metadata": {},
   "outputs": [],
   "source": [
    "plt.figure(figsize=[4,4]); plt.title('Minimal paths, tubular segmentation test'); plt.axis('equal'); \n",
    "for geo in hfmOut['geodesics']:  plt.plot(*geo)"
   ]
  },
  {
   "cell_type": "code",
   "execution_count": 36,
   "metadata": {},
   "outputs": [],
   "source": [
    "hfmIn.pop('metric',None);\n",
    "hfmIn.pop('dualMetric',None);"
   ]
  },
  {
   "cell_type": "markdown",
   "metadata": {},
   "source": [
    "### 1.4 Axis dependent grid scale\n",
    "\n",
    "The grid scale, along each axis, can be specified independently. We reproduce one of the above examples with this feature on. (This is also possible with the isotropic model.)"
   ]
  },
  {
   "cell_type": "code",
   "execution_count": 37,
   "metadata": {},
   "outputs": [],
   "source": [
    "#Square domain, axis dependent grid scale\n",
    "hfmIn = Eikonal.dictIn({\n",
    "    'model' : 'Riemann2',\n",
    "    'seeds' : [[0.,0.]],\n",
    "    'exportValues':1,\n",
    "})\n",
    "hfmIn.SetRect(sides=[[-0.5,0.5],[-0.5,0.5]],gridScales=[0.01,0.02]) \n",
    "X,Y = hfmIn.Grid()\n",
    "hfmIn['metric'] = Riemann.needle([xp.ones(X.shape),(np.pi/2)*np.cos(4*np.pi*X)],0.8,0.2).dual()"
   ]
  },
  {
   "cell_type": "code",
   "execution_count": 38,
   "metadata": {},
   "outputs": [
    {
     "name": "stdout",
     "output_type": "stream",
     "text": [
      "Number of points along the horizontal and vertical axes: [100.  50.]\n"
     ]
    }
   ],
   "source": [
    "print(\"Number of points along the horizontal and vertical axes:\",hfmIn['dims'])"
   ]
  },
  {
   "cell_type": "code",
   "execution_count": 39,
   "metadata": {},
   "outputs": [
    {
     "name": "stdout",
     "output_type": "stream",
     "text": [
      "Setting the kernel traits.\n",
      "Prepating the domain data (shape,metric,...)\n",
      "Preparing the problem rhs (cost, seeds,...)\n",
      "Preparing the GPU kernel\n",
      "Running the eikonal GPU kernel\n",
      "GPU kernel eikonal ran for 0.013503789901733398 seconds, and 32 iterations.\n",
      "Post-Processing\n"
     ]
    }
   ],
   "source": [
    "hfmOut = hfmIn.Run()"
   ]
  },
  {
   "cell_type": "code",
   "execution_count": 40,
   "metadata": {},
   "outputs": [],
   "source": [
    "plt.axis('equal'); plt.title(\"Seismic test case, axis dependent grid scale\")\n",
    "plt.contourf(X,Y,hfmOut['values']); "
   ]
  },
  {
   "cell_type": "markdown",
   "metadata": {},
   "source": [
    "## 2. Three dimensional examples"
   ]
  },
  {
   "cell_type": "markdown",
   "metadata": {},
   "source": [
    "We conclude this notebook with by solving some three dimensional minimal path problems, with respect to anisotropic Riemannian metrics. Two test cases are considered, generalizing the two dimensional ones. More precisely, we illustrate:\n",
    "* the accuracy of our discretization with a test involving a smooth Riemannian metric.\n",
    "* the robustness of our method with a second test case involving a strongly an anisotropic and discontinuous metric.\n",
    "\n",
    "At the time of writing, generic Riemannian metrics in dimension four and above are not handled by the HFM software."
   ]
  },
  {
   "cell_type": "code",
   "execution_count": 41,
   "metadata": {},
   "outputs": [],
   "source": [
    "hfmIn = Eikonal.dictIn({\n",
    "    'model':'Riemann3', # Three-dimensional Riemannian eikonal equation\n",
    "    'exportValues':1,\n",
    "    'seed':[0.,0.,0.],\n",
    "})\n",
    "\n",
    "# Define the domain and get a coordinate system\n",
    "hfmIn.SetRect(sides=[[-0.5,0.5],[-0.5,0.5],[-0.5,0.5]],dimx=101)\n",
    "X,Y,Z = hfmIn.Grid()\n",
    "\n",
    "hfmIn.SetUniformTips((4,4,4))"
   ]
  },
  {
   "cell_type": "markdown",
   "metadata": {},
   "source": [
    "### 2.1 A smooth Riemannian metric\n",
    "\n",
    "We generalize to three dimensions the test case 1.b, inspired by seismic imaging. Our Riemannian metric tensors again has two eigenvalues $\\alpha^{-2}$ and $\\beta^{-2}$. The former is associated with a field $v$ of unit vectors, and later with the orthogonal plane. For any $p =(x,y,z)\\in \\mathbb R^3$, we let $M(p) \\in S^++(\\mathbb R^3)$ be defined by \n",
    "\\begin{equation*}\n",
    "M(p) = \\alpha(p)^{-2} v(p)\\cdot v(p)^T + \\beta(p)^{-2} ( \\mathrm{Id}_3 - v(p)\\cdot v(p)^T).\n",
    "\\end{equation*}\n",
    "We denoted by $\\mathrm{Id}_3$ the $3\\times 3$ identity matrix. \n",
    "As in the two dimensional case, the dual metric $D = M^{-1}$ is obtained by reciprocating the coefficients $\\alpha,\\beta : \\Omega \\to ]0,\\infty[$\n",
    "\\begin{equation*}\n",
    "D(p) = \\alpha(p)^{2} v(p)\\cdot v(p)^T + \\beta(p)^{2} ( \\mathrm{Id}_3 - v(p)\\cdot v(p)^T).\n",
    "\\end{equation*}\n",
    "\n",
    "<!---\n",
    "This metric, and its dual, are synthetized by the following function, which does not require the vector field $v : \\Omega \\to {\\mathbb R}^3$ to be normalized.\n",
    "\n",
    "# Create a metric with eigenvalue alpha^(-2) in the direction [Vx,Vy,Vz], and beta^(-2) in the orthogonal plane.\n",
    "def synthetizeMetric3(alpha,beta,Vx,Vy,Vz,dual=False):\n",
    "    VNorm2 = Vx**2+Vy**2+Vz**2\n",
    "    e = 2 if dual else -2\n",
    "    c = (alpha**e-beta**e)/VNorm2\n",
    "    return np.stack((c*Vx**2+beta**e, \n",
    "                     c*Vx*Vy, c*Vy**2+beta**e,\n",
    "                     c*Vx*Vz, c*Vy*Vz, c*Vz**2+beta**e\n",
    "                    ),3)\n",
    "--->"
   ]
  },
  {
   "cell_type": "markdown",
   "metadata": {},
   "source": [
    "Reproducing the example in [[Mir17]](#cite_Mirebeau_2017_Voronoi), we choose the eigenvalues $0.2^{-2}$ and $0.8^{-2}$, and let the field of eigenvectors be $(\\cos (3 \\pi (x+y)), \\sin (3 \\pi (2 x-y)), 0.5)$."
   ]
  },
  {
   "cell_type": "code",
   "execution_count": 42,
   "metadata": {},
   "outputs": [],
   "source": [
    "hfmIn['metric'] = Riemann.needle([np.cos(3*np.pi*(X+Y)), np.sin(3*np.pi*(2*X-Y)), 0.5*xp.ones(X.shape)],0.2,0.8).dual()"
   ]
  },
  {
   "cell_type": "code",
   "execution_count": 43,
   "metadata": {},
   "outputs": [
    {
     "name": "stdout",
     "output_type": "stream",
     "text": [
      "Setting the kernel traits.\n",
      "Prepating the domain data (shape,metric,...)\n",
      "Preparing the problem rhs (cost, seeds,...)\n",
      "Preparing the GPU kernel\n",
      "Running the eikonal GPU kernel\n",
      "GPU kernel eikonal ran for 0.1060018539428711 seconds, and 58 iterations.\n",
      "Post-Processing\n"
     ]
    }
   ],
   "source": [
    "hfmOut = hfmIn.Run()"
   ]
  },
  {
   "cell_type": "code",
   "execution_count": 44,
   "metadata": {},
   "outputs": [],
   "source": [
    "ax = plt.axes(projection='3d')\n",
    "ax.text2D(0.5,0.95,\"Minimal geodesics for a smooth 3d Riemannian metric\",transform=ax.transAxes,horizontalalignment='center')\n",
    "for geodesic in hfmOut['geodesics']:  plt.plot(*geodesic)"
   ]
  },
  {
   "cell_type": "code",
   "execution_count": 45,
   "metadata": {},
   "outputs": [],
   "source": [
    "if useMayavi: # Show the solution level set\n",
    "    mlab.contour3d(hfmOutput['values'], contours=[0.3])\n",
    "    mlab.view(azimuth=120, elevation=30)\n",
    "    mlab.show() # Displays in an external window. "
   ]
  },
  {
   "cell_type": "markdown",
   "metadata": {},
   "source": [
    "This is what the previous command should display (with an appropriate viewpoint).\n",
    "\n",
    "![Solution level set](https://dl.dropbox.com/s/jjsaya4foffiu1c/2_Riemannian_Contour3D.png?dl=0)"
   ]
  },
  {
   "cell_type": "markdown",
   "metadata": {},
   "source": [
    "### 2.2 A discontinuous and strongly anisotropic Riemannian metric"
   ]
  },
  {
   "cell_type": "markdown",
   "metadata": {},
   "source": [
    "Our second example involves discontinuous and strongly anisotropic three dimensional Riemannian metric, which favors paths remaining close and tangent to the curve $\\Gamma : [0,3] \\to {\\mathbb R}^3$ of parametrization\n",
    "\\begin{equation*}\n",
    "\\Gamma(t) := (\\cos \\omega t, \\sin \\omega t, t),\n",
    "\\end{equation*}\n",
    "where $\\omega := \\frac 5 2 \\pi$.\n",
    "More precisely, the metric tensors are equal to the identity matrix, except on a tube of radius 0.02 around the curve $\\Gamma$, where they have eigenvalues $(0.02^2,1,1)$, the former being associated with the tangent vector $\\Gamma'(t)$.\n",
    "\n",
    "This test case is inspired by applications to tubular structure segmentation.\n",
    "The condition number $50^2$ of these metric tensors, significantly exceeds what we would advise, namely $10^2$ at most. In addition, it falls outside the scope of our mathematical convergence analysis, due to its discontinuities. Nevertheless, the obtained numerical results are qualitatively satisfying, illustrating the robustness of our numerical method."
   ]
  },
  {
   "cell_type": "code",
   "execution_count": 46,
   "metadata": {},
   "outputs": [],
   "source": [
    "omega = (5/2)*np.pi\n",
    "delta = 0.02\n",
    "r = 0.02\n",
    "n=200 # We double the resolution for this test case.\n",
    "\n",
    "hfmIn.SetRect(sides=[[-1.1,1.1],[-1.1,1.1],[0,3]],dimx=n)\n",
    "\n",
    "X,Y,Z = hfmIn.Grid()\n",
    "Theta = np.arctan2(Y,X)\n",
    "\n",
    "def symmetricRemainder(x,n): return x - np.round(x/n)*n\n",
    "curveNeighborhood = symmetricRemainder(Z-Theta/omega,2.*np.pi/omega)**2+ \\\n",
    "    (X-np.cos(Theta))**2+(Y-np.sin(Theta))**2 <= (r/2)**2\n",
    "curveTangentX,curveTangentY,curveTangentZ = -omega*np.sin(omega*Z), omega*np.cos(omega*Z), xp.ones(Z.shape)"
   ]
  },
  {
   "cell_type": "markdown",
   "metadata": {},
   "source": [
    "The neighborhood of the curve $\\Gamma$, where the metric tensors are distinct from the identity matrix, is only a few pixels thick as shown in the following visualization."
   ]
  },
  {
   "cell_type": "code",
   "execution_count": 47,
   "metadata": {},
   "outputs": [],
   "source": [
    "if useMayavi:\n",
    "    mlab.contour3d(curveNeighborhood.astype(float), contours=[0.7])\n",
    "    mlab.show() # Displays in an external window. "
   ]
  },
  {
   "cell_type": "markdown",
   "metadata": {},
   "source": [
    "This is what the mayavi window should display.\n",
    "![Curve neighborhood](https://dl.dropbox.com/s/4yvgdgq2k1f2ykj/2_Riemannian_TubularSupport.png?dl=0)\n",
    "We next gather the problem input description, and call the HFM sofware."
   ]
  },
  {
   "cell_type": "code",
   "execution_count": 48,
   "metadata": {},
   "outputs": [],
   "source": [
    "hfmIn.update({\n",
    "    'metric':Riemann.needle([curveTangentX,curveTangentY,curveTangentZ],xp.where(curveNeighborhood,delta,1.),1.),\n",
    "    'seed':[0.,0.,0.01],\n",
    "    'tip':[0.,0.,2.99],\n",
    "})"
   ]
  },
  {
   "cell_type": "code",
   "execution_count": 49,
   "metadata": {},
   "outputs": [
    {
     "name": "stdout",
     "output_type": "stream",
     "text": [
      "Setting the kernel traits.\n",
      "Prepating the domain data (shape,metric,...)\n",
      "Preparing the problem rhs (cost, seeds,...)\n",
      "Preparing the GPU kernel\n",
      "Running the eikonal GPU kernel\n",
      "GPU kernel eikonal ran for 1.4585254192352295 seconds, and 210 iterations.\n",
      "Post-Processing\n"
     ]
    }
   ],
   "source": [
    "# Computations may take up to a minute for this rather large scale instance\n",
    "hfmOut = hfmIn.Run()"
   ]
  },
  {
   "cell_type": "markdown",
   "metadata": {},
   "source": [
    "A contour plot illustrates, as expected, the that the front propagation goes extremely fast along the spiraling curve $\\Gamma$."
   ]
  },
  {
   "cell_type": "code",
   "execution_count": 50,
   "metadata": {},
   "outputs": [],
   "source": [
    "if useMayavi:\n",
    "    mlab.contour3d(hfmOutput['values'], contours=[0.7,1.6])\n",
    "    mlab.show() # Displays in an external window. "
   ]
  },
  {
   "cell_type": "markdown",
   "metadata": {},
   "source": [
    "This is what the mayavi window should display.\n",
    "![Solution level set](https://dl.dropbox.com/s/ofvmbx6bol33c7x/2_Riemannian_TubularContour.png?dl=0)"
   ]
  },
  {
   "cell_type": "markdown",
   "metadata": {
    "tags": [
     "TODO",
     "GPU_geodesic_does_not_reach_tip"
    ]
   },
   "source": [
    "The minimal geodesic from $(0,0,0)$ to $(0,0,3)$, illustrated below, is qualitatively the concatenation of three parts:\n",
    "* a straight line from the seed to the neighborhood of the curve $\\Gamma$\n",
    "* a part close and tangent to the curve $\\gamma$.\n",
    "* a straight line from the curve $\\gamma$ to the geodesic tip.\n",
    "\n",
    "<!---\n",
    "if eikonal_mode=='gpu':hfmIn['geodesic_Stationnary_delay']=400\n",
    "--->"
   ]
  },
  {
   "cell_type": "code",
   "execution_count": 51,
   "metadata": {},
   "outputs": [],
   "source": [
    "ax = plt.axes(projection='3d')\n",
    "ax.text2D(0.5,0.95,\"Geodesic for a discontinuous and highly anisotropic metric\",transform=ax.transAxes,horizontalalignment='center')\n",
    "plt.plot(*hfmOut['geodesic']);"
   ]
  },
  {
   "cell_type": "code",
   "execution_count": 1,
   "metadata": {},
   "outputs": [
    {
     "ename": "NameError",
     "evalue": "name 'hfmIn' is not defined",
     "output_type": "error",
     "traceback": [
      "\u001b[0;31m---------------------------------------------------------------------------\u001b[0m",
      "\u001b[0;31mNameError\u001b[0m                                 Traceback (most recent call last)",
      "\u001b[0;32m<ipython-input-1-2bb714d3d251>\u001b[0m in \u001b[0;36m<module>\u001b[0;34m\u001b[0m\n\u001b[0;32m----> 1\u001b[0;31m \u001b[0;32mif\u001b[0m \u001b[0mhfmIn\u001b[0m\u001b[0;34m.\u001b[0m\u001b[0mmode\u001b[0m\u001b[0;34m==\u001b[0m\u001b[0;34m'gpu'\u001b[0m\u001b[0;34m:\u001b[0m\u001b[0;34m\u001b[0m\u001b[0;34m\u001b[0m\u001b[0m\n\u001b[0m\u001b[1;32m      2\u001b[0m     \u001b[0;32mraise\u001b[0m \u001b[0mad\u001b[0m\u001b[0;34m.\u001b[0m\u001b[0mDeliberateNotebookError\u001b[0m\u001b[0;34m(\u001b[0m\u001b[0;34m\"Avanced stopping criteria and automatic differentiation not implemented on GPU\"\u001b[0m\u001b[0;34m)\u001b[0m\u001b[0;34m\u001b[0m\u001b[0;34m\u001b[0m\u001b[0m\n",
      "\u001b[0;31mNameError\u001b[0m: name 'hfmIn' is not defined"
     ]
    }
   ],
   "source": [
    "if hfmIn.mode=='gpu': \n",
    "    raise ad.DeliberateNotebookError(\"Avanced stopping criteria and automatic differentiation not implemented on GPU\")"
   ]
  },
  {
   "cell_type": "markdown",
   "metadata": {
    "collapsed": true
   },
   "source": [
    "## 3. Sensitivity analysis"
   ]
  },
  {
   "cell_type": "markdown",
   "metadata": {},
   "source": [
    "Sensitivity analysis, also referred to as forward and backward differentation, is described in the [previous notebook](http://nbviewer.jupyter.org/urls/rawgithub.com/Mirebeau/HFM_Python_Notebooks/master/1_Sensitivity.ipynb), in the context of isotropic metrics. This feature is also available for anisotropic Riemannian metrics.\n",
    "More precisely, we consider perturbations of the eikonal equation of the form \n",
    "\\begin{align*}\n",
    "    \\forall x \\in \\Omega, \\| \\nabla_\\varepsilon u(x)\\|_{D(x)} &= 1+\\varepsilon\\xi(x), &\n",
    "    \\forall x \\in \\partial \\Omega, u_\\varepsilon(x) &= \\sigma(x)+\\varepsilon \\zeta(x). \n",
    "\\end{align*}\n",
    "The calling procedure is similar to the isotropic case.\n",
    "\n",
    "One may also be interested in more general sensitivity analysis, w.r.t. generic changes in the (inverse) metric tensors, as follows\n",
    "\\begin{equation*}\n",
    "D_\\varepsilon(x) = D(x)+\\varepsilon \\Xi(x).\n",
    "\\end{equation*}\n",
    "This currently exists as well in the HFM software, but only as an experimental and undocumented feature so far. Please contact the author in case of interest.\n",
    "\n",
    "Our first step is to define the optimal control problem to be studied."
   ]
  },
  {
   "cell_type": "code",
   "execution_count": null,
   "metadata": {},
   "outputs": [],
   "source": [
    "hfmIn = Eikonal.dictIn({\n",
    "    'model':'Riemann2',\n",
    "    'exportValues':1,\n",
    "    'order':1,\n",
    "    'seed':[0,0],\n",
    "})\n",
    "\n",
    "# Define the domain, here ]-0.5,0.5[^2\n",
    "hfmIn.SetRect(sides=[[-0.5,0.5],[-0.5,0.5]],dimx=101)\n",
    "X,Y = hfmIn.Grid()\n",
    "\n",
    "# Problem parameters, here similar to section 1.b\n",
    "hfmIn['metric'] = Riemann.needle([xp.ones(X.shape),(np.pi/2)*np.cos(4*np.pi*X)],0.8,0.2).dual()\n",
    "hfmIn.SetUniformTips((6,6))"
   ]
  },
  {
   "cell_type": "markdown",
   "metadata": {},
   "source": [
    "### 3.1 Backward differentiation\n",
    "\n",
    "Let us first consider backward differentiation, aka reverse mode sensitivity analysis. Denote by $u_\\varepsilon : \\overline \\Omega \\to \\mathbb R$ the solution to the eikonal equation \n",
    "\\begin{align*}\n",
    "\\forall x \\in \\Omega, \\|\\nabla u_\\varepsilon(x)\\|_{D(x)} &= 1+\\varepsilon \\xi(x) & \n",
    "\\forall x \\in \\partial \\Omega, u_\\varepsilon(x) &= \\sigma(x)+\\varepsilon \\zeta(x).\n",
    "\\end{align*}\n",
    "<a id='Taylor_Solution'></a>\n",
    "Let also $x_*\\in \\Omega$. Then, formally, similarly to the isotropic case, there exists fields $\\rho : \\Omega \\to \\mathbb R$ and $\\pi : \\partial \\Omega \\to \\mathbb R$ such that for any perturbations $\\xi, \\zeta$\n",
    "\\begin{equation*}\n",
    "u_\\varepsilon(x_*) = u(x_*)+ \\varepsilon \\left(\\int_\\Omega \\rho\\xi + \\int_{\\partial_\\Omega} \\pi \\zeta\\right) + o(\\varepsilon).\n",
    "\\end{equation*}"
   ]
  },
  {
   "cell_type": "code",
   "execution_count": null,
   "metadata": {},
   "outputs": [],
   "source": [
    "hfmIn['inspectSensitivity']=hfmIn['tips'][0:10] # Inspect the sensitivity of the solution at some of the tips"
   ]
  },
  {
   "cell_type": "code",
   "execution_count": null,
   "metadata": {},
   "outputs": [],
   "source": [
    "hfmOut = hfmIn.Run()"
   ]
  },
  {
   "cell_type": "markdown",
   "metadata": {},
   "source": [
    "The cost sensitivity field $\\xi$ can be regarded as a diffuse representation of the geodesic from $x_*$ to the closest seed. This property, illustrated in the following visualization, is at the foundation of one of our backtracking methods. \n",
    "\n",
    "We here display the geodesic, and the sensitivity, associated with the sixth tip."
   ]
  },
  {
   "cell_type": "code",
   "execution_count": null,
   "metadata": {},
   "outputs": [],
   "source": [
    "plt.figure(figsize=[4,4]); plt.title('Sensitivity and minimal geodesic'); plt.axis('equal'); \n",
    "plt.plot(*hfmOut['geodesics'][1]);\n",
    "plt.contourf(X,Y,hfmOut['costSensitivity_1'],levels=np.linspace(0,0.005,10));"
   ]
  },
  {
   "cell_type": "markdown",
   "metadata": {},
   "source": [
    "The sensitivity $\\pi : \\partial \\Omega \\to \\mathbb R$ to the boundary conditions is rather trivial: it is a Dirac mass, of weight $1$, located at the unique seed $(0,0)$."
   ]
  },
  {
   "cell_type": "code",
   "execution_count": null,
   "metadata": {},
   "outputs": [],
   "source": [
    "hfmOut['seedSensitivity_1']"
   ]
  },
  {
   "cell_type": "markdown",
   "metadata": {},
   "source": [
    "We discuss a consistency test based on Euler's identity for homogeneous functions. Assume that the cost perturbation is $\\xi = 1$, and observe that we the boundary conditions were chosen null. Then, by a basic rescaling argument, one obtains \n",
    "$\n",
    "    u_\\varepsilon = (1+\\varepsilon) u \n",
    "$ on all of $\\Omega$, for any $\\varepsilon \\in ]-1,\\infty[$.\n",
    "\n",
    "Comparing this with the [Taylor expansion](#Taylor_Solution) of the solution, we conclude that \n",
    "\\begin{equation*}\n",
    "u(x_*) = \\int_\\Omega \\rho.\n",
    "\\end{equation*}\n",
    "This equality is checked numerically in the next line."
   ]
  },
  {
   "cell_type": "code",
   "execution_count": null,
   "metadata": {},
   "outputs": [],
   "source": [
    "index_1,_ = hfmIn.IndexFromPoint(hfmIn['inspectSensitivity'][1])\n",
    "assert np.abs(hfmOut['costSensitivity_1'].sum() - hfmOut['values'][tuple(index_1)]) < 1e-15"
   ]
  },
  {
   "cell_type": "markdown",
   "metadata": {},
   "source": [
    "### 3.2 Forward differentiation\n",
    "\n",
    "In forward differentiation mode, one explicitly provides the variation $\\xi$ in the cost, and $\\zeta$ in the boundary conditions (here null by default). The first order term $\\mu : \\Omega \\to \\mathbb R$ in the Taylor expansion of the solution is recovered, such that \n",
    "\\begin{equation*}\n",
    "    u_\\varepsilon(x) = u(x)+\\varepsilon \\mu(x) + o(\\varepsilon).\n",
    "\\end{equation*}\n",
    "Two cases are considered: a uniform variation $\\xi=1$ of the cost for a consistency check, and a generic variation $\\xi=x+y^2$. No variation is imposed on the boundary conditions."
   ]
  },
  {
   "cell_type": "code",
   "execution_count": null,
   "metadata": {},
   "outputs": [],
   "source": [
    "hfmIn['costVariation'] = np.stack([1.+0.*X, X+Y**2],axis=2) # Fist order perturbation of the cost (problem r.h.s)"
   ]
  },
  {
   "cell_type": "code",
   "execution_count": null,
   "metadata": {},
   "outputs": [],
   "source": [
    "hfmOut = hfmIn.Run()"
   ]
  },
  {
   "cell_type": "markdown",
   "metadata": {},
   "source": [
    "By Euler's identity for homogeneous functions, one gets $\\mu = u$ in the case $\\xi=1$ of the uniform variation."
   ]
  },
  {
   "cell_type": "code",
   "execution_count": null,
   "metadata": {},
   "outputs": [],
   "source": [
    "values = hfmOut['values'] # First order dense automatic-differentiation variable\n",
    "assert np.max(np.abs(values.gradient(0) - values.value)) < 1e-14"
   ]
  },
  {
   "cell_type": "markdown",
   "metadata": {},
   "source": [
    "We next compare the forward differentiation with backward sensitivity analysis, for consistency again.\n",
    "More precisely, with the above notations, we check that \n",
    "\\begin{equation*}\n",
    "\\nu(x_*) = \\int_\\Omega \\rho \\xi \n",
    "\\end{equation*}"
   ]
  },
  {
   "cell_type": "code",
   "execution_count": null,
   "metadata": {},
   "outputs": [],
   "source": [
    "assert np.abs(hfmOut['values'][tuple(index_1)].gradient(1) - \n",
    "      (hfmOut['costSensitivity_1']*hfmIn['costVariation'][:,:,1]).sum()) < 1e-15"
   ]
  },
  {
   "cell_type": "code",
   "execution_count": null,
   "metadata": {},
   "outputs": [],
   "source": [
    "# Restore input\n",
    "hfmIn.pop('costVariation',None);\n",
    "hfmIn.pop('inspectSensitivity',None);"
   ]
  },
  {
   "cell_type": "markdown",
   "metadata": {},
   "source": [
    "## 4. Voronoi regions\n",
    "\n",
    "We illustrate the Voronoi diagram associated with a family of seeds. A similar experiment, with isotropic metrics instead of anisotropic Riemannian metrics, is presented in the [first notebook](http://nbviewer.jupyter.org/urls/rawgithub.com/Mirebeau/HFM_Python_Notebooks/master/0_Isotropic.ipynb)."
   ]
  },
  {
   "cell_type": "code",
   "execution_count": null,
   "metadata": {},
   "outputs": [],
   "source": [
    "hfmIn['seeds']=[[0.,0.2],[-0.2,-0.1],[0.2,-0.1]]\n",
    "hfmIn['seedFlags']=[0,1,2]"
   ]
  },
  {
   "cell_type": "code",
   "execution_count": null,
   "metadata": {},
   "outputs": [],
   "source": [
    "hfmOut = hfmIn.Run()"
   ]
  },
  {
   "cell_type": "markdown",
   "metadata": {},
   "source": [
    "The computation of Voronoi diagrams is more challenging with anisotropic metrics, such as Riemannian metrics, than with isotropic ones. Indeed, the numerical scheme relies on wide adaptive stencils, which risks blurring the lines between the regions. \n",
    "\n",
    "Qualitatively convincing results are obtained though, largerly because the stencils of the FM-VR1 numerical scheme used in the HFM software remain rather compact."
   ]
  },
  {
   "cell_type": "code",
   "execution_count": null,
   "metadata": {},
   "outputs": [],
   "source": [
    "int(hfmOut['MaxStencilWidth']) # Returns the size of the widest stencil used in the discretization."
   ]
  },
  {
   "cell_type": "code",
   "execution_count": null,
   "metadata": {},
   "outputs": [],
   "source": [
    "plt.figure(figsize=[4,4]); plt.title('Riemannian Voronoi regions'); plt.axis('equal'); \n",
    "plt.contourf(X,Y,hfmOut['voronoiFlags']);"
   ]
  },
  {
   "cell_type": "markdown",
   "metadata": {},
   "source": [
    "In the next experiment, we stop the front propagation as soon as two of the regions meet, and display the minimal paths from the meeting point. They can be concatenated into a minimal geodesic joining the two closest seeds."
   ]
  },
  {
   "cell_type": "code",
   "execution_count": null,
   "metadata": {},
   "outputs": [],
   "source": [
    "hfmIn['voronoiStoppingCriterion']='RegionsMeeting'"
   ]
  },
  {
   "cell_type": "code",
   "execution_count": null,
   "metadata": {},
   "outputs": [],
   "source": [
    "hfmOut = hfmIn.Run()"
   ]
  },
  {
   "cell_type": "code",
   "execution_count": null,
   "metadata": {},
   "outputs": [],
   "source": [
    "plt.figure(figsize=[4,4]); plt.title('Termination when two Voronoi regions meet'); plt.axis('equal'); \n",
    "plt.contourf(X,Y,hfmOut['voronoiFlags']) # Display the Voronoi regions.\n",
    "for geo in hfmOut['geodesics_voronoiDiagram']:  plt.plot(*geo) "
   ]
  },
  {
   "cell_type": "markdown",
   "metadata": {},
   "source": [
    "The same flag can be attributed to several seeds. As a result, the corresponding Voronoi regions are regarded as a single, unique region."
   ]
  },
  {
   "cell_type": "code",
   "execution_count": null,
   "metadata": {},
   "outputs": [],
   "source": [
    "hfmIn['seedFlags']=[0,0,1]"
   ]
  },
  {
   "cell_type": "code",
   "execution_count": null,
   "metadata": {},
   "outputs": [],
   "source": [
    "hfmOut = hfmIn.Run()"
   ]
  },
  {
   "cell_type": "code",
   "execution_count": null,
   "metadata": {},
   "outputs": [],
   "source": [
    "plt.figure(figsize=[4,4]); plt.title('Aggregation of several Voronoi regions'); plt.axis('equal'); \n",
    "plt.contourf(X,Y,hfmOut['voronoiFlags']) # Display the Voronoi regions.\n",
    "for geo in hfmOut['geodesics_voronoiDiagram']:  plt.plot(*geo) "
   ]
  },
  {
   "cell_type": "code",
   "execution_count": null,
   "metadata": {},
   "outputs": [],
   "source": [
    "hfmIn.pop('voronoiStoppingCriterion',None);"
   ]
  },
  {
   "cell_type": "markdown",
   "metadata": {},
   "source": [
    "## 5. Contruction of the Riemannian tensors\n",
    "\n",
    "In applications, the construction of the Riemannian metric tensors is often the key difficulty, requiring expert knowledge of the problem at hand. A few classical constructions are illustrated in this series of notebooks."
   ]
  },
  {
   "cell_type": "markdown",
   "metadata": {},
   "source": [
    "### 5.1 Dimension lifting\n",
    "\n",
    "The HFM software implements Riemannian models in dimension $d+1$, where $d \\in \\{2,3\\}$, and the tensor structure is block diagonal. They take the form\n",
    "\\begin{equation*}\n",
    "\\mathcal D(p)=\n",
    "\\begin{pmatrix}\n",
    "D(p) & \\\\\n",
    "& \\lambda(p)\n",
    "\\end{pmatrix}\n",
    "\\end{equation*}\n",
    "where $D(p)$ is a $d\\times d$ symmetric positive definite matrix, and $\\lambda(p)>0$.\n",
    "These tensor structures are common in image processing, where usually $d$ is the input image dimension, and the last coordinate is an abstract parameter. Usually it accounts for a feature of the objects represented in the image, expected to vary regularly along them, such as the radius, orientation, or gray level of some tubular structures.\n",
    "\n",
    "Such models are discussed in the [notebook on tubular structures extraction](Tubular.ipynb). A related construction allows to penalize curvature, see the notebooks on [curvature](Curvature.ipynb) and [distorted curvature](DeviationHorizontality.ipynb)."
   ]
  },
  {
   "cell_type": "markdown",
   "metadata": {},
   "source": [
    "### 5.2 Mapping the eigenvalues of a given tensor field.\n",
    "\n",
    "Another approach is to extract direction information from an image in the form of a symmetric matrix field $A$. To this end, one may consider the hessian, the structure tensor, the oriented flux of L. Cohen, or some other filter.\n",
    "At each discretization point $x$, the eigen decomposition of $A$ reads:\n",
    "$$\n",
    "    A(x) = \\sum_{1 \\leq i \\leq d} \\lambda_i(x) e_i(x) e_i(x)^T.\n",
    "$$\n",
    "\n",
    "The eigenvectors $(e_i)$ of the previous tensor typically indicate well the directions of interest in the image, e.g. the directions of the tubular structures or the objects contours. However the eigenvalues $\\lambda_i$ are usually not adequate for minimal path computation: they may have a negative sign, an excessive magnitude, etc. \n",
    "\n",
    "A typical construction is to construct a Riemannian metric tensor which has the same eigenvectors $e_i$ as the filtered tensor, but eigenvalues $\\mu_i$ mapped in an arbitrary way. \n",
    "$$\n",
    "    M(x) = \\sum_{1 \\leq i \\leq d} \\mu_i(x) e_i(x) e_i(x)^T\n",
    "$$\n",
    "where\n",
    "$$\n",
    "    (\\mu_1(x),\\mu_2(x),\\mu_3(x)) = f(\\lambda_1(x),\\lambda_2(x),\\lambda_3(x))\n",
    "$$\n",
    "for some given function $f$. For convenience, one expects that $\\lambda_1(x) \\leq \\lambda_2(x) \\leq \\lambda_3(x)$: the eigenvalues are sorted by increasing value.\n",
    "\n",
    "We provide a helper function for applying this strategy, documented below. We do not illustrate it on real data, but only test it on a random example for correctness.\n",
    "\n",
    "**Anisotropy of the metric.**\n",
    "The largest value of $\\mu_{\\max} := \\sqrt{\\mu_i(x)/\\mu_j(x)}$, for $i,j\\in \\{1,2,3\\}$ and $x\\in \\Omega$, is the anisotropy of the produced metric. For best results, please ensure that $\\mu_{\\max} \\lesssim 10$, or at the very least $\\mu_{\\max} \\lesssim 100$.\n"
   ]
  },
  {
   "cell_type": "code",
   "execution_count": null,
   "metadata": {},
   "outputs": [],
   "source": [
    "# Construct a symmetric tensor describing an image's features (hessian, structure tensor, etc)\n",
    "# Here, we content ourselves with random data\n",
    "image_dim = 3\n",
    "image_shape = (5,6,7)\n",
    "\n",
    "np.random.seed(0) # Reproducibility\n",
    "A = np.random.normal( size=(image_dim,image_dim)+image_shape)\n",
    "A = A+lp.transpose(A) # Make symmetric"
   ]
  },
  {
   "cell_type": "code",
   "execution_count": null,
   "metadata": {},
   "outputs": [],
   "source": [
    "# Construct a function for mapping the eigenvalues. \n",
    "# Important : in practical applications, mu0,mu1,mu2 must all be positive\n",
    "def f(eigenvalues):\n",
    "    lambda0,lambda1,lambda2 = eigenvalues\n",
    "    mu0,mu1,mu2 = lambda0,lambda1+1,lambda2+2\n",
    "    return mu0,mu1,mu2\n",
    "\n",
    "# The Riemannian metric\n",
    "M = Riemann.from_mapped_eigenvalues(A,f)"
   ]
  },
  {
   "cell_type": "markdown",
   "metadata": {},
   "source": [
    "We check below some of the properties of proposed construction."
   ]
  },
  {
   "cell_type": "code",
   "execution_count": null,
   "metadata": {},
   "outputs": [],
   "source": [
    "def f_inv(x):\n",
    "    x0,x1,x2 = x\n",
    "    # Test that the eigenvalues are sorted as expected.\n",
    "    assert np.all(x0<=x1) and np.all(x1<=x2)\n",
    "    return x0,x1-1,x2-2\n",
    "\n",
    "# Test that composing f and f_inv yields identity\n",
    "assert norm_infinity(Riemann.from_mapped_eigenvalues(M.m,f_inv).m - A) < 1e-13\n",
    "\n",
    "# Test that the mapping lambda->1/lambda yields the inverse matrix\n",
    "A_inv = Riemann.from_mapped_eigenvalues(A,lambda t:1/t).m\n",
    "Id = np.eye(image_dim).reshape( (image_dim,image_dim)+image_dim*(1,) )\n",
    "assert norm_infinity(lp.dot_AA(A_inv,A) - Id)<1e-12"
   ]
  },
  {
   "cell_type": "code",
   "execution_count": null,
   "metadata": {},
   "outputs": [],
   "source": []
  }
 ],
 "metadata": {
  "celltoolbar": "Format de la Cellule Texte Brut",
  "kernelspec": {
   "display_name": "Python 3 (ipykernel)",
   "language": "python",
   "name": "python3"
  },
  "language_info": {
   "codemirror_mode": {
    "name": "ipython",
    "version": 3
   },
   "file_extension": ".py",
   "mimetype": "text/x-python",
   "name": "python",
   "nbconvert_exporter": "python",
   "pygments_lexer": "ipython3",
   "version": "3.10.8"
  },
  "latex_envs": {
   "LaTeX_envs_menu_present": true,
   "autocomplete": false,
   "bibliofile": "biblio.bib",
   "cite_by": "apalike",
   "current_citInitial": 1,
   "eqLabelWithNumbers": true,
   "eqNumInitial": 1,
   "hotkeys": {
    "equation": "Ctrl-E",
    "itemize": "Ctrl-I"
   },
   "labels_anchors": false,
   "latex_user_defs": false,
   "report_style_numbering": false,
   "user_envs_cfg": false
  },
  "varInspector": {
   "cols": {
    "lenName": 16,
    "lenType": 16,
    "lenVar": 40
   },
   "kernels_config": {
    "python": {
     "delete_cmd_postfix": "",
     "delete_cmd_prefix": "del ",
     "library": "var_list.py",
     "varRefreshCmd": "print(var_dic_list())"
    },
    "r": {
     "delete_cmd_postfix": ") ",
     "delete_cmd_prefix": "rm(",
     "library": "var_list.r",
     "varRefreshCmd": "cat(var_dic_list()) "
    }
   },
   "types_to_exclude": [
    "module",
    "function",
    "builtin_function_or_method",
    "instance",
    "_Feature"
   ],
   "window_display": false
  }
 },
 "nbformat": 4,
 "nbformat_minor": 1
}