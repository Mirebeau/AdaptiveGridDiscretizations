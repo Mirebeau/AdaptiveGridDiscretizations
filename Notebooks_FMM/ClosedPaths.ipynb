{
 "cells": [
  {
   "cell_type": "markdown",
   "metadata": {},
   "source": [
    "# The HFM library - A fast marching solver with adaptive stencils\n",
    "\n",
    "## Part : Motion planning\n",
    "## Chapter : Closed path through a keypoint"
   ]
  },
  {
   "cell_type": "markdown",
   "metadata": {},
   "source": [
    "In this notebook, we compute paths from a point to itself, going through an intermediate keypoint, and minimizing a given cost. Paths are subject to a penalization of curvature, and the path tangent at the extremal and intermediate endpoints is free. From a mathematical standpoint, these 'points' should thus be regarded as subdomains $\\{p\\} \\times S^1$ within the position-orientation space $R^2 \\times S^1$ where the eikonal equation is solved.\n",
    "\n",
    "Some experiments model an intruder entering a domain, visiting a presecribed point, and then leaving that domain, while minimizing the probability of detection by a (static) surveillance system. The parameters of the surveillance system are then adjusted to improve the probability of detection. \n",
    "\n",
    "The purpose of this notebook is to illustrate:\n",
    "* the computation of optimal paths with an intermediate keypoint or region.\n",
    "* the various curvature penalization models - Reeds-Shepp, Euler, Dubins available in the HFM library.\n",
    "* the use of automatic differentiation to optimize a complex objective function, by projected gradient descent.\n",
    "\n",
    "**Mathematical formulation of the closed loop problem**\n",
    "\n",
    "Consider a domain $\\Omega$, and sub-domains $\\Omega_0, \\Omega_1, \\Omega_2$. We look for the path of minimal cost from the  start region $\\Omega_0$, through the intermediate (keypoint) region $\\Omega_1$, finishing in the end region $\\Omega_2$. Namely we solve\n",
    "$$\n",
    "    \\min_{x_0 \\in \\Omega_0} \\min_{x_1 \\in \\Omega_1} \\min_{x_2 \\in \\Omega_2} d(x_0,x_1) + d(x_1,x_2),\n",
    "$$\n",
    "where $d$ is a possibly asymmetric, and possibly unbounded, (quasi-) distance.\n",
    "\n",
    "In our setting, $\\Omega_0 = \\Omega_2 = \\{p_0\\} \\times S^1$, and $\\Omega_1 = \\{p_1\\} \\times S^1$, where $p_0,p_1 \\in R^2$ are given points. Hence the problem can be reformulated as follows:\n",
    "$$\n",
    "    \\min_{\\theta_0,\\theta_1,\\theta_2 \\in S^1} d((p_0,\\theta_0), (p_1,\\theta_1)) + d((p_1,\\theta_1), (p_0,\\theta_2))\n",
    "$$\n",
    "We solve an eikonal-like PDE to compute numerically the function\n",
    "$$\n",
    "U(p,\\theta) := \\min_{\\theta_0 \\in S^1} d((p_0,\\theta_0), (p,\\theta)),\n",
    "$$\n",
    "The considered models benefit from the following anti-symmetry property: $d((p,\\theta),(q,\\phi)) = d((q,\\phi+\\pi),(p,\\theta+\\pi))$, which expresses the fact that the length of a path and of the reversed path are equal, even taking into account curvature penalization. Taking advantage of this fact, we reformulate the problem as \n",
    "$$\n",
    "    \\min_{\\theta_1 \\in S^1} U(p_1,\\theta_1) + U(q,\\theta_1+\\pi),\n",
    "$$\n",
    "which is solved numerically by exhaustive search over $\\theta_1$ in a discretization of $S^1$.\n",
    "\n",
    "**Relation with the traveling salesman problem**\n",
    "\n",
    "If several keypoints are introduced, instead of one, and if their order is unspecified, then the problem considered here becomes (analoguous to) the traveling salesman problem. However, the underlying difficulties, and the relevant mathematical techniques, also change in nature, and the tools developed in this series of notebooks become mostly irrelevant. We thus stick with the single intermediate keypoint setting.\n",
    "\n",
    "**Reference.**\n",
    "\n",
    "The numerical experiments presented in this notebook are closely related to those of the following paper.\n",
    "* Mirebeau, J.-M., & Dreo, J. (2017). Automatic differentiation of non-holonomic fast marching for computing most threatening trajectories under sensors surveillance (pp. 791–800). Presented at the International Conference on Geometric Science of Information."
   ]
  },
  {
   "cell_type": "markdown",
   "metadata": {},
   "source": [
    "[**Summary**](Summary.ipynb) of volume Fast Marching Methods, this series of notebooks.\n",
    "\n",
    "[**Main summary**](../Summary.ipynb) of the Adaptive Grid Discretizations \n",
    "\tbook of notebooks, including the other volumes.\n",
    "\n",
    "# Table of contents\n",
    "  * [1. With obstacles](#1.-With-obstacles)\n",
    "    * [1.1 Setting the obstacles](#1.1-Setting-the-obstacles)\n",
    "    * [1.2 Computing the minimal paths](#1.2-Computing-the-minimal-paths)\n",
    "    * [1.3 Comparing the models](#1.3-Comparing-the-models)\n",
    "  * [2. Evading surveillance](#2.-Evading-surveillance)\n",
    "    * [2.1 Detection model](#2.1-Detection-model)\n",
    "    * [2.2 Optimal path](#2.2-Optimal-path)\n",
    "  * [3 Optimization of the surveillance system](#3-Optimization-of-the-surveillance-system)\n",
    "    * [3.1 Differentiation of the objective function](#3.1-Differentiation-of-the-objective-function)\n",
    "    * [3.2 Soft minimum](#3.2-Soft-minimum)\n",
    "    * [3.3 Optimization](#3.3-Optimization)\n",
    "    * [3.4 Different initial conditions](#3.4-Different-initial-conditions)\n",
    "\n",
    "\n",
    "\n",
    "This Python&reg; notebook is intended as documentation and testing for the [HamiltonFastMarching (HFM) library](https://github.com/mirebeau/HamiltonFastMarching), which also has interfaces to the Matlab&reg; and Mathematica&reg; languages. \n",
    "More information on the HFM library in the manuscript:\n",
    "* Jean-Marie Mirebeau, Jorg Portegies, \"Hamiltonian Fast Marching: A numerical solver for anisotropic and non-holonomic eikonal PDEs\", 2019 [(link)](https://hal.archives-ouvertes.fr/hal-01778322)\n",
    "\n",
    "Copyright Jean-Marie Mirebeau, University Paris-Sud, CNRS, University Paris-Saclay"
   ]
  },
  {
   "cell_type": "markdown",
   "metadata": {},
   "source": [
    "## 0. Importing the required libraries"
   ]
  },
  {
   "cell_type": "code",
   "execution_count": 1,
   "metadata": {},
   "outputs": [],
   "source": [
    "import sys; sys.path.insert(0,\"..\") # Allow import of agd from parent directory (useless if conda package installed)\n",
    "#from Miscellaneous import TocTools; print(TocTools.displayTOC('ClosedPaths','FMM'))"
   ]
  },
  {
   "cell_type": "code",
   "execution_count": 2,
   "metadata": {},
   "outputs": [],
   "source": [
    "from agd import Eikonal\n",
    "from agd import FiniteDifferences as fd\n",
    "from agd import AutomaticDifferentiation as ad\n",
    "from agd.Interpolation import UniformGridInterpolation\n",
    "norm = ad.Optimization.norm\n",
    "#from agd.Plotting import savefig, SetTitle3D; #savefig.dirName = 'Figures/Curvature/'"
   ]
  },
  {
   "cell_type": "code",
   "execution_count": 3,
   "metadata": {},
   "outputs": [],
   "source": [
    "import numpy as np; xp=np\n",
    "from matplotlib import pyplot as plt"
   ]
  },
  {
   "cell_type": "code",
   "execution_count": 4,
   "metadata": {},
   "outputs": [],
   "source": [
    "def ReloadPackages():\n",
    "    from Miscellaneous.rreload import rreload\n",
    "    global Eikonal,ad\n",
    "    Eikonal,ad = rreload([Eikonal,ad],rootdir='../..')"
   ]
  },
  {
   "cell_type": "markdown",
   "metadata": {},
   "source": [
    "### 0.1 Optional configuration\n",
    "Uncomment the following line to use the GPU eikonal solver."
   ]
  },
  {
   "cell_type": "code",
   "execution_count": 5,
   "metadata": {
    "tags": [
     "EikonalGPU_config"
    ]
   },
   "outputs": [
    {
     "name": "stdout",
     "output_type": "stream",
     "text": [
      "Replacing numpy with cupy, set to output 32bit ints and floats by default.\n",
      "Using cp.asarray(*,dtype=np.float32) as the default caster in ad.array.\n",
      "Returning a copy of module matplotlib.pyplot whose functions accept cupy arrays as input.\n",
      "Setting dictIn.default_mode = 'gpu' in module agd.Eikonal .\n"
     ]
    }
   ],
   "source": [
    "#xp,plt,Eikonal = map(ad.cupy_friendly,(xp,plt,Eikonal))"
   ]
  },
  {
   "cell_type": "markdown",
   "metadata": {},
   "source": [
    "## 1. With obstacles\n",
    "\n",
    "We compute the path of minimal length from a point to itself, through an intermediate keypoint, subject to a bound on curvature within a domain filled with obstacles. For that purpose, we rely on the HFM library, and the two dimensional Dubins model."
   ]
  },
  {
   "cell_type": "code",
   "execution_count": 6,
   "metadata": {},
   "outputs": [],
   "source": [
    "hfmIn = Eikonal.dictIn({\n",
    "    'model':'Dubins2',\n",
    "    'xi':0.3, # Minimal curvature radius\n",
    "    'cost':1,\n",
    "    'seed_Unoriented':[0.2,0.5],\n",
    "    'tip_Unoriented':[1.75,0.5],\n",
    "    'exportValues':True,\n",
    "})\n",
    "hfmIn.SetRect([[0,2],[0,1]],dimx=200)\n",
    "hfmIn.nTheta = 96"
   ]
  },
  {
   "cell_type": "code",
   "execution_count": 7,
   "metadata": {},
   "outputs": [],
   "source": [
    "aX0,aX1,aΘ = hfmIn.Axes()\n",
    "X = ad.array(np.meshgrid(aX0,aX1,indexing='ij'))\n",
    "nθ = len(aΘ)"
   ]
  },
  {
   "cell_type": "markdown",
   "metadata": {},
   "source": [
    "Set as above, the solver computes the shortest path from the seed point (with arbitrary orientation) to the tip point (with arbitrary orientation). This is not sufficient for our purposes, since we also need a return path from the tip to the seed, with a matching tangent. \n",
    "\n",
    "We thus introduce a more complete set of tips, each with a specific orientation."
   ]
  },
  {
   "cell_type": "code",
   "execution_count": 8,
   "metadata": {},
   "outputs": [],
   "source": [
    "hfmIn['tips'] = ad.array([ (*hfmIn['tip_Unoriented'],θ) for θ in aΘ])"
   ]
  },
  {
   "cell_type": "markdown",
   "metadata": {},
   "source": [
    "### 1.1 Setting the obstacles\n",
    "\n",
    "In order to make problem interesting, we introduce obstacles in the domain. For the simplifity of implementation, they take the form of a tube, with rounded caps."
   ]
  },
  {
   "cell_type": "code",
   "execution_count": 9,
   "metadata": {},
   "outputs": [],
   "source": [
    "def InTube(x,p,q,r):\n",
    "    \"\"\"\n",
    "    Wether the point x lies in the tube of extremities p and q, with radius r.\n",
    "    (Includes round caps at p and q.)\n",
    "    \"\"\"\n",
    "    x,p,q = fd.common_field((x,p,q),depths=(1,1,1))\n",
    "    dpx,dqx,dpq = [norm(e,axis=0) for e in (x-p,x-q,q-p)]\n",
    "    \n",
    "    \n",
    "    caps = np.logical_or(dpx<=r,dqx<=r)\n",
    "    def l(z): return np.sqrt(np.maximum(0,z**2-r**2))\n",
    "    tube = l(dpx) + l(dqx) <= dpq \n",
    "    return np.logical_or(caps,tube)    "
   ]
  },
  {
   "cell_type": "markdown",
   "metadata": {},
   "source": [
    "The NaN warning is expected here, when $x$ is within one of the caps, and can be safely ingnored."
   ]
  },
  {
   "cell_type": "code",
   "execution_count": 10,
   "metadata": {},
   "outputs": [],
   "source": [
    "hfmIn['walls'] = (InTube(X,[0.3,0.7],[0.8,0.2],0.01)\n",
    "        +InTube(X,[0.9,1.],[0.8,0.6],0.01)\n",
    "        +InTube(X,[1.3,0.3],[1.4,0.],0.05)\n",
    "        +InTube(X,[1.5,0.5],[1.6,0.4],0.01))>0"
   ]
  },
  {
   "cell_type": "code",
   "execution_count": 11,
   "metadata": {},
   "outputs": [],
   "source": [
    "plt.title('Obstacles in the domain')\n",
    "plt.contourf(*X,hfmIn['walls'],cmap='Greys')\n",
    "plt.scatter(*hfmIn['seed_Unoriented'])\n",
    "plt.scatter(*hfmIn['tip_Unoriented'])\n",
    "plt.axis('equal');"
   ]
  },
  {
   "cell_type": "markdown",
   "metadata": {},
   "source": [
    "### 1.2 Computing the minimal paths\n",
    "\n",
    "The minimal path from the unoriented seed to the unoriented tip has arbitrary tangent at the endpoints, and does not account for a potential return trip."
   ]
  },
  {
   "cell_type": "code",
   "execution_count": 12,
   "metadata": {},
   "outputs": [
    {
     "name": "stdout",
     "output_type": "stream",
     "text": [
      "Setting the kernel traits.\n",
      "Preparing the domain data (shape,metric,...)\n",
      "Preparing the problem rhs (cost, seeds,...)\n",
      "Preparing the GPU kernel\n",
      "Running the eikonal GPU kernel\n",
      "GPU kernel eikonal ran for 0.15400052070617676 seconds, and 138 iterations.\n",
      "Post-Processing\n"
     ]
    }
   ],
   "source": [
    "hfmOut = hfmIn.Run()"
   ]
  },
  {
   "cell_type": "code",
   "execution_count": 13,
   "metadata": {},
   "outputs": [],
   "source": [
    "plt.title('Optimal paths, from seed (best θ) to tip (best θ)')\n",
    "plt.contourf(*X,hfmIn['walls'],cmap='Greys')\n",
    "plt.plot(*hfmOut['geodesics_Unoriented'][0][:2],'blue')\n",
    "plt.axis('equal');"
   ]
  },
  {
   "cell_type": "markdown",
   "metadata": {},
   "source": [
    "When the tangent at the tip is prescribed, the whole path is modified, and it may go on a different side of the obstacles."
   ]
  },
  {
   "cell_type": "code",
   "execution_count": 14,
   "metadata": {},
   "outputs": [],
   "source": [
    "plt.title('Minimal paths from seed (best θ) to tip (all θs)')\n",
    "plt.contourf(*X,hfmIn['walls'],cmap='Greys')\n",
    "for geo in hfmOut['geodesics']: plt.plot(*geo[:2])\n",
    "plt.axis('equal');"
   ]
  },
  {
   "cell_type": "markdown",
   "metadata": {},
   "source": [
    "The next function performs the exhaustive minimization mentioned in the introduction, looking for the optimal tangent orientation at the intermediate keypoint. Namely\n",
    "$$\n",
    "    \\min_{\\theta_1 \\in S^1} U(p_1,\\theta_1) + U(q,\\theta_1+\\pi),\n",
    "$$\n",
    "where $U$ is the numerical solution to an eikonal-like equation, computed by the HFM library."
   ]
  },
  {
   "cell_type": "code",
   "execution_count": 15,
   "metadata": {},
   "outputs": [],
   "source": [
    "def ClosedPathCost(hfmIn,hfmOut):\n",
    "    \"\"\"\n",
    "    Total cost of a closed path through the keypoint, depending on the orientation.\n",
    "    \"\"\"\n",
    "    valuesI = UniformGridInterpolation(hfmIn.Grid(),hfmOut['values'],periodic=(False,False,True))\n",
    "    tipValues = valuesI(hfmIn['tips'].T)\n",
    "    return tipValues[:nθ//2] + tipValues[nθ//2:]"
   ]
  },
  {
   "cell_type": "code",
   "execution_count": 16,
   "metadata": {},
   "outputs": [],
   "source": [
    "costDubins = ClosedPathCost(hfmIn,hfmOut)\n",
    "iθ = int(np.argmin(costDubins))"
   ]
  },
  {
   "cell_type": "markdown",
   "metadata": {},
   "source": [
    "As a function of the angle of the intermediate keypoint, the cost of the return trip is smooth except at a point, which is a local maximum. This situation is typical, since local maxima of the distance function on a given subset often (not always) correspond its intersection with the cut locus, where the distance function looses differentiability. This also means that it is easier to minimize a distance than to maximize it, which is a welcome property here, although we content ourselves with exhausive search."
   ]
  },
  {
   "cell_type": "code",
   "execution_count": 17,
   "metadata": {},
   "outputs": [],
   "source": [
    "plt.title('Cost of Dubins closed path')\n",
    "plt.plot(aΘ,np.concatenate([costDubins,costDubins]))\n",
    "plt.xlabel('θ, orientation of tangent'); plt.ylabel('total cost');"
   ]
  },
  {
   "cell_type": "markdown",
   "metadata": {},
   "source": [
    "Optimal paths for the Dubins model are expected to be successions of straight lines and of circle arcs matching the given bound $\\xi$ on the radius of curvature. This property observed in the numerical experiment, up to discretization errors."
   ]
  },
  {
   "cell_type": "code",
   "execution_count": 18,
   "metadata": {},
   "outputs": [],
   "source": [
    "plt.title('Optimal closed path from seed (best θ) through tip (best θ)')\n",
    "plt.contourf(*X,hfmIn['walls'],cmap='Greys')\n",
    "for i in (iθ,iθ+nθ//2):\n",
    "    plt.plot(*hfmOut['geodesics'][i][:2],'red')\n",
    "plt.axis('equal');"
   ]
  },
  {
   "cell_type": "markdown",
   "metadata": {},
   "source": [
    "### 1.3 Comparing the models\n",
    "\n",
    "The curvature $\\kappa$ of a path is penalized differently by the various non-holonomic models implemented in the HFM library. See the notebook on [curvature penalization](Curvature.ipynb) for details.\n",
    "\n",
    "The Dubins model, considered above, imposes a strict bound $|\\xi \\kappa| \\leq 1$, where $\\xi$ is a parameter of the model. In contrast, the Euler-Mumford elastica model allows abitrary curvatures, but penalizes temp quadratically, through the cost $1+ (\\xi \\kappa)^2$.\n",
    "\n"
   ]
  },
  {
   "cell_type": "code",
   "execution_count": 19,
   "metadata": {},
   "outputs": [
    {
     "name": "stdout",
     "output_type": "stream",
     "text": [
      "Setting the kernel traits.\n",
      "Preparing the domain data (shape,metric,...)\n",
      "Preparing the problem rhs (cost, seeds,...)\n",
      "Preparing the GPU kernel\n",
      "Running the eikonal GPU kernel\n",
      "GPU kernel eikonal ran for 0.2768714427947998 seconds, and 260 iterations.\n",
      "Post-Processing\n"
     ]
    }
   ],
   "source": [
    "hfmIn['model'] = 'Elastica2'\n",
    "hfmOut = hfmIn.Run()"
   ]
  },
  {
   "cell_type": "code",
   "execution_count": 20,
   "metadata": {},
   "outputs": [],
   "source": [
    "costElastica = ClosedPathCost(hfmIn,hfmOut)\n",
    "iθ = int(np.argmin(costElastica))"
   ]
  },
  {
   "cell_type": "code",
   "execution_count": 21,
   "metadata": {},
   "outputs": [],
   "source": [
    "plt.title('Euler elastica - optimal return trip')\n",
    "plt.contourf(*X,hfmIn['walls'],cmap='Greys')\n",
    "for i in (iθ,iθ+nθ//2):\n",
    "    plt.plot(*hfmOut['geodesics'][i][:2],'red')\n",
    "plt.axis('equal');"
   ]
  },
  {
   "cell_type": "markdown",
   "metadata": {},
   "source": [
    "The Reeds-Shepp forward model penalizes curvature in a quasi-linear manner, through the cost $\\sqrt{1+(\\xi \\kappa)^2}$. In particular, in place rotations are permitted, since they correspond to a Dirac in curvature. They typically arise at the endpoints, here at the visited keypoint, and sometimes at the tips of obstacles."
   ]
  },
  {
   "cell_type": "code",
   "execution_count": 22,
   "metadata": {},
   "outputs": [
    {
     "name": "stdout",
     "output_type": "stream",
     "text": [
      "Setting the kernel traits.\n",
      "Preparing the domain data (shape,metric,...)\n",
      "Preparing the problem rhs (cost, seeds,...)\n",
      "Preparing the GPU kernel\n",
      "Running the eikonal GPU kernel\n",
      "GPU kernel eikonal ran for 0.05733609199523926 seconds, and 125 iterations.\n",
      "Post-Processing\n"
     ]
    }
   ],
   "source": [
    "hfmIn['model'] = 'ReedsSheppForward2'\n",
    "hfmOut = hfmIn.Run()"
   ]
  },
  {
   "cell_type": "code",
   "execution_count": 23,
   "metadata": {},
   "outputs": [],
   "source": [
    "costReedsShepp = ClosedPathCost(hfmIn,hfmOut)\n",
    "iθ = int(np.argmin(costReedsShepp))"
   ]
  },
  {
   "cell_type": "code",
   "execution_count": 24,
   "metadata": {},
   "outputs": [],
   "source": [
    "plt.title('Reeds-Shepp forward - optimal return trip')\n",
    "plt.contourf(*X,hfmIn['walls'],cmap='Greys')\n",
    "for i in (iθ,iθ+nθ//2):\n",
    "    plt.plot(*hfmOut['geodesics'][i][:2],'red')\n",
    "plt.axis('equal');"
   ]
  },
  {
   "cell_type": "markdown",
   "metadata": {},
   "source": [
    "A specific feature of the Reeds-Shepp model, in the context of our application, is that the minimum is 'flat'. This is because the optimal path features an in-place rotation at the keypoint, and therefore the path tangent at that point is ill defined."
   ]
  },
  {
   "cell_type": "code",
   "execution_count": 25,
   "metadata": {},
   "outputs": [],
   "source": [
    "plt.figure(figsize=(14,6))\n",
    "plt.subplot(1,2,1)\n",
    "plt.title('Cost of Euler-Mumford elastica closed path')\n",
    "plt.plot(aΘ,np.concatenate([costElastica,costElastica]))\n",
    "plt.xlabel('θ, orientation of tangent'); plt.ylabel('total cost');\n",
    "\n",
    "plt.subplot(1,2,2)\n",
    "plt.title('Cost of Reeds-Shepp closed path')\n",
    "plt.plot(aΘ,np.concatenate([costReedsShepp,costReedsShepp]))\n",
    "plt.xlabel('θ, orientation of tangent'); plt.ylabel('total cost');"
   ]
  },
  {
   "cell_type": "markdown",
   "metadata": {},
   "source": [
    "## 2. Evading surveillance \n",
    "\n",
    "In this section, we consider a closed path through a empty domain equipped with surveillance devices ('radars'). Our aim is to find a closed path visiting a given keypoint, and minimizing the probability of detection. In a section step, described in the next section, we optimize the position of the radars."
   ]
  },
  {
   "cell_type": "markdown",
   "metadata": {},
   "source": [
    "### 2.1 Detection model\n",
    "\n",
    "For simplicity, our surveillance devices are omni-directional, with a probability of detection depending only on the distance to the device location, and decreasing quadratically. We use the common simplification that the detection probabilities add up independently along the path, and with the different devices. More precisely, assuming $K$ detection devices located at $(x_k)_{k=1}^K$, the probability that a path $\\gamma : [0,L] \\to \\Omega$, parametrized at unit Euclidean, speed evades detection is modeled as\n",
    "$$\n",
    "    P(\\gamma) = \\exp\\Big[-\\int_0^L \\sum_{1 \\leq k \\leq K} \\frac {\\mathrm{d}l} {1+\\|\\gamma(l)-x_k\\|^2/r^2} \\Big]\n",
    "$$\n",
    "The purpose is to maximize $P(\\gamma)$, thus to minimize the integral. In addition, the path is subject as before to a lower bound on the radius of curvature, to model the maneuverability constraints.\n",
    "\n",
    "**More realistic detection models.**\n",
    "Radars detection and furtivity is a complex and technical subject. More realistic models need to include blind spots governed by a variety of phenomena, including obstacles and valleys, and the radar internal parameters.\n",
    "See the following work and references therein:\n",
    "* Dreo, J., Desquilbet, F., Barbaresco, F., & Mirebeau, J.-M. (2019). Netted multi-function radars positioning and modes selection by non-holonomic fast marching computation of highest threatening trajectories. Presented at the International RADAR’19 conference."
   ]
  },
  {
   "cell_type": "code",
   "execution_count": 26,
   "metadata": {},
   "outputs": [],
   "source": [
    "def DetectionProba(q,x,r0=0.2):\n",
    "    \"\"\"\n",
    "    Detection probability at x, from a device located at q.\n",
    "    \"\"\"\n",
    "    q,x = fd.common_field((q,x),(1,1))\n",
    "    dqx2 = ((q-x)**2).sum(axis=0) # Squared distance\n",
    "    return 1./(1 + dqx2/r0**2)"
   ]
  },
  {
   "cell_type": "markdown",
   "metadata": {},
   "source": [
    "We use several detection devices, located at different positions."
   ]
  },
  {
   "cell_type": "code",
   "execution_count": 27,
   "metadata": {},
   "outputs": [],
   "source": [
    "qDevice = xp.array([[0.5,0.6],[1.2,0.1],[1.4,0.7]]).T\n",
    "proba = sum(DetectionProba(qi,X,0.1) for qi in qDevice.T)"
   ]
  },
  {
   "cell_type": "code",
   "execution_count": 28,
   "metadata": {},
   "outputs": [],
   "source": [
    "plt.title('Cost function (detection probability density)')\n",
    "plt.contourf(*X,proba,cmap='Greys')\n",
    "plt.axis('equal'); plt.colorbar();"
   ]
  },
  {
   "cell_type": "markdown",
   "metadata": {},
   "source": [
    "### 2.2 Optimal path\n",
    "\n",
    "Similarly to the obstacles setting, the optimal path is obtained by optimizing over all the possible tangent directions at the intermediate point."
   ]
  },
  {
   "cell_type": "code",
   "execution_count": 29,
   "metadata": {},
   "outputs": [],
   "source": [
    "hfmIn['model'] = 'Dubins2'\n",
    "hfmIn['cost'] = proba\n",
    "hfmIn.pop('walls',None);"
   ]
  },
  {
   "cell_type": "code",
   "execution_count": 30,
   "metadata": {},
   "outputs": [
    {
     "name": "stdout",
     "output_type": "stream",
     "text": [
      "Setting the kernel traits.\n",
      "Preparing the domain data (shape,metric,...)\n",
      "Preparing the problem rhs (cost, seeds,...)\n",
      "Preparing the GPU kernel\n",
      "Running the eikonal GPU kernel\n",
      "GPU kernel eikonal ran for 0.12816691398620605 seconds, and 174 iterations.\n",
      "Post-Processing\n"
     ]
    }
   ],
   "source": [
    "hfmOut = hfmIn.Run()"
   ]
  },
  {
   "cell_type": "code",
   "execution_count": 31,
   "metadata": {},
   "outputs": [],
   "source": [
    "cost = ClosedPathCost(hfmIn,hfmOut)\n",
    "iθ = int(np.argmin(cost))"
   ]
  },
  {
   "cell_type": "code",
   "execution_count": 32,
   "metadata": {},
   "outputs": [],
   "source": [
    "plt.title('Optimal closed path from seed (best θ) through tip (best θ)')\n",
    "plt.contourf(*X,hfmIn['cost'],cmap='Greys')\n",
    "for i in (iθ,iθ+nθ//2):\n",
    "    plt.plot(*hfmOut['geodesics'][i][:2],'red')\n",
    "plt.axis('equal');"
   ]
  },
  {
   "cell_type": "markdown",
   "metadata": {},
   "source": [
    "As a function of the keypoint angle, the path cost has the same structure as before, with an smooth minimum, and a non-differentiable maximum."
   ]
  },
  {
   "cell_type": "code",
   "execution_count": 33,
   "metadata": {},
   "outputs": [],
   "source": [
    "plt.title('Integrated detection probability')\n",
    "plt.plot(aΘ[:nθ//2],cost)\n",
    "plt.xlabel('θ, orientation of tangent'); plt.ylabel('total probability');"
   ]
  },
  {
   "cell_type": "markdown",
   "metadata": {},
   "source": [
    "## 3 Optimization of the surveillance system\n",
    "\n",
    "In this section, we optimize the position of a collection of surveillance devices, so as to maximize the cost of visiting a given keypoint using a closed path. We are thus effectively solving a min-max, an elementary two-player zero-sum game with complete information.\n",
    "$$\n",
    "    \\max_{\\sigma \\in \\Sigma} \\min_{\\gamma \\in \\Gamma} C(\\sigma,\\gamma),\n",
    "$$\n",
    "where $C(\\sigma,\\gamma)$ denotes the cost of path $\\gamma \\in \\Gamma$ within a domain equipped with a surveillance system of parameters $\\sigma \\in \\Sigma$.\n",
    "\n",
    "**Detection model.**\n",
    "We use the same detection model as in the previous section. In particular $\\Gamma$ is the set of all closed paths in the domain visiting a given keypoint, and $\\Sigma$ is the set of all possible radar positions. The techniques put in place in the previous section let us to compute\n",
    "$$\n",
    "    C(\\sigma) := \\min_{\\gamma \\in \\Gamma} C(\\sigma,\\gamma).\n",
    "$$\n",
    "\n",
    "**Optimization w.r.t position.**\n",
    "We differentiate the cost $C(\\sigma)$ w.r.t the detection devices parameters, and use a gradient ascent to approximate\n",
    "$$\n",
    "    \\max_{\\sigma \\in \\Sigma} C(\\sigma),\n",
    "$$\n",
    "and thus solve the original min-max problem.\n",
    "\n",
    "Let us emphasise the $\\sigma \\in \\Sigma \\mapsto C(\\sigma)$ is a non-smooth, non-convex function, with many local maxima. As a result, optimizing w.r.t $\\sigma$ is a challenging problem, to which our naive gradient ascent is not the definitive answer. \n",
    "\n",
    "**Alternative approaches to the configuration of surveillance systems.**\n",
    "A standard approach for the configuration of detection networks is to maximize the minimal (max-min) probability of detection over a set of *points*: the whole domain, or a critical subdomain such as a region border. In contrast, we here maximize the minimal probability of detection over the set of adverse trajectories visiting the keypoint to be defended."
   ]
  },
  {
   "cell_type": "markdown",
   "metadata": {},
   "source": [
    "### 3.1 Differentiation of the objective function\n",
    "\n",
    "We rely on automatic differentiation to compute the gradient of $C(\\sigma)$ w.r.t the radar position parameters $\\sigma \\in \\Sigma$."
   ]
  },
  {
   "cell_type": "code",
   "execution_count": 34,
   "metadata": {},
   "outputs": [],
   "source": [
    "qDevice_ad = ad.Dense.identity(constant=qDevice)\n",
    "proba_ad = sum(DetectionProba(qi,X,0.1) for qi in qDevice_ad.T)"
   ]
  },
  {
   "cell_type": "markdown",
   "metadata": {},
   "source": [
    "At the present time, the HFM library does not not automatically broadcast AD cost information over the angular dimension, so we must do this ourselves."
   ]
  },
  {
   "cell_type": "code",
   "execution_count": 35,
   "metadata": {},
   "outputs": [],
   "source": [
    "proba_ad_broadcasted = np.broadcast_to(np.expand_dims(proba_ad,axis=-1), hfmIn.shape)"
   ]
  },
  {
   "cell_type": "code",
   "execution_count": 36,
   "metadata": {},
   "outputs": [
    {
     "data": {
      "text/plain": [
       "((200, 100), (200, 100, 96), (200, 100, 96))"
      ]
     },
     "execution_count": 36,
     "metadata": {},
     "output_type": "execute_result"
    }
   ],
   "source": [
    "proba_ad.shape, proba_ad_broadcasted.shape, hfmIn.shape"
   ]
  },
  {
   "cell_type": "code",
   "execution_count": 37,
   "metadata": {},
   "outputs": [],
   "source": [
    "hfmIn['cost'] = proba_ad_broadcasted"
   ]
  },
  {
   "cell_type": "code",
   "execution_count": 38,
   "metadata": {},
   "outputs": [
    {
     "name": "stdout",
     "output_type": "stream",
     "text": [
      "Setting the kernel traits.\n",
      "Preparing the domain data (shape,metric,...)\n",
      "Preparing the problem rhs (cost, seeds,...)\n",
      "Preparing the GPU kernel\n",
      "Running the eikonal GPU kernel\n",
      "GPU kernel eikonal ran for 0.2114105224609375 seconds, and 174 iterations.\n",
      "Post-Processing\n"
     ]
    }
   ],
   "source": [
    "hfmOut = hfmIn.Run()"
   ]
  },
  {
   "cell_type": "code",
   "execution_count": 39,
   "metadata": {},
   "outputs": [],
   "source": [
    "cost = ClosedPathCost(hfmIn,hfmOut)\n",
    "iθ = int(np.argmin(cost))"
   ]
  },
  {
   "cell_type": "markdown",
   "metadata": {},
   "source": [
    "The computed cost zero-th order value is the same as before, but we now also get a first order value: the gradient of the cost of the optimal closed path w.r.t the detection devices positions."
   ]
  },
  {
   "cell_type": "code",
   "execution_count": 40,
   "metadata": {},
   "outputs": [],
   "source": [
    "qDevice_grad = cost[iθ].gradient().reshape(qDevice.shape)"
   ]
  },
  {
   "cell_type": "markdown",
   "metadata": {},
   "source": [
    "The gradient component is for moving the bottom detector slightly up."
   ]
  },
  {
   "cell_type": "code",
   "execution_count": 41,
   "metadata": {
    "scrolled": true
   },
   "outputs": [],
   "source": [
    "plt.title('Gradient of the cost function w.r.t the devices positions')\n",
    "plt.contourf(*X,proba,cmap='Greys')\n",
    "for i in (iθ,iθ+nθ//2):\n",
    "    plt.plot(*hfmOut['geodesics'][i][:2],'red')\n",
    "plt.quiver(*qDevice,*qDevice_grad,color='yellow')\n",
    "plt.axis('equal');"
   ]
  },
  {
   "cell_type": "markdown",
   "metadata": {},
   "source": [
    "### 3.2 Soft minimum\n",
    "\n",
    "The objective function\n",
    "$$\n",
    "    C(\\sigma) := \\min_{\\gamma \\in \\Gamma} C(\\sigma,\\gamma),\n",
    "$$\n",
    "is non-differentiable, non convex, and non-smooth, which will raise a number of difficulties in the subsequent optimization routine. \n",
    "In order to tame these issues, we replace the hard minimum with a soft-minimum. \n",
    "\n",
    "More precisely, we group the paths depending on the orientation $\\theta \\in S^1$ of their tangent at the keypoint, introducing\n",
    "$$\n",
    "    C (\\sigma,\\theta) := \\min_{\\gamma \\in \\Gamma_\\theta} C(\\sigma,\\gamma).\n",
    "$$\n",
    "Then compute a soft minimum, depending on a relaxation parameter $\\epsilon>0$\n",
    "$$\n",
    "    C_\\epsilon(\\sigma) := \\min^\\epsilon_{1 \\leq i \\leq N} C(\\sigma,\\theta_i),\n",
    "$$\n",
    "where $\\theta_i \\in S^1$, $1 \\leq i \\leq N$, denote all the discretized orientations of the tangent at the keypoint.\n",
    "\n",
    "Recall that the soft minimum of a family of values $(a_i)_{1 \\leq i \\leq N}$, where $\\epsilon>0$ is a relaxation parameter, is defined as \n",
    "$$\n",
    "    \\min_{1 \\leq i \\leq N}^\\epsilon a_i := -\\epsilon \\ln \\Big[ \\frac 1 N \\sum_{1 \\leq i \\leq N} \\exp(-\\frac {a_i} \\epsilon) \\Big].\n",
    "$$"
   ]
  },
  {
   "cell_type": "code",
   "execution_count": 42,
   "metadata": {},
   "outputs": [],
   "source": [
    "def softMin(arr,ϵ=0.01): return -ϵ * np.log(np.mean(np.exp(-arr/ϵ)))"
   ]
  },
  {
   "cell_type": "markdown",
   "metadata": {},
   "source": [
    "It is also interesting to visualize all the possible paths weighted by their contribution in the soft-min. Only the most important contributions are visible."
   ]
  },
  {
   "cell_type": "code",
   "execution_count": 43,
   "metadata": {},
   "outputs": [],
   "source": [
    "def softWeights(arr,ϵ=0.01): \n",
    "    arrmin = np.min(arr)\n",
    "    return np.exp((arrmin-arr)/ϵ)"
   ]
  },
  {
   "cell_type": "code",
   "execution_count": 44,
   "metadata": {},
   "outputs": [],
   "source": [
    "plt.title('Opacity by contribution to the soft min.')\n",
    "plt.contourf(*X,proba,cmap='Greys')\n",
    "for i,c in enumerate(softWeights(cost.value)):\n",
    "    c=float(c) # GPU compatibility\n",
    "    plt.plot(*hfmOut['geodesics'][i][:2],'red',alpha=c)\n",
    "    plt.plot(*hfmOut['geodesics'][i+nθ//2][:2],'red',alpha=c)\n",
    "plt.axis('equal');"
   ]
  },
  {
   "cell_type": "markdown",
   "metadata": {},
   "source": [
    "### 3.3 Optimization\n",
    "\n",
    "We use a projected gradient ascent, constraining the radar horizontal positions to lie within a subdomain. This is to avoid locating the radars outside of the domain, or on top of the seed or intermediate keypoint (which is not a very interesting solution)."
   ]
  },
  {
   "cell_type": "code",
   "execution_count": 45,
   "metadata": {},
   "outputs": [],
   "source": [
    "def project(q):\n",
    "    \"\"\"\n",
    "    Project detection device position within acceptable subdomain.\n",
    "    \"\"\"\n",
    "    q = q.copy()\n",
    "    q[0] = np.minimum(1.6,np.maximum(0.4,q[0]))\n",
    "    q[1] = np.minimum(1. ,np.maximum(0. ,q[1]))\n",
    "    return q"
   ]
  },
  {
   "cell_type": "code",
   "execution_count": 46,
   "metadata": {},
   "outputs": [],
   "source": [
    "def CostFromPos(qDevice):\n",
    "    \"\"\"\n",
    "    Closed path costs as a function of detection devices positions.\n",
    "    \"\"\"\n",
    "    # Prepare the detection probability density\n",
    "    proba = sum(DetectionProba(qi,X,0.1) for qi in qDevice.T)\n",
    "    proba_broadcasted = np.broadcast_to(np.expand_dims(proba,axis=-1), hfmIn.shape)\n",
    "\n",
    "    # Solve the eikonal equation\n",
    "    hfmIn['cost'] = proba_broadcasted\n",
    "    hfmOut = hfmIn.Run()\n",
    "    \n",
    "    # Get the soft-min cost of the closed paths \n",
    "    return ClosedPathCost(hfmIn,hfmOut),hfmIn,hfmOut"
   ]
  },
  {
   "cell_type": "markdown",
   "metadata": {},
   "source": [
    "Now, run a gradient ascent. We limit ourselves to a few iterations, with a fixed gradient step. \n",
    "For a practical application, it is necessary to use more optimization steps, and possibly a better optimization routine, featuring e.g line search. "
   ]
  },
  {
   "cell_type": "code",
   "execution_count": 47,
   "metadata": {},
   "outputs": [
    {
     "name": "stdout",
     "output_type": "stream",
     "text": [
      "Done iteration 1/6\n",
      "Done iteration 2/6\n",
      "Done iteration 3/6\n",
      "Done iteration 4/6\n",
      "Done iteration 5/6\n",
      "Done iteration 6/6\n"
     ]
    }
   ],
   "source": [
    "# May take a minute to execute\n",
    "nx,ny = 2,3 # Number of iterations (hence also figures)\n",
    "plt.figure(figsize=[14,4*ny])\n",
    "\n",
    "q_opt = qDevice.copy() # Starting point of iteration\n",
    "hist=[] # History of inputs/values\n",
    "rgrad = 0.2 # gradient step\n",
    "hfmIn['verbosity']=0\n",
    "\n",
    "for i in range(1,1+nx*ny):\n",
    "    cost_ad,hfmIn,hfmOut = CostFromPos(ad.Dense.identity(constant=q_opt))\n",
    "    hist.append((q_opt,cost_ad))\n",
    "    cmin_ad = softMin(cost_ad)\n",
    "    grad = cmin_ad.gradient().reshape(q_opt.shape)\n",
    "    q_opt = project(q_opt+rgrad*grad)\n",
    "    \n",
    "    print(f\"Done iteration {i}/{nx*ny}\")\n",
    "    plt.subplot(ny,nx,i)\n",
    "    plt.title(f\"Iteration {i}, objective {cmin_ad.value}\")\n",
    "    plt.contourf(*X,hfmIn['cost'].value[:,:,0],cmap='Greys')\n",
    "    for j,c in enumerate(softWeights(cost_ad.value)):\n",
    "        c=float(c) # GPU compatibility\n",
    "        plt.plot(*hfmOut['geodesics'][j][:2],'red',alpha=c)\n",
    "        plt.plot(*hfmOut['geodesics'][j+nθ//2][:2],'red',alpha=c)\n",
    "    plt.axis('equal');"
   ]
  },
  {
   "cell_type": "markdown",
   "metadata": {},
   "source": [
    "We display below the evolution of the position of the three detectors along the iterations. Note, again, that the optimization is not finalized. We have the following comments:\n",
    "* Optimizing the position of the bottom detector is quite hard, and it seems to oscillate between the iterations. Indeed this detector tries to position itself so as to divide the trajectories in two sets, above and below itself.\n",
    "* The other two detectors have simpler trajectories. In particular, the left detector seems is moving toward the lower bound $x=0.4$ on the horizontal position."
   ]
  },
  {
   "cell_type": "code",
   "execution_count": 48,
   "metadata": {},
   "outputs": [],
   "source": [
    "q_hist = ad.array([q for (q,_) in hist])\n",
    "plt.title(\"Motion of the detection devices along the iterations (blue initial)\")\n",
    "plt.plot(*np.moveaxis(q_hist,0,1))\n",
    "plt.scatter(*qDevice)\n",
    "plt.axis('equal');"
   ]
  },
  {
   "cell_type": "markdown",
   "metadata": {},
   "source": [
    "An interesting side effect of the optimization of the detectors positions is that there is not a single best adverse trajectory, but several almost optimal trajectories. Here, this is especially visible in iteration $5$, where the highest value of the objective function is attained (this value decreases a bit in iteration $6$, recall that the optimization procedure has not reached convergence yet). "
   ]
  },
  {
   "cell_type": "code",
   "execution_count": 49,
   "metadata": {},
   "outputs": [],
   "source": [
    "plt.title(\"Cost of the trajectories, at the best seen position\")\n",
    "plt.plot(aΘ[:nθ//2],hist[-2][1].value);\n",
    "plt.xlabel('θ, orientation of tangent'); plt.ylabel('total probability');"
   ]
  },
  {
   "cell_type": "markdown",
   "metadata": {},
   "source": [
    "### 3.4 Different initial conditions\n",
    "\n",
    "The objective function, the probability of detection of the most furtive trajectory, is non-smooth and highly non-linear w.r.t the detection device parameters. Thus is is not surprising that a different initial configuration leads the optimization procedure to select a distinct local optimum. We illustrate this instable behavior by shifting one of the detectors to the right initially."
   ]
  },
  {
   "cell_type": "code",
   "execution_count": 50,
   "metadata": {},
   "outputs": [],
   "source": [
    "qDevice2 = qDevice.copy()\n",
    "qDevice2[0,0]=1 # Moved first detector to the right\n",
    "proba = sum(DetectionProba(qi,X,0.1) for qi in qDevice2.T)"
   ]
  },
  {
   "cell_type": "code",
   "execution_count": 51,
   "metadata": {},
   "outputs": [],
   "source": [
    "plt.title('Cost function (detection probability density)')\n",
    "plt.contourf(*X,proba,cmap='Greys')\n",
    "plt.axis('equal'); plt.colorbar();"
   ]
  },
  {
   "cell_type": "markdown",
   "metadata": {},
   "source": [
    "As before, we run a few steps of projected gradient ascent. Again, we must emphasize that a more sophisticated optimization routine, running for a longer time, is necessary to property optimize this non-convex and non-smooth objective function."
   ]
  },
  {
   "cell_type": "code",
   "execution_count": 52,
   "metadata": {},
   "outputs": [
    {
     "name": "stdout",
     "output_type": "stream",
     "text": [
      "Done iteration 1/6\n",
      "Done iteration 2/6\n",
      "Done iteration 3/6\n",
      "Done iteration 4/6\n",
      "Done iteration 5/6\n",
      "Done iteration 6/6\n"
     ]
    }
   ],
   "source": [
    "# May take a minute to execute\n",
    "nx,ny = 2,3 # Number of figures/iterations\n",
    "plt.figure(figsize=[14,4*ny])\n",
    "\n",
    "q_opt = qDevice2.copy() # Starting point of iteration\n",
    "hist=[] # History of inputs/values\n",
    "rgrad = 0.2 # gradient step\n",
    "hfmIn['verbosity']=0\n",
    "\n",
    "for i in range(1,1+nx*ny):\n",
    "    cost_ad,hfmIn,hfmOut = CostFromPos(ad.Dense.identity(constant=q_opt))\n",
    "    hist.append((q_opt,cost_ad))\n",
    "    cmin_ad = softMin(cost_ad)\n",
    "    grad = cmin_ad.gradient().reshape(q_opt.shape)\n",
    "    q_opt = project(q_opt+rgrad*grad)\n",
    "    \n",
    "    print(f\"Done iteration {i}/{nx*ny}\")\n",
    "    plt.subplot(ny,nx,i)\n",
    "    plt.title(f\"Iteration {i}, objective {cmin_ad.value}\")\n",
    "    plt.contourf(*X,hfmIn['cost'].value[:,:,0],cmap='Greys')\n",
    "    for j,c in enumerate(softWeights(cost_ad.value)):\n",
    "        c=float(c)\n",
    "        plt.plot(*hfmOut['geodesics'][j][:2],'red',alpha=c)\n",
    "        plt.plot(*hfmOut['geodesics'][j+nθ//2][:2],'red',alpha=c)\n",
    "    plt.axis('equal');"
   ]
  },
  {
   "cell_type": "markdown",
   "metadata": {},
   "source": [
    "The best value of the objective is, as before, achieved in the fifth iteration when the detectors are placed so that there are multiple distinct equally optimal trajectories."
   ]
  },
  {
   "cell_type": "code",
   "execution_count": 53,
   "metadata": {},
   "outputs": [],
   "source": [
    "q_hist = ad.array([q for (q,_) in hist])\n",
    "plt.title(\"Motion of the detection devices along the iterations (blue initial)\")\n",
    "plt.plot(*np.moveaxis(q_hist,0,1))\n",
    "plt.scatter(*qDevice2)\n",
    "plt.axis('equal');"
   ]
  },
  {
   "cell_type": "code",
   "execution_count": null,
   "metadata": {},
   "outputs": [],
   "source": []
  }
 ],
 "metadata": {
  "kernelspec": {
   "display_name": "Python 3 (ipykernel)",
   "language": "python",
   "name": "python3"
  },
  "language_info": {
   "codemirror_mode": {
    "name": "ipython",
    "version": 3
   },
   "file_extension": ".py",
   "mimetype": "text/x-python",
   "name": "python",
   "nbconvert_exporter": "python",
   "pygments_lexer": "ipython3",
   "version": "3.10.8"
  },
  "varInspector": {
   "cols": {
    "lenName": 16,
    "lenType": 16,
    "lenVar": 40
   },
   "kernels_config": {
    "python": {
     "delete_cmd_postfix": "",
     "delete_cmd_prefix": "del ",
     "library": "var_list.py",
     "varRefreshCmd": "print(var_dic_list())"
    },
    "r": {
     "delete_cmd_postfix": ") ",
     "delete_cmd_prefix": "rm(",
     "library": "var_list.r",
     "varRefreshCmd": "cat(var_dic_list()) "
    }
   },
   "types_to_exclude": [
    "module",
    "function",
    "builtin_function_or_method",
    "instance",
    "_Feature"
   ],
   "window_display": false
  }
 },
 "nbformat": 4,
 "nbformat_minor": 4
}