{
 "cells": [
  {
   "cell_type": "markdown",
   "metadata": {},
   "source": [
    "# The HFM library - A fast marching solver with adaptive stencils\n",
    "\n",
    "## Part : Non holonomic metrics and curvature penalization\n",
    "## Chapter : Curvature penalized planar paths.\n",
    "\n",
    "In this notebook, we demonstrate the computation of globally optimal curvature penalized minimal paths, as described in the paper:\n",
    "\n",
    "<a name=\"cite_Mir17c\"> [Mir17c]</a>\tJ.-M. Mirebeau, “Fast Marching methods for Curvature Penalized Shortest Paths,” JMIV. 2018. [link](https://hal.archives-ouvertes.fr/hal-01538482)\n",
    "\n",
    "More precisely, to each path $x : [0,T] \\to {\\mathbb R}^2$, parametrized at *unit euclidean speed*, we attach a cost of the form\n",
    "\\begin{equation*}\n",
    "\\mathcal E(x(\\cdot)) = \\int_0^T c(x(t),x'(t)) \\, {\\mathcal C}( \\|x''(t)\\| ) \\, \\mathrm d t.\n",
    "\\end{equation*}\n",
    "The integrated path cost is the product of two factors: a first term $c(x,\\dot x)$ depending on the current position and orientation, and a second term ${\\mathcal C}(\\|\\ddot x\\|)$ depending on the curvature. \n",
    "Recall, indeed, that for a path parametrized at unit euclidean speed, acceleration is curvature.\n",
    "\n",
    "The first term $c : \\mathbb R^2 \\times \\mathbb S^1 \\to ]0,\\infty[$ is arbitrary and provided by the user. \n",
    "The second must be chosen among the following cost functions $\\mathcal C(\\kappa)$\n",
    "\n",
    "Model name | Reeds-Shepp | Euler-Mumford elastica| Dubins car\n",
    "--- | :---: | :---: | :---:\n",
    "$\\mathcal C(\\kappa)$ | $\\sqrt{1+(\\xi\\kappa)^2}$ | $1+(\\xi\\kappa)^2$ | $\\begin{cases} 1 & |\\xi\\kappa| \\leq 1 \\\\ \\infty & \\text{else} \\end{cases}$\n",
    "\n",
    "The parameter $\\xi>0$ has the dimension of a radius of curvature, and is chosen by the user. (It is unrelated with the similarly named parameter appearing in the discussion of sensitivity analysis.)\n",
    "The Reeds-Shepp, Euler-Mumford elastica, and Dubins car costs penalize large curvatures in an increasingly strong manner: respectively (approximately) linear, quadratic, and absolute (the path is rejected).\n",
    "\n",
    "The Reeds-Shepp cost is used to define two distinct models, referred to as *Reeds-Shepp* (the classical, sub-riemannian model), and *Reeds-Shepp forward*. In the former case, the car may shift into reverse gear, which introduces *cusp points* where the path orientation is reversed. This behaviour is forbidden in the *Reeds-Shepp forward* model, as well as in the Euler-Mumford elastica and the Dubins car models.\n",
    "\n",
    "Consider a two dimensional domain $U \\subset \\mathbb R^2$, and some initial and final points $x_*,x^* \\in U$, and tangents $n_*, n^* \\in \\mathbb S^1$. \n",
    "The HFM software is able to find the path $x : [0,T] \\to U$, parametrized at unit speed and where the terminal time $T$ is free, obeying the prescribed constraints and globally minimizing the cost $\\mathcal E(x(\\cdot))$. In other words it solves\n",
    "\\begin{align*}\n",
    "&\\min_{T,c} \\mathcal E(x()) &\\text{ subject to } \\ x:[0,T] \\to U,\\, x(0)=x_*,\\ x'(0)=n_*,\\ x(T)=x^*,\\ x'(T)=n^*, \\text{ and }\\forall t, \\|x'(t)\\|=1.\n",
    "\\end{align*}\n",
    "\n",
    "<!--\n",
    "* Standard models.\n",
    "* Projective model.\n",
    "* Asymmetric models.\n",
    "-->\n",
    "\n"
   ]
  },
  {
   "cell_type": "markdown",
   "metadata": {},
   "source": [
    "[**Summary**](Summary.ipynb) of volume Fast Marching Methods, this series of notebooks.\n",
    "\n",
    "[**Main summary**](../Summary.ipynb) of the Adaptive Grid Discretizations \n",
    "\tbook of notebooks, including the other volumes.\n",
    "\n",
    "# Table of contents\n",
    "  * [1. Defining the domain](#1.-Defining-the-domain)\n",
    "  * [2. Specifying the metric](#2.-Specifying-the-metric)\n",
    "  * [3. Calling the software, and displaying the results.](#3.-Calling-the-software,-and-displaying-the-results.)\n",
    "  * [4. Comparison of the different models.](#4.-Comparison-of-the-different-models.)\n",
    "    * [4.1 The Reeds-Shepp car (with reverse gear)](#4.1-The-Reeds-Shepp-car-(with-reverse-gear))\n",
    "    * [4.2 The Reeds-Shepp forward model (without reverse gear)](#4.2-The-Reeds-Shepp-forward-model-(without-reverse-gear))\n",
    "    * [4.3 Euler-Mumford elastica curves](#4.3-Euler-Mumford-elastica-curves)\n",
    "    * [4.4 The Dubins car](#4.4-The-Dubins-car)\n",
    "  * [5. Varying the cost function](#5.-Varying-the-cost-function)\n",
    "    * [5.1 Cost depending on the physical position](#5.1-Cost-depending-on-the-physical-position)\n",
    "    * [5.2 Orientation dependent speed](#5.2-Orientation-dependent-speed)\n",
    "  * [6. Generalized models with non-uniform curvature penalization](#6.-Generalized-models-with-non-uniform-curvature-penalization)\n",
    "    * [6.1 Position dependent radius of curvature](#6.1-Position-dependent-radius-of-curvature)\n",
    "    * [6.2 Distinct bound on the radius of curvature for right and left turns.](#6.2-Distinct-bound-on-the-radius-of-curvature-for-right-and-left-turns.)\n",
    "  * [7. Additional functionality](#7.-Additional-functionality)\n",
    "    * [7.1 Euclidean length of geodesics](#7.1-Euclidean-length-of-geodesics)\n",
    "    * [7.2 Minimal geodesic joining two seeds.](#7.2-Minimal-geodesic-joining-two-seeds.)\n",
    "\n",
    "\n",
    "\n",
    "This Python&reg; notebook is intended as documentation and testing for the [HamiltonFastMarching (HFM) library](https://github.com/mirebeau/HamiltonFastMarching), which also has interfaces to the Matlab&reg; and Mathematica&reg; languages. \n",
    "More information on the HFM library in the manuscript:\n",
    "* Jean-Marie Mirebeau, Jorg Portegies, \"Hamiltonian Fast Marching: A numerical solver for anisotropic and non-holonomic eikonal PDEs\", 2019 [(link)](https://hal.archives-ouvertes.fr/hal-01778322)\n",
    "\n",
    "Copyright Jean-Marie Mirebeau, University Paris-Sud, CNRS, University Paris-Saclay"
   ]
  },
  {
   "cell_type": "markdown",
   "metadata": {},
   "source": [
    "## 0. Importing the required libraries"
   ]
  },
  {
   "cell_type": "code",
   "execution_count": 1,
   "metadata": {},
   "outputs": [],
   "source": [
    "import sys; sys.path.insert(0,\"..\") # Allow import of agd from parent directory (useless if conda package installed)\n",
    "#from Miscellaneous import TocTools; print(TocTools.displayTOC('Curvature','FMM'))"
   ]
  },
  {
   "cell_type": "code",
   "execution_count": 2,
   "metadata": {},
   "outputs": [],
   "source": [
    "from agd import Eikonal\n",
    "from agd.Plotting import savefig, SetTitle3D; #savefig.dirName = 'Figures/Curvature/'"
   ]
  },
  {
   "cell_type": "code",
   "execution_count": 3,
   "metadata": {},
   "outputs": [],
   "source": [
    "import numpy as np; xp=np\n",
    "import matplotlib.pyplot as plt\n",
    "from mpl_toolkits.mplot3d import Axes3D # Plots 3D paths\n",
    "\n",
    "useMayavi = False\n",
    "if useMayavi:\n",
    "    from mayavi import mlab # Plots implicit surfaces"
   ]
  },
  {
   "cell_type": "code",
   "execution_count": 4,
   "metadata": {},
   "outputs": [],
   "source": [
    "def ReloadPackages():\n",
    "    from Miscellaneous.rreload import rreload\n",
    "    global Eikonal,ad\n",
    "    Eikonal,ad = rreload([Eikonal,ad],rootdir='../..')"
   ]
  },
  {
   "cell_type": "markdown",
   "metadata": {},
   "source": [
    "### 0.1 Optional configuration\n",
    "Uncomment the following line to use the GPU eikonal solver."
   ]
  },
  {
   "cell_type": "code",
   "execution_count": 5,
   "metadata": {
    "tags": [
     "EikonalGPU_config"
    ]
   },
   "outputs": [
    {
     "name": "stdout",
     "output_type": "stream",
     "text": [
      "Replacing numpy with cupy, set to output 32bit ints and floats by default.\n",
      "Using cp.asarray(*,dtype=np.float32) as the default caster in ad.array.\n",
      "Returning a copy of module matplotlib.pyplot whose functions accept cupy arrays as input.\n",
      "Setting dictIn.default_mode = 'gpu' in module agd.Eikonal .\n"
     ]
    }
   ],
   "source": [
    "#from agd import AutomaticDifferentiation as ad; xp,plt,Eikonal = map(ad.cupy_friendly,(xp,plt,Eikonal))"
   ]
  },
  {
   "cell_type": "markdown",
   "metadata": {},
   "source": [
    "The following command allows, when it works, to make matplotlib interactive - in particular, 3D plots can be rotated around. However, it is also somewhat buggy, and plots may not show up at all. Uncomment it for a try."
   ]
  },
  {
   "cell_type": "code",
   "execution_count": 6,
   "metadata": {},
   "outputs": [],
   "source": [
    "#%matplotlib notebook"
   ]
  },
  {
   "cell_type": "markdown",
   "metadata": {},
   "source": [
    "## 1. Defining the domain\n",
    "\n",
    "In order to compute paths minimizing curvature dependent energies, we use a technique referred to as dimension lifting. It involves the three dimensional product domain \n",
    "\\begin{equation*}\n",
    "\\Omega := U \\times \\mathbb S^1\n",
    "\\end{equation*}\n",
    "where $U \\subset \\mathbb R^2$ is the physical domain, and $\\mathbb S^1 = [0,2\\pi[$ is the angular domain, with periodic boundary conditions. The HFM software extracts a three dimensional path $\\gamma : [0,T] \\to U \\times \\mathbb S^1$, featuring directional information \n",
    "\\begin{equation*}\n",
    "\\gamma(t) = (x(t), \\theta(t)).\n",
    "\\end{equation*}\n",
    "The physical velocity and the angular orientation are tied by the relation\n",
    "where $x'(t) = \\|x'(t)\\| (\\cos \\theta(t), \\sin \\theta(t))$. In the case of the Reeds Shepp model, which has a reverse gear, the constraint is relaxed into $x'(t) = \\pm \\|x'(t)\\| (\\cos \\theta(t), \\sin \\theta(t))$.\n",
    "\n",
    "\n",
    "The physical domain $U$ is discretized using a cartesian grid, which dimensions, origin, a spacing are specified similarly to the Isotropic and Riemannian models.\n",
    "\n",
    "For the angular domain use a uniform sampling $\\{0,h_\\theta, \\cdots, (n_\\theta-1) h_\\theta\\}\\subset [0,2 \\pi[$ is used, where $n_\\theta$ is the number of discretization points and $h_\\theta := 2\\pi/n_\\theta$ is the corresponding angular resolution. We often use $n_\\theta = 60$, and in general we suggest choosing $60 \\lesssim n_\\theta \\lesssim 120$."
   ]
  },
  {
   "cell_type": "code",
   "execution_count": 7,
   "metadata": {},
   "outputs": [],
   "source": [
    "# Define the physical domain, by specifying (bottom,left) and (top,right) corners\n",
    "n = 100; nTheta=60\n",
    "hfmIn = Eikonal.dictIn({'model':'Elastica2'}) # Has (position , orientation) domain\n",
    "hfmIn.SetRect(sides=[[-1,1],[0,1]],gridScale=1./n) # Position space\n",
    "hfmIn.nTheta=nTheta # Angular domain sampling"
   ]
  },
  {
   "cell_type": "markdown",
   "metadata": {},
   "source": [
    "Let us insert in the domain some seeds, from which the front is propagated, and tips, from which geodesics are backtracked. Seeds $p_* = (x_*,\\theta_*)$ and tips $p^*=(x^*,\\theta^*)$ are elements of the three dimensional product space $\\Omega = U \\times \\mathbb S^1$.\n",
    "\n",
    "We also offer the possibility to introduce some \"unoriented seeds\" $x_*\\in U$, from which the front is propagated in all directions $(x_*,\\theta)$, $\\theta \\in \\mathbb S^1$. \"Unoriented tips\" $x^*\\in U$ can also be specified, in which case the shortest geodesic is returned, among all those starting from $(x^*,\\theta)$, $\\theta \\in \\mathbb S^1$."
   ]
  },
  {
   "cell_type": "code",
   "execution_count": 8,
   "metadata": {},
   "outputs": [],
   "source": [
    "hfmIn.update({\n",
    "    # Declare the seeds, from which the front is propagated\n",
    "    'seed':[-0.5,0.5,0],\n",
    "    'seed_Unoriented':[0.5,0.5],\n",
    "    \n",
    "    # Optionally declare the boundary conditions at the seeds (default is 0)\n",
    "    'seedValue':0.,\n",
    "    'seedValue_Unoriented':0.3,\n",
    "})\n",
    "\n",
    "# Declare the tips, from which the geodesics are backtracked\n",
    "hfmIn['tips'] = [[x,y,np.pi/4] \n",
    "                for x in Eikonal.CenteredLinspace(-1,1,6) \n",
    "                for y in Eikonal.CenteredLinspace(0,1,4)]\n",
    "hfmIn['tips_Unoriented'] = hfmIn['tips'][:,0:2] "
   ]
  },
  {
   "cell_type": "markdown",
   "metadata": {},
   "source": [
    "<a name=\"coords\"></a>\n",
    "Finally, we construct a coordinate system, for constructing the synthetic data used in our examples. Actually, we build two: First, a three dimensional coordinate system, as could be expected. Second, a system adapted to the construction of fields depending only on the position, or only on the orientation. The latter one is enough for many examples, and somewhat reduces the memory usage. \n",
    "\n",
    "\n",
    "Let us immediately ackowledge a potential conflict of notations: the letter $x$ refers to a point of the physical domain in the mathematical paragraphs. However, in the python codes, the capital letters X and Y refer to the horizontal and vertical coordinates in the physical domain."
   ]
  },
  {
   "cell_type": "code",
   "execution_count": 9,
   "metadata": {},
   "outputs": [],
   "source": [
    "# Genuine three dimensional coordinate system.\n",
    "X,Y,Theta = hfmIn.Grid()\n",
    "\n",
    "# System built of two dimensional arrays X2,Y2, and of a one dimensional array Theta2\n",
    "X2,Y2 = X[:,:,0], Y[:,:,0]\n",
    "Theta2 = Theta[0,0,:]"
   ]
  },
  {
   "cell_type": "markdown",
   "metadata": {},
   "source": [
    "## 2. Specifying the metric\n",
    "\n",
    "In this paragraph, we briefly expose how the computation of curvature penalized minimal paths is addressed using fast marching techniques, although this is not strictly necessary for using the HFM software. Our objective is to minimize a second order energy $\\mathcal E(x(\\cdot))$, where $x : [0,T] \\to U$ is a planar path. For that purpose, this energy is encoded as the path length $L_F(\\gamma)$ of a [lifted path](#sec_domain) $\\gamma : [0,T] \\to \\Omega = U \\times \\mathbb S^1$. The metric $F$, which is singular, is defined in the next paragraph.\n",
    "\n",
    "\n",
    "We introduce a metric $F$ on the tangent space to the lifted domain. For any point $p = (x,\\theta) \\in \\Omega$ and any tangent vector $\\dot p = (\\dot x, \\dot \\theta) \\in \\mathbb R^2 \\times \\mathbb R$ with unit physical speed $\\|\\dot x\\| = 1$, it is defined by \n",
    "\\begin{equation*}\n",
    "F_{(x,\\theta)}(\\dot x, \\dot \\theta) = c(x,\\theta)\n",
    "\\begin{cases}\n",
    "\\mathcal C(\\dot \\theta) & \\text{ if } \\dot x = (\\cos \\theta, \\sin \\theta),\\\\\n",
    "+\\infty & \\text{ else}.\n",
    "\\end{cases}\n",
    "\\end{equation*}\n",
    "The colinearity constraint is changed into $\\dot x = \\pm (\\cos \\theta, \\sin \\theta)$ is the case of the classical Reeds-Shepp model, which has a reverse gear.\n",
    "We extend the metric by $1$-homogeneity: $F_p(\\lambda \\dot p) = \\lambda F_p(\\dot p)$, $\\lambda >0$, in the case $\\|\\dot x\\| \\neq 1$ of a non-unit physical speed. Thanks to this, the length of a path, as measured by the metric $F$ is parametrization invariant.\n",
    "\n",
    "Denote by $u(p)$, where $p = (x,\\theta) \\in \\Omega$ is a point of the lifted domain, the minimal length of a path $\\gamma:[0,1] \\to \\overline \\Omega$ from $\\partial \\Omega$ to $p$. Length is measured using the metric $F$, and takes into account the boundary conditions $\\sigma : \\partial \\Omega \\to ]-\\infty,\\infty]$\n",
    "\\begin{equation*}\n",
    "u(p) := \\min_{\\substack{\\gamma(0) \\in \\partial \\Omega\\\\ \\gamma(1)=p}} \\sigma(\\gamma(0)) + \\int_0^1 F_{\\gamma(t)}(\\gamma'(t))\\, \\mathrm dt.\n",
    "\\end{equation*}\n",
    "Then, under general assumptions, and similarly to the Isotropic and the Riemannian case, the arrival times $u : \\overline \\Omega \\to ]-\\infty,\\infty]$ are weak solutions to the generalized eikonal PDE \n",
    "\\begin{align*}\n",
    "\\forall p \\in \\Omega, F^*_p(\\nabla u(p)) &= 1, &\n",
    "\\forall p \\in \\partial \\Omega, u(p) = \\sigma(p).\n",
    "\\end{align*}\n",
    "The dual metric, involved in this equation, is defined at any point $p \\in \\Omega$ and for any co-tangent vector  $\\hat p\\in R^2 \\times \\mathbb R$ by\n",
    "\\begin{equation*}\n",
    "F_p^*(\\hat p) := \\sup \\{ \\hat p \\cdot \\dot p;\\, \\dot p \\in R^2 \\times \\mathbb R, F_p(\\dot p) \\leq 1\\}.\n",
    "\\end{equation*}\n",
    "\n",
    "\n",
    "The HFM software numerically solves the generalized eikonal equation above, using a finite differences approximation of the quantity $F_p^*(\\nabla u(p))$. The explicit expression of the dual metric $F_p^*(\\nabla u(p))$, and the design of the discretization scheme, are described in [Mir17c](#cite_Mire17c) and in the IPOL submission. \n",
    "\n",
    "Our PDE discretization actually depends on a small parameter $\\varepsilon>0$, which reflects the relaxation of the non-holonomy constraint (In the Euler-Mumford elastica case there is also a integer parameter $K$ related to a quadrature formula). The default values $\\varepsilon = 0.1$ and $K=5$ are suitable for many applications, and we recommend not changing them unless one knows what he is doing. Let us nevertheless mention that:\n",
    "* reducing the value of $\\varepsilon$ enforces better the non-holonomy constraint, but a proportional increase in the physical and angular resolution is required.\n",
    "* using a larger $K$ may slightly enhance the accuracy of the Euler-Mumford discretization, but it increases the computational cost."
   ]
  },
  {
   "cell_type": "code",
   "execution_count": 10,
   "metadata": {},
   "outputs": [],
   "source": [
    "# Select the model. Possible choices are : \n",
    "# * ReedsShepp2 - the classical Reeds-Shepp model with reverse gear\n",
    "# * ReedsSheppForward2 - likewise but without reverse gear\n",
    "# * Elastica2 - Euler-Mumford elastica, with quadrature parameter K=5. (Elastica2<9> is also implemented.)\n",
    "# * Dubins2 - Dubins car model\n",
    "hfmIn['model'] = 'Elastica2'\n",
    "\n",
    "# Choose the reference radius of curvature \n",
    "hfmIn['xi'] = 0.2\n",
    "\n",
    "# Optionally, choose the relaxation parameter related with the non-holonomy constraint (default is 0.1)\n",
    "#hfmInput['eps'] = 0.15 "
   ]
  },
  {
   "cell_type": "markdown",
   "metadata": {},
   "source": [
    "The cost function $c$ defined on $\\Omega = U \\times \\mathbb S^1$, may depend on both the physical coordinate $x \\in U$ and the angular coordinate $\\theta \\in \\mathbb S^1$. It may also be a constant, or depend on the physical coordinate only, or the angular coordinate only. \n",
    "\n",
    "The systems of coordinates (X,Y,Theta), and the sub-systems (X2,Y2) and Theta2 were built [here](#coords). Recall that the capital letters X and Y, or X2 and Y2, refer to the coordinates of the physical point $x \\in U$."
   ]
  },
  {
   "cell_type": "code",
   "execution_count": 11,
   "metadata": {},
   "outputs": [],
   "source": [
    "# Define the cost function c(x,theta). You may enter :\n",
    "hfmIn['cost'] = 1. # (i) A constant c=c_0\n",
    "#hfmInput['cost'] = 1.+(Y2<=0.5) # (ii) A field c=c(x) depending on the physical position only\n",
    "#hfmInput['cost'] = 1.+ 0.5*cos(Theta2) # (iii) A field c=c(theta) depending on theta only\n",
    "#hfmInput['cost'] = 1.+(Y<=0.5)+0.5*cos(Theta) # (iv) A general field c=c(x,theta)"
   ]
  },
  {
   "cell_type": "markdown",
   "metadata": {},
   "source": [
    "We next introduce walls in the domain, described by their indicator function. As for the cost function, walls may depend on the physical coordinates, angular coordinates, or both. We consider here the same obstacles used in the two dimensional isotropic examples, which depend on the physical position only."
   ]
  },
  {
   "cell_type": "code",
   "execution_count": 12,
   "metadata": {},
   "outputs": [],
   "source": [
    "# Define the walls, which may depend on \n",
    "disk = (X2-0.3)**2 + (Y2-0.3)**2 <= 0.2**2\n",
    "barrier = np.logical_and(X2==X2[70,0], Y2>=0.4)\n",
    "hfmIn['walls']= np.logical_or(disk,barrier) "
   ]
  },
  {
   "cell_type": "markdown",
   "metadata": {},
   "source": [
    "## 3. Calling the software, and displaying the results.\n",
    "\n",
    "Conventions for calling the HFM software, and displaying the resulting distance map and backtracked geodesics, is identical to the Isotropic or Riemannian cases. The main difference being that the models considered in this section are posed on the three dimensional, partly periodic, dimension lifted domain $\\Omega = U \\times \\mathbb S^1$. In practice, the angular coordinate is often discarded, by projecting onto the physical domain $U$."
   ]
  },
  {
   "cell_type": "code",
   "execution_count": 13,
   "metadata": {},
   "outputs": [],
   "source": [
    "hfmIn['exportValues'] = 1. # Export the arrival time values for inspection"
   ]
  },
  {
   "cell_type": "markdown",
   "metadata": {},
   "source": [
    "Computation time is larger than for most of the examples considered in the previous sections, because the domain is three dimensional, and due to the complex stencil used for the discretization of the Euler-Mumford elastica model."
   ]
  },
  {
   "cell_type": "code",
   "execution_count": 14,
   "metadata": {},
   "outputs": [
    {
     "name": "stdout",
     "output_type": "stream",
     "text": [
      "Setting the kernel traits.\n",
      "Preparing the domain data (shape,metric,...)\n",
      "Preparing the problem rhs (cost, seeds,...)\n",
      "Preparing the GPU kernel\n",
      "Running the eikonal GPU kernel\n",
      "GPU kernel eikonal ran for 0.2421269416809082 seconds, and 164 iterations.\n",
      "Post-Processing\n",
      "CPU times: total: 594 ms\n",
      "Wall time: 595 ms\n"
     ]
    }
   ],
   "source": [
    "%%time\n",
    "hfmOut = hfmIn.Run() # Warning : takes up to a minute."
   ]
  },
  {
   "cell_type": "markdown",
   "metadata": {},
   "source": [
    "We first display the *planar projection* of the minimal geodesics, backtracked from the tips, which are points of the configuration space $\\Omega = U \\times \\mathbb S^1$.\n",
    "Note that, at their final tip, the velocity of the backtracked geodesics is colinear with the vector $(1,1)$.\n",
    "This was expected, in view of the angular coordinate $\\theta = \\pi/4$ of the tips. Note also that these paths are quite smooth, including around obstacles, thanks to the Euler-Mumford elastica model penalizing curvature.\n",
    "\n",
    "\n",
    "The  geodesics start from either the left seed, or the right *unoriented* seed. Note that : \n",
    "* At the left seed, geodesics have an horizontal tangent as prescribed ($\\theta=0$).\n",
    "* At the right *unoriented* seed, geodesics have an arbitrary tangent."
   ]
  },
  {
   "cell_type": "code",
   "execution_count": 15,
   "metadata": {},
   "outputs": [],
   "source": [
    "plt.figure(figsize=[6,3]); plt.title(\"Euler-Elastica minimal paths\"); plt.axis('equal'); \n",
    "for geo in hfmOut['geodesics']:  plt.plot(geo[0],geo[1])\n",
    "plt.contourf(X2,Y2,hfmIn['walls'], cmap='Greys');"
   ]
  },
  {
   "cell_type": "markdown",
   "metadata": {},
   "source": [
    "One of the specified tips was located in the disk shaped obstacle. Obviously, no geodesic could be backtraced from this specific point."
   ]
  },
  {
   "cell_type": "code",
   "execution_count": 16,
   "metadata": {},
   "outputs": [
    {
     "data": {
      "text/plain": [
       "array([[0.16666661],\n",
       "       [0.37499999],\n",
       "       [0.78539819]])"
      ]
     },
     "execution_count": 16,
     "metadata": {},
     "output_type": "execute_result"
    }
   ],
   "source": [
    "hfmOut['geodesics'][13] # Backtracking failed since the tip was inside an obstacle. The tip alone is returned."
   ]
  },
  {
   "cell_type": "markdown",
   "metadata": {},
   "source": [
    "We next display the minimal geodesics from the seed (left) and unoriented seed (right), to the *unoriented* tips. These geodesics end with an arbitrary tangent at their final tip, namely the most favourable orientation in terms of energy."
   ]
  },
  {
   "cell_type": "code",
   "execution_count": 17,
   "metadata": {},
   "outputs": [],
   "source": [
    "plt.figure(figsize=[6,3]); plt.title(\"Minimal Euler elasticas from the unoriented tips\"); plt.axis('equal'); \n",
    "for geo in hfmOut['geodesics_Unoriented']:  plt.plot(geo[0],geo[1]) \n",
    "plt.contourf(X2,Y2,hfmIn['walls'], cmap='Greys');"
   ]
  },
  {
   "cell_type": "markdown",
   "metadata": {},
   "source": [
    "The backtracked geodesics are actually three dimensional paths. In the following cell, they are shown as such, in other words their angular coordinate is not discarded. The seedpoint at the extremity of each geodesic is shown in bold. Three groups of geodesics can be distinguished\n",
    "* One ending on the vertical line $(0.5,0.5,\\theta)$, with an arbitrary angle $\\theta$, which corresponds to the *unoriented* seed $(0.5,0.5) \\in U$.\n",
    "* Another one ending at the position $(-0.5,0.5,0)$, which is a prescribed seed.\n",
    "* A last one ending at the position $(-0.5,0.5,2 \\pi)$, which is identical to the above one once periodic boundary conditions are applied on the angular third variable $\\theta\\in \\mathbb S^1$."
   ]
  },
  {
   "cell_type": "code",
   "execution_count": 19,
   "metadata": {},
   "outputs": [],
   "source": [
    "fig = plt.figure(); ax = plt.axes(projection='3d'); SetTitle3D(ax,\"Minimal Euler elasticas\")\n",
    "for geodesic in hfmOut['geodesics']:\n",
    "    if geodesic.shape[1]==1: continue # Eliminate the geodesic starting in an obstacle.\n",
    "    plt.plot(*geodesic)\n",
    "    if hfmIn.mode=='cpu':ax.scatter(*geodesic[:,-1])"
   ]
  },
  {
   "cell_type": "markdown",
   "metadata": {},
   "source": [
    "Finally, we present a level surface of the arrival times function $u$."
   ]
  },
  {
   "cell_type": "code",
   "execution_count": null,
   "metadata": {},
   "outputs": [],
   "source": [
    "if useMayavi:\n",
    "    mlab.contour3d(hfmOutput['values'], contours=[1])\n",
    "    mlab.show() # Displays in an external window."
   ]
  },
  {
   "cell_type": "markdown",
   "metadata": {},
   "source": [
    "This is what the previous command should display.\n",
    "![Solution level set](https://dl.dropbox.com/s/f0a0l64sjjy8xmd/3_Elastica_Contour3D.png?dl=0)\n",
    "\n",
    "<!---\n",
    "(https://rawgithub.com/Mirebeau/AdaptiveGridDiscretizations/blob/master/Notebooks_FMM/Images/3_Elastica_Contour3D.png)\n",
    "--->"
   ]
  },
  {
   "cell_type": "markdown",
   "metadata": {},
   "source": [
    "## 4. Comparison of the different models.\n",
    "\n",
    "In this section, we compare the qualitative features of the four main curvature penalized models implemented in the HFM library. Namely the Reeds-Shepp, Reeds-Shepp forward, Euler-Mumford elastica, and Dubins car models.\n"
   ]
  },
  {
   "cell_type": "markdown",
   "metadata": {},
   "source": [
    "### 4.1 The Reeds-Shepp car (with reverse gear)\n",
    "\n",
    "The classical Reeds-Shepp model is adequate for describing slow vehicles, such as wheelchairs, equipped with a reverse gear. The model belongs to the field of sub-Riemannian geometry, a generalization of Riemannian geometry involving tensors with *infinite* eigenvalues. An alternative point of view is the eikonal equation is Riemannian-like, but involves rank deficient tensors. \n",
    "\n",
    "The precise definition of sub-Riemannian geometry involves additional controllability assumption which are outside of the scope of this document."
   ]
  },
  {
   "cell_type": "code",
   "execution_count": null,
   "metadata": {},
   "outputs": [],
   "source": [
    "hfmIn['model']='ReedsShepp2'\n",
    "hfmIn['xi']=0.3\n",
    "hfmIn['exportValues']=0\n",
    "hfmIn.pop('tips_Unoriented',None);"
   ]
  },
  {
   "cell_type": "code",
   "execution_count": null,
   "metadata": {},
   "outputs": [],
   "source": [
    "hfmOut = hfmIn.Run()"
   ]
  },
  {
   "cell_type": "markdown",
   "metadata": {},
   "source": [
    "A distinguishing feature of the planar projections of minimal paths for the Reeds-Shepp model is the presence of *cusps*, at the points where the vehicle shifts into reverse gear."
   ]
  },
  {
   "cell_type": "code",
   "execution_count": null,
   "metadata": {},
   "outputs": [],
   "source": [
    "fig = plt.figure(figsize=[6,3]); plt.title(\"Planar paths for the Reeds-Shepp car\"); plt.axis('equal'); \n",
    "for geo in hfmOut['geodesics']:  plt.plot(geo[0],geo[1])\n",
    "plt.contourf(X2,Y2,hfmIn['walls'], cmap='Greys');\n",
    "savefig(fig,'ReedsSheppPaths_Planar.png')"
   ]
  },
  {
   "cell_type": "markdown",
   "metadata": {},
   "source": [
    "The actual three dimensional backtracked geodesics are smooth, as illustrated in the next cell. However these paths feature a vertical tangent, aligned with the angular axis, at some points. The projections of these points appear as cusps in the two dimensional representation."
   ]
  },
  {
   "cell_type": "code",
   "execution_count": null,
   "metadata": {},
   "outputs": [],
   "source": [
    "fig = plt.figure(); ax = plt.axes(projection='3d'); SetTitle3D(ax,\"Minimal paths for the Reeds-Shepp car\")\n",
    "for geodesic in hfmOut['geodesics']:\n",
    "    if geodesic.shape[0]==1: continue # Eliminate the geodesic starting in an obstacle.\n",
    "    plt.plot(*geodesic)\n",
    "    if hfmIn.mode=='cpu':ax.scatter(*geodesic[:,-1])\n",
    "savefig(fig,'ReedsSheppPaths.png')"
   ]
  },
  {
   "cell_type": "markdown",
   "metadata": {},
   "source": [
    "Because the Reeds-Shepp car makes no distinction between the forward and the reverse gear, it makes sense to cut the angular domain in half. More precisely, we can identify opposite directions: $\\theta \\sim \\theta + \\pi$, for each angle $\\theta$. \n",
    "In that case, the computation takes place on the quotiented domain\n",
    "\\begin{equation*}\n",
    "    U \\times \\mathbb P^1,\n",
    "\\end{equation*}\n",
    "where $\\mathbb P^1 = \\mathbb R/\\pi \\mathbb Z$ denotes the one-dimensional *projective* space. In other words $\\mathbb P^1= [0,\\pi[$ with periodic boundary conditions. \n",
    "\n",
    "Since the angular domain is cut in half, the number of angular directions can also be divided by two, which speeds up the computation. Note that this projective quotient makes no sense for the other models (Reeds-Shepp forward, Euler-Mumford elastica, and Dubins car) implemented in the HFM library. Indeed, they lack the reverse gear."
   ]
  },
  {
   "cell_type": "code",
   "execution_count": null,
   "metadata": {},
   "outputs": [],
   "source": [
    "hfmIn['projective']=1 # Identify opposite orientations :  theta ~ theta + pi.\n",
    "hfmIn.nTheta=nTheta # nTheta is the number of points for discretizing [0,2*pi]"
   ]
  },
  {
   "cell_type": "code",
   "execution_count": null,
   "metadata": {},
   "outputs": [],
   "source": [
    "hfmIn.shape"
   ]
  },
  {
   "cell_type": "code",
   "execution_count": null,
   "metadata": {
    "scrolled": true
   },
   "outputs": [],
   "source": [
    "hfmOut = hfmIn.Run()"
   ]
  },
  {
   "cell_type": "markdown",
   "metadata": {},
   "source": [
    "The geodesic backtraced from a tip $(x^*,\\theta^*)\\in U \\times \\mathbb S^1$ is sometimes identical to the one of the non-projective model, and sometimes distinct. \n",
    "Indeed, the projective model implicitly selects the shortest geodesic among those emanating from $(x^*,\\theta^*)$ and from $(x^*,\\theta^* +\\pi)$. Interestingly, doing so tends to reduce the number of cusps."
   ]
  },
  {
   "cell_type": "code",
   "execution_count": null,
   "metadata": {},
   "outputs": [],
   "source": [
    "for geo in hfmOut['geodesics']:  plt.plot(geo[0],geo[1])\n",
    "plt.contourf(X2,Y2,hfmIn['walls'], cmap='Greys')\n",
    "plt.axis('equal');"
   ]
  },
  {
   "cell_type": "code",
   "execution_count": null,
   "metadata": {},
   "outputs": [],
   "source": [
    "# Restore the non-projective parameters.\n",
    "hfmIn.pop('projective',None);\n",
    "hfmIn.nTheta=nTheta"
   ]
  },
  {
   "cell_type": "markdown",
   "metadata": {},
   "source": [
    "### 4.2 The Reeds-Shepp forward model (without reverse gear)\n",
    "\n",
    "The Reeds-Shepp forward model cannot shift into reverse gear, and thus the planar projections of its paths feature no cusps. However, it has another distinguishing feature: in place rotations, without physical motion, of the car. In terms of curvature, these can be regarded as Dirac masses. They are admissible within the Reeds-Shepp forward model since the cost $\\mathcal C(\\kappa) := \\sqrt{1+(\\xi \\kappa)^2}$ only grows linearly with the curvature $\\kappa$."
   ]
  },
  {
   "cell_type": "code",
   "execution_count": null,
   "metadata": {},
   "outputs": [],
   "source": [
    "hfmIn['model']='ReedsSheppForward2'\n",
    "hfmIn['xi']=0.3"
   ]
  },
  {
   "cell_type": "code",
   "execution_count": null,
   "metadata": {},
   "outputs": [],
   "source": [
    "hfmOut = hfmIn.Run()"
   ]
  },
  {
   "cell_type": "markdown",
   "metadata": {},
   "source": [
    "Minimal paths for the Reeds-Shepp forward model typically feature an in-place rotation at the seed and at the tip. As a result, the tangent at these endpoints does not appear to be the prescribed one."
   ]
  },
  {
   "cell_type": "code",
   "execution_count": null,
   "metadata": {},
   "outputs": [],
   "source": [
    "fig = plt.figure(figsize=[6,3]); plt.title(\"Planar paths for the Reeds-Shepp *forward* car\"); plt.axis('equal'); \n",
    "for geo in hfmOut['geodesics']:  plt.plot(geo[0],geo[1])\n",
    "plt.contourf(X2,Y2,hfmIn['walls'], cmap='Greys');\n",
    "savefig(fig,'ReedsSheppForwardPaths_Planar.png')"
   ]
  },
  {
   "cell_type": "markdown",
   "metadata": {},
   "source": [
    "In the three dimensional visualization of the paths, in place rotations appear as vertical segments, parallel with the axis of the angular coordinate $\\theta$."
   ]
  },
  {
   "cell_type": "code",
   "execution_count": null,
   "metadata": {},
   "outputs": [],
   "source": [
    "fig = plt.figure(); ax = plt.axes(projection='3d'); SetTitle3D(ax,\"Minimal paths for the Reeds-Shepp *forward* car\")\n",
    "for geodesic in hfmOut['geodesics']:\n",
    "    if geodesic.shape[0]==1: continue # Eliminate the geodesic starting in an obstacle.\n",
    "    plt.plot(*geodesic)\n",
    "    if hfmIn.mode=='cpu':ax.scatter(*geodesic[:,-1])\n",
    "savefig(fig,'ReedsSheppForwardPaths.png')"
   ]
  },
  {
   "cell_type": "markdown",
   "metadata": {},
   "source": [
    "### 4.3 Euler-Mumford elastica curves\n",
    "\n",
    "Minimal paths for this model are smooth, and have a \"natural feel\", since they are related to the equilibrium rest positions of an elastic bar. Computation time is slightly longer than for the Reeds-Shepp models, due to the larger stencils involved."
   ]
  },
  {
   "cell_type": "code",
   "execution_count": null,
   "metadata": {},
   "outputs": [],
   "source": [
    "hfmIn['model']='Elastica2'\n",
    "hfmIn['xi']=0.2"
   ]
  },
  {
   "cell_type": "code",
   "execution_count": null,
   "metadata": {},
   "outputs": [],
   "source": [
    "hfmOut = hfmIn.Run()"
   ]
  },
  {
   "cell_type": "code",
   "execution_count": null,
   "metadata": {},
   "outputs": [],
   "source": [
    "fig = plt.figure(figsize=[6,3]); plt.title(\"Planar paths for the Euler-Mumford elastica model\"); plt.axis('equal'); \n",
    "for geo in hfmOut['geodesics']:  plt.plot(geo[0],geo[1])\n",
    "plt.contourf(X2,Y2,hfmIn['walls'], cmap='Greys')\n",
    "plt.axis('equal');\n",
    "savefig(fig,'EulerElasticaPaths_Planar.png')"
   ]
  },
  {
   "cell_type": "code",
   "execution_count": null,
   "metadata": {},
   "outputs": [],
   "source": [
    "fig = plt.figure(); ax = plt.axes(projection='3d'); SetTitle3D(ax,\"Minimal paths for the Euler-Mumford elastica model\")\n",
    "for geodesic in hfmOut['geodesics']:\n",
    "    if geodesic.shape[0]==1: continue # Eliminate the geodesic starting in an obstacle.\n",
    "    plt.plot(*geodesic)\n",
    "    if hfmIn.mode=='cpu':ax.scatter(*geodesic[:,-1])\n",
    "savefig(fig,'EulerElasticaPaths.png')"
   ]
  },
  {
   "cell_type": "markdown",
   "metadata": {},
   "source": [
    "### 4.4 The Dubins car\n",
    "\n",
    "The Dubins car model features a hard constraint: the radius of curvature of admissible paths must be bounded by the value $\\xi$ prescribed by the user. "
   ]
  },
  {
   "cell_type": "code",
   "execution_count": null,
   "metadata": {},
   "outputs": [],
   "source": [
    "hfmIn['model']='Dubins2'\n",
    "hfmIn['xi']=0.2"
   ]
  },
  {
   "cell_type": "code",
   "execution_count": null,
   "metadata": {},
   "outputs": [],
   "source": [
    "hfmOut = hfmIn.Run()"
   ]
  },
  {
   "cell_type": "markdown",
   "metadata": {},
   "source": [
    "Arguments from control theory show that the minimal geodesic paths are the concatenations of straight lines, and of arcs of circles of radius $\\xi$. This qualitative property seems to be satisfied by the backtracked geodesics, although it is in no way directly encoded in the HFM software."
   ]
  },
  {
   "cell_type": "code",
   "execution_count": null,
   "metadata": {},
   "outputs": [],
   "source": [
    "fig = plt.figure(figsize=[6,3]); plt.title(\"Planar paths for the Dubins car\"); plt.axis('equal'); \n",
    "for geo in hfmOut['geodesics']:  plt.plot(geo[0],geo[1])\n",
    "plt.contourf(X2,Y2,hfmIn['walls'], cmap='Greys');\n",
    "savefig(fig,'DubinsPaths_Planar.png')"
   ]
  },
  {
   "cell_type": "code",
   "execution_count": null,
   "metadata": {},
   "outputs": [],
   "source": [
    "fig = plt.figure(); ax = plt.axes(projection='3d'); SetTitle3D(ax,\"Minimal paths for the Dubins model\")\n",
    "for geodesic in hfmOut['geodesics']:\n",
    "    if geodesic.shape[0]==1: continue # Eliminate the geodesic starting in an obstacle.\n",
    "    plt.plot(*geodesic)\n",
    "    if hfmIn.mode=='cpu':ax.scatter(*geodesic[:,-1])\n",
    "savefig(fig,'DubinsPaths.png')"
   ]
  },
  {
   "cell_type": "markdown",
   "metadata": {},
   "source": [
    "<a name=\"BadGeodesics\"></a>\n",
    "The attentive reader will however note the presence of two geodesics, among the 24 extracted, that clearly *fail* the  curvature bound constraint. These geodesics correspond to particularly difficult configurations, and two different reasons for failure can be identified. \n",
    "* The first incorrect path (blue) ends at a tip, located in a corner of the domain, that is mathematically *unreachable*. In other words, there is no path reaching this point from the seeds and which radius of curvature is bounded by the prescribed constant $\\xi$. A better answer, from the HFM library, would be not to backtrack anything in this case. *Note : this issue is specific to the CPU eikonal solver. The GPU eikonal solver (correctly) discards this path*\n",
    "* The second incorrect path (green) slightly violates the imposed curvature bound. An admissible path exists, but it is quite long and convoluted. Because the non-holonomy constraint numerically implemented by penalization, the HFM library did not detect it and selected this erroneous path instead. "
   ]
  },
  {
   "cell_type": "code",
   "execution_count": null,
   "metadata": {},
   "outputs": [],
   "source": [
    "plt.figure(figsize=[6,3]); plt.title(\"Two faulty paths for the Dubins car\"); plt.axis('equal'); \n",
    "geodesics = hfmOut['geodesics']\n",
    "for geo in [geodesics[0],geodesics[8]]:  plt.plot(geo[0],geo[1])\n",
    "plt.contourf(X2,Y2,hfmIn['walls'], cmap='Greys');"
   ]
  },
  {
   "cell_type": "markdown",
   "metadata": {},
   "source": [
    "In the next experiment, we cut the relaxation parameter $\\varepsilon$ in half, and we double the physical and angular grid scales, so as to better enforce the non-holonomy constraint. The blue path, leading to an unreachable tip, is eliminated as desired. The green path, formerly violating the curvature bound, is replaced with the adequate optimal admissible path.\n",
    "\n",
    "The increased grid dimensions, by a factor 2 in each of the three dimensions, however lead to an increase in time and memory complexity, by a factor $2^3=8$.\n",
    "Adressing the above issues with less computational overhead will be the object of future work, by enhancing the numerical scheme with e.g. anti-diffusive techniques."
   ]
  },
  {
   "cell_type": "code",
   "execution_count": null,
   "metadata": {},
   "outputs": [],
   "source": [
    "hfmIn2=hfmIn.copy()\n",
    "hfmIn2.update({\n",
    "    'dims':2*hfmIn['dims'],\n",
    "    'eps':0.05,\n",
    "    'gridScale':hfmIn['gridScale']/2\n",
    "})\n",
    "X2_2,Y2_2,_ = hfmIn2.Grid()\n",
    "X2_2,Y2_2 = X2_2[:,:,0],Y2_2[:,:,0],\n",
    "hfmIn2['walls']= np.logical_or((X2_2-0.3)**2 + (Y2_2-0.3)**2 <= 0.2**2,\n",
    "                                np.logical_and(X2_2==X2_2[2*70,0], Y2_2>=0.4)) "
   ]
  },
  {
   "cell_type": "code",
   "execution_count": null,
   "metadata": {},
   "outputs": [],
   "source": [
    "%%time\n",
    "hfmOut = hfmIn2.Run() # Warning : takes up to a minute."
   ]
  },
  {
   "cell_type": "code",
   "execution_count": null,
   "metadata": {},
   "outputs": [],
   "source": [
    "plt.figure(figsize=[6,3]); plt.title(\"Correct Dubins path\"); plt.axis('equal'); \n",
    "geodesics = hfmOut['geodesics']\n",
    "for geo in [geodesics[0],geodesics[8]]:  plt.plot(geo[0],geo[1])\n",
    "plt.contourf(X2_2,Y2_2,hfmIn2['walls'], cmap='Greys');"
   ]
  },
  {
   "cell_type": "markdown",
   "metadata": {},
   "source": [
    "## 5. Varying the cost function\n",
    "\n",
    "The cost function $c : \\Omega = U \\times \\mathbb S^1 \\to ]0,\\infty[$ is arbitrary and chosen by the user. We  considered a constant cost in the previous experiments, but a cost depending on the spatial coordinate, the angular coordinate, or both, is equally possible, as illustrated in the following experiments.\n"
   ]
  },
  {
   "cell_type": "markdown",
   "metadata": {},
   "source": [
    "### 5.1 Cost depending on the physical position\n",
    "\n",
    "In the next cell, the cost of motion is doubled in the lower half of the domain. Therefore, as we check numerically, minimal geodesics tend to avoid this region as much as possible."
   ]
  },
  {
   "cell_type": "code",
   "execution_count": null,
   "metadata": {},
   "outputs": [],
   "source": [
    "hfmIn['model']='Elastica2'\n",
    "hfmIn['cost'] = 1+(Y2<0.5)"
   ]
  },
  {
   "cell_type": "code",
   "execution_count": null,
   "metadata": {
    "tags": [
     "TODO",
     "geodesic_targetTolerance_default_too_high"
    ]
   },
   "outputs": [],
   "source": [
    "if hfmIn.mode=='gpu': hfmIn['geodesic_targetTolerance']=6 # Otherwise one of the geodesics stops too early "
   ]
  },
  {
   "cell_type": "code",
   "execution_count": null,
   "metadata": {},
   "outputs": [],
   "source": [
    "hfmOut = hfmIn.Run()"
   ]
  },
  {
   "cell_type": "code",
   "execution_count": null,
   "metadata": {},
   "outputs": [],
   "source": [
    "fig = plt.figure(figsize=[6,3]); plt.title(\"Euler-Mumford Elastica model with non-constant cost\"); plt.axis('equal'); \n",
    "for geo in hfmOut['geodesics']:  plt.plot(geo[0],geo[1])\n",
    "plt.contourf(X2,Y2,hfmIn['walls']+0.1*hfmIn['cost'], cmap='Greys')\n",
    "savefig(fig,'Elastica_PositionDependentCost.png')"
   ]
  },
  {
   "cell_type": "code",
   "execution_count": null,
   "metadata": {},
   "outputs": [],
   "source": [
    "#hfmIn.pop('geodesic_targetTolerance',None);"
   ]
  },
  {
   "cell_type": "markdown",
   "metadata": {},
   "source": [
    "### 5.2 Orientation dependent speed\n",
    "\n",
    "We choose to model a sail-boat as a Reeds-Shepp forward car, with a speed depending on the current orientation relative to the wind."
   ]
  },
  {
   "cell_type": "code",
   "execution_count": null,
   "metadata": {},
   "outputs": [],
   "source": [
    "hfmIn['model']='ReedsSheppForward2'\n",
    "hfmIn2=hfmIn.copy()\n",
    "for key in ('cost','walls','seeds_Unoriented','seedValues_Unoriented'): \n",
    "    hfmIn2.pop(key,None)"
   ]
  },
  {
   "cell_type": "markdown",
   "metadata": {},
   "source": [
    "More precisely, we assume that going directly against the wind is extremely slow, but that going sideways is much faster, as expressed by the following (synthetic) speed function. Wind comes from the right.\n",
    "\n",
    "Recall that *speed*, as an input field to the HFM library, is nothing else than the reciprocal of *cost*. "
   ]
  },
  {
   "cell_type": "code",
   "execution_count": null,
   "metadata": {},
   "outputs": [],
   "source": [
    "hfmIn2['speed'] = 2-np.cos(2*Theta2)-0.4*np.cos(3*Theta2) #Speed function. speed = 1/cost."
   ]
  },
  {
   "cell_type": "code",
   "execution_count": null,
   "metadata": {},
   "outputs": [],
   "source": [
    "fig = plt.figure(figsize=[2,3]); plt.title(\"Orientation dependent cost\"); plt.axis('equal'); \n",
    "plt.scatter(0,0); # Polar plot of the speed function\n",
    "plt.plot(hfmIn2['speed']*np.cos(Theta2),hfmIn2['speed']*np.sin(Theta2));\n",
    "savefig(fig,'OrientationDependentCost.png')"
   ]
  },
  {
   "cell_type": "code",
   "execution_count": null,
   "metadata": {},
   "outputs": [],
   "source": [
    "hfmOut = hfmIn2.Run()"
   ]
  },
  {
   "cell_type": "markdown",
   "metadata": {},
   "source": [
    "We illustrate in the next cell the minimal path from the seed to the various tips. Interestingly, this path is far from straight, dispite the lack of obstacles and the fact that the cost function does not depend on the physical position.\n",
    "Indeed, the minimal geodesic goes in zig-zags from the seed (on the left) to the tips that are the right. In the context of sailboating, this is called *tacking*, and is what an actual sailboat would do."
   ]
  },
  {
   "cell_type": "code",
   "execution_count": null,
   "metadata": {},
   "outputs": [],
   "source": [
    "fig = plt.figure(figsize=[6,3]); plt.title(\"Reeds-Shepp forward model with orientation dependent cost\"); plt.axis('equal'); \n",
    "for geo in hfmOut['geodesics']:  plt.plot(geo[0],geo[1])\n",
    "savefig(fig,'ReedsSheppForward_OrientationDependentCost.png')"
   ]
  },
  {
   "cell_type": "markdown",
   "metadata": {},
   "source": [
    "## 6. Generalized models with non-uniform curvature penalization\n",
    "\n",
    "The classical Reeds-Shepp, Reeds-Shepp forward, Euler-Mumford elastica and Dubins models penalize curvature in a uniform and fixed manner: penalization is the same for right turns and left turns, and it does not depend on the current position. This section is devoted to generalized models, which lift this restriction.\n",
    "\n",
    "For any point $(x,\\theta) \\in \\Omega$, and any tangent vector $(\\dot x, \\dot \\theta)\\in \\mathbb R^2 \\times \\mathbb R$ with physical velocity $\\dot x = (\\cos \\theta, \\sin \\theta)$, one defines\n",
    "\\begin{equation*}\n",
    "    F_{(x,\\theta)} (\\dot x, \\dot \\theta) = c(x,\\theta)\\,  \\mathcal C\\big( \\, \\xi(x,\\theta) (\\dot \\theta-\\kappa(x,\\theta)) \\, \\big).\n",
    "\\end{equation*}\n",
    "The fields $\\xi : \\Omega\\to ]0,\\infty[$ and $\\kappa : \\Omega \\to \\mathbb R$ are free and provided by the user. The first field, $\\xi$, locally determines the magnitude of curvature penalization. The second field, $\\kappa$, is used to break the symmetry between the right and left turns, if needed. These two fields be constant, depend on the physical position, the angular orientation, or both.\n",
    "\n",
    "As before, the metric $F$ is extended by $1$-positive homogeneity, and defined as $+\\infty$ where $\\dot x$ is not (positively) colinear with $(\\cos \\theta, \\sin \\theta)$. In addition, he colinearity constraint relaxed to $\\dot x = \\pm (\\cos \\theta, \\sin \\theta)$ in the case of the Reeds-Shepp model with reverse gear.\n",
    "\n",
    "These less common models are provided in a different executable. The memory usage of this implementation is slightly larger than for the usual models, because we cannot exploit any redundancy in the discretization stencils."
   ]
  },
  {
   "cell_type": "markdown",
   "metadata": {
    "collapsed": true
   },
   "source": [
    "### 6.1 Position dependent radius of curvature\n",
    "\n",
    "In this experiment, we consider a Dubins car, subject to different bounds on the radius of curvature depending on depending on the domain region. Namely $\\xi=0.2$ on the lower part of the domain, and $\\xi=0.1$ on the upper part."
   ]
  },
  {
   "cell_type": "code",
   "execution_count": null,
   "metadata": {},
   "outputs": [],
   "source": [
    "# Extended models are ReedsSheppExt2, ReedsSheppForwardExt2, ElasticaExt2<5>, and DubinsExt2\n",
    "hfmIn.update({\n",
    "    'model':'DubinsExt2',\n",
    "    'cost':1,\n",
    "    'xi': 0.1*(1+(Y2<0.5)), # Now the radius of curvature xi can be a field.\n",
    "    'kappa':0,\n",
    "})"
   ]
  },
  {
   "cell_type": "code",
   "execution_count": null,
   "metadata": {},
   "outputs": [],
   "source": [
    "hfmOut = hfmIn.Run()"
   ]
  },
  {
   "cell_type": "code",
   "execution_count": null,
   "metadata": {},
   "outputs": [],
   "source": [
    "fig = plt.figure(figsize=[6,3]); plt.title(\"Position dependent bound on the radius of curvature\"); plt.axis('equal'); \n",
    "for geo in hfmOut['geodesics'][:-1]:  plt.plot(geo[0],geo[1])\n",
    "plt.contourf(X2,Y2,hfmIn['walls']+hfmIn['xi'], cmap='Greys');\n",
    "savefig(fig,'Dubins_RadiusPositionDependent.png')"
   ]
  },
  {
   "cell_type": "markdown",
   "metadata": {},
   "source": [
    "### 6.2 Distinct bound on the radius of curvature for right and left turns.\n",
    "\n",
    "We consider a Dubins car subject to a distinct turning radius on the right and on the left.\n",
    "Let us say $\\xi_L$ on the left, and $\\xi_R$ on the right. In order to simulate this model using the HFM software, we must reformulate our constraint in terms of the parameters $\\xi$ and $\\kappa$. \n",
    "\\begin{equation*}\n",
    "    \\dot \\theta \\in [\\xi_L,\\xi_R] \\quad \\Leftrightarrow \\quad \\xi |\\dot \\theta-\\kappa| \\leq 1\n",
    "\\end{equation*}\n",
    "Solving this system, we obtain\n",
    "\\begin{align*}\n",
    "    \\frac 1 \\xi &= \\frac 2 {\\frac 1 {\\xi_L}+\\frac 1 {\\xi_R}} &\n",
    "    \\kappa = \\frac 1 2 (\\frac 1 {\\xi_L}-\\frac 1 {\\xi_R})\n",
    "\\end{align*}"
   ]
  },
  {
   "cell_type": "code",
   "execution_count": null,
   "metadata": {},
   "outputs": [],
   "source": [
    "# Extended models are ReedsSheppExt2, ReedsSheppForwardExt2, ElasticaExt2<5>, and DubinsExt2\n",
    "xiL, xiR = 0.12,0.2\n",
    "hfmIn.update({\n",
    "    'model':'DubinsExt2',\n",
    "    'cost':1,\n",
    "    'xi':2/(1/xiL+1/xiR),\n",
    "    'kappa':0.5*(1/xiL-1/xiR),\n",
    "})"
   ]
  },
  {
   "cell_type": "code",
   "execution_count": null,
   "metadata": {},
   "outputs": [],
   "source": [
    "hfmOut = hfmIn.Run()"
   ]
  },
  {
   "cell_type": "code",
   "execution_count": null,
   "metadata": {},
   "outputs": [],
   "source": [
    "fig = plt.figure(figsize=[6,3]); plt.title(\"Distinct bound, right and left, on the radius of curvature\"); plt.axis('equal'); \n",
    "for geo in hfmOut['geodesics']:  plt.plot(geo[0],geo[1])\n",
    "plt.contourf(X2,Y2,hfmIn['walls'], cmap='Greys')\n",
    "savefig(fig,'Dubins_RadiusSideDependent.png')"
   ]
  },
  {
   "cell_type": "code",
   "execution_count": null,
   "metadata": {},
   "outputs": [],
   "source": [
    "hfmIn.pop('kappa',None);"
   ]
  },
  {
   "cell_type": "code",
   "execution_count": null,
   "metadata": {},
   "outputs": [],
   "source": [
    "if hfmIn.mode=='gpu': raise ad.DeliberateNotebookError(\n",
    "    \"The functionality described in the rest of this notbook is absent from the GPU eikonal solver.\")"
   ]
  },
  {
   "cell_type": "markdown",
   "metadata": {},
   "source": [
    "## 7. Additional functionality\n",
    "\n",
    "We briefly describe some functionalities of the HFM software that combine particularly well with the curvature penalized models, altough they are not specific to them."
   ]
  },
  {
   "cell_type": "markdown",
   "metadata": {},
   "source": [
    "### 7.1 Euclidean length of geodesics\n",
    "\n",
    "In this experiment, we simultaneously propagate the fast marching front, and compute the euclidean length of the corresponding minimal paths. This is done at runtime, and this euclidean length can be used as a stopping criterion.\n",
    "By (generalized) Euclidean length of the path $\\gamma : [0,1] \\to \\Omega$, we refer to the quantity defined as \n",
    "\\begin{equation*}\n",
    "    L_D(\\gamma) := \\int_0^1 \\| D(\\gamma(t)) \\, \\gamma'(t) \\| \\, \\mathrm d t,\n",
    "\\end{equation*}\n",
    "where $D : \\Omega \\to \\mathbb R_+^d$ is a given field of diagonal matrices, usually chosen constant over the domain. The user provides this field by defining the *euclidean scale* of the grid for each direction of the domain.\n",
    "\n",
    "We choose for illustration the most natural case of the constant field $D_0 \\equiv \\mathrm{diag}(1,1,0)$, which ignores the angular coordinates. Hence for any orientation lifted path $\\gamma=(x,\\theta) : [0,1] \\to \\mathbb R^2 \\times \\mathbb S^1$ one has\n",
    "\\begin{equation*}\n",
    "    L_{D_0}(x,\\theta) := \\int_0^1 \\|x'(t)\\| \\, \\mathrm d t.\n",
    "\\end{equation*}"
   ]
  },
  {
   "cell_type": "code",
   "execution_count": null,
   "metadata": {},
   "outputs": [],
   "source": [
    "# Define the field $D : \\Omega \\to \\mathnbb R_+^d$ \n",
    "gridScale = hfmIn['gridScale'] # ! Do not forget to take the discretization grid scale into account.\n",
    "hfmIn.update({\n",
    "    'euclideanScale':[gridScale,gridScale,0],\n",
    "    'exportEuclideanLengths':0., # Not needed here. Defaults to 1.\n",
    "\n",
    "    # Optionally, set a stopping criterion.\n",
    "    'stopAtEuclideanLength':1.4,\n",
    "\n",
    "    # Other model parameters\n",
    "    'model':'Elastica2',\n",
    "    'cost':1,\n",
    "    'xi':0.2,\n",
    "})"
   ]
  },
  {
   "cell_type": "code",
   "execution_count": null,
   "metadata": {},
   "outputs": [],
   "source": [
    "hfmOut = hfmIn.Run()"
   ]
  },
  {
   "cell_type": "markdown",
   "metadata": {},
   "source": [
    "In the next cell, we display the point that triggered the termination criterion. This is the closest point to the seeds for which the euclidean length of the corresponding minimal path exceeds our stopping criterion. We next display that geodesic."
   ]
  },
  {
   "cell_type": "code",
   "execution_count": null,
   "metadata": {},
   "outputs": [],
   "source": [
    "hfmOut['euclideanLength_stoppingPoint']"
   ]
  },
  {
   "cell_type": "code",
   "execution_count": null,
   "metadata": {},
   "outputs": [],
   "source": [
    "geo = hfmOut['geodesic_euclideanLength']\n",
    "plt.plot(geo[0],geo[1])\n",
    "plt.contourf(X2,Y2,hfmIn['walls'], cmap='Greys')\n",
    "plt.axis('equal');"
   ]
  },
  {
   "cell_type": "markdown",
   "metadata": {},
   "source": [
    "Since the front propagation was aborted early, due to the chosen stopping criterion, it has not reached all the provided geodesic tips. Therefore, some of the corresponding minimal paths could not be backtraced. This is in particular the case in the left part of the domain, where the tips and seed configuration (both oriented) lead to paths that are either long or have high curvature. "
   ]
  },
  {
   "cell_type": "code",
   "execution_count": null,
   "metadata": {},
   "outputs": [],
   "source": [
    "for geo in hfmOut['geodesics']:  plt.plot(geo[0],geo[1])\n",
    "plt.contourf(X2,Y2,hfmIn['walls'], cmap='Greys')\n",
    "plt.axis('equal');"
   ]
  },
  {
   "cell_type": "markdown",
   "metadata": {},
   "source": [
    "We introduced the Reeds-Shepp and Reeds-Shepp forward using the concept of curvature penalization. However, they can also be regarded as standard euclidean models on the manifold $\\mathbb R^2 \\times \\mathbb S^1$, subject to non-holonomic constraints. As a result, the intrinsic and euclidean lengths of the geodesics coincide."
   ]
  },
  {
   "cell_type": "code",
   "execution_count": null,
   "metadata": {},
   "outputs": [],
   "source": [
    "gridScale = hfmIn['gridScale']\n",
    "bundleScale = 2.*np.pi/nTheta\n",
    "\n",
    "hfmIn.update({\n",
    "    'model':'ReedsShepp2',\n",
    "    'cost':1,\n",
    "    'xi':0.3,\n",
    "\n",
    "    'seedValue_Unoriented':0,\n",
    "\n",
    "    # Define the field $D : \\Omega \\to \\mathnbb R_+^d$ \n",
    "    'euclideanScale':[gridScale,gridScale, hfmIn['xi']*bundleScale ],\n",
    "    'exportEuclideanLengths':1,\n",
    "    'exportValues':1,\n",
    "})\n",
    "hfmIn.pop('stopAtEuclideanLength',None);"
   ]
  },
  {
   "cell_type": "code",
   "execution_count": null,
   "metadata": {},
   "outputs": [],
   "source": [
    "hfmOut = hfmIn.Run()"
   ]
  },
  {
   "cell_type": "markdown",
   "metadata": {},
   "source": [
    "The announced equality, of the intrinsic and euclidean lengths, is only approximate numerically, due to our relaxation procedure. The error difference is a reasonable 5% in the Reeds-Shepp forward case. However, an almost 13% error is observed for the standard Reeds-Shepp model, due to the difficult singularities around cusps. Future improvements to the numerical code may reduce this gap."
   ]
  },
  {
   "cell_type": "code",
   "execution_count": null,
   "metadata": {},
   "outputs": [],
   "source": [
    "values, lengths, walls = hfmOut['values'].copy(), hfmOut['euclideanLengths'].copy(), hfmIn['walls']\n",
    "values[walls]=0.; lengths[walls]=0.;\n",
    "print(\"Maximal geodesic euclidean length : \", np.max(lengths), \n",
    "      \". Difference with value function : \", np.max(np.abs(values-lengths)) )"
   ]
  },
  {
   "cell_type": "code",
   "execution_count": null,
   "metadata": {},
   "outputs": [],
   "source": [
    "hfmIn['model']='ReedsSheppForward2'\n",
    "hfmOut = hfmIn.Run()\n",
    "values, lengths = hfmOut['values'].copy(), hfmOut['euclideanLengths'].copy()\n",
    "values[walls]=0.; lengths[walls]=0.;\n",
    "print(\"Maximal geodesic euclidean length : \", np.max(lengths), \n",
    "      \". Difference with value function : \", np.max(np.abs(values-lengths)) )"
   ]
  },
  {
   "cell_type": "markdown",
   "metadata": {},
   "source": [
    "In the next cells, we make a similar comparison for the Dubins model. Recall that length of a path, according to this model, is the Euclidean length if the constraint on the radius of curvature is met, and $+\\infty$ otherwise. \n",
    "\n",
    "A mismatch, between the value function $u$ and euclidean length of the corresponding minimal geodesics, is nevertheless in some locations, due to the strong singularities of this model. More precisely, this happens:\n",
    "* where the distance function is discontinuous, e.g. the the boundary of some circular arcs.\n",
    "* on the boundary of unreachable sets, e.g. at distance $\\leq \\xi$ from the left wall, for the slice $\\{\\theta=0\\}$."
   ]
  },
  {
   "cell_type": "code",
   "execution_count": null,
   "metadata": {},
   "outputs": [],
   "source": [
    "hfmIn['model']='Dubins2'\n",
    "hfmIn['euclideanScale'] = [gridScale,gridScale, 0.]\n",
    "hfmOut = hfmIn.Run()"
   ]
  },
  {
   "cell_type": "code",
   "execution_count": null,
   "metadata": {},
   "outputs": [],
   "source": [
    "values, lengths = hfmOut['values'].copy(), hfmOut['euclideanLengths'].copy()\n",
    "far = values>=4\n",
    "values[far]=0; lengths[far]=0;\n",
    "plt.contourf(X2,Y2,(values-lengths)[:,:,0]);"
   ]
  },
  {
   "cell_type": "code",
   "execution_count": null,
   "metadata": {},
   "outputs": [],
   "source": [
    "# Restore parameters\n",
    "hfmIn.pop('euclideanScale',None)\n",
    "hfmIn.pop('exportEuclideanLengths',None)\n",
    "hfmIn.pop('seedsUnoriented',None); #hfmInput['seedsUnoriented']=[0.3]"
   ]
  },
  {
   "cell_type": "markdown",
   "metadata": {},
   "source": [
    "### 7.2 Minimal geodesic joining two seeds.\n",
    "\n",
    "In this experiment, we compute some Voronoi regions, and stop the computation as soon as two distinct regions denoted $V_0$ and $V_1$ contain *opposite* points, w.r.t. the angular coordinate. In other words as soon as a point $(x,\\theta)\\in \\Omega$ is found such that\n",
    "\\begin{align*}\n",
    "    (x,\\theta) & \\in V_0 &\n",
    "    (x,\\theta+\\pi) & \\in V_1.\n",
    "\\end{align*}\n",
    "By doing so, we can extract a minimal geodesic joining the seed points associated with these two Voronoi regions. In addition, this criterion tends to stop the fast marching algorithm rather early, when it is only propagated on a small portion of the domain, which may substantially reduce computation time."
   ]
  },
  {
   "cell_type": "code",
   "execution_count": null,
   "metadata": {},
   "outputs": [],
   "source": [
    "# Voronoi diagram data\n",
    "hfmIn.update({\n",
    "    'seedFlag':0, # Use 'seedFlags' in case of several seeds\n",
    "    'seedFlag_Unoriented':1, # Likewise\n",
    "    'exportVoronoiFlags': 0, # No need to export the Voronoi diagram here\n",
    "    \n",
    "    # Voronoi stopping criterion : when a region contains (x,theta) and the other (x,theta+pi)\n",
    "    'voronoiStoppingCriterion':'OppositesMeeting',\n",
    "\n",
    "    # Other model parameters\n",
    "    'model':'Dubins2',\n",
    "    'cost':1,\n",
    "    'xi':0.2,\n",
    "})"
   ]
  },
  {
   "cell_type": "code",
   "execution_count": null,
   "metadata": {},
   "outputs": [],
   "source": [
    "hfmOut = hfmIn.Run()"
   ]
  },
  {
   "cell_type": "markdown",
   "metadata": {},
   "source": [
    "The meeting point is returned, as well as the minimal geodesic to each of the seeds."
   ]
  },
  {
   "cell_type": "code",
   "execution_count": null,
   "metadata": {},
   "outputs": [],
   "source": [
    "print(hfmOut['voronoiDiagram_meetingPoint0'], \" is opposite to \", hfmOut['voronoiDiagram_meetingPoint1'])"
   ]
  },
  {
   "cell_type": "code",
   "execution_count": null,
   "metadata": {},
   "outputs": [],
   "source": [
    "for geo in hfmOut['geodesics_voronoiDiagram']:  plt.plot(geo[0],geo[1])\n",
    "plt.contourf(X2,Y2,hfmIn['walls'], cmap='Greys')\n",
    "plt.axis('equal');"
   ]
  },
  {
   "cell_type": "markdown",
   "metadata": {},
   "source": [
    "Since the fast marching algorithm was aborted early, only a few geodesics from the other seeds can be backtraced."
   ]
  },
  {
   "cell_type": "code",
   "execution_count": null,
   "metadata": {},
   "outputs": [],
   "source": [
    "for geo in hfmOut['geodesics']:  plt.plot(geo[0],geo[1])\n",
    "plt.contourf(X2,Y2,hfmIn['walls'], cmap='Greys')\n",
    "plt.axis('equal');"
   ]
  },
  {
   "cell_type": "markdown",
   "metadata": {},
   "source": [
    "In the previous experiments involving Voronoi regions, in the context of Isotropic or Riemannian metrics, we considered another stopping criterion : stop as soon as a point $(x,\\theta)$ common to the two Voronoi regions is found. This criterion, while it may seem natural, is completely inadequate for curvature penalized models. The next cells illustrate numerically what happends."
   ]
  },
  {
   "cell_type": "code",
   "execution_count": null,
   "metadata": {},
   "outputs": [],
   "source": [
    "hfmIn['voronoiStoppingCriterion']='RegionsMeeting'"
   ]
  },
  {
   "cell_type": "code",
   "execution_count": null,
   "metadata": {},
   "outputs": [],
   "source": [
    "hfmOut = hfmIn.Run()"
   ]
  },
  {
   "cell_type": "markdown",
   "metadata": {},
   "source": [
    "The voronoi regions first meet at the following neighbord point on the discretization grid."
   ]
  },
  {
   "cell_type": "code",
   "execution_count": null,
   "metadata": {},
   "outputs": [],
   "source": [
    "print(hfmOut['voronoiDiagram_meetingPoint0'], \" is (almost) the same as \", hfmOut['voronoiDiagram_meetingPoint1'])"
   ]
  },
  {
   "cell_type": "markdown",
   "metadata": {},
   "source": [
    "However the geodesics from this meeting point, backtraced to the seeds, do not form a global geodesic when concatenated. A cusp is observed instead. This is due to the asymmetry of the metrics involved in curvature penalization."
   ]
  },
  {
   "cell_type": "code",
   "execution_count": null,
   "metadata": {},
   "outputs": [],
   "source": [
    "for geo in hfmOut['geodesics_voronoiDiagram']:  plt.plot(geo[0],geo[1])\n",
    "plt.contourf(X2,Y2,hfmIn['walls'], cmap='Greys')\n",
    "plt.axis('equal');"
   ]
  },
  {
   "cell_type": "code",
   "execution_count": null,
   "metadata": {},
   "outputs": [],
   "source": []
  }
 ],
 "metadata": {
  "celltoolbar": "Format de la Cellule Texte Brut",
  "kernelspec": {
   "display_name": "Python 3 (ipykernel)",
   "language": "python",
   "name": "python3"
  },
  "language_info": {
   "codemirror_mode": {
    "name": "ipython",
    "version": 3
   },
   "file_extension": ".py",
   "mimetype": "text/x-python",
   "name": "python",
   "nbconvert_exporter": "python",
   "pygments_lexer": "ipython3",
   "version": "3.9.13"
  },
  "latex_envs": {
   "LaTeX_envs_menu_present": true,
   "autocomplete": false,
   "bibliofile": "biblio.bib",
   "cite_by": "apalike",
   "current_citInitial": 1,
   "eqLabelWithNumbers": true,
   "eqNumInitial": 1,
   "hotkeys": {
    "equation": "Ctrl-E",
    "itemize": "Ctrl-I"
   },
   "labels_anchors": false,
   "latex_user_defs": false,
   "report_style_numbering": false,
   "user_envs_cfg": false
  },
  "varInspector": {
   "cols": {
    "lenName": 16,
    "lenType": 16,
    "lenVar": 40
   },
   "kernels_config": {
    "python": {
     "delete_cmd_postfix": "",
     "delete_cmd_prefix": "del ",
     "library": "var_list.py",
     "varRefreshCmd": "print(var_dic_list())"
    },
    "r": {
     "delete_cmd_postfix": ") ",
     "delete_cmd_prefix": "rm(",
     "library": "var_list.r",
     "varRefreshCmd": "cat(var_dic_list()) "
    }
   },
   "types_to_exclude": [
    "module",
    "function",
    "builtin_function_or_method",
    "instance",
    "_Feature"
   ],
   "window_display": false
  }
 },
 "nbformat": 4,
 "nbformat_minor": 1
}