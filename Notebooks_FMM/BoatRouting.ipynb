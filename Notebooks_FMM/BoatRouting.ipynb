{
 "cells": [
  {
   "cell_type": "markdown",
   "metadata": {},
   "source": [
    "# The HFM library - A fast marching solver with adaptive stencils\n",
    "\n",
    "## Part : Motion planning\n",
    "## Chapter : Optimal routing of a boat"
   ]
  },
  {
   "cell_type": "markdown",
   "metadata": {},
   "source": [
    "In this notebook, we compute the route that minimizes fuel consumption for a simplified boat model, with time-independent data, and without constraint on the arrival time. The instantaneous fuel consumption of the boat, moving a velocity $v$ at a position $x$, is a quadratic function\n",
    "$$\n",
    "    c(x,v) = \\mu(x) + \\frac 1 2 \\| v - \\omega(x) \\|_{M(x)}^2.\n",
    "$$\n",
    "The parameters have the following interpretation:\n",
    "- $\\mu > 0$ is the fuel consumption at rest (or any other time penalty).\n",
    "- $\\omega$ is a drift velocity, due to e.g. water currents.\n",
    "- $M \\succ 0$ is a positive definite matrix describing the geometry around the position $x$ (which typically lies on a sphere, the earth). We denote $<v,w>_M := <v,M w>$ and $\\|v\\|_M := \\sqrt{<v,v>_M}$.\n",
    "\n",
    "**Discussion of the assumptions**\n",
    "\n",
    "Our assumptions are obviously an strong simplification of reality. Some of them may be relaxed, at the price of more complexity in the implementation and in the modeling phase.\n",
    "- *Time dependent data.* The data, e.g. the water currents, may be time dependent, so as to reflect the evolution of the weather conditions. This modification requires an entirely different set of methods, described in these two notebooks : using a [quadratic cost](../Notebooks_NonDiv/BoatRouting_Time.ipynb), and a [generic cost](../Notebooks_NonDiv/BoatRoutingGeneric_Time.ipynb).\n",
    "- *Prescribed arrival time.* The arrival date of the boat may be fixed in advance. This can be handled with a small modification: consider the modified cost $\\tilde c(x,v) = c(x,v) + \\alpha$, where $\\alpha>0$ is a constant penalizing travel-time. Then adjust the constant $\\alpha$, using e.g. dichotomic search, so that the arrival time is the one prescribed.\n",
    "- *More complex cost function.* The method described in this notebook applies with only little modifications to cost functions of the form\n",
    "$$\n",
    "    c(x,v) = \\sup_{\\lambda \\in \\Lambda} a_\\lambda(x) + <b_\\lambda(x),v> + \\frac 1 2 \\|v\\|^2_{c_\\lambda(x)}.\n",
    "$$\n",
    "Any cost which is convex and with at least quadratic growth at infinity, can be approximated in this form. However, determining this cost (which depends on the physical properties of the boat), and approximating it (fitting a convex set with an intersection of ellipsoids), may raise difficulties in itself.\n",
    "- *Local controllability.* We do need that $c(x,v)<\\infty$ for all $v$ in a neighborhood of the origin, in other words the boat is able to navigate in any direction, in any weather condition, for a sufficiently high fuel consumption. The time dependent formulation does not suffer from this restriction, see [this notebook](../Notebooks_NonDiv/BoatRouting_Time.ipynb).\n",
    "- *Additional state variables.* The boat state may include variables additional to position. For instance velocity if the boat has inertia, or the current state of the sails if any."
   ]
  },
  {
   "cell_type": "markdown",
   "metadata": {},
   "source": [
    "[**Summary**](Summary.ipynb) of volume Fast Marching Methods, this series of notebooks.\n",
    "\n",
    "[**Main summary**](../Summary.ipynb) of the Adaptive Grid Discretizations \n",
    "\tbook of notebooks, including the other volumes.\n",
    "\n",
    "# Table of contents\n",
    "  * [1. Constant medium](#1.-Constant-medium)\n",
    "  * [2. Space-varying medium](#2.-Space-varying-medium)\n",
    "    * [2.1 Variants](#2.1-Variants)\n",
    "    * [2.2 Obtaining the travel time](#2.2-Obtaining-the-travel-time)\n",
    "    * [2.3 Validation](#2.3-Validation)\n",
    "\n",
    "\n",
    "\n",
    "This Python&reg; notebook is intended as documentation and testing for the [HamiltonFastMarching (HFM) library](https://github.com/mirebeau/HamiltonFastMarching), which also has interfaces to the Matlab&reg; and Mathematica&reg; languages. \n",
    "More information on the HFM library in the manuscript:\n",
    "* Jean-Marie Mirebeau, Jorg Portegies, \"Hamiltonian Fast Marching: A numerical solver for anisotropic and non-holonomic eikonal PDEs\", 2019 [(link)](https://hal.archives-ouvertes.fr/hal-01778322)\n",
    "\n",
    "Copyright Jean-Marie Mirebeau, University Paris-Sud, CNRS, University Paris-Saclay"
   ]
  },
  {
   "cell_type": "markdown",
   "metadata": {},
   "source": [
    "## 0. Importing the required libraries"
   ]
  },
  {
   "cell_type": "code",
   "execution_count": 1,
   "metadata": {
    "tags": [
     "ExportCode"
    ]
   },
   "outputs": [],
   "source": [
    "import sys; sys.path.insert(0,\"..\") # Allow import of agd from parent directory (useless if conda package installed)\n",
    "#from Miscellaneous import TocTools; print(TocTools.displayTOC('BoatRouting','FMM'))"
   ]
  },
  {
   "cell_type": "code",
   "execution_count": 2,
   "metadata": {
    "tags": [
     "ExportCode"
    ]
   },
   "outputs": [],
   "source": [
    "from agd import Eikonal\n",
    "from agd import LinearParallel as lp\n",
    "from agd import FiniteDifferences as fd\n",
    "from agd.Metrics import Rander,Riemann\n",
    "from agd import AutomaticDifferentiation as ad\n",
    "from agd.Plotting import savefig,quiver; #savefig.dirName = 'Images/BoatRouting'"
   ]
  },
  {
   "cell_type": "code",
   "execution_count": 3,
   "metadata": {
    "tags": [
     "ExportCode"
    ]
   },
   "outputs": [],
   "source": [
    "import numpy as np; xp = np\n",
    "from copy import copy\n",
    "import matplotlib.pyplot as plt"
   ]
  },
  {
   "cell_type": "markdown",
   "metadata": {},
   "source": [
    "Utility functions"
   ]
  },
  {
   "cell_type": "code",
   "execution_count": 4,
   "metadata": {},
   "outputs": [],
   "source": [
    "norm_infinity = ad.Optimization.norm_infinity\n",
    "from agd.ExportedCode.Notebooks_NonDiv.LinearMonotoneSchemes2D import streamplot_ij"
   ]
  },
  {
   "cell_type": "markdown",
   "metadata": {},
   "source": [
    "### 0.1 Optional configuration\n",
    "Uncomment the following line to use the GPU eikonal solver."
   ]
  },
  {
   "cell_type": "code",
   "execution_count": 6,
   "metadata": {
    "tags": [
     "EikonalGPU_config"
    ]
   },
   "outputs": [
    {
     "name": "stdout",
     "output_type": "stream",
     "text": [
      "Replacing numpy with cupy, set to output 32bit ints and floats by default.\n",
      "Using cp.asarray(*,dtype=np.float32) as the default caster in ad.array.\n",
      "Returning a copy of module matplotlib.pyplot whose functions accept cupy arrays as input.\n",
      "Returning a copy of function quiver which accepts cupy arrays as input.\n",
      "Setting dictIn.default_mode = 'gpu' in module agd.Eikonal .\n"
     ]
    }
   ],
   "source": [
    "#xp,plt,quiver,Eikonal = map(ad.cupy_friendly,(xp,plt,quiver,Eikonal))"
   ]
  },
  {
   "cell_type": "markdown",
   "metadata": {},
   "source": [
    "## 1. Constant medium\n",
    "\n",
    "We assume in this section that the cost is independent of the position $c=c(v)$. In other words, the fuel consumption at rest $\\mu>0$, the water currents $\\omega$, and the problem geometry $M\\succ 0$ are independent of time.\n",
    "\n",
    "Assume that the boat needs to move from the origin to a prescribed position $z$, without time constraint. \n",
    "The optimal path is to go straight toward the objective, and the minimal cost is thus \n",
    "$$\n",
    "    N(z) := \\inf_{t>0} \\ t \\ c(z/t).\n",
    "$$\n",
    "For the quadratic cost model, this problem reads \n",
    "$$\n",
    "    N(z) = \\min_{t>0} \\ t \\ \\Big(\\mu + \\frac 1 2 \\big\\|\\frac z t -\\omega\\big\\|_M^2\\Big).\n",
    "$$\n",
    "It is easily solvable (exercise), and the optimal time is \n",
    "$$\n",
    "    t_opt = \\frac {\\|z\\|_M}{\\sqrt{2 \\mu + \\|\\omega\\|_M^2}},\n",
    "$$\n",
    "whereas the minimal cost reads \n",
    "$$\n",
    "    N(z) = \\|z\\|_M \\sqrt{2 \\mu + \\|\\omega\\|_M^2} - <\\omega,z>_M.\n",
    "$$\n",
    "\n",
    "<!---\n",
    "Assume that the boat travels for some time $t$, with instantaneous fuel consumption $\\rho$, and with constant unit direction $u$, which is are unknowns of the problem. By our assumptions, the boat reaches the point \n",
    "$$\n",
    "    v = (u\\sqrt \\rho + \\omega) t, \n",
    "$$\n",
    "and one has by assumption $\\|u\\|_M = 1$. In the next section, the positive definite matrix $M$ will be used to describe the earth geometry. The cost of this particular travel is \n",
    "$$\n",
    "    (\\rho+\\alpha) t,\n",
    "$$\n",
    "which is the sum of the total fuel consumption $\\rho t$, and the travel time $t$ weighted by $\\alpha$.\n",
    "\n",
    "Minimizing over $t,\\rho,u$, subject to the constraint that the endpoint $v$ is met, a simple analysis yields that the cost of this travel is $2 N_\\alpha(v)$ where\n",
    "$$\n",
    "    N_\\alpha(v) := \\|v\\|_M \\sqrt{ \\|\\omega\\|_M^2+\\alpha} - <v,\\omega>_M.\n",
    "$$\n",
    "The optimal parameters $(t_{\\min},\\rho_{\\min},u_{\\min})$ are characterized by \n",
    "$$\n",
    "    t_{\\min} = \\frac {\\|v\\|_M} {\\sqrt{\\|\\omega\\|_M^2 +\\alpha}},\n",
    "$$\n",
    "from which one easily deduces $\\rho_{\\min}$ and $u_{\\min}$.\n",
    "--->"
   ]
  },
  {
   "cell_type": "code",
   "execution_count": 7,
   "metadata": {
    "tags": [
     "ExportCode"
    ]
   },
   "outputs": [],
   "source": [
    "def route_min(z,params):\n",
    "    z,μ,ω,M = fd.common_field((z,)+params, depths=(1,0,1,2))\n",
    "    z_norm = np.sqrt(lp.dot_VAV(z,M,z))\n",
    "    μω_norm = np.sqrt( 2*μ +lp.dot_VAV(ω,M,ω) )\n",
    "    cost = z_norm*μω_norm - lp.dot_VAV(z,M,ω)\n",
    "    time = z_norm / μω_norm\n",
    "    fuel = cost/time\n",
    "    rvel = z/time - ω\n",
    "    return {\n",
    "        'cost':cost, # minimal cost for this travel\n",
    "        'time':time, # optimal travel time \n",
    "        'fuel':fuel, # instantaneous fuel consumption\n",
    "        'rvel':rvel, # relative velocity, w.r.t current\n",
    "    }"
   ]
  },
  {
   "cell_type": "markdown",
   "metadata": {},
   "source": [
    "The cost $N(z)$ takes the form of a Rander norm, a.k.a the sum of a distorted euclidean norm and of a linear function. Note that the Rander compatibility condition is satisfied: $N(z)\\geq 0$ for all $z$. The more general cost considered in the introduction would yields a supremum of functions of this form."
   ]
  },
  {
   "cell_type": "code",
   "execution_count": 8,
   "metadata": {
    "tags": [
     "ExportCode"
    ]
   },
   "outputs": [],
   "source": [
    "def metric(params):\n",
    "    μ,ω,M = fd.common_field(params,depths=(0,1,2))\n",
    "    return Rander( M*(2*μ + lp.dot_VAV(ω,M,ω)), -lp.dot_AV(M,ω))"
   ]
  },
  {
   "cell_type": "code",
   "execution_count": 9,
   "metadata": {},
   "outputs": [],
   "source": [
    "# Generate a cartesian grid\n",
    "aX = xp.linspace(-1,1)\n",
    "X = ad.array(np.meshgrid(aX,aX,indexing='ij'))"
   ]
  },
  {
   "cell_type": "markdown",
   "metadata": {},
   "source": [
    "The following observations can be made.\n",
    "- It is cheaper to travel in the direction of the water currents. (As expected.)\n",
    "- The travel time is symmetric w.r.t. $z$. This was expected in view of the above formula, but it is nonetheless surprising.\n",
    "- The instantaneous fuel consumption only depends on the direction, not the travel time. It is stronger when one goes against the water currents. (As expected for a time independent problem.)\n",
    "- The boat does not head straight where it needs to go, but moves like a crab, taking avantage (or fighting against) water currents."
   ]
  },
  {
   "cell_type": "code",
   "execution_count": 10,
   "metadata": {},
   "outputs": [],
   "source": [
    "# Parameters : unit weight for time, unit horizontal drift, euclidean geometry\n",
    "params = (1.,xp.array((1.,0.)),xp.eye(2))\n",
    "route = route_min(X,params)\n",
    "assert np.allclose(metric(params).norm(X),route['cost'])\n",
    "\n",
    "plt.figure(figsize=[12,10])\n",
    "\n",
    "plt.subplot(2,2,1); plt.axis('equal')\n",
    "plt.title('Minimal travel cost')\n",
    "plt.contour(*X,route['cost']); plt.colorbar()\n",
    "\n",
    "plt.subplot(2,2,2); plt.axis('equal')\n",
    "plt.title('Travel time for the optimal path')\n",
    "plt.contour(*X,route['time']); plt.colorbar()\n",
    "\n",
    "plt.subplot(2,2,3); plt.axis('equal')\n",
    "plt.title('Instantaneous fuel consumption')\n",
    "plt.contour(*X,route['fuel']); plt.colorbar()\n",
    "\n",
    "plt.subplot(2,2,4); plt.axis('equal')\n",
    "plt.title('Velocity relative to water currents')\n",
    "quiver(*X,*route['rvel'],subsampling=(5,5))"
   ]
  },
  {
   "cell_type": "markdown",
   "metadata": {},
   "source": [
    "By setting $\\mu=0$, we do not penalize travel time. In that case:\n",
    "- the minimal travel cost vanishes in the direction of the drift.\n",
    "- the travel time increases, but not indefinitely. Indeed, excessively long paths would use more fuel in total."
   ]
  },
  {
   "cell_type": "code",
   "execution_count": 11,
   "metadata": {},
   "outputs": [],
   "source": [
    "# Parameters : unit weight for time, unit horizontal drift, euclidean geometry\n",
    "params = (0.,xp.array((1.,0.)),xp.eye(2))\n",
    "route = route_min(X,params)\n",
    "\n",
    "plt.figure(figsize=[12,10])\n",
    "\n",
    "plt.subplot(2,2,1); plt.axis('equal')\n",
    "plt.title('Minimal travel cost')\n",
    "plt.contour(*X,route['cost']); plt.colorbar()\n",
    "\n",
    "plt.subplot(2,2,2); plt.axis('equal')\n",
    "plt.title('Travel time for the optimal path')\n",
    "plt.contour(*X,route['time']); plt.colorbar()\n",
    "\n",
    "plt.subplot(2,2,3); plt.axis('equal')\n",
    "plt.title('Instantaneous fuel consumption')\n",
    "plt.contour(*X,route['fuel']); plt.colorbar()\n",
    "\n",
    "plt.subplot(2,2,4); plt.axis('equal')\n",
    "plt.title('Velocity relative to water currents')\n",
    "quiver(*X,*route['rvel'],subsampling=(5,5))"
   ]
  },
  {
   "cell_type": "markdown",
   "metadata": {},
   "source": [
    "By setting $\\mu$ to a large value, we strongly penalize travel time. In that case:\n",
    "- the minimal travel cost is almost isotropic. Indeed, the boat must go fast, to reduce travel time, hence the drift becomes negligible.\n",
    "- the instantaneous fuel consumption is almost independent of the direction, and the boat heads straight where it needs to go. Again, this is because the boat goes fast, so that drift is negligible."
   ]
  },
  {
   "cell_type": "code",
   "execution_count": 12,
   "metadata": {},
   "outputs": [],
   "source": [
    "# Parameters : unit weight for time, unit horizontal drift, euclidean geometry\n",
    "params = (1e3,xp.array((1.,0.)),xp.eye(2))\n",
    "route = route_min(X,params)\n",
    "\n",
    "plt.figure(figsize=[12,10])\n",
    "\n",
    "plt.subplot(2,2,1); plt.axis('equal')\n",
    "plt.title('Minimal travel cost')\n",
    "plt.contour(*X,route['cost']); plt.colorbar()\n",
    "\n",
    "plt.subplot(2,2,2); plt.axis('equal')\n",
    "plt.title('Travel time for the optimal path')\n",
    "plt.contour(*X,route['time']); plt.colorbar()\n",
    "\n",
    "plt.subplot(2,2,3); plt.axis('equal')\n",
    "plt.title('Instantaneous fuel consumption')\n",
    "plt.contour(*X,route['fuel']); plt.colorbar()\n",
    "\n",
    "plt.subplot(2,2,4); plt.axis('equal')\n",
    "plt.title('Velocity relative to water currents')\n",
    "quiver(*X,*route['rvel'],subsampling=(5,5))"
   ]
  },
  {
   "cell_type": "markdown",
   "metadata": {},
   "source": [
    "## 2. Space-varying medium\n",
    "\n",
    "In this section, we considere a setup with space dependent geometry, water currents, and obstacles.\n",
    "Finding the optimal route requires solving an eikonal equation, which we do using the HFM library.\n",
    "\n",
    "The first step is to define the location of the obstacles, the starting point, and the target points."
   ]
  },
  {
   "cell_type": "code",
   "execution_count": 13,
   "metadata": {},
   "outputs": [],
   "source": [
    "#ReloadPackages()"
   ]
  },
  {
   "cell_type": "code",
   "execution_count": 14,
   "metadata": {},
   "outputs": [],
   "source": [
    "hfmIn = Eikonal.dictIn({\n",
    "    'model':'Rander2', # Riemannian + drift, what is needed here\n",
    "    'exportValues':1,\n",
    "    'exportGeodesicFlow':1,\n",
    "    'seed':[-1.7,0.6], # Where to start the front propagation\n",
    "})\n",
    "hfmIn.SetRect([[-2,2],[-1,1]],dimx=200) # Rectangular domain\n",
    "X = hfmIn.Grid() # Coordinate system\n",
    "hfmIn['walls'] = X[1]-np.abs(X[0])>=0 # Obstacles in the domain\n",
    "hfmIn.SetUniformTips((6,3)) # Points from which to backtrack geodesics"
   ]
  },
  {
   "cell_type": "code",
   "execution_count": 15,
   "metadata": {},
   "outputs": [
    {
     "data": {
      "text/plain": [
       "array([200., 100.], dtype=float32)"
      ]
     },
     "execution_count": 15,
     "metadata": {},
     "output_type": "execute_result"
    }
   ],
   "source": [
    "hfmIn['dims']"
   ]
  },
  {
   "cell_type": "code",
   "execution_count": 16,
   "metadata": {},
   "outputs": [],
   "source": [
    "plt.title('Obstacle inserted in the domain'); plt.axis('equal')\n",
    "plt.contourf(*X, hfmIn['walls']);"
   ]
  },
  {
   "cell_type": "markdown",
   "metadata": {},
   "source": [
    "We now define the Riemannian metric $M$. Here, we choose the metric attached to a sphere, a.k.a. the earth, of radius one. Recall that the intrinsic metric on a manifold embedded in Euclidean space is \n",
    "$$\n",
    "    M(x) = df(x)^T df(x) = \\nabla f(x) \\nabla f(x)^T,\n",
    "$$\n",
    "where $df$ is the differential of $f$, and $\\nabla f(x) := df(x)^T$. "
   ]
  },
  {
   "cell_type": "code",
   "execution_count": 17,
   "metadata": {
    "tags": [
     "ExportCode"
    ]
   },
   "outputs": [],
   "source": [
    "def Spherical(θ,ϕ): \n",
    "    \"\"\"Spherical embedding: θ is longitude, ϕ is latitude from equator toward pole\"\"\"\n",
    "    return (np.cos(θ)*np.cos(ϕ), np.sin(θ)*np.cos(ϕ), np.sin(ϕ))\n",
    "\n",
    "def IntrinsicMetric(Embedding,*X):\n",
    "    \"\"\"Riemannian metric for a manifold embedded in Euclidean space\"\"\"\n",
    "    X_ad = ad.Dense.identity(constant=X,shape_free=(2,)) # First order dense AD variable\n",
    "    Embed_ad = ad.asarray(Embedding(*X_ad)) # Differentiate the embedding\n",
    "    Embed_grad = Embed_ad.gradient()\n",
    "    Embed_M = lp.dot_AA(Embed_grad,lp.transpose(Embed_grad)) # Riemannian metric\n",
    "    return Embed_M"
   ]
  },
  {
   "cell_type": "markdown",
   "metadata": {},
   "source": [
    "We now choose the water (surface) currents, arbitrarily. They are defined in the local chart $\\theta,\\phi$, and not on the three dimensional sphere, for simplicity."
   ]
  },
  {
   "cell_type": "code",
   "execution_count": 18,
   "metadata": {
    "tags": [
     "ExportCode"
    ]
   },
   "outputs": [],
   "source": [
    "def bump(x,y): \n",
    "    \"\"\"Gaussian-like bump (not normalized)\"\"\"\n",
    "    return np.exp(-(x**2+y**2)/2)\n",
    "\n",
    "def Currents(θ,ϕ):\n",
    "    \"\"\"Some arbitrary vector field (water currents)\"\"\"\n",
    "    bump0 = bump(θ+1,(ϕ+0.3)*2); ω0=(0,1) # intensity and direction of the currents\n",
    "    bump1 = 2*bump(2*(θ-0.7),ϕ-0.2); ω1=(1,-1)\n",
    "    bump0,ω0,bump1,ω1 = fd.common_field( (bump0,ω0,bump1,ω1), depths=(0,1,0,1))\n",
    "    return bump0*ω0+bump1*ω1"
   ]
  },
  {
   "cell_type": "markdown",
   "metadata": {},
   "source": [
    "We have put two strong currents:\n",
    "- One in the west, towards north. One can however get around it, east or west.\n",
    "- One in east, towards south-east. One cannot get around this one, but it is nevertheless weaker in the south than the north."
   ]
  },
  {
   "cell_type": "code",
   "execution_count": 19,
   "metadata": {},
   "outputs": [],
   "source": [
    "Embed_ω = Currents(*X)\n",
    "Embed_M = IntrinsicMetric(Spherical,*X) # Actually a diagonal matrix, but we don't exploit this fact here"
   ]
  },
  {
   "cell_type": "code",
   "execution_count": 20,
   "metadata": {},
   "outputs": [],
   "source": [
    "plt.title('Drift vector field')\n",
    "quiver(*X,*Embed_ω,subsampling=(10,10))"
   ]
  },
  {
   "cell_type": "code",
   "execution_count": 21,
   "metadata": {},
   "outputs": [],
   "source": [
    "params = (1.,Embed_ω,Embed_M) # Idle fuel consumption μ = 1 \n",
    "hfmIn['metric'] = metric(params) "
   ]
  },
  {
   "cell_type": "markdown",
   "metadata": {},
   "source": [
    "It is worth noting that the problem metric is quite strongly anisotropic, due to the presence of strong currents. Recall that the anisotropy, at a given point, is the maximum ratio of the travel cost from that point in two different directions of unit Euclidean norm. A.k.a it is much cheaper to be pushed by the current than to go against it."
   ]
  },
  {
   "cell_type": "code",
   "execution_count": 22,
   "metadata": {},
   "outputs": [],
   "source": [
    "# only an upper bound. (Slow on GPU, and may cause weird bugs) \n",
    "if xp is np: np.max(hfmIn['metric'].anisotropy_bound())"
   ]
  },
  {
   "cell_type": "markdown",
   "metadata": {},
   "source": [
    "The problem is already anisotropic (but not asymmetric) without the currents, due to the geometry of the sphere. However, that anisotropy is much less pronounced."
   ]
  },
  {
   "cell_type": "code",
   "execution_count": 23,
   "metadata": {},
   "outputs": [],
   "source": [
    "#np.max(Riemann(Embed_M).anisotropy()) "
   ]
  },
  {
   "cell_type": "code",
   "execution_count": 24,
   "metadata": {},
   "outputs": [
    {
     "name": "stdout",
     "output_type": "stream",
     "text": [
      "Setting the kernel traits.\n",
      "Preparing the domain data (shape,metric,...)\n",
      "Preparing the problem rhs (cost, seeds,...)\n",
      "Preparing the GPU kernel\n",
      "Running the eikonal GPU kernel\n",
      "GPU kernel eikonal ran for 0.021909236907958984 seconds, and 50 iterations.\n",
      "Post-Processing\n"
     ]
    }
   ],
   "source": [
    "hfmOut = hfmIn.Run()"
   ]
  },
  {
   "cell_type": "markdown",
   "metadata": {},
   "source": [
    "Some observations : \n",
    "- On the west, one sees as expected that the optimal paths get around the strong current by both sides. This creates a non-differentiability in the value function.\n",
    "- On the east, the south-east current is very strong. The minimal paths which need to go north follow the current it until they can get out of it, at $\\theta\\approx 1.5$, and then they change direction."
   ]
  },
  {
   "cell_type": "code",
   "execution_count": 25,
   "metadata": {},
   "outputs": [],
   "source": [
    "plt.figure(figsize=[16,4])\n",
    "\n",
    "plt.subplot(1,2,1); plt.axis('equal')\n",
    "plt.title('Minimal travel cost')\n",
    "plt.contour(*X,hfmOut['values'],levels=50)\n",
    "\n",
    "plt.subplot(1,2,2); plt.axis('equal')\n",
    "plt.title('Optimal paths, and inserted obstacle')\n",
    "plt.contourf(*X,hfmIn['walls'],cmap='Greys')\n",
    "for geo in hfmOut['geodesics']: plt.plot(*geo)"
   ]
  },
  {
   "cell_type": "markdown",
   "metadata": {},
   "source": [
    "The HFM library exports the geodesic flow, which is the local direction of the minimal geodesics coming from the seed point. Using this quantity we can recover the instantaneous fuel consumption, and the relative velocity of the boat. One observes that:\n",
    "- the fuel consumption is highest when the boat needs to go against water currents.\n",
    "- in the west the boat direction is almost opposite to the current (water current in the face), whereas in the east the boat direction is often almost othogonal to the current (water current in the back)."
   ]
  },
  {
   "cell_type": "code",
   "execution_count": 26,
   "metadata": {},
   "outputs": [],
   "source": [
    "v = hfmOut['flow']\n",
    "v[:,ad.Optimization.norm(v,axis=0)==0] = np.nan # Avoid division by zero where there is no velocity (walls, seed)\n",
    "route = route_min(v,params)\n",
    "\n",
    "plt.figure(figsize=[16,4])\n",
    "\n",
    "plt.subplot(1,2,1); plt.axis('equal')\n",
    "plt.title('Instantaneous fuel consumption')\n",
    "plt.contour(*X,route['fuel'],levels=50)\n",
    "\n",
    "plt.subplot(1,2,2); plt.axis('equal')\n",
    "plt.title('Relative velocity of the boat w.r.t water')\n",
    "quiver(*X,*route['rvel'],subsampling=(10,10))"
   ]
  },
  {
   "cell_type": "markdown",
   "metadata": {},
   "source": [
    "One may also recover the total fuel consumption, and the total travel time, integrated along the geodesics, by solving one additional first order PDE. "
   ]
  },
  {
   "cell_type": "markdown",
   "metadata": {},
   "source": [
    "### 2.1 Variants"
   ]
  },
  {
   "cell_type": "markdown",
   "metadata": {},
   "source": [
    "We can increase the cost of time. As before, if we increase it a lot, then the drift due to water currents becomes negligible."
   ]
  },
  {
   "cell_type": "code",
   "execution_count": 27,
   "metadata": {},
   "outputs": [
    {
     "name": "stdout",
     "output_type": "stream",
     "text": [
      "Setting the kernel traits.\n",
      "Preparing the domain data (shape,metric,...)\n",
      "Preparing the problem rhs (cost, seeds,...)\n",
      "Preparing the GPU kernel\n",
      "Running the eikonal GPU kernel\n",
      "GPU kernel eikonal ran for 0.023953914642333984 seconds, and 52 iterations.\n",
      "Post-Processing\n"
     ]
    }
   ],
   "source": [
    "params = (1e3,Embed_ω,Embed_M) # Strong idle fuel consumption μ\n",
    "hfmIn['metric'] = metric(params) \n",
    "hfmOut = hfmIn.Run()"
   ]
  },
  {
   "cell_type": "markdown",
   "metadata": {},
   "source": [
    "In the limit, as $\\alpha \\to \\infty$, the geodesics coincide with the great circles on the sphere - except when they hit the obstacles or the domain boundary."
   ]
  },
  {
   "cell_type": "code",
   "execution_count": 28,
   "metadata": {},
   "outputs": [],
   "source": [
    "plt.figure(figsize=[16,4])\n",
    "\n",
    "plt.subplot(1,2,1); plt.axis('equal')\n",
    "plt.title('Minimal travel cost')\n",
    "plt.contour(*X,hfmOut['values'],levels=50)\n",
    "\n",
    "plt.subplot(1,2,2); plt.axis('equal')\n",
    "plt.title('Optimal paths, and inserted obstacle')\n",
    "plt.contourf(*X,hfmIn['walls'],cmap='Greys')\n",
    "for geo in hfmOut['geodesics']: plt.plot(*geo)"
   ]
  },
  {
   "cell_type": "markdown",
   "metadata": {},
   "source": [
    "The fuel consumption varies much less, and the boat heads directly where it needs to go."
   ]
  },
  {
   "cell_type": "code",
   "execution_count": 29,
   "metadata": {},
   "outputs": [],
   "source": [
    "v = hfmOut['flow']\n",
    "v[:,ad.Optimization.norm(v,axis=0)==0] = np.nan # Avoid division by zero where there is no velocity (walls, seed)\n",
    "route = route_min(v,params)\n",
    "\n",
    "plt.figure(figsize=[16,4])\n",
    "\n",
    "plt.subplot(1,2,1); plt.axis('equal')\n",
    "plt.title('Instantaneous fuel consumption')\n",
    "plt.contour(*X,route['fuel'],levels=50); plt.colorbar()\n",
    "\n",
    "plt.subplot(1,2,2); plt.axis('equal')\n",
    "plt.title('Relative velocity of the boat w.r.t water')\n",
    "quiver(*X,*route['rvel'],subsampling=(10,10))"
   ]
  },
  {
   "cell_type": "markdown",
   "metadata": {},
   "source": [
    "In one removes the drift (equivalently $\\alpha \\to \\infty$), the instantaneous fuel consumption becomes constant along the journey, which is expected."
   ]
  },
  {
   "cell_type": "code",
   "execution_count": 30,
   "metadata": {},
   "outputs": [
    {
     "name": "stdout",
     "output_type": "stream",
     "text": [
      "Setting the kernel traits.\n",
      "Preparing the domain data (shape,metric,...)\n",
      "Preparing the problem rhs (cost, seeds,...)\n",
      "Preparing the GPU kernel\n",
      "Running the eikonal GPU kernel\n",
      "GPU kernel eikonal ran for 0.019946575164794922 seconds, and 53 iterations.\n",
      "Post-Processing\n"
     ]
    }
   ],
   "source": [
    "params = (1.,(0,0),Embed_M) # Weight α = 1 for time w.r.t fuel\n",
    "hfmIn['metric'] = metric(params) \n",
    "hfmOut = hfmIn.Run()"
   ]
  },
  {
   "cell_type": "code",
   "execution_count": 31,
   "metadata": {},
   "outputs": [
    {
     "name": "stdout",
     "output_type": "stream",
     "text": [
      "Extremes of fuel instantaneous consumption. min=1.9999998, max=2.0\n"
     ]
    }
   ],
   "source": [
    "v = hfmOut['flow']\n",
    "v[:,ad.Optimization.norm(v,axis=0)==0] = np.nan # Avoid division by zero where there is no velocity (walls, seed)\n",
    "route = route_min(v,params)\n",
    "\n",
    "print(f\"Extremes of fuel instantaneous consumption. min={np.nanmin(route['fuel'])}, max={np.nanmax(route['fuel'])}\")"
   ]
  },
  {
   "cell_type": "markdown",
   "metadata": {},
   "source": [
    "### 2.2 Obtaining the travel time\n",
    "\n",
    "In order to obtain the arrival time at some destination, we must integrate it along the geodesic.\n",
    "We take advantage of the automatic differentiation capabilities of the HFM library, in a somewhat hacky way, to perform this integration and obtain the arrival times."
   ]
  },
  {
   "cell_type": "code",
   "execution_count": 32,
   "metadata": {
    "tags": [
     "ExportCode"
    ]
   },
   "outputs": [],
   "source": [
    "def ArrivalTime(hfmIn,params):\n",
    "    hfmIn = copy(hfmIn)\n",
    "#    if hfmIn.xp is not np: hfmIn['solver']='AGSI' #TODO : why needed ?\n",
    "    hfmIn['metric'] = metric(params)\n",
    "    hfmIn['exportGeodesicFlow']=1\n",
    "    cache = Eikonal.Cache(needsflow=True)\n",
    "    hfmOut = hfmIn.Run(cache=cache)\n",
    "    \n",
    "    flow = hfmOut['flow']\n",
    "    no_flow = np.all(flow==0,axis=0)\n",
    "    flow[:,no_flow]=np.nan  # No flow at the seed point, avoid zero divide    \n",
    "    route = route_min(flow,params)\n",
    "    costVariation = route['time']\n",
    "    costVariation[no_flow] = 0\n",
    "    hfmIn['costVariation'] = np.expand_dims(costVariation,axis=-1)\n",
    "    \n",
    "    hfmOut2 = hfmIn.Run(cache=cache) # cache avoids some recomputations\n",
    "    time = hfmOut2['values'].gradient(0)\n",
    "    return time,hfmOut"
   ]
  },
  {
   "cell_type": "code",
   "execution_count": 33,
   "metadata": {},
   "outputs": [
    {
     "name": "stdout",
     "output_type": "stream",
     "text": [
      "Warning : gpu eikonal solver does not support caching\n",
      "Setting the kernel traits.\n",
      "Preparing the domain data (shape,metric,...)\n",
      "Preparing the problem rhs (cost, seeds,...)\n",
      "Preparing the GPU kernel\n",
      "Running the eikonal GPU kernel\n",
      "GPU kernel eikonal ran for 0.018949270248413086 seconds, and 50 iterations.\n",
      "Post-Processing\n",
      "Warning : gpu eikonal solver does not support caching\n",
      "Setting the kernel traits.\n",
      "Preparing the domain data (shape,metric,...)\n",
      "Preparing the problem rhs (cost, seeds,...)\n",
      "Preparing the GPU kernel\n",
      "Running the eikonal GPU kernel\n",
      "GPU kernel eikonal ran for 0.016954421997070312 seconds, and 50 iterations.\n",
      "Post-Processing\n"
     ]
    }
   ],
   "source": [
    "params = (1.,Embed_ω,Embed_M) # Idle fuel consumption μ = 1 \n",
    "arrival_time,hfmOut = ArrivalTime(hfmIn,params)"
   ]
  },
  {
   "cell_type": "code",
   "execution_count": 34,
   "metadata": {},
   "outputs": [],
   "source": [
    "plt.title('Arrival time for the optimal path'); plt.axis('equal')\n",
    "plt.contourf(*X,arrival_time);"
   ]
  },
  {
   "cell_type": "markdown",
   "metadata": {},
   "source": [
    "### 2.3 Validation\n",
    "\n",
    "We compare the exact analytical solution and the numerical solution in the case of a constant medium, for validation."
   ]
  },
  {
   "cell_type": "code",
   "execution_count": 35,
   "metadata": {},
   "outputs": [],
   "source": [
    "hfmIn = Eikonal.dictIn({\n",
    "    'verbosity':0,\n",
    "    'model':'Rander2',\n",
    "    'exportValues':1,\n",
    "    'seed':[0,0],\n",
    "#    'solver':'AGSI' #TODO : why needed ?\n",
    "})\n",
    "hfmIn.SetRect([[-1,1],[-1,1]],dimx=101,sampleBoundary=True)"
   ]
  },
  {
   "cell_type": "code",
   "execution_count": 36,
   "metadata": {
    "scrolled": true
   },
   "outputs": [
    {
     "name": "stdout",
     "output_type": "stream",
     "text": [
      "Warning : gpu eikonal solver does not support caching\n",
      "Warning : gpu eikonal solver does not support caching\n"
     ]
    }
   ],
   "source": [
    "params = (1.,xp.array((0.,1.)),xp.eye(2))\n",
    "arrival_time,hfmOut = ArrivalTime(hfmIn,params)"
   ]
  },
  {
   "cell_type": "code",
   "execution_count": 43,
   "metadata": {},
   "outputs": [],
   "source": [
    "plt.contourf(*hfmIn.Grid(),hfmOut['values']);"
   ]
  },
  {
   "cell_type": "code",
   "execution_count": 38,
   "metadata": {},
   "outputs": [],
   "source": [
    "X = hfmIn.Grid()\n",
    "route = route_min(X,params)"
   ]
  },
  {
   "cell_type": "code",
   "execution_count": 39,
   "metadata": {},
   "outputs": [],
   "source": [
    "assert norm_infinity(arrival_time - route['time']) < 0.02\n",
    "assert norm_infinity(hfmOut['values'] - route['cost']) < 0.05"
   ]
  },
  {
   "cell_type": "code",
   "execution_count": null,
   "metadata": {},
   "outputs": [],
   "source": []
  }
 ],
 "metadata": {
  "celltoolbar": "Format de la Cellule Texte Brut",
  "kernelspec": {
   "display_name": "Python 3 (ipykernel)",
   "language": "python",
   "name": "python3"
  },
  "language_info": {
   "codemirror_mode": {
    "name": "ipython",
    "version": 3
   },
   "file_extension": ".py",
   "mimetype": "text/x-python",
   "name": "python",
   "nbconvert_exporter": "python",
   "pygments_lexer": "ipython3",
   "version": "3.12.1"
  }
 },
 "nbformat": 4,
 "nbformat_minor": 4
}
