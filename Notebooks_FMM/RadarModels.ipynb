{
 "cells": [
  {
   "cell_type": "markdown",
   "metadata": {},
   "source": [
    "# The HFM library - A fast marching solver with adaptive stencils\n",
    "\n",
    "## Part : Motion planning\n",
    "## Chapter : Radar detection models"
   ]
  },
  {
   "cell_type": "markdown",
   "metadata": {},
   "source": [
    "Solving eikonal equations allows to compute paths minimizing a variety of energies. \n",
    "A use case of interest is to minimize the probability of detection by a surveillance device, along a trajectory. For instance an airplane or a drone may attempt to avoid detection by a radar, and this type of model and assumption may in principle be incorporated in the radar design and configuration.\n",
    "\n",
    "In this notebook, I present some toy models for the probability of detection, as well as the mathematical frameworks and algorithmic tools that can be used to express them and extract the corresponding optimal paths.\n",
    "\n",
    "**Probability of detection.**\n",
    "\n",
    "The probability of non-detection of a vehicle moving along a trajectory $\\gamma:[0,T] \\to R^2$ is modeled as \n",
    "$$\n",
    "    P(\\gamma) = \\exp\\Big[- \\int_0^T C^0_{\\xi(t)}(\\gamma(t), \\gamma'(t)) \\ \\mathrm{d}t\\Big]\n",
    "$$\n",
    "where $c_\\xi(x,v)$ is the instantaneous probability of detection of a vehicle located at position $x$, with velocity $v$, and with detection devices configured by some parameters $\\xi$.\n",
    "\n",
    "The radar design problem can therefore be formulated as the following two player game:\n",
    "$$\n",
    "    \\max_{\\xi \\in \\Xi} \\min_{\\gamma \\in \\Gamma} \\int_0^T C^0_{\\xi(t)}(\\gamma(t), \\gamma'(t)) \\ \\mathrm{d}t,\n",
    "$$\n",
    "where $\\Gamma$ is the set of all admissible trajectories, and $\\Xi$ is the set of all feasible radar configuration parameters.\n",
    "\n",
    "**Time dependence.**\n",
    "\n",
    "If the detection device parameters change over time, that is if $\\xi = \\xi(t)$ varies as time $t$ changes, then a time-dependent PDE is required to compute the optimal path and cost. This approach is discussed in the notebooks devoted to boat routing, with a [quadratic](../Notebooks_NonDiv/BoatRouting_Time.ipynb) or a [generic](../Notebooks_NonDiv/BoatRoutingGeneric_Time.ipynb) cost function. \n",
    "\n",
    "In this notebook we limit our attention to a static configuration $\\xi = \\xi_0$ of the detection devices. We also assume that the time at which the target is reached is not constrained, in other words that the trajectories $\\gamma \\in \\Gamma$ can be freely reparametrized, say by unit euclidean length. \n",
    "\n",
    "The adressed problem can therefore be reformulated as \n",
    "$$\n",
    "    \\max_{\\xi \\in \\Xi} \\min_{\\gamma \\in \\Gamma} \\int_0^L C_\\xi(\\gamma(l), \\gamma'(l)) \\ \\mathrm{d}l,\n",
    "$$\n",
    "where we denoted by $C$ the cost function corresponding to a trajectory that is travelled at optimal velocity, obtained as \n",
    "$$\n",
    "    C(x,v) := \\min_{\\lambda > 0} \\frac{C^0(x,\\lambda v)}{\\lambda}.\n",
    "$$\n",
    "\n",
    "**Admissible trajectories.**\n",
    "\n",
    "Airborne vehicles have maneouverability constraints, and in particular they cannnot rotate in place, or make excessively sharp turns, or oscillate at high frequency between different heading directions. \n",
    "\n",
    "In order to account for this property, we may restrict the set of admissible trajectories $\\Gamma$ to include only those whose curvature (inverse radius of curvature) is below a given threshold. \n",
    "\n",
    "Alternatively we may require the vehicle to slow down when doing tight turns. Note that this breaks the reparametrization invariance assumed in the previous paragraph. \n",
    "\n",
    "In both cases these constraints are numerically implemented by penalizing the *curvature* of the incident path, introducing the modified trajectory cost:\n",
    "$$\n",
    "    \\int_0^L C_\\xi(\\gamma(l), \\gamma'(l)) \\ E(|\\gamma''(l)|) \\ \\mathrm{d}l,\n",
    "$$\n",
    "where $E$ embeds the desired curvature bound or penalization. The following expressions are used\n",
    "$$\n",
    "    E(\\kappa) = 1+(\\xi \\kappa)^2,\n",
    "    \\quad \\text{ or } \\quad\n",
    "    E(\\kappa) = \\begin{cases}\n",
    "        1 \\text{ if } \\xi \\kappa \\leq 1\\\\\n",
    "        \\infty \\text{ otherwise}.\n",
    "    \\end{cases}\n",
    "$$\n",
    "where $\\xi$ is an inverse radius of curvature. These two penalizations are known as the Dubins and the Euler-Mumford elastica model.\n",
    "\n",
    "**Detection models.**\n",
    "\n",
    "One of the objectives of this notebook is to illustrate the variety of the detection models.\n",
    "\n",
    "As a function of the detector-target distance:\n",
    "* *Blind distances.* Depending on the *pulse repetition inverval*, a radar may not be able to detect objects at multiples of a given distance.\n",
    "* *Obstruction by obstacles.*\n",
    "\n",
    "As a function of the detector-target relative orientation:\n",
    "* *Blind radial speeds.* Depending on the *pulse frequency*, a radar may not be able to detect objects whose radial speed is the multiple of a given value. If the target is moving at a fixed velocity, then this translates into blind relative angles for the detector.\n",
    "* *Radar equivalent area.* The amount of radar reflected by an object strongly depends on its features and on their relative orientation w.r.t the radar.\n",
    "\n",
    "Realistic radar models feature all of the above complexities simultaneously, as well as numerous other, and various constraints - e.g. a lower bound on the product of the pulse frequency and the pulse repetition interval.\n",
    "\n",
    "\n",
    "**Optimization.**\n",
    "\n",
    "The problem of interest is defined as a two-level optimization, over $\\gamma$ and $\\xi$ successively.\n",
    "\n",
    "* *Minimum over $\\gamma \\in \\Gamma$.* We extract, up to discretization errors, the globally optimal trajectory among all admissible $\\gamma \\in \\Gamma$, and the corresponding minimal cost. For that purpose, the problem is reformulated in the form of a generalized Eikonal partial differential equation, which is discretized and solved numerically.\n",
    "\n",
    "* *Maximum over $\\xi \\in \\Xi$.* The optimization over $\\xi \\in \\Xi$ is usually non-convex and non-differentiable. The HFM library is able to compute the gradient of the objective w.r.t $\\xi$, which can be used within a generic optimization routine such as gradient ascent or BFGS. However the maximization over $\\Xi$ is not illustrated in here, see the notebook on [closed path](ClosedPaths.ipynb) for an example.\n",
    "\n",
    "**References.**\n",
    "\n",
    "The numerical experiments presented in this notebook are inspired by the following publication. \n",
    "* Dreo, J., Desquilbet, F., Barbaresco, F., & Mirebeau, J.-M. (2019). Netted multi-function radars positioning and modes selection by non-holonomic fast marching computation of highest threatening trajectories. Presented at the International RADAR’19 conference.\n",
    "\n"
   ]
  },
  {
   "cell_type": "markdown",
   "metadata": {},
   "source": [
    "[**Summary**](Summary.ipynb) of volume Fast Marching Methods, this series of notebooks.\n",
    "\n",
    "[**Main summary**](../Summary.ipynb) of the Adaptive Grid Discretizations \n",
    "\tbook of notebooks, including the other volumes.\n",
    "\n",
    "# Table of contents\n",
    "  * [1. Position dependent detection](#1.-Position-dependent-detection)\n",
    "    * [1.1 Setting](#1.1-Setting)\n",
    "    * [1.2 Blind distances](#1.2-Blind-distances)\n",
    "    * [1.3 Obstacles](#1.3-Obstacles)\n",
    "    * [1.4 Curvature penalization](#1.4-Curvature-penalization)\n",
    "  * [2. Orientation dependent cost](#2.-Orientation-dependent-cost)\n",
    "    * [2.1 Radar cross section](#2.1-Radar-cross-section)\n",
    "    * [2.2 Blind radar velocities](#2.2-Blind-radar-velocities)\n",
    "\n",
    "\n",
    "\n",
    "This Python&reg; notebook is intended as documentation and testing for the [HamiltonFastMarching (HFM) library](https://github.com/mirebeau/HamiltonFastMarching), which also has interfaces to the Matlab&reg; and Mathematica&reg; languages. \n",
    "More information on the HFM library in the manuscript:\n",
    "* Jean-Marie Mirebeau, Jorg Portegies, \"Hamiltonian Fast Marching: A numerical solver for anisotropic and non-holonomic eikonal PDEs\", 2019 [(link)](https://hal.archives-ouvertes.fr/hal-01778322)\n",
    "\n",
    "Copyright Jean-Marie Mirebeau, University Paris-Sud, CNRS, University Paris-Saclay"
   ]
  },
  {
   "cell_type": "markdown",
   "metadata": {},
   "source": [
    "## 0. Importing the required libraries"
   ]
  },
  {
   "cell_type": "code",
   "execution_count": 1,
   "metadata": {},
   "outputs": [],
   "source": [
    "import sys; sys.path.insert(0,\"..\") # Allow import of agd from parent directory (useless if conda package installed)\n",
    "#from Miscellaneous import TocTools; print(TocTools.displayTOC('RadarModels','FMM'))"
   ]
  },
  {
   "cell_type": "code",
   "execution_count": 2,
   "metadata": {},
   "outputs": [],
   "source": [
    "from agd import Eikonal\n",
    "from agd import FiniteDifferences as fd\n",
    "from agd import AutomaticDifferentiation as ad\n",
    "from agd import Metrics\n",
    "from agd import LinearParallel as lp\n",
    "from agd.Interpolation import map_coordinates\n",
    "norm = ad.Optimization.norm\n",
    "#from agd.Plotting import savefig, SetTitle3D; #savefig.dirName = 'Figures/Curvature/'"
   ]
  },
  {
   "cell_type": "code",
   "execution_count": 3,
   "metadata": {},
   "outputs": [],
   "source": [
    "import numpy as np; xp=np\n",
    "from matplotlib import pyplot as plt"
   ]
  },
  {
   "cell_type": "code",
   "execution_count": 4,
   "metadata": {},
   "outputs": [],
   "source": [
    "def ReloadPackages():\n",
    "    from Miscellaneous.rreload import rreload\n",
    "    global Eikonal,ad,Metrics,map_coordinates\n",
    "    Eikonal,ad,Metrics,map_coordinates = rreload([Eikonal,ad,Metrics,map_coordinates],rootdir='../..')"
   ]
  },
  {
   "cell_type": "markdown",
   "metadata": {},
   "source": [
    "### 0.1 Optional configuration\n",
    "Uncomment the following line to use the GPU eikonal solver."
   ]
  },
  {
   "cell_type": "code",
   "execution_count": 6,
   "metadata": {
    "tags": [
     "EikonalGPU_config"
    ]
   },
   "outputs": [
    {
     "name": "stdout",
     "output_type": "stream",
     "text": [
      "Replacing numpy with cupy, set to output 32bit ints and floats by default.\n",
      "Using cp.asarray(*,dtype=np.float32) as the default caster in ad.array.\n",
      "Returning a copy of module matplotlib.pyplot whose functions accept cupy arrays as input.\n",
      "Setting dictIn.default_mode = 'gpu' in module agd.Eikonal .\n"
     ]
    }
   ],
   "source": [
    "#xp,plt,Eikonal = map(ad.cupy_friendly,(xp,plt,Eikonal))"
   ]
  },
  {
   "cell_type": "markdown",
   "metadata": {},
   "source": [
    "## 1. Position dependent detection\n",
    "\n",
    "In this section, we focus on variations of the detection probability depending solely on the position of the target.\n"
   ]
  },
  {
   "cell_type": "markdown",
   "metadata": {},
   "source": [
    "### 1.1 Setting\n",
    "\n",
    "We fix a domain, and a coordinate grid."
   ]
  },
  {
   "cell_type": "code",
   "execution_count": 7,
   "metadata": {},
   "outputs": [],
   "source": [
    "hfmIn = Eikonal.dictIn({\n",
    "    'model':'Isotropic2',\n",
    "    'seed':[-2.5,0],\n",
    "})\n",
    "\n",
    "hfmIn.SetRect([[-3,3],[-2,2]],dimx=301)\n",
    "hfmIn.SetUniformTips((4,3))\n",
    "\n",
    "X = hfmIn.Grid()\n",
    "dx = hfmIn['gridScale']"
   ]
  },
  {
   "cell_type": "code",
   "execution_count": 8,
   "metadata": {},
   "outputs": [],
   "source": [
    "radars_pos = xp.array([[-1,-1.5],[1,1],[2,-0.5]]).T # Multiple radars\n",
    "radar_pos  = xp.array([0,0]) # Centered single radar"
   ]
  },
  {
   "cell_type": "code",
   "execution_count": 9,
   "metadata": {},
   "outputs": [],
   "source": [
    "plt.title(\"Position of the seed, tips, and detection devices in the domain\")\n",
    "plt.contourf(*X,0*X[0],cmap='Greys') # Get correct limits\n",
    "plt.scatter(*hfmIn['seed'],color='green')\n",
    "plt.scatter(*hfmIn['tips'].T,color='orange')\n",
    "plt.scatter(*radars_pos,color='blue') \n",
    "plt.scatter(*radar_pos,color='red'); "
   ]
  },
  {
   "cell_type": "markdown",
   "metadata": {},
   "source": [
    "### 1.2 Blind distances\n",
    "\n",
    "In the blind distances model, detection probability decays with the radar-target distance, but also strongly oscillates."
   ]
  },
  {
   "cell_type": "code",
   "execution_count": 10,
   "metadata": {},
   "outputs": [],
   "source": [
    "def OscillatingDecay(r):\n",
    "    return (1.5 - np.cos(3*np.pi*r)) / (1+r**2)"
   ]
  },
  {
   "cell_type": "code",
   "execution_count": 11,
   "metadata": {},
   "outputs": [],
   "source": [
    "plt.title(\"Detection probability as a function of distance\")\n",
    "r = xp.linspace(-3,3,100)\n",
    "plt.plot(r, OscillatingDecay(r));"
   ]
  },
  {
   "cell_type": "code",
   "execution_count": 12,
   "metadata": {},
   "outputs": [],
   "source": [
    "def BlindDistanceProba(target,detector):\n",
    "    \"\"\"\n",
    "    Detection probability for a target located at x, \n",
    "    from a detector located at p.\n",
    "    \"\"\"\n",
    "    target,detector = fd.common_field((target,detector),depths=(1,1))\n",
    "    r = norm(target-detector,axis=0)\n",
    "    return OscillatingDecay(r)"
   ]
  },
  {
   "cell_type": "code",
   "execution_count": 13,
   "metadata": {},
   "outputs": [],
   "source": [
    "detection_cost = BlindDistanceProba(X,radar_pos)\n",
    "fuel_cost = 0.5\n",
    "hfmIn['cost'] = detection_cost + fuel_cost"
   ]
  },
  {
   "cell_type": "code",
   "execution_count": 14,
   "metadata": {},
   "outputs": [
    {
     "name": "stdout",
     "output_type": "stream",
     "text": [
      "Setting the kernel traits.\n",
      "Preparing the domain data (shape,metric,...)\n",
      "Preparing the problem rhs (cost, seeds,...)\n",
      "Preparing the GPU kernel\n",
      "Running the eikonal GPU kernel\n",
      "GPU kernel eikonal ran for 0.027019262313842773 seconds, and 22 iterations.\n",
      "Post-Processing\n"
     ]
    }
   ],
   "source": [
    "hfmOut = hfmIn.Run()"
   ]
  },
  {
   "cell_type": "markdown",
   "metadata": {},
   "source": [
    "The optimal trajectories doge the radars through the blind corridors. \n",
    "Note that a constant cost, referred as \"fuel cost\", was added to eliminate excessively long trajectories."
   ]
  },
  {
   "cell_type": "code",
   "execution_count": 15,
   "metadata": {},
   "outputs": [],
   "source": [
    "plt.title(\"Detection probability by a single device\")\n",
    "plt.contourf(*X,hfmIn['cost'],cmap=\"Greys\")\n",
    "for geo in hfmOut['geodesics']: plt.plot(*geo)"
   ]
  },
  {
   "cell_type": "markdown",
   "metadata": {},
   "source": [
    "In the case of several detection devices, we add the corresponding probability fields, regarding them as independent."
   ]
  },
  {
   "cell_type": "code",
   "execution_count": 16,
   "metadata": {},
   "outputs": [],
   "source": [
    "detection_cost = sum(BlindDistanceProba(X,pos) for pos in radars_pos.T)\n",
    "fuel_cost = 0.5\n",
    "hfmIn['cost'] = detection_cost + fuel_cost"
   ]
  },
  {
   "cell_type": "code",
   "execution_count": 17,
   "metadata": {},
   "outputs": [
    {
     "name": "stdout",
     "output_type": "stream",
     "text": [
      "Setting the kernel traits.\n",
      "Preparing the domain data (shape,metric,...)\n",
      "Preparing the problem rhs (cost, seeds,...)\n",
      "Preparing the GPU kernel\n",
      "Running the eikonal GPU kernel\n",
      "GPU kernel eikonal ran for 0.00998234748840332 seconds, and 19 iterations.\n",
      "Post-Processing\n"
     ]
    }
   ],
   "source": [
    "hfmOut = hfmIn.Run()"
   ]
  },
  {
   "cell_type": "markdown",
   "metadata": {},
   "source": [
    "Again, the optimal trajectories go through 'blind corridors', and avoid the hot spots where the detection probability reaches a local maximum."
   ]
  },
  {
   "cell_type": "code",
   "execution_count": 18,
   "metadata": {},
   "outputs": [],
   "source": [
    "plt.title(\"Optimal trajectories\")\n",
    "plt.contourf(*X,hfmIn['cost'],cmap=\"Greys\")\n",
    "for geo in hfmOut['geodesics']: plt.plot(*geo)"
   ]
  },
  {
   "cell_type": "markdown",
   "metadata": {},
   "source": [
    "### 1.3 Obstacles\n",
    "\n",
    "A radar cannot usually see behind obstacles, or inside deep valleys.\n",
    "In this section, we check for such obstructions and take them into account in the detection probability map.\n",
    "\n",
    "We assume that the detection device is placed at height $h_D$, and the target flies at height $h_T$, above the ground whose $z$-map is given. Then we simply check that the detector-target straight line does not intersect the ground.\n",
    "\n",
    "\n",
    "<!---\n",
    "PDE approach seems to fail.\n",
    "Matrix is large, non-symmetric, ...\n",
    "--->\n",
    "\n",
    "<!---\n",
    "def max_along(u,value,direction,dx):\n",
    "    \"\"\"\n",
    "    Null residue of this PDE operator characterizes,\n",
    "    the maximum of value along direction.\n",
    "    \"\"\"\n",
    "    sign = np.sign(direction)\n",
    "    z = np.zeros_like(sign[0])\n",
    "    offsets = np.array([[sign[0],z],[z,sign[1]]]).astype(int)\n",
    "    du = fd.DiffUpwind(u,offsets,dx)\n",
    "    \n",
    "    coef = np.abs(direction)\n",
    "    deriv = (coef*du).sum(axis=0)\n",
    "    return np.minimum(u-value,-deriv)\n",
    "--->"
   ]
  },
  {
   "cell_type": "code",
   "execution_count": 19,
   "metadata": {},
   "outputs": [],
   "source": [
    "def Occlusion(xD,x,z, hD=0.2,hT=0.1,nS=50):\n",
    "    \"\"\"\n",
    "    Returns the maximum height difference between \n",
    "    the straight detector-target line, and the \n",
    "    obstacles as described in the height map.\n",
    "    \"\"\"\n",
    "    zD = hD+np.squeeze(map_coordinates(z,np.expand_dims(xD,axis=-1),grid=x),axis=-1)\n",
    "    zT = hT+z\n",
    "    xD = fd.as_field(xD,z.shape)\n",
    "    zDiff = np.zeros_like(z)\n",
    "    for s in np.linspace(0,1,nS):\n",
    "        zLine = (1-s)*zD+s*zT\n",
    "        x0 = (1-s)*xD+s*x\n",
    "        z0 = map_coordinates(z,x0,grid=x)\n",
    "        zDiff = np.maximum(zDiff,z0-zLine)\n",
    "    return zDiff"
   ]
  },
  {
   "cell_type": "markdown",
   "metadata": {},
   "source": [
    "For simplicity, we generate a synthetic height map."
   ]
  },
  {
   "cell_type": "code",
   "execution_count": 20,
   "metadata": {},
   "outputs": [],
   "source": [
    "def bump(x,x0,σ,e=2): \n",
    "    x,x0 = fd.common_field((x,x0),depths=(1,1))\n",
    "    r = norm(x-x0,axis=0)/σ\n",
    "    return np.exp(-r**e)\n",
    "\n",
    "#zmap = bump(X,[-2,2],2) + bump(X,[1.5,-1],1) + bump(X,[-2,-0.5],1) \\\n",
    "#- 0.5*(bump(X,[2,1],1) + bump(X,[1,1],1) + bump(X,[0,0.5],1) )\n",
    "\n",
    "flat_peak = [-1.5,0]\n",
    "pointy_peak = [1.5,0.5]\n",
    "zmap = 2*bump(X,flat_peak,1) + 3*bump(X,pointy_peak,1,e=1)"
   ]
  },
  {
   "cell_type": "code",
   "execution_count": 21,
   "metadata": {},
   "outputs": [],
   "source": [
    "plt.title(\"Flat mountain (left), pointy mountain (right)\")\n",
    "plt.contourf(*X,zmap)\n",
    "plt.colorbar(); plt.axis('equal');"
   ]
  },
  {
   "cell_type": "code",
   "execution_count": 22,
   "metadata": {},
   "outputs": [
    {
     "name": "stderr",
     "output_type": "stream",
     "text": [
      "C:\\Users\\Shadow\\Miniconda3\\envs\\agd-hfm_cuda\\lib\\site-packages\\cupyx\\scipy\\ndimage\\interpolation.py:27: UserWarning: In the current feature the default order of map_coordinates is 1. It is different from scipy.ndimage and can change in the future.\n",
      "  'the future.'.format(func_name))\n"
     ]
    }
   ],
   "source": [
    "positions = xp.array(([-0.5,-1],flat_peak,pointy_peak))\n",
    "occlusions = [Occlusion(pos,X,zmap) for pos in positions]\n",
    "distances = [norm(X-fd.as_field(pos,hfmIn.shape),axis=0) for pos in positions]"
   ]
  },
  {
   "cell_type": "code",
   "execution_count": 23,
   "metadata": {},
   "outputs": [],
   "source": [
    "plt.figure(figsize=(16,3.5))\n",
    "\n",
    "for i,(pos,place,occl) in enumerate(zip(\n",
    "    positions,(\"center\",\"flat peak\",\"pointy peak\"),occlusions)):\n",
    "    plt.subplot(1,3,1+i)\n",
    "    plt.title(f\"Visibility from the {place}\")\n",
    "    plt.contourf(*X,occl<=0)\n",
    "    plt.scatter(*pos)\n",
    "    plt.axis('equal')"
   ]
  },
  {
   "cell_type": "code",
   "execution_count": 24,
   "metadata": {},
   "outputs": [],
   "source": [
    "hfmIn['cost'] = 0.5+sum((occl==0) / (1+dist**2) for occl,dist in zip(occlusions,distances))"
   ]
  },
  {
   "cell_type": "code",
   "execution_count": 25,
   "metadata": {},
   "outputs": [],
   "source": [
    "plt.title('Detection probability density')\n",
    "plt.contourf(*X,hfmIn['cost'])\n",
    "plt.colorbar(); plt.axis('equal');"
   ]
  },
  {
   "cell_type": "code",
   "execution_count": 26,
   "metadata": {},
   "outputs": [
    {
     "name": "stdout",
     "output_type": "stream",
     "text": [
      "Setting the kernel traits.\n",
      "Preparing the domain data (shape,metric,...)\n",
      "Preparing the problem rhs (cost, seeds,...)\n",
      "Preparing the GPU kernel\n",
      "Running the eikonal GPU kernel\n",
      "GPU kernel eikonal ran for 0.011000633239746094 seconds, and 21 iterations.\n",
      "Post-Processing\n"
     ]
    }
   ],
   "source": [
    "hfmOut = hfmIn.Run()"
   ]
  },
  {
   "cell_type": "code",
   "execution_count": 27,
   "metadata": {},
   "outputs": [],
   "source": [
    "plt.title(\"Optimal trajectories, detection occluded by obstacles.\")\n",
    "plt.contourf(*X,hfmIn['cost'],cmap=\"Greys\")\n",
    "plt.axis('equal')\n",
    "for geo in hfmOut['geodesics']: plt.plot(*geo)"
   ]
  },
  {
   "cell_type": "markdown",
   "metadata": {},
   "source": [
    "### 1.4 Curvature penalization\n",
    "\n",
    "In this section, we considered detection probabilities depending only on the plane position. As a result, the standard isotropic fast marching method is able to compute the corresponding optimal trajectories. Anisotropic models are needed in the next section when as the detection probability depends on the target orientation, in addition to its direction.\n",
    "\n",
    "However, one may want to impose an initial and a final tangents to the trajectory, and to account for the vehicle manoeuverability constraints by imposing a lower bound on the trajectory curvature (Dubins model). This is achieved using [curvature penalization](Curvature.ipynb), which is a form of anisotropy (extreme and referred to as non-holonomy), and requires an extended configuration space featuring the heading direction $\\theta\\in[0,2 \\pi]$."
   ]
  },
  {
   "cell_type": "code",
   "execution_count": 28,
   "metadata": {},
   "outputs": [],
   "source": [
    "curvIn = Eikonal.dictIn({\n",
    "    'model':'Dubins2',\n",
    "    'xi':0.8, # Minimal radius of curvature\n",
    "    'cost':hfmIn['cost'],\n",
    "    'seed':(*hfmIn['seed'],2*np.pi/3),\n",
    "    'tips':[(*tip,np.pi/4) for tip in hfmIn['tips']],\n",
    "})\n",
    "curvIn.SetRect([[-3,3],[-2,2]],dimx=301)\n",
    "curvIn.nTheta = 96 # Discretization of [0,2*pi] "
   ]
  },
  {
   "cell_type": "code",
   "execution_count": 29,
   "metadata": {},
   "outputs": [
    {
     "name": "stdout",
     "output_type": "stream",
     "text": [
      "Setting the kernel traits.\n",
      "Preparing the domain data (shape,metric,...)\n",
      "Preparing the problem rhs (cost, seeds,...)\n",
      "Preparing the GPU kernel\n",
      "Running the eikonal GPU kernel\n",
      "GPU kernel eikonal ran for 0.27246665954589844 seconds, and 183 iterations.\n",
      "Post-Processing\n"
     ]
    }
   ],
   "source": [
    "curvOut = curvIn.Run()"
   ]
  },
  {
   "cell_type": "markdown",
   "metadata": {},
   "source": [
    "The lower bound on the curvature radius, and the fixed starting and ending orientations, yield trajectories substantially distinct from the non-curvature penalized ones."
   ]
  },
  {
   "cell_type": "code",
   "execution_count": 30,
   "metadata": {},
   "outputs": [],
   "source": [
    "plt.title(\"Optimal Dubins trajectories, detection occluded by obstacles.\")\n",
    "plt.contourf(*X,curvIn['cost'],cmap=\"Greys\")\n",
    "plt.axis('equal')\n",
    "for geo in curvOut['geodesics']: plt.plot(*geo[:2])"
   ]
  },
  {
   "cell_type": "markdown",
   "metadata": {},
   "source": [
    "## 2. Orientation dependent cost\n",
    "\n",
    "In this section, we consider orientation dependent detection probabilities. By construction, the isotropic fast marching method is therefore excluded."
   ]
  },
  {
   "cell_type": "markdown",
   "metadata": {},
   "source": [
    "### 2.1 Radar cross section\n",
    "\n",
    "The *radar cross-section* (RCS) is a measure of how detectable an object is by radar, see [wikipedia](https://en.wikipedia.org/wiki/Radar_cross-section). The radar cross section depends on many factors, such as the object material and the radar wavelength. Another factor of interest is the relative orientation of the radar and object. Computing the radar cross section is a numerical challenge in itself.\n",
    "\n",
    "Fix the positions of the radar and object, and denote by $\\theta$ the heading direction of the later. The RCS is often a complicated, and oscillating function of $\\theta$. However, simpler behavior also makes sense: for instance, furtive planes are often designed to be especially hard to detect from the front, so as to approach their objective undetected, at the expense of the sides and possibly the back. \n",
    "\n",
    "We illustrate such a model here, using the asymmetric quadratic metrics class, of the form\n",
    "$$\n",
    "    F_x(v) := \\sqrt{ <v,M(x) v> + <w(x),v>_+^2},\n",
    "$$\n",
    "where $M$ is a field of positive definite matrices, and $w$ is a vector field.\n",
    "\n",
    "We use an ad-hoc function to produce a metric with the desired shape."
   ]
  },
  {
   "cell_type": "code",
   "execution_count": 31,
   "metadata": {},
   "outputs": [],
   "source": [
    "radar_direction = xp.array([1.,0.5])\n",
    "radar_front_detection = 0.5\n",
    "radar_back_detection = 1\n",
    "radar_side_detection = 2\n",
    "metric = Metrics.AsymQuad.needle(radar_direction,radar_front_detection,radar_side_detection,radar_back_detection)"
   ]
  },
  {
   "cell_type": "code",
   "execution_count": 32,
   "metadata": {},
   "outputs": [],
   "source": [
    "u,v = radar_direction/norm(radar_direction)\n",
    "assert np.allclose(ad.array([metric.norm([u,v]),metric.norm([-u,-v]),metric.norm([v,-u]),metric.norm([-v,u])]),\n",
    "                [radar_front_detection,radar_back_detection,radar_side_detection,radar_side_detection])"
   ]
  },
  {
   "cell_type": "markdown",
   "metadata": {},
   "source": [
    "Alternatively the metric may be specified directly in terms of its quadratic and linear parts."
   ]
  },
  {
   "cell_type": "code",
   "execution_count": 33,
   "metadata": {},
   "outputs": [
    {
     "data": {
      "text/plain": [
       "(array([[ 1.0000002, -1.4999999],\n",
       "        [-1.4999999,  3.25     ]], dtype=float32),\n",
       " array([-0.77459663, -0.38729832], dtype=float32))"
      ]
     },
     "execution_count": 33,
     "metadata": {},
     "output_type": "execute_result"
    }
   ],
   "source": [
    "metric.m, metric.w"
   ]
  },
  {
   "cell_type": "markdown",
   "metadata": {},
   "source": [
    "The achievable distance for a unit probability of detection is longest when one is heading toward the radar. A crucial point is that the level lines of this distance are convex (this holds by construction of asymmetric quadratic norms). \n",
    "The case of a non-convex profile is discussed in the next section."
   ]
  },
  {
   "cell_type": "code",
   "execution_count": 34,
   "metadata": {},
   "outputs": [],
   "source": [
    "plt.title(\"Achievable Distance for unit probability of detection\")\n",
    "plt.axis('equal')\n",
    "plt.scatter(0,0) # Initial position\n",
    "plt.quiver(0,0,*radar_direction) # Arrow points towards radar\n",
    "plt.contour(*X,metric.norm(X),levels=[1]);"
   ]
  },
  {
   "cell_type": "markdown",
   "metadata": {},
   "source": [
    "The detection probability density is the inverse of the above distance, and is thus anisotropic - depending on the direction of travel. It is closely related to the radar cross section."
   ]
  },
  {
   "cell_type": "code",
   "execution_count": 35,
   "metadata": {},
   "outputs": [],
   "source": [
    "plt.title(\"Detection probability density (~ RCS), depending on orientation\")\n",
    "θ = xp.linspace(0,2*np.pi,100)\n",
    "u = ad.array([np.cos(θ),np.sin(θ)])\n",
    "plt.plot(*(u * metric.norm(u)))\n",
    "plt.scatter(0,0) # Center point\n",
    "plt.quiver(0,0,*radar_direction) # Arrow points towards radar\n",
    "plt.axis('equal');"
   ]
  },
  {
   "cell_type": "markdown",
   "metadata": {},
   "source": [
    "We build the RCS related metric as a product of two factors : \n",
    "* An anisotropic part, depending on the relative orientation of the detector and target\n",
    "* An isotropic part, decaying as one moves away from the radar."
   ]
  },
  {
   "cell_type": "code",
   "execution_count": 36,
   "metadata": {},
   "outputs": [],
   "source": [
    "def RCSMetric(radar_pos,X,*args,**kwargs):\n",
    "    X,radar_pos = fd.common_field((X,radar_pos),depths=(1,1))\n",
    "    u = radar_pos - X # Radar direction, for anisotropic part\n",
    "    r = norm(u,axis=0) # Radar distance, for the isotropic part\n",
    "    return Metrics.AsymQuad.needle(u,*args,**kwargs).with_cost(0.5+1/(1+r**2))"
   ]
  },
  {
   "cell_type": "code",
   "execution_count": 37,
   "metadata": {},
   "outputs": [],
   "source": [
    "hfmIn['model'] = 'AsymmetricQuadratic2'\n",
    "hfmIn.pop('cost',None);"
   ]
  },
  {
   "cell_type": "code",
   "execution_count": 38,
   "metadata": {},
   "outputs": [],
   "source": [
    "detections = (0.5,2,1) # forward, side, reverse\n",
    "radar_pos = [0,1.]\n",
    "hfmIn['metric'] = RCSMetric(radar_pos,X,*detections)"
   ]
  },
  {
   "cell_type": "code",
   "execution_count": 39,
   "metadata": {},
   "outputs": [
    {
     "name": "stdout",
     "output_type": "stream",
     "text": [
      "Setting the kernel traits.\n",
      "Preparing the domain data (shape,metric,...)\n",
      "Preparing the problem rhs (cost, seeds,...)\n",
      "Preparing the GPU kernel\n",
      "Running the eikonal GPU kernel\n",
      "GPU kernel eikonal ran for 0.04052877426147461 seconds, and 60 iterations.\n",
      "Post-Processing\n"
     ]
    }
   ],
   "source": [
    "hfmOut = hfmIn.Run() "
   ]
  },
  {
   "cell_type": "markdown",
   "metadata": {},
   "source": [
    "The optimal trajectories move preferentially towards and away from the radar, avoiding showing the side of the vehicle.\n",
    "Amusingly, many trajectories go through the radar position, and in this way completely avoid showing their side. This could be avoided by further increasing the detection probability very close to the radar."
   ]
  },
  {
   "cell_type": "code",
   "execution_count": 40,
   "metadata": {},
   "outputs": [],
   "source": [
    "plt.title(\"Optimal trajectories\")\n",
    "plt.scatter(*radar_pos,color='red')\n",
    "for geo in hfmOut['geodesics']: plt.plot(*geo)"
   ]
  },
  {
   "cell_type": "markdown",
   "metadata": {},
   "source": [
    "In the case of several detection devices, we can sum the components of the corresponding asymmetric quadratic metrics. This yields an underestimate of the sum of the corresponding detection probabilities (whose algebraic structure is not suitable for the HFM algorithm)."
   ]
  },
  {
   "cell_type": "code",
   "execution_count": 41,
   "metadata": {},
   "outputs": [],
   "source": [
    "metrics = [RCSMetric(pos,X,*detections) for pos in radars_pos.T]\n",
    "hfmIn['metric'] = Metrics.AsymQuad(sum(metric.m for metric in metrics), sum(metric.w for metric in metrics))\n",
    "hfmIn.SetUniformTips((8,6))"
   ]
  },
  {
   "cell_type": "code",
   "execution_count": 42,
   "metadata": {},
   "outputs": [
    {
     "name": "stdout",
     "output_type": "stream",
     "text": [
      "Setting the kernel traits.\n",
      "Preparing the domain data (shape,metric,...)\n",
      "Preparing the problem rhs (cost, seeds,...)\n",
      "Preparing the GPU kernel\n",
      "Running the eikonal GPU kernel\n",
      "GPU kernel eikonal ran for 0.032999515533447266 seconds, and 62 iterations.\n",
      "Post-Processing\n"
     ]
    }
   ],
   "source": [
    "hfmOut = hfmIn.Run()"
   ]
  },
  {
   "cell_type": "markdown",
   "metadata": {},
   "source": [
    "Again, several trajectories go through the radar positions, whereas others stay away from them."
   ]
  },
  {
   "cell_type": "code",
   "execution_count": 43,
   "metadata": {},
   "outputs": [],
   "source": [
    "plt.title(\"Optimal trajectories, custom RCS\")\n",
    "plt.scatter(*radars_pos,color='red')\n",
    "for geo in hfmOut['geodesics']: plt.plot(*geo)"
   ]
  },
  {
   "cell_type": "markdown",
   "metadata": {},
   "source": [
    "### 2.2 Blind radar velocities\n",
    "\n",
    "We consider a radar detection device which is unable (or barely able) to detect objects whose radial velocity is the multiple of a given reference speed. We do not enter the modeling details of this phenomenon, but only mention that the reference radial speed is related to the frequency used by the radar."
   ]
  },
  {
   "cell_type": "code",
   "execution_count": 44,
   "metadata": {},
   "outputs": [],
   "source": [
    "def Visibility(x,v,radar_pos,reference_speed=1):\n",
    "    x,v,radar_pos = fd.common_field((x,v,radar_pos),depths=(1,1,1))\n",
    "    u = radar_pos - x \n",
    "    r = norm(u,axis=0) # Distance toward radar\n",
    "    u/=r # Unit vector towards radar\n",
    "    radial_v = lp.dot_VV(u,v) # Radial speed\n",
    "    \n",
    "    anisotropic_cost = 1.5-np.cos(radial_v/reference_speed)\n",
    "    isotropic_cost = 1/(1+r**2)\n",
    "    return anisotropic_cost*isotropic_cost"
   ]
  },
  {
   "cell_type": "markdown",
   "metadata": {},
   "source": [
    "For simplicity, we assume that the target velocity norm is constant. As a result, the detection probability depends on its heading direction."
   ]
  },
  {
   "cell_type": "code",
   "execution_count": 45,
   "metadata": {},
   "outputs": [],
   "source": [
    "θ=xp.linspace(0,2*np.pi,200)\n",
    "v=ad.array([np.cos(θ),np.sin(θ)])\n",
    "radar_pos = [1,0.]\n",
    "vis = Visibility([0,0.],v,radar_pos,0.1)"
   ]
  },
  {
   "cell_type": "markdown",
   "metadata": {},
   "source": [
    "In this model:\n",
    "* It is (maximally) safe to move orthogonally to the radar direction.\n",
    "* Some specific angles are (maximally) safe too. "
   ]
  },
  {
   "cell_type": "code",
   "execution_count": 46,
   "metadata": {},
   "outputs": [],
   "source": [
    "plt.title(\"Achievable Distance for unit probability of detection\")\n",
    "plt.axis('equal')\n",
    "plt.plot(*v/vis)\n",
    "plt.scatter(0,0) # Starting position\n",
    "plt.quiver(0,0,*radar_pos); #Arrow toward the radar position"
   ]
  },
  {
   "cell_type": "markdown",
   "metadata": {},
   "source": [
    "In contrast with the RCS model considered previously, the profile of the achievable distance for a unit probability of detection is highly non-convex. This means that in order to move in specific directions, the straight line is less efficient than a broken path alternating at high frequency between two close heading directions. \n",
    "\n",
    "As a result, it is not possible in general to find optimal trajectories unless some sort of curvature penalization is introduced.\n",
    "Note that curvature penalization may be introduced in any model, as illustrated in the previous sections. The specificity of this model is that it looses meaning (the optimal paths need not exist) without it.\n",
    "\n",
    "We use the Dubins model, with a lower bound on curvature."
   ]
  },
  {
   "cell_type": "code",
   "execution_count": 47,
   "metadata": {},
   "outputs": [],
   "source": [
    "curvIn = Eikonal.dictIn({\n",
    "    'model':'Dubins2',\n",
    "    'xi':0.4, # Min radius of curvature\n",
    "    'seed':(*hfmIn['seed'],0.), # Fixed initial tangent\n",
    "    'tips_Unoriented':hfmIn['tips'], # Free final tangent\n",
    "})\n",
    "curvIn.SetRect([[-3,3],[-2,2]],dimx=300)\n",
    "curvIn.nTheta = 96 # Discretization of [0,2*pi] "
   ]
  },
  {
   "cell_type": "code",
   "execution_count": 48,
   "metadata": {},
   "outputs": [],
   "source": [
    "grid = curvIn.Grid() # Dubins model\n",
    "X = grid[:2] # Spatial coordinates\n",
    "θ = grid[2] # Angular coordinate"
   ]
  },
  {
   "cell_type": "code",
   "execution_count": 49,
   "metadata": {},
   "outputs": [],
   "source": [
    "v=[np.cos(θ),np.sin(θ)] # Vehicle moves at unit speed, where it is headed\n",
    "radar_pos = [1,1]\n",
    "curvIn['cost'] = 0.5 + Visibility(X,v,radar_pos,0.1)"
   ]
  },
  {
   "cell_type": "code",
   "execution_count": 50,
   "metadata": {},
   "outputs": [
    {
     "name": "stdout",
     "output_type": "stream",
     "text": [
      "Setting the kernel traits.\n",
      "Preparing the domain data (shape,metric,...)\n",
      "Preparing the problem rhs (cost, seeds,...)\n",
      "Preparing the GPU kernel\n",
      "Running the eikonal GPU kernel\n",
      "GPU kernel eikonal ran for 0.2694985866546631 seconds, and 160 iterations.\n",
      "Post-Processing\n"
     ]
    }
   ],
   "source": [
    "curvOut = curvIn.Run()"
   ]
  },
  {
   "cell_type": "markdown",
   "metadata": {},
   "source": [
    "The optimal trajectories appear to be mostly made of arcs of spirals, corresponding to navigation with a fixed heading relative to the radar. The heading is chosen among the few possibilities which minimize the detection probability.\n",
    "\n",
    "The lower bound constraint on the radius of curvature, encoded in Dubins model, is active too, and its effect is visible on a number of trajectories."
   ]
  },
  {
   "cell_type": "code",
   "execution_count": 51,
   "metadata": {
    "scrolled": true
   },
   "outputs": [],
   "source": [
    "plt.scatter(*radar_pos,color='blue')\n",
    "for geo in curvOut['geodesics_Unoriented']: plt.plot(*geo[:2])"
   ]
  },
  {
   "cell_type": "code",
   "execution_count": null,
   "metadata": {},
   "outputs": [],
   "source": []
  }
 ],
 "metadata": {
  "celltoolbar": "Format de la Cellule Texte Brut",
  "kernelspec": {
   "display_name": "Python 3 (ipykernel)",
   "language": "python",
   "name": "python3"
  },
  "language_info": {
   "codemirror_mode": {
    "name": "ipython",
    "version": 3
   },
   "file_extension": ".py",
   "mimetype": "text/x-python",
   "name": "python",
   "nbconvert_exporter": "python",
   "pygments_lexer": "ipython3",
   "version": "3.9.10"
  }
 },
 "nbformat": 4,
 "nbformat_minor": 4
}