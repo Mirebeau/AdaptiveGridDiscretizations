{
 "cells": [
  {
   "cell_type": "markdown",
   "metadata": {},
   "source": [
    "# The HFM library - A fast marching solver with adaptive stencils\n",
    "\n",
    "## Part : Algorithmic enhancements to the fast marching method\n",
    "## Chapter : Geodesic computation"
   ]
  },
  {
   "cell_type": "markdown",
   "metadata": {},
   "source": [
    "The fast marching method is a numerical scheme devoted to solving a Partial Differential Equation (PDE), the eikonal equation, which characterizes the arrival time of a front in a domain. In order to extract the corresponding minimal paths, a subsequent step is necessary, which involves solving an Ordinary Differential Equation (ODE). \n",
    "\n",
    "The HFM library and the Eikonal module offer state of the art implementations these two methods, written in C++ and cuda respectively. However, for pedagogical purposes, we also illustrate these tools with a Python implementation. The present notebook is devoted to geodesic computation, whereas the fast marching method is introduced in this other [notebook](../Notebooks_NonDiv/EikonalEulerian.ipynb)."
   ]
  },
  {
   "cell_type": "markdown",
   "metadata": {},
   "source": [
    "[**Summary**](Summary.ipynb) of volume Fast Marching Methods, this series of notebooks.\n",
    "\n",
    "[**Main summary**](../Summary.ipynb) of the Adaptive Grid Discretizations \n",
    "\tbook of notebooks, including the other volumes.\n",
    "\n",
    "# Table of contents\n",
    "  * [1. Theoretical tools](#1.-Theoretical-tools)\n",
    "    * [1.1 Integrating the geodesic flow](#1.1-Integrating-the-geodesic-flow)\n",
    "    * [1.2 Solving Hamilton's equations of motion](#1.2-Solving-Hamilton's-equations-of-motion)\n",
    "  * [2. Isotropic metrics and the Brachistochrone problem](#2.-Isotropic-metrics-and-the-Brachistochrone-problem)\n",
    "    * [2.1 Explicit solution: the cycloid.](#2.1-Explicit-solution:-the-cycloid.)\n",
    "    * [2.2 Numerical solution using the fast marching method](#2.2-Numerical-solution-using-the-fast-marching-method)\n",
    "    * [2.3 Solving Hamilton's equations of motion](#2.3-Solving-Hamilton's-equations-of-motion)\n",
    "    * [2.4 Initial momentum from the PDE solution](#2.4-Initial-momentum-from-the-PDE-solution)\n",
    "    * [2.5 The geodesic flow](#2.5-The-geodesic-flow)\n",
    "  * [3. Riemannian metrics, and the fastest slide on a landscape](#3.-Riemannian-metrics,-and-the-fastest-slide-on-a-landscape)\n",
    "    * [3.1 Numerical solution using the fast-marching method](#3.1-Numerical-solution-using-the-fast-marching-method)\n",
    "    * [3.2 Integrating the flow](#3.2-Integrating-the-flow)\n",
    "    * [3.3 Geodesic shooting](#3.3-Geodesic-shooting)\n",
    "\n",
    "\n",
    "\n",
    "This Python&reg; notebook is intended as documentation and testing for the [HamiltonFastMarching (HFM) library](https://github.com/mirebeau/HamiltonFastMarching), which also has interfaces to the Matlab&reg; and Mathematica&reg; languages. \n",
    "More information on the HFM library in the manuscript:\n",
    "* Jean-Marie Mirebeau, Jorg Portegies, \"Hamiltonian Fast Marching: A numerical solver for anisotropic and non-holonomic eikonal PDEs\", 2019 [(link)](https://hal.archives-ouvertes.fr/hal-01778322)\n",
    "\n",
    "Copyright Jean-Marie Mirebeau, University Paris-Sud, CNRS, University Paris-Saclay"
   ]
  },
  {
   "cell_type": "markdown",
   "metadata": {},
   "source": [
    "## 0. Importing the required libraries"
   ]
  },
  {
   "cell_type": "code",
   "execution_count": 1,
   "metadata": {},
   "outputs": [],
   "source": [
    "import sys; sys.path.insert(0,\"..\") # Allow import of agd from parent directory (useless if conda package installed)\n",
    "#from Miscellaneous import TocTools; print(TocTools.displayTOC('HamiltonianShooting','FMM'))"
   ]
  },
  {
   "cell_type": "code",
   "execution_count": 2,
   "metadata": {},
   "outputs": [],
   "source": [
    "from agd import Eikonal\n",
    "from agd import LinearParallel as lp\n",
    "from agd import Metrics\n",
    "from agd.ODE.hamiltonian import GenericHamiltonian,MetricHamiltonian\n",
    "from agd import AutomaticDifferentiation as ad\n",
    "from agd import FiniteDifferences as fd\n",
    "from agd.Plotting import savefig; #savefig.dirName = 'Images/HamiltonianShooting'\n",
    "from agd import Interpolation\n",
    "\n",
    "norm_infinity = ad.Optimization.norm_infinity\n",
    "Interp = Interpolation.UniformGridInterpolation"
   ]
  },
  {
   "cell_type": "code",
   "execution_count": 3,
   "metadata": {},
   "outputs": [],
   "source": [
    "import numpy as np\n",
    "import scipy.integrate\n",
    "from matplotlib import pyplot as plt"
   ]
  },
  {
   "cell_type": "code",
   "execution_count": 4,
   "metadata": {},
   "outputs": [],
   "source": [
    "def reshape_input_flatten_output(f,vdim):\n",
    "    return lambda q,*args,**kwargs : f(q.reshape((vdim,q.size//vdim)),*args,**kwargs).flatten()\n",
    "\n",
    "def add_patches(hfmIn):\n",
    "    \"\"\"Draws a bounding rectangle, and scatters the seeds\"\"\"\n",
    "    plt.gca().add_patch(plt.Rectangle(hfmIn['origin'],*(hfmIn['dims']*hfmIn['gridScale']),\n",
    "                                      linewidth=1,edgecolor='black',facecolor='none'))\n",
    "    plt.gca().add_patch(plt.Circle(np.array(hfmIn['seeds']).T,3*hfmIn['gridScale']))"
   ]
  },
  {
   "cell_type": "code",
   "execution_count": 5,
   "metadata": {},
   "outputs": [],
   "source": [
    "def reload_packages():\n",
    "    from Miscellaneous.rreload import rreload\n",
    "    global ad,lp,fd,Metrics,Interp,GenericHamiltonian,MetricHamiltonian\n",
    "    ad,lp,fd,Metrics,Interp,GenericHamiltonian,MetricHamiltonian = rreload([ad,lp,fd,Metrics,Interp,GenericHamiltonian,MetricHamiltonian],rootdir=\"../..\")"
   ]
  },
  {
   "cell_type": "markdown",
   "metadata": {},
   "source": [
    "### 0.1 Optional configuration\n",
    "Uncomment the following line to use the GPU eikonal solver. (Comment it for the CPU eikonal solver.)"
   ]
  },
  {
   "cell_type": "code",
   "execution_count": 6,
   "metadata": {
    "editable": true,
    "slideshow": {
     "slide_type": ""
    },
    "tags": [
     "EikonalGPU_config"
    ]
   },
   "outputs": [],
   "source": [
    "#Eikonal.dictIn.default_mode = 'gpu_transfer'"
   ]
  },
  {
   "cell_type": "markdown",
   "metadata": {},
   "source": [
    "## 1. Theoretical tools\n",
    "\n",
    "In order to define minimal path problem, one needs several ingredients.\n",
    "Consider a domain $\\Omega \\subset R^d$, and a metric $F : \\Omega \\times R^d \\to R_+$ denoted\n",
    "$$\n",
    "    (q,v) \\mapsto F_q(v).\n",
    "$$\n",
    "Assume that $F$ is $1$-homogeneous, convex, and definite (vanishes only at the origin) w.r.t. the second variable.\n",
    "\n",
    "Let also $q_* \\in \\Omega$, referred to as the seed point, and define $u : \\Omega \\to R$ as the length of the shortest path from $q_*$ to any given point, w.r.t. the metric. For any $q \\in \\Omega$\n",
    "$$\n",
    "    u(q) := \\min_{\\gamma \\in \\Gamma( q_* , q) } \\int_0^1 F_{\\gamma(t)}(\\gamma'(t)) \\mathrm{d}t.\n",
    "$$\n",
    "We denoted by $\\Gamma(q_0,q_1)$ the collection of all paths $\\gamma : [0,1] \\to \\Omega$ with Lipschitz regularity and such that $\\gamma(0) = q_0$ and $\\gamma(1)=q_1$.\n",
    "\n",
    "It is known that $u$ is the unique viscosity solution to the eikonal equation\n",
    "$$\n",
    "    F_q^*(\\nabla u(q)) = 1\n",
    "$$\n",
    "for all $q \\in \\Omega\\setminus\\{q_*\\}$, with $u(q_*)=0$ and outflow boundary conditions on $\\partial \\Omega$. We denoted by $F_q^*$ the dual metric, defined by \n",
    "$$\n",
    "    F_q^*(p) := \\sup\\{<p,v>; F_q(v)\\leq 1\\}.\n",
    "$$\n",
    "Solving the eikonal equation is the purpose of a PDE solver, such as the fast marching method, see [notebook](../Notebooks_NonDiv/EikonalEulerian.ipynb). In this notebook, we assume that $u$ has already been numerically computed, and that one would like to find the minimal geodesic path from the seed $q_*$ to a given $q \\in \\Omega$.\n",
    "\n",
    "Two approaches can be considered:\n",
    "* Integrating the geodesic flow, which is a sort of gradient descent of the function $u$ distorted by the metric. This is the most robust method, in particular in the presence of obstacles, and a variant of it is implemented in the HFM library.\n",
    "* Solving Hamilton's equations of motion, with an initial momentum proportional to $\\nabla u(q)$. The originality of this ODE is that it is completely autonomous: the solution $u$ to the eikonal equation is only used to provide the initial condition.\n",
    "\n",
    "We describe these approaches in more detail below, and prepare some tools needed for the implementation."
   ]
  },
  {
   "cell_type": "markdown",
   "metadata": {},
   "source": [
    "### 1.1 Integrating the geodesic flow\n",
    "\n",
    "This approach to geodesic computation is based on the observation that geodesics follow the direction of greatest slope of the value function, w.r.t the metric.\n",
    "More precisely, the geodesic $\\gamma$ from a seed $q_*$ to a given tip $q$, parametrized at constant speed w.r.t the metric, obeys the ordinary differential equation\n",
    "$$\n",
    "    \\gamma'(t) = V(\\gamma(t)), \n",
    "$$\n",
    "with terminal condition $\\gamma(T) = q$. \n",
    "We denoted by $T =  u(q)$ is the geodesic distance from the seed $q_*$ to the tip $q$, and by $V : \\Omega \\to R^d$ the geodesic flow, gradient of the distance *w.r.t the metric*. In the Riemannian case\n",
    "$$\n",
    "    V(q) = M(q)^{-1} \\nabla u(q),\n",
    "$$\n",
    "where $\\nabla$ denotes the usual Euclidean gradient. The fast marching algorithm produces, as a byproduct, an upwind approximation of this vector field.\n",
    "We illustrate below a such an approach for geodesic computation. \n",
    "\n",
    "**Note on the HFM implementation.**\n",
    "The implementations of geodesic computation presented below and in the HFM library are related but also have significant differences. The HFM implementation only uses a first order interpolation of the flow, but has mechanisms designed to improve robustness in the presence of obstacles, and for problems whose distance maps are discontinuous (e.g. [Dubins model](Curvature.ipynb)), etc. It also has different stopping criteria.\n",
    "\n",
    "**Note on interpolation of $V$ and regularity.**\n",
    "The geodesic flow $V : \\Omega \\to R^d$ and the value function $u:\\Omega \\to R^d$ have a singularity at the seed $q_*$. In order to extend $V$ from the computation grid to the domain, the function below uses the quotient \n",
    "$$\n",
    "    I(u V)/\\sqrt{I(u^2)}\n",
    "$$\n",
    "of the interpolations of $uV$ and $u^2$. Let us explain why $u^2$ and $u V$ are good candidates for interpolation. \n",
    "\n",
    "The squared distance $u^2$ is smooth, far from the cut-locus, in the absence of obstacles, and when the metric is Riemannian. This follows from the expression (notice the squares)\n",
    "$$\n",
    "    u(q)^2 = \\min_{\\gamma \\in \\Gamma(q_*,q)} \\int_0^1 F_{\\gamma(t)}(\\gamma'(t))^2 \\mathrm{d} t\n",
    "$$\n",
    "which has better properties that the above definition of $q$ (without squares). E.g. the lack of invariance to reparametrization (so that there is a unique minimizer) and the smoothness of $v\\mapsto F_q(v)^2$ (when $F$ is a Riemannian metric).\n",
    "\n",
    "Likewise, the product $u V$ of the flow times the distance to the seed point $u : \\Omega \\to R_+$ is smooth, under the same assumptions.  Indeed, it is the gradient of the path energy $u^2$, which is smooth, see the next section. "
   ]
  },
  {
   "cell_type": "code",
   "execution_count": 7,
   "metadata": {},
   "outputs": [],
   "source": [
    "def value_flow_i(hfmIn,hfmOut,**kwargs):\n",
    "    \"\"\"Returns the distance to the seed, and the upwind geodesic flow, interpolated.\"\"\"\n",
    "    grid = hfmIn.Grid()\n",
    "    value = hfmOut['values']\n",
    "    flow = hfmOut['flow']\n",
    "    \n",
    "    flowXvalue_i  = Interp(grid, flow*value,**kwargs)\n",
    "    valueXvalue_i = Interp(grid,value*value,**kwargs)\n",
    "    \n",
    "    def value_i(q): return np.sqrt(np.maximum(0.,valueXvalue_i(q)))\n",
    "    def  flow_i(q,t=None,mult=1): return mult*flowXvalue_i(q)/value_i(q)\n",
    "    \n",
    "    return value_i,flow_i"
   ]
  },
  {
   "cell_type": "markdown",
   "metadata": {},
   "source": [
    "**Possible improvements.**\n",
    "Some numerical methods use the path computed by the above numerical method as a first guess, which is then improve to reduce length and more closely satisfy Hamilton's equations of motion using e.g. a homotopy method (small deformations of the path)."
   ]
  },
  {
   "cell_type": "markdown",
   "metadata": {},
   "source": [
    "### 1.2 Solving Hamilton's equations of motion\n",
    "\n",
    "The hamiltonian associated to a (minimal) geodesic problem reads \n",
    "$$\n",
    "    H(q,p) := \\frac 1 2 F_q^*(p)^2,\n",
    "$$\n",
    "where $F^*$ is the dual metric, see above. It is known that geodesics obey Hamilton's equations of motion\n",
    "$$\n",
    "    \\frac {dq}{dt} = \\frac {\\partial H}{\\partial p}, \\quad \\frac {dp}{dt} = -\\frac {\\partial H}{\\partial q},\n",
    "$$\n",
    "where $q(t) = \\gamma(t)$ is the geodesic path, and $p(t) = \\eta(t)$ is the impulsion which can also be regarded as an optimal control. \n",
    "\n",
    "**Initial momentum**\n",
    "Hamilton's equations are autonomous ODEs, and are also considered in this [notebook on dense automatic differentiation](../Notebooks_Algo/Dense.ipynb), and this [notebook on the wave equation](../Notebooks_Div/Time1D_Div.ipynb). In the context of minimal geodesic computation, from a seed $q_*$ to a given point $q$, the difficulty lies in finding the correct initial momentum, or final momentum if the equation is solved backwards in time.\n",
    "\n",
    "For that purpose, the numerical solution of the eikonal PDE provides valuable information. Indeed, one shows that the adequate final momentum is precisely\n",
    "$$\n",
    "    p = \\nabla U(q),\n",
    "$$\n",
    "where $U = \\frac 1 2 u^2$ and $u: \\Omega \\to R_+$ is the distance map from the seed $q_*$. If the terminal condition is $(q,\\nabla U(q))$ at time $t=1$, for some $q\\in \\Omega$ the the geodesic goes through the seed $q_*$ at time $t=0$. The quantity $U(q)$ is often referred to as the energy of the minimal path from $q_*$ to $q\\in \\Omega$.\n",
    "\n",
    "As discussed in the previous section, $U$ is smooth far from the cut-locus, including at the seed point, under suitable assumptions (Riemannian metric, without obstacles). It is therefore a good candidate for interpolation.\n",
    "\n",
    "**Limitation.** This approach only works if the Riemannian geodesic between the seed and tip remains in the computational domain interior at all times, and does not meet any obstacles."
   ]
  },
  {
   "cell_type": "code",
   "execution_count": 8,
   "metadata": {},
   "outputs": [],
   "source": [
    "def energy_impulsion_i(hfmIn,hfmOut,**kwargs):\n",
    "    \"\"\"Returns the energy x -> u(x)^2/2, and its euclidean gradient referred to as the impulsion, interpolated.\"\"\"\n",
    "    grid = hfmIn.Grid()\n",
    "    values = hfmOut['values']\n",
    "    \n",
    "    energy_i = Interp(grid,0.5*values**2,**kwargs)\n",
    "    \n",
    "    def impulsion_i(q):\n",
    "        q_ad = ad.Dense.identity(constant=q,shape_free=q.shape[:1])\n",
    "        return energy_i(q_ad).gradient()\n",
    "    \n",
    "    return energy_i,impulsion_i"
   ]
  },
  {
   "cell_type": "markdown",
   "metadata": {},
   "source": [
    "**Possible improvement.**\n",
    "In practical applications, the final momentum $p=\\nabla U(q)$ extracted from the numerical solution to the eikonal equation, is usually only used as a first guess. An iterative optimization method refines this guess afterwards.\n",
    "\n",
    "<!---\n",
    "Solving Hamilton's geodesic equations on the interval $[0,1]$, with terminal condition\n",
    "$$\n",
    "    p_1 = \\nabla U(q_1),\n",
    "$$\n",
    "at time $t=1$, where $q_1\\in \\Omega$ is arbitrary, leads back to the seed $q_*$. \n",
    "Riemannian metrics are symmetric, we can solve forward in time, only reversing the momentum. \n",
    "In other words letting $q_0 \\in \\Omega$ be arbitrary, and $p_0 := \\nabla U(q0)$ leads at time $1$ to the seed.\n",
    "--->\n"
   ]
  },
  {
   "cell_type": "markdown",
   "metadata": {},
   "source": [
    "## 2. Isotropic metrics and the Brachistochrone problem\n",
    "\n",
    "A brachistochrone curve, in mathematics and physics, is a curve of fastest descent, between two points in a uniform gravity field, and neglecting friction. The standard brachistochrone problem assumes that the curve can be constructed  without constraints in free space and admits an explicit solution: the cycloid. See [Wikipedia](https://en.wikipedia.org/wiki/Brachistochrone_curve).\n",
    "\n",
    "In this section, we recover this explicit solution numerically.\n",
    "Consider a point of mass $m$, at altitude $h$, with velocity $v$, and denote by $g$ the intensity of the gravity field. The total energy (kinetic + potential) of this point is \n",
    "$$\n",
    "    E = m g h + \\frac 1 2 m \\|v\\|^2,\n",
    "$$\n",
    "and it is conserved along the motion, provided there is no friction.\n",
    "\n",
    "For simplicity, but without loss of generality, we assume that $m = 1$ and $g=1$, and denote $z = -h$. Up to a vertical translation, we may also assume that the conserved energy equals zero. Then we obtain $-z+\\frac 1 2 \\|v\\|^2=0$, equivalently\n",
    "$$\n",
    "    \\frac {\\|v\\|^2}{2 z} = 1.\n",
    "$$\n",
    "Thus the brachistochrone problem amounts to find a geodesic, between two given points, for an isotropic metric whose (half squared) expression is given above. More explicitly, denoting by $q=(x,z)$ the position, and $v$ the speed\n",
    "$$\n",
    "    F_q(v) := \\frac {\\|v\\|}{\\sqrt z}.\n",
    "$$\n",
    "The matrix form, the Riemannian metric at $q=(x,z) \\in R \\times R_{++}$ reads\n",
    "$$\n",
    "    M(q) = M(x,z) = \\frac {\\mathrm{Id}} z.\n",
    "$$\n",
    "\n",
    "**A closely related model.** The Poincare model of the hyperbolic plane is posed on the same domain $R\\times R_{+++}$ and involves the metric $M(x,z) = \\mathrm{Id} / {z^2}$ (note the square in the denominator). One significant difference is that the Poincare model is geodesically complete, whereas the Brachistochrone model isn't (geodesics reach the boundary $R \\times \\{0\\}$ in finite time).\n",
    "The Poincare half plane model naturally arises in the context of [Fisher-Rao metrics](FisherRao.ipynb)."
   ]
  },
  {
   "cell_type": "markdown",
   "metadata": {},
   "source": [
    "### 2.1 Explicit solution: the cycloid.\n",
    "An explicit geodesic is known for the brachistochrone metric, known as the cycloid, see [Wikipedia](https://en.wikipedia.org/wiki/Brachistochrone_curve), and reading\n",
    "$$\n",
    "    (x(t),z(t)) = (t-\\sin t, 1-\\cos t),\n",
    "$$\n",
    "for $t \\in ]0,2 \\pi[$.\n",
    "All other geodesics are dilations and horizontal translations of this particular solution $\\gamma(t)=(x(t),z(t))$\n",
    "$$\n",
    "    \\lambda \\gamma(t/\\lambda) + (x_0,0),\n",
    "$$\n",
    "where $\\lambda>0$ and $x_0 \\in R$."
   ]
  },
  {
   "cell_type": "code",
   "execution_count": 9,
   "metadata": {},
   "outputs": [],
   "source": [
    "def Cycloid(t): return ad.array((t-np.sin(t),1.-np.cos(t)))"
   ]
  },
  {
   "cell_type": "markdown",
   "metadata": {},
   "source": [
    "Note : recall that the vertical axis is reversed, a.k.a. $z=-h$, w.r.t the physical brachistochrone problem."
   ]
  },
  {
   "cell_type": "code",
   "execution_count": 10,
   "metadata": {},
   "outputs": [],
   "source": [
    "plt.title('The cycloid curve, solution to the Brachistochrone problem.')\n",
    "plt.axis('equal')\n",
    "T = np.linspace(0,2*np.pi)\n",
    "plt.plot(*Cycloid(T));"
   ]
  },
  {
   "cell_type": "markdown",
   "metadata": {},
   "source": [
    "We introduce a slightly reduced interior interval, since the Brachistochrone problem becomes singular when the object velocity vanishes."
   ]
  },
  {
   "cell_type": "code",
   "execution_count": 11,
   "metadata": {},
   "outputs": [],
   "source": [
    "Tint = np.linspace(0.2,2*np.pi-0.4) #Interior interval"
   ]
  },
  {
   "cell_type": "markdown",
   "metadata": {},
   "source": [
    "Let us emphasize that the Cycloid is not parametrized at constant Euclidean velocity. Indeed\n",
    "$$\n",
    "    x(t) = \\frac{t^3} 6+ O(t^5), \\quad z(t) = \\frac {t^2} 2 + O(t^4)\n",
    "$$\n",
    "Hence the endpoints of the Cycloid on this interval are extremely close to the singularity of the metric at $z=0$.\n",
    "This raises a substantial difficulty for fast marching and shooting methods."
   ]
  },
  {
   "cell_type": "code",
   "execution_count": 12,
   "metadata": {},
   "outputs": [
    {
     "data": {
      "text/plain": [
       "array([0.00133067, 0.01993342])"
      ]
     },
     "execution_count": 12,
     "metadata": {},
     "output_type": "execute_result"
    }
   ],
   "source": [
    "Cycloid(Tint[0])"
   ]
  },
  {
   "cell_type": "markdown",
   "metadata": {},
   "source": [
    "### 2.2 Numerical solution using the fast marching method"
   ]
  },
  {
   "cell_type": "code",
   "execution_count": 13,
   "metadata": {},
   "outputs": [],
   "source": [
    "hfmIn = Eikonal.dictIn({\n",
    "    'model':'Isotropic2',\n",
    "    'seed':Cycloid(0.2),\n",
    "    'tip': Cycloid(2.*np.pi-0.2)\n",
    "})\n",
    "dx = 0.4 # Use a slightly larger domain, containing the trajectory in its interior\n",
    "hfmIn.SetRect([[-dx,2.*np.pi+dx],[0,2+dx]],dimx=300)\n",
    "X,Z = hfmIn.Grid()"
   ]
  },
  {
   "cell_type": "code",
   "execution_count": 14,
   "metadata": {},
   "outputs": [],
   "source": [
    "hfmIn['cost'] = 1./np.sqrt(Z)"
   ]
  },
  {
   "cell_type": "code",
   "execution_count": 15,
   "metadata": {},
   "outputs": [
    {
     "name": "stdout",
     "output_type": "stream",
     "text": [
      "Field verbosity defaults to 1\n",
      "Field order defaults to 1\n",
      "Field seedRadius defaults to 0\n",
      "Fast marching solver completed in 0.008327 s.\n",
      "Field geodesicSolver defaults to Discrete\n",
      "Field geodesicStep defaults to 0.25\n",
      "Field geodesicWeightThreshold defaults to 0.001\n",
      "Field geodesicVolumeBound defaults to 8.45\n"
     ]
    }
   ],
   "source": [
    "hfmOut = hfmIn.Run()"
   ]
  },
  {
   "cell_type": "code",
   "execution_count": 16,
   "metadata": {},
   "outputs": [],
   "source": [
    "plt.title(\"Numerical solution to the brachistochrone problem\") \n",
    "plt.plot(*hfmOut['geodesics'][0],label=\"Fast-Marching (1st order, no factorization)\")\n",
    "plt.plot(*Cycloid(T),label=\"Analytic\")\n",
    "plt.axis('equal'); plt.legend();"
   ]
  },
  {
   "cell_type": "code",
   "execution_count": 17,
   "metadata": {},
   "outputs": [],
   "source": [
    "hfmIn2 = hfmIn.copy()\n",
    "hfmIn2.update({\n",
    "    # Improve accuracy\n",
    "    'order':2,\n",
    "    'factoringRadius':20,\n",
    "    \n",
    "    # Export relevant data\n",
    "    'exportGeodesicFlow':True,\n",
    "    'exportValues':True,\n",
    "})"
   ]
  },
  {
   "cell_type": "markdown",
   "metadata": {},
   "source": [
    "Introducing source factorization and a higher order method yields a more accurate trajectory."
   ]
  },
  {
   "cell_type": "code",
   "execution_count": 18,
   "metadata": {},
   "outputs": [
    {
     "name": "stdout",
     "output_type": "stream",
     "text": [
      "Field verbosity defaults to 1\n",
      "Field seedRadius defaults to 2\n",
      "Field factoringPointChoice defaults to Seed\n",
      "Field exportFactoring defaults to 0\n",
      "Fast marching solver completed in 0.008005 s.\n",
      "Field geodesicSolver defaults to Discrete\n",
      "Field geodesicStep defaults to 0.25\n",
      "Field geodesicWeightThreshold defaults to 0.001\n",
      "Field geodesicVolumeBound defaults to 8.45\n"
     ]
    }
   ],
   "source": [
    "hfmOut = hfmIn2.Run()"
   ]
  },
  {
   "cell_type": "code",
   "execution_count": 19,
   "metadata": {},
   "outputs": [],
   "source": [
    "plt.title(\"Numerical solution to the brachistochrone problem\") \n",
    "plt.plot(*Cycloid(T),label=\"Analytic\")\n",
    "plt.plot(*hfmOut['geodesics'][0],label=\"Fast-Marching (2st order, factorization)\")\n",
    "plt.axis('equal'); plt.legend();"
   ]
  },
  {
   "cell_type": "code",
   "execution_count": 20,
   "metadata": {},
   "outputs": [],
   "source": [
    "plt.title('Traveltime using the Brachistochrone')\n",
    "plt.contourf(X,Z,hfmOut['values'])\n",
    "plt.axis('equal');"
   ]
  },
  {
   "cell_type": "markdown",
   "metadata": {},
   "source": [
    "### 2.3 Solving Hamilton's equations of motion\n",
    "\n",
    "Recall that the Hamiltonian is defined as the half square dual metric. For the brachistochrone, it reads\n",
    "$$\n",
    "    H(q,p) := \\frac z 2 \\|p\\|^2,\n",
    "$$\n",
    "where $q=(x,z)$ is the position, and $p$ is the momentum. In this simple case, the velocity and momentum at a point $q=(x,z)$ are related by the equation\n",
    "$$\n",
    "    v = \\frac {\\partial H}{\\partial p} = z p.\n",
    "$$\n",
    "\n",
    "For generality, we illustrate this experiment with both the analytic expression of the Hamiltonian, and an interpolated metric."
   ]
  },
  {
   "cell_type": "code",
   "execution_count": 21,
   "metadata": {},
   "outputs": [],
   "source": [
    "def Brach_A_(q,p):\n",
    "    \"\"\"Analytic Hamiltonian for the brachistochrone problem\"\"\"\n",
    "    return 0.5 * q[1] * (p**2).sum(axis=0)\n",
    "Brach_A = GenericHamiltonian(Brach_A_)"
   ]
  },
  {
   "cell_type": "code",
   "execution_count": 22,
   "metadata": {},
   "outputs": [],
   "source": [
    "Brach_I = MetricHamiltonian(Metrics.Isotropic(hfmIn['cost']),grid=hfmIn.Grid(),order=3)"
   ]
  },
  {
   "cell_type": "code",
   "execution_count": 23,
   "metadata": {},
   "outputs": [
    {
     "data": {
      "text/plain": [
       "array([0.01993342, 0.19866933])"
      ]
     },
     "execution_count": 23,
     "metadata": {},
     "output_type": "execute_result"
    }
   ],
   "source": [
    "Cycloid(ad.Dense.identity(constant=0.2)).gradient(0)"
   ]
  },
  {
   "cell_type": "code",
   "execution_count": 24,
   "metadata": {},
   "outputs": [
    {
     "name": "stdout",
     "output_type": "stream",
     "text": [
      "Exact hamiltonian flow: (array([0.01993342, 0.19866933]), array([ -0.        , -50.16700053]))\n",
      "Interpolated hamiltonian flow: (array([0.01943866, 0.19373818]), array([ 1.55307161e-15, -5.18012345e+01]))\n"
     ]
    }
   ],
   "source": [
    "t_ad = ad.Dense.identity(constant=0.2)\n",
    "Cyc_ad = Cycloid(t_ad)\n",
    "q0 = Cyc_ad.value\n",
    "v0 = Cyc_ad.gradient(0) # Initial velocity\n",
    "p0 = v0/q0[1] # Initial impulsion\n",
    "\n",
    "print(f\"Exact hamiltonian flow: {Brach_A.flow(q0,p0)}\")\n",
    "print(f\"Interpolated hamiltonian flow: {Brach_I.flow(q0,p0)}\")"
   ]
  },
  {
   "cell_type": "markdown",
   "metadata": {},
   "source": [
    "When using external ODE solvers, which ignore the Hamiltonian structure, one often needs a function which takes as input the concatenated position and impulsion, and returns their concatenated derivatives - the Hamiltonian flow.\n",
    "This is the purpose of the `.flow_cat` member of the `Hamiltonian` class."
   ]
  },
  {
   "cell_type": "code",
   "execution_count": 25,
   "metadata": {},
   "outputs": [],
   "source": [
    "QP_A,dict_A = scipy.integrate.odeint(Brach_A.flow_cat,np.concatenate((q0,p0)),Tint,full_output=True)"
   ]
  },
  {
   "cell_type": "markdown",
   "metadata": {},
   "source": [
    "The computation is a bit longer with the interpolated hamiltonian. Indeed, the `odeint` routine introduces substantial refinement, due to the lesser smoothness of the interpolated flow."
   ]
  },
  {
   "cell_type": "code",
   "execution_count": 26,
   "metadata": {},
   "outputs": [
    {
     "name": "stdout",
     "output_type": "stream",
     "text": [
      "CPU times: user 869 ms, sys: 2.92 ms, total: 872 ms\n",
      "Wall time: 873 ms\n"
     ]
    }
   ],
   "source": [
    "%%time\n",
    "QP_I,dict_I = scipy.integrate.odeint(Brach_I.flow_cat,np.concatenate((q0,p0)),Tint,full_output=True)"
   ]
  },
  {
   "cell_type": "markdown",
   "metadata": {},
   "source": [
    "The ODE with an exact hamiltonian is, clearly, accurate to a very high order. In contrast, the spline interpolation introduces a slight deviation."
   ]
  },
  {
   "cell_type": "code",
   "execution_count": 27,
   "metadata": {},
   "outputs": [],
   "source": [
    "plt.plot(*Cycloid(T),label=\"Analytic\")\n",
    "plt.plot(*QP_A[:,:2].T,label=\"ODE, exact hamiltonian\")\n",
    "plt.plot(*QP_I[:,:2].T,label=\"ODE, interpolated hamiltonian\")\n",
    "plt.axis('equal'); plt.legend();"
   ]
  },
  {
   "cell_type": "markdown",
   "metadata": {},
   "source": [
    "The Hamiltonian class provides some ODE integration schemes, in particular semi-implicit symplectic schemes. They do take into account the *Hamiltonian* structure, and may therefore offer an interesting alternative to `odeint` in some cases."
   ]
  },
  {
   "cell_type": "code",
   "execution_count": 28,
   "metadata": {},
   "outputs": [
    {
     "name": "stdout",
     "output_type": "stream",
     "text": [
      "CPU times: user 949 ms, sys: 8.43 ms, total: 957 ms\n",
      "Wall time: 953 ms\n"
     ]
    }
   ],
   "source": [
    "%%time\n",
    "Ttot = Tint[-1]-Tint[0]\n",
    "# Semi-implicit Euler (symplectic, first order scheme)\n",
    "Q_Ep,_,_ = Brach_I.integrate(q0,p0,scheme='Euler-p',T=Ttot,niter=3*len(Tint),path=True)"
   ]
  },
  {
   "cell_type": "code",
   "execution_count": 29,
   "metadata": {},
   "outputs": [
    {
     "name": "stdout",
     "output_type": "stream",
     "text": [
      "CPU times: user 1.49 s, sys: 8.24 ms, total: 1.5 s\n",
      "Wall time: 1.5 s\n"
     ]
    }
   ],
   "source": [
    "%%time\n",
    "# Semi-implicit Verlet (symplectic, second order scheme)\n",
    "Q_Vp,_,_ = Brach_I.integrate(q0,p0,scheme='Verlet-p',T=Ttot,niter=3*len(Tint),path=True)"
   ]
  },
  {
   "cell_type": "code",
   "execution_count": 30,
   "metadata": {},
   "outputs": [
    {
     "name": "stdout",
     "output_type": "stream",
     "text": [
      "CPU times: user 637 ms, sys: 3.06 ms, total: 640 ms\n",
      "Wall time: 639 ms\n"
     ]
    }
   ],
   "source": [
    "%%time\n",
    "# Runge-Kutta (non-symplectic, fourth order scheme)\n",
    "Q_RK4,_,_ = Brach_I.integrate(q0,p0,scheme='Runge-Kutta-4',T=Ttot,niter=3*len(Tint),path=True)"
   ]
  },
  {
   "cell_type": "markdown",
   "metadata": {},
   "source": [
    "Here, the Verlet scheme seems to be the most accurate."
   ]
  },
  {
   "cell_type": "code",
   "execution_count": 31,
   "metadata": {},
   "outputs": [],
   "source": [
    "plt.plot(*Cycloid(T),label=\"Analytic\")\n",
    "plt.plot(*Q_Ep,label=\"Euler semi-impl\")\n",
    "plt.plot(*Q_Vp,label=\"Verlet semi-impl\")\n",
    "plt.plot(*Q_RK4,label=\"Runge-Kutta-4 explicit\")\n",
    "\n",
    "plt.axis('equal'); plt.legend();"
   ]
  },
  {
   "cell_type": "markdown",
   "metadata": {},
   "source": [
    "### 2.4 Initial momentum from the PDE solution\n",
    "\n",
    "As discussed in the theoretical section, we use the gradient of the squared distance function as a proxy for final momentum. Since Riemannian metrics are symmetric, we can solve forward in time, only reversing the momentum. "
   ]
  },
  {
   "cell_type": "code",
   "execution_count": 32,
   "metadata": {},
   "outputs": [],
   "source": [
    "energy_i,impulsion_i = energy_impulsion_i(hfmIn2,hfmOut,order=3)"
   ]
  },
  {
   "cell_type": "code",
   "execution_count": 33,
   "metadata": {},
   "outputs": [],
   "source": [
    "q0 = np.array([3.,1.])\n",
    "p0 = -impulsion_i(q0)\n",
    "QP = scipy.integrate.odeint(Brach_A.flow_cat,np.concatenate((q0,p0)),np.linspace(0,1.))"
   ]
  },
  {
   "cell_type": "code",
   "execution_count": 34,
   "metadata": {},
   "outputs": [],
   "source": [
    "plt.plot(*QP[:,:2].T)\n",
    "plt.axis('equal');"
   ]
  },
  {
   "cell_type": "markdown",
   "metadata": {},
   "source": [
    "The function `scipy.integrate.odeint` requires flattened inputs. If independent components of the inputs are correctly specified, by setting the `shape_free` parameter of the hamiltonian, then one can integrate multiple geodesics simultaneously.\n",
    "\n",
    "<!--- \n",
    "In order to use it to integrate multiple geodesics simultaneously, we need to specify the correct shape of the variables via the `args` optional argument.\n",
    "--->"
   ]
  },
  {
   "cell_type": "code",
   "execution_count": 43,
   "metadata": {},
   "outputs": [],
   "source": [
    "np.random.seed(42); nSamples = 10\n",
    "q0 = np.array([np.random.uniform(0.,2.*np.pi,nSamples),np.random.uniform(0.2,2,nSamples)])\n",
    "p0 = -impulsion_i(q0)\n",
    "T = np.linspace(0,1)\n",
    "Brach_A.shape_free = (2,) # Number of independent components\n",
    "\n",
    "#Flatten position and impulsion, as required by odeint. Note the args argument, to inform about internal reshaping.\n",
    "QP = scipy.integrate.odeint(Brach_A.flow_cat,np.concatenate((q0,p0),axis=0).flatten(),T)\n",
    "#Expand back the solution\n",
    "Q = QP[:,:2*nSamples].reshape((len(T),2,nSamples))\n",
    "P = QP[:,2*nSamples:].reshape((len(T),2,nSamples))"
   ]
  },
  {
   "cell_type": "code",
   "execution_count": 42,
   "metadata": {},
   "outputs": [],
   "source": [
    "plt.title(\"Geodesics computed from Hamilton's equations,\\n with numerically computed initial impulsion.\")\n",
    "plt.axis('equal'); add_patches(hfmIn)\n",
    "for i in range(nSamples):\n",
    "    plt.plot(*Q[:,:,i].T)"
   ]
  },
  {
   "cell_type": "markdown",
   "metadata": {},
   "source": [
    "Note that one of the geodesics displayed above does *not* correctly reach the seed point. Indeed, that the exact geodesic reaching this tip for this model goes outside of the computational domain. Therefore the numerical geodesic is perturbed by the presence of the domain boundary, which acts as an obstacle. "
   ]
  },
  {
   "cell_type": "markdown",
   "metadata": {},
   "source": [
    "### 2.5 The geodesic flow\n",
    "\n",
    "As discussed in the theoretical section, we integrate the geodesic flow to extract the geodesic."
   ]
  },
  {
   "cell_type": "code",
   "execution_count": 44,
   "metadata": {},
   "outputs": [],
   "source": [
    "value_i,flow_i = value_flow_i(hfmIn2,hfmOut,order=3)"
   ]
  },
  {
   "cell_type": "code",
   "execution_count": 45,
   "metadata": {},
   "outputs": [],
   "source": [
    "q0 = [3.,1.]\n",
    "T = np.linspace(0,value_i(q0))\n",
    "Q = scipy.integrate.odeint(flow_i,q0,T[:-1],args=(-1,)) # dropping last time step, to avoid leaving domain"
   ]
  },
  {
   "cell_type": "code",
   "execution_count": 46,
   "metadata": {},
   "outputs": [],
   "source": [
    "plt.plot(*Q.T)\n",
    "plt.axis('equal');"
   ]
  },
  {
   "cell_type": "markdown",
   "metadata": {},
   "source": [
    "It is often more convenient to compute several geodesics simulatenously. In Python, and using tensor based programming, this may also be more computationally efficient. However, one needs for that purpose some flattening and reshaping utilities, given the constraints of the `scipy.intergrate.odeint` routine."
   ]
  },
  {
   "cell_type": "code",
   "execution_count": 47,
   "metadata": {},
   "outputs": [],
   "source": [
    "flow_r = reshape_input_flatten_output(flow_i,2) # Flow reshaped"
   ]
  },
  {
   "cell_type": "code",
   "execution_count": 48,
   "metadata": {},
   "outputs": [],
   "source": [
    "np.random.seed(42); nSamples = 10\n",
    "q0 = np.array([np.random.uniform(0.,2.*np.pi,nSamples),np.random.uniform(0.2,2,nSamples)])\n",
    "T = np.linspace(0,1)\n",
    "Q = scipy.integrate.odeint(flow_r,q0.flatten(),T[:-1],args=(-value_i(q0),)) #Dropping last time step to avoid leaving domain"
   ]
  },
  {
   "cell_type": "markdown",
   "metadata": {},
   "source": [
    "All the computed geodesics end at the desired endpoint, including the one perturbed by the presence of the domain boundary. This is in contrast with the approach based on geodesic shooting using Hamilton's equations of motion, which fails in such cases, see the previous subsection."
   ]
  },
  {
   "cell_type": "code",
   "execution_count": 49,
   "metadata": {},
   "outputs": [],
   "source": [
    "plt.title(\"Geodesics backtracked from the geodesic flow.\")\n",
    "plt.axis('equal'); add_patches(hfmIn)\n",
    "for i in range(nSamples):\n",
    "    plt.plot(Q[:,i],Q[:,i+nSamples])"
   ]
  },
  {
   "cell_type": "markdown",
   "metadata": {},
   "source": [
    "## 3. Riemannian metrics, and the fastest slide on a landscape\n",
    "\n",
    "We consider a variant of the Brachistochrone problem, where the purpose is to build the fastest slide between two given points *on a given landscape* (two dimensional). Again, we neglect friction.\n",
    "\n",
    "The total energy of a point of mass $m$, at height $h$, velocity $\\mathbf{v}$, in a gravitational field g, as before\n",
    "$$\n",
    "    E = m g h + \\frac 1 2 m \\|\\mathbf{v}\\|^2\n",
    "$$\n",
    "The total energy is conserved along the trajectory (no friction assumption), and the object velocity is therefore determined by its height. Denoting by $\\mathbf{z}$ the vertical coordinate, possibly shifted, inverted and rescaled w.r.t. the height $h$, one finds that\n",
    "$$\n",
    "    \\frac{\\|\\mathbf{v}\\|^2}{\\mathbf{z}}\n",
    "$$\n",
    "is constant and positive along the trajectory. In particular, positions for which $z\\leq 0$ are not accessible. (These positions are too elevated, a.k.a have an excessive potential energy to be accessed. Note that the vertical axis was reversed.)\n",
    "\n",
    "Let us introduce a two dimensional domain $\\Omega$, and a landscape function $z : \\Omega \\mapsto R$. \n",
    "The vertical coordinate $\\mathbf{z}$ and three dimensional velocity $\\mathbf{v}$ are determined by the planar position $q \\in \\Omega$ and velocity $v \\in R^2$ by \n",
    "$$\n",
    "    \\mathbf{z} = z(q), \\qquad \\mathbf{v} = \\begin{pmatrix} v \\\\ <\\nabla z(q),v> \\end{pmatrix}.\n",
    "$$\n",
    "\n",
    "As a result, the (squared) Riemannian metric underlying the brachistochrone on a landscape problem reads\n",
    "$$\n",
    "    F_q(v)^2 = \\frac{\\|\\mathbf{v}\\|^2}{\\mathbf{z}} = \\frac{ \\|v\\|^2 + <\\nabla z(q),v>^2}{z(q)},\n",
    "$$\n",
    "in matrix form\n",
    "$$\n",
    "    M(q) := \\frac{\\mathrm{Id} + \\nabla z(q) \\nabla z(q)^T}{z(q)}.\n",
    "$$\n",
    "Note that the hamiltonian is defined as the half-squared dual metric.\n",
    "\n",
    "\n",
    "**Implementation note.** We use here an analytic height map, and compute its gradient via automatic differentiation.\n",
    "Alternatively, one can estimate the gradient using finite differences, see the closely relateted example in the [notebook on Riemannian metrics](Riemannian.ipynb)."
   ]
  },
  {
   "cell_type": "code",
   "execution_count": 50,
   "metadata": {},
   "outputs": [],
   "source": [
    "def Slide_Z(q):\n",
    "    \"\"\"(Opposite of the) landscape elevation where the slide is built\"\"\"\n",
    "    return 2+2*np.sin(q[0])*np.sin(q[1])\n",
    "\n",
    "def Slide_M(q,ret_walls=False,ztol=1e-2,z0=0) : \n",
    "    \"\"\"Riemannian metric of the slide on landscape problem, in matrix form. (Analytic expression)\"\"\"\n",
    "    # Differentiate elevation\n",
    "    q_ad = ad.Dense.identity(constant=q,shape_free=(2,))\n",
    "    z_ad = z0+Slide_Z(q_ad)\n",
    "    \n",
    "    # Deal with inaccessible regions\n",
    "    if ztol is not None:\n",
    "        walls = z_ad<=ztol\n",
    "        z_ad[walls]=1. # Dummy non-zero value\n",
    "    \n",
    "    # Produce riemannian tensor\n",
    "    Id = fd.as_field(np.eye(2),q.shape[1:])\n",
    "    M = ( Id + lp.outer_self(z_ad.gradient()) ) / z_ad.value\n",
    "    \n",
    "    return (M,walls) if ret_walls else M\n",
    "\n",
    "def Slide_A_(q,p,**kwargs):\n",
    "    \"\"\"Hamiltonian of the slide on landscape problem. (Analytic expression).\"\"\"\n",
    "    return lp.dot_VV(p, lp.solve_AV(Slide_M(q,**kwargs),p)) / 2."
   ]
  },
  {
   "cell_type": "markdown",
   "metadata": {},
   "source": [
    "### 3.1 Numerical solution using the fast-marching method\n",
    "\n",
    "The computational domain is $[-2\\pi,2\\pi]^2$."
   ]
  },
  {
   "cell_type": "code",
   "execution_count": 51,
   "metadata": {},
   "outputs": [],
   "source": [
    "hfmIn = Eikonal.dictIn({\n",
    "    'model':'Riemann2',\n",
    "    'arrayOrdering':'RowMajor',\n",
    "    'seeds': [(0,2)],\n",
    "})\n",
    "\n",
    "hfmIn.SetRect([[-2*np.pi,2*np.pi],[-2*np.pi,2*np.pi]],dimx=800)\n",
    "grid = hfmIn.Grid()\n",
    "hfmIn.SetUniformTips((6,6)) # Regularly spaced tips\n",
    "\n",
    "metric_tensors,hfmIn['walls'] = Slide_M(grid,ret_walls=True,z0=-0.5)\n",
    "hfmIn['metric'] = Metrics.Riemann(metric_tensors)"
   ]
  },
  {
   "cell_type": "markdown",
   "metadata": {},
   "source": [
    "The Riemannian metric is (not so strongly) anisotropic. See below largest length distortion, at any given point, depending on the direction."
   ]
  },
  {
   "cell_type": "code",
   "execution_count": 52,
   "metadata": {},
   "outputs": [
    {
     "name": "stdout",
     "output_type": "stream",
     "text": [
      "Largest local anisotropic length distortion : 2.2359576383209347\n"
     ]
    }
   ],
   "source": [
    "print(f\"Largest local anisotropic length distortion : {np.max(hfmIn['metric'].anisotropy())}\")"
   ]
  },
  {
   "cell_type": "code",
   "execution_count": 53,
   "metadata": {},
   "outputs": [
    {
     "name": "stdout",
     "output_type": "stream",
     "text": [
      "Field verbosity defaults to 1\n",
      "Field order defaults to 1\n",
      "Field seedRadius defaults to 0\n",
      "Fast marching solver completed in 0.214487 s.\n",
      "Field geodesicSolver defaults to Discrete\n",
      "Field geodesicStep defaults to 0.25\n",
      "Field geodesicWeightThreshold defaults to 0.001\n",
      "Field geodesicVolumeBound defaults to 8.45\n"
     ]
    }
   ],
   "source": [
    "hfmOut = hfmIn.Run()"
   ]
  },
  {
   "cell_type": "code",
   "execution_count": 54,
   "metadata": {},
   "outputs": [],
   "source": [
    "plt.figure(figsize=(4,4)); plt.axis('equal')\n",
    "plt.title(\"Numerical solution to the \\n brachistochrone on a landscape problem.\") \n",
    "plt.contourf(*grid,Slide_Z(grid),cmap='Greys')\n",
    "for geo in hfmOut['geodesics']: plt.plot(*geo)"
   ]
  },
  {
   "cell_type": "code",
   "execution_count": 55,
   "metadata": {},
   "outputs": [],
   "source": [
    "plt.figure(figsize=(4,4)); plt.axis('equal')\n",
    "plt.title('Accessible region (white) for the \\n brachistochrone on a landscape problem')\n",
    "plt.contourf(*grid,hfmIn['walls'],cmap='Greys');"
   ]
  },
  {
   "cell_type": "markdown",
   "metadata": {},
   "source": [
    "As usual, one can improve the accuracy of the fast marching method by using source factorization, a second order accurate scheme, and spreading the seed over a few pixels."
   ]
  },
  {
   "cell_type": "code",
   "execution_count": 56,
   "metadata": {},
   "outputs": [],
   "source": [
    "hfmIn2 = hfmIn.copy()\n",
    "hfmIn2.update({\n",
    "    # Improve accuracy\n",
    "    'order':2,\n",
    "    'factoringRadius':30,\n",
    "    \n",
    "    # Export relevant data\n",
    "    'exportGeodesicFlow':True,\n",
    "    'exportValues':True,\n",
    "})"
   ]
  },
  {
   "cell_type": "code",
   "execution_count": 57,
   "metadata": {},
   "outputs": [
    {
     "name": "stdout",
     "output_type": "stream",
     "text": [
      "Field verbosity defaults to 1\n",
      "Field seedRadius defaults to 2\n",
      "Field factoringPointChoice defaults to Seed\n",
      "Field exportFactoring defaults to 0\n",
      "Fast marching solver completed in 0.249875 s.\n",
      "Field geodesicSolver defaults to Discrete\n",
      "Field geodesicStep defaults to 0.25\n",
      "Field geodesicWeightThreshold defaults to 0.001\n",
      "Field geodesicVolumeBound defaults to 8.45\n"
     ]
    }
   ],
   "source": [
    "hfmOut = hfmIn2.Run()"
   ]
  },
  {
   "cell_type": "markdown",
   "metadata": {},
   "source": [
    "### 3.2 Integrating the flow\n",
    "\n",
    "As before, integrating the flow the most robust approach to computing the minimizing geodesics - when the eikonal equation has been solved.\n",
    "\n",
    "Spline nterpolation in degree >1 requires that the array contains neither infinite nor nan values."
   ]
  },
  {
   "cell_type": "code",
   "execution_count": 58,
   "metadata": {},
   "outputs": [],
   "source": [
    "hfmOut['values'] [hfmIn['walls'] ] = 0. # Insert dummy values in inaccessible places, to allow interpolation\n",
    "value_i,flow_i = value_flow_i(hfmIn2,hfmOut,order=3)\n",
    "\n",
    "flow_r = reshape_input_flatten_output(flow_i,2) # Flow reshaped"
   ]
  },
  {
   "cell_type": "markdown",
   "metadata": {},
   "source": [
    "We only consider the tips which lie in the accessible regions. Numerical integration with scipy tends to be a bit long, up to a minute, possibly due to the lack of smoothness of the interpolated flow."
   ]
  },
  {
   "cell_type": "code",
   "execution_count": 59,
   "metadata": {},
   "outputs": [
    {
     "name": "stdout",
     "output_type": "stream",
     "text": [
      "CPU times: user 2.25 s, sys: 10.6 ms, total: 2.26 s\n",
      "Wall time: 2.26 s\n"
     ]
    }
   ],
   "source": [
    "%%time\n",
    "walls = Interp(grid,hfmIn['walls'],order=1)\n",
    "q0 = hfmIn['tips'].copy().T\n",
    "q0 = q0[:,walls(q0)==0.]\n",
    "nSamples=q0.shape[1]\n",
    "\n",
    "T = np.linspace(0,1)\n",
    "Q = scipy.integrate.odeint(flow_r,q0.flatten(),T[:-1],args=(-value_i(q0),)) # Dropping last time step"
   ]
  },
  {
   "cell_type": "code",
   "execution_count": 60,
   "metadata": {},
   "outputs": [],
   "source": [
    "plt.title(\"Geodesics backtracked from the geodesic flow.\")\n",
    "plt.axis('equal'); add_patches(hfmIn)\n",
    "for i in range(nSamples):\n",
    "    plt.plot(Q[:,i],Q[:,i+nSamples])"
   ]
  },
  {
   "cell_type": "markdown",
   "metadata": {},
   "source": [
    "### 3.3 Geodesic shooting\n",
    "\n",
    "**Using the analytic hamiltonian** Let us introduce the analytic Hamiltonian, as well as the energy of the paths and its gradient the  impulsion."
   ]
  },
  {
   "cell_type": "code",
   "execution_count": 61,
   "metadata": {},
   "outputs": [],
   "source": [
    "Slide_A = GenericHamiltonian(lambda q,p:Slide_A_(q,p,z0=-0.5,ztol=None),\n",
    "                              shape_free=(2,), disassociate_ad=True)"
   ]
  },
  {
   "cell_type": "code",
   "execution_count": 62,
   "metadata": {},
   "outputs": [],
   "source": [
    "energy_i,impulsion_i = energy_impulsion_i(hfmIn2,hfmOut,order=3)"
   ]
  },
  {
   "cell_type": "code",
   "execution_count": 65,
   "metadata": {},
   "outputs": [],
   "source": [
    "p0 = -impulsion_i(q0)\n",
    "T = np.linspace(0,1)\n",
    "\n",
    "QP = scipy.integrate.odeint(Slide_A.flow_cat,np.concatenate((q0,p0),axis=0).flatten(),T)\n",
    "Q = QP[:,:2*nSamples].reshape((len(T),2,nSamples))"
   ]
  },
  {
   "cell_type": "markdown",
   "metadata": {},
   "source": [
    "Most geodesics obtained from geodesic shooting reach the initial seed, but not all. Long paths that come close to the inaccessibe regions raise most difficulties."
   ]
  },
  {
   "cell_type": "code",
   "execution_count": 66,
   "metadata": {},
   "outputs": [],
   "source": [
    "plt.title(\"Geodesics computed from Hamilton's equations,\\n with numerically computed initial impulsion.\")\n",
    "plt.axis('equal'); add_patches(hfmIn)\n",
    "for i in range(nSamples):\n",
    "    plt.plot(*Q[:,:,i].T)"
   ]
  },
  {
   "cell_type": "markdown",
   "metadata": {},
   "source": [
    "**Interpolated hamiltonian.** Using the interpolated metric does note work so well in the above example. This might be due to the discontinuities in the metric at the boundaries of the inaccessible, which pollute the interpolation.\n",
    "\n",
    "For this reason, we modify the problem using a positive value of $z_0$, so that all points in the domain are accessible."
   ]
  },
  {
   "cell_type": "code",
   "execution_count": 67,
   "metadata": {},
   "outputs": [],
   "source": [
    "metric_tensors = Slide_M(grid,z0=1)\n",
    "\n",
    "hfmIn2['metric'] = Metrics.Riemann(metric_tensors)\n",
    "hfmIn2.pop('walls',None);\n",
    "\n",
    "Slide_I = MetricHamiltonian(hfmIn2['metric'],grid=grid)"
   ]
  },
  {
   "cell_type": "markdown",
   "metadata": {},
   "source": [
    "The metric anisotropy is unchanged, but it is now everywhere defined, and there are no obstacles."
   ]
  },
  {
   "cell_type": "code",
   "execution_count": 68,
   "metadata": {},
   "outputs": [
    {
     "data": {
      "text/plain": [
       "2.2359576383209347"
      ]
     },
     "execution_count": 68,
     "metadata": {},
     "output_type": "execute_result"
    }
   ],
   "source": [
    "np.max(hfmIn2['metric'].anisotropy())"
   ]
  },
  {
   "cell_type": "code",
   "execution_count": 69,
   "metadata": {},
   "outputs": [
    {
     "name": "stdout",
     "output_type": "stream",
     "text": [
      "Field verbosity defaults to 1\n",
      "Field seedRadius defaults to 2\n",
      "Field factoringPointChoice defaults to Seed\n",
      "Field exportFactoring defaults to 0\n",
      "Fast marching solver completed in 0.26961 s.\n",
      "Field geodesicSolver defaults to Discrete\n",
      "Field geodesicStep defaults to 0.25\n",
      "Field geodesicWeightThreshold defaults to 0.001\n",
      "Field geodesicVolumeBound defaults to 8.45\n"
     ]
    }
   ],
   "source": [
    "hfmOut = hfmIn2.Run()"
   ]
  },
  {
   "cell_type": "code",
   "execution_count": 70,
   "metadata": {},
   "outputs": [],
   "source": [
    "plt.figure(figsize=(4,4)); plt.axis('equal')\n",
    "plt.title(\"Numerical solution to the \\n brachistochrone on a landscape problem.\") \n",
    "plt.contourf(*grid,Slide_Z(grid),cmap='Greys')\n",
    "for geo in hfmOut['geodesics']: plt.plot(*geo)"
   ]
  },
  {
   "cell_type": "code",
   "execution_count": 71,
   "metadata": {},
   "outputs": [],
   "source": [
    "energy_i,impulsion_i = energy_impulsion_i(hfmIn2,hfmOut,order=3)"
   ]
  },
  {
   "cell_type": "markdown",
   "metadata": {},
   "source": [
    "We use the standard Runge-Kutta fourth order to solve Hamilton's equations of motion. Indeed, strangely, `scipy.odeint` produces impredictable and often very long run times on this test case."
   ]
  },
  {
   "cell_type": "code",
   "execution_count": 72,
   "metadata": {},
   "outputs": [],
   "source": [
    "q0 = hfmIn['tips'].copy().T\n",
    "p0 = -impulsion_i(q0)\n",
    "nSamples=q0.shape[1]\n",
    "\n",
    "# Runge-Kutta (non-symplectic, fourth order scheme)\n",
    "Q_RK4,_,_ = Slide_I.integrate(q0,p0,scheme='Runge-Kutta-4',T=1,niter=200,path=True)"
   ]
  },
  {
   "cell_type": "markdown",
   "metadata": {},
   "source": [
    "As before, more geodesics reach the initial seed. Yet some of the longest ones, going through regions where the metric varies strongly, are misled. For those, a more accurate (final) impulsion would be needed to meet the seed, or a refinement using an optimization method of this numerical approximation."
   ]
  },
  {
   "cell_type": "code",
   "execution_count": 74,
   "metadata": {},
   "outputs": [
    {
     "data": {
      "text/plain": [
       "(2, 36, 201)"
      ]
     },
     "execution_count": 74,
     "metadata": {},
     "output_type": "execute_result"
    }
   ],
   "source": [
    "Q_RK4.shape"
   ]
  },
  {
   "cell_type": "code",
   "execution_count": 75,
   "metadata": {},
   "outputs": [],
   "source": [
    "plt.title(\"Geodesics computed from Hamilton's equations,\\n with numerically computed initial impulsion.\")\n",
    "plt.axis('equal'); add_patches(hfmIn)\n",
    "for i in range(nSamples):\n",
    "    plt.plot(*Q_RK4[:,i])"
   ]
  },
  {
   "cell_type": "code",
   "execution_count": null,
   "metadata": {},
   "outputs": [],
   "source": []
  }
 ],
 "metadata": {
  "celltoolbar": "Format de la Cellule Texte Brut",
  "kernelspec": {
   "display_name": "Python 3 (ipykernel)",
   "language": "python",
   "name": "python3"
  },
  "language_info": {
   "codemirror_mode": {
    "name": "ipython",
    "version": 3
   },
   "file_extension": ".py",
   "mimetype": "text/x-python",
   "name": "python",
   "nbconvert_exporter": "python",
   "pygments_lexer": "ipython3",
   "version": "3.12.1"
  },
  "varInspector": {
   "cols": {
    "lenName": 16,
    "lenType": 16,
    "lenVar": 40
   },
   "kernels_config": {
    "python": {
     "delete_cmd_postfix": "",
     "delete_cmd_prefix": "del ",
     "library": "var_list.py",
     "varRefreshCmd": "print(var_dic_list())"
    },
    "r": {
     "delete_cmd_postfix": ") ",
     "delete_cmd_prefix": "rm(",
     "library": "var_list.r",
     "varRefreshCmd": "cat(var_dic_list()) "
    }
   },
   "types_to_exclude": [
    "module",
    "function",
    "builtin_function_or_method",
    "instance",
    "_Feature"
   ],
   "window_display": false
  }
 },
 "nbformat": 4,
 "nbformat_minor": 4
}