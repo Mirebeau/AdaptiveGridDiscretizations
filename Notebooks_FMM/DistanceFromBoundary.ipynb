{
 "cells": [
  {
   "cell_type": "markdown",
   "metadata": {},
   "source": [
    "# The HFM library - A fast marching solver with adaptive stencils\n",
    "\n",
    "## Part : Algorithmic enhancements to the fast marching method\n",
    "## Chapter : Accurate distance from a boundary"
   ]
  },
  {
   "cell_type": "markdown",
   "metadata": {},
   "source": [
    "The Eikonal equation characterizes the distance from a set, which in applications is typically either:\n",
    "- a single source point, or a finite set of such points.\n",
    "- the boundary of a smooth, or piecewise smooth, shape.\n",
    "\n",
    "Computing the distance map to a high accuracy in the case of source points requires specific techiques, such as the factorization of the source singularity in the PDE, which are embedded within the proposed eikonal solvers and discussed in the [relevant notebook](HighAccuracy.ipynb).\n",
    "This notebook is devoted to the second case, of accurate geodesic distance computation from a domain boundary, in two dimensions.\n",
    "\n",
    "**Signed distance from a smooth curve.**\n",
    "For that purpose, we first estimate the signed distance from a given curve of interest $C\\subset \\Omega \\subset R^2$, with respect to an arbitrary Finsler metric denoted $N_x(v)$, $x \\in \\Omega$, $v \\in R^2$. \n",
    "We provide an explicit estimate, which is only valid in a small tubular neighborhood of the curve $C$. This estimate, at a point $x\\in \\Omega$, is from the mathematical standpoint designed as follows:\n",
    "- Find a curve point $y\\in C$ close to the given point $x\\in \\Omega$.\n",
    "- Approximate the curve $C$ with a straight line in the vicinity of $y$. \n",
    "- Approximate the geodesic metric $N$ with the constant metric $N_x$ in the vicinity of $x$.\n",
    "\n",
    "Based on this modeling, the signed distance from $x$ to $C$ can be estimated as:\n",
    "$$\n",
    "    d_N(x,C) = \\frac{<x-y,n_y>}{ N^*_x(n_y)} + O(\\|x-y\\|^2),\n",
    "$$\n",
    "where $y\\in C$ is close to $x$, and $n_y$ is the normal to $C$ at $y$ towards the shape interior - recall that we are computing a signed distance.\n",
    "\n",
    "Once this estimate is computed, it is used as a seed value for the geodesic distance computation.\n",
    "\n",
    "**Piecewise smooth curves *without re-entrant corners*.**\n",
    "The distance from a piecewise smooth shape boundary, *without re-entrant corners*, is estimated as the *minimal distance to each of the smooth boundary pieces*. This approximation is only valid inside the shape, in contrast to the smooth case described above where the obtained signed distance estimate is valid both in the interior and the exterior neighborhood of the shape.\n",
    "\n",
    "On the other hand, re-entrant corners yield singularities of the distance map which are closely related to those defined by source points. Handling them requires additional care and is outside of the scope of this notebook.\n",
    "\n",
    "**Extension to non-zero Dirichlet boundary conditions.**\n",
    "The methods presented in this notebook may be extended to non-zero Dirichlet boundary conditions, provided they are *strictly Lipschitz w.r.t. the metric*. This extension is outside of the scope of this notebook, but let us nevertheless comment that a basic ingredient is solving problems of the following form : find $t\\in R$ such that\n",
    "$$\n",
    "    N^*(x+t v) = 1\n",
    "$$\n",
    "where $N$ is a given norm, and where $x,v$ are given vectors, with $N^*(x)<1$. (In the case of an Isotropic, Riemannian or Randers metric, the above problem amounts to a univariate quadratic equation, which is easily solved.)"
   ]
  },
  {
   "cell_type": "markdown",
   "metadata": {},
   "source": [
    "[**Summary**](Summary.ipynb) of volume Fast Marching Methods, this series of notebooks.\n",
    "\n",
    "[**Main summary**](../Summary.ipynb) of the Adaptive Grid Discretizations \n",
    "\tbook of notebooks, including the other volumes.\n",
    "\n",
    "# Table of contents\n",
    "  * [1. Local approximate geodesic distance to a piecewise smooth boundary](#1.-Local-approximate-geodesic-distance-to-a-piecewise-smooth-boundary)\n",
    "    * [1.1 Sampling a smooth boundary and its normals](#1.1-Sampling-a-smooth-boundary-and-its-normals)\n",
    "    * [1.2 Local approximation of the geodesic distance](#1.2-Local-approximation-of-the-geodesic-distance)\n",
    "    * [1.3 Case of a piecewise smooth boundary](#1.3-Case-of-a-piecewise-smooth-boundary)\n",
    "  * [2. Validation with constant metrics](#2.-Validation-with-constant-metrics)\n",
    "    * [2.1 Riemannian case](#2.1-Riemannian-case)\n",
    "    * [2.2 Randers case](#2.2-Randers-case)\n",
    "  * [3. An example with a non-constant metric](#3.-An-example-with-a-non-constant-metric)\n",
    "\n",
    "\n",
    "\n",
    "This Python&reg; notebook is intended as documentation and testing for the [HamiltonFastMarching (HFM) library](https://github.com/mirebeau/HamiltonFastMarching), which also has interfaces to the Matlab&reg; and Mathematica&reg; languages. \n",
    "More information on the HFM library in the manuscript:\n",
    "* Jean-Marie Mirebeau, Jorg Portegies, \"Hamiltonian Fast Marching: A numerical solver for anisotropic and non-holonomic eikonal PDEs\", 2019 [(link)](https://hal.archives-ouvertes.fr/hal-01778322)\n",
    "\n",
    "Copyright Jean-Marie Mirebeau, University Paris-Sud, CNRS, University Paris-Saclay"
   ]
  },
  {
   "cell_type": "markdown",
   "metadata": {},
   "source": [
    "## 0. Importing the required libraries"
   ]
  },
  {
   "cell_type": "code",
   "execution_count": 1,
   "metadata": {},
   "outputs": [],
   "source": [
    "import sys; sys.path.insert(0,\"..\") # Allow import of agd from parent directory (useless if conda package installed)\n",
    "#from Miscellaneous import TocTools; print(TocTools.displayTOC('DistanceFromBoundary','FMM'))"
   ]
  },
  {
   "cell_type": "code",
   "execution_count": 2,
   "metadata": {},
   "outputs": [],
   "source": [
    "from agd import LinearParallel as lp\n",
    "from agd import AutomaticDifferentiation as ad\n",
    "from agd import Eikonal\n",
    "from agd import Metrics\n",
    "from agd.AutomaticDifferentiation.Optimization import norm_infinity,norm_average"
   ]
  },
  {
   "cell_type": "code",
   "execution_count": 3,
   "metadata": {},
   "outputs": [],
   "source": [
    "import numpy as np\n",
    "from matplotlib import pyplot as plt\n",
    "import scipy.spatial"
   ]
  },
  {
   "cell_type": "markdown",
   "metadata": {},
   "source": [
    "## 1. Local approximate geodesic distance to a piecewise smooth boundary\n",
    "\n",
    "We compute a local approximation, in a tubular neighborhood, of the geodesic distance from a piecewise smooth boundary, following the principles given in the introduction and focusing first on the smooth case. The shape boundary is presented as a collection of points and of interior normals to these points."
   ]
  },
  {
   "cell_type": "markdown",
   "metadata": {},
   "source": [
    "### 1.1 Sampling a smooth boundary and its normals\n",
    "\n",
    "It is common, at least in synthetic test cases, that a shape boundary is parametrized analytically, say counter-clockwise. We use automatic differentiation to compute the normals. This step can of course be bypassed if the shape boundary is directly given as a discrete set of points and of interior normals.\n",
    "\n",
    "**Note : Euclidean normalization of the interior normals.** Our distance estimation formulas are $0$-homogeneous w.r.t. these interior normals, hence their normalization is not required strictly speaking."
   ]
  },
  {
   "cell_type": "code",
   "execution_count": 4,
   "metadata": {},
   "outputs": [],
   "source": [
    "# Some curve parametrizing counter-clockwise a shape boundary, \n",
    "# presented as a pair (vector function, interval of definition)\n",
    "smooth_curve = (lambda t : [np.cos(t),np.sin(t)], [0,2*np.pi])"
   ]
  },
  {
   "cell_type": "code",
   "execution_count": 5,
   "metadata": {},
   "outputs": [],
   "source": [
    "def sample_points_normals(f,Tbounds,Tcount):\n",
    "    \"\"\"\n",
    "    Sample the (smooth closed) parametrized curve defined by \n",
    "    the function f over the interval Tbounds, with Tcount points.\n",
    "    Also returns counter-clocwkise normal vectors at these points.\n",
    "    \"\"\"\n",
    "    T = np.linspace(*Tbounds,Tcount)\n",
    "    T_ad = ad.Dense.identity(constant=T,shape_free=tuple())\n",
    "    curve_ad = ad.array( f(T_ad) )\n",
    "    tangents = curve_ad.coef.squeeze(axis=-1)\n",
    "    return curve_ad.value, lp.perp(tangents/np.linalg.norm(tangents,axis=0))"
   ]
  },
  {
   "cell_type": "code",
   "execution_count": 6,
   "metadata": {},
   "outputs": [],
   "source": [
    "# Sample\n",
    "smooth_points_normals = sample_points_normals(*smooth_curve,50)"
   ]
  },
  {
   "cell_type": "code",
   "execution_count": 7,
   "metadata": {},
   "outputs": [],
   "source": [
    "plt.figure(figsize=[9,4])\n",
    "points,normals = smooth_points_normals\n",
    "\n",
    "plt.subplot(121); plt.title(\"Curve points\")\n",
    "plt.scatter(*points); plt.axis(\"equal\")\n",
    "\n",
    "plt.subplot(122); plt.title(\"Curve interior normals\")\n",
    "plt.quiver(*points,*normals); plt.axis(\"equal\");"
   ]
  },
  {
   "cell_type": "markdown",
   "metadata": {},
   "source": [
    "### 1.2 Local approximation of the geodesic distance\n",
    "\n",
    "Consider a point $x$ of a domain $\\Omega$, which is close to a point $y$ of the smooth curve $C \\subset \\Omega$ of interest. Denote by $n_y$ the interior normal to $C$ at $y$.\n",
    "Then the signed geodesic distance from $x$ to the curve admits the following Taylor expansion, already mentioned in the introduction\n",
    "$$\n",
    "    \\frac{<x-y,n_y>} { N^*_x(n_y)} + O(\\|x-y\\|^2),\n",
    "$$\n",
    "where $N^*_x$ is the dual geodesic metric at the point $x$. This approximation only holds:\n",
    "- close enough to the curve.\n",
    "- far enough to the curve endpoints.\n",
    "- assuming bounded curvature."
   ]
  },
  {
   "cell_type": "code",
   "execution_count": 8,
   "metadata": {},
   "outputs": [],
   "source": [
    "# The domain\n",
    "aX = np.linspace(-1,1,101)\n",
    "X = np.array(np.meshgrid(aX,aX,indexing='ij'))\n",
    "\n",
    "# A constant metric, for now\n",
    "metric = Metrics.Riemann.from_diagonal([1,2**2]).rotate_by(0.3)"
   ]
  },
  {
   "cell_type": "code",
   "execution_count": 9,
   "metadata": {},
   "outputs": [],
   "source": [
    "def smooth_local_distance(Y,N,X,metric):\n",
    "    \"\"\"\n",
    "    Locally approximates the signed geodesic distance to a smooth curve.\n",
    "    Y : points of the curve\n",
    "    N : normals to the curve\n",
    "    X : points of the domain\n",
    "    metric : geodesic metric\n",
    "    width : width of the tubular neighborhood\n",
    "    \"\"\"\n",
    "    \n",
    "    # Construct a KDTree to query the closest curve point\n",
    "    curve_tree = scipy.spatial.KDTree(Y.T)\n",
    "    eucl_dist,best = curve_tree.query(np.moveaxis(X,0,-1))\n",
    "    \n",
    "    geo_dist = lp.dot_VV(X-Y[:,best],N[:,best]) / metric.dual().norm(N[:,best])\n",
    "    return geo_dist,eucl_dist"
   ]
  },
  {
   "cell_type": "code",
   "execution_count": 10,
   "metadata": {},
   "outputs": [],
   "source": [
    "geo_dist,eucl_dist = smooth_local_distance(*smooth_points_normals, X, metric)"
   ]
  },
  {
   "cell_type": "code",
   "execution_count": 11,
   "metadata": {},
   "outputs": [],
   "source": [
    "plt.figure(figsize=[9,4])\n",
    "\n",
    "plt.subplot(121); plt.title(\"The approximate geodesic distance\")\n",
    "plt.contourf(*X,geo_dist); plt.axis('equal');\n",
    "\n",
    "plt.subplot(122)\n",
    "plt.title(\"is only valid close to the boundary\")\n",
    "plt.contourf(*X,np.where(eucl_dist<=0.1,geo_dist,np.inf)); plt.axis('equal');"
   ]
  },
  {
   "cell_type": "markdown",
   "metadata": {},
   "source": [
    "### 1.3 Case of a piecewise smooth boundary\n",
    "\n",
    "We first define a piecewise smooth closed curve, parametrized counter-clockwise. As discussed in the introduction, we assume *no re-entrant corners*."
   ]
  },
  {
   "cell_type": "code",
   "execution_count": 12,
   "metadata": {},
   "outputs": [],
   "source": [
    "piecewise_curve = [\n",
    "    (lambda t:[t,-np.ones_like(t)],        [-1,1]),\n",
    "    (lambda t:[np.ones_like(t),t],         [-1,0]),\n",
    "    (lambda t:[np.cos(t),np.sin(t)],       [0,np.pi/2]),\n",
    "    (lambda t:[-t,np.ones_like(t)],        [0,1]),\n",
    "    (lambda t:[-np.ones_like(t),-t],       [-1,1]),\n",
    "]"
   ]
  },
  {
   "cell_type": "code",
   "execution_count": 13,
   "metadata": {},
   "outputs": [],
   "source": [
    "piecewise_points_normals = [sample_points_normals(f,Tbounds,20) for f,Tbounds in piecewise_curve]"
   ]
  },
  {
   "cell_type": "code",
   "execution_count": 14,
   "metadata": {},
   "outputs": [],
   "source": [
    "plt.figure(figsize=[9,4])\n",
    "\n",
    "plt.subplot(121); plt.title(\"Curve points\")\n",
    "for points,_ in piecewise_points_normals: \n",
    "    plt.scatter(*points); plt.axis(\"equal\")\n",
    "\n",
    "plt.subplot(122); plt.title(\"Curve interior normals\")\n",
    "for points,normals in piecewise_points_normals: \n",
    "    plt.quiver(*points,*normals)\n",
    "plt.axis(\"equal\");"
   ]
  },
  {
   "cell_type": "code",
   "execution_count": 15,
   "metadata": {},
   "outputs": [],
   "source": [
    "def piecewise_local_distance(YN,X,metric):\n",
    "    dists = [smooth_local_distance(Y,N,X,metric) for Y,N in YN]\n",
    "    return np.min([geo for geo,_ in dists],axis=0),np.min([eucl for _,eucl in dists],axis=0)"
   ]
  },
  {
   "cell_type": "code",
   "execution_count": 16,
   "metadata": {},
   "outputs": [],
   "source": [
    "geo_dist,eucl_dist = piecewise_local_distance(piecewise_points_normals,X,metric)"
   ]
  },
  {
   "cell_type": "code",
   "execution_count": 17,
   "metadata": {},
   "outputs": [],
   "source": [
    "plt.figure(figsize=[9,4])\n",
    "\n",
    "plt.subplot(121); plt.title(\"The approximate geodesic distance\")\n",
    "plt.contourf(*X,geo_dist); plt.axis('equal');\n",
    "\n",
    "plt.subplot(122)\n",
    "plt.title(\"is only valid close to the boundary\")\n",
    "plt.contourf(*X,np.where(eucl_dist<=0.1,geo_dist,np.inf)); plt.axis('equal');"
   ]
  },
  {
   "cell_type": "markdown",
   "metadata": {},
   "source": [
    "## 2. Validation with constant metrics\n",
    "\n",
    "When the metric is constant over the domain, the distance from its boundary can be computed using a variety of alternative techniques to eikonal equation solvers. Note that minimal paths to the domain boundary are straight lines in this context. These alternative computations are used to validate the FMM solver."
   ]
  },
  {
   "cell_type": "markdown",
   "metadata": {},
   "source": [
    "### 2.1 Riemannian case\n",
    "\n",
    "We compute the distance to the piecewise smooth boundary using a constant Riemannian metric.\n",
    "\n",
    "<!---\n",
    "Note that the distance computed is only valid inside the circle.\n",
    "\n",
    "In this specific case, it would not be too hard to compute an exact solution.\n",
    "--->"
   ]
  },
  {
   "cell_type": "code",
   "execution_count": 18,
   "metadata": {},
   "outputs": [],
   "source": [
    "metric = Metrics.Riemann.from_diagonal([1,2**2]).rotate_by(0.3)"
   ]
  },
  {
   "cell_type": "code",
   "execution_count": 19,
   "metadata": {},
   "outputs": [],
   "source": [
    "hfmIn = Eikonal.dictIn({\n",
    "    'model':'Riemann2',\n",
    "    'metric':metric,\n",
    "    'exportValues':True,\n",
    "})\n",
    "hfmIn.SetRect(sides = [[-1,1],[-1,1]],dimx=101)\n",
    "X = hfmIn.Grid()"
   ]
  },
  {
   "cell_type": "code",
   "execution_count": 20,
   "metadata": {},
   "outputs": [],
   "source": [
    "piecewise_points_normals = [sample_points_normals(f,Tbounds,50) for f,Tbounds in piecewise_curve]\n",
    "geo_dist,eucl_dist = piecewise_local_distance(piecewise_points_normals,X,metric)"
   ]
  },
  {
   "cell_type": "code",
   "execution_count": 21,
   "metadata": {},
   "outputs": [],
   "source": [
    "tube = eucl_dist<0.1\n",
    "hfmIn['seeds'] = X[:,tube].T\n",
    "hfmIn['seedValues'] = geo_dist[tube]"
   ]
  },
  {
   "cell_type": "code",
   "execution_count": 22,
   "metadata": {},
   "outputs": [
    {
     "name": "stdout",
     "output_type": "stream",
     "text": [
      "Field verbosity defaults to 1\n",
      "Field order defaults to 1\n",
      "Field seedRadius defaults to 0\n",
      "Fast marching solver completed in 0.004199 s.\n"
     ]
    }
   ],
   "source": [
    "hfmOut = hfmIn.Run()"
   ]
  },
  {
   "cell_type": "code",
   "execution_count": 23,
   "metadata": {},
   "outputs": [],
   "source": [
    "plt.title(\"Geodesic distance from the boundary\")\n",
    "plt.contourf(*X,hfmOut['values'])\n",
    "plt.axis('equal');"
   ]
  },
  {
   "cell_type": "markdown",
   "metadata": {},
   "source": [
    "A constant Riemannian metric is, up to a linear change of variable, identical to the Euclidean metric. We take advantage of this to compute the distance to the boundary using a KDTree structure."
   ]
  },
  {
   "cell_type": "code",
   "execution_count": 24,
   "metadata": {},
   "outputs": [],
   "source": [
    "A = scipy.linalg.sqrtm(metric.m)\n",
    "points = np.concatenate([sample_points_normals(f,Tbounds,200)[0] for f,Tbounds in piecewise_curve],axis=1)\n",
    "tree = scipy.spatial.KDTree(lp.dot_AV(A[:,:,None],points).T)\n",
    "tree_dist,_ = tree.query(np.moveaxis(lp.dot_AV(A[:,:,None,None],X),0,-1))"
   ]
  },
  {
   "cell_type": "code",
   "execution_count": 25,
   "metadata": {},
   "outputs": [],
   "source": [
    "# Difference between the KDTree based computation, \n",
    "# and the accurate eikonal computation\n",
    "domain = (X[0]<=0) | (X[1]<=0) | (X[0]**2+X[1]**2<=1)\n",
    "diff_accurate = domain*(hfmOut['values']-tree_dist)"
   ]
  },
  {
   "cell_type": "markdown",
   "metadata": {},
   "source": [
    "On the other hand, we can approximate the distance to the domain boundary using the eikonal solver in a less sophisticated manner, simply by setting null boundary conditions on the square complement."
   ]
  },
  {
   "cell_type": "code",
   "execution_count": 26,
   "metadata": {},
   "outputs": [],
   "source": [
    "square = np.max(np.abs(X)+hfmIn.gridScales[:,None,None],axis=0)>=1 \n",
    "hfmIn['seeds'] = X[:,square|~domain].T\n",
    "hfmIn.pop('seedValues',None);"
   ]
  },
  {
   "cell_type": "code",
   "execution_count": 27,
   "metadata": {},
   "outputs": [
    {
     "name": "stdout",
     "output_type": "stream",
     "text": [
      "Field verbosity defaults to 1\n",
      "Field order defaults to 1\n",
      "Field seedRadius defaults to 0\n",
      "Fast marching solver completed in 0.003724 s.\n"
     ]
    }
   ],
   "source": [
    "hfmOut = hfmIn.Run()"
   ]
  },
  {
   "cell_type": "code",
   "execution_count": 28,
   "metadata": {},
   "outputs": [],
   "source": [
    "# Difference between the KDTree based computation, \n",
    "# and the basic eikonal computation\n",
    "diff_raw = domain*(hfmOut['values']-tree_dist)"
   ]
  },
  {
   "cell_type": "markdown",
   "metadata": {},
   "source": [
    "The improvement due to accurate boundary conditions is particularly clear in the averaged $L^1$ norm over the domain."
   ]
  },
  {
   "cell_type": "code",
   "execution_count": 29,
   "metadata": {},
   "outputs": [
    {
     "name": "stdout",
     "output_type": "stream",
     "text": [
      "Mean error using the accurate (0.00036653111536362823), and raw (0.010816582623881821), discretization of the boundary conditions. Improvement ratio : 29.51068045928626.\n"
     ]
    }
   ],
   "source": [
    "error_accurate,error_raw = norm_average(diff_accurate),norm_average(diff_raw)\n",
    "print(f\"Mean error using the accurate ({error_accurate}), \"+\n",
    "      f\"and raw ({error_raw}), discretization of the boundary conditions. \"+\n",
    "      f\"Improvement ratio : {error_raw/error_accurate}.\")"
   ]
  },
  {
   "cell_type": "code",
   "execution_count": 30,
   "metadata": {},
   "outputs": [],
   "source": [
    "assert norm_average(diff_accurate)<1e-3\n",
    "assert norm_average(diff_raw)<2e-2"
   ]
  },
  {
   "cell_type": "markdown",
   "metadata": {},
   "source": [
    "The improvement is less clear in the maximum norm, which could be expected. Indeed, the distance to the boundary is non-smooth, and has a singularity along a skeleton known as the cut-locus of the shape. The eikonal solver is bound to make a significant error along the cut locus, independently of the quality of the boundary data."
   ]
  },
  {
   "cell_type": "code",
   "execution_count": 31,
   "metadata": {},
   "outputs": [
    {
     "name": "stdout",
     "output_type": "stream",
     "text": [
      "Maximum error using the accurate (0.009334433532029007), and raw (0.02348351081323463), discretization of the boundary conditions. Improvement ratio : 2.5157938864373772.\n"
     ]
    }
   ],
   "source": [
    "error_accurate,error_raw = norm_infinity(diff_accurate),norm_infinity(diff_raw)\n",
    "print(f\"Maximum error using the accurate ({error_accurate}), \"+\n",
    "      f\"and raw ({error_raw}), discretization of the boundary conditions. \"+\n",
    "      f\"Improvement ratio : {error_raw/error_accurate}.\")"
   ]
  },
  {
   "cell_type": "code",
   "execution_count": 32,
   "metadata": {},
   "outputs": [],
   "source": [
    "plt.title(\"Error is largest along singularities\")\n",
    "plt.contourf(*X,diff_accurate); plt.colorbar();"
   ]
  },
  {
   "cell_type": "markdown",
   "metadata": {},
   "source": [
    "### 2.2 Randers case\n",
    "\n",
    "We compute the distance to a circular boundary using a well chosen Randers metric,  for which this distance has an explicit closed form. We perform this computation so as to validate the signs and orientations involved in our distance estimate. Indeed, Randers metrics are asymmetric generalizations of Riemannian metrics, as a result they define asymmetric path length distances, which puts such sign issues into light. See this [notebook on Randers metrics](Rander.ipynb) for context.\n",
    "\n",
    "Following Zermelo's navigation problem, we consider a vehicle moving at unit Euclidean speed, but subject to a given drift. By construction, at time $1$, the vehicle reaches the unit circle offset by the drift.\n",
    "Reversing time, we obtain an explicit solution to an eikonal equation with a Randers metric, with a null boundary condition on the circle."
   ]
  },
  {
   "cell_type": "code",
   "execution_count": 33,
   "metadata": {},
   "outputs": [],
   "source": [
    "drift = np.array([0.5,0.3])\n",
    "\n",
    "# Randers metric corresponding to Zermelo's navigation problem,\n",
    "# with a unit speed and the given drift\n",
    "metric = Metrics.Rander.from_Zermelo(np.eye(2),drift)\n",
    "\n",
    "# Time reversed metric\n",
    "metric_rev = metric.with_speed(-1)"
   ]
  },
  {
   "cell_type": "code",
   "execution_count": 34,
   "metadata": {},
   "outputs": [],
   "source": [
    "hfmIn = Eikonal.dictIn({\n",
    "    'model':'Rander2',\n",
    "    'metric':metric,\n",
    "    'exportValues':True,\n",
    "})\n",
    "hfmIn.SetRect(sides = [[-1,1],[-1,1]],dimx=101)\n",
    "X = hfmIn.Grid()"
   ]
  },
  {
   "cell_type": "markdown",
   "metadata": {},
   "source": [
    "As announced, we have an exact formula for the distance to the unit circle with this metric."
   ]
  },
  {
   "cell_type": "code",
   "execution_count": 35,
   "metadata": {},
   "outputs": [],
   "source": [
    "exact_dist = 1-metric_rev.norm(X-drift[:,None,None])"
   ]
  },
  {
   "cell_type": "code",
   "execution_count": 36,
   "metadata": {},
   "outputs": [],
   "source": [
    "ax = plt.figure(figsize=[5,5]).gca()\n",
    "plt.contourf(*X,exact_dist)\n",
    "ax.add_patch(plt.Circle((0, 0), 1, color='r',fill=False))\n",
    "plt.axis('equal');"
   ]
  },
  {
   "cell_type": "markdown",
   "metadata": {},
   "source": [
    "We use the developed techniques to compute a local approximation of the geodesic distance, close to the circle."
   ]
  },
  {
   "cell_type": "code",
   "execution_count": 37,
   "metadata": {},
   "outputs": [],
   "source": [
    "smooth_points_normals = sample_points_normals(*smooth_curve,200)\n",
    "geo_dist,eucl_dist = smooth_local_distance(*smooth_points_normals, X, metric)"
   ]
  },
  {
   "cell_type": "code",
   "execution_count": 38,
   "metadata": {},
   "outputs": [],
   "source": [
    "plt.figure(figsize=[5,5])\n",
    "plt.contourf(geo_dist) \n",
    "plt.axis('equal');"
   ]
  },
  {
   "cell_type": "markdown",
   "metadata": {},
   "source": [
    "Keeping only this data in a tubular neighborhood of the boundary, and using a Randers eikonal solver elsewhere, we reconstruct the solution."
   ]
  },
  {
   "cell_type": "code",
   "execution_count": 39,
   "metadata": {},
   "outputs": [],
   "source": [
    "tube = eucl_dist<0.1\n",
    "hfmIn['seeds'] = X[:,tube].T\n",
    "hfmIn['seedValues'] = geo_dist[tube]"
   ]
  },
  {
   "cell_type": "code",
   "execution_count": 40,
   "metadata": {},
   "outputs": [
    {
     "name": "stdout",
     "output_type": "stream",
     "text": [
      "Field verbosity defaults to 1\n",
      "Field cosAngleMin defaults to 0.5\n",
      "Field refineStencilAtWallBoundary defaults to 0\n",
      "Field order defaults to 1\n",
      "Field seedRadius defaults to 0\n",
      "Fast marching solver completed in 0.014247 s.\n"
     ]
    }
   ],
   "source": [
    "hfmOut = hfmIn.Run()"
   ]
  },
  {
   "cell_type": "code",
   "execution_count": 41,
   "metadata": {},
   "outputs": [],
   "source": [
    "ax = plt.figure(figsize=[5,5]).gca()\n",
    "plt.contourf(*X,hfmOut['values'])\n",
    "ax.add_patch(plt.Circle((0, 0), 1, color='r',fill=False))\n",
    "plt.axis('equal');"
   ]
  },
  {
   "cell_type": "code",
   "execution_count": 42,
   "metadata": {},
   "outputs": [],
   "source": [
    "domain = np.linalg.norm(X,axis=0)<=1\n",
    "diff_accurate = (hfmOut['values']-exact_dist)*domain"
   ]
  },
  {
   "cell_type": "markdown",
   "metadata": {},
   "source": [
    "A more basic approach to compute the geodesic distance is to set null boundary conditions at all points of the domain complement. But this is considerably less accurate."
   ]
  },
  {
   "cell_type": "code",
   "execution_count": 43,
   "metadata": {},
   "outputs": [],
   "source": [
    "hfmIn['seeds'] = X[:,~domain].T\n",
    "hfmIn.pop('seedValues',None); # Key defaults to zeros"
   ]
  },
  {
   "cell_type": "code",
   "execution_count": 44,
   "metadata": {},
   "outputs": [
    {
     "name": "stdout",
     "output_type": "stream",
     "text": [
      "Field verbosity defaults to 1\n",
      "Field cosAngleMin defaults to 0.5\n",
      "Field refineStencilAtWallBoundary defaults to 0\n",
      "Field order defaults to 1\n",
      "Field seedRadius defaults to 0\n",
      "Fast marching solver completed in 0.012638 s.\n"
     ]
    }
   ],
   "source": [
    "hfmOut = hfmIn.Run()"
   ]
  },
  {
   "cell_type": "code",
   "execution_count": 45,
   "metadata": {},
   "outputs": [],
   "source": [
    "plt.figure(figsize=[5,5])\n",
    "plt.contourf(*X,hfmOut['values'])\n",
    "plt.axis('equal');"
   ]
  },
  {
   "cell_type": "code",
   "execution_count": 46,
   "metadata": {},
   "outputs": [],
   "source": [
    "diff_raw = (hfmOut['values']-exact_dist)*domain"
   ]
  },
  {
   "cell_type": "markdown",
   "metadata": {},
   "source": [
    "The improvement brought by the accurate implementation of the boundary conditions is clear."
   ]
  },
  {
   "cell_type": "code",
   "execution_count": 47,
   "metadata": {},
   "outputs": [
    {
     "name": "stdout",
     "output_type": "stream",
     "text": [
      "Mean error using the accurate (0.0006465837447141655), and raw (0.006665195356973108), discretization of the boundary conditions. Improvement ratio : 10.308324964030117.\n"
     ]
    }
   ],
   "source": [
    "error_accurate,error_raw = norm_average(diff_accurate),norm_average(diff_raw)\n",
    "print(f\"Mean error using the accurate ({error_accurate}), \"+\n",
    "      f\"and raw ({error_raw}), discretization of the boundary conditions. \"+\n",
    "      f\"Improvement ratio : {error_raw/error_accurate}.\")"
   ]
  },
  {
   "cell_type": "code",
   "execution_count": 48,
   "metadata": {},
   "outputs": [],
   "source": [
    "assert norm_average(diff_accurate)<1e-3\n",
    "assert norm_average(diff_raw)<1e-2"
   ]
  },
  {
   "cell_type": "markdown",
   "metadata": {},
   "source": [
    "In this test case, the accurate discretization of the boundary condition also yields a substantial improvement in the maximum norm. This phenomenon is welcome, but it is not generic and is mostly due to a favorable test case configuration. Indeed, the scheme accuracy in the max norm is because the solution only has a single singularity, as opposed to a one dimensional cut-locus in the generic case."
   ]
  },
  {
   "cell_type": "code",
   "execution_count": 49,
   "metadata": {},
   "outputs": [
    {
     "name": "stdout",
     "output_type": "stream",
     "text": [
      "Maximum error using the accurate (0.006124679861986476), and raw (0.16943984741589285), discretization of the boundary conditions. Improvement ratio : 27.665094541110726.\n"
     ]
    }
   ],
   "source": [
    "error_accurate,error_raw = norm_infinity(diff_accurate),norm_infinity(diff_raw)\n",
    "print(f\"Maximum error using the accurate ({error_accurate}), \"+\n",
    "      f\"and raw ({error_raw}), discretization of the boundary conditions. \"+\n",
    "      f\"Improvement ratio : {error_raw/error_accurate}.\")"
   ]
  },
  {
   "cell_type": "markdown",
   "metadata": {},
   "source": [
    "## 3. An example with a non-constant metric\n",
    "\n",
    "We consider Zermelo's navigation problem, with a varying drift over the domain, the [notebook on Randers metrics](Rander.ipynb) for more context. The methods presented in the constant metric can be used without modification."
   ]
  },
  {
   "cell_type": "code",
   "execution_count": 50,
   "metadata": {},
   "outputs": [],
   "source": [
    "hfmIn = Eikonal.dictIn({\n",
    "    'model':'Rander2',\n",
    "    'exportValues':True,\n",
    "})\n",
    "hfmIn.SetRect(sides = [[-1,1],[-1,1]],dimx=101)\n",
    "X = hfmIn.Grid()"
   ]
  },
  {
   "cell_type": "code",
   "execution_count": 51,
   "metadata": {},
   "outputs": [],
   "source": [
    "R = np.linalg.norm(X,axis=0)\n",
    "ρ=0.7\n",
    "driftMult = ρ*np.sin(2*np.pi*X[0])*np.sin(2.*np.pi*X[1])\n",
    "drift = (driftMult/R) * X"
   ]
  },
  {
   "cell_type": "code",
   "execution_count": 52,
   "metadata": {},
   "outputs": [],
   "source": [
    "metric = Metrics.Rander.from_Zermelo(np.eye(2),drift)\n",
    "hfmIn['metric']=metric"
   ]
  },
  {
   "cell_type": "code",
   "execution_count": 53,
   "metadata": {},
   "outputs": [],
   "source": [
    "piecewise_points_normals = [sample_points_normals(f,Tbounds,50) for f,Tbounds in piecewise_curve]\n",
    "geo_dist,eucl_dist = piecewise_local_distance(piecewise_points_normals,X,metric)"
   ]
  },
  {
   "cell_type": "code",
   "execution_count": 54,
   "metadata": {},
   "outputs": [],
   "source": [
    "tube = eucl_dist<0.1\n",
    "hfmIn['seeds'] = X[:,tube].T\n",
    "hfmIn['seedValues'] = geo_dist[tube]"
   ]
  },
  {
   "cell_type": "code",
   "execution_count": 55,
   "metadata": {},
   "outputs": [],
   "source": [
    "hfmIn.SetUniformTips([6,6]) # Add a few tips from which to backtrack geodesics"
   ]
  },
  {
   "cell_type": "code",
   "execution_count": 56,
   "metadata": {},
   "outputs": [
    {
     "name": "stdout",
     "output_type": "stream",
     "text": [
      "Field verbosity defaults to 1\n",
      "Field cosAngleMin defaults to 0.5\n",
      "Field refineStencilAtWallBoundary defaults to 0\n",
      "Field order defaults to 1\n",
      "Field seedRadius defaults to 0\n",
      "Fast marching solver completed in 0.010952 s.\n",
      "Field geodesicSolver defaults to Discrete\n",
      "Field geodesicStep defaults to 0.25\n",
      "Field geodesicWeightThreshold defaults to 0.001\n",
      "Field geodesicVolumeBound defaults to 8.45\n"
     ]
    }
   ],
   "source": [
    "hfmOut = hfmIn.Run()"
   ]
  },
  {
   "cell_type": "code",
   "execution_count": 57,
   "metadata": {},
   "outputs": [],
   "source": [
    "ax = plt.figure(figsize=[5,5]).gca()\n",
    "plt.contourf(*X,hfmOut['values'])\n",
    "for geo in hfmOut['geodesics']: plt.plot(*geo,color='r')\n",
    "plt.axis('equal');"
   ]
  },
  {
   "cell_type": "code",
   "execution_count": null,
   "metadata": {},
   "outputs": [],
   "source": []
  }
 ],
 "metadata": {
  "kernelspec": {
   "display_name": "Python 3",
   "language": "python",
   "name": "python3"
  },
  "language_info": {
   "codemirror_mode": {
    "name": "ipython",
    "version": 3
   },
   "file_extension": ".py",
   "mimetype": "text/x-python",
   "name": "python",
   "nbconvert_exporter": "python",
   "pygments_lexer": "ipython3",
   "version": "3.7.6"
  }
 },
 "nbformat": 4,
 "nbformat_minor": 4
}