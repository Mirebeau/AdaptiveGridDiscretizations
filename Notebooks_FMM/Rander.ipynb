{
 "cells": [
  {
   "cell_type": "markdown",
   "metadata": {},
   "source": [
    "# The HFM library - A fast marching solver with adaptive stencils\n",
    "\n",
    "## Part : Isotropic and anisotropic metrics\n",
    "## Chapter : Rander metrics\n",
    "\n",
    "In this notebook, we demonstrate anisotropic fast marching with Rander metrics, in two dimensions. \n",
    "\n",
    "Rander metrics are a generalization of Riemannian metrics, featuring an additional linear term. \n",
    "They are also a special case of non-symmetric Finslerian metrics.\n",
    "A Rander metric measures vectors according to the formula:\n",
    "$$\n",
    "    F_x(v) := \\|v\\|_{M(x)} + <\\omega(x), v>\n",
    "$$\n",
    "where $M$ is a field of symmetric positive definite tensors, and $\\omega$ is a vector field.\n",
    "Applications of Rander metrics include:\n",
    "* *Zermelo's navigation problem*: find the shortest path for a boat subject to a drift due to ocean current.\n",
    "* *Chan-Vese segmentation model*: find a sub-domain in an image minimizing an energy comprised of a region term and a boundary term.\n",
    "\n",
    "The HFM software computes the distance associated to a given Rander metric, and the corresponding minimal paths, by solving a variant of the eikonal PDE. Namely for all $x$ within a domain $\\Omega$\n",
    "$$\n",
    "    \\|\\nabla u(x)\\|_{D(x)} + <\\eta(x),\\nabla u(x)> = 1,\n",
    "%    \\|\\nabla u(x) - \\omega(x)\\|_{M(x)^{-1}} = 1.\n",
    "$$\n",
    "where $(D,\\eta)$ is the dual metric. Some algebraic formulas allow to express the dual metric in terms of $(M,\\omega)$, the primal metric, see the first two references below.\n",
    "\n",
    "\n",
    "**References** The experiments presented in this notebook, or close variants, are presented in the following publications.\n",
    "\n",
    "* On Zermelo's navigation problem\n",
    "\n",
    "Mirebeau, J.-M. (2014). Efficient fast marching with Finsler metrics. Numerische Mathematik, 126(3), 515–557. [link](https://hal.archives-ouvertes.fr/hal-00736431)\n",
    "\n",
    "Mirebeau, J.-M. (2017, April 12). Riemannian fast-marching on cartesian grids using Voronoi's first reduction of quadratic forms. HAL (Preprint). [link](https://hal.archives-ouvertes.fr/hal-01507334)\n",
    "\n",
    "* On the segmentation problem:\n",
    "\n",
    "Mirebeau, J.-M., Cohen, L. D., Chen, D., & Mirebeau, J.-M. (2016). Finsler Geodesics Evolution Model for Region based Active Contours. In E. R. H. Richard C Wilson & W. A. P. Smith (Eds.), (pp. 22.1–22.12). Presented at the Proceedings of the British Machine Vision Conference (BMVC), BMVA Press. http://doi.org/10.5244/C.30.22"
   ]
  },
  {
   "cell_type": "markdown",
   "metadata": {},
   "source": [
    "[**Summary**](Summary.ipynb) of volume Fast Marching Methods, this series of notebooks.\n",
    "\n",
    "[**Main summary**](../Summary.ipynb) of the Adaptive Grid Discretizations \n",
    "\tbook of notebooks, including the other volumes.\n",
    "\n",
    "# Table of contents\n",
    "  * [1. Zermelo's navigation problem](#1.-Zermelo's-navigation-problem)\n",
    "  * [2. The Chan-Vese model](#2.-The-Chan-Vese-model)\n",
    "    * [2.1 A synthetic instance](#2.1-A-synthetic-instance)\n",
    "\n",
    "\n",
    "\n",
    "This Python&reg; notebook is intended as documentation and testing for the [HamiltonFastMarching (HFM) library](https://github.com/mirebeau/HamiltonFastMarching), which also has interfaces to the Matlab&reg; and Mathematica&reg; languages. \n",
    "More information on the HFM library in the manuscript:\n",
    "* Jean-Marie Mirebeau, Jorg Portegies, \"Hamiltonian Fast Marching: A numerical solver for anisotropic and non-holonomic eikonal PDEs\", 2019 [(link)](https://hal.archives-ouvertes.fr/hal-01778322)\n",
    "\n",
    "Copyright Jean-Marie Mirebeau, University Paris-Sud, CNRS, University Paris-Saclay"
   ]
  },
  {
   "cell_type": "markdown",
   "metadata": {},
   "source": [
    "## 0. Importing the required libraries"
   ]
  },
  {
   "cell_type": "code",
   "execution_count": 1,
   "metadata": {},
   "outputs": [],
   "source": [
    "import sys; sys.path.insert(0,\"..\") # Allow import of agd from parent directory (useless if conda package installed)\n",
    "#from Miscellaneous import TocTools; print(TocTools.displayTOC('Rander','FMM'))"
   ]
  },
  {
   "cell_type": "code",
   "execution_count": 2,
   "metadata": {},
   "outputs": [],
   "source": [
    "from agd import Eikonal\n",
    "from agd.Plotting import savefig, quiver; #savefig.dirName = 'Figures/Rander'\n",
    "from agd.Metrics import Rander"
   ]
  },
  {
   "cell_type": "code",
   "execution_count": 3,
   "metadata": {},
   "outputs": [],
   "source": [
    "import numpy as np; xp=np\n",
    "%matplotlib inline\n",
    "import matplotlib.pyplot as plt"
   ]
  },
  {
   "cell_type": "markdown",
   "metadata": {},
   "source": [
    "### 0.1 Optional configuration\n",
    "Uncomment the following line use the GPU eikonal solver. (Comment it for the CPU eikonal solver.)"
   ]
  },
  {
   "cell_type": "code",
   "execution_count": 4,
   "metadata": {
    "tags": [
     "EikonalGPU_config"
    ]
   },
   "outputs": [
    {
     "name": "stdout",
     "output_type": "stream",
     "text": [
      "Replacing numpy with cupy, set to output 32bit ints and floats by default.\n",
      "Using cp.asarray(*,dtype=np.float32) as the default caster in ad.array.\n",
      "Returning a copy of function quiver which accepts cupy arrays as input.\n",
      "Returning a copy of module matplotlib.pyplot whose functions accept cupy arrays as input.\n",
      "Setting dictIn.default_mode = 'gpu' in module agd.Eikonal .\n"
     ]
    }
   ],
   "source": [
    "#import agd.AutomaticDifferentiation as ad; xp,quiver,plt,Eikonal = map(ad.cupy_friendly,(xp,quiver,plt,Eikonal))"
   ]
  },
  {
   "cell_type": "markdown",
   "metadata": {},
   "source": [
    "## 1. Zermelo's navigation problem\n",
    "\n",
    "We compute the travel time and shortest path for a vehicle with unit velocity in all directions, but suject to a  drift. In order words, the vehicle trajectory $\\gamma$ obeys at all times \n",
    "$$\n",
    "    \\| \\gamma'(t) - V(\\gamma(t)) \\|_{D(\\gamma(t))^{-1}} = 1,\n",
    "$$\n",
    "where $\\eta$ is the given drift, e.g. ocean current. The positive definite tensor field $D$ is chosen here equal to the identity, but could be modified to account for similar problems posed on manifolds.\n",
    "\n",
    "Zermelo's navigation is locally controllable iff for all $x$ within the domain $\\Omega$ one has\n",
    "$$\n",
    "    \\|V(x)\\|_{D(x)^{-1}} < 1.\n",
    "$$\n",
    "This condition is a pre-requisite for our eikonal solver to function."
   ]
  },
  {
   "cell_type": "code",
   "execution_count": 5,
   "metadata": {},
   "outputs": [],
   "source": [
    "hfmIn = Eikonal.dictIn({\n",
    "    'model':'Rander2',\n",
    "    'exportValues':1,\n",
    "    'seed':[0.,0.],\n",
    "})\n",
    "\n",
    "# Define the domain\n",
    "n=201\n",
    "hfmIn.SetRect(sides=[[-0.5,0.5],[-0.5,0.5]],dimx=n)\n",
    "hfmIn.SetUniformTips((6,6))"
   ]
  },
  {
   "cell_type": "code",
   "execution_count": 6,
   "metadata": {},
   "outputs": [],
   "source": [
    "X = hfmIn.Grid()\n",
    "R = np.linalg.norm(X,axis=0)\n",
    "driftMult = 0.9*np.sin(4*np.pi*X[0])*np.sin(4.*np.pi*X[1])\n",
    "drift = (driftMult/R) * X"
   ]
  },
  {
   "cell_type": "markdown",
   "metadata": {},
   "source": [
    "The drift, illustrated in the next figure, increases or decreases the vehicle motion depending on its position and orientation. In particular, we see that close to the image center, the drift field\n",
    "* *increases* velocity along directions $\\pm (1,1)$.\n",
    "* *decreases* velocity along directions $\\pm (1,-1)$. "
   ]
  },
  {
   "cell_type": "code",
   "execution_count": 7,
   "metadata": {},
   "outputs": [],
   "source": [
    "fig = plt.figure(figsize=[4,4]); plt.axis('equal'); \n",
    "plt.title('Drift vector field');\n",
    "quiver(*X,*drift,subsampling=(5,5));\n",
    "savefig(fig,\"DriftVectorField.png\")"
   ]
  },
  {
   "cell_type": "markdown",
   "metadata": {},
   "source": [
    "The Rander metric associated to Zermelo's problem is not completely trivial.\n",
    "The dual metric of Zermelo's navigation problem is $(D,-V)$, whereas the primal metric has a more complex expression, for which we refer to the papers cited in the introduction. In any case, the relevant formulas are implemented in the Rander class."
   ]
  },
  {
   "cell_type": "code",
   "execution_count": 8,
   "metadata": {},
   "outputs": [],
   "source": [
    "hfmIn['metric'] = Rander.from_Zermelo(xp.eye(2),drift) # Riemannian metric, and drift"
   ]
  },
  {
   "cell_type": "code",
   "execution_count": 9,
   "metadata": {},
   "outputs": [
    {
     "name": "stdout",
     "output_type": "stream",
     "text": [
      "Setting the kernel traits.\n",
      "Preparing the domain data (shape,metric,...)\n",
      "Preparing the problem rhs (cost, seeds,...)\n",
      "Preparing the GPU kernel\n",
      "Running the eikonal GPU kernel\n",
      "GPU kernel eikonal ran for 0.02789163589477539 seconds, and 49 iterations.\n",
      "Post-Processing\n"
     ]
    }
   ],
   "source": [
    "hfmOut = hfmIn.Run()"
   ]
  },
  {
   "cell_type": "code",
   "execution_count": 10,
   "metadata": {},
   "outputs": [],
   "source": [
    "fig = plt.figure(figsize=[4,4]); plt.axis('equal'); \n",
    "plt.title('Distance map, Zermelo\\'s navigation problem');\n",
    "plt.contourf(*X,hfmOut['values']);\n",
    "savefig(fig,\"ZermeloDistance.png\")"
   ]
  },
  {
   "cell_type": "code",
   "execution_count": 11,
   "metadata": {},
   "outputs": [],
   "source": [
    "fig = plt.figure(figsize=[4,4]); plt.axis('equal'); \n",
    "plt.title('Minimal geodesics, Zermelo\\'s navigation problem');\n",
    "for geo in hfmOut['geodesics']:  plt.plot(*geo) \n",
    "savefig(fig,\"ZermeloPaths.png\")"
   ]
  },
  {
   "cell_type": "markdown",
   "metadata": {},
   "source": [
    "## 2. The Chan-Vese model\n",
    "\n",
    "Variational image segmentation methods define image sub-domains by minimizing an energy, comprised of region terms and a boundary terms. The most well known model, the Mumford-Shah model, is also among the most complex and will not be addressed here (unkown number of regions, whose energy contribution is determined by a PDE, cracks, etc ...). \n",
    "\n",
    "In the case of binary image segmentation, one is minimizing\n",
    "$$\n",
    "    E(U) = F(U) + G(\\partial U)\n",
    "$$\n",
    "among all sub-domains $U \\subset \\Omega$, the second region being $\\Omega \\setminus U$.\n",
    "\n",
    "In the *Chan-Vese model*, the region term is linear and defined by a function $f$, while the boundary term is a measure of length, possibly defined by a Riemannian metric $M$.\n",
    "$$\n",
    "\\begin{aligned}\n",
    "    F(U) &= \\int_U f, &\n",
    "    G(\\partial U) &= \\mathrm{len}_M(\\partial U) \n",
    "\\end{aligned}\n",
    "$$\n",
    " \n",
    "Assume that $\\partial U$ is parametrized counter-clockwise by a path $\\gamma : [0,1] \\to \\Omega$, and that $f = \\mathrm{div} V$ in the neighborhood of $\\gamma$ (more on the computation of $V$ below). Then the energy rewrites, using Stokes theorem for the region term,\n",
    "$$\n",
    "    E(U) = \\int_0^1 \\| \\gamma'(t) \\|_{M(\\gamma(t))} + < \\gamma'(t), V(t)^\\perp> \\mathrm{d}t.\n",
    "$$\n",
    "In other words, $U$ is optimal if and only iff its boundary is a minimal path w.r.t. the Rander metric of parameters $(M,V^\\perp)$. \n",
    "\n",
    "\n",
    "**Application examples.** Due to lack of time, only a synthetic problem is presented in this notebook. See the reference in the introduction for application examples.\n",
    "\n",
    "**An iterative or non-iterative method ?** In ideal conditions, the above characterization allows to extract the optimal sub-domain $U$ in a single run of the fast marching algorithm, with the suitable Rander metric. In practice, an iterative approach is nevertheless required for the following reasons:\n",
    "* *Placement of the endpoints.* Two endpoints lying exactly on the boundary of the optimal $\\partial U$ would be needed to extract $\\partial U$ between them. These endpoints are usually not known initially.\n",
    "* *Positivity of the Rander metric* The above approach is only valid if $(M,V^\\perp)$ do define a positive Rander metric, in other words if $\\|V(x)^\\perp\\|_{M(x)^{-1}}$ at each point $x$. Such a vector $V$ is obtained by a convolution, or by solving a poisson equation. In order to meet the smallness requirement, these computations are often limited to a small band around some current guess of the boundary.\n",
    "* *Non-linear region functional* An iterative approach is required if the region term in the energy is non-linear.\n",
    "\n",
    "**Note on numerical experiments**\n",
    "We content ourselves with a purely synthetic instance, and refer to the reference cited in the introduction for application inspired examples."
   ]
  },
  {
   "cell_type": "markdown",
   "metadata": {},
   "source": [
    "### 2.1 A synthetic instance\n",
    "\n",
    "We check the soundness of the approach on a completely analytic instance.\n",
    "Contour length is measured using the Euclidean metric $M = \\mathrm{Id}$.\n",
    "On the other hand, the region term is defined by the integral of \n",
    "$$\n",
    "\\begin{aligned}\n",
    "    f(x) = 4(\\|x\\|^2-1) e^{-\\|x\\|^2}.\n",
    "\\end{aligned}\n",
    "$$\n",
    "This function is chosen so that $f=\\mathrm{div} V$ with \n",
    "$$\n",
    "\\begin{aligned}\n",
    "    V(x) = - 2 x e^{-\\|x\\|^2}.\n",
    "\\end{aligned}\n",
    "$$\n",
    "\n",
    "In view of the problem symmetries, the energy is maximized on some disk centered at the origin.\n",
    "The energy of a disk of radius $r$ is \n",
    "$$\n",
    "R(D_r) = 2 \\pi \\int_0^r f(r) r \\mathrm{d}r + 2 \\pi r.\n",
    "$$\n",
    "This energy is extremal when $1+r f(r)=0$, which occurs for $r=0.64..$ (minimum), and $r=0.30..$ (local maximum).\n",
    "\n",
    "<!---\n",
    "#Mathematica code to find the roots\n",
    "#F[r_] := 4 (r^2 - 1) Exp[-r^2]; \n",
    "#FindRoot[1 + r F[r], {r, #}] & /@ {0.3, 0.6}\n",
    "#{{r -> 0.300963}, {r -> 0.64182}}\n",
    "--->"
   ]
  },
  {
   "cell_type": "code",
   "execution_count": 12,
   "metadata": {},
   "outputs": [],
   "source": [
    "# Roots of 1+r f(r)\n",
    "r=xp.linspace(0,1)\n",
    "def f(r): \n",
    "    return 4*(r**2-1)*np.exp(-r**2)\n",
    "plt.plot(r,1+r*f(r),\n",
    "         r,0.*r);"
   ]
  },
  {
   "cell_type": "code",
   "execution_count": 13,
   "metadata": {},
   "outputs": [],
   "source": [
    "hfmIn = Eikonal.dictIn({\n",
    "    'model':'Rander2',\n",
    "    'exportValues':1,\n",
    "    \n",
    "    # Ideal case : the seed and tip are \n",
    "    # already on the optimal region boundary\n",
    "    'seed':[0.64,0.],\n",
    "    'tip': [-0.64,0.],\n",
    "})\n",
    "\n",
    "# Define the domain\n",
    "n=201\n",
    "hfmIn.SetRect(sides=[[-1,1],[-1,1]],dimx=n)\n",
    "\n",
    "X = hfmIn.Grid()\n",
    "R = np.linalg.norm(X,axis=0)\n",
    "v = -2*X*np.exp(-R**2)\n",
    "\n",
    "hfmIn['metric'] = Rander(xp.eye(2),[v[1],-v[0]])"
   ]
  },
  {
   "cell_type": "code",
   "execution_count": 14,
   "metadata": {},
   "outputs": [
    {
     "name": "stdout",
     "output_type": "stream",
     "text": [
      "Setting the kernel traits.\n",
      "Preparing the domain data (shape,metric,...)\n",
      "Preparing the problem rhs (cost, seeds,...)\n",
      "Preparing the GPU kernel\n",
      "Running the eikonal GPU kernel\n",
      "GPU kernel eikonal ran for 0.03343009948730469 seconds, and 91 iterations.\n",
      "Post-Processing\n"
     ]
    }
   ],
   "source": [
    "hfmOut = hfmIn.Run()"
   ]
  },
  {
   "cell_type": "code",
   "execution_count": 15,
   "metadata": {},
   "outputs": [],
   "source": [
    "plt.figure(figsize=[4,4]); plt.title('Distance map, Isoperimetric problem'); plt.axis('equal'); \n",
    "plt.contourf(*X,hfmOut['values']);"
   ]
  },
  {
   "cell_type": "code",
   "execution_count": 16,
   "metadata": {},
   "outputs": [],
   "source": [
    "# As expected, the extracted boundary is an arc of circle.\n",
    "fig = plt.figure(figsize=[4,4]); plt.title('Minimal geodesic, Isoperimetric problem'); plt.axis('equal'); \n",
    "plt.plot(*hfmOut['geodesic']);"
   ]
  },
  {
   "cell_type": "markdown",
   "metadata": {},
   "source": [
    "**Extracting the second half of the boundary**\n",
    "\n",
    "By exchanging the roles of the seeds and tips, we extract the second half of the boundary."
   ]
  },
  {
   "cell_type": "code",
   "execution_count": 17,
   "metadata": {},
   "outputs": [],
   "source": [
    "hfmIn['seed'],hfmIn['tip'] = hfmIn['tip'],hfmIn['seed'] "
   ]
  },
  {
   "cell_type": "code",
   "execution_count": 18,
   "metadata": {},
   "outputs": [
    {
     "name": "stdout",
     "output_type": "stream",
     "text": [
      "Setting the kernel traits.\n",
      "Preparing the domain data (shape,metric,...)\n",
      "Preparing the problem rhs (cost, seeds,...)\n",
      "Preparing the GPU kernel\n",
      "Running the eikonal GPU kernel\n",
      "GPU kernel eikonal ran for 0.03394341468811035 seconds, and 92 iterations.\n",
      "Post-Processing\n"
     ]
    }
   ],
   "source": [
    "hfmOut = hfmIn.Run()"
   ]
  },
  {
   "cell_type": "code",
   "execution_count": 19,
   "metadata": {},
   "outputs": [],
   "source": [
    "plt.figure(figsize=[4,4]); plt.title('Distance map, Isoperimetric problem'); plt.axis('equal'); \n",
    "plt.contourf(*X,hfmOut['values']);"
   ]
  },
  {
   "cell_type": "code",
   "execution_count": 20,
   "metadata": {},
   "outputs": [],
   "source": [
    "# As expected, the extracted boundary is an arc of circle.\n",
    "fig = plt.figure(figsize=[4,4]); plt.title('Minimal geodesics, Isoperimetric problem'); plt.axis('equal'); \n",
    "plt.plot(*hfmOut['geodesic']);"
   ]
  },
  {
   "cell_type": "markdown",
   "metadata": {},
   "source": [
    "<!---### Segmentation example\n",
    "\n",
    "This section is TODO. \n",
    "--->"
   ]
  },
  {
   "cell_type": "code",
   "execution_count": null,
   "metadata": {},
   "outputs": [],
   "source": []
  }
 ],
 "metadata": {
  "celltoolbar": "Format de la Cellule Texte Brut",
  "kernelspec": {
   "display_name": "Python 3",
   "language": "python",
   "name": "python3"
  },
  "language_info": {
   "codemirror_mode": {
    "name": "ipython",
    "version": 3
   },
   "file_extension": ".py",
   "mimetype": "text/x-python",
   "name": "python",
   "nbconvert_exporter": "python",
   "pygments_lexer": "ipython3",
   "version": "3.8.6"
  }
 },
 "nbformat": 4,
 "nbformat_minor": 2
}