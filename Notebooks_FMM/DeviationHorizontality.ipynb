{
 "cells": [
  {
   "cell_type": "markdown",
   "metadata": {},
   "source": [
    "# The HFM library - A fast marching solver with adaptive stencils\n",
    "\n",
    "## Part : Non holonomic metrics and curvature penalization\n",
    "## Chapter : Customized curvature penalization\n",
    "\n",
    "This notebook presents a re-implementation of the Reeds-Shepp sub-Riemannian model, using a three dimensional Riemannian metric of strong anisotropy on a domain with suitable periodic boundary conditions.\n",
    "\n",
    "Two *customizations* of the Reeds-Shepp model are then discussed, in connection with the application to tubular structure segmentation (with synthetic data in this notebook). We consider:\n",
    "* *curvature prescription*, rather than curvature penalization\n",
    "* *deviation from horizontality*, a data-driven modification of the original sub-Riemannian model\n",
    "\n",
    "We then show how a similar effect can be achieved with other non-holonomic models implemented in the HFM library, which implement different and often stronger forms of curvature penalization. Namely the Reeds-Sheep *forward* model (without reverse gear), the Euler elastica model (squared penalization of curvature), and the Dubins model (uniform bound on curvature).\n",
    "\n",
    "**Reader notice**. A general knowledge of the Reeds-Shepp sub-Riemannian model is required in the first part of this notebook.\n",
    "\n",
    "**Acknowledgement**. This notebook is part of a work in progress in collaboration with [Remco Duits](https://www.win.tue.nl/~rduits/), [Erik Bekkers](https://erikbekkers.bitbucket.io), [Laurent Cohen](https://www.ceremade.dauphine.fr/~cohen/), and [Da Chen](https://www.researchgate.net/profile/Da_Chen9). \n",
    "\n",
    "**References**. The experiments presented in this notebook are inspired by the following publications.\n",
    "\n",
    "Duits, R., Meesters, S. P., Mirebeau, J.-M., & Portegies, J. M. (2018). Optimal paths for variants of the 2D and 3D Reeds-Shepp car with applications in image analysis. Journal of Mathematical Imaging and Vision, 1–33. http://doi.org/ https://doi.org/10.1007/s10851-018-0795-z\n",
    "\n",
    "Chen, D., Mirebeau, J.-M., & Cohen, L. D. (2015). Global Minimum for Curvature Penalized Minimal Path Method. In M. W. J. Xianghua Xie & G. K. L. Tam (Eds.), (pp. 86.1–86.12). Presented at the Proceedings of the British Machine Vision Conference (BMVC), BMVA Press. http://doi.org/10.5244/C.29.86"
   ]
  },
  {
   "cell_type": "markdown",
   "metadata": {},
   "source": [
    "[**Summary**](Summary.ipynb) of volume Fast Marching Methods, this series of notebooks.\n",
    "\n",
    "[**Main summary**](../Summary.ipynb) of the Adaptive Grid Discretizations \n",
    "\tbook of notebooks, including the other volumes.\n",
    "\n",
    "# Table of contents\n",
    "  * [1. Re-creating the Reeds-Shepp model.](#1.-Re-creating-the-Reeds-Shepp-model.)\n",
    "  * [2. A synthetic tubular segmentation problem](#2.-A-synthetic-tubular-segmentation-problem)\n",
    "  * [3. Tubular structure extraction - cost based methods](#3.-Tubular-structure-extraction---cost-based-methods)\n",
    "    * [3.1 Isotropic metric](#3.1-Isotropic-metric)\n",
    "    * [3.2 Reeds-Shepp metric](#3.2-Reeds-Shepp-metric)\n",
    "    * [3.3 Possible issues](#3.3-Possible-issues)\n",
    "  * [4. Data-driven customization of the Reeds-Shepp model](#4.-Data-driven-customization-of-the-Reeds-Shepp-model)\n",
    "    * [4.1 Deviation from horizontality](#4.1-Deviation-from-horizontality)\n",
    "    * [4.2 Prescribing curvature](#4.2-Prescribing-curvature)\n",
    "    * [4.3 Combining deviation from horizontality and curvature prescription](#4.3-Combining-deviation-from-horizontality-and-curvature-prescription)\n",
    "  * [5. Other curvature penalization models](#5.-Other-curvature-penalization-models)\n",
    "    * [5.1 The extended Reeds-Shepp model](#5.1-The-extended-Reeds-Shepp-model)\n",
    "    * [5.2 Other models](#5.2-Other-models)\n",
    "\n",
    "\n",
    "\n",
    "This Python&reg; notebook is intended as documentation and testing for the [HamiltonFastMarching (HFM) library](https://github.com/mirebeau/HamiltonFastMarching), which also has interfaces to the Matlab&reg; and Mathematica&reg; languages. \n",
    "More information on the HFM library in the manuscript:\n",
    "* Jean-Marie Mirebeau, Jorg Portegies, \"Hamiltonian Fast Marching: A numerical solver for anisotropic and non-holonomic eikonal PDEs\", 2019 [(link)](https://hal.archives-ouvertes.fr/hal-01778322)\n",
    "\n",
    "Copyright Jean-Marie Mirebeau, University Paris-Sud, CNRS, University Paris-Saclay"
   ]
  },
  {
   "cell_type": "markdown",
   "metadata": {},
   "source": [
    "## 0. Importing the required libraries"
   ]
  },
  {
   "cell_type": "code",
   "execution_count": 1,
   "metadata": {},
   "outputs": [],
   "source": [
    "import sys; sys.path.insert(0,\"..\") # Allow import of agd from parent directory (useless if conda package installed)\n",
    "#from Miscellaneous import TocTools; print(TocTools.displayTOC('DeviationHorizontality','FMM'))"
   ]
  },
  {
   "cell_type": "code",
   "execution_count": 2,
   "metadata": {},
   "outputs": [],
   "source": [
    "from agd import Eikonal\n",
    "from agd.Metrics import Riemann # Riemannian metric\n",
    "from agd import AutomaticDifferentiation as ad\n",
    "from agd import LinearParallel as lp\n",
    "from agd import FiniteDifferences as fd\n",
    "from agd.Plotting import savefig, SetTitle3D; #savefig.dirName = 'Figures/DeviationHorizontality/'\n",
    "\n",
    "from agd.LinearParallel import outer_self as Outer # outer product v v^T of a vector with itself\n",
    "norm = ad.Optimization.norm"
   ]
  },
  {
   "cell_type": "code",
   "execution_count": 3,
   "metadata": {},
   "outputs": [],
   "source": [
    "import numpy as np; xp=np\n",
    "%matplotlib inline\n",
    "import matplotlib.pyplot as plt\n",
    "from mpl_toolkits.mplot3d import Axes3D # Plots 3D paths\n",
    "\n",
    "useMayavi = False\n",
    "if useMayavi:\n",
    "    from mayavi import mlab # Plots implicit surfaces"
   ]
  },
  {
   "cell_type": "code",
   "execution_count": 4,
   "metadata": {},
   "outputs": [],
   "source": [
    "def ReloadPackages():\n",
    "    from Miscellaneous.rreload import rreload\n",
    "    global Eikonal,Riemann,ad,lp\n",
    "    [Eikonal,Riemann,ad,lp] = rreload([Eikonal,Riemann,ad,lp],rootdir='..')"
   ]
  },
  {
   "cell_type": "markdown",
   "metadata": {},
   "source": [
    "### 0.1 Optional configuration\n",
    "Uncomment the following line to use the GPU eikonal solver. (Comment it for the CPU eikonal solver.)"
   ]
  },
  {
   "cell_type": "code",
   "execution_count": 5,
   "metadata": {
    "tags": [
     "EikonalGPU_config"
    ]
   },
   "outputs": [],
   "source": [
    "#xp,plt,Eikonal = map(ad.cupy_friendly,(xp,plt,Eikonal))"
   ]
  },
  {
   "cell_type": "markdown",
   "metadata": {},
   "source": [
    "## 1. Re-creating the Reeds-Shepp model. \n",
    "\n",
    "The Reeds-Shepp model is presumably the most well known instance a *sub-Riemannian* model. This is empirically described as a Riemannian model whose metric tensors have infinite eigenvalues. Our implementation is based on a relaxation of the sub-Riemannian constraint, replacing these infinite eigenvalues with a suitably large value denoted $\\varepsilon^{-2}$.\n",
    "\n",
    "The Reeds-Shepp model is posed on the three dimensional domain $R^2 \\times S^1$, whose third dimension is periodic.\n",
    "The relaxed metric, at position $(x,\\theta)$ and evaluated on tangent vector $(\\dot x, \\dot \\theta)$, reads\n",
    "$$\n",
    "    F_{(x,\\theta)}(\\dot x, \\dot \\theta) = <\\dot x,n(\\theta)>^2 \n",
    "    {+} \\varepsilon^{-2} <\\dot x,n(\\theta)^\\perp> ^2\n",
    "    {+} \\xi^2 |\\dot \\theta|^2,\n",
    "$$\n",
    "where $n(\\theta) := (\\cos \\theta, \\sin \\theta)$.\n",
    "The parameter $\\xi>0$, homogeneous to a length, balances the amount of curvature penalization, and should be regarded as a typical radius of curvature. \n",
    "\n",
    "The Reeds-Shepp model corresponds to the cost of motion of a wheelchair-like vehicle. The coordinates $(x,\\theta)\\in R^2 \\times S^1$ reflect the current state of the vehicle, comprised of a position $x$ and an orientation $\\theta$.\n",
    "The three terms appearing in this metric dictate respectively:\n",
    "* The cost of forward motion, in the direction $n(\\theta)$.\n",
    "* A very large price for lateral motion, in the direction $n(\\theta)^\\perp$. Such motions are forbidden for the vehicles considered, and their cost tends to $\\infty$ as $\\epsilon \\to 0$.\n",
    "* The cost of angular motion.\n",
    "\n",
    "**Anticipation** The first step of this notebook is to reproduce the original Reeds-Shepp model. Let us nevertheless anticipate on the data-driven, application dependent, customizations that we will develop.\n",
    "* *State dependent cost*. Multiplying the whole metric by a data-driven cost function $c(x,\\theta)^2$, smaller in regions where motion should be favored.\n",
    "* *Deviation from horizontality*. Replacing $n(\\theta)$ with a data driven direction $n(x,\\theta)$, corresponding to a locally preferred direction of motion.\n",
    "* *Prescribed curvature*. Subtracting $\\kappa <n(\\theta),\\dot x>$, where $\\kappa$ is a reference curvature, to the angular motion speed $\\dot \\theta$. The same effect can be achieved in other ways as well."
   ]
  },
  {
   "cell_type": "code",
   "execution_count": 7,
   "metadata": {},
   "outputs": [],
   "source": [
    "ϵ = 0.1 # Small parameter, for penalizing the sub-Riemannian constraint.\n",
    "ξ = 0.5 # Typical radius of curvature."
   ]
  },
  {
   "cell_type": "markdown",
   "metadata": {},
   "source": [
    "We use the domain $[-1,1] \\times [-0.4,0.4] \\times [-\\pi,\\pi]$, with periodic boundary conditions on the last coordinate."
   ]
  },
  {
   "cell_type": "code",
   "execution_count": 8,
   "metadata": {},
   "outputs": [],
   "source": [
    "hfmIn = Eikonal.dictIn({\n",
    "    'model':'Riemann3_Periodic', # The third dimension is periodic (and only this one), in this model.\n",
    "    'seed':[0.,0.,0.],\n",
    "    'arrayOrdering':'RowMajor',\n",
    "    'tips':[[x,y,t] for x in Eikonal.CenteredLinspace(-1,1,4) \n",
    "            for y in Eikonal.CenteredLinspace(-0.5,0.5,2)\n",
    "           for t in [0,np.pi/3,2*np.pi/3]],\n",
    "})\n",
    "hfmIn.SetRect(sides=[[-1,1],[-0.4,0.4],[-np.pi,np.pi]],dims=[101,40,101])\n",
    "X,Y,Theta = hfmIn.Grid()\n",
    "zero = np.zeros_like(X)"
   ]
  },
  {
   "cell_type": "code",
   "execution_count": 9,
   "metadata": {},
   "outputs": [],
   "source": [
    "if hfmIn.mode=='gpu': hfmIn.update({'model':'Riemann3','periodic':(False,False,True)})"
   ]
  },
  {
   "cell_type": "markdown",
   "metadata": {},
   "source": [
    "We implement below the Riemannian approximation of the Reeds-Shepp metric, which takes the matrix form\n",
    "$$\n",
    "    M(x,\\theta) = \n",
    "    \\begin{pmatrix}\n",
    "    n(\\theta) n(\\theta)^T + \\epsilon^{-2} n(\\theta)^\\perp (n(\\theta)^\\perp)^T & \\\\\n",
    "    & \\xi^2\n",
    "    \\end{pmatrix}.\n",
    "$$\n",
    "\n",
    "<!---ExoFR\n",
    "Implémenter cette métrique, en utilisant la classe `agd.Metrics.Riemann`, qui prend en entrée un tableau de taille \n",
    "$(d,d,n_1,\\cdots,n_d)$ décrivant les matrices SDP constituant la métrique.\n",
    "--->\n",
    "\n",
    "<!---ExoCode\n",
    "ReedsSheppMetric = Riemann( # TODO\n",
    "--->"
   ]
  },
  {
   "cell_type": "code",
   "execution_count": 10,
   "metadata": {
    "tags": [
     "TODO",
     "change_for_cupy_friendly_?",
     "Illegal_memory_access_in_geodesics"
    ]
   },
   "outputs": [],
   "source": [
    "ReedsSheppMetric = Riemann( # Riemannian metric defined by a positive definite tensor field\n",
    "    Outer([np.cos(Theta), np.sin(Theta),zero])\n",
    "    + ϵ**(-2)*Outer([-np.sin(Theta),np.cos(Theta),zero])\n",
    "    + ξ**2*Outer([zero,zero,1+zero])\n",
    ")"
   ]
  },
  {
   "cell_type": "code",
   "execution_count": 11,
   "metadata": {},
   "outputs": [],
   "source": [
    "hfmIn['metric'] = ReedsSheppMetric"
   ]
  },
  {
   "cell_type": "code",
   "execution_count": 12,
   "metadata": {},
   "outputs": [
    {
     "name": "stdout",
     "output_type": "stream",
     "text": [
      "Field verbosity defaults to 1\n",
      "Field order defaults to 1\n",
      "Field seedRadius defaults to 0\n",
      "Fast marching solver completed in 0.781493 s.\n",
      "Field geodesicSolver defaults to Discrete\n",
      "Field geodesicStep defaults to 0.25\n",
      "Field geodesicWeightThreshold defaults to 0.001\n",
      "Field geodesicVolumeBound defaults to 10.985\n"
     ]
    }
   ],
   "source": [
    "hfmOut = hfmIn.Run()"
   ]
  },
  {
   "cell_type": "markdown",
   "metadata": {},
   "source": [
    "The planar projections of the Reeds-Shepp minimal geodesics feature *cusps*, which are characteristic feature of sub-Riemannian models."
   ]
  },
  {
   "cell_type": "code",
   "execution_count": 13,
   "metadata": {},
   "outputs": [],
   "source": [
    "fig = plt.figure(figsize=[4,4]); plt.title('Planar projections of geodesics, Reeds-Shepp model'); plt.axis('equal'); \n",
    "for geo in hfmOut['geodesics']:  plt.plot(geo[0],geo[1]) "
   ]
  },
  {
   "cell_type": "markdown",
   "metadata": {},
   "source": [
    "Note that the genuine three dimensional geodesics in $R^2 \\times S^1$ are smooth."
   ]
  },
  {
   "cell_type": "code",
   "execution_count": 14,
   "metadata": {},
   "outputs": [],
   "source": [
    "ax = plt.axes(projection='3d'); SetTitle3D(ax,\"Minimal geodesics, Reeds-Shepp model\")\n",
    "for geo in hfmOut['geodesics']: plt.plot(*geo)"
   ]
  },
  {
   "cell_type": "markdown",
   "metadata": {},
   "source": [
    "## 2. A synthetic tubular segmentation problem\n",
    "\n",
    "We construct a synthetic tubular segmentation problem, designed to illustrate minimal path based tubular extraction methods. The test case is chosen so as to induce the following difficulties:\n",
    "* *Shortcuts* due to multiple crossings.\n",
    "* *Strong curvature*, in some regions.\n",
    "\n",
    "The image segmentation methods considered feature a preliminary filtering phase in which a number of features of the objects of interest are extracted, see the [notebook on tubular structure segmentation](Tubular.ipynb). In particular it is typical to process, with more or less accuracy, the following quantities:\n",
    "* A vesselness score, which is high on the tubular structure, and low elsewhere. \n",
    "* Some approximation of the tubular structure orientation.\n",
    "* Some (weak) approximation of the tubular structure curvature.\n",
    "\n",
    "In this synthetic test case, we do not attempt to implement the varied and complex image processing techniques involved to extract the above quantities, but directly construct them from the data."
   ]
  },
  {
   "cell_type": "code",
   "execution_count": 15,
   "metadata": {},
   "outputs": [],
   "source": [
    "def γ(t, height=0.3): return ad.array([np.sin(t), height*np.cos(3*t)])"
   ]
  },
  {
   "cell_type": "code",
   "execution_count": 16,
   "metadata": {},
   "outputs": [],
   "source": [
    "T = np.linspace(0,2*np.pi,100)\n",
    "plt.title(\"Curve to be extracted in the synthetic test case\"); plt.axis('equal')\n",
    "plt.plot(*γ(T));"
   ]
  },
  {
   "cell_type": "markdown",
   "metadata": {},
   "source": [
    "We rely on automatic differentiation to compute the tangent and curvature of $\\gamma$."
   ]
  },
  {
   "cell_type": "code",
   "execution_count": 17,
   "metadata": {},
   "outputs": [],
   "source": [
    "def tangent(γ,t):\n",
    "    \"\"\"Returns the normalized tangent to a curve gamma\"\"\"\n",
    "    t_ad = ad.Dense.identity(constant=t, shape_free=tuple())\n",
    "    γ_p = γ(t_ad).gradient(0) # gamma'\n",
    "    return γ_p / norm(γ_p,axis=0) \n",
    "\n",
    "def curvature(γ,t):\n",
    "    \"\"\"Returns the curvature of a planar curve gamma\"\"\"\n",
    "    t_ad = ad.Dense2.identity(constant=t, shape_free=tuple())\n",
    "    γ_ad = γ(t_ad)\n",
    "    γ_p  = γ_ad.gradient(0)\n",
    "    γ_pp = γ_ad.hessian(0,0)\n",
    "    return lp.det([γ_p,γ_pp]) / norm(γ_p,axis=0)**3\n",
    "\n",
    "def lift(γ,t):\n",
    "    \"\"\"Orientation in [0,2*pi] of the tangent vector.\"\"\"\n",
    "    t_ad = ad.Dense.identity(constant=t, shape_free=tuple())\n",
    "    γ_ad = γ(t_ad)\n",
    "    γ_p = γ_ad.gradient(0) # gamma'\n",
    "    return ad.array([*γ_ad.value, np.arctan2(γ_p[1],γ_p[0])])"
   ]
  },
  {
   "cell_type": "code",
   "execution_count": 18,
   "metadata": {},
   "outputs": [],
   "source": [
    "plt.title(\"Tangent vectors to the curve to be extracted\"\"\"); plt.axis('equal')\n",
    "plt.quiver(*γ(T),*tangent(γ,T)); "
   ]
  },
  {
   "cell_type": "code",
   "execution_count": 19,
   "metadata": {},
   "outputs": [],
   "source": [
    "#plt.title(\"Radius of curvature of γ\"\"\"); plt.axis('equal')\n",
    "#plt.quiver(*γ(T),*(lp.perp(tangent(γ,T))/curvature(γ,T))); "
   ]
  },
  {
   "cell_type": "markdown",
   "metadata": {},
   "source": [
    "We use a fast marching method to compute the distance to the curve $\\gamma$, which will be used to emulate a vesselness score. We also extend the tangent vector and curvature defined on $\\gamma$ to the whole domain, based on the nearest value.\n",
    "\n",
    "A small cost is used for the vertical coordinate, to account for the fact that a tubular structure direction is more difficult to extract than its position. "
   ]
  },
  {
   "cell_type": "code",
   "execution_count": 20,
   "metadata": {},
   "outputs": [],
   "source": [
    "IsotropicMetric = Riemann([\n",
    "    [1.,0.,0.],\n",
    "    [0.,1.,0.],\n",
    "    [0.,0.,0.1**2] \n",
    "])"
   ]
  },
  {
   "cell_type": "code",
   "execution_count": 21,
   "metadata": {
    "tags": [
     "TODO",
     "Not_removing_tips_causes_illegal_gpu_address"
    ]
   },
   "outputs": [],
   "source": [
    "hfmIn.update({\n",
    "    'metric' :IsotropicMetric,\n",
    "    'seeds' : lift(γ,T).T,\n",
    "    'seedValueVariation' : [*tangent(γ,T),curvature(γ,T)],\n",
    "    'exportValues' : 1,\n",
    "})\n",
    "#hfmIn.pop('tips',None);"
   ]
  },
  {
   "cell_type": "code",
   "execution_count": 22,
   "metadata": {},
   "outputs": [
    {
     "name": "stdout",
     "output_type": "stream",
     "text": [
      "Field verbosity defaults to 1\n",
      "Field order defaults to 1\n",
      "Field seedRadius defaults to 0\n",
      "Fast marching solver completed in 0.434963 s.\n",
      "Field geodesicSolver defaults to Discrete\n",
      "Field geodesicStep defaults to 0.25\n",
      "Field geodesicWeightThreshold defaults to 0.001\n",
      "Field geodesicVolumeBound defaults to 10.985\n"
     ]
    }
   ],
   "source": [
    "hfmOut = hfmIn.Run()"
   ]
  },
  {
   "cell_type": "code",
   "execution_count": 23,
   "metadata": {},
   "outputs": [],
   "source": [
    "values = hfmOut['values']\n",
    "γ_dist     = values.value\n",
    "γ_tgt_ext  = values.gradient([0,1])\n",
    "γ_curv_ext = values.gradient(2)"
   ]
  },
  {
   "cell_type": "code",
   "execution_count": 24,
   "metadata": {},
   "outputs": [],
   "source": [
    "if useMayavi:\n",
    "    mlab.contour3d(γ_dist, contours=[0.1])\n",
    "    mlab.show() # Displays in an external window."
   ]
  },
  {
   "cell_type": "markdown",
   "metadata": {},
   "source": [
    "This is what the previous command should display.\n",
    "![Image](Images/A9_CurveNeighborhood.png)"
   ]
  },
  {
   "cell_type": "markdown",
   "metadata": {},
   "source": [
    "We have extended the tangents to the curve $\\gamma(t)$ to a three dimensional vector field $v(x,\\theta)$ defined in the domain $[-1,1] \\times [-0.4,0.4] \\times [-\\pi,\\pi]$. Note that the curve $\\gamma$ has self intersections, hence the vector field *does* depend on the angular coordinate. At a self intersection point of $\\gamma$, where several tangents exist, the vector extension $v(x,\\theta)$ selects the one closest to $\\theta$.\n",
    "\n",
    "We illustrate these properties with some slices of the extension $V$, here denoted `γ_tgt_ext`. Note that in applications, which do not involve synthetic as here, the identification of the orientation of structures and its extension requires other methods. See the discussion in the [notebook on tubular structure segmentation](Tubular.ipynb)."
   ]
  },
  {
   "cell_type": "code",
   "execution_count": 25,
   "metadata": {},
   "outputs": [],
   "source": [
    "plt.title(\"Extension of tangent vector to the curve (slice)\")\n",
    "plt.xlabel('X'); plt.ylabel('Y'); plt.axis('equal')\n",
    "plt.quiver(X[::5,::5,0],Y[::5,::5,0],*γ_tgt_ext[:,::5,::5,30]);"
   ]
  },
  {
   "cell_type": "code",
   "execution_count": 26,
   "metadata": {},
   "outputs": [],
   "source": [
    "plt.title(\"Extention of tangent vector to the curve (another slice)\")\n",
    "plt.xlabel('X'); plt.ylabel('Y'); plt.axis('equal')\n",
    "plt.quiver(X[::5,::5,0],Y[::5,::5,0],*γ_tgt_ext[:,::5,::5,0]);"
   ]
  },
  {
   "cell_type": "code",
   "execution_count": 27,
   "metadata": {},
   "outputs": [],
   "source": [
    "plt.title(\"Extention of tangent vector to the curve (vertical slice)\")\n",
    "plt.xlabel('X'); plt.ylabel('θ');\n",
    "plt.quiver(X[::5,20,::5],Theta[::5,20,::5],*γ_tgt_ext[:,::5,20,::5]);"
   ]
  },
  {
   "cell_type": "code",
   "execution_count": 28,
   "metadata": {},
   "outputs": [
    {
     "data": {
      "text/plain": [
       "(101, 40, 101)"
      ]
     },
     "execution_count": 28,
     "metadata": {},
     "output_type": "execute_result"
    }
   ],
   "source": [
    "X.shape"
   ]
  },
  {
   "cell_type": "code",
   "execution_count": 29,
   "metadata": {},
   "outputs": [],
   "source": [
    "for key in ['metric','seedValueVariation','exportValues']: hfmIn.pop(key,None)"
   ]
  },
  {
   "cell_type": "markdown",
   "metadata": {},
   "source": [
    "## 3. Tubular structure extraction - cost based methods\n",
    "\n",
    "In order to extract a tubular structure of interest, one first produces a cost function that is decreasing w.r.t. the vesselness score. Here it is based on simulated data. The construction of a vesselness score and of the related cost functions is discussed in the [notebook on tubular structure segmentation](Tubular.ipynb).\n",
    "\n",
    "\n",
    "<!---ExoFR\n",
    "Implémenter une fonction synthétique qui favorise les chemins proches de la courbe $\\gamma$, avec l'expression\n",
    "$$\n",
    "    c(x) = (\\alpha + \\exp(-d(x, \\gamma)^2/\\sigma^2))^{-1}.\n",
    "$$\n",
    "Noter que l'inverse de $c(x)$ s'interprète comme une vitesse de propagation. On choisira $\\alpha = 0.3$, $\\sigma=0.2$.\n",
    "--->\n",
    "\n",
    "<!---ExoCode\n",
    "γ_cost = # TODO. Hint: involves γ_dist\n",
    "--->"
   ]
  },
  {
   "cell_type": "code",
   "execution_count": 30,
   "metadata": {},
   "outputs": [],
   "source": [
    "γ_cost = 1/( 0.3 + np.exp(-(γ_dist/0.2)**2) )"
   ]
  },
  {
   "cell_type": "markdown",
   "metadata": {},
   "source": [
    "Then one can multiply a given base metric by the cost function, and extract the shortest path between two given points of the domain."
   ]
  },
  {
   "cell_type": "markdown",
   "metadata": {},
   "source": [
    "### 3.1 Isotropic metric\n",
    "\n",
    "We apply the previous strategy with an isotropic metric."
   ]
  },
  {
   "cell_type": "code",
   "execution_count": 31,
   "metadata": {},
   "outputs": [],
   "source": [
    "IsotropicMetric_Cost =  IsotropicMetric.with_cost(γ_cost) "
   ]
  },
  {
   "cell_type": "code",
   "execution_count": 32,
   "metadata": {},
   "outputs": [],
   "source": [
    "hfmIn.update({\n",
    "    'metric': IsotropicMetric_Cost,\n",
    "     # Seed and tip are on the lifted curve, with correct tangent orientation\n",
    "    'seed':  lift(γ,-1),\n",
    "    'tip':   lift(γ, 1), \n",
    "})"
   ]
  },
  {
   "cell_type": "code",
   "execution_count": 33,
   "metadata": {},
   "outputs": [
    {
     "name": "stdout",
     "output_type": "stream",
     "text": [
      "Field verbosity defaults to 1\n",
      "Field order defaults to 1\n",
      "Field seedRadius defaults to 0\n",
      "Fast marching solver completed in 0.323243 s.\n",
      "Field geodesicSolver defaults to Discrete\n",
      "Field geodesicStep defaults to 0.25\n",
      "Field geodesicWeightThreshold defaults to 0.001\n",
      "Field geodesicVolumeBound defaults to 10.985\n"
     ]
    }
   ],
   "source": [
    "hfmOut = hfmIn.Run()"
   ]
  },
  {
   "cell_type": "markdown",
   "metadata": {},
   "source": [
    " The tubular structure extraction fails, due to the *shortcuts problem*: since curvature is not penalized, the extracted path may jump from one branch of the tubular structure to another."
   ]
  },
  {
   "cell_type": "code",
   "execution_count": 34,
   "metadata": {},
   "outputs": [],
   "source": [
    "fig = plt.figure(figsize=[4,4]); plt.title('Shortcuts problem, isotropic cost'); plt.axis('equal'); \n",
    "plt.plot(*γ(T),color='lightgray')\n",
    "plt.plot(*hfmOut['geodesic'][[0,1]]);"
   ]
  },
  {
   "cell_type": "markdown",
   "metadata": {},
   "source": [
    "### 3.2 Reeds-Shepp metric\n",
    "\n",
    "Using a scaled Reeds-Shepp metric, we may both favor curves close to the tubular structure, and penalize curvature hence also shortcuts."
   ]
  },
  {
   "cell_type": "code",
   "execution_count": 35,
   "metadata": {},
   "outputs": [],
   "source": [
    "ReedsSheppMetric_Cost = ReedsSheppMetric.with_cost(γ_cost)"
   ]
  },
  {
   "cell_type": "code",
   "execution_count": 36,
   "metadata": {},
   "outputs": [],
   "source": [
    "hfmIn['metric'] = ReedsSheppMetric_Cost"
   ]
  },
  {
   "cell_type": "code",
   "execution_count": 37,
   "metadata": {},
   "outputs": [
    {
     "name": "stdout",
     "output_type": "stream",
     "text": [
      "Field verbosity defaults to 1\n",
      "Field order defaults to 1\n",
      "Field seedRadius defaults to 0\n",
      "Fast marching solver completed in 0.625606 s.\n",
      "Field geodesicSolver defaults to Discrete\n",
      "Field geodesicStep defaults to 0.25\n",
      "Field geodesicWeightThreshold defaults to 0.001\n",
      "Field geodesicVolumeBound defaults to 10.985\n"
     ]
    }
   ],
   "source": [
    "hfmOut = hfmIn.Run()"
   ]
  },
  {
   "cell_type": "code",
   "execution_count": 38,
   "metadata": {},
   "outputs": [],
   "source": [
    "fig = plt.figure(figsize=[4,4]); plt.title('Correct segmentation, Reeds-Shepp cost'); plt.axis('equal'); \n",
    "plt.plot(*γ(T),color='lightgray')\n",
    "plt.plot(*hfmOut['geodesic'][[0,1]]);"
   ]
  },
  {
   "cell_type": "markdown",
   "metadata": {},
   "source": [
    "### 3.3 Possible issues\n",
    "\n",
    "The curvature penalization introduced with the Reeds-Shepp model may however create new difficulties, for at least two causes:\n",
    "* *Sensitivity to the endpoints orientation*. If the angular coordinate of the seed or the tip is not correctly estimated, then the accuracy of the tubular structure extraction is degraded.\n",
    "* *Difficulty to extract strongly curved portions*. Because of the curvature penalization, some parts of the tubular structure are hard to extract."
   ]
  },
  {
   "cell_type": "code",
   "execution_count": 39,
   "metadata": {},
   "outputs": [],
   "source": [
    "# Illustrating the problem with incorrect orientation at the seed and tip\n",
    "hfmIn.update({\n",
    "    'seed':(*γ(-1),-0.5),\n",
    "    'tip': (*γ( 1),-1),  \n",
    "})"
   ]
  },
  {
   "cell_type": "code",
   "execution_count": 40,
   "metadata": {},
   "outputs": [
    {
     "name": "stdout",
     "output_type": "stream",
     "text": [
      "Field verbosity defaults to 1\n",
      "Field order defaults to 1\n",
      "Field seedRadius defaults to 0\n",
      "Fast marching solver completed in 0.601963 s.\n",
      "Field geodesicSolver defaults to Discrete\n",
      "Field geodesicStep defaults to 0.25\n",
      "Field geodesicWeightThreshold defaults to 0.001\n",
      "Field geodesicVolumeBound defaults to 10.985\n"
     ]
    }
   ],
   "source": [
    "hfmOut = hfmIn.Run()"
   ]
  },
  {
   "cell_type": "code",
   "execution_count": 41,
   "metadata": {},
   "outputs": [],
   "source": [
    "fig = plt.figure(figsize=[4,4]); plt.title('Problem : Sensitivity to the endpoints orientation'); plt.axis('equal'); \n",
    "plt.plot(*γ(T),color='lightgray')\n",
    "plt.plot(*hfmOut['geodesic'][[0,1]]);\n",
    "for x,y,theta in (hfmIn['seed'],hfmIn['tip']): plt.quiver(x,y,np.cos(theta),np.sin(theta))"
   ]
  },
  {
   "cell_type": "code",
   "execution_count": 42,
   "metadata": {},
   "outputs": [],
   "source": [
    "# Illustrating the problem with far away seed an tip, and the presence of a strongly curved interval\n",
    "hfmIn.update({\n",
    "    'seed':lift(γ,-1),\n",
    "    'tip': lift(γ,1.9),  \n",
    "})"
   ]
  },
  {
   "cell_type": "code",
   "execution_count": 43,
   "metadata": {},
   "outputs": [
    {
     "name": "stdout",
     "output_type": "stream",
     "text": [
      "Field verbosity defaults to 1\n",
      "Field order defaults to 1\n",
      "Field seedRadius defaults to 0\n",
      "Fast marching solver completed in 0.620856 s.\n",
      "Field geodesicSolver defaults to Discrete\n",
      "Field geodesicStep defaults to 0.25\n",
      "Field geodesicWeightThreshold defaults to 0.001\n",
      "Field geodesicVolumeBound defaults to 10.985\n"
     ]
    }
   ],
   "source": [
    "hfmOut = hfmIn.Run()"
   ]
  },
  {
   "cell_type": "code",
   "execution_count": 44,
   "metadata": {},
   "outputs": [],
   "source": [
    "fig = plt.figure(figsize=[4,4]); plt.title('Problem : Extracting a strongly curved portion'); plt.axis('equal'); \n",
    "plt.plot(*γ(T),color='lightgray')\n",
    "plt.plot(*hfmOut['geodesic'][[0,1]]);"
   ]
  },
  {
   "cell_type": "markdown",
   "metadata": {},
   "source": [
    "## 4. Data-driven customization of the Reeds-Shepp model\n",
    "\n",
    "We present two modifications of the Reeds-Shepp model, designed to address the issues presented in 3.3."
   ]
  },
  {
   "cell_type": "markdown",
   "metadata": {},
   "source": [
    "### 4.1 Deviation from horizontality\n",
    "\n",
    "The sub-Riemannian model is modified by forward motion direction $n(\\theta) := (\\cos \\theta, \\sin \\theta)$ with an estimate of the tubular structure tangent direction, here produced synthetically. This compensates for a possible bad estimation of the tubular structure endpoints position or orientation.\n",
    "\n",
    "The wording **Deviation from horizontality** is due to Remco Duits and refers to the sub-Riemannian terminology, in which the allowed directions of motion are referred to as the *horizontal* plane.\n",
    "\n",
    "The (Riemannian relaxation of the sub-Riemannian) metric takes the form\n",
    "$$\n",
    "    F_{x,\\theta}(\\dot x,\\dot \\theta)^2 := c(x,\\theta)^2 (<\\dot x, v(x,\\theta)>^2 + \\epsilon^{-2} <\\dot x, v(x,\\theta)^\\perp> + \\xi^{-2} \\dot \\theta^2).\n",
    "$$\n",
    "Note that $v(x,\\theta)\\in S^1$ replaces $n(\\theta) = (\\cos \\theta,\\sin \\theta)$ in the original Reeds-Shepp model.\n",
    "The vector $v(x,\\theta)$ is meant to approximate the curve tangent direction, when the lifted curve is close to the position $(x,\\theta)$. \n",
    "\n",
    "<!---ExoFR\n",
    "Implémenter la métrique ci-dessus.\n",
    "--->\n",
    "\n",
    "<!---ExoCode\n",
    "tx,ty = γ_tgt_ext\n",
    "ReedsSheppMetric_CostDeviation = Riemann( # TODO\n",
    "--->"
   ]
  },
  {
   "cell_type": "code",
   "execution_count": 45,
   "metadata": {},
   "outputs": [],
   "source": [
    "# Estimate of the curve tangent direction\n",
    "tx,ty = γ_tgt_ext\n",
    "ReedsSheppMetric_CostDeviation = Riemann(\n",
    "    Outer([tx, ty,zero])\n",
    "    + ϵ**(-2)*Outer([-ty,tx,zero])\n",
    "    + ξ**2*Outer([zero,zero,1+zero])\n",
    ").with_cost(γ_cost)"
   ]
  },
  {
   "cell_type": "code",
   "execution_count": 46,
   "metadata": {},
   "outputs": [],
   "source": [
    "hfmIn.update({\n",
    "    'metric':ReedsSheppMetric_CostDeviation,\n",
    "    'seed':[*γ(-1.),-0.5],\n",
    "    'tip': [*γ(1.), -1],  \n",
    "})"
   ]
  },
  {
   "cell_type": "code",
   "execution_count": 47,
   "metadata": {},
   "outputs": [
    {
     "name": "stdout",
     "output_type": "stream",
     "text": [
      "Field verbosity defaults to 1\n",
      "Field order defaults to 1\n",
      "Field seedRadius defaults to 0\n",
      "Fast marching solver completed in 0.705063 s.\n",
      "Field geodesicSolver defaults to Discrete\n",
      "Field geodesicStep defaults to 0.25\n",
      "Field geodesicWeightThreshold defaults to 0.001\n",
      "Field geodesicVolumeBound defaults to 10.985\n"
     ]
    }
   ],
   "source": [
    "hfmOut = hfmIn.Run()"
   ]
  },
  {
   "cell_type": "code",
   "execution_count": 48,
   "metadata": {},
   "outputs": [],
   "source": [
    "fig = plt.figure(figsize=[4,4]); plt.title('Solution : Deviation from horizontality'); plt.axis('equal'); \n",
    "plt.plot(*γ(T),color='lightgray')\n",
    "plt.plot(*hfmOut['geodesic'][[0,1]]);\n",
    "for x,y,theta in (hfmIn['seed'],hfmIn['tip']): plt.quiver(x,y,np.cos(theta),np.sin(theta))"
   ]
  },
  {
   "cell_type": "markdown",
   "metadata": {},
   "source": [
    "Note the resilience to the bad guess (user provided) of the endpoints orientation."
   ]
  },
  {
   "cell_type": "markdown",
   "metadata": {},
   "source": [
    "### 4.2 Prescribing curvature\n",
    "\n",
    "In this section, we describe a model where the extracted path curvature is not penalized absolutely, but with respect to some reference value, estimated from the tubular structure to be extracted. (Here produced synthetically.)\n",
    "\n",
    "This avoids strongly penalizing path segments which are overlaid on strongly curved portions of the tubular structure. \n",
    "\n",
    "This effect can be achieved in two ways:\n",
    "* Adequate modification of the Reeds-Shepp model.\n",
    "* Construction of a cigar-shaped Riemannian metric in $R^2 \\times S^1$, meaning that at each point the symmetric tensor has two large eigenvalues, while one is small. <!---(Note : strictly speaking, this is not a sub-Riemannian model.)-->\n",
    "\n",
    "**Modified Reeds-Shepp model.**\n",
    "In the first case, the (Riemannian relaxation of sub-Riemannian) metric reads\n",
    "$$\n",
    "    F_{x,\\theta}(\\dot x,\\dot \\theta)^2 = c(x,\\theta)^2 \n",
    "    \\Big(<\\dot x,n(\\theta)>^2 + \\epsilon^{-2} <\\dot x,n(\\theta)^\\perp>^2 + \n",
    "    \\xi^2 (\\dot \\theta - \\mu(x,\\theta) <\\dot x,n(\\theta)>)^2 \\Big),\n",
    "$$\n",
    "where $\\mu(x,\\theta)$ is an estimate of the desired path curvature at $(x,\\theta)$, inferred from the data to be processed. Note that for a path parametrized at unit Euclidean speed in the physical domain, one has $<\\dot x,n(\\theta)> \\approx 1$, and $\\dot \\theta$ is indeed the path curvature.\n",
    "\n",
    "<!---ExoFR\n",
    "Implémenter la métrique ci-dessus, avec $\\mu(x,\\theta)=$`γ_curv_ext`.\n",
    "--->\n",
    "\n",
    "<!---ExoCode\n",
    "ReedsSheppMetric_CostCurv = Riemann( # TODO. Hint : γ_curv_ext\n",
    "--->"
   ]
  },
  {
   "cell_type": "code",
   "execution_count": 49,
   "metadata": {},
   "outputs": [],
   "source": [
    "# First approach : modifying the Reeds-Shepp model\n",
    "ReedsSheppMetric_CostCurv = Riemann(\n",
    "    Outer([np.cos(Theta), np.sin(Theta),zero])\n",
    "    + ϵ**(-2) * Outer([-np.sin(Theta), np.cos(Theta),zero])\n",
    "    + ξ**2 * Outer([γ_curv_ext*np.cos(Theta), γ_curv_ext*np.sin(Theta),-1+zero])\n",
    ").with_cost(γ_cost)"
   ]
  },
  {
   "cell_type": "code",
   "execution_count": 50,
   "metadata": {},
   "outputs": [],
   "source": [
    "hfmIn.update({    \n",
    "    'metric':ReedsSheppMetric_CostCurv,\n",
    "    'seed':lift(γ,-1.),\n",
    "    'tip': lift(γ,1.9),  \n",
    "})"
   ]
  },
  {
   "cell_type": "code",
   "execution_count": 51,
   "metadata": {},
   "outputs": [
    {
     "name": "stdout",
     "output_type": "stream",
     "text": [
      "Field verbosity defaults to 1\n",
      "Field order defaults to 1\n",
      "Field seedRadius defaults to 0\n",
      "Fast marching solver completed in 1.08601 s.\n",
      "Field geodesicSolver defaults to Discrete\n",
      "Field geodesicStep defaults to 0.25\n",
      "Field geodesicWeightThreshold defaults to 0.001\n",
      "Field geodesicVolumeBound defaults to 10.985\n"
     ]
    }
   ],
   "source": [
    "hfmOut = hfmIn.Run()"
   ]
  },
  {
   "cell_type": "markdown",
   "metadata": {},
   "source": [
    "The strongly curved bottom-right portion of the curve is now correctly extracted."
   ]
  },
  {
   "cell_type": "code",
   "execution_count": 52,
   "metadata": {},
   "outputs": [],
   "source": [
    "fig = plt.figure(figsize=[4,4]); plt.title('Solution : Prescribing curvature (Reeds-Shepp metric)'); plt.axis('equal'); \n",
    "plt.plot(*γ(T),color='lightgray')\n",
    "plt.plot(*hfmOut['geodesic'][[0,1]]);"
   ]
  },
  {
   "cell_type": "markdown",
   "metadata": {},
   "source": [
    "**Cigar shaped metric.** \n",
    "We construct a metric which strongly guides the paths along the vessels, lifted in the three dimensional $R^2 \\times S^1$ space. \n",
    "Denoting $p = (x,\\theta)$, and $\\dot p = (\\dot x,\\dot \\theta)$, the metric takes the form\n",
    "$$\n",
    "    F_p(\\dot p)^2 = c(p)^2 \n",
    "    \\Big( <\\dot p,v(p)>^2 + \\epsilon^{-2} (\\|\\dot p\\|^2 - <\\dot p,v(p)>^2) \\Big)\n",
    "$$\n",
    "where $v(p) = v_0(p)/\\|v_0(p)\\|$ and \n",
    "$$\n",
    "    v_0(x,\\theta) = v(\\cos \\theta,\\sin \\theta,\\mu(x,\\theta)).\n",
    "$$\n",
    "denoting by $\\mu(x,\\theta) = $`γ_curv_ext` the tube curvature.\n",
    "\n",
    "<!---ExoFR\n",
    "Implémenter la métrique ci-dessus.\n",
    "--->\n",
    "\n",
    "<!---ExoCode\n",
    "# Hint : v_0 = ad.array([np.cos(Theta), np.sin(Theta), γ_curv_ext])\n",
    "--->"
   ]
  },
  {
   "cell_type": "code",
   "execution_count": 53,
   "metadata": {},
   "outputs": [],
   "source": [
    "# Second approach : cigar-shaped metric\n",
    "v_Curv = ad.array([np.cos(Theta), np.sin(Theta), γ_curv_ext])\n",
    "v_Curv /= np.sqrt(v_Curv[0]**2+v_Curv[1]**2+v_Curv[2]**2)\n",
    "\n",
    "Identity = fd.as_field(xp.eye(3),γ_cost.shape)\n",
    "CigarMetric_CostCurv = Riemann(\n",
    "    Outer(v_Curv)\n",
    "    + ϵ**(-2)*(Identity-Outer(v_Curv))\n",
    ").with_cost(γ_cost)"
   ]
  },
  {
   "cell_type": "code",
   "execution_count": 54,
   "metadata": {},
   "outputs": [],
   "source": [
    "hfmIn['metric']=CigarMetric_CostCurv"
   ]
  },
  {
   "cell_type": "code",
   "execution_count": 55,
   "metadata": {},
   "outputs": [
    {
     "name": "stdout",
     "output_type": "stream",
     "text": [
      "Field verbosity defaults to 1\n",
      "Field order defaults to 1\n",
      "Field seedRadius defaults to 0\n",
      "Fast marching solver completed in 1.03778 s.\n",
      "Field geodesicSolver defaults to Discrete\n",
      "Field geodesicStep defaults to 0.25\n",
      "Field geodesicWeightThreshold defaults to 0.001\n",
      "Field geodesicVolumeBound defaults to 10.985\n"
     ]
    }
   ],
   "source": [
    "hfmOut = hfmIn.Run()"
   ]
  },
  {
   "cell_type": "code",
   "execution_count": 56,
   "metadata": {},
   "outputs": [],
   "source": [
    "fig = plt.figure(figsize=[4,4]); plt.title('Solution : Prescribing curvature (Cigar metric)'); plt.axis('equal'); \n",
    "plt.plot(*γ(T),color='lightgray')\n",
    "plt.plot(*hfmOut['geodesic'][[0,1]]);"
   ]
  },
  {
   "cell_type": "markdown",
   "metadata": {},
   "source": [
    "### 4.3 Combining deviation from horizontality and curvature prescription\n",
    "\n",
    "The two previously methods can be combined, so as to extract highly curved tubular structures with inaccurate endpoints orientation. Again, one can either modify the Reeds-Shepp model, or produce a cigar-shaped Riemannian metric."
   ]
  },
  {
   "cell_type": "code",
   "execution_count": 59,
   "metadata": {},
   "outputs": [],
   "source": [
    "# First approach : modifying the Reeds-Shepp model\n",
    "tx,ty = γ_tgt_ext\n",
    "\n",
    "ReedsSheppMetric_CostDeviationCurv =Riemann(\n",
    "    Outer([tx, ty,zero])\n",
    "    + ϵ**(-2) * Outer([-ty, tx,zero])\n",
    "    \n",
    "    # We here increase a bit curvature penalization \n",
    "    + (3*ξ)**2 * Outer([γ_curv_ext*tx, γ_curv_ext*ty,-1+zero])\n",
    ").with_cost(γ_cost)"
   ]
  },
  {
   "cell_type": "code",
   "execution_count": 60,
   "metadata": {},
   "outputs": [],
   "source": [
    "hfmIn.update({\n",
    "    'metric':ReedsSheppMetric_CostDeviationCurv,\n",
    "    'seed':[*γ(-1.),-0.5],\n",
    "    'tip' :[*γ(1.9),1],  # Strong curvature portion, bad endpoints orientation\n",
    "})"
   ]
  },
  {
   "cell_type": "code",
   "execution_count": 61,
   "metadata": {},
   "outputs": [
    {
     "name": "stdout",
     "output_type": "stream",
     "text": [
      "Field verbosity defaults to 1\n",
      "Field order defaults to 1\n",
      "Field seedRadius defaults to 0\n",
      "Fast marching solver completed in 0.996443 s.\n",
      "Field geodesicSolver defaults to Discrete\n",
      "Field geodesicStep defaults to 0.25\n",
      "Field geodesicWeightThreshold defaults to 0.001\n",
      "Field geodesicVolumeBound defaults to 10.985\n"
     ]
    }
   ],
   "source": [
    "hfmOut = hfmIn.Run()"
   ]
  },
  {
   "cell_type": "code",
   "execution_count": 62,
   "metadata": {},
   "outputs": [],
   "source": [
    "fig = plt.figure(figsize=[4,4]); plt.title('Horizontality deviation, prescribed curvature (RS)'); plt.axis('equal'); \n",
    "plt.plot(*γ(T),color='lightgray')\n",
    "plt.plot(*hfmOut['geodesic'][[0,1]]);\n",
    "for x,y,theta in (hfmIn['seed'],hfmIn['tip']): plt.quiver(x,y,np.cos(theta),np.sin(theta))"
   ]
  },
  {
   "cell_type": "markdown",
   "metadata": {},
   "source": [
    "Note the resilience to the high curvature portions, and to the bad guesses (user provided) of the endpoints tangents.\n",
    "\n",
    "**TODO** Understand what happens at the second crossing."
   ]
  },
  {
   "cell_type": "code",
   "execution_count": 63,
   "metadata": {},
   "outputs": [],
   "source": [
    "# Cigar shaped construction\n",
    "v_DeviationCurv = ad.array([*γ_tgt_ext, γ_curv_ext])\n",
    "v_DeviationCurv /= norm(v_DeviationCurv,axis=0)\n",
    "\n",
    "CigarMetric_CostDeviationCurv = Riemann(\n",
    "    Outer(v_DeviationCurv)\n",
    "    + ϵ**(-2)*(Identity-Outer(v_DeviationCurv))\n",
    ").with_cost(γ_cost)"
   ]
  },
  {
   "cell_type": "code",
   "execution_count": 64,
   "metadata": {},
   "outputs": [],
   "source": [
    "hfmIn.update({    \n",
    "    'metric':CigarMetric_CostDeviationCurv,\n",
    "    'seed':[*γ(-1.),-0.5],\n",
    "    'tip': [*γ(1.9),1],  \n",
    "})"
   ]
  },
  {
   "cell_type": "code",
   "execution_count": 65,
   "metadata": {},
   "outputs": [
    {
     "name": "stdout",
     "output_type": "stream",
     "text": [
      "Field verbosity defaults to 1\n",
      "Field order defaults to 1\n",
      "Field seedRadius defaults to 0\n",
      "Fast marching solver completed in 1.17522 s.\n",
      "Field geodesicSolver defaults to Discrete\n",
      "Field geodesicStep defaults to 0.25\n",
      "Field geodesicWeightThreshold defaults to 0.001\n",
      "Field geodesicVolumeBound defaults to 10.985\n"
     ]
    }
   ],
   "source": [
    "hfmOut = hfmIn.Run()"
   ]
  },
  {
   "cell_type": "code",
   "execution_count": 66,
   "metadata": {},
   "outputs": [],
   "source": [
    "fig = plt.figure(figsize=[4,4]); plt.title('Horizontality deviation, prescribed curvature (Cigar)'); plt.axis('equal'); \n",
    "plt.plot(*γ(T),color='lightgray')\n",
    "plt.plot(*hfmOut['geodesic'][[0,1]]);\n",
    "for x,y,theta in (hfmIn['seed'],hfmIn['tip']): plt.quiver(x,y,np.cos(theta),np.sin(theta))"
   ]
  },
  {
   "cell_type": "markdown",
   "metadata": {},
   "source": [
    "## 5. Other curvature penalization models\n"
   ]
  },
  {
   "cell_type": "markdown",
   "metadata": {},
   "source": [
    "### 5.1 The extended Reeds-Shepp model\n",
    "\n",
    "We reproduce the above experiment using the extended Reeds shepp model."
   ]
  },
  {
   "cell_type": "code",
   "execution_count": 67,
   "metadata": {},
   "outputs": [],
   "source": [
    "hfmIn = Eikonal.dictIn({\n",
    "    'model':'ReedsSheppExt2',\n",
    "    'eps':ϵ, # Relaxation parameter\n",
    "    \n",
    "    'seed':[*γ(-1.),-0.5],\n",
    "    'tip' :[*γ(1.9),1],  \n",
    "})\n",
    "hfmIn.SetRect(sides=[[-1,1],[-0.4,0.4]],dimx=101)\n",
    "hfmIn.nTheta = 101"
   ]
  },
  {
   "cell_type": "code",
   "execution_count": 68,
   "metadata": {},
   "outputs": [],
   "source": [
    "X2,X2,Theta2 = hfmIn.Grid()"
   ]
  },
  {
   "cell_type": "markdown",
   "metadata": {},
   "source": [
    "The angular coordinates `Theta2` lies here in $[0,2\\pi]$, whereas the previous experiments involved `Theta`$\\in [-\\pi,\\pi]$.\n",
    "For consistency, one has to *rool* the arrays, around their last coordinate."
   ]
  },
  {
   "cell_type": "code",
   "execution_count": 69,
   "metadata": {},
   "outputs": [
    {
     "data": {
      "text/plain": [
       "5.58058959681381e-15"
      ]
     },
     "execution_count": 69,
     "metadata": {},
     "output_type": "execute_result"
    }
   ],
   "source": [
    "angleDiff = np.roll(Theta[0,0,:],51)-Theta2[0,0,:]\n",
    "np.max(np.abs(angleDiff*(2.*np.pi+angleDiff)))"
   ]
  },
  {
   "cell_type": "code",
   "execution_count": 70,
   "metadata": {},
   "outputs": [],
   "source": [
    "hfmIn.update({\n",
    "    'cost' : np.roll(γ_cost,51),\n",
    "    'xi' : 3*ξ, # Typical radius of curvature \n",
    "    'theta' : np.roll(np.arctan2(γ_tgt_ext[1],γ_tgt_ext[0]),51), # Deviation from horizontality\n",
    "    'kappa' : np.roll(γ_curv_ext,51), # Reference curvature\n",
    "})"
   ]
  },
  {
   "cell_type": "code",
   "execution_count": 71,
   "metadata": {},
   "outputs": [
    {
     "name": "stdout",
     "output_type": "stream",
     "text": [
      "Field verbosity defaults to 1\n",
      "Field order defaults to 1\n",
      "Field seedRadius defaults to 0\n",
      "Fast marching solver completed in 1.15887 s.\n",
      "Field geodesicSolver defaults to Discrete\n",
      "Field geodesicStep defaults to 0.25\n",
      "Field geodesicWeightThreshold defaults to 0.001\n",
      "Field geodesicVolumeBound defaults to 10.985\n"
     ]
    }
   ],
   "source": [
    "hfmOut = hfmIn.Run()"
   ]
  },
  {
   "cell_type": "code",
   "execution_count": 72,
   "metadata": {},
   "outputs": [],
   "source": [
    "fig = plt.figure(figsize=[4,4]); plt.title('Horizontality deviation, prescribed curvature (Cigar)'); plt.axis('equal'); \n",
    "plt.plot(*γ(T),color='lightgray')\n",
    "plt.plot(*hfmOut['geodesic'][[0,1]]);\n",
    "for x,y,theta in (hfmIn['seed'],hfmIn['tip']): plt.quiver(x,y,np.cos(theta),np.sin(theta))"
   ]
  },
  {
   "cell_type": "markdown",
   "metadata": {},
   "source": [
    "### 5.2 Other models\n",
    "\n",
    "The same parameters apply to the extended Reeds-Shepp forward, Euler elastica, and Dubins models. "
   ]
  },
  {
   "cell_type": "code",
   "execution_count": 73,
   "metadata": {},
   "outputs": [],
   "source": [
    "hfmIn['model'] = 'ElasticaExt2_5'"
   ]
  },
  {
   "cell_type": "markdown",
   "metadata": {},
   "source": [
    "In addition, since these models are asymmetric, even greater portions of the tubular structure can be extracted in a single run"
   ]
  },
  {
   "cell_type": "code",
   "execution_count": 74,
   "metadata": {},
   "outputs": [],
   "source": [
    "hfmIn['tip'] = lift(γ,3.1)"
   ]
  },
  {
   "cell_type": "code",
   "execution_count": 75,
   "metadata": {
    "tags": [
     "TODO",
     "gpu_fim_requires_precompute"
    ]
   },
   "outputs": [],
   "source": [
    "if xp is not np: \n",
    "    # Bug : The gpu solver requires one of these options, otherwise IllegalMemoryAccess. Reason unclear.\n",
    "#    hfmIn['solver']='AGSI' (default is 'FIM' here)\n",
    "    hfmIn['precompute_scheme']=True"
   ]
  },
  {
   "cell_type": "code",
   "execution_count": 76,
   "metadata": {},
   "outputs": [
    {
     "name": "stdout",
     "output_type": "stream",
     "text": [
      "Field verbosity defaults to 1\n",
      "Field order defaults to 1\n",
      "Field seedRadius defaults to 0\n",
      "Fast marching solver completed in 3.54341 s.\n",
      "Field geodesicSolver defaults to Discrete\n",
      "Field geodesicStep defaults to 0.25\n",
      "Field geodesicWeightThreshold defaults to 0.001\n",
      "Field geodesicVolumeBound defaults to 10.985\n"
     ]
    }
   ],
   "source": [
    "hfmOut = hfmIn.Run()"
   ]
  },
  {
   "cell_type": "code",
   "execution_count": 77,
   "metadata": {},
   "outputs": [],
   "source": [
    "fig = plt.figure(figsize=[4,4]); plt.title('Horizontality deviation, prescribed curvature (Cigar)'); plt.axis('equal'); \n",
    "plt.plot(*γ(T),color='lightgray')\n",
    "plt.plot(*hfmOut['geodesic'][[0,1]]);\n",
    "for x,y,theta in (hfmIn['seed'],hfmIn['tip']): plt.quiver(x,y,np.cos(theta),np.sin(theta))"
   ]
  },
  {
   "cell_type": "markdown",
   "metadata": {},
   "source": [
    "Also, exchanging the role of the seeds and tips allows to extract the other portion of tube. "
   ]
  },
  {
   "cell_type": "code",
   "execution_count": 78,
   "metadata": {},
   "outputs": [],
   "source": [
    "hfmIn['seed'],hfmIn['tip'] = hfmIn['tip'],hfmIn['seed']"
   ]
  },
  {
   "cell_type": "code",
   "execution_count": 79,
   "metadata": {},
   "outputs": [
    {
     "name": "stdout",
     "output_type": "stream",
     "text": [
      "Field verbosity defaults to 1\n",
      "Field order defaults to 1\n",
      "Field seedRadius defaults to 0\n",
      "Fast marching solver completed in 3.6185 s.\n",
      "Field geodesicSolver defaults to Discrete\n",
      "Field geodesicStep defaults to 0.25\n",
      "Field geodesicWeightThreshold defaults to 0.001\n",
      "Field geodesicVolumeBound defaults to 10.985\n"
     ]
    }
   ],
   "source": [
    "hfmOut = hfmIn.Run()"
   ]
  },
  {
   "cell_type": "code",
   "execution_count": 80,
   "metadata": {},
   "outputs": [],
   "source": [
    "fig = plt.figure(figsize=[4,4]); plt.title('Horizontality deviation, prescribed curvature (Cigar)'); plt.axis('equal'); \n",
    "plt.plot(*γ(T),color='lightgray')\n",
    "plt.plot(*hfmOut['geodesic'][[0,1]]);\n",
    "for x,y,theta in (hfmIn['seed'],hfmIn['tip']): plt.quiver(x,y,np.cos(theta),np.sin(theta))"
   ]
  },
  {
   "cell_type": "code",
   "execution_count": null,
   "metadata": {},
   "outputs": [],
   "source": []
  }
 ],
 "metadata": {
  "celltoolbar": "Format de la Cellule Texte Brut",
  "kernelspec": {
   "display_name": "Python 3 (ipykernel)",
   "language": "python",
   "name": "python3"
  },
  "language_info": {
   "codemirror_mode": {
    "name": "ipython",
    "version": 3
   },
   "file_extension": ".py",
   "mimetype": "text/x-python",
   "name": "python",
   "nbconvert_exporter": "python",
   "pygments_lexer": "ipython3",
   "version": "3.10.8"
  },
  "varInspector": {
   "cols": {
    "lenName": 16,
    "lenType": 16,
    "lenVar": 40
   },
   "kernels_config": {
    "python": {
     "delete_cmd_postfix": "",
     "delete_cmd_prefix": "del ",
     "library": "var_list.py",
     "varRefreshCmd": "print(var_dic_list())"
    },
    "r": {
     "delete_cmd_postfix": ") ",
     "delete_cmd_prefix": "rm(",
     "library": "var_list.r",
     "varRefreshCmd": "cat(var_dic_list()) "
    }
   },
   "types_to_exclude": [
    "module",
    "function",
    "builtin_function_or_method",
    "instance",
    "_Feature"
   ],
   "window_display": false
  }
 },
 "nbformat": 4,
 "nbformat_minor": 2
}