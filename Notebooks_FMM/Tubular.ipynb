{
 "cells": [
  {
   "cell_type": "markdown",
   "metadata": {},
   "source": [
    "# The HFM library - A fast marching solver with adaptive stencils\n",
    "\n",
    "## Part : Image models and segmentation\n",
    "## Chapter : Tubular structure segmentation\n",
    "\n",
    "\n",
    "We illustrate several approaches of using the fast marching algorithm for the segmentation of vessels in a medical image. In particular, techniques such as dimension lifting and curvature penalization are demonstrated. The segmentation of tubular structures in images is a domain of research in itself, on which the author only has moderate expertise, hence this notebook has no pretention to be exhaustive or state of the art. It should only be regarded as an advanced demo of the HFM library."
   ]
  },
  {
   "cell_type": "markdown",
   "metadata": {},
   "source": [
    "[**Summary**](Summary.ipynb) of volume Fast Marching Methods, this series of notebooks.\n",
    "\n",
    "[**Main summary**](../Summary.ipynb) of the Adaptive Grid Discretizations \n",
    "\tbook of notebooks, including the other volumes.\n",
    "\n",
    "# Table of contents\n",
    "  * [1. Preliminary image filtering](#1.-Preliminary-image-filtering)\n",
    "    * [1.1 Gabor-like filters](#1.1-Gabor-like-filters)\n",
    "    * [1.2 Maximization over radii and/or orientations](#1.2-Maximization-over-radii-and/or-orientations)\n",
    "  * [2. Isotropic models](#2.-Isotropic-models)\n",
    "    * [2.1 Planar shortest paths](#2.1-Planar-shortest-paths)\n",
    "    * [2.2 Radius lifted metrics](#2.2-Radius-lifted-metrics)\n",
    "    * [2.3 Gray-level consistency](#2.3-Gray-level-consistency)\n",
    "  * [3. Curvature penalized models](#3.-Curvature-penalized-models)\n",
    "    * [3.1 The Reeds-Shepp model](#3.1-The-Reeds-Shepp-model)\n",
    "    * [3.2 The Euler-Mumford elastica model](#3.2-The-Euler-Mumford-elastica-model)\n",
    "  * [4. Other models](#4.-Other-models)\n",
    "\n",
    "\n",
    "\n",
    "This Python&reg; notebook is intended as documentation and testing for the [HamiltonFastMarching (HFM) library](https://github.com/mirebeau/HamiltonFastMarching), which also has interfaces to the Matlab&reg; and Mathematica&reg; languages. \n",
    "More information on the HFM library in the manuscript:\n",
    "* Jean-Marie Mirebeau, Jorg Portegies, \"Hamiltonian Fast Marching: A numerical solver for anisotropic and non-holonomic eikonal PDEs\", 2019 [(link)](https://hal.archives-ouvertes.fr/hal-01778322)\n",
    "\n",
    "Copyright Jean-Marie Mirebeau, University Paris-Sud, CNRS, University Paris-Saclay"
   ]
  },
  {
   "cell_type": "markdown",
   "metadata": {},
   "source": [
    "## 0. Preliminary imports\n",
    "\n",
    "\n",
    "### 0.1 Required libraries\n",
    "\n",
    "We begin by setting up the environnement for calling the Hamiltonian-Fast-Marching (HFM) library, importing a few additional libraries, and defining some commodity functions."
   ]
  },
  {
   "cell_type": "code",
   "execution_count": 1,
   "metadata": {},
   "outputs": [],
   "source": [
    "import sys; sys.path.insert(0,\"..\") # Allow import of agd from parent directory (useless if conda package installed)\n",
    "#from Miscellaneous import TocTools; print(TocTools.displayTOC('Tubular','FMM'))"
   ]
  },
  {
   "cell_type": "code",
   "execution_count": 2,
   "metadata": {},
   "outputs": [],
   "source": [
    "from agd import Eikonal\n",
    "from agd import Metrics\n",
    "from agd.Plotting import savefig,imread; #savefig.dirName = 'Figures/Tubular'\n",
    "from agd import AutomaticDifferentiation as ad"
   ]
  },
  {
   "cell_type": "code",
   "execution_count": 3,
   "metadata": {},
   "outputs": [],
   "source": [
    "import numpy as np; xp=np\n",
    "%matplotlib inline\n",
    "import matplotlib.pyplot as plt\n",
    "from mpl_toolkits.mplot3d import Axes3D # Plots geodesics\n",
    "from scipy import ndimage\n",
    "from itertools import groupby\n",
    "from copy import deepcopy\n",
    "import matplotlib.image"
   ]
  },
  {
   "cell_type": "code",
   "execution_count": 4,
   "metadata": {},
   "outputs": [],
   "source": [
    "# Commodity functions\n",
    "def DeleteConsecutiveDuplicates(L): \n",
    "    return np.array([x[0] for x in groupby(L, lambda x:tuple(x))])\n",
    "def MyArgmin(positions,indices,cost,lvl):\n",
    "    return np.array([(x,y,lvl[np.argmin(cost[i,j,:])]) for ((x,y),(i,j)) in zip(positions,indices)])"
   ]
  },
  {
   "cell_type": "markdown",
   "metadata": {},
   "source": [
    "### 0.1 Optional configuration\n",
    "Uncomment the following line to use the GPU eikonal solver"
   ]
  },
  {
   "cell_type": "code",
   "execution_count": 5,
   "metadata": {
    "tags": [
     "EikonalGPU_config"
    ]
   },
   "outputs": [],
   "source": [
    "#Eikonal.dictIn.default_mode = 'gpu_transfer'"
   ]
  },
  {
   "cell_type": "markdown",
   "metadata": {},
   "source": [
    "Alternatively, with a recent version of cupy"
   ]
  },
  {
   "cell_type": "code",
   "execution_count": 6,
   "metadata": {},
   "outputs": [],
   "source": [
    "#xp,plt,ndimage,Eikonal = map(ad.cupy_friendly,(xp,plt,ndimage,Eikonal))"
   ]
  },
  {
   "cell_type": "markdown",
   "metadata": {},
   "source": [
    "### 0.2 Import the image to be processed\n",
    "\n",
    "Several options are available to import images to be further processed by a Python script. \n",
    "Matplotlib provides the simplest approach, but on the author's computer it fails if the imported image is simultanously non-PNG, and internet-downloaded. In that case, the PIL library provides a workaround."
   ]
  },
  {
   "cell_type": "code",
   "execution_count": 8,
   "metadata": {},
   "outputs": [],
   "source": [
    "image0 = imread(\"Notebooks_FMM/TestImages/subImHRF31_preview.png\")"
   ]
  },
  {
   "cell_type": "markdown",
   "metadata": {},
   "source": [
    "In this notebook, the processed image is assumed to be in grayscale, with intensity values rescaled to the interval [0,1]. "
   ]
  },
  {
   "cell_type": "code",
   "execution_count": 9,
   "metadata": {},
   "outputs": [],
   "source": [
    "image = image0[:,:,0] # This particular image is black and white, so take any channel\n",
    "image = image/np.max(image) # Rescale image values to [0,1]\n",
    "image = xp.asarray(image) # Transfer to GPU if applicable"
   ]
  },
  {
   "cell_type": "markdown",
   "metadata": {},
   "source": [
    "There is a surpising lack of uniformity about the way to display a two-dimensional array of grayscale values on screen. Depending on the software, coordinate axes can be exchanged, reversed, ... \n",
    "\n",
    "In this notebook, we avoid the (i.m.o terrible) YXZ axes convention, and use an adequate imshow variant to display the results."
   ]
  },
  {
   "cell_type": "code",
   "execution_count": 10,
   "metadata": {},
   "outputs": [],
   "source": [
    "image = image.T # Transpose coordinates. Aka indexing = 'ij' rather than 'xy'\n",
    "def imshow(image,**kwargs): plt.imshow(image.T,origin='lower',**kwargs)"
   ]
  },
  {
   "cell_type": "code",
   "execution_count": 11,
   "metadata": {},
   "outputs": [],
   "source": [
    "# Use the origin = 'lower' option for compatibility with e.g. numpy.contourf \n",
    "plt.title('The tubular structures to be segmented')\n",
    "imshow(image,cmap='gray');"
   ]
  },
  {
   "cell_type": "markdown",
   "metadata": {},
   "source": [
    "### 0.3 Define the points of interest\n",
    "\n",
    "The next cell defines a number of points of interest in the image. The HFM library will be used to compute minimal geodesics between the appropriate seeds and tips, and with respect to the appropriate metric. In practical applications, these seeds and tips may either be automatically generated, or user defined."
   ]
  },
  {
   "cell_type": "code",
   "execution_count": 15,
   "metadata": {},
   "outputs": [],
   "source": [
    "seeds0 = xp.array([ \n",
    "        [327, 15], #On main vessel\n",
    "        [259, 14], # On small bottom vessel\n",
    "    ]);\n",
    "\n",
    "seeds1 = xp.array([\n",
    "        [350, 16] # On secondary vessel\n",
    "        #  [327, 92] # On small right vessel\n",
    "    ]);\n",
    "\n",
    "\n",
    "tips0 = xp.array([\n",
    "        [291,65], #On primary vessel, easy\n",
    "        [203,41], # On a small vessel, attached to the primary vessel\n",
    "        [250,115], #On primary vessel, after crossing\n",
    "        [116,111], #On primary vessel, possible shortcut\n",
    "        [64,24], #On primary vessel, possible shortcut, far\n",
    "        [12,108], #On primary vessel, two possible shortcuts\n",
    "                \n",
    "        [115,54] #On small bottom vessel, after crossing\n",
    "    ]);\n",
    "\n",
    "tips1 = xp.array([\n",
    "        [302,77], #On secondary vessel, easy\n",
    "        [244,105], #On secondary vessel, after crossing\n",
    "        [189,188], #On secondary vessel, possible shortcut\n",
    "        [64,189], #On secondary vessel, two possible shortcuts\n",
    "        [20,25], #On secondary vessel, three possible shortcuts\n",
    "        \n",
    "        [304,176] #On small right vessel\n",
    "    ]);\n",
    "\n",
    "seeds = np.concatenate((seeds0,seeds1))\n",
    "tips = np.concatenate((tips0,tips1))"
   ]
  },
  {
   "cell_type": "markdown",
   "metadata": {},
   "source": [
    "In this notebook, we always define the image origin as the point $(0,0)$, and using the physical grid scale $h=1$. In particular, each pixel occupies a square domain of the form $[a,a+1] \\times [b,b+1]$. As a result, the (multi-)indices of the seeds and tips in the data arrays are also their 'physical' coordinates. In case of more general coordinate systems, such as in the other notebooks of this series, the conversion between physical points and array indices can be performed using the member functions `IndexFromPoint` and `PointFromIndex` of the `agd.Eikonal.dictIn` class."
   ]
  },
  {
   "cell_type": "code",
   "execution_count": 20,
   "metadata": {},
   "outputs": [],
   "source": [
    "seedIndices0, seedIndices1, seedIndices = seeds0.astype(int), seeds1.astype(int), seeds.astype(int)\n",
    "tipIndices0, tipIndices1, tipIndices = tips0.astype(int), tips1.astype(int), tips.astype(int)"
   ]
  },
  {
   "cell_type": "code",
   "execution_count": 21,
   "metadata": {},
   "outputs": [],
   "source": [
    "plt.figure(figsize=(12,6))\n",
    "plt.scatter(seeds[:,0],seeds[:,1],color=['cyan','red','orange']) # Seeds in red\n",
    "plt.scatter(tips[:,0],tips[:,1],color='pink') # Tips in blue\n",
    "imshow(image,cmap='gray');"
   ]
  },
  {
   "cell_type": "markdown",
   "metadata": {},
   "source": [
    "We attach one distinct color to each seed, that will be used for coloring the backtracked geodesics."
   ]
  },
  {
   "cell_type": "code",
   "execution_count": 22,
   "metadata": {},
   "outputs": [],
   "source": [
    "def SeedColor(pt):\n",
    "    seedIndex = np.argmin((seeds[:,0]-pt[0])**2+(seeds[:,1]-pt[1])**2)\n",
    "    return ['cyan','red','orange'][seedIndex]\n",
    "# Named colors : 'blue', 'orange', 'green', 'red', 'purple', 'brown', 'pink', 'gray', 'olive', 'cyan'"
   ]
  },
  {
   "cell_type": "markdown",
   "metadata": {},
   "source": [
    "## 1. Preliminary image filtering\n",
    "\n",
    "The proposed approach to tubular structure segmentation in images works in two steps:\n",
    "* First a *local* step, during which the processed image is analyzed locally so as to find out the likely position and orientation of vessels.\n",
    "* Second a *global* set, in which minimal geodesics are computed, connecting together the local features previously identified. \n"
   ]
  },
  {
   "cell_type": "markdown",
   "metadata": {},
   "source": [
    "### 1.1 Gabor-like filters\n",
    "\n",
    "We use local filters to detect, in a preliminary image filtering, wether a vessel or the edge of an object is likely present at a point of the provided image. The chosen filters are closely related with the Gabor filter, up to an additional anisotropy parameter. More precisely, our convolution kernels depend on several parameters\n",
    "* $\\theta$, the orientation of the object to be detected.\n",
    "* $r$, the radius of the vessel to be detected. \n",
    "* the anisotorpy, in other words the elongation, of the kernel.\n",
    "* a boolean indicating wether vessels appear clearer or darker than the background. In the image considered, they are darker.\n",
    "\n",
    "The following function returns a local system of coordinates $(X,Y)$ in the plane, a Gaussian bump, and two convolution filters that are closely related with the real and imaginary part of a Gabor filter. They can be used to detect, respectively, tube-like features and object boundaries.\n",
    "\n",
    "<!---ExoFR\n",
    "Implémentez le *mean filter*, *vessel filter*, et *edge filter* qui sont définis par \n",
    "$$\n",
    "    m(x,y) = \\frac 1 Z \\exp(-\\frac{x_r^2}{2\\mu^2} - \\frac{y_r^2} 2)\n",
    "    \\qquad\n",
    "    v(x,y) = m(x,y) \\cos(2 y_r) - \\underline v\n",
    "    \\qquad\n",
    "    e(x,y) = m(x,y) \\sin(2 y_r)\n",
    "$$\n",
    "où $Z$ est une constante de normalisation, $\\mu$ est le ratio d'anisotropie désiré, et la constante $\\underline v$ est telle que $v$ est de moyenne nulle. Le repère $(x_r,y_r)$ est l'image des coordonnées cartésiennes $(x,y)$ par rotation d'angle $-\\theta$ et scaling par $1/r$ donné.\n",
    "--->\n",
    "\n",
    "<!---ExoCode\n",
    "def FeatureKernels(radius, theta, anisotropy, darkObjects = False):\n",
    "    # Construct coordinate system\n",
    "    side = int(radius * anisotropy * 1.4)+1\n",
    "    ran = xp.arange(-side,side+1)\n",
    "    X,Y = xp.meshgrid(ran,ran,indexing='ij')  \n",
    "    \n",
    "    # Rotate and rescale the coordinate system\n",
    "    Xr,Yr = # TODO rotation d'angle -theta, multiplication par 1/radius\n",
    "     \n",
    "    # Mean filter\n",
    "    bump =  # TODO Anisotropic gaussian. Voir expression plus haut\n",
    "    bump = bump/bump.sum() # Normalized bump function\n",
    "    \n",
    "    # Other filters\n",
    "    edge = # TODO \n",
    "    vessel = # TODO. Doit être de moyenne nulle.\n",
    "    \n",
    "    sign= -1 if darkObjects else 1\n",
    "    return [X, Y, bump, sign*vessel, sign*edge] \n",
    "--->"
   ]
  },
  {
   "cell_type": "code",
   "execution_count": 23,
   "metadata": {},
   "outputs": [],
   "source": [
    "def FeatureKernels(radius, theta, anisotropy, darkObjects = False):\n",
    "    # Construct coordinate system\n",
    "    side = int(radius * anisotropy * 1.4)+1\n",
    "    ran = xp.arange(-side,side+1)\n",
    "    X,Y = xp.meshgrid(ran,ran,indexing='ij')  \n",
    "    \n",
    "    # Rotate and rescale the coordinate system\n",
    "    Xr,Yr = np.cos(theta)*X+np.sin(theta)*Y, -np.sin(theta)*X+np.cos(theta)*Y\n",
    "    Xr,Yr = Xr/radius, Yr/radius\n",
    "    \n",
    "    bump = np.exp(-((Xr/anisotropy)**2+Yr**2)/2) # Anisotropic gaussian\n",
    "    bump = bump/bump.sum() # Normalized bump function\n",
    "    \n",
    "    #Constant 2 is somewhat arbitrary\n",
    "    edge = bump*np.sin(2*Yr); # Similar to imaginary part of Gabor filter\n",
    "    vessel = bump*np.cos(2*Yr); # Similar to real part of Gabor filter\n",
    "    vessel = vessel - vessel.sum() * bump # Filter should have zero mean.\n",
    "    \n",
    "    sign= -1 if darkObjects else 1\n",
    "    return [X, Y, bump, sign*vessel, sign*edge] "
   ]
  },
  {
   "cell_type": "code",
   "execution_count": 24,
   "metadata": {},
   "outputs": [],
   "source": [
    "X, Y, meanFilter, vesselFilter, edgeFilter = FeatureKernels(3,np.pi/6,2,darkObjects=True)"
   ]
  },
  {
   "cell_type": "markdown",
   "metadata": {},
   "source": [
    "The first filter, the *vessel filter*, is efficient at detecting (the centerline of) tubular structures, whose radius and orientation match the parameters."
   ]
  },
  {
   "cell_type": "code",
   "execution_count": 25,
   "metadata": {},
   "outputs": [],
   "source": [
    "fig = plt.figure(figsize=[3,3]); plt.title('Filter for vessel detection.');\n",
    "plt.contourf(X,Y,vesselFilter); plt.axis('equal'); "
   ]
  },
  {
   "cell_type": "code",
   "execution_count": 26,
   "metadata": {},
   "outputs": [],
   "source": [
    "plt.title('Image response to the vessel detection filter.');\n",
    "imshow(ndimage.convolve(image,vesselFilter),cmap='gray'); #plt.colorbar();"
   ]
  },
  {
   "cell_type": "markdown",
   "metadata": {},
   "source": [
    "The second filter can be used to detect object boundaries. However, this is irrelevant for the present application, which is the detection of tubular centerline. For instance, two cells below, we obtain a positive and a negative reponse on the side of the vessel, whose radius and orientation match the parameters. In contrast the previous filter yields a positive response in the vessel centerline, which is of direct interest."
   ]
  },
  {
   "cell_type": "code",
   "execution_count": 27,
   "metadata": {},
   "outputs": [],
   "source": [
    "fig = plt.figure(figsize=[3,3]); plt.title('Filter for edge detection.'); \n",
    "plt.contourf(X,Y,edgeFilter); plt.axis('equal'); "
   ]
  },
  {
   "cell_type": "code",
   "execution_count": 28,
   "metadata": {},
   "outputs": [],
   "source": [
    "plt.title('Image response to the edge detection filter.');\n",
    "imshow(ndimage.convolve(image,edgeFilter),cmap='gray');"
   ]
  },
  {
   "cell_type": "markdown",
   "metadata": {},
   "source": [
    "### 1.2 Maximization over radii and/or orientations"
   ]
  },
  {
   "cell_type": "markdown",
   "metadata": {},
   "source": [
    "In this subsection, we compute the response of the image to the Gabor-like filters for various orientation and radius parameters.\n",
    "\n",
    "Our first step is to choose the kernel parameters. We fix the anisotropy of the kernel, and define a discretization space for the radius and orientation."
   ]
  },
  {
   "cell_type": "code",
   "execution_count": 29,
   "metadata": {},
   "outputs": [],
   "source": [
    "kernelAnisotropy = 2"
   ]
  },
  {
   "cell_type": "code",
   "execution_count": 30,
   "metadata": {},
   "outputs": [],
   "source": [
    "nHalfTheta = 30\n",
    "Thetas = np.linspace(0,np.pi,nHalfTheta,endpoint=False) # 30 angular orientations in [0,\\pi]"
   ]
  },
  {
   "cell_type": "code",
   "execution_count": 31,
   "metadata": {},
   "outputs": [],
   "source": [
    "radiusMin = 1.2; radiusMax = 5; nRadius = 5;\n",
    "Radii = np.exp(np.linspace(np.log(radiusMin),np.log(radiusMax),nRadius))\n",
    "#Radii = np.geomspace(radiusMin,radiusMax,nRadius) # Equivalent, but geomspace is not found on my computer"
   ]
  },
  {
   "cell_type": "code",
   "execution_count": 32,
   "metadata": {},
   "outputs": [
    {
     "name": "stdout",
     "output_type": "stream",
     "text": [
      "[1.2        1.71446426 2.44948974 3.49963551 5.        ] \n",
      " [0.         0.10471976 0.20943951 0.31415927 0.41887902 0.52359878\n",
      " 0.62831853 0.73303829 0.83775804 0.9424778  1.04719755 1.15191731\n",
      " 1.25663706 1.36135682 1.46607657 1.57079633 1.67551608 1.78023584\n",
      " 1.88495559 1.98967535 2.0943951  2.19911486 2.30383461 2.40855437\n",
      " 2.51327412 2.61799388 2.72271363 2.82743339 2.93215314 3.0368729 ]\n"
     ]
    }
   ],
   "source": [
    "print(Radii,\"\\n\",Thetas)"
   ]
  },
  {
   "cell_type": "markdown",
   "metadata": {},
   "source": [
    "In the next cell, we convolve the input image with the chosen Gabor-like filters. \n",
    "The resulting array is $4$-dimensional, with the following coordinate system: $(r,\\theta,x,y)$.\n",
    "A multiplicative factor factor $1/\\sqrt r$ is introduced so as to slightly increase the visibility of vessels of small radius $r$."
   ]
  },
  {
   "cell_type": "code",
   "execution_count": 33,
   "metadata": {},
   "outputs": [
    {
     "name": "stdout",
     "output_type": "stream",
     "text": [
      "--- 4.169401168823242 seconds ---\n"
     ]
    }
   ],
   "source": [
    "# Note : takes a few seconds\n",
    "import time; start_time = time.time()\n",
    "\n",
    "response = np.array([[ \n",
    "ndimage.convolve(image, FeatureKernels(radius,theta,kernelAnisotropy,darkObjects=True)[3] )/ np.sqrt(radius)\n",
    "                      for theta in Thetas] for radius in Radii])\n",
    "\n",
    "print(\"--- %s seconds ---\" % (time.time() - start_time))"
   ]
  },
  {
   "cell_type": "markdown",
   "metadata": {},
   "source": [
    "The above computed $4$ dimensional response array is unfortunately already *too high dimensional* for most practical applications.\n",
    "Indeed, in order to keep execution times low and to user experience good, most PDE-based numerical methods for image processing involve domains of dimension $2$ or $3$ only.  In the next cell, we perform dimension crushing by taking the maximum of the filter response w.r.t. the radius, the angle, or both."
   ]
  },
  {
   "cell_type": "code",
   "execution_count": 34,
   "metadata": {},
   "outputs": [],
   "source": [
    "responseRadius = response.max(axis=1).transpose(1,2,0) # Radius dependent response\n",
    "responseTheta = response.max(axis=0).transpose(1,2,0) # Orientation dependent response\n",
    "response0 = responseRadius.max(axis=2) # Position only dependent response"
   ]
  },
  {
   "cell_type": "code",
   "execution_count": 35,
   "metadata": {},
   "outputs": [
    {
     "name": "stdout",
     "output_type": "stream",
     "text": [
      "Original image size (375, 200) , radius lifted: (375, 200, 5) , orientation lifted (375, 200, 30) .\n"
     ]
    }
   ],
   "source": [
    "print('Original image size',response0.shape,\n",
    "      ', radius lifted:',responseRadius.shape,\n",
    "      ', orientation lifted',responseTheta.shape,'.')"
   ]
  },
  {
   "cell_type": "markdown",
   "metadata": {},
   "source": [
    "The next figure shows the maximum,  over all possible orientations and radii, of the image response to the Gabor-like filter. We regard this as a *measure of vesselness*."
   ]
  },
  {
   "cell_type": "code",
   "execution_count": 36,
   "metadata": {},
   "outputs": [],
   "source": [
    "plt.title(\"Measure of vesselness\")\n",
    "imshow(response0); #plt.colorbar();"
   ]
  },
  {
   "cell_type": "markdown",
   "metadata": {},
   "source": [
    "The radius-dependent response does, as expected and desired, detect large vessels at large scales and small vessels at small scales."
   ]
  },
  {
   "cell_type": "code",
   "execution_count": 41,
   "metadata": {},
   "outputs": [],
   "source": [
    "plt.figure(figsize=(16,8))\n",
    "for i in range(5):\n",
    "    plt.subplot(2,3,1+i)\n",
    "    plt.title(f\"Response with radius {np.round(Radii[i],2)}\")\n",
    "    imshow(responseRadius[:,:,i]);"
   ]
  },
  {
   "cell_type": "markdown",
   "metadata": {},
   "source": [
    "The orientation-dependent response is positive only for the vessels parts whose orientation matches the one of the filter."
   ]
  },
  {
   "cell_type": "code",
   "execution_count": 44,
   "metadata": {},
   "outputs": [],
   "source": [
    "plt.figure(figsize=(16,8))\n",
    "for i in range(6):\n",
    "    plt.subplot(2,3,1+i)\n",
    "    iTheta = int(nHalfTheta*i/6)\n",
    "    plt.title(f\"Response with angle {np.round(Thetas[iTheta],2)}\")\n",
    "    imshow(responseTheta[:,:,iTheta]);"
   ]
  },
  {
   "cell_type": "code",
   "execution_count": 33,
   "metadata": {},
   "outputs": [],
   "source": [
    "#fig=plt.figure(figsize=(6,3.5));  plt.axis('off')\n",
    "#imshow(responseTheta[:,:,5]); plt.title(r'Vessel detection at orientation $\\theta=\\pi/6$');\n",
    "#imshow(responseTheta[:,:,0]); plt.title(r'Vessel detection at orientation $\\theta=0$');\n",
    "#savefig(fig,'VesselDetection1.png');"
   ]
  },
  {
   "cell_type": "code",
   "execution_count": 34,
   "metadata": {},
   "outputs": [],
   "source": [
    "#fig=plt.figure(figsize=(6,3.5));  plt.axis('off')\n",
    "#imshow(responseRadius[:,:,0]); plt.title(r'Vessel detection at minimal radius');\n",
    "#imshow(responseRadius[:,:,3]); plt.title(r'Vessel detection at maximal radius');\n",
    "#savefig(fig,'VesselRadius1.png');"
   ]
  },
  {
   "cell_type": "markdown",
   "metadata": {},
   "source": [
    "## 2. Isotropic models\n",
    "\n",
    "In this section, we demonstrate vessel extraction using *isotropic* fast marching methods, following an approach introduced by Cohen and Kimmel (1997). The tubular structure centerlines are extracted as minimal paths, joining the prescribed seeds and tips, with respect to a metric that is locally proportionnal to the Euclidean metric:\n",
    "\\begin{equation*}\n",
    "    \\mathrm{len}(\\gamma) = \\int_0^1 c(\\gamma(t)) \\| \\gamma'(t)\\| \\, \\mathrm d t,\n",
    "\\end{equation*}\n",
    "where $c$ is a data driven cost function. Let us immediately acknowledge that the HFM library is only one of the many available software which can address this particularly simple isotropic path cost model, in contrast with the curvature penalized methods discussed in the next section. \n",
    "\n",
    "We also illustrate the concept of dimension lifting, in which an additional abstract coordinate is introduced. The additional coordinate is independent from the image coordinates, but instead accounts for a specific feature of the vessel to be extracted. More precisely, we illustrate dimension lifting according to the *radius* of the extracted vessel (Li-Yezzi, 2007), and to its *grayscale value* (Chen-Yang-Cohen, 2013). Common dimension lifted models usually relay on *diagonal* rather than *isotropic* metrics, which means that motion along different coordinate axes may have distinct costs. (In contrast with general anisotropy, such axis aligned anisotropy raises no specific computational difficulty.)\n",
    "\n",
    "**Choice of origin.**\n",
    "There is a shift of one half pixel between the imshow display function and the internal representations of the eikonal solver. In order to address this discrepancy, and for the best overlay of the image and minimal geodesic paths, we shift the `origin` by one half pixel in the following code cell."
   ]
  },
  {
   "cell_type": "code",
   "execution_count": 47,
   "metadata": {},
   "outputs": [],
   "source": [
    "isoIn=Eikonal.dictIn({\n",
    "    'model':'Isotropic2',\n",
    "    'dims':image.shape,\n",
    "    'gridScale':1,\n",
    "    'exportValues':1,\n",
    "    'origin':[-0.5,-0.5], #Better alignement with imshow\n",
    "})"
   ]
  },
  {
   "cell_type": "markdown",
   "metadata": {},
   "source": [
    "### 2.1 Planar shortest paths\n",
    "\n",
    "In the previous section, we convolved the input image with Gabor-like filters, so as to extract a measure of vesselness. As illustrated in the next cell, vessels appear as positive values in the processed image."
   ]
  },
  {
   "cell_type": "code",
   "execution_count": 48,
   "metadata": {},
   "outputs": [],
   "source": [
    "imshow(response0>0.01);"
   ]
  },
  {
   "cell_type": "markdown",
   "metadata": {},
   "source": [
    "In the next cells, we define a cost function as the negative exponential of the previously computed measure of vesselness, following the original Cohen and Kimmel model. The cost function reads\n",
    "$$\n",
    "    c(x) = c_{\\min} + \\exp(-c_{\\exp} \\Phi_0(x)),\n",
    "$$\n",
    "where $c_{\\min}$ and $c_{\\exp}$ are two constants, and $\\Phi_0(x)=$`response0(x)` is the vesselness measure maximized over all radii and orientations.\n",
    "\n",
    "<!---ExoFR\n",
    "Implementer cette fonction de coût, avec $c_{\\min}=0.1$, $c_{\\exp} = 50$.\n",
    "--->\n",
    "\n",
    "<!---ExoCode\n",
    "isoIn['cost']= # TODO\n",
    "--->"
   ]
  },
  {
   "cell_type": "code",
   "execution_count": 49,
   "metadata": {},
   "outputs": [],
   "source": [
    "isoMin = 0.1\n",
    "isoExp = 50 \n",
    "isoIn['cost']= isoMin+np.exp(-isoExp*response0)"
   ]
  },
  {
   "cell_type": "code",
   "execution_count": 50,
   "metadata": {},
   "outputs": [],
   "source": [
    "imshow(isoIn['cost']); plt.colorbar();"
   ]
  },
  {
   "cell_type": "markdown",
   "metadata": {},
   "source": [
    "In the next cells, we perform front propagation and geodesic backtracking from the first two seeds, towards the corresponding tips. For these endpoints and parameters, the results are rather satisfying."
   ]
  },
  {
   "cell_type": "code",
   "execution_count": 51,
   "metadata": {},
   "outputs": [],
   "source": [
    "isoIn['seeds']=seeds0\n",
    "isoIn['tips']=tips0"
   ]
  },
  {
   "cell_type": "code",
   "execution_count": 52,
   "metadata": {},
   "outputs": [
    {
     "name": "stdout",
     "output_type": "stream",
     "text": [
      "Field verbosity defaults to 1\n",
      "Field order defaults to 1\n",
      "Field seedRadius defaults to 0\n",
      "Fast marching solver completed in 0.021613 s.\n",
      "Field geodesicSolver defaults to Discrete\n",
      "Field geodesicStep defaults to 0.25\n",
      "Field geodesicWeightThreshold defaults to 0.001\n",
      "Field geodesicVolumeBound defaults to 8.45\n"
     ]
    }
   ],
   "source": [
    "isoOut = isoIn.Run()"
   ]
  },
  {
   "cell_type": "code",
   "execution_count": 53,
   "metadata": {},
   "outputs": [],
   "source": [
    "plt.title(\"Vessel segmentation using isotropic fast marching\")\n",
    "for geo in isoOut['geodesics']: plt.plot(*geo,color=SeedColor(geo[:,-1])) \n",
    "imshow(-image,cmap='Greys');"
   ]
  },
  {
   "cell_type": "markdown",
   "metadata": {},
   "source": [
    "Recall that the geodesics presented above were backtracked after a front was propagated over all the domain, so as to compute a distance map to the seeds."
   ]
  },
  {
   "cell_type": "code",
   "execution_count": 54,
   "metadata": {},
   "outputs": [],
   "source": [
    "plt.title(\"Distance map for vessel segmentation\")\n",
    "imshow(isoOut['values']);"
   ]
  },
  {
   "cell_type": "markdown",
   "metadata": {},
   "source": [
    "By design, the front propagation is much faster along the vessels, as illustrated by the level sets."
   ]
  },
  {
   "cell_type": "code",
   "execution_count": 55,
   "metadata": {},
   "outputs": [],
   "source": [
    "plt.title(\"Distance map for vessel segmentation\")\n",
    "plt.contourf(isoOut['values'].T,levels=12);"
   ]
  },
  {
   "cell_type": "markdown",
   "metadata": {},
   "source": [
    "The correct extraction of the tubular structures obtained above is in part attributable to the favorable configuration of the seeds and tips. Turning to the second set of endpoints, we immediately see the shortcomings of the original Cohen and Kimmel model."
   ]
  },
  {
   "cell_type": "code",
   "execution_count": 56,
   "metadata": {},
   "outputs": [],
   "source": [
    "isoIn['seeds']=seeds1\n",
    "isoIn['tips']=tips1"
   ]
  },
  {
   "cell_type": "code",
   "execution_count": 57,
   "metadata": {},
   "outputs": [
    {
     "name": "stdout",
     "output_type": "stream",
     "text": [
      "Field verbosity defaults to 1\n",
      "Field order defaults to 1\n",
      "Field seedRadius defaults to 0\n",
      "Fast marching solver completed in 0.02104 s.\n",
      "Field geodesicSolver defaults to Discrete\n",
      "Field geodesicStep defaults to 0.25\n",
      "Field geodesicWeightThreshold defaults to 0.001\n",
      "Field geodesicVolumeBound defaults to 8.45\n"
     ]
    }
   ],
   "source": [
    "isoOut = isoIn.Run()"
   ]
  },
  {
   "cell_type": "markdown",
   "metadata": {},
   "source": [
    "Several issues can be identified:\n",
    "* Leaks: the minimal paths often leave the vessel tree for a short while so as to join another vessel (typically more visible and contrasted).\n",
    "* Shortcuts: if some vessels cross two times or more, then the backtracked minimal paths may take shortcuts by jumping from one vessel to another at their intersections."
   ]
  },
  {
   "cell_type": "code",
   "execution_count": 59,
   "metadata": {},
   "outputs": [],
   "source": [
    "#plt.figure(figsize=(16,8))\n",
    "plt.title(\"Leaks and shortcuts in vessel segmentation using isotropic eikonal\")\n",
    "for geo in isoOut['geodesics']: plt.plot(*geo,color=SeedColor(geo[:,-1])) \n",
    "imshow(-image,cmap='Greys');"
   ]
  },
  {
   "cell_type": "markdown",
   "metadata": {},
   "source": [
    "### 2.2 Radius lifted metrics\n",
    "\n",
    "Radius lifting is a dimension lifting technique introduced by Li and Yezzi (2007). The radius of the tubular structures is extracted simultaneously with its position, using a three dimensional fast marching method. The vessel radius is often an important feature for medical diagonostic, hence having a reliable and mathematically well posed estimation method is a real plus. \n",
    "\n",
    "In principle, dimension lifting techniques such as this one may also help segmentation in difficult configurations, such as the one displayed above, by disentangling the intersecting vessels in the higher dimensional domain. Unfortunately, no such improvement is noticeable here, see the next subsection for a more successful approach."
   ]
  },
  {
   "cell_type": "code",
   "execution_count": 60,
   "metadata": {},
   "outputs": [],
   "source": [
    "nR = Radii.size"
   ]
  },
  {
   "cell_type": "code",
   "execution_count": 61,
   "metadata": {},
   "outputs": [],
   "source": [
    "radIn=Eikonal.dictIn({\n",
    "    'model':'Diagonal3',\n",
    "    'dims':(*image.shape,nR),\n",
    "    'gridScale':1,\n",
    "    'origin':[-0.5,-0.5,-0.5]\n",
    "})"
   ]
  },
  {
   "cell_type": "markdown",
   "metadata": {},
   "source": [
    "In the next cell, we define the diagonal cost of motion for our minimal path model, at any point $(x,y,r)$. We choose to distinguish:\n",
    "* motion along the physical coordinates, with velocity $(\\dot x,\\dot y,0)$, whose cost is defined as a decreasing function of the image vesselness map (maximized over orientations but not over radii). \n",
    "* motion along the abstract radius coordinate, with velocity $(0,0,\\dot r)$, whose cost is set constant.\n",
    "\n",
    "In other words, we use the diagonal metric\n",
    "$$\n",
    "    \\begin{pmatrix}\n",
    "        c(x,r) & &\\\\\n",
    "        & c(x,r) &\\\\\n",
    "        & & c_r \n",
    "    \\end{pmatrix}\n",
    "    \\qquad \\text{where} \\quad\n",
    "    c(x,r) = c_{\\min} + \\exp(-c_{\\exp} \\Phi_{\\text{rad}}(x,r)),\n",
    "$$\n",
    "and where $c_{\\min}$ and $c_{\\exp}$ are constants, and $\\Phi_{\\text{rad}}(x,r)$=`responseRadius(x,r)` is the vesselness measure maximized over orientations.\n",
    "\n",
    "<!---ExoFR\n",
    "Implémenter la métrique \"diagonale\" correspondant décrite ci-dessus, avec toujours $c_{\\min}=0.1$, $c_{\\exp}=50$. On prendra $c_r = 2$.\n",
    "--->\n",
    "\n",
    "<!---ExoCode\n",
    "radIn['metric'] = Metrics.Diagonal([ # TODO : les trois coefficients diagonaux D1,D2,D3\n",
    "--->"
   ]
  },
  {
   "cell_type": "code",
   "execution_count": 62,
   "metadata": {},
   "outputs": [],
   "source": [
    "radMin = 0.1\n",
    "radExp = 50\n",
    "physCost = radMin+np.exp(-radExp*responseRadius) # Cost of motion in the physical domain\n",
    "radIn['metric'] = Metrics.Diagonal([physCost,physCost,2*np.ones(physCost.shape)])"
   ]
  },
  {
   "cell_type": "markdown",
   "metadata": {},
   "source": [
    "The seeds and tips must now be defined as points of a three dimensional domain. For a given physical position $(x,y)$, we choose to lift the seed or tip to the radius $r$ which minimizes the cost function. This is, if we did well, the most likely radius of the vessel at this point."
   ]
  },
  {
   "cell_type": "code",
   "execution_count": 63,
   "metadata": {},
   "outputs": [],
   "source": [
    "radIn['seeds'] = MyArgmin(seeds0,seedIndices0,physCost,range(nR))\n",
    "radIn['tips'] = MyArgmin(tips0,tipIndices0,physCost,range(nR))"
   ]
  },
  {
   "cell_type": "code",
   "execution_count": 64,
   "metadata": {},
   "outputs": [
    {
     "name": "stdout",
     "output_type": "stream",
     "text": [
      "Field verbosity defaults to 1\n",
      "Field order defaults to 1\n",
      "Field seedRadius defaults to 0\n",
      "Fast marching solver completed in 0.198672 s.\n",
      "Field geodesicSolver defaults to Discrete\n",
      "Field geodesicStep defaults to 0.25\n",
      "Field geodesicWeightThreshold defaults to 0.001\n",
      "Field geodesicVolumeBound defaults to 10.985\n"
     ]
    }
   ],
   "source": [
    "radOut = radIn.Run()"
   ]
  },
  {
   "cell_type": "markdown",
   "metadata": {},
   "source": [
    "The segmentation results remain correct for the first set of seeds and tips, and incorrect for the second one (not shown)."
   ]
  },
  {
   "cell_type": "code",
   "execution_count": 65,
   "metadata": {},
   "outputs": [],
   "source": [
    "for geo in radOut['geodesics']: plt.plot(geo[0],geo[1],color=SeedColor(geo[:,-1])) \n",
    "imshow(-image,cmap='Greys');"
   ]
  },
  {
   "cell_type": "markdown",
   "metadata": {},
   "source": [
    "However, some new information is extracted from the image: the radius of the backtraced vessels, as illustrated in the following figure. For that purpose, we need to convert radii from the linear scale used with the HFM library to  the original exponential scale."
   ]
  },
  {
   "cell_type": "code",
   "execution_count": 66,
   "metadata": {},
   "outputs": [
    {
     "name": "stdout",
     "output_type": "stream",
     "text": [
      "[1.2        1.71446426 2.44948974 3.49963551 5.        ] \n",
      " [1.2, 1.7144642578192795, 2.4494897427831774, 3.4996355115805815, 4.999999999999997]\n"
     ]
    }
   ],
   "source": [
    "def PhysRadius(r): return Radii[0]*(Radii[1]/Radii[0])**r\n",
    "print(Radii,'\\n',[PhysRadius(r) for r in range(nR)])"
   ]
  },
  {
   "cell_type": "markdown",
   "metadata": {},
   "source": [
    "Note : Correctly and reliably setting the `pix2pt` conversion factor in the next code snippet, from input image pixels to displayed image points, would involve a complex expression involving dpi, inches, images pixel size, ... For simplicity, this constant was adjusted by hand."
   ]
  },
  {
   "cell_type": "code",
   "execution_count": 68,
   "metadata": {},
   "outputs": [],
   "source": [
    "pix2pt=1.4\n",
    "fig = plt.figure(figsize=(8,4))\n",
    "plt.title('Tubular structure extraction using a radius lifted model')\n",
    "for geo in radOut['geodesics']: \n",
    "    pts=geo[:,::10] #subsampling to make the vessel visible\n",
    "    plt.scatter(pts[0],pts[1],\n",
    "                s=pix2pt**2*PhysRadius(pts[2])**2,\n",
    "                marker='o',color=SeedColor(geo[:,-1])) \n",
    "imshow(-image,cmap='Greys');\n",
    "savefig(fig,'VesselRadius.png');"
   ]
  },
  {
   "cell_type": "markdown",
   "metadata": {},
   "source": [
    "The extracted geodesics are genuine three dimensional paths."
   ]
  },
  {
   "cell_type": "code",
   "execution_count": 69,
   "metadata": {},
   "outputs": [],
   "source": [
    "ax = plt.axes(projection='3d')\n",
    "for geo in radOut['geodesics']: ax.plot(*geo)"
   ]
  },
  {
   "cell_type": "markdown",
   "metadata": {},
   "source": [
    "### 2.3 Gray-level consistency"
   ]
  },
  {
   "cell_type": "markdown",
   "metadata": {},
   "source": [
    "A second dimension lifting technique is discussed in this subsection, based on the grayscale value of the extracted vessel, following Cohen and Chen (2013). Indeed, distinct vessels often have distinct gray levels, and this feature varies rather slowly along the vessel. (In particular, veins and arteries have different colors.) Thus grayscale intensity can be used to disentangle, in an abstract three dimensional space, the vessels intersecting each other in the original image.\n",
    "\n",
    "In order to obtain locally consistent grayscale values, we slightly blur the input image."
   ]
  },
  {
   "cell_type": "code",
   "execution_count": 70,
   "metadata": {},
   "outputs": [],
   "source": [
    "grayRef = ndimage.convolve(image, FeatureKernels(2,0,1)[2] )\n",
    "imshow(grayRef,cmap='gray');"
   ]
  },
  {
   "cell_type": "markdown",
   "metadata": {},
   "source": [
    "We build in the next cell a scale consisting of $20$ gray intensities in the range $[0.2,0.7]$. Note that we could have instead discretized whole brightness interval $[0,1]$, but limiting ourselves to the sub-range actually encountered for the vessels saves a bit of computation time."
   ]
  },
  {
   "cell_type": "code",
   "execution_count": 73,
   "metadata": {},
   "outputs": [],
   "source": [
    "grayMin = 0.2\n",
    "grayMax = 0.7\n",
    "grayN = 40\n",
    "grayScale = (grayMax-grayMin)/grayN\n",
    "grayLevels = Eikonal.CenteredLinspace(grayMin,grayMax,grayN)"
   ]
  },
  {
   "cell_type": "markdown",
   "metadata": {},
   "source": [
    "The cost function, for motions $(\\dot x, \\dot y, 0)$ along the physical dimensions, is defined as follows:\n",
    "$$\n",
    "    c(x,y,g) = c_0(x,y) \\left(1+ \\frac{(g-G(x,y))^2}{2 \\sigma^2}\\right).\n",
    "$$\n",
    "We denoted by $g$ the coordinate in the extra 'grayscale' dimension, and by $G$ the slightly blurred image used as a grayscale reference. We denoted by $c_0$ the cost function used in the experiment with the classical Cohen and Kimmel model, and by $\\sigma>0$ a standard deviation in the grayscale dimension that is to be determined. By construction, this cost strongly increases when the current grayscale value differs from the image reference by more than $\\sigma$.\n",
    "\n",
    "<!---ExoFR\n",
    "Produire un tableau numpy correspondant à la fonction coût ci-dessus.\n",
    "--->\n",
    "\n",
    "<!---ExoCode\n",
    "baseMin = 0.1\n",
    "baseExp = 50\n",
    "baseCost = baseMin+np.exp(-baseExp*response0) # c_0(x,y)\n",
    "\n",
    "graySigma = 3*grayScale\n",
    "grayCost = # TODO\n",
    "--->"
   ]
  },
  {
   "cell_type": "code",
   "execution_count": 74,
   "metadata": {},
   "outputs": [],
   "source": [
    "baseMin = 0.1\n",
    "baseExp = 50\n",
    "baseCost = baseMin+np.exp(-baseExp*response0) \n",
    "\n",
    "graySigma = 3*grayScale\n",
    "grayCost = np.stack([baseCost*(1+(grayRef-lvl)**2 / (2*graySigma**2) ) for lvl in grayLevels],axis=-1)"
   ]
  },
  {
   "cell_type": "markdown",
   "metadata": {},
   "source": [
    "Some slices of the cost function, corresponding to several coordinates in the grayscale dimension, are shown in the following cell."
   ]
  },
  {
   "cell_type": "code",
   "execution_count": 75,
   "metadata": {},
   "outputs": [],
   "source": [
    "plt.figure(figsize=(16,8)) \n",
    "for i in range(6):\n",
    "    plt.subplot(2,3,1+i)\n",
    "    igray = 2+6*i\n",
    "    plt.title(f\"Cost function for gray level {igray}\")\n",
    "    imshow(1/grayCost[:,:,igray]);"
   ]
  },
  {
   "cell_type": "markdown",
   "metadata": {},
   "source": [
    "Motions along the grayscale dimension $(0,0,\\dot g)$ are penalized w.r.t. a cost inversely proportionnal with the grayscale intensity:\n",
    "\\begin{equation*}\n",
    "    c(g) = \\frac \\alpha g,\n",
    "\\end{equation*}\n",
    "where $\\alpha>0$ is a suitable constant. This definition amounts to a uniform penalization in the logarithmic coordinates $g\\mapsto \\alpha \\ln g$."
   ]
  },
  {
   "cell_type": "code",
   "execution_count": 76,
   "metadata": {},
   "outputs": [],
   "source": [
    "grayLevelCost = np.broadcast_to((100/grayLevels),(*image.shape,grayN))"
   ]
  },
  {
   "cell_type": "markdown",
   "metadata": {},
   "source": [
    "We next proceed to define the test case."
   ]
  },
  {
   "cell_type": "code",
   "execution_count": 77,
   "metadata": {},
   "outputs": [],
   "source": [
    "grayIn=Eikonal.dictIn({\n",
    "    'model':'Diagonal3',\n",
    "    'exportValues':1,\n",
    "\n",
    "    # Domain dimensions\n",
    "    'dims':grayCost.shape,\n",
    "    'gridScales':[1,1,grayScale],\n",
    "    'origin':[0,0,grayMin],\n",
    "    \n",
    "    'metric':Metrics.Diagonal([grayCost,grayCost,grayLevelCost]),\n",
    "    'seeds':MyArgmin(seeds1,seedIndices1,grayCost,grayLevels),\n",
    "    'tips': MyArgmin(tips1,tipIndices1,grayCost,grayLevels)\n",
    "})\n",
    "grayIn['stopWhenAllAccepted'] = grayIn['tips']"
   ]
  },
  {
   "cell_type": "code",
   "execution_count": 78,
   "metadata": {},
   "outputs": [
    {
     "name": "stdout",
     "output_type": "stream",
     "text": [
      "Field verbosity defaults to 1\n",
      "Field order defaults to 1\n",
      "Field seedRadius defaults to 0\n",
      "Fast marching solver completed in 2.52132 s.\n",
      "Field geodesicSolver defaults to Discrete\n",
      "Field geodesicStep defaults to 0.25\n",
      "Field geodesicWeightThreshold defaults to 0.001\n",
      "Field geodesicVolumeBound defaults to 10.985\n"
     ]
    }
   ],
   "source": [
    "grayOut = grayIn.Run()"
   ]
  },
  {
   "cell_type": "markdown",
   "metadata": {},
   "source": [
    "As shown in the next cell, the backtracked minimal path is now correct for four tips out of six, shown as pink disks. In contrast, only a single backtracking was successful in the previous experiments, corresponding to the tip closest to the seed.\n",
    "\n",
    "Note that the planar projections of several of the backtracked paths cross each other. This phenomenon is a signature of dimension lifting techniques."
   ]
  },
  {
   "cell_type": "code",
   "execution_count": 79,
   "metadata": {},
   "outputs": [],
   "source": [
    "plt.scatter(tips1[0:3,0],tips1[0:3,1],color='pink');\n",
    "plt.scatter(tips1[5,0],tips1[5,1],color='pink');\n",
    "for geo in grayOut['geodesics']: plt.plot(geo[0],geo[1],color=SeedColor(geo[:,-1])) \n",
    "imshow(-image,cmap='Greys');"
   ]
  },
  {
   "cell_type": "markdown",
   "metadata": {},
   "source": [
    "We can help the tubular structure extraction by exchanging the roles of the seed and of the third tip. "
   ]
  },
  {
   "cell_type": "code",
   "execution_count": 80,
   "metadata": {},
   "outputs": [],
   "source": [
    "grayIn['tips'][2,:],grayIn['seeds'][0,:]=deepcopy(grayIn['seeds'][0,:]),deepcopy(grayIn['tips'][2,:])"
   ]
  },
  {
   "cell_type": "code",
   "execution_count": 81,
   "metadata": {},
   "outputs": [
    {
     "name": "stdout",
     "output_type": "stream",
     "text": [
      "Field verbosity defaults to 1\n",
      "Field order defaults to 1\n",
      "Field seedRadius defaults to 0\n",
      "Fast marching solver completed in 1.53233 s.\n",
      "Field geodesicSolver defaults to Discrete\n",
      "Field geodesicStep defaults to 0.25\n",
      "Field geodesicWeightThreshold defaults to 0.001\n",
      "Field geodesicVolumeBound defaults to 10.985\n"
     ]
    }
   ],
   "source": [
    "grayOut = grayIn.Run()"
   ]
  },
  {
   "cell_type": "markdown",
   "metadata": {},
   "source": [
    "All extracted minimal geodesic now run along the secondary gray vessel, as desired, with the exception of the faint side vessel on the right."
   ]
  },
  {
   "cell_type": "code",
   "execution_count": 82,
   "metadata": {},
   "outputs": [],
   "source": [
    "for geo in grayOut['geodesics']: plt.plot(geo[0],geo[1],color=SeedColor(geo[:,-1])) \n",
    "imshow(-image,cmap='Greys');"
   ]
  },
  {
   "cell_type": "markdown",
   "metadata": {},
   "source": [
    "Regarding the first set of seeds and tips, the vessel extraction remains successful, except for a small error in the bottom, arguably excusable given the type of models considered."
   ]
  },
  {
   "cell_type": "code",
   "execution_count": 83,
   "metadata": {},
   "outputs": [],
   "source": [
    "grayIn['seeds']= MyArgmin(seeds0,seedIndices0,grayCost,grayLevels)\n",
    "grayIn['tips'] = MyArgmin(tips0,tipIndices0,grayCost,grayLevels)"
   ]
  },
  {
   "cell_type": "code",
   "execution_count": 84,
   "metadata": {},
   "outputs": [
    {
     "name": "stdout",
     "output_type": "stream",
     "text": [
      "Field verbosity defaults to 1\n",
      "Field order defaults to 1\n",
      "Field seedRadius defaults to 0\n",
      "Fast marching solver completed in 2.04906 s.\n",
      "Field geodesicSolver defaults to Discrete\n",
      "Field geodesicStep defaults to 0.25\n",
      "Field geodesicWeightThreshold defaults to 0.001\n",
      "Field geodesicVolumeBound defaults to 10.985\n",
      "Tip {12,108,0.20625} yields 7 restarts, geodesicVolumeBound increased to 24.134"
     ]
    }
   ],
   "source": [
    "grayOut = grayIn.Run()"
   ]
  },
  {
   "cell_type": "code",
   "execution_count": 85,
   "metadata": {},
   "outputs": [],
   "source": [
    "for geo in grayOut['geodesics']: plt.plot(geo[0],geo[1],color=SeedColor(geo[:,-1])) \n",
    "imshow(-image,cmap='Greys');"
   ]
  },
  {
   "cell_type": "markdown",
   "metadata": {},
   "source": [
    "## 3. Curvature penalized models\n",
    "\n",
    "This section is devoted to tubular segmentation using minimal paths with respect to curvature penalizing energies, of the form\n",
    "\\begin{equation*}\n",
    "    \\int_0^L c(\\gamma(t), \\gamma'(t)) \\mathcal C(\\gamma''(t)) \\mathrm d t,\n",
    "\\end{equation*}\n",
    "where $\\gamma$ is a path in the image domain, of euclidean length $L$ and parametrized at unit speed.\n",
    "The heuristic intent of curvature penalization is to add some \"inertia\" to the geodesics, so that they do not switch from one tubular structure to another at crossings, thus avoiding the problem of \"shortcuts\".\n",
    "The HFM library rephrases the second order energy defined above into a first order path length with respect to a degenerate metric, and computes a global optimum using a generalized fast marching algorithm.\n",
    "\n",
    "The cost function involved in curvature penalized models depends on both the current *position* and tangent *orientation* of the path. We denote it by $c(x,\\theta)$, abusively identifying the unit tangent vector with the corresponding angle. The next cell defines such a cost function, as a negative exponential of the input image response to the Gabor-like convolution filters:\n",
    "$$\n",
    "    c(x,\\theta) = c_{\\min} + \\exp(-c_{\\exp} \\Phi(x,\\theta)),\n",
    "$$\n",
    "where $c_{\\min}$ and $c_{\\exp}$ are positive constants, and $\\Phi$ is the vesselness map, maximized over radii.\n",
    "\n",
    "\n",
    "<!---ExoFR\n",
    "Implémenter cette fonction coût, sous la forme d'un tableau numpy, avec $c_{\\min}=0.1$, $c_{\\exp}=100$.\n",
    "--->\n",
    "\n",
    "<!---ExoCode\n",
    "orientedCost = # TODO\n",
    "--->"
   ]
  },
  {
   "cell_type": "code",
   "execution_count": 87,
   "metadata": {},
   "outputs": [],
   "source": [
    "orientedCost = 0.1+np.exp(-100*responseTheta)"
   ]
  },
  {
   "cell_type": "markdown",
   "metadata": {},
   "source": [
    "The seeds and tips, originally defined as points of the image domain, must be lifted to three dimensional configuration space of positions and orientations.\n",
    "We do this by selecting the orientation angle minimizing the cost function, at any given position. Alternatively, one could resort to the `seeds_Unoriented` and `tips_Unoriented` fields when calling the HFM library."
   ]
  },
  {
   "cell_type": "code",
   "execution_count": 88,
   "metadata": {},
   "outputs": [],
   "source": [
    "orientedSeeds = MyArgmin(seeds,seedIndices,orientedCost,Thetas)\n",
    "orientedTips = MyArgmin(tips,tipIndices,orientedCost,Thetas)"
   ]
  },
  {
   "cell_type": "code",
   "execution_count": 89,
   "metadata": {},
   "outputs": [],
   "source": [
    "imshow(-image,cmap='Greys');\n",
    "plt.quiver(seeds[:,0],seeds[:,1],np.cos(orientedSeeds[:,2]),np.sin(orientedSeeds[:,2]),color='red')\n",
    "plt.quiver(tips[:,0],tips[:,1],np.cos(orientedTips[:,2]),np.sin(orientedTips[:,2]),color='blue');"
   ]
  },
  {
   "cell_type": "markdown",
   "metadata": {},
   "source": [
    "Note that the above definition of the oriented cost and lifted seeds and tips assumes an angular variable $\\theta \\in [0,\\pi]$ defined up to a multiple of $\\pi$. Some models require the full specification $\\theta \\in [0,2\\pi]$ of an orientation and a direction, but not the first one that we consider."
   ]
  },
  {
   "cell_type": "markdown",
   "metadata": {},
   "source": [
    "### 3.1 The Reeds-Shepp model\n",
    "\n",
    "The Reeds-Shepp \"car\" model would be a suitable abstraction for a wheelchair or a Segway&reg;-like vehicle. In particular, such vehicles can rotate into place for a bounded cost, and can move both forward and backwards. From a mathematical standpoint, the Reeds-Shepp model is one of the most studied curvature penalized vehicle, thanks to its appealing sub-Riemannian structure. The function $\\mathcal C$ used to penalize the path curvature $\\kappa = \\|\\gamma''(t)\\|$ is defined by\n",
    "\\begin{equation*}\n",
    "    \\mathcal C(\\kappa) := \\sqrt{1+ \\xi^2 \\kappa^2},\n",
    "\\end{equation*}\n",
    "where $\\xi$ is a parameter defined by the user, which has the dimension of a radius of curvature.\n",
    "\n",
    "A variant, referred to as the Reeds-Shepp *forward* model, implemented in the HFM library but not further discussed here, allows to remove the reverse gear."
   ]
  },
  {
   "cell_type": "code",
   "execution_count": 90,
   "metadata": {},
   "outputs": [],
   "source": [
    "reedsIn = Eikonal.dictIn({\n",
    "    'model':'ReedsShepp2',\n",
    "    'projective':1, # Angular coordinates are restricted to the (periodic) interval [0,pi]\n",
    "    'xi':40,\n",
    "    \n",
    "    'dims':(*image.shape,nHalfTheta),\n",
    "    'gridScale':1, # Physical grid scale (not angular)\n",
    "    'cost':orientedCost,\n",
    "})"
   ]
  },
  {
   "cell_type": "markdown",
   "metadata": {},
   "source": [
    "For the first set of seeds and tips, the Reeds-Shepp model extracts the desired vessels."
   ]
  },
  {
   "cell_type": "code",
   "execution_count": 91,
   "metadata": {},
   "outputs": [],
   "source": [
    "reedsIn['seeds']= MyArgmin(seeds0,seedIndices0,reedsIn['cost'],Thetas)\n",
    "reedsIn['tips'] = MyArgmin(tips0, tipIndices0, reedsIn['cost'],Thetas)\n",
    "reedsIn['stopWhenAllAccepted']=reedsIn['tips']"
   ]
  },
  {
   "cell_type": "code",
   "execution_count": 92,
   "metadata": {},
   "outputs": [
    {
     "name": "stdout",
     "output_type": "stream",
     "text": [
      "Field verbosity defaults to 1\n",
      "Field eps defaults to 0.1\n",
      "Field order defaults to 1\n",
      "Field seedRadius defaults to 0\n",
      "Fast marching solver completed in 1.62819 s.\n",
      "Field geodesicSolver defaults to Discrete\n",
      "Field geodesicStep defaults to 0.25\n",
      "Field geodesicWeightThreshold defaults to 0.001\n",
      "Field geodesicVolumeBound defaults to 10.985\n"
     ]
    }
   ],
   "source": [
    "reedsOut = reedsIn.Run()"
   ]
  },
  {
   "cell_type": "code",
   "execution_count": 93,
   "metadata": {},
   "outputs": [],
   "source": [
    "for geo in reedsOut['geodesics']: plt.plot(geo[0],geo[1],color=SeedColor(geo[:,-1])) \n",
    "imshow(-image,cmap='Greys');"
   ]
  },
  {
   "cell_type": "markdown",
   "metadata": {},
   "source": [
    "For the second, harder, collection of seeds and tips, the Reeds-Shepp model extracts the desired vessels when backtracking from four of the given tips, similarly to the grayscale lifted method, and much better than the isotropic or radius lifted approaches (one successful tip only). Observe that some of (the planar projections of) the backtracked geodesics cross each other, which we recall is a signature of dimension lifting techniques. "
   ]
  },
  {
   "cell_type": "code",
   "execution_count": 94,
   "metadata": {},
   "outputs": [],
   "source": [
    "reedsIn['seeds']= MyArgmin(seeds1,seedIndices1,reedsIn['cost'],Thetas)\n",
    "reedsIn['tips'] = MyArgmin(tips1,tipIndices1,reedsIn['cost'],Thetas)\n",
    "reedsIn['stopWhenAllAccepted']=reedsIn['tips']"
   ]
  },
  {
   "cell_type": "code",
   "execution_count": 95,
   "metadata": {},
   "outputs": [
    {
     "name": "stdout",
     "output_type": "stream",
     "text": [
      "Field verbosity defaults to 1\n",
      "Field eps defaults to 0.1\n",
      "Field order defaults to 1\n",
      "Field seedRadius defaults to 0\n",
      "Fast marching solver completed in 2.43342 s.\n",
      "Field geodesicSolver defaults to Discrete\n",
      "Field geodesicStep defaults to 0.25\n",
      "Field geodesicWeightThreshold defaults to 0.001\n",
      "Field geodesicVolumeBound defaults to 10.985\n"
     ]
    }
   ],
   "source": [
    "reedsOut = reedsIn.Run()"
   ]
  },
  {
   "cell_type": "code",
   "execution_count": 96,
   "metadata": {},
   "outputs": [],
   "source": [
    "plt.scatter(tips1[0:3,0],tips1[0:3,1],color='pink');\n",
    "plt.scatter(tips1[5,0],tips1[5,1],color='pink');\n",
    "for geo in reedsOut['geodesics']: plt.plot(geo[0],geo[1],color=SeedColor(geo[:,-1])) \n",
    "imshow(-image,cmap='Greys');"
   ]
  },
  {
   "cell_type": "markdown",
   "metadata": {},
   "source": [
    "Similarly to the grayscale lifted case, we can help the backtracking by exchanging the role of the seed and of the third tip."
   ]
  },
  {
   "cell_type": "code",
   "execution_count": 97,
   "metadata": {},
   "outputs": [],
   "source": [
    "reedsIn['tips'][2,:],reedsIn['seeds'][0,:]=deepcopy(reedsIn['seeds'][0,:]),deepcopy(reedsIn['tips'][2,:])"
   ]
  },
  {
   "cell_type": "code",
   "execution_count": 98,
   "metadata": {},
   "outputs": [
    {
     "name": "stdout",
     "output_type": "stream",
     "text": [
      "Field verbosity defaults to 1\n",
      "Field eps defaults to 0.1\n",
      "Field order defaults to 1\n",
      "Field seedRadius defaults to 0\n",
      "Fast marching solver completed in 2.56364 s.\n",
      "Field geodesicSolver defaults to Discrete\n",
      "Field geodesicStep defaults to 0.25\n",
      "Field geodesicWeightThreshold defaults to 0.001\n",
      "Field geodesicVolumeBound defaults to 10.985\n"
     ]
    }
   ],
   "source": [
    "reedsOut = reedsIn.Run()"
   ]
  },
  {
   "cell_type": "code",
   "execution_count": 99,
   "metadata": {},
   "outputs": [],
   "source": [
    "fig=plt.figure(figsize=(6,3.5));  plt.axis('off'); plt.title('Tubular structure extraction using the Reeds-Shepp model')\n",
    "for geo in reedsOut['geodesics']: plt.plot(geo[0],geo[1],color=SeedColor(geo[:,-1])) \n",
    "imshow(-image,cmap='Greys');\n",
    "savefig(fig,'ReedsSheppBacktracking.png')"
   ]
  },
  {
   "cell_type": "markdown",
   "metadata": {
    "collapsed": true
   },
   "source": [
    "Note the cusp, in other words the regression point, in the trajectory leading to the faint vessel on the right. In this case, and contrary to often, the cusp appears to be meaningful and well placed. Cusps can be regarded as a signature of sub-Riemannian models."
   ]
  },
  {
   "cell_type": "markdown",
   "metadata": {},
   "source": [
    "### 3.2 The Euler-Mumford elastica model\n",
    "\n",
    "This model distinguishes itself in two ways from the previously mentioned Reeds-Shepp car:\n",
    "* The absence of a reverse gear: the vehicle cannot move backwards. It cannot even stop to rotate into place.\n",
    "* The stronger penalization of curvature, based on cost\n",
    "\\begin{equation*}\n",
    "    \\mathcal C(\\kappa) := 1+\\xi^2 \\kappa^2,\n",
    "\\end{equation*}\n",
    "where again $\\xi$ is a user provided parameter. This cost has the physical interpretation of the bending energy of an elastic bar, hence the name.\n",
    "\n",
    "The Euler-Mumford elastica model is a bit costly in terms of computation time, but it often yields the most satisfying results."
   ]
  },
  {
   "cell_type": "code",
   "execution_count": 100,
   "metadata": {},
   "outputs": [],
   "source": [
    "eulerIn=Eikonal.dictIn({\n",
    "    'model':'Elastica2',\n",
    "    'xi':60,\n",
    "    'dims':(*image.shape,2*nHalfTheta),\n",
    "    'gridScale':1,\n",
    "})"
   ]
  },
  {
   "cell_type": "markdown",
   "metadata": {},
   "source": [
    "The angular coordinate $\\theta$ belongs to the full interval $[0,2 \\pi]$, rather than $[0,\\pi]$ as in our previous experiment. In more precise mathematical terms, the Euler-Mumford elastica model is posed on the configuration space $\\mathbb R^2 \\times \\mathbb S^1$, in contrast with the projective Reeds-Shepp model discussed above which is defined on $\\mathbb R^2 \\times \\mathbb P^1$.\n",
    "As a result, the array defining the cost function must be duplicated. \n",
    "\n",
    "<!---ExoFR\n",
    "Construire le tableau de coûts du modèle Euler Elastica, sur $R^2 \\times S^1$, à partir de celui conçu pour Reeds-Shepp non-orienté, sur $R^2 \\times P^1$. Noter que $P^1 \\approx [0,\\pi[$ avec conditions au bord périodiques, et $S^1 \\approx [0,2\\pi[ = [0,\\pi[ \\cup [\\pi,2 \\pi[$. On répètera donc les entrées de coût sur le second intervalle angulaire. \n",
    "--->\n",
    "\n",
    "<!---ExoCode\n",
    "eulerIn['cost'] = # TODO. Hint np.concatenate, involves orientedCost\n",
    "--->"
   ]
  },
  {
   "cell_type": "code",
   "execution_count": 101,
   "metadata": {},
   "outputs": [],
   "source": [
    "eulerIn['cost']=np.concatenate((orientedCost,orientedCost),axis=2)"
   ]
  },
  {
   "cell_type": "markdown",
   "metadata": {},
   "source": [
    "For our first trial, we lift the seeds and tips to the orientation domain using the same routine as for the projective Reeds-Shepp model. As shown below, this naive attempt is a *complete failure*."
   ]
  },
  {
   "cell_type": "code",
   "execution_count": 102,
   "metadata": {},
   "outputs": [],
   "source": [
    "eulerIn['seeds']= MyArgmin(seeds0,seedIndices0,orientedCost,Thetas)\n",
    "eulerIn['tips'] = MyArgmin(tips0, tipIndices0, orientedCost,Thetas)\n",
    "eulerIn['stopWhenAllAccepted']=eulerIn['tips']"
   ]
  },
  {
   "cell_type": "code",
   "execution_count": 103,
   "metadata": {},
   "outputs": [
    {
     "name": "stdout",
     "output_type": "stream",
     "text": [
      "Field verbosity defaults to 1\n",
      "Field eps defaults to 0.1\n",
      "Field order defaults to 1\n",
      "Field seedRadius defaults to 0\n",
      "Fast marching solver completed in 16.9665 s.\n",
      "Field geodesicSolver defaults to Discrete\n",
      "Field geodesicStep defaults to 0.25\n",
      "Field geodesicWeightThreshold defaults to 0.001\n",
      "Field geodesicVolumeBound defaults to 10.985\n",
      "CPU times: user 35.8 ms, sys: 92.5 ms, total: 128 ms\n",
      "Wall time: 18 s\n"
     ]
    }
   ],
   "source": [
    "%%time\n",
    "# Warning : takes up to a minute.\n",
    "eulerOut =eulerIn.Run()"
   ]
  },
  {
   "cell_type": "code",
   "execution_count": 104,
   "metadata": {},
   "outputs": [],
   "source": [
    "plt.quiver(eulerIn['tips'][:,0],eulerIn['tips'][:,1],np.cos(eulerIn['tips'][:,2]),np.sin(eulerIn['tips'][:,2]),color='red')\n",
    "for geo in eulerOut['geodesics']: plt.plot(geo[0],geo[1],color=SeedColor(geo[:,-1])) \n",
    "imshow(-image,cmap='Greys');"
   ]
  },
  {
   "cell_type": "markdown",
   "metadata": {},
   "source": [
    "The geodesics could not be successfully backtracked because their *tips* were not correctly oriented.\n",
    "There are two possible remedies to this situation:\n",
    "* 1- reverse the direction of the culprits.\n",
    "* 2- forget about the orientation of the tips altogether.\n",
    "\n",
    "The same reasoning applies to the *seed* points, but they are here, by chance, correctly oriented."
   ]
  },
  {
   "cell_type": "code",
   "execution_count": 105,
   "metadata": {},
   "outputs": [],
   "source": [
    "for i in [1,3,4]: eulerIn['tips'][i,2]+=np.pi # Solution 1 : reverse the direction of ill oriented tips.\n",
    "eulerIn['tips_Unoriented'] = tips0 # Solution 2 : forget about the tips orientation\n",
    "eulerIn['stopWhenAllAccepted']=eulerIn['tips']"
   ]
  },
  {
   "cell_type": "markdown",
   "metadata": {},
   "source": [
    "Note that the computation time is several times is shorter. That is because the tips (correctly oriented, or unoriented) are reached earlier, hence the front propagation can be aborted sooner."
   ]
  },
  {
   "cell_type": "code",
   "execution_count": 106,
   "metadata": {},
   "outputs": [
    {
     "name": "stdout",
     "output_type": "stream",
     "text": [
      "Field verbosity defaults to 1\n",
      "Field eps defaults to 0.1\n",
      "Field order defaults to 1\n",
      "Field seedRadius defaults to 0\n",
      "Fast marching solver completed in 2.50393 s.\n",
      "Field geodesicSolver defaults to Discrete\n",
      "Field geodesicStep defaults to 0.25\n",
      "Field geodesicWeightThreshold defaults to 0.001\n",
      "Field geodesicVolumeBound defaults to 10.985\n",
      "CPU times: user 40 ms, sys: 84.6 ms, total: 125 ms\n",
      "Wall time: 3.54 s\n"
     ]
    }
   ],
   "source": [
    "%%time\n",
    "# Warning : takes up to a minute.\n",
    "eulerOut = eulerIn.Run()"
   ]
  },
  {
   "cell_type": "code",
   "execution_count": 107,
   "metadata": {},
   "outputs": [],
   "source": [
    "# With correctly oriented tips\n",
    "plt.quiver(eulerIn['tips'][:,0],eulerIn['tips'][:,1],np.cos(eulerIn['tips'][:,2]),np.sin(eulerIn['tips'][:,2]),color='red')\n",
    "for geo in eulerOut['geodesics']: plt.plot(geo[0],geo[1],color=SeedColor(geo[:,-1])) \n",
    "imshow(-image,cmap='Greys');"
   ]
  },
  {
   "cell_type": "code",
   "execution_count": 108,
   "metadata": {},
   "outputs": [],
   "source": [
    "# With unoriented tips\n",
    "for geo in eulerOut['geodesics_Unoriented']: plt.plot(geo[0],geo[1],color=SeedColor(geo[:,-1])) \n",
    "imshow(-image,cmap='Greys');"
   ]
  },
  {
   "cell_type": "markdown",
   "metadata": {},
   "source": [
    "We next address the second, harder, set of seeds and tips. Sadly, and a bit surprisingly, the results are not as good as with the Reeds-Shepp model in this instance."
   ]
  },
  {
   "cell_type": "code",
   "execution_count": 109,
   "metadata": {},
   "outputs": [],
   "source": [
    "eulerIn.pop('tips_Unoriented', None);\n",
    "eulerIn.pop('seeds_Unoriented',None);"
   ]
  },
  {
   "cell_type": "code",
   "execution_count": 110,
   "metadata": {},
   "outputs": [],
   "source": [
    "eulerIn['seeds'] = MyArgmin(seeds1,seedIndices1,orientedCost,Thetas)\n",
    "\n",
    "eulerIn['tips'] = MyArgmin(tips1,tipIndices1,orientedCost,Thetas)\n",
    "eulerIn['tips'][4,2] += np.pi # Solution 1 : Reverse the uncorrectly oriented tip\n",
    "eulerIn['stopWhenAllAccepted']=eulerIn['tips']"
   ]
  },
  {
   "cell_type": "code",
   "execution_count": 111,
   "metadata": {},
   "outputs": [
    {
     "name": "stdout",
     "output_type": "stream",
     "text": [
      "Field verbosity defaults to 1\n",
      "Field eps defaults to 0.1\n",
      "Field order defaults to 1\n",
      "Field seedRadius defaults to 0\n",
      "Fast marching solver completed in 4.33786 s.\n",
      "Field geodesicSolver defaults to Discrete\n",
      "Field geodesicStep defaults to 0.25\n",
      "Field geodesicWeightThreshold defaults to 0.001\n",
      "Field geodesicVolumeBound defaults to 10.985\n"
     ]
    }
   ],
   "source": [
    "eulerOut = eulerIn.Run()"
   ]
  },
  {
   "cell_type": "code",
   "execution_count": 112,
   "metadata": {},
   "outputs": [],
   "source": [
    "plt.quiver(eulerIn['tips'][:,0],eulerIn['tips'][:,1],np.cos(eulerIn['tips'][:,2]),np.sin(eulerIn['tips'][:,2]),color='red')\n",
    "for geo in eulerOut['geodesics']: plt.plot(geo[0],geo[1],color=SeedColor(geo[:,-1])) \n",
    "imshow(-image,cmap='Greys');"
   ]
  },
  {
   "cell_type": "code",
   "execution_count": 113,
   "metadata": {},
   "outputs": [],
   "source": [
    "eulerIn.pop('tips',None);\n",
    "eulerIn.pop('seeds',None);\n",
    "eulerIn.pop('stopWhenAllAccepted',None);"
   ]
  },
  {
   "cell_type": "markdown",
   "metadata": {},
   "source": [
    "Trying, to exchange the roles of the seed and third tip. We set all of them unoriented for simplicity."
   ]
  },
  {
   "cell_type": "code",
   "execution_count": 114,
   "metadata": {},
   "outputs": [],
   "source": [
    "eulerIn['tips_Unoriented']=deepcopy(tips1)\n",
    "eulerIn['seeds_Unoriented']=deepcopy(seeds1)\n",
    "eulerIn['tips_Unoriented'][2,:],eulerIn['seeds_Unoriented'][0,:] \\\n",
    "=deepcopy(eulerIn['seeds_Unoriented'][0,:]),deepcopy(eulerIn['tips_Unoriented'][2,:])"
   ]
  },
  {
   "cell_type": "code",
   "execution_count": 115,
   "metadata": {},
   "outputs": [
    {
     "name": "stdout",
     "output_type": "stream",
     "text": [
      "Field verbosity defaults to 1\n",
      "Field eps defaults to 0.1\n",
      "Field order defaults to 1\n",
      "Fast marching solver completed in 26.9834 s.\n",
      "Field geodesicSolver defaults to Discrete\n",
      "Field geodesicStep defaults to 0.25\n",
      "Field geodesicWeightThreshold defaults to 0.001\n",
      "Field geodesicVolumeBound defaults to 10.985\n"
     ]
    }
   ],
   "source": [
    "eulerOut = eulerIn.Run()"
   ]
  },
  {
   "cell_type": "code",
   "execution_count": 116,
   "metadata": {},
   "outputs": [],
   "source": [
    "for geo in eulerOut['geodesics_Unoriented']: plt.plot(geo[0],geo[1],color=SeedColor(geo[:,-1])) \n",
    "imshow(-image,cmap='Greys');"
   ]
  },
  {
   "cell_type": "code",
   "execution_count": null,
   "metadata": {},
   "outputs": [],
   "source": [
    "# Use this cell to inspect the tips and reverse their orientation if necessary\n",
    "#i=4\n",
    "#plt.quiver(eulerIn['tips'][:,0],eulerIn['tips'][:,1],np.cos(eulerIn['tips'][:,2]),np.sin(eulerIn['tips'][:,2]),color='red')\n",
    "#plt.quiver(eulerIn['tips'][i,0],eulerIn['tips'][i,1],np.cos(eulerIn['tips'][i,2]),np.sin(eulerIn['tips'][i,2]),color='blue')\n",
    "#plt.imshow(-image,origin='lower',cmap='Greys');"
   ]
  },
  {
   "cell_type": "markdown",
   "metadata": {},
   "source": [
    "## 4. Other models\n",
    "\n",
    "As discussed in the introduction, many other models can be thought of, and implemented using the HFM library, for tubular structure segmentation. For instance, this notebook does not discuss at all Riemannian models, which are more flexible than isotropic or diagonal models, while being only marginally more expensive."
   ]
  },
  {
   "cell_type": "code",
   "execution_count": null,
   "metadata": {},
   "outputs": [],
   "source": []
  }
 ],
 "metadata": {
  "celltoolbar": "Format de la Cellule Texte Brut",
  "kernelspec": {
   "display_name": "Python 3 (ipykernel)",
   "language": "python",
   "name": "python3"
  },
  "language_info": {
   "codemirror_mode": {
    "name": "ipython",
    "version": 3
   },
   "file_extension": ".py",
   "mimetype": "text/x-python",
   "name": "python",
   "nbconvert_exporter": "python",
   "pygments_lexer": "ipython3",
   "version": "3.10.8"
  },
  "latex_envs": {
   "LaTeX_envs_menu_present": true,
   "autocomplete": false,
   "bibliofile": "biblio.bib",
   "cite_by": "apalike",
   "current_citInitial": 1,
   "eqLabelWithNumbers": true,
   "eqNumInitial": 1,
   "hotkeys": {
    "equation": "Ctrl-E",
    "itemize": "Ctrl-I"
   },
   "labels_anchors": false,
   "latex_user_defs": false,
   "report_style_numbering": false,
   "user_envs_cfg": false
  },
  "varInspector": {
   "cols": {
    "lenName": 16,
    "lenType": 16,
    "lenVar": 40
   },
   "kernels_config": {
    "python": {
     "delete_cmd_postfix": "",
     "delete_cmd_prefix": "del ",
     "library": "var_list.py",
     "varRefreshCmd": "print(var_dic_list())"
    },
    "r": {
     "delete_cmd_postfix": ") ",
     "delete_cmd_prefix": "rm(",
     "library": "var_list.r",
     "varRefreshCmd": "cat(var_dic_list()) "
    }
   },
   "types_to_exclude": [
    "module",
    "function",
    "builtin_function_or_method",
    "instance",
    "_Feature"
   ],
   "window_display": false
  }
 },
 "nbformat": 4,
 "nbformat_minor": 1
}