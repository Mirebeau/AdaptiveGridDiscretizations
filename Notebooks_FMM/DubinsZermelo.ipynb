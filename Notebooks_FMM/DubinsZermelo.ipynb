{
 "cells": [
  {
   "cell_type": "markdown",
   "metadata": {},
   "source": [
    "# The HFM library - A fast marching solver with adaptive stencils\n",
    "\n",
    "## Part : Motion planning\n",
    "## Chapter : The Dubins-Zermelo problem\n",
    "\n",
    "\n",
    "We consider a vehicle, whose state is characterized by a position $x\\in R^2$, and an orientation $n \\in S^1$. As time progresses, the rate of change of the vehicle orientation is uniformly bounded \n",
    "$$\n",
    "    \\xi |\\dot n| \\leq 1,\n",
    "$$\n",
    "where the constant $\\xi>0$ can be regarded as a radius of curvature.\n",
    "The vehicle progresses at unit speed in the direction $n$, but it is also subject to a drift $V(x,n)$ depending on its position and orientation\n",
    "$$\n",
    "    \\dot x = n + V(x,n).\n",
    "$$\n",
    "In the case of a boat, this drift can be caused by the water currents and/or the wind. \n",
    "\n",
    "<!---\n",
    "Throughout this notebook, we assume that $\\|V(x)\\| < 1$, in other words the boat is able to go against the drift. If that condition is not satisfied, then the control problem is not locally controllable, which requires a different set of numerical methods than those implemented in the HFM library.\n",
    "-->\n",
    "\n",
    "This model is referred to as the Dubins-Zermelo problem, since it combines:\n",
    "*  A bound on the radius of curvature, from Dubins' car model, which is discussed in [B.I - Curvature penalized planar paths](http://nbviewer.jupyter.org/urls/rawgithub.com/Mirebeau/HFM_Python_Notebooks/master/A4_Curvature.ipynb)\n",
    "* A  drift term, as in Zermelo's problem, which is discussed in [A.III - Rander metrics. Application to Zermelo's navigation problem, and image segmentation](http://nbviewer.jupyter.org/urls/rawgithub.com/Mirebeau/HFM_Python_Notebooks/master/A6_Rander.ipynb)\n",
    "\n",
    "\n",
    "\n",
    "**Acknowledgement.**\n",
    "The problem illustrated in this notebook was presented to the authors by [Thomas Mench](https://www.researchgate.net/profile/Thomas_Mensch), in the context of optimal boat navigation for seismic exploration.\n",
    "\n",
    "**References**\n",
    "\n",
    "The experiments presented in this notebook rely on the followng implementation of Dubins' model:\n",
    "\n",
    "* Mirebeau, J.-M. (2017). Fast-marching methods for curvature penalized shortest paths. Journal of Mathematical Imaging and Vision, 1–32. http://doi.org/http://dx.doi.org/10.1007/s10851-017-0778-5\n",
    "\n",
    "**Note on computation time.**\n",
    "Calls within this notebook to the fast marching algorithm may need up to one minute to complete with the CPU eikonal solver, due to the complexity of the model (three dimensional with a rather fine scale). Computation times on the GPU are much faster.\n",
    "\n",
    "**Note on the `geodesic_targetTolerance` key.** \n",
    "The Dubins model imposes a hard constraint on the curvature of the trajectories, and as a result the value function of the corresponding optimal control problem has many discontinuities. This leads to some instabilities in the geodesic backtracking procedure, especially when the curvature constraint is \"stressed\": if there is a very short trajectory which slightly exceeds the imposed curvature bound. The Dubins-Zermelo model presented in this notebook seems to be even more sensitive to this issue. As a result we occasionally need in this notebook to tune the `geodesic_targetTolerance` parameter of the geodesic ODE solver, which decides when a geodesic point is close enough to the seed to stop the extraction."
   ]
  },
  {
   "cell_type": "markdown",
   "metadata": {},
   "source": [
    "[**Summary**](Summary.ipynb) of volume Fast Marching Methods, this series of notebooks.\n",
    "\n",
    "[**Main summary**](../Summary.ipynb) of the Adaptive Grid Discretizations \n",
    "\tbook of notebooks, including the other volumes.\n",
    "\n",
    "# Table of contents\n",
    "  * [1. Dubins' problem](#1.-Dubins'-problem)\n",
    "  * [2. Adding a constant drift](#2.-Adding-a-constant-drift)\n",
    "    * [2.1 Consistency test : unoriented seeds and tips.](#2.1-Consistency-test-:-unoriented-seeds-and-tips.)\n",
    "  * [3. Non-constant drift](#3.-Non-constant-drift)\n",
    "    * [3.1 Position dependent drift](#3.1-Position-dependent-drift)\n",
    "    * [3.2 Orientation dependent drift](#3.2-Orientation-dependent-drift)\n",
    "\n",
    "\n",
    "\n",
    "This Python&reg; notebook is intended as documentation and testing for the [HamiltonFastMarching (HFM) library](https://github.com/mirebeau/HamiltonFastMarching), which also has interfaces to the Matlab&reg; and Mathematica&reg; languages. \n",
    "More information on the HFM library in the manuscript:\n",
    "* Jean-Marie Mirebeau, Jorg Portegies, \"Hamiltonian Fast Marching: A numerical solver for anisotropic and non-holonomic eikonal PDEs\", 2019 [(link)](https://hal.archives-ouvertes.fr/hal-01778322)\n",
    "\n",
    "Copyright Jean-Marie Mirebeau, University Paris-Sud, CNRS, University Paris-Saclay"
   ]
  },
  {
   "cell_type": "markdown",
   "metadata": {},
   "source": [
    "## 0. Importing the required libraries"
   ]
  },
  {
   "cell_type": "code",
   "execution_count": 1,
   "metadata": {},
   "outputs": [],
   "source": [
    "import sys; sys.path.insert(0,\"..\") # Allow import of agd from parent directory (useless if conda package installed)\n",
    "#from Miscellaneous import TocTools; print(TocTools.displayTOC('DubinsZermelo','FMM'))"
   ]
  },
  {
   "cell_type": "code",
   "execution_count": 2,
   "metadata": {},
   "outputs": [],
   "source": [
    "from agd import Eikonal\n",
    "from agd.Plotting import savefig, quiver; #savefig.dirName = 'Figures/DubinsZermelo'\n",
    "from agd import AutomaticDifferentiation as ad\n",
    "from agd.Interpolation import UniformGridInterpolation  #scipy.interpolate.RegularGridInterpolator is Incompatible with cupy"
   ]
  },
  {
   "cell_type": "code",
   "execution_count": 3,
   "metadata": {},
   "outputs": [],
   "source": [
    "import numpy as np; xp=np\n",
    "%matplotlib inline\n",
    "import matplotlib.pyplot as plt"
   ]
  },
  {
   "cell_type": "markdown",
   "metadata": {},
   "source": [
    "### 0.1 Optional configuration\n",
    "Uncomment the following line to use the GPU eikonal solver"
   ]
  },
  {
   "cell_type": "code",
   "execution_count": 4,
   "metadata": {
    "tags": [
     "EikonalGPU_config"
    ]
   },
   "outputs": [],
   "source": [
    "#xp,plt,quiver,Eikonal = map(ad.cupy_friendly,(xp,plt,quiver,Eikonal))"
   ]
  },
  {
   "cell_type": "code",
   "execution_count": 5,
   "metadata": {},
   "outputs": [],
   "source": [
    "large_instances = False"
   ]
  },
  {
   "cell_type": "markdown",
   "metadata": {},
   "source": [
    "## 1. Dubins' problem\n",
    "\n",
    "As a starter, we solve the standard Dubins's shortest path problem, without drift.\n",
    "The radius of curvature of the vehicle trajectories is bounded by a constant $\\xi$, fixed below."
   ]
  },
  {
   "cell_type": "code",
   "execution_count": 6,
   "metadata": {},
   "outputs": [],
   "source": [
    "xi = 0.3"
   ]
  },
  {
   "cell_type": "code",
   "execution_count": 7,
   "metadata": {},
   "outputs": [],
   "source": [
    "hfmIn = Eikonal.dictIn({\n",
    "    'model':'DubinsExt2', # Dubins model, extended (customizable) variant    \n",
    "    'exportValues':1,\n",
    "    'xi':xi, # Bound on the radius of curvature\n",
    "    'speed':1.,    \n",
    "    \n",
    "    'seed':(0,0,0), # Central seed, with horizontal tangent\n",
    "    'tips':[(np.cos(t),np.sin(t),0) for t in np.linspace(0,2*np.pi,20)], # Tips on circle, with horizontal tangents    \n",
    "})\n",
    "hfmIn.SetRect(sides=[[-1.5,1.5],[-1.5,1.5]],dimx = 301 if large_instances else 151) # Physical domain\n",
    "hfmIn.nTheta = 160 if large_instances else 96 # Angular resolution\n",
    "#hfmIn['stopWhenAllAccepted'] = hfmIn['tips'] # Save a little bit of CPU time with early abort\n",
    "if large_instances: hfmIn['geodesic_targetTolerance']=17"
   ]
  },
  {
   "cell_type": "code",
   "execution_count": 8,
   "metadata": {},
   "outputs": [
    {
     "name": "stdout",
     "output_type": "stream",
     "text": [
      "Field verbosity defaults to 1\n",
      "Field eps defaults to 0.1\n",
      "Field order defaults to 1\n",
      "Field seedRadius defaults to 0\n",
      "Fast marching solver completed in 9.30536 s.\n",
      "Field geodesicSolver defaults to Discrete\n",
      "Field geodesicStep defaults to 0.25\n",
      "Field geodesicWeightThreshold defaults to 0.001\n",
      "Field geodesicVolumeBound defaults to 10.985\n"
     ]
    }
   ],
   "source": [
    "hfmOut = hfmIn.Run()"
   ]
  },
  {
   "cell_type": "code",
   "execution_count": 9,
   "metadata": {},
   "outputs": [],
   "source": [
    "fig = plt.figure(figsize=[8,8]); plt.title('Minimal Dubins paths'); plt.axis('equal'); \n",
    "for geo in hfmOut['geodesics']:  plt.plot(geo[0],geo[1]) \n",
    "savefig(fig,'Paths_NoDrift.png')"
   ]
  },
  {
   "cell_type": "code",
   "execution_count": 10,
   "metadata": {},
   "outputs": [],
   "source": [
    "fig=plt.figure(figsize=[5,4]); plt.title('Minimal Dubins paths'); plt.axis('equal'); \n",
    "for geo in hfmOut['geodesics']:  quiver(geo[0],geo[1],np.cos(geo[2]),np.sin(geo[2]),subsampling=(50,))\n",
    "savefig(fig,'Directions_NoDrift.png')"
   ]
  },
  {
   "cell_type": "markdown",
   "metadata": {},
   "source": [
    "## 2. Adding a constant drift\n",
    "\n",
    "We add a drift which pushes the boat in a constant direction.\n",
    "The total boat velocity, with respect to the ground absolute referential, is the sum \n",
    "$$\n",
    "    V_\\mathrm{tot} = (v_0 + \\cos(\\theta), v_1 + \\sin (\\theta))\n",
    "$$\n",
    "of the relative velocity $(\\cos(\\theta),\\sin(\\theta))$ and of the drift $v=(v_0,v_1)$."
   ]
  },
  {
   "cell_type": "code",
   "execution_count": 11,
   "metadata": {},
   "outputs": [],
   "source": [
    "X,Y,Theta = hfmIn.Grid()"
   ]
  },
  {
   "cell_type": "code",
   "execution_count": 12,
   "metadata": {},
   "outputs": [],
   "source": [
    "drift = xp.array([0.3,0.4])\n",
    "velocity = ad.asarray([drift[0]+np.cos(Theta), drift[1]+np.sin(Theta)])"
   ]
  },
  {
   "cell_type": "markdown",
   "metadata": {},
   "source": [
    "Note the anisotropy introduced in the model: the vehicle moves at speed $1+\\|v\\|$ when pushed by the drift, and at speed $1-\\|v\\|$ in the opposite direction. \n",
    "\n",
    "Our implementation of the Dubins model involves a relaxation parameter $\\epsilon$, which should remain substantially smaller than the $\\min/\\max$ speed ratio, elsewise numerical diffusion may corrupt the results. By default $\\epsilon = 0.1$. (When reducing $\\epsilon$, the number of orientations for the angular domain discretization should be increased.)"
   ]
  },
  {
   "cell_type": "code",
   "execution_count": 13,
   "metadata": {},
   "outputs": [
    {
     "name": "stdout",
     "output_type": "stream",
     "text": [
      "Min/Max speed ratio :  0.3333333333333333\n"
     ]
    }
   ],
   "source": [
    "print('Min/Max speed ratio : ', (1-np.linalg.norm(drift))/(1+np.linalg.norm(drift)))"
   ]
  },
  {
   "cell_type": "markdown",
   "metadata": {},
   "source": [
    "The total velocity $V_\\mathrm{tot}$ is provided to the HFM library, in polar form."
   ]
  },
  {
   "cell_type": "code",
   "execution_count": 14,
   "metadata": {},
   "outputs": [],
   "source": [
    "hfmIn.update({\n",
    "    'speed':np.linalg.norm(velocity,axis=0), # total velocity norm\n",
    "    'theta':np.arctan2(velocity[1],velocity[0]), # total velocity orientation\n",
    "})\n",
    "hfmIn['xi'] = xi * hfmIn['speed'] # Needed to enforce the curvature bound constraint in the moving frame"
   ]
  },
  {
   "cell_type": "markdown",
   "metadata": {
    "tags": [
     "TODO",
     "GPU_geodesic_needs_too_large_target_tolerance"
    ]
   },
   "source": [
    "Let us give a sketch of justification for the above expression.\n",
    "The metric of the standard Dubins model reads,\n",
    "$$\n",
    "    F_{(x,n)}(\\dot x,\\dot n) = \\|\\dot x\\| \\qquad \n",
    "    \\text{if } \\dot x \\propto n  \\text{ and } \\xi \\|\\dot n\\| \\leq \\|\\dot x\\|,\n",
    "$$\n",
    "and $F_{(x,n)}(\\dot x,\\dot n) = \\infty$ otherwise. By $\\dot x \\propto n$ we mean that the physical velocity $\\dot x$ is positively proportional to the vehicle orientation $n$.\n",
    "\n",
    "The modified variant, featuring a drift and referred to as the Zermelo-Dubins model, reads\n",
    "$$\n",
    "    {\\mathbf F}_{(x,n)}(\\dot {\\mathbf x},\\dot n) = \\|\\dot {\\mathbf x}\\|/\\|V_\\mathrm{tot}\\| \\qquad \n",
    "    \\text{if } \\dot {\\mathbf x} \\propto V_\\mathrm{tot}  \\text{ and } \\xi \\|V_\\mathrm{tot}\\| \\|\\dot n\\| \\leq \\|\\dot {\\mathbf x}\\|.\n",
    "$$\n",
    "The three occurences of $V_\\mathrm{tot}$ in this expression correspond to the three modified parameters in the model.\n",
    "\n",
    "Finally, we note that the two metrics $F$ and $\\mathbf F$ are designed so that \n",
    "$$\n",
    "    F_{(x,n)}(\\dot x,\\dot n) = {\\mathbf F}_{(x,n)}(\\dot {\\mathbf x},\\dot n) \\qquad \\text{if } \\dot x = n \\text{ and } \\dot {\\mathbf x} = V_\\mathrm{tot}.\n",
    "$$"
   ]
  },
  {
   "cell_type": "code",
   "execution_count": 15,
   "metadata": {},
   "outputs": [],
   "source": [
    "if hfmIn.mode=='gpu':hfmIn['geodesic_targetTolerance']=38 if large_instances else 25 # TODO : improve GPU geodesic stopping criterion"
   ]
  },
  {
   "cell_type": "code",
   "execution_count": 16,
   "metadata": {},
   "outputs": [
    {
     "name": "stdout",
     "output_type": "stream",
     "text": [
      "Field verbosity defaults to 1\n",
      "Field eps defaults to 0.1\n",
      "Field order defaults to 1\n",
      "Field seedRadius defaults to 0\n",
      "Fast marching solver completed in 9.08675 s.\n",
      "Field geodesicSolver defaults to Discrete\n",
      "Field geodesicStep defaults to 0.25\n",
      "Field geodesicWeightThreshold defaults to 0.001\n",
      "Field geodesicVolumeBound defaults to 10.985\n"
     ]
    }
   ],
   "source": [
    "hfmOut = hfmIn.Run()"
   ]
  },
  {
   "cell_type": "markdown",
   "metadata": {},
   "source": [
    "Among the optimal trajectories, illustrated below, we see two distinct types of turns:\n",
    "* Turns with the wind in the back, which are very large. <!---E.g. turning left at the seed point.-->\n",
    "* Turns against the wind, which are contracted. <!---E.g. turning right at the seed point.-->"
   ]
  },
  {
   "cell_type": "code",
   "execution_count": 17,
   "metadata": {},
   "outputs": [],
   "source": [
    "fig=plt.figure(figsize=[5,4]); plt.title('Minimal Dubins-Zermelo paths, constant drift'); plt.axis('equal'); \n",
    "for geo in hfmOut['geodesics']:  plt.plot(geo[0],geo[1]) \n",
    "savefig(fig,'Paths_ConstantDrift.png')"
   ]
  },
  {
   "cell_type": "markdown",
   "metadata": {},
   "source": [
    "The orientation of the vehicle $n$, is not aligned with the physical velocity $\\dot x$ in the absolute frame of reference, in which the vehicle moves forward like a crab."
   ]
  },
  {
   "cell_type": "code",
   "execution_count": 18,
   "metadata": {},
   "outputs": [],
   "source": [
    "fig=plt.figure(figsize=[5,4]); plt.title('Minimal Dubins-Zermelo paths, constant drift'); plt.axis('equal'); \n",
    "for geo in hfmOut['geodesics']:  quiver(geo[0],geo[1],np.cos(geo[2]),np.sin(geo[2]),subsampling=(50,))\n",
    "savefig(fig,'Directions_ConstantDrift.png')"
   ]
  },
  {
   "cell_type": "markdown",
   "metadata": {},
   "source": [
    "In order to check the model, we display the trajectories in the vehicle referential, offset by the total drift:\n",
    "$$\n",
    "    \\gamma(t) - t v.\n",
    "$$\n",
    "By construction, these trajectories are minimal paths between their endpoints for the standard Dubins model.\n",
    "\n",
    "For that purpose, we need to know the time parametrization of the minimal path $\\gamma$. This is achieved by interpolating the value function."
   ]
  },
  {
   "cell_type": "code",
   "execution_count": 19,
   "metadata": {},
   "outputs": [],
   "source": [
    "aX,aY,aTheta = hfmIn.Axes()\n",
    "aTheta = np.concatenate([aTheta-2.*np.pi,aTheta,aTheta+2*np.pi])"
   ]
  },
  {
   "cell_type": "code",
   "execution_count": 20,
   "metadata": {},
   "outputs": [],
   "source": [
    "TravelTime = UniformGridInterpolation( (aX,aY,aTheta),  np.tile(hfmOut['values'],(1,1,3)))"
   ]
  },
  {
   "cell_type": "markdown",
   "metadata": {},
   "source": [
    "Note that the value function is discontinuous at the seed point, since the Dubins-Zermelo model is not locally controllable. For this reason, we will avoid interpolation too close to the seed point, at the end of the geodesic (which is backtracked from the tip to the seed).\n",
    "\n",
    "In the moving frame, the optimal trajectories are concatenations straight lines and circle arcs, as illustrated below (up to numerical imprecisions)."
   ]
  },
  {
   "cell_type": "code",
   "execution_count": 21,
   "metadata": {},
   "outputs": [],
   "source": [
    "fig=plt.figure(figsize=[5,4]); plt.title(\"Water referential, constant drift, \"); plt.axis('equal'); \n",
    "for geo in hfmOut['geodesics']:  \n",
    "    geo = geo[:,:-20] # Exclude the last points of the geodesic, close to the seed point.\n",
    "    geo[2]=np.mod(geo[2],2*np.pi)\n",
    "    time = TravelTime(geo)\n",
    "    plt.plot(*(geo[:2]-time*drift.reshape(2,1))) \n",
    "savefig(fig,'PathsInWater_ConstantDrift.png')"
   ]
  },
  {
   "cell_type": "markdown",
   "metadata": {},
   "source": [
    "<!---In principle, the previous trajectories should be concatenations of straight lines and round circles, as in Dubin's standard model. This is only approximately the case, due to the small parameter $\\epsilon$ introduced to relax and implement Dubins' model. In order to get more accuracy, we can decrease $\\epsilon$ and increase the resolution.\n",
    "\n",
    "Maurizio Falcone\n",
    "-->\n",
    "\n",
    "The orientation $\\theta$ of the vehicle, the third component of the geodesic, is aligned with the the trajectory in the moving frame, which follows the drift (illustration below). "
   ]
  },
  {
   "cell_type": "code",
   "execution_count": 22,
   "metadata": {},
   "outputs": [],
   "source": [
    "fig=plt.figure(figsize=[5,4]); plt.title(\"Water referential, constant drift\"); plt.axis('equal'); \n",
    "for geo in hfmOut['geodesics']:  \n",
    "    geo = geo[:,:-20] # Exclude the last points of the geodesic, close to the seed point.\n",
    "    geo[2]=np.mod(geo[2],2*np.pi)\n",
    "    time = TravelTime(geo)\n",
    "    quiver(*(geo[:2]-time*drift.reshape(2,1)), np.cos(geo[2]),np.sin(geo[2]),subsampling=(30,))\n",
    "savefig(fig,'DirectionsInWater_ConstantDrift.png')"
   ]
  },
  {
   "cell_type": "markdown",
   "metadata": {},
   "source": [
    "### 2.1 Consistency test : unoriented seeds and tips.\n",
    "\n",
    "In order to validate the consistency of the discretization, we consider the case where the vehicle orientation at the seeds and tips is arbitrary. "
   ]
  },
  {
   "cell_type": "code",
   "execution_count": 23,
   "metadata": {},
   "outputs": [],
   "source": [
    "hfmIn.update({\n",
    "    'seed_Unoriented':[0,0],\n",
    "    'tips_Unoriented':[(np.cos(t),np.sin(t)) for t in np.linspace(0,2*np.pi,20)] \n",
    "})"
   ]
  },
  {
   "cell_type": "code",
   "execution_count": 24,
   "metadata": {},
   "outputs": [
    {
     "name": "stdout",
     "output_type": "stream",
     "text": [
      "Field verbosity defaults to 1\n",
      "Field eps defaults to 0.1\n",
      "Field order defaults to 1\n",
      "Field seedRadius defaults to 0\n",
      "Fast marching solver completed in 9.85282 s.\n",
      "Field geodesicSolver defaults to Discrete\n",
      "Field geodesicStep defaults to 0.25\n",
      "Field geodesicWeightThreshold defaults to 0.001\n",
      "Field geodesicVolumeBound defaults to 10.985\n"
     ]
    }
   ],
   "source": [
    "hfmOut = hfmIn.Run()"
   ]
  },
  {
   "cell_type": "markdown",
   "metadata": {},
   "source": [
    "In that case, the optimal trajectory is to go in a straight line, from seed to tip. \n",
    "<!---This is what we observe, despite some amount of numerical diffusion for paths going almost straight against the drift, in the bottom left corner.-->"
   ]
  },
  {
   "cell_type": "code",
   "execution_count": 25,
   "metadata": {},
   "outputs": [],
   "source": [
    "fig=plt.figure(figsize=[4,4]); plt.title(\"Zermelo's minimal paths, constant drift\"); plt.axis('equal'); \n",
    "for geo in hfmOut['geodesics_Unoriented']:  plt.plot(geo[0],geo[1]) \n",
    "savefig(fig,'Paths_UnorientedConstantDrift.png')"
   ]
  },
  {
   "cell_type": "markdown",
   "metadata": {},
   "source": [
    "Note that the boat orientation is not aligned with its trajectory. Instead, the boat moves 'like a crab', sideways, maintaining a constant angle with the drift."
   ]
  },
  {
   "cell_type": "code",
   "execution_count": 26,
   "metadata": {},
   "outputs": [],
   "source": [
    "fig=plt.figure(figsize=[4,4]); plt.title(\"Zermelo's orientation, constant drift\"); plt.axis('equal'); \n",
    "for geo in hfmOut['geodesics_Unoriented']: \n",
    "    quiver(geo[0],geo[1],np.cos(geo[2]),np.sin(geo[2]),subsampling=(30,)) \n",
    "savefig(fig,'Directions_UnorientedConstantDrift.png')"
   ]
  },
  {
   "cell_type": "markdown",
   "metadata": {},
   "source": [
    "The reachable set, in a given time $t$, is the disk of radius $t$ offset by the drift distance. (With arbitrary seed and tip orientation.)"
   ]
  },
  {
   "cell_type": "code",
   "execution_count": 27,
   "metadata": {},
   "outputs": [],
   "source": [
    "fig=plt.figure(figsize=[4,4]); plt.title(\"Zermelo's arrival time, constant drift\"); plt.axis('equal')\n",
    "plt.contourf(X[:,:,0],Y[:,:,0],np.min(hfmOut['values'],axis=2));\n",
    "savefig(fig,'Times_UnorientedConstantDrift.png')"
   ]
  },
  {
   "cell_type": "code",
   "execution_count": 28,
   "metadata": {},
   "outputs": [],
   "source": [
    "hfmIn.pop('seed_Unoriented',None);"
   ]
  },
  {
   "cell_type": "markdown",
   "metadata": {},
   "source": [
    "## 3. Non-constant drift\n",
    "\n",
    "The drift imposed on the vehicle may depend on both its position $x$ and orientation $n$. However, for illustration purposes, we limit our attention to two examples where it only depends either:\n",
    "* On the physical position $x$, as in the classical model of Zermelo.\n",
    "* On the orientation $n$, which may model aerodynamical effects."
   ]
  },
  {
   "cell_type": "markdown",
   "metadata": {},
   "source": [
    "### 3.1 Position dependent drift\n",
    "\n",
    "We consider a drift depending only on the physical position. Note that a similar example is presented in [A.III - Rander metrics. Application to Zermelo's navigation problem, and image segmentation](http://nbviewer.jupyter.org/urls/rawgithub.com/Mirebeau/HFM_Python_Notebooks/master/A6_Rander.ipynb), but without the constraint on the radius of curvature."
   ]
  },
  {
   "cell_type": "code",
   "execution_count": 29,
   "metadata": {},
   "outputs": [],
   "source": [
    "R = np.sqrt(X**2+Y**2)\n",
    "driftMult = 0.6*np.sin(np.pi*X)*np.sin(np.pi*Y)\n",
    "driftX,driftY = driftMult*X/R, driftMult*Y/R"
   ]
  },
  {
   "cell_type": "code",
   "execution_count": 30,
   "metadata": {},
   "outputs": [],
   "source": [
    "fig=plt.figure(figsize=[4,4]); plt.title(\"Drift = Drift(x) vector field.\"); plt.axis('equal')\n",
    "quiver(X[:,:,0],Y[:,:,0], driftX[:,:,0], driftY[:,:,0],subsampling=(10,10));\n",
    "savefig(fig,'PositionDrift.png')"
   ]
  },
  {
   "cell_type": "code",
   "execution_count": 31,
   "metadata": {},
   "outputs": [],
   "source": [
    "velocity = ad.array([driftX+np.cos(Theta), driftY+np.sin(Theta)])"
   ]
  },
  {
   "cell_type": "code",
   "execution_count": 32,
   "metadata": {},
   "outputs": [],
   "source": [
    "hfmIn.update({\n",
    "    'speed':np.linalg.norm(velocity,axis=0), # total velocity norm\n",
    "    'theta':np.arctan2(velocity[1],velocity[0]), # total velocity orientation\n",
    "})\n",
    "hfmIn['xi'] = xi * hfmIn['speed']\n",
    "if large_instances: hfmIn['eps'] = 0.07 # Smaller relaxation parameter slightly reduces numerical diffusion."
   ]
  },
  {
   "cell_type": "code",
   "execution_count": 33,
   "metadata": {},
   "outputs": [
    {
     "name": "stdout",
     "output_type": "stream",
     "text": [
      "Field verbosity defaults to 1\n",
      "Field eps defaults to 0.1\n",
      "Field order defaults to 1\n",
      "Field seedRadius defaults to 0\n",
      "Fast marching solver completed in 10.7608 s.\n",
      "Field geodesicSolver defaults to Discrete\n",
      "Field geodesicStep defaults to 0.25\n",
      "Field geodesicWeightThreshold defaults to 0.001\n",
      "Field geodesicVolumeBound defaults to 10.985\n"
     ]
    }
   ],
   "source": [
    "hfmOut = hfmIn.Run()"
   ]
  },
  {
   "cell_type": "code",
   "execution_count": 35,
   "metadata": {},
   "outputs": [],
   "source": [
    "fig=plt.figure(figsize=[4,4]); plt.title('Minimal Dubins-Zermelo paths, Drift(x)'); plt.axis('equal'); \n",
    "for geo in hfmOut['geodesics']: plt.plot(geo[0],geo[1]) \n",
    "savefig(fig,'Paths_PositionDrift.png')"
   ]
  },
  {
   "cell_type": "code",
   "execution_count": 36,
   "metadata": {},
   "outputs": [],
   "source": [
    "time_I = UniformGridInterpolation( (aX,aY,aTheta), np.tile(hfmOut['values'],(1,1,3)))\n",
    "driftX_I = UniformGridInterpolation( (aX,aY), driftX[:,:,0])\n",
    "driftY_I = UniformGridInterpolation( (aX,aY), driftY[:,:,0])"
   ]
  },
  {
   "cell_type": "markdown",
   "metadata": {},
   "source": [
    "In the moving frame of reference, the radius of curvature obeys the prescribed bound.\n",
    "\n",
    "<!--- Exclude excessively stressed geodesic\n",
    "for i,geo in enumerate(hfmOut['geodesics']):\n",
    "    if i==3: continue\n",
    "--->"
   ]
  },
  {
   "cell_type": "code",
   "execution_count": 37,
   "metadata": {},
   "outputs": [],
   "source": [
    "fig=plt.figure(figsize=[4.5,4]); plt.title(\"Water referential, Drift(x)\"); plt.axis('equal'); \n",
    "for geo in hfmOut['geodesics']:\n",
    "    geo = np.flip(geo[:,:-10],axis=1) # Exclude the last points of the geodesic, close to the seed point.\n",
    "    geo[2]=np.mod(geo[2],2*np.pi)\n",
    "    time_G = time_I(geo)\n",
    "    timesteps = np.concatenate((time_G[:1],np.diff(time_G)))\n",
    "    driftX_G = driftX_I(geo[:2])\n",
    "    driftY_G = driftY_I(geo[:2])\n",
    "    plt.plot(geo[0]-np.cumsum(timesteps*driftX_G), geo[1]-np.cumsum(timesteps*driftY_G)) \n",
    "savefig(fig,'PathsInWater_PositionDrift.png')"
   ]
  },
  {
   "cell_type": "markdown",
   "metadata": {},
   "source": [
    "<!--- Note however that one trajectory, at the bottom in purple, seems to violate the imposed bound on curvature bound substantially. \n",
    "This is due to numerical diffusion, because the $\\min/\\max$ speed ratio is too close to $\\epsilon$.\n",
    "The current remedy is to decrease the relaxation parameter $\\epsilon$, the angular scale and the physical scale, at the expense of computation time. See notebook [B.I - Curvature penalized planar paths](http://nbviewer.jupyter.org/urls/rawgithub.com/Mirebeau/HFM_Python_Notebooks/master/A4_Curvature.ipynb) for illustration, where a similar phenomenon arises due to the presence of obstacles. The development of more accurate numerical schemes will be the object of future research.\n",
    "-->"
   ]
  },
  {
   "cell_type": "markdown",
   "metadata": {},
   "source": [
    "### 3.2 Orientation dependent drift\n",
    "\n",
    "We consider a boat whose drift is dependent on the orientation. This may arise in practice if the drift due to the wind, which is weaker when the boat faces the wind, and stronger when it is orthogonal to the wind.\n",
    "Note that a related problem, modeling a sailboat and involving the Reeds-Shepp forward model, is presented in [B.I - Curvature penalized planar paths](http://nbviewer.jupyter.org/urls/rawgithub.com/Mirebeau/HFM_Python_Notebooks/master/A4_Curvature.ipynb)."
   ]
  },
  {
   "cell_type": "markdown",
   "metadata": {},
   "source": [
    "The drift, velocity, and various input fields only depend on the orientation, through the variable $\\theta$. Thus we do not need a full $X,Y,\\Theta$ grid."
   ]
  },
  {
   "cell_type": "code",
   "execution_count": 38,
   "metadata": {},
   "outputs": [],
   "source": [
    "Theta2 = Theta[0,0]"
   ]
  },
  {
   "cell_type": "code",
   "execution_count": 39,
   "metadata": {},
   "outputs": [],
   "source": [
    "driftX = 0.1*np.cos(Theta2)**2+0.5*np.sin(Theta2)**2\n",
    "driftY = 0.4*driftX"
   ]
  },
  {
   "cell_type": "code",
   "execution_count": 40,
   "metadata": {},
   "outputs": [],
   "source": [
    "fig=plt.figure(figsize=[4.5,4]); plt.title(r\"Drift vector field. Drift($\\theta$)\"); plt.axis('equal'); plt.xlim(-2,3); plt.ylim(-1,2);\n",
    "plt.quiver(np.cos(Theta2),np.sin(Theta2),  driftX,driftY,scale=1);\n",
    "savefig(fig,'OrientationDrift.png')"
   ]
  },
  {
   "cell_type": "code",
   "execution_count": 41,
   "metadata": {},
   "outputs": [],
   "source": [
    "velocity = ad.array([driftX+np.cos(Theta2), driftY+np.sin(Theta2)])"
   ]
  },
  {
   "cell_type": "code",
   "execution_count": 42,
   "metadata": {},
   "outputs": [],
   "source": [
    "hfmIn.update({\n",
    "    'speed':np.linalg.norm(velocity,axis=0), # total velocity norm\n",
    "    'theta':np.arctan2(velocity[1],velocity[0]), # total velocity orientation\n",
    "})\n",
    "hfmIn['xi'] = xi * hfmIn['speed']\n",
    "if large_instances: hfmIn['geodesic_targetTolerance']=50 # One very stressed geodesic"
   ]
  },
  {
   "cell_type": "code",
   "execution_count": 43,
   "metadata": {},
   "outputs": [
    {
     "name": "stdout",
     "output_type": "stream",
     "text": [
      "Field verbosity defaults to 1\n",
      "Field eps defaults to 0.1\n",
      "Field order defaults to 1\n",
      "Field seedRadius defaults to 0\n",
      "Fast marching solver completed in 9.16552 s.\n",
      "Field geodesicSolver defaults to Discrete\n",
      "Field geodesicStep defaults to 0.25\n",
      "Field geodesicWeightThreshold defaults to 0.001\n",
      "Field geodesicVolumeBound defaults to 10.985\n"
     ]
    }
   ],
   "source": [
    "hfmOut = hfmIn.Run()"
   ]
  },
  {
   "cell_type": "code",
   "execution_count": 44,
   "metadata": {},
   "outputs": [],
   "source": [
    "fig=plt.figure(figsize=[5,4]); plt.title(r\"Minimal Dubins-Zermelo paths. Drift($\\theta$)\"); plt.axis('equal'); \n",
    "for geo in hfmOut['geodesics']:  plt.plot(geo[0],geo[1]) \n",
    "savefig(fig,'Paths_OrientationDrift.png')"
   ]
  },
  {
   "cell_type": "markdown",
   "metadata": {},
   "source": [
    "As before, the vehicle obeys the Dubins' model hard constraint on the radius of curvature in its frame of reference."
   ]
  },
  {
   "cell_type": "code",
   "execution_count": 45,
   "metadata": {},
   "outputs": [],
   "source": [
    "time_I =   UniformGridInterpolation( (aX,aY,aTheta), np.tile(hfmOut['values'],(1,1,3)))\n",
    "driftX_I = UniformGridInterpolation( (aTheta,), np.tile(driftX,3))\n",
    "driftY_I = UniformGridInterpolation( (aTheta,), np.tile(driftY,3))"
   ]
  },
  {
   "cell_type": "code",
   "execution_count": 46,
   "metadata": {},
   "outputs": [],
   "source": [
    "fig=plt.figure(figsize=[6,4]); plt.axis('equal'); plt.title(r\"Moving frame. Drift($\\theta$)\");\n",
    "for geo in hfmOut['geodesics']:  \n",
    "    geo = np.flip(geo[:,:-20],axis=1) # Exclude the last points of the geodesic, close to the seed point.\n",
    "    geo[2]=np.mod(geo[2],2*np.pi)\n",
    "    time_G = time_I(geo)\n",
    "    timesteps = np.concatenate((time_G[:1],np.diff(time_G)))\n",
    "    driftX_G = driftX_I(geo[2:])\n",
    "    driftY_G = driftY_I(geo[2:])\n",
    "    plt.plot(geo[0]-np.cumsum(timesteps*driftX_G), geo[1]-np.cumsum(timesteps*driftY_G)) \n",
    "savefig(fig,'PathsInWater_OrientationDrift.png')"
   ]
  },
  {
   "cell_type": "code",
   "execution_count": null,
   "metadata": {},
   "outputs": [],
   "source": []
  }
 ],
 "metadata": {
  "celltoolbar": "Format de la Cellule Texte Brut",
  "kernelspec": {
   "display_name": "Python 3 (ipykernel)",
   "language": "python",
   "name": "python3"
  },
  "language_info": {
   "codemirror_mode": {
    "name": "ipython",
    "version": 3
   },
   "file_extension": ".py",
   "mimetype": "text/x-python",
   "name": "python",
   "nbconvert_exporter": "python",
   "pygments_lexer": "ipython3",
   "version": "3.9.10"
  }
 },
 "nbformat": 4,
 "nbformat_minor": 2
}