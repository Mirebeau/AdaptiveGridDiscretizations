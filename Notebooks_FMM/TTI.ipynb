{
 "cells": [
  {
   "cell_type": "markdown",
   "metadata": {},
   "source": [
    "# The HFM library - A fast marching solver with adaptive stencils\n",
    "\n",
    "## Part : Seismology and crystallography\n",
    "## Chapter : Tilted transversally isotropic metrics"
   ]
  },
  {
   "cell_type": "markdown",
   "metadata": {},
   "source": [
    "In this notebook, we demonstrate anisotropic fast marching with a class of metrics arising in seismic traveltime tomography. \n",
    "The intended use cases are fairly similar to [metrics defined by a Hooke tensor](Seismic.ipynb), which illustrates a closely related model. Under the hood, however, we use a completely different implementation.\n",
    "\n",
    "**Tilted transversally isotropic models.**\n",
    "We consider eikonal equations of the following form \n",
    "$$\n",
    "    l(X^2+Y^2,Z^2) + q(X^2+Y^2,Z^2) = 1\n",
    "$$\n",
    "where $l$ is a linear form, and $q$ a quadratic form, and where \n",
    "$$\n",
    "    (X,Y,Z) = A \\nabla u\n",
    "$$\n",
    "for some linear transformation $A$. In dimension two, simply ignore the $Y$ coordinate.\n",
    "\n",
    "Some algebraic conditions are required on $l$ and $q$ for this equation to make sense. On the other hand, the linear map $A$ is arbitrary.\n",
    "In the special case where $q=0$, one recovers a Riemannian eikonal equation.\n",
    "\n",
    "The numerical scheme is based on rewriting this equation as an extremum of a family of Riemannian eikonal equations, in the form\n",
    "$$\n",
    "    \\max_{t \\in [0,1]} \\|\\nabla u\\|_{D(t)} = 1, \n",
    "$$\n",
    "where $D(t)$ depends on the parameters $l$,$q$ and $A$, in addition to $t$. From this point, one can rely on the Eulerian discretization of [Riemannian eikonal equations](Riemannian.ipynb)."
   ]
  },
  {
   "cell_type": "markdown",
   "metadata": {},
   "source": [
    "[**Summary**](Summary.ipynb) of volume Fast Marching Methods, this series of notebooks.\n",
    "\n",
    "[**Main summary**](../Summary.ipynb) of the Adaptive Grid Discretizations \n",
    "\tbook of notebooks, including the other volumes.\n",
    "\n",
    "# Table of contents\n",
    "  * [1. Two dimensions](#1.-Two-dimensions)\n",
    "    * [1.1 Induced norm](#1.1-Induced-norm)\n",
    "    * [1.2 Fast marching method](#1.2-Fast-marching-method)\n",
    "    * [1.3 Construction from Thomsen parameters, and comparison with a Hooke tensor norm](#1.3-Construction-from-Thomsen-parameters,-and-comparison-with-a-Hooke-tensor-norm)\n",
    "    * [1.4 Taking into account the topography](#1.4-Taking-into-account-the-topography)\n",
    "  * [2 Three dimensions](#2-Three-dimensions)\n",
    "    * [2.1 Constant metric](#2.1-Constant-metric)\n",
    "    * [2.2 Varying metric](#2.2-Varying-metric)\n",
    "  * [3 Building a model from an array of Thomsen parameters](#3-Building-a-model-from-an-array-of-Thomsen-parameters)\n",
    "    * [3.1 Hexagonal materials and Thomsen's parameter $\\delta$](#3.1-Hexagonal-materials-and-Thomsen's-parameter-$\\delta$)\n",
    "    * [3.2 A numerical example, with the TTI eikonal solver](#3.2-A-numerical-example,-with-the-TTI-eikonal-solver)\n",
    "    * [3.3 Using the Hooke eikonal solver](#3.3-Using-the-Hooke-eikonal-solver)\n",
    "\n",
    "\n",
    "\n",
    "This Python&reg; notebook is intended as documentation and testing for the [HamiltonFastMarching (HFM) library](https://github.com/mirebeau/HamiltonFastMarching), which also has interfaces to the Matlab&reg; and Mathematica&reg; languages. \n",
    "More information on the HFM library in the manuscript:\n",
    "* Jean-Marie Mirebeau, Jorg Portegies, \"Hamiltonian Fast Marching: A numerical solver for anisotropic and non-holonomic eikonal PDEs\", 2019 [(link)](https://hal.archives-ouvertes.fr/hal-01778322)\n",
    "\n",
    "Copyright Jean-Marie Mirebeau, University Paris-Sud, CNRS, University Paris-Saclay"
   ]
  },
  {
   "cell_type": "markdown",
   "metadata": {},
   "source": [
    "## 0. Importing the required libraries"
   ]
  },
  {
   "cell_type": "code",
   "execution_count": 76,
   "metadata": {},
   "outputs": [],
   "source": [
    "import sys; sys.path.insert(0,\"..\") # Allow import of agd from parent directory (useless if conda package installed)\n",
    "#from Miscellaneous import TocTools; print(TocTools.displayTOC('TTI','FMM'))"
   ]
  },
  {
   "cell_type": "code",
   "execution_count": 77,
   "metadata": {},
   "outputs": [],
   "source": [
    "from agd import Eikonal\n",
    "from agd import LinearParallel as lp\n",
    "from agd.Metrics import Seismic \n",
    "from agd import AutomaticDifferentiation as ad\n",
    "from agd.Plotting import savefig; #savefig.dirName = 'Images/TTI'\n",
    "norm_infinity = ad.Optimization.norm_infinity\n",
    "mica = Seismic.TTI.mica[0]"
   ]
  },
  {
   "cell_type": "code",
   "execution_count": 78,
   "metadata": {},
   "outputs": [],
   "source": [
    "import numpy as np; xp=np\n",
    "#import scipy.linalg\n",
    "#from copy import copy\n",
    "%matplotlib inline\n",
    "import matplotlib.pyplot as plt"
   ]
  },
  {
   "cell_type": "code",
   "execution_count": 79,
   "metadata": {},
   "outputs": [],
   "source": [
    "def ReloadPackages():\n",
    "    from Miscellaneous.rreload import rreload\n",
    "    global Eikonal,ad,lp,Seismic\n",
    "    Eikonal,ad,lp,Seismic = rreload([Eikonal,ad,lp,Seismic],rootdir=\"../..\")"
   ]
  },
  {
   "cell_type": "markdown",
   "metadata": {},
   "source": [
    "### 0.1 Optional configuration"
   ]
  },
  {
   "cell_type": "code",
   "execution_count": 80,
   "metadata": {
    "tags": [
     "EikonalGPU_config"
    ]
   },
   "outputs": [],
   "source": [
    "#xp,plt,Eikonal,mica = map(ad.cupy_friendly,(xp,plt,Eikonal,mica))"
   ]
  },
  {
   "cell_type": "markdown",
   "metadata": {},
   "source": [
    "## 1. Two dimensions"
   ]
  },
  {
   "cell_type": "markdown",
   "metadata": {},
   "source": [
    "### 1.1 Induced norm"
   ]
  },
  {
   "cell_type": "code",
   "execution_count": 81,
   "metadata": {},
   "outputs": [],
   "source": [
    "n=50\n",
    "hfmIn = Eikonal.dictIn({\n",
    "    'model':'TTI2',\n",
    "    'exportValues':1,\n",
    "    'seed':[0.,0.],\n",
    "    'factoringRadius':-1, # Source factorization over the whole domain\n",
    "    'order':2\n",
    "})\n",
    "w=1\n",
    "hfmIn.SetRect(sides=[[-w,w],[-w,w]],dimx=2*n+1,sampleBoundary=True) # Define the domain\n",
    "X = hfmIn.Grid() # Horizontal and vertical axis"
   ]
  },
  {
   "cell_type": "markdown",
   "metadata": {},
   "source": [
    "The metric constructor takes as input the linear form $l$, and the quadratic form $q$, presented as a symmetric matrix (not necessarily positive definite)."
   ]
  },
  {
   "cell_type": "code",
   "execution_count": 82,
   "metadata": {},
   "outputs": [],
   "source": [
    "metric = Seismic.TTI([1.,2.],[[0.,0.2],[0.2,0.]],vdim=2).rotate_by(0.5)\n",
    "hfmIn['metric'] = metric"
   ]
  },
  {
   "cell_type": "code",
   "execution_count": 83,
   "metadata": {},
   "outputs": [],
   "source": [
    "plt.title(\"Level sets of a non-elliptical norm\"); plt.axis('equal')\n",
    "plt.contour(*X,metric.norm(X));"
   ]
  },
  {
   "cell_type": "markdown",
   "metadata": {},
   "source": [
    "As described in the introduction, the dual unit ball of a TTI norm is defined by a quartic equation.\n",
    "We rely on a sequential quadratic programming approach to solve this equation, and check below that it is satisfied in the end."
   ]
  },
  {
   "cell_type": "code",
   "execution_count": 84,
   "metadata": {},
   "outputs": [
    {
     "name": "stdout",
     "output_type": "stream",
     "text": [
      "v=[0. 1.], grad=[0.25418816 0.77540509], lvl=0.0\n"
     ]
    }
   ],
   "source": [
    "v=xp.array((0.,1.))\n",
    "grad = metric.gradient(v)\n",
    "a=lp.transpose(lp.inverse(metric.inverse_transformation))\n",
    "lvl = metric._dual_level(lp.dot_AV(a,grad))\n",
    "print(f\"v={v}, grad={grad}, lvl={lvl}\")\n",
    "assert np.abs(lvl)<1e-6"
   ]
  },
  {
   "cell_type": "markdown",
   "metadata": {},
   "source": [
    "### 1.2 Fast marching method"
   ]
  },
  {
   "cell_type": "code",
   "execution_count": 85,
   "metadata": {},
   "outputs": [
    {
     "name": "stdout",
     "output_type": "stream",
     "text": [
      "Field verbosity defaults to 1\n",
      "Field seedRadius defaults to 2\n",
      "Field factoringPointChoice defaults to Seed\n",
      "Field exportFactoring defaults to 0\n",
      "Fast marching solver completed in 0.014653 s.\n"
     ]
    }
   ],
   "source": [
    "hfmOut = hfmIn.Run()"
   ]
  },
  {
   "cell_type": "code",
   "execution_count": 86,
   "metadata": {},
   "outputs": [],
   "source": [
    "plt.axis('equal')\n",
    "plt.contourf(*X,hfmOut['values']);"
   ]
  },
  {
   "cell_type": "code",
   "execution_count": 87,
   "metadata": {},
   "outputs": [],
   "source": [
    "assert norm_infinity(hfmOut['values']-metric.norm(X)) < 0.01"
   ]
  },
  {
   "cell_type": "code",
   "execution_count": 88,
   "metadata": {},
   "outputs": [],
   "source": [
    "#plt.axis('equal')\n",
    "#plt.scatter(*hfmOut['spreadedSeeds'].T)\n",
    "#plt.scatter(0,0)"
   ]
  },
  {
   "cell_type": "markdown",
   "metadata": {},
   "source": [
    "### 1.3 Construction from Thomsen parameters, and comparison with a Hooke tensor norm\n",
    "\n",
    "Some examples of elastic materials, transversally isotropic, are reproduced from (Thomsen, 1986). \n",
    "The can be handled by TTI norms, as well as by the more general norms defined by a full Hooke tensor."
   ]
  },
  {
   "cell_type": "code",
   "execution_count": 89,
   "metadata": {},
   "outputs": [
    {
     "data": {
      "text/plain": [
       "odict_keys(['Taylor sandstone', 'Mesaverde (4903) mudshale', 'Mesaverde (4912) immature sandstone', 'Mesaverde (4946) immature sandstone', 'Mesaverde (5469.5) silty sandstone', 'Mesaverde (5481.3) immature sandstone', 'Mesaverde (5501) clayshale', 'Mesaverde (5555.5) immature sandstone', 'Mesaverde (5566.3) laminated siltstone', 'Mesaverde (5837.5) immature sandstone', 'Mesaverde (5858.6) clayshale', 'Mesaverde (6423.6) calcareous sandstone', 'Mesaverde (6455.1) immature sandstone', 'Mesaverde (6542.6) immature sandstone', 'Mesaverde (6563.7) mudshale', 'Mesaverde (7888.4) sandstone', 'Mesaverde (7939.5) mudshale', 'Mesaverde shale (350)', 'Mesaverde sandstone (1582)', 'Mesaverde shale (1599)', 'Mesaverde sandstone (1958)', 'Mesaverde shale (1968)', 'Mesaverde sandstone (3512)', 'Mesaverde shale (3511)', 'Mesaverde sandstone (3805)', 'Mesaverde shale (3883)', 'Dog Creek shale', 'Wills Point shale - 1', 'Wills Point shale - 2', 'Cotton Valley shale', 'Pierre shale - 1', 'Pierre shale - 2', 'Pierre shale - 3', 'shale (5000) - 1', 'shale (5000) - 2', 'Oil Shale', 'Green River shale - 1', 'Green River shale - 2', 'Berea sandstone - 1', 'Berea sandstone - 2', 'Green River shale - 3', 'Lance sandstone', 'Ft. Union siltstone', 'Timber Mtn tuff', 'Muscovite crystal', 'Quartz crystal (hexag. approx.)', 'Calcite crystal (hexag. approx.)', 'Biotite crystal', 'Apatite crystal', 'Ice I crystal', 'Aluminium-lucite composite', 'Sandstone-shale', 'SS-anisotropic shale', 'Limestone-shale', 'LS-anisotropic shale', 'Anisotropic shale', 'Gas sand-water sand', 'Gypsum-weathered material'])"
      ]
     },
     "execution_count": 89,
     "metadata": {},
     "output_type": "execute_result"
    }
   ],
   "source": [
    "th = Seismic.Thomsen\n",
    "th.ThomsenData.keys()"
   ]
  },
  {
   "cell_type": "code",
   "execution_count": 90,
   "metadata": {},
   "outputs": [],
   "source": [
    "# Set the center point to exactly (0,0), otherwise hooke norm yields NaN with float32\n",
    "if Eikonal.dictIn.default_mode=='gpu': X[:,n,n]=0"
   ]
  },
  {
   "cell_type": "code",
   "execution_count": 91,
   "metadata": {},
   "outputs": [],
   "source": [
    "value = th.ThomsenData['Muscovite crystal']\n",
    "tti   = Seismic.TTI.from_ThomsenElastic(value)[0].extract_xz().rotate_by(0.3)\n",
    "hooke = Seismic.Hooke.from_ThomsenElastic(value)[0].extract_xz().rotate_by(0.3)\n",
    "\n",
    "assert np.allclose(tti.norm(X),hooke.norm(X))\n",
    "plt.title(\"Unit ball for a Thomsen norm\");  plt.axis('equal')\n",
    "plt.contourf(*X,hooke.norm(X));"
   ]
  },
  {
   "cell_type": "markdown",
   "metadata": {},
   "source": [
    "The TTI norm and Hooke tensor norm defined from these models coincide up to machine precision."
   ]
  },
  {
   "cell_type": "code",
   "execution_count": 92,
   "metadata": {},
   "outputs": [],
   "source": [
    "tested = list(th.ThomsenData.items())[:3]\n",
    "for key,value in tested:\n",
    "    value = xp.asarray(value)\n",
    "    tti   = Seismic.TTI.from_ThomsenElastic(value)[0].extract_xz()\n",
    "    hooke = Seismic.Hooke.from_ThomsenElastic(value)[0].extract_xz()\n",
    "    \n",
    "    assert np.allclose(tti.norm(X),hooke.norm(X),atol=1e-5) # atol for float32"
   ]
  },
  {
   "cell_type": "markdown",
   "metadata": {},
   "source": [
    "### 1.4 Taking into account the topography\n",
    "\n",
    "We reproduce a numerical experiment presented in the notebook [Seismic.ipynb], where the metric is constant, but the domain is a diffeomorphically mapped rectangle."
   ]
  },
  {
   "cell_type": "code",
   "execution_count": 93,
   "metadata": {},
   "outputs": [],
   "source": [
    "def h(x,z,alpha=0.5): return ad.array([x, z + alpha*z*np.sin(np.pi*x)])"
   ]
  },
  {
   "cell_type": "code",
   "execution_count": 94,
   "metadata": {},
   "outputs": [],
   "source": [
    "X = np.linspace(-1,1,20)\n",
    "Z = np.linspace(0,1,5)\n",
    "for z in Z: plt.plot(*h(X,z)) \n",
    "for x in X: plt.plot(*h(x+0.*Z,Z))"
   ]
  },
  {
   "cell_type": "code",
   "execution_count": 95,
   "metadata": {},
   "outputs": [],
   "source": [
    "hfmIn = Eikonal.dictIn({\n",
    "    'model':'TTI2',\n",
    "    'exportValues':1,\n",
    "    'seed':[0.,0.5],\n",
    "})\n",
    "\n",
    "# Define the domain\n",
    "hfmIn.SetRect(sides=[[-1,1],[0,1]],dimx=101)\n",
    "hfmIn.SetUniformTips((6,6))\n",
    "\n",
    "X0 = hfmIn.Grid() # Grid coordinates (horizontal and vertical)\n",
    "X = h(*X0) # Physical coordinates"
   ]
  },
  {
   "cell_type": "markdown",
   "metadata": {},
   "source": [
    "By default, for the GPU eikonal solver, the TTI norm is obtained as the envelope of $7$ Riemannian norms. This turns out to be insufficient for the strongly anisotropic crystal chosen here. We change below this value to $15$, in order to have better behaved geodesics. (The CPU eikonal solver uses a different formulation, and has no such restriction.)"
   ]
  },
  {
   "cell_type": "code",
   "execution_count": 96,
   "metadata": {},
   "outputs": [],
   "source": [
    "if hfmIn.mode=='gpu':hfmIn['traits']={'nmix_macro':15}"
   ]
  },
  {
   "cell_type": "code",
   "execution_count": 97,
   "metadata": {},
   "outputs": [],
   "source": [
    "X0_ad = ad.Dense.identity(constant=X0,shape_free=(2,))\n",
    "Jac = h(*X0_ad).gradient().swapaxes(0,1)"
   ]
  },
  {
   "cell_type": "code",
   "execution_count": 98,
   "metadata": {},
   "outputs": [],
   "source": [
    "hfmIn['metric'] = mica.extract_xz().rotate_by(-np.pi/6).inv_transform(Jac) "
   ]
  },
  {
   "cell_type": "code",
   "execution_count": 99,
   "metadata": {},
   "outputs": [
    {
     "name": "stdout",
     "output_type": "stream",
     "text": [
      "Field verbosity defaults to 1\n",
      "Field order defaults to 1\n",
      "Field seedRadius defaults to 0\n",
      "Fast marching solver completed in 0.024173 s.\n",
      "Field geodesicSolver defaults to Discrete\n",
      "Field geodesicStep defaults to 0.25\n",
      "Field geodesicWeightThreshold defaults to 0.001\n",
      "Field geodesicVolumeBound defaults to 8.45\n"
     ]
    }
   ],
   "source": [
    "hfmOut = hfmIn.Run()"
   ]
  },
  {
   "cell_type": "code",
   "execution_count": 100,
   "metadata": {},
   "outputs": [],
   "source": [
    "fig = plt.figure(figsize=[6,4]); plt.axis('equal');\n",
    "plt.title('Minimal distance, Seismic metric (constant) with topography'); \n",
    "plt.contourf(*X,hfmOut['values']);"
   ]
  },
  {
   "cell_type": "markdown",
   "metadata": {},
   "source": [
    "The geodesics are expected to be straight lines, except for the ones tangent to the topography."
   ]
  },
  {
   "cell_type": "code",
   "execution_count": 101,
   "metadata": {},
   "outputs": [],
   "source": [
    "fig = plt.figure(figsize=[5,4]);  plt.axis('equal'); \n",
    "plt.title('Minimal geodesics, Seismic metric (constant) with topography');\n",
    "for geo in hfmOut['geodesics']:  plt.plot(*h(*geo)) "
   ]
  },
  {
   "cell_type": "markdown",
   "metadata": {},
   "source": [
    "Note that the computation involved a rather strongly anisotropic and non-constant metric, on a rectangle."
   ]
  },
  {
   "cell_type": "code",
   "execution_count": 102,
   "metadata": {},
   "outputs": [],
   "source": [
    "plt.title('Minimal distance, Seismic metric (constant) with topography, deformed grid'); plt.axis('equal')\n",
    "plt.contourf(*X0,hfmOut['values']);"
   ]
  },
  {
   "cell_type": "markdown",
   "metadata": {},
   "source": [
    "## 2 Three dimensions"
   ]
  },
  {
   "cell_type": "markdown",
   "metadata": {},
   "source": [
    "### 2.1 Constant metric"
   ]
  },
  {
   "cell_type": "code",
   "execution_count": 103,
   "metadata": {},
   "outputs": [],
   "source": [
    "hfmIn_Constant = Eikonal.dictIn({\n",
    "    'model':'TTI3',\n",
    "    'arrayOrdering':'RowMajor',\n",
    "    'exportValues':1,\n",
    "    'seeds':[[0.,0.,0.]],\n",
    "    'factoringRadius':20,\n",
    "    'seedRadius':2,\n",
    "#    'order':2\n",
    "#    'exportGeodesicFlow':1,\n",
    "})\n",
    "\n",
    "hfmIn_Constant.SetRect(sides=[[-1,1],[-1,1],[-1,1] ],dimx=31,sampleBoundary=True) # Define the domain\n",
    "X = hfmIn_Constant.Grid() \n",
    "\n",
    "metric = Seismic.TTI([1.,1],[[0.5,0.1],[0.1,-0.2]],vdim=3).rotate_by(0.5,axis=(1,2,3))\n",
    "hfmIn_Constant['metric'] = metric"
   ]
  },
  {
   "cell_type": "code",
   "execution_count": 104,
   "metadata": {},
   "outputs": [
    {
     "name": "stdout",
     "output_type": "stream",
     "text": [
      "Field verbosity defaults to 1\n",
      "Field order defaults to 1\n",
      "Field factoringPointChoice defaults to Seed\n",
      "Field exportFactoring defaults to 0\n",
      "Fast marching solver completed in 0.211749 s.\n"
     ]
    }
   ],
   "source": [
    "hfmOut = hfmIn_Constant.Run()"
   ]
  },
  {
   "cell_type": "code",
   "execution_count": 105,
   "metadata": {},
   "outputs": [],
   "source": [
    "plt.axis('equal')\n",
    "plt.contourf(hfmOut['values'][:,5,:]);"
   ]
  },
  {
   "cell_type": "markdown",
   "metadata": {},
   "source": [
    "The largest difference between the exact value and the fast marching result is in the corners, because several of the stencil points may be outside the domain."
   ]
  },
  {
   "cell_type": "code",
   "execution_count": 106,
   "metadata": {},
   "outputs": [],
   "source": [
    "plt.axis('equal')\n",
    "plt.contourf(hfmOut['values'][:,5,:]-metric.norm(X)[:,5,:]);"
   ]
  },
  {
   "cell_type": "code",
   "execution_count": 107,
   "metadata": {},
   "outputs": [],
   "source": [
    "assert norm_infinity(hfmOut['values'] - metric.norm(X)) < 2e-2"
   ]
  },
  {
   "cell_type": "markdown",
   "metadata": {},
   "source": [
    "### 2.2 Varying metric"
   ]
  },
  {
   "cell_type": "code",
   "execution_count": 108,
   "metadata": {},
   "outputs": [],
   "source": [
    "hfmIn = Eikonal.dictIn({\n",
    "    'model':'TTI3', \n",
    "    'exportValues':1,\n",
    "    'seed':[0.,0.,0.5],\n",
    "    'factoringRadius':7,\n",
    "    'order':2\n",
    "})\n",
    "\n",
    "# Define the domain\n",
    "n=30; \n",
    "hfmIn.SetRect(sides=[[-1,1],[-1,1],[0,1]],dimx=n)"
   ]
  },
  {
   "cell_type": "code",
   "execution_count": 109,
   "metadata": {},
   "outputs": [],
   "source": [
    "X,Y,Z = hfmIn.Grid()"
   ]
  },
  {
   "cell_type": "code",
   "execution_count": 110,
   "metadata": {},
   "outputs": [],
   "source": [
    "rotation1 = lp.rotation( (np.pi/6)*np.sin(2*np.pi*(X+0.4)), (1,0,0))\n",
    "rotation2 = lp.rotation( (np.pi/6)*np.sin(2*np.pi*(Y-0.7)), (0,1,0))\n",
    "rotation = lp.dot_AA(rotation1,rotation2)\n",
    "\n",
    "hfmIn['metric'] = mica.rotate(rotation)"
   ]
  },
  {
   "cell_type": "code",
   "execution_count": 111,
   "metadata": {},
   "outputs": [],
   "source": [
    "if hfmIn.mode=='gpu':hfmIn['traits']={'nmix_macro':10}"
   ]
  },
  {
   "cell_type": "code",
   "execution_count": 112,
   "metadata": {},
   "outputs": [
    {
     "name": "stdout",
     "output_type": "stream",
     "text": [
      "Field verbosity defaults to 1\n",
      "Field seedRadius defaults to 2\n",
      "Field factoringPointChoice defaults to Seed\n",
      "Field exportFactoring defaults to 0\n",
      "Fast marching solver completed in 0.401648 s.\n"
     ]
    }
   ],
   "source": [
    "hfmOut = hfmIn.Run()"
   ]
  },
  {
   "cell_type": "code",
   "execution_count": 113,
   "metadata": {},
   "outputs": [],
   "source": [
    "nHalf=n//2\n",
    "plt.axis('equal'); plt.title('Slice of arrival times for a position dependent mica model')\n",
    "plt.contourf(Y[nHalf,:,:],Z[nHalf,:,:],hfmOut['values'][nHalf,:,:]);"
   ]
  },
  {
   "cell_type": "markdown",
   "metadata": {},
   "source": [
    "## 3 Building a model from an array of Thomsen parameters\n",
    "\n",
    "We discuss in slightly more detail the manipulation of Thomsen parameters, see \"Weak elastic anisotropy\" (Thomsen, 1986).\n",
    "\n",
    "In Thomsen's notation, an elastic material is specified via six parameters: \n",
    "$$\n",
    "    (V_p,V_s,\\epsilon,\\eta,\\delta,\\gamma,\\rho).\n",
    "$$\n",
    "- $V_p$ and $V_s$ are measured in m/s, and related to the velocity of pressure and shear waves.\n",
    "- $\\epsilon,\\eta,\\delta,\\gamma$ are dimensionless parameters, specifiying the shape of the anisotropy.\n",
    "- $\\rho$ measured in g/cm^3, is the material density."
   ]
  },
  {
   "cell_type": "code",
   "execution_count": 114,
   "metadata": {},
   "outputs": [
    {
     "data": {
      "text/plain": [
       "ThomsenElasticMaterial(Vp=4420, Vs=2091, ε=1.12, η=-1.23, δ=-0.235, γ=2.28, ρ=2.79)"
      ]
     },
     "execution_count": 114,
     "metadata": {},
     "output_type": "execute_result"
    }
   ],
   "source": [
    "tem = th.ThomsenData['Muscovite crystal']\n",
    "tem"
   ]
  },
  {
   "cell_type": "markdown",
   "metadata": {},
   "source": [
    "**Note on the fieldname $\\epsilon$.**\n",
    "At the time of writing, the `namedtuple` fields must be normalized unicode characters.\n",
    "This is why the 'ε' is used instead of 'ϵ' as a fieldname in `ThomsenElasticMaterial`.\n",
    "See https://stackoverflow.com/a/30505623/12508258 for more discussion."
   ]
  },
  {
   "cell_type": "code",
   "execution_count": 115,
   "metadata": {},
   "outputs": [],
   "source": [
    "import unicodedata; assert 'ε' == unicodedata.normalize('NFKC','ϵ')"
   ]
  },
  {
   "cell_type": "markdown",
   "metadata": {},
   "source": [
    "### 3.1 Hexagonal materials and Thomsen's parameter $\\delta$ \n",
    "\n",
    "Thomsen parameters can be converted into the (reduced) Hooke tensor coefficients of a material with hexagonal symmetry.\n",
    "This step is done implicitly when producing `Seismic.TTI` or `Seismic.Hooke` objects which can be handled by the eikonal solvers."
   ]
  },
  {
   "cell_type": "code",
   "execution_count": 116,
   "metadata": {},
   "outputs": [
    {
     "name": "stdout",
     "output_type": "stream",
     "text": [
      "Hooke tensor coefficients : HexagonalMaterial(c11=63297936.00000001, c12=14678171.280000009, c13=6828108.80578232, c33=19536400, c44=4372281)\n",
      "Density : 2.79\n"
     ]
    }
   ],
   "source": [
    "hexa,ρ = tem.to_hexagonal()\n",
    "print(\"Hooke tensor coefficients :\", hexa)\n",
    "print(\"Density :\",ρ)"
   ]
  },
  {
   "cell_type": "markdown",
   "metadata": {},
   "source": [
    "Recall that the *reduced* Hooke tensor is measured in $m^2/s^2$, and already incorporates the speed modulation due to density. Some coefficients have particularly simple expressions."
   ]
  },
  {
   "cell_type": "code",
   "execution_count": 117,
   "metadata": {},
   "outputs": [],
   "source": [
    "assert np.allclose(hexa.c33,tem.Vp**2)\n",
    "assert np.allclose(hexa.c44,tem.Vs**2)"
   ]
  },
  {
   "cell_type": "markdown",
   "metadata": {},
   "source": [
    "The parameter $\\delta$ is ignored in this conversion."
   ]
  },
  {
   "cell_type": "code",
   "execution_count": 118,
   "metadata": {},
   "outputs": [],
   "source": [
    "tem_δnan = th.ThomsenElasticMaterial(tem.Vp, tem.Vs, tem.ε, tem.η, np.nan, tem.γ, tem.ρ)\n",
    "assert tem_δnan.to_hexagonal() == tem.to_hexagonal()"
   ]
  },
  {
   "cell_type": "markdown",
   "metadata": {},
   "source": [
    "\n",
    "Indeed, Thomsen parameters are *not* independent, and the parameter $\\delta$ is defined as \n",
    "$$\n",
    "    2 \\delta = \\epsilon + \\frac \\eta {1-V_s^2/V_p^2}.\n",
    "$$\n",
    "The `get_δ` function implements this formula."
   ]
  },
  {
   "cell_type": "code",
   "execution_count": 119,
   "metadata": {},
   "outputs": [
    {
     "name": "stdout",
     "output_type": "stream",
     "text": [
      "Thomsen original data : δ = -0.235\n",
      "Reconstructed : δ = -0.23232337862819452\n"
     ]
    }
   ],
   "source": [
    "print(\"Thomsen original data : δ =\",tem[4])\n",
    "print(\"Reconstructed : δ =\", th.get_δ(*tem[:4]))"
   ]
  },
  {
   "cell_type": "markdown",
   "metadata": {},
   "source": [
    "Unfortunately Thomsen's own published data seems inconsistent in this regard. *Or maybe I missed something ?*"
   ]
  },
  {
   "cell_type": "code",
   "execution_count": 120,
   "metadata": {},
   "outputs": [
    {
     "name": "stdout",
     "output_type": "stream",
     "text": [
      "Consistent published and reconstructed δ : 34 cases\n",
      "Factor two omitted : 11 cases\n",
      "Unexplained : {'Mesaverde (5837.5) immature sandstone': 1.6391370492618653, 'Mesaverde shale (1599)': 2.198347682314651, 'Mesaverde shale (1968)': 1.8155430928298144, 'Mesaverde shale (3511)': -0.0, 'Lance sandstone': 0.5510408013430982, 'Ft. Union siltstone': 1.3518799584691759, 'Timber Mtn tuff': -3.639828155038852, 'Sandstone-shale': 1.5040028850050553, 'SS-anisotropic shale': 1.6876274645369542, 'Limestone-shale': -0.0, 'LS-anisotropic shale': -0.0, 'Anisotropic shale': 1.2866379663485796, 'Gas sand-water sand': 1.8832132129622101}\n"
     ]
    }
   ],
   "source": [
    "consistent,factor_two,weird = {},{},{}\n",
    "for name,tem in th.ThomsenData.items():\n",
    "    δ_ratio = tem.δ/ th.get_δ(*tem[:4]) # Published data / Reconstructed data\n",
    "    if abs(δ_ratio-1)<0.1:   consistent[name] = δ_ratio\n",
    "    elif abs(δ_ratio-2)<0.1: factor_two[name] = δ_ratio\n",
    "    else:                    weird[name] = δ_ratio\n",
    "        \n",
    "print(\"Consistent published and reconstructed δ :\",len(consistent),\"cases\")\n",
    "print(\"Factor two omitted :\",len(factor_two),\"cases\")\n",
    "print(\"Unexplained :\",weird)"
   ]
  },
  {
   "cell_type": "markdown",
   "metadata": {},
   "source": [
    "### 3.2 A numerical example, with the TTI eikonal solver\n",
    "\n",
    "We compute traveltimes in a two dimensional test case, that is made of two different materials."
   ]
  },
  {
   "cell_type": "code",
   "execution_count": 121,
   "metadata": {},
   "outputs": [],
   "source": [
    "n=50\n",
    "hfmIn = Eikonal.dictIn({\n",
    "    'model':'TTI2',\n",
    "    'exportValues':1,\n",
    "    'seed':[0.2,0.2],\n",
    "    'factoringRadius':-1, \n",
    "    'order':1\n",
    "})\n",
    "hfmIn.SetRect(sides=[[0,2],[0,1]],dimx=2*n,sampleBoundary=True) # Define the domain\n",
    "hfmIn.SetUniformTips([4,2])\n",
    "X,Z = hfmIn.Grid() # Horizontal and vertical axis"
   ]
  },
  {
   "cell_type": "markdown",
   "metadata": {},
   "source": [
    "In some use cases, the material may be specified as \n",
    "- an array of thomsen parameters\n",
    "- an array of angles specifying the tilt. (In three dimensions, an additional axis must be specified, or alternatively the full rotation matrix.)\n",
    "\n",
    "For illustration, we consider a piecewise constant material.\n",
    "\n",
    "**Note on the scheme order.**\n",
    "High order accuracy can only be achieved with smooth data. In the case of a piecewise constant material, using the second order scheme may do more harm than good, depending on the case."
   ]
  },
  {
   "cell_type": "code",
   "execution_count": 122,
   "metadata": {},
   "outputs": [],
   "source": [
    "top = Z >= 1.2-X/2"
   ]
  },
  {
   "cell_type": "code",
   "execution_count": 123,
   "metadata": {},
   "outputs": [],
   "source": [
    "plt.contourf(X,Z,top);"
   ]
  },
  {
   "cell_type": "code",
   "execution_count": 125,
   "metadata": {},
   "outputs": [],
   "source": [
    "θ = xp.where(top,np.pi/6,-np.pi/4)\n",
    "def broadcast(tem): return xp.array(tem)[:,None,None]\n",
    "tem = np.where(top, broadcast(th.ThomsenData['Ice I crystal']), broadcast(th.ThomsenData['Muscovite crystal']) )"
   ]
  },
  {
   "cell_type": "code",
   "execution_count": 132,
   "metadata": {},
   "outputs": [],
   "source": [
    "# Produce the TTI geometry and density from the material data.\n",
    "vti,ρ = Seismic.TTI.from_ThomsenElastic(tem) \n",
    "# Slice in two dimensions, and rotate by chosen tilt.\n",
    "hfmIn['metric'] = vti.extract_xz().rotate_by(θ)"
   ]
  },
  {
   "cell_type": "code",
   "execution_count": 133,
   "metadata": {},
   "outputs": [],
   "source": [
    "if hfmIn.mode=='gpu':hfmIn['traits']={'nmix_macro':15}"
   ]
  },
  {
   "cell_type": "code",
   "execution_count": 134,
   "metadata": {},
   "outputs": [
    {
     "name": "stdout",
     "output_type": "stream",
     "text": [
      "Field verbosity defaults to 1\n",
      "Field seedRadius defaults to 2\n",
      "Field factoringPointChoice defaults to Seed\n",
      "Field exportFactoring defaults to 0\n",
      "Fast marching solver completed in 0.016738 s.\n",
      "Field geodesicSolver defaults to Discrete\n",
      "Field geodesicStep defaults to 0.25\n",
      "Field geodesicWeightThreshold defaults to 0.001\n",
      "Field geodesicVolumeBound defaults to 8.45\n"
     ]
    }
   ],
   "source": [
    "hfmOut = hfmIn.Run()"
   ]
  },
  {
   "cell_type": "code",
   "execution_count": 135,
   "metadata": {},
   "outputs": [],
   "source": [
    "plt.contourf(X,Z,hfmOut['values']);\n",
    "for geo in hfmOut['geodesics']: plt.plot(*geo)"
   ]
  },
  {
   "cell_type": "markdown",
   "metadata": {},
   "source": [
    "### 3.3 Using the Hooke eikonal solver\n",
    "\n",
    "Similar results can be obtained using the eikonal solver based on Hooke tensors."
   ]
  },
  {
   "cell_type": "code",
   "execution_count": 54,
   "metadata": {},
   "outputs": [],
   "source": [
    "if xp is not np: raise ad.DeliberateNotebookError(\"Hooke eikonal solver is not implemented on the gpu\")"
   ]
  },
  {
   "cell_type": "code",
   "execution_count": 55,
   "metadata": {},
   "outputs": [],
   "source": [
    "hfmIn['model']='Seismic2'\n",
    "# Produce the TTI geometry and density from the material data.\n",
    "vti,ρ = Seismic.Hooke.from_ThomsenElastic(tem) \n",
    "# Slice in two dimensions, and rotate by chosen tilt.\n",
    "hfmIn['metric'] = vti.extract_xz().rotate_by(θ)"
   ]
  },
  {
   "cell_type": "code",
   "execution_count": 56,
   "metadata": {},
   "outputs": [
    {
     "name": "stdout",
     "output_type": "stream",
     "text": [
      "Field verbosity defaults to 1\n",
      "Field cosAngleMin defaults to 0.5\n",
      "Field seedRadius defaults to 2\n",
      "Field factoringPointChoice defaults to Seed\n",
      "Field exportFactoring defaults to 0\n",
      "Fast marching solver completed in 0.028191 s.\n",
      "Field geodesicSolver defaults to Discrete\n",
      "Field geodesicStep defaults to 0.25\n",
      "Field geodesicWeightThreshold defaults to 0.001\n",
      "Field geodesicVolumeBound defaults to 8.45\n"
     ]
    }
   ],
   "source": [
    "hfmOut = hfmIn.Run()"
   ]
  },
  {
   "cell_type": "code",
   "execution_count": 57,
   "metadata": {},
   "outputs": [],
   "source": [
    "plt.contourf(X,Z,hfmOut['values']);\n",
    "for geo in hfmOut['geodesics']: plt.plot(*geo)"
   ]
  }
 ],
 "metadata": {
  "celltoolbar": "Format de la Cellule Texte Brut",
  "kernelspec": {
   "display_name": "Python 3 (ipykernel)",
   "language": "python",
   "name": "python3"
  },
  "language_info": {
   "codemirror_mode": {
    "name": "ipython",
    "version": 3
   },
   "file_extension": ".py",
   "mimetype": "text/x-python",
   "name": "python",
   "nbconvert_exporter": "python",
   "pygments_lexer": "ipython3",
   "version": "3.11.0"
  },
  "varInspector": {
   "cols": {
    "lenName": 16,
    "lenType": 16,
    "lenVar": 40
   },
   "kernels_config": {
    "python": {
     "delete_cmd_postfix": "",
     "delete_cmd_prefix": "del ",
     "library": "var_list.py",
     "varRefreshCmd": "print(var_dic_list())"
    },
    "r": {
     "delete_cmd_postfix": ") ",
     "delete_cmd_prefix": "rm(",
     "library": "var_list.r",
     "varRefreshCmd": "cat(var_dic_list()) "
    }
   },
   "types_to_exclude": [
    "module",
    "function",
    "builtin_function_or_method",
    "instance",
    "_Feature"
   ],
   "window_display": false
  }
 },
 "nbformat": 4,
 "nbformat_minor": 2
}