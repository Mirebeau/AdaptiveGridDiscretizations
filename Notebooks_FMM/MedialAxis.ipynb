{
 "cells": [
  {
   "cell_type": "markdown",
   "metadata": {},
   "source": [
    "# The HFM library - A fast marching solver with adaptive stencils\n",
    "\n",
    "## Part : Other applications\n",
    "## Chapter : The medial axis, and an application to curve denoising"
   ]
  },
  {
   "cell_type": "markdown",
   "metadata": {},
   "source": [
    "**The medial axis.** Given a subset $\\Gamma$ of a domain $\\Omega$, the medial axis is defined as the collection of points $x\\in \\Omega$ where the distance\n",
    "$$\n",
    "    d_\\Gamma(x) := \\min_{y \\in \\Gamma} d(x,y)\n",
    "$$\n",
    "is not differentiable. The concept makes senses for subsets of $R^d$ equipped with the Euclidean distance, but also in more general metric spaces, such as Riemannian manifolds. In the latter case, the medial axis is often referred to as the *cut-locus*.\n",
    "\n",
    "Computing the medial axis is a common problem in computer geometry, for which there exists a variety of methods. \n",
    "In this notebook, we use a naive approach based on numerically approximating the distance map, estimating its hessian, and pruning. This method is certainly not the most accurate, but it is quite robust to noise, which is often an issue in this context, and works in two and three dimensions. The eigenvalues and eigenvectors of this hessian matrix also provides valuable information on the structure of the medial axis. \n",
    "\n",
    "**Curve denoising.** \n",
    "I present an application of the medial axis computation to curve denoising, with the property that *smooth curves are left (exactly) invariant*. The algorithm consists of three steps:\n",
    "* Compute a tubular neighborhood of the curve, with radius $r>0$.\n",
    "* Compute the medial axis of this tubular neighborhood.\n",
    "* Replace the original curve with a shortest curve through this medial axis, with the same endpoints.\n",
    "\n",
    "The fast marching algorithm is used three times in this process, once for each step. The surprising mathematical property of this method is the following, stated informally: \n",
    "* *Assume that the radius of curvature (and local feature size) of the original curve is bounded by $r$. Then the original curve and the smoothed curve coincide exactly.\n",
    "\n",
    "This property is in sharp contrast with other curve evolution methods such as the curve shortening flow, which only leaves invariant straight lines. A common practical solution is to introduce a data fidelity term in the optimized functional, so as to prevent excessive drift, in particular towards the interior of the curved regions. Nevertheless, a bias is introduced, even if the original curve is smooth.\n",
    "\n",
    "This numerical experiment on curve denoising is freely inspired by the following preprint: Santana-Cedrés, D., Monzón, N., & Alvarez, L. (2015). *An Algorithm for 3D Curve Smoothing.* [link](http://www.ipol.im/pub/pre/292/preprint.pdf)\n",
    "\n"
   ]
  },
  {
   "cell_type": "markdown",
   "metadata": {},
   "source": [
    "[**Summary**](Summary.ipynb) of volume Fast Marching Methods, this series of notebooks.\n",
    "\n",
    "[**Main summary**](../Summary.ipynb) of the Adaptive Grid Discretizations \n",
    "\tbook of notebooks, including the other volumes.\n",
    "\n",
    "# Table of contents\n",
    "  * [1. Computation of the medial axis](#1.-Computation-of-the-medial-axis)\n",
    "    * [1.1 Euclidean distance to an object](#1.1-Euclidean-distance-to-an-object)\n",
    "    * [1.2 Gaussian hessian filtering](#1.2-Gaussian-hessian-filtering)\n",
    "    * [1.3 Eigen-analysis and the medial axis](#1.3-Eigen-analysis-and-the-medial-axis)\n",
    "  * [2. Planar curve extraction and smoothing](#2.-Planar-curve-extraction-and-smoothing)\n",
    "    * [2.1 Tubular neighborhood of a curve](#2.1-Tubular-neighborhood-of-a-curve)\n",
    "    * [2.2 Curve smoothing](#2.2-Curve-smoothing)\n",
    "    * [2.3 Analysis of the results](#2.3-Analysis-of-the-results)\n",
    "    * [2.4 Further smoothing ?](#2.4-Further-smoothing-?)\n",
    "  * [3. Three dimensional curves](#3.-Three-dimensional-curves)\n",
    "    * [3.1 Curve smoothing](#3.1-Curve-smoothing)\n",
    "    * [3.2 Analysis of the results](#3.2-Analysis-of-the-results)\n",
    "\n",
    "\n",
    "\n",
    "This Python&reg; notebook is intended as documentation and testing for the [HamiltonFastMarching (HFM) library](https://github.com/mirebeau/HamiltonFastMarching), which also has interfaces to the Matlab&reg; and Mathematica&reg; languages. \n",
    "More information on the HFM library in the manuscript:\n",
    "* Jean-Marie Mirebeau, Jorg Portegies, \"Hamiltonian Fast Marching: A numerical solver for anisotropic and non-holonomic eikonal PDEs\", 2019 [(link)](https://hal.archives-ouvertes.fr/hal-01778322)\n",
    "\n",
    "Copyright Jean-Marie Mirebeau, University Paris-Sud, CNRS, University Paris-Saclay"
   ]
  },
  {
   "cell_type": "markdown",
   "metadata": {},
   "source": [
    "## 0. Importing the required libraries"
   ]
  },
  {
   "cell_type": "code",
   "execution_count": 2,
   "metadata": {},
   "outputs": [],
   "source": [
    "import sys; sys.path.insert(0,\"..\") # Allow import of agd from parent directory (useless if conda package installed)\n",
    "#from Miscellaneous import TocTools; print(TocTools.displayTOC('MedialAxis','FMM'))"
   ]
  },
  {
   "cell_type": "code",
   "execution_count": 3,
   "metadata": {},
   "outputs": [],
   "source": [
    "from agd import Eikonal\n",
    "from agd import LinearParallel as lp\n",
    "from agd import FiniteDifferences as fd\n",
    "from agd import Metrics\n",
    "from agd import Plotting"
   ]
  },
  {
   "cell_type": "code",
   "execution_count": 7,
   "metadata": {},
   "outputs": [],
   "source": [
    "import numpy as np; xp=np\n",
    "%matplotlib inline\n",
    "import matplotlib.pyplot as plt\n",
    "import matplotlib.image\n",
    "from mpl_toolkits.mplot3d import Axes3D\n",
    "from scipy.ndimage import gaussian_filter,maximum_filter,minimum_filter\n",
    "import time"
   ]
  },
  {
   "cell_type": "markdown",
   "metadata": {},
   "source": [
    "### 0.1 Optional configuration\n",
    "Uncomment the following line to use the GPU eikonal solver. (Comment it for the CPU eikonal solver.)"
   ]
  },
  {
   "cell_type": "code",
   "execution_count": 5,
   "metadata": {
    "tags": [
     "EikonalGPU_config"
    ]
   },
   "outputs": [],
   "source": [
    "#Eikonal.dictIn.default_mode = 'gpu_transfer'"
   ]
  },
  {
   "cell_type": "markdown",
   "metadata": {
    "tags": [
     "TODO",
     "Check_scipy_ndimage"
    ]
   },
   "source": [
    "Alternatively, with a recent cupy version, you should be able to use the cupyx.scipy.ndimage module."
   ]
  },
  {
   "cell_type": "markdown",
   "metadata": {},
   "source": [
    "## 1. Computation of the medial axis\n",
    "\n",
    "We compute the medial axis of a cartoon image, by numerically computing and then differentiating the distance map."
   ]
  },
  {
   "cell_type": "code",
   "execution_count": 6,
   "metadata": {},
   "outputs": [],
   "source": [
    "image0 = Plotting.imread(\"Notebooks_FMM/TestImages/netclipart.com-pigs-clipart-black-and-2011693.png\")"
   ]
  },
  {
   "cell_type": "code",
   "execution_count": 7,
   "metadata": {},
   "outputs": [],
   "source": [
    "image = image0[:,:,3]>0.5"
   ]
  },
  {
   "cell_type": "code",
   "execution_count": 8,
   "metadata": {},
   "outputs": [],
   "source": [
    "plt.imshow(image,cmap=\"Greys\");"
   ]
  },
  {
   "cell_type": "markdown",
   "metadata": {},
   "source": [
    "### 1.1 Euclidean distance to an object\n",
    "\n",
    "As could be expected in this series of notebooks, we rely on the fast marching method to compute the Euclidean distance to the object boundary."
   ]
  },
  {
   "cell_type": "code",
   "execution_count": 7,
   "metadata": {},
   "outputs": [],
   "source": [
    "hfmIn = Eikonal.dictIn({\n",
    "    'model':'Isotropic2',\n",
    "    'exportValues':1,\n",
    "    'cost':1,\n",
    "    'gridScale':1,\n",
    "    'dims':image.shape,\n",
    "    'order':2\n",
    "})\n",
    "X = hfmIn.Grid()\n",
    "hfmIn['seeds'] = X[:,image].T"
   ]
  },
  {
   "cell_type": "code",
   "execution_count": 8,
   "metadata": {},
   "outputs": [
    {
     "name": "stdout",
     "output_type": "stream",
     "text": [
      "Setting the kernel traits.\n",
      "Prepating the domain data (shape,metric,...)\n",
      "Preparing the problem rhs (cost, seeds,...)\n",
      "Preparing the GPU kernel\n",
      "Running the eikonal GPU kernel\n",
      "GPU kernel eikonal ran for 0.03400254249572754 seconds, and 10 iterations.\n",
      "Post-Processing\n"
     ]
    }
   ],
   "source": [
    "hfmOut=hfmIn.Run()"
   ]
  },
  {
   "cell_type": "code",
   "execution_count": 9,
   "metadata": {},
   "outputs": [],
   "source": [
    "plt.contourf(hfmOut['values'])\n",
    "plt.axis('equal');"
   ]
  },
  {
   "cell_type": "markdown",
   "metadata": {},
   "source": [
    "### 1.2 Gaussian hessian filtering\n",
    "\n",
    "The medial axis of an object $\\Gamma$ is defined as the set of points where the distance $d_\\Gamma$ to that object is not differentiable. Nevertheless, this will not stop us from differentiating $d_\\Gamma$, *twice*.\n",
    "\n",
    "*In the continuous setting*, the hessian $H$ of $d_\\Gamma$ can be regarded as a signed measure, with values in the symmetric matrices. If the curve $\\Gamma$ is sufficiently smooth (and perhaps other technical assumptions), one can decompose $H = H_d {\\mathcal L}_\\Omega + H_{d-1} {\\mathcal L}_M $, where $M$ denotes the medial axis of $\\Gamma$, which is a piecewise smooth $d-1$ dimensional manifold, and $L_M$ denotes the $d-1$ dimensional Lebesgue measure on it.\n",
    "The eigenvalues and eigenvectors of $H_{d-1}$ at a point $x\\in M$ can be described in terms of the tangent space to the medial axis $M$ at $x$, and the angle between the points of $\\Gamma$ closest to $x$. In addition, $H_{d-1}$ is *everywhere negative semi-definite*.\n",
    "\n",
    "*In the discrete setting*, we differentiate a mollification of $d_\\Gamma$, defined through a Gaussian kernel."
   ]
  },
  {
   "cell_type": "code",
   "execution_count": 10,
   "metadata": {},
   "outputs": [],
   "source": [
    "def hessian(image,sigma):\n",
    "    \"\"\"\n",
    "    Estimate of gaussian of an image.\n",
    "    Inputs :\n",
    "     - image: to be filtered\n",
    "     - sigma : standard deviation, measured in pixels\n",
    "    \"\"\"\n",
    "    rg=range(image.ndim)\n",
    "    return np.array([[gaussian_filter(image,sigma,order=[(i,j).count(k) for k in rg]) \n",
    "                      for i in rg] for j in rg])"
   ]
  },
  {
   "cell_type": "code",
   "execution_count": 11,
   "metadata": {},
   "outputs": [],
   "source": [
    "hess = hessian(hfmOut['values'],2.)"
   ]
  },
  {
   "cell_type": "code",
   "execution_count": 12,
   "metadata": {},
   "outputs": [],
   "source": [
    "frob = (hess**2).sum(axis=(0,1))"
   ]
  },
  {
   "cell_type": "code",
   "execution_count": 13,
   "metadata": {},
   "outputs": [],
   "source": [
    "plt.imshow(frob,cmap='Greys')\n",
    "plt.axis('equal');"
   ]
  },
  {
   "cell_type": "markdown",
   "metadata": {},
   "source": [
    "### 1.3 Eigen-analysis and the medial axis\n",
    "\n",
    "As discussed above, strongly negative eigenvalues of $d_\\Gamma$ correspond to the medial axis, and the corresponding eigenvector is orthogonal to the medial axis. There also exists faint lines of positive eigenvalues, which illustrate the instability of the medial axis computation.\n",
    "\n",
    "Strongly positive eigenvalues only occur on the boundary $\\Gamma$ from which the distance is computed."
   ]
  },
  {
   "cell_type": "code",
   "execution_count": 14,
   "metadata": {},
   "outputs": [],
   "source": [
    "def eigh(m):\n",
    "    \"\"\"Eigenvalues and eigenvectors, of m, with geometric dimensions first.\"\"\"\n",
    "    eVals,eVec = np.linalg.eigh(np.moveaxis(m,(0,1),(-2,-1)))\n",
    "    return np.moveaxis(eVals,-1,0),np.moveaxis(eVec,(-2,-1),(1,0))"
   ]
  },
  {
   "cell_type": "code",
   "execution_count": 15,
   "metadata": {},
   "outputs": [],
   "source": [
    "eVals,eVec = eigh(hess) # eVals are sorted"
   ]
  },
  {
   "cell_type": "code",
   "execution_count": 16,
   "metadata": {},
   "outputs": [],
   "source": [
    "plt.figure(figsize=(8,5))\n",
    "\n",
    "plt.subplot(1,2,1)\n",
    "plt.title(\"Negative eigenvalue: medial axis\")\n",
    "plt.imshow(np.maximum(-eVals[0],0),cmap='Greys');\n",
    "\n",
    "plt.subplot(1,2,2)\n",
    "plt.title(\"Positive eigenvalue: original contour\")\n",
    "plt.imshow(np.maximum(eVals[1],0),cmap='Greys');"
   ]
  },
  {
   "cell_type": "markdown",
   "metadata": {},
   "source": [
    "## 2. Planar curve extraction and smoothing\n",
    "\n",
    "As discribed in the introduction, we consider a curve smoothing method, based on replacing the curve with the medial axis of its tubular neighborhood."
   ]
  },
  {
   "cell_type": "markdown",
   "metadata": {},
   "source": [
    "### 2.1 Tubular neighborhood of a curve\n",
    "\n",
    "As could be expected, we rely on the fast marching method to compute the Euclidean distance to a curve, and define a tubular neighborhood."
   ]
  },
  {
   "cell_type": "code",
   "execution_count": 17,
   "metadata": {},
   "outputs": [],
   "source": [
    "def spiral2(t):\n",
    "    u = np.sqrt(t) # Reparametrization for approx constant speed\n",
    "    return np.array((np.cos(u),np.sin(u)))*u\n",
    "def oscillations2(t):\n",
    "    t=1.5*t\n",
    "    return np.array((np.cos(.6*t)+np.sin(.4*t),np.cos(.5*t)+np.sin(.7*t)))"
   ]
  },
  {
   "cell_type": "code",
   "execution_count": 18,
   "metadata": {},
   "outputs": [],
   "source": [
    "np.random.seed(42) # reproducibility"
   ]
  },
  {
   "cell_type": "code",
   "execution_count": 19,
   "metadata": {},
   "outputs": [],
   "source": [
    "spiral2_t = np.linspace(np.pi,5*np.pi,300)**2\n",
    "spiral2_exact = spiral2(spiral2_t)\n",
    "spiral2_noisy = spiral2_exact + 0.5*np.random.normal(size=spiral2_exact.shape)\n",
    "spiral2_osc = spiral2_exact + 0.5*oscillations2(spiral2_t)\n",
    "spiral2_noisy_osc = spiral2_exact+ 0.4*(oscillations2(spiral2_t)+np.random.normal(size=spiral2_exact.shape))\n",
    "\n",
    "spirals2 = {'exact':spiral2_exact,'noisy':spiral2_noisy,\n",
    "           'oscillating':spiral2_osc,'noisy and oscillating':spiral2_noisy_osc}"
   ]
  },
  {
   "cell_type": "code",
   "execution_count": 20,
   "metadata": {},
   "outputs": [],
   "source": [
    "fig=plt.figure(figsize=(10,8))\n",
    "\n",
    "for i,(name,values) in enumerate(spirals2.items()):\n",
    "    plt.subplot(2,2,1+i); plt.axis('equal')\n",
    "    plt.title(name)\n",
    "    plt.plot(*values)"
   ]
  },
  {
   "cell_type": "code",
   "execution_count": 21,
   "metadata": {},
   "outputs": [],
   "source": [
    "hfmIn = Eikonal.dictIn({\n",
    "    'model':'Isotropic2',\n",
    "    'arrayOrdering':'RowMajor',\n",
    "    'exportValues':1,\n",
    "    'cost':1,\n",
    "    'verbosity':0,\n",
    "    'stopAtDistance':3,\n",
    "})\n",
    "sides = np.array([np.min(spiral2_exact,axis=1)-5,np.max(spiral2_exact,axis=1)+5]).T\n",
    "hfmIn.SetRect(sides=sides,dimx=400)\n",
    "X=hfmIn.Grid()"
   ]
  },
  {
   "cell_type": "code",
   "execution_count": 22,
   "metadata": {},
   "outputs": [],
   "source": [
    "tubes = {}\n",
    "for name,curve in spirals2.items():\n",
    "    hfmIn['seeds'] = curve.T\n",
    "    hfmOut = hfmIn.Run()\n",
    "    tubes[name] = hfmOut['values']"
   ]
  },
  {
   "cell_type": "code",
   "execution_count": 23,
   "metadata": {},
   "outputs": [],
   "source": [
    "plt.figure(figsize=[10,8])\n",
    "for i,(name,values) in enumerate(tubes.items()):\n",
    "    plt.subplot(2,2,i+1); plt.axis('equal')\n",
    "    plt.title(name)\n",
    "    plt.contourf(*X,values,levels=np.linspace(0,3,5))"
   ]
  },
  {
   "cell_type": "markdown",
   "metadata": {},
   "source": [
    "### 2.2 Curve smoothing\n",
    "\n",
    "The algorithm below implements the full curve smoothing procedure, which can be described in more detail as follows:\n",
    "* Computation of the distance to the original curve, until some distance $r>0$, using isotropic fast marching.\n",
    "* Construction of the set $\\Gamma$, which mainly consists of the boundary of the $r$ neighborhood to the curve. We also introduce in $\\Gamma$ the points where the fronts originating from different parts of the curve meet. Without this enhancement, one must carefully choose a $r$ to avoid shortcuts.\n",
    "* Computation of the medial axis $M$ of $\\Gamma$, using again isotropic fast marching.\n",
    "* Construction of a Riemannian metric, favoring paths which stay close and tangent to $M$. For that purpose we rely on the eigen-analysis of the hessian of $d_\\Gamma$.\n",
    "* Computation of a path joining the two extremities of the original curve, with minimal length w.r.t. the constructed Riemannian metric, using anisotropic fast marching.\n",
    "\n",
    "The algorithm is fairly robust to parameter changes. In particular, the anisotropic fast marching method in the last step may be replaced with an isotropic method without much change to the results; but since there is a natural anisotropy defined, why not use it ?"
   ]
  },
  {
   "cell_type": "code",
   "execution_count": 24,
   "metadata": {},
   "outputs": [],
   "source": [
    "def smooth_medial(curve,rmax,dimx,\n",
    "                  sigma=2.,cmin=0.01,anisotropy=10.,rho=8.,\n",
    "                  param=None,param_jump=0.1,verbosity=0,order=(2,2,1)):\n",
    "    \"\"\"\n",
    "    Smooth a curve, by extracting the shortest path through the medial axis of its tubular boundary.\n",
    "    Inputs:\n",
    "     - curve (float array, shape=(vdim,nPts)) : the curve to be smoothed\n",
    "     - rmax (float): diameter of the tubular neighborhood\n",
    "     - dimx (int): number of discretization points along the horizontal axis\n",
    "     - sigma (float, optional): radius of the gaussian kernel, measured in pixels\n",
    "     - cmin (float, optional): lower bound on the cost of travel\n",
    "     - rho (float, optional): introduces an additional factor exp( -d_Gamma/(rho*dx) ) in the cost,\n",
    "       where dx is the grid scale. Mostly useful in three dimensions.\n",
    "     - anisotropy (float, optional): upper bound on the anisotropy\n",
    "     - param (float array, shape=(nPts,), optional): a parametrization of the curve to be smoothed\n",
    "     - param_jump (float, optional): two points of the curve whose parameter difference exceeds \n",
    "       this threshold are considered irrelevant to each other\n",
    "     - order (tuple(int,int,int), optional): the order of the fast marching methods to be used\n",
    "    \"\"\"\n",
    "    # Compute the distance to the curve\n",
    "    if param is None: param = np.linspace(0,1,curve.shape[1])\n",
    "    vdim=len(curve)\n",
    "    hfmIn1 = Eikonal.dictIn({\n",
    "        'model':f\"Isotropic{vdim}\",\n",
    "        'verbosity':verbosity,\n",
    "        'exportValues':1,\n",
    "        'cost':1,\n",
    "        'seeds':curve.T,\n",
    "        'seedValueVariation':param.reshape(1,-1),\n",
    "        'order':order[0],\n",
    "    })\n",
    "    sides = np.array([np.min(curve,axis=1)-rmax,np.max(curve,axis=1)+rmax]).T\n",
    "    hfmIn1.SetRect(sides=sides,dimx=dimx)\n",
    "    X = hfmIn1.Grid()\n",
    "    dx = hfmIn1['gridScale']\n",
    "    hfmIn1['stopAtDistance']=rmax+2*dx\n",
    "    hfmOut1 = hfmIn1.Run()\n",
    "    values1 = hfmOut1['values'].value # Discard AD information\n",
    "    values1[values1>rmax]=np.inf\n",
    "    param1 = hfmOut1['values'].gradient(0) # Propagates the parametrization to the domain\n",
    "    \n",
    "    # Detect the tubular neighborhood boundary\n",
    "    values1_max = maximum_filter(values1,size=3,mode='constant',cval=np.inf)\n",
    "    param1_max = maximum_filter(param1,size=3)\n",
    "    param1_min = minimum_filter(param1,size=3)\n",
    "    bd = np.logical_and(np.isfinite(values1),\n",
    "                        np.logical_or(np.isinf(values1_max),param1_max>=param_jump+param1_min))\n",
    "    \n",
    "    # Compute the distance to the tubular neighborhood boundary    \n",
    "    seeds2 = X[:,bd].T\n",
    "    seedValues2 = -values1[bd]\n",
    "    hfmIn2 = Eikonal.dictIn({\n",
    "        'model':f\"Isotropic{vdim}\",\n",
    "        'verbosity':verbosity,\n",
    "        'exportValues':1,\n",
    "        'cost':1,\n",
    "        'walls':np.isinf(values1),\n",
    "        'seeds':seeds2,\n",
    "        'seedValues':seedValues2,\n",
    "        'order':order[1],\n",
    "    })\n",
    "    hfmIn2.SetRect(sides=sides,dimx=dimx)\n",
    "    hfmOut2 = hfmIn2.Run()\n",
    "    values2 = hfmOut2['values']\n",
    "    \n",
    "    # Produce a metric that favors the tubular neighborhood centerline    \n",
    "    values2[np.isinf(values2)]=np.nan\n",
    "    hess = hessian(values2,sigma)\n",
    "    walls = np.logical_or(np.isnan(hess.sum(axis=(0,1))),bd)\n",
    "    hess[:,:,walls]=0. # No incidence, avoids NaNs\n",
    "    \n",
    "    def eigen_map(ev):\n",
    "        \"\"\"Function used to map the eigenvalues of the hessian into a suitable Riemannian metric\"\"\"\n",
    "        mu = -1.2*sigma*ev/hfmIn2['gridScale'] # Normalization of eigenvalues, expected to lie in [0,1]\n",
    "        mu = np.maximum(0.,np.minimum(1.,mu)) # Enforce that lies in [0,1]\n",
    "        mum = mu.max(axis=0)\n",
    "        cost = 1./(1.+(mum-mu)/cmin) # Minimal cost cmin along the medial axis, maximal cost 1 elsewhere\n",
    "        cost = np.minimum(cost,anisotropy*np.min(cost,axis=0)) # Bound anisotropy\n",
    "        if rho: cost *= np.exp(-values2/(rho*dx))\n",
    "        cost[:,walls]=1. # No incidence, avoids NaNs\n",
    "        return cost**2 # Riemannian metric eigenvalues equal the squared cost\n",
    "\n",
    "    time_start=time.time()\n",
    "    metric = Metrics.Riemann.from_mapped_eigenvalues(hess, eigen_map)\n",
    "    if verbosity>=1: print(f\"metric construction took {time.time()-time_start} seconds\")\n",
    "    \n",
    "    # Find a shortest path for the metric\n",
    "    hfmIn3 = Eikonal.dictIn({\n",
    "        'model':f\"Riemann{vdim}\",\n",
    "        'verbosity':verbosity,\n",
    "        'exportValues':1,\n",
    "        'metric':metric,\n",
    "        'walls':walls,\n",
    "        'seeds':[curve[:,0]],\n",
    "        'tips':[curve[:,-1]],\n",
    "        'order':order[2],\n",
    "    })\n",
    "    \n",
    "    hfmIn3.SetRect(sides=sides,dimx=dimx)\n",
    "    hfmOut3 = hfmIn3.Run()\n",
    "    hfmOut3['hess']=hess\n",
    "    \n",
    "    return hfmOut3['geodesics'][0],((hfmIn1,hfmOut1),(hfmIn2,hfmOut2),(hfmIn3,hfmOut3))"
   ]
  },
  {
   "cell_type": "code",
   "execution_count": 25,
   "metadata": {},
   "outputs": [
    {
     "name": "stdout",
     "output_type": "stream",
     "text": [
      "Setting the kernel traits.\n",
      "Prepating the domain data (shape,metric,...)\n",
      "Preparing the problem rhs (cost, seeds,...)\n",
      "Preparing the GPU kernel\n",
      "Running the eikonal GPU kernel\n",
      "GPU kernel eikonal ran for 0.01598501205444336 seconds, and 11 iterations.\n",
      "Post-Processing\n",
      "---- Warning ----\n",
      " Eikonal AD ignores order2 and source factorization \n",
      "-----------------\n",
      "\n",
      "!! Warning !! Unused keys from user : ['stopAtDistance']\n",
      "Setting the kernel traits.\n",
      "Prepating the domain data (shape,metric,...)\n",
      "Preparing the problem rhs (cost, seeds,...)\n",
      "Preparing the GPU kernel\n",
      "Running the eikonal GPU kernel\n",
      "GPU kernel eikonal ran for 0.009999990463256836 seconds, and 6 iterations.\n",
      "Post-Processing\n",
      "metric construction took 0.29402947425842285 seconds\n",
      "Setting the kernel traits.\n",
      "Prepating the domain data (shape,metric,...)\n",
      "Preparing the problem rhs (cost, seeds,...)\n",
      "Preparing the GPU kernel\n",
      "Running the eikonal GPU kernel\n",
      "GPU kernel eikonal ran for 0.09248995780944824 seconds, and 214 iterations.\n",
      "Post-Processing\n",
      "Wall time: 662 ms\n"
     ]
    }
   ],
   "source": [
    "%%time\n",
    "results2_exact = smooth_medial(spiral2_exact,rmax=3,dimx=400,verbosity=1)"
   ]
  },
  {
   "cell_type": "code",
   "execution_count": 26,
   "metadata": {},
   "outputs": [
    {
     "name": "stdout",
     "output_type": "stream",
     "text": [
      "---- Warning ----\n",
      " Eikonal AD ignores order2 and source factorization \n",
      "-----------------\n",
      "\n",
      "---- Warning ----\n",
      " Eikonal AD ignores order2 and source factorization \n",
      "-----------------\n",
      "\n"
     ]
    }
   ],
   "source": [
    "results2_noisy = smooth_medial(spiral2_noisy,rmax=3,dimx=400)\n",
    "results2_osc = smooth_medial(spiral2_osc,rmax=3,dimx=400)"
   ]
  },
  {
   "cell_type": "code",
   "execution_count": 27,
   "metadata": {},
   "outputs": [],
   "source": [
    "results2 = {'exact':results2_exact, 'noisy':results2_noisy, 'oscillating':results2_osc}"
   ]
  },
  {
   "cell_type": "code",
   "execution_count": 28,
   "metadata": {},
   "outputs": [],
   "source": [
    "plt.figure(figsize=[16,5])\n",
    "for i,name in enumerate(results2):\n",
    "    plt.subplot(1,3,i+1); plt.axis('equal')\n",
    "    plt.title(name)\n",
    "    plt.plot(*results2[name][0],label='geodesic')\n",
    "    plt.plot(*spirals2['exact'],label=\"exact\",linestyle=\"--\")\n",
    "    plt.plot(*spirals2[name],label=\"original\",linestyle=\":\")"
   ]
  },
  {
   "cell_type": "markdown",
   "metadata": {},
   "source": [
    "### 2.3 Analysis of the results"
   ]
  },
  {
   "cell_type": "code",
   "execution_count": 29,
   "metadata": {},
   "outputs": [],
   "source": [
    "def show_medial(results):\n",
    "    geo,((hfmIn1,hfmOut1),(hfmIn2,hfmOut2),(hfmIn3,hfmOut3)) = results\n",
    "    plt.figure(figsize=[16,10])\n",
    "    X = hfmIn1.Grid()\n",
    "    \n",
    "    plt.subplot(2,3,1); plt.axis('equal')\n",
    "    plt.title(\"Distance to the input curve\")\n",
    "    plt.contourf(*X,hfmOut1['values'].value)\n",
    "    \n",
    "    plt.subplot(2,3,2)\n",
    "    plt.title(\"Distance to the tube boundary\")\n",
    "    plt.contourf(*X,hfmOut2['values'])\n",
    "    \n",
    "    plt.subplot(2,3,3)\n",
    "    plt.title(\"Distance from the seed\")\n",
    "    plt.contourf(*X,hfmOut3['values'])\n",
    "    \n",
    "    plt.subplot(2,3,4)\n",
    "    plt.title(\"Extension of the curve parametrization\")\n",
    "    plt.contourf(*X,hfmOut1['values'].gradient(0))\n",
    "    \n",
    "    plt.subplot(2,3,5)\n",
    "    plt.title(\"Maximal speed at a point\")\n",
    "    cost,_ = eigh(hfmIn3['metric'].m)\n",
    "    plt.contourf(*X,1/cost[0]) # 1/cost[1] for minimal speed\n",
    "        \n",
    "    plt.subplot(2,3,6)\n",
    "    plt.title(\"Denoised curve\")\n",
    "    plt.plot(*geo,color=\"black\",label='geodesic')"
   ]
  },
  {
   "cell_type": "markdown",
   "metadata": {},
   "source": [
    "The main property of the theoretical method is reproduced by the implementation: the smooth curve is reproduce (almost) exactly, without any drift introduced by the smoothing procedure."
   ]
  },
  {
   "cell_type": "code",
   "execution_count": 30,
   "metadata": {},
   "outputs": [],
   "source": [
    "show_medial(results2['exact'])\n",
    "plt.plot(*spiral2_exact,label=\"exact\",linestyle=\"--\"); plt.legend();"
   ]
  },
  {
   "cell_type": "code",
   "execution_count": 31,
   "metadata": {},
   "outputs": [],
   "source": [
    "show_medial(results2['noisy'])\n",
    "plt.plot(*spiral2_exact,label=\"exact\",linestyle=\"--\"); plt.legend();"
   ]
  },
  {
   "cell_type": "code",
   "execution_count": 32,
   "metadata": {},
   "outputs": [],
   "source": [
    "show_medial(results2['oscillating'])\n",
    "plt.plot(*spiral2_exact,label=\"exact\",linestyle=\"--\"); plt.legend();"
   ]
  },
  {
   "cell_type": "markdown",
   "metadata": {},
   "source": [
    "### 2.4 Further smoothing ?\n",
    "\n",
    "Applying a second time, or more, our curve smoothing procedure has almost no effect.\n",
    "Indeed, the medial axis smoothing procedure does not affect curves whose curvature is below a certain bound. We view this property as a feature, rather than a bug, but it must be taken into account."
   ]
  },
  {
   "cell_type": "code",
   "execution_count": 33,
   "metadata": {},
   "outputs": [
    {
     "name": "stdout",
     "output_type": "stream",
     "text": [
      "---- Warning ----\n",
      " Eikonal AD ignores order2 and source factorization \n",
      "-----------------\n",
      "\n",
      "---- Warning ----\n",
      " Eikonal AD ignores order2 and source factorization \n",
      "-----------------\n",
      "\n",
      "---- Warning ----\n",
      " Eikonal AD ignores order2 and source factorization \n",
      "-----------------\n",
      "\n"
     ]
    }
   ],
   "source": [
    "curves = [spiral2_osc]\n",
    "for i in range(3):\n",
    "    curves.append(smooth_medial(curves[-1],rmax=3,dimx=400)[0])"
   ]
  },
  {
   "cell_type": "code",
   "execution_count": 34,
   "metadata": {},
   "outputs": [],
   "source": [
    "plt.title(\"Successive iterations of medial axis smoothing\")\n",
    "plt.axis('equal')\n",
    "plt.plot(*curves[0],label='original curve')\n",
    "plt.plot(*curves[1],label='first iteration')\n",
    "plt.plot(*curves[2],label='second iteration')\n",
    "plt.plot(*curves[3],label='third iteration')\n",
    "plt.legend();"
   ]
  },
  {
   "cell_type": "markdown",
   "metadata": {},
   "source": [
    "Further smoothing can be obtained by using applying for instance a mean curvature flow, or some other curve evolution PDE involving e.g. higher order derivatives. We do not explore these techniques here."
   ]
  },
  {
   "cell_type": "markdown",
   "metadata": {},
   "source": [
    "## 3. Three dimensional curves\n",
    "\n",
    "The `smooth_medial` algorithm implemented in the previous section is by construction dimension independent.\n",
    "We apply it here in three dimension. \n",
    "\n",
    "(Curiously, the dominant factor in terms of CPU time is the construction of the metric, which involves computing the eigenvalues and eigenvectors of a large family of $3\\times 3$ symmetric matrices. The total execution time of the fast marching amounts to less than half of this time.)\n",
    "\n",
    "**Specificity in three dimensions.**\n",
    "The medial axis of a three dimensional object is, typically, a two dimensional piecewise smooth manifold.\n",
    "A special case arises for the tubular neighborhood, of radius $r$, of a smooth curve, of curvature radius (and local feature size) less than $r$. In that case, the medial axis coincides with the original curve, and is thus a one dimensional object.\n",
    "\n",
    "However, that property does not extend to the tubular neighborhood of a curve perturbed with some noise or rapid oscillations. In these cases, the medial axis is two dimensional, and our curve smoothing procedure needs needs to select a path through it based on an adequate criterion. We choose to introduce the weight $\\exp(-d_\\Gamma)$ in the metric, used in the final extraction of the smoothed path, so as to better guide it in the centerline of the tubular structure."
   ]
  },
  {
   "cell_type": "markdown",
   "metadata": {},
   "source": [
    "### 3.1 Curve smoothing"
   ]
  },
  {
   "cell_type": "code",
   "execution_count": 35,
   "metadata": {},
   "outputs": [],
   "source": [
    "def spiral3(t):\n",
    "    return np.array((np.cos(t),np.sin(t),t/3))\n",
    "def oscillations3(t):\n",
    "    t=15*t\n",
    "    return np.array( (np.cos(.6*t)+np.sin(.4*t),np.cos(.5*t)+np.sin(.7*t),np.cos(0.8*t)+np.sin(0.5*t)) )"
   ]
  },
  {
   "cell_type": "code",
   "execution_count": 36,
   "metadata": {},
   "outputs": [],
   "source": [
    "spiral3_t = np.linspace(np.pi,5*np.pi,300)\n",
    "spiral3_exact = spiral3(spiral3_t)\n",
    "spiral3_noisy = spiral3_exact + 0.2*np.random.normal(size=spiral3_exact.shape)\n",
    "spiral3_osc = spiral3_exact + 0.2*oscillations3(spiral3_t)\n",
    "spiral3_noisy_osc = spiral3_exact+ 0.15*(oscillations3(spiral3_t)+np.random.normal(size=spiral3_exact.shape))\n",
    "\n",
    "spirals3 = {'exact':spiral3_exact,'noisy':spiral3_noisy,\n",
    "           'oscillating':spiral3_osc,'noisy and oscillating':spiral3_noisy_osc}"
   ]
  },
  {
   "cell_type": "code",
   "execution_count": 37,
   "metadata": {},
   "outputs": [],
   "source": [
    "fig=plt.figure(figsize=(10,8))\n",
    "for i,(name,values) in enumerate(spirals3.items()):\n",
    "    ax = fig.add_subplot(2,2,1+i,projection='3d')\n",
    "    Plotting.SetTitle3D(ax,name)\n",
    "    ax.plot(*values)"
   ]
  },
  {
   "cell_type": "code",
   "execution_count": 38,
   "metadata": {},
   "outputs": [
    {
     "name": "stdout",
     "output_type": "stream",
     "text": [
      "Setting the kernel traits.\n",
      "Prepating the domain data (shape,metric,...)\n",
      "Preparing the problem rhs (cost, seeds,...)\n",
      "Preparing the GPU kernel\n",
      "Running the eikonal GPU kernel\n",
      "GPU kernel eikonal ran for 0.07001852989196777 seconds, and 57 iterations.\n",
      "Post-Processing\n",
      "---- Warning ----\n",
      " Eikonal AD ignores order2 and source factorization \n",
      "-----------------\n",
      "\n",
      "!! Warning !! Unused keys from user : ['stopAtDistance']\n",
      "Setting the kernel traits.\n",
      "Prepating the domain data (shape,metric,...)\n",
      "Preparing the problem rhs (cost, seeds,...)\n",
      "Preparing the GPU kernel\n",
      "Running the eikonal GPU kernel\n",
      "GPU kernel eikonal ran for 0.03350257873535156 seconds, and 15 iterations.\n",
      "Post-Processing\n",
      "metric construction took 5.070512294769287 seconds\n",
      "Setting the kernel traits.\n",
      "Prepating the domain data (shape,metric,...)\n",
      "Preparing the problem rhs (cost, seeds,...)\n",
      "Preparing the GPU kernel\n",
      "Running the eikonal GPU kernel\n",
      "GPU kernel eikonal ran for 0.12349557876586914 seconds, and 107 iterations.\n",
      "Post-Processing\n",
      "Wall time: 7.85 s\n"
     ]
    }
   ],
   "source": [
    "%%time\n",
    "results3_exact = smooth_medial(spiral3_exact,rmax=1,dimx=100,verbosity=1,rho=None)"
   ]
  },
  {
   "cell_type": "code",
   "execution_count": 39,
   "metadata": {},
   "outputs": [
    {
     "name": "stdout",
     "output_type": "stream",
     "text": [
      "---- Warning ----\n",
      " Eikonal AD ignores order2 and source factorization \n",
      "-----------------\n",
      "\n"
     ]
    }
   ],
   "source": [
    "results3_noisy = smooth_medial(spiral3_noisy,rmax=1,dimx=100)"
   ]
  },
  {
   "cell_type": "code",
   "execution_count": 40,
   "metadata": {},
   "outputs": [
    {
     "name": "stdout",
     "output_type": "stream",
     "text": [
      "---- Warning ----\n",
      " Eikonal AD ignores order2 and source factorization \n",
      "-----------------\n",
      "\n"
     ]
    }
   ],
   "source": [
    "results3_osc = smooth_medial(spiral3_osc,rmax=1,dimx=100,rho=5)"
   ]
  },
  {
   "cell_type": "code",
   "execution_count": 41,
   "metadata": {},
   "outputs": [],
   "source": [
    "results3 = {'exact':results3_exact, 'noisy':results3_noisy, 'oscillating':results3_osc}"
   ]
  },
  {
   "cell_type": "code",
   "execution_count": 42,
   "metadata": {},
   "outputs": [],
   "source": [
    "plt.figure(figsize=[16,5])\n",
    "for i,name in enumerate(['exact','noisy','oscillating']):\n",
    "    ax=plt.subplot(1,3,1+i,projection='3d')\n",
    "    geo,_ = results3[name]\n",
    "    Plotting.SetTitle3D(ax,name)\n",
    "    ax.plot(*geo,label='smoothed')\n",
    "    ax.plot(*spiral3_exact,label='exact')\n",
    "    plt.legend();"
   ]
  },
  {
   "cell_type": "markdown",
   "metadata": {},
   "source": [
    "### 3.2 Analysis of the results\n",
    "\n",
    "The distance hessian most negative eigenvalue, shown in the figures below, is by construction a detector of the medial axis. In these slices, one clearly seeds that the medial axis is a one dimensional object for the smooth curve, and a two dimensional object in the other cases."
   ]
  },
  {
   "cell_type": "code",
   "execution_count": 43,
   "metadata": {},
   "outputs": [],
   "source": [
    "def show_medial3(results):\n",
    "    geo,((hfmIn1,hfmOut1),(hfmIn2,hfmOut2),(hfmIn3,hfmOut3)) = results\n",
    "    X = hfmIn1.Grid()\n",
    "    slice0 = X.shape[1]//2\n",
    "    X0 = X[1:3,slice0] # grid for slice along first axis\n",
    "    \n",
    "    print(\"Showing central slice along the first axis\")\n",
    "    plt.figure(figsize=(16,15))\n",
    "    \n",
    "    plt.subplot(3,3,1); plt.axis('equal')\n",
    "    plt.title(\"Distance to the input curve\")\n",
    "    plt.contourf(*X0,hfmOut1['values'].value[slice0])\n",
    "    plt.colorbar()\n",
    "    \n",
    "    plt.subplot(3,3,2); plt.axis('equal')\n",
    "    plt.title(\"Distance to the tube boundary\")\n",
    "    plt.contourf(*X0,hfmOut2['values'][slice0])\n",
    "    plt.colorbar()\n",
    "    \n",
    "    plt.subplot(3,3,3); plt.axis('equal')\n",
    "    plt.title(\"Distance from the seed\")\n",
    "    plt.contourf(*X0,hfmOut3['values'][slice0])\n",
    "    plt.colorbar()\n",
    "    \n",
    "    plt.subplot(3,3,4); plt.axis('equal')\n",
    "    plt.title(\"Extension of the curve parametrization\")\n",
    "    plt.contourf(*X0,hfmOut1['values'].gradient(0)[slice0])\n",
    "    plt.colorbar()\n",
    "    \n",
    "    plt.subplot(3,3,5); plt.axis('equal')\n",
    "    plt.title(\"Maximal speed at a point\")\n",
    "    cost,_ = eigh(hfmIn3['metric'].m[:,:,slice0])\n",
    "    speed = 1./np.sqrt(cost)\n",
    "    plt.contourf(*X0,speed[0]) # 1/cost[1] for minimal speed\n",
    "    plt.colorbar()\n",
    "    \n",
    "#    plt.subplot(3,3,6); plt.axis('equal')    \n",
    "#    plt.title(\"Anisotropy\")\n",
    "#    plt.contourf(*X0,speed[0]/speed[2])\n",
    "#    plt.colorbar()\n",
    "    \n",
    "    plt.subplot(3,3,6); plt.axis('equal')   \n",
    "    plt.title(\"Distance hessian most negative eigenvalue\")\n",
    "    mu,_ = eigh(hfmOut3['hess'][:,:,slice0])\n",
    "    plt.contourf(*X0,mu[0])\n",
    "    plt.colorbar()\n",
    "\n",
    "#    plt.subplot(3,3,8); plt.axis('equal')   \n",
    "#    plt.title(\"Distance hessian middle eigenvalue\")\n",
    "#    mu,_ = eigh(hfmOut3['hess'][:,:,slice0])\n",
    "#    plt.contourf(*X0,mu[1])\n",
    "#    plt.colorbar()\n"
   ]
  },
  {
   "cell_type": "code",
   "execution_count": 44,
   "metadata": {},
   "outputs": [
    {
     "name": "stdout",
     "output_type": "stream",
     "text": [
      "Showing central slice along the first axis\n"
     ]
    }
   ],
   "source": [
    "show_medial3(results3['exact'])"
   ]
  },
  {
   "cell_type": "code",
   "execution_count": 45,
   "metadata": {},
   "outputs": [
    {
     "name": "stdout",
     "output_type": "stream",
     "text": [
      "Showing central slice along the first axis\n"
     ]
    }
   ],
   "source": [
    "show_medial3(results3['noisy'])"
   ]
  },
  {
   "cell_type": "code",
   "execution_count": 46,
   "metadata": {},
   "outputs": [
    {
     "name": "stdout",
     "output_type": "stream",
     "text": [
      "Showing central slice along the first axis\n"
     ]
    }
   ],
   "source": [
    "show_medial3(results3['oscillating'])"
   ]
  },
  {
   "cell_type": "markdown",
   "metadata": {},
   "source": [
    "**Three dimensional plots.** Displaying three dimensional data using matplotlib is quite a bad idea: the execution is extremely slow, and the results are not very readable. Three dimensional plots may be added when I settle a choice of 3D plotting library.\n",
    "\n",
    "\n",
    "<!---\n",
    "### 3.2 Three dimensional plots\n",
    "\n",
    "\n",
    "def show_medial3b(results,display=None):\n",
    "    geo,((hfmIn1,hfmOut1),(hfmIn2,hfmOut2),(hfmIn3,hfmOut3)) = results\n",
    "    plt.figure(figsize=[16,10])\n",
    "    X = hfmIn1.Grid()\n",
    "    i=1\n",
    "    \n",
    "    if display.get('geodesic',None): # Fastest to display\n",
    "        ax = plt.subplot(2,3,i,projection='3d'); i+=1\n",
    "        ax.plot(*geo,color=\"black\",label='geodesic')\n",
    "        \n",
    "    if 'distance to curve' in display:\n",
    "        ax = plt.subplot(2,3,i,projection='3d'); i+=1\n",
    "        plt.title(\"Distance to the input curve\")\n",
    "        ax.voxels(hfmOut1['values']<display['distance to curve'])\n",
    "        \n",
    "    if 'distance to tube' in display:\n",
    "        ax = plt.subplot(2,3,i,projection='3d'); i+=1\n",
    "        plt.title(\"Distance to the tube\")\n",
    "        ax.voxels(hfmOut2['values']<display['distance to tube'])\n",
    "        \n",
    "    if 'distance to seed' in display:\n",
    "        ax = plt.subplot(2,3,i,projection='3d'); i+=1\n",
    "        plt.title(\"Distance to the seed\")\n",
    "        ax.voxels(hfmOut3['values']<display['distance to seed'])\n",
    "        \n",
    "    if 'parametrization' in display:\n",
    "        ax = plt.subplot(2,3,i,projection='3d'); i+=1\n",
    "        plt.title(\"Parametrization\")\n",
    "        ax.voxels(hfmOut1['valueVariation'].squeeze(axis=-1)<display['parametrization'])\n",
    "    \n",
    "    if 'speed' in display:\n",
    "        ax = plt.subplot(2,3,i,projection='3d'); i+=1\n",
    "        plt.title(\"Speed\")\n",
    "        speeds = 1./np.sqrt(hfmIn3['metric'].eigvals())\n",
    "        ax.voxels(speeds[0]>display['speed'])\n",
    "    \n",
    "    if 'anisotropy' in display:\n",
    "        ax = plt.subplot(2,3,i,projection='3d'); i+=1\n",
    "        plt.title(\"Anisotropy\")\n",
    "        ax.voxels(hfmIn3['metric'].anisotropy()>display['anisotropy'])\n",
    "        \n",
    "#show_medial3b(results3['exact'],{'anisotropy':10,'speed':5})\n",
    "\n",
    "--->"
   ]
  }
 ],
 "metadata": {
  "celltoolbar": "Format de la Cellule Texte Brut",
  "kernelspec": {
   "display_name": "Python 3 (ipykernel)",
   "language": "python",
   "name": "python3"
  },
  "language_info": {
   "codemirror_mode": {
    "name": "ipython",
    "version": 3
   },
   "file_extension": ".py",
   "mimetype": "text/x-python",
   "name": "python",
   "nbconvert_exporter": "python",
   "pygments_lexer": "ipython3",
   "version": "3.10.8"
  },
  "varInspector": {
   "cols": {
    "lenName": 16,
    "lenType": 16,
    "lenVar": 40
   },
   "kernels_config": {
    "python": {
     "delete_cmd_postfix": "",
     "delete_cmd_prefix": "del ",
     "library": "var_list.py",
     "varRefreshCmd": "print(var_dic_list())"
    },
    "r": {
     "delete_cmd_postfix": ") ",
     "delete_cmd_prefix": "rm(",
     "library": "var_list.r",
     "varRefreshCmd": "cat(var_dic_list()) "
    }
   },
   "types_to_exclude": [
    "module",
    "function",
    "builtin_function_or_method",
    "instance",
    "_Feature"
   ],
   "window_display": false
  }
 },
 "nbformat": 4,
 "nbformat_minor": 4
}