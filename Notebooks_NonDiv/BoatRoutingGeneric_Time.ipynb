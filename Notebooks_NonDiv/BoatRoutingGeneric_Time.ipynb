{
 "cells": [
  {
   "cell_type": "markdown",
   "metadata": {},
   "source": [
    "# Adaptive PDE discretizations on Cartesian grids\n",
    "## Volume : Non-divergence form PDEs\n",
    "## Part : Time dependent optimal control\n",
    "## Chapter : Boat routing, with a generic cost"
   ]
  },
  {
   "cell_type": "markdown",
   "metadata": {},
   "source": [
    "In this notebook, we compute the optimal costs an paths for a time-dependent optimal control problem, by numerically solving the corresponding (first order time dependent) Hamilton-Jacobi-Bellman (HJB) Partial Differential Equation (PDE). The intended application is to find the optimal route for a boat, whose instantaneous fuel consumption is tabulated and depends on the weather conditions, which are known in advance over the domain. The objective is to minimize the overall fuel consumption over the trajectory, for a window of arrival times. \n",
    "\n",
    "**Fuel consumption model.**\n",
    "Let $\\Omega$ denote the physical domain, and $\\gamma : [0,T] \\to \\Omega$ a trajectory. The corresponding cost, or fuel consumption in the intended application, is defined as \n",
    "$$\n",
    "    C(\\gamma) :=  C_0(\\gamma(0)) + \\int_0^T c(t,\\gamma(t),\\gamma'(t)) dt.\n",
    "$$\n",
    "This fuel consumption $C(\\gamma)$ depends on two parameter functions: \n",
    "* The *instantaneous fuel consumption* $c(t,x,v)$ for a vehicle moving at velocity $v$, at position $x\\in \\Omega$, and at the time $t$. In practice, this cost is often of the form $c(t,x,v) = c(m(t,x),v)$, where $m(t,x)$ gathers the geographical and meteorological conditions at $(t,x)$, and $c(m,v)$ is a tabulated cost. \n",
    "* The *initial time penalty* $C_0(x)$, for a vehicle starting from the position $x\\in \\Omega$ at time $t=0$. In applications, one often has $C_0(x_0) = 0$ for some specific position $x_0$, and $C_0(x) = \\infty$ for all $x\\neq x_0$. However, both the theoretical treatment and the numerical implementation face difficulties with infinite and/or discontinuous value functions. Fortunately, one can show that $C_0(x) := K \\|x-x_0\\|$ yields the same value function as the former discontinuous initial condition, for sufficiently large $K$, at suitable times $t$ and positions $x$, and under suitable assumptions. This approach is known as exact penalization.\n",
    "\n",
    "\n",
    "Our objective is to compute the minimial fuel consumption needed to reach a position $x$ at time $t$, defined as \n",
    "$$\n",
    "    C(t,x) := \\min_{\\gamma \\in \\Gamma_t^x} \\mathcal C(\\gamma),\n",
    "$$\n",
    "where $\\Gamma_t^x$ collects all paths $\\gamma : [0,t] \\to \\Omega$ such that $\\gamma(t)=x$.\n",
    "Under mild assumptions, the fuel consumption $C(t,x)$ of the boat, needed to reach a point $x$ at time $t$, is the unique solution to the Hamilton-Jacobi-Bellman PDE, first order and time-dependent,\n",
    "$$\n",
    "    \\partial_t C(t,x) + \\sup_v \\Big(<\\nabla_x C(t,x),v> - c(t,x,v)\\Big) = 0.\n",
    "$$\n",
    "\n",
    "Denote by $C(t,x)$ the above cost function, and by $v = V(t,x)$ the optimal velocity at $(t,x)$. \n",
    "Then, again under mild assumptions, the optimal path $\\gamma : [0,T] \\to \\Omega$ for reaching a point $x$ at time $T$ is the obeys the ordinary differential equation\n",
    "$$\n",
    "    \\gamma'(t) = V(t,\\gamma(t)),\n",
    "$$\n",
    "which must solved in reverse time, from $t=T$ to $t=0$, with terminal condition $\\gamma(T) = x$. This process is known as optimal path backtracking.\n",
    "\n",
    "\n",
    "**Generic and specialized methods.**\n",
    "The optimal control model described above, and the numerical described and implemented below, are very generic. Almost a textbook example. In particular the implementation does not involve Selling's tensor decomposition, or related lattice basis reduction tools, which play a central role in most of the other notebooks of this repository. If further assumptions are introduced in the model, then the numerical cost can be reduced by several orders of magnitude. Consider for instance the following special cases:\n",
    "* *Quadratic cost function.*  Assume that the instantaneous fuel consumption is quadratic, namely $c(t,x,v) = \\mu(t,x) + \\frac 1 2 \\|v-\\omega(t,c)\\|^2_{M(t,x)}$, where $\\mu$ is the consumption at rest, $\\omega$ is a drift, and $M$ is a positive definite matrix encoding for instance the earth geometry. Then the HJB equation can be simplified, eliminating the supremum over $v$, and efficiently discretized as described in [this other notebook](BoatRouting_Time.ipynb). In contrast, where here explicitly compute a supremum over approximately $500$ distinct tabulated velocities $(v_i)_{i=1}^I$, which incurs a significant overhead in terms of time and memory usage.\n",
    "\n",
    "* *Time independent cost function.* Assume that the instantaneous fuel consumption is independent of time, namely $c(t,x,v) = c(x,v)$. Then, under mild assumptions, the minimal cost $C(x) = \\min_{t>0} \\alpha t + C(t,x)$, where $\\alpha>0$ is an arbitrary penalization of traveltime, obeys a time independent HJB equation. Following this approach results in a tremendous reduction in computation time and memory usage, as discussed in [this other notebook](../Notebooks_FMM/BoatRouting.ipynb).\n",
    "\n",
    "**Convexity of the cost function.**\n",
    "Consider a cost function $c(v) = c(t,x,v) : R^d \\to R \\cup \\{+\\infty\\}$, where the state variables $t$ and $x$ have been fixed. Let also $\\tilde c$ denote the lower convex envelope of $c$, defined as the largest convex function which is bounded above by $c$. Then, under mild assumptions, $\\tilde c$ and $c$ yield the same value functions $C$ and $\\tilde C$ for the overall trajectory cost. Indeed, the HJB PDE characterizing $C$ can be written in terms of the Legendre-Fenchel transform\n",
    "$$\n",
    "    c^*(t,x,w) := \\sup_v  <w,v> - c(t,x,v),\n",
    "$$\n",
    "which is the same for $c$ and $\\tilde c$. \n",
    "\n",
    "An upside of this observation is that costs defined for *finitely many velocities*, for instance tabulated velocities $(v_i)_{i=1}^I$, are handled in a reasonable manner. The PDE solution is the same as for the convex envelope $\\tilde c$, which is a natural piecewise linear interpolant of the values $c(t,x,v_i)$, $1 \\leq i \\leq I$.\n",
    "\n",
    "A downside of this observation is that a number of vehicles do involve non-convex costs, for instance sail boats, and they are therefore not appropriately described by this simple optimal control model. More complex models, involving a state $\\Theta$ of the vehicle in addition to time $t$ and position $x$, and transitions between different states with appropriate costs, are needed to properly reflect this behavior. The value function thus depends on an additional variable $C = C(t,x,\\theta)$, and the numerical cost is tightly connected to the number of discretization points $(\\theta_k)_{k=1}^K$ used to discretize $\\Theta$.\n",
    "Examples of additional state variables include:\n",
    "* The orientation $\\theta\\in S^1$ of the vehicle. In practice, numerical implementations often use from $K=60$ to $K=200$ orientations. This approach  is therefore quite costly numerically, but is becomes reasonable on the other hand the time dependency can be eliminated. See the notebooks on [curve penalization](../Notebooks_FMM/Curvature.ipynb) possibly [with a drift](../Notebooks_FMM/DubinsZermelo.ipynb).\n",
    "* Two states, corresponding to the side of the boat sail. Or a few states, in a similar fashion. In that case the time dependent approach can be preserved."
   ]
  },
  {
   "cell_type": "markdown",
   "metadata": {},
   "source": [
    "[**Summary**](Summary.ipynb) of volume Non-Divergence form PDEs, this series of notebooks.\n",
    "\n",
    "[**Main summary**](../Summary.ipynb) of the Adaptive Grid Discretizations \n",
    "\tbook of notebooks, including the other volumes.\n",
    "\n",
    "# Table of contents\n",
    "  * [1. The numerical scheme](#1.-The-numerical-scheme)\n",
    "    * [1.1 Decomposition of the velocities](#1.1-Decomposition-of-the-velocities)\n",
    "    * [1.2 Finite difference scheme](#1.2-Finite-difference-scheme)\n",
    "    * [1.3 Efficient implementation of the linear operator](#1.3-Efficient-implementation-of-the-linear-operator)\n",
    "  * [2. Quadratic cost](#2.-Quadratic-cost)\n",
    "    * [2.1 Setting](#2.1-Setting)\n",
    "    * [2.2 Computing the geodesic flow](#2.2-Computing-the-geodesic-flow)\n",
    "    * [2.3 Backtracking the optimal paths](#2.3-Backtracking-the-optimal-paths)\n",
    "    * [2.4 Optimization of memory usage](#2.4-Optimization-of-memory-usage)\n",
    "  * [3. Data driven cost](#3.-Data-driven-cost)\n",
    "    * [3.1 Interpolation of the costs](#3.1-Interpolation-of-the-costs)\n",
    "    * [3.2 Discussion of the fuel consumption](#3.2-Discussion-of-the-fuel-consumption)\n",
    "    * [3.3 Numerical solution](#3.3-Numerical-solution)\n",
    "  * [4. Complex environment](#4.-Complex-environment)\n",
    "    * [4.1 Validation on a quadratic and static test case](#4.1-Validation-on-a-quadratic-and-static-test-case)\n",
    "    * [4.2 Time dependent, data driven cost](#4.2-Time-dependent,-data-driven-cost)\n",
    "\n",
    "\n",
    "\n",
    "**Acknowledgement.** Some of the experiments presented in these notebooks are part of \n",
    "ongoing research with Ludovic Métivier and Da Chen.\n",
    "\n",
    "Copyright Jean-Marie Mirebeau, Centre Borelli, ENS Paris-Saclay, CNRS, University Paris-Saclay"
   ]
  },
  {
   "cell_type": "markdown",
   "metadata": {},
   "source": [
    "## 0. Importing the required libraries."
   ]
  },
  {
   "cell_type": "code",
   "execution_count": 1,
   "metadata": {
    "tags": [
     "cupy_update"
    ]
   },
   "outputs": [],
   "source": [
    "import sys; sys.path.insert(0,\"..\") # Allow import of agd from parent directory (useless if conda package installed)\n",
    "#from Miscellaneous import TocTools; print(TocTools.displayTOC('BoatRoutingGeneric_Time','NonDiv'))"
   ]
  },
  {
   "cell_type": "code",
   "execution_count": 2,
   "metadata": {},
   "outputs": [],
   "source": [
    "from agd import AutomaticDifferentiation as ad\n",
    "from agd import LinearParallel as lp\n",
    "from agd import FiniteDifferences as fd\n",
    "from agd.Interpolation import UniformGridInterpolation as interp\n",
    "from agd.ODE.backtrack import RecurseRewind,odeint_array\n",
    "from agd.Plotting import quiver\n",
    "norm = ad.Optimization.norm\n",
    "cupy_get = ad.cupy_generic.cupy_get # Transfer array from GPU to CPU\n",
    "\n",
    "from agd.ExportedCode.Notebooks_FMM import BoatRouting\n",
    "from agd.Eikonal import CenteredLinspace as clinspace"
   ]
  },
  {
   "cell_type": "code",
   "execution_count": 3,
   "metadata": {},
   "outputs": [],
   "source": [
    "import numpy as np; xp=np \n",
    "from numpy import allclose,take_along_axis\n",
    "from matplotlib import pyplot as plt\n",
    "from scipy.interpolate import RegularGridInterpolator\n",
    "from itertools import accumulate"
   ]
  },
  {
   "cell_type": "markdown",
   "metadata": {},
   "source": [
    "Utilities"
   ]
  },
  {
   "cell_type": "code",
   "execution_count": 29,
   "metadata": {},
   "outputs": [
    {
     "ename": "UnidentifiedImageError",
     "evalue": "cannot identify image file <_io.BytesIO object at 0x0000013B69A25D50>",
     "output_type": "error",
     "traceback": [
      "\u001b[1;31m---------------------------------------------------------------------------\u001b[0m",
      "\u001b[1;31mUnidentifiedImageError\u001b[0m                    Traceback (most recent call last)",
      "Cell \u001b[1;32mIn[29], line 8\u001b[0m\n\u001b[0;32m      5\u001b[0m my_url\u001b[38;5;241m=\u001b[39m\u001b[38;5;124m'\u001b[39m\u001b[38;5;124mhttps://github.com/Mirebeau/AdaptiveGridDiscretizations/blob/master/Notebooks_FMM/TestImages/centre_pompidou_800x546.png?raw=true\u001b[39m\u001b[38;5;124m'\u001b[39m\n\u001b[0;32m      7\u001b[0m \u001b[38;5;66;03m# Open the image directly from the URL using Pillow\u001b[39;00m\n\u001b[1;32m----> 8\u001b[0m my_img \u001b[38;5;241m=\u001b[39m \u001b[43mImage\u001b[49m\u001b[38;5;241;43m.\u001b[39;49m\u001b[43mopen\u001b[49m\u001b[43m(\u001b[49m\u001b[43mrequests\u001b[49m\u001b[38;5;241;43m.\u001b[39;49m\u001b[43mget\u001b[49m\u001b[43m(\u001b[49m\u001b[43mmy_url\u001b[49m\u001b[43m,\u001b[49m\u001b[43m \u001b[49m\u001b[43mstream\u001b[49m\u001b[38;5;241;43m=\u001b[39;49m\u001b[38;5;28;43;01mTrue\u001b[39;49;00m\u001b[43m)\u001b[49m\u001b[38;5;241;43m.\u001b[39;49m\u001b[43mraw\u001b[49m\u001b[43m)\u001b[49m\n\u001b[0;32m     10\u001b[0m \u001b[38;5;66;03m# Show the image\u001b[39;00m\n\u001b[0;32m     11\u001b[0m \u001b[38;5;66;03m#my_img.show()\u001b[39;00m\n",
      "File \u001b[1;32m~\\miniconda3\\envs\\agd-hfm_cuda_312\\Lib\\site-packages\\PIL\\Image.py:3309\u001b[0m, in \u001b[0;36mopen\u001b[1;34m(fp, mode, formats)\u001b[0m\n\u001b[0;32m   3307\u001b[0m     warnings\u001b[38;5;241m.\u001b[39mwarn(message)\n\u001b[0;32m   3308\u001b[0m msg \u001b[38;5;241m=\u001b[39m \u001b[38;5;124m\"\u001b[39m\u001b[38;5;124mcannot identify image file \u001b[39m\u001b[38;5;132;01m%r\u001b[39;00m\u001b[38;5;124m\"\u001b[39m \u001b[38;5;241m%\u001b[39m (filename \u001b[38;5;28;01mif\u001b[39;00m filename \u001b[38;5;28;01melse\u001b[39;00m fp)\n\u001b[1;32m-> 3309\u001b[0m \u001b[38;5;28;01mraise\u001b[39;00m UnidentifiedImageError(msg)\n",
      "\u001b[1;31mUnidentifiedImageError\u001b[0m: cannot identify image file <_io.BytesIO object at 0x0000013B69A25D50>"
     ]
    }
   ],
   "source": [
    "from PIL import Image\n",
    "import requests\n",
    "\n",
    "my_url = \"https://www.tutorialspoint.com/images/logo.png\"\n",
    "my_url = 'https://github.com/Mirebeau/AdaptiveGridDiscretizations/blob/master/Notebooks_FMM/TestImages/centre_pompidou_800x546.png?raw=true'\n",
    "\n",
    "# Open the image directly from the URL using Pillow\n",
    "my_img = Image.open(requests.get(my_url, stream=True).raw)\n",
    "\n",
    "# Show the image\n",
    "#my_img.show()"
   ]
  },
  {
   "cell_type": "code",
   "execution_count": 23,
   "metadata": {},
   "outputs": [
    {
     "name": "stdout",
     "output_type": "stream",
     "text": [
      "Help on HTTPResponse in module urllib3.response object:\n",
      "\n",
      "class HTTPResponse(BaseHTTPResponse)\n",
      " |  HTTPResponse(body: '_TYPE_BODY' = '', headers: 'typing.Mapping[str, str] | typing.Mapping[bytes, bytes] | None' = None, status: 'int' = 0, version: 'int' = 0, reason: 'str | None' = None, preload_content: 'bool' = True, decode_content: 'bool' = True, original_response: '_HttplibHTTPResponse | None' = None, pool: 'HTTPConnectionPool | None' = None, connection: 'HTTPConnection | None' = None, msg: '_HttplibHTTPMessage | None' = None, retries: 'Retry | None' = None, enforce_content_length: 'bool' = True, request_method: 'str | None' = None, request_url: 'str | None' = None, auto_close: 'bool' = True) -> 'None'\n",
      " |\n",
      " |  HTTP Response container.\n",
      " |\n",
      " |  Backwards-compatible with :class:`http.client.HTTPResponse` but the response ``body`` is\n",
      " |  loaded and decoded on-demand when the ``data`` property is accessed.  This\n",
      " |  class is also compatible with the Python standard library's :mod:`io`\n",
      " |  module, and can hence be treated as a readable object in the context of that\n",
      " |  framework.\n",
      " |\n",
      " |  Extra parameters for behaviour not present in :class:`http.client.HTTPResponse`:\n",
      " |\n",
      " |  :param preload_content:\n",
      " |      If True, the response's body will be preloaded during construction.\n",
      " |\n",
      " |  :param decode_content:\n",
      " |      If True, will attempt to decode the body based on the\n",
      " |      'content-encoding' header.\n",
      " |\n",
      " |  :param original_response:\n",
      " |      When this HTTPResponse wrapper is generated from an :class:`http.client.HTTPResponse`\n",
      " |      object, it's convenient to include the original for debug purposes. It's\n",
      " |      otherwise unused.\n",
      " |\n",
      " |  :param retries:\n",
      " |      The retries contains the last :class:`~urllib3.util.retry.Retry` that\n",
      " |      was used during the request.\n",
      " |\n",
      " |  :param enforce_content_length:\n",
      " |      Enforce content length checking. Body returned by server must match\n",
      " |      value of Content-Length header, if present. Otherwise, raise error.\n",
      " |\n",
      " |  Method resolution order:\n",
      " |      HTTPResponse\n",
      " |      BaseHTTPResponse\n",
      " |      io.IOBase\n",
      " |      _io._IOBase\n",
      " |      builtins.object\n",
      " |\n",
      " |  Methods defined here:\n",
      " |\n",
      " |  __init__(self, body: '_TYPE_BODY' = '', headers: 'typing.Mapping[str, str] | typing.Mapping[bytes, bytes] | None' = None, status: 'int' = 0, version: 'int' = 0, reason: 'str | None' = None, preload_content: 'bool' = True, decode_content: 'bool' = True, original_response: '_HttplibHTTPResponse | None' = None, pool: 'HTTPConnectionPool | None' = None, connection: 'HTTPConnection | None' = None, msg: '_HttplibHTTPMessage | None' = None, retries: 'Retry | None' = None, enforce_content_length: 'bool' = True, request_method: 'str | None' = None, request_url: 'str | None' = None, auto_close: 'bool' = True) -> 'None'\n",
      " |      Initialize self.  See help(type(self)) for accurate signature.\n",
      " |\n",
      " |  __iter__(self) -> 'typing.Iterator[bytes]'\n",
      " |      Implement iter(self).\n",
      " |\n",
      " |  close(self) -> 'None'\n",
      " |      Flush and close the IO object.\n",
      " |\n",
      " |      This method has no effect if the file is already closed.\n",
      " |\n",
      " |  drain_conn(self) -> 'None'\n",
      " |      Read and discard any remaining HTTP response data in the response connection.\n",
      " |\n",
      " |      Unread data in the HTTPResponse connection blocks the connection from being released back to the pool.\n",
      " |\n",
      " |  fileno(self) -> 'int'\n",
      " |      Return underlying file descriptor if one exists.\n",
      " |\n",
      " |      Raise OSError if the IO object does not use a file descriptor.\n",
      " |\n",
      " |  flush(self) -> 'None'\n",
      " |      Flush write buffers, if applicable.\n",
      " |\n",
      " |      This is not implemented for read-only and non-blocking streams.\n",
      " |\n",
      " |  isclosed(self) -> 'bool'\n",
      " |\n",
      " |  read(self, amt: 'int | None' = None, decode_content: 'bool | None' = None, cache_content: 'bool' = False) -> 'bytes'\n",
      " |      Similar to :meth:`http.client.HTTPResponse.read`, but with two additional\n",
      " |      parameters: ``decode_content`` and ``cache_content``.\n",
      " |\n",
      " |      :param amt:\n",
      " |          How much of the content to read. If specified, caching is skipped\n",
      " |          because it doesn't make sense to cache partial content as the full\n",
      " |          response.\n",
      " |\n",
      " |      :param decode_content:\n",
      " |          If True, will attempt to decode the body based on the\n",
      " |          'content-encoding' header.\n",
      " |\n",
      " |      :param cache_content:\n",
      " |          If True, will save the returned data such that the same result is\n",
      " |          returned despite of the state of the underlying file object. This\n",
      " |          is useful if you want the ``.data`` property to continue working\n",
      " |          after having ``.read()`` the file object. (Overridden if ``amt`` is\n",
      " |          set.)\n",
      " |\n",
      " |  read_chunked(self, amt: 'int | None' = None, decode_content: 'bool | None' = None) -> 'typing.Generator[bytes, None, None]'\n",
      " |      Similar to :meth:`HTTPResponse.read`, but with an additional\n",
      " |      parameter: ``decode_content``.\n",
      " |\n",
      " |      :param amt:\n",
      " |          How much of the content to read. If specified, caching is skipped\n",
      " |          because it doesn't make sense to cache partial content as the full\n",
      " |          response.\n",
      " |\n",
      " |      :param decode_content:\n",
      " |          If True, will attempt to decode the body based on the\n",
      " |          'content-encoding' header.\n",
      " |\n",
      " |  readable(self) -> 'bool'\n",
      " |      Return whether object was opened for reading.\n",
      " |\n",
      " |      If False, read() will raise OSError.\n",
      " |\n",
      " |  release_conn(self) -> 'None'\n",
      " |\n",
      " |  stream(self, amt: 'int | None' = 65536, decode_content: 'bool | None' = None) -> 'typing.Generator[bytes, None, None]'\n",
      " |      A generator wrapper for the read() method. A call will block until\n",
      " |      ``amt`` bytes have been read from the connection or until the\n",
      " |      connection is closed.\n",
      " |\n",
      " |      :param amt:\n",
      " |          How much of the content to read. The generator will return up to\n",
      " |          much data per iteration, but may return less. This is particularly\n",
      " |          likely when using compressed data. However, the empty string will\n",
      " |          never be returned.\n",
      " |\n",
      " |      :param decode_content:\n",
      " |          If True, will attempt to decode the body based on the\n",
      " |          'content-encoding' header.\n",
      " |\n",
      " |  supports_chunked_reads(self) -> 'bool'\n",
      " |      Checks if the underlying file-like object looks like a\n",
      " |      :class:`http.client.HTTPResponse` object. We do this by testing for\n",
      " |      the fp attribute. If it is present we assume it returns raw chunks as\n",
      " |      processed by read_chunked().\n",
      " |\n",
      " |  tell(self) -> 'int'\n",
      " |      Obtain the number of bytes pulled over the wire so far. May differ from\n",
      " |      the amount of content returned by :meth:``urllib3.response.HTTPResponse.read``\n",
      " |      if bytes are encoded on the wire (e.g, compressed).\n",
      " |\n",
      " |  ----------------------------------------------------------------------\n",
      " |  Readonly properties defined here:\n",
      " |\n",
      " |  closed\n",
      " |\n",
      " |  connection\n",
      " |\n",
      " |  data\n",
      " |\n",
      " |  ----------------------------------------------------------------------\n",
      " |  Data descriptors defined here:\n",
      " |\n",
      " |  url\n",
      " |      Returns the URL that was the source of this response.\n",
      " |      If the request that generated this response redirected, this method\n",
      " |      will return the final redirect location.\n",
      " |\n",
      " |  ----------------------------------------------------------------------\n",
      " |  Data and other attributes defined here:\n",
      " |\n",
      " |  __abstractmethods__ = frozenset()\n",
      " |\n",
      " |  __annotations__ = {}\n",
      " |\n",
      " |  ----------------------------------------------------------------------\n",
      " |  Methods inherited from BaseHTTPResponse:\n",
      " |\n",
      " |  get_redirect_location(self) -> 'str | None | Literal[False]'\n",
      " |      Should we redirect and where to?\n",
      " |\n",
      " |      :returns: Truthy redirect location string if we got a redirect status\n",
      " |          code and valid location. ``None`` if redirect status and no\n",
      " |          location. ``False`` if not a redirect status code.\n",
      " |\n",
      " |  getheader(self, name: 'str', default: 'str | None' = None) -> 'str | None'\n",
      " |\n",
      " |  getheaders(self) -> 'HTTPHeaderDict'\n",
      " |      # Compatibility methods for http.client.HTTPResponse\n",
      " |\n",
      " |  geturl(self) -> 'str | None'\n",
      " |\n",
      " |  info(self) -> 'HTTPHeaderDict'\n",
      " |      # Compatibility method for http.cookiejar\n",
      " |\n",
      " |  json(self) -> 'typing.Any'\n",
      " |      Parses the body of the HTTP response as JSON.\n",
      " |\n",
      " |      To use a custom JSON decoder pass the result of :attr:`HTTPResponse.data` to the decoder.\n",
      " |\n",
      " |      This method can raise either `UnicodeDecodeError` or `json.JSONDecodeError`.\n",
      " |\n",
      " |      Read more :ref:`here <json>`.\n",
      " |\n",
      " |  readinto(self, b: 'bytearray') -> 'int'\n",
      " |      # Compatibility methods for `io` module\n",
      " |\n",
      " |  ----------------------------------------------------------------------\n",
      " |  Data descriptors inherited from BaseHTTPResponse:\n",
      " |\n",
      " |  retries\n",
      " |\n",
      " |  ----------------------------------------------------------------------\n",
      " |  Data and other attributes inherited from BaseHTTPResponse:\n",
      " |\n",
      " |  CONTENT_DECODERS = ['gzip', 'x-gzip', 'deflate', 'br']\n",
      " |\n",
      " |  DECODER_ERROR_CLASSES = (<class 'OSError'>, <class 'zlib.error'>, <cla...\n",
      " |\n",
      " |  REDIRECT_STATUSES = [301, 302, 303, 307, 308]\n",
      " |\n",
      " |  ----------------------------------------------------------------------\n",
      " |  Methods inherited from _io._IOBase:\n",
      " |\n",
      " |  __del__(...)\n",
      " |\n",
      " |  __enter__(...)\n",
      " |\n",
      " |  __exit__(...)\n",
      " |\n",
      " |  __next__(self, /)\n",
      " |      Implement next(self).\n",
      " |\n",
      " |  isatty(self, /)\n",
      " |      Return whether this is an 'interactive' stream.\n",
      " |\n",
      " |      Return False if it can't be determined.\n",
      " |\n",
      " |  readline(self, size=-1, /)\n",
      " |      Read and return a line from the stream.\n",
      " |\n",
      " |      If size is specified, at most size bytes will be read.\n",
      " |\n",
      " |      The line terminator is always b'\\n' for binary files; for text\n",
      " |      files, the newlines argument to open can be used to select the line\n",
      " |      terminator(s) recognized.\n",
      " |\n",
      " |  readlines(self, hint=-1, /)\n",
      " |      Return a list of lines from the stream.\n",
      " |\n",
      " |      hint can be specified to control the number of lines read: no more\n",
      " |      lines will be read if the total size (in bytes/characters) of all\n",
      " |      lines so far exceeds hint.\n",
      " |\n",
      " |  seek(self, offset, whence=0, /)\n",
      " |      Change the stream position to the given byte offset.\n",
      " |\n",
      " |        offset\n",
      " |          The stream position, relative to 'whence'.\n",
      " |        whence\n",
      " |          The relative position to seek from.\n",
      " |\n",
      " |      The offset is interpreted relative to the position indicated by whence.\n",
      " |      Values for whence are:\n",
      " |\n",
      " |      * os.SEEK_SET or 0 -- start of stream (the default); offset should be zero or positive\n",
      " |      * os.SEEK_CUR or 1 -- current stream position; offset may be negative\n",
      " |      * os.SEEK_END or 2 -- end of stream; offset is usually negative\n",
      " |\n",
      " |      Return the new absolute position.\n",
      " |\n",
      " |  seekable(self, /)\n",
      " |      Return whether object supports random access.\n",
      " |\n",
      " |      If False, seek(), tell() and truncate() will raise OSError.\n",
      " |      This method may need to do a test seek().\n",
      " |\n",
      " |  truncate(self, size=None, /)\n",
      " |      Truncate file to size bytes.\n",
      " |\n",
      " |      File pointer is left unchanged. Size defaults to the current IO position\n",
      " |      as reported by tell(). Return the new size.\n",
      " |\n",
      " |  writable(self, /)\n",
      " |      Return whether object was opened for writing.\n",
      " |\n",
      " |      If False, write() will raise OSError.\n",
      " |\n",
      " |  writelines(self, lines, /)\n",
      " |      Write a list of lines to stream.\n",
      " |\n",
      " |      Line separators are not added, so it is usual for each of the\n",
      " |      lines provided to have a line separator at the end.\n",
      " |\n",
      " |  ----------------------------------------------------------------------\n",
      " |  Data descriptors inherited from _io._IOBase:\n",
      " |\n",
      " |  __dict__\n",
      "\n"
     ]
    }
   ],
   "source": []
  },
  {
   "cell_type": "code",
   "execution_count": 27,
   "metadata": {},
   "outputs": [
    {
     "ename": "AttributeError",
     "evalue": "'Response' object has no attribute 'seek'",
     "output_type": "error",
     "traceback": [
      "\u001b[1;31m---------------------------------------------------------------------------\u001b[0m",
      "\u001b[1;31mAttributeError\u001b[0m                            Traceback (most recent call last)",
      "Cell \u001b[1;32mIn[27], line 4\u001b[0m\n\u001b[0;32m      2\u001b[0m url\u001b[38;5;241m=\u001b[39m\u001b[38;5;124m'\u001b[39m\u001b[38;5;124mhttps://github.com/Mirebeau/AdaptiveGridDiscretizations/blob/master/Notebooks_NonDiv/TestData/ModelePerformanceNavire.npy?raw=true\u001b[39m\u001b[38;5;124m'\u001b[39m\n\u001b[0;32m      3\u001b[0m response \u001b[38;5;241m=\u001b[39m requests\u001b[38;5;241m.\u001b[39mget(url,stream\u001b[38;5;241m=\u001b[39m\u001b[38;5;28;01mTrue\u001b[39;00m)\n\u001b[1;32m----> 4\u001b[0m \u001b[43mresponse\u001b[49m\u001b[38;5;241;43m.\u001b[39;49m\u001b[43mseek\u001b[49m(\u001b[38;5;241m0\u001b[39m)\n\u001b[0;32m      5\u001b[0m costs \u001b[38;5;241m=\u001b[39m np\u001b[38;5;241m.\u001b[39mload(io\u001b[38;5;241m.\u001b[39mBytesIO(response\u001b[38;5;241m.\u001b[39mread()))  \n\u001b[0;32m      7\u001b[0m \u001b[38;5;66;03m#costs = np.load(io.BytesIO(response.content))  \u001b[39;00m\n",
      "\u001b[1;31mAttributeError\u001b[0m: 'Response' object has no attribute 'seek'"
     ]
    }
   ],
   "source": [
    "import requests,io\n",
    "url='https://github.com/Mirebeau/AdaptiveGridDiscretizations/blob/master/Notebooks_NonDiv/TestData/ModelePerformanceNavire.npy?raw=true'\n",
    "response = requests.get(url,stream=True)\n",
    "costs = np.load(io.BytesIO(response.read()))  \n",
    "\n",
    "#costs = np.load(io.BytesIO(response.content))  \n",
    "\n"
   ]
  },
  {
   "cell_type": "code",
   "execution_count": 17,
   "metadata": {},
   "outputs": [],
   "source": [
    "#np.array(my_img)"
   ]
  },
  {
   "cell_type": "code",
   "execution_count": 4,
   "metadata": {},
   "outputs": [
    {
     "ename": "ValueError",
     "evalue": "Cannot load file containing pickled data when allow_pickle=False",
     "output_type": "error",
     "traceback": [
      "\u001b[1;31m---------------------------------------------------------------------------\u001b[0m",
      "\u001b[1;31mValueError\u001b[0m                                Traceback (most recent call last)",
      "Cell \u001b[1;32mIn[4], line 5\u001b[0m\n\u001b[0;32m      3\u001b[0m \u001b[38;5;66;03m#url = 'https://github.com/Mirebeau/AdaptiveGridDiscretizations/blob/master/Notebooks_NonDiv/TestData/ModelePerformanceNavire.npy?raw=true'\u001b[39;00m\n\u001b[0;32m      4\u001b[0m file \u001b[38;5;241m=\u001b[39m np\u001b[38;5;241m.\u001b[39mDataSource()\u001b[38;5;241m.\u001b[39mopen(url)\n\u001b[1;32m----> 5\u001b[0m data \u001b[38;5;241m=\u001b[39m \u001b[43mnp\u001b[49m\u001b[38;5;241;43m.\u001b[39;49m\u001b[43mload\u001b[49m\u001b[43m(\u001b[49m\u001b[43mfile\u001b[49m\u001b[38;5;241;43m.\u001b[39;49m\u001b[43mname\u001b[49m\u001b[43m)\u001b[49m\n",
      "File \u001b[1;32m~\\miniconda3\\envs\\agd-hfm_cuda_312\\Lib\\site-packages\\numpy\\lib\\npyio.py:462\u001b[0m, in \u001b[0;36mload\u001b[1;34m(file, mmap_mode, allow_pickle, fix_imports, encoding, max_header_size)\u001b[0m\n\u001b[0;32m    459\u001b[0m \u001b[38;5;28;01melse\u001b[39;00m:\n\u001b[0;32m    460\u001b[0m     \u001b[38;5;66;03m# Try a pickle\u001b[39;00m\n\u001b[0;32m    461\u001b[0m     \u001b[38;5;28;01mif\u001b[39;00m \u001b[38;5;129;01mnot\u001b[39;00m allow_pickle:\n\u001b[1;32m--> 462\u001b[0m         \u001b[38;5;28;01mraise\u001b[39;00m \u001b[38;5;167;01mValueError\u001b[39;00m(\u001b[38;5;124m\"\u001b[39m\u001b[38;5;124mCannot load file containing pickled data \u001b[39m\u001b[38;5;124m\"\u001b[39m\n\u001b[0;32m    463\u001b[0m                          \u001b[38;5;124m\"\u001b[39m\u001b[38;5;124mwhen allow_pickle=False\u001b[39m\u001b[38;5;124m\"\u001b[39m)\n\u001b[0;32m    464\u001b[0m     \u001b[38;5;28;01mtry\u001b[39;00m:\n\u001b[0;32m    465\u001b[0m         \u001b[38;5;28;01mreturn\u001b[39;00m pickle\u001b[38;5;241m.\u001b[39mload(fid, \u001b[38;5;241m*\u001b[39m\u001b[38;5;241m*\u001b[39mpickle_kwargs)\n",
      "\u001b[1;31mValueError\u001b[0m: Cannot load file containing pickled data when allow_pickle=False"
     ]
    }
   ],
   "source": [
    "#url = \"https://www.dropbox.com/s/1vpn5k3gt41nhtn/Test.npz\"\n",
    "url = 'https://www.dropbox.com/scl/fi/mr7pv0jmqm57q89k5ab3w/ModelePerformanceNavire.npy?rlkey=rfg378fwsytici9hav2ubunfq&dl=1'\n",
    "#url = 'https://github.com/Mirebeau/AdaptiveGridDiscretizations/blob/master/Notebooks_NonDiv/TestData/ModelePerformanceNavire.npy?raw=true'\n",
    "file = np.DataSource().open(url)\n",
    "data = np.load(file.name)"
   ]
  },
  {
   "cell_type": "code",
   "execution_count": 8,
   "metadata": {},
   "outputs": [
    {
     "ename": "UnpicklingError",
     "evalue": "Failed to interpret file <_io.BytesIO object at 0x0000013B699A92B0> as a pickle",
     "output_type": "error",
     "traceback": [
      "\u001b[1;31m---------------------------------------------------------------------------\u001b[0m",
      "\u001b[1;31mFileNotFoundError\u001b[0m                         Traceback (most recent call last)",
      "Cell \u001b[1;32mIn[8], line 2\u001b[0m\n\u001b[0;32m      1\u001b[0m \u001b[38;5;28;01mtry\u001b[39;00m:\n\u001b[1;32m----> 2\u001b[0m     \u001b[38;5;28;01mwith\u001b[39;00m \u001b[38;5;28;43mopen\u001b[39;49m\u001b[43m(\u001b[49m\u001b[38;5;124;43m'\u001b[39;49m\u001b[38;5;124;43mTestData/ModelePerformanceNavire_.npy\u001b[39;49m\u001b[38;5;124;43m'\u001b[39;49m\u001b[43m,\u001b[49m\u001b[38;5;124;43m'\u001b[39;49m\u001b[38;5;124;43mrb\u001b[39;49m\u001b[38;5;124;43m'\u001b[39;49m\u001b[43m)\u001b[49m \u001b[38;5;28;01mas\u001b[39;00m f: \n\u001b[0;32m      3\u001b[0m         costs \u001b[38;5;241m=\u001b[39m np\u001b[38;5;241m.\u001b[39mload(f)\n",
      "File \u001b[1;32m~\\miniconda3\\envs\\agd-hfm_cuda_312\\Lib\\site-packages\\IPython\\core\\interactiveshell.py:310\u001b[0m, in \u001b[0;36m_modified_open\u001b[1;34m(file, *args, **kwargs)\u001b[0m\n\u001b[0;32m    304\u001b[0m     \u001b[38;5;28;01mraise\u001b[39;00m \u001b[38;5;167;01mValueError\u001b[39;00m(\n\u001b[0;32m    305\u001b[0m         \u001b[38;5;124mf\u001b[39m\u001b[38;5;124m\"\u001b[39m\u001b[38;5;124mIPython won\u001b[39m\u001b[38;5;124m'\u001b[39m\u001b[38;5;124mt let you open fd=\u001b[39m\u001b[38;5;132;01m{\u001b[39;00mfile\u001b[38;5;132;01m}\u001b[39;00m\u001b[38;5;124m by default \u001b[39m\u001b[38;5;124m\"\u001b[39m\n\u001b[0;32m    306\u001b[0m         \u001b[38;5;124m\"\u001b[39m\u001b[38;5;124mas it is likely to crash IPython. If you know what you are doing, \u001b[39m\u001b[38;5;124m\"\u001b[39m\n\u001b[0;32m    307\u001b[0m         \u001b[38;5;124m\"\u001b[39m\u001b[38;5;124myou can use builtins\u001b[39m\u001b[38;5;124m'\u001b[39m\u001b[38;5;124m open.\u001b[39m\u001b[38;5;124m\"\u001b[39m\n\u001b[0;32m    308\u001b[0m     )\n\u001b[1;32m--> 310\u001b[0m \u001b[38;5;28;01mreturn\u001b[39;00m \u001b[43mio_open\u001b[49m\u001b[43m(\u001b[49m\u001b[43mfile\u001b[49m\u001b[43m,\u001b[49m\u001b[43m \u001b[49m\u001b[38;5;241;43m*\u001b[39;49m\u001b[43margs\u001b[49m\u001b[43m,\u001b[49m\u001b[43m \u001b[49m\u001b[38;5;241;43m*\u001b[39;49m\u001b[38;5;241;43m*\u001b[39;49m\u001b[43mkwargs\u001b[49m\u001b[43m)\u001b[49m\n",
      "\u001b[1;31mFileNotFoundError\u001b[0m: [Errno 2] No such file or directory: 'TestData/ModelePerformanceNavire_.npy'",
      "\nDuring handling of the above exception, another exception occurred:\n",
      "\u001b[1;31mUnpicklingError\u001b[0m                           Traceback (most recent call last)",
      "File \u001b[1;32m~\\miniconda3\\envs\\agd-hfm_cuda_312\\Lib\\site-packages\\numpy\\lib\\npyio.py:465\u001b[0m, in \u001b[0;36mload\u001b[1;34m(file, mmap_mode, allow_pickle, fix_imports, encoding, max_header_size)\u001b[0m\n\u001b[0;32m    464\u001b[0m \u001b[38;5;28;01mtry\u001b[39;00m:\n\u001b[1;32m--> 465\u001b[0m     \u001b[38;5;28;01mreturn\u001b[39;00m \u001b[43mpickle\u001b[49m\u001b[38;5;241;43m.\u001b[39;49m\u001b[43mload\u001b[49m\u001b[43m(\u001b[49m\u001b[43mfid\u001b[49m\u001b[43m,\u001b[49m\u001b[43m \u001b[49m\u001b[38;5;241;43m*\u001b[39;49m\u001b[38;5;241;43m*\u001b[39;49m\u001b[43mpickle_kwargs\u001b[49m\u001b[43m)\u001b[49m\n\u001b[0;32m    466\u001b[0m \u001b[38;5;28;01mexcept\u001b[39;00m \u001b[38;5;167;01mException\u001b[39;00m \u001b[38;5;28;01mas\u001b[39;00m e:\n",
      "\u001b[1;31mUnpicklingError\u001b[0m: invalid load key, '{'.",
      "\nThe above exception was the direct cause of the following exception:\n",
      "\u001b[1;31mUnpicklingError\u001b[0m                           Traceback (most recent call last)",
      "Cell \u001b[1;32mIn[8], line 10\u001b[0m\n\u001b[0;32m      8\u001b[0m stream \u001b[38;5;241m=\u001b[39m io\u001b[38;5;241m.\u001b[39mBytesIO(response\u001b[38;5;241m.\u001b[39mcontent)\n\u001b[0;32m      9\u001b[0m stream\u001b[38;5;241m.\u001b[39mseek(\u001b[38;5;241m0\u001b[39m)\n\u001b[1;32m---> 10\u001b[0m costs \u001b[38;5;241m=\u001b[39m \u001b[43mnp\u001b[49m\u001b[38;5;241;43m.\u001b[39;49m\u001b[43mload\u001b[49m\u001b[43m(\u001b[49m\u001b[43mstream\u001b[49m\u001b[43m,\u001b[49m\u001b[43mallow_pickle\u001b[49m\u001b[38;5;241;43m=\u001b[39;49m\u001b[38;5;28;43;01mTrue\u001b[39;49;00m\u001b[43m)\u001b[49m  \n",
      "File \u001b[1;32m~\\miniconda3\\envs\\agd-hfm_cuda_312\\Lib\\site-packages\\numpy\\lib\\npyio.py:467\u001b[0m, in \u001b[0;36mload\u001b[1;34m(file, mmap_mode, allow_pickle, fix_imports, encoding, max_header_size)\u001b[0m\n\u001b[0;32m    465\u001b[0m     \u001b[38;5;28;01mreturn\u001b[39;00m pickle\u001b[38;5;241m.\u001b[39mload(fid, \u001b[38;5;241m*\u001b[39m\u001b[38;5;241m*\u001b[39mpickle_kwargs)\n\u001b[0;32m    466\u001b[0m \u001b[38;5;28;01mexcept\u001b[39;00m \u001b[38;5;167;01mException\u001b[39;00m \u001b[38;5;28;01mas\u001b[39;00m e:\n\u001b[1;32m--> 467\u001b[0m     \u001b[38;5;28;01mraise\u001b[39;00m pickle\u001b[38;5;241m.\u001b[39mUnpicklingError(\n\u001b[0;32m    468\u001b[0m         \u001b[38;5;124mf\u001b[39m\u001b[38;5;124m\"\u001b[39m\u001b[38;5;124mFailed to interpret file \u001b[39m\u001b[38;5;132;01m{\u001b[39;00mfile\u001b[38;5;132;01m!r}\u001b[39;00m\u001b[38;5;124m as a pickle\u001b[39m\u001b[38;5;124m\"\u001b[39m) \u001b[38;5;28;01mfrom\u001b[39;00m \u001b[38;5;21;01me\u001b[39;00m\n",
      "\u001b[1;31mUnpicklingError\u001b[0m: Failed to interpret file <_io.BytesIO object at 0x0000013B699A92B0> as a pickle"
     ]
    }
   ],
   "source": [
    "try:\n",
    "    with open('TestData/ModelePerformanceNavire_.npy','rb') as f: \n",
    "        costs = np.load(f)\n",
    "except FileNotFoundError:\n",
    "    import requests,io\n",
    "    response = requests.get('https://github.com/Mirebeau/AdaptiveGridDiscretizations/blob/master/Notebooks_NonDiv/TestData/ModelePerformanceNavire.npy?raw=true')\n",
    "    response.raise_for_status()\n",
    "    stream = io.BytesIO(response.content)\n",
    "    stream.seek(0)\n",
    "    costs = np.load(stream,allow_pickle=True)  \n"
   ]
  },
  {
   "cell_type": "markdown",
   "metadata": {},
   "source": [
    "### 0.1 Optional configuration\n",
    "\n",
    "Uncomment the following line to use GPU acceleration"
   ]
  },
  {
   "cell_type": "code",
   "execution_count": 6,
   "metadata": {
    "tags": [
     "GPU_config"
    ]
   },
   "outputs": [
    {
     "name": "stdout",
     "output_type": "stream",
     "text": [
      "Replacing numpy with cupy, set to output 32bit ints and floats by default.\n",
      "Using cp.asarray(*,dtype=np.float32) as the default caster in ad.array.\n",
      "Returning a copy of module matplotlib.pyplot whose functions accept cupy arrays as input.\n",
      "Setting float32 compatible default values atol=rtol=1e-5 in np.allclose\n",
      "Returning a copy of function quiver which accepts cupy arrays as input.\n"
     ]
    }
   ],
   "source": [
    "#xp,plt,allclose,quiver = map(ad.cupy_friendly,(xp,plt,allclose,quiver))"
   ]
  },
  {
   "cell_type": "markdown",
   "metadata": {},
   "source": [
    "Minimal path backtracking is an inherently sequential operation, so we'll do it on the CPU in any case."
   ]
  },
  {
   "cell_type": "code",
   "execution_count": 7,
   "metadata": {},
   "outputs": [],
   "source": [
    "odeint_array = ad.cupy_generic.cupy_get_args(odeint_array,iterables=(list,))"
   ]
  },
  {
   "cell_type": "markdown",
   "metadata": {},
   "source": [
    "Choose between small or large instances using the following line. Computation time may become a bit longer."
   ]
  },
  {
   "cell_type": "code",
   "execution_count": 8,
   "metadata": {},
   "outputs": [],
   "source": [
    "large_instances = xp is not np # By default : large instances on GPU, small on CPU"
   ]
  },
  {
   "cell_type": "markdown",
   "metadata": {},
   "source": [
    "## 1. The numerical scheme\n",
    "\n",
    "We describe and implement the discretization of the time-dependent Hamilton-Jacobi-Bellman PDE obeyed by the cost function $C(t,x)$, here denoted $u(t,x)$ following the usual mathematical convention ($u$ is for unknown). Recall that $\\partial_t u(t,x) + \\sup_v ( <\\nabla_x u(t,x),v> - c(t,x,v)) = 0$ is the original PDE.\n",
    "\n",
    "We rely on a finite differences scheme, over a Cartesian discretization grid of scale $h>0$, written as\n",
    "$$\n",
    "    \\frac {u(t+\\delta t,x) - u(t,x)} {\\delta t} \n",
    "    {+} \\max_{1 \\leq i \\leq I} \\Big( \\sum_{1 \\leq j \\leq d}  \\alpha_{ij} \\frac {u(t,x)-u(t,x-h e_{ij})} h - c(t,x,v_i) \\Big)= 0.\n",
    "$$\n",
    "We denoted by $(v_i)_{i=1}^I$ a finite set of velocities, whose corresponding fuel consumptions $c(t,x,v_i)$ are known.\n",
    "The numerical scheme is first order, in time and space. It relies on a decomposition of the velocities of the form\n",
    "$$\n",
    "    v_i = \\sum_{1 \\leq j \\leq d} \\alpha_{ij} e_{ij},\n",
    "$$\n",
    "where $\\alpha_{ij} \\geq 0$ is a weight, and $e_{ij}$ is an offset with integer coordinates, for all $1 \\leq i \\leq I$ and all $1 \\leq j \\leq d$. \n",
    "The vectors $e_{ij} \\in Z^2$ are chosen adaptively, among a four point or an eight point neighborhood of the origin. \n",
    "\n",
    "\n",
    "**Monotony, and stability.**\n",
    "Denote by $i_*$, $1 \\leq i_* \\leq I$, the maximizer in the above numerical scheme. Then we can rewrite the update rule as \n",
    "$$\n",
    "    u(t+\\delta t,x) = \n",
    "    \\Big(1-\\frac {\\delta t} h \\sum_{1 \\leq j \\leq d} \\alpha_{i_*j}\\Big) \\ u(t,x)\n",
    "    {+} \\frac {\\delta t} h \\sum_{1 \\leq j \\leq d}  \\alpha_{i_*j} \\ u(t,x-h e_i) + c(t,x, v_{i_*}).\n",
    "$$\n",
    "\n",
    "The scheme is monotone, subject to the Courant-Friedrichs-Levy (CFL) condition \n",
    "$$\n",
    "\\delta t \\max_i \\sum_j \\alpha_{ij} \\leq h.\n",
    "$$\n",
    "By monotony, one means that the value function $u(t+\\delta t,x)$ is a non-decreasing function of the values $u(t,y)$ of the previous time step, where $x$ and $y$ belong to the discretization grid. This property implies comparison principles and stability properties which are of great help for the convergence analysis of the scheme. Higher order schemes are expected to lack the monotony property, and hence also the associated robustness properties.\n",
    "\n",
    "For the four point stencil, one can simplify the CFL condition into $v_{\\max}\\delta t  \\sqrt 2  \\leq h$, and for the eight point stencil into $v_{\\max}\\delta t \\leq h$, where $v_{\\max} := \\max_i \\|v_i\\|$ is the fastest considered velocity.\n"
   ]
  },
  {
   "cell_type": "markdown",
   "metadata": {},
   "source": [
    "### 1.1 Decomposition of the velocities\n",
    "\n",
    "We use upwind finite differences on a four point or an eight point stencil. (The latter is expected to be yield slight improvements in terms of numerical accuracy.)\n",
    "For that purpose, the vectors must be decomposed, in the form\n",
    "$$\n",
    "    v = \\alpha_0 e_0 + \\alpha_1 e_1,\n",
    "$$\n",
    "where $e_0,e_1 \\in \\{-1,0,1\\}^2$, and where $\\alpha_0,\\alpha_1 \\geq 0$."
   ]
  },
  {
   "cell_type": "code",
   "execution_count": 9,
   "metadata": {},
   "outputs": [],
   "source": [
    "def decomp(v,four_point=False):\n",
    "    v = ad.asarray(v)\n",
    "    # Decomposition over the four point stencil\n",
    "    shape = v.shape[1:]\n",
    "    α = np.abs(v)\n",
    "    e = (np.sign(v) * fd.as_field(xp.eye(2),shape,depth=2)).astype(int)\n",
    "    if four_point: return α,e\n",
    "    \n",
    "    # Decomposition over the eight point stencil\n",
    "    pos = α[0]<α[1]\n",
    "    α[1][pos] -= α[0][pos]\n",
    "    e[:,0][:,pos] += e[:,1][:,pos]\n",
    "    \n",
    "    pos = np.logical_not(pos)\n",
    "    α[0][pos] -= α[1][pos]\n",
    "    e[:,1][:,pos] += e[:,0][:,pos]\n",
    "    return α,e"
   ]
  },
  {
   "cell_type": "markdown",
   "metadata": {},
   "source": [
    "Let us check our decomposition."
   ]
  },
  {
   "cell_type": "code",
   "execution_count": 10,
   "metadata": {},
   "outputs": [],
   "source": [
    "θ = xp.linspace(0,2.*np.pi,endpoint=False)\n",
    "v = ad.array([np.cos(θ),np.sin(θ)])\n",
    "α,e = decomp(v)\n",
    "\n",
    "assert np.all(α>=0) # Non-negative weights \n",
    "assert np.allclose(v,(α*e).sum(axis=1)) # Reconstruction"
   ]
  },
  {
   "cell_type": "markdown",
   "metadata": {},
   "source": [
    "### 1.2 Finite difference scheme\n",
    "\n",
    "The numerical scheme of interest, as well as the original PDE, involves a maximum over a family of affine functions. We decompose the implementation in two steps, a linear one, followed with a non-linear one."
   ]
  },
  {
   "cell_type": "code",
   "execution_count": 11,
   "metadata": {},
   "outputs": [],
   "source": [
    "def Scheme0(u,dx,velocity,four_point=False):\n",
    "    \"\"\"\n",
    "    Linear part of the scheme.\n",
    "    Approximates <du,velocity>, using degenerate elliptic finite differences.\n",
    "    \"\"\"\n",
    "    α,e = decomp(velocity,four_point=four_point)\n",
    "    du = fd.DiffUpwind(u,-e,dx) # (u(x-he)-u(x))/h\n",
    "    α = fd.as_field(α,u.shape)\n",
    "    return lp.dot_VV(α,-du)"
   ]
  },
  {
   "cell_type": "code",
   "execution_count": 12,
   "metadata": {},
   "outputs": [],
   "source": [
    "def Scheme(u,dt,costs,scheme0=None,**kwargs):\n",
    "    \"\"\"One explicit step of the discretized HJB PDE\"\"\"\n",
    "    u0 = Scheme0(u,**kwargs) if scheme0 is None else scheme0(u) \n",
    "    costs = fd.as_field(costs,u.shape)\n",
    "    return u-dt*np.nanmax(u0-costs,axis=(0,1))"
   ]
  },
  {
   "cell_type": "markdown",
   "metadata": {},
   "source": [
    "The CFL condition, ensuring the stability of the scheme, is discussed in the introduction of this section."
   ]
  },
  {
   "cell_type": "code",
   "execution_count": 13,
   "metadata": {},
   "outputs": [],
   "source": [
    "def CFL(velocity,h,four_point=False):\n",
    "    \"\"\"Largest time_step for which the scheme is stable.\"\"\"\n",
    "    α,_ = decomp(velocity,four_point)\n",
    "    return dx/np.max(np.sum(α,axis=0))"
   ]
  },
  {
   "cell_type": "markdown",
   "metadata": {},
   "source": [
    "We rely on exact penalization, see the introduction of this notebook, and for that purpose, the initial condition will be defined as\n",
    "$$\n",
    "    u_0(x) = K \\|x-x_0\\|\n",
    "$$\n",
    "where $x_0$ is the source point, and where $K$ is sufficiently large. In contrast with the [quadratic scheme](BoatRouting_Time.ipynb), the CFL condition is independent of the Lipschitz constant $K$ in this case."
   ]
  },
  {
   "cell_type": "markdown",
   "metadata": {},
   "source": [
    "### 1.3 Efficient implementation of the linear operator\n",
    "\n",
    "We can improve computation time by saving the structure of the sparse linear operator involved in the definition of our numerical scheme.\n",
    "\n",
    "<!---\n",
    "#    op_ad.simplify_ad() # Surprisingly decreases efficiency (More random pattern of accesses ?)\n",
    "#    return lambda u: op_ad.as_func(u.reshape(-1)) # Works but less efficient\n",
    "--->\n",
    "\n",
    "<!---\n",
    "Attempt to reorder the variables in order to have a structure more local. Not effective.\n",
    "def MakeScheme1(u,dx,*args,**kwargs):\n",
    "    \"\"\"Save the sparse linear structure of Scheme0\"\"\"\n",
    "    u_ad = ad.Sparse.identity(constant=np.zeros_like(u))\n",
    "    op_ad = Scheme0(u_ad,dx,*args,**kwargs)\n",
    "    op_ad.coef[np.isnan(op_ad.value),:]=np.nan\n",
    "    \n",
    "    op_ad = np.moveaxis(op_ad,(0,1),(-2,-1))\n",
    "    lin = op_ad.tangent_operator()\n",
    "    shape = op_ad.shape\n",
    "    \n",
    "    return lambda u: np.moveaxis( (lin*u.reshape(-1)).reshape(shape), (-2,-1),(0,1))\n",
    "--->"
   ]
  },
  {
   "cell_type": "code",
   "execution_count": 22,
   "metadata": {},
   "outputs": [],
   "source": [
    "def MakeScheme0(u,*args,**kwargs):\n",
    "    \"\"\"Save the sparse linear structure of Scheme0\"\"\"\n",
    "    u_ad = ad.Sparse.identity(constant=np.zeros_like(u))\n",
    "    op_ad = Scheme0(u_ad,*args,**kwargs)\n",
    "    op_ad.coef[np.isnan(op_ad.value),:]=np.nan\n",
    "    lin = op_ad.tangent_operator()\n",
    "    shape = op_ad.shape\n",
    "    return lambda u: (lin*u.reshape(-1)).reshape(shape)"
   ]
  },
  {
   "cell_type": "markdown",
   "metadata": {},
   "source": [
    "## 2. Quadratic cost\n",
    "\n",
    "For consistency checking, we reproduce a fully synthetic experiment already presented in the notebooks on the [quadratic](BoatRouting_Time.ipynb) and [static](../Notebooks_FMM/BoatRouting.ipynb) variants of the problem of interest. This experiment features a quadratic cost function, thus of the form:\n",
    "$$\n",
    "    c(t,x,v) = \\mu(t,x) + \\frac 1 2 \\|v-\\omega(t,x)\\|_{M(t,x)}^2.\n",
    "$$\n",
    "For further simplification, the parameters $\\mu,\\omega,M$ are chosen independent of time and space, and the domain is a square."
   ]
  },
  {
   "cell_type": "markdown",
   "metadata": {},
   "source": [
    "### 2.1 Setting\n"
   ]
  },
  {
   "cell_type": "code",
   "execution_count": 23,
   "metadata": {},
   "outputs": [],
   "source": [
    "def quadratic_cost(model_params,velocity):\n",
    "    \"\"\"Cost associated to a given velocity in a quadratic cost model\"\"\"\n",
    "    μ, ω, M, velocity = fd.common_field( (*model_params,velocity),depths = (0,1,2,1))\n",
    "    return μ + 0.5* lp.dot_VAV(velocity-ω,M,velocity-ω)"
   ]
  },
  {
   "cell_type": "code",
   "execution_count": 24,
   "metadata": {},
   "outputs": [],
   "source": [
    "four_point=False\n",
    "\n",
    "# Quadratic parameters : unit weight for time, unit horizontal drift, euclidean geometry\n",
    "model_params = (1.,xp.array((1.,0.)),xp.eye(2)) # μ, ω, M\n",
    "\n",
    "# Velocities sample the unit ball\n",
    "velocity_norm = xp.linspace(1,0,8,endpoint=False)\n",
    "velocity_angle = xp.linspace(0,2*np.pi,16,endpoint=False)\n",
    "velocity = np.moveaxis(ad.array([[ (r*np.cos(θ),r*np.sin(θ)) \n",
    "    for r in velocity_norm] for θ in velocity_angle]),-1,0) \n",
    "cost = quadratic_cost(model_params,velocity) \n",
    "\n",
    "# Coordinate system\n",
    "aX,dx = xp.linspace(-1,1,retstep=True)\n",
    "X = ad.array(np.meshgrid(aX,aX,indexing='ij'))\n",
    "\n",
    "# Initial condition\n",
    "K_Lip = 5.\n",
    "C_initial = K_Lip * norm(X,axis=0)\n",
    "dt = CFL(velocity,dx)\n",
    "\n",
    "# Time discretization\n",
    "t_max = 1.5\n",
    "dt = 0.5*CFL(velocity,dx,four_point)\n",
    "t_range = xp.arange(0,t_max,dt)"
   ]
  },
  {
   "cell_type": "code",
   "execution_count": 25,
   "metadata": {},
   "outputs": [],
   "source": [
    "plt.title('Considered velocities for the fully synthetic example'); plt.axis('equal')\n",
    "plt.scatter(*velocity);"
   ]
  },
  {
   "cell_type": "markdown",
   "metadata": {},
   "source": [
    "The numerical scheme preserves the costs positivity, if the time step obeys the CFL condition and the instantaneous fuel costs are non-negative. "
   ]
  },
  {
   "cell_type": "code",
   "execution_count": 26,
   "metadata": {},
   "outputs": [
    {
     "name": "stdout",
     "output_type": "stream",
     "text": [
      "Smallest and largest value after one step : 0.16471566259860992, 7.024273872375488\n"
     ]
    }
   ],
   "source": [
    "C1 = Scheme(C_initial,dt,cost, dx=dx,velocity=velocity,four_point=four_point) #kwargs passed to Scheme0\n",
    "print(f\"Smallest and largest value after one step : {np.min(C1)}, {np.max(C1)}\")\n",
    "assert np.min(C1)>=0 and np.isfinite(np.max(C1))"
   ]
  },
  {
   "cell_type": "markdown",
   "metadata": {},
   "source": [
    "Precomputing the linear part of the scheme is a simple and efficient manner to improve computation speed."
   ]
  },
  {
   "cell_type": "code",
   "execution_count": 27,
   "metadata": {},
   "outputs": [],
   "source": [
    "scheme0 = MakeScheme0(C_initial,dx,velocity,four_point)\n",
    "assert np.allclose(scheme0(C_initial),Scheme0(C_initial,dx,velocity,four_point),atol=3e-5,equal_nan=True)"
   ]
  },
  {
   "cell_type": "code",
   "execution_count": 28,
   "metadata": {},
   "outputs": [
    {
     "name": "stdout",
     "output_type": "stream",
     "text": [
      "131 µs ± 36.9 µs per loop (mean ± std. dev. of 7 runs, 20 loops each)\n"
     ]
    }
   ],
   "source": [
    "%%timeit -n 20 \n",
    "scheme0(C_initial)"
   ]
  },
  {
   "cell_type": "code",
   "execution_count": 29,
   "metadata": {},
   "outputs": [
    {
     "name": "stdout",
     "output_type": "stream",
     "text": [
      "7.18 ms ± 1.71 ms per loop (mean ± std. dev. of 7 runs, 20 loops each)\n"
     ]
    }
   ],
   "source": [
    "%%timeit -n 20 \n",
    "Scheme0(C_initial,dx,velocity,four_point)"
   ]
  },
  {
   "cell_type": "markdown",
   "metadata": {},
   "source": [
    "For illustration, we compute the solution associated with the quadratic cost (with drift), constant in time and space."
   ]
  },
  {
   "cell_type": "code",
   "execution_count": 30,
   "metadata": {},
   "outputs": [
    {
     "name": "stdout",
     "output_type": "stream",
     "text": [
      "CPU times: total: 31.2 ms\n",
      "Wall time: 36 ms\n"
     ]
    }
   ],
   "source": [
    "%%time\n",
    "C_solution = ad.array(list(accumulate(\n",
    "    t_range[1:],\n",
    "    initial=C_initial, \n",
    "    func=lambda C_t,t : Scheme(C_t,dt,cost,scheme0)\n",
    ")))"
   ]
  },
  {
   "cell_type": "markdown",
   "metadata": {},
   "source": [
    "Accuracy is only first order. Also, the polygonal nature of the approximation is clearly visible."
   ]
  },
  {
   "cell_type": "code",
   "execution_count": 23,
   "metadata": {},
   "outputs": [],
   "source": [
    "C_opt = np.min(C_solution,axis=0); \n",
    "plt.title(\"Minimal fuel consumption\"); plt.axis('equal')\n",
    "plt.contourf(*X,C_opt); plt.colorbar();"
   ]
  },
  {
   "cell_type": "markdown",
   "metadata": {},
   "source": [
    "### 2.2 Computing the geodesic flow\n",
    "\n",
    "Minimal paths are obtained by solving a time-dependent ODE, backwards from the final time to the initial time. As a first step, we must compute the optimal direction of the geodesics, which is obtained as the minimizer to the PDE of interest."
   ]
  },
  {
   "cell_type": "code",
   "execution_count": 24,
   "metadata": {},
   "outputs": [],
   "source": [
    "def BestVelocity(u,velocity,cost,scheme0=None,**kwargs):\n",
    "    u0 = Scheme0(u,velocity=velocity,**kwargs) if scheme0 is None else scheme0(u)\n",
    "    shape = u.shape # Domain shape\n",
    "    u0 = u0 - fd.as_field(cost,shape)\n",
    "    \n",
    "    u0 = u0.reshape((-1,*shape)) # flatten radius-angular dimension\n",
    "    bad = np.isnan(u0)\n",
    "    u0[bad] = -np.inf\n",
    "    imax = np.argmax(u0,axis=0)\n",
    "\n",
    "    velocity = fd.as_field(velocity,shape) # broadcast over domain\n",
    "    velocity = velocity.reshape((2,-1,*shape)) # flatten radius-angular dimension\n",
    "    \n",
    "    \n",
    "    best_v = np.take_along_axis(velocity,imax.reshape((1,1)+imax.shape),axis=1).squeeze(axis=1) # Extract optimal\n",
    "    best_v[:,np.all(bad,axis=0)] = 0. # No velocity where solution is invalid\n",
    "    return best_v"
   ]
  },
  {
   "cell_type": "markdown",
   "metadata": {},
   "source": [
    "The best velocity, is radial, which is not unexpected : since our metric is constant in space and time the optimal geodesics are straight lines. Note however that the velocity takes discrete values, in contrast with the quadratic model studied in the previous notebook."
   ]
  },
  {
   "cell_type": "code",
   "execution_count": 25,
   "metadata": {},
   "outputs": [],
   "source": [
    "best_v = BestVelocity(C_solution[50],velocity,cost,scheme0)\n",
    "plt.title(\"Optimal velocity\"); plt.axis('equal')\n",
    "quiver(*X,*best_v,subsampling=(4,4))"
   ]
  },
  {
   "cell_type": "markdown",
   "metadata": {},
   "source": [
    "Vehicles need to travel faster to reach points far from the origin. Note that the largest norm of a valid velocity is one in our model, and that velocity norms take discrete values."
   ]
  },
  {
   "cell_type": "code",
   "execution_count": 26,
   "metadata": {},
   "outputs": [],
   "source": [
    "plt.title(\"Norm of the optimal velocity\"); plt.axis('equal')\n",
    "plt.contourf(norm(best_v,axis=0)); plt.colorbar();"
   ]
  },
  {
   "cell_type": "markdown",
   "metadata": {},
   "source": [
    " We observe here that the norms of the optimal velocity is a radial function. This may come as a surprise, since the fuel cost model is asymmetric. It is actually a property of the quadratic fuel cost, as discussed in the other notebooks."
   ]
  },
  {
   "cell_type": "markdown",
   "metadata": {},
   "source": [
    "### 2.3 Backtracking the optimal paths\n",
    "\n",
    "The optimal paths obey a first order ODE, whose direction is given by the optimal velocity.\n",
    "\n",
    "**Note on computation time.** Geodesic backtracking involves hundreds of times less computations than the solving the time dependent PDE. The computation time of geodesic backtracking is almost entirely attibutable to python overhead, and could presumably be sped up by orders of magnitude easily using a C++ code."
   ]
  },
  {
   "cell_type": "code",
   "execution_count": 27,
   "metadata": {},
   "outputs": [],
   "source": [
    "C_velocity = [BestVelocity(C,velocity,cost,scheme0) for C in C_solution]"
   ]
  },
  {
   "cell_type": "markdown",
   "metadata": {},
   "source": [
    "We choose initial points for the optimal path (often referred to as geodesic) backtracking, here uniformly over the domain."
   ]
  },
  {
   "cell_type": "code",
   "execution_count": 28,
   "metadata": {},
   "outputs": [],
   "source": [
    "s=5; s0,s1 = X.shape[1:]\n",
    "y0 = X[:,s0//(2*s)::s1//s,s0//(2*s)::s1//s].reshape((2,-1)) # Subsampled s x s grid used as initial points\n",
    "\n",
    "plt.title(\"Initial points for the geodesic backtracking\"); plt.axis('equal')\n",
    "plt.scatter(*y0);"
   ]
  },
  {
   "cell_type": "markdown",
   "metadata": {},
   "source": [
    "We obtain *approximately* straight lines ending *approximately* at the origin. This behavior is expected since the cost $c(t,x,v)$ function is independent of time $t$ and space $x$ in this example, $c=c(v)$. Note that lines not ending at the origin are typically caused by either:\n",
    "* Insufficient simulation time (diagnostic : the  minimal cost is attained for the final step)\n",
    "* Insufficiently strong initial penalization."
   ]
  },
  {
   "cell_type": "code",
   "execution_count": 29,
   "metadata": {},
   "outputs": [],
   "source": [
    "geodesics = odeint_array(C_velocity[::-1],y0,t_range[::-1],X)\n",
    "plt.title(\"Minimal geodesics\")\n",
    "for geo in geodesics.T: plt.plot(*geo)"
   ]
  },
  {
   "cell_type": "markdown",
   "metadata": {},
   "source": [
    "One may want to compute the geodesic not from the final time of the numerical simulation, but from the specific time. For instance, here, we select the time minimizing the travel cost. The results look similar to the above, because the metric is constant in time."
   ]
  },
  {
   "cell_type": "code",
   "execution_count": 30,
   "metadata": {},
   "outputs": [],
   "source": [
    "best_step = np.argmin(interp(X,C_solution)(y0),axis=0) # Step of the simulation minimizing cost\n",
    "t_delay = len(t_range) - best_step-1 # Account for reversed time\n",
    "geodesics = odeint_array(C_velocity[::-1],y0,t_range[::-1],X, t_delay=t_delay)\n",
    "for geo,delay in zip(geodesics.T,t_delay): plt.plot(*geo[:,int(delay):]) # Drop the first points according to delay"
   ]
  },
  {
   "cell_type": "markdown",
   "metadata": {},
   "source": [
    "### 2.4 Optimization of memory usage\n",
    "\n",
    "In practical applications, the number of time steps can be much larger than here, raising serious concerns about memory usage if the full time-dependent solution is stored. We illustrate here how to bypass this potential issue by storing selected keypoints of the solution.\n",
    "\n",
    "**Note on memory usage in this specific example.**\n",
    "In the numerical example chosen here, there are less than $n \\leq 100$ time steps, hence the full solution holds $n$ values for each point $x$. For comparison, the sparse linear operator precomputed and saved here holds three coefficients, and three indices, thus $6$ values, for each point $x$ and each velocity $v$. Thus the memory cost of the sparse linear operator vastly exceeds the memory cost of the full time-dependent solution in this specific example\n",
    "\n",
    "The memory optimization discussed here is therefore only relevant if it is applied to another model whose linear operator has a simpler structure, or whose number of time steps is much more important, or if it is completed by additional work on efficient representation of the sparse operator. In particular, it could be relevant to the notebook involving a [quadratic cost function](BoatRouting_Time.ipynb)."
   ]
  },
  {
   "cell_type": "code",
   "execution_count": 31,
   "metadata": {},
   "outputs": [
    {
     "name": "stdout",
     "output_type": "stream",
     "text": [
      "Number of time steps : 74\n",
      "Number of velocities at each point : 128\n"
     ]
    }
   ],
   "source": [
    "print(f\"Number of time steps : {len(t_range)}\")\n",
    "print(f\"Number of velocities at each point : {len(velocity_norm)*len(velocity_angle)}\")"
   ]
  },
  {
   "cell_type": "markdown",
   "metadata": {},
   "source": [
    "A difficulty comes from the fact that the iterations need to be rolled back in order to backtrack the geodesics. For that purpose, a data structure is proposed that helds a selection of intermediate results (keypoints). We illustrate this mechanism here.\n",
    "\n",
    "For $b^n$ iterations, $n b$ keypoints will be stored at most, where $b$ is the *basis* used in the keypoint storage mechanism. By default $b=10$. At rewind time, some values may be re-computed up to $n$ times."
   ]
  },
  {
   "cell_type": "code",
   "execution_count": 32,
   "metadata": {},
   "outputs": [
    {
     "name": "stdout",
     "output_type": "stream",
     "text": [
      "Number of keypoints: 11, and indices: dict_keys([0, 10, 20, 30, 40, 50, 60, 70, 71, 72, 73])\n"
     ]
    }
   ],
   "source": [
    "def advance(C): return Scheme(C,dt,cost,scheme0)\n",
    "C_generator = RecurseRewind(advance,C_initial)\n",
    "\n",
    "# The generator applies advance recursively to C_initial\n",
    "for C_ref,C in zip(C_solution,C_generator):\n",
    "    assert np.allclose(C,C_ref)\n",
    "\n",
    "# But there are fewer of them\n",
    "print(f\"Number of keypoints: {len(C_generator._keys)}, and indices: {C_generator._keys.keys()}\")\n",
    "\n",
    "# Only a few keypoints are stored, with the solution a the corresponding time\n",
    "for key,value in C_generator._keys.items():\n",
    "    assert np.allclose(value,C_solution[key])\n",
    "\n",
    "# Rewind the iterations. This includes some recomputations, from suitable keypoints\n",
    "C_generator.reversed = True\n",
    "for value1,value2 in zip(C_generator,reversed(C_solution)):\n",
    "    assert np.allclose(value1,value2)"
   ]
  },
  {
   "cell_type": "markdown",
   "metadata": {},
   "source": [
    "In order to limit memory usage, one can use the keypoint based rewind mechanism, as follows.\n",
    "\n",
    "<!---\n",
    "def BestStep(iterator, y0, n):\n",
    "    \"\"\"Get the best step at y0, by advancing n times the iterator\"\"\"\n",
    "    ny0=y0.shape[1]\n",
    "    C_min = np.full(ny0,np.inf)\n",
    "    iC_min= np.full(ny0,0)\n",
    "\n",
    "    for i,C in zip(range(n),iterator):\n",
    "        C_y0 = interp(X,C)(y0)\n",
    "        pos = C_y0 < C_min\n",
    "        C_min[pos] = C_y0[pos]\n",
    "        iC_min[pos] = i\n",
    "    return iC_min\n",
    "--->"
   ]
  },
  {
   "cell_type": "code",
   "execution_count": 33,
   "metadata": {},
   "outputs": [],
   "source": [
    "C_generator = RecurseRewind(advance,C_initial)\n",
    "for t,C in zip(t_range,C_generator):\n",
    "    # Do something with the PDE solution C at time t\n",
    "    # Ex : compute the optimal step\n",
    "    pass\n",
    "\n",
    "C_generator.reversed=True\n",
    "velocity_generator = (cupy_get(BestVelocity(C,velocity,cost,scheme0)) for C in C_generator) \n",
    "geodesics = odeint_array( velocity_generator ,y0,t_range[::-1],X)\n",
    "for geo in geodesics.T: plt.plot(*geo)"
   ]
  },
  {
   "cell_type": "markdown",
   "metadata": {},
   "source": [
    "## 3. Data driven cost\n",
    "\n",
    "In this section, we run the algorithm with a set of costs and velocities that are closer to a real use case.\n",
    "The set of velocities, is chosen in accordance with a dataset provided by collaborators. In the local orthonormal frame these velocities read as follows."
   ]
  },
  {
   "cell_type": "code",
   "execution_count": 34,
   "metadata": {},
   "outputs": [],
   "source": [
    "velocity_norm = [5,7,8,9,10,12,14,16,18] # Boat velocity in knots\n",
    "velocity_nangle = 48 if large_instances else 24\n",
    "velocity_angle = xp.linspace(0,2*np.pi,velocity_nangle,endpoint=False)\n",
    "velocity = np.moveaxis(ad.array([ [(s*np.cos(θ),s*np.sin(θ)) for s in velocity_norm] for θ in velocity_angle]),-1,0)"
   ]
  },
  {
   "cell_type": "markdown",
   "metadata": {},
   "source": [
    "### 3.1 Interpolation of the costs\n",
    "\n",
    "We use some synthetic data samples. The costs are interpolated w.r.t. the meteorological conditions:\n",
    "wind speed, wave period and height.\n",
    "\n",
    "They correspond to a wind coming from the right, and are provided for a range of velocities and angles.\n",
    "We do interpolate the costs w.r.t angle, but not velocity. The angular interpolation allows to use a fixed set of velocities, independent of the wind direction, thus greatly improves the numerical efficiency of the scheme.\n",
    "\n",
    "<!---\n",
    "conditions_all = {\n",
    "    'True wind speed (kt)':[0, 5, 8, 10, 14, 18, 22, 26, 30, 35, 40],\n",
    "    'Mean wave period (s)':[2, 4, 5.5, 7.5, 9, 10.5, 13, 16],\n",
    "    'Significant wave height (m)':[0, 1.5, 3, 4.5, 6, 7.5, 10],\n",
    "}\n",
    "speed_entries = [5,7,8,9,10,12,14,16,18] # (knots ?) \n",
    "angle_entries = np.linspace(0,2*np.pi,25,endpoint=True)\n",
    "--->"
   ]
  },
  {
   "cell_type": "code",
   "execution_count": 35,
   "metadata": {},
   "outputs": [],
   "source": [
    "def MakeCosts():\n",
    "    \"\"\"Returns the an interpolation function for the costs, associated with the given conditions\"\"\"\n",
    "    \n",
    "    # Load the cost data file. See https://stackoverflow.com/a/61716809/12508258\n",
    "    try:\n",
    "        with open('TestData/ModelePerformanceNavire.npy','rb') as f: \n",
    "            costs = np.load(f)\n",
    "    except FileNotFoundError:\n",
    "        import requests,io\n",
    "        response = requests.get('https://mirebeau.github.io/AdaptiveGridDiscretizations/Notebooks_NonDiv/TestData/ModelePerformanceNavire.npy')\n",
    "        costs = np.load(io.BytesIO(response.content))  \n",
    "            \n",
    "    # Interpolation axes\n",
    "    ax_boat_speed = [5,7,8,9,10,12,14,16,18] # Boat speed (knots ?) \n",
    "    ax_wind_angle = np.linspace(0,2*np.pi,25,endpoint=True) # Boat angle w.r.t wind\n",
    "    ax_wind_speed = [0, 5, 8, 10, 14, 18, 22, 26, 30, 35, 40] # True wind speed (kt)\n",
    "    ax_wave_period = [2, 4, 5.5, 7.5, 9, 10.5, 13, 16] # Mean wave period (s)\n",
    "    ax_wave_height = [0, 1.5, 3, 4.5, 6, 7.5, 10] # Significant wave height (m)\n",
    "    \n",
    "    # Set angular variable in [0,2 pi] instead of [0,pi]\n",
    "    costs = np.concatenate((costs, costs[:,-2::-1]),axis=1) \n",
    "    # Move boat_speed and wind_angle last, for convenience \n",
    "    costs = np.moveaxis(costs,(0,1),(-1,-2)) \n",
    "\n",
    "    # Interpolation on the CPU for now\n",
    "    v_norm,v_angle = map(cupy_get,(velocity_norm,velocity_angle))\n",
    "    costsI = RegularGridInterpolator((ax_wind_speed,ax_wave_period,ax_wave_height,ax_wind_angle), costs)\n",
    "    assert np.allclose(v_norm,xp.array(ax_boat_speed)) # no interpolation needed on this axis\n",
    "    \n",
    "    def GetCosts(wind_angle,wind_speed,wave_period,wave_height):\n",
    "        \"\"\"Return the costs for all considered velocities of the boat, given the meteorological conditions\"\"\"\n",
    "        # Add one dimension for sampling all the velocity angles\n",
    "        wind_angle,wind_speed,wave_period,wave_height = (\n",
    "            cupy_get(fd.as_field(e,shape=velocity_angle.shape,conditional=False)) \n",
    "            for e in (wind_angle,wind_speed,wave_period,wave_height))\n",
    "        wind_rel_angle = (v_angle-wind_angle+np.pi) % (2*np.pi) \n",
    "\n",
    "        pt = np.array((wind_speed,wave_period,wave_height,wind_rel_angle)).T\n",
    "        extracted_costs = np.moveaxis(costsI(pt),-1,1) # velocity_angle,velocity_norm,...\n",
    "        return xp.asarray(extracted_costs)\n",
    "    \n",
    "    return GetCosts"
   ]
  },
  {
   "cell_type": "code",
   "execution_count": 36,
   "metadata": {},
   "outputs": [],
   "source": [
    "get_costs = MakeCosts()"
   ]
  },
  {
   "cell_type": "code",
   "execution_count": 37,
   "metadata": {},
   "outputs": [],
   "source": [
    "def show_displacement_cost(velocity,cost):\n",
    "    \"\"\"\n",
    "    Polar plot of the distance reachable for unit fuel consumption,\n",
    "    in all directions.\n",
    "    \"\"\"\n",
    "    ratio = velocity/cost\n",
    "    ratio = np.concatenate((ratio,ratio[:,:1]),axis=1)\n",
    "    \n",
    "    plt.title(\"Distance reached for unit fuel, at different boat speeds\")\n",
    "    plt.axis('equal')\n",
    "    plt.plot(*ratio)\n",
    "    plt.legend(norm(velocity[:,0],axis=0))\n",
    "    plt.scatter(0,0)"
   ]
  },
  {
   "cell_type": "markdown",
   "metadata": {},
   "source": [
    "### 3.2 Discussion of the fuel consumption\n",
    "\n",
    "The following polar plot presents the reachable distance per unit fuel for a boat, depending on the boat speed, on a flat sea: the wind speed and wave height are set to zero. The following remarks are in order:\n",
    "* The distance is independent of the boat direction, obviously, since there is no drag or drift due to the wind or waves.\n",
    "* The maximal distance is not achieved for the minimal speed, or the maximal speed, but for something in between. This suggests that the boat fuel consumption at rest is not zero."
   ]
  },
  {
   "cell_type": "code",
   "execution_count": 38,
   "metadata": {},
   "outputs": [],
   "source": [
    "show_displacement_cost(velocity,get_costs(0,0,4,0)) # wind speed and wave height are zero"
   ]
  },
  {
   "cell_type": "markdown",
   "metadata": {},
   "source": [
    "In the next plot, we introduce wind, in the direction $(1,0)$, horizontal and directed to the right (or is it the left ?).\n",
    "The reachable distance now depends on the direction. \n",
    "Interestingly, from the mathematical standpoint, the set delimited by this distance is non-convex, for some boat speeds.\n",
    "\n",
    "This property will not be reflected by the PDE solution, whose level set are expected to yield the convex envelope.\n",
    "More complex models, involving additional state variables with an adequate transition cost between states, are needed to properly reflect this behavior. See the introduction of this notebook."
   ]
  },
  {
   "cell_type": "code",
   "execution_count": 39,
   "metadata": {},
   "outputs": [],
   "source": [
    "show_displacement_cost(velocity,get_costs(0,12,9,3)) "
   ]
  },
  {
   "cell_type": "code",
   "execution_count": 40,
   "metadata": {},
   "outputs": [],
   "source": [
    "show_displacement_cost(velocity,get_costs(0,14,4,1.5)) "
   ]
  },
  {
   "cell_type": "markdown",
   "metadata": {},
   "source": [
    "Fuel cost for a rotated wind."
   ]
  },
  {
   "cell_type": "code",
   "execution_count": 41,
   "metadata": {},
   "outputs": [],
   "source": [
    "cost = get_costs(np.pi/3,14,4,1.5)\n",
    "show_displacement_cost(velocity,cost)"
   ]
  },
  {
   "cell_type": "markdown",
   "metadata": {},
   "source": [
    "Some fuel costs are only partially known. As mentioned in the introduction, the HJB PDE implicitly uses the convex envelope of the \n",
    "known costs, since they are used through their Legendre-Fenchel transform."
   ]
  },
  {
   "cell_type": "code",
   "execution_count": 42,
   "metadata": {},
   "outputs": [],
   "source": [
    "show_displacement_cost(velocity[:,:,:4],cost[:,:4])"
   ]
  },
  {
   "cell_type": "markdown",
   "metadata": {},
   "source": [
    "### 3.3 Numerical solution\n",
    "\n",
    "We consider constant weather conditions, and reproduce the above curves from the PDE solution. "
   ]
  },
  {
   "cell_type": "code",
   "execution_count": 43,
   "metadata": {},
   "outputs": [],
   "source": [
    "colors = plt.rcParams['axes.prop_cycle'].by_key()['color']"
   ]
  },
  {
   "cell_type": "code",
   "execution_count": 48,
   "metadata": {},
   "outputs": [],
   "source": [
    "# Coordinate system\n",
    "nX = 100 if large_instances else 50\n",
    "aX,dx = xp.linspace(-1,1,nX,retstep=True)\n",
    "X = ad.array(np.meshgrid(aX,aX,indexing='ij'))\n",
    "\n",
    "four_point = False\n",
    "\n",
    "# Wait until all domain is reached even at smallest speed\n",
    "t_max = 1./np.min(velocity_norm)\n",
    "dt = 0.5*CFL(velocity,dx,four_point) \n",
    "dt = float(dt) # cupy compatibility\n",
    "t_range = np.arange(0,t_max,dt)\n",
    "\n",
    "C_initial = 300 * norm(X,axis=0) \n",
    "\n",
    "scheme0 = MakeScheme0(C_initial,dx,velocity,four_point)"
   ]
  },
  {
   "cell_type": "markdown",
   "metadata": {},
   "source": [
    "In the next cell, we compute the cost for all times $t \\in [0,t_{\\max}]$. We also extract the cost $C_s$ corresponding to a boat reaching position $x$ at time $t = s\\| x\\|$, where $s\\in S$ belongs to the collection of speeds in our table."
   ]
  },
  {
   "cell_type": "code",
   "execution_count": 49,
   "metadata": {},
   "outputs": [
    {
     "name": "stdout",
     "output_type": "stream",
     "text": [
      "Wall time: 554 ms\n"
     ]
    }
   ],
   "source": [
    "%%time\n",
    "C_solution = ad.array(list(accumulate(\n",
    "    t_range[1:],\n",
    "    initial=C_initial,\n",
    "    func=lambda C_t,t: Scheme(C_t,dt,cost,scheme0)\n",
    ")))"
   ]
  },
  {
   "cell_type": "code",
   "execution_count": 50,
   "metadata": {},
   "outputs": [
    {
     "data": {
      "text/plain": [
       "(357, 100, 100)"
      ]
     },
     "execution_count": 50,
     "metadata": {},
     "output_type": "execute_result"
    }
   ],
   "source": [
    "C_solution.shape"
   ]
  },
  {
   "cell_type": "code",
   "execution_count": 51,
   "metadata": {},
   "outputs": [],
   "source": [
    "normX = norm(X,axis=0)\n",
    "C_cst_speed = []\n",
    "for speed in velocity_norm:\n",
    "    # Compute the time step corresponding to reaching a given point at constant speed\n",
    "    i = np.round(normX/(speed*dt)).astype(int)\n",
    "    i = np.minimum(i,len(C_solution)-1)\n",
    "    \n",
    "    # Extract the costs corresponding to a motion at constant speed\n",
    "    C_s = np.take_along_axis(C_solution, np.expand_dims(i,axis=0),axis=0)\n",
    "    C_cst_speed.append(np.squeeze(C_s,axis=0))  "
   ]
  },
  {
   "cell_type": "markdown",
   "metadata": {},
   "source": [
    "The level lines $C_s = cst$ are expected to coincide, in the limit as the grid scale tends to zero, with the convex envelope boundary of the similar lines in the last figure of the previous section. Numerically we observe such behavior, approximately, although the convergence order is rather slow, and the bias induced by the coordinate axes takes a while to disappear.\n",
    "\n",
    "**Note on the numerics.** The results do look a bit better if `large_instances` is `True`."
   ]
  },
  {
   "cell_type": "code",
   "execution_count": 52,
   "metadata": {},
   "outputs": [],
   "source": [
    "plt.scatter(0,0); plt.axis('equal')\n",
    "for speed,C_speed,color in zip(velocity_norm,C_cst_speed,colors):\n",
    "    plt.contour(*X,C_speed,levels=[40],colors=[color])"
   ]
  },
  {
   "cell_type": "code",
   "execution_count": 53,
   "metadata": {},
   "outputs": [],
   "source": [
    "plt.figure(figsize=[12,5])\n",
    "sl = slice(3,7)  # Selection of speeds to be shown\n",
    "\n",
    "plt.subplot(1,2,1)\n",
    "show_displacement_cost(velocity[:,:,sl],cost[:,sl])\n",
    "\n",
    "plt.subplot(1,2,2)\n",
    "plt.title('Likewise, numerical solution')\n",
    "plt.scatter(0,0); plt.axis('equal')\n",
    "for speed,C_speed,color in zip(velocity_norm[sl],C_cst_speed[sl],colors):\n",
    "    plt.contour(*X,C_speed,levels=[40],colors=[color])"
   ]
  },
  {
   "cell_type": "markdown",
   "metadata": {},
   "source": [
    "## 4. Complex environment\n",
    "\n",
    "We consider two more complex test cases, to illustrate the generality of the proposed scheme. The first one involves a simplified model, quadratic and time-independent, for comparison with the other numerical approaches. The second one involves time-dependent and data-driven costs."
   ]
  },
  {
   "cell_type": "markdown",
   "metadata": {},
   "source": [
    "### 4.1 Validation on a quadratic and static test case\n",
    "\n",
    "For comparison purposes, we reproduce a numerical example also considered in the notebooks on the [quadratic](BoatRouting_Time.ipynb) and [static](../Notebooks_FMM/BoatRouting.ipynb) variants of the problem. This example takes into account the earth spherical geometry, and uses quadratic and constant in time costs."
   ]
  },
  {
   "cell_type": "code",
   "execution_count": 54,
   "metadata": {},
   "outputs": [],
   "source": [
    "def MakeDomain(n,K_initial=3):\n",
    "    \"\"\"Produces the [-2,2]x[-1,1] domain along with some initial condition\"\"\"\n",
    "    # Setup the coordinate system\n",
    "    aX0,dx = xp.linspace(-2,2,2*n,retstep=True)\n",
    "    aX1 = xp.linspace(-1,1,n)\n",
    "    X = ad.array(np.meshgrid(aX0,aX1,indexing='ij'))\n",
    "    shape = X.shape[1:]\n",
    "\n",
    "    # Set the initial condition\n",
    "    seed = [-1.7,0.6]\n",
    "    C_initial = K_initial * norm(X - fd.as_field(seed,shape),axis=0)\n",
    "    \n",
    "    # Set the obstacles\n",
    "    walls = X[1]-np.abs(X[0])>=0\n",
    "    C_initial[walls] = np.nan\n",
    "    \n",
    "    return X,dx,C_initial"
   ]
  },
  {
   "cell_type": "code",
   "execution_count": 55,
   "metadata": {},
   "outputs": [],
   "source": [
    "# Setup the coordinate system and initial condition\n",
    "X,dx,C_initial = MakeDomain(100 if large_instances else 50)\n",
    "\n",
    "# Select the set of test velocities\n",
    "velocity_norm = xp.linspace(1.5,0,12,endpoint=False)\n",
    "velocity_nangle = 32 if large_instances else 16\n",
    "velocity_angle = xp.linspace(0,2*np.pi,velocity_nangle,endpoint=False)\n",
    "velocity = np.moveaxis(ad.array([[ (r*np.cos(θ),r*np.sin(θ)) \n",
    "    for r in velocity_norm] for θ in velocity_angle]),-1,0) \n",
    "\n",
    "# Quadratic and static model, introduced in \n",
    "μ,ω,M = np.ones_like(C_initial),BoatRouting.Currents(*X),BoatRouting.IntrinsicMetric(BoatRouting.Spherical,*X)\n",
    "μ,ω,M = tuple(e.reshape(e.shape[:-2]+(1,1)+e.shape[-2:]) for e in (μ,ω,M)) # Broadcast ...\n",
    "v = velocity.reshape(velocity.shape+(1,1)) # Broadcast ...\n",
    "cost = μ + 0.5* lp.dot_VAV(v-ω,M,v-ω)\n",
    "\n",
    "# Time steps\n",
    "t_max = 2.5\n",
    "dt = 0.5*CFL(velocity,dx)\n",
    "t_range = xp.arange(0,t_max,dt)"
   ]
  },
  {
   "cell_type": "markdown",
   "metadata": {},
   "source": [
    "Build the numerical scheme."
   ]
  },
  {
   "cell_type": "code",
   "execution_count": 56,
   "metadata": {},
   "outputs": [],
   "source": [
    "four_point = False\n",
    "scheme0 = MakeScheme0(C_initial,dx,velocity,four_point)"
   ]
  },
  {
   "cell_type": "code",
   "execution_count": 57,
   "metadata": {},
   "outputs": [
    {
     "name": "stderr",
     "output_type": "stream",
     "text": [
      "C:\\Users\\jmmir\\miniconda3\\envs\\agd-hfm_cuda\\lib\\site-packages\\cupy\\_statistics\\order.py:142: RuntimeWarning: All-NaN slice encountered\n",
      "  warnings.warn('All-NaN slice encountered', RuntimeWarning)\n"
     ]
    },
    {
     "name": "stdout",
     "output_type": "stream",
     "text": [
      "Wall time: 926 ms\n"
     ]
    }
   ],
   "source": [
    "%%time\n",
    "C_solution = ad.array(list(accumulate(\n",
    "    t_range[1:],\n",
    "    initial=C_initial,\n",
    "    func=lambda C_t,t : Scheme(C_t,dt,cost,scheme0)\n",
    ")))"
   ]
  },
  {
   "cell_type": "markdown",
   "metadata": {},
   "source": [
    "We extract and display the optimal arrival time, and the corresponding minimal cost.\n",
    "The results correspond, visually at least, to those displayed within the notebooks on the [quadratic](BoatRouting_Time.ipynb) and [static](../Notebooks_FMM/BoatRouting.ipynb) variants of the numerical scheme."
   ]
  },
  {
   "cell_type": "code",
   "execution_count": 58,
   "metadata": {},
   "outputs": [],
   "source": [
    "C_opt = np.min(C_solution,axis=0)\n",
    "t_opt = t_range[np.argmin(C_solution,axis=0)]"
   ]
  },
  {
   "cell_type": "code",
   "execution_count": 59,
   "metadata": {},
   "outputs": [],
   "source": [
    "plt.figure(figsize=[16,4])\n",
    "\n",
    "plt.subplot(1,2,1); plt.axis('equal')\n",
    "plt.title(\"Optimal arrival times computed by the generic time dependent scheme\")\n",
    "plt.contourf(*X,t_opt); plt.colorbar()\n",
    "\n",
    "plt.subplot(1,2,2); plt.axis('equal')\n",
    "plt.title(\"Optimal costs computed by the generic time dependent scheme\")\n",
    "plt.contourf(*X,C_opt); plt.colorbar();"
   ]
  },
  {
   "cell_type": "markdown",
   "metadata": {},
   "source": [
    "Finally, we backtrack the geodesics from selected points. The trajectories are similar to those of the other notebooks, hopefully. Their polygonal nature is apparent, and due to the fact that we only consider finitely many distinct velocities.\n",
    "(The result looks much better if `large_instances` is `True`.)"
   ]
  },
  {
   "cell_type": "code",
   "execution_count": 60,
   "metadata": {},
   "outputs": [],
   "source": [
    "y0 = np.meshgrid(clinspace(-2,2,6),clinspace(-1,1,3),indexing='ij')\n",
    "y0 = xp.asarray(y0).reshape(2,-1)\n",
    "\n",
    "# Find the optimal arrival time\n",
    "best_step = np.argmin(interp(X,C_solution)(y0),axis=0) # Step of the simulation minimizing cost\n",
    "t_delay = len(t_range) - best_step-1 # Account for reversed time\n",
    "\n",
    "# Compute the optimal velocity, and extract the optimal paths\n",
    "C_velocity = [BestVelocity(C,velocity,cost,scheme0) for C in C_solution]\n",
    "geodesics = odeint_array(C_velocity[::-1],y0,t_range[::-1],X, t_delay=t_delay)"
   ]
  },
  {
   "cell_type": "code",
   "execution_count": 61,
   "metadata": {},
   "outputs": [],
   "source": [
    "plt.title(\"Optimal paths, for the optimal arrival time\"); \n",
    "plt.axis('equal'); plt.contourf(*X,np.isnan(C_initial),cmap='Greys') # Show the walls\n",
    "for geo,delay in zip(geodesics.T,t_delay): plt.plot(*geo[:,int(delay):]) # Drop the first points according to delay"
   ]
  },
  {
   "cell_type": "markdown",
   "metadata": {},
   "source": [
    "### 4.2 Time dependent, data driven cost\n",
    "\n",
    "We modify the model to feature a data driven cost, with a strong opposite wind in the middle at some point in time.\n",
    "\n",
    "We still want to take into account the geometry of the earth, but would like to avoid interpolating the cost data. For that purpose, we rescale the horizontal velocity component, according to the cosine of the latitude."
   ]
  },
  {
   "cell_type": "code",
   "execution_count": 62,
   "metadata": {},
   "outputs": [],
   "source": [
    "n=60 if large_instances else 30\n",
    "X,dx,C_initial = MakeDomain(n,K_initial=300)"
   ]
  },
  {
   "cell_type": "code",
   "execution_count": 63,
   "metadata": {},
   "outputs": [],
   "source": [
    "velocity_norm = [5,7,8,9,10,12,14,16,18] # Boat velocity in knots\n",
    "velocity_nangle = 48 if large_instances else 24\n",
    "velocity_angle = xp.linspace(0,2*np.pi,velocity_nangle,endpoint=False)\n",
    "velocity_flat = np.moveaxis(ad.array([ [(s*np.cos(θ),s*np.sin(θ)) for s in velocity_norm] for θ in velocity_angle]),-1,0)\n",
    "\n",
    "velocity = ad.array(fd.as_field(velocity_flat,X[0].shape))\n",
    "velocity[0] /= np.cos(X[1]) "
   ]
  },
  {
   "cell_type": "code",
   "execution_count": 64,
   "metadata": {},
   "outputs": [],
   "source": [
    "dt = 0.5*CFL(velocity,dx,four_point)\n",
    "t_max = 0.5\n",
    "t_range = xp.arange(0,t_max,dt)"
   ]
  },
  {
   "cell_type": "markdown",
   "metadata": {},
   "source": [
    "Let us choose some wind and wave orientation and strength. With the current implementation, the cost extraction and interpolation, from the tabulated data, is a bottleneck. (In particular it is not GPU accelerated.) For simplicity, we shift over time a wind map, that is computed once and for all."
   ]
  },
  {
   "cell_type": "code",
   "execution_count": 65,
   "metadata": {},
   "outputs": [],
   "source": [
    "def MakeMeteo(x,wind_coef=1.,retwind=False):\n",
    "    shape = x.shape[1:]\n",
    "    x0 = [0.,-1.5] # New origin. Wind turns around this center \n",
    "    x = x - fd.as_field(x0,shape)\n",
    "    r = norm(x,axis=0)\n",
    "    v = np.exp(-0.5*r**2) * ad.array([-x[1],x[0]])    \n",
    "    v0 = [2.,-1] # Some time independent wind\n",
    "    wind =  wind_coef*(30*v + 3*fd.as_field(v0,shape))\n",
    "    \n",
    "    if retwind: return wind\n",
    "    wind_angle = np.arctan2(wind[1],wind[0])\n",
    "    wind_speed = norm(wind,axis=0)\n",
    "    \n",
    "    wave_period = fd.as_field(9.,shape)  # (Not very inspired here)\n",
    "    wave_height = wind_speed/4. + 2.\n",
    "    return wind_angle,wind_speed,wave_period,wave_height"
   ]
  },
  {
   "cell_type": "code",
   "execution_count": 66,
   "metadata": {},
   "outputs": [],
   "source": [
    "plt.title(\"Wind map, adverse conditions (pushing the boat right to left).\")\n",
    "quiver(*X,*MakeMeteo(X,retwind=True),subsampling=(4,4))"
   ]
  },
  {
   "cell_type": "markdown",
   "metadata": {},
   "source": [
    "Meteo is defined over a slightly larger domain, shifted over time."
   ]
  },
  {
   "cell_type": "code",
   "execution_count": 67,
   "metadata": {},
   "outputs": [],
   "source": [
    "Xmeteo = ad.array(np.meshgrid(xp.linspace(-3,3,3*n),X[1,0,:],indexing='ij'))\n",
    "cost_ = get_costs(*MakeMeteo(Xmeteo.reshape((2,-1))))\n",
    "cost_ = cost_.reshape(cost_.shape[:-1]+Xmeteo.shape[1:])\n",
    "def cost(t,cost_):\n",
    "    # Input cost_ is shifted left to right from t=0 to t=t_max\n",
    "    i = int(np.floor(n*t/t_max)) \n",
    "    i = n-i-1\n",
    "    return cost_[:,:,i:(2*n+i),:] "
   ]
  },
  {
   "cell_type": "code",
   "execution_count": 68,
   "metadata": {},
   "outputs": [],
   "source": [
    "four_point = False\n",
    "scheme0 = MakeScheme0(C_initial,dx,velocity,four_point)"
   ]
  },
  {
   "cell_type": "code",
   "execution_count": 69,
   "metadata": {},
   "outputs": [
    {
     "name": "stderr",
     "output_type": "stream",
     "text": [
      "C:\\Users\\jmmir\\miniconda3\\envs\\agd-hfm_cuda\\lib\\site-packages\\cupy\\_statistics\\order.py:142: RuntimeWarning: All-NaN slice encountered\n",
      "  warnings.warn('All-NaN slice encountered', RuntimeWarning)\n"
     ]
    },
    {
     "name": "stdout",
     "output_type": "stream",
     "text": [
      "Wall time: 1.31 s\n"
     ]
    }
   ],
   "source": [
    "%%time\n",
    "C_solution = ad.array(list(accumulate(\n",
    "    t_range[1:],initial=C_initial,\n",
    "    func = lambda C,t: Scheme(C,dt,cost(t,cost_),scheme0)\n",
    ")))"
   ]
  },
  {
   "cell_type": "markdown",
   "metadata": {},
   "source": [
    "We compare the minimal paths leading to the same point at different times."
   ]
  },
  {
   "cell_type": "code",
   "execution_count": 70,
   "metadata": {},
   "outputs": [],
   "source": [
    "t_delay = np.array([(len(t_range)*i)//10 for i in range(10)])\n",
    "y0 = fd.as_field([1.8,-0.4], t_delay.shape)"
   ]
  },
  {
   "cell_type": "code",
   "execution_count": 71,
   "metadata": {},
   "outputs": [],
   "source": [
    "# Compute the optimal velocity, and extract the optimal paths\n",
    "C_velocity = [BestVelocity(C,velocity,cost(t,cost_),scheme0) for t,C in zip(t_range,C_solution)]"
   ]
  },
  {
   "cell_type": "code",
   "execution_count": 72,
   "metadata": {},
   "outputs": [],
   "source": [
    "geodesics = odeint_array(C_velocity[::-1],y0,t_range[::-1],X, t_delay=t_delay)"
   ]
  },
  {
   "cell_type": "markdown",
   "metadata": {},
   "source": [
    "The next figure clearly illustrates that the optimal path to reach a given point depends on the desired arrival time, if the model is time-dependent.\n",
    "Note that the boat journey starts on the left, and ends in the right. The following interpretation seems to match the observations:\n",
    "* If the arrival time $t \\in \\{0.05, 0.1, 0.15\\}$, then the *minimal path backatracking fails*, and the extracted path ends in the middle of the domain rather than at the seed point. \n",
    "* If the arrival time $t\\in \\{0.2,0.25,0.3\\}$, then the extracted path is almost always the same, and coincides with the path extracted in the absence of wind, which is the shortest path for the earth geometry in the navigable area. Note that the shortest path is not a straight line since we take into account the earth curvature.\n",
    "* If the arrival time $t \\in \\{0.35,...,0.5\\}$, then the optimal path takes the time to avoid the adverse weather conditions by staying in the north as long as possible."
   ]
  },
  {
   "cell_type": "code",
   "execution_count": 73,
   "metadata": {},
   "outputs": [],
   "source": [
    "plt.axis('equal'); plt.contourf(*X,np.isnan(C_initial),cmap='Greys')\n",
    "plt.title(\"Optimal path with adverse winds, for several arrival times\")\n",
    "for i,(geo,delay) in enumerate(zip(geodesics.T,t_delay)):\n",
    "    plt.plot(*geo[:,delay:]) # Drop the first points according to delay\n",
    "plt.scatter(*geodesics[-1,:,0],color='red') # seed point (start of path)\n",
    "plt.scatter(*y0[:,0],color='blue') # tip point (end of path)\n",
    "plt.legend(np.round(cupy_get(t_range[-t_delay-1]),decimals=2));"
   ]
  },
  {
   "cell_type": "markdown",
   "metadata": {},
   "source": [
    "The longest time, the lowest fuel cost, in this example, because this gives the boat the opportunity to avoid the adverse winds.\n",
    "Note that the latest three can be discarded, as the vehicle does not have the possibility to reach the target in so short time."
   ]
  },
  {
   "cell_type": "code",
   "execution_count": 74,
   "metadata": {},
   "outputs": [
    {
     "name": "stdout",
     "output_type": "stream",
     "text": [
      "Fuel cost for extracted path :  [262.9 251.4 244.2 248.1 272.  319.9 401.  561.3 733.5 906.6]\n",
      "Arrival time :  [0.5  0.45 0.4  0.35 0.3  0.25 0.2  0.15 0.1  0.05]\n"
     ]
    }
   ],
   "source": [
    "print(\"Fuel cost for extracted path : \", np.round(interp(X,C_solution)(y0[:,0])[-t_delay-1],decimals=1))\n",
    "print(\"Arrival time : \",np.round(t_range[-t_delay-1],decimals=2))"
   ]
  },
  {
   "cell_type": "markdown",
   "metadata": {},
   "source": [
    "For comparison, we repeat the experiment with no wind, and with favorable winds (instead of adverse)."
   ]
  },
  {
   "cell_type": "code",
   "execution_count": 75,
   "metadata": {},
   "outputs": [],
   "source": [
    "def OptimalVelocity(wind_coef):\n",
    "    # Produce the wind dependent \n",
    "    cost_ = get_costs(*MakeMeteo(Xmeteo.reshape((2,-1)),wind_coef))\n",
    "    cost_ = cost_.reshape(cost_.shape[:-1]+Xmeteo.shape[1:])\n",
    "    \n",
    "    C_solution = ad.array(list(accumulate(\n",
    "    t_range[1:],initial=C_initial,\n",
    "    func = lambda C,t: Scheme(C,dt,cost(t,cost_),scheme0)\n",
    "    )))\n",
    "    \n",
    "    C_velocity = [BestVelocity(C,velocity,cost(t,cost_),scheme0) for t,C in zip(t_range,C_solution)]\n",
    "    return C_solution,C_velocity"
   ]
  },
  {
   "cell_type": "markdown",
   "metadata": {},
   "source": [
    "Without any wind, as announced above, all the paths follow the same route from seed to tip, independently of the arrival time, which is simply the path of minimal length for the earth geometry and within the navigable area. This is with the exception excessively early arrival times $t\\leq 0.15$ for which no admissible path exists with the admissible boat velocities. "
   ]
  },
  {
   "cell_type": "code",
   "execution_count": 76,
   "metadata": {},
   "outputs": [
    {
     "name": "stderr",
     "output_type": "stream",
     "text": [
      "C:\\Users\\jmmir\\miniconda3\\envs\\agd-hfm_cuda\\lib\\site-packages\\cupy\\_statistics\\order.py:142: RuntimeWarning: All-NaN slice encountered\n",
      "  warnings.warn('All-NaN slice encountered', RuntimeWarning)\n"
     ]
    }
   ],
   "source": [
    "C_solution_0,C_velocity_0 = OptimalVelocity(0.) # No wind"
   ]
  },
  {
   "cell_type": "code",
   "execution_count": 77,
   "metadata": {},
   "outputs": [],
   "source": [
    "geodesics = odeint_array(C_velocity_0[::-1],y0,t_range[::-1],X, t_delay=t_delay)\n",
    "    \n",
    "plt.title(\"Optimal path without wind, for several arrival times\")\n",
    "plt.axis('equal'); plt.contourf(*X,np.isnan(C_initial),cmap='Greys')\n",
    "for i,(geo,delay) in enumerate(zip(geodesics.T,t_delay)):\n",
    "    plt.plot(*geo[:,delay:]) # Drop the first points according to delay\n",
    "plt.scatter(*geodesics[-1,:,0],color='red') # seed point (start of path)\n",
    "plt.scatter(*y0[:,0],color='blue') # tip point (end of path)\n",
    "plt.legend(np.round(cupy_get(t_range[-t_delay-1]),decimals=2));"
   ]
  },
  {
   "cell_type": "code",
   "execution_count": 78,
   "metadata": {},
   "outputs": [
    {
     "name": "stdout",
     "output_type": "stream",
     "text": [
      "Fuel cost for extracted path :  [219.4 211.6 209.9 218.  238.8 280.8 375.2 532.7 721.  904.1]\n"
     ]
    }
   ],
   "source": [
    "print(\"Fuel cost for extracted path : \", np.round(interp(X,C_solution_0)(y0[:,0])[-t_delay-1],decimals=1))"
   ]
  },
  {
   "cell_type": "markdown",
   "metadata": {},
   "source": [
    "With \"favorable\" winds, mostly left to right, the optimal paths are again changed."
   ]
  },
  {
   "cell_type": "code",
   "execution_count": 79,
   "metadata": {},
   "outputs": [
    {
     "name": "stderr",
     "output_type": "stream",
     "text": [
      "C:\\Users\\jmmir\\miniconda3\\envs\\agd-hfm_cuda\\lib\\site-packages\\cupy\\_statistics\\order.py:142: RuntimeWarning: All-NaN slice encountered\n",
      "  warnings.warn('All-NaN slice encountered', RuntimeWarning)\n"
     ]
    }
   ],
   "source": [
    "C_solution_1, C_velocity_1 = OptimalVelocity(-1) # Favorable wind"
   ]
  },
  {
   "cell_type": "code",
   "execution_count": 80,
   "metadata": {},
   "outputs": [
    {
     "name": "stdout",
     "output_type": "stream",
     "text": [
      "Wall time: 625 ms\n"
     ]
    },
    {
     "data": {
      "text/plain": [
       "<matplotlib.legend.Legend at 0x1c0676ace80>"
      ]
     },
     "execution_count": 80,
     "metadata": {},
     "output_type": "execute_result"
    }
   ],
   "source": [
    "%%time\n",
    "geodesics = odeint_array(C_velocity_1[::-1],y0,t_range[::-1],X, t_delay=t_delay)\n",
    "\n",
    "plt.title(\"Optimal path with favourable winds, for several arrival times\")\n",
    "plt.axis('equal'); plt.contourf(*X,np.isnan(C_initial),cmap='Greys')\n",
    "for i,(geo,delay) in enumerate(zip(geodesics.T,t_delay)):\n",
    "    plt.plot(*geo[:,delay:]) # Drop the first points according to delay\n",
    "plt.scatter(*geodesics[-1,:,0],color='red') # seed point (start of path)\n",
    "plt.scatter(*y0[:,0],color='blue') # tip point (end of path)\n",
    "plt.legend(np.round(cupy_get(t_range[-t_delay-1]),decimals=2));"
   ]
  },
  {
   "cell_type": "code",
   "execution_count": 81,
   "metadata": {},
   "outputs": [],
   "source": [
    "geodesics = odeint_array(C_velocity_1[::-1],y0,t_range[::-1],X, t_delay=t_delay)\n",
    "\n",
    "plt.title(\"Optimal path with favourable winds, for several arrival times\")\n",
    "plt.axis('equal'); plt.contourf(*X,np.isnan(C_initial),cmap='Greys')\n",
    "for i,(geo,delay) in enumerate(zip(geodesics.T,t_delay)):\n",
    "    plt.plot(*geo[:,delay:]) # Drop the first points according to delay\n",
    "plt.scatter(*geodesics[-1,:,0],color='red') # seed point (start of path)\n",
    "plt.scatter(*y0[:,0],color='blue') # tip point (end of path)\n",
    "plt.legend(np.round(cupy_get(t_range[-t_delay-1]),decimals=2));"
   ]
  },
  {
   "cell_type": "markdown",
   "metadata": {},
   "source": [
    "Some observation on the fuel costs:\n",
    "* The fuel costs for the adverse conditions (wind mostly right to left) are the highest.\n",
    "* The fuel costs in the absense of wind are the lowest. Indeed, the \"favourable\" conditions are not so much favourable : wind often goes left to right, but also often north or south, when it does not help, see the quiver plot below. This also explains why the trajectories do not go to the extreme south in that case.\n",
    "* The smallest cost, for some given wind conditions, is neither the earliest not the latest. This is because the boat fuel consumption at rest is significant, and because it also costs a lot to use full engine power to reduce travel time, see the discussion on the fuel consumption in section 3.2."
   ]
  },
  {
   "cell_type": "code",
   "execution_count": 82,
   "metadata": {},
   "outputs": [
    {
     "name": "stdout",
     "output_type": "stream",
     "text": [
      "Fuel cost in adverse conditions : [262.9 251.4 244.2 248.1 272.  319.9 401. ]\n",
      "Fuel cost in no wind conditions : [219.4 211.6 209.9 218.  238.8 280.8 375.2]\n",
      "Fuel cost in favourable conditions : [230.9 222.2 220.5 231.7 251.  292.4 384. ]\n",
      "Arrival time :  [0.5  0.45 0.4  0.35 0.3  0.25 0.2 ]\n"
     ]
    }
   ],
   "source": [
    "t_del = t_delay[:-3] # Remove the non-feasible arrival times\n",
    "for condition,C_sol in zip((\"adverse\",\"no wind\", \"favourable\"),(C_solution,C_solution_0,C_solution_1)):\n",
    "    print(f\"Fuel cost in {condition} conditions : {np.round(interp(X,C_sol)(y0[:,0])[-t_del-1],decimals=1)}\")\n",
    "print(\"Arrival time : \",np.round(t_range[-t_del-1],decimals=2))"
   ]
  },
  {
   "cell_type": "code",
   "execution_count": 83,
   "metadata": {},
   "outputs": [],
   "source": [
    "plt.title(\"Wind map, favourable conditions (pushing the boat left to right).\")\n",
    "quiver(*X,*MakeMeteo(X,-1,retwind=True),subsampling=(4,4))"
   ]
  },
  {
   "cell_type": "code",
   "execution_count": null,
   "metadata": {},
   "outputs": [],
   "source": []
  }
 ],
 "metadata": {
  "celltoolbar": "Format de la Cellule Texte Brut",
  "kernelspec": {
   "display_name": "Python 3 (ipykernel)",
   "language": "python",
   "name": "python3"
  },
  "language_info": {
   "codemirror_mode": {
    "name": "ipython",
    "version": 3
   },
   "file_extension": ".py",
   "mimetype": "text/x-python",
   "name": "python",
   "nbconvert_exporter": "python",
   "pygments_lexer": "ipython3",
   "version": "3.12.1"
  },
  "varInspector": {
   "cols": {
    "lenName": 16,
    "lenType": 16,
    "lenVar": 40
   },
   "kernels_config": {
    "python": {
     "delete_cmd_postfix": "",
     "delete_cmd_prefix": "del ",
     "library": "var_list.py",
     "varRefreshCmd": "print(var_dic_list())"
    },
    "r": {
     "delete_cmd_postfix": ") ",
     "delete_cmd_prefix": "rm(",
     "library": "var_list.r",
     "varRefreshCmd": "cat(var_dic_list()) "
    }
   },
   "types_to_exclude": [
    "module",
    "function",
    "builtin_function_or_method",
    "instance",
    "_Feature"
   ],
   "window_display": false
  }
 },
 "nbformat": 4,
 "nbformat_minor": 4
}
