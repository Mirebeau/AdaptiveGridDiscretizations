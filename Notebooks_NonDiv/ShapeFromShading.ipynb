{
 "cells": [
  {
   "cell_type": "markdown",
   "metadata": {},
   "source": [
    "# Adaptive PDE discretizations on Cartesian grids\n",
    "## Volume : Non-divergence form PDEs\n",
    "## Part : Eikonal equation and variants\n",
    "## Chapter : Shape from shading with oblique lighting"
   ]
  },
  {
   "cell_type": "markdown",
   "metadata": {},
   "source": [
    "In this notebook, we propose a discretization of the shape from shading PDE, which reads\n",
    "\\begin{equation}\n",
    "    I(p) = I_0 a \\frac{\\alpha \\partial_x u(p) + \\beta \\partial_y u(p) + \\gamma}{\\sqrt{1+\\|\\nabla u(p)\\|^2}}\n",
    "\\end{equation}\n",
    "for all $p \\in \\Omega$, and $u(p) = 0$ for all $p \\in \\partial \\Omega$.\n",
    "\n",
    "we denoted:\n",
    "- $\\Omega\\subset \\mathbb R^2$ is a bounded domain.\n",
    "- $u : \\Omega \\to \\mathbb R$ is an unknown surface elevation, to be computed.\n",
    "- $I_0$ is the light source intensity, and $a$ the albedo of the surface.\n",
    "- $I: \\Omega \\to \\mathbb R_+$ the reflected intensity.\n",
    "- The vector $(\\alpha, \\beta, -\\gamma)$ is unit and defines the incident direction of the light rays, and $\\gamma>0$. Without loss of generality, up to a reflection of the axes, we can assume that $\\alpha\\geq 0$ and $\\gamma\\geq 0$.\n",
    "\n",
    "The modeling is that the normal to the surface is proportional $(-\\nabla u(p), 1)$, hence the deposited light density is proportional to the cosine of the angle difference\n",
    "\\begin{equation}\n",
    "\\frac{(-\\nabla u(p),1)}{\\sqrt{1+\\|\\nabla u(p)\\|^2}} \\cdot (\\alpha, \\beta, -\\gamma).\n",
    "\\end{equation}\n",
    "We make the assumption $I(p)>0$ everywhere, which amounts to say that no shadows are cast. It implies that the above scalar product is positive.\n",
    "\n",
    "**Note** The numerical method developed in this notebook does not take advantage of the specific techniques developed for Anisotropic Monotone PDEs."
   ]
  },
  {
   "cell_type": "markdown",
   "metadata": {},
   "source": [
    "[**Summary**](Summary.ipynb) of volume Non-Divergence form PDEs, this series of notebooks.\n",
    "\n",
    "[**Main summary**](../Summary.ipynb) of the Adaptive Grid Discretizations \n",
    "\tbook of notebooks, including the other volumes.\n",
    "\n",
    "# Table of contents\n",
    "  * [1. Reformulation of the PDE and discretization](#1.-Reformulation-of-the-PDE-and-discretization)\n",
    "  * [2. Implementation](#2.-Implementation)\n",
    "  * [3. Testing](#3.-Testing)\n",
    "    * [3.1 Problem setting](#3.1-Problem-setting)\n",
    "    * [3.2 Consistency checks](#3.2-Consistency-checks)\n",
    "    * [3.3 Numerical solution](#3.3-Numerical-solution)\n",
    "    * [3.4 Other numerical examples](#3.4-Other-numerical-examples)\n",
    "  * [4. GPU acceleration](#4.-GPU-acceleration)\n",
    "\n",
    "\n",
    "\n",
    "**Acknowledgement.** Some of the experiments presented in these notebooks are part of \n",
    "ongoing research with Ludovic Métivier and Da Chen.\n",
    "\n",
    "Copyright Jean-Marie Mirebeau, Centre Borelli, ENS Paris-Saclay, CNRS, University Paris-Saclay"
   ]
  },
  {
   "cell_type": "markdown",
   "metadata": {},
   "source": [
    "## 0. Importing the required libaries"
   ]
  },
  {
   "cell_type": "code",
   "execution_count": 4,
   "metadata": {},
   "outputs": [],
   "source": [
    "import sys; sys.path.insert(0,\"..\") # Allow import of agd from parent directory (useless if conda package installed)\n",
    "#from Miscellaneous import TocTools; TocTools.displayTOC('ShapeFromShading','NonDiv')"
   ]
  },
  {
   "cell_type": "code",
   "execution_count": 5,
   "metadata": {
    "tags": [
     "ExportCode"
    ]
   },
   "outputs": [],
   "source": [
    "import numpy as np\n",
    "import matplotlib.pyplot as plt"
   ]
  },
  {
   "cell_type": "markdown",
   "metadata": {},
   "source": [
    "## 1. Reformulation of the PDE and discretization\n",
    "\n",
    "We rewrite the PDE as \n",
    "$$\n",
    "c(p) \\sqrt{1+\\|\\nabla u(p)\\|^2} = (\\alpha,\\beta) \\cdot \\nabla u(p) + \\gamma,\n",
    "$$\n",
    "where $c(p) :=  I(p)/(I_0 a)$. \n",
    "\n",
    "Let us denote this equation as $lhs=rhs$. In order to solve it we need to design a monotone scheme for one of the following.\n",
    "\n",
    "**Note on squaring both sides of the inequality.**\n",
    "It is very tempting to get rid of the square root, and consider the system $lhs^2 - rhs^2 = 0$, which is a quadratic function with respect to $\\nabla u(p)$. However, the second degree part in this equation is not positive definite in general, unless we do strong assumptions on the coefficients.\n",
    "After some thinking, this approach is abandoned.\n",
    "\n",
    "\n",
    "**Discretization.** We consider the PDE $lhs - rhs = 0$, which we discretize as follows:\n",
    "$$\n",
    "    c(p)\\sqrt{1+(\\delta^+_x u(p))^2 + (\\delta_y^+ u(p))^2} +\\alpha D^+_{-x} u(p) + \\beta D^+_{-x} u(p) - \\gamma = 0,\n",
    "$$\n",
    "where we denoted \n",
    "\\begin{align}\n",
    "    \\delta_x^+ u(p) &:= h^{-1}\\max \\{0,u(p)-u(p-h e_x), u(p)-u(p+h e_x)\\}, \\\\\n",
    "    D^+_{-x} u(p) &= h^{-1}(u(p)-u(p+h e_x)),\n",
    "\\end{align}\n",
    "with $e_x = (1,0)$ the unit vector along the $x$-axis, and $h$ the gridscale. Likewise in the $y$ direction.\n",
    "\n",
    "**Existence of a solution.** \n",
    "The above discrete system of equations admits a  sub-solution and a super solution, obtained as affine functions\n",
    "$$\n",
    "    u(p) = C + p\\cdot v.\n",
    "$$\n",
    "\n",
    "The constant term $C$ should be chosen so as to be below or above zero respectively at the boundary. The gradient should be chosen as follows.\n",
    "-  sub-solution. Choose $v = (\\alpha,\\beta)/\\gamma$ so that one has the equality $(\\alpha,\\beta)\\cdot v+\\gamma = \\sqrt{1+\\|v\\|^2}$ - indeed  $\\alpha^2+\\beta^2+\\gamma^2 =1$ by assumption. Conclude recalling that $c(p)<1$.\n",
    "-  super-solution. Choose an $v$ such that $(\\alpha,\\beta) \\cdot v + \\gamma = 0$. (The argument in the case of purely vertical illumination $\\alpha=\\beta=0$ is different.) Conclude recalling that $c(p)>0$. \n",
    "\n",
    "<!---\n",
    "\\begin{equation}\n",
    "    c(p)\\sqrt{1+\\|v\\|^2} - (\\alpha,\\beta)\\cdot v -\\gamma >0.\n",
    "\\end{equation}\n",
    "\n",
    "For instance, we can choose a multiple of $(\\alpha,\\beta)$ with sufficiently large norm. (the vector $v$ can point in an arbitrary direction if $(\\alpha,\\beta)=0$.\n",
    "--->\n",
    "\n",
    "Since the discretization is monotone, there is a solution.\n",
    "\n",
    "**Jacobi iteration.**\n",
    "We start with $u_0 = 0$, and iteratively obtain $u_{n+1}$ by solving pointwise a univariate equation. This equation is such that $u_{n+1}(p)$, with neighboring values unchanged, solves the discretized equation.\n",
    "\n",
    "By monotony of the discretization, and since the initialization is a sub-solution, this  defines an increasing sequence of sub-solutions. The sequence converges, and the limit is a solution."
   ]
  },
  {
   "cell_type": "markdown",
   "metadata": {},
   "source": [
    "## 2. Implementation\n",
    "\n",
    "The Jacobi iteration requires solving the following equation\n",
    "\\begin{equation}\n",
    "    c(p)\\sqrt{1+\\frac{(\\lambda-v_x)^2_+ +(\\lambda-v_y)^2_+}{h^2}} + \\alpha \\frac{\\lambda-w_x} h +\\beta\\frac{\\lambda-w_y} h - \\gamma = 0,\n",
    "\\end{equation}\n",
    "where $a_+ := \\max\\{0,a\\}$ for any $a \\in \\mathbb R$, and where\n",
    "\\begin{align}\n",
    "    v_x & := \\min\\{u(x+h e_x),u(x-he_x)\\}, & \n",
    "    w_x & := u(x+h e_x),\n",
    "\\end{align}\n",
    "and likewise for $v_y$, $w_y$.\n",
    "\n",
    "We write this as $lhs^2 == rhs^2$, solve a quadratic equation. Then we select the single root $\\lambda$ such that \n",
    "\\begin{equation}\n",
    "\\gamma \\geq \\alpha \\frac{\\lambda-w_x} h + \\beta \\frac{\\lambda-w_y} h.\n",
    "\\end{equation}\n",
    "This must be the smallest root.\n",
    "If the obtained value satisfies $\\lambda<v_x$ or $\\lambda<v_y$, then the corresponding term is removed from the equation and the process is repeated.\n",
    "\n",
    "**The quadratic equation.** It reads\n",
    "$$\n",
    "c(p)^2 (1+\\frac{(\\lambda-v_x)^2_+ +(\\lambda-v_y)^2_+}{h^2}) - (\\alpha \\frac{\\lambda-w_x} h +\\beta\\frac{\\lambda-w_y} h - \\gamma)^2 = 0\n",
    "$$\n",
    "\n",
    "In the case where $\\lambda \\geq \\max(v_x,v_y)$ we obtain,\n",
    "$$\n",
    "    \\lambda^2 (2 c(p)^2  - (\\alpha+\\beta)^2)\n",
    "    {-} 2 \\lambda (c(p)^2 (v_x+v_y) - (\\alpha+\\beta)(\\alpha w_x+\\beta w_y +h\\gamma)) + \n",
    "    (c(p)^2 (h^2+v_x^2+v_y^2) - (\\gamma h +\\alpha w_x+\\beta w_y)^2) = 0.\n",
    "$$\n",
    "We solve this equation, and check wether the assumption $\\lambda \\geq \\max(v_x,v_y)$ does hold. If that is not the case, then one must have, for  instance, $v_x \\leq \\lambda \\leq v_y$, the term $(\\lambda-v_y)^2_+$ can be discarded.\n"
   ]
  },
  {
   "cell_type": "code",
   "execution_count": 6,
   "metadata": {
    "tags": [
     "ExportCode"
    ]
   },
   "outputs": [],
   "source": [
    "def EvalScheme(cp,u,uc,params):\n",
    "    \"\"\"\n",
    "    Evaluates the (piecewise) quadratic equation defining the numerical scheme.\n",
    "    Inputs :\n",
    "     - uc : plays the role of λ\n",
    "    \"\"\"\n",
    "    alpha,beta,gamma,h = params\n",
    "    wx = np.roll(u,-1,axis=0)\n",
    "    wy = np.roll(u,-1,axis=1)\n",
    "    vx = np.minimum(wx,np.roll(u,1,axis=0))\n",
    "    vy = np.minimum(wy,np.roll(u,1,axis=1))\n",
    "\n",
    "    return (cp*np.sqrt(1+(np.maximum(0,uc-vx)**2+np.maximum(0,uc-vy)**2)/h**2) +\n",
    "            alpha*(uc-wx)/h+beta*(uc-wy)/h-gamma)"
   ]
  },
  {
   "cell_type": "code",
   "execution_count": 7,
   "metadata": {
    "tags": [
     "ExportCode"
    ]
   },
   "outputs": [],
   "source": [
    "def LocalSolve(cp,vx,vy,wx,wy,params):\n",
    "    \"\"\"\n",
    "    Solve the (piecewise) quadratic equation defining the numerical scheme.\n",
    "    Output: solution λ.\n",
    "    \"\"\"\n",
    "    alpha,beta,gamma,h = params\n",
    "    # Trying with two active positive parts \n",
    "    \n",
    "    # Quadratic equation coefficients.\n",
    "    # a lambda^2 - 2 b lambda + c =0\n",
    "    a = (2.*cp**2 - (alpha+beta)**2)\n",
    "    b = cp**2 *(vx+vy) - (alpha+beta)*(alpha*wx+beta*wy+h*gamma)\n",
    "    c = cp**2*(h**2+vx**2+vy**2)-(gamma*h+alpha*wx+beta*wy)**2\n",
    "    \n",
    "    delta = b**2 - a*c\n",
    "    good = np.logical_and(delta>=0,a!=0)\n",
    "    u = 0*cp;\n",
    "    # TODO : Is that the correct root selection ?\n",
    "    u[good] = (b[good]+np.sqrt(delta[good]))/a[good] \n",
    "\n",
    "    vmax = np.maximum(vx,vy)\n",
    "    good = np.logical_and(good,u>=vmax)\n",
    "    \n",
    "    # Trying with one active positive part\n",
    "    # TODO : restrict computations to not good points to save cpu time ?\n",
    "    \n",
    "    vmin = np.minimum(vx,vy)\n",
    "    a = (cp**2 - (alpha+beta)**2)\n",
    "    b = cp**2 *vmin - (alpha+beta)*(alpha*wx+beta*wy+h*gamma)\n",
    "    c = cp**2*(h**2+vmin**2)-(gamma*h+alpha*wx+beta*wy)**2\n",
    "\n",
    "    delta = b**2 - a*c\n",
    "    ggood = np.logical_and(np.logical_and(delta>=0,a!=0), 1-good)\n",
    "    u[ggood] = (b[ggood] +np.sqrt(delta[ggood]))/a[ggood]\n",
    "    \n",
    "    good = np.logical_or(good,np.logical_and(ggood,u>=vmin))\n",
    "    \n",
    "    # No active positive part\n",
    "    # equation becomes linear, a lambda - b = 0\n",
    "    a = alpha+beta+0.*cp\n",
    "    b = alpha*wx+beta*wy +gamma*h - cp*h\n",
    "    bad = np.logical_not(good)\n",
    "    u[bad]=b[bad]/a[bad]\n",
    "    return u\n",
    "    \n",
    "def JacobiIteration(u,Omega,c,params):\n",
    "    \"\"\"\n",
    "    One Jacobi iteration, returning the pointwise solution λ to the numerical scheme.\n",
    "    \"\"\"\n",
    "    wx = np.roll(u,-1,axis=0)\n",
    "    wy = np.roll(u,-1,axis=1)\n",
    "    vx = np.minimum(wx,np.roll(u,1,axis=0))\n",
    "    vy = np.minimum(wy,np.roll(u,1,axis=1))\n",
    "    \n",
    "#    sol=LocalSolve(c,vx,vy,wx,wy,params)\n",
    "    sol = u+LocalSolve(c,vx-u,vy-u,wx-u,wy-u,params)\n",
    "    u[Omega] = sol[Omega]"
   ]
  },
  {
   "cell_type": "markdown",
   "metadata": {},
   "source": [
    "## 3. Testing\n",
    "\n"
   ]
  },
  {
   "cell_type": "markdown",
   "metadata": {},
   "source": [
    "### 3.1 Problem setting\n",
    "\n",
    "Let choose a coordinate system, and the model parameters."
   ]
  },
  {
   "cell_type": "code",
   "execution_count": 8,
   "metadata": {},
   "outputs": [],
   "source": [
    "# Coordinate system\n",
    "h=1/100.\n",
    "X,Y = np.meshgrid(np.arange(0,1,h),np.arange(0,1,h),indexing='ij')\n",
    "\n",
    "# Shading parameters\n",
    "ω = 0.15*np.array([1,2])\n",
    "α,β,γ = np.append(ω,1)/np.linalg.norm(np.append(ω,1))\n",
    "\n",
    "params = α,β,γ,h"
   ]
  },
  {
   "cell_type": "code",
   "execution_count": 9,
   "metadata": {},
   "outputs": [
    {
     "data": {
      "text/plain": [
       "(0.14221363894199318, 0.28442727788398636, 0.9480909262799545)"
      ]
     },
     "execution_count": 9,
     "metadata": {},
     "output_type": "execute_result"
    }
   ],
   "source": [
    "α,β,γ"
   ]
  },
  {
   "cell_type": "markdown",
   "metadata": {},
   "source": [
    "The test functions."
   ]
  },
  {
   "cell_type": "code",
   "execution_count": 10,
   "metadata": {
    "tags": [
     "ExportCode"
    ]
   },
   "outputs": [],
   "source": [
    "def OneBump(x,y):\n",
    "    bump = 0.5-3.*((x-0.5)**2+(y-0.5)**2)\n",
    "    return np.maximum(bump, np.zeros_like(x))\n",
    "\n",
    "def ThreeBumps(x,y):\n",
    "    bump1 = 0.3-3*((x-0.4)**2+(y-0.5)**2)\n",
    "    bump2 = 0.25-3*((x-0.65)**2+(y-0.6)**2)\n",
    "    bump3 = 0.25-3*((x-0.6)**2+(y-0.35)**2)\n",
    "    return np.maximum.reduce([bump1,bump2,bump3,np.zeros_like(bump1)])\n",
    "\n",
    "def Volcano(x,y):\n",
    "    r = np.sqrt((x-0.5)**2+(y-0.5)**2)\n",
    "    volcano = 0.05+1.5*(1+x)*(r**2-6*r**4)\n",
    "    return np.maximum(volcano, np.zeros_like(x))"
   ]
  },
  {
   "cell_type": "markdown",
   "metadata": {},
   "source": [
    "We generate a synthetic problem, and a synthetic r.h.s, by evaluating the differential operator on the test function. "
   ]
  },
  {
   "cell_type": "code",
   "execution_count": 11,
   "metadata": {
    "tags": [
     "ExportCode"
    ]
   },
   "outputs": [],
   "source": [
    "def GenerateRHS(height,params):\n",
    "    α,β,γ,h = params\n",
    "    hx,hy = np.gradient(height,h)\n",
    "    Intensity = (α*hx+β*hy+γ)/np.sqrt(1+hx**2+hy**2)\n",
    "    Omega = height>0\n",
    "    return Intensity,Omega"
   ]
  },
  {
   "cell_type": "code",
   "execution_count": 12,
   "metadata": {},
   "outputs": [],
   "source": [
    "height = Volcano(X,Y)\n",
    "Intensity,Omega = GenerateRHS(height,params)"
   ]
  },
  {
   "cell_type": "code",
   "execution_count": 13,
   "metadata": {},
   "outputs": [],
   "source": [
    "plt.figure(figsize=[14,5])\n",
    "\n",
    "plt.subplot(1,2,1)\n",
    "plt.title(\"Level lines of the height function to be recovered\")\n",
    "plt.contourf(X,Y,height); plt.colorbar(); plt.axis('equal')\n",
    "\n",
    "plt.subplot(1,2,2)\n",
    "plt.title(\"Level lines of the light intensity\")\n",
    "plt.contourf(X,Y,Intensity); plt.colorbar(); plt.axis('equal');"
   ]
  },
  {
   "cell_type": "markdown",
   "metadata": {},
   "source": [
    "### 3.2 Consistency checks\n",
    "\n",
    "Our discretization requires that the reflected intensity is positive everywhere."
   ]
  },
  {
   "cell_type": "code",
   "execution_count": 14,
   "metadata": {},
   "outputs": [
    {
     "name": "stdout",
     "output_type": "stream",
     "text": [
      "Minimal reflected intensity : 0.0642842362123776\n"
     ]
    }
   ],
   "source": [
    "print(f\"Minimal reflected intensity : {np.min(Intensity)}\")\n",
    "assert np.min(Intensity)>0"
   ]
  },
  {
   "cell_type": "markdown",
   "metadata": {},
   "source": [
    "Let us check that the numerical scheme, evaluated on the solution, yields a small residue. The residue is not exactly zero because numpy relies on centered finite differences (except along the boundary), which differ from the upwind finite differences used within our numerical scheme. This residue is largest where the height map is not differentiable, in particular along the boundary of the domain $\\Omega$."
   ]
  },
  {
   "cell_type": "code",
   "execution_count": 15,
   "metadata": {},
   "outputs": [],
   "source": [
    "plt.title(\"Residue of the numerical scheme applied to the known solution\")\n",
    "plt.contourf(X,Y,EvalScheme(Intensity,height,height,params));\n",
    "plt.colorbar();"
   ]
  },
  {
   "cell_type": "markdown",
   "metadata": {},
   "source": [
    "### 3.3 Numerical solution\n",
    "\n",
    "For faster convergence, we start with an over-estimate of the solution."
   ]
  },
  {
   "cell_type": "code",
   "execution_count": 16,
   "metadata": {},
   "outputs": [],
   "source": [
    "U=np.ones_like(X); U[np.logical_not(Omega)]=0; # Start with an overestimate : fast convergence\n",
    "#U=np.zeros_like(X)  # Start with an under-estimate : slow convergence"
   ]
  },
  {
   "cell_type": "markdown",
   "metadata": {},
   "source": [
    "After enough Jacobi iterations, we obtain the numerical solution to the scheme."
   ]
  },
  {
   "cell_type": "code",
   "execution_count": 17,
   "metadata": {},
   "outputs": [],
   "source": [
    "for i in range(800):\n",
    "    JacobiIteration(U,Omega,Intensity,[α,β,γ,h])"
   ]
  },
  {
   "cell_type": "code",
   "execution_count": 18,
   "metadata": {},
   "outputs": [],
   "source": [
    "residue = EvalScheme(Intensity,U,U,params)[Omega]\n",
    "assert np.allclose(residue,0.)"
   ]
  },
  {
   "cell_type": "markdown",
   "metadata": {},
   "source": [
    "The proposed approach is able to reconstruct a large portion of the height maps, but not everything. In particular, the hole in the middle of the volcano is *not* reproduced. This is an intrinsic limitation of the approach based on viscosity solutions."
   ]
  },
  {
   "cell_type": "code",
   "execution_count": 19,
   "metadata": {},
   "outputs": [],
   "source": [
    "plt.figure(figsize=[14,5])\n",
    "\n",
    "plt.subplot(1,2,1)\n",
    "plt.title('Reconstructed height map')\n",
    "plt.contourf(X,Y,U); plt.colorbar(); plt.axis('equal')\n",
    "\n",
    "plt.subplot(1,2,2)\n",
    "plt.title('Difference with the original height map')\n",
    "plt.contourf(X,Y,U-height); plt.colorbar(); plt.axis('equal');"
   ]
  },
  {
   "cell_type": "code",
   "execution_count": 20,
   "metadata": {},
   "outputs": [],
   "source": [
    "fig = plt.figure(figsize=[14,5])\n",
    "\n",
    "ax = fig.add_subplot(121,projection='3d')\n",
    "plt.title('Reconstructed height map')\n",
    "ax.plot_surface(X,Y,U);\n",
    "\n",
    "ax = fig.add_subplot(122,projection='3d')\n",
    "plt.title('Original height map')\n",
    "ax.plot_surface(X,Y,height);"
   ]
  },
  {
   "cell_type": "markdown",
   "metadata": {},
   "source": [
    "### 3.4 Other numerical examples\n",
    "\n",
    "In the case of the *three bumps* test function, the crater-like part, which cannot be recovered, is smaller and mostly located between two of the bumps."
   ]
  },
  {
   "cell_type": "code",
   "execution_count": 21,
   "metadata": {},
   "outputs": [],
   "source": [
    "height = ThreeBumps(X,Y)\n",
    "Intensity,Omega = GenerateRHS(height,params)"
   ]
  },
  {
   "cell_type": "code",
   "execution_count": 22,
   "metadata": {},
   "outputs": [],
   "source": [
    "U=np.ones_like(X); U[np.logical_not(Omega)]=0;\n",
    "for i in range(800):\n",
    "    JacobiIteration(U,Omega,Intensity,params)"
   ]
  },
  {
   "cell_type": "code",
   "execution_count": 23,
   "metadata": {},
   "outputs": [],
   "source": [
    "residue = EvalScheme(Intensity,U,U,params)[Omega]\n",
    "assert np.allclose(residue,0.)"
   ]
  },
  {
   "cell_type": "code",
   "execution_count": 24,
   "metadata": {},
   "outputs": [],
   "source": [
    "plt.figure(figsize=[14,5])\n",
    "\n",
    "plt.subplot(1,2,1)\n",
    "plt.title('Reconstructed height map')\n",
    "plt.contourf(X,Y,U); plt.colorbar(); plt.axis('equal')\n",
    "\n",
    "plt.subplot(1,2,2)\n",
    "plt.title('Difference with the original height map')\n",
    "plt.contourf(X,Y,U-height); plt.colorbar(); plt.axis('equal');"
   ]
  },
  {
   "cell_type": "code",
   "execution_count": 25,
   "metadata": {},
   "outputs": [],
   "source": [
    "fig = plt.figure(figsize=[14,5])\n",
    "\n",
    "ax = fig.add_subplot(121,projection='3d')\n",
    "plt.title('Reconstructed height map')\n",
    "ax.plot_surface(X,Y,U);\n",
    "\n",
    "ax = fig.add_subplot(122,projection='3d')\n",
    "plt.title('Original height map')\n",
    "ax.plot_surface(X,Y,height);"
   ]
  },
  {
   "cell_type": "markdown",
   "metadata": {},
   "source": [
    "Finally, the single bump function can be recovered quite accurately, since it does not have a crater-like part."
   ]
  },
  {
   "cell_type": "code",
   "execution_count": 26,
   "metadata": {},
   "outputs": [],
   "source": [
    "height = OneBump(X,Y)\n",
    "Intensity,Omega = GenerateRHS(height,params)"
   ]
  },
  {
   "cell_type": "code",
   "execution_count": 27,
   "metadata": {},
   "outputs": [],
   "source": [
    "U=np.ones_like(X); U[np.logical_not(Omega)]=0;\n",
    "for i in range(800):\n",
    "    JacobiIteration(U,Omega,Intensity,params)"
   ]
  },
  {
   "cell_type": "code",
   "execution_count": 28,
   "metadata": {},
   "outputs": [],
   "source": [
    "residue = EvalScheme(Intensity,U,U,params)[Omega]\n",
    "assert np.allclose(residue,0.)"
   ]
  },
  {
   "cell_type": "code",
   "execution_count": 29,
   "metadata": {},
   "outputs": [],
   "source": [
    "plt.figure(figsize=[14,5])\n",
    "\n",
    "plt.subplot(1,2,1)\n",
    "plt.title('Reconstructed height map')\n",
    "plt.contourf(X,Y,U); plt.colorbar(); plt.axis('equal')\n",
    "\n",
    "plt.subplot(1,2,2)\n",
    "plt.title('Difference with the original height map')\n",
    "plt.contourf(X,Y,U-height); plt.colorbar(); plt.axis('equal');"
   ]
  },
  {
   "cell_type": "code",
   "execution_count": 30,
   "metadata": {},
   "outputs": [],
   "source": [
    "fig = plt.figure(figsize=[14,5])\n",
    "\n",
    "ax = fig.add_subplot(121,projection='3d')\n",
    "plt.title('Reconstructed height map')\n",
    "ax.plot_surface(X,Y,U);\n",
    "\n",
    "ax = fig.add_subplot(122,projection='3d')\n",
    "plt.title('Original height map')\n",
    "ax.plot_surface(X,Y,height);"
   ]
  },
  {
   "cell_type": "markdown",
   "metadata": {},
   "source": [
    "## 4. GPU acceleration\n",
    "\n",
    "The code presented in this notebook is far from efficient, and a basic gpu implementation allows to improve computation time by several orders of magnitude. It is provided in the agd library."
   ]
  },
  {
   "cell_type": "code",
   "execution_count": 33,
   "metadata": {},
   "outputs": [],
   "source": [
    "from agd import AutomaticDifferentiation as ad\n",
    "if ad.cupy_generic.cp is None: raise ad.DeliberateNotebookError(\"cupy module not found\")\n",
    "from agd.Eikonal.HFM_CUDA import ShapeFromShading"
   ]
  },
  {
   "cell_type": "code",
   "execution_count": 34,
   "metadata": {},
   "outputs": [],
   "source": [
    "height = ThreeBumps(X,Y)\n",
    "Intensity,Omega = GenerateRHS(height,params)"
   ]
  },
  {
   "cell_type": "markdown",
   "metadata": {},
   "source": [
    "Computation is basically instantaneous, even on much larger test cases."
   ]
  },
  {
   "cell_type": "code",
   "execution_count": 59,
   "metadata": {},
   "outputs": [
    {
     "name": "stdout",
     "output_type": "stream",
     "text": [
      "Wall time: 12.9 ms\n"
     ]
    }
   ],
   "source": [
    "%%time\n",
    "sol = ShapeFromShading.Solve(Intensity,Omega,10*Omega,params).get()"
   ]
  },
  {
   "cell_type": "code",
   "execution_count": 55,
   "metadata": {},
   "outputs": [],
   "source": [
    "plt.title(\"GPU solution\"); plt.axis(\"equal\")\n",
    "plt.contourf(X,Y,sol); plt.colorbar();"
   ]
  },
  {
   "cell_type": "markdown",
   "metadata": {},
   "source": [
    "We can check that the solution is correct by looking at the residue of the numerical scheme."
   ]
  },
  {
   "cell_type": "code",
   "execution_count": 57,
   "metadata": {},
   "outputs": [
    {
     "name": "stdout",
     "output_type": "stream",
     "text": [
      "Largest residue :  2.6794602416058133e-05\n"
     ]
    }
   ],
   "source": [
    "residue = ShapeFromShading.EvalScheme(Intensity,sol,params,mask=Omega)\n",
    "max_residue = np.max(np.abs(residue))\n",
    "assert max_residue<1e-4\n",
    "print(\"Largest residue : \",max_residue)"
   ]
  },
  {
   "cell_type": "code",
   "execution_count": null,
   "metadata": {},
   "outputs": [],
   "source": []
  }
 ],
 "metadata": {
  "celltoolbar": "Format de la Cellule Texte Brut",
  "kernelspec": {
   "display_name": "Python 3 (ipykernel)",
   "language": "python",
   "name": "python3"
  },
  "language_info": {
   "codemirror_mode": {
    "name": "ipython",
    "version": 3
   },
   "file_extension": ".py",
   "mimetype": "text/x-python",
   "name": "python",
   "nbconvert_exporter": "python",
   "pygments_lexer": "ipython3",
   "version": "3.10.8"
  },
  "varInspector": {
   "cols": {
    "lenName": 16,
    "lenType": 16,
    "lenVar": 40
   },
   "kernels_config": {
    "python": {
     "delete_cmd_postfix": "",
     "delete_cmd_prefix": "del ",
     "library": "var_list.py",
     "varRefreshCmd": "print(var_dic_list())"
    },
    "r": {
     "delete_cmd_postfix": ") ",
     "delete_cmd_prefix": "rm(",
     "library": "var_list.r",
     "varRefreshCmd": "cat(var_dic_list()) "
    }
   },
   "types_to_exclude": [
    "module",
    "function",
    "builtin_function_or_method",
    "instance",
    "_Feature"
   ],
   "window_display": false
  }
 },
 "nbformat": 4,
 "nbformat_minor": 2
}