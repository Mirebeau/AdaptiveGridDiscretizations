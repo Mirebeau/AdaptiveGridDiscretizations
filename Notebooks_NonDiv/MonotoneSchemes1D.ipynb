{
 "cells": [
  {
   "cell_type": "markdown",
   "metadata": {},
   "source": [
    "# Adaptive PDE discretizations on Cartesian grids\n",
    "## Volume : Non-divergence form PDEs\n",
    "## Part : One space dimension\n",
    "## Chapter : Static problems\n",
    "\n",
    "This notebook illustrates the use of monotone finite difference schemes to compute viscosity solutions of PDEs, in one space dimension. (See the other notebooks for two dimensional examples.) We address both first order and second order, linear and non-linear schemes. \n",
    "\n",
    "For the best convenience, the numerical scheme jacobian matrix is assembled using automatic differentiation.\n"
   ]
  },
  {
   "cell_type": "markdown",
   "metadata": {},
   "source": [
    "[**Summary**](Summary.ipynb) of volume Non-Divergence form PDEs, this series of notebooks.\n",
    "\n",
    "[**Main summary**](../Summary.ipynb) of the Adaptive Grid Discretizations \n",
    "\tbook of notebooks, including the other volumes.\n",
    "\n",
    "# Table of contents\n",
    "  * [1. A first order linear equation](#1.-A-first-order-linear-equation)\n",
    "  * [2. A second order linear equation](#2.-A-second-order-linear-equation)\n",
    "  * [3. A non-linear equation](#3.-A-non-linear-equation)\n",
    "\n",
    "\n",
    "\n",
    "**Acknowledgement.** Some of the experiments presented in these notebooks are part of \n",
    "ongoing research with Ludovic Métivier and Da Chen.\n",
    "\n",
    "Copyright Jean-Marie Mirebeau, Centre Borelli, ENS Paris-Saclay, CNRS, University Paris-Saclay"
   ]
  },
  {
   "cell_type": "markdown",
   "metadata": {},
   "source": [
    "## 0. Importing the required libraries"
   ]
  },
  {
   "cell_type": "code",
   "execution_count": 1,
   "metadata": {},
   "outputs": [],
   "source": [
    "import sys; sys.path.insert(0,\"..\") # Allow import of agd from parent directory (useless if conda package installed)\n",
    "#from Miscellaneous import TocTools; TocTools.displayTOC('MonotoneSchemes1D','NonDiv')"
   ]
  },
  {
   "cell_type": "code",
   "execution_count": 2,
   "metadata": {},
   "outputs": [],
   "source": [
    "from agd import FiniteDifferences as fd\n",
    "from agd import AutomaticDifferentiation as ad"
   ]
  },
  {
   "cell_type": "code",
   "execution_count": 3,
   "metadata": {},
   "outputs": [],
   "source": [
    "import numpy as np\n",
    "import matplotlib.pyplot as plt"
   ]
  },
  {
   "cell_type": "markdown",
   "metadata": {},
   "source": [
    "Some utility functions"
   ]
  },
  {
   "cell_type": "code",
   "execution_count": 4,
   "metadata": {},
   "outputs": [],
   "source": [
    "newton_root = ad.Optimization.newton_root\n",
    "stop = ad.Optimization.stop_default\n",
    "def LInfNorm(a): return np.max(np.abs(np.array(a)))"
   ]
  },
  {
   "cell_type": "markdown",
   "metadata": {
    "tags": [
     "ExoSplit"
    ]
   },
   "source": [
    "## 1. A first order linear equation\n",
    "\n",
    "We numerically compute the *viscosity* solution of the equation\n",
    "$$\n",
    "    f(x) - u'(x)=0\n",
    "$$\n",
    "over some interval, with dirichlet boundary conditions.\n",
    "Unless the mean value of $f$ is compatible with the boundary conditions, this equation admits no classical solution. However the *viscosity* solution exists and is unique. It has a jump at the left endpoint. \n",
    "\n",
    "The monotone numerical scheme for this equation is \n",
    "$$\n",
    "    f(x) - \\frac{u(x+h)-u(x)} h = 0,\n",
    "$$\n",
    "in the interior, with the adequate boundary conditions.\n",
    "\n",
    "<!---ExoFR\n",
    "Compléter la fonction `Scheme` ci-dessous, qui renvoie le résidu du schéma numérique. C'est à dire la quantité qui doit s'annuler pour la solution.\n",
    "--->\n",
    "\n",
    "<!---ExoCode\n",
    "def Scheme(u,f,bc,gridScale):\n",
    "    residue = 0.*u ### TODO : correction needed. \n",
    "    ### Should approximate f-u' \n",
    "    ### Hint : fd.DiffUpwind(u,(1,),gridScale)\n",
    "    residue[0] = u[0]-bc[0]; residue[-1]= u[-1]-bc[1] # u[0]=0 and u[1]-1=0\n",
    "    return residue\n",
    "--->"
   ]
  },
  {
   "cell_type": "code",
   "execution_count": 5,
   "metadata": {
    "tags": [
     "ExoRemove"
    ]
   },
   "outputs": [],
   "source": [
    "def Scheme(u,f,bc,gridScale):\n",
    "    residue = f - fd.DiffUpwind(u,(1,),gridScale) # f-u' = 0 \n",
    "    residue[0] = u[0]-bc[0]; residue[-1]= u[-1]-bc[1] # u[0]=0 and u[1]-1=0\n",
    "    return residue"
   ]
  },
  {
   "cell_type": "code",
   "execution_count": 6,
   "metadata": {},
   "outputs": [],
   "source": [
    "X = np.linspace(0,1,21,endpoint=True)\n",
    "gridScale=X[1]-X[0]\n",
    "f = np.sin(np.pi*X)\n",
    "bc = (0,1)"
   ]
  },
  {
   "cell_type": "code",
   "execution_count": 7,
   "metadata": {},
   "outputs": [],
   "source": [
    "u=X \n",
    "residue = Scheme(u,f,bc,gridScale)\n",
    "plt.title('Scheme residue for u=X')\n",
    "plt.plot(X,residue);"
   ]
  },
  {
   "cell_type": "markdown",
   "metadata": {},
   "source": [
    "The next step is to assemble the linear system underlying the PDE. For that purpose we rely on sparse automatic differentiation."
   ]
  },
  {
   "cell_type": "code",
   "execution_count": 9,
   "metadata": {},
   "outputs": [],
   "source": [
    "u = ad.Sparse.identity(X.shape)\n",
    "residue = Scheme(u,f,bc,gridScale)"
   ]
  },
  {
   "cell_type": "markdown",
   "metadata": {},
   "source": [
    "Finally, we solve and plot the solution. Note the (expected) discontinuity at the boundary due to the selection of the viscosity solution."
   ]
  },
  {
   "cell_type": "code",
   "execution_count": 10,
   "metadata": {},
   "outputs": [
    {
     "name": "stdout",
     "output_type": "stream",
     "text": [
      "3.6637359812630166e-15\n"
     ]
    }
   ],
   "source": [
    "solution = residue.solve()\n",
    "solution_residue = Scheme(solution,f,bc,gridScale)\n",
    "print(LInfNorm(solution_residue))"
   ]
  },
  {
   "cell_type": "code",
   "execution_count": 11,
   "metadata": {},
   "outputs": [],
   "source": [
    "plt.title('Viscosity solution of a first order linear equation')\n",
    "plt.plot(X,solution);"
   ]
  },
  {
   "cell_type": "markdown",
   "metadata": {
    "tags": [
     "ExoSplit"
    ]
   },
   "source": [
    "## 2. A second order linear equation\n",
    "\n",
    "We consider the second order linear equation \n",
    "$$\n",
    "    -u''(x) + a(x) u'(x) + b(x) = 0,\n",
    "$$\n",
    "with again Dirichlet boundary conditions.\n",
    "\n",
    "There are two main differences w.r.t. the previous example:\n",
    "* We can use centered finite differences, for the first order term, provided the grid scale is small enough. Indeed, the monotony of the second order derivative dominates the first order.\n",
    "* There exists a classical solution, so the boundary conditions will be met at both endpoints.\n",
    "\n",
    "The monotone numerical scheme for this equation is \n",
    "$$\n",
    "    {-} \\frac{u(x+h)-2 u(x) +u(x-h)}{h^2} + a(x) \\frac{u(x+h)-u(x-h)}{2h} + b(x) = 0\n",
    "$$\n",
    "in the interior, with the adequate boundary conditions.\n",
    "\n",
    "<!---ExoFR\n",
    "Corriger la fonction suivante, qui doit renvoyer le résidu du schéma numérique ci-dessus.\n",
    "--->\n",
    "\n",
    "<!---ExoCode\n",
    "def Scheme(u,a,b,bc,gridScale):\n",
    "    residue = 0.*u ### TODO : correction needed.\n",
    "    ### Hint : fd.Diff2(u,(1,),gridScale)\n",
    "    ### Hint : fd.DiffCentered(u,(1,),gridScale)\n",
    "    residue[0] = u[0]-bc[0]; residue[-1]=u[-1]-bc[1]\n",
    "    return residue\n",
    "--->"
   ]
  },
  {
   "cell_type": "code",
   "execution_count": 12,
   "metadata": {
    "tags": [
     "ExoRemove"
    ]
   },
   "outputs": [],
   "source": [
    "def Scheme(u,a,b,bc,gridScale):\n",
    "    residue = -fd.Diff2(u,(1,),gridScale) + a*fd.DiffCentered(u,(1,),gridScale) + b\n",
    "    residue[0] = u[0]-bc[0]; residue[-1]=u[-1]-bc[1]\n",
    "    return residue"
   ]
  },
  {
   "cell_type": "code",
   "execution_count": 13,
   "metadata": {},
   "outputs": [],
   "source": [
    "X = np.linspace(0,1,21,endpoint=True)\n",
    "gridScale=X[1]-X[0]\n",
    "a = 3*np.sin(np.pi*X)\n",
    "b=1.\n",
    "bc = (0,0.1)"
   ]
  },
  {
   "cell_type": "code",
   "execution_count": 14,
   "metadata": {},
   "outputs": [],
   "source": [
    "u = ad.Sparse.identity(X.shape)\n",
    "residue = Scheme(u,a,b,bc,gridScale)"
   ]
  },
  {
   "cell_type": "code",
   "execution_count": 15,
   "metadata": {},
   "outputs": [
    {
     "name": "stdout",
     "output_type": "stream",
     "text": [
      "1.6431300764452317e-14\n"
     ]
    }
   ],
   "source": [
    "solution = u.value+residue.solve()\n",
    "print(LInfNorm(Scheme(solution,a,b,bc,gridScale)))"
   ]
  },
  {
   "cell_type": "code",
   "execution_count": 16,
   "metadata": {},
   "outputs": [],
   "source": [
    "plt.plot(X,solution);"
   ]
  },
  {
   "cell_type": "markdown",
   "metadata": {
    "tags": [
     "ExoSplit"
    ]
   },
   "source": [
    "## 3. A non-linear equation\n",
    "\n",
    "We consider the non-linear equation\n",
    "$$\n",
    "     -a(x)u''(x)+\n",
    "    d(x)|u'(x)-\\omega(x)|^2 -1 = 0,\n",
    "$$\n",
    "where $a$ is a non-negative function. \n",
    "We use again Dirichlet boundary conditions.\n",
    "\n",
    "When $a\\equiv 0$, and $d >0$ this problem becomes a particular case of an eikonal equation, with drift $\\omega$.\n",
    "If $d|\\omega|^2\\geq 1$, somewhere in the domain, then the undelying optimal control problem looses local controllability, and a discontinuity or boundary layer appears at an endpoint of the domain.\n",
    "\n",
    "In contrast with the previous examples, this equation is non-linear. Two discretization schemes can be considered, depending on the treatment of the first order term:\n",
    "* *Centered finite differences.* This discretization is second order consistent, and monotone provided the second order term dominates the first order term. This is typically the case if $a \\gtrsim h$, $d = \\mathcal O(1)$ and the first order derivative of the solution is bounded. \n",
    "$$\n",
    "    -a(x) \\frac{u(x+h)-2 u(x)+u(x-h)} {h^2} + d(x) \\left(\\frac{u(x+h)-u(x-h)}{2h} -\\omega(x)\\right)^2 - 1 = 0\n",
    "$$\n",
    "* *Upwind finite differences.* This discretization is only first order consistent, but remains monotone even if the second order coefficient $a$ vanishes (we still require $a \\geq 0$). \n",
    "$$\n",
    "    -a(x) \\frac{u(x+h)-2 u(x)+u(x-h)} {h^2} + d(x) \\max\\left\\{0, \\omega(x) - \\frac{u(x+h)-u(x)}{h}, -\\omega(x) -\\frac{u(x-h)-u(x)}{h}\\right\\}^2 - 1 = 0\n",
    "$$\n",
    "\n",
    "<!---ExoFR\n",
    "Corriger les deux fonctions suivantes, qui doivent renvoyer le résidu des schémas numériques ci-dessus.\n",
    "--->\n",
    "\n",
    "<!---ExoCode\n",
    "def SchemeCentered(u,a,d,omega,bc,h):\n",
    "    residue = 0.*u ### TODO : correction needed\n",
    "    ### Hint : fd.DiffCentered(u,(1,),h)\n",
    "    residue[0] = u[0]-bc[0]; residue[-1]=u[-1]-bc[1]\n",
    "    return residue\n",
    "\n",
    "def SchemeUpwind(u,a,d,omega,bc,h):\n",
    "    maxi = np.maximum\n",
    "    residue = ### TODO : correction needed\n",
    "    ### Hint : fd.DiffUpwind(u,(1,),h)\n",
    "    ### Hint : fd.DiffUpwind(u,(-1,),h)\n",
    "    residue[0] = u[0]-bc[0]; residue[-1]=u[-1]-bc[1]\n",
    "    return residue\n",
    "--->"
   ]
  },
  {
   "cell_type": "code",
   "execution_count": 20,
   "metadata": {
    "tags": [
     "ExoRemove"
    ]
   },
   "outputs": [],
   "source": [
    "def SchemeCentered(u,a,d,omega,bc,h):\n",
    "    residue = (-a*fd.Diff2(u,(1,),h) \n",
    "               + d*(fd.DiffCentered(u,(1,),h)-omega)**2\n",
    "               -1.)\n",
    "    residue[0] = u[0]-bc[0]; residue[-1]=u[-1]-bc[1]\n",
    "    return residue\n",
    "\n",
    "def SchemeUpwind(u,a,d,omega,bc,h):\n",
    "    maxi = np.maximum\n",
    "    residue = (-a*fd.Diff2(u,(1,),h) \n",
    "               + d*maxi(0.,maxi( omega - fd.DiffUpwind(u,(1,),h), \n",
    "                                -omega - fd.DiffUpwind(u,(-1,),h)) )**2\n",
    "               -1.)\n",
    "    residue[0] = u[0]-bc[0]; residue[-1]=u[-1]-bc[1]\n",
    "    return residue"
   ]
  },
  {
   "cell_type": "code",
   "execution_count": 21,
   "metadata": {},
   "outputs": [],
   "source": [
    "X = np.linspace(0,1,51,endpoint=True)\n",
    "gridScale=X[1]-X[0]\n",
    "a=0.1\n",
    "d=1.\n",
    "omega=-0.4\n",
    "bc = (0,0.1)\n",
    "\n",
    "guess = np.zeros(X.shape)"
   ]
  },
  {
   "cell_type": "code",
   "execution_count": 34,
   "metadata": {},
   "outputs": [
    {
     "name": "stdout",
     "output_type": "stream",
     "text": [
      "Centered discretization\n",
      "Iteration: 1  Residue norm: 29.898197384688963\n",
      "Iteration: 2  Residue norm: 7.21780769314384\n",
      "Iteration: 3  Residue norm: 1.3527690097988936\n",
      "Iteration: 4  Residue norm: 0.0536542494204284\n",
      "Iteration: 5  Residue norm: 3.8327705599972006e-05\n",
      "Iteration: 6  Residue norm: 1.1766143614977409e-11\n",
      "Target residue reached. Terminating.\n",
      "\n",
      "Upwind discretization\n",
      "Iteration: 1  Residue norm: 29.588778291338784\n",
      "Iteration: 2  Residue norm: 7.118351544328215\n",
      "Iteration: 3  Residue norm: 1.362298763130834\n",
      "Iteration: 4  Residue norm: 0.08101479548291834\n",
      "Iteration: 5  Residue norm: 0.0002119788463035288\n",
      "Iteration: 6  Residue norm: 1.0399192618137931e-09\n",
      "Target residue reached. Terminating.\n"
     ]
    }
   ],
   "source": [
    "params = (a,d,omega,bc,gridScale)\n",
    "print(\"Centered discretization\"); \n",
    "solution_centered = newton_root(SchemeCentered,guess,params)\n",
    "print()\n",
    "print(\"Upwind discretization\");   \n",
    "solution_upwind = newton_root(SchemeUpwind,guess,params)"
   ]
  },
  {
   "cell_type": "markdown",
   "metadata": {},
   "source": [
    "When the solution is smooth, there is not much difference between the centered and the upwind discretization."
   ]
  },
  {
   "cell_type": "code",
   "execution_count": 35,
   "metadata": {},
   "outputs": [],
   "source": [
    "plt.title(\"Centered and upwind scheme, smooth test case\")\n",
    "plt.plot(X,solution_centered,label=\"centered\")\n",
    "plt.plot(X,solution_upwind, label=\"upwind\");\n",
    "plt.legend();"
   ]
  },
  {
   "cell_type": "markdown",
   "metadata": {},
   "source": [
    "Increasing the drift value yields a boundary layer.\n",
    "(The first order part of the PDE does not correspond anymore to a locally controllable problem.)\n",
    "Because the first order derivative of the solution is not bounded, the centered second order scheme looses monotony, and the resulting numerical solution may be incorrect.  "
   ]
  },
  {
   "cell_type": "code",
   "execution_count": 37,
   "metadata": {},
   "outputs": [
    {
     "name": "stdout",
     "output_type": "stream",
     "text": [
      "Centered discretization\n",
      "Iteration: 1  Residue norm: 14.497311217649045\n",
      "Iteration: 2  Residue norm: 3.772179877026538\n",
      "Iteration: 3  Residue norm: 0.3176216437018198\n",
      "Iteration: 4  Residue norm: 0.023603400737066238\n",
      "Iteration: 5  Residue norm: 0.00010808252080352077\n",
      "Iteration: 6  Residue norm: 2.191988812683121e-09\n",
      "Target residue reached. Terminating.\n",
      "\n",
      "Upwind discretization\n",
      "Iteration: 1  Residue norm: 6.009152075099174\n",
      "Iteration: 2  Residue norm: 0.12080838760271462\n",
      "Iteration: 3  Residue norm: 4.8517600411912554e-05\n",
      "Iteration: 4  Residue norm: 3.154454475406965e-11\n",
      "Target residue reached. Terminating.\n"
     ]
    }
   ],
   "source": [
    "omega2 = 1.4\n",
    "params = (a,d,omega2,bc,gridScale)\n",
    "print(\"Centered discretization\"); \n",
    "solution_centered = newton_root(SchemeCentered,guess,params)\n",
    "print()\n",
    "print(\"Upwind discretization\");   \n",
    "solution_upwind = newton_root(SchemeUpwind,guess,params)\n",
    "\n",
    "plt.title(\"Centered and upwind scheme, with boundary layer\")\n",
    "plt.plot(X,solution_centered,label=\"centered\")\n",
    "plt.plot(X,solution_upwind, label=\"upwind\");\n",
    "plt.legend();"
   ]
  },
  {
   "cell_type": "markdown",
   "metadata": {},
   "source": [
    "We next remove the second order term, to get the standard eikonal equation.\n",
    "A problem arises : the jacobian matrix $J$ of the scheme may not be invertible. Fortunately, by degenerate ellipticity, \n",
    "$$\n",
    "    J+\\epsilon \\mathrm{Id},\n",
    "$$\n",
    "is guaranteed to be invertible, for any $\\epsilon>0$. \n",
    "(The non-invertibility issue may or may not arise depending on the initial conditions.)\n",
    "\n",
    "We note in this setting that:\n",
    "* The centered scheme looses monotonicity, and indeed fails to converge.\n",
    "* The upwind scheme requires $\\epsilon>0$ for solving the linear problems."
   ]
  },
  {
   "cell_type": "code",
   "execution_count": 40,
   "metadata": {},
   "outputs": [
    {
     "name": "stdout",
     "output_type": "stream",
     "text": [
      "Centered discretization\n",
      "Iteration: 1  Residue norm: 1.0170748113143362\n",
      "Iteration: 2  Residue norm: 35.89906406436524\n",
      "Iteration: 3  Residue norm: 8.359333644915653\n",
      "Iteration: 4  Residue norm: 1.4874380253486361\n",
      "Iteration: 5  Residue norm: 0.6737384280319165\n",
      "Iteration: 6  Residue norm: 0.6534559817560939\n",
      "Iteration: 8  Residue norm: 0.6466604024813406\n",
      "Iteration: 10  Residue norm: 0.645846959064744\n",
      "Iteration: 12  Residue norm: 0.6457316194653289\n",
      "Iteration: 14  Residue norm: 0.6457015780480149\n",
      "Iteration: 16  Residue norm: 0.645694102784308\n",
      "Iteration: 20  Residue norm: 0.6456917657746245\n",
      "Max iterations exceeded. Aborting.\n",
      "\n",
      "Upwind discretization\n",
      "Iteration: 1  Residue norm: 705.2273268435152\n",
      "Iteration: 2  Residue norm: 176.1775175937498\n",
      "Iteration: 3  Residue norm: 96.75023856617977\n",
      "Iteration: 4  Residue norm: 91.71254599177115\n",
      "Iteration: 5  Residue norm: 79.86122878563275\n",
      "Iteration: 6  Residue norm: 64.05715532164896\n",
      "Iteration: 8  Residue norm: 32.52211848671483\n",
      "Iteration: 10  Residue norm: 11.924303093653023\n",
      "Iteration: 12  Residue norm: 1.067622291649359\n",
      "Iteration: 14  Residue norm: 0.0065282559543760055\n",
      "Iteration: 16  Residue norm: 1.6623668072091036e-06\n",
      "Iteration: 20  Residue norm: 1.0759137580862443e-07\n",
      "Iteration: 24  Residue norm: 6.724472756403088e-09\n",
      "Target residue reached. Terminating.\n"
     ]
    }
   ],
   "source": [
    "# No second order term\n",
    "a2=0\n",
    "params = (a2,d,omega,bc,gridScale)\n",
    "\n",
    "# Relaxation of the linear problems\n",
    "epsilon=1\n",
    "relax = epsilon*ad.Sparse.identity(X.shape)\n",
    "\n",
    "print(\"Centered discretization\"); \n",
    "solution_centered = newton_root(SchemeCentered,guess,params,relax=relax,\n",
    "                               stop=stop(niter_max=20,raise_on_abort=False))\n",
    "print()\n",
    "print(\"Upwind discretization\");   \n",
    "solution_upwind = newton_root(SchemeUpwind,guess,params,relax=relax)\n",
    "\n",
    "plt.title(\"Centered and upwind scheme, eikonal equation\")\n",
    "plt.plot(X,solution_centered,label=\"centered\")\n",
    "plt.plot(X,solution_upwind, label=\"upwind\");\n",
    "plt.legend();"
   ]
  },
  {
   "cell_type": "code",
   "execution_count": 41,
   "metadata": {},
   "outputs": [],
   "source": [
    "plt.title(\"Upwind scheme, eikonal equation\")\n",
    "plt.plot(X,solution_upwind);"
   ]
  },
  {
   "cell_type": "code",
   "execution_count": null,
   "metadata": {},
   "outputs": [],
   "source": []
  }
 ],
 "metadata": {
  "celltoolbar": "Format de la Cellule Texte Brut",
  "kernelspec": {
   "display_name": "Python 3 (ipykernel)",
   "language": "python",
   "name": "python3"
  },
  "language_info": {
   "codemirror_mode": {
    "name": "ipython",
    "version": 3
   },
   "file_extension": ".py",
   "mimetype": "text/x-python",
   "name": "python",
   "nbconvert_exporter": "python",
   "pygments_lexer": "ipython3",
   "version": "3.10.8"
  },
  "varInspector": {
   "cols": {
    "lenName": 16,
    "lenType": 16,
    "lenVar": 40
   },
   "kernels_config": {
    "python": {
     "delete_cmd_postfix": "",
     "delete_cmd_prefix": "del ",
     "library": "var_list.py",
     "varRefreshCmd": "print(var_dic_list())"
    },
    "r": {
     "delete_cmd_postfix": ") ",
     "delete_cmd_prefix": "rm(",
     "library": "var_list.r",
     "varRefreshCmd": "cat(var_dic_list()) "
    }
   },
   "types_to_exclude": [
    "module",
    "function",
    "builtin_function_or_method",
    "instance",
    "_Feature"
   ],
   "window_display": false
  }
 },
 "nbformat": 4,
 "nbformat_minor": 2
}