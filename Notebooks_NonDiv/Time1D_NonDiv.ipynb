{
 "cells": [
  {
   "cell_type": "markdown",
   "metadata": {},
   "source": [
    "# Adaptive PDE discretizations on Cartesian grids\n",
    "## Volume : Non-divergence form PDEs\n",
    "## Part : One space dimension\n",
    "## Chapter : Advection and diffusion"
   ]
  },
  {
   "cell_type": "markdown",
   "metadata": {},
   "source": [
    "We illustrate the discretization of time dependent partial differential equations in dimension one: advection and diffusion (non-divergence form), whose PDE formulation read \n",
    "$$\n",
    "    \\frac {\\partial u}{\\partial t} = v(t,x) \\frac {\\partial u}{\\partial x} \n",
    "    \\quad \\text{and} \\quad\n",
    "    \\frac {\\partial u}{\\partial t} = v(t,x) \\frac {\\partial^2 u}{\\partial x^2}.\n",
    "$$"
   ]
  },
  {
   "cell_type": "markdown",
   "metadata": {
    "tags": [
     "ExoRemove"
    ]
   },
   "source": [
    "**Disclaimer.** This notebook does *not* contain original research. It is limited to elementary examples, and may serve as a gentle introduction to (some of) the numerical tools and techniques related to time discretization.\n",
    "My original research is rather devoted to the *spatial discretization* of PDE operators, which is irrelevant in here in dimension one. Examples in dimension two and higher, involving non-trivial geometrical constructions, will be presented in subsequent notebooks.\n",
    "\n",
    "**Related.** The discretization of time dependent *divergence* form PDEs is discussed [here](../Notebooks_Div/Time1D_Div.ipynb)."
   ]
  },
  {
   "cell_type": "markdown",
   "metadata": {},
   "source": [
    "[**Summary**](Summary.ipynb) of volume Non-Divergence form PDEs, this series of notebooks.\n",
    "\n",
    "[**Main summary**](../Summary.ipynb) of the Adaptive Grid Discretizations \n",
    "\tbook of notebooks, including the other volumes.\n",
    "\n",
    "# Table of contents\n",
    "  * [1. Advection](#1.-Advection)\n",
    "    * [1.1 Upwind scheme, for a positive velocity](#1.1-Upwind-scheme,-for-a-positive-velocity)\n",
    "      * [1.1.1 Numerical examples](#1.1.1-Numerical-examples)\n",
    "      * [1.1.2 Stability analysis](#1.1.2-Stability-analysis)\n",
    "    * [1.2 Upwind scheme, for a sign changing velocity](#1.2-Upwind-scheme,-for-a-sign-changing-velocity)\n",
    "    * [1.3 Lax-Friedrichs scheme](#1.3-Lax-Friedrichs-scheme)\n",
    "      * [1.3.1 Numerical examples](#1.3.1-Numerical-examples)\n",
    "      * [1.3.2 Stability analysis](#1.3.2-Stability-analysis)\n",
    "    * [1.4 Implicit scheme](#1.4-Implicit-scheme)\n",
    "  * [2. Diffusion](#2.-Diffusion)\n",
    "    * [2.1 Explicit scheme](#2.1-Explicit-scheme)\n",
    "    * [2.2 Implicit scheme](#2.2-Implicit-scheme)\n",
    "\n",
    "\n",
    "\n",
    "**Acknowledgement.** Some of the experiments presented in these notebooks are part of \n",
    "ongoing research with Ludovic Métivier and Da Chen.\n",
    "\n",
    "Copyright Jean-Marie Mirebeau, Centre Borelli, ENS Paris-Saclay, CNRS, University Paris-Saclay"
   ]
  },
  {
   "cell_type": "markdown",
   "metadata": {},
   "source": [
    "## 0. Importing the required libraries"
   ]
  },
  {
   "cell_type": "code",
   "execution_count": 1,
   "metadata": {},
   "outputs": [],
   "source": [
    "import sys; sys.path.insert(0,\"..\") # Allow import of agd from parent directory (useless if conda package installed)\n",
    "#from Miscellaneous import TocTools; print(TocTools.displayTOC('Time1D_NonDiv','NonDiv'))"
   ]
  },
  {
   "cell_type": "code",
   "execution_count": 2,
   "metadata": {},
   "outputs": [],
   "source": [
    "from agd import FiniteDifferences as fd\n",
    "from agd import AutomaticDifferentiation as ad\n",
    "from agd.Plotting import animation_curve"
   ]
  },
  {
   "cell_type": "code",
   "execution_count": 3,
   "metadata": {},
   "outputs": [],
   "source": [
    "import numpy as np\n",
    "import scipy.sparse\n",
    "from itertools import accumulate\n",
    "import matplotlib.pyplot as plt\n",
    "from matplotlib import rc; rc('animation', html='html5') # Web display"
   ]
  },
  {
   "cell_type": "markdown",
   "metadata": {},
   "source": [
    "Some utility functions"
   ]
  },
  {
   "cell_type": "code",
   "execution_count": 4,
   "metadata": {
    "tags": [
     "ExportCode"
    ]
   },
   "outputs": [],
   "source": [
    "#from itertools import accumulate # Accumulate with initial value only exists in Python >= 3.8\n",
    "def accumulate(iterable, func, initial):\n",
    "    yield initial\n",
    "    for element in iterable:\n",
    "        initial = func(initial, element)\n",
    "        yield initial"
   ]
  },
  {
   "cell_type": "markdown",
   "metadata": {},
   "source": [
    "## 1. Advection\n",
    "\n",
    "The advection equation governs the (non-conservative) transportation of a quantity $u$ at a given velocity $v$. The PDE formulation reads\n",
    "$$\n",
    "    \\partial_t u = v \\cdot \\nabla u,\n",
    "$$\n",
    "for all $t>0$, $x \\in \\Omega$. The vector field $v : \\Omega \\to R^d$ is given, where $\\Omega \\subset R^d$.\n",
    "We complement this equation with an initial value $u(t=0,x) = u_0(x)$, and Dirichlet or periodic boundary conditions.\n",
    "\n",
    "**Remark:** The advection equation has an explicit solution, namely \n",
    "$$\n",
    "    u(t,x) := u_0(\\phi_x(t)),\n",
    "$$\n",
    "where the flow $\\phi$ of the vector field $v$ satisfies the ODE (ordinary differential equation)\n",
    "$$\n",
    "    \\frac d {dt} \\phi_x(t) = v(\\phi_x(t)).\n",
    "$$\n",
    "\n",
    "We consider an advection equation over the time interval $T=[0,T_{\\max}]$, and space domain $X=[0,1]$ equipped with periodic boundary conditions."
   ]
  },
  {
   "cell_type": "code",
   "execution_count": 5,
   "metadata": {},
   "outputs": [],
   "source": [
    "Tmax = 0.8"
   ]
  },
  {
   "cell_type": "code",
   "execution_count": 6,
   "metadata": {},
   "outputs": [],
   "source": [
    "X,dx = np.linspace(0,1,100,endpoint=False,retstep=True)"
   ]
  },
  {
   "cell_type": "markdown",
   "metadata": {},
   "source": [
    "Discontinous, continuous, and $C^1$ smooth boundary conditions are considered."
   ]
  },
  {
   "cell_type": "code",
   "execution_count": 7,
   "metadata": {},
   "outputs": [],
   "source": [
    "u_disc = 1.*(X>=0.5)*(X<=0.75)\n",
    "u_cont = np.maximum(0.,(0.5-X)*(X-0.75)); u_cont/=np.max(u_cont)\n",
    "u_smooth = u_cont**2"
   ]
  },
  {
   "cell_type": "code",
   "execution_count": 8,
   "metadata": {},
   "outputs": [],
   "source": [
    "plt.title(\"Initial conditions\")\n",
    "plt.plot(X,u_disc, X,u_cont, X,u_smooth);\n",
    "plt.legend((\"discontinuous\",\"continuous\",\"smooth\"));"
   ]
  },
  {
   "cell_type": "markdown",
   "metadata": {},
   "source": [
    "We use a smooth velocity fields, which are constant, varying, or sign changing, depending on the spatial position. For simplicity, our velocity fields are time independent."
   ]
  },
  {
   "cell_type": "code",
   "execution_count": 9,
   "metadata": {},
   "outputs": [],
   "source": [
    "v_constant = 0.7\n",
    "v_positive = 0.7  + 0.4*np.sin(2.*np.pi*X)\n",
    "v_signed   = 0.25 + 0.4*np.sin(2.*np.pi*X)"
   ]
  },
  {
   "cell_type": "code",
   "execution_count": 10,
   "metadata": {},
   "outputs": [],
   "source": [
    "plt.title(\"Advection velocities\")\n",
    "plt.plot(X,v_constant+np.zeros_like(X), X,v_positive, X,v_signed)\n",
    "plt.legend((\"constant\",\"positive\",\"signed\"));"
   ]
  },
  {
   "cell_type": "markdown",
   "metadata": {
    "tags": [
     "ExoSplit"
    ]
   },
   "source": [
    "### 1.1 Upwind scheme, for a positive velocity\n",
    "\n",
    "We discretize the equation using upwind finite differences from the point $(x,t)$. The discretized system of equations reads\n",
    "$$\n",
    "    \\frac{u(t+\\delta t,x)-u(t,x)} {\\delta t} = v(t,x) \\frac{u(t,x+\\delta x)-u(t,x)} {\\delta x}.\n",
    "$$\n",
    "It can be put in an explicit form\n",
    "$$\n",
    "    u(t+\\delta t,x) = u(t,x) + \\delta t\\  v(t,x)\\frac{u(t,x+\\delta x)-u(t,x)} {\\delta x}.\n",
    "$$\n",
    "\n",
    "<!---ExoFR\n",
    "Corriger la ligne marquée `TODO` dans la fonction ci-dessous, qui doit renvoyer le membre de droite de la dernière équation ci-dessus.\n",
    "--->\n",
    "\n",
    "<!---ExoEN\n",
    "Correct the line marked `TODO` in the function below, which should return the right hand side of the last equation above.\n",
    "--->\n",
    "\n",
    "<!---ExoCode\n",
    "def AdvectionUpwindPositive(u,v,dx,dt):\n",
    "    \"\"\"Upwind scheme for one-dimensional advection with a positive velocity\"\"\"\n",
    "    return u ### TODO. Needs correction.\n",
    "    # Hint : fd.DiffUpwind(u,(1,),dx,padding=None) \n",
    "    # (No padding <=> periodic boundary conditions)\n",
    "--->"
   ]
  },
  {
   "cell_type": "code",
   "execution_count": 11,
   "metadata": {
    "tags": [
     "ExoRemove"
    ]
   },
   "outputs": [],
   "source": [
    "def AdvectionUpwindPositive(u,v,dx,dt):\n",
    "    \"\"\"Upwind scheme for one-dimensional advection with a positive velocity\"\"\"\n",
    "    return u+dt*v*fd.DiffUpwind(u,(1,),dx,padding=None) # No padding = periodic boundary conditions"
   ]
  },
  {
   "cell_type": "markdown",
   "metadata": {},
   "source": [
    "#### 1.1.1 Numerical examples\n",
    "With a sufficiently small time step, and a velocity with the correct sign, the numerical scheme is stable, see the discussion below. Note that the scheme suffers from significant numerical diffusion."
   ]
  },
  {
   "cell_type": "code",
   "execution_count": 12,
   "metadata": {},
   "outputs": [],
   "source": [
    "dt = 0.01\n",
    "solution =np.array(list(accumulate(\n",
    "    np.arange(0,Tmax,dt), # time interval\n",
    "    initial=u_disc, # initial condition\n",
    "    func=lambda u,t: AdvectionUpwindPositive(u,v_constant,dx,dt) # evolution rule\n",
    ")))"
   ]
  },
  {
   "cell_type": "code",
   "execution_count": 13,
   "metadata": {},
   "outputs": [],
   "source": [
    "animation_curve(X,solution)"
   ]
  },
  {
   "cell_type": "markdown",
   "metadata": {},
   "source": [
    "Our scheme applies without modification to non-constant velocities."
   ]
  },
  {
   "cell_type": "code",
   "execution_count": 14,
   "metadata": {},
   "outputs": [],
   "source": [
    "dt = 0.008\n",
    "solution =np.array(list(accumulate(\n",
    "    np.arange(0,1/0.7,dt), \n",
    "    initial=u_disc, \n",
    "    func=lambda u,t: AdvectionUpwindPositive(u,v_positive,dx,dt) \n",
    ")))"
   ]
  },
  {
   "cell_type": "code",
   "execution_count": 15,
   "metadata": {},
   "outputs": [],
   "source": [
    "animation_curve(X,solution)"
   ]
  },
  {
   "cell_type": "markdown",
   "metadata": {
    "tags": [
     "ExoSplit"
    ]
   },
   "source": [
    "#### 1.1.2 Stability analysis\n",
    "The scheme can be rewritten as \n",
    "$$\n",
    "    u(t+\\delta t,x) =(1- \\omega(t,x)) u(t,x)  +\\omega(t,x) u(t,x+\\delta x) \n",
    "$$\n",
    "where \n",
    "$$\n",
    "    \\omega(t,x) := v(t,x) \\frac{\\delta t}{\\delta x}\n",
    "$$\n",
    "As a result, it is stable in the $L^\\infty$ norm, provided $0 \\leq \\omega(t,x) \\leq 1$ for all $t,x$. This assumption is known as the Courant-Friedrichs-Levy (CFL) condition, and can be rewriten as \n",
    "$$\n",
    "    0 \\leq v_{\\min} \\quad \\text{ and } \\quad v_{\\max}\\ \\delta t \\leq \\delta x.\n",
    "$$\n",
    "for all $t,x$. \n",
    "\n",
    "<!---ExoFR\n",
    "Corriger la ligne marquée `TODO` dans la fonction ci-dessous, qui doit renvoyer le pas de temps $\\delta t$ maximal pour lequel la condition CFL est satisfaite.\n",
    "--->\n",
    "\n",
    "<!---ExoCode\n",
    "def AdvectionUpwindPositive_CFL(v,dx):\n",
    "    \"\"\"Returns the largest time step such that the advection scheme is stable\"\"\"\n",
    "    assert(np.min(v)>=0)\n",
    "    return 0 ### TODO : Needs correction.\n",
    "    # Hint : np.max\n",
    "--->"
   ]
  },
  {
   "cell_type": "code",
   "execution_count": 16,
   "metadata": {
    "tags": [
     "ExoRemove"
    ]
   },
   "outputs": [],
   "source": [
    "def AdvectionUpwindPositive_CFL(v,dx):\n",
    "    \"\"\"Returns the largest time step such that the advection scheme is stable\"\"\"\n",
    "    assert(np.min(v)>=0)\n",
    "    return dx/np.max(v)"
   ]
  },
  {
   "cell_type": "code",
   "execution_count": 17,
   "metadata": {},
   "outputs": [
    {
     "data": {
      "text/plain": [
       "0.014285714285714287"
      ]
     },
     "execution_count": 17,
     "metadata": {},
     "output_type": "execute_result"
    }
   ],
   "source": [
    "AdvectionUpwindPositive_CFL(v_constant,dx)"
   ]
  },
  {
   "cell_type": "markdown",
   "metadata": {},
   "source": [
    "As expected, this scheme is unstable, and the numerical solution diverges, if *the time step exceeds the bound from the CFL condition*, or if the *velocity as a negative sign*."
   ]
  },
  {
   "cell_type": "code",
   "execution_count": 18,
   "metadata": {},
   "outputs": [
    {
     "name": "stdout",
     "output_type": "stream",
     "text": [
      "(Excessive dt) Extremal solution values at t=Tmax :  -22.32598124669861 23.325981246698618\n"
     ]
    }
   ],
   "source": [
    "dt = 0.015 # excessive time step\n",
    "solution =np.array(list(accumulate(\n",
    "    np.arange(0,Tmax,dt), \n",
    "    initial=u_disc, \n",
    "    func=lambda u,t: AdvectionUpwindPositive(u,v_constant,dx,dt) \n",
    ")))\n",
    "print(\"(Excessive dt) Extremal solution values at t=Tmax : \", np.min(solution), np.max(solution))"
   ]
  },
  {
   "cell_type": "code",
   "execution_count": 19,
   "metadata": {},
   "outputs": [
    {
     "name": "stdout",
     "output_type": "stream",
     "text": [
      "(Wrong sign of velocity) Extremal solution values at t=Tmax :  -1.2820559447380729e+29 1.2820559342356734e+29\n"
     ]
    }
   ],
   "source": [
    "dt = 0.01\n",
    "solution =np.array(list(accumulate(\n",
    "    np.arange(0,Tmax,dt), \n",
    "    initial=u_disc, \n",
    "    func=lambda u,t: AdvectionUpwindPositive(u, -v_constant, dx,dt) # incorrect sign\n",
    ")))\n",
    "print(\"(Wrong sign of velocity) Extremal solution values at t=Tmax : \", np.min(solution), np.max(solution))"
   ]
  },
  {
   "cell_type": "markdown",
   "metadata": {
    "tags": [
     "ExoSplit"
    ]
   },
   "source": [
    "### 1.2 Upwind scheme, for a sign changing velocity\n",
    "\n",
    "We discretize the equation using upwind finite differences from the point $(x,t)$. The discretized system of equations reads\n",
    "$$\n",
    "    \\frac{u(t+\\delta t,x)-u(t,x)} {\\delta t} = |v(t,x)| \\frac{u(t,x+s(t,x)\\delta x)-u(t,x)} {\\delta x}.\n",
    "$$\n",
    "where $s(t,x)$ is the sign of $v(t,x)$.\n",
    "\n",
    "The implementation and stability analyses are straightforward extensions of the positive case.\n",
    "\n",
    "<!---ExoFR\n",
    "Compléter la ligne marquée TODO dans la fonction ci-dessous, qui doit renvoyer le membre de droite de la dernière équation ci-dessus.\n",
    "\n",
    "Compléter également la ligne marquée TODO de la fonction suivante, qui doit renvoyer le pas de temps maximal pour lequel la condition CFL est valable pour ce schéma.\n",
    "--->\n",
    "\n",
    "<!---ExoCode\n",
    "def AdvectionUpwind(u,v,dx,dt):\n",
    "    \"\"\"Upwind scheme for one-dimensional advection\"\"\"\n",
    "    offsets = np.sign(v).reshape(1,len(v)).astype(int)\n",
    "    return u ### TODO : Needs correction.\n",
    "    # Hint : fd.DiffUpwind(u,offsets,dx,padding=None) \n",
    "\n",
    "\n",
    "def AdvectionUpwind_CFL(v,dx):\n",
    "    \"\"\"Returns the largest time step such that the advection scheme is stable\"\"\"\n",
    "    return 0 ### TODO : Needs correction\n",
    "    #Hint np.abs\n",
    "--->"
   ]
  },
  {
   "cell_type": "code",
   "execution_count": 20,
   "metadata": {
    "tags": [
     "ExoRemove"
    ]
   },
   "outputs": [],
   "source": [
    "def AdvectionUpwind(u,v,dx,dt):\n",
    "    \"\"\"Upwind scheme for one-dimensional advection\"\"\"\n",
    "    offsets = np.sign(v).reshape(1,len(v)).astype(int)\n",
    "    return u+dt*np.abs(v)*fd.DiffUpwind(u,offsets,dx,padding=None) "
   ]
  },
  {
   "cell_type": "code",
   "execution_count": 21,
   "metadata": {
    "tags": [
     "ExoRemove"
    ]
   },
   "outputs": [],
   "source": [
    "def AdvectionUpwind_CFL(v,dx):\n",
    "    \"\"\"Returns the largest time step such that the advection scheme is stable\"\"\"\n",
    "    return dx/np.max(np.abs(v))"
   ]
  },
  {
   "cell_type": "code",
   "execution_count": 22,
   "metadata": {},
   "outputs": [
    {
     "data": {
      "text/plain": [
       "0.015384615384615384"
      ]
     },
     "execution_count": 22,
     "metadata": {},
     "output_type": "execute_result"
    }
   ],
   "source": [
    "AdvectionUpwind_CFL(v_signed,dx)"
   ]
  },
  {
   "cell_type": "markdown",
   "metadata": {},
   "source": [
    "The scheme now applies to velocity fields with arbirary sign."
   ]
  },
  {
   "cell_type": "code",
   "execution_count": 23,
   "metadata": {},
   "outputs": [],
   "source": [
    "dt = 0.01\n",
    "solution =np.array(list(accumulate(\n",
    "    np.arange(0,Tmax,dt), \n",
    "    initial=u_disc, \n",
    "    func=lambda u,t: AdvectionUpwind(u,v_signed,dx,dt)\n",
    ")))"
   ]
  },
  {
   "cell_type": "code",
   "execution_count": 24,
   "metadata": {},
   "outputs": [],
   "source": [
    "animation_curve(X,solution)"
   ]
  },
  {
   "cell_type": "markdown",
   "metadata": {
    "tags": [
     "ExoSplit"
    ]
   },
   "source": [
    "### 1.3 Lax-Friedrichs scheme\n",
    "\n",
    "This scheme introduces some additional viscosity, with a vanishing coefficient as the grid scale decreases, and uses centered finite differences for the first derivative. The introduced viscosity compensates the instability of centered finite differences, and yields a stable scheme. \n",
    "\n",
    "The scheme is second order consistent with the equation\n",
    "$$\n",
    "    \\frac {\\partial u}{\\partial t} = v(x,t) \\frac {\\partial u}{\\partial x} + \\frac{\\delta x^2} {2 \\delta t} \\frac {\\partial^2 u}{\\partial x^2}.\n",
    "$$\n",
    "Note that $\\delta t$ and $\\delta x$ are typically chosen proportional, as suggested by the CFL condition, and therefore $\\delta_x^2 / \\delta t \\to 0$ as the scale is refined.\n",
    "The discretization reads:\n",
    "$$\n",
    "    \\frac{u(t+\\delta t,x)-u(t,x)} {\\delta t}\n",
    "    = v(t,x) \\frac{u(t,x+\\delta x)-u(t,x-\\delta x)} {2\\delta x} \n",
    "    {+} \\frac{\\delta x^2}{2 \\delta t}\\frac{u(t,x+\\delta x)-2u(x,t)+u(t,x-\\delta x)} {\\delta x^2}\n",
    "$$\n",
    "\n",
    "<!---ExoFR\n",
    "Compléter la ligne marquée `TODO` de la fonction ci-dessous. Elle doit renvoyer l'expression de $u(t+\\delta t,x)$, qui se déduit de dernière équation ci-dessus.\n",
    "--->\n",
    "\n",
    "<!---ExoCode\n",
    "def AdvectionLaxFriedrichs(u,v,dx,dt):\n",
    "    \"\"\"Lax-Friedrichs scheme for one-dimensional advection\"\"\"\n",
    "    return u ### TODO : Needs correction\n",
    "    # Hint : fd.DiffCentered(u,(1,),dx,padding=None) # (Centered finite difference)\n",
    "    # Hint : fd.Diff2(u,(1,),dx,padding=None) # (Second order finite difference)\n",
    "--->"
   ]
  },
  {
   "cell_type": "code",
   "execution_count": 25,
   "metadata": {
    "tags": [
     "ExoRemove"
    ]
   },
   "outputs": [],
   "source": [
    "def AdvectionLaxFriedrichs(u,v,dx,dt):\n",
    "    \"\"\"Lax-Friedrichs scheme for one-dimensional advection\"\"\"\n",
    "    return u+dt*(\n",
    "        v*fd.DiffCentered(u,(1,),dx,padding=None) # Centered finite difference for advection\n",
    "        + (dx**2/(2*dt))*fd.Diff2(u,(1,),dx,padding=None) # Additional diffusion\n",
    "    ) "
   ]
  },
  {
   "cell_type": "markdown",
   "metadata": {},
   "source": [
    "#### 1.3.1 Numerical examples\n",
    "\n",
    "We illustrate the Lax-Friedrich scheme with a discontinuous initial condition, and a sign varying velocity.\n",
    "The scheme is stable, and approximates well the continuous solution. However, it is also subject to an surprising staircasing effect, due to the fact that the even and odd indices evolve independently of each other."
   ]
  },
  {
   "cell_type": "code",
   "execution_count": 26,
   "metadata": {},
   "outputs": [],
   "source": [
    "dt = 0.01\n",
    "solution =np.array(list(accumulate(\n",
    "    np.arange(0,Tmax,dt), \n",
    "    initial=u_disc, \n",
    "    func=lambda u,t: AdvectionLaxFriedrichs(u,v_signed,dx,dt)\n",
    ")))"
   ]
  },
  {
   "cell_type": "code",
   "execution_count": 27,
   "metadata": {},
   "outputs": [],
   "source": [
    "animation_curve(X,solution)"
   ]
  },
  {
   "cell_type": "markdown",
   "metadata": {},
   "source": [
    "The rapid oscillations appearing in the above animation are an artefact of the Lax-Friedrich scheme. They are due to the lack of interaction between values associated with discretization points of even and odd rank. These oscillations are not significantly amplified as time evolves."
   ]
  },
  {
   "cell_type": "markdown",
   "metadata": {},
   "source": [
    "#### 1.3.2 Stability analysis\n",
    "\n",
    "The scheme can be rewritten in the explicit form\n",
    "$$\n",
    "    u(t+\\delta t,x) \n",
    "    = \\frac 1 2 (1-v(t,x) \\frac {\\delta t}{\\delta x}) u(t,x-\\delta x)\n",
    "    {+} \\frac 1 2 (1+v(t,x) \\frac {\\delta t}{\\delta x}) u(t,x-\\delta x)\n",
    "$$\n",
    "and it is therefore stable under the following CFL condition: for all $t,x$\n",
    "$$\n",
    "    |v(t,x)| \\delta t \\leq \\delta x.\n",
    "$$\n",
    "The same CFL condition arose for the upwind advection scheme."
   ]
  },
  {
   "cell_type": "code",
   "execution_count": 28,
   "metadata": {},
   "outputs": [],
   "source": [
    "AdvectionLaxFriedrichs_CFL = AdvectionUpwind_CFL"
   ]
  },
  {
   "cell_type": "code",
   "execution_count": 29,
   "metadata": {},
   "outputs": [
    {
     "data": {
      "text/plain": [
       "0.015384615384615384"
      ]
     },
     "execution_count": 29,
     "metadata": {},
     "output_type": "execute_result"
    }
   ],
   "source": [
    "AdvectionLaxFriedrichs_CFL(v_signed,dx)"
   ]
  },
  {
   "cell_type": "markdown",
   "metadata": {
    "tags": [
     "ExoSplit"
    ]
   },
   "source": [
    "### 1.4 Implicit scheme\n",
    "\n",
    "Implicit schemes involve solving an inverse problem at each step. This has a substantial numerical cost, but it comes with strong benefits in terms of stability.\n",
    "\n",
    "We rewrite the upwind scheme implicitly, and obtain an unconditionally stable scheme, independently of the time step. Note that using an excessively large time step may still result in accuracy loss.\n",
    "\n",
    "We implement the numerical scheme defined by \n",
    "$$\n",
    "    \\frac{u(t+\\delta t,x)-u(t,x)} {\\delta t} \n",
    "    = |v(t,x)| \\frac{u(t+\\delta t,x+ s(x,t) \\delta x)-u(t+\\delta t,x)} {\\delta x}.\n",
    "$$\n",
    "where $s(x,t)$ is the sign of $v(x,t)$.\n",
    "Equivalently \n",
    "$$\n",
    "    u(t,x) = u(t+\\delta t,x) \n",
    "    {-} \\delta t \\ |v(t,x)| \\frac{u(t+\\delta t,x+s(x,t)\\delta x)-u(t+\\delta t,x)} {\\delta x}.\n",
    "$$\n",
    "\n",
    "<!---ExoFR\n",
    "Corriger la ligne marquée `TODO` dans la function ci-dessous. Elle doit renvoyer le membre de droite de la dernière équation ci-dessus. \n",
    "\n",
    "Note : La fonction passée en argument est $u(t+\\delta t, \\cdot)$.\n",
    "--->\n",
    "\n",
    "<!---ExoCode\n",
    "def AdvectionImplicit(u,v,dx,dt):\n",
    "    \"\"\"\n",
    "    Implicit scheme for one-dimensional advection. \n",
    "    This function defines u(t) in terms of u(t+dt).\n",
    "    \"\"\"\n",
    "    offsets = np.sign(v).reshape(1,len(v)).astype(int)\n",
    "    return u ### TODO : Needs correction.\n",
    "--->"
   ]
  },
  {
   "cell_type": "code",
   "execution_count": 30,
   "metadata": {
    "tags": [
     "ExoRemove"
    ]
   },
   "outputs": [],
   "source": [
    "def AdvectionImplicit(u,v,dx,dt):\n",
    "    \"\"\"\n",
    "    Implicit scheme for one-dimensional advection. \n",
    "    This function defines u(t) in terms of u(t+dt).\n",
    "    \"\"\"\n",
    "    offsets = np.sign(v).reshape(1,len(v)).astype(int)\n",
    "    return u-dt*np.abs(v)*fd.DiffUpwind(u,offsets,dx,padding=None) # Note the -abs(v)"
   ]
  },
  {
   "cell_type": "markdown",
   "metadata": {},
   "source": [
    "We rely on an automatic differentiation library to assemble (and solve) the linear system defined by the implicit scheme."
   ]
  },
  {
   "cell_type": "code",
   "execution_count": 31,
   "metadata": {},
   "outputs": [],
   "source": [
    "u_ad = ad.Sparse.identity((len(X),))"
   ]
  },
  {
   "cell_type": "code",
   "execution_count": 32,
   "metadata": {},
   "outputs": [],
   "source": [
    "dt = 0.05\n",
    "solution =np.array(list(accumulate(\n",
    "    np.arange(0,Tmax,dt), \n",
    "    initial=u_disc, \n",
    "    func=lambda u,t: (AdvectionImplicit(u_ad,v_signed,dx,dt) - u).solve()\n",
    ")))"
   ]
  },
  {
   "cell_type": "code",
   "execution_count": 33,
   "metadata": {},
   "outputs": [],
   "source": [
    "animation_curve(X,solution)"
   ]
  },
  {
   "cell_type": "markdown",
   "metadata": {},
   "source": [
    "Since we are repeatedly solving a fixed linear system, with a constant matrix, it makes sense to pre-factor it."
   ]
  },
  {
   "cell_type": "code",
   "execution_count": 34,
   "metadata": {},
   "outputs": [],
   "source": [
    "dt = 0.05\n",
    "\n",
    "# Factorise the jacobian matrix\n",
    "step_ad = AdvectionImplicit(u_ad,v_signed,dx,dt)\n",
    "jacobian = scipy.sparse.coo_matrix(step_ad.triplets()).tocsc()\n",
    "solver = scipy.sparse.linalg.factorized(jacobian)\n",
    "\n",
    "solution2 =np.array(list(accumulate(\n",
    "    np.arange(0,Tmax,dt), \n",
    "    initial=u_disc, \n",
    "    func=lambda u,t: solver(u)\n",
    ")))"
   ]
  },
  {
   "cell_type": "code",
   "execution_count": 35,
   "metadata": {},
   "outputs": [],
   "source": [
    "assert ad.Optimization.norm_infinity(solution-solution2) < 1e-15"
   ]
  },
  {
   "cell_type": "markdown",
   "metadata": {},
   "source": [
    "## 2. Diffusion\n",
    "\n",
    "We illustrate the explicit and implicit discretisation of diffusion, in non-divergence form.\n",
    "The PDE reads\n",
    "$$\n",
    "    \\frac {\\partial u}{\\partial t} = \\mu(t,x) \\frac {\\partial^2 u}{\\partial x^2}.\n",
    "$$\n",
    "It is discretized with periodic boundary conditions, and a given initial condition. Note that the diffusion coefficient $\\mu(t,x)$ must be non-negative."
   ]
  },
  {
   "cell_type": "code",
   "execution_count": 36,
   "metadata": {},
   "outputs": [],
   "source": [
    "mu_constant = 0.7\n",
    "mu_varying  = 0.7  + 0.4*np.sin(2.*np.pi*X)"
   ]
  },
  {
   "cell_type": "markdown",
   "metadata": {
    "tags": [
     "ExoSplit"
    ]
   },
   "source": [
    "### 2.1 Explicit scheme\n",
    "\n",
    "A finite difference discretization yields the following scheme, which is second order consistent in space, and first order consistent in time.\n",
    "$$\n",
    "    u(t+\\delta t,x) = u(t,x) \n",
    "    {+} \\delta t \\mu(t,x) \\frac {u(t,x+\\delta x) - 2 u(t,x) + u(t,x-\\delta x)}{\\delta x^2}.\n",
    "$$\n",
    "\n",
    "<!---ExoFR\n",
    "Corriger la ligne marquée `TODO` dans la fonction ci-dessous. Elle doit renvoyer le membre de droite de la dernière équation.\n",
    "--->\n",
    "\n",
    "<!---ExoCode\n",
    "def DiffusionExplicit(u,mu,dx,dt):\n",
    "    return u ### TODO : Needs correction.\n",
    "    # Hint : fd.Diff2(u,(1,),dx,padding=None)\n",
    "--->"
   ]
  },
  {
   "cell_type": "code",
   "execution_count": 37,
   "metadata": {
    "tags": [
     "ExoRemove"
    ]
   },
   "outputs": [],
   "source": [
    "def DiffusionExplicit(u,mu,dx,dt):\n",
    "    return u+dt*mu*fd.Diff2(u,(1,),dx,padding=None)"
   ]
  },
  {
   "cell_type": "markdown",
   "metadata": {
    "tags": [
     "ExoSplit"
    ]
   },
   "source": [
    "The stability analysis, in the $L^\\infty$ norm, yields the CFL condition\n",
    "$$\n",
    "    \\delta t\\  \\mu_{\\max} \\leq \\delta x^2.\n",
    "$$\n",
    "Thus $\\delta t$ scales quadratically with the spatial scale, which is a severe constraint, and implies a very large number of time steps.\n",
    "\n",
    "<!---ExoFR\n",
    "Compléter la ligne marquée `TODO` dans la fonction ci-dessous. Elle doit renvoyer le plus grand pas de temps pour lequel la condition CFL reste satisfaite.\n",
    "--->\n",
    "\n",
    "<!---ExoCode\n",
    "def DiffusionExplicit_CFL(mu,dx):\n",
    "    \"\"\"Largest time step such that scheme remains stable\"\"\"\n",
    "    assert np.min(mu)>=0.\n",
    "    return 0 ### TODO : Needs correction\n",
    "--->"
   ]
  },
  {
   "cell_type": "code",
   "execution_count": 38,
   "metadata": {
    "tags": [
     "ExoRemove"
    ]
   },
   "outputs": [],
   "source": [
    "def DiffusionExplicit_CFL(mu,dx):\n",
    "    \"\"\"Largest time step such that scheme remains stable\"\"\"\n",
    "    assert np.min(mu)>=0.\n",
    "    return dx**2/(2*np.max(mu))"
   ]
  },
  {
   "cell_type": "code",
   "execution_count": 39,
   "metadata": {},
   "outputs": [
    {
     "data": {
      "text/plain": [
       "4.545454545454545e-05"
      ]
     },
     "execution_count": 39,
     "metadata": {},
     "output_type": "execute_result"
    }
   ],
   "source": [
    "DiffusionExplicit_CFL(mu_varying,dx)"
   ]
  },
  {
   "cell_type": "code",
   "execution_count": 40,
   "metadata": {},
   "outputs": [],
   "source": [
    "dt = 0.5*DiffusionExplicit_CFL(mu_varying,dx)\n",
    "solution =np.array(list(accumulate(\n",
    "    np.arange(0,0.2,dt), \n",
    "    initial=u_disc, \n",
    "    func=lambda u,t: DiffusionExplicit(u,mu_varying,dx,dt)\n",
    ")))"
   ]
  },
  {
   "cell_type": "code",
   "execution_count": 41,
   "metadata": {},
   "outputs": [
    {
     "name": "stdout",
     "output_type": "stream",
     "text": [
      "Number of time steps: 8802\n"
     ]
    }
   ],
   "source": [
    "print(f\"Number of time steps: {len(solution)}\")"
   ]
  },
  {
   "cell_type": "code",
   "execution_count": 42,
   "metadata": {},
   "outputs": [],
   "source": [
    "animation_curve(X,solution[::100])"
   ]
  },
  {
   "cell_type": "markdown",
   "metadata": {
    "tags": [
     "ExoSplit"
    ]
   },
   "source": [
    "### 2.2 Implicit scheme\n",
    "\n",
    "The implicit scheme for (non-divergence form) diffusion reads:\n",
    "$$\n",
    "    u(t,x) = u(t+\\delta t,x) -\n",
    "    \\delta t \\mu(t,x) \\frac {u(t+\\delta t,x+\\delta x) - 2 u(t+\\delta t,x) + u(t+\\delta t,x-\\delta x)}{\\delta x^2}.\n",
    "$$\n",
    "It is unconditionally stable, provided the diffusion coefficient $\\mu$ is non-negative, hence arbitrary timesteps can be used.\n",
    "\n",
    "<!---ExoFR\n",
    "Compléter la ligne marquée `TODO` dans l'équation ci-dessous. Elle doit renvoyer le membre de droite de la dernière équation.\n",
    "\n",
    "Note : La fonction passée en argument et notée `u` représente $u(t+\\delta t,\\cdot)$.\n",
    "--->\n",
    "\n",
    "<!---ExoCode\n",
    "def DiffusionImplicit(u,mu,dx,dt):\n",
    "    return u ### TODO : Needs correction.\n",
    "--->"
   ]
  },
  {
   "cell_type": "code",
   "execution_count": 43,
   "metadata": {
    "tags": [
     "ExoRemove"
    ]
   },
   "outputs": [],
   "source": [
    "def DiffusionImplicit(u,mu,dx,dt):\n",
    "    return u-dt*mu*fd.Diff2(u,(1,),dx,padding=None)"
   ]
  },
  {
   "cell_type": "markdown",
   "metadata": {},
   "source": [
    "We rely on sparse automatic differentiation to assemble the linear system, and solve it."
   ]
  },
  {
   "cell_type": "code",
   "execution_count": 44,
   "metadata": {},
   "outputs": [],
   "source": [
    "u_ad = ad.Sparse.identity((len(X),))"
   ]
  },
  {
   "cell_type": "code",
   "execution_count": 45,
   "metadata": {},
   "outputs": [],
   "source": [
    "dt = 0.01\n",
    "solution =np.array(list(accumulate(\n",
    "    np.arange(0,0.2,dt), \n",
    "    initial=u_disc, \n",
    "    func=lambda u,t: (DiffusionImplicit(u_ad,mu_varying,dx,dt)-u).solve()\n",
    ")))"
   ]
  },
  {
   "cell_type": "code",
   "execution_count": 46,
   "metadata": {},
   "outputs": [],
   "source": [
    "animation_curve(X,solution)"
   ]
  },
  {
   "cell_type": "markdown",
   "metadata": {},
   "source": [
    "Since the same linear system is solved repeatedly, it makes sense to factor it."
   ]
  },
  {
   "cell_type": "code",
   "execution_count": 47,
   "metadata": {},
   "outputs": [],
   "source": [
    "dt = 0.01\n",
    "\n",
    "# Factorise the jacobian matrix\n",
    "step_ad = DiffusionImplicit(u_ad,mu_varying,dx,dt)\n",
    "jacobian = scipy.sparse.coo_matrix(step_ad.triplets()).tocsc()\n",
    "solver = scipy.sparse.linalg.factorized(jacobian)\n",
    "\n",
    "solution2 =np.array(list(accumulate(\n",
    "    np.arange(0,0.2,dt), \n",
    "    initial=u_disc, \n",
    "    func=lambda u,t: solver(u)\n",
    ")))"
   ]
  },
  {
   "cell_type": "code",
   "execution_count": 48,
   "metadata": {},
   "outputs": [],
   "source": [
    "assert ad.Optimization.norm_infinity(solution-solution2) < 1e-14"
   ]
  }
 ],
 "metadata": {
  "celltoolbar": "Format de la Cellule Texte Brut",
  "kernelspec": {
   "display_name": "Python 3 (ipykernel)",
   "language": "python",
   "name": "python3"
  },
  "language_info": {
   "codemirror_mode": {
    "name": "ipython",
    "version": 3
   },
   "file_extension": ".py",
   "mimetype": "text/x-python",
   "name": "python",
   "nbconvert_exporter": "python",
   "pygments_lexer": "ipython3",
   "version": "3.10.8"
  },
  "varInspector": {
   "cols": {
    "lenName": 16,
    "lenType": 16,
    "lenVar": 40
   },
   "kernels_config": {
    "python": {
     "delete_cmd_postfix": "",
     "delete_cmd_prefix": "del ",
     "library": "var_list.py",
     "varRefreshCmd": "print(var_dic_list())"
    },
    "r": {
     "delete_cmd_postfix": ") ",
     "delete_cmd_prefix": "rm(",
     "library": "var_list.r",
     "varRefreshCmd": "cat(var_dic_list()) "
    }
   },
   "types_to_exclude": [
    "module",
    "function",
    "builtin_function_or_method",
    "instance",
    "_Feature"
   ],
   "window_display": false
  }
 },
 "nbformat": 4,
 "nbformat_minor": 2
}