{
 "cells": [
  {
   "cell_type": "markdown",
   "metadata": {},
   "source": [
    "# Adaptive PDE discretizations on Cartesian grids\n",
    "## Volume : Non-divergence form PDEs\n",
    "## Part : One space dimension\n",
    "## Chapter : Optimal transport non-linearities and boundary conditions\n",
    "\n",
    "The PDE formulation of the optimal transport problem reads as follows:\n",
    "$$\n",
    "    f(x)-g(\\nabla u(x))\\det(\\nabla^2 u(x)) = 0,\n",
    "$$\n",
    "subject to the constraint\n",
    "$$\n",
    "    u \\quad \\text{convex},\n",
    "$$\n",
    "and the boundary condition\n",
    "$$\n",
    "    \\nabla u(X) = Y,\n",
    "$$\n",
    "where $X$ is the source domain, and $Y$ is the target domain. The parameters of the PDE are the densities $f$ and $g$, which are non-negative and subject to the compatibility condition\n",
    "$$\n",
    "    \\int_X f(x) dx = \\int_Y g(y) dy.\n",
    "$$\n",
    "\n",
    "This mathematical problem comes with a number of challenges, of both theoretical and numerical nature, including the:\n",
    "1. Full non-linearity of the second order operator.\n",
    "2. Constraint of convexity\n",
    "3. Unspecified non-linearity of the first order operator.\n",
    "4. Lack of a comparison principle.\n",
    "\n",
    "Challenges 1. and 2. are related with the Monge-Ampere operator $\\det(\\nabla^2 u)$. They are discussed  the notebook \n",
    "[C.I Monge-Ampere equations](http://nbviewer.jupyter.org/urls/rawgithub.com/Mirebeau/AdaptiveGridDiscretizations/master/Notebooks/MongeAmpere.ipynb)\n",
    "\n",
    "This notebook is devoted to challenges 3. and 4., in a simplified one dimensional setting.\n",
    "In practice, 3. is mostly an implementation problem. Substantial theoretical work has been required to address 4. however. It is based on the observation that the second boundary condition could be weakened into \n",
    "$$\n",
    "    \\nabla u(X) \\subset Y,\n",
    "$$\n",
    "and that equality must hold for the solution due to the compatibility condition relating the problem parameter densities.\n",
    "\n",
    "**Note on one dimensional optimal transport.**\n",
    "It is well known that one dimensional optimal transport (with a convex cost function) is nothing else than a sorting problem. As such it can be solved extremely efficiently, at a quasi-linear cost, and is considered a solved algorithmic problem.\n",
    "The interest of numerical techniques presented in this notebook lies is their possible extension to higher dimensions.\n",
    "\n",
    "**References**\n",
    "\n",
    "* Benamou, J.-D., & Duval, V. (2017). Minimal convex extensions and finite difference discretisation of the quadratic Monge--Kantorovich problem. European Journal of Applied Mathematics, 1–38."
   ]
  },
  {
   "cell_type": "markdown",
   "metadata": {},
   "source": [
    "## The one-dimensional problem\n",
    "\n",
    "In dimension one, the Monge-Ampere operator reduces to the usual laplacian operator, and the related difficulties 1. and 2. disappear. We are left with the equation\n",
    "$$\n",
    "    f(x) - g(u'(x)) u''(x) = 0,\n",
    "$$\n",
    "subject to the boundary conditions\n",
    "$$\n",
    "    u'(x_*) =  y_*, \\quad u'(x^*) = y^*,\n",
    "$$\n",
    "where $X=[x_*,x^*]$ and $Y = [y_*,y^*]$ are the source and target intervals. Again the problem parameters are subject to the compatibility conditions\n",
    "$$\n",
    "    \\int_{x_*}^{x^*} f(x) dx = \\int_{y_*}^{y^*} g(y) dy,\n",
    "$$\n",
    "and this allows to weaken the boundary conditions into \n",
    "$$\n",
    "    u'(x_*) \\geq  y_*, \\quad u'(x^*) \\leq y^*.\n",
    "$$"
   ]
  },
  {
   "cell_type": "markdown",
   "metadata": {},
   "source": [
    "[**Summary**](Summary.ipynb) of volume Non-Divergence form PDEs, this series of notebooks.\n",
    "\n",
    "[**Main summary**](../Summary.ipynb) of the Adaptive Grid Discretizations \n",
    "\tbook of notebooks, including the other volumes.\n",
    "\n",
    "# Table of contents\n",
    "  * [1. Second boundary conditions](#1.-Second-boundary-conditions)\n",
    "  * [2. Non-linearity in the gradient](#2.-Non-linearity-in-the-gradient)\n",
    "\n",
    "\n",
    "\n",
    "**Acknowledgement.** Some of the experiments presented in these notebooks are part of \n",
    "ongoing research with Ludovic Métivier and Da Chen.\n",
    "\n",
    "Copyright Jean-Marie Mirebeau, Centre Borelli, ENS Paris-Saclay, CNRS, University Paris-Saclay"
   ]
  },
  {
   "cell_type": "markdown",
   "metadata": {},
   "source": [
    "## 0. Importing the required libraries"
   ]
  },
  {
   "cell_type": "code",
   "execution_count": 1,
   "metadata": {},
   "outputs": [],
   "source": [
    "import sys; sys.path.insert(0,\"..\") # Allow import of agd from parent directory (useless if conda package installed)\n",
    "#from Miscellaneous import TocTools; TocTools.displayTOC('OTBoundary1D','NonDiv')"
   ]
  },
  {
   "cell_type": "code",
   "execution_count": 2,
   "metadata": {},
   "outputs": [],
   "source": [
    "from agd import LinearParallel as lp\n",
    "from agd import FiniteDifferences as fd\n",
    "from agd import AutomaticDifferentiation as ad"
   ]
  },
  {
   "cell_type": "code",
   "execution_count": 3,
   "metadata": {},
   "outputs": [],
   "source": [
    "import numpy as np\n",
    "from matplotlib import pyplot as plt\n",
    "import time"
   ]
  },
  {
   "cell_type": "markdown",
   "metadata": {},
   "source": [
    "Some utility functions"
   ]
  },
  {
   "cell_type": "code",
   "execution_count": 10,
   "metadata": {},
   "outputs": [],
   "source": [
    "newton_root = ad.Optimization.newton_root"
   ]
  },
  {
   "cell_type": "markdown",
   "metadata": {},
   "source": [
    "## 1. Second boundary conditions\n",
    "\n",
    "We further simplify the problem and assume $g \\equiv 1$, to study the weakened *second boundary conditions* that we rewrite as \n",
    "$$\n",
    "    y_* - u'(x_*) \\leq 0, \\quad u'(x^*) - y^*\\leq 0,\n",
    "$$\n",
    "at the endponts of the interval $[x_*,x^*]$ of definition of the problem solution $u$.\n",
    "Recall that the PDE solved is \n",
    "$$\n",
    "    f(x) - u''(x) = 0,\n",
    "$$\n",
    "and that we have \n",
    "$$\n",
    "    \\int_{x_*}^{x^*} f(x) dx = y^*-y_*.\n",
    "$$\n",
    "\n",
    "**Explicit solution.**\n",
    "The above problem admits a one dimensional, family of explicit solutions. Namely\n",
    "$$\n",
    "u(x) = \\alpha + r x + v(x),\n",
    "$$\n",
    "where $v$ is a second primitive of $u$, and the constant $r$ is adequately chosen to match the boundary conditions.\n",
    "The other constant, denoted $\\alpha$, is *arbitrary*.\n",
    "\n",
    "### Montone discretization\n",
    "\n",
    "We may define a monotone (degenerate elliptic) discretization of the boundary conditions, using upwind finite differences as follows\n",
    "$$\n",
    "    \\max\\{0,y_* - \\frac{u(x_*+h)-u(x_*)} h\\} = 0, \\quad \\max\\{0,\\frac{u(x^*)-u(x^*-h)} h - y^*\\}= 0.\n",
    "$$\n",
    "We also use the standard discretization of the laplacian operator in the interior.\n",
    "\n",
    "The resulting discretization obeys the assumptions of a degenerate elliptic (monotone) scheme, since it takes the form\n",
    "$$\n",
    "    F u(x) := F(x,u(x),(u(x)-u(x'))_{x' \\in X} ),\n",
    "$$\n",
    "where $F$ is a non-decreasing function of its second and third arguments.\n",
    "\n",
    "### Non-uniqueness and lack of a comparision principle\n",
    "\n",
    "The continuous problems admits, as mentioned above, a one dimensional family of solutions. The discrete problem, on the other hand, admits either no solution, or a large and typically multi-dimensional family of solutions.\n",
    "\n",
    "These indeterminacies reflect a failure of the comparison principle, due to the impossibility to perturb a given solution into a strict sub-solution."
   ]
  },
  {
   "cell_type": "code",
   "execution_count": 6,
   "metadata": {},
   "outputs": [],
   "source": [
    "def Scheme(u,f,bc,h):\n",
    "    u,f,bc = ad.common_cast(u,f,bc) # Safe AD scalars\n",
    "    residue = f-fd.Diff2(u,(1,),h)\n",
    "    residue[0]  = np.maximum(0.,bc[0] - (u[1]-u[0])/h)\n",
    "    residue[-1] = np.maximum(0.,(u[-1]-u[-2])/h - bc[1])\n",
    "    return residue"
   ]
  },
  {
   "cell_type": "code",
   "execution_count": 7,
   "metadata": {},
   "outputs": [],
   "source": [
    "X = np.linspace(-1,1,101,endpoint=True)\n",
    "gridScale = X[1]-X[0]\n",
    "f = 1.+0.9*np.sin(2.*np.pi*X)\n",
    "bc = np.array((-1.,1.))\n",
    "\n",
    "guess = np.zeros(X.shape)"
   ]
  },
  {
   "cell_type": "markdown",
   "metadata": {},
   "source": [
    "The discretized problem is linear. However, the jacobian matrix $J$ is rank deficient and non-invertible.\n",
    "Fortunately, thanks to the scheme monotony, the matrix \n",
    "$$\n",
    "    J+\\epsilon \\mathrm{Id} \n",
    "$$\n",
    "is invertible for every $\\epsilon>0$.\n",
    "We use an iterative method, featuring such a relaxation, so solve the problem.\n",
    "\n",
    "In order to illustrate the dichotomy between *no solution* and *infinitely may solutions, we perturb a bit the boundary conditions.\n",
    "\n",
    "**Note on convergence (No solution).**\n",
    "The discretized problem addressed here has *no solution*. As a result, the Newton solver residues do not tend to zero (or numerical precision). This is expected behavior."
   ]
  },
  {
   "cell_type": "code",
   "execution_count": 13,
   "metadata": {},
   "outputs": [
    {
     "name": "stdout",
     "output_type": "stream",
     "text": [
      "Iteration: 1  Residue norm: 0.12636527953248167\n",
      "Iteration: 2  Residue norm: 0.009998009013359899\n",
      "Iteration: 3  Residue norm: 0.005066525567450353\n",
      "Iteration: 4  Residue norm: 0.005025995705963959\n",
      "Iteration: 5  Residue norm: 0.00502514748832894\n",
      "Iteration: 6  Residue norm: 0.005025126195172813\n",
      "Iteration: 8  Residue norm: 0.005025125631078264\n",
      "Iteration: 10  Residue norm: 0.005025125631030969\n",
      "Iteration: 12  Residue norm: 0.005025125631031191\n",
      "Iteration: 14  Residue norm: 0.005025125632292626\n",
      "Iteration: 16  Residue norm: 0.005025125633520866\n",
      "Iteration: 20  Residue norm: 0.0050251256338067485\n",
      "Iteration: 24  Residue norm: 0.005025125634669059\n",
      "Iteration: 28  Residue norm: 0.005025125640088168\n",
      "Iteration: 32  Residue norm: 0.005025125636259453\n",
      "Iteration: 36  Residue norm: 0.0050251256377495945\n",
      "Iteration: 40  Residue norm: 0.005025125639784633\n",
      "Iteration: 44  Residue norm: 0.005025125640482742\n",
      "Iteration: 48  Residue norm: 0.005025125640482742\n",
      "Iteration: 50  Residue norm: 0.005025125639711137\n",
      "Max iterations exceeded. Aborting.\n"
     ]
    }
   ],
   "source": [
    "bc2 = np.array((-1,1-2*gridScale))\n",
    "params = (f,bc2,gridScale)\n",
    "relax = ad.Sparse.identity(X.shape)*gridScale\n",
    "stop = ad.Optimization.stop_default(raise_on_abort=False)\n",
    "solution = newton_root(Scheme,guess,params,relax=relax,stop=stop)"
   ]
  },
  {
   "cell_type": "code",
   "execution_count": 14,
   "metadata": {},
   "outputs": [],
   "source": [
    "plt.title(\"Closest solution to 1-d optimal transport problem\")\n",
    "plt.plot(X,solution);"
   ]
  },
  {
   "cell_type": "markdown",
   "metadata": {},
   "source": [
    "We next perturb a bit the boundary conditions, ensuring, this time, that the discretized problem has *an infinity of solutions*.\n",
    "\n",
    "**Note on convergence (degenerate solutions).**\n",
    "The discretized problem addressed here has a two dimensional non-linear family of solutions. It is also non-differentiable. As a result, the Newton solve takes more steps to reach numerical precision than what could be expected for problems this size."
   ]
  },
  {
   "cell_type": "code",
   "execution_count": 16,
   "metadata": {},
   "outputs": [
    {
     "name": "stdout",
     "output_type": "stream",
     "text": [
      "Iteration: 1  Residue norm: 0.12636527953248167\n",
      "Iteration: 2  Residue norm: 0.0049899647157736204\n",
      "Iteration: 3  Residue norm: 0.0003108032158998242\n",
      "Iteration: 4  Residue norm: 1.9903133235965598e-05\n",
      "Iteration: 5  Residue norm: 1.2774458824083013e-06\n",
      "Iteration: 6  Residue norm: 8.200718704109988e-08\n",
      "Iteration: 7  Residue norm: 5.264649827196877e-09\n",
      "Target residue reached. Terminating.\n"
     ]
    }
   ],
   "source": [
    "bc3 = np.array((-1,1+2*gridScale))\n",
    "params = (f,bc3,gridScale)\n",
    "relax = ad.Sparse.identity(X.shape) * gridScale\n",
    "solution = newton_root(Scheme,guess,params,relax=relax)"
   ]
  },
  {
   "cell_type": "markdown",
   "metadata": {},
   "source": [
    "## 2. Non-linearity in the gradient \n",
    "\n",
    "We solve the PDE \n",
    "$$\n",
    "f(x)/g(u'(x)) - u''(x)=0\n",
    "$$"
   ]
  },
  {
   "cell_type": "code",
   "execution_count": 17,
   "metadata": {},
   "outputs": [],
   "source": [
    "def SchemeGradient(u,f,g,bc,h):\n",
    "    u,f,bc = ad.common_cast(u,f,bc) # Safe array scalars\n",
    "    residue = f/g(fd.DiffCentered(u,(1,),h))-fd.Diff2(u,(1,),h)\n",
    "    residue[0]  = np.maximum(0.,bc[0] - (u[1]-u[0])/h)\n",
    "    residue[-1] = np.maximum(0.,(u[-1]-u[-2])/h - bc[1])\n",
    "    return residue"
   ]
  },
  {
   "cell_type": "code",
   "execution_count": 18,
   "metadata": {},
   "outputs": [],
   "source": [
    "X = np.linspace(-1,1,101,endpoint=True)\n",
    "gridScale = X[1]-X[0]\n",
    "f = 1.+0.9*np.sin(2.*np.pi*X)\n",
    "bc = np.array((-1.,1.))\n",
    "\n",
    "g = 1.+0.5*np.cos(2.*np.pi*X)\n",
    "f*=g.sum()/f.sum()\n",
    "g_interp=fd.UniformGridInterpolator1D(X,g)\n",
    "\n",
    "guess = np.zeros(X.shape)"
   ]
  },
  {
   "cell_type": "code",
   "execution_count": 19,
   "metadata": {},
   "outputs": [
    {
     "name": "stdout",
     "output_type": "stream",
     "text": [
      "Iteration: 1  Residue norm: 2.276164965291264\n",
      "Iteration: 2  Residue norm: 6.9793294237230175\n",
      "Iteration: 3  Residue norm: 8.62442150407455\n",
      "Iteration: 4  Residue norm: 9.030547460925924\n",
      "Iteration: 5  Residue norm: 2.1593586930666406\n",
      "Iteration: 6  Residue norm: 9.625961543889987\n",
      "Iteration: 8  Residue norm: 0.011620928558317534\n",
      "Iteration: 10  Residue norm: 0.0031334056758374196\n",
      "Iteration: 12  Residue norm: 7.999409468162355e-08\n",
      "Iteration: 13  Residue norm: 5.972761174533048e-09\n",
      "Target residue reached. Terminating.\n"
     ]
    }
   ],
   "source": [
    "params = (f,g_interp,bc,gridScale)\n",
    "relax = ad.Sparse.identity(X.shape) * gridScale\n",
    "solution = newton_root(SchemeGradient,X,params,relax=relax)"
   ]
  },
  {
   "cell_type": "markdown",
   "metadata": {},
   "source": [
    "Check the solution."
   ]
  },
  {
   "cell_type": "code",
   "execution_count": 20,
   "metadata": {},
   "outputs": [
    {
     "data": {
      "text/plain": [
       "array([            nan,  6.87742984e-04,  4.25196993e-04,  6.73178903e-05,\n",
       "        1.32363623e-04,  4.45170479e-05,  3.27466290e-04,  7.37163922e-04,\n",
       "        7.38002938e-04,  1.51154859e-04,  3.57739169e-04,  4.42063796e-06,\n",
       "       -5.29404330e-04, -6.49207982e-04, -2.02727836e-03, -8.13380573e-04,\n",
       "       -3.11914280e-03, -6.59402656e-04, -1.30583764e-03, -4.67608298e-04,\n",
       "       -1.92586905e-04,  4.54341273e-05,  2.70857291e-04,  3.77270942e-04,\n",
       "        4.26255690e-04,  3.84348262e-04,  6.73967576e-05,  3.50017317e-04,\n",
       "        2.35552702e-04,  2.84909032e-04,  2.42766122e-05,  1.98972912e-04,\n",
       "        1.76881340e-04,  1.02023536e-04,  3.46008538e-05,  9.93660509e-06,\n",
       "        3.01323038e-05,  3.95244907e-05,  4.91219534e-05,  6.44654555e-05,\n",
       "        8.73718644e-05,  1.13774460e-04,  1.26276361e-04,  7.92677604e-05,\n",
       "        1.02317288e-04,  2.91498166e-04,  2.61703919e-04,  2.59976561e-04,\n",
       "        4.49189841e-04,  4.13061030e-04,  3.15628354e-04,  7.20788425e-04,\n",
       "        7.32809426e-04,  5.83267972e-04,  4.87529159e-04,  5.64789654e-04,\n",
       "        7.69878866e-04,  8.52741138e-04,  3.75878395e-04,  4.90616285e-04,\n",
       "        9.92443913e-05, -1.47271701e-05, -3.44071402e-04, -1.15737945e-03,\n",
       "       -1.63520005e-03, -3.31223234e-03, -2.26671011e-03, -2.14275673e-03,\n",
       "       -1.00581223e-04, -2.29777764e-04, -7.04375548e-05,  1.50077727e-04,\n",
       "        2.72969222e-04,  2.90883272e-04,  3.58959463e-04,  4.48151307e-04,\n",
       "        3.46515366e-04,  1.61367523e-04,  3.58014857e-04,  1.49703596e-04,\n",
       "        1.97683306e-04,  2.25009462e-04,  1.24548433e-04,  1.63233151e-05,\n",
       "        4.80731396e-05,  6.37670770e-05,  6.27813408e-05,  6.03663595e-05,\n",
       "        6.26799302e-05,  7.10670638e-05,  8.25084294e-05,  8.62660512e-05,\n",
       "        5.54776020e-05,  5.98086390e-05,  2.13448343e-04,  2.86419324e-04,\n",
       "        5.17678964e-05,  4.12035987e-04,  2.33839578e-04,  5.73114765e-04,\n",
       "                   nan])"
      ]
     },
     "execution_count": 20,
     "metadata": {},
     "output_type": "execute_result"
    }
   ],
   "source": [
    "def g_exact(X): return  1.+0.5*np.cos(2.*np.pi*X)\n",
    "g_exact(fd.DiffCentered(solution,(1,),gridScale))*fd.Diff2(solution,(1,),gridScale) - f"
   ]
  },
  {
   "cell_type": "code",
   "execution_count": null,
   "metadata": {},
   "outputs": [],
   "source": []
  }
 ],
 "metadata": {
  "kernelspec": {
   "display_name": "Python 3 (ipykernel)",
   "language": "python",
   "name": "python3"
  },
  "language_info": {
   "codemirror_mode": {
    "name": "ipython",
    "version": 3
   },
   "file_extension": ".py",
   "mimetype": "text/x-python",
   "name": "python",
   "nbconvert_exporter": "python",
   "pygments_lexer": "ipython3",
   "version": "3.10.8"
  },
  "varInspector": {
   "cols": {
    "lenName": 16,
    "lenType": 16,
    "lenVar": 40
   },
   "kernels_config": {
    "python": {
     "delete_cmd_postfix": "",
     "delete_cmd_prefix": "del ",
     "library": "var_list.py",
     "varRefreshCmd": "print(var_dic_list())"
    },
    "r": {
     "delete_cmd_postfix": ") ",
     "delete_cmd_prefix": "rm(",
     "library": "var_list.r",
     "varRefreshCmd": "cat(var_dic_list()) "
    }
   },
   "types_to_exclude": [
    "module",
    "function",
    "builtin_function_or_method",
    "instance",
    "_Feature"
   ],
   "window_display": false
  }
 },
 "nbformat": 4,
 "nbformat_minor": 2
}