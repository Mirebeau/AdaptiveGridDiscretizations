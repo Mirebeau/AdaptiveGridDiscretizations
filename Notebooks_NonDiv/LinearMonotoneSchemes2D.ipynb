{
 "cells": [
  {
   "cell_type": "markdown",
   "metadata": {},
   "source": [
    "# Adaptive PDE discretizations on Cartesian grids\n",
    "## Volume : Non-divergence form PDEs\n",
    "## Part : Monotone numerical schemes\n",
    "## Chapter : Linear partial differential equations\n",
    "\n",
    "This notebook illustrates the use of monotone finite difference schemes to compute viscosity solutions of PDEs, in two space dimensions. We address both first order and second order problems, but focus on linear equations.\n",
    "\n",
    "In the second order case, our numerical schemes are adaptive and depend on Selling's decomposition of the diffusion tensors."
   ]
  },
  {
   "cell_type": "markdown",
   "metadata": {},
   "source": [
    "[**Summary**](Summary.ipynb) of volume Non-Divergence form PDEs, this series of notebooks.\n",
    "\n",
    "[**Main summary**](../Summary.ipynb) of the Adaptive Grid Discretizations \n",
    "\tbook of notebooks, including the other volumes.\n",
    "\n",
    "# Table of contents\n",
    "  * [1. A first order linear equation](#1.-A-first-order-linear-equation)\n",
    "    * [1.1 Vector fields in the upper quadrant](#1.1-Vector-fields-in-the-upper-quadrant)\n",
    "    * [1.2 General vector field](#1.2-General-vector-field)\n",
    "    * [1.3 Mock boundary conditions](#1.3-Mock-boundary-conditions)\n",
    "  * [2. A second order linear equation](#2.-A-second-order-linear-equation)\n",
    "    * [2.1 Varadhan's formula](#2.1-Varadhan's-formula)\n",
    "  * [3. Second-order scheme with upwind first order differences](#3.-Second-order-scheme-with-upwind-first-order-differences)\n",
    "\n",
    "\n",
    "\n",
    "**Acknowledgement.** Some of the experiments presented in these notebooks are part of \n",
    "ongoing research with Ludovic Métivier and Da Chen.\n",
    "\n",
    "Copyright Jean-Marie Mirebeau, Centre Borelli, ENS Paris-Saclay, CNRS, University Paris-Saclay"
   ]
  },
  {
   "cell_type": "markdown",
   "metadata": {},
   "source": [
    "## 0. Importing the required libraries"
   ]
  },
  {
   "cell_type": "code",
   "execution_count": 2,
   "metadata": {},
   "outputs": [],
   "source": [
    "import sys; sys.path.insert(0,\"..\") # Allow import of agd from parent directory (useless if conda package installed)\n",
    "#from Miscellaneous import TocTools; print(TocTools.displayTOC('LinearMonotoneSchemes2D','NonDiv'))"
   ]
  },
  {
   "cell_type": "code",
   "execution_count": 3,
   "metadata": {
    "tags": [
     "ExportCode"
    ]
   },
   "outputs": [],
   "source": [
    "from agd import Selling\n",
    "from agd import LinearParallel as lp\n",
    "from agd import AutomaticDifferentiation as ad\n",
    "from agd import Domain"
   ]
  },
  {
   "cell_type": "code",
   "execution_count": 4,
   "metadata": {
    "tags": [
     "ExportCode"
    ]
   },
   "outputs": [],
   "source": [
    "import numpy as np\n",
    "import matplotlib.pyplot as plt\n",
    "import scipy.linalg "
   ]
  },
  {
   "cell_type": "markdown",
   "metadata": {},
   "source": [
    "Some utility functions"
   ]
  },
  {
   "cell_type": "code",
   "execution_count": 5,
   "metadata": {
    "tags": [
     "ExportCode"
    ]
   },
   "outputs": [],
   "source": [
    "norm = ad.Optimization.norm\n",
    "    \n",
    "def streamplot_ij(X,Y,VX,VY,subsampling=1,*varargs,**kwargs):\n",
    "    def f(array): return array[::subsampling,::subsampling].T\n",
    "    return plt.streamplot(f(X),f(Y),f(VX),f(VY),*varargs,**kwargs) # Transpose everything"
   ]
  },
  {
   "cell_type": "markdown",
   "metadata": {},
   "source": [
    "## 1. A first order linear equation\n",
    "\n",
    "We numerically compute the *viscosity* solution of the equation\n",
    "$$\n",
    "    1-<\\nabla u(x), \\omega(x)>=0\n",
    "$$\n",
    "over some domain, with dirichlet boundary conditions.\n",
    "In general, there exists no classical solution. The viscosity solution therefore has a jump over part of the domain boundary.\n",
    "In addition, a technical condition is required for the existence of a viscosity solution: the equation\n",
    "$$\n",
    "    \\gamma'(t) = \\omega(\\gamma(t)),\n",
    "$$\n",
    "solved *backwards in time* from a point $x$, must lead to some point $x_*$ of the domain boundary in finite time $T(x)$. Then \n",
    "$$\n",
    "u(x) = T(x) + b(x_*),\n",
    "$$\n",
    "where $b$ denotes the boundary condition."
   ]
  },
  {
   "cell_type": "markdown",
   "metadata": {},
   "source": [
    "First let us define the discretization grid."
   ]
  },
  {
   "cell_type": "code",
   "execution_count": 6,
   "metadata": {},
   "outputs": [],
   "source": [
    "#Define the square [-1,1]^2, sampled on a cartesian grid\n",
    "aX0 = np.linspace(-1,1); aX1 = aX0\n",
    "X = np.array(np.meshgrid(aX0,aX1,indexing='ij'))\n",
    "shape = X.shape[1:]"
   ]
  },
  {
   "cell_type": "markdown",
   "metadata": {},
   "source": [
    "Set the boundary conditions, by choosing a domain, an adequate value, and the grid."
   ]
  },
  {
   "cell_type": "code",
   "execution_count": 7,
   "metadata": {},
   "outputs": [],
   "source": [
    "bc_domain = Domain.Ball([0,0],0.9)\n",
    "def bc_value(x): return 0.3*np.sin(2*np.pi*(x[0]+x[1]))\n",
    "\n",
    "bc = Domain.Dirichlet(bc_domain,bc_value,X)"
   ]
  },
  {
   "cell_type": "markdown",
   "metadata": {},
   "source": [
    "### 1.1 Vector fields in the upper quadrant\n",
    "\n",
    "We assume here that $\\omega_0(x)\\geq 0$ and $\\omega_1(x)\\geq 0$, where $\\omega(x) = (\\omega_0(x),\\omega_1(x))$.\n",
    "\n",
    "A monotone numerical scheme for the considered PDE, at a point $x=(x0,x1)$ in the interior of the domain, is \n",
    "$$\n",
    "    1 - \\omega_0(x) \\frac{u(x_0+h,x_1)-u(x)} h - \\omega_1(x) \\frac{u(x_0,x_1+h)-u(x)} h= 0.\n",
    "$$\n",
    "\n",
    "If $(x_0+h,x_1)$ falls out of the domain, then the adequate value on $\\partial \\Omega$ is extracted from the boundary conditions, as explained in notebook [subsets of R^d](../Notebooks_Algo/SubsetRd.ipynb)."
   ]
  },
  {
   "cell_type": "code",
   "execution_count": 8,
   "metadata": {},
   "outputs": [],
   "source": [
    "def Scheme(u,omega,bc):\n",
    "    omega0,omega1 = omega\n",
    "    residue = 1. - omega0*bc.DiffUpwind(u,(1,0)) - omega1*bc.DiffUpwind(u,(0,1)) # 1-<grad u,omega> = 0\n",
    "    return np.where(bc.interior,residue,u-bc.grid_values) # Placeholders outside the interior"
   ]
  },
  {
   "cell_type": "code",
   "execution_count": 9,
   "metadata": {},
   "outputs": [],
   "source": [
    "omega = np.stack( (1.3+np.sin(np.pi*X[1]), np.cos(np.pi*(X[0]+X[1])/4)) )"
   ]
  },
  {
   "cell_type": "code",
   "execution_count": 10,
   "metadata": {},
   "outputs": [],
   "source": [
    "plt.axis('equal')\n",
    "streamplot_ij(*X,*omega*bc.interior);"
   ]
  },
  {
   "cell_type": "markdown",
   "metadata": {},
   "source": [
    "We can evaluate the scheme on an arbitrary guess numpy array, which produces a non-zero residue."
   ]
  },
  {
   "cell_type": "code",
   "execution_count": 11,
   "metadata": {},
   "outputs": [
    {
     "data": {
      "text/plain": [
       "(-1.0, 1.0, -1.0, 1.0)"
      ]
     },
     "execution_count": 11,
     "metadata": {},
     "output_type": "execute_result"
    }
   ],
   "source": [
    "u = np.zeros(bc.shape) # Arbitrary guess (here zero)\n",
    "residue = Scheme(u,omega,bc)\n",
    "\n",
    "plt.title(\"Scheme residue of arbitrary guess\")\n",
    "plt.contourf(*X,residue); plt.colorbar(); plt.axis('equal')"
   ]
  },
  {
   "cell_type": "markdown",
   "metadata": {},
   "source": [
    "In order solve the scheme, we evaluate it on a function featuring automatic differentiation information, here of sparse type, and solve the residue for zero."
   ]
  },
  {
   "cell_type": "code",
   "execution_count": 12,
   "metadata": {},
   "outputs": [],
   "source": [
    "u_ad = ad.Sparse.identity(constant=u) # Initial guess (here zero), with autodiff information\n",
    "residue_ad = Scheme(u_ad,omega,bc)\n",
    "solution = u + residue_ad.solve()"
   ]
  },
  {
   "cell_type": "code",
   "execution_count": 13,
   "metadata": {},
   "outputs": [],
   "source": [
    "plt.axis('equal'); plt.title('Solution to 1-<w,grad u> = 0')\n",
    "plt.contourf(*X,solution);"
   ]
  },
  {
   "cell_type": "markdown",
   "metadata": {},
   "source": [
    "### 1.2 General vector field"
   ]
  },
  {
   "cell_type": "markdown",
   "metadata": {},
   "source": [
    "If the vector field $\\omega$ does not remain in a fixed quadrant, then the numerical scheme needs to be adaptive, and use upwind finite differences:\n",
    "$$\n",
    "    1 - |\\omega_0(x)| \\frac{u(x_0+s_0(x)h,x_1)-u(x)} h - |\\omega_1(x)| \\frac{u(x_0+s_1(x)h,x_1)-u(x)} h= 0,\n",
    "$$\n",
    "where $s_0(x)$ denotes the sign of $\\omega_0(x)$, and likewise for $s_1(x)$."
   ]
  },
  {
   "cell_type": "code",
   "execution_count": 14,
   "metadata": {},
   "outputs": [],
   "source": [
    "def Scheme(u,omega,bc):\n",
    "    \n",
    "    # Compute the scheme coefficients and offsets\n",
    "    coefs = np.abs(omega)\n",
    "    coefs = bc.as_field(coefs)\n",
    "    \n",
    "    basis = bc.as_field(np.eye(len(omega)))\n",
    "    offsets = np.sign(omega)*basis\n",
    "    \n",
    "    # Compute the first order finite differences\n",
    "    du = bc.DiffUpwind(u,offsets.astype(int))\n",
    "    \n",
    "    # 1-<grad u,omega> = 0 in interior\n",
    "    residue = 1.-lp.dot_VV(coefs,du)\n",
    "    \n",
    "    # Placeholders on boundary\n",
    "    return np.where(bc.interior,residue,u-bc.grid_values) "
   ]
  },
  {
   "cell_type": "code",
   "execution_count": 15,
   "metadata": {},
   "outputs": [],
   "source": [
    "omega2 = np.stack( (1.3+np.sin(np.pi*X[1]), np.cos(np.pi*(2*X[0]+X[1])/2)) )"
   ]
  },
  {
   "cell_type": "code",
   "execution_count": 16,
   "metadata": {},
   "outputs": [],
   "source": [
    "plt.axis('equal')\n",
    "streamplot_ij(*X,*omega2*bc.interior);"
   ]
  },
  {
   "cell_type": "code",
   "execution_count": 17,
   "metadata": {},
   "outputs": [],
   "source": [
    "u_ad = ad.Sparse.identity(bc.shape)\n",
    "residue_ad = Scheme(u_ad,omega2,bc)\n",
    "solution = residue_ad.solve()"
   ]
  },
  {
   "cell_type": "code",
   "execution_count": 18,
   "metadata": {},
   "outputs": [],
   "source": [
    "plt.axis('equal'); plt.title('Solution to 1-<w,grad u> = 0')\n",
    "plt.contourf(*X,solution);"
   ]
  },
  {
   "cell_type": "markdown",
   "metadata": {},
   "source": [
    "### 1.3 Mock boundary conditions\n",
    "\n",
    "A different way of implementing Dirichlet boundary conditions, simpler and cruder, is to extend them to the full domain complement. We refer to this approach as mock boundary conditions."
   ]
  },
  {
   "cell_type": "code",
   "execution_count": 19,
   "metadata": {},
   "outputs": [],
   "source": [
    "u_ad = ad.Sparse.identity(bc.shape)\n",
    "residue_ad = Scheme(u_ad,omega2,bc.Mock) # Mock boundary conditions, extended to the whole domain complement\n",
    "solution = residue_ad.solve()"
   ]
  },
  {
   "cell_type": "code",
   "execution_count": 20,
   "metadata": {},
   "outputs": [],
   "source": [
    "plt.axis('equal'); plt.title('Solution to 1-<w,grad u> = 0. (Mock boundary conditions)')\n",
    "plt.contourf(*X,solution);"
   ]
  },
  {
   "cell_type": "markdown",
   "metadata": {},
   "source": [
    "We can also directly construct the mock boundary conditions, by providing an array of values to be used as boundary conditions, and the grid scale."
   ]
  },
  {
   "cell_type": "code",
   "execution_count": 21,
   "metadata": {},
   "outputs": [],
   "source": [
    "bc_mock_grid_values = bc.value(X) # Evaluate the boundary conditions on the full grid\n",
    "bc_mock_grid_values[bc.interior]=np.nan # Specify domain interior by NaNs\n",
    "\n",
    "bc_mock = Domain.MockDirichlet(bc_mock_grid_values, bc.gridscale)"
   ]
  },
  {
   "cell_type": "code",
   "execution_count": 22,
   "metadata": {},
   "outputs": [],
   "source": [
    "u_ad = ad.Sparse.identity(bc_mock.shape)\n",
    "residue_ad = Scheme(u_ad,omega2,bc_mock) # Mock boundary conditions, extended to the whole domain complement\n",
    "solution = residue_ad.solve()\n",
    "\n",
    "plt.axis('equal'); plt.title('Solution to 1-<w,grad u> = 0. (Mock boundary conditions)')\n",
    "plt.contourf(*X,solution);"
   ]
  },
  {
   "cell_type": "markdown",
   "metadata": {},
   "source": [
    "## 2. A second order linear equation\n",
    "\n",
    "We consider the linear second order equation\n",
    "$$\n",
    "    c(x) + m(x) u(x) + <\\omega(x),\\nabla u(x)> - \\mathrm{Tr}(D(x)\\nabla^2 u(x)) = 0,\n",
    "$$\n",
    "with Dirichlet boundary conditions. For monotony, one needs to assume that $a$ is non-negative, and $D$ is positive semi-definite.\n",
    "\n",
    "In contrast with the first order examples:\n",
    "* There exists a classical solution. Hence there is no discontinuity in the viscosity solution.\n",
    "* We can use a centered finite difference scheme for the first order term, since the it is dominated by the monotony of the second order term.\n",
    "\n",
    "We use adaptive finite differences, determined by a decomposition of the tensor field\n",
    "$$\n",
    "    D(x) = \\sum_{1 \\leq i \\leq n} \\mu_i(x) e_i(x) e_i(x)^T,\n",
    "$$\n",
    "where $\\mu_i(x)$ is non-negative, and $e_i(x)$ has integer offsets.\n",
    "This induces a decomposition of the vector field\n",
    "$$\n",
    "    \\omega(x) = \\sum_{1 \\leq i \\leq n} \\nu_i(x) e_i(x)\n",
    "$$\n",
    "where $\\nu_i(x) = \\mu_i(x)<D(x)^{-1}\\omega(x),e_i(x)>$.\n",
    "The numerical scheme eventually reads:\n",
    "$$\n",
    "    a(x) u(x) \n",
    "    {+} \\sum_{1 \\leq i \\leq n} \\nu_i(x) \\frac{u(x+h e_i(x))-u(x-h e_i(x))} {2 h} \n",
    "    {-} \\sum_{1 \\leq i \\leq n} \\mu_i(x) \\frac{u(x+h e_i(x))-2 u(x)+ u(x-h e_i(x))} {h^2}.\n",
    "$$"
   ]
  },
  {
   "cell_type": "code",
   "execution_count": 23,
   "metadata": {
    "tags": [
     "ExportCode"
    ]
   },
   "outputs": [],
   "source": [
    "def SchemeCentered(u,cst,mult,omega,diff,bc,ret_hmax=False):\n",
    "    \"\"\"Discretization of a linear non-divergence form second order PDE\n",
    "        cst + mult u + <omega,grad u>- tr(diff hess(u)) = 0\n",
    "        Second order accurate, centered yet monotone finite differences are used for <omega,grad u>\n",
    "        - bc : boundary conditions. \n",
    "        - ret_hmax : return the largest grid scale for which monotony holds\n",
    "    \"\"\"\n",
    "    # Decompose the tensor field\n",
    "    coefs2,offsets = Selling.Decomposition(diff)\n",
    "    \n",
    "    # Decompose the vector field\n",
    "    scals = lp.dot_VA(lp.solve_AV(diff,omega), offsets.astype(float))\n",
    "    coefs1 = coefs2*scals\n",
    "    if ret_hmax: return 2./norm(scals,ord=np.inf)\n",
    "    \n",
    "    # Compute the first and second order finite differences    \n",
    "    du  = bc.DiffCentered(u,offsets)\n",
    "    d2u = bc.Diff2(u,offsets)\n",
    "    \n",
    "    # In interior : cst + mult u + <omega,grad u>- tr(diff hess(u)) = 0\n",
    "    coefs1,coefs2 = (bc.as_field(e) for e in (coefs1,coefs2))    \n",
    "    residue = cst + mult*u +lp.dot_VV(coefs1,du) - lp.dot_VV(coefs2,d2u)\n",
    "    \n",
    "    # On boundary : u-bc = 0\n",
    "    return np.where(bc.interior,residue,u-bc.grid_values)"
   ]
  },
  {
   "cell_type": "markdown",
   "metadata": {},
   "source": [
    "Solve a $1-\\Delta u = 0$ over a square domain, with null Dirichlet boundary conditions. \n",
    "(The mathematician's preferred numerical problem, according to B.M.)"
   ]
  },
  {
   "cell_type": "code",
   "execution_count": 24,
   "metadata": {},
   "outputs": [],
   "source": [
    "# Define the problem parameters\n",
    "cst=1.\n",
    "mult=0.\n",
    "omega = np.zeros(2)\n",
    "diff  = np.eye(2)"
   ]
  },
  {
   "cell_type": "markdown",
   "metadata": {},
   "source": [
    "Since the PDE is solved on the whole grid, mock boundary conditions will be enough for our purposes.\n",
    "Note that:\n",
    "* First argument is the shape of the domain. Equivalently, provide an array full of NaNs with this shape.\n",
    "* A padding is specified for values falling outside the grid."
   ]
  },
  {
   "cell_type": "code",
   "execution_count": 25,
   "metadata": {},
   "outputs": [],
   "source": [
    "bc_whole = Domain.MockDirichlet(bc.shape, bc.gridscale, padding=0.)"
   ]
  },
  {
   "cell_type": "code",
   "execution_count": 26,
   "metadata": {},
   "outputs": [],
   "source": [
    "u_ad = ad.Sparse.identity(bc.shape)\n",
    "residue_ad = SchemeCentered(u_ad,cst,mult,omega,diff,bc_whole)\n",
    "solution = residue_ad.solve()"
   ]
  },
  {
   "cell_type": "code",
   "execution_count": 27,
   "metadata": {},
   "outputs": [],
   "source": [
    "plt.axis('equal'); plt.title(\"Delta u=1 over a square\")\n",
    "plt.contourf(*X,solution); plt.colorbar();"
   ]
  },
  {
   "cell_type": "markdown",
   "metadata": {},
   "source": [
    "### 2.1 Varadhan's formula\n",
    "\n",
    "We turn to Varadhan's formula for more interesting examples.\n",
    "First we solve \n",
    "$$\n",
    "    u - \\epsilon^2 \\mathrm{Tr}(D \\nabla^2 u) = 0\n",
    "$$\n",
    "with $u(x_0)=1$ at some given point $x_0$, and null boundary conditions on the square boundary. \n",
    "Then we apply the following change of unknown, related with the *Hopf-Cole transformation*\n",
    "$$\n",
    "    v(x) := -\\epsilon \\ln u_\\epsilon(x).\n",
    "$$\n",
    "The function $v$ approximates the Riemmanian distance from $x_0$, for the metric $M:=D^{-1}$ defined by the inverses of the diffusion tensors.\n",
    "\n",
    "We reproduce some examples from [I Computing distance maps and geodesics using Varadhan's formulas](http://nbviewer.jupyter.org/urls/rawgithub.com/Mirebeau/AdaptiveGridDiscretizations/master/Notebooks/VaradhanGeodesics.ipynb).\n",
    "A number of small differences distinguish the implementation presented in that other notebook:\n",
    "* The laplacian is in divergence form. (Presumably better)\n",
    "* The boundary conditions are of Neumann type. (Presumably better)\n",
    "* The numerical scheme is not defined in the notebook, but in an external routine. (Less pedagogical, but presumably faster) "
   ]
  },
  {
   "cell_type": "markdown",
   "metadata": {},
   "source": [
    "**Metric specified in terms of eigenvectors and eigenvalues.**\n",
    "In this example, the metric tensors are specified as \n",
    "$$\n",
    "    M(x) = \\lambda_1(x)^{-2} v_1(x) v_1(x)^T + \\lambda_2(x)^{-2} v_2(x) v_2(x)^T.\n",
    "$$\n",
    "The scalars $\\lambda_1$ and $\\lambda_2$ appearing in this expression should be regarded as the local velocity in the direction of $v_1$ and $v_2$ respectively."
   ]
  },
  {
   "cell_type": "code",
   "execution_count": 28,
   "metadata": {},
   "outputs": [],
   "source": [
    "# Create the domain\n",
    "aX0 = np.linspace(-1,1,100); aX1=aX0;\n",
    "X = np.array(np.meshgrid(aX0,aX1,indexing='ij'))\n",
    "\n",
    "gridscale = aX0[1]-aX0[0]\n",
    "bc_grid_values = np.full(X.shape[1:],np.nan)\n",
    "bc_grid_values[X.shape[1]//2,X.shape[2]//2] = 1\n",
    "\n",
    "bc = Domain.MockDirichlet(bc_grid_values,gridscale,padding=0.) # Shape, gridscale, padding"
   ]
  },
  {
   "cell_type": "code",
   "execution_count": 29,
   "metadata": {},
   "outputs": [],
   "source": [
    "# Generate the metric\n",
    "eig1 = np.stack((np.ones(bc.shape),(np.pi/2)*np.cos(2*np.pi*X[0])))\n",
    "eig1 /= scipy.linalg.norm(eig1,axis=0) \n",
    "eig2 = np.stack( (eig1[1],-eig1[0]) ) # Rotate eig1 by pi/2\n",
    "lambda1, lambda2 = 0.8, 0.2\n",
    "metric = lambda1**-2*lp.outer_self(eig1) + lambda2**-2*lp.outer_self(eig2)"
   ]
  },
  {
   "cell_type": "code",
   "execution_count": 30,
   "metadata": {},
   "outputs": [],
   "source": [
    "# Relaxation parameter\n",
    "epsilon=2*bc.gridscale\n",
    "\n",
    "# Generate the PDE parameters\n",
    "cst=0.\n",
    "mult=1.\n",
    "omega=bc.as_field(np.array([0.,0]))\n",
    "diff = epsilon**2 * lp.inverse(metric)"
   ]
  },
  {
   "cell_type": "code",
   "execution_count": 31,
   "metadata": {},
   "outputs": [],
   "source": [
    "u_ad = ad.Sparse.identity(bc.shape)\n",
    "residue_ad = SchemeCentered(u_ad,cst,mult,omega,diff,bc)\n",
    "solution = residue_ad.solve()"
   ]
  },
  {
   "cell_type": "code",
   "execution_count": 32,
   "metadata": {},
   "outputs": [],
   "source": [
    "distance = -epsilon*np.log(solution)\n",
    "plt.axis('equal'); plt.title(\"Riemannian distance, approximated using Varadhan's formula\")\n",
    "plt.contourf(*X,distance);"
   ]
  },
  {
   "cell_type": "markdown",
   "metadata": {},
   "source": [
    "**Zermelo's navigation problem.**\n",
    "\n"
   ]
  },
  {
   "cell_type": "code",
   "execution_count": 33,
   "metadata": {},
   "outputs": [],
   "source": [
    "# Generate the metric\n",
    "metric = bc.as_field(np.eye(2))\n",
    "drift = 0.8*np.sin(2*np.pi*X[0])*np.sin(2*np.pi*X[1]) * X / norm(X,ord=2,axis=0)\n",
    "#metric = np.array( ((1,0),(0,1)) ); drift = 0.5*np.array( (1,1) )/np.sqrt(2) # Alternatively : constant drift"
   ]
  },
  {
   "cell_type": "code",
   "execution_count": 34,
   "metadata": {},
   "outputs": [],
   "source": [
    "# Relaxation parameter\n",
    "epsilon=3*bc.gridscale\n",
    "\n",
    "# Generate the PDE parameters\n",
    "cst=0.\n",
    "mult=1.\n",
    "omega=2*epsilon*drift\n",
    "diff = epsilon**2 * (lp.inverse(metric) - lp.outer_self(drift))"
   ]
  },
  {
   "cell_type": "code",
   "execution_count": 35,
   "metadata": {},
   "outputs": [],
   "source": [
    "u_ad = ad.Sparse.identity(bc.shape)\n",
    "residue_ad = SchemeCentered(u_ad,cst,mult,omega,diff,bc)\n",
    "solution = residue_ad.solve()"
   ]
  },
  {
   "cell_type": "code",
   "execution_count": 36,
   "metadata": {},
   "outputs": [],
   "source": [
    "distance = -epsilon*np.log(solution)\n",
    "plt.axis('equal'); plt.title(\"Arrival times for Zermelo's navigation problem\")\n",
    "plt.contourf(*X,distance); plt.colorbar();"
   ]
  },
  {
   "cell_type": "code",
   "execution_count": 37,
   "metadata": {},
   "outputs": [],
   "source": [
    "grad = np.array(np.gradient(distance,bc.gridscale))\n",
    "flow = lp.solve_AV(bc.as_field(metric),grad)\n",
    "flow = flow/np.sqrt(lp.dot_VV(flow,grad)) + bc.as_field(drift)"
   ]
  },
  {
   "cell_type": "code",
   "execution_count": 38,
   "metadata": {},
   "outputs": [],
   "source": [
    "plt.axis('equal'); plt.title(\"Minimal paths for Zermelo's navigation problem\")\n",
    "streamplot_ij(*X,*flow);"
   ]
  },
  {
   "cell_type": "markdown",
   "metadata": {},
   "source": [
    "## 3. Second-order scheme with upwind first order differences\n",
    "\n",
    "For completeness, we present a non-centered scheme for second order linear equations.\n",
    "In comparison with the centered scheme presented in the previous section, this one is:\n",
    "* More diffusive, and only first order accurate.\n",
    "* Unconditionally stable, independently of the grid scale.\n",
    "\n",
    "In practice, we recommend using the centered scheme, unless the second order coefficients are degenerate or excessively small."
   ]
  },
  {
   "cell_type": "code",
   "execution_count": 39,
   "metadata": {
    "tags": [
     "ExportCode"
    ]
   },
   "outputs": [],
   "source": [
    "def SchemeUpwind(u,cst,mult,omega,diff,bc):\n",
    "    \"\"\"Discretization of a linear non-divergence form second order PDE\n",
    "        cst + mult u + <omega,grad u>- tr(diff hess(u)) = 0\n",
    "        First order accurate, upwind finite differences are used for <omega,grad u>\n",
    "        - bc : boundary conditions. \n",
    "    \"\"\"\n",
    "    # Decompose the tensor field\n",
    "    coefs2,offsets2 = Selling.Decomposition(diff)\n",
    "    omega,coefs2 = (bc.as_field(e) for e in (omega,coefs2))    \n",
    "\n",
    "    # Decompose the vector field\n",
    "    coefs1 = -np.abs(omega)\n",
    "    basis = bc.as_field(np.eye(len(omega)))\n",
    "    offsets1 = -np.sign(omega)*basis\n",
    "    \n",
    "    # Compute the first and second order finite differences    \n",
    "    du  = bc.DiffUpwind(u,offsets1.astype(int))\n",
    "    d2u = bc.Diff2(u,offsets2)\n",
    "    \n",
    "    # In interior : cst + mult u + <omega,grad u>- tr(diff hess(u)) = 0\n",
    "    residue = cst + mult*u +lp.dot_VV(coefs1,du) - lp.dot_VV(coefs2,d2u)\n",
    "    \n",
    "    # On boundary : u-bc = 0\n",
    "    return np.where(bc.interior,residue,u-bc.grid_values)"
   ]
  },
  {
   "cell_type": "code",
   "execution_count": 40,
   "metadata": {},
   "outputs": [],
   "source": [
    "u_ad = ad.Sparse.identity(bc.shape)\n",
    "solutionUpwind = SchemeUpwind(u_ad,cst,mult,omega,diff,bc).solve()\n",
    "solutionCentered = SchemeCentered(u_ad,cst,mult,omega,diff,bc).solve()"
   ]
  },
  {
   "cell_type": "code",
   "execution_count": 41,
   "metadata": {},
   "outputs": [],
   "source": [
    "distanceUpwind = -epsilon*np.log(solutionUpwind)\n",
    "plt.axis('equal'); plt.title(\"Arrival times for Zermelo's navigation problem\")\n",
    "plt.contourf(*X,distanceUpwind);"
   ]
  },
  {
   "cell_type": "code",
   "execution_count": 42,
   "metadata": {},
   "outputs": [],
   "source": [
    "distanceCentered = -epsilon*np.log(solutionCentered)\n",
    "plt.title('Difference between the upwind and centered schemes')\n",
    "plt.contourf(*X,distanceUpwind-distanceCentered); \n",
    "plt.colorbar(); plt.axis('equal');"
   ]
  },
  {
   "cell_type": "code",
   "execution_count": null,
   "metadata": {},
   "outputs": [],
   "source": []
  }
 ],
 "metadata": {
  "celltoolbar": "Format de la Cellule Texte Brut",
  "kernelspec": {
   "display_name": "Python 3 (ipykernel)",
   "language": "python",
   "name": "python3"
  },
  "language_info": {
   "codemirror_mode": {
    "name": "ipython",
    "version": 3
   },
   "file_extension": ".py",
   "mimetype": "text/x-python",
   "name": "python",
   "nbconvert_exporter": "python",
   "pygments_lexer": "ipython3",
   "version": "3.10.8"
  },
  "varInspector": {
   "cols": {
    "lenName": 16,
    "lenType": 16,
    "lenVar": 40
   },
   "kernels_config": {
    "python": {
     "delete_cmd_postfix": "",
     "delete_cmd_prefix": "del ",
     "library": "var_list.py",
     "varRefreshCmd": "print(var_dic_list())"
    },
    "r": {
     "delete_cmd_postfix": ") ",
     "delete_cmd_prefix": "rm(",
     "library": "var_list.r",
     "varRefreshCmd": "cat(var_dic_list()) "
    }
   },
   "types_to_exclude": [
    "module",
    "function",
    "builtin_function_or_method",
    "instance",
    "_Feature"
   ],
   "window_display": false
  }
 },
 "nbformat": 4,
 "nbformat_minor": 2
}